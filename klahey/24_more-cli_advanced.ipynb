{
 "cells": [
  {
   "cell_type": "markdown",
   "id": "275f3326-b6de-4d7d-b41a-f17ec6a57354",
   "metadata": {
    "editable": true,
    "slideshow": {
     "slide_type": "skip"
    },
    "tags": []
   },
   "source": [
    "# More cli: advanced\n",
    "_COSC 208, Introduction to Computer Systems, Spring 2025_"
   ]
  },
  {
   "cell_type": "markdown",
   "id": "b5ef1fb7-8a62-47ed-ae01-ee79ed10ae39",
   "metadata": {
    "editable": true,
    "slideshow": {
     "slide_type": "slide"
    },
    "tags": []
   },
   "source": [
    "## Announcements\n",
    "* Project 2 initial version due Thursday, March 6 @ 11pm\n"
   ]
  },
  {
   "cell_type": "markdown",
   "id": "2c76560a-a1c7-43f5-a940-560af91fba0b",
   "metadata": {
    "editable": true,
    "slideshow": {
     "slide_type": "slide"
    },
    "tags": []
   },
   "source": [
    "## Searching"
   ]
  },
  {
   "cell_type": "markdown",
   "id": "722a6a82-151f-40e0-a5a6-1b0c5b4ced57",
   "metadata": {
    "editable": true,
    "slideshow": {
     "slide_type": "subslide"
    },
    "tags": []
   },
   "source": [
    "``find`` searches a directory hierarchy for a given file\n",
    "\n",
    "Syntax:  ```find <directory> -name <filename or search pattern>```\n",
    "\n",
    "Lots of options to search for files older than a given date, or larger than a certain size"
   ]
  },
  {
   "cell_type": "markdown",
   "id": "90aba617-f8a6-4506-a084-a7e968dc9d3d",
   "metadata": {
    "editable": true,
    "slideshow": {
     "slide_type": "subslide"
    },
    "tags": []
   },
   "source": [
    "* Find all of the Makefiles in the src directory and children\n",
    "\n",
    "    ```% find src -name Makefile```"
   ]
  },
  {
   "cell_type": "markdown",
   "id": "9a910310-98ac-4c76-931d-a0c29d4f0ad0",
   "metadata": {
    "editable": true,
    "slideshow": {
     "slide_type": "subslide"
    },
    "tags": []
   },
   "source": [
    "* Find all of the markdown files in the current directory and subdirectories\n",
    "  \n",
    "  ```% find . -name \"*.md\"```"
   ]
  },
  {
   "cell_type": "markdown",
   "id": "cb7e687a-9449-4eeb-9358-0a97d7f61245",
   "metadata": {
    "editable": true,
    "slideshow": {
     "slide_type": "skip"
    },
    "tags": []
   },
   "source": [
    "<p style=\"height:4em;\"></p>"
   ]
  },
  {
   "cell_type": "markdown",
   "id": "e2956589-2544-46ae-9a5a-4272f82654ff",
   "metadata": {
    "editable": true,
    "slideshow": {
     "slide_type": "subslide"
    },
    "tags": [
     "question"
    ]
   },
   "source": [
    "Q1: _Find binarycalc.c in the user's home directory and sub directories._"
   ]
  },
  {
   "cell_type": "markdown",
   "id": "e703eb81-a84e-4839-bb6a-b3f4fc0939f0",
   "metadata": {
    "editable": true,
    "slideshow": {
     "slide_type": "skip"
    },
    "tags": [
     "notes-only",
     "answer"
    ]
   },
   "source": [
    "```% find ~ -name binarycalc.c```"
   ]
  },
  {
   "cell_type": "markdown",
   "id": "c07ca5a6-ed00-4706-b3e0-61169a01175f",
   "metadata": {
    "editable": true,
    "slideshow": {
     "slide_type": "skip"
    },
    "tags": [
     "blank"
    ]
   },
   "source": [
    "<p style=\"height:2em;\"></p>"
   ]
  },
  {
   "cell_type": "markdown",
   "id": "4b427b5d-f014-4fc5-addc-d59c0a6bae37",
   "metadata": {
    "editable": true,
    "slideshow": {
     "slide_type": "subslide"
    },
    "tags": [
     "question"
    ]
   },
   "source": [
    "Q2: _Find all filenames that start with the letter 'a' in /etc/ and its subdirectories._"
   ]
  },
  {
   "cell_type": "markdown",
   "id": "e45078c3-d690-446e-8086-31a251ce1868",
   "metadata": {
    "editable": true,
    "slideshow": {
     "slide_type": "skip"
    },
    "tags": [
     "notes-only",
     "answer"
    ]
   },
   "source": [
    "```% find /etc -name \"a*\"```"
   ]
  },
  {
   "cell_type": "markdown",
   "id": "061b8aaa-1363-4b9f-8bae-72f6d9cfe335",
   "metadata": {
    "editable": true,
    "slideshow": {
     "slide_type": "skip"
    },
    "tags": [
     "blank"
    ]
   },
   "source": [
    "<p style=\"height:6em;\"></p>"
   ]
  },
  {
   "cell_type": "markdown",
   "id": "9f854215-eb04-4631-9853-9550aa224042",
   "metadata": {
    "editable": true,
    "slideshow": {
     "slide_type": "subslide"
    },
    "tags": []
   },
   "source": [
    "``grep`` searches for a given pattern in a file or files\n",
    "\n",
    "Syntax:  ```grep <pattern> <filename>+```\n",
    "\n",
    "Patterns can be quite sophisticated, but that's a lesson for another day"
   ]
  },
  {
   "cell_type": "markdown",
   "id": "f6cd11ae-e270-499c-a9a7-3a30b606fb84",
   "metadata": {
    "editable": true,
    "slideshow": {
     "slide_type": "subslide"
    },
    "tags": []
   },
   "source": [
    "* Search for any += expression in the game source code\n",
    "    Note that the double quotes are a good idea for any complicated expression.\n",
    "\n",
    "    ```grep \"+=\" game.c```"
   ]
  },
  {
   "cell_type": "markdown",
   "id": "c6ecbcd4-773d-4983-bfd8-79c0981e4d8c",
   "metadata": {
    "editable": true,
    "slideshow": {
     "slide_type": "subslide"
    },
    "tags": []
   },
   "source": [
    "* Remove any line in the file with a // comment on it.\n",
    "\n",
    "    ```grep -v // game.c```"
   ]
  },
  {
   "cell_type": "markdown",
   "id": "1e6489dc-5805-4c95-8c51-d0bf0e32c4cd",
   "metadata": {
    "editable": true,
    "slideshow": {
     "slide_type": "subslide"
    },
    "tags": []
   },
   "source": [
    "* Find all of the five-character words from '/usr/share/dict/words` (you're not responsible for learning regular expressions like this):\n",
    "\n",
    "    ```grep \"^.....$\" /usr/share/dict/words```"
   ]
  },
  {
   "cell_type": "markdown",
   "id": "76c529cc-c001-4087-9cde-4e6a675a4824",
   "metadata": {
    "editable": true,
    "slideshow": {
     "slide_type": "subslide"
    },
    "tags": []
   },
   "source": [
    "* Find all of the main functions in all of the files ending in .c in this directory\n",
    "\n",
    "    ```grep main *.c```"
   ]
  },
  {
   "cell_type": "markdown",
   "id": "9ed26555-3b73-4350-994f-22c1b38f1cf9",
   "metadata": {
    "editable": true,
    "slideshow": {
     "slide_type": "skip"
    },
    "tags": [
     "blank"
    ]
   },
   "source": [
    "<p style=\"height:5em;\"></p>"
   ]
  },
  {
   "cell_type": "markdown",
   "id": "9d561012-df4b-4265-96f9-02d5148e5010",
   "metadata": {
    "editable": true,
    "slideshow": {
     "slide_type": "subslide"
    },
    "tags": [
     "question"
    ]
   },
   "source": [
    "Q2:  _Find all of the #include directives in game.c_"
   ]
  },
  {
   "cell_type": "markdown",
   "id": "3e25b67f-cdff-45b7-a674-93f7c7c8735a",
   "metadata": {
    "editable": true,
    "slideshow": {
     "slide_type": "subslide"
    },
    "tags": [
     "notes-only"
    ]
   },
   "source": [
    "```grep \"#include\" game.c```"
   ]
  },
  {
   "cell_type": "markdown",
   "id": "6cb3d343-6bc6-435f-86e6-8cf8acbc45d2",
   "metadata": {
    "editable": true,
    "slideshow": {
     "slide_type": "skip"
    },
    "tags": [
     "blank"
    ]
   },
   "source": [
    "<p style=\"height:2em;\"></p>"
   ]
  },
  {
   "cell_type": "markdown",
   "id": "16122c3d-d434-44a6-9a24-fc8fd7a2415c",
   "metadata": {
    "editable": true,
    "slideshow": {
     "slide_type": "skip"
    },
    "tags": [
     "blank"
    ]
   },
   "source": [
    "<p style=\"height:5em;\"></p>"
   ]
  },
  {
   "cell_type": "markdown",
   "id": "0240a85c-a7f7-412f-a3af-58590814caaf",
   "metadata": {
    "editable": true,
    "slideshow": {
     "slide_type": "slide"
    },
    "tags": []
   },
   "source": [
    "## Redirection"
   ]
  },
  {
   "cell_type": "markdown",
   "id": "3f1ca05d-7f2a-40b2-a828-e3542be5fc7e",
   "metadata": {
    "editable": true,
    "slideshow": {
     "slide_type": "subslide"
    },
    "tags": []
   },
   "source": [
    "* stdin\n",
    "* stdout\n",
    "* stderr"
   ]
  },
  {
   "cell_type": "markdown",
   "id": "2ab3d5cd-81b4-48c7-966f-ad2415645913",
   "metadata": {
    "editable": true,
    "slideshow": {
     "slide_type": "subslide"
    },
    "tags": []
   },
   "source": [
    "Redirect input from a file:\n",
    "\n",
    "```tr '[:upper:]' '[:lower:]' < /usr/share/dict/words```\n",
    "\n",
    "(``tr`` translates from the first set of characters to the second, in this case, converting any uppercase letters in the input file to lowercase letters.)"
   ]
  },
  {
   "cell_type": "markdown",
   "id": "eefc7e09-863e-4bdf-9e91-e04b097d985d",
   "metadata": {
    "editable": true,
    "slideshow": {
     "slide_type": "subslide"
    },
    "tags": []
   },
   "source": [
    "* Redirect output to a file:\n",
    "\n",
    "    ```grep binarycalc report.txt > tests-to-try```\n",
    "    ```sort /etc/passwd > /tmp/sorted-passwd```"
   ]
  },
  {
   "cell_type": "markdown",
   "id": "81d50e9f-ad03-4f13-9816-b6b702e58321",
   "metadata": {
    "editable": true,
    "slideshow": {
     "slide_type": "subslide"
    },
    "tags": []
   },
   "source": [
    "* Software should write error messages to stderr:\n",
    "\n",
    "```\n",
    "    fprintf(stderr, \"%s:  failed to write\\n\", argv[0]);\n",
    "    exit(1);\n",
    "```"
   ]
  },
  {
   "cell_type": "markdown",
   "id": "801ea046-b28a-43e1-93d5-11859fcb20df",
   "metadata": {
    "editable": true,
    "slideshow": {
     "slide_type": "subslide"
    },
    "tags": []
   },
   "source": [
    "* Redirect stderr to a file;  in this case, store error messages about unreadable files\n",
    "\n",
    "    ```grep \"printf\" *.c 2> bad-files.txt```"
   ]
  },
  {
   "cell_type": "markdown",
   "id": "0f8e1d62-006c-4c76-9f88-0bee9fb1af4e",
   "metadata": {
    "editable": true,
    "slideshow": {
     "slide_type": "skip"
    },
    "tags": []
   },
   "source": [
    "<p style=\"height:2em;\"></p>"
   ]
  },
  {
   "cell_type": "markdown",
   "id": "d36edd0a-2c4f-47fa-b957-acf7e16944be",
   "metadata": {
    "editable": true,
    "slideshow": {
     "slide_type": "subslide"
    },
    "tags": [
     "question"
    ]
   },
   "source": [
    "Q3:  _Find all files on the system (/) named ``hostname`` and store them in the file ``/tmp/hostnames``_"
   ]
  },
  {
   "cell_type": "markdown",
   "id": "19e5b34d-2580-4b60-93c8-8a78cb9acc7c",
   "metadata": {
    "editable": true,
    "slideshow": {
     "slide_type": "skip"
    },
    "tags": [
     "answer",
     "notes-only"
    ]
   },
   "source": [
    "```find / -name hostname > /tmp/hostnames```"
   ]
  },
  {
   "cell_type": "code",
   "execution_count": null,
   "id": "888efe17-7d94-43fd-a1aa-43ae8d4d3c94",
   "metadata": {
    "editable": true,
    "slideshow": {
     "slide_type": ""
    },
    "tags": []
   },
   "outputs": [],
   "source": []
  },
  {
   "cell_type": "markdown",
   "id": "a9fba2b6-0814-4fbb-9d85-a22c6d96fea0",
   "metadata": {
    "editable": true,
    "slideshow": {
     "slide_type": "skip"
    },
    "tags": [
     "blank"
    ]
   },
   "source": [
    "<p style=\"height:2em;\"></p>"
   ]
  },
  {
   "cell_type": "markdown",
   "id": "2138cbb5-3840-4f20-9188-d5c5856ff227",
   "metadata": {
    "editable": true,
    "slideshow": {
     "slide_type": "subslide"
    },
    "tags": [
     "question"
    ]
   },
   "source": [
    "Q4:  _Find all files on the system (/) named ``hostname`` and store them in the file ``/tmp/hostnames`` and store the error messages from the command in ``/tmp/errors``_"
   ]
  },
  {
   "cell_type": "markdown",
   "id": "ce4dc9c5-d01b-4603-be1c-3062848b8dfe",
   "metadata": {
    "editable": true,
    "slideshow": {
     "slide_type": "skip"
    },
    "tags": [
     "answer",
     "notes-only"
    ]
   },
   "source": [
    "```find / -name hostname > /tmp/hostnames 2> /tmp/errors```"
   ]
  },
  {
   "cell_type": "markdown",
   "id": "ca690d7d-20ca-4796-9c65-d3a17f39c467",
   "metadata": {
    "editable": true,
    "slideshow": {
     "slide_type": "skip"
    },
    "tags": [
     "blank"
    ]
   },
   "source": [
    "<p style=\"height:2em;\"></p>"
   ]
  },
  {
   "cell_type": "markdown",
   "id": "0d92f99b-f89f-476e-a4d8-782210d73da0",
   "metadata": {
    "editable": true,
    "slideshow": {
     "slide_type": "skip"
    },
    "tags": [
     "blank"
    ]
   },
   "source": [
    "<p style=\"height:4em;\"></p>"
   ]
  },
  {
   "cell_type": "markdown",
   "id": "cb2deec5-0575-471c-9b22-7a8378ed1f42",
   "metadata": {
    "editable": true,
    "slideshow": {
     "slide_type": "slide"
    },
    "tags": []
   },
   "source": [
    "## Pipes"
   ]
  },
  {
   "cell_type": "markdown",
   "id": "7786a500-61cf-4560-b860-81834d024751",
   "metadata": {
    "editable": true,
    "slideshow": {
     "slide_type": "subslide"
    },
    "tags": []
   },
   "source": [
    "Pipes allow you to send the output of one command to the input of another.\n",
    "\n",
    "```cmd1 | cmd2```\n",
    "\n",
    "* This allows chaining together of simple Unix commands to get complex results.  This is the \n",
    "\n",
    "    ```ps -aux | grep student | wc```"
   ]
  },
  {
   "cell_type": "markdown",
   "id": "3b08c7c5-c546-48aa-ac1b-2742c8f95e0b",
   "metadata": {
    "editable": true,
    "slideshow": {
     "slide_type": "subslide"
    },
    "tags": []
   },
   "source": [
    "* Note that stderr isn't sent to the pipe:\n",
    "\n",
    "    ```find /proc -name cmdline | wc```\n",
    "\n",
    "* You can throw it away or redirect it:\n",
    "\n",
    "    ```find /proc -name cmdline 2>&1 | wc```"
   ]
  },
  {
   "cell_type": "markdown",
   "id": "ed1b7707-68c6-48f3-92b5-dd17964c2dac",
   "metadata": {
    "editable": true,
    "slideshow": {
     "slide_type": "subslide"
    },
    "tags": []
   },
   "source": [
    "* ```less``` is a pager that allows you to look at long output a page of the screen at a time:\n",
    "\n",
    "    ```ps aux | less```"
   ]
  },
  {
   "cell_type": "markdown",
   "id": "2dbd75c7-897d-4bb5-938c-9eff048d73e7",
   "metadata": {
    "editable": true,
    "slideshow": {
     "slide_type": "skip"
    },
    "tags": [
     "blank"
    ]
   },
   "source": [
    "<p style=\"height:4em;\"></p>"
   ]
  },
  {
   "cell_type": "markdown",
   "id": "37539476-e8a0-4d07-aafa-6e3a59199f8c",
   "metadata": {
    "editable": true,
    "slideshow": {
     "slide_type": ""
    },
    "tags": [
     "question"
    ]
   },
   "source": [
    "Q6:  _Search for all of the lines in binarycalc.c with a '%' in them, the search that output for all lines that do not include a `printf' and store them in 'mods.txt'._"
   ]
  },
  {
   "cell_type": "markdown",
   "id": "ef0a69ba-f6e4-4cce-8a29-e6c1fcca43aa",
   "metadata": {
    "editable": true,
    "slideshow": {
     "slide_type": "skip"
    },
    "tags": [
     "answer",
     "notes-only"
    ]
   },
   "source": [
    "```grep \"%\" binarycalc.c | grep -v printf > mods.txt```"
   ]
  },
  {
   "cell_type": "markdown",
   "id": "dc70bc0e-2438-4dc8-acce-51dc799d33aa",
   "metadata": {
    "editable": true,
    "slideshow": {
     "slide_type": "skip"
    },
    "tags": [
     "blank"
    ]
   },
   "source": [
    "<p style=\"height:4em;\"></p>"
   ]
  },
  {
   "cell_type": "markdown",
   "id": "7f1d5a1e-23c6-4483-8d09-59b9babad0e0",
   "metadata": {
    "editable": true,
    "slideshow": {
     "slide_type": "subslide"
    },
    "tags": [
     "question"
    ]
   },
   "source": [
    "Q6:  _Compile the file game.c with gcc and search the output (including stderr) for lines including 'warning'._"
   ]
  },
  {
   "cell_type": "markdown",
   "id": "72cf6f6c-f1d3-4f97-a10f-19c35c7bfddb",
   "metadata": {
    "editable": true,
    "slideshow": {
     "slide_type": "skip"
    },
    "tags": [
     "answer",
     "notes-only"
    ]
   },
   "source": [
    "```gcc -Wall -o game game.c 2>&1 | grep warning```"
   ]
  },
  {
   "cell_type": "markdown",
   "id": "2e1b4387-8252-457f-8041-0df30be75e8b",
   "metadata": {
    "editable": true,
    "slideshow": {
     "slide_type": "skip"
    },
    "tags": [
     "blank"
    ]
   },
   "source": [
    "<p style=\"height:4em;\"></p>"
   ]
  },
  {
   "cell_type": "markdown",
   "id": "117bb607-1a26-43bf-a5d0-d539889fc42e",
   "metadata": {
    "editable": true,
    "slideshow": {
     "slide_type": "slide"
    },
    "tags": []
   },
   "source": [
    "## Extra practice"
   ]
  },
  {
   "cell_type": "markdown",
   "id": "c04b38a7-2f17-4265-9c56-8824a3e86be7",
   "metadata": {
    "editable": true,
    "slideshow": {
     "slide_type": "subslide"
    },
    "tags": [
     "question"
    ]
   },
   "source": [
    "Q14: _Find the longest file ending in .c in the current directory.  Other commands that might be useful include 'head' and 'tail'._"
   ]
  },
  {
   "cell_type": "markdown",
   "id": "d2e5c4c8-dddf-4b34-9a61-78edd80b79e5",
   "metadata": {
    "editable": true,
    "slideshow": {
     "slide_type": "skip"
    },
    "tags": [
     "answer",
     "notes-only"
    ]
   },
   "source": [
    "```wc *.c | sort -n | tail -2 | head -1```"
   ]
  },
  {
   "cell_type": "markdown",
   "id": "ab4344d6-2c45-49e6-bf99-6b57748d7df2",
   "metadata": {
    "editable": true,
    "slideshow": {
     "slide_type": "skip"
    },
    "tags": [
     "blank"
    ]
   },
   "source": [
    "<p style=\"height:2em;\"></p>"
   ]
  }
 ],
 "metadata": {
  "kernelspec": {
   "display_name": "C",
   "language": "c",
   "name": "c"
  },
  "language_info": {
   "file_extension": ".c",
   "mimetype": "text/plain",
   "name": "c"
  }
 },
 "nbformat": 4,
 "nbformat_minor": 5
}
