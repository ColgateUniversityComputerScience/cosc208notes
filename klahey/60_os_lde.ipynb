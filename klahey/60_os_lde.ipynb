{
 "cells": [
  {
   "cell_type": "markdown",
   "id": "ffc437ac-d10b-4d12-895d-712e9c2057b5",
   "metadata": {
    "slideshow": {
     "slide_type": "skip"
    },
    "tags": []
   },
   "source": [
    "# Operating Systems: limited direct execution; system calls\n",
    "_COSC 208, Introduction to Computer Systems, Spring 2025_"
   ]
  },
  {
   "cell_type": "markdown",
   "id": "6ead4228-2ba1-4e8b-8397-247d9908ea7a",
   "metadata": {
    "editable": true,
    "slideshow": {
     "slide_type": "skip"
    },
    "tags": []
   },
   "source": [
    "## Announcements\n",
    "* Project 3 initial version due Tuesday, April 15 @ 11pm"
   ]
  },
  {
   "cell_type": "markdown",
   "id": "177d7b56-26ce-4023-8010-92c448961bbf",
   "metadata": {
    "slideshow": {
     "slide_type": "skip"
    },
    "tags": [
     "notes-only"
    ]
   },
   "source": [
    "## Operating systems (OS) overview"
   ]
  },
  {
   "cell_type": "markdown",
   "id": "14ab688a-b402-42ca-b066-edfbfd1ef0b4",
   "metadata": {
    "slideshow": {
     "slide_type": "skip"
    },
    "tags": [
     "notes-only"
    ]
   },
   "source": [
    "* Purpose of an OS\n",
    "    * Make computer hardware easy to use—e.g., an OS knows how to load an application's executable code from persistent storage (e.g., solid state drive (SSD)) into main memory, initialize the process's address space (code, heap, stack), and make the CPU execute the application's instructions\n",
    "    * Support multiprocessing—i.e., running multiple applications concurrently\n",
    "        * Concurrently == switch between multiple tasks during a window of time—e.g., alternate between cooking and setting the table\n",
    "        * Simultaneously == complete two tasks at the same time—e.g., listen to a podcast while cooking\n",
    "    * Allocate and manage hardware resources—e.g., decide when/which applications can use the CPU, decide when/which memory applications can use, prevent applications from stealing/accessing another application's CPU time or memory\n",
    "    * Many OSes also provide a user interface (UI)\n",
    "* How does the OS fulfill its duties?\n",
    "    * Mechanisms — fundamental approaches for managing/providing access to hardware resources\n",
    "        * E.g., system calls, process abstraction\n",
    "    * Policy — specific ways of employing an approach; different policies make different trade-offs (in terms of efficiency, performance, etc.)\n",
    "        * E.g., process scheduler"
   ]
  },
  {
   "cell_type": "markdown",
   "id": "8d807688-da78-40a3-a6ba-33996b0e3916",
   "metadata": {
    "slideshow": {
     "slide_type": "slide"
    },
    "tags": [
     "notes-only"
    ]
   },
   "source": [
    "## Accessing hardware"
   ]
  },
  {
   "cell_type": "markdown",
   "id": "304e20c3-b23e-48cd-87c3-083e05018007",
   "metadata": {
    "slideshow": {
     "slide_type": "skip"
    },
    "tags": [
     "notes-only"
    ]
   },
   "source": [
    "* OS is responsible for allocating/managing the hardware\n",
    "* Analogy – sharing a calculator\n",
    "    * Three students – OS, program 1, program 2\n",
    "    * OS decides how programs will share the calculator"
   ]
  },
  {
   "cell_type": "markdown",
   "id": "3d5075fe-7b2d-432b-85c4-8eefdd21e057",
   "metadata": {
    "slideshow": {
     "slide_type": "subslide"
    },
    "tags": [
     "notes-only"
    ]
   },
   "source": [
    "* First attempt – no preemption\n",
    "    * Instructions for Program 1:\n",
    "        ```\n",
    "        8642 + 9753 = _____\n",
    "        M+ (add to memory)\n",
    "        1819 + 1920 + 2021 = _____\n",
    "        153 + 264 + MRC (recall from memory) = _____\n",
    "        ```\n",
    "    * Instructions for Program 2:\n",
    "        ```\n",
    "        1234 + 5678 = _____\n",
    "        1470 + 2342 + 2341 = _____\n",
    "        34238 + 32482 = _____\n",
    "        ```"
   ]
  },
  {
   "cell_type": "markdown",
   "id": "5938e2e6-29fc-4ed7-8f00-aaf004aa8f84",
   "metadata": {
    "slideshow": {
     "slide_type": "subslide"
    },
    "tags": [
     "notes-only"
    ]
   },
   "source": [
    "* Second attempt – preemption, but no protection\n",
    "    * Instructions for Program 1:\n",
    "        ```\n",
    "        8642 + 9753 = _____\n",
    "        M+ (add to memory)\n",
    "        1819 + 1920 + 2021 = _____\n",
    "        153 + 264 + MRC (recall from memory) = _____\n",
    "        ```\n",
    "    * Instructions for Program 2:\n",
    "        ```\n",
    "        8395 + 8395 = _____\n",
    "        M- (subtract from memory)\n",
    "        1470 + 2342 + 2341 = _____\n",
    "        34238 + 32482 = _____\n",
    "        ```"
   ]
  },
  {
   "cell_type": "markdown",
   "id": "0c6c3229-2737-4b1c-b9b4-08fcb7b74ad8",
   "metadata": {
    "slideshow": {
     "slide_type": "subslide"
    },
    "tags": [
     "notes-only"
    ]
   },
   "source": [
    "* Third attempt – dictate instructions\n",
    "    * Instructions for Program 1:\n",
    "        ```\n",
    "        8642 + 9753 = _____\n",
    "        1 + 2 + 3 + 4 + 5 + 6 + ... + 100 = _____\n",
    "        ```\n",
    "    * Instructions for Program 2:\n",
    "        ```\n",
    "        8395 + 8395 = _____\n",
    "        1470 + 2342 + 2341 = _____\n",
    "        34238 + 32482 = _____\n",
    "        ```"
   ]
  },
  {
   "cell_type": "markdown",
   "id": "cbe3fc7e-2d67-495c-a15d-e62beb87eef6",
   "metadata": {
    "editable": true,
    "slideshow": {
     "slide_type": "skip"
    },
    "tags": [
     "notes-only"
    ]
   },
   "source": [
    "* OS is responsible for allocating/managing the hardware\n",
    "    * ⇒ applications should **not have unfettered access to hardware**\n",
    "* _How should applications access the hardware?_\n",
    "    * Ask the OS for access to the hardware\n",
    "        * How do we ensure the OS does not \"lose control\" of the hardware? \n",
    "    * Asks the OS to perform an action on the application's behalf\n",
    "        * How do we ensure this doesn't substantially degrade performance?\n",
    "* Example: execute an instruction on the CPU\n",
    "    * Asking the OS to do this on behalf of an application is impractical—OS would need to execute multiple assembly instructions for each assembly instruction the application wants to execute\n",
    "    * Alternative: allow the application to execute its own instructions on the CPU\n",
    "        * This is risky—an application may execute an instruction that controls the hardware, e.g., `hlt` (halt) instruction pauses the CPU\n",
    "    * Alternative: allow the application to execute \"safe\" instructions on its own on the CPU\n",
    "* Example: accessing the solid state drive (SSD)\n",
    "    * Allowing the application to access the SSD directly\n",
    "        * This is risky—an application may read/write data it should not be able to access\n",
    "    * Alternative: asking the OS to access the SSD on the application's behalf\n",
    "        * Latency of accessing SSD (~1 million CPU cycles) far outweighs the extra instructions required for OS to perform the access on the application's behalf\n",
    "* Mechanisms\n",
    "    * Limited Direct Execution (LDE)\n",
    "    * System calls (syscalls)"
   ]
  },
  {
   "cell_type": "markdown",
   "id": "68f1db42-2d36-4bab-9a98-14ca5c981d41",
   "metadata": {
    "editable": true,
    "slideshow": {
     "slide_type": "skip"
    },
    "tags": []
   },
   "source": [
    "## Limited Direct Execution (LDE)"
   ]
  },
  {
   "cell_type": "markdown",
   "id": "9050aa25-6a69-4178-abe2-82c0a93b69eb",
   "metadata": {
    "editable": true,
    "slideshow": {
     "slide_type": "skip"
    },
    "tags": [
     "notes-only"
    ]
   },
   "source": [
    "* CPU has two modes of execution: user mode & kernel mode\n",
    "* _When does a CPU run in user mode?_ — when executing application code\n",
    "* _When does a CPU run in kernel mode?_ — when executing OS code\n",
    "* Allowable operations in user mode are restricted\n",
    "    * Applications can...\n",
    "        * Perform arithmetic/logic operations\n",
    "        * Load/store values in its stack/heap\n",
    "    * Applications must ask the OS to...\n",
    "        * Start/terminate applications\n",
    "        * Create/delete files\n",
    "        * Display output on screen\n",
    "        * Read input from user\n",
    "    * Must transfer control to the OS to perform these operations — How?"
   ]
  },
  {
   "cell_type": "markdown",
   "id": "d89c35f1-8773-4363-b7b1-433d03a420ab",
   "metadata": {
    "editable": true,
    "slideshow": {
     "slide_type": "skip"
    },
    "tags": [
     "blank"
    ]
   },
   "source": [
    "<div style=\"height:10em;\"></div>"
   ]
  },
  {
   "cell_type": "markdown",
   "id": "ab388cc0-87e1-4a65-b66c-708b8aed26b0",
   "metadata": {
    "editable": true,
    "slideshow": {
     "slide_type": "slide"
    },
    "tags": []
   },
   "source": [
    "## System calls (syscalls)"
   ]
  },
  {
   "cell_type": "markdown",
   "id": "3d614971-b3fa-49e3-bb5e-c745d4d1f398",
   "metadata": {
    "slideshow": {
     "slide_type": "skip"
    },
    "tags": [
     "notes-only"
    ]
   },
   "source": [
    "* Invoked via a special assembly instruction: trap (generic) or `svc` (on ARM)"
   ]
  },
  {
   "cell_type": "markdown",
   "id": "9738a3ac-062c-43ee-b784-6127387df917",
   "metadata": {
    "tags": []
   },
   "source": [
    "* Example program"
   ]
  },
  {
   "cell_type": "code",
   "execution_count": 1,
   "id": "340386a9-633a-4e0e-a852-256a9e26d7b8",
   "metadata": {
    "tags": []
   },
   "outputs": [
    {
     "name": "stdout",
     "output_type": "stream",
     "text": [
      "I am a process. My name is 1335.\n"
     ]
    }
   ],
   "source": [
    "/* 1*/  #include <stdio.h>\n",
    "/* 2*/  #include <unistd.h>\n",
    "/* 3*/  int name() {\n",
    "/* 4*/      int pid = getpid();\n",
    "/* 5*/      return pid;\n",
    "/* 6*/  }\n",
    "/* 7*/  int main() {\n",
    "/* 8*/      int p = name();\n",
    "/* 9*/      printf(\"I am a process. My name is %d.\\n\", p);\n",
    "/*10*/  }"
   ]
  },
  {
   "cell_type": "markdown",
   "id": "3b71b404-053b-450f-a2c2-c507e64dfd83",
   "metadata": {
    "slideshow": {
     "slide_type": "subslide"
    },
    "tags": []
   },
   "source": [
    "* Assembly code"
   ]
  },
  {
   "cell_type": "markdown",
   "id": "407533ff-7f8b-4402-8726-a3ec8366b48e",
   "metadata": {
    "tags": []
   },
   "source": [
    "```\n",
    "00000000004006ac <name>:\n",
    "    4006ac:    d10083ff     sub    sp, sp, #0x20\n",
    "    4006b0:    f9000bfe     str    x30, [sp, #16]\n",
    "    4006b4:    94007713     bl    41e300 <__getpid>\n",
    "    4006b8:    b9000fe0     str    w0, [sp, #12]\n",
    "    4006bc:    b9400fe0     ldr    w0, [sp, #12]\n",
    "    4006c0:    f9400bfe     ldr    x30, [sp, #16]\n",
    "    4006c4:    910083ff     add    sp, sp, #0x20\n",
    "    4006c8:    d65f03c0     ret\n",
    "000000000041e300 <__getpid>:\n",
    "    41e300:    d28015c8     mov    x8, #0xac\n",
    "    41e304:    d4000001     svc    #0x0\n",
    "    41e308:    d65f03c0     ret\n",
    "```"
   ]
  },
  {
   "cell_type": "markdown",
   "id": "e2867c91-58e3-41e2-a42b-f3dec40d36b9",
   "metadata": {
    "editable": true,
    "slideshow": {
     "slide_type": "skip"
    },
    "tags": [
     "notes-only"
    ]
   },
   "source": [
    "* Functions in the C standard library that involve a privileged operation (e.g., `printf`) put the system call number in a register and invoke a trap instruction — programmer doesn’t have to worry about these details; they can just call the appropriate function in the C standard library\n",
    "* When `svc` is executed\n",
    "    1. CPU switches to kernel mode\n",
    "    2. CPU saves registers to the kernel stack — kernel stack is at a fixed location in memory\n",
    "        * _Why do we need to save the registers?_ — so we can return to `user` when `__getuid` is done\n",
    "    3. CPU uses system call number to index into table of trap handlers \n",
    "        * At boot, initialize table of trap handlers with pointers into OS code for handling each type of syscall\n",
    "    4. Branch and link to trap handler code\n",
    "    5. CPU restores registers from the kernel stack\n",
    "    6. CPU switches to user mode\n",
    "    7. Resume execution after `svc` \n",
    "* _What should we do if an application tries to perform a privileged operation without making a system call?_\n",
    "    * Let the code keep running — code may assume privileged operation was successful\n",
    "    * Terminate the application"
   ]
  },
  {
   "cell_type": "markdown",
   "id": "5b2466dc-d610-4bcf-af6d-2f938593cbc2",
   "metadata": {
    "editable": true,
    "slideshow": {
     "slide_type": ""
    },
    "tags": []
   },
   "source": [
    "## Recap"
   ]
  },
  {
   "cell_type": "markdown",
   "id": "934fbea9-b4e9-4120-bc7f-6be601aef218",
   "metadata": {
    "editable": true,
    "slideshow": {
     "slide_type": ""
    },
    "tags": [
     "question"
    ]
   },
   "source": [
    "Q1: _One alternative to Limited Direct Execution (LDE) is **indirect execution**—i.e., for each assembly instruction an application wants to execute, the application must ask the OS to execute the instruction on the processor on the application’s behalf. Why is indirect execution a **poor design choice**?_"
   ]
  },
  {
   "cell_type": "markdown",
   "id": "c3ffd1ad-d1d7-4d29-9ab4-476054a3d7dd",
   "metadata": {
    "editable": true,
    "slideshow": {
     "slide_type": "skip"
    },
    "tags": [
     "answer"
    ]
   },
   "source": [
    "    Significant overhead"
   ]
  },
  {
   "cell_type": "markdown",
   "id": "9da1d52f-e340-4181-86f0-d1ecf70b3edc",
   "metadata": {
    "editable": true,
    "slideshow": {
     "slide_type": "skip"
    },
    "tags": [
     "blank"
    ]
   },
   "source": [
    "<div style=\"height:7em;\"></div>"
   ]
  },
  {
   "cell_type": "markdown",
   "id": "28814c6a-92f4-45d4-972a-048b9fcc855c",
   "metadata": {
    "editable": true,
    "slideshow": {
     "slide_type": ""
    },
    "tags": [
     "question"
    ]
   },
   "source": [
    "Q2: _Another alternative to LDE is **direct execution**–i.e., an application can execute its assembly instructions directly on the processor and access any location in main memory. Why is direct execution a **poor design choice**?_"
   ]
  },
  {
   "cell_type": "markdown",
   "id": "b2891003-cf24-479f-b41b-bd424eabf06e",
   "metadata": {
    "editable": true,
    "slideshow": {
     "slide_type": "skip"
    },
    "tags": [
     "answer"
    ]
   },
   "source": [
    "    An application can interfere with another application's memory; an application can use the processor indefinitely"
   ]
  },
  {
   "cell_type": "markdown",
   "id": "2626a002-a9aa-4be0-9995-56a956d18587",
   "metadata": {
    "editable": true,
    "slideshow": {
     "slide_type": "skip"
    },
    "tags": [
     "blank"
    ]
   },
   "source": [
    "<div style=\"height:7em;\"></div>"
   ]
  },
  {
   "cell_type": "markdown",
   "id": "c73be53e-fafb-40db-ab0e-e57ec85b5d61",
   "metadata": {
    "editable": true,
    "slideshow": {
     "slide_type": ""
    },
    "tags": [
     "question"
    ]
   },
   "source": [
    "Q3: _What **processor feature(s)** make(s) LDE possible?_"
   ]
  },
  {
   "cell_type": "markdown",
   "id": "e85273b7-4747-4a05-b9d5-ffdf62988838",
   "metadata": {
    "editable": true,
    "slideshow": {
     "slide_type": "skip"
    },
    "tags": [
     "answer"
    ]
   },
   "source": [
    "    Two modes: kernel mode (processor is in this mode when the OS is running) and user mode (processor is in this mode when the application is running); `svc` instruction to make a system call; time interrupts "
   ]
  },
  {
   "cell_type": "markdown",
   "id": "88654d1a-1904-4e19-9265-9bd7ceba7368",
   "metadata": {
    "editable": true,
    "slideshow": {
     "slide_type": "skip"
    },
    "tags": [
     "blank"
    ]
   },
   "source": [
    "<div style=\"height:7em;\"></div>"
   ]
  },
  {
   "cell_type": "markdown",
   "id": "1e4b4a29-760c-46b7-8363-2010ef1b0b07",
   "metadata": {
    "editable": true,
    "slideshow": {
     "slide_type": ""
    },
    "tags": [
     "question"
    ]
   },
   "source": [
    "Q4: _What work (if any) must be done by an application, the operating system (OS), and the processor when an application wants to perform a privileged operation—e.g., start another application?_"
   ]
  },
  {
   "cell_type": "markdown",
   "id": "a2543bd7-c1ae-4ce5-bce5-9db4fc43c311",
   "metadata": {
    "editable": true,
    "slideshow": {
     "slide_type": "skip"
    },
    "tags": [
     "answer"
    ]
   },
   "source": [
    "    Application puts the system call number in a register and executes the `svc` instruction; Processor switches to kernel mode, saves the values in the registers on the OS's stack, and branches to the appropriate system call handling code based on the system call number; OS executes the system call; Processor restores the application's register values from the OS's stack, switches to user mode, and resumes execution of the application by executing the next instruction after the `svc` instruction"
   ]
  },
  {
   "cell_type": "markdown",
   "id": "792cc6ea-33af-4237-8eb8-7bbd62fd3429",
   "metadata": {
    "editable": true,
    "slideshow": {
     "slide_type": "skip"
    },
    "tags": [
     "blank"
    ]
   },
   "source": [
    "<div style=\"height:15em;\"></div>"
   ]
  }
 ],
 "metadata": {
  "kernelspec": {
   "display_name": "C",
   "language": "c",
   "name": "c"
  },
  "language_info": {
   "file_extension": ".c",
   "mimetype": "text/plain",
   "name": "c"
  }
 },
 "nbformat": 4,
 "nbformat_minor": 5
}
