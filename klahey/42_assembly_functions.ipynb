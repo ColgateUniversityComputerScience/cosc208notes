{
 "cells": [
  {
   "cell_type": "markdown",
   "id": "39d76db8-edb9-47d5-bec8-7998805660b3",
   "metadata": {
    "editable": true,
    "slideshow": {
     "slide_type": "skip"
    },
    "tags": []
   },
   "source": [
    "# Assembly: functions\n",
    "_COSC 208, Introduction to Computer Systems, Spring 2025_"
   ]
  },
  {
   "cell_type": "markdown",
   "id": "7e7daf30-f7cc-4e7d-8406-4132a56392e9",
   "metadata": {
    "editable": true,
    "slideshow": {
     "slide_type": "skip"
    },
    "tags": []
   },
   "source": [
    "## Function calls in assembly"
   ]
  },
  {
   "cell_type": "markdown",
   "id": "db94d696-f3ac-4166-afa6-bdbfaa21e04b",
   "metadata": {
    "editable": true,
    "slideshow": {
     "slide_type": "skip"
    },
    "tags": [
     "notes-only"
    ]
   },
   "source": [
    "* Calling conventions\n",
    "    * _In which registers are parameters stored?_ — `x0`/`w0`, `x1`/`w1`, `x2`/`w2`, ...\n",
    "    * _In which register is the return value stored?_ — `x0`/`w0`\n",
    "    * Return address stored in `x30`\n",
    "    * Caller's return address stored in callee's stack frame\n",
    "* Use `bl` (branch & link) to make a function call\n",
    "    * Store `pc+4` in `x30`\n",
    "    * Update `pc` to specified code address"
   ]
  },
  {
   "cell_type": "markdown",
   "id": "277b189a-856e-492e-81a9-cc872c5a948a",
   "metadata": {
    "editable": true,
    "slideshow": {
     "slide_type": "skip"
    },
    "tags": []
   },
   "source": [
    "_Example_"
   ]
  },
  {
   "cell_type": "code",
   "execution_count": null,
   "id": "cc3fbdf9-f949-4eaa-b8d0-28b8a20214ce",
   "metadata": {
    "editable": true,
    "slideshow": {
     "slide_type": ""
    },
    "tags": []
   },
   "outputs": [],
   "source": [
    "/*1*/  int helper(int a) {\n",
    "/*2*/      a = a + 1;\n",
    "/*3*/      return a;\n",
    "/*4*/  }\n",
    "/*5*/  int main() {\n",
    "/*6*/      int b = helper(2);\n",
    "/*7*/      return b;\n",
    "/*8*/  }"
   ]
  },
  {
   "cell_type": "markdown",
   "id": "2d5931b5-834d-41e4-a0f3-45cfc2393840",
   "metadata": {
    "editable": true,
    "slideshow": {
     "slide_type": "skip"
    },
    "tags": [
     "answer"
    ]
   },
   "source": [
    "```\n",
    "0000000000000714 <helper>:\n",
    " 714:   d10043ff    sub sp, sp, #0x10    // 1\n",
    " 718:   b9000fe0    str w0, [sp, #12]    // 1\n",
    " 71c:   b9400fe0    ldr w0, [sp, #12]    // 2\n",
    " 720:   11000400    add w0, w0, #0x1     // 2\n",
    " 724:   b9000fe0    str w0, [sp, #12]    // 2\n",
    " 728:   b9400fe0    ldr w0, [sp, #12]    // 3\n",
    " 72c:   910043ff    add sp, sp, #0x10    // 3\n",
    " 730:   d65f03c0    ret                  // 3\n",
    "```"
   ]
  },
  {
   "cell_type": "markdown",
   "id": "07ae55c6-01a2-4b69-9cca-6d4b46c87ebd",
   "metadata": {
    "editable": true,
    "slideshow": {
     "slide_type": "skip"
    },
    "tags": [
     "answer"
    ]
   },
   "source": [
    "```\n",
    "0000000000000734 <main>:\n",
    " 734:   d10043ff    sub sp, sp, #0x10    // 5\n",
    " 738:   f81e0ffe    str x30, [sp, #8]    // 5\n",
    " 73c:   52800040    mov w0, #0x2         // 6\n",
    " 740:   97fffff6    bl  714 <helper>     // 6\n",
    " 744:   b9001fe0    str w0, [sp, #4]     // 6\n",
    " 748:   b9401fe0    ldr w0, [sp, #4]     // 7\n",
    " 74c:   f84207fe    ldr x30, [sp, #8]    // 7\n",
    " 750:   910043ff    add sp, sp, #0x10    // 7\n",
    " 754:   d65f03c0    ret                  // 7\n",
    "```"
   ]
  },
  {
   "cell_type": "markdown",
   "id": "b946ad70-d1e9-415e-84f5-de1ce37a5820",
   "metadata": {
    "editable": true,
    "slideshow": {
     "slide_type": ""
    },
    "tags": [
     "blank"
    ]
   },
   "source": [
    "```\n",
    "0000000000000714 <helper>:\n",
    " 714:   d10043ff    sub sp, sp, #0x10\n",
    " 718:   b9000fe0    str w0, [sp, #12]\n",
    " 71c:   b9400fe0    ldr w0, [sp, #12]\n",
    " 720:   11000400    add w0, w0, #0x1\n",
    " 724:   b9000fe0    str w0, [sp, #12]\n",
    " 728:   b9400fe0    ldr w0, [sp, #12]\n",
    " 72c:   910043ff    add sp, sp, #0x10\n",
    " 730:   d65f03c0    ret\n",
    "```"
   ]
  },
  {
   "cell_type": "markdown",
   "id": "ef5b685b-77e5-48de-8ffc-a7bb3cf7a1d9",
   "metadata": {
    "editable": true,
    "slideshow": {
     "slide_type": ""
    },
    "tags": [
     "blank"
    ]
   },
   "source": [
    "```\n",
    "0000000000000734 <main>:\n",
    " 734:   d10043ff    sub sp, sp, #0x10\n",
    " 738:   f81e0ffe    str x30, [sp, #8]\n",
    " 73c:   52800040    mov w0, #0x2\n",
    " 740:   97fffff6    bl  714 <helper>\n",
    " 744:   b9001fe0    str w0, [sp, #4]\n",
    " 748:   b9401fe0    ldr w0, [sp, #4]\n",
    " 74c:   f84207fe    ldr x30, [sp, #8]\n",
    " 750:   910043ff    add sp, sp, #0x10\n",
    " 754:   d65f03c0    ret\n",
    "```"
   ]
  },
  {
   "cell_type": "markdown",
   "id": "51ba666a-aa20-4611-91e8-77d2920d7597",
   "metadata": {
    "editable": true,
    "slideshow": {
     "slide_type": "subslide"
    },
    "tags": []
   },
   "source": [
    "_Assume the registers have the following initial values:_\n",
    "* `pc` = `0x734`\n",
    "* `sp` = `0xA80`\n",
    "* `x30` = `0x600`"
   ]
  },
  {
   "cell_type": "markdown",
   "id": "40f006ec-40a3-473f-96fc-4d27a172dd88",
   "metadata": {
    "editable": true,
    "slideshow": {
     "slide_type": "skip"
    },
    "tags": [
     "answer"
    ]
   },
   "source": [
    "```\n",
    "        0  1  2  3  4  5  6  7  8          \n",
    "        +--+--+--+--+--+--+--+--+\n",
    " 0xA60  |                       |\n",
    "        +--+--+--+--+--+--+--+--+\n",
    " 0xA68  |           |     3     |\n",
    "        +--+--+--+--+--+--+--+--+\n",
    " 0xA70  |           |     3     |\n",
    "        +--+--+--+--+--+--+--+--+\n",
    " 0xA78  |        0x600          |\n",
    "        +--+--+--+--+--+--+--+--+\n",
    "sp = 0xA80\n",
    "pc = 0x600\n",
    "w/x0 = 3\n",
    "```"
   ]
  },
  {
   "cell_type": "markdown",
   "id": "846b51c5-3646-4e48-bbab-75e68bd81375",
   "metadata": {
    "editable": true,
    "slideshow": {
     "slide_type": "skip"
    },
    "tags": [
     "blank"
    ]
   },
   "source": [
    "<div style=\"height:1em;\"></div>"
   ]
  },
  {
   "cell_type": "markdown",
   "id": "076bb561-1142-4857-be60-7ed729246a35",
   "metadata": {
    "editable": true,
    "slideshow": {
     "slide_type": "skip"
    },
    "tags": []
   },
   "source": [
    "_The following C code was compiled into assembly (using `clang`)._"
   ]
  },
  {
   "cell_type": "code",
   "execution_count": null,
   "id": "9d5e332f-19f5-4180-8de2-1655e73ec25f",
   "metadata": {
    "editable": true,
    "slideshow": {
     "slide_type": "slide"
    },
    "tags": [
     "question"
    ]
   },
   "outputs": [],
   "source": [
    "/*1*/  int multiply(int a, int b) {\n",
    "/*2*/      int c = a * b;\n",
    "/*3*/      return c;\n",
    "/*4*/  }\n",
    "/*5*/  int volume(int x, int y, int z) {\n",
    "/*6*/      int w = multiply(x, y);\n",
    "/*7*/      w = multiply(w, z);\n",
    "/*8*/      return w;\n",
    "/*9*/  }\n",
    "/*10*/  int main() {\n",
    "/*11*/      int n = volume(1, 3, 5);\n",
    "/*12*/      return n;\n",
    "/*13*/  }"
   ]
  },
  {
   "cell_type": "markdown",
   "id": "26825879-d309-4257-a804-549b6458191a",
   "metadata": {
    "editable": true,
    "slideshow": {
     "slide_type": "skip"
    },
    "tags": [
     "question"
    ]
   },
   "source": [
    "Q1: _For each line of assembly, indicate which original line of C code the assembly instruction was derived from._ "
   ]
  },
  {
   "cell_type": "markdown",
   "id": "76f64c74-ee2c-4dd0-ac5d-7bfcd257ba1d",
   "metadata": {
    "editable": true,
    "slideshow": {
     "slide_type": "skip"
    },
    "tags": [
     "answer"
    ]
   },
   "source": [
    "```\n",
    "0000000000000544 <multiply>:\n",
    "  544:    d10043ff     sub sp, sp, #0x10    // 1\n",
    "  548:    b9000fe0     str w0, [sp, #12]    // 1\n",
    "  54c:    b9000be1     str w1, [sp, #8]     // 1\n",
    "  550:    b9400fe8     ldr w8, [sp, #12]    // 2\n",
    "  554:    b9400be9     ldr w9, [sp, #8]     // 2\n",
    "  558:    1b097d08     mul w8, w8, w9       // 2\n",
    "  55c:    b90007e8     str w8, [sp, #4]     // 2\n",
    "  560:    b94007e0     ldr w0, [sp, #4]     // 3\n",
    "  564:    910043ff     add sp, sp, #0x10    // 3\n",
    "  568:    d65f03c0     ret                  // 3\n",
    "```"
   ]
  },
  {
   "cell_type": "markdown",
   "id": "1e1ff9dc-a3a7-4ae2-93a6-1b80ea350852",
   "metadata": {
    "editable": true,
    "slideshow": {
     "slide_type": "skip"
    },
    "tags": [
     "answer"
    ]
   },
   "source": [
    "```\n",
    "000000000000056c <volume>:\n",
    "  56c:    d10083ff     sub sp, sp, #0x20    // 5\n",
    "  570:    f9000bfe     str x30, [sp, #16]   // 5\n",
    "  574:    b9000fe0     str w0, [sp, #12]    // 5\n",
    "  578:    b9000be1     str w1, [sp, #8]     // 5\n",
    "  57c:    b90007e2     str w2, [sp, #4]     // 5\n",
    "  580:    b9400fe0     ldr w0, [sp, #12]    // 6\n",
    "  584:    b9400be1     ldr w1, [sp, #8]     // 6\n",
    "  588:    97ffffef     bl  544 <multiply>   // 6\n",
    "  58c:    b90003e0     str w0, [sp]         // 6\n",
    "  590:    b94003e0     ldr w0, [sp]         // 7\n",
    "  594:    b94007e1     ldr w1, [sp, #4]     // 7\n",
    "  598:    97ffffeb     bl  544 <multiply>   // 7\n",
    "  59c:    b90003e0     str w0, [sp]         // 7\n",
    "  5a0:    b94003e0     ldr w0, [sp]         // 8\n",
    "  5a4:    f9400bfe     ldr x30, [sp, #16]   // 8\n",
    "  5a8:    910083ff     add sp, sp, #0x20    // 8\n",
    "  5ac:    d65f03c0     ret                  // 8\n",
    "```"
   ]
  },
  {
   "cell_type": "markdown",
   "id": "3c913d0d-f40b-4cf0-bc27-9d682a75a735",
   "metadata": {
    "editable": true,
    "slideshow": {
     "slide_type": "skip"
    },
    "tags": [
     "answer"
    ]
   },
   "source": [
    "```\n",
    "00000000000005b0 <main>:                               \n",
    "  5b0:    d10083ff     sub sp, sp, #0x20     // 10\n",
    "  5b4:    f9000bfe     str x30, [sp, #16]    // 10\n",
    "  5b8:    52800020     mov w0, #0x1          // 11\n",
    "  5bc:    52800061     mov w1, #0x3          // 11\n",
    "  5c0:    528000a2     mov w2, #0x5          // 11\n",
    "  5c4:    97ffffe9     bl  56c <volume>      // 11\n",
    "  5c8:    b9000be0     str w0, [sp, #8]      // 11\n",
    "  5cc:    b9400be0     ldr w0, [sp, #8]      // 12\n",
    "  5d0:    f9400bfe     ldr x30, [sp, #16]    // 12\n",
    "  5d4:    910083ff     add sp, sp, #0x20     // 12\n",
    "  5d8:    d65f03c0     ret                   // 12\n",
    "```"
   ]
  },
  {
   "cell_type": "markdown",
   "id": "867f2dd9-fa46-48b7-a7ba-7b407eee2ab8",
   "metadata": {
    "editable": true,
    "slideshow": {
     "slide_type": ""
    },
    "tags": [
     "blank"
    ]
   },
   "source": [
    "```\n",
    "0000000000000544 <multiply>:\n",
    "  544:    d10043ff     sub sp, sp, #0x10\n",
    "  548:    b9000fe0     str w0, [sp, #12]\n",
    "  54c:    b9000be1     str w1, [sp, #8]\n",
    "  550:    b9400fe8     ldr w8, [sp, #12]\n",
    "  554:    b9400be9     ldr w9, [sp, #8]\n",
    "  558:    1b097d08     mul w8, w8, w9\n",
    "  55c:    b90007e8     str w8, [sp, #4]\n",
    "  560:    b94007e0     ldr w0, [sp, #4]\n",
    "  564:    910043ff     add sp, sp, #0x10\n",
    "  568:    d65f03c0     ret\n",
    "```"
   ]
  },
  {
   "cell_type": "markdown",
   "id": "e863e581-a4af-440e-b0be-3dcca95ed5b1",
   "metadata": {
    "editable": true,
    "slideshow": {
     "slide_type": "subslide"
    },
    "tags": [
     "blank"
    ]
   },
   "source": [
    "```\n",
    "000000000000056c <volume>:\n",
    "  56c:    d10083ff     sub sp, sp, #0x20\n",
    "  570:    f9000bfe     str x30, [sp, #16]\n",
    "  574:    b9000fe0     str w0, [sp, #12]\n",
    "  578:    b9000be1     str w1, [sp, #8]\n",
    "  57c:    b90007e2     str w2, [sp, #4]\n",
    "  580:    b9400fe0     ldr w0, [sp, #12]\n",
    "  584:    b9400be1     ldr w1, [sp, #8]\n",
    "  588:    97ffffef     bl  544 <multiply>\n",
    "  58c:    b90003e0     str w0, [sp]\n",
    "  590:    b94003e0     ldr w0, [sp]\n",
    "  594:    b94007e1     ldr w1, [sp, #4]\n",
    "  598:    97ffffeb     bl  544 <multiply>\n",
    "  59c:    b90003e0     str w0, [sp]\n",
    "  5a0:    b94003e0     ldr w0, [sp]\n",
    "  5a4:    f9400bfe     ldr x30, [sp, #16]\n",
    "  5a8:    910083ff     add sp, sp, #0x20\n",
    "  5ac:    d65f03c0     ret\n",
    "```"
   ]
  },
  {
   "cell_type": "markdown",
   "id": "071683a1-492e-4968-a602-14df089e30dd",
   "metadata": {
    "editable": true,
    "slideshow": {
     "slide_type": ""
    },
    "tags": [
     "blank"
    ]
   },
   "source": [
    "```\n",
    "00000000000005b0 <main>:                               \n",
    "  5b0:    d10083ff     sub sp, sp, #0x20\n",
    "  5b4:    f9000bfe     str x30, [sp, #16]\n",
    "  5b8:    52800020     mov w0, #0x1\n",
    "  5bc:    52800061     mov w1, #0x3\n",
    "  5c0:    528000a2     mov w2, #0x5\n",
    "  5c4:    97ffffe9     bl  56c <volume>\n",
    "  5c8:    b9000be0     str w0, [sp, #8]\n",
    "  5cc:    b9400be0     ldr w0, [sp, #8]\n",
    "  5d0:    f9400bfe     ldr x30, [sp, #16]\n",
    "  5d4:    910083ff     add sp, sp, #0x20\n",
    "  5d8:    d65f03c0     ret\n",
    "```"
   ]
  },
  {
   "cell_type": "markdown",
   "id": "2e895c4f-470a-4f4e-b990-0a6f147fd491",
   "metadata": {
    "editable": true,
    "slideshow": {
     "slide_type": "subslide"
    },
    "tags": [
     "question"
    ]
   },
   "source": [
    "Q2: _Assume the registers initially hold the following values:_\n",
    "```\n",
    "pc = 0x5B0\n",
    "sp = 0xFF0\n",
    "w/x30 = 0x500\n",
    "```\n",
    "_Draw the contents of the stack and registers after executing the assembly instruction at **0x58C**._"
   ]
  },
  {
   "cell_type": "markdown",
   "id": "35dfbdb3-6e67-4c03-ba94-49a43481616e",
   "metadata": {
    "editable": true,
    "slideshow": {
     "slide_type": "skip"
    },
    "tags": [
     "answer"
    ]
   },
   "source": [
    "[Video demonstrating how to solve this problem](https://colgate.hosted.panopto.com/Panopto/Pages/Viewer.aspx?id=53efda4c-c9b2-4959-937b-b22101009cd2)\n",
    "\n",
    "<iframe src=\"https://colgate.hosted.panopto.com/Panopto/Pages/Embed.aspx?id=53efda4c-c9b2-4959-937b-b22101009cd2&autoplay=false&offerviewer=true&showtitle=true&showbrand=true&captions=false&interactivity=all\" height=\"405\" width=\"720\" style=\"border: 1px solid #464646;\" allowfullscreen allow=\"autoplay\" aria-label=\"Panopto Embedded Video Player\" aria-description=\"COSC 208: Assembly: Functions Q2 Solution\" ></iframe>"
   ]
  },
  {
   "cell_type": "markdown",
   "id": "011fb900-60c2-4330-92d0-d5acc84f2637",
   "metadata": {
    "editable": true,
    "slideshow": {
     "slide_type": "skip"
    },
    "tags": [
     "blank"
    ]
   },
   "source": [
    "<div style=\"height:38em;\"></div>"
   ]
  },
  {
   "cell_type": "markdown",
   "id": "fbd88cd5-a335-46c7-91b9-5b8e155205b6",
   "metadata": {
    "editable": true,
    "slideshow": {
     "slide_type": "skip"
    },
    "tags": [
     "question"
    ]
   },
   "source": [
    "_The following C code was compiled into assembly (using `clang`)._"
   ]
  },
  {
   "cell_type": "code",
   "execution_count": null,
   "id": "19e6e127-15ac-4cca-9b40-6a6d0ae61ad5",
   "metadata": {
    "editable": true,
    "slideshow": {
     "slide_type": "slide"
    },
    "tags": [
     "question"
    ]
   },
   "outputs": [],
   "source": [
    "/* 1*/  int sum(int a, int b) {\n",
    "/* 2*/      int c = a + b;\n",
    "/* 3*/      return c;\n",
    "/* 4*/  }\n",
    "/* 5*/  int triple(int u, int v) {\n",
    "/* 6*/      int r = 3;\n",
    "/* 7*/      int s = sum(u, v);\n",
    "/* 8*/      int t = s * r;\n",
    "/* 9*/      return t;\n",
    "/*10*/  }\n",
    "/*11*/  int main() {\n",
    "/*12*/      int x = 2;\n",
    "/*13*/      int y = 3;\n",
    "/*14*/      int z = triple(x, y);\n",
    "/*15*/      return z;\n",
    "/*16*/  }"
   ]
  },
  {
   "cell_type": "markdown",
   "id": "b95f0e28-dece-4bfb-b774-c1d1a2dd8b27",
   "metadata": {
    "editable": true,
    "slideshow": {
     "slide_type": "skip"
    },
    "tags": [
     "question"
    ]
   },
   "source": [
    "Q3: _For each line of assembly, indicate which original line of C code the instruction was derived from._"
   ]
  },
  {
   "cell_type": "markdown",
   "id": "50f9875f-14d1-481f-8c0e-fc746310dca0",
   "metadata": {
    "editable": true,
    "slideshow": {
     "slide_type": "skip"
    },
    "tags": [
     "answer"
    ]
   },
   "source": [
    "```\n",
    "0000000000400544 <sum>:\n",
    "    400544:    d10043ff     sub    sp, sp, #0x10   // 1 \n",
    "    400548:    b9000fe0     str    w0, [sp, #12]   // 1\n",
    "    40054c:    b9000be1     str    w1, [sp, #8]    // 1\n",
    "    400550:    b9400fe8     ldr    w8, [sp, #12]   // 2\n",
    "    400554:    b9400be9     ldr    w9, [sp, #8]    // 2\n",
    "    400558:    0b090108     add    w8, w8, w9      // 2\n",
    "    40055c:    b90007e8     str    w8, [sp, #4]    // 2\n",
    "    400560:    b94007e0     ldr    w0, [sp, #4]    // 3\n",
    "    400564:    910043ff     add    sp, sp, #0x10   // 3\n",
    "    400568:    d65f03c0     ret                    // 3\n",
    "```"
   ]
  },
  {
   "cell_type": "markdown",
   "id": "de9766d2-b5fb-47e8-a93f-4bcc973c4740",
   "metadata": {
    "editable": true,
    "slideshow": {
     "slide_type": "skip"
    },
    "tags": [
     "answer"
    ]
   },
   "source": [
    "```\n",
    "000000000040056c <triple>:\n",
    "    40056c:    d100c3ff     sub    sp, sp, #0x30   // 5\n",
    "    400570:    f90013fe     str    x30, [sp, #32]  // 5\n",
    "    400574:    b9001fe0     str    w0, [sp, #28]   // 5\n",
    "    400578:    b9001be1     str    w1, [sp, #24]   // 5\n",
    "    40057c:    52800068     mov    w8, #0x3        // 6\n",
    "    400580:    b90017e8     str    w8, [sp, #20]   // 6\n",
    "    400584:    b9401fe0     ldr    w0, [sp, #28]   // 7\n",
    "    400588:    b9401be1     ldr    w1, [sp, #24]   // 7\n",
    "    40058c:    97ffffee     bl     400544 <sum>    // 7\n",
    "    400590:    b90013e0     str    w0, [sp, #16]   // 7\n",
    "    400594:    b94013e8     ldr    w8, [sp, #16]   // 8\n",
    "    400598:    b94017e9     ldr    w9, [sp, #20]   // 8\n",
    "    40059c:    1b097d08     mul    w8, w8, w9      // 8\n",
    "    4005a0:    b9000fe8     str    w8, [sp, #12]   // 8\n",
    "    4005a4:    b9400fe0     ldr    w0, [sp, #12]   // 9\n",
    "    4005a8:    f94013fe     ldr    x30, [sp, #32]  // 9\n",
    "    4005ac:    9100c3ff     add    sp, sp, #0x30   // 9\n",
    "    4005b0:    d65f03c0     ret                    // 9\n",
    "```"
   ]
  },
  {
   "cell_type": "markdown",
   "id": "1a423d43-8438-4c85-88b5-beec6cbbd866",
   "metadata": {
    "editable": true,
    "slideshow": {
     "slide_type": "skip"
    },
    "tags": [
     "answer"
    ]
   },
   "source": [
    "```\n",
    "00000000004005b4 <main>:\n",
    "    4005b4:    d10083ff     sub    sp, sp, #0x20   // 11\n",
    "    4005b8:    f9000bfe     str    x30, [sp, #16]  // 11\n",
    "    4005bc:    52800048     mov    w8, #0x2        // 12\n",
    "    4005c0:    b9000be8     str    w8, [sp, #8]    // 12\n",
    "    4005c4:    52800069     mov    w9, #0x3        // 13\n",
    "    4005c8:    b90007e9     str    w9, [sp, #4]    // 13\n",
    "    4005cc:    b9400be0     ldr    w0, [sp, #8]    // 14\n",
    "    4005d0:    b94007e1     ldr    w1, [sp, #4]    // 14\n",
    "    4005d4:    97ffffe5     bl    410056c <triple> // 14\n",
    "    4005d8:    b90003e0     str    w0, [sp]        // 14\n",
    "    4005dc:    b94003e0     ldr    w0, [sp]        // 15\n",
    "    4005e0:    f9400bfe     ldr    x30, [sp, #16]  // 15\n",
    "    4005e4:    910083ff     add    sp, sp, #0x20   // 15\n",
    "    4005e8:    d65f03c0     ret                    // 15\n",
    "```"
   ]
  },
  {
   "cell_type": "markdown",
   "id": "3273dc9d-581e-4c20-9970-0b1b6981e771",
   "metadata": {
    "editable": true,
    "slideshow": {
     "slide_type": ""
    },
    "tags": [
     "blank"
    ]
   },
   "source": [
    "```\n",
    "0000000000400544 <sum>:\n",
    "    400544:    d10043ff     sub    sp, sp, #0x10   // \n",
    "    400548:    b9000fe0     str    w0, [sp, #12]   // \n",
    "    40054c:    b9000be1     str    w1, [sp, #8]    // \n",
    "    400550:    b9400fe8     ldr    w8, [sp, #12]   // \n",
    "    400554:    b9400be9     ldr    w9, [sp, #8]    // \n",
    "    400558:    0b090108     add    w8, w8, w9      // \n",
    "    40055c:    b90007e8     str    w8, [sp, #4]    // \n",
    "    400560:    b94007e0     ldr    w0, [sp, #4]    // \n",
    "    400564:    910043ff     add    sp, sp, #0x10   // \n",
    "    400568:    d65f03c0     ret                    // \n",
    "```"
   ]
  },
  {
   "cell_type": "markdown",
   "id": "4a47cb79-d0d3-49d2-9d80-d9659c940ea2",
   "metadata": {
    "editable": true,
    "slideshow": {
     "slide_type": "subslide"
    },
    "tags": [
     "blank"
    ]
   },
   "source": [
    "```\n",
    "000000000040056c <triple>:\n",
    "    40056c:    d100c3ff     sub    sp, sp, #0x30   // \n",
    "    400570:    f90013fe     str    x30, [sp, #32]  // \n",
    "    400574:    b9001fe0     str    w0, [sp, #28]   // \n",
    "    400578:    b9001be1     str    w1, [sp, #24]   // \n",
    "    40057c:    52800068     mov    w8, #0x3        // \n",
    "    400580:    b90017e8     str    w8, [sp, #20]   // \n",
    "    400584:    b9401fe0     ldr    w0, [sp, #28]   // \n",
    "    400588:    b9401be1     ldr    w1, [sp, #24]   // \n",
    "    40058c:    97ffffee     bl     400544 <sum>    //  \n",
    "    400590:    b90013e0     str    w0, [sp, #16]   // \n",
    "    400594:    b94013e8     ldr    w8, [sp, #16]   // \n",
    "    400598:    b94017e9     ldr    w9, [sp, #20]   // \n",
    "    40059c:    1b097d08     mul    w8, w8, w9      // \n",
    "    4005a0:    b9000fe8     str    w8, [sp, #12]   // \n",
    "```"
   ]
  },
  {
   "cell_type": "markdown",
   "id": "b91f198b-3837-4d54-bd40-d1b2509494e9",
   "metadata": {
    "editable": true,
    "slideshow": {
     "slide_type": ""
    },
    "tags": [
     "blank"
    ]
   },
   "source": [
    "```\n",
    "    4005a4:    b9400fe0     ldr    w0, [sp, #12]   // \n",
    "    4005a8:    f94013fe     ldr    x30, [sp, #32]  // \n",
    "    4005ac:    9100c3ff     add    sp, sp, #0x30   // \n",
    "    4005b0:    d65f03c0     ret                    // \n",
    "```"
   ]
  },
  {
   "cell_type": "markdown",
   "id": "e86f2c2a-1796-44d9-bd9e-b2c6becde256",
   "metadata": {
    "editable": true,
    "slideshow": {
     "slide_type": "subslide"
    },
    "tags": [
     "blank"
    ]
   },
   "source": [
    "```\n",
    "00000000004005b4 <main>:\n",
    "    4005b4:    d10083ff     sub    sp, sp, #0x20   // \n",
    "    4005b8:    f9000bfe     str    x30, [sp, #16]  // \n",
    "    4005bc:    52800048     mov    w8, #0x2        // \n",
    "    4005c0:    b9000be8     str    w8, [sp, #8]    // \n",
    "    4005c4:    52800069     mov    w9, #0x3        // \n",
    "    4005c8:    b90007e9     str    w9, [sp, #4]    // \n",
    "    4005cc:    b9400be0     ldr    w0, [sp, #8]    // \n",
    "    4005d0:    b94007e1     ldr    w1, [sp, #4]    // \n",
    "    4005d4:    97ffffe5     bl     40056c <triple> //  \n",
    "    4005d8:    b90003e0     str    w0, [sp]        // \n",
    "    4005dc:    b94003e0     ldr    w0, [sp]        // \n",
    "    4005e0:    f9400bfe     ldr    x30, [sp, #16]  // \n",
    "    4005e4:    910083ff     add    sp, sp, #0x20   // \n",
    "    4005e8:    d65f03c0     ret                    // \n",
    "```"
   ]
  },
  {
   "cell_type": "markdown",
   "id": "7161173c-1e0b-40c7-8269-484887d22222",
   "metadata": {
    "editable": true,
    "slideshow": {
     "slide_type": "subslide"
    },
    "tags": []
   },
   "source": [
    "Q4: _Assume the registers have the following initial values:_\n",
    "\n",
    "* `pc` = `0x4005B4` \n",
    "* `sp` = `0xFF0`\n",
    "* `x30` = `0x400488`\n",
    " \n",
    "_Draw the contents of the stack and registers after executing the assembly instruction at **0x4005AC**._"
   ]
  },
  {
   "cell_type": "markdown",
   "id": "6e5611ef-394a-4f14-8874-6f92943c4518",
   "metadata": {
    "editable": true,
    "slideshow": {
     "slide_type": "skip"
    },
    "tags": [
     "blank"
    ]
   },
   "source": [
    "<div style=\"height:28em;\"></div>"
   ]
  },
  {
   "cell_type": "markdown",
   "id": "2032db3a-8f2e-48ed-a1fb-12c05c280ef7",
   "metadata": {
    "editable": true,
    "slideshow": {
     "slide_type": "skip"
    },
    "tags": [
     "question"
    ]
   },
   "source": [
    "_The following C code was compiled into assembly (using `clang`)._"
   ]
  },
  {
   "cell_type": "code",
   "execution_count": null,
   "id": "43d30a5d-7c4a-4874-96fb-5321e17e7d6b",
   "metadata": {
    "editable": true,
    "slideshow": {
     "slide_type": "slide"
    },
    "tags": [
     "question"
    ]
   },
   "outputs": [],
   "source": [
    "/* 1*/  int interest_due(int outstanding, int rate) {\n",
    "/* 2*/      int divisor = 1200;\n",
    "/* 3*/      int annual = outstanding * rate;\n",
    "/* 4*/      int monthly = annual / divisor;\n",
    "/* 5*/      return monthly;\n",
    "/* 6*/  }\n",
    "/* 7*/\n",
    "/* 8*/  int make_payment(int outstanding, int payment, int rate) {\n",
    "/* 9*/      int interest = interest_due(outstanding, rate);\n",
    "/*10*/      int principal = payment - interest;\n",
    "/*11*/      if (principal > outstanding) {\n",
    "/*12*/          outstanding = 0;\n",
    "/*13*/      } else {\n",
    "/*14*/          outstanding -= principal;    \n",
    "/*15*/      }\n",
    "/*16*/      return outstanding;\n",
    "/*17*/  }"
   ]
  },
  {
   "cell_type": "markdown",
   "id": "2f342f03-0345-4e8c-83c4-718843acead0",
   "metadata": {
    "editable": true,
    "slideshow": {
     "slide_type": "skip"
    },
    "tags": []
   },
   "source": [
    "Q5: _For each line of assembly, indicate which original line of C code the assembly instruction was derived from._"
   ]
  },
  {
   "cell_type": "markdown",
   "id": "b1e30cc4-2e66-48f8-bc4e-606bd7685475",
   "metadata": {
    "editable": true,
    "slideshow": {
     "slide_type": "skip"
    },
    "tags": [
     "answer"
    ]
   },
   "source": [
    "```\n",
    "00000000004005d4 <interest_due>:\n",
    "  4005d4:    d10083ff     sub    sp, sp, #0x20   // 1\n",
    "  4005d8:    b9001fe0     str    w0, [sp, #28]   // 1\n",
    "  4005dc:    b9001be1     str    w1, [sp, #24]   // 1\n",
    "  4005e0:    52809608     mov    w8, #0x4b0      // 2\n",
    "  4005e4:    b90017e8     str    w8, [sp, #20]   // 2\n",
    "  4005e8:    b9401fe8     ldr    w8, [sp, #28]   // 3\n",
    "  4005ec:    b9401be9     ldr    w9, [sp, #24]   // 3\n",
    "  4005f0:    1b097d08     mul    w8, w8, w9      // 3\n",
    "  4005f4:    b90013e8     str    w8, [sp, #16]   // 3\n",
    "  4005f8:    b94013e8     ldr    w8, [sp, #16]   // 4\n",
    "  4005fc:    b94017e9     ldr    w9, [sp, #20]   // 4\n",
    "  400600:    1ac90d08     sdiv   w8, w8, w9      // 4\n",
    "  400604:    b9000fe8     str    w8, [sp, #12]   // 4\n",
    "  400608:    b9400fe0     ldr    w0, [sp, #12]   // 5\n",
    "  40060c:    910083ff     add    sp, sp, #0x20   // 5\n",
    "  400610:    d65f03c0     ret                    // 5\n",
    "```"
   ]
  },
  {
   "cell_type": "markdown",
   "id": "f3593783-4ff8-4a2c-9b5d-89eb552e81b8",
   "metadata": {
    "editable": true,
    "slideshow": {
     "slide_type": "skip"
    },
    "tags": [
     "answer"
    ]
   },
   "source": [
    "```\n",
    "0000000000400614 <make_payment>:                 \n",
    "  400614:    d100c3ff     sub    sp, sp, #0x30   // 8\n",
    "  400618:    f90013fe     str    x30, [sp, #32]  // 8\n",
    "  40061c:    b9001fe0     str    w0, [sp, #28]   // 8\n",
    "  400620:    b9001be1     str    w1, [sp, #24]   // 8\n",
    "  400624:    b90017e2     str    w2, [sp, #20]   // 8\n",
    "  400628:    b9401fe0     ldr    w0, [sp, #28]   // 9\n",
    "  40062c:    b94017e1     ldr    w1, [sp, #20]   // 9\n",
    "  400630:    97ffffe9     bl     4005d4 <interest_due> // 9\n",
    "  400634:    b90013e0     str    w0, [sp, #16]   // 9\n",
    "  400638:    b9401be8     ldr    w8, [sp, #24]   // 10\n",
    "  40063c:    b94013e9     ldr    w9, [sp, #16]   // 10\n",
    "  400640:    6b090108     subs    w8, w8, w9     // 10\n",
    "  400644:    b9000fe8     str    w8, [sp, #12]   // 10\n",
    "  400648:    b9400fe8     ldr    w8, [sp, #12]   // 11\n",
    "  40064c:    b9401fe9     ldr    w9, [sp, #28]   // 11\n",
    "  400650:    6b09011f     cmp    w8, w9          // 11\n",
    "  400654:    5400006d     b.le   400660 <make_payment+0x4c>  // 11\n",
    "  400658:    b9001fff     str    wzr, [sp, #28]  // 12\n",
    "  40065c:    14000005     b      400670 <make_payment+0x5c>  // 13\n",
    "  400660:    b9400fe8     ldr    w8, [sp, #12]   // 14\n",
    "  400664:    b9401fe9     ldr    w9, [sp, #28]   // 14\n",
    "  400668:    6b080128     subs   w8, w9, w8      // 14\n",
    "  40066c:    b9001fe8     str    w8, [sp, #28]   // 14\n",
    "  400670:    b9401fe0     ldr    w0, [sp, #28]   // 16\n",
    "  400674:    f94013fe     ldr    x30, [sp, #32]  // 16\n",
    "  400678:    9100c3ff     add    sp, sp, #0x30   // 16\n",
    "  40067c:    d65f03c0     ret                    // 16\n",
    "```"
   ]
  },
  {
   "cell_type": "markdown",
   "id": "57f6ff3f-9960-4364-8b1d-291aa91a1a56",
   "metadata": {
    "editable": true,
    "slideshow": {
     "slide_type": "subslide"
    },
    "tags": [
     "blank"
    ]
   },
   "source": [
    "```\n",
    "00000000004005d4 <interest_due>:\n",
    "  4005d4:    d10083ff     sub    sp, sp, #0x20  //\n",
    "  4005d8:    b9001fe0     str    w0, [sp, #28]  //\n",
    "  4005dc:    b9001be1     str    w1, [sp, #24]  //\n",
    "  4005e0:    52809608     mov    w8, #0x4b0     //\n",
    "  4005e4:    b90017e8     str    w8, [sp, #20]  //\n",
    "  4005e8:    b9401fe8     ldr    w8, [sp, #28]  //\n",
    "  4005ec:    b9401be9     ldr    w9, [sp, #24]  //\n",
    "  4005f0:    1b097d08     mul    w8, w8, w9     //\n",
    "  4005f4:    b90013e8     str    w8, [sp, #16]  //\n",
    "  4005f8:    b94013e8     ldr    w8, [sp, #16]  //\n",
    "  4005fc:    b94017e9     ldr    w9, [sp, #20]  //\n",
    "  400600:    1ac90d08     sdiv   w8, w8, w9     //\n",
    "  400604:    b9000fe8     str    w8, [sp, #12]  //\n",
    "  400608:    b9400fe0     ldr    w0, [sp, #12]  //\n",
    "  40060c:    910083ff     add    sp, sp, #0x20  //\n",
    "  400610:    d65f03c0     ret                   //\n",
    "```"
   ]
  },
  {
   "cell_type": "markdown",
   "id": "632f712f-c3bc-4aa7-b01d-b9b0c6ee5bf4",
   "metadata": {
    "editable": true,
    "slideshow": {
     "slide_type": "subslide"
    },
    "tags": [
     "blank"
    ]
   },
   "source": [
    "```\n",
    "0000000000400614 <make_payment>:\n",
    "  400614:    d100c3ff     sub    sp, sp, #0x30   //\n",
    "  400618:    f90013fe     str    x30, [sp, #32]  //\n",
    "  40061c:    b9001fe0     str    w0, [sp, #28]   //\n",
    "  400620:    b9001be1     str    w1, [sp, #24]   //\n",
    "  400624:    b90017e2     str    w2, [sp, #20]   //\n",
    "  400628:    b9401fe0     ldr    w0, [sp, #28]   //\n",
    "  40062c:    b94017e1     ldr    w1, [sp, #20]   //\n",
    "  400630:    97ffffe9     bl     4005d4 <interest_due>  //\n",
    "  400634:    b90013e0     str    w0, [sp, #16]   //\n",
    "```"
   ]
  },
  {
   "cell_type": "markdown",
   "id": "aa56ba05-4446-4028-9e8e-edd9e262c2b0",
   "metadata": {
    "editable": true,
    "slideshow": {
     "slide_type": ""
    },
    "tags": [
     "blank"
    ]
   },
   "source": [
    "```\n",
    "  400638:    b9401be8     ldr    w8, [sp, #24]   //\n",
    "  40063c:    b94013e9     ldr    w9, [sp, #16]   //\n",
    "  400640:    6b090108     subs   w8, w8, w9      //\n",
    "  400644:    b9000fe8     str    w8, [sp, #12]   //\n",
    "  400648:    b9400fe8     ldr    w8, [sp, #12]   //\n",
    "  40064c:    b9401fe9     ldr    w9, [sp, #28]   //\n",
    "  400650:    6b09011f     cmp    w8, w9          //\n",
    "  400654:    5400006d     b.le   400660 <make_payment+0x4c>  //\n",
    "  400658:    b9001fff     str    wzr, [sp, #28]  //\n",
    "  40065c:    14000005     b      400670 <make_payment+0x5c>  //\n",
    "  400660:    b9400fe8     ldr    w8, [sp, #12]   //\n",
    "  400664:    b9401fe9     ldr    w9, [sp, #28]   //\n",
    "  400668:    6b080128     subs   w8, w9, w8      //\n",
    "  40066c:    b9001fe8     str    w8, [sp, #28]   //\n",
    "  400670:    b9401fe0     ldr    w0, [sp, #28]   //\n",
    "  400674:    f94013fe     ldr    x30, [sp, #32]  //\n",
    "  400678:    9100c3ff     add    sp, sp, #0x30   //\n",
    "  40067c:    d65f03c0     ret                    //\n",
    "```"
   ]
  },
  {
   "cell_type": "markdown",
   "id": "cfc174f9-a785-4ff8-b143-4a2e5cfbd012",
   "metadata": {
    "editable": true,
    "slideshow": {
     "slide_type": "subslide"
    },
    "tags": [
     "question"
    ]
   },
   "source": [
    "Q6: _Assume the initial values of the registers are as follows:_\n",
    "* `pc = 0x400614`\n",
    "* `sp = 0xf80`\n",
    "* `w0 = 100000`\n",
    "* `w1 = 500`\n",
    "* `w2 = 3`\n",
    "* `x30 = 0x400400`\n",
    "\n",
    "_Draw the contents of the stack and registers after executing the assembly instruction at **0x40060C**._"
   ]
  },
  {
   "cell_type": "markdown",
   "id": "de2b0e4e-8da2-40fa-be3b-1f7f693af6f1",
   "metadata": {
    "editable": true,
    "slideshow": {
     "slide_type": "skip"
    },
    "tags": [
     "answer"
    ]
   },
   "source": [
    "Final register values:\n",
    "* `pc = 0x400610`\n",
    "* `sp = 0xF50`\n",
    "* `w/x0 = 250`\n",
    "* `w/x1 = 3`\n",
    "* `w/x2 = 3`\n",
    "* `w/x8 = 250`\n",
    "* `w/x9 = 0x4B0`\n",
    "* `x30 = 0x400634`\n",
    "\n",
    "Final stack:\n",
    "```\n",
    "      ┌─────────────────┐   ──╮\n",
    "0xF30 │                 │     │\n",
    "      ├────────┬────────┤     │\n",
    "0xF38 │        │  250   │     │\n",
    "      ├────────┼────────┤     │ months_remain\n",
    "0xF40 │ 300000 │  0x4B0 │     │\n",
    "      ├────────┼────────┤     │\n",
    "0xF48 │   3    │ 100000 │     │\n",
    "sp ─> ├────────┴────────┤   ──┤\n",
    "0xF50 │                 │     │\n",
    "      ├─────────────────┤     │\n",
    "0xF58 │                 │     │\n",
    "      ├────────┬────────┤     │\n",
    "0xF60 │        │   3    │     │\n",
    "      ├────────┼────────┤     │ make_payment\n",
    "0xF68 │   500  │ 100000 │     │\n",
    "      ├────────┴────────┤     │\n",
    "0xF70 │    0x400400     │     │\n",
    "      ├─────────────────┤     │\n",
    "0xF78 │                 │     │\n",
    "      ├─────────────────┤   ──╯\n",
    "0xF80 │                 │\n",
    "      └─────────────────┘\n",
    "```"
   ]
  },
  {
   "cell_type": "markdown",
   "id": "8aa0d8f7-f527-4cf9-9932-0cd0a037ab4f",
   "metadata": {
    "editable": true,
    "slideshow": {
     "slide_type": "skip"
    },
    "tags": [
     "blank"
    ]
   },
   "source": [
    "<div style=\"height:25em;\"></div>"
   ]
  },
  {
   "cell_type": "markdown",
   "id": "1c0e6811-057e-4dfa-acbf-8995df1cf769",
   "metadata": {
    "editable": true,
    "slideshow": {
     "slide_type": "subslide"
    },
    "tags": [
     "question"
    ]
   },
   "source": [
    "Q7: _Create a `make_payment_goto` function that behaves the same as the `make_payment` function but uses `goto` statements, just as a compiler would do when generating assembly code._"
   ]
  },
  {
   "cell_type": "code",
   "execution_count": null,
   "id": "26c25140-ad9e-46f4-89da-eafc478ed978",
   "metadata": {
    "editable": true,
    "slideshow": {
     "slide_type": "skip"
    },
    "tags": [
     "answer"
    ]
   },
   "outputs": [],
   "source": [
    "void make_payment_goto(int outstanding, int payment, int rate) {\n",
    "  int interest = interest_due(outstanding, rate);\n",
    "  int principal = payment - interest);\n",
    "  if (principal <= outstanding)\n",
    "    goto ELSE;\n",
    "  outstanding = 0;\n",
    "  goto END;\n",
    "ELSE:\n",
    "  outstanding == principal;\n",
    "END:\n",
    "  return outstanding;\n",
    "}"
   ]
  },
  {
   "cell_type": "markdown",
   "id": "36852257-c65c-4093-9c4a-a200f922fbc1",
   "metadata": {
    "editable": true,
    "slideshow": {
     "slide_type": "skip"
    },
    "tags": [
     "blank"
    ]
   },
   "source": [
    "<div style=\"height:15em;\"></div>"
   ]
  }
 ],
 "metadata": {
  "kernelspec": {
   "display_name": "C",
   "language": "c",
   "name": "c"
  },
  "language_info": {
   "file_extension": ".c",
   "mimetype": "text/plain",
   "name": "c"
  }
 },
 "nbformat": 4,
 "nbformat_minor": 5
}
