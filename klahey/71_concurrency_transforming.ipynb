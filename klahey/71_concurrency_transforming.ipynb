{
 "cells": [
  {
   "cell_type": "markdown",
   "id": "d4c0cf7a-6741-41de-924b-477e6ac8b4e3",
   "metadata": {
    "editable": true,
    "slideshow": {
     "slide_type": "skip"
    },
    "tags": []
   },
   "source": [
    "# Concurrency: creating multi-threaded programs\n",
    "_COSC 208, Introduction to Computer Systems, Spring 2025_"
   ]
  },
  {
   "cell_type": "markdown",
   "id": "895aef3d-c215-4926-bd85-3ea52162b74c",
   "metadata": {
    "editable": true,
    "slideshow": {
     "slide_type": "slide"
    },
    "tags": []
   },
   "source": [
    "## Creating many threads"
   ]
  },
  {
   "cell_type": "markdown",
   "id": "4bc29a47-833b-49ce-8235-db23bef4841c",
   "metadata": {
    "editable": true,
    "slideshow": {
     "slide_type": "skip"
    },
    "tags": [
     "notes-only"
    ]
   },
   "source": [
    "* Create an array of `pthread_t` and an array of arguments\n",
    "* Call `pthread_create` within a loop\n",
    "* Call `pthread_join` within a separate loop"
   ]
  },
  {
   "cell_type": "markdown",
   "id": "63d236d6-2add-4d1e-92fc-e48847d2c3d2",
   "metadata": {
    "editable": true,
    "slideshow": {
     "slide_type": ""
    },
    "tags": []
   },
   "source": [
    "_Example_"
   ]
  },
  {
   "cell_type": "code",
   "execution_count": 36,
   "id": "54bc7331-0318-4887-a3c6-d65aa46c3e76",
   "metadata": {
    "editable": true,
    "slideshow": {
     "slide_type": ""
    },
    "tags": [
     "worksheet-code-only"
    ]
   },
   "outputs": [
    {
     "name": "stdout",
     "output_type": "stream",
     "text": [
      "I am thread 1\n",
      "I am thread 2\n",
      "I am thread 3\n",
      "I am thread 4\n",
      "I am thread 5\n",
      "All threads finished\n"
     ]
    }
   ],
   "source": [
    "/* 1*/  #include <pthread.h>\n",
    "/* 2*/  #include <stdio.h>\n",
    "/* 3*/  #include <stdlib.h>\n",
    "/* 4*/  #define NUM_THREADS 5\n",
    "/* 5*/  void *simple(void *arg) {\n",
    "/* 6*/      int *id = (int *)arg;\n",
    "/* 7*/      printf(\"I am thread %d\\n\", *id);\n",
    "/* 8*/      return NULL;\n",
    "/* 9*/  }\n",
    "/*10*/  int main() {\n",
    "/*11*/      pthread_t threads[NUM_THREADS];\n",
    "/*12*/      int ids[NUM_THREADS];\n",
    "/*13*/      for (int i = 0; i < NUM_THREADS; i++) {\n",
    "/*14*/          ids[i] = i+1;\n",
    "/*15*/          pthread_create(threads+i, NULL, &simple, ids+i);\n",
    "/*16*/      } \n",
    "/*17*/      for (int i = 0; i < NUM_THREADS; i++) {\n",
    "/*18*/          pthread_join(threads[i], NULL);\n",
    "/*19*/      }\n",
    "/*20*/      printf(\"All threads finished\\n\");\n",
    "/*21*/  }"
   ]
  },
  {
   "cell_type": "markdown",
   "id": "3b56db3b-b471-4253-81a0-2ade6525c220",
   "metadata": {
    "editable": true,
    "slideshow": {
     "slide_type": "slide"
    },
    "tags": []
   },
   "source": [
    "## Returning values from threads"
   ]
  },
  {
   "cell_type": "markdown",
   "id": "3ad0f2ce-c918-4198-9dd9-aba49c6061b9",
   "metadata": {
    "editable": true,
    "slideshow": {
     "slide_type": "skip"
    },
    "tags": [
     "notes-only"
    ]
   },
   "source": [
    "* _When does a thread end?_ — when the function passed to `pthread_create` finishes (i.e., returns)\n",
    "* _What happens to a function's parameters and local variables when the function returns?_ — they no longer exist (i.e., the stack frame is destroyed)\n",
    "* _Where should we store a value that should exist even after a function returns?_ — on the heap\n",
    "* Need to store a thread's return value on the heap\n",
    "* Thread returns a pointer to the value on the heap"
   ]
  },
  {
   "cell_type": "markdown",
   "id": "22858fb0-fcb6-47db-a755-4afb5e36313a",
   "metadata": {
    "editable": true,
    "slideshow": {
     "slide_type": ""
    },
    "tags": []
   },
   "source": [
    "_Example_"
   ]
  },
  {
   "cell_type": "code",
   "execution_count": 20,
   "id": "5d720362-7fea-42c1-99e4-303a7a2f0036",
   "metadata": {
    "editable": true,
    "slideshow": {
     "slide_type": ""
    },
    "tags": [
     "worksheet-code-only"
    ]
   },
   "outputs": [
    {
     "name": "stdout",
     "output_type": "stream",
     "text": [
      "Length: 15\n"
     ]
    }
   ],
   "source": [
    "/* 1*/  #include <stdio.h>\n",
    "/* 2*/  #include <stdlib.h>\n",
    "/* 3*/  #include <string.h>\n",
    "/* 4*/  #include <pthread.h>\n",
    "/* 5*/  void *length(void *arg) {\n",
    "/* 6*/      char *str = (char *)arg;\n",
    "/* 7*/      int *len = malloc(sizeof(int));\n",
    "/* 8*/      *len = strlen(str);\n",
    "/* 9*/      return len;\n",
    "/*10*/  }\n",
    "/*11*/  int main() {\n",
    "/*12*/      pthread_t thread;\n",
    "/*13*/      char *phrase = \"Hello, threads!\";\n",
    "/*14*/      pthread_create(&thread, NULL, &length, phrase);\n",
    "/*15*/      int *result = NULL;\n",
    "/*16*/      pthread_join(thread, (void **)&result);\n",
    "/*17*/      printf(\"Length: %d\\n\", *result);\n",
    "/*18*/      free(result);\n",
    "/*19*/  }"
   ]
  },
  {
   "cell_type": "markdown",
   "id": "754904ca-c5f9-4e78-9656-80b1238f7bdc",
   "metadata": {
    "editable": true,
    "slideshow": {
     "slide_type": "skip"
    },
    "tags": [
     "notes-only"
    ]
   },
   "source": [
    "* `pthread_join` returns `0` if successful, or an error number\n",
    "* To get the pointer returned by the thread, we need to pass a location where the pointer can be stored — i.e., we need to pass a double pointer"
   ]
  },
  {
   "cell_type": "markdown",
   "id": "0435975b-106f-4f94-9bc9-bba9a3a1191e",
   "metadata": {
    "editable": true,
    "slideshow": {
     "slide_type": "slide"
    },
    "tags": []
   },
   "source": [
    "## Writing multi-threaded programs"
   ]
  },
  {
   "cell_type": "markdown",
   "id": "0ebf9e95-8e54-4e60-af4b-59445a5f0eba",
   "metadata": {
    "editable": true,
    "slideshow": {
     "slide_type": ""
    },
    "tags": [
     "question"
    ]
   },
   "source": [
    "Q1: _Write a function called `sum_array` which takes an array of `ARRAY_LEN` integers and returns the sum of the integers. Your function should have the appropriate prototype/implementation to serve as the entry point for a thread. Assume `ARRAY_LEN` is a constant which has been `#define`d._"
   ]
  },
  {
   "cell_type": "markdown",
   "id": "cc105156-fb00-41ef-be6a-10e9fd4ef337",
   "metadata": {
    "editable": true,
    "slideshow": {
     "slide_type": "skip"
    },
    "tags": [
     "blank"
    ]
   },
   "source": [
    "<p style=\"height:25em;\"></p>"
   ]
  },
  {
   "cell_type": "markdown",
   "id": "83bcf657-0c45-46d4-a6ed-4577e0ed0baa",
   "metadata": {
    "editable": true,
    "slideshow": {
     "slide_type": ""
    },
    "tags": [
     "question"
    ]
   },
   "source": [
    "Q2: _Write a function called `sum_matrix` which takes an array of `NUM_ARRAYS` arrays of integers (i.e., an `int **`) and returns the sum of all the integers. The function should create `NUM_ARRAYS` threads, each running the `sum_array` function for a single array of integers. Assume `NUM_ARRAYS` is a constant which has been `#define`d._"
   ]
  },
  {
   "cell_type": "code",
   "execution_count": 2,
   "id": "b4d855f9-738b-42de-8d97-02fe12c032e1",
   "metadata": {
    "editable": true,
    "slideshow": {
     "slide_type": "skip"
    },
    "tags": [
     "answer"
    ]
   },
   "outputs": [
    {
     "name": "stdout",
     "output_type": "stream",
     "text": [
      "10225\n"
     ]
    }
   ],
   "source": [
    "#include <pthread.h>\n",
    "#include <stdio.h>\n",
    "#include <stdlib.h>\n",
    "\n",
    "#define ARRAY_LEN 10\n",
    "#define NUM_ARRAYS 5\n",
    "\n",
    "void *sum_array(void *args) {\n",
    "    int *nums = (int *)args;\n",
    "    int *sum = malloc(sizeof(int));\n",
    "    *sum = 0;\n",
    "    for (int i = 0; i < ARRAY_LEN; i++) {\n",
    "        *sum += nums[i];\n",
    "    }\n",
    "    return sum;\n",
    "}\n",
    "\n",
    "int sum_matrix(int *matrix[]) {\n",
    "    pthread_t threads[NUM_ARRAYS];\n",
    "    for (int i = 0; i < NUM_ARRAYS; i++) {\n",
    "        pthread_create(&(threads[i]), NULL, &sum_array, matrix[i]);\n",
    "    }\n",
    "\n",
    "    int total = 0;\n",
    "    for (int i = 0; i < NUM_ARRAYS; i++) {\n",
    "        int *sum;\n",
    "        pthread_join(threads[i], (void **)(&sum));\n",
    "        total += *sum;\n",
    "        free(sum);\n",
    "    }\n",
    "\n",
    "    return total;\n",
    "}\n",
    "\n",
    "int main() {\n",
    "    int *matrix[NUM_ARRAYS];\n",
    "    for (int i = 0; i < NUM_ARRAYS; i++) {\n",
    "        matrix[i] = malloc(sizeof(int) * ARRAY_LEN);\n",
    "        for (int j = 0; j < ARRAY_LEN; j++) {\n",
    "            matrix[i][j] = i * 100 + j;\n",
    "        }\n",
    "    }\n",
    "\n",
    "    int sum = sum_matrix(matrix);\n",
    "    printf(\"%d\\n\", sum);\n",
    "}"
   ]
  },
  {
   "cell_type": "markdown",
   "id": "9aa9b713-2442-4f38-b5b7-f39b756ca9c1",
   "metadata": {
    "editable": true,
    "slideshow": {
     "slide_type": "skip"
    },
    "tags": [
     "blank"
    ]
   },
   "source": [
    "<p style=\"height:25em;\"></p>"
   ]
  },
  {
   "cell_type": "markdown",
   "id": "0c81bc84-25e9-468b-8193-854b5b75bb76",
   "metadata": {
    "editable": true,
    "slideshow": {
     "slide_type": ""
    },
    "tags": [
     "question"
    ]
   },
   "source": [
    "Q3: _The following partially written program takes an integer (`len`) and a string (`word`) as command-line arguments and creates a thread that calls the `trim` function. Finish writing the code such that the `trim` function returns the first `len` characters of `word`, and the main function prints the returned string after the thread completes._"
   ]
  },
  {
   "cell_type": "code",
   "execution_count": 6,
   "id": "c07ba2a4-229b-4c77-a7bf-fb26d24e0fe0",
   "metadata": {
    "editable": true,
    "slideshow": {
     "slide_type": ""
    },
    "tags": [
     "answer"
    ]
   },
   "outputs": [
    {
     "name": "stdout",
     "output_type": "stream",
     "text": [
      "Dec\n"
     ]
    }
   ],
   "source": [
    "#include <pthread.h>\n",
    "#include <stdio.h>\n",
    "#include <stdlib.h>\n",
    "\n",
    "struct trim_args {\n",
    "    int len;\n",
    "    char *word;\n",
    "};\n",
    "\n",
    "void *trim(void *arg) {\n",
    "    struct trim_args *targs = (struct trim_args *)arg;\n",
    "    char *result = malloc(sizeof(char) * (targs->len + 1));\n",
    "    for (int i = 0; i < targs->len; i++) {\n",
    "        result[i] = targs->word[i];\n",
    "    }\n",
    "    result[targs->len] = '\\0';\n",
    "    return result;\n",
    "}\n",
    "\n",
    "int main(int argc, char *argv[]) {\n",
    "    // Dummy command-line arguments\n",
    "    argc = 3;\n",
    "    argv = malloc(sizeof(char *) * 3);\n",
    "    argv[1] = \"3\";\n",
    "    argv[2] = \"December\";\n",
    "    \n",
    "    if (argc != 3) {\n",
    "        printf(\"Provide an integer and a word\\n\");\n",
    "        return 1;\n",
    "    }\n",
    "    int len = atoi(argv[1]);\n",
    "    char *word = argv[2];\n",
    "    \n",
    "    struct trim_args targs = {len, word};\n",
    "    \n",
    "    pthread_t thr;\n",
    "    pthread_create(&thr, NULL, &trim, &targs);\n",
    "    \n",
    "    char *result = NULL;\n",
    "    pthread_join(thr, (void**) &result);\n",
    "    printf(\"%s\\n\", result);\n",
    "}"
   ]
  },
  {
   "cell_type": "code",
   "execution_count": null,
   "id": "8d6b24f5-7010-4d89-b2a1-f3160affccd9",
   "metadata": {
    "editable": true,
    "slideshow": {
     "slide_type": ""
    },
    "tags": [
     "blank"
    ]
   },
   "outputs": [],
   "source": [
    "#include <pthread.h>\n",
    "#include <stdio.h>\n",
    "#include <stdlib.h>\n",
    "\n",
    "\n",
    "\n",
    "\n",
    "\n",
    "\n",
    "\n",
    "\n",
    "void *trim(void *arg) {\n",
    "\n",
    "    \n",
    "    \n",
    "    \n",
    "    \n",
    "\n",
    "\n",
    "    \n",
    "\n",
    "    \n",
    "    \n",
    "    \n",
    "    \n",
    "    \n",
    "}\n",
    "\n",
    "int main(int argc, char *argv[]) {\n",
    "    if (argc != 3) {\n",
    "        printf(\"Provide an integer and a word\\n\");\n",
    "        return 1;\n",
    "    }\n",
    "    int len = atoi(argv[1]);\n",
    "    char *word = argv[2];\n",
    "    \n",
    "\n",
    "    \n",
    "    \n",
    "    pthread_t thr;\n",
    "    pthread_create(&thr, NULL, &trim, \n",
    "\n",
    "\n",
    "        \n",
    "                   \n",
    "                   \n",
    "                   \n",
    "\n",
    "}"
   ]
  },
  {
   "cell_type": "markdown",
   "id": "e40e0775-2c45-4656-bd3d-ae553b8b7d47",
   "metadata": {
    "editable": true,
    "slideshow": {
     "slide_type": "skip"
    },
    "tags": [
     "notes-only"
    ]
   },
   "source": [
    "## Passing multiple parameters to threads"
   ]
  },
  {
   "cell_type": "markdown",
   "id": "989af2cf-770a-4204-9cac-eed9772c75b9",
   "metadata": {
    "editable": true,
    "slideshow": {
     "slide_type": "skip"
    },
    "tags": [
     "notes-only"
    ]
   },
   "source": [
    "* A thread can only take a single `void *` pointer as a parameter\n",
    "* To pass multiple parameters:\n",
    "    * Define a `struct` that contains a field for each of the parameters\n",
    "    * Allocate space for an instance of the `struct`\n",
    "    * Pass a pointer to the instance to the thread — i.e., as the last parameter in `pthread_create`"
   ]
  },
  {
   "cell_type": "markdown",
   "id": "1f1d7196-80ec-4c5d-b93f-7d8f1a2df1af",
   "metadata": {
    "editable": true,
    "slideshow": {
     "slide_type": "slide"
    },
    "tags": []
   },
   "source": [
    "## Transforming programs to be multi-threaded"
   ]
  },
  {
   "cell_type": "markdown",
   "id": "8bbb49df-6335-4d2b-93e3-4ef30bafb57a",
   "metadata": {
    "slideshow": {
     "slide_type": "skip"
    },
    "tags": [
     "notes-only"
    ]
   },
   "source": [
    "* For-each style loops are natural candidates for threading\n",
    "    * Example: a program that counts the number of occurrences of each vowel within a string\n",
    "    * Another example: a program that counts the longest sequence of each Short Tandem Repeat (STR) in a DNA sequence\n",
    "* Steps\n",
    "    * Move the body of the loop into its own \"worker\" function (if not done already)\n",
    "    * Write a \"wrapper\" function which:\n",
    "        * Has the required signature for a thread function (i.e., takes a single `void *` parameter and returns a void pointer)\n",
    "        * Extracts the argument(s) for the \"worker\" function from the thread function's arguments\n",
    "        * Calls the \"worker\" function\n",
    "        * Prepares the return value from the \"worker\" function to be returned by the thread\n",
    "    * Replace the body of the loop with the creation of threads that execute the \"wrapper\" function\n",
    "    * Add a second loop to wait for all threads to complete"
   ]
  },
  {
   "cell_type": "markdown",
   "id": "05ba3259-968d-463a-ad4a-9298152550e9",
   "metadata": {
    "editable": true,
    "slideshow": {
     "slide_type": "skip"
    },
    "tags": [
     "question"
    ]
   },
   "source": [
    "_Assume you are given the following code:_"
   ]
  },
  {
   "cell_type": "code",
   "execution_count": null,
   "id": "93008551-4e6a-4a24-af1c-1ea57d04d3bb",
   "metadata": {
    "editable": true,
    "slideshow": {
     "slide_type": ""
    },
    "tags": []
   },
   "outputs": [],
   "source": [
    "#include <ctype.h>\n",
    "#include <stdio.h>\n",
    "#include <string.h>\n",
    "int count(char *str, char ch) {\n",
    "    int num = 0;\n",
    "    while (*str != '\\0') {\n",
    "        if (tolower(*str) == ch) {\n",
    "            num++;\n",
    "        }\n",
    "        str++;\n",
    "    }\n",
    "    return num;\n",
    "}\n",
    "int main(int argc, char *argv[]) {\n",
    "    if (argc < 2) {\n",
    "        printf(\"Error: provide a string\\n\");\n",
    "        return 1;\n",
    "    }\n",
    "    char *str = argv[1];\n",
    "    char *vowels = \"aeiou\";\n",
    "    int counts[strlen(vowels)];\n",
    "    for (int i = 0; i < strlen(vowels); i++) {\n",
    "        counts[i] = count(str, vowels[i]);\n",
    "    }\n",
    "\n",
    "    for (int i = 0; i < strlen(vowels); i++) {\n",
    "        printf(\"%c %d\\n\", vowels[i], counts[i]);\n",
    "    }\n",
    "}"
   ]
  },
  {
   "cell_type": "markdown",
   "id": "1bf56549-9412-41f3-b4c5-45e681ed42df",
   "metadata": {
    "editable": true,
    "slideshow": {
     "slide_type": "subslide"
    },
    "tags": []
   },
   "source": [
    "Q4: _Write a function called  `count_wrapper` that has the signature required for a thread function and calls the `count` function. (Hint: you'll need to declare a `struct` that contains all of the parameters required for `count`.)_"
   ]
  },
  {
   "cell_type": "markdown",
   "id": "eb568c6e-9b08-4a3f-a0af-138395bf5bff",
   "metadata": {
    "editable": true,
    "slideshow": {
     "slide_type": "skip"
    },
    "tags": [
     "blank"
    ]
   },
   "source": [
    "<p style=\"height:20em;\"></p>"
   ]
  },
  {
   "cell_type": "markdown",
   "id": "ee52d3f1-2a4d-4a96-908f-a50fcc8208d4",
   "metadata": {
    "editable": true,
    "slideshow": {
     "slide_type": ""
    },
    "tags": []
   },
   "source": [
    "Q5: _Re-write `main` to create/wait for threads that execute `count_wrapper` (instead of calling `count` sequentially)._"
   ]
  },
  {
   "cell_type": "code",
   "execution_count": null,
   "id": "e420a695-08f3-4e12-b954-84640353afb7",
   "metadata": {
    "editable": true,
    "slideshow": {
     "slide_type": "skip"
    },
    "tags": [
     "notes-only"
    ]
   },
   "outputs": [],
   "source": [
    "#include <ctype.h>\n",
    "#include <stdio.h>\n",
    "#include <string.h>\n",
    "#include <pthread.h>\n",
    "int count(char *str, char ch) {\n",
    "    int num = 0;\n",
    "    while (*str != '\\0') {\n",
    "        if (tolower(*str) == ch) {\n",
    "            num++;\n",
    "        }\n",
    "        str++;\n",
    "    }\n",
    "    return num;\n",
    "}\n",
    "struct count_args {\n",
    "    char *str;\n",
    "    char ch;\n",
    "};\n",
    "void *count_wrapper(void *arg) {\n",
    "    struct count_args *cargs = (struct count_args *)arg;\n",
    "    int *result = malloc(sizeof(int));\n",
    "    *result = count(cargs->str, cargs->ch);\n",
    "    return result;\n",
    "}\n",
    "int main(int argc, char *argv[]) {\n",
    "    if (argc < 2) {\n",
    "        printf(\"Error: provide a string\\n\");\n",
    "        return 1;\n",
    "    }\n",
    "    char *str = argv[1];\n",
    "    char *vowels = \"aeiou\";\n",
    "\n",
    "    // Create threads\n",
    "    struct count_args args[strlen(vowels)];\n",
    "    pthread_t threads[strlen(vowels)];\n",
    "    for (int i = 0; i < strlen(vowels); i++) {\n",
    "        args[i].str = str;\n",
    "        args[i].ch = vowels[i];\n",
    "        pthread_create(&(threads[i]), NULL, &count_wrapper, &(args[i]));\n",
    "    }\n",
    "\n",
    "    // Wait for threads\n",
    "    for (int i = 0; i < strlen(vowels); i++) {\n",
    "        int *ptr;\n",
    "        pthread_join(threads[i], (void **)(&ptr));\n",
    "        printf(\"%c %d\\n\", vowels[i], *ptr);\n",
    "    }\n",
    "}"
   ]
  }
 ],
 "metadata": {
  "kernelspec": {
   "display_name": "C",
   "language": "c",
   "name": "c"
  },
  "language_info": {
   "file_extension": ".c",
   "mimetype": "text/plain",
   "name": "c"
  }
 },
 "nbformat": 4,
 "nbformat_minor": 5
}
