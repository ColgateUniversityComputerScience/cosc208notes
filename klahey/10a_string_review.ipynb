{
 "cells": [
  {
   "cell_type": "markdown",
   "id": "766c3265-87a5-4a23-b560-83e011c2ed6b",
   "metadata": {
    "editable": true,
    "slideshow": {
     "slide_type": "slide"
    },
    "tags": []
   },
   "source": [
    "## Data Representation:  More Strings\n",
    "_COSC 208, Introduction to Computer Systems, Spring 2025_"
   ]
  },
  {
   "cell_type": "markdown",
   "id": "ea79433a-39c4-44e8-88e5-c03ac3b81c4f",
   "metadata": {
    "editable": true,
    "slideshow": {
     "slide_type": "subslide"
    },
    "tags": []
   },
   "source": [
    "### Other Resources\n",
    "\n",
    "* For every class, alongside the worksheets, I release slides and notes.  The notes contain the answers to exercises, so it might be wise to wait until after class to look at those.\n",
    "* If you'd like some practice solving strings problems with sophisticated answer checking, sites like LeetCode are great.  There are a bazillion similar sites, so look around."
   ]
  },
  {
   "cell_type": "markdown",
   "id": "683ea720-d012-4b7c-b0ff-9fbb482df860",
   "metadata": {
    "editable": true,
    "slideshow": {
     "slide_type": "subslide"
    },
    "tags": []
   },
   "source": [
    "### More Strings\n",
    "\n",
    "* A string is simply an array of characters\n",
    "* End of the string is denoted by the null character (`\\0`)\n",
    "    ```\n",
    "                  ┏━━━┳━━━┳━━━┳━━━┳━━━┳━━━┳━━━┳━━━━┳━━━┳━━━┓\n",
    "    char s[10] == ┃ C ┃ o ┃ l ┃ g ┃ a ┃ t ┃ e ┃ \\0 ┃   ┃   ┃\n",
    "                  ┗━━━┻━━━┻━━━┻━━━┻━━━┻━━━┻━━━┻━━━━┻━━━┻━━━┛\n",
    "    ```\n",
    "* `strlen` counts the number of characters in an array before a null character.\n",
    "  `strlen(s)` is 7.\n",
    "* `sizeof` determines the size of a given variable or type.\n",
    "  `sizeof(s)` is 10."
   ]
  },
  {
   "cell_type": "markdown",
   "id": "d5a9ee57-1f8e-4769-8124-1ca4fadb3324",
   "metadata": {
    "editable": true,
    "slideshow": {
     "slide_type": "subslide"
    },
    "tags": []
   },
   "source": [
    "Remember that every string needs space for termination:\n",
    "```  \n",
    "void string_func(char string[]) {\n",
    "    char other[strlen(string) + 1];\n",
    "\n",
    "    strcpy(other, string);\n",
    "    // Without the + 1, you'd be writing past the end of the string!\n",
    "```"
   ]
  },
  {
   "cell_type": "markdown",
   "id": "38400906-de54-489e-b04d-98d74bc3679b",
   "metadata": {
    "editable": true,
    "slideshow": {
     "slide_type": "subslide"
    },
    "tags": [
     "question"
    ]
   },
   "source": [
    "Q1: Given the following code, do we use sizeof() or strlen()?"
   ]
  },
  {
   "cell_type": "code",
   "execution_count": null,
   "id": "1ee72d4b-ba55-49f7-bef0-6c0226dcadf7",
   "metadata": {
    "editable": true,
    "slideshow": {
     "slide_type": ""
    },
    "tags": []
   },
   "outputs": [],
   "source": [
    "#include <stdio.h>\n",
    "int main()\n",
    "    char buf[1000];\n",
    "    if (!fgets(buf, ______, stdin)) {\n",
    "        return 1;\n",
    "    }\n",
    "    printf(\"%s\", buf);\n",
    "    return 0;\n",
    "}"
   ]
  },
  {
   "cell_type": "markdown",
   "id": "892fedf5-eec1-460e-b8db-d3d7a265b5c2",
   "metadata": {
    "editable": true,
    "slideshow": {
     "slide_type": "skip"
    },
    "tags": [
     "blank"
    ]
   },
   "source": [
    "<div style=\"height:2em;\"></div>"
   ]
  },
  {
   "cell_type": "markdown",
   "id": "2fa83c86-4abc-4cc3-b17b-7680385201bc",
   "metadata": {
    "editable": true,
    "slideshow": {
     "slide_type": "subslide"
    },
    "tags": [
     "question"
    ]
   },
   "source": [
    "Q2: Given the following code, do we use sizeof() or strlen()?"
   ]
  },
  {
   "cell_type": "code",
   "execution_count": null,
   "id": "ac62a751-d78d-42c2-b36d-f6b189898135",
   "metadata": {
    "editable": true,
    "slideshow": {
     "slide_type": ""
    },
    "tags": []
   },
   "outputs": [],
   "source": [
    "#include <stdio.h>\n",
    "int main()\n",
    "    char buf[] = \"Colgate\";\n",
    "    char temp[_____];\n",
    "    strcpy(temp, buf);\n",
    "    printf(\"%s\\n\", temp);\n",
    "    return 0;\n",
    "}"
   ]
  },
  {
   "cell_type": "markdown",
   "id": "7525b7dd-7830-4c98-bbda-8887c927badf",
   "metadata": {
    "editable": true,
    "slideshow": {
     "slide_type": "subslide"
    },
    "tags": [
     "question"
    ]
   },
   "source": [
    "Q3: Develop a function `camel()` that takes a string as an argument and should update the string to: (1) capitalize the letter immediately following each underscore, and (2) remove all underscores. For example, `camel(\"one_two\")` should update the string to \"oneTwo\". Similarly `camel(\"example_string_to_modify\")` should update the string to `\"exampleStringToModify\"`.\n",
    "\n",
    "You can assume the string will: (1) only contain lowercase letters and underscores, (2) not start or end with underscores, and (3) not contain two consecutive underscores."
   ]
  },
  {
   "cell_type": "code",
   "execution_count": 3,
   "id": "fb2e89d2-5546-48a2-ba24-2d3d0fb7e677",
   "metadata": {
    "editable": true,
    "slideshow": {
     "slide_type": "skip"
    },
    "tags": [
     "answer"
    ]
   },
   "outputs": [
    {
     "name": "stdout",
     "output_type": "stream",
     "text": [
      "camel(example_string_to_modify) is exampleStringToModify\n"
     ]
    }
   ],
   "source": [
    "#include <stdio.h>\n",
    "#include <string.h>\n",
    "#include <ctype.h>\n",
    "\n",
    "void camel(char s[]) {\n",
    "    int store = 0;\n",
    "    for (int i = 0; s[i] != 0; i++) {\n",
    "        if (s[i] != '_') {\n",
    "            s[store] = s[i];\n",
    "            store++;\n",
    "        } else {\n",
    "            s[i + 1] = toupper(s[i + 1]);\n",
    "        }\n",
    "    }\n",
    "    s[store] = '\\0';\n",
    "}\n",
    "// Testing\n",
    "int main() {\n",
    "    char var_name[] = \"example_string_to_modify\";\n",
    "    printf(\"camel(%s) is \", var_name);\n",
    "    camel(var_name);\n",
    "    printf(\"%s\\n\", var_name);\n",
    "}"
   ]
  },
  {
   "cell_type": "markdown",
   "id": "02101f01-b7d6-4a81-acdc-ffbf0d686c3b",
   "metadata": {
    "editable": true,
    "slideshow": {
     "slide_type": "skip"
    },
    "tags": [
     "blank"
    ]
   },
   "source": [
    "<div style=\"height:18em;\"></div>"
   ]
  },
  {
   "cell_type": "markdown",
   "id": "d24e3bc5-545d-43cf-a794-595072b45d81",
   "metadata": {
    "editable": true,
    "slideshow": {
     "slide_type": "subslide"
    },
    "tags": [
     "question"
    ]
   },
   "source": [
    "Q4:  Write a function called `mirror` that takes a string as an argument and modifies the string in place such that the first half of the string is mirrored in the second half of the string. For example, `\"bit\"` becomes `\"bib\"`, `\"nose\"` becomes `\"noon\"`, `\"madly\"` becomes `\"madam\"`, `\"hanger\"` becomes `\"hannah\"`, etc.\n",
    "\n",
    "That is, you’ll copy the start of the string to the end, reversing until you meet in the middle."
   ]
  },
  {
   "cell_type": "code",
   "execution_count": 10,
   "id": "ab7d2e04-3a93-440c-81cf-500bbbb4fb87",
   "metadata": {
    "editable": true,
    "slideshow": {
     "slide_type": "skip"
    },
    "tags": [
     "answer"
    ]
   },
   "outputs": [
    {
     "name": "stdout",
     "output_type": "stream",
     "text": [
      "mirror(hanger) is hannah\n"
     ]
    }
   ],
   "source": [
    "#include <stdio.h>\n",
    "#include <string.h>\n",
    "void mirror(char str[]) {\n",
    "    int start = 0;\n",
    "    int end = strlen(str) - 1;\n",
    "    while (start < end) {\n",
    "        str[end] = str[start];\n",
    "        start++;\n",
    "        end--;\n",
    "    }\n",
    "}\n",
    "// Testing\n",
    "int main() {\n",
    "    char phrase[] = \"hanger\";\n",
    "    printf(\"mirror(%s) is \", phrase);\n",
    "    mirror(phrase);\n",
    "    printf(\"%s\\n\", phrase);\n",
    "}"
   ]
  }
 ],
 "metadata": {
  "kernelspec": {
   "display_name": "C",
   "language": "c",
   "name": "c"
  },
  "language_info": {
   "file_extension": ".c",
   "mimetype": "text/plain",
   "name": "c"
  }
 },
 "nbformat": 4,
 "nbformat_minor": 5
}
