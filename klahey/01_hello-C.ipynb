{
 "cells": [
  {
   "cell_type": "markdown",
   "id": "27238286-82f8-4b20-9519-25e5c0306d19",
   "metadata": {
    "editable": true,
    "slideshow": {
     "slide_type": "skip"
    },
    "tags": []
   },
   "source": [
    "# Hello: C\n",
    "_COSC 208, Introduction to Computer Systems, Spring 2025_"
   ]
  },
  {
   "cell_type": "markdown",
   "id": "0b9670ce-4f41-42c5-8f64-3b012fa73629",
   "metadata": {
    "editable": true,
    "slideshow": {
     "slide_type": "skip"
    },
    "tags": []
   },
   "source": [
    "## Announcements\n",
    "* Before Friday's class: Read Dive Into Systems 16.4, 2.9.5\n",
    "* Before Monday's class: Read Dive Into Systems 16.5\n",
    "* Complete \"Getting to know you\" questionnaire – if you haven’t already "
   ]
  },
  {
   "cell_type": "markdown",
   "id": "b09f646e-9c2d-4d03-bfbe-8a6da4d8f55a",
   "metadata": {
    "editable": true,
    "slideshow": {
     "slide_type": "slide"
    },
    "tags": []
   },
   "source": [
    "## Hello, Unix!\n",
    "\n",
    "We'll be working on Raspberry Pis running Linux for most of the labs and projects in this class.\n",
    "\n",
    "Billions of systems the world over run Unix, from IoT sensors to servers powering the cloud to supercomputers."
   ]
  },
  {
   "cell_type": "markdown",
   "id": "b25e6285-dc98-4fa4-a6c4-9e4d82a3f157",
   "metadata": {
    "editable": true,
    "slideshow": {
     "slide_type": "slide"
    },
    "tags": [
     "slides-notes-only"
    ]
   },
   "source": [
    "### Unix Command Line Interface\n",
    "\n",
    "The version of Raspeberry Pi OS (Unix) installed on these systems does not support a GUI.\n",
    "\n",
    "You'll have to log in to these systems remotely and type instructions into the command-line interface (CLI)."
   ]
  },
  {
   "cell_type": "markdown",
   "id": "ee9b3fbe-89dc-4417-9fda-a6dad13badb7",
   "metadata": {
    "editable": true,
    "slideshow": {
     "slide_type": "slide"
    },
    "tags": [
     "slides-notes-only"
    ]
   },
   "source": [
    "### What Do I Need To Know?\n",
    "\n",
    "You'll need to move around the file system, run the compiler to create executables, and execute them.\n",
    "\n",
    "You'll be working on this more in lab, so we'll only cover the basics here."
   ]
  },
  {
   "cell_type": "markdown",
   "id": "32a2bbfd-d401-489a-8774-9fe905097c12",
   "metadata": {
    "editable": true,
    "slideshow": {
     "slide_type": "slide"
    },
    "tags": [
     "slides-notes-only"
    ]
   },
   "source": [
    "### Traversing The File System\n",
    "\n",
    "Let me demonstrate some basic commands on my Raspberry Pi."
   ]
  },
  {
   "cell_type": "markdown",
   "id": "799cdc13-7402-4305-88fd-f394a83c48e1",
   "metadata": {
    "editable": true,
    "slideshow": {
     "slide_type": "skip"
    },
    "tags": [
     "notes-only"
    ]
   },
   "source": [
    "### Demonstration\n",
    "\n",
    "ssh to a random Pi, octopi or handpi\n",
    "% mkdir src\n",
    "% cd src\n",
    "edit a file\n",
    "% gcc -Wall -o executable hello.c\n",
    "% ./executable"
   ]
  },
  {
   "cell_type": "markdown",
   "id": "d2e86b2c-26ba-4f29-bc58-50726d54e80e",
   "metadata": {
    "editable": true,
    "slideshow": {
     "slide_type": "slide"
    },
    "tags": [
     "question"
    ]
   },
   "source": [
    "Q1: How would you get to the directory `/home/kml`?"
   ]
  },
  {
   "cell_type": "markdown",
   "id": "8d57440f-5238-4e08-a455-45ea95329929",
   "metadata": {
    "editable": true,
    "slideshow": {
     "slide_type": "skip"
    },
    "tags": [
     "worksheet-only",
     "blank"
    ]
   },
   "source": [
    "<div style=\"height:2em;\"></div>"
   ]
  },
  {
   "cell_type": "markdown",
   "id": "010c2167-ef4f-444d-bcd1-c0abb6f5613a",
   "metadata": {
    "editable": true,
    "slideshow": {
     "slide_type": "subslide"
    },
    "tags": [
     "question"
    ]
   },
   "source": [
    "Q2:  How could you find out what directory you are in?"
   ]
  },
  {
   "cell_type": "markdown",
   "id": "b0e52ad9-1488-476e-aed4-f271e9ae6cd1",
   "metadata": {
    "editable": true,
    "slideshow": {
     "slide_type": "skip"
    },
    "tags": [
     "worksheet-only",
     "blank"
    ]
   },
   "source": [
    "<div style=\"height:2em;\"></div>"
   ]
  },
  {
   "cell_type": "markdown",
   "id": "3b392fb6-b587-436f-a1ee-da5bec589aa8",
   "metadata": {
    "editable": true,
    "slideshow": {
     "slide_type": "subslide"
    },
    "tags": [
     "question"
    ]
   },
   "source": [
    "Q3:  How do you list the files in a directory?"
   ]
  },
  {
   "cell_type": "markdown",
   "id": "ce6eb2cd-a765-4e74-8be8-0b78b685d99c",
   "metadata": {
    "editable": true,
    "slideshow": {
     "slide_type": "skip"
    },
    "tags": [
     "worksheet-only",
     "blank"
    ]
   },
   "source": [
    "<div style=\"height:2em;\"></div>"
   ]
  },
  {
   "cell_type": "markdown",
   "id": "fd8265a2-e57b-4c78-a32c-87f2c6bdead3",
   "metadata": {
    "editable": true,
    "slideshow": {
     "slide_type": "subslide"
    },
    "tags": [
     "question"
    ]
   },
   "source": [
    "Q4:  How do you compile a program?"
   ]
  },
  {
   "cell_type": "markdown",
   "id": "1fc9b98f-44bb-4fac-9810-ead6f17fb0b0",
   "metadata": {
    "editable": true,
    "slideshow": {
     "slide_type": "skip"
    },
    "tags": [
     "worksheet-only",
     "blank"
    ]
   },
   "source": [
    "<div style=\"height:2em;\"></div>"
   ]
  },
  {
   "cell_type": "markdown",
   "id": "c06f481e-1f1a-4f2b-8325-75077fa75f94",
   "metadata": {
    "editable": true,
    "slideshow": {
     "slide_type": "subslide"
    },
    "tags": [
     "question"
    ]
   },
   "source": [
    "Q5:  How do you execute the program you just compiled?"
   ]
  },
  {
   "cell_type": "markdown",
   "id": "facba48a-113f-4fef-8083-8636e1bd85d2",
   "metadata": {
    "editable": true,
    "slideshow": {
     "slide_type": "skip"
    },
    "tags": [
     "worksheet-only",
     "blank"
    ]
   },
   "source": [
    "<div style=\"height:2em;\"></div>"
   ]
  },
  {
   "cell_type": "markdown",
   "id": "9dc0b0fe-ef0f-4964-9dd2-863e309dac7a",
   "metadata": {
    "editable": true,
    "slideshow": {
     "slide_type": "slide"
    },
    "tags": [
     "question",
     "slides-notes-only"
    ]
   },
   "source": [
    "### Why do I care?\n",
    "\n",
    "Put those commands into a file, and you can run all of them at once, any time you want."
   ]
  },
  {
   "cell_type": "markdown",
   "id": "d2e95c16-43e7-4505-aca0-3b4be4edee2f",
   "metadata": {
    "editable": true,
    "slideshow": {
     "slide_type": "slide"
    },
    "tags": [
     "question",
     "slides-notes-only"
    ]
   },
   "source": [
    "### So what?\n",
    "\n",
    "Ask me again when you have to do the same thing on 10,000 servers, and quickly.\n",
    "\n",
    "(Or, more practically for you, when you want to run a series of tests on your programming project to make sure it's working correctly.)"
   ]
  },
  {
   "cell_type": "markdown",
   "id": "ec5c32c0-760f-4300-8eb8-d45c1c3b8b09",
   "metadata": {
    "editable": true,
    "slideshow": {
     "slide_type": "skip"
    },
    "tags": [
     "worksheet-only",
     "blank"
    ]
   },
   "source": [
    "<div style=\"height:8em;\"></div>"
   ]
  },
  {
   "cell_type": "markdown",
   "id": "be0baa5d-5185-46c8-a59b-69b44cd6461d",
   "metadata": {
    "editable": true,
    "slideshow": {
     "slide_type": "slide"
    },
    "tags": [
     "question"
    ]
   },
   "source": [
    "## Hello, C\n",
    "Q1: Write a C program that prints \"Hello, C!\""
   ]
  },
  {
   "cell_type": "code",
   "execution_count": 3,
   "id": "44bb68c6-f0df-45a9-bbe6-04e59475c90e",
   "metadata": {
    "editable": true,
    "slideshow": {
     "slide_type": "skip"
    },
    "tags": [
     "notes-only",
     "answer"
    ]
   },
   "outputs": [
    {
     "name": "stdout",
     "output_type": "stream",
     "text": [
      "Hello, C!\n"
     ]
    }
   ],
   "source": [
    "#include <stdio.h>\n",
    "int main() {\n",
    "    printf(\"Hello, C!\\n\");\n",
    "    return 0;\n",
    "}"
   ]
  },
  {
   "cell_type": "markdown",
   "id": "e1d79057-5e89-446f-b211-183a10c9a6e3",
   "metadata": {
    "editable": true,
    "slideshow": {
     "slide_type": "subslide"
    },
    "tags": [
     "question",
     "slides-notes-only"
    ]
   },
   "source": [
    "### Why study C?\n",
    "\n",
    "C is the ancestor of both Python and Java.\n",
    "\n",
    "It's a super-simple language, which doesn't hide as much of what's going on inside the operating system and processor.\n",
    "\n",
    "It is pretty efficient."
   ]
  },
  {
   "cell_type": "markdown",
   "id": "dee9c038-04d0-4605-8eb2-e7307e325699",
   "metadata": {
    "editable": true,
    "slideshow": {
     "slide_type": "subslide"
    },
    "tags": [
     "question",
     "slides-notes-only"
    ]
   },
   "source": [
    "### What is written in C?\n",
    "\n",
    "The Linux kernel, 30-plus million lines of code, is mostly written in C.\n",
    "\n",
    "Lots of other low-level software that has to deal with hardware is written in C."
   ]
  },
  {
   "cell_type": "markdown",
   "id": "fa13ab5d-b0e0-4808-9145-86784f46549e",
   "metadata": {
    "editable": true,
    "slideshow": {
     "slide_type": "skip"
    },
    "tags": [
     "worksheet-only",
     "blank"
    ]
   },
   "source": [
    "<div style=\"height:10em;\"></div>"
   ]
  },
  {
   "cell_type": "markdown",
   "id": "10c98bd9-e2d3-4312-a402-804ecf67c83e",
   "metadata": {
    "editable": true,
    "slideshow": {
     "slide_type": "skip"
    },
    "tags": [
     "notes-only"
    ]
   },
   "source": [
    "* _How do you compile the program?_\n",
    "```bash\n",
    "$ gcc -Wall -Werror -o hello hello.c\n",
    "```\n",
    "* _How do you run the program?_\n",
    "```bash\n",
    "$ ./hello\n",
    "```"
   ]
  },
  {
   "cell_type": "markdown",
   "id": "fe6f16e7-e2f6-4166-9a32-173bec203023",
   "metadata": {
    "editable": true,
    "slideshow": {
     "slide_type": "slide"
    },
    "tags": []
   },
   "source": [
    "## Variables and operators"
   ]
  },
  {
   "cell_type": "markdown",
   "id": "b64c3ec5-9975-48c6-bf71-e18ed432787d",
   "metadata": {
    "editable": true,
    "slideshow": {
     "slide_type": "slide"
    },
    "tags": [
     "notes-only"
    ]
   },
   "source": [
    "* Most common variable types – `char` and `int`\n",
    "* Declare (local) variables within functions; avoid declaring (global) variables outside of functions\n",
    "* C does not initialize local variables => assign an initial value when a variable is declared"
   ]
  },
  {
   "cell_type": "markdown",
   "id": "5a54c3b0-1281-4b04-a387-d1d5aa66c9a6",
   "metadata": {
    "editable": true,
    "slideshow": {
     "slide_type": "subslide"
    },
    "tags": [
     "notes-only"
    ]
   },
   "source": [
    "* _How would I increment the number stored in a variable `x` by `1`?_\n",
    "    * `x = x + 1`\n",
    "    * `x += 1`\n",
    "    * `x++`\n",
    "    * `++x` – rarely used"
   ]
  },
  {
   "cell_type": "markdown",
   "id": "2517ac4d-0dd6-422f-b977-0233b4cbc474",
   "metadata": {
    "editable": true,
    "slideshow": {
     "slide_type": "subslide"
    },
    "tags": [
     "question"
    ]
   },
   "source": [
    "_What is the output of each of the following programs?_"
   ]
  },
  {
   "cell_type": "code",
   "execution_count": 2,
   "id": "2c9762f6-8e20-4c5a-b471-9a6121a80b22",
   "metadata": {
    "editable": true,
    "slideshow": {
     "slide_type": "subslide"
    },
    "tags": [
     "worksheet-code-only",
     "question"
    ]
   },
   "outputs": [
    {
     "name": "stdout",
     "output_type": "stream",
     "text": [
      "6 2\n",
      "4 2\n",
      "3 10\n"
     ]
    }
   ],
   "source": [
    "//Q2\n",
    "#include <stdio.h>\n",
    "int main() {\n",
    "    int x = 1;\n",
    "    int y = 2;\n",
    "    x = x+5;\n",
    "    printf(\"%d %d\\n\", x, y);\n",
    "    x = y*2;\n",
    "    printf(\"%d %d\\n\", x, y);\n",
    "    y *= 5;\n",
    "    x--;\n",
    "    printf(\"%d %d\\n\", x, y);\n",
    "}"
   ]
  },
  {
   "cell_type": "markdown",
   "id": "dabaa5fb-34c9-40ed-afab-2a597bf8e193",
   "metadata": {
    "tags": [
     "worksheet-only",
     "blank"
    ]
   },
   "source": [
    "<div style=\"height:5em;\"></div>"
   ]
  },
  {
   "cell_type": "code",
   "execution_count": 3,
   "id": "540cdec9-5847-46ca-bb70-a9da17cb94ef",
   "metadata": {
    "editable": true,
    "slideshow": {
     "slide_type": "subslide"
    },
    "tags": [
     "worksheet-code-only",
     "question"
    ]
   },
   "outputs": [
    {
     "name": "stdout",
     "output_type": "stream",
     "text": [
      "2 1\n"
     ]
    }
   ],
   "source": [
    "//Q3\n",
    "#include <stdio.h>\n",
    "int main() {\n",
    "    int x = 5;\n",
    "    int y = x/2;\n",
    "    int z = x%2;\n",
    "    printf(\"%d %d\\n\", y, z);\n",
    "}"
   ]
  },
  {
   "cell_type": "markdown",
   "id": "9c31ae64-22e4-4e86-b1f1-cf5979573198",
   "metadata": {
    "editable": true,
    "slideshow": {
     "slide_type": ""
    },
    "tags": [
     "worksheet-only",
     "blank"
    ]
   },
   "source": [
    "<div style=\"height:6em;\"></div>"
   ]
  },
  {
   "cell_type": "markdown",
   "id": "df8ee455-e3ea-46b2-bf63-ee1faf0fff54",
   "metadata": {
    "slideshow": {
     "slide_type": "slide"
    },
    "tags": []
   },
   "source": [
    "## Output"
   ]
  },
  {
   "cell_type": "markdown",
   "id": "f1d1b5b7-4ea5-4e60-84a8-04c7509b24d4",
   "metadata": {
    "editable": true,
    "slideshow": {
     "slide_type": "skip"
    },
    "tags": [
     "notes-only"
    ]
   },
   "source": [
    "* What is the syntax for `printf`?\n",
    "    * `printf(FORMAT_STRING, VALUES, ...);`\n",
    "    * `FORMAT_STRING` is a string constant (sequence of characters surrounded by double quotes) that may optionally include format specifiers\n",
    "    * Format specifiers define how to convert a value to a string\n",
    "        * `%d` decimal (i.e., base 10) number\n",
    "        * `%c` character\n",
    "        * `%x` hexadecimal (i.e., base 16) number\n",
    "        * `%s` string — more on this next week\n",
    "    * After the format string, include a value for each format specifier\n",
    "        * A compile error will occur if the number of format specifiers does not match the number of values\n",
    "        * A compile warning will occur if the value type does not match the format specifier"
   ]
  },
  {
   "cell_type": "markdown",
   "id": "d3a4a1a8-59b3-44d9-b6d5-6e28243fc085",
   "metadata": {
    "editable": true,
    "slideshow": {
     "slide_type": ""
    },
    "tags": [
     "question"
    ]
   },
   "source": [
    "Q4: _Assume the variables `length` and `width` contain the dimensions of a sports field/court. Use `printf` to output the dimensions (e.g., `94ft x 50ft`)_"
   ]
  },
  {
   "cell_type": "code",
   "execution_count": null,
   "id": "56cdd775-c0ed-4da4-adbc-f2a066501aab",
   "metadata": {
    "editable": true,
    "slideshow": {
     "slide_type": "skip"
    },
    "tags": [
     "notes-only",
     "answer"
    ]
   },
   "outputs": [],
   "source": [
    "printf(\"%dft x %dft\\n\", length, width);"
   ]
  },
  {
   "cell_type": "markdown",
   "id": "6151c627-bdd5-4b8d-abea-011af51f33b4",
   "metadata": {
    "editable": true,
    "slideshow": {
     "slide_type": ""
    },
    "tags": [
     "worksheet-only",
     "blank"
    ]
   },
   "source": [
    "<div style=\"height:2em;\"></div>"
   ]
  },
  {
   "cell_type": "markdown",
   "id": "4aefc349-3e67-4a25-8aea-8449e39da49c",
   "metadata": {
    "editable": true,
    "slideshow": {
     "slide_type": ""
    },
    "tags": [
     "question"
    ]
   },
   "source": [
    "Q5: _Assume the variables `first` and `last` contain a patient's first and last initial, and the variables `systolic` and `diastolic` contain the patient's blood pressure readings. Use `printf` to output the patient's initials and blood pressure (e.g., `A.G. 115/70`)_"
   ]
  },
  {
   "cell_type": "code",
   "execution_count": null,
   "id": "11cebc9f-e991-46cf-aff2-f242c9f57605",
   "metadata": {
    "editable": true,
    "slideshow": {
     "slide_type": "skip"
    },
    "tags": [
     "notes-only",
     "answer"
    ]
   },
   "outputs": [],
   "source": [
    "printf(\"%c.%c. %d/%d\\n\", first, last, systolic, diastolic);"
   ]
  },
  {
   "cell_type": "markdown",
   "id": "81655d37-22d3-45db-b4ef-4fc3d772fa5d",
   "metadata": {
    "editable": true,
    "slideshow": {
     "slide_type": ""
    },
    "tags": [
     "worksheet-only",
     "blank"
    ]
   },
   "source": [
    "<div style=\"height:2em;\"></div>"
   ]
  },
  {
   "cell_type": "markdown",
   "id": "3e1cde58-827f-42d7-a872-21d0817e79d6",
   "metadata": {
    "editable": true,
    "slideshow": {
     "slide_type": "subslide"
    },
    "tags": [
     "question"
    ]
   },
   "source": [
    "Q6: _What is the output of the following program?_"
   ]
  },
  {
   "cell_type": "code",
   "execution_count": 1,
   "id": "83eb9ddc-6d3b-4098-8e06-8f3ceb201023",
   "metadata": {
    "editable": true,
    "slideshow": {
     "slide_type": ""
    },
    "tags": [
     "worksheet-code-only",
     "question"
    ]
   },
   "outputs": [
    {
     "name": "stdout",
     "output_type": "stream",
     "text": [
      "F 70\n"
     ]
    }
   ],
   "source": [
    "#include <stdio.h>\n",
    "int main() {\n",
    "    int x = 5;\n",
    "    char y = 'A'; // Equivalent to int value 65\n",
    "    y = y + x;\n",
    "    printf(\"%c %d\\n\", y, y);\n",
    "}"
   ]
  },
  {
   "cell_type": "markdown",
   "id": "706edbca-bb78-4782-8859-a4cb2adaaebb",
   "metadata": {
    "editable": true,
    "slideshow": {
     "slide_type": ""
    },
    "tags": [
     "worksheet-only",
     "blank"
    ]
   },
   "source": [
    "<div style=\"height:2em;\"></div>"
   ]
  },
  {
   "cell_type": "markdown",
   "id": "3ef3dbbb-89bf-42db-9d29-e4321f38f084",
   "metadata": {
    "editable": true,
    "slideshow": {
     "slide_type": "subslide"
    },
    "tags": [
     "question"
    ]
   },
   "source": [
    "Q7: _Assume the variables `year`, `month` and `day` contain the parts of a date. Use `printf` to output the date (e.g., `2024-9-2`)_"
   ]
  },
  {
   "cell_type": "code",
   "execution_count": null,
   "id": "8cd22d32-caea-4e8e-9a26-b2505b03ec2c",
   "metadata": {
    "editable": true,
    "slideshow": {
     "slide_type": "skip"
    },
    "tags": [
     "notes-only",
     "answer"
    ]
   },
   "outputs": [],
   "source": [
    "printf(\"%d-%d-%d\\n\", year, month, day);"
   ]
  },
  {
   "cell_type": "markdown",
   "id": "d7a1840a-2109-485f-89d5-7cfc721511a7",
   "metadata": {
    "editable": true,
    "slideshow": {
     "slide_type": "skip"
    },
    "tags": [
     "worksheet-only",
     "blank"
    ]
   },
   "source": [
    "<div style=\"height:2em;\"></div>"
   ]
  },
  {
   "cell_type": "markdown",
   "id": "dd1df57f-4a9c-41a7-a3fe-5362d8b8a1b7",
   "metadata": {
    "editable": true,
    "slideshow": {
     "slide_type": "subslide"
    },
    "tags": [
     "question"
    ]
   },
   "source": [
    "Q8: _Write a program that computes and displays the number of minutes in a year._"
   ]
  },
  {
   "cell_type": "code",
   "execution_count": 2,
   "id": "29a937f6-137c-4171-a208-d7e3087b5146",
   "metadata": {
    "editable": true,
    "slideshow": {
     "slide_type": "skip"
    },
    "tags": [
     "notes-only",
     "answer"
    ]
   },
   "outputs": [
    {
     "name": "stdout",
     "output_type": "stream",
     "text": [
      "525600 minutes\n"
     ]
    }
   ],
   "source": [
    "#include <stdio.h>\n",
    "int main() {\n",
    "    int minutes = 365 * 24 * 60;\n",
    "    printf(\"%d minutes\\n\", minutes);\n",
    "    return 0;\n",
    "}"
   ]
  },
  {
   "cell_type": "markdown",
   "id": "35d9d642-02d7-4868-bba3-2dfd7d64dac4",
   "metadata": {
    "editable": true,
    "slideshow": {
     "slide_type": "skip"
    },
    "tags": [
     "worksheet-only",
     "blank"
    ]
   },
   "source": [
    "<div style=\"height:10em;\"></div>"
   ]
  },
  {
   "cell_type": "markdown",
   "id": "38e976ad-7bd7-41c7-b611-8bc131e08b28",
   "metadata": {
    "tags": [
     "question"
    ]
   },
   "source": [
    "Q9: _Write a program that prints the number of days, hours, and minutes in a week._"
   ]
  },
  {
   "cell_type": "code",
   "execution_count": 2,
   "id": "cddddc1d-c4ef-4c2d-b23f-d9254858db9b",
   "metadata": {
    "slideshow": {
     "slide_type": "skip"
    },
    "tags": [
     "notes-only",
     "answer"
    ]
   },
   "outputs": [
    {
     "name": "stdout",
     "output_type": "stream",
     "text": [
      "1 week = 7 days = 168 hours = 10080 minutes\n"
     ]
    }
   ],
   "source": [
    "#include <stdio.h>\n",
    "int main() {\n",
    "    int days = 7;\n",
    "    int hours = days * 24;\n",
    "    int minutes = hours * 60;\n",
    "    printf(\"1 week = %d days = %d hours = %d minutes\\n\", days, hours, minutes);\n",
    "}"
   ]
  },
  {
   "cell_type": "markdown",
   "id": "f9c3c6e1-9d9b-430c-b81d-68f13562fb4a",
   "metadata": {
    "editable": true,
    "slideshow": {
     "slide_type": "skip"
    },
    "tags": [
     "worksheet-only",
     "blank"
    ]
   },
   "source": [
    "<div style=\"height:8em;\"></div>"
   ]
  },
  {
   "cell_type": "markdown",
   "id": "c73750da-8ffd-4142-a89e-0e8383268b65",
   "metadata": {
    "editable": true,
    "slideshow": {
     "slide_type": "slide"
    },
    "tags": []
   },
   "source": [
    "## Control structures\n"
   ]
  },
  {
   "cell_type": "markdown",
   "id": "5b619ae7-7ebf-4d93-817a-57859b04de3b",
   "metadata": {
    "editable": true,
    "slideshow": {
     "slide_type": "slide"
    },
    "tags": [
     "notes-only"
    ]
   },
   "source": [
    "* Control structures in C have the same syntax as control structures in Java\n",
    "* _How are `true` and `false` represented in C?_ – `0` is false and any non-zero value (e.g., `13`, `-5`, `'C'`) is true\n",
    "* Curly braces are optional if the body of a conditional, for loop, or while loop is only one line\n",
    "    * But, you should **always** include them to make the code easier to read and reduce the likelihood of future errors"
   ]
  },
  {
   "cell_type": "markdown",
   "id": "e75a6e08-f91c-4b34-a0dc-54f039b3a847",
   "metadata": {
    "editable": true,
    "slideshow": {
     "slide_type": "subslide"
    },
    "tags": [
     "question"
    ]
   },
   "source": [
    "Q10: _Write a program that prints all even numbers from 1 to 10 using a for loop._"
   ]
  },
  {
   "cell_type": "code",
   "execution_count": 9,
   "id": "924c4aeb-8888-41c0-87ab-dc1df51574f1",
   "metadata": {
    "editable": true,
    "slideshow": {
     "slide_type": "skip"
    },
    "tags": [
     "notes-only",
     "answer"
    ]
   },
   "outputs": [
    {
     "name": "stdout",
     "output_type": "stream",
     "text": [
      "2\n",
      "4\n",
      "6\n",
      "8\n",
      "10\n"
     ]
    }
   ],
   "source": [
    "#include <stdio.h>\n",
    "int main() {\n",
    "    for (int i = 2; i <= 10; i+=2) {\n",
    "        printf(\"%d\\n\", i);\n",
    "    }\n",
    "}"
   ]
  },
  {
   "cell_type": "code",
   "execution_count": 33,
   "id": "7d895e85-237b-4127-b039-2c7abc7933b6",
   "metadata": {
    "editable": true,
    "slideshow": {
     "slide_type": "skip"
    },
    "tags": [
     "notes-only",
     "answer"
    ]
   },
   "outputs": [
    {
     "name": "stdout",
     "output_type": "stream",
     "text": [
      "0\n",
      "2\n",
      "4\n",
      "6\n",
      "8\n",
      "10\n"
     ]
    }
   ],
   "source": [
    "// Alternate version\n",
    "#include <stdio.h>\n",
    "int main() {\n",
    "    for (int i = 0; i <= 10; i++) {\n",
    "        if (0 == i % 2) {\n",
    "            printf(\"%d\\n\", i);\n",
    "        }\n",
    "    }\n",
    "}"
   ]
  },
  {
   "cell_type": "markdown",
   "id": "f84ff673-923d-4c7e-9fdb-15dccb88c039",
   "metadata": {
    "slideshow": {
     "slide_type": "skip"
    },
    "tags": [
     "worksheet-only",
     "blank"
    ]
   },
   "source": [
    "<div style=\"height:10em;\"></div>"
   ]
  },
  {
   "cell_type": "markdown",
   "id": "7f19920b-9eae-43e1-be1d-2b741fa7c141",
   "metadata": {
    "editable": true,
    "slideshow": {
     "slide_type": "subslide"
    },
    "tags": [
     "question"
    ]
   },
   "source": [
    "Q11: _Write a program that prints all even numbers from 1 to 10 using a while loop._"
   ]
  },
  {
   "cell_type": "code",
   "execution_count": 12,
   "id": "3ba4c118-d695-48f3-8131-9efaa7f629d5",
   "metadata": {
    "slideshow": {
     "slide_type": "skip"
    },
    "tags": [
     "notes-only",
     "answer"
    ]
   },
   "outputs": [
    {
     "name": "stdout",
     "output_type": "stream",
     "text": [
      "2\n",
      "4\n",
      "6\n",
      "8\n",
      "10\n"
     ]
    }
   ],
   "source": [
    "#include <stdio.h>\n",
    "int main() {\n",
    "    int i = 2;\n",
    "    while (i <= 10) {\n",
    "        printf(\"%d\\n\", i);\n",
    "        i+=2;\n",
    "    }\n",
    "}"
   ]
  },
  {
   "cell_type": "markdown",
   "id": "e7be4cc0-2500-4e25-84e4-d9c8a7f5b901",
   "metadata": {
    "slideshow": {
     "slide_type": "skip"
    },
    "tags": [
     "worksheet-only",
     "blank"
    ]
   },
   "source": [
    "<div style=\"height:10em;\"></div>"
   ]
  },
  {
   "cell_type": "markdown",
   "id": "27175105-54e7-41f6-83dc-7e276ac8477a",
   "metadata": {
    "editable": true,
    "slideshow": {
     "slide_type": "subslide"
    },
    "tags": [
     "question"
    ]
   },
   "source": [
    "Q12: _Write a program that prints all numbers from 1 to 20, except:_\n",
    "* _If the number is divisible by 3 then print `Fizz`_\n",
    "* _If the number is divisible by 5 then print `Buzz`_\n",
    "* _If the number is divisible by 3 and 5, print `FizzBuzz`_"
   ]
  },
  {
   "cell_type": "code",
   "execution_count": 2,
   "id": "89a0ee98-15a9-45fc-8fe2-abf63da9eb2a",
   "metadata": {
    "editable": true,
    "slideshow": {
     "slide_type": "skip"
    },
    "tags": [
     "notes-only",
     "answer"
    ]
   },
   "outputs": [
    {
     "name": "stdout",
     "output_type": "stream",
     "text": [
      "1\n",
      "2\n",
      "Fizz\n",
      "4\n",
      "Buzz\n",
      "Fizz\n",
      "7\n",
      "8\n",
      "Fizz\n",
      "Buzz\n",
      "11\n",
      "Fizz\n",
      "13\n",
      "14\n",
      "FizzBuzz\n",
      "16\n",
      "17\n",
      "Fizz\n",
      "19\n",
      "Buzz\n"
     ]
    }
   ],
   "source": [
    "#include <stdio.h>\n",
    "int main() {\n",
    "    for (int i = 1; i <= 20; i++) {\n",
    "        if (i % 3 == 0 && i % 5 == 0) {\n",
    "            printf(\"FizzBuzz\\n\");\n",
    "        }\n",
    "        else if (i % 5 == 0) {\n",
    "            printf(\"Buzz\\n\");\n",
    "        }\n",
    "        else if (i % 3 == 0) {\n",
    "            printf(\"Fizz\\n\");\n",
    "        }\n",
    "        else {\n",
    "            printf(\"%d\\n\", i);\n",
    "        }\n",
    "    }\n",
    "}"
   ]
  },
  {
   "cell_type": "markdown",
   "id": "6c848f4c-2bea-4a0d-8797-5c5ccf868418",
   "metadata": {
    "editable": true,
    "slideshow": {
     "slide_type": "skip"
    },
    "tags": [
     "worksheet-only",
     "blank"
    ]
   },
   "source": [
    "<div style=\"height:25em;\"></div>"
   ]
  },
  {
   "cell_type": "markdown",
   "id": "2e717136-6894-4d84-a464-451e9099e4df",
   "metadata": {
    "editable": true,
    "slideshow": {
     "slide_type": "subslide"
    },
    "tags": [
     "question"
    ]
   },
   "source": [
    "Q13: _Write a program that prints every letter of the alphabet in upper and lower case: `AaBbCcDd...YyZz`_"
   ]
  },
  {
   "cell_type": "code",
   "execution_count": 23,
   "id": "235bd637-36c0-421e-bd81-86f0d990fff1",
   "metadata": {
    "slideshow": {
     "slide_type": "skip"
    },
    "tags": [
     "notes-only",
     "answer"
    ]
   },
   "outputs": [
    {
     "name": "stdout",
     "output_type": "stream",
     "text": [
      "AaBbCcDdEeFfGgHhIiJjKkLlMmNnOoPpQqRrSsTtUuVvWwXxYyZz\n"
     ]
    }
   ],
   "source": [
    "#include <stdio.h>\n",
    "int main() {\n",
    "    for (char upper='A'; upper <= 'Z'; upper++) {\n",
    "        char lower = upper - 'A' + 'a';\n",
    "        printf(\"%c%c\", upper, lower);\n",
    "    }\n",
    "    printf(\"\\n\");\n",
    "}"
   ]
  },
  {
   "cell_type": "markdown",
   "id": "ae34979b-b0f0-4d4f-bfad-ea6bf691154d",
   "metadata": {
    "slideshow": {
     "slide_type": "skip"
    },
    "tags": [
     "worksheet-only",
     "blank"
    ]
   },
   "source": [
    "<div style=\"height:10em;\"></div>"
   ]
  },
  {
   "cell_type": "markdown",
   "id": "56d8b850-5ec0-4f2d-916a-be77d0dc749c",
   "metadata": {
    "editable": true,
    "slideshow": {
     "slide_type": "subslide"
    },
    "tags": [
     "question"
    ]
   },
   "source": [
    "Q14: _Write a program that prints out the powers of 2 from 2 through 2048._"
   ]
  },
  {
   "cell_type": "code",
   "execution_count": 1,
   "id": "f2d362a3-7727-4feb-a32d-255e53efee46",
   "metadata": {
    "slideshow": {
     "slide_type": "skip"
    },
    "tags": [
     "notes-only",
     "answer"
    ]
   },
   "outputs": [
    {
     "name": "stdout",
     "output_type": "stream",
     "text": [
      "2 4 8 16 32 64 128 256 512 1024 2048 \n"
     ]
    }
   ],
   "source": [
    "#include <stdio.h>\n",
    "#define MAX 2048\n",
    "int main() {\n",
    "    int i = 2;\n",
    "    while (i <= MAX) {\n",
    "        printf(\"%d \", i);\n",
    "        i *= 2;\n",
    "    }\n",
    "    printf(\"\\n\");\n",
    "}"
   ]
  },
  {
   "cell_type": "markdown",
   "id": "b6b02172-dd85-4d4c-9f3a-d47eea46ccc1",
   "metadata": {
    "slideshow": {
     "slide_type": "skip"
    },
    "tags": [
     "worksheet-only",
     "blank"
    ]
   },
   "source": [
    "<div style=\"height:10em;\"></div>"
   ]
  },
  {
   "cell_type": "markdown",
   "id": "948aa1a7-d925-464a-9c37-24f65bfc926f",
   "metadata": {
    "slideshow": {
     "slide_type": "slide"
    },
    "tags": []
   },
   "source": [
    "## Defining functions"
   ]
  },
  {
   "cell_type": "markdown",
   "id": "98bfb7d5-170b-498d-b396-a42e74aafb4b",
   "metadata": {
    "editable": true,
    "slideshow": {
     "slide_type": "subslide"
    },
    "tags": []
   },
   "source": [
    "* _What is the syntax for defining a function?_"
   ]
  },
  {
   "cell_type": "code",
   "execution_count": null,
   "id": "1dd89727-1d59-4ce0-8fd0-07f8834239ed",
   "metadata": {
    "editable": true,
    "slideshow": {
     "slide_type": "subslide"
    },
    "tags": []
   },
   "outputs": [],
   "source": [
    "return-type function-name(parameter-type parameter-name, ...) {\n",
    "    /* STATEMENTS */\n",
    "    return value;\n",
    "}"
   ]
  },
  {
   "cell_type": "markdown",
   "id": "cdcfdd52-cdd8-4283-8780-4b30c5a8b01f",
   "metadata": {
    "editable": true,
    "slideshow": {
     "slide_type": "subslide"
    },
    "tags": []
   },
   "source": [
    "* C compiler must know a function’s return type and the number and type of its parameters before it encounters any calls to that function"
   ]
  },
  {
   "cell_type": "markdown",
   "id": "9e27c556-3f9a-4c44-96c5-f6a36b2d395f",
   "metadata": {
    "editable": true,
    "slideshow": {
     "slide_type": "skip"
    },
    "tags": [
     "slides-notes-only",
     "notes-only"
    ]
   },
   "source": [
    "Example"
   ]
  },
  {
   "cell_type": "code",
   "execution_count": 16,
   "id": "88ff8c86-ef6e-4f63-8bd3-496e877a1eb7",
   "metadata": {
    "editable": true,
    "slideshow": {
     "slide_type": "subslide"
    },
    "tags": [
     "example",
     "slides-notes-only"
    ]
   },
   "outputs": [
    {
     "name": "stderr",
     "output_type": "stream",
     "text": [
      "/var/folders/bd/35sz70xs5837wszrx11bw1yc0000gn/T/tmpi2tm2ej0.c:3:18: error: implicit declaration of function 'add' is invalid in C99 [-Werror,-Wimplicit-function-declaration]\n",
      "    int result = add(1,2); // Compiler doesn't know if this call is valid \n",
      "                 ^\n",
      "1 error generated.\n",
      "[C kernel] GCC exited with code 1, the executable will not be executed"
     ]
    }
   ],
   "source": [
    "#include <stdio.h>\n",
    "int main() {\n",
    "    int result = add(1,2);\n",
    "    printf(\"%d\\n\", result);\n",
    "}\n",
    "int add(int x, int y) {\n",
    "    return x+y;\n",
    "}"
   ]
  },
  {
   "cell_type": "markdown",
   "id": "aeb49e34-d438-4305-aff9-92a656360b88",
   "metadata": {
    "editable": true,
    "slideshow": {
     "slide_type": "subslide"
    },
    "tags": [
     "notes-only"
    ]
   },
   "source": [
    "* Function prototype provides a function’s return type, name, and number and type of its parameters, but not its body"
   ]
  },
  {
   "cell_type": "code",
   "execution_count": null,
   "id": "52479565-84c7-4c2c-9811-df5765667c07",
   "metadata": {
    "editable": true,
    "slideshow": {
     "slide_type": "subslide"
    },
    "tags": [
     "notes-only"
    ]
   },
   "outputs": [],
   "source": [
    "return-type function-name(parameter-types);"
   ]
  },
  {
   "cell_type": "code",
   "execution_count": null,
   "id": "eec1655f-a562-49c7-9fc3-de515d329138",
   "metadata": {
    "editable": true,
    "slideshow": {
     "slide_type": "subslide"
    },
    "tags": [
     "notes-only"
    ]
   },
   "outputs": [],
   "source": [
    "int add(int, int);"
   ]
  },
  {
   "cell_type": "markdown",
   "id": "d3e98f29-e5dd-48a3-990a-c8a40d3d3eca",
   "metadata": {
    "slideshow": {
     "slide_type": "skip"
    },
    "tags": [
     "notes-only"
    ]
   },
   "source": [
    "* C is pass-by-value → changes made to a variable inside a function will not be preserved outside of the function"
   ]
  },
  {
   "cell_type": "markdown",
   "id": "a443c419-5cb4-4697-b93e-f06b11f4d5d5",
   "metadata": {
    "editable": true,
    "slideshow": {
     "slide_type": "slide"
    },
    "tags": [
     "question"
    ]
   },
   "source": [
    "Q15: _In the biological process of cell division, each cell divides into two cells and the process repeats. Write a function called `cells` that takes the number of rounds of cell division that occur and computes the total number of cells that will exist after the specified number of rounds (assuming you started with a single cell)._"
   ]
  },
  {
   "cell_type": "code",
   "execution_count": 7,
   "id": "b3eb574a-d3f8-4b28-ad7c-0d150ff63855",
   "metadata": {
    "slideshow": {
     "slide_type": "skip"
    },
    "tags": [
     "notes-only",
     "answer"
    ]
   },
   "outputs": [],
   "source": [
    "int cells(int rounds) {\n",
    "    int total = 1;\n",
    "    for (int i = 0; i < rounds; i++) {\n",
    "        total = total * 2;\n",
    "    }\n",
    "    return total;\n",
    "}\n",
    "// Testing code\n",
    "#include <assert.h>\n",
    "int main() {\n",
    "    assert(cells(0) == 1);\n",
    "    assert(cells(1) == 2);\n",
    "    assert(cells(8) == 256);\n",
    "}"
   ]
  },
  {
   "cell_type": "markdown",
   "id": "3b47690c-4dc9-4f75-a0ad-e3401e0215a2",
   "metadata": {
    "slideshow": {
     "slide_type": "skip"
    },
    "tags": [
     "worksheet-only",
     "blank"
    ]
   },
   "source": [
    "<div style=\"height:15em;\"></div>"
   ]
  },
  {
   "cell_type": "markdown",
   "id": "3b778a3d-05ad-4499-be74-5b275e77e0a6",
   "metadata": {
    "editable": true,
    "slideshow": {
     "slide_type": "subslide"
    },
    "tags": [
     "question"
    ]
   },
   "source": [
    "Q16: _Write a function called `rounds` that takes the number of cells that should exist and computes the number of rounds of cell division that must occur to have at least that many cells (assuming you started with a single cell)._"
   ]
  },
  {
   "cell_type": "code",
   "execution_count": 9,
   "id": "59530c5d-d297-4a92-ad30-8471bf104f1b",
   "metadata": {
    "slideshow": {
     "slide_type": "skip"
    },
    "tags": [
     "notes-only",
     "answer"
    ]
   },
   "outputs": [],
   "source": [
    "int rounds(int cells) {\n",
    "    int total = 1;\n",
    "    int rounds = 0;\n",
    "    while (total < cells) {\n",
    "        total *= 2;\n",
    "        rounds++;\n",
    "    }\n",
    "    return rounds;\n",
    "}\n",
    "// Testing code\n",
    "#include <assert.h>\n",
    "int main() {\n",
    "    assert(rounds(1) == 0);\n",
    "    assert(rounds(2) == 1);\n",
    "    assert(rounds(250) == 8);\n",
    "    assert(rounds(256) == 8);\n",
    "}"
   ]
  },
  {
   "cell_type": "markdown",
   "id": "64c4933d-a1e4-4842-9024-f88fdf04cb2d",
   "metadata": {
    "slideshow": {
     "slide_type": "skip"
    },
    "tags": [
     "worksheet-only",
     "blank"
    ]
   },
   "source": [
    "<div style=\"height:15em;\"></div>"
   ]
  },
  {
   "cell_type": "markdown",
   "id": "768d17fa-15d1-4008-9a2e-2d11b4f09f10",
   "metadata": {
    "editable": true,
    "slideshow": {
     "slide_type": "subslide"
    },
    "tags": [
     "question"
    ]
   },
   "source": [
    "Q17: _Write a function called `isletter` that takes a character and returns `1` if the character is a letter, or `0` otherwise._"
   ]
  },
  {
   "cell_type": "code",
   "execution_count": null,
   "id": "849c65b5-8360-4286-8f8b-ec8d4105baee",
   "metadata": {
    "slideshow": {
     "slide_type": "skip"
    },
    "tags": [
     "notes-only",
     "answer"
    ]
   },
   "outputs": [
    {
     "name": "stdout",
     "output_type": "stream",
     "text": [
      "Is m a letter? 1\n",
      "Is ! a letter? 0\n"
     ]
    }
   ],
   "source": [
    "#include <stdio.h>\n",
    "int isletter(char ch) {\n",
    "    if (ch >= 'A' && ch <= 'Z') { // Uppercase letter\n",
    "        return 1;\n",
    "    } else if (ch >= 'a' && ch <= 'z') { // Lowercase letter\n",
    "        return 1;\n",
    "    } else { // Not a letter\n",
    "        return 0;\n",
    "    }\n",
    "}\n",
    "// Testing\n",
    "int main() {\n",
    "    printf(\"Is %c a letter? %d\\n\", 'm', isletter('m'));\n",
    "    printf(\"Is %c a letter? %d\\n\", '!', isletter('!'));\n",
    "}"
   ]
  },
  {
   "cell_type": "markdown",
   "id": "2d549e69-649b-4008-9f9f-ed1ee481c1c1",
   "metadata": {
    "slideshow": {
     "slide_type": "skip"
    },
    "tags": [
     "worksheet-only",
     "blank"
    ]
   },
   "source": [
    "<div style=\"height:15em;\"></div>"
   ]
  },
  {
   "cell_type": "markdown",
   "id": "1d61eff9-32a7-4771-9739-e863acebefe5",
   "metadata": {
    "editable": true,
    "slideshow": {
     "slide_type": "subslide"
    },
    "tags": [
     "question"
    ]
   },
   "source": [
    "Q18: _Write a function called `flipcase` that takes a letter and returns the letter in the opposite case. If the character is not a letter, then return the character unchanged._"
   ]
  },
  {
   "cell_type": "code",
   "execution_count": 7,
   "id": "afb9eda1-a441-48a4-b7e5-210f1023e40d",
   "metadata": {
    "editable": true,
    "slideshow": {
     "slide_type": "skip"
    },
    "tags": [
     "notes-only",
     "answer"
    ]
   },
   "outputs": [
    {
     "name": "stdout",
     "output_type": "stream",
     "text": [
      "d flipped to D\n",
      "F flipped to f\n"
     ]
    }
   ],
   "source": [
    "#include <stdio.h>\n",
    "char flipcase(char ch) {\n",
    "    if (ch >= 'A' && ch <= 'Z') { // Uppercase to lowercase\n",
    "        return ch - 'A' + 'a';\n",
    "    } else if (ch >= 'a' && ch <= 'z') { // Lowercase to uppercase\n",
    "        return ch - 'a' + 'A';\n",
    "    } else { // Not a letter\n",
    "        return ch;\n",
    "    }\n",
    "}\n",
    "// Testing\n",
    "int main() {\n",
    "    printf(\"%c flipped to %c\\n\", 'd', 'D');\n",
    "    printf(\"%c flipped to %c\\n\", 'F', 'f');\n",
    "}"
   ]
  },
  {
   "cell_type": "markdown",
   "id": "62b6862b-7360-4924-880e-b477a882e5d1",
   "metadata": {
    "editable": true,
    "slideshow": {
     "slide_type": "skip"
    },
    "tags": [
     "worksheet-only",
     "blank"
    ]
   },
   "source": [
    "<div style=\"height:12em;\"></div>"
   ]
  },
  {
   "cell_type": "markdown",
   "id": "87a6cd6b-40f8-46c9-948c-37a877361329",
   "metadata": {
    "editable": true,
    "slideshow": {
     "slide_type": "subslide"
    },
    "tags": [
     "question"
    ]
   },
   "source": [
    "Q19: _Write a function called `floorm` that takes two integers and rounds down the first integer to the closest multiple of the second integer._"
   ]
  },
  {
   "cell_type": "code",
   "execution_count": null,
   "id": "b1499f14-b393-4d46-b2d6-717fec2576cb",
   "metadata": {
    "slideshow": {
     "slide_type": "skip"
    },
    "tags": [
     "notes-only",
     "answer"
    ]
   },
   "outputs": [
    {
     "name": "stdout",
     "output_type": "stream",
     "text": [
      "The closest 5-multiple of 13 is 10\n",
      "The closest 3-multiple of 9 is 9\n"
     ]
    }
   ],
   "source": [
    "#include <stdio.h>\n",
    "int floorm(int num, int multiple) {\n",
    "    return num - (num % multiple);\n",
    "}\n",
    "// Testing\n",
    "int main() {\n",
    "    printf(\"The closest %d-multiple of %d is %d\\n\", 5, 13, floorm(13, 5));\n",
    "    printf(\"The closest %d-multiple of %d is %d\\n\", 3, 9, floorm(9, 3));\n",
    "}"
   ]
  },
  {
   "cell_type": "markdown",
   "id": "ac56d03e-96c0-4ab4-b0f5-b9ca3e9bed96",
   "metadata": {
    "slideshow": {
     "slide_type": "skip"
    },
    "tags": [
     "worksheet-only",
     "blank"
    ]
   },
   "source": [
    "<div style=\"height:12em;\"></div>"
   ]
  },
  {
   "cell_type": "markdown",
   "id": "98c96f6e-71f6-4ac8-84ac-7a82e1eae382",
   "metadata": {
    "editable": true,
    "jp-MarkdownHeadingCollapsed": true,
    "slideshow": {
     "slide_type": "subslide"
    },
    "tags": [
     "question"
    ]
   },
   "source": [
    "Q20: _Write a function called `print_x` that takes an integer n that prints the letter `X` n lines high and n characters wide. You can assume n is an odd number. For example, if n = 5, the program's output would be:_\n",
    "```\n",
    "\\   /\n",
    " \\ / \n",
    "  X  \n",
    " / \\ \n",
    "/   \\\n",
    "```"
   ]
  },
  {
   "cell_type": "code",
   "execution_count": 2,
   "id": "7715520d-d856-4790-b8bf-bcc5f1f00184",
   "metadata": {
    "editable": true,
    "slideshow": {
     "slide_type": "skip"
    },
    "tags": [
     "notes-only",
     "answer"
    ]
   },
   "outputs": [
    {
     "name": "stdout",
     "output_type": "stream",
     "text": [
      "\\ /\n",
      " X \n",
      "/ \\\n",
      "\\   /\n",
      " \\ / \n",
      "  X  \n",
      " / \\ \n",
      "/   \\\n"
     ]
    }
   ],
   "source": [
    "#include <stdio.h>\n",
    "void print_x_helper(int n, int r) {\n",
    "    for (int c = 0; c < n; c++) {\n",
    "        if (c == r) {\n",
    "            printf(\"\\\\\");\n",
    "        }\n",
    "        else if (c == n-1-r) {\n",
    "            printf(\"/\");\n",
    "        }\n",
    "        else {\n",
    "            printf(\" \" );\n",
    "        }\n",
    "    }\n",
    "    printf(\"\\n\");\n",
    "}\n",
    "void print_x(int n) {\n",
    "    int r = 0;\n",
    "    while (r < n/2) {\n",
    "        print_x_helper(n, r);\n",
    "        r++;\n",
    "    }\n",
    "    for (int c = 0; c < n; c++) {\n",
    "        if (c == r) {\n",
    "            printf(\"X\");\n",
    "        }\n",
    "        else {\n",
    "            printf(\" \");\n",
    "        }\n",
    "    }\n",
    "    printf(\"\\n\");\n",
    "    r++;\n",
    "    while (r < n) {\n",
    "        print_x_helper(n, r);\n",
    "        r++;\n",
    "    }\n",
    "}\n",
    "// Testing\n",
    "int main() {\n",
    "    print_x(3);\n",
    "    print_x(5);\n",
    "}"
   ]
  },
  {
   "cell_type": "markdown",
   "id": "544b986c-a62d-457e-b889-45ab94039d51",
   "metadata": {
    "editable": true,
    "slideshow": {
     "slide_type": "skip"
    },
    "tags": [
     "worksheet-only",
     "blank"
    ]
   },
   "source": [
    "<div style=\"height:20em;\"></div>"
   ]
  },
  {
   "cell_type": "markdown",
   "id": "0687b985-5db0-4cb1-afeb-05d7e00ca014",
   "metadata": {
    "editable": true,
    "slideshow": {
     "slide_type": "slide"
    },
    "tags": [
     "notes-only"
    ]
   },
   "source": [
    "## Libraries\n",
    "\n",
    "Libraries provide a wonderful abstraction.  You include the right header file and link to the right library, and you don't have to worry (much) about the code you're calling.\n",
    "\n",
    "Since you read that tome about libraries and compiling and linking, let's also talk about linking and the magic of shared libraries."
   ]
  },
  {
   "cell_type": "markdown",
   "id": "a23ee993-35bc-407f-be1f-476c4362dbcd",
   "metadata": {
    "editable": true,
    "slideshow": {
     "slide_type": "subslide"
    },
    "tags": [
     "notes-only"
    ]
   },
   "source": [
    "### Using libraries\n",
    "* Could use exponent to compute number of cells and logarithm to compute number of rounds\n",
    "* Provided by math library — `#include <math.h>`\n",
    "    * `double pow(double x, double y);`\n",
    "    * `double log2(double x);`\n",
    "* Aside: calculations involving decimal points suffer from small rounding errors, but we are going to using the integer ceiling of the result, so the rounding errors won't be a problem\n",
    "    * `double round(double x);`\n",
    "    * `double ceil(double x);`"
   ]
  },
  {
   "cell_type": "code",
   "execution_count": 3,
   "id": "65d004dc-5d08-4438-855d-1688cf2a43cb",
   "metadata": {
    "editable": true,
    "slideshow": {
     "slide_type": "subslide"
    },
    "tags": [
     "slides-notes-only"
    ]
   },
   "outputs": [],
   "source": [
    "#include <math.h>\n",
    "int cells(int rounds) {\n",
    "    double total = pow(2, rounds);\n",
    "    total = round(total);\n",
    "    return (int)total;\n",
    "} \n",
    "int rounds(int cells) {\n",
    "    double rounds = log2(cells);\n",
    "    rounds = ceil(rounds);\n",
    "    return (int)rounds; // Type cast to integer\n",
    "}\n",
    "// Testing code\n",
    "#include <assert.h>\n",
    "int main() {\n",
    "    assert(cells(4) == 16);\n",
    "    assert(rounds(16) == 4);\n",
    "}"
   ]
  },
  {
   "cell_type": "markdown",
   "id": "c9ed7383-0199-4f52-b151-5c264c65350f",
   "metadata": {
    "editable": true,
    "slideshow": {
     "slide_type": "subslide"
    },
    "tags": [
     "notes-only"
    ]
   },
   "source": [
    "* Compilation error — Why?\n",
    "```bash\n",
    "$ gcc -Wall -o cell_division cell_division.c\n",
    "/usr/bin/ld: /tmp/ccyyWBh4.o: in function `cells':\n",
    "cell_division.c:(.text+0x1c): undefined reference to `pow'\n",
    "/usr/bin/ld: cell_division.c:(.text+0x28): undefined reference to `round'\n",
    "/usr/bin/ld: /tmp/ccyyWBh4.o: in function `rounds':\n",
    "cell_division.c:(.text+0x54): undefined reference to `log2'\n",
    "/usr/bin/ld: cell_division.c:(.text+0x60): undefined reference to `ceil'\n",
    "collect2: error: ld returned 1 exit status\n",
    "```\n",
    "* Need to tell compiler to \"link\" to a library\n",
    "* Library contains pre-compiled code\n",
    "* Recall: header file contains function prototypes, which allows compiler to know what functions are available in the library\n",
    "* At runtime, executable and referenced libraries are loaded into memory"
   ]
  },
  {
   "cell_type": "markdown",
   "id": "f576a51b-875f-4e5f-831c-85bcb00f77d7",
   "metadata": {
    "editable": true,
    "slideshow": {
     "slide_type": "subslide"
    },
    "tags": [
     "notes-only"
    ]
   },
   "source": [
    "### Fix\n",
    "```bash\n",
    "$ gcc -Wall -o cell_division cell_division.c -lm\n",
    "```\n",
    "* Remember to put the library argument at the end of the link command, so that gcc compiles the C and then links the library.\n",
    "* Do it the other way around, and you get the previous error message."
   ]
  },
  {
   "cell_type": "markdown",
   "id": "f181ad19-5ed9-4f73-b211-790777601c41",
   "metadata": {
    "editable": true,
    "slideshow": {
     "slide_type": "skip"
    },
    "tags": [
     "worksheet-only",
     "blank"
    ]
   },
   "source": [
    "<div style=\"height:15em;\"></div>"
   ]
  },
  {
   "cell_type": "markdown",
   "id": "a45c047f-10cf-4abd-b9b2-bbd97b0d056f",
   "metadata": {
    "slideshow": {
     "slide_type": "slide"
    },
    "tags": []
   },
   "source": [
    "## Program stack"
   ]
  },
  {
   "cell_type": "markdown",
   "id": "09d3fd6f-1d83-4f4c-91b8-c80b0f6509e4",
   "metadata": {
    "editable": true,
    "slideshow": {
     "slide_type": "skip"
    },
    "tags": [
     "notes-only"
    ]
   },
   "source": [
    "* Stores data for functions that are currently executing\n",
    "* Stored in random access memory (RAM)\n",
    "* Composed of stack frames\n",
    "    * A stack frame contains the values stored in a functions's local variables and formal parameters\n",
    "    * The size of the stack frame is determined by the number and type of local variables and formal parameters\n",
    "    * A stack frame is added to the top of the stack when a function is called\n",
    "    * A stack frame is removed from the top of the stack when a function returns"
   ]
  },
  {
   "cell_type": "markdown",
   "id": "5ad57d72-a327-4d96-b829-369f4efc7f3e",
   "metadata": {
    "tags": []
   },
   "source": [
    "Example"
   ]
  },
  {
   "cell_type": "code",
   "execution_count": 1,
   "id": "6a156a86-d715-4216-a800-034192330f39",
   "metadata": {
    "tags": [
     "worksheet-code-only",
     "example"
    ]
   },
   "outputs": [
    {
     "name": "stdout",
     "output_type": "stream",
     "text": [
      "68F is 20C\n"
     ]
    }
   ],
   "source": [
    "#include <stdio.h>\n",
    "int multiply(int z) {\n",
    "    return z * 5 / 9;\n",
    "}\n",
    "int subtract(int x, int y) {\n",
    "    return x - y;\n",
    "}\n",
    "int convert(int t) {\n",
    "    int u = subtract(t, 32);\n",
    "    int v = multiply(u);\n",
    "    return v;\n",
    "}\n",
    "int main() {\n",
    "    int f = 68;\n",
    "    int c = convert(68);\n",
    "    printf(\"%dF is %dC\\n\", f, c); \n",
    "}"
   ]
  },
  {
   "cell_type": "markdown",
   "id": "5293deb5-e7af-4ae6-88a6-89df9b9d8c48",
   "metadata": {
    "slideshow": {
     "slide_type": "skip"
    },
    "tags": [
     "notes-only",
     "answer"
    ]
   },
   "source": [
    "* Use [C tutor](https://pythontutor.com/c.html) to visualize the stack during C code execution"
   ]
  },
  {
   "cell_type": "markdown",
   "id": "1781cb7a-7c94-4d16-a6c0-c5602872327a",
   "metadata": {
    "slideshow": {
     "slide_type": "skip"
    },
    "tags": [
     "worksheet-only",
     "blank"
    ]
   },
   "source": [
    "<div style=\"height:20em;\"></div>"
   ]
  },
  {
   "cell_type": "markdown",
   "id": "0b8544cd-a852-4234-88ce-3bdce3c71172",
   "metadata": {
    "slideshow": {
     "slide_type": "subslide"
    },
    "tags": [
     "question"
    ]
   },
   "source": [
    "Q21: _What is the output of this program?_"
   ]
  },
  {
   "cell_type": "code",
   "execution_count": 2,
   "id": "5153e7e0-7a18-4c5e-b1be-51eedd25fa71",
   "metadata": {
    "tags": [
     "worksheet-code-only",
     "answer"
    ]
   },
   "outputs": [
    {
     "name": "stdout",
     "output_type": "stream",
     "text": [
      "3 7 7\n"
     ]
    }
   ],
   "source": [
    "#include <stdio.h>\n",
    "int copy(int a, int b) {\n",
    "    a = b;\n",
    "    return a;\n",
    "}\n",
    "int main() {\n",
    "    int x = 3;\n",
    "    int y = 7;\n",
    "    int z = copy(x, y);\n",
    "    printf(\"%d %d %d\\n\", x, y, z);\n",
    "}"
   ]
  },
  {
   "cell_type": "markdown",
   "id": "00a56489-b9ee-4306-a19d-4ed3ecf651de",
   "metadata": {
    "editable": true,
    "slideshow": {
     "slide_type": "skip"
    },
    "tags": [
     "worksheet-only",
     "blank"
    ]
   },
   "source": [
    "<div style=\"height:12em;\"></div>"
   ]
  },
  {
   "cell_type": "markdown",
   "id": "96940b22-ac0d-46d8-a1f3-9c71a4cac0d9",
   "metadata": {
    "editable": true,
    "slideshow": {
     "slide_type": "subslide"
    },
    "tags": [
     "question"
    ]
   },
   "source": [
    "Q22: _Draw the contents of the stack **immediately before the program prints \"1 x 2\"**_"
   ]
  },
  {
   "cell_type": "code",
   "execution_count": 24,
   "id": "791e250e-1fb6-48f8-9a62-1873fcfb5428",
   "metadata": {
    "editable": true,
    "slideshow": {
     "slide_type": ""
    },
    "tags": [
     "worksheet-code-only",
     "question"
    ]
   },
   "outputs": [
    {
     "name": "stdout",
     "output_type": "stream",
     "text": [
      "3^2 is 9\n",
      "1 x 2\n",
      "2 x 2\n",
      "4 x 2\n",
      "2^3 is 8\n"
     ]
    }
   ],
   "source": [
    "#include <stdio.h>\n",
    "int squared(int base) {\n",
    "    return base * base;\n",
    "}\n",
    "int dbl(int num) {\n",
    "    printf(\"%d x 2\\n\", num);\n",
    "    return num * 2;   \n",
    "}\n",
    "int two(int exponent) {\n",
    "    int result = 1;\n",
    "    for (int i = 0; i < exponent; i++) {\n",
    "        result = dbl(result);\n",
    "    }\n",
    "    return result;\n",
    "}\n",
    "int main() {\n",
    "    int n = 3;\n",
    "    int s = squared(3);\n",
    "    printf(\"%d^2 is %d\\n\", n, s);\n",
    "    int t = two(3);\n",
    "    printf(\"2^%d is %d\\n\", n, t);\n",
    "}"
   ]
  },
  {
   "cell_type": "markdown",
   "id": "1db381df-4f63-45c2-8ff2-388528aec1e7",
   "metadata": {
    "slideshow": {
     "slide_type": "skip"
    },
    "tags": [
     "notes-only",
     "answer"
    ]
   },
   "source": [
    "* Use [C tutor](https://pythontutor.com/c.html) to visualize the execution of this program and check your drawing"
   ]
  },
  {
   "cell_type": "markdown",
   "id": "5619ba7b-acad-4307-9e99-d94094f3623f",
   "metadata": {
    "editable": true,
    "slideshow": {
     "slide_type": "skip"
    },
    "tags": [
     "worksheet-only",
     "blank"
    ]
   },
   "source": [
    "<div class=\"blank\" style=\"height:40em;\"></div>"
   ]
  },
  {
   "cell_type": "markdown",
   "id": "53a11e98-f48d-44ca-b381-8e63dafed23b",
   "metadata": {
    "slideshow": {
     "slide_type": "slide"
    },
    "tags": [
     "question"
    ]
   },
   "source": [
    "Q23: _Draw the contents of the stack **immediately after the program prints `n=1`**_"
   ]
  },
  {
   "cell_type": "code",
   "execution_count": 1,
   "id": "0c19f9e0-6a5d-46e8-a556-7f93f18f8018",
   "metadata": {
    "editable": true,
    "slideshow": {
     "slide_type": ""
    },
    "tags": [
     "worksheet-code-only",
     "question"
    ]
   },
   "outputs": [
    {
     "name": "stdout",
     "output_type": "stream",
     "text": [
      "n=16\n",
      "n=8\n",
      "n=4\n",
      "n=2\n",
      "n=1\n",
      "result=4\n"
     ]
    }
   ],
   "source": [
    "#include <stdio.h>\n",
    "int recurse(int n) {\n",
    "    printf(\"n=%d\\n\", n);\n",
    "    if (n == 1) {\n",
    "        return 0;\n",
    "    }\n",
    "    else {\n",
    "        return 1 + recurse(n/2);\n",
    "    }\n",
    "}\n",
    "int main() {\n",
    "    int x = 16;\n",
    "    int r = recurse(x);\n",
    "    printf(\"result=%d\\n\", r);\n",
    "}"
   ]
  },
  {
   "cell_type": "markdown",
   "id": "fc96f28c-c9b2-4331-9738-90b4553c6f3c",
   "metadata": {
    "slideshow": {
     "slide_type": "skip"
    },
    "tags": [
     "worksheet-only",
     "blank"
    ]
   },
   "source": [
    "<div class=\"blank\" style=\"height:20em;\"></div>"
   ]
  },
  {
   "cell_type": "markdown",
   "id": "f721c2c5-0c1c-4c93-ae68-a182eaf52412",
   "metadata": {
    "tags": [
     "question"
    ]
   },
   "source": [
    "Q24: _If `main` initialized `x` to `64` (instead of `8`), how many stack frames would exist at the time the program printed \"n=1\"?_"
   ]
  },
  {
   "cell_type": "markdown",
   "id": "ccb52553-3d1d-47af-ac97-7b1db3ddf9cf",
   "metadata": {
    "slideshow": {
     "slide_type": "skip"
    },
    "tags": [
     "notes-only",
     "answer"
    ]
   },
   "source": [
    "8 —  (bottom) `main`, `recurse(64)`, `recurse(32)`, `recurse(16)`, `recurse(8)`, `recurse(4)`, `recurse(2)`, `recurse(1)`, (top)"
   ]
  },
  {
   "cell_type": "markdown",
   "id": "2d1d650c-5ef4-43e5-8f3b-d634622820f7",
   "metadata": {
    "slideshow": {
     "slide_type": "skip"
    },
    "tags": [
     "notes-only"
    ]
   },
   "source": [
    "* _What does this tell you about program efficiency?_ — the more nested function calls there are, the more stack memory the program requires; creating an iterative (instead of recursive) implementation would be more memory efficient"
   ]
  },
  {
   "cell_type": "markdown",
   "id": "84f95c06-10ee-478c-8ce1-bb172851fa10",
   "metadata": {
    "slideshow": {
     "slide_type": "skip"
    },
    "tags": [
     "worksheet-only",
     "blank"
    ]
   },
   "source": [
    "<div style=\"height:5em;\"></div>"
   ]
  }
 ],
 "metadata": {
  "kernelspec": {
   "display_name": "C",
   "language": "c",
   "name": "c"
  },
  "language_info": {
   "file_extension": ".c",
   "mimetype": "text/plain",
   "name": "c"
  }
 },
 "nbformat": 4,
 "nbformat_minor": 5
}
