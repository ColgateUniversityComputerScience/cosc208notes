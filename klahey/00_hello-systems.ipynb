{
 "cells": [
  {
   "cell_type": "markdown",
   "id": "6fda69da-ea01-4d12-a173-840278ddfa84",
   "metadata": {
    "slideshow": {
     "slide_type": "skip"
    },
    "tags": []
   },
   "source": [
    "# Hello: Computer Systems\n",
    "_COSC 208, Introduction to Computer Systems, Spring 2025_"
   ]
  },
  {
   "cell_type": "markdown",
   "id": "8f1c445a-0ff2-4793-baf2-4c31fb4070ef",
   "metadata": {
    "slideshow": {
     "slide_type": "slide"
    },
    "tags": []
   },
   "source": [
    "## Announcements\n",
    "* Before class on Wednesday:\n",
    "    * Complete \"Getting to know you\" questionnaire\n",
    "    * Review the syllabus\n",
    "    * Read Dive Into Systems 17.1, 16.0-16.2.1, 16.3\n",
    "* First lab Thursday"
   ]
  },
  {
   "cell_type": "markdown",
   "id": "f4fa787e-dcdb-413a-8791-8f8e380be60c",
   "metadata": {
    "editable": true,
    "slideshow": {
     "slide_type": "slide"
    },
    "tags": []
   },
   "source": [
    "## Getting to know Kevin\n",
    "* Please call me...Kevin _or_ Professor Kevin\n",
    "* My pronouns are...he/him/his\n",
    "* Two things I like to do for fun are...hiking and eating tasty food.\n",
    "* Besides my courses, I expect to spend significant time each week...learning to become a volunteer firefighter.\n",
    "* Something you could do to make this a better teaching environment for me is...arriving to class on time."
   ]
  },
  {
   "cell_type": "markdown",
   "id": "964f4367-0720-432f-95d1-18660053e30d",
   "metadata": {
    "slideshow": {
     "slide_type": "skip"
    },
    "tags": [
     "worksheet-only"
    ]
   },
   "source": [
    "## Getting to know you\n",
    "*I want to learn more about you, so I can help you have a positive experience in this course. Please respond to the following prompts. I will not share your responses with anyone else.*\n",
    "\n",
    "Please call me...\n",
    "```\n",
    "\n",
    "```\n",
    "\n",
    "My pronouns are...\n",
    "```\n",
    "\n",
    "```\n",
    "\n",
    "Two things I like to do for fun are...\n",
    "```\n",
    "\n",
    "\n",
    "\n",
    "\n",
    "```\n",
    "\n",
    "Besides my courses, I expect to spend significant time each week...\n",
    "```\n",
    "\n",
    "\n",
    "\n",
    "\n",
    "```\n",
    "\n",
    "When an instructor asks me to solve a practice problem during class, I prefer to work (check all that apply)...\n",
    "\n",
    "▢ On my own\n",
    "\n",
    "▢ With a partner\n",
    "\n",
    "▢ In a small group\n",
    "\n",
    "```\n",
    "```\n",
    "\n",
    "When an instructor asks a question during class, I prefer (check all that apply)...\n",
    "\n",
    "▢ To raise my hand and contribute my ideas\n",
    "\n",
    "▢ To discuss with a partner and then contribute our ideas\n",
    "\n",
    "▢ To listen to others' ideas and then raise my hand to ask follow-up questions\n",
    "\n",
    "▢ To respond to a poll\n",
    "\n",
    "▢ To remain silent/passive\n",
    "\n",
    "```\n",
    "```\n",
    "\n",
    "Something you could do to make this a better learning environment for me is...\n",
    "```\n",
    "\n",
    "\n",
    "```"
   ]
  },
  {
   "cell_type": "markdown",
   "id": "e952a436-20a8-4743-9322-377403e7c927",
   "metadata": {
    "slideshow": {
     "slide_type": "skip"
    },
    "tags": [
     "notes-only"
    ]
   },
   "source": [
    "## What is a computer system?\n",
    "* _What do you think of when you hear the term \"computer systems\"?_\n",
    "* Main components of a computer system\n",
    "    * Central processing unit (CPU) — executes assembly instructions\n",
    "    * Random access memory (RAM) — stores program data (code, variables, etc.) at runtime\n",
    "    * Secondary storage devices (e.g., hard disk drive, solid state drive stores) – persistently stores program data (code, documents, etc.)\n",
    "    * Input/output (I/O) ports – receives user input (e.g., keyboard, mouse, audio); provides output to users (e.g., text, graphics, audio)\n",
    "    * Operating system (OS) — manages hardware resources\n",
    "* Why is it important to learn about computer systems?\n",
    "    * To effectively debug errors related to data representation and memory\n",
    "    * To write more efficient programs\n",
    "    * To leverage parallelism\n",
    "* Course topics – see the standards in the _Quizzes_ section of the syllabus\n",
    "    * Data representation\n",
    "    * Program memory\n",
    "    * Architecture\n",
    "    * Assembly\n",
    "    * Storage\n",
    "    * Operating Systems & Concurrency"
   ]
  },
  {
   "cell_type": "markdown",
   "id": "9aa61e54-8c27-4fd8-80e1-94810b90ac68",
   "metadata": {
    "slideshow": {
     "slide_type": "skip"
    },
    "tags": [
     "notes-only"
    ]
   },
   "source": [
    "## Syllabus highlights\n",
    "* Important dates\n",
    "* Preparing for class: read textbook sections\n",
    "    * For Wednesday: Read Dive Into Systems 17.1, 16.0-16.2.1\n",
    "* Quizzes and projects: demonstrate that you undertand and can apply the concepts covered in the course\n",
    "    * Quizzes during the last ~20 minutes of class every Friday, starting a week from now (no quiz Friday).\n",
    "    * Each quiz has 1-3 questions that each focus on one of the standards listed in the grading section of the syllabus\n",
    "    * First of four projects will be released in ~2 weeks and beta version is due \n",
    "* Academic integrity: \n",
    "    * Do not share or copy code from other students\n",
    "    * Indicate if code is copied from an external source\n",
    "    * I want you to succeed; I will be reasonably flexible on deadlines\n",
    "* Alternative grading:\n",
    "    * Designed to be equitable and encourage learning and growth\n",
    "    * Constructive feedback coupled with opportunities to revise and reattempt work without penalty – e.g., every standard will appear on two quizzes, and you need to acheive satisfactory once; every project can be revised to improve its functionality and design\n",
    "    * Course grade is based on the extent to which your work on quizzes and projects is satisfactory – you must satisfy all requirements for a given letter grade\n",
    "* Seek help and support -- office hours are for everybody, and if you never come by, you may be missing out."
   ]
  }
 ],
 "metadata": {
  "kernelspec": {
   "display_name": "C",
   "language": "c",
   "name": "c"
  },
  "language_info": {
   "file_extension": ".c",
   "mimetype": "text/plain",
   "name": "c"
  }
 },
 "nbformat": 4,
 "nbformat_minor": 5
}
