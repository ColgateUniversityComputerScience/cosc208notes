{
 "cells": [
  {
   "cell_type": "markdown",
   "id": "40c5bff8-f0b9-4222-80cb-62efa3710886",
   "metadata": {
    "editable": true,
    "slideshow": {
     "slide_type": "skip"
    },
    "tags": []
   },
   "source": [
    "# Data representation: real numbers\n",
    "_COSC 208, Introduction to Computer Systems, Spring 2025_"
   ]
  },
  {
   "cell_type": "markdown",
   "id": "ff6e3e06-7a9a-4b93-abbd-97854e97df8f",
   "metadata": {
    "editable": true,
    "slideshow": {
     "slide_type": "skip"
    },
    "tags": []
   },
   "source": [
    "## Announcements\n",
    "* Project 1 initial version due Thursday, February 13 @ 11pm"
   ]
  },
  {
   "cell_type": "markdown",
   "id": "dec847ab-5024-4756-a382-5525280b44c8",
   "metadata": {
    "editable": true,
    "slideshow": {
     "slide_type": "slide"
    },
    "tags": [
     "notes-only"
    ]
   },
   "source": [
    "## Real numbers"
   ]
  },
  {
   "cell_type": "markdown",
   "id": "b293f20e-f6e9-40fd-9a16-8fd3334d30b4",
   "metadata": {
    "editable": true,
    "slideshow": {
     "slide_type": "subslide"
    },
    "tags": [
     "notes-only"
    ]
   },
   "source": [
    "* Real numbers may have fractional parts -- e.g., `3.14`\n",
    "* _How can we encode real numbers?_"
   ]
  },
  {
   "cell_type": "markdown",
   "id": "53788fb6-734d-4243-8aa8-00be6e92ad06",
   "metadata": {
    "editable": true,
    "slideshow": {
     "slide_type": "subslide"
    },
    "tags": [
     "notes-only"
    ]
   },
   "source": [
    "* Fixed-point representation\n",
    "    * Location of decimal point is fixed — some bits encode whole numbers, and some bits encode fractional numbers\n",
    "    * Example: 8-bit fixed point with 3 bits for the fractional part: `0b01011010` = 0 * 2^4 + 1 * 2^3 + 0 * 2^2 + 1 * 2^1 + 1 * 2^0 + 0 * 2^-1 + 1 * 2^-2 + 0 * 2^-3 = 8 + 2 + 1 + 0.25 = 11.25\n",
    "    * _What is an advantage of fixed-point representation?_\n",
    "        * Easy to compute\n",
    "    * _What is a disadvantage of fixed-point representation?_ \n",
    "        * Range of real numbers is fixed — cannot represent large whole numbers or small fractional numbers"
   ]
  },
  {
   "cell_type": "markdown",
   "id": "e26ae66a-e69c-46e5-b6a8-59659922260c",
   "metadata": {
    "editable": true,
    "slideshow": {
     "slide_type": "subslide"
    },
    "tags": [
     "notes-only"
    ]
   },
   "source": [
    "* Float-point representation\n",
    "    * Uses a \"scaling factor\" to multiply (or divide) fractional part\n",
    "    * Bits in the significand represent (from left to right) 2^-1, 2^-2, ... 2^-23\n",
    "    * Bits in the exponent represent an unsigned integer 0 - 255\n",
    "    * Multiply significand by 2^(exponent - 127) to get final result\n",
    "    * Can represent large whole numbers **or** small fractional numbers, but not a large whole number with a small fractional part"
   ]
  },
  {
   "cell_type": "markdown",
   "id": "0ca26387-5a03-41ac-a1b9-331f66170367",
   "metadata": {
    "editable": true,
    "slideshow": {
     "slide_type": "subslide"
    },
    "tags": []
   },
   "source": [
    "Note that common expectations around arithmetic, like associativity, don't necessarily work for floating point numbers:\n",
    "* 1e20 - 1e20 + 3.14159 == 3.14159\n",
    "* 1e20 + 3.14159 - 1e20 == 0\n",
    "In this case, the larger exponent means that small changes are ignored."
   ]
  },
  {
   "cell_type": "markdown",
   "id": "44724d93-3b1f-490f-8ebe-4de6943cdd47",
   "metadata": {
    "editable": true,
    "slideshow": {
     "slide_type": "subslide"
    },
    "tags": [
     "question"
    ]
   },
   "source": [
    "### Fixed point numbers"
   ]
  },
  {
   "cell_type": "markdown",
   "id": "f422f904-846f-4d7d-b13c-7d5c8efd9d0a",
   "metadata": {
    "editable": true,
    "slideshow": {
     "slide_type": "subslide"
    },
    "tags": [
     "question"
    ]
   },
   "source": [
    "_Express the following real numbers using 8-bit fixed point representation with 4 bits for the fractional part. If the number cannot be expressed exactly, express it as closely as you can and indicate which number is actually represented by the bits._\n",
    "\n",
    "Q1: `5.75`"
   ]
  },
  {
   "cell_type": "markdown",
   "id": "93125c1a-b9f2-4a21-93dc-123fe3e51daf",
   "metadata": {
    "editable": true,
    "slideshow": {
     "slide_type": "skip"
    },
    "tags": [
     "answer"
    ]
   },
   "source": [
    "    0b01011100 = 2^2 + 2^0 + 2^-1 + 2^-2"
   ]
  },
  {
   "cell_type": "markdown",
   "id": "af013c2b-48e2-4f8f-b159-2d14cba563a7",
   "metadata": {
    "editable": true,
    "slideshow": {
     "slide_type": "skip"
    },
    "tags": [
     "blank"
    ]
   },
   "source": [
    "<p style=\"height:6em;\"></p>"
   ]
  },
  {
   "cell_type": "markdown",
   "id": "7ce21d1b-b80e-46c0-8c1c-8f685026a665",
   "metadata": {
    "editable": true,
    "slideshow": {
     "slide_type": "subslide"
    },
    "tags": [
     "question"
    ]
   },
   "source": [
    "Q2: `16.125`"
   ]
  },
  {
   "cell_type": "markdown",
   "id": "40f53bc2-6f67-493b-ad26-e7fca9f43963",
   "metadata": {
    "editable": true,
    "slideshow": {
     "slide_type": "skip"
    },
    "tags": [
     "answer"
    ]
   },
   "source": [
    "    0b11110010 = 2^3 + 2^2 + 2^1 + 2^0 + 2^-3 = 15.125"
   ]
  },
  {
   "cell_type": "markdown",
   "id": "108d87e4-9bed-4616-9c5a-87d727a85be3",
   "metadata": {
    "editable": true,
    "slideshow": {
     "slide_type": "skip"
    },
    "tags": [
     "blank"
    ]
   },
   "source": [
    "<p style=\"height:6em;\"></p>"
   ]
  },
  {
   "cell_type": "markdown",
   "id": "3a2de75a-0105-4e2a-aeda-b7be6a7343ce",
   "metadata": {
    "editable": true,
    "slideshow": {
     "slide_type": "subslide"
    },
    "tags": [
     "question"
    ]
   },
   "source": [
    "Q3: `4.1875`"
   ]
  },
  {
   "cell_type": "markdown",
   "id": "3a8e76db-9bcf-47a7-80d4-3ddf66d844ee",
   "metadata": {
    "editable": true,
    "slideshow": {
     "slide_type": "skip"
    },
    "tags": [
     "answer"
    ]
   },
   "source": [
    "    0b01000011 = 2^2 + 2^0 + 2^-3 + 2^-4 = 4.1875"
   ]
  },
  {
   "cell_type": "markdown",
   "id": "3c4f784d-1d5e-49b7-9eb9-51950982230c",
   "metadata": {
    "editable": true,
    "slideshow": {
     "slide_type": "skip"
    },
    "tags": [
     "blank"
    ]
   },
   "source": [
    "<p style=\"height:6em;\"></p>"
   ]
  },
  {
   "cell_type": "markdown",
   "id": "7840f008-0dd1-4c6c-8f31-ca20a8a71238",
   "metadata": {
    "editable": true,
    "slideshow": {
     "slide_type": "slide"
    },
    "tags": [
     "question"
    ]
   },
   "source": [
    "### Floating point numbers:  optional, for the brave"
   ]
  },
  {
   "cell_type": "markdown",
   "id": "bd264294-ef6b-447d-8562-e4598c68eb05",
   "metadata": {
    "editable": true,
    "jp-MarkdownHeadingCollapsed": true,
    "slideshow": {
     "slide_type": "subslide"
    },
    "tags": [
     "question"
    ]
   },
   "source": [
    "![image](ieee754.svg) \n",
    "\n",
    "(from the _ARMv8 Developer Documentation_)\n",
    "\n",
    "The first bit is a sign bit.  The next eight bits are the exponent - 127.  The final bits are the fractional part, as above, with the addition of a 1 at the start of the field (with some special exceptions).\n",
    "\n",
    "If 1.0 is represented as `0|01111111|00000000000000000000000`,\n",
    "and 1.5 is represented as `0|10000000|01000000000000000000000`\n",
    "\n",
    "What does `0|10000010|00010000000000000000000` represent?"
   ]
  },
  {
   "cell_type": "markdown",
   "id": "bd6422d2-cb4e-43fb-ba68-03746b1f27c1",
   "metadata": {
    "editable": true,
    "jp-MarkdownHeadingCollapsed": true,
    "slideshow": {
     "slide_type": "subslide"
    },
    "tags": [
     "answer"
    ]
   },
   "source": [
    "`8.5 = (1 + 2^-4) * 2^3`"
   ]
  },
  {
   "cell_type": "markdown",
   "id": "9267b1d0-8c1f-47c9-b49f-e6428f73bb73",
   "metadata": {
    "editable": true,
    "slideshow": {
     "slide_type": "skip"
    },
    "tags": [
     "blank"
    ]
   },
   "source": [
    "<p style=\"height:6em;\"></p>"
   ]
  },
  {
   "cell_type": "markdown",
   "id": "737c3075-aa5b-49bb-b34d-c0dd169afbcd",
   "metadata": {
    "editable": true,
    "jp-MarkdownHeadingCollapsed": true,
    "slideshow": {
     "slide_type": "subslide"
    },
    "tags": [
     "question"
    ]
   },
   "source": [
    "What does `0|10000111|00000000000000000000000` represent?"
   ]
  },
  {
   "cell_type": "markdown",
   "id": "70d0a9f5-e7d9-4b79-87ef-16eea7690390",
   "metadata": {
    "editable": true,
    "jp-MarkdownHeadingCollapsed": true,
    "slideshow": {
     "slide_type": "subslide"
    },
    "tags": [
     "answer"
    ]
   },
   "source": [
    "`256 = 1 * 2^8`"
   ]
  },
  {
   "cell_type": "markdown",
   "id": "d0fba04d-ac6d-4cdf-9c53-d9b0bfe99f40",
   "metadata": {
    "editable": true,
    "slideshow": {
     "slide_type": "skip"
    },
    "tags": [
     "blank"
    ]
   },
   "source": [
    "<p style=\"height:6em;\"></p>"
   ]
  },
  {
   "cell_type": "markdown",
   "id": "c253cabd-40f2-47f0-bdd5-01f4529f24a7",
   "metadata": {
    "editable": true,
    "jp-MarkdownHeadingCollapsed": true,
    "slideshow": {
     "slide_type": "subslide"
    },
    "tags": [
     "question"
    ]
   },
   "source": [
    "What does `1|01111111|10000000000000000000000` represent?"
   ]
  },
  {
   "cell_type": "markdown",
   "id": "4a470136-f3cb-4a73-b1c2-25d01ce72d69",
   "metadata": {
    "editable": true,
    "jp-MarkdownHeadingCollapsed": true,
    "slideshow": {
     "slide_type": "subslide"
    },
    "tags": [
     "answer"
    ]
   },
   "source": [
    "`-1.5 =  -1 * (1 + 2^-1) * 2^0`"
   ]
  }
 ],
 "metadata": {
  "kernelspec": {
   "display_name": "C",
   "language": "c",
   "name": "c"
  },
  "language_info": {
   "file_extension": ".c",
   "mimetype": "text/plain",
   "name": "c"
  }
 },
 "nbformat": 4,
 "nbformat_minor": 5
}
