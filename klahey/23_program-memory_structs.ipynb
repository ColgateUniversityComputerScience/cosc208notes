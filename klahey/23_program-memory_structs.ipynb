{
 "cells": [
  {
   "cell_type": "markdown",
   "id": "275f3326-b6de-4d7d-b41a-f17ec6a57354",
   "metadata": {
    "editable": true,
    "slideshow": {
     "slide_type": "skip"
    },
    "tags": []
   },
   "source": [
    "# Program memory: structs\n",
    "_COSC 208, Introduction to Computer Systems, Spring 2025_"
   ]
  },
  {
   "cell_type": "markdown",
   "id": "b5ef1fb7-8a62-47ed-ae01-ee79ed10ae39",
   "metadata": {
    "editable": true,
    "slideshow": {
     "slide_type": "skip"
    },
    "tags": []
   },
   "source": [
    "## Announcements\n",
    "* Project 2 revisions due Thursday, March 6 @ 11pm\n",
    "* Make up policy reminder -- let me know in advance, limit of 3, make it up within a week"
   ]
  },
  {
   "cell_type": "markdown",
   "id": "2c76560a-a1c7-43f5-a940-560af91fba0b",
   "metadata": {
    "editable": true,
    "slideshow": {
     "slide_type": "slide"
    },
    "tags": []
   },
   "source": [
    "## Structs"
   ]
  },
  {
   "cell_type": "markdown",
   "id": "722a6a82-151f-40e0-a5a6-1b0c5b4ced57",
   "metadata": {
    "editable": true,
    "slideshow": {
     "slide_type": "subslide"
    },
    "tags": [
     "notes-only"
    ]
   },
   "source": [
    "* _How is a struct declared?_\n",
    "* _How are fields of the struct accessed?_ — with the dot (.) operator"
   ]
  },
  {
   "cell_type": "code",
   "execution_count": 1,
   "id": "a0d0edb7-0ced-45fd-a3d6-a8ada34dffab",
   "metadata": {
    "editable": true,
    "slideshow": {
     "slide_type": "subslide"
    },
    "tags": [
     "notes-only"
    ]
   },
   "outputs": [],
   "source": [
    "#include <string.h>\n",
    "\n",
    "struct tvshow {\n",
    "    char name[100];\n",
    "    int season;\n",
    "};\n",
    "\n",
    "int main() {\n",
    "    struct tvshow favorite;\n",
    "    strncpy(favorite.name, \"Nova\", 100);\n",
    "    favorite.season = 51;\n",
    "}"
   ]
  },
  {
   "cell_type": "markdown",
   "id": "9a910310-98ac-4c76-931d-a0c29d4f0ad0",
   "metadata": {
    "editable": true,
    "slideshow": {
     "slide_type": "subslide"
    },
    "tags": [
     "notes-only"
    ]
   },
   "source": [
    "* A struct is a collection of values; it is **not** an object, and hence cannot have methods associated with it\n",
    "* A struct variable holds *values* for the fields of the struct; it is **not** a reference to the struct, and hence a copy of the values are passed to functions"
   ]
  },
  {
   "cell_type": "markdown",
   "id": "790257e5-0faa-4312-bd31-8d4465062102",
   "metadata": {
    "editable": true,
    "slideshow": {
     "slide_type": "skip"
    },
    "tags": [
     "blank"
    ]
   },
   "source": [
    "<p style=\"height:10em;\"></p>"
   ]
  },
  {
   "cell_type": "code",
   "execution_count": 17,
   "id": "e0695a07-c658-41b1-ae0d-c181c4de24ed",
   "metadata": {
    "editable": true,
    "slideshow": {
     "slide_type": "subslide"
    },
    "tags": [
     "worksheet-code-only",
     "question"
    ]
   },
   "outputs": [
    {
     "name": "stdout",
     "output_type": "stream",
     "text": [
      "a Colgate 0\n",
      "b 5 6\n",
      "c 5 2\n"
     ]
    }
   ],
   "source": [
    "// Q1: What is the output of this program?\n",
    "\n",
    "#include <stdio.h>\n",
    "struct alpha {\n",
    "    char x[10];\n",
    "    int y;\n",
    "};\n",
    "struct beta {\n",
    "    int b;\n",
    "    int c;\n",
    "};\n",
    "int main() {\n",
    "    struct alpha a = { \"Colgate\", 13 };\n",
    "    struct beta b = { 1, 2 };\n",
    "    struct beta c = { 3, 4 };\n",
    "    a.y += -13;\n",
    "    b.b = 5;\n",
    "    c = b;\n",
    "    b.c = 6;\n",
    "    printf(\"a %s %d\\n\", a.x, a.y);\n",
    "    printf(\"b %d %d\\n\", b.b, b.c);\n",
    "    printf(\"c %d %d\\n\", c.b, c.c);\n",
    "}"
   ]
  },
  {
   "cell_type": "markdown",
   "id": "cb7e687a-9449-4eeb-9358-0a97d7f61245",
   "metadata": {
    "editable": true,
    "slideshow": {
     "slide_type": "skip"
    },
    "tags": [
     "blank"
    ]
   },
   "source": [
    "<p style=\"height:5em;\"></p>"
   ]
  },
  {
   "cell_type": "code",
   "execution_count": 16,
   "id": "1442ae57-4b3f-4c9a-b36f-c00a66dfcfc0",
   "metadata": {
    "editable": true,
    "slideshow": {
     "slide_type": "subslide"
    },
    "tags": [
     "worksheet-code-only",
     "question"
    ]
   },
   "outputs": [
    {
     "name": "stdout",
     "output_type": "stream",
     "text": [
      "2 1\n",
      "44 40\n"
     ]
    }
   ],
   "source": [
    "// Q2: What is the output of this program?\n",
    "\n",
    "#include <stdio.h>\n",
    "struct one {\n",
    "    char x;\n",
    "    char y;\n",
    "};\n",
    "struct two {\n",
    "    int m;\n",
    "    int n[10];\n",
    "};\n",
    "int main() {\n",
    "    struct one a;\n",
    "    struct two b;\n",
    "    printf(\"%ld %ld\\n\", sizeof(struct one), sizeof(a.y));\n",
    "    printf(\"%ld %ld\\n\", sizeof(b), sizeof(b.n));\n",
    "}"
   ]
  },
  {
   "cell_type": "markdown",
   "id": "ba4349cb-9b5b-489c-b328-e2c67fe7a2a8",
   "metadata": {
    "editable": true,
    "slideshow": {
     "slide_type": "skip"
    },
    "tags": [
     "blank"
    ]
   },
   "source": [
    "<p style=\"height:5em;\"></p>"
   ]
  },
  {
   "cell_type": "markdown",
   "id": "e2956589-2544-46ae-9a5a-4272f82654ff",
   "metadata": {
    "editable": true,
    "slideshow": {
     "slide_type": "subslide"
    },
    "tags": [
     "question"
    ]
   },
   "source": [
    "Q3: _Write a struct definition to represent a date (year, month number, and day)._"
   ]
  },
  {
   "cell_type": "code",
   "execution_count": null,
   "id": "1807e029-a2ca-4af6-a2a1-14e1e272ec10",
   "metadata": {
    "editable": true,
    "slideshow": {
     "slide_type": "skip"
    },
    "tags": [
     "notes-only"
    ]
   },
   "outputs": [],
   "source": [
    "struct date {\n",
    "    int year;\n",
    "    int month;\n",
    "    int day;\n",
    "};"
   ]
  },
  {
   "cell_type": "markdown",
   "id": "c07ca5a6-ed00-4706-b3e0-61169a01175f",
   "metadata": {
    "editable": true,
    "slideshow": {
     "slide_type": "skip"
    },
    "tags": [
     "blank"
    ]
   },
   "source": [
    "<p style=\"height:10em;\"></p>"
   ]
  },
  {
   "cell_type": "markdown",
   "id": "9d561012-df4b-4265-96f9-02d5148e5010",
   "metadata": {
    "editable": true,
    "slideshow": {
     "slide_type": "subslide"
    },
    "tags": [
     "question"
    ]
   },
   "source": [
    "Q4: _Write a function called `compare` that takes two date structs and returns -1 if the first date occurs before the second, 0 if the dates are equal, and 1 if the first date occurs after the second._"
   ]
  },
  {
   "cell_type": "code",
   "execution_count": null,
   "id": "88a3ca2a-eeee-446f-bcea-03654584426c",
   "metadata": {
    "editable": true,
    "slideshow": {
     "slide_type": "skip"
    },
    "tags": [
     "answer"
    ]
   },
   "outputs": [],
   "source": [
    "int compare(struct date a, struct date b) {\n",
    "    if (a.year < b.year) {\n",
    "        return -1;\n",
    "    } else if (b.year < a.year) {\n",
    "        return 1;\n",
    "    } else {\n",
    "        if (a.month < b.month) {\n",
    "            return -1;\n",
    "        } else if (b.month < a.month) {\n",
    "            return 1;\n",
    "        } else { \n",
    "            if (a.day < b.day) {\n",
    "                return -1;\n",
    "            } else if (b.day < a.day) {\n",
    "                return 1;\n",
    "            } else {\n",
    "                return 0;\n",
    "            }\n",
    "        }\n",
    "    }\n",
    "}"
   ]
  },
  {
   "cell_type": "markdown",
   "id": "6cb3d343-6bc6-435f-86e6-8cf8acbc45d2",
   "metadata": {
    "editable": true,
    "slideshow": {
     "slide_type": "skip"
    },
    "tags": [
     "blank"
    ]
   },
   "source": [
    "<p style=\"height:20em;\"></p>"
   ]
  },
  {
   "cell_type": "markdown",
   "id": "0240a85c-a7f7-412f-a3af-58590814caaf",
   "metadata": {
    "editable": true,
    "slideshow": {
     "slide_type": "slide"
    },
    "tags": []
   },
   "source": [
    "## Pointers to structs"
   ]
  },
  {
   "cell_type": "markdown",
   "id": "3f1ca05d-7f2a-40b2-a828-e3542be5fc7e",
   "metadata": {
    "editable": true,
    "slideshow": {
     "slide_type": "subslide"
    },
    "tags": [
     "notes-only"
    ]
   },
   "source": [
    "* _How do you get a pointer to a struct?_\n",
    "    * Use address-of (`&`) operator with a parameter/local variable\n",
    "    * Allocate space on the heap\n",
    "* _How do you access a struct's fields through a pointer to the struct?_\n",
    "    * `(*ptr).field`\n",
    "        * Don't do `*ptr.field` — it will try to dereference `field` not `ptr`, because `.` has higher precedence than `*`\n",
    "    * `ptr->field`"
   ]
  },
  {
   "cell_type": "code",
   "execution_count": 3,
   "id": "63a444c1-5e8a-4da5-b121-7bdfaa89629e",
   "metadata": {
    "editable": true,
    "slideshow": {
     "slide_type": "subslide"
    },
    "tags": [
     "notes-only"
    ]
   },
   "outputs": [
    {
     "name": "stdout",
     "output_type": "stream",
     "text": [
      "There are 51 seasons of Nova\n",
      "There are 6 seasons of Mega Builders\n"
     ]
    }
   ],
   "source": [
    "#include <stdlib.h>\n",
    "#include <stdio.h>\n",
    "#include <string.h>\n",
    "\n",
    "struct tvshow {\n",
    "    char name[100];\n",
    "    int seasons;\n",
    "};\n",
    "\n",
    "int main() {\n",
    "    struct tvshow favorite = {\"Nova\", 51};\n",
    "    struct tvshow *favoritePtr = &favorite;\n",
    "    printf(\"There are %d seasons of %s\\n\", (*favoritePtr).seasons, favoritePtr->name);\n",
    "    \n",
    "    struct tvshow *favorite2 = malloc(sizeof(struct tvshow));\n",
    "    (*favorite2).seasons = 6;\n",
    "    strcpy(favorite2->name, \"Mega Builders\");\n",
    "    printf(\"There are %d seasons of %s\\n\", favorite2->seasons, (*favorite2).name);\n",
    "}"
   ]
  },
  {
   "cell_type": "markdown",
   "id": "0f8e1d62-006c-4c76-9f88-0bee9fb1af4e",
   "metadata": {
    "editable": true,
    "slideshow": {
     "slide_type": "skip"
    },
    "tags": [
     "blank"
    ]
   },
   "source": [
    "<p style=\"height:10em;\"></p>"
   ]
  },
  {
   "cell_type": "code",
   "execution_count": 18,
   "id": "dcbb1452-0478-4798-9812-767a77b1c37d",
   "metadata": {
    "editable": true,
    "slideshow": {
     "slide_type": "subslide"
    },
    "tags": [
     "worksheet-code-only"
    ]
   },
   "outputs": [
    {
     "name": "stdout",
     "output_type": "stream",
     "text": [
      "one 3, 4\n",
      "two 4, 3\n",
      "one 5, 4\n",
      "two 8, 4\n",
      "three 8, 4\n"
     ]
    }
   ],
   "source": [
    "// Q5: What does this program output?\n",
    "    \n",
    "#include <stdio.h>\n",
    "#include <stdlib.h>\n",
    "struct coords {\n",
    "    int x;\n",
    "    int y;\n",
    "};\n",
    "struct coords *flip(struct coords *in) {\n",
    "    struct coords *out = malloc(sizeof(struct coords));\n",
    "    out->x = in->y;\n",
    "    out->y = in->x;\n",
    "    return out;\n",
    "}\n",
    "struct coords *modify(struct coords *point) {\n",
    "    point->x *= 2;\n",
    "    point->y *= 2;\n",
    "    return point;\n",
    "}\n",
    "int main() {\n",
    "    struct coords *one = malloc(sizeof(struct coords));\n",
    "    one->x = 3;\n",
    "    one->y = 4;\n",
    "    struct coords *two = flip(one);\n",
    "    printf(\"one %d, %d\\n\", one->x, one->y);\n",
    "    printf(\"two %d, %d\\n\", two->x, two->y);\n",
    "    struct coords *three = modify(two);\n",
    "    three->y = one->y;\n",
    "    one->x = 5;\n",
    "    printf(\"one %d, %d\\n\", one->x, one->y);\n",
    "    printf(\"two %d, %d\\n\", two->x, two->y);\n",
    "    printf(\"three %d, %d\\n\", three->x, three->y);\n",
    "}"
   ]
  },
  {
   "cell_type": "markdown",
   "id": "0d92f99b-f89f-476e-a4d8-782210d73da0",
   "metadata": {
    "editable": true,
    "slideshow": {
     "slide_type": "skip"
    },
    "tags": [
     "blank"
    ]
   },
   "source": [
    "<p style=\"height:11em;\"></p>"
   ]
  },
  {
   "cell_type": "markdown",
   "id": "424b7008-bc95-4e34-a329-9c0a151bd0cd",
   "metadata": {
    "editable": true,
    "slideshow": {
     "slide_type": "subslide"
    },
    "tags": [
     "question"
    ]
   },
   "source": [
    "_Assume you are given the following code:_"
   ]
  },
  {
   "cell_type": "code",
   "execution_count": null,
   "id": "bf408ca4-ef1e-467a-99d9-e4342b92f0ff",
   "metadata": {
    "editable": true,
    "slideshow": {
     "slide_type": ""
    },
    "tags": [
     "question"
    ]
   },
   "outputs": [],
   "source": [
    "struct account {\n",
    "    int number; // Account number\n",
    "    int balance; // Current account balance\n",
    "};\n",
    "int deposit(struct account *acct, int amount);\n",
    "int transfer(struct account *from, struct account *to, int amount);\n",
    "struct account *open_account(int starting);\n",
    "int close_account(struct account *acct);"
   ]
  },
  {
   "cell_type": "markdown",
   "id": "37539476-e8a0-4d07-aafa-6e3a59199f8c",
   "metadata": {
    "editable": true,
    "slideshow": {
     "slide_type": ""
    },
    "tags": [
     "question"
    ]
   },
   "source": [
    "Q6: _Write the `deposit` function, which adds `amount` to the balance of `acct`. The function should return the amount deposited._"
   ]
  },
  {
   "cell_type": "markdown",
   "id": "2dbd75c7-897d-4bb5-938c-9eff048d73e7",
   "metadata": {
    "editable": true,
    "slideshow": {
     "slide_type": "skip"
    },
    "tags": [
     "blank"
    ]
   },
   "source": [
    "<p style=\"height:10em;\"></p>"
   ]
  },
  {
   "cell_type": "markdown",
   "id": "c3954347-8f7a-48f5-8ce9-9c3f182d4b6d",
   "metadata": {
    "editable": true,
    "slideshow": {
     "slide_type": ""
    },
    "tags": [
     "question"
    ]
   },
   "source": [
    "Q7: _Write the `transfer` function which moves `amount` from one account to another. The function should return the amount transferred if the transfer was successful or 0 otherwise._"
   ]
  },
  {
   "cell_type": "markdown",
   "id": "f55d6eb1-227e-47bf-ace1-549cd81f01c2",
   "metadata": {
    "editable": true,
    "slideshow": {
     "slide_type": "skip"
    },
    "tags": [
     "blank"
    ]
   },
   "source": [
    "<p style=\"height:10em;\"></p>"
   ]
  },
  {
   "cell_type": "markdown",
   "id": "b2c0e808-6437-46dc-9b73-0f7f72c97d6e",
   "metadata": {
    "editable": true,
    "slideshow": {
     "slide_type": ""
    },
    "tags": [
     "question"
    ]
   },
   "source": [
    "Q8: _Write the `open_account` function, which creates a new account with a random account number and the specified `starting` balance._"
   ]
  },
  {
   "cell_type": "markdown",
   "id": "0c9ea212-2b5d-42c3-9d0f-c1933c3988a9",
   "metadata": {
    "editable": true,
    "slideshow": {
     "slide_type": "skip"
    },
    "tags": [
     "blank"
    ]
   },
   "source": [
    "<p style=\"height:15em;\"></p>"
   ]
  },
  {
   "cell_type": "markdown",
   "id": "ff3ad879-9a16-4368-a33c-51ef4a06997a",
   "metadata": {
    "editable": true,
    "slideshow": {
     "slide_type": ""
    },
    "tags": [
     "question"
    ]
   },
   "source": [
    "Q9: _Write the `close_account` function, which eliminates the account `acct` and returns the remaining balance._"
   ]
  },
  {
   "cell_type": "markdown",
   "id": "d2f07330-355a-4d8a-bbaa-f6762beb2128",
   "metadata": {
    "editable": true,
    "slideshow": {
     "slide_type": "skip"
    },
    "tags": [
     "blank"
    ]
   },
   "source": [
    "<p style=\"height:8em;\"></p>"
   ]
  },
  {
   "cell_type": "code",
   "execution_count": 7,
   "id": "ccc999d2-bcd4-4539-b83c-68df344c7d50",
   "metadata": {
    "editable": true,
    "slideshow": {
     "slide_type": "skip"
    },
    "tags": [
     "answer"
    ]
   },
   "outputs": [
    {
     "name": "stdout",
     "output_type": "stream",
     "text": [
      "Acct 1 (000016807): $150\n",
      "Acct 1 (000016807): $75\n",
      "Acct 2 (282475249): $275\n"
     ]
    }
   ],
   "source": [
    "#include <stdlib.h>\n",
    "struct account {\n",
    "    int number; // Account number\n",
    "    int balance; // Current account balance\n",
    "};\n",
    "int deposit(struct account *acct, int amount) {\n",
    "    acct->balance += amount;\n",
    "    return amount;\n",
    "}\n",
    "int transfer(struct account *from, struct account *to, int amount) {\n",
    "    if (from->balance < amount) {\n",
    "        return 0;\n",
    "    }\n",
    "    from->balance -= amount;\n",
    "    to->balance += amount;\n",
    "    return amount;\n",
    "}\n",
    "struct account *open_account(int starting) {\n",
    "    struct account *new = malloc(sizeof(struct account));\n",
    "    new->number = rand();\n",
    "    new->balance = starting;\n",
    "    return new;\n",
    "}\n",
    "int close_account(struct account *acct) {\n",
    "    int remain = acct->balance;\n",
    "    free(acct);\n",
    "    return remain;\n",
    "}\n",
    "// Testing\n",
    "#include <stdio.h>\n",
    "int main() {\n",
    "    struct account *acct1 = open_account(100);\n",
    "    deposit(acct1, 50);\n",
    "    printf(\"Acct 1 (%09d): $%d\\n\", acct1->number, acct1->balance);\n",
    "    struct account *acct2 = open_account(200);\n",
    "    transfer(acct1, acct2, 75);\n",
    "    printf(\"Acct 1 (%09d): $%d\\n\", acct1->number, acct1->balance);\n",
    "    printf(\"Acct 2 (%09d): $%d\\n\", acct2->number, acct2->balance);\n",
    "    close_account(acct1);\n",
    "    close_account(acct2);\n",
    "}"
   ]
  },
  {
   "cell_type": "markdown",
   "id": "c61c339d-3ce9-4397-97d0-82859ae74159",
   "metadata": {
    "editable": true,
    "slideshow": {
     "slide_type": "subslide"
    },
    "tags": [
     "question"
    ]
   },
   "source": [
    "_Two structs have been defined representing a queue and an item on a queue._"
   ]
  },
  {
   "cell_type": "code",
   "execution_count": null,
   "id": "32ad8c03-6c74-4191-bddd-bd45d2e18a0c",
   "metadata": {
    "editable": true,
    "slideshow": {
     "slide_type": ""
    },
    "tags": [
     "question"
    ]
   },
   "outputs": [],
   "source": [
    "struct item {\n",
    "    int value;\n",
    "    struct item *next;\n",
    "};\n",
    "struct queue {\n",
    "    struct item *head;\n",
    "    struct item *tail;\n",
    "};"
   ]
  },
  {
   "cell_type": "markdown",
   "id": "14c84631-25fb-466d-a5d3-9f4df27da360",
   "metadata": {
    "editable": true,
    "slideshow": {
     "slide_type": ""
    },
    "tags": [
     "question"
    ]
   },
   "source": [
    "_The `new_queue` function creates a new, empty queue._"
   ]
  },
  {
   "cell_type": "code",
   "execution_count": null,
   "id": "997abab1-2144-463a-9a56-83a613fe7b28",
   "metadata": {
    "editable": true,
    "slideshow": {
     "slide_type": ""
    },
    "tags": [
     "question"
    ]
   },
   "outputs": [],
   "source": [
    "struct queue *new_queue() {\n",
    "    struct queue *q = malloc(sizeof(struct queue));\n",
    "    q->head = NULL;\n",
    "    q->tail = NULL;\n",
    "    return q;\n",
    "}"
   ]
  },
  {
   "cell_type": "markdown",
   "id": "f66bf270-14c1-4259-bb5b-a7af2e6c612a",
   "metadata": {
    "editable": true,
    "slideshow": {
     "slide_type": ""
    },
    "tags": [
     "question"
    ]
   },
   "source": [
    "Q10: _Write a function called `enqueue` that adds a new value at the end of the queue._"
   ]
  },
  {
   "cell_type": "markdown",
   "id": "3738b4da-6154-4b92-8899-d77bb8343732",
   "metadata": {
    "editable": true,
    "slideshow": {
     "slide_type": "skip"
    },
    "tags": [
     "blank"
    ]
   },
   "source": [
    "<p style=\"height:22em;\"></p>"
   ]
  },
  {
   "cell_type": "markdown",
   "id": "d163b904-e98d-4b22-ac69-8126ec7eb03a",
   "metadata": {
    "editable": true,
    "slideshow": {
     "slide_type": ""
    },
    "tags": [
     "question"
    ]
   },
   "source": [
    "Q11: _Write a function called `dequeue` that removes and returns the value at the head of the queue. The function should return -1 if the queue is empty._"
   ]
  },
  {
   "cell_type": "markdown",
   "id": "d329a111-7945-447f-a3ac-6e1c68ba4828",
   "metadata": {
    "editable": true,
    "slideshow": {
     "slide_type": "skip"
    },
    "tags": [
     "blank"
    ]
   },
   "source": [
    "<p style=\"height:18em;\"></p>"
   ]
  },
  {
   "cell_type": "markdown",
   "id": "e87fa69d-5f76-4f92-b623-61d1d6a7f4ce",
   "metadata": {
    "editable": true,
    "slideshow": {
     "slide_type": ""
    },
    "tags": [
     "question"
    ]
   },
   "source": [
    "Q12: _Write a function called `free_queue` that empties and frees a queue._"
   ]
  },
  {
   "cell_type": "markdown",
   "id": "ed03fd75-26c5-45f0-8d23-06488fbbb3d6",
   "metadata": {
    "editable": true,
    "slideshow": {
     "slide_type": "skip"
    },
    "tags": [
     "blank"
    ]
   },
   "source": [
    "<p style=\"height:15em;\"></p>"
   ]
  },
  {
   "cell_type": "markdown",
   "id": "c883788a-0876-43c6-b675-77a7d7e125d0",
   "metadata": {
    "editable": true,
    "slideshow": {
     "slide_type": ""
    },
    "tags": [
     "question"
    ]
   },
   "source": [
    "Q13: _Write a function called `position` that takes a value and a queue and returns the position of the value within the queue (the head of the queue is position 0). Return -1 if the value is not present in the queue._"
   ]
  },
  {
   "cell_type": "markdown",
   "id": "bb120902-c945-4776-af05-723cba68d4e3",
   "metadata": {
    "editable": true,
    "slideshow": {
     "slide_type": "skip"
    },
    "tags": [
     "blank"
    ]
   },
   "source": [
    "<p style=\"height:20em;\"></p>"
   ]
  },
  {
   "cell_type": "code",
   "execution_count": 2,
   "id": "988fba1a-6514-4ba2-adec-7e726e7ffb65",
   "metadata": {
    "editable": true,
    "slideshow": {
     "slide_type": "skip"
    },
    "tags": [
     "answer"
    ]
   },
   "outputs": [],
   "source": [
    "#include <stdlib.h>\n",
    "struct item {\n",
    "    int value;\n",
    "    struct item *next;\n",
    "};\n",
    "struct queue {\n",
    "    struct item *head;\n",
    "    struct item *tail;\n",
    "};\n",
    "\n",
    "struct queue *new_queue() {\n",
    "    struct queue *q = malloc(sizeof(struct queue));\n",
    "    q->head = NULL;\n",
    "    q->tail = NULL;\n",
    "    return q;\n",
    "}\n",
    "\n",
    "void enqueue(int value, struct queue *q) {\n",
    "    struct item *i = malloc(sizeof(struct item));\n",
    "    i->value = value;\n",
    "    i->next = NULL;\n",
    "    if (q->tail == NULL) {\n",
    "        q->head = i;\n",
    "        q->tail = i;\n",
    "    } else {\n",
    "        q->tail->next = i;\n",
    "        q->tail = i;\n",
    "    }\n",
    "}\n",
    "\n",
    "int dequeue(struct queue *q) {\n",
    "    if (NULL == q->head) {\n",
    "        return -1;\n",
    "    }\n",
    "    struct item *i = q->head;\n",
    "    int v = i->value;\n",
    "    q->head = i->next;\n",
    "    if (q->head == NULL) {\n",
    "        q->tail = NULL;\n",
    "    }\n",
    "    free(i);\n",
    "    return v;\n",
    "}\n",
    "\n",
    "void free_queue(struct queue *q) {\n",
    "    while (q->head != NULL) {\n",
    "        dequeue(q);\n",
    "    }\n",
    "    free(q);\n",
    "}\n",
    "\n",
    "int position(int value, struct queue *q) {\n",
    "    struct item *curr = q->head;\n",
    "    int index = 0;\n",
    "    while (curr != NULL) {\n",
    "        if (curr->value == value) {\n",
    "            return index;\n",
    "        }\n",
    "        curr = curr->next;\n",
    "        index++;\n",
    "    }\n",
    "    return -1;\n",
    "}\n",
    "\n",
    "// Testing\n",
    "#include <assert.h>\n",
    "int main() {\n",
    "    struct queue *q = new_queue();\n",
    "    enqueue(1, q);\n",
    "    enqueue(2, q);\n",
    "    assert(dequeue(q) == 1);\n",
    "    enqueue(3, q);\n",
    "    enqueue(4, q);\n",
    "    assert(dequeue(q) == 2);\n",
    "    assert(dequeue(q) == 3);\n",
    "}"
   ]
  },
  {
   "cell_type": "markdown",
   "id": "117bb607-1a26-43bf-a5d0-d539889fc42e",
   "metadata": {
    "editable": true,
    "slideshow": {
     "slide_type": "slide"
    },
    "tags": []
   },
   "source": [
    "## Extra practice"
   ]
  },
  {
   "cell_type": "markdown",
   "id": "c04b38a7-2f17-4265-9c56-8824a3e86be7",
   "metadata": {
    "editable": true,
    "slideshow": {
     "slide_type": ""
    },
    "tags": [
     "question"
    ]
   },
   "source": [
    "Q14: _Draw a memory diagram depicting the contents of the stack and heap immediately before the function `elongate(\"dog\")` returns._"
   ]
  },
  {
   "cell_type": "code",
   "execution_count": 7,
   "id": "3a6a07d5-e7ce-42cf-813c-edc1ad554ed8",
   "metadata": {
    "editable": true,
    "slideshow": {
     "slide_type": ""
    },
    "tags": [
     "question"
    ]
   },
   "outputs": [],
   "source": [
    "#include <string.h>\n",
    "#include <stdlib.h>\n",
    "char **elongate(char *str) {\n",
    "    char **result = malloc(sizeof(char *) * strlen(str));\n",
    "    for (int i = 0; i < strlen(str); i++) {\n",
    "        result[i] = malloc(sizeof(char) * (i + 2));\n",
    "        for (int j = 0; j < i+1; j++) {\n",
    "            result[i][j] = str[j];\n",
    "        }\n",
    "        result[i][i+1] = '\\0';\n",
    "    }\n",
    "    return result;\n",
    "}\n",
    "int main() {\n",
    "    elongate(\"dog\");\n",
    "}"
   ]
  },
  {
   "cell_type": "markdown",
   "id": "57044db0-c600-4919-ac29-8cd7fb3695a2",
   "metadata": {
    "editable": true,
    "slideshow": {
     "slide_type": "skip"
    },
    "tags": [
     "blank"
    ]
   },
   "source": [
    "<p style=\"height:34em;\"></p>"
   ]
  },
  {
   "cell_type": "markdown",
   "id": "508467b5-b6df-4bcf-a2e0-d1795f446b68",
   "metadata": {
    "editable": true,
    "slideshow": {
     "slide_type": "subslide"
    },
    "tags": [
     "question"
    ]
   },
   "source": [
    "Q15: _The function below allocates several regions of memory on the heap. Draw a diagram that depicts the contents of the stack and heap at the end of main. Label each memory region with its size in bytes.)_"
   ]
  },
  {
   "cell_type": "code",
   "execution_count": 1,
   "id": "3562fa16-0497-4922-8c8b-104a93aa9c4a",
   "metadata": {
    "editable": true,
    "slideshow": {
     "slide_type": ""
    },
    "tags": [
     "question"
    ]
   },
   "outputs": [],
   "source": [
    "#include <stdlib.h>\n",
    "int main() {\n",
    "    char **alpha = malloc(sizeof(char *) * 4);\n",
    "    char **beta = alpha;\n",
    "    for (int i = 1; i < 4; i++) {\n",
    "        alpha[i] = malloc(sizeof(char) * i);\n",
    "        *alpha[i] = i + 'a';\n",
    "        *beta = alpha[i];\n",
    "        beta++;\n",
    "    }\n",
    "}"
   ]
  },
  {
   "cell_type": "markdown",
   "id": "7dda23f3-d01f-48d5-aad9-319c17090ff2",
   "metadata": {
    "editable": true,
    "slideshow": {
     "slide_type": "skip"
    },
    "tags": [
     "answer"
    ]
   },
   "source": [
    "```\n",
    "Stack                         Heap\n",
    "\n",
    "alpha (8B)                    (4 * 8B = 32B) \n",
    "┌────────┐                    ┌────────┬────────┬────────┬────────┐\n",
    "│   ~~~~~~~~~~~~~~~~~~~~~~~~~>│   |    │   |    │   |    │   |    │\n",
    "└────────┘                    └───|────┴───|────┴───|────┴───|────┘\n",
    "                                  |        |        |╭~~~~~~~╯  ^\n",
    "                                  V        V        VV          |\n",
    "                                  ┌─┐      ┌─┬─┐    ┌─┬─┬─┐     |\n",
    "                                  │b│      │c│ │    │d│ │ │     |\n",
    "                                  └─┘      └─┴─┘    └─┴─┴─┘     |\n",
    "beta (8B)                         (1B)     (2B)     (3B)        |\n",
    "┌────────┐                                                      |                        \n",
    "│   ~~~~~~~~~~~~~~~~~~~~~~~~~~~~~~~~~~~~~~~~~~~~~~~~~~~~~~~~~~~~╯\n",
    "└────────┘\n",
    "\n",
    "i (4B)\n",
    "┌────┐                        \n",
    "│ 4  │ \n",
    "└────┘\n",
    "```"
   ]
  },
  {
   "cell_type": "markdown",
   "id": "ab4344d6-2c45-49e6-bf99-6b57748d7df2",
   "metadata": {
    "editable": true,
    "slideshow": {
     "slide_type": "skip"
    },
    "tags": [
     "blank"
    ]
   },
   "source": [
    "<p style=\"height:15em;\"></p>"
   ]
  }
 ],
 "metadata": {
  "kernelspec": {
   "display_name": "C",
   "language": "c",
   "name": "c"
  },
  "language_info": {
   "file_extension": ".c",
   "mimetype": "text/plain",
   "name": "c"
  }
 },
 "nbformat": 4,
 "nbformat_minor": 5
}
