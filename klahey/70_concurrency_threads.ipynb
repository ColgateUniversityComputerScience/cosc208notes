{
 "cells": [
  {
   "cell_type": "markdown",
   "id": "d4c0cf7a-6741-41de-924b-477e6ac8b4e3",
   "metadata": {
    "editable": true,
    "slideshow": {
     "slide_type": "skip"
    },
    "tags": []
   },
   "source": [
    "# Concurrency: shared memory; POSIX threads\n",
    "_COSC 208, Introduction to Computer Systems, Spring 2025_"
   ]
  },
  {
   "cell_type": "markdown",
   "id": "cf63fa5f-05a3-4ea0-a9c8-5e36c5d2ed6e",
   "metadata": {
    "slideshow": {
     "slide_type": "slide"
    },
    "tags": []
   },
   "source": [
    "## Threads and memory"
   ]
  },
  {
   "cell_type": "markdown",
   "id": "72aef2b6-1235-4bdc-a2ce-bd1ca621f6cc",
   "metadata": {
    "editable": true,
    "slideshow": {
     "slide_type": "skip"
    },
    "tags": [
     "notes-only"
    ]
   },
   "source": [
    "* Threads are multiple execution contexts within the **same process**\n",
    "    * Processes are multiple execution contexts within the **same machine**\n",
    "* Because threads are within the same process, they share all of the process’s resources — memory and CPU time\n",
    "* Consequently, two threads can update the same variable"
   ]
  },
  {
   "cell_type": "markdown",
   "id": "1869540c-338e-48dd-aa78-6ff54eadfcc6",
   "metadata": {
    "editable": true,
    "slideshow": {
     "slide_type": "skip"
    },
    "tags": []
   },
   "source": [
    "_Example_"
   ]
  },
  {
   "cell_type": "code",
   "execution_count": null,
   "id": "ba727028-3e07-471a-a024-62b5c5061624",
   "metadata": {
    "editable": true,
    "slideshow": {
     "slide_type": ""
    },
    "tags": []
   },
   "outputs": [],
   "source": [
    "/* 1*/  #include <stdio.h>\n",
    "/* 2*/  #include <stdlib.h>\n",
    "/* 3*/  void *thread1_main(void *arg) {\n",
    "/* 4*/      int *x = (int *)arg;\n",
    "/* 5*/      *x += 1;\n",
    "/* 6*/      return NULL;\n",
    "/* 7*/  }\n",
    "/* 8*/  void *thread2_main(void *arg) {\n",
    "/* 9*/      int *y = (int *)arg;\n",
    "/*10*/      *y += 2;\n",
    "/*11*/      return NULL;\n",
    "/*12*/  }\n",
    "/*13*/  int main() {\n",
    "/*14*/      int *z = malloc(sizeof(int));\n",
    "/*15*/      *z = 0;\n",
    "/*16*/      // Create thread running thread1_main(z)\n",
    "/*17*/      // Create thread running thread2_main(z)\n",
    "/*18*/      // Wait for threads to finish\n",
    "/*19*/      printf(\"z is %d\\n\", *z);\n",
    "/*20*/  }"
   ]
  },
  {
   "cell_type": "markdown",
   "id": "e468eaf6-ad64-492b-9f9f-27b98f2a8295",
   "metadata": {
    "editable": true,
    "slideshow": {
     "slide_type": "skip"
    },
    "tags": [
     "notes-only"
    ]
   },
   "source": [
    "```\n",
    "z is 3\n",
    "```"
   ]
  },
  {
   "cell_type": "markdown",
   "id": "715c427b-d970-44e0-a432-bde3dabe03fc",
   "metadata": {
    "editable": true,
    "slideshow": {
     "slide_type": "skip"
    },
    "tags": [
     "worksheet-only",
     "blank"
    ]
   },
   "source": [
    "<p style=\"height:25em;\"></p>"
   ]
  },
  {
   "cell_type": "markdown",
   "id": "c39cc1c9-d02a-499d-bcaf-49c2a86d1800",
   "metadata": {
    "editable": true,
    "slideshow": {
     "slide_type": "subslide"
    },
    "tags": [
     "question"
    ]
   },
   "source": [
    "Q1: _What are all possible outputs produced by this program, assuming the threads don't overlap each other's operations?_"
   ]
  },
  {
   "cell_type": "code",
   "execution_count": null,
   "id": "9a34b176-5570-411e-8f19-96a0d955bc06",
   "metadata": {
    "editable": true,
    "slideshow": {
     "slide_type": ""
    },
    "tags": [
     "question"
    ]
   },
   "outputs": [],
   "source": [
    "/* 1*/  #include <stdio.h>\n",
    "/* 2*/  #include <stdlib.h>\n",
    "/* 3*/  void *increment(void *arg) {\n",
    "/* 4*/      int *num = (int*)arg;\n",
    "/* 5*/      *num += 1;\n",
    "/* 6*/      return NULL;\n",
    "/* 7*/  }\n",
    "/* 8*/  void *zero(void *arg) {\n",
    "/* 9*/      int *num = (int*)arg;\n",
    "/*10*/      *num = 0;\n",
    "/*11*/      return NULL;\n",
    "/*12*/  }\n",
    "/*13*/  int main() {\n",
    "/*14*/      int *i = malloc(sizeof(int));\n",
    "/*15*/      *i = 5;\n",
    "/*16*/      // Create thread running increment(i)\n",
    "/*17*/      // Create thread running zero(i)\n",
    "/*18*/      // Wait for threads to finish\n",
    "/*19*/      printf(\"i=%d\\n\", *i);\n",
    "/*20*/  }"
   ]
  },
  {
   "cell_type": "markdown",
   "id": "8371e702-f56c-4aa9-9e35-cd0a8f5b2b30",
   "metadata": {
    "editable": true,
    "slideshow": {
     "slide_type": "skip"
    },
    "tags": [
     "answer"
    ]
   },
   "source": [
    "```\n",
    "i=0\n",
    "```\n",
    "OR\n",
    "```\n",
    "i=1\n",
    "```"
   ]
  },
  {
   "cell_type": "markdown",
   "id": "f45e359e-1d2a-4f88-b7be-c165082be3da",
   "metadata": {
    "editable": true,
    "slideshow": {
     "slide_type": "skip"
    },
    "tags": [
     "worksheet-only",
     "blank"
    ]
   },
   "source": [
    "<p style=\"height:8em;\"></p>"
   ]
  },
  {
   "cell_type": "markdown",
   "id": "8cb1438e-8f01-4aa0-85c1-e6019126dd43",
   "metadata": {
    "editable": true,
    "slideshow": {
     "slide_type": "slide"
    },
    "tags": []
   },
   "source": [
    "## Pthreads API"
   ]
  },
  {
   "cell_type": "markdown",
   "id": "78d9ea4e-44a7-4a55-bb43-65f5b3285430",
   "metadata": {
    "editable": true,
    "slideshow": {
     "slide_type": "skip"
    },
    "tags": [
     "notes-only"
    ]
   },
   "source": [
    "* Can create and wait for threads to finish, just like processes, but API is different\n",
    "* Use the pthreads library—`#include <pthread.h>`\n",
    "* `int pthread_create(pthread_t *thread, const pthread_attr_t *attr, void *(*start_routine)(void*), void * arg)`\n",
    "    * `thread`—a struct that stores metadata for the thread\n",
    "    * `attr`—configuration settings for the thread\n",
    "    * `start_routine`—the function to start executing when the thread starts\n",
    "        * Pass a pointer to a function\n",
    "    * `arg`—an argument passed to the aforementioned function\n",
    "* `int pthread_join(pthread_t thread, void **value_ptr)`\n",
    "    * `thread`—the same struct passed at thread creation; used to identify the thread we want to wait for\n",
    "    * `value_ptr`—the location where the function return value should be stored\n",
    "        * Notice it’s a pointer to a void pointer and the `start_routine` function specified in `pthread_create` returns a void pointer"
   ]
  },
  {
   "cell_type": "markdown",
   "id": "f9279044-ae13-4867-99c2-8cdbbb6fea4f",
   "metadata": {
    "editable": true,
    "slideshow": {
     "slide_type": "skip"
    },
    "tags": [
     "worksheet-only",
     "blank"
    ]
   },
   "source": [
    "<p style=\"height:22em;\"></p>"
   ]
  },
  {
   "cell_type": "markdown",
   "id": "f1200642-c90c-4050-924b-0d287b099b64",
   "metadata": {
    "editable": true,
    "slideshow": {
     "slide_type": ""
    },
    "tags": []
   },
   "source": [
    "Q3: _What are all possible outputs produced by this program?_"
   ]
  },
  {
   "cell_type": "code",
   "execution_count": 1,
   "id": "8fad914b-a514-4410-8cc8-dcf6a821b2f4",
   "metadata": {
    "editable": true,
    "slideshow": {
     "slide_type": ""
    },
    "tags": [
     "worksheet-code-only"
    ]
   },
   "outputs": [
    {
     "name": "stdout",
     "output_type": "stream",
     "text": [
      "I am P\n",
      "I am Q\n"
     ]
    }
   ],
   "source": [
    "/* 1*/  #include <stdio.h>\n",
    "/* 2*/  #include <stdlib.h>\n",
    "/* 3*/  #include <pthread.h>\n",
    "/* 4*/  void *printer(void *arg) {\n",
    "/* 5*/      char *ch = (char*)arg;\n",
    "/* 6*/      printf(\"I am %c\\n\", *ch);\n",
    "/* 7*/      return NULL;\n",
    "/* 8*/  }\n",
    "/* 9*/  int main() {\n",
    "/*10*/      pthread_t thread1, thread2;\n",
    "/*11*/      char *ch = malloc(sizeof(char));\n",
    "/*12*/      *ch = 'P';\n",
    "/*13*/      pthread_create(&thread1, NULL, &printer, ch);\n",
    "/*14*/      pthread_join(thread1, NULL);\n",
    "/*15*/      *ch = 'Q';\n",
    "/*16*/      pthread_create(&thread2, NULL, &printer, ch);\n",
    "/*17*/      pthread_join(thread2, NULL);\n",
    "/*18*/  }"
   ]
  },
  {
   "cell_type": "markdown",
   "id": "507b7bcc-5a7e-438a-be8b-f5d6445fa7b2",
   "metadata": {
    "editable": true,
    "slideshow": {
     "slide_type": "skip"
    },
    "tags": [
     "worksheet-only",
     "blank"
    ]
   },
   "source": [
    "<p style=\"height:6em;\"></p>"
   ]
  },
  {
   "cell_type": "markdown",
   "id": "207b0b3b-f349-4058-8cfb-efe775284ca3",
   "metadata": {
    "editable": true,
    "slideshow": {
     "slide_type": ""
    },
    "tags": [
     "question"
    ]
   },
   "source": [
    "Q4: _What are all possible outputs produced by this program?_"
   ]
  },
  {
   "cell_type": "code",
   "execution_count": null,
   "id": "d159585a-100c-441d-991e-efb9b221424a",
   "metadata": {
    "editable": true,
    "slideshow": {
     "slide_type": ""
    },
    "tags": [
     "question"
    ]
   },
   "outputs": [],
   "source": [
    "/* 1*/  #include <stdio.h>\n",
    "/* 2*/  #include <stdlib.h>\n",
    "/* 3*/  #include <pthread.h>\n",
    "/* 4*/  void *printer(void *arg) {\n",
    "/* 5*/      char *ch = (char*)arg;\n",
    "/* 6*/      printf(\"I am %c\\n\", *ch);\n",
    "/* 7*/      return NULL;\n",
    "/* 8*/  }\n",
    "/* 9*/  int main() {\n",
    "/*10*/      pthread_t thread1, thread2;\n",
    "/*11*/      char *ch = malloc(sizeof(char));\n",
    "/*12*/      *ch = 'M';\n",
    "/*13*/      pthread_create(&thread1, NULL, &printer, ch);\n",
    "/*14*/      *ch = 'N';\n",
    "/*15*/      pthread_create(&thread2, NULL, &printer, ch);\n",
    "/*16*/      pthread_join(thread1, NULL);\n",
    "/*17*/      pthread_join(thread2, NULL);\n",
    "/*18*/  }"
   ]
  },
  {
   "cell_type": "markdown",
   "id": "63266870-7b48-4ce5-a14a-7b8208c7c07e",
   "metadata": {
    "editable": true,
    "slideshow": {
     "slide_type": "skip"
    },
    "tags": [
     "answer"
    ]
   },
   "source": [
    "```\n",
    "I am M\n",
    "I am N\n",
    "```\n",
    "OR\n",
    "```\n",
    "I am N\n",
    "I am N\n",
    "```"
   ]
  },
  {
   "cell_type": "markdown",
   "id": "f9e16dd0-15b8-4dd9-9ca7-74614e2ffd10",
   "metadata": {
    "editable": true,
    "slideshow": {
     "slide_type": "skip"
    },
    "tags": [
     "blank"
    ]
   },
   "source": [
    "<div style=\"height:6em;\"></div>"
   ]
  },
  {
   "cell_type": "markdown",
   "id": "a071b710-858d-428d-8e11-14e221f0a9a8",
   "metadata": {
    "editable": true,
    "slideshow": {
     "slide_type": "subslide"
    },
    "tags": [
     "question"
    ]
   },
   "source": [
    "Q5: _Consider the following program:_"
   ]
  },
  {
   "cell_type": "code",
   "execution_count": null,
   "id": "7c4923da-6142-4362-8dbc-cb9426655900",
   "metadata": {
    "editable": true,
    "slideshow": {
     "slide_type": ""
    },
    "tags": [
     "question"
    ]
   },
   "outputs": [],
   "source": [
    "/* 1*/  #include <pthread.h>\n",
    "/* 2*/  #include <stdio.h>\n",
    "/* 3*/  #include <string.h>\n",
    "/* 4*/  void word_count(char *str) {\n",
    "/* 5*/      int count = 1;\n",
    "/* 6*/      for (int i = 0; i < strlen(str); i++) {\n",
    "/* 7*/          if (str[i] == ' ') {\n",
    "/* 8*/              count++;\n",
    "/* 9*/          }\n",
    "/*10*/     }\n",
    "/*11*/     printf(\"%d words\\n\", count);\n",
    "/*12*/  }\n",
    "/*13*/  int main(int argc, char *argv[]) {\n",
    "/*14*/      char *str = \"I love CS\";\n",
    "/*15*/      pthread_t thr;\n",
    "/*16*/      pthread_create(thr, NULL, &word_count, str);\n",
    "/*17*/      pthread_join(thr);\n",
    "/*18*/  }"
   ]
  },
  {
   "cell_type": "markdown",
   "id": "ca3a40fe-d796-4f12-882a-05e17df3f62a",
   "metadata": {
    "editable": true,
    "slideshow": {
     "slide_type": "subslide"
    },
    "tags": [
     "question"
    ]
   },
   "source": [
    "_Compiling this program with `gcc` results in the following errors:_\n",
    "```\n",
    "buggy_noreturn.c:16:20: warning: passing argument 1 of ‘pthread_create’ \n",
    "makes pointer from integer without a cast [-Wint-conversion]\n",
    "   16 |     pthread_create(thr, NULL, &word_count, str);\n",
    "      |                    ^~~\n",
    "      |                    pthread_t {aka long unsigned int}\n",
    "/usr/include/pthread.h:202:50: note: expected ‘pthread_t * restrict’ \n",
    "{aka ‘long unsigned int * restrict’} but argument is of type ‘pthread_t’ \n",
    "{aka ‘long unsigned int’}\n",
    "  202 | extern int pthread_create (pthread_t *__restrict __newthread,\n",
    "      |                            ~~~~~~~~~~~~~~~~~~~~~~^~~~~~~~~~~\n",
    "buggy_noreturn.c:16:31: warning: passing argument 3 of ‘pthread_create’ \n",
    "from incompatible pointer type [-Wincompatible-pointer-types]\n",
    "   16 |     pthread_create(thr, NULL, &word_count, str);\n",
    "      |                               ^~~~~~~~~~~\n",
    "      |                               void (*)(char *)\n",
    "/usr/include/pthread.h:204:36: note: expected ‘void * (*)(void *)’ but \n",
    "argument is of type ‘void (*)(char *)’\n",
    "  204 |                            void *(*__start_routine) (void *),\n",
    "      |                            ~~~~~~~~^~~~~~~~~~~~~~~~~~~~~~~~~\n",
    "buggy_noreturn.c:17:5: error: too few arguments to function ‘pthread_join’\n",
    "   17 |     pthread_join(thr);\n",
    "      |     ^~~~~~~~~~~~\n",
    "/usr/include/pthread.h:219:12: note: declared here\n",
    "  219 | extern int pthread_join (pthread_t __th, void **__thread_return);\n",
    "      |            ^~~~~~~~~~~~\n",
    "```"
   ]
  },
  {
   "cell_type": "markdown",
   "id": "a237a8d7-0d43-4096-ba25-a0e54341c37e",
   "metadata": {
    "editable": true,
    "slideshow": {
     "slide_type": "skip"
    },
    "tags": [
     "question"
    ]
   },
   "source": [
    "_How would you change the code to fix these problems?_"
   ]
  },
  {
   "cell_type": "markdown",
   "id": "ca37ccb5-5333-4ba5-88fd-d07bf062f9fb",
   "metadata": {
    "editable": true,
    "slideshow": {
     "slide_type": "skip"
    },
    "tags": [
     "answer"
    ]
   },
   "source": [
    "* Need to pass `&thr` to `pthread_create` (instead of `thr`) on line 16\n",
    "* Function executed by a thread must return `void *` and take a single `void *` parameter; replace lines 6-7 with:\n",
    "    ```C\n",
    "    void *word_count(void *arg) {\n",
    "        char *str = (char *)arg;\n",
    "    ```\n",
    "    Also add after line 11:\n",
    "    ```C\n",
    "    return NULL;\n",
    "    ```\n",
    "* Add an additional parameter to `pthread_join` one line 17:\n",
    "    ```C\n",
    "    pthread_join(thr, NULL);\n",
    "    ``` "
   ]
  },
  {
   "cell_type": "markdown",
   "id": "f28ae0e7-0bb1-4c7d-8d4c-86f01a6600c7",
   "metadata": {
    "editable": true,
    "slideshow": {
     "slide_type": "skip"
    },
    "tags": [
     "blank"
    ]
   },
   "source": [
    "<div style=\"height:1em;\"></div>"
   ]
  },
  {
   "cell_type": "markdown",
   "id": "fb469133-0a28-4358-a0a7-f1b8f09a3223",
   "metadata": {
    "editable": true,
    "slideshow": {
     "slide_type": "subslide"
    },
    "tags": [
     "question"
    ]
   },
   "source": [
    "A program contains the following functions:\n",
    "```C\n",
    "void *dbl(void *arg) {\n",
    "    int *t = (int *)arg;\n",
    "    *t = *t * 2;\n",
    "}\n",
    "\n",
    "void *inc(void *arg) {\n",
    "    int *t = (int *)arg;\n",
    "    *t = *t + 1;\n",
    "}\n",
    "```\n",
    "_For each of the following main methods, list **all possible outputs** the program could produce. Assume threads are only preempted if they become blocked waiting for other threads._"
   ]
  },
  {
   "cell_type": "code",
   "execution_count": null,
   "id": "31b636bd-3ed5-46ae-8739-6c19f364e011",
   "metadata": {
    "editable": true,
    "slideshow": {
     "slide_type": ""
    },
    "tags": [
     "question"
    ]
   },
   "outputs": [],
   "source": [
    "// Q7\n",
    "int main() {\n",
    "    int *total = malloc(sizeof(int));\n",
    "    *total = 3;\n",
    "    pthread_t thrA, thrB;\n",
    "    pthread_create(&thrA, NULL, &dbl, total);\n",
    "    pthread_create(&thrB, NULL, &inc, total);\n",
    "    pthread_join(thrA, NULL);\n",
    "    pthread_join(thrB, NULL);\n",
    "    printf(\"%d\\n\", total);\n",
    "}"
   ]
  },
  {
   "cell_type": "markdown",
   "id": "fcaae176-207a-402b-830c-8402022c7937",
   "metadata": {
    "editable": true,
    "slideshow": {
     "slide_type": "skip"
    },
    "tags": [
     "answer"
    ]
   },
   "source": [
    "* `7` (if `thrB` runs after `thrA` finishes)\n",
    "* `8` (if `thrA` runs after `thrB` finishes)"
   ]
  },
  {
   "cell_type": "markdown",
   "id": "cb136a33-372f-4510-bd56-f6693dd0bdda",
   "metadata": {
    "editable": true,
    "slideshow": {
     "slide_type": "skip"
    },
    "tags": [
     "blank"
    ]
   },
   "source": [
    "<p style=\"height:10em;\"></p>"
   ]
  },
  {
   "cell_type": "code",
   "execution_count": null,
   "id": "216c2d62-254f-4d01-9773-ce39aefd2e87",
   "metadata": {
    "editable": true,
    "slideshow": {
     "slide_type": "subslide"
    },
    "tags": [
     "question"
    ]
   },
   "outputs": [],
   "source": [
    "// Q8\n",
    "int main() {\n",
    "    int *total = malloc(sizeof(int));\n",
    "    *total = 3\n",
    "    pthread_t thrA, thrB;\n",
    "    pthread_create(&thrA, NULL, &inc, total);\n",
    "    pthread_join(thrA, NULL);\n",
    "    pthread_create(&thrB, NULL, &dbl, total);\n",
    "    pthread_join(thrB, NULL);\n",
    "    printf(\"%d\\n\", total);\n",
    "}"
   ]
  },
  {
   "cell_type": "markdown",
   "id": "f364da4e-812b-4cf0-9f68-89d6859db4a9",
   "metadata": {
    "editable": true,
    "slideshow": {
     "slide_type": "skip"
    },
    "tags": [
     "answer"
    ]
   },
   "source": [
    "* `8` (`thrA` is joined, i.e., must finish, before `thrB` is created) "
   ]
  },
  {
   "cell_type": "markdown",
   "id": "ab989c6e-eb68-47e2-a9a8-32117cdb735a",
   "metadata": {
    "editable": true,
    "slideshow": {
     "slide_type": "skip"
    },
    "tags": [
     "blank"
    ]
   },
   "source": [
    "<p style=\"height:10em;\"></p>"
   ]
  },
  {
   "cell_type": "markdown",
   "id": "b5014b47-c6bc-417d-aa1b-e0edfc4d0e59",
   "metadata": {
    "editable": true,
    "slideshow": {
     "slide_type": "slide"
    },
    "tags": [
     "question"
    ]
   },
   "source": [
    "Q9: _Consider the following program:_"
   ]
  },
  {
   "cell_type": "code",
   "execution_count": null,
   "id": "1bf75ade-7109-4253-a7d5-b5e91e1c60e5",
   "metadata": {
    "editable": true,
    "slideshow": {
     "slide_type": ""
    },
    "tags": [
     "question"
    ]
   },
   "outputs": [],
   "source": [
    "/* 1*/  #include <ctype.h>\n",
    "/* 2*/  #include <pthread.h>\n",
    "/* 3*/  #include <stdio.h>\n",
    "/* 4*/  #include <stdlib.h>\n",
    "/* 5*/  #include <string.h>\n",
    "/* 6*/  int count_upper(char *str) {\n",
    "/* 7*/      int count = 0;\n",
    "/* 8*/      for (int i = 0; i < strlen(str); i++) {\n",
    "/* 9*/          if (isupper(str[i])) {\n",
    "/*10*/              count++;\n",
    "/*11*/          }\n",
    "/*12*/      }\n",
    "/*13*/      return count;\n",
    "/*14*/  }\n",
    "/*15*/  int main(int argc, char *argv[]) {\n",
    "/*16*/      if (argc < 2) {\n",
    "/*17*/          printf(\"Error: provide a string\\n\");\n",
    "/*18*/          return 1;\n",
    "/*19*/      }\n",
    "/*20*/      char *str = argv[1];\n",
    "/*21*/      pthread_t thr;\n",
    "/*22*/      pthread_create(thr, NULL, &count_upper, str);\n",
    "/*23*/      int count = 0;\n",
    "/*24*/      pthread_join(thr, &count);\n",
    "/*25*/      printf(\"There are %d uppercase letters\\n\", count);\n",
    "/*26*/  }"
   ]
  },
  {
   "cell_type": "markdown",
   "id": "4f616e01-480a-41d3-8899-008215faa1d7",
   "metadata": {
    "editable": true,
    "slideshow": {
     "slide_type": "subslide"
    },
    "tags": [
     "question"
    ]
   },
   "source": [
    "_Compiling this program results in the following warnings:_\n",
    "```\n",
    "buggy.c:22:20: warning: incompatible integer to pointer conversion passing \n",
    "'pthread_t' (aka 'unsigned long') to parameter of type 'pthread_t *' (aka \n",
    "'unsigned long *'); take the address with & [-Wint-conversion]\n",
    "    pthread_create(thr, NULL, &count_upper, str);\n",
    "                   ^~~\n",
    "                   &\n",
    "/usr/include/pthread.h:198:50: note: passing argument to parameter \n",
    "'__newthread' here\n",
    "extern int pthread_create (pthread_t *__restrict __newthread,\n",
    "                                                 ^\n",
    "\n",
    "buggy.c:22:31: warning: incompatible function pointer types passing \n",
    "'int (*)(char *)' to parameter of type 'void *(*)(void *)' \n",
    "[-Wincompatible-function-pointer-types]\n",
    "    pthread_create(thr, NULL, &count_upper, str);\n",
    "                              ^~~~~~~~~~~~\n",
    "/usr/include/pthread.h:200:15: note: passing argument to parameter \n",
    "'__start_routine' here\n",
    "                           void *(*__start_routine) (void *),\n",
    "                                   ^\n",
    "\n",
    "buggy.c:24:23: warning: incompatible pointer types passing \n",
    "'int *' to parameter of type 'void **' [-Wincompatible-pointer-types]\n",
    "    pthread_join(thr, &count);\n",
    "                      ^~~~~~\n",
    "/usr/include/pthread.h:215:49: note: passing argument to parameter \n",
    "'__thread_return' here\n",
    "extern int pthread_join (pthread_t __th, void **__thread_return);\n",
    "                                                ^\n",
    "3 warnings generated.\n",
    "```\n",
    "_How would you change the code to fix these problems?_"
   ]
  },
  {
   "cell_type": "markdown",
   "id": "d8562715-5b62-45a0-99b0-b7979729fed4",
   "metadata": {
    "editable": true,
    "slideshow": {
     "slide_type": "skip"
    },
    "tags": [
     "answer"
    ]
   },
   "source": [
    "* Need to pass `&thr` to `pthread_create` (instead of `thr`) on line 22\n",
    "* Function executed by a thread must return `void *` and take a single `void *` parameter; replace lines 6-7 with:\n",
    "    ```C\n",
    "    void *count_upper(void *arg) {\n",
    "        char *str = (char *)arg;\n",
    "        int *count = malloc(sizeof(int));\n",
    "        *count = 0;\n",
    "    ```\n",
    "    Also replace line 10 with:\n",
    "    ```C\n",
    "    *count++;\n",
    "    ```\n",
    "* Need to pass a double pointer to `pthread_join` on line 24; replace lines 23-25 with:\n",
    "    ```C\n",
    "    int *count = NULL;\n",
    "    pthread_join(thr, &count);\n",
    "    printf(\"There are %d uppercase letters\\n\", *count);\n",
    "    ``` "
   ]
  }
 ],
 "metadata": {
  "kernelspec": {
   "display_name": "C",
   "language": "c",
   "name": "c"
  },
  "language_info": {
   "file_extension": ".c",
   "mimetype": "text/plain",
   "name": "c"
  }
 },
 "nbformat": 4,
 "nbformat_minor": 5
}
