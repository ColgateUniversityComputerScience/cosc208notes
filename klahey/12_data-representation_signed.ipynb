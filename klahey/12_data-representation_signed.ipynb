{
 "cells": [
  {
   "cell_type": "markdown",
   "id": "7f1ef6ff-3d55-41d4-a087-f6ad0221f41a",
   "metadata": {
    "editable": true,
    "slideshow": {
     "slide_type": "skip"
    },
    "tags": []
   },
   "source": [
    "# Data representation: signed integers; type conversion\n",
    "_COSC 208, Introduction to Computer Systems, Spring 2025_"
   ]
  },
  {
   "cell_type": "markdown",
   "id": "b9701003-f0bb-44e7-95b6-8fa157e12e6b",
   "metadata": {
    "editable": true,
    "slideshow": {
     "slide_type": "skip"
    },
    "tags": []
   },
   "source": [
    "## Announcements\n",
    "* Project 1 beta version due Tues, Sept 24 @ 11pm"
   ]
  },
  {
   "cell_type": "markdown",
   "id": "c1666aff-36e0-4284-a40c-06e55f464cd4",
   "metadata": {
    "editable": true,
    "slideshow": {
     "slide_type": "slide"
    },
    "tags": []
   },
   "source": [
    "## Project 1 overview\n",
    "* **Projects must be completed with a partner.** Contact Aaron if you would like help finding a partner or you want to complete a project on your own.\n",
    "* **An opportunity to revise your project is contingent upon good time management.** I expect your git history to demonstrate that you started each project shortly after it was released and you worked on the project over multiple sessions."
   ]
  },
  {
   "cell_type": "markdown",
   "id": "503d39eb-ec87-4d93-b2a8-d44febcc9356",
   "metadata": {
    "editable": true,
    "slideshow": {
     "slide_type": "subslide"
    },
    "tags": []
   },
   "source": [
    "* **Functionality**\n",
    "    * Satisfactory: **two or fewer minor bugs**\n",
    "    * Close to satisfactory: **two or fewer major bugs**\n",
    "    * See examples of minor and major bugs in project instructions\n",
    "* **Design**\n",
    "    * Satisfactory: must adhere to **all** design criteria in the project instructions\n",
    "    * Close to satisfactory: adheres to **half to three-quarters** of the design criteria"
   ]
  },
  {
   "cell_type": "markdown",
   "id": "153af8ec-a312-43aa-859b-d44b2391f830",
   "metadata": {
    "editable": true,
    "slideshow": {
     "slide_type": "subslide"
    },
    "tags": []
   },
   "source": [
    "* **Academic Integrity**\n",
    "    \n",
    "    “Set[ting] an example of ethical behavior in public and in private” is one of the 13 goals of a Colgate education. As part of this goal, Colgate has an **academic honor code** you are expected to follow. Additionally, “a computing professional should uphold, promote, and respect the principles of the **Association for Computing Machinery (ACM) Code of Ethics and Professional Conduct”**.\n",
    "    \n",
    "\n",
    "    In particular, you **may not share or copy code/answers from other students.** Violations of this policy will be considered facilitating academic misconduct and/or cheating according to Colgate’s academic honor code.\n",
    "    \n",
    "    Additionally, you **must clearly indicate if any code is copied from or inspired by external sources** (e.g., Stack Overflow, ChatGPT, GitHub Copilot) and adhere to the licensing requirements of such code. Violations of this policy will be considered cheating or plagiarism according to Colgate’s academic honor code. Note that question and answer forums (e.g., Stack Overflow) are often unreliable, and AI-based tools (e.g., ChatGPT) have significant limitations and legal complications.\n",
    "    \n",
    "    **If you are struggling to complete an activity—due to a lack of understanding, time pressure, personal matters, etc.—please contact me. I want you to succeed, and I will do everything I can to help you.** Violating the academic honesty expectations for the course (almost) always leads to a bad experience for you and me. If you are unsure what constitutes academic misconduct, please contact me as soon as possible."
   ]
  },
  {
   "cell_type": "markdown",
   "id": "f30b5550-c32f-439c-aecd-b499e1ade180",
   "metadata": {
    "editable": true,
    "slideshow": {
     "slide_type": "skip"
    },
    "tags": [
     "blank"
    ]
   },
   "source": [
    "<div style=\"page-break-after:always;\"></div>"
   ]
  },
  {
   "cell_type": "markdown",
   "id": "9aa343c3-b5ac-4385-ae24-02ba1db51f89",
   "metadata": {
    "editable": true,
    "slideshow": {
     "slide_type": "slide"
    },
    "tags": []
   },
   "source": [
    "## Signed integers"
   ]
  },
  {
   "cell_type": "markdown",
   "id": "c47054c9-e19a-487a-9c66-04968243e193",
   "metadata": {
    "editable": true,
    "slideshow": {
     "slide_type": "skip"
    },
    "tags": [
     "notes-only"
    ]
   },
   "source": [
    "* _How can we distinguish between positive values, zero, and negative values?_\n",
    "* Use a bit to encode the sign — called signed magnitude\n",
    "    * _What is an advantage of signed magnitude?_ – easy to convert between negative and positive values\n",
    "    * _What is a disadvantage of signed magnitude?_ – positive zero and negative zero\n",
    "* Have the highest order bit contribute a negative value to the sum — called two's complement\n",
    "    * Example unsigned conversion: `0b0101`\n",
    "        * 0 * 2^3 + 1 * 2^2 + 0 * 2^1 + 1 * 2^0 = 4 + 1 = 5\n",
    "    * Example signed conversion: `0b0101`\n",
    "        * 0 * -2^3 + 1 * 2^2 + 0 * 2^1 + 1 * 2^0 = 4 + 1 = 5\n",
    "    * Another example signed conversion: `0b1011`\n",
    "        * 1 * -2^3 + 0 * 2^2 + 1 * 2^1 + 1 * 2^0 = -8 + 2 + 3 = -5\n",
    "    * _How many values can be represented using 4 bits?_ — 2^4 = 16\n",
    "        * One of these values is zero (`0b0000`)\n",
    "        * _How many positive values an be represented using 4 bits?_ 2^4 / 2 - 1 = 7\n",
    "        * _How many negative values can be represented using 4 bits?_ 2^4 / 2 = 8"
   ]
  },
  {
   "cell_type": "markdown",
   "id": "70a4f29a-e8ac-4b5f-82d5-dcb8aec879b8",
   "metadata": {
    "editable": true,
    "slideshow": {
     "slide_type": "skip"
    },
    "tags": [
     "blank"
    ]
   },
   "source": [
    "<p style=\"height:10em;\"></p>"
   ]
  },
  {
   "cell_type": "markdown",
   "id": "afbaa29e-bd9b-47f7-9a36-263e7712fd1f",
   "metadata": {
    "editable": true,
    "slideshow": {
     "slide_type": ""
    },
    "tags": [
     "question"
    ]
   },
   "source": [
    "_Express the following decimal numbers using **8-bit two's complement**:_\n",
    "\n",
    "Q1: `13`"
   ]
  },
  {
   "cell_type": "markdown",
   "id": "c6955ba0-8691-4b04-8c37-3591750d3c67",
   "metadata": {
    "editable": true,
    "slideshow": {
     "slide_type": "skip"
    },
    "tags": [
     "answer"
    ]
   },
   "source": [
    "0b00001101"
   ]
  },
  {
   "cell_type": "markdown",
   "id": "a6a8a0e6-7e95-411b-90b4-573175b87b1c",
   "metadata": {
    "editable": true,
    "slideshow": {
     "slide_type": "skip"
    },
    "tags": [
     "blank"
    ]
   },
   "source": [
    "<p style=\"height:10em;\"></p>"
   ]
  },
  {
   "cell_type": "markdown",
   "id": "b6811fd7-9b03-4ad6-9f7f-92abcf401df9",
   "metadata": {
    "editable": true,
    "slideshow": {
     "slide_type": ""
    },
    "tags": [
     "question"
    ]
   },
   "source": [
    "Q2: `-128`"
   ]
  },
  {
   "cell_type": "markdown",
   "id": "d74573a9-a967-4036-a881-d4019e9d6ccd",
   "metadata": {
    "editable": true,
    "slideshow": {
     "slide_type": "skip"
    },
    "tags": [
     "answer"
    ]
   },
   "source": [
    "    0b10000000"
   ]
  },
  {
   "cell_type": "markdown",
   "id": "b152b088-a724-4771-be83-8f455471a557",
   "metadata": {
    "editable": true,
    "slideshow": {
     "slide_type": "skip"
    },
    "tags": [
     "blank"
    ]
   },
   "source": [
    "<p style=\"height:12em;\"></p>"
   ]
  },
  {
   "cell_type": "markdown",
   "id": "f19994b7-fbfc-46f5-a230-33896b7d202a",
   "metadata": {
    "editable": true,
    "slideshow": {
     "slide_type": ""
    },
    "tags": [
     "question"
    ]
   },
   "source": [
    "Q3: `-64`"
   ]
  },
  {
   "cell_type": "markdown",
   "id": "b65f9ec0-a88a-4eaf-b350-e3e692167477",
   "metadata": {
    "editable": true,
    "slideshow": {
     "slide_type": "skip"
    },
    "tags": [
     "answer"
    ]
   },
   "source": [
    "    0b11000000"
   ]
  },
  {
   "cell_type": "markdown",
   "id": "935aa75f-6f5f-4ef7-945d-f723496b0547",
   "metadata": {
    "editable": true,
    "slideshow": {
     "slide_type": "skip"
    },
    "tags": [
     "blank"
    ]
   },
   "source": [
    "<p style=\"height:10em;\"></p>"
   ]
  },
  {
   "cell_type": "markdown",
   "id": "340239c2-6c87-4485-aebb-be4a9a0a20c3",
   "metadata": {
    "editable": true,
    "slideshow": {
     "slide_type": ""
    },
    "tags": [
     "question"
    ]
   },
   "source": [
    "Q4: `-1`"
   ]
  },
  {
   "cell_type": "markdown",
   "id": "7afa1101-b6a1-454b-ba87-09f759e816e8",
   "metadata": {
    "editable": true,
    "slideshow": {
     "slide_type": "skip"
    },
    "tags": [
     "answer"
    ]
   },
   "source": [
    "    0b11111111"
   ]
  },
  {
   "cell_type": "markdown",
   "id": "48defbc8-3dee-497e-839e-ae3b6a86f342",
   "metadata": {
    "editable": true,
    "slideshow": {
     "slide_type": "skip"
    },
    "tags": [
     "blank"
    ]
   },
   "source": [
    "<p style=\"height:10em;\"></p>"
   ]
  },
  {
   "cell_type": "markdown",
   "id": "7114c1bf-c659-45a5-b86a-ade1df5997c9",
   "metadata": {
    "editable": true,
    "slideshow": {
     "slide_type": ""
    },
    "tags": [
     "question"
    ]
   },
   "source": [
    "Q5: Convert `0b11001100` to **unsigned decimal**"
   ]
  },
  {
   "cell_type": "markdown",
   "id": "fbc8f68c-cd6f-41b5-a494-125c3aa876c5",
   "metadata": {
    "editable": true,
    "slideshow": {
     "slide_type": "skip"
    },
    "tags": [
     "answer"
    ]
   },
   "source": [
    "    128 + 64 + 8 + 4 = 204"
   ]
  },
  {
   "cell_type": "markdown",
   "id": "3802d82c-cf1f-44d3-964e-ce26339ae9ea",
   "metadata": {
    "editable": true,
    "slideshow": {
     "slide_type": "skip"
    },
    "tags": [
     "blank"
    ]
   },
   "source": [
    "<p style=\"height:5em;\"></p>"
   ]
  },
  {
   "cell_type": "markdown",
   "id": "f1d61373-0ef9-46f7-914b-bca5e9acce1e",
   "metadata": {
    "editable": true,
    "slideshow": {
     "slide_type": ""
    },
    "tags": [
     "question"
    ]
   },
   "source": [
    "Q6: Convert `0b11001100` to **signed decimal**"
   ]
  },
  {
   "cell_type": "markdown",
   "id": "1dae14fd-ec8f-43fd-bec2-af7849eb1033",
   "metadata": {
    "editable": true,
    "slideshow": {
     "slide_type": "skip"
    },
    "tags": [
     "answer"
    ]
   },
   "source": [
    "    -52"
   ]
  },
  {
   "cell_type": "markdown",
   "id": "8c09f933-9638-4302-9548-0c68345ed762",
   "metadata": {
    "editable": true,
    "slideshow": {
     "slide_type": "skip"
    },
    "tags": [
     "blank"
    ]
   },
   "source": [
    "<p style=\"height:5em;\"></p>"
   ]
  },
  {
   "cell_type": "markdown",
   "id": "324e723d-7035-47db-ad49-e8e5a61e4a87",
   "metadata": {
    "editable": true,
    "slideshow": {
     "slide_type": "slide"
    },
    "tags": [
     "question"
    ]
   },
   "source": [
    "_Express the following decimal numbers using **8-bit two's complement**:_\n",
    "\n",
    "Q7: `-49`"
   ]
  },
  {
   "cell_type": "markdown",
   "id": "6f60ccb8-6f63-4478-afd5-03582b3a4b59",
   "metadata": {
    "editable": true,
    "slideshow": {
     "slide_type": "skip"
    },
    "tags": [
     "answer"
    ]
   },
   "source": [
    "    0b11001111"
   ]
  },
  {
   "cell_type": "markdown",
   "id": "81874180-7fa6-4228-9f87-b59cb83f9d8b",
   "metadata": {
    "editable": true,
    "slideshow": {
     "slide_type": "skip"
    },
    "tags": [
     "blank"
    ]
   },
   "source": [
    "<p style=\"height:10em;\"></p>"
   ]
  },
  {
   "cell_type": "markdown",
   "id": "1903e817-1d8d-472d-9871-f306545c422f",
   "metadata": {
    "editable": true,
    "jp-MarkdownHeadingCollapsed": true,
    "slideshow": {
     "slide_type": ""
    },
    "tags": [
     "question"
    ]
   },
   "source": [
    "Q8: `-11`"
   ]
  },
  {
   "cell_type": "markdown",
   "id": "656eb440-6cea-41bd-a3c6-d96c7bb11832",
   "metadata": {
    "editable": true,
    "slideshow": {
     "slide_type": "skip"
    },
    "tags": [
     "answer"
    ]
   },
   "source": [
    "    0b11110101"
   ]
  },
  {
   "cell_type": "markdown",
   "id": "025e1fdd-dd33-4a2c-b87b-85bd6825fc5c",
   "metadata": {
    "editable": true,
    "slideshow": {
     "slide_type": "skip"
    },
    "tags": [
     "blank"
    ]
   },
   "source": [
    "<p style=\"height:10em;\"></p>"
   ]
  },
  {
   "cell_type": "markdown",
   "id": "9c8f43c0-f466-447f-8b1e-07ce4ee82750",
   "metadata": {
    "editable": true,
    "slideshow": {
     "slide_type": ""
    },
    "tags": [
     "question"
    ]
   },
   "source": [
    "Q9: `-42`"
   ]
  },
  {
   "cell_type": "markdown",
   "id": "dbb765b8-292d-4dac-931c-1cc3502da812",
   "metadata": {
    "editable": true,
    "slideshow": {
     "slide_type": "skip"
    },
    "tags": [
     "answer"
    ]
   },
   "source": [
    "    0b11010110"
   ]
  },
  {
   "cell_type": "markdown",
   "id": "fc50b2bf-895b-4ace-80c9-9a303fff8c53",
   "metadata": {
    "editable": true,
    "slideshow": {
     "slide_type": "skip"
    },
    "tags": [
     "blank"
    ]
   },
   "source": [
    "<p style=\"height:10em;\"></p>"
   ]
  },
  {
   "cell_type": "markdown",
   "id": "f19a6701-7c97-4ce9-8d5f-e6a09d35440b",
   "metadata": {
    "editable": true,
    "slideshow": {
     "slide_type": ""
    },
    "tags": [
     "question"
    ]
   },
   "source": [
    "Q10: `97`"
   ]
  },
  {
   "cell_type": "markdown",
   "id": "994ff42e-0e09-4a8b-a3e3-f681811ba404",
   "metadata": {
    "editable": true,
    "slideshow": {
     "slide_type": "skip"
    },
    "tags": [
     "answer"
    ]
   },
   "source": [
    "    0b01100001"
   ]
  },
  {
   "cell_type": "markdown",
   "id": "a790d8c3-384e-4e83-9908-005f0c47a983",
   "metadata": {
    "editable": true,
    "slideshow": {
     "slide_type": "skip"
    },
    "tags": [
     "blank"
    ]
   },
   "source": [
    "<p style=\"height:10em;\"></p>"
   ]
  },
  {
   "cell_type": "markdown",
   "id": "f05ea6ff-cb58-493e-a0c2-4fa5cb01cb8b",
   "metadata": {
    "editable": true,
    "slideshow": {
     "slide_type": "skip"
    },
    "tags": [
     "notes-only"
    ]
   },
   "source": [
    "* _What is the easy way to negate a number?_\n",
    "    * Flip all bits and add 1\n",
    "    * Example: \n",
    "        * 11 = `0b00001011`\n",
    "        * Flip bits: `0b11110100`\n",
    "        * Add 1: `0b11110101`"
   ]
  },
  {
   "cell_type": "markdown",
   "id": "6b2d45e2-72ce-4220-b235-8f48ff08d9b5",
   "metadata": {
    "editable": true,
    "slideshow": {
     "slide_type": "slide"
    },
    "tags": []
   },
   "source": [
    "## Type conversion"
   ]
  },
  {
   "cell_type": "markdown",
   "id": "3c8cdbe9-b02d-48d9-8646-4e0e3ff9fa1e",
   "metadata": {
    "editable": true,
    "slideshow": {
     "slide_type": "skip"
    },
    "tags": [
     "notes-only"
    ]
   },
   "source": [
    "* Format specifiers for printing decimal numbers indicate whether to interpret the number as signed or unsigned – e.g.,"
   ]
  },
  {
   "cell_type": "code",
   "execution_count": 1,
   "id": "fc8fe166-e15a-4a91-a9fe-58297baea8b0",
   "metadata": {
    "editable": true,
    "slideshow": {
     "slide_type": ""
    },
    "tags": [
     "worksheet-code-only"
    ]
   },
   "outputs": [
    {
     "name": "stdout",
     "output_type": "stream",
     "text": [
      "-123456 4294843840\n"
     ]
    }
   ],
   "source": [
    "// Example 1\n",
    "#include <stdio.h>\n",
    "int main() {\n",
    "    int x = -123456;\n",
    "    printf(\"%d %u\\n\", x, x);\n",
    "}"
   ]
  },
  {
   "cell_type": "markdown",
   "id": "69661ad4-375b-4513-97dc-addefc7d4038",
   "metadata": {
    "editable": true,
    "slideshow": {
     "slide_type": "skip"
    },
    "tags": [
     "notes-only"
    ]
   },
   "source": [
    "* Range of numbers each type can accommodate depends on the number of bits of memory reserved for a variable of that type\n",
    "    * `char` - 8 bits --> 0 to 255 (unsigned) or -128 to 127 (signed)\n",
    "    * `int` – 32 bits --> 0 to ~4.2 billion (unsigned) or ~-2.1 billion to ~2.1 billion (signed)\n",
    "    * `long` – 64 bits --> 0 to ~18 quadrillion (unsigned) or ~-9 quadrillion to 9 quadrillion (signed)"
   ]
  },
  {
   "cell_type": "markdown",
   "id": "3e122224-1d80-42a7-8b47-14c5d60f3da0",
   "metadata": {
    "editable": true,
    "slideshow": {
     "slide_type": "skip"
    },
    "tags": [
     "notes-only"
    ]
   },
   "source": [
    "* _What happens if you attempt to assign a constant value that is too large to represent using the number of available bits?_ – e.g.,"
   ]
  },
  {
   "cell_type": "code",
   "execution_count": 4,
   "id": "26716799-46af-4ab5-aea0-92bb18654969",
   "metadata": {
    "editable": true,
    "slideshow": {
     "slide_type": "subslide"
    },
    "tags": [
     "worksheet-code-only"
    ]
   },
   "outputs": [
    {
     "name": "stderr",
     "output_type": "stream",
     "text": [
      "/var/folders/bd/35sz70xs5837wszrx11bw1yc0000gn/T/tmph0fix2tx.c:3:23: warning: implicit conversion from 'int' to 'unsigned char' changes value from 300 to 44 [-Wconstant-conversion]\n",
      "    unsigned char c = 300;\n",
      "                  ~   ^~~\n",
      "1 warning generated.\n"
     ]
    },
    {
     "name": "stdout",
     "output_type": "stream",
     "text": [
      "44\n"
     ]
    }
   ],
   "source": [
    "// Example 2\n",
    "#include <stdio.h>\n",
    "int main() {\n",
    "    unsigned char c = 300;\n",
    "    printf(\"%u\\n\", c);\n",
    "}"
   ]
  },
  {
   "cell_type": "markdown",
   "id": "cdd04a8e-549c-4937-a2f7-d48688f70df6",
   "metadata": {
    "editable": true,
    "slideshow": {
     "slide_type": "skip"
    },
    "tags": [
     "notes-only"
    ]
   },
   "source": [
    "* However, if you assign a variable whose value is too large to represent using the number of available bits, then the value is truncated but **no warning is generated** – e.g.,"
   ]
  },
  {
   "cell_type": "code",
   "execution_count": 5,
   "id": "5c6f2e65-c9cb-4a78-9775-bc96b65679f6",
   "metadata": {
    "editable": true,
    "slideshow": {
     "slide_type": "subslide"
    },
    "tags": [
     "worksheet-code-only"
    ]
   },
   "outputs": [
    {
     "name": "stdout",
     "output_type": "stream",
     "text": [
      "44\n"
     ]
    }
   ],
   "source": [
    "// Example 3\n",
    "#include <stdio.h>\n",
    "int main() {\n",
    "    unsigned int i = 300;\n",
    "    unsigned char c = i;\n",
    "    printf(\"%u\\n\", c);\n",
    "}"
   ]
  },
  {
   "cell_type": "markdown",
   "id": "fe372bbd-a500-4094-bfe9-eeca02c402df",
   "metadata": {
    "editable": true,
    "slideshow": {
     "slide_type": "skip"
    },
    "tags": [
     "notes-only"
    ]
   },
   "source": [
    "* Takeaway: carefully consider the range of values a variable can accommodate, because C will let you do things that are dangerous"
   ]
  },
  {
   "cell_type": "markdown",
   "id": "afc15b5b-8a3b-4d7c-88b1-74027168ec67",
   "metadata": {
    "editable": true,
    "slideshow": {
     "slide_type": "skip"
    },
    "tags": [
     "blank"
    ]
   },
   "source": [
    "<p style=\"height:11em;\"></p>"
   ]
  },
  {
   "cell_type": "markdown",
   "id": "5efc7de3-b4ce-43ff-b150-742ba3855834",
   "metadata": {
    "editable": true,
    "slideshow": {
     "slide_type": "subslide"
    },
    "tags": [
     "question"
    ]
   },
   "source": [
    "Q11: _What is the largest magnitude negative number that can be represented using 5-bit two's complement?_"
   ]
  },
  {
   "cell_type": "markdown",
   "id": "185203fb-4023-467b-a461-1e667916e15f",
   "metadata": {
    "editable": true,
    "slideshow": {
     "slide_type": "skip"
    },
    "tags": [
     "answer"
    ]
   },
   "source": [
    "    -16"
   ]
  },
  {
   "cell_type": "markdown",
   "id": "82d7dd24-4803-4194-a00d-533590fafd99",
   "metadata": {
    "editable": true,
    "slideshow": {
     "slide_type": "skip"
    },
    "tags": [
     "blank"
    ]
   },
   "source": [
    "<p style=\"height:3em;\"></p>"
   ]
  },
  {
   "cell_type": "markdown",
   "id": "c2cfe8d1-83b6-4bad-9eb0-8f86b3d7864a",
   "metadata": {
    "editable": true,
    "slideshow": {
     "slide_type": ""
    },
    "tags": [
     "question"
    ]
   },
   "source": [
    "Q12: _What is the smallest magnitude negative number that can be represented using 5-bit two's complement?_"
   ]
  },
  {
   "cell_type": "markdown",
   "id": "4513d93c-3be5-4bd5-bcb5-2e5f66707e1c",
   "metadata": {
    "editable": true,
    "slideshow": {
     "slide_type": "skip"
    },
    "tags": [
     "answer"
    ]
   },
   "source": [
    "    -1"
   ]
  },
  {
   "cell_type": "markdown",
   "id": "ac330875-6cc2-4307-99d4-c1ba924555d7",
   "metadata": {
    "editable": true,
    "slideshow": {
     "slide_type": "skip"
    },
    "tags": [
     "blank"
    ]
   },
   "source": [
    "<p style=\"height:3em;\"></p>"
   ]
  },
  {
   "cell_type": "markdown",
   "id": "582550a9-c4c9-4845-aec2-0e122ac1e041",
   "metadata": {
    "editable": true,
    "slideshow": {
     "slide_type": ""
    },
    "tags": [
     "question"
    ]
   },
   "source": [
    "Q13: _What is the largest magnitude positive number that can be represented using 5-bit two's complement?_"
   ]
  },
  {
   "cell_type": "markdown",
   "id": "0daaa1c0-dde3-424f-9172-d2376f094016",
   "metadata": {
    "editable": true,
    "slideshow": {
     "slide_type": "skip"
    },
    "tags": [
     "answer"
    ]
   },
   "source": [
    "    15"
   ]
  },
  {
   "cell_type": "markdown",
   "id": "3a725780-f4fd-4319-be19-092d52cfa852",
   "metadata": {
    "editable": true,
    "slideshow": {
     "slide_type": "skip"
    },
    "tags": [
     "blank"
    ]
   },
   "source": [
    "<p style=\"height:2em;\"></p>"
   ]
  },
  {
   "cell_type": "markdown",
   "id": "f6488311-26e5-4d2f-811c-dd1808ced2bb",
   "metadata": {
    "editable": true,
    "slideshow": {
     "slide_type": "subslide"
    },
    "tags": [
     "question"
    ]
   },
   "source": [
    "_Express your answers to the following questions in terms of `n`: e.g., `n/2`._\n",
    "\n",
    "Q14: _What is the minimum number of bits required to express the unsigned decimal number **2<sup>n</sup> - 1**?_"
   ]
  },
  {
   "cell_type": "markdown",
   "id": "9882e3a4-34b2-4671-9fbc-f68f43e9c0dd",
   "metadata": {
    "editable": true,
    "slideshow": {
     "slide_type": "skip"
    },
    "tags": [
     "answer"
    ]
   },
   "source": [
    "    n"
   ]
  },
  {
   "cell_type": "markdown",
   "id": "5d808773-c078-45d4-a768-b6a0d6b9730f",
   "metadata": {
    "editable": true,
    "slideshow": {
     "slide_type": "skip"
    },
    "tags": [
     "blank"
    ]
   },
   "source": [
    "<p style=\"height:2em;\"></p>"
   ]
  },
  {
   "cell_type": "markdown",
   "id": "20997793-5af2-4f2c-9319-00af2bd6ac11",
   "metadata": {
    "editable": true,
    "jp-MarkdownHeadingCollapsed": true,
    "slideshow": {
     "slide_type": ""
    },
    "tags": [
     "question"
    ]
   },
   "source": [
    "Q15: _What is the minimum number of bits required to express the signed decimal number **2<sup>n</sup> − 1** using two’s complement?_"
   ]
  },
  {
   "cell_type": "markdown",
   "id": "f34065e7-38e3-410e-9dc0-7c88a76e5a21",
   "metadata": {
    "editable": true,
    "slideshow": {
     "slide_type": "skip"
    },
    "tags": [
     "answer"
    ]
   },
   "source": [
    "    n + 1"
   ]
  },
  {
   "cell_type": "markdown",
   "id": "9d9eb5d4-a9e4-41e2-b4dc-61ba8565cb21",
   "metadata": {
    "editable": true,
    "slideshow": {
     "slide_type": "skip"
    },
    "tags": [
     "blank"
    ]
   },
   "source": [
    "<p style=\"height:2em;\"></p>"
   ]
  },
  {
   "cell_type": "markdown",
   "id": "193606e0-8ca4-4a9b-8342-021c5f01ed56",
   "metadata": {
    "editable": true,
    "jp-MarkdownHeadingCollapsed": true,
    "slideshow": {
     "slide_type": ""
    },
    "tags": [
     "question"
    ]
   },
   "source": [
    "Q16: _What is the minimum number of bits required to express the signed decimal number **−2<sup>n</sup>  + 1** using two’s complement?_"
   ]
  },
  {
   "cell_type": "markdown",
   "id": "26aa034b-a049-49df-860d-7ce21b9f0480",
   "metadata": {
    "editable": true,
    "slideshow": {
     "slide_type": "skip"
    },
    "tags": [
     "answer"
    ]
   },
   "source": [
    "    n + 1"
   ]
  },
  {
   "cell_type": "markdown",
   "id": "dd25a331-9258-454f-bcce-6d09203b4e16",
   "metadata": {
    "editable": true,
    "slideshow": {
     "slide_type": "skip"
    },
    "tags": [
     "blank"
    ]
   },
   "source": [
    "<p style=\"height:2em;\"></p>"
   ]
  },
  {
   "cell_type": "markdown",
   "id": "3c8a9c0a-e9d1-4f61-b98e-02d7f8084d24",
   "metadata": {
    "editable": true,
    "slideshow": {
     "slide_type": "slide"
    },
    "tags": [
     "question"
    ]
   },
   "source": [
    "## Extra practice\n",
    "Q17: _Write a function called `sign` that takes a number expressed in binary using two's complement and returns `-1` if the number is negative, `0` if the number is zero, or `1` if the number is positive. The binary is stored as a character array that starts with `0b` and contains an arbitrary number of `'0'` and `'1'` characters._"
   ]
  },
  {
   "cell_type": "code",
   "execution_count": 2,
   "id": "00e7eb17-f77c-4723-8465-ade65694af06",
   "metadata": {
    "editable": true,
    "slideshow": {
     "slide_type": "skip"
    },
    "tags": [
     "answer"
    ]
   },
   "outputs": [],
   "source": [
    "#include <string.h>\n",
    "int sign(char binary[]) {\n",
    "    if (binary[2] == '1') {\n",
    "        return -1;\n",
    "    } else {\n",
    "        for (int i = 3; i < strlen(binary); i++) {\n",
    "            if (binary[i] == '1') {\n",
    "                return 1;\n",
    "            }\n",
    "        }\n",
    "        return 0;\n",
    "    }\n",
    "}\n",
    "// Testing\n",
    "#include <assert.h>\n",
    "int main() {\n",
    "    assert(sign(\"0b0100\") == 1);\n",
    "    assert(sign(\"0b1000\") == -1);\n",
    "    assert(sign(\"0b0000\") == 0);\n",
    "}"
   ]
  },
  {
   "cell_type": "markdown",
   "id": "12e4634a-ac6f-4bc7-8885-c85a3c37b443",
   "metadata": {
    "editable": true,
    "slideshow": {
     "slide_type": "skip"
    },
    "tags": [
     "blank"
    ]
   },
   "source": [
    "<p style=\"height:20em;\"></p>"
   ]
  },
  {
   "cell_type": "markdown",
   "id": "c80639d0-8d2e-40a3-835c-62eef6d9f686",
   "metadata": {
    "editable": true,
    "slideshow": {
     "slide_type": ""
    },
    "tags": [
     "question"
    ]
   },
   "source": [
    "Q18: Convert `0x27` to unsigned decimal"
   ]
  },
  {
   "cell_type": "markdown",
   "id": "cc8e85d5-8a68-4129-98a2-2b2872307b42",
   "metadata": {
    "editable": true,
    "slideshow": {
     "slide_type": "skip"
    },
    "tags": [
     "answer"
    ]
   },
   "source": [
    "    39"
   ]
  },
  {
   "cell_type": "markdown",
   "id": "8df6bb9b-2d29-4fa9-8bf0-b9deabbbfd32",
   "metadata": {
    "editable": true,
    "slideshow": {
     "slide_type": "skip"
    },
    "tags": [
     "blank"
    ]
   },
   "source": [
    "<p style=\"height:5em;\"></p>"
   ]
  },
  {
   "cell_type": "markdown",
   "id": "f8747052-04d9-4e95-be2f-d0dd684d57e3",
   "metadata": {
    "editable": true,
    "slideshow": {
     "slide_type": ""
    },
    "tags": [
     "question"
    ]
   },
   "source": [
    "Q19: `0xDEAD` to 16-bit binary"
   ]
  },
  {
   "cell_type": "markdown",
   "id": "4f7d90eb-82c6-4485-810c-acf377695e2c",
   "metadata": {
    "editable": true,
    "slideshow": {
     "slide_type": "skip"
    },
    "tags": [
     "answer"
    ]
   },
   "source": [
    "    0b1101111010101101"
   ]
  },
  {
   "cell_type": "markdown",
   "id": "131df4bb-fe4e-48f7-9910-f4cfbd88a8e0",
   "metadata": {
    "editable": true,
    "slideshow": {
     "slide_type": "skip"
    },
    "tags": [
     "blank"
    ]
   },
   "source": [
    "<p style=\"height:5em;\"></p>"
   ]
  }
 ],
 "metadata": {
  "kernelspec": {
   "display_name": "C",
   "language": "c",
   "name": "c"
  },
  "language_info": {
   "file_extension": ".c",
   "mimetype": "text/plain",
   "name": "c"
  }
 },
 "nbformat": 4,
 "nbformat_minor": 5
}
