{
 "cells": [
  {
   "cell_type": "markdown",
   "id": "ffc437ac-d10b-4d12-895d-712e9c2057b5",
   "metadata": {
    "editable": true,
    "slideshow": {
     "slide_type": "skip"
    },
    "tags": []
   },
   "source": [
    "# Operating Systems: processes\n",
    "_COSC 208, Introduction to Computer Systems, Spring 2025_"
   ]
  },
  {
   "cell_type": "markdown",
   "id": "a310254f-36a4-4544-8e8e-8bdc64bf00e6",
   "metadata": {
    "editable": true,
    "slideshow": {
     "slide_type": "slide"
    },
    "tags": []
   },
   "source": [
    "## Announcements\n",
    "* Project 3 intial submission due Tuesday, April 15 @ 11pm"
   ]
  },
  {
   "cell_type": "markdown",
   "id": "e433407a-25b7-43ac-9872-6c5891db02d3",
   "metadata": {
    "editable": true,
    "slideshow": {
     "slide_type": "subslide"
    },
    "tags": []
   },
   "source": [
    "## Process abstraction"
   ]
  },
  {
   "cell_type": "markdown",
   "id": "a92c3c62-2d10-42a1-9bb0-180e648794e8",
   "metadata": {
    "editable": true,
    "slideshow": {
     "slide_type": "skip"
    },
    "tags": [
     "notes-only"
    ]
   },
   "source": [
    "* Process — running program and its corresponding machine state (code, memory, and register values)\n",
    "    * Program is static code and static data; process is dynamic instance of code and data\n",
    "    * Cooking analogy\n",
    "        * Recipe == program\n",
    "        * Following a recipe == process\n",
    "        * Ingredients == program inputs\n",
    "        * Prepared food == program outputs\n",
    "        * Cabinets, fridge, etc. == persistent storage\n",
    "        * Prep area (e.g., counter) == registers & main memory\n",
    "        * Contents and status of the prep area; current step of recipe == machine state\n",
    "        * Chef == CPU\n",
    "    * Can have multiple processes all running different instances of the same program\n",
    "        * Cooking analogy — chef may be making multiple batches of the same recipe\n",
    "* OS is responsible for...\n",
    "    * Creating processes — when a user or another application requests it\n",
    "    * Scheduling processes — i.e., deciding when/which process should be allowed to use the CPU\n",
    "    * Switching processes — i.e., saving the machine state of one process and restoring the machine state of another process; called context switching\n",
    "    * Cleaning-up processes — i.e., releasing any resources they are using when the process is done\n",
    "    * Interacting with I/O devices (e.g., disks, NICs, graphics card) on behalf of processes"
   ]
  },
  {
   "cell_type": "markdown",
   "id": "7f557c79-c528-49dd-a307-c45251ee24ce",
   "metadata": {
    "editable": true,
    "slideshow": {
     "slide_type": "skip"
    },
    "tags": [
     "blank"
    ]
   },
   "source": [
    "<div style=\"height:11em;\"></div>"
   ]
  },
  {
   "cell_type": "markdown",
   "id": "6ff8ac25-4497-4623-8d8e-4290d38316a2",
   "metadata": {
    "editable": true,
    "slideshow": {
     "slide_type": "skip"
    },
    "tags": [
     "question"
    ]
   },
   "source": [
    "Q1: _Consider building a Lego kit as an analogy for operating systems' process abstraction. Match each component of the analogy with the corresponding component of a real computer system._"
   ]
  },
  {
   "cell_type": "markdown",
   "id": "f1525748-c48d-47f7-9d71-07a6f5a637be",
   "metadata": {
    "editable": true,
    "slideshow": {
     "slide_type": ""
    },
    "tags": [
     "blank"
    ]
   },
   "source": [
    "* Analogy\n",
    "    1. Cabinet/drawers for storing Legos\n",
    "    2. Lego bricks\n",
    "    3. Building area (e.g., tabletop)\n",
    "    4. Instruction booklet\n",
    "    5. Following the assembly instructions\n",
    "    6. Current step for the instruction booklet\n",
    "    7. Completed kit\n",
    "    8. You\n",
    "* Real system\n",
    "    * CPU\n",
    "    * persistent storage\n",
    "    * process\n",
    "    * program\n",
    "    * program counter\n",
    "    * program inputs\n",
    "    * program outputs\n",
    "    * registers and main memory"
   ]
  },
  {
   "cell_type": "markdown",
   "id": "080adbb5-2a4e-4237-8f5d-acb1f6b954a9",
   "metadata": {
    "editable": true,
    "slideshow": {
     "slide_type": "skip"
    },
    "tags": [
     "answer"
    ]
   },
   "source": [
    "* Instruction booklet == program\n",
    "* Following the assembly instructions == process\n",
    "* Lego bricks == program inputs\n",
    "* Completed kit == program outputs\n",
    "* Cabinet/drawers for storing Legos == persistent storage\n",
    "* Building area (e.g., tabletop) == registers and main memory\n",
    "* Current step for the instruction booklet == program counter\n",
    "* You == CPU"
   ]
  },
  {
   "cell_type": "markdown",
   "id": "4c187212-e296-46ad-b1e9-bf189a178ee9",
   "metadata": {
    "editable": true,
    "slideshow": {
     "slide_type": "slide"
    },
    "tags": []
   },
   "source": [
    "## Creating processes"
   ]
  },
  {
   "cell_type": "markdown",
   "id": "59cc9231-2687-4a80-b1d7-c238664209ec",
   "metadata": {
    "editable": true,
    "slideshow": {
     "slide_type": "skip"
    },
    "tags": [
     "notes-only"
    ]
   },
   "source": [
    "* `int fork()`\n",
    "    * Creates an exact copy of the running process, except for the return value from `fork` — return `0` to child (i.e., new) process; return child’s process ID to parent process (i.e., process that called fork)\n",
    "    * Both child and parent resume execution from place where `fork` was called"
   ]
  },
  {
   "cell_type": "markdown",
   "id": "643c4666-88f4-470a-9ee3-a2e0f7aa9aa7",
   "metadata": {
    "editable": true,
    "slideshow": {
     "slide_type": "skip"
    },
    "tags": [
     "blank"
    ]
   },
   "source": [
    "<div style=\"height:5em;\"></div>"
   ]
  },
  {
   "cell_type": "markdown",
   "id": "fe352157-0cec-4cee-b13d-d9a74feabd9f",
   "metadata": {
    "editable": true,
    "slideshow": {
     "slide_type": ""
    },
    "tags": [
     "question"
    ]
   },
   "source": [
    "Q2: _What does the following code output?_"
   ]
  },
  {
   "cell_type": "code",
   "execution_count": 1,
   "id": "0dc6f4fa-6212-471b-82af-e33a4ab20b96",
   "metadata": {
    "editable": true,
    "slideshow": {
     "slide_type": ""
    },
    "tags": [
     "worksheet-code-only"
    ]
   },
   "outputs": [
    {
     "name": "stdout",
     "output_type": "stream",
     "text": [
      "Before fork 13\n",
      "After fork 13\n",
      "After fork 13\n"
     ]
    }
   ],
   "source": [
    "/* 1*/  #include <stdio.h>\n",
    "/* 2*/  #include <unistd.h>\n",
    "/* 3*/  int main(int argc, char **argv) {\n",
    "/* 4*/      int x = 13;\n",
    "/* 5*/      printf(\"Before fork %d\\n\", x);\n",
    "/* 6*/      fork();\n",
    "/* 7*/      printf(\"After fork %d\\n\", x);\n",
    "/* 8*/      return 0;\n",
    "/* 9*/  }"
   ]
  },
  {
   "cell_type": "markdown",
   "id": "e57c70ff-c7cb-4123-b63c-4580ee6e6086",
   "metadata": {
    "editable": true,
    "slideshow": {
     "slide_type": "skip"
    },
    "tags": [
     "blank"
    ]
   },
   "source": [
    "<div style=\"height:10em;\"></div>"
   ]
  },
  {
   "cell_type": "markdown",
   "id": "48c21979-4a22-4b56-8f1b-50252c134bc2",
   "metadata": {
    "editable": true,
    "slideshow": {
     "slide_type": "subslide"
    },
    "tags": [
     "question"
    ]
   },
   "source": [
    "Q3: _What does the following code output (assuming the new process has PID 1819)?_"
   ]
  },
  {
   "cell_type": "code",
   "execution_count": null,
   "id": "414aae8a-59d9-4de9-810b-db7c2a18150a",
   "metadata": {
    "editable": true,
    "slideshow": {
     "slide_type": ""
    },
    "tags": [
     "question"
    ]
   },
   "outputs": [],
   "source": [
    "/* 1*/  #include <stdio.h>\n",
    "/* 2*/  #include <unistd.h>    \n",
    "/* 3*/  int main(int argc, char **argv) {\n",
    "/* 4*/      printf(\"Before fork\\n\");\n",
    "/* 5*/      int pid = fork();\n",
    "/* 6*/      if (pid < 0) {\n",
    "/* 7*/          printf(\"Fork failed\\n\");\n",
    "/* 8*/          return 1;\n",
    "/* 9*/      } else if (pid == 0) {\n",
    "/*10*/          printf(\"Child gets %d\\n\", pid);\n",
    "/*11*/      } else {\n",
    "/*12*/          printf(\"Parent gets %d\\n\", pid);\n",
    "/*13*/      }\n",
    "/*14*/      return 0;\n",
    "/*15*/  }"
   ]
  },
  {
   "cell_type": "markdown",
   "id": "b9bb43be-7a01-42f7-ae89-cd7b03bc7822",
   "metadata": {
    "editable": true,
    "slideshow": {
     "slide_type": "skip"
    },
    "tags": [
     "answer"
    ]
   },
   "source": [
    "```\n",
    "Before fork\n",
    "Child gets 0\n",
    "Parent gets 1819\n",
    "```\n",
    "OR\n",
    "```\n",
    "Before fork\n",
    "Parent gets 1819\n",
    "Child gets 0\n",
    "``` "
   ]
  },
  {
   "cell_type": "markdown",
   "id": "c4103de4-b417-4b0f-bb37-bac74de9a772",
   "metadata": {
    "editable": true,
    "slideshow": {
     "slide_type": "skip"
    },
    "tags": [
     "blank"
    ]
   },
   "source": [
    "<div style=\"height:10em;\"></div>"
   ]
  },
  {
   "cell_type": "markdown",
   "id": "bfb66dd4-ade4-4eb6-af04-29c988807bcb",
   "metadata": {
    "editable": true,
    "slideshow": {
     "slide_type": "subslide"
    },
    "tags": [
     "question"
    ]
   },
   "source": [
    "Q4: _What are all possible outputs of this program, assuming the process identifier (PID) of the parent process is 50 and the PID of the child process is 60?_"
   ]
  },
  {
   "cell_type": "code",
   "execution_count": null,
   "id": "dbd89b3e-9153-4206-a13d-bbacbf4354de",
   "metadata": {
    "editable": true,
    "slideshow": {
     "slide_type": ""
    },
    "tags": [
     "question"
    ]
   },
   "outputs": [],
   "source": [
    "/* 1*/  #include <stdio.h>\n",
    "/* 2*/  #include <unistd.h>    \n",
    "/* 3*/  int main() {\n",
    "/* 4*/      int n = 20;\n",
    "/* 5*/      int x = fork();\n",
    "/* 6*/      if (x < 0) {\n",
    "/* 7*/          printf(\"Fork failed\\n\");\n",
    "/* 8*/          return 1;\n",
    "/* 9*/      } else if (x == 0) {\n",
    "/*10*/          n += 5;\n",
    "/*11*/      } else {\n",
    "/*12*/          n += 10;\n",
    "/*13*/      }\n",
    "/*14*/      printf(\"x=%d n=%d\\n\", x, n);\n",
    "/*15*/  }"
   ]
  },
  {
   "cell_type": "markdown",
   "id": "21b016ee-e597-4244-932c-14ec23db0f29",
   "metadata": {
    "editable": true,
    "slideshow": {
     "slide_type": "skip"
    },
    "tags": [
     "answer"
    ]
   },
   "source": [
    "```\n",
    "x=0 n=25\n",
    "x=60 n=30\n",
    "```\n",
    "OR\n",
    "```\n",
    "x=60 n=30\n",
    "x=0 n=25\n",
    "```"
   ]
  },
  {
   "cell_type": "markdown",
   "id": "c093468d-c5fe-4eb0-9278-97d73984142e",
   "metadata": {
    "editable": true,
    "slideshow": {
     "slide_type": "skip"
    },
    "tags": [
     "blank"
    ]
   },
   "source": [
    "<div style=\"height:9em;\"></div>"
   ]
  },
  {
   "cell_type": "markdown",
   "id": "165e4f3c-ac6d-4221-9e99-3a3b4918d6f2",
   "metadata": {
    "editable": true,
    "slideshow": {
     "slide_type": "subslide"
    },
    "tags": [
     "question"
    ]
   },
   "source": [
    "Q5: _What does the following code output?_"
   ]
  },
  {
   "cell_type": "code",
   "execution_count": null,
   "id": "ffd1fd64-903c-4729-bc8d-292cad550f4d",
   "metadata": {
    "editable": true,
    "slideshow": {
     "slide_type": ""
    },
    "tags": [
     "question"
    ]
   },
   "outputs": [],
   "source": [
    "/* 1*/  #include <stdio.h>\n",
    "/* 2*/  #include <unistd.h>\n",
    "/* 3*/  int main() {\n",
    "/* 4*/      int x = 10;\n",
    "/* 5*/      int y = 20;\n",
    "/* 6*/      int retval = fork();\n",
    "/* 7*/      if (retval < 0) {\n",
    "/* 8*/          printf(\"Fork failed\\n\");\n",
    "/* 9*/          return 1;\n",
    "/*10*/      } else if (retval > 0) {\n",
    "/*11*/          y+= 5;\n",
    "/*12*/      } else {\n",
    "/*13*/          y -= 5;\n",
    "/*14*/      }\n",
    "/*15*/      printf(\"x=%d y=%d\\n\", x, y);\n",
    "/*16*/      return 0;\n",
    "/*17*/  }"
   ]
  },
  {
   "cell_type": "markdown",
   "id": "28b44a8d-588f-47c1-adbb-99a795001b39",
   "metadata": {
    "editable": true,
    "slideshow": {
     "slide_type": "skip"
    },
    "tags": [
     "answer"
    ]
   },
   "source": [
    "```\n",
    "x=10 y=25\n",
    "x=10 y=15\n",
    "```\n",
    "OR\n",
    "```\n",
    "x=10 y=15\n",
    "x=10 y=25\n",
    "```"
   ]
  },
  {
   "cell_type": "markdown",
   "id": "b5253557-4458-44d3-9987-b29e7835acfb",
   "metadata": {
    "editable": true,
    "slideshow": {
     "slide_type": "skip"
    },
    "tags": [
     "blank"
    ]
   },
   "source": [
    "<div style=\"height:9em;\"></div>"
   ]
  },
  {
   "cell_type": "markdown",
   "id": "2d5d71af-39c9-48bd-a97f-f418cfea8aa0",
   "metadata": {
    "editable": true,
    "slideshow": {
     "slide_type": "subslide"
    },
    "tags": [
     "question"
    ]
   },
   "source": [
    "Q6: _What does the following code output?_"
   ]
  },
  {
   "cell_type": "code",
   "execution_count": null,
   "id": "d911e1f2-a487-4950-a6a5-ad00aa825c0d",
   "metadata": {
    "editable": true,
    "slideshow": {
     "slide_type": ""
    },
    "tags": [
     "question"
    ]
   },
   "outputs": [],
   "source": [
    "/* 1*/  #include <stdio.h>\n",
    "/* 2*/  #include <unistd.h>\n",
    "/* 3*/  int main(int argc, char **argv) {\n",
    "/* 4*/      int value = 100;\n",
    "/* 5*/      int pid = fork();\n",
    "/* 6*/      if (pid < 0) {\n",
    "/* 7*/          printf(\"Fork failed\\n\");\n",
    "/* 8*/          return 1;\n",
    "/* 9*/      } else if (pid > 0) {\n",
    "/*10*/          value -= 50;\n",
    "/*11*/      } else {\n",
    "/*12*/          value += 50;\n",
    "/*13*/      }\n",
    "/*14*/      printf(\"My value is %d\\n\", value);\n",
    "/*15*/      return 0;\n",
    "/*16*/  }"
   ]
  },
  {
   "cell_type": "markdown",
   "id": "d1fb18b5-62ff-4d22-ab99-0ab84a4b50e4",
   "metadata": {
    "editable": true,
    "slideshow": {
     "slide_type": "skip"
    },
    "tags": [
     "answer"
    ]
   },
   "source": [
    "```\n",
    "My value is 50\n",
    "My value is 150\n",
    "```\n",
    "OR\n",
    "```\n",
    "My value is 150\n",
    "My value is 50\n",
    "```"
   ]
  },
  {
   "cell_type": "markdown",
   "id": "f643b302-4748-4a9a-8ceb-89a41d6f20a3",
   "metadata": {
    "editable": true,
    "slideshow": {
     "slide_type": "skip"
    },
    "tags": [
     "blank"
    ]
   },
   "source": [
    "<p style=\"height:10em;\"></p>"
   ]
  },
  {
   "cell_type": "markdown",
   "id": "57caec74-b1d0-41f3-bd86-6dc729fa5d6f",
   "metadata": {
    "editable": true,
    "slideshow": {
     "slide_type": "slide"
    },
    "tags": []
   },
   "source": [
    "## Waiting for processes"
   ]
  },
  {
   "cell_type": "markdown",
   "id": "f33a5026-45b9-49d8-80ce-a3e14c33389c",
   "metadata": {
    "editable": true,
    "slideshow": {
     "slide_type": "skip"
    },
    "tags": [
     "notes-only"
    ]
   },
   "source": [
    "* Wait for any child to finish — `int wait(int *status)`\n",
    "    * Returns PID of the child process that finished\n",
    "    * `status` parameter is optional\n",
    "        * if passed a valid integer pointer, `wait` will store the return value of the child process's `main` function at the referenced memory location\n",
    "        * if return value of child process's main function is not needed, then pass `NULL`\n",
    "* Wait for a specific process to finish — `int waitpid(pid_t pid, int *status, int options)`\n",
    "    * Returns PID of the process that finished\n",
    "    * `pid` is PID if process to wait for — need not be a child process\n",
    "    * `status` is the same as `wait`\n",
    "    * `options` is typically `0`, except in special circumstances\n",
    "* Wait functions do not return until child or specific process, respectively, finishes"
   ]
  },
  {
   "cell_type": "markdown",
   "id": "5db52de5-b607-47e9-8a12-67701e9b7d39",
   "metadata": {
    "editable": true,
    "slideshow": {
     "slide_type": ""
    },
    "tags": [
     "question"
    ]
   },
   "source": [
    "Q7: _What are all possible outputs of this program?_"
   ]
  },
  {
   "cell_type": "code",
   "execution_count": 7,
   "id": "7535307b-5941-469b-985a-af01d7216d08",
   "metadata": {
    "editable": true,
    "slideshow": {
     "slide_type": ""
    },
    "tags": [
     "worksheet-code-only"
    ]
   },
   "outputs": [
    {
     "name": "stdout",
     "output_type": "stream",
     "text": [
      "Child\n",
      "Parent\n"
     ]
    }
   ],
   "source": [
    "/* 1*/  #include <stdio.h>\n",
    "/* 2*/  #include <unistd.h>\n",
    "/* 3*/  #include <sys/wait.h>\n",
    "/* 4*/  int main() {\n",
    "/* 5*/      int pid = fork();\n",
    "/* 6*/      if (pid < 0) {\n",
    "/* 7*/          printf(\"Fork failed\\n\");\n",
    "/* 8*/          return 1;\n",
    "/* 9*/      } else if (pid > 0) {\n",
    "/*10*/          wait(NULL);\n",
    "/*11*/          printf(\"Parent\\n\");\n",
    "/*12*/      } else {\n",
    "/*13*/          printf(\"Child\\n\");\n",
    "/*14*/      }\n",
    "/*15*/      return 0;\n",
    "/*16*/  }"
   ]
  },
  {
   "cell_type": "markdown",
   "id": "642661f3-be50-4e4e-8280-5f589307baa4",
   "metadata": {
    "editable": true,
    "slideshow": {
     "slide_type": "skip"
    },
    "tags": [
     "blank"
    ]
   },
   "source": [
    "<div style=\"height:6em;\"></div>"
   ]
  },
  {
   "cell_type": "markdown",
   "id": "05ba0a22-3549-4d02-bc9f-4ce8754f2ff8",
   "metadata": {
    "editable": true,
    "slideshow": {
     "slide_type": "subslide"
    },
    "tags": [
     "question"
    ]
   },
   "source": [
    "Q8: _How would you modify the program below such that `Chicken` always prints before `Egg`?_"
   ]
  },
  {
   "cell_type": "code",
   "execution_count": null,
   "id": "c9658dc7-2a2e-4043-a7c7-bed02622f8fd",
   "metadata": {
    "editable": true,
    "slideshow": {
     "slide_type": ""
    },
    "tags": [
     "question"
    ]
   },
   "outputs": [],
   "source": [
    "#include <stdio.h>\n",
    "#include <unistd.h>\n",
    "int main(int argc, char **argv) {\n",
    "    printf(\"Begin\\n\");\n",
    "    int pid = fork();\n",
    "    if (pid < 0) {\n",
    "        printf(\"Fork failed\\n\");\n",
    "        return 1;\n",
    "    } else if (pid > 0) {\n",
    "        printf(\"Egg\\n\");\n",
    "        return 0;\n",
    "    } else {\n",
    "        printf(\"Chicken\\n\");\n",
    "        return 0;\n",
    "    }\n",
    "}"
   ]
  },
  {
   "cell_type": "code",
   "execution_count": null,
   "id": "ce7f8a7c-ee39-44df-b1f8-04941c7fa723",
   "metadata": {
    "editable": true,
    "slideshow": {
     "slide_type": "skip"
    },
    "tags": [
     "answer"
    ]
   },
   "outputs": [],
   "source": [
    "#include <stdio.h>\n",
    "#include <unistd.h>\n",
    "#include <sys/wait.h>\n",
    "int main(int argc, char **argv) {\n",
    "    printf(\"Begin\\n\");\n",
    "    int pid = fork();\n",
    "    if (pid < 0) {\n",
    "        printf(\"Fork failed\\n\");\n",
    "        return 1;\n",
    "    } else if (pid > 0) {\n",
    "        wait(NULL);\n",
    "        printf(\"Egg\\n\");\n",
    "        return 0;\n",
    "    } else {\n",
    "        printf(\"Chicken\\n\");\n",
    "        return 0;\n",
    "    }\n",
    "}"
   ]
  },
  {
   "cell_type": "markdown",
   "id": "dd75ab18-b5cb-47da-8148-03b4bc518da5",
   "metadata": {
    "editable": true,
    "slideshow": {
     "slide_type": "skip"
    },
    "tags": [
     "blank"
    ]
   },
   "source": [
    "<div style=\"height:6em;\"></div>"
   ]
  },
  {
   "cell_type": "markdown",
   "id": "74430a65-c82e-40b5-9930-dd3945c33278",
   "metadata": {
    "editable": true,
    "slideshow": {
     "slide_type": "subslide"
    },
    "tags": [
     "question"
    ]
   },
   "source": [
    "Q9: _What are all possible outputs of this program (assuming the new process has PID 13346)?_"
   ]
  },
  {
   "cell_type": "code",
   "execution_count": null,
   "id": "4ede3e4f-c728-47df-b86c-ba34ad975c22",
   "metadata": {
    "editable": true,
    "slideshow": {
     "slide_type": ""
    },
    "tags": [
     "question"
    ]
   },
   "outputs": [],
   "source": [
    "/* 1*/  #include <stdio.h>\n",
    "/* 2*/  #include <unistd.h>\n",
    "/* 3*/  #include <sys/wait.h>\n",
    "/* 4*/  int main() {\n",
    "/* 5*/      int pid = fork();\n",
    "/* 6*/      printf(\"A %d\\n\", pid);\n",
    "/* 7*/      if (pid == 0) {\n",
    "/* 8*/          printf(\"B\\n\");\n",
    "/* 9*/      } else if (pid > 0) {\n",
    "/*10*/          wait(NULL);\n",
    "/*11*/          printf(\"C\\n\");\n",
    "/*12*/      }\n",
    "/*13*/  }"
   ]
  },
  {
   "cell_type": "markdown",
   "id": "d777313e-f2b7-41e5-a242-7c99e4066e30",
   "metadata": {
    "editable": true,
    "slideshow": {
     "slide_type": "skip"
    },
    "tags": [
     "answer"
    ]
   },
   "source": [
    "```\n",
    "A 0\n",
    "A 13346\n",
    "B\n",
    "C\n",
    "```\n",
    "OR\n",
    "```\n",
    "A 13346\n",
    "A 0\n",
    "B\n",
    "C\n",
    "```\n",
    "OR\n",
    "```\n",
    "A 0\n",
    "B\n",
    "A 13346\n",
    "C\n",
    "```"
   ]
  },
  {
   "cell_type": "markdown",
   "id": "c2d78445-901d-41ff-81fd-b1d0a9342b5d",
   "metadata": {
    "editable": true,
    "slideshow": {
     "slide_type": "skip"
    },
    "tags": [
     "blank"
    ]
   },
   "source": [
    "<div style=\"height:12em;\"></div>"
   ]
  },
  {
   "cell_type": "markdown",
   "id": "97c04b1d-14fa-42e8-b5f4-4886b5632ca3",
   "metadata": {
    "editable": true,
    "slideshow": {
     "slide_type": "subslide"
    },
    "tags": [
     "question"
    ]
   },
   "source": [
    "Q10: _What are all possible outputs of this program_?"
   ]
  },
  {
   "cell_type": "code",
   "execution_count": 19,
   "id": "77994ca9-68f8-43bd-9002-b9bbcbf2888e",
   "metadata": {
    "editable": true,
    "slideshow": {
     "slide_type": ""
    },
    "tags": [
     "worksheet-code-only"
    ]
   },
   "outputs": [
    {
     "name": "stdout",
     "output_type": "stream",
     "text": [
      "z is 1\n",
      "z is 2\n"
     ]
    }
   ],
   "source": [
    "/* 1*/  #include <stdio.h>\n",
    "/* 2*/  #include <stdlib.h>\n",
    "/* 3*/  #include <unistd.h>\n",
    "/* 4*/  void *proc1_main(void *arg) {\n",
    "/* 5*/      int *x = (int *)arg;\n",
    "/* 6*/      *x += 1;\n",
    "/* 7*/      return NULL;\n",
    "/* 8*/  }\n",
    "/* 9*/  void *proc2_main(void *arg) {\n",
    "/*10*/      int *y = (int *)arg;\n",
    "/*11*/      *y += 2;\n",
    "/*12*/      return NULL;\n",
    "/*13*/  }\n",
    "/*14*/  int main() {\n",
    "/*15*/      int *z = malloc(sizeof(int));\n",
    "/*16*/      *z = 0;\n",
    "/*17*/      int pid = fork();\n",
    "/*18*/      if (pid == 0) {\n",
    "/*19*/          proc1_main(z);\n",
    "/*20*/      } else {\n",
    "/*21*/          wait(NULL);\n",
    "/*22*/          proc2_main(z);\n",
    "/*23*/      }\n",
    "/*24*/      printf(\"z is %d\\n\", *z);\n",
    "/*25*/  }"
   ]
  },
  {
   "cell_type": "markdown",
   "id": "d9ed31de-35df-44eb-a74f-c5c92137c011",
   "metadata": {
    "editable": true,
    "slideshow": {
     "slide_type": "skip"
    },
    "tags": [
     "blank"
    ]
   },
   "source": [
    "<div style=\"height:1em;\"></div>"
   ]
  },
  {
   "cell_type": "markdown",
   "id": "a7b2bee5-ebcf-4f8d-bd2c-0fc604f5eac4",
   "metadata": {
    "editable": true,
    "slideshow": {
     "slide_type": "subslide"
    },
    "tags": [
     "question"
    ]
   },
   "source": [
    "Q11: _What output is produced by the following program? (Note: there is only one possible ordering.)_"
   ]
  },
  {
   "cell_type": "code",
   "execution_count": null,
   "id": "23d62dfc-ec88-4823-97b8-8f89c80a421e",
   "metadata": {
    "editable": true,
    "slideshow": {
     "slide_type": ""
    },
    "tags": [
     "worksheet-code-only"
    ]
   },
   "outputs": [
    {
     "name": "stdout",
     "output_type": "stream",
     "text": [
      "A\n",
      "B\n",
      "E\n",
      "C\n",
      "E\n",
      "D\n",
      "E\n"
     ]
    }
   ],
   "source": [
    "/*1*/   #include <stdio.h>\n",
    "/*2*/   #include <stdlib.h>\n",
    "/*3*/   #include <sys/wait.h>\n",
    "/*4*/   #include <unistd.h>\n",
    "/*5*/   int main() {\n",
    "/*6*/       printf(\"A\\n\");\n",
    "/*7*/       int x = fork();\n",
    "/*8*/       if (x == 0) {\n",
    "/*9*/           int y = fork();\n",
    "/*10*/          if (y == 0) {\n",
    "/*11*/              printf(\"B\\n\");\n",
    "/*12*/          }\n",
    "/*13*/          else {\n",
    "/*14*/              wait(NULL);\n",
    "/*15*/              printf(\"C\\n\");\n",
    "/*16*/          }\n",
    "/*17*/      }\n",
    "/*18*/      else {\n",
    "/*19*/          wait(NULL);\n",
    "/*20*/          printf(\"D\\n\");\n",
    "/*21*/      }\n",
    "/*22*/      printf(\"E\\n\");\n",
    "/*23*/  }"
   ]
  },
  {
   "cell_type": "markdown",
   "id": "703e0c2f-02e1-4bf6-8938-014f46971f29",
   "metadata": {
    "editable": true,
    "slideshow": {
     "slide_type": "skip"
    },
    "tags": [
     "blank"
    ]
   },
   "source": [
    "<p style=\"height:1em;\"></p>"
   ]
  },
  {
   "cell_type": "markdown",
   "id": "80a2dcbe-0529-4f96-aac6-4e9bc038056e",
   "metadata": {
    "editable": true,
    "slideshow": {
     "slide_type": "subslide"
    },
    "tags": [
     "question"
    ]
   },
   "source": [
    "Q12: _What output is produced by this program, assuming the starting process's PID is 7034 and PIDs are sequentially assigned to new processes. (Note: there is only one possible ordering.)_"
   ]
  },
  {
   "cell_type": "code",
   "execution_count": null,
   "id": "6d134e21-6419-4b72-9801-e50526d39a05",
   "metadata": {
    "editable": true,
    "slideshow": {
     "slide_type": ""
    },
    "tags": [
     "question"
    ]
   },
   "outputs": [],
   "source": [
    "/* 1*/  #include <stdio.h>\n",
    "/* 2*/  #include <unistd.h>\n",
    "/* 3*/  int main(int argc, char **argv) {\n",
    "/* 4*/      printf(\"Begin\\n\");\n",
    "/* 5*/      int result = fork();\n",
    "/* 6*/      if (result == 0) {\n",
    "/* 7*/          printf(\"A %d %d\\n\", result, getpid());\n",
    "/* 8*/      } else if (result > 0) {\n",
    "/* 9*/          wait(NULL);\n",
    "/*10*/          printf(\"B %d %d\\n\", result, getpid());\n",
    "/*11*/      }\n",
    "/*12*/      int result2 = fork();\n",
    "/*13*/      if (result2 == 0) {\n",
    "/*14*/          printf(\"C %d %d\\n\", result2, getpid());\n",
    "/*15*/      } else if (result2 > 0) {\n",
    "/*16*/          wait(NULL);\n",
    "/*17*/          printf(\"D %d %d\\n\", result2, getpid());\n",
    "/*18*/      }\n",
    "/*19*/  }"
   ]
  },
  {
   "cell_type": "markdown",
   "id": "ac2059dc-b561-4ef9-96e2-b16ae4cef686",
   "metadata": {
    "editable": true,
    "slideshow": {
     "slide_type": "skip"
    },
    "tags": [
     "answer"
    ]
   },
   "source": [
    "```\n",
    "Begin\n",
    "A 0 7035\n",
    "C 0 7036\n",
    "D 7036 7035\n",
    "B 7035 7034\n",
    "C 0 7037\n",
    "D 7037 7034\n",
    "```"
   ]
  },
  {
   "cell_type": "markdown",
   "id": "cd97b899-bc3a-4f62-8087-4d59e2028e16",
   "metadata": {
    "editable": true,
    "slideshow": {
     "slide_type": "skip"
    },
    "tags": [
     "blank"
    ]
   },
   "source": [
    "<p style=\"height:7em;\"></p>"
   ]
  },
  {
   "cell_type": "markdown",
   "id": "47662e72-d82a-40f4-a89d-3f965ed47f4a",
   "metadata": {
    "editable": true,
    "slideshow": {
     "slide_type": "slide"
    },
    "tags": []
   },
   "source": [
    "## Running a different program"
   ]
  },
  {
   "cell_type": "markdown",
   "id": "9e08d5c0-9035-4e48-9011-7b47f5dcf625",
   "metadata": {
    "editable": true,
    "slideshow": {
     "slide_type": ""
    },
    "tags": []
   },
   "source": [
    "_Example program_"
   ]
  },
  {
   "cell_type": "code",
   "execution_count": 11,
   "id": "5df6dc89-b800-4730-a1a8-038c7ce35a0a",
   "metadata": {
    "editable": true,
    "slideshow": {
     "slide_type": ""
    },
    "tags": [
     "worksheet-code-only"
    ]
   },
   "outputs": [
    {
     "name": "stdout",
     "output_type": "stream",
     "text": [
      "Begin\n",
      "Child\n",
      "Mon Nov 11 14:54:21 EST 2024\n",
      "Parent\n",
      "End\n"
     ]
    }
   ],
   "source": [
    "/* 1*/  #include <stdio.h>\n",
    "/* 2*/  #include <unistd.h>\n",
    "/* 3*/  #include <sys/wait.h>\n",
    "/* 4*/  int main(int argc, char **argv) {\n",
    "/* 5*/      printf(\"Begin\\n\");\n",
    "/* 6*/      int pid = fork();\n",
    "/* 7*/      if (pid < 0) {\n",
    "/* 8*/          printf(\"Fork failed\\n\");\n",
    "/* 9*/          return 1;\n",
    "/*10*/      } else if (pid == 0) {\n",
    "/*11*/          printf(\"Child\\n\");\n",
    "/*12*/          char *cmd[] = { \"/bin/date\", NULL };\n",
    "/*13*/          execv(cmd[0], cmd);\n",
    "/*14*/      } else {\n",
    "/*15*/          wait(NULL);\n",
    "/*16*/          printf(\"Parent\\n\");\n",
    "/*17*/      }\n",
    "/*18*/      printf(\"End\\n\");\n",
    "/*19*/      return 0;\n",
    "/*20*/  }"
   ]
  },
  {
   "cell_type": "markdown",
   "id": "848251b9-0e89-4b3a-84f1-be7cb651a067",
   "metadata": {
    "editable": true,
    "slideshow": {
     "slide_type": "skip"
    },
    "tags": [
     "blank"
    ]
   },
   "source": [
    "<p style=\"height:7em;\"></p>"
   ]
  },
  {
   "cell_type": "markdown",
   "id": "8cac87ca-45e9-49aa-9fd6-c5dc18f59ac1",
   "metadata": {
    "editable": true,
    "slideshow": {
     "slide_type": "subslide"
    },
    "tags": []
   },
   "source": [
    "Q13: _What is the output produced by running `./progA`, assuming no errors occur?_"
   ]
  },
  {
   "cell_type": "code",
   "execution_count": null,
   "id": "38a6705f-d3f5-4f1d-90de-19272a2d9a61",
   "metadata": {
    "editable": true,
    "slideshow": {
     "slide_type": ""
    },
    "tags": []
   },
   "outputs": [],
   "source": [
    "/** progA **/\n",
    "/* 1*/  #include <stdio.h>\n",
    "/* 2*/  #include <unistd.h>\n",
    "/* 3*/  #include <sys/wait.h>\n",
    "/* 4*/  int main() {\n",
    "/* 5*/      int a = fork();\n",
    "/* 6*/      if (a == 0) {\n",
    "/* 7*/          char *cmd[] = { \"./progB\", NULL };\n",
    "/* 8*/          execv(cmd[0], cmd);\n",
    "/* 9*/          printf(\"A 2nd gen\\n\");\n",
    "/*10*/          return 0;\n",
    "/*11*/      } else {\n",
    "/*12*/          wait(NULL);\n",
    "/*13*/          printf(\"A 1st gen\\n\");\n",
    "/*14*/          return 0;\n",
    "/*15*/      }\n",
    "/*16*/  }"
   ]
  },
  {
   "cell_type": "code",
   "execution_count": null,
   "id": "5a15aded-f0ed-4685-a42a-1c054c2e9b06",
   "metadata": {
    "editable": true,
    "slideshow": {
     "slide_type": "subslide"
    },
    "tags": []
   },
   "outputs": [],
   "source": [
    "/** progB **/\n",
    "/* 1*/  #include <stdio.h>\n",
    "/* 2*/  #include <unistd.h>\n",
    "/* 3*/  #include <sys/wait.h>\n",
    "/* 4*/  int main() {\n",
    "/* 5*/      int b = fork();\n",
    "/* 6*/      if (b == 0) {\n",
    "/* 7*/          printf(\"B 2nd gen\\n\");\n",
    "/* 8*/          return 0;\n",
    "/* 9*/      } else {\n",
    "/*10*/          wait(NULL);\n",
    "/*11*/          printf(\"B 1st gen\\n\");\n",
    "/*12*/          return 0;\n",
    "/*13*/      }\n",
    "/*14*/  }"
   ]
  },
  {
   "cell_type": "markdown",
   "id": "e8afccb0-a942-48ac-81f7-c894e0582575",
   "metadata": {
    "editable": true,
    "slideshow": {
     "slide_type": "skip"
    },
    "tags": [
     "notes-only"
    ]
   },
   "source": [
    "    B 2nd gen\n",
    "    B 1st gen\n",
    "    A 1st gen"
   ]
  },
  {
   "cell_type": "markdown",
   "id": "8693899f-0377-4345-aa5d-b4c7a5352d3e",
   "metadata": {
    "editable": true,
    "slideshow": {
     "slide_type": "skip"
    },
    "tags": [
     "worksheet-only"
    ]
   },
   "source": [
    "<p style=\"height:5em;\"></p>"
   ]
  }
 ],
 "metadata": {
  "kernelspec": {
   "display_name": "C",
   "language": "c",
   "name": "c"
  },
  "language_info": {
   "file_extension": ".c",
   "mimetype": "text/plain",
   "name": "c"
  }
 },
 "nbformat": 4,
 "nbformat_minor": 5
}
