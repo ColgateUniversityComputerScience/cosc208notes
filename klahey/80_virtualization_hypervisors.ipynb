{
 "cells": [
  {
   "cell_type": "markdown",
   "id": "33410e11-322f-4e1e-979b-fe8de0e69a0e",
   "metadata": {
    "editable": true,
    "slideshow": {
     "slide_type": "skip"
    },
    "tags": []
   },
   "source": [
    "# Virtualization: hypervisors; containers\n",
    "_COSC 208, Introduction to Computer Systems, Spring 2025_"
   ]
  },
  {
   "cell_type": "markdown",
   "id": "c8def9b3-af0c-4874-9a12-70ded1b09d24",
   "metadata": {
    "editable": true,
    "slideshow": {
     "slide_type": "skip"
    },
    "tags": []
   },
   "source": [
    "## Virtual machines (VMs)"
   ]
  },
  {
   "cell_type": "markdown",
   "id": "81c480af-07ad-4cb4-a331-d07200fb2d2e",
   "metadata": {
    "editable": true,
    "slideshow": {
     "slide_type": "skip"
    },
    "tags": [
     "notes-only"
    ]
   },
   "source": [
    "* Recall: _what is the purpose of an OS?_\n",
    "    * Make computer hardware easy to use—e.g., an OS knows how to load an application's executable code from persistent storage (e.g., solid state drive (SSD)) into main memory, initialize the process's memory (code, heap, stack), and make the CPU execute the application's instructions\n",
    "    * Support multiprocessing—i.e., running multiple applications simultaneously or concurrently\n",
    "    * Allocate and manage hardware resources—e.g., decide when/which applications can use the CPU, decide when/which memory applications can use, prevent applications from stealing/accessing another application's CPU time or memory\n",
    "* What is the purpose of a virtual machine?\n",
    "    * Make computer hardware flexible to use\n",
    "    * Support multiple OSes running concurrently\n",
    "    * Allocate and manage hardware resources—e.g., decide when/which VMs can use the CPU, decide/when which memory VMs can use, prevent VMS from stealing/accessing another VM's CPU time or memory\n",
    "* What is the motivation for using a virtual machine?\n",
    "    * Run multiple OSes concurrently — _why would someone one to do this?_\n",
    "        * Run software only supported by a specific OS\n",
    "        * Software testing\n",
    "        * Server consolidation\n",
    "        * Security sandboxing\n",
    "    * Flexibly use hardware resources"
   ]
  },
  {
   "cell_type": "markdown",
   "id": "f47871d5-e3e2-49b0-a803-f149ac6bb5c8",
   "metadata": {
    "editable": true,
    "slideshow": {
     "slide_type": "skip"
    },
    "tags": [
     "blank"
    ]
   },
   "source": [
    "<p style=\"height:15em;\"></p>"
   ]
  },
  {
   "cell_type": "markdown",
   "id": "9ce5f895-a618-4263-b5e2-3405b1901c2c",
   "metadata": {
    "editable": true,
    "slideshow": {
     "slide_type": "skip"
    },
    "tags": []
   },
   "source": [
    "## Hypervisors"
   ]
  },
  {
   "cell_type": "markdown",
   "id": "d19f1fc3-cce6-4b76-ac1e-68215b36206c",
   "metadata": {
    "editable": true,
    "slideshow": {
     "slide_type": "skip"
    },
    "tags": [
     "notes-only"
    ]
   },
   "source": [
    "* Hypervisor – an additional software layer a computer system needs to support virutal machines\n",
    "* Where does a hypervisor reside?\n",
    "    * System that does **not** use a hypervisor\n",
    "        ```\n",
    "        +----+ +----+\n",
    "        |Proc| |Proc|\n",
    "        +----+ +----+\n",
    "        +-----------+\n",
    "        |    OS     |\n",
    "        +-----------+\n",
    "        +-----------+\n",
    "        |  Hardware |\n",
    "        +-----------+\n",
    "        ```\n",
    "    * Type 1: on top of hardware — e.g., KVM, Xen, Hyper-V, VMware vSphere\n",
    "        ```\n",
    "        +-------------+ +-------------+\n",
    "        |     VM      | |     VM      |\n",
    "        |+----+ +----+| |+----+ +----+|\n",
    "        ||Proc| |Proc|| ||Proc| |Proc||\n",
    "        |+----+ +----+| |+----+ +----+|\n",
    "        |+-----------+| |+-----------+|\n",
    "        ||    OS     || ||    OS     ||\n",
    "        |+-----------+| |+-----------+|\n",
    "        +-------------+ +-------------+\n",
    "        +-----------------------------+\n",
    "        |          Hypervisor         |\n",
    "        +-----------------------------+\n",
    "        +-----------------------------+\n",
    "        |           Hardware          |\n",
    "        +-----------------------------+\n",
    "        ```\n",
    "    * Type 2: on top of host OS — e.g., VirtualBox, VMware Workstation/Fusion\n",
    "        ```\n",
    "                      +-------------+ +-------------+\n",
    "                      |     VM      | |     VM      |\n",
    "                      |+----+ +----+| |+----+ +----+|\n",
    "                      ||Proc| |Proc|| ||Proc| |Proc||\n",
    "                      |+----+ +----+| |+----+ +----+|\n",
    "                      |+-----------+| |+-----------+|\n",
    "                      || Guest OS  || || Guest OS  ||\n",
    "                      |+-----------+| |+-----------+|\n",
    "                      +-------------+ +-------------+\n",
    "        +----+ +----+ +-----------------------------+\n",
    "        |Proc| |Proc| |          Hypervisor         |\n",
    "        +----+ +----+ +-----------------------------+\n",
    "        +-------------------------------------------+\n",
    "        |                 Host OS                   |\n",
    "        +-------------------------------------------+\n",
    "        +-------------------------------------------+\n",
    "        |                Hardware                   |\n",
    "        +-------------------------------------------+\n",
    "        ```\n",
    "* Why is a type 1 hypervisor better than a type 2 hypervisor?\n",
    "    * Better performance – no overhead from host OS\n",
    "* Why is a type 2 hypervisor better than a type 1 hypervisor?\n",
    "    * Easier to use – runs alongside other applications on an existing computer system"
   ]
  },
  {
   "cell_type": "markdown",
   "id": "b7f0fb7b-4f9d-4f52-9ff6-c5223463b154",
   "metadata": {
    "editable": true,
    "slideshow": {
     "slide_type": "skip"
    },
    "tags": [
     "blank"
    ]
   },
   "source": [
    "<p style=\"height:25em;\"></p>"
   ]
  },
  {
   "cell_type": "markdown",
   "id": "6e02df06-551e-4a94-8a01-6eb7090e7215",
   "metadata": {
    "editable": true,
    "slideshow": {
     "slide_type": "skip"
    },
    "tags": [
     "notes-only"
    ]
   },
   "source": [
    "## CPU sharing"
   ]
  },
  {
   "cell_type": "markdown",
   "id": "6fd9a441-0402-4d30-b304-c7c2d282ba93",
   "metadata": {
    "editable": true,
    "slideshow": {
     "slide_type": "skip"
    },
    "tags": [
     "notes-only"
    ]
   },
   "source": [
    "* Use same approach OS uses for sharing CPU between processes — Limited Direct Execution (LDE)\n",
    "* _Recall: How does LDE work in OS?_\n",
    "    * Put CPU in user mode\n",
    "    * Give process exclusive access to CPU\n",
    "    * Process issues a syscall to perform privileged operation\n",
    "    * Timer interrupt allows OS to regain control\n",
    "* To use LDE with a VM\n",
    "    * Put CPU in user mode\n",
    "    * Give VM exclusive access to CPU\n",
    "    * Process issues a syscall -OR- OS attempts to perform privileged operation\n",
    "    * Timer interrupt allows hypervisor to regain control\n",
    "* Recall: _How does a process make a syscall?_ — load syscall number into register `x8` and execute `svc` instruction\n",
    "* _What happens when a process makes a syscall?_\n",
    "    1. CPU switches to kernel mode\n",
    "    2. CPU saves registers to the OS stack\n",
    "    3. CPU uses system call number to index into OS's table of syscall handlers \n",
    "    4. Branch and link to syscall handler code\n",
    "    5. Restore registers from the OS stack\n",
    "    6. Switch CPU to user mode\n",
    "    7. Resume execution after `svc` \n",
    "* Syscalls with a type 1 hypervisor\n",
    "    * Processes in virtualized OS do the same as before\n",
    "    * Hypervisor’s syscall handler is invoked by hardware instead of OS’s syscall handler\n",
    "    * Actually want to invoke OS's syscall handler — the hypervisor does this\n",
    "    * Hypervisor knows where OS trap table is located, because populating syscall table is a privileged instruction, so hypervisor interposed on these operations when OS booted\n",
    "* Steps when process in virtualized OS makes a syscall\n",
    "    1. CPU switches to supervisor mode\n",
    "    2. CPU saves registers to the hypervisor stack\n",
    "    3. CPU uses system call number to index into VM's table of syscall handlers \n",
    "    4. **Switch CPU from supervisor to kernel mode**\n",
    "    5. Branch and link to syscall handler code\n",
    "    6. **Switch CPU from kernel to supervisor mode**\n",
    "    7. Restore registers from the hypervisor stack\n",
    "    8. Switch CPU to user mode\n",
    "    9. Resume execution after `svc`\n",
    "* Extra work to always trap to hypervisor, which then invokes OS code\n",
    "* Possible solutions\n",
    "    * Hardware support — e.g., supervisor mode that is between user and kernel mode\n",
    "    * Para-virtualization — modify the OS so it's aware there is a hypervisor and the two can interact directly\n",
    "    * Containers — use a single OS, but create groups of processes that are isolated from other processes\n",
    "        * OS's process abstraction already isolates each process's CPU time, memory, and registers, but processes can still use syscalls to pass messages to each other, wait for each other, access a common set of files, etc."
   ]
  },
  {
   "cell_type": "markdown",
   "id": "844a77b4-6fc1-4a59-b8df-d799aeaf5dcd",
   "metadata": {
    "editable": true,
    "slideshow": {
     "slide_type": "skip"
    },
    "tags": []
   },
   "source": [
    "## Containers"
   ]
  },
  {
   "cell_type": "markdown",
   "id": "fdb8f42b-ac2b-4988-ac8a-0e3705795385",
   "metadata": {
    "editable": true,
    "slideshow": {
     "slide_type": "skip"
    },
    "tags": [
     "notes-only"
    ]
   },
   "source": [
    "* Containers — use a single OS, but create groups of processes that are isolated from other processes\n",
    "    * OS's process abstraction already isolates each process's CPU time, memory, and registers, but processes can still use syscalls to pass messages to each other, wait for each other, access a common set of files, etc.\n",
    "* Containers share the kernel — i.e., core OS functionality like syscalls, scheduler, I/O interface\n",
    "    * VMs do **not** share the kernel\n",
    "* Containers and VMs do **not** share the file system ==> containers and virtual machines do **not** share libraries, executables, etc.\n",
    "* Containers and VMs do **not** share user accounts\n",
    "* Containers and VMs do **not** share network stacks ==> e.g., each container or VM has its own Internet Protocol (IP) address\n",
    "* Containers and VMs share the hardware"
   ]
  },
  {
   "cell_type": "markdown",
   "id": "68262853-4d00-4769-a2ba-1575eccb6367",
   "metadata": {
    "editable": true,
    "slideshow": {
     "slide_type": "skip"
    },
    "tags": [
     "blank"
    ]
   },
   "source": [
    "<p style=\"height:10em;\"></p>"
   ]
  },
  {
   "cell_type": "markdown",
   "id": "0d71d258-bfba-4a63-835d-3bd96c2c6cef",
   "metadata": {
    "editable": true,
    "slideshow": {
     "slide_type": "skip"
    },
    "tags": []
   },
   "source": [
    "## Recap"
   ]
  },
  {
   "cell_type": "markdown",
   "id": "40b8c832-cdcd-4cc6-b69b-2f24792556af",
   "metadata": {
    "editable": true,
    "slideshow": {
     "slide_type": ""
    },
    "tags": [
     "question"
    ]
   },
   "source": [
    "Q1: _What is an advantage of using **virtual machines with a type 1 hypervisor** instead of **virtual machines with a type 2 hypervisor**?_"
   ]
  },
  {
   "cell_type": "markdown",
   "id": "62eb96df-0f92-45d2-a526-1b49f8bce1b7",
   "metadata": {
    "editable": true,
    "slideshow": {
     "slide_type": "skip"
    },
    "tags": [
     "answer"
    ]
   },
   "source": [
    "With a type 1 hypervisor, system calls issued by processes only need to be handled by the hypervisor and guest operating system, whereas with a type 2 hypervisor, system calls issued by processes need to be handled by the host operating system, hypervisor, and guest operating system. Thus, a type 1 hypervisor adds less overhead and results in better performance."
   ]
  },
  {
   "cell_type": "markdown",
   "id": "1ecf7a0e-a1be-4415-8fa0-4ed0e8ef5d1b",
   "metadata": {
    "editable": true,
    "slideshow": {
     "slide_type": "skip"
    },
    "tags": [
     "blank"
    ]
   },
   "source": [
    "<p style=\"height:8em;\"></p>"
   ]
  },
  {
   "cell_type": "markdown",
   "id": "c892390f-1365-4db6-9fe5-ea2a09f2df45",
   "metadata": {
    "editable": true,
    "slideshow": {
     "slide_type": ""
    },
    "tags": [
     "question"
    ]
   },
   "source": [
    "Q2: _What is an advantage of using **virtual machines with a type 2 hypervisor** instead of **virtual machines with a type 1 hypervisor**?_"
   ]
  },
  {
   "cell_type": "markdown",
   "id": "e2118898-5846-4c84-8f6b-b9f88a2a0f42",
   "metadata": {
    "editable": true,
    "slideshow": {
     "slide_type": "skip"
    },
    "tags": [
     "answer"
    ]
   },
   "source": [
    "A type 2 hypervisor can be installed atop an existing (host) operating system just like any other application, whereas a type 1 hypervisor needs to be installed directly atop the hardware before any operating systems are installed. Thus, a type 2 hypervisor is easier to set up."
   ]
  },
  {
   "cell_type": "markdown",
   "id": "9466c70b-3653-4e5a-902f-d80f977ddf74",
   "metadata": {
    "editable": true,
    "slideshow": {
     "slide_type": "skip"
    },
    "tags": [
     "blank"
    ]
   },
   "source": [
    "<p style=\"height:8em;\"></p>"
   ]
  },
  {
   "cell_type": "markdown",
   "id": "eeacce9b-351a-4429-96c6-118211fa9967",
   "metadata": {
    "editable": true,
    "slideshow": {
     "slide_type": ""
    },
    "tags": [
     "question"
    ]
   },
   "source": [
    "Q3: _What is an advantage of using **containers** instead of **virtual machines with a type 1 hypervisor**?_"
   ]
  },
  {
   "cell_type": "markdown",
   "id": "c9af97ce-1883-4b42-809a-8bc921711e16",
   "metadata": {
    "editable": true,
    "slideshow": {
     "slide_type": "skip"
    },
    "tags": [
     "answer"
    ]
   },
   "source": [
    "With containers, all processes run atop a single operating system instances, whereas with a type 1 hypervisor, each group of processes requires a separate operating system. Thus, containers avoid the need to maintain multiple copies of the same operating system.\n",
    "\n",
    "With containers, systems calls issued by processes only need to be handled by the operating system, just like a system without containers or virtual machines, whereas with a type 1 hypervisor, system calls issued by processes need to be handled by the hypervisor and the operating system running inside the virtual machine. Thus, containers add less overhead and result in better performance."
   ]
  },
  {
   "cell_type": "markdown",
   "id": "ddd93b24-fcba-41d2-b224-8afca2e6c81c",
   "metadata": {
    "editable": true,
    "slideshow": {
     "slide_type": "skip"
    },
    "tags": [
     "blank"
    ]
   },
   "source": [
    "<p style=\"height:8em;\"></p>"
   ]
  },
  {
   "cell_type": "markdown",
   "id": "30845af5-326b-4ca7-9ecf-892a5d050d62",
   "metadata": {
    "editable": true,
    "slideshow": {
     "slide_type": ""
    },
    "tags": [
     "question"
    ]
   },
   "source": [
    "Q4: _What is an advantage of using **virtual machines with a type 1 hypervisor** instead of **containers**?_"
   ]
  },
  {
   "cell_type": "markdown",
   "id": "528d527a-e802-4f0e-9054-667dd588ad17",
   "metadata": {
    "editable": true,
    "slideshow": {
     "slide_type": "skip"
    },
    "tags": [
     "answer"
    ]
   },
   "source": [
    "With a type 1 hypervisor, multiple flavors (e.g., Windows, Linux, Mac OS) and/or versions (e.g., Windows 8, Windows 10) of operating systems can run atop the same physical hardware, whereas with containers only a single operating system can run atop the hardware. Thus, type 1 hypervisors allow multiple OSes to be run on the same computer system."
   ]
  }
 ],
 "metadata": {
  "kernelspec": {
   "display_name": "C",
   "language": "c",
   "name": "c"
  },
  "language_info": {
   "file_extension": ".c",
   "mimetype": "text/plain",
   "name": "c"
  }
 },
 "nbformat": 4,
 "nbformat_minor": 5
}
