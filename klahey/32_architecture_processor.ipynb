{
 "cells": [
  {
   "cell_type": "markdown",
   "id": "39d76db8-edb9-47d5-bec8-7998805660b3",
   "metadata": {
    "editable": true,
    "slideshow": {
     "slide_type": "skip"
    },
    "tags": []
   },
   "source": [
    "# Architecture: processing unit\n",
    "_COSC 208, Introduction to Computer Systems, Spring 2025_"
   ]
  },
  {
   "cell_type": "markdown",
   "id": "28ca803c-4b51-4334-973f-6a03b28c1714",
   "metadata": {
    "editable": true,
    "slideshow": {
     "slide_type": "skip"
    },
    "tags": []
   },
   "source": [
    "## Announcements\n",
    "* Project 2 final revision due Thursday, March 13"
   ]
  },
  {
   "cell_type": "markdown",
   "id": "693b6976-7021-4dd4-a554-2c20f6197651",
   "metadata": {
    "editable": true,
    "slideshow": {
     "slide_type": "slide"
    },
    "tags": [
     "notes-only"
    ]
   },
   "source": [
    "## Multiplexer circuit"
   ]
  },
  {
   "cell_type": "markdown",
   "id": "7a0062b8-88b5-4b01-ba77-b6f200bdcd8a",
   "metadata": {
    "editable": true,
    "slideshow": {
     "slide_type": "subslide"
    },
    "tags": [
     "notes-only"
    ]
   },
   "source": [
    "* 2-way multiplixer\n",
    "    * Takes three inputs\n",
    "        * Input A\n",
    "        * Input B\n",
    "        * Select bit\n",
    "    * Semantics\n",
    "        * select == 1 → output A's value\n",
    "        * select == 0 → output B's value\n",
    "    * Circuit\n",
    "        <img src=\"https://diveintosystems.org/book/C5-Arch/_images/1bitmux.png\" width=\"500\" />\n",
    "    \n",
    "* Given n selection bits, mux select between 2^n different inputs"
   ]
  },
  {
   "cell_type": "markdown",
   "id": "5ddd8249-6036-4861-9755-91e748a09874",
   "metadata": {
    "editable": true,
    "slideshow": {
     "slide_type": "slide"
    },
    "tags": []
   },
   "source": [
    "## Processing Unit"
   ]
  },
  {
   "cell_type": "markdown",
   "id": "9e5eb370-ce81-4092-9db5-bea7bc5c00b8",
   "metadata": {
    "editable": true,
    "slideshow": {
     "slide_type": "subslide"
    },
    "tags": [
     "notes-only"
    ]
   },
   "source": [
    "* _Where are multiplexers used in a processing unit?_\n",
    "    * To select which registers' values are input to the arithmetic logic unit (ALU)\n",
    "    * To select which operation's result is output by the ALU\n",
    "    * A demultiplexer is used to select which register the result is stored in"
   ]
  },
  {
   "cell_type": "markdown",
   "id": "e6512d28-2adc-4970-ae5d-aef4753950cd",
   "metadata": {
    "editable": true,
    "slideshow": {
     "slide_type": "subslide"
    },
    "tags": [
     "notes-only"
    ]
   },
   "source": [
    "![](images/circuits/processing_unit_complete.png)"
   ]
  },
  {
   "cell_type": "markdown",
   "id": "842f8016-f27a-4da6-80dd-b098706bb6ee",
   "metadata": {
    "editable": true,
    "slideshow": {
     "slide_type": "skip"
    },
    "tags": [
     "blank"
    ]
   },
   "source": [
    "<p style=\"height:20em;\"></p>"
   ]
  },
  {
   "cell_type": "markdown",
   "id": "09da53eb-1060-4a8d-aaca-af1b12178e18",
   "metadata": {
    "editable": true,
    "slideshow": {
     "slide_type": "subslide"
    },
    "tags": []
   },
   "source": [
    "Q1: _Draw the circuitry for a processing unit that has two general purpose registers (r0 and r1) and supports four bitwise operations (`&`, `|`, `^`, `~`). Assume you already have storage, MUX, DMUX, and bitwise operations (`&`, `|`, `^`, `~`) circuits available as building blocks._"
   ]
  },
  {
   "cell_type": "markdown",
   "id": "8683d778-a597-4c25-8374-1e09343f3a98",
   "metadata": {
    "editable": true,
    "slideshow": {
     "slide_type": "skip"
    },
    "tags": [
     "answer"
    ]
   },
   "source": [
    "![](images/circuits/processing_unit_with_bitwise_operators.png)"
   ]
  },
  {
   "cell_type": "markdown",
   "id": "6433e791-ab94-406f-928b-c07a136ecf3f",
   "metadata": {
    "editable": true,
    "slideshow": {
     "slide_type": "skip"
    },
    "tags": [
     "blank"
    ]
   },
   "source": [
    "<p style=\"height:24em;\"></p>"
   ]
  },
  {
   "cell_type": "markdown",
   "id": "81640e0b-8185-49c9-8a1b-224a1ae27b20",
   "metadata": {
    "editable": true,
    "slideshow": {
     "slide_type": "subslide"
    },
    "tags": []
   },
   "source": [
    "Q2: _Draw a processor with 8 general purpose registers and two operations (add and subtract)._"
   ]
  },
  {
   "cell_type": "markdown",
   "id": "84edd7c8-c276-4261-8d27-73b78e8225a1",
   "metadata": {
    "editable": true,
    "slideshow": {
     "slide_type": "skip"
    },
    "tags": []
   },
   "source": [
    "![](images/circuits/processing_unit_empty.png)"
   ]
  },
  {
   "cell_type": "markdown",
   "id": "aee01a3d-26ca-418d-94e3-4b6aa597f654",
   "metadata": {
    "editable": true,
    "slideshow": {
     "slide_type": ""
    },
    "tags": [
     "blank"
    ]
   },
   "source": [
    "<p style=\"height:22em;\"></p>"
   ]
  },
  {
   "cell_type": "markdown",
   "id": "9cbf9bee-5b6c-4904-8ab1-0d0dec2970d3",
   "metadata": {
    "editable": true,
    "slideshow": {
     "slide_type": "subslide"
    },
    "tags": [
     "question"
    ]
   },
   "source": [
    "Q3: _Draw the circuitry for a processing unit that has four general purpose registers (r0-r3) and supports four operations:_\n",
    "* `nop`: no operation; do nothing\n",
    "* `mov`: copy a value from one register to another\n",
    "* `movc`: store a constant value into a register, where the constant comes from the last four bits of the instruction\n",
    "* `add`: add the values in two registers and store the result in a register"
   ]
  },
  {
   "cell_type": "markdown",
   "id": "123d4c7e-8733-4de9-9ce5-84d785b8b6f0",
   "metadata": {
    "editable": true,
    "slideshow": {
     "slide_type": "skip"
    },
    "tags": [
     "answer"
    ]
   },
   "source": [
    "![](images/circuits/processing_unit_with_special_operators.png)"
   ]
  },
  {
   "cell_type": "markdown",
   "id": "d6f6ada0-39a9-4fbb-9cdf-17e060f299c9",
   "metadata": {
    "editable": true,
    "slideshow": {
     "slide_type": "skip"
    },
    "tags": [
     "blank"
    ]
   },
   "source": [
    "<p style=\"height:44em;\"></p>"
   ]
  },
  {
   "cell_type": "markdown",
   "id": "7f0f8b7c-cb80-43fb-b808-b35cfb94964e",
   "metadata": {
    "editable": true,
    "slideshow": {
     "slide_type": "slide"
    },
    "tags": []
   },
   "source": [
    "## Assembly instructions"
   ]
  },
  {
   "cell_type": "markdown",
   "id": "bb3f329f-a43a-4780-b1e7-977ef7d65e7a",
   "metadata": {
    "editable": true,
    "slideshow": {
     "slide_type": "skip"
    },
    "tags": [
     "notes-only"
    ]
   },
   "source": [
    "* Simple instructions a processor can execute – e.g., add two integers, compare two integers, load/store a value from/to main memory\n",
    "* C code is compiled into assembly code\n",
    "    * Python code is interpreted; interpreter is compiled into assembly\n",
    "    * Java code is compiled to Java byte code, which is executed by the Java Virtual Machine (JVM); JVM is compiled into assembly\n",
    "* Assembly instructions are expressed in binary\n",
    "    * Some bits determine the operation – used as select bits for the multiplexer between the arithmetic and logic circuits and the ALU's output\n",
    "    * Some bits determine the first source register and other bits determine the second source register – used as select bits for the multiplexers between the register file's outputs and ALU's inputs\n",
    "    * Some bits determine the destination register – used as select bits for the demultiplexer between the ALU's output and register file's input\n",
    "* E.g., our simple processor from the warm-up uses 5-bit assembly instructions\n",
    "    * First (i.e., left-most) two bits determine operation\n",
    "    * Next bit determines destination register\n",
    "    * Next bit determines first source register\n",
    "    * Final (i.e., right-most) bit determinse second source register\n",
    "* Instruction set architectures (ISAs) — defines the low-level instructions a central processing unit (CPU), or processor, can execute\n",
    "    * Most popular Complex Instruction Set Computer (CISC) architecture: x86 (includes IA32 and x86-64)\n",
    "    * Most popular Reduced Instruction Set Computer (RISC) architecture: ARM\n",
    "    * Other common RISC architectures: SPARC (Scalable Processor Architecture), MIPS (Microprocessor without Interlocked Pipelined Stages), PowerPC, ARC (Argonaut RISC Core)\n",
    "* Our goal: to understand the relationship between C code and its corresponding assembly code to make informed programming decisions"
   ]
  },
  {
   "cell_type": "markdown",
   "id": "5c1ebdf0-6e76-49a0-a418-c7e7bdefe66e",
   "metadata": {
    "editable": true,
    "slideshow": {
     "slide_type": ""
    },
    "tags": [
     "question"
    ]
   },
   "source": [
    "_For Q4-Q6, consider the processing unit you created in Q1._"
   ]
  },
  {
   "cell_type": "markdown",
   "id": "39ceda02-eb06-4c67-bc99-3f6b20472c49",
   "metadata": {
    "editable": true,
    "slideshow": {
     "slide_type": ""
    },
    "tags": [
     "question"
    ]
   },
   "source": [
    "Q4: _If the processing unit is fed the instruction `0b11110` what will the processing unit do?_"
   ]
  },
  {
   "cell_type": "markdown",
   "id": "6936ec51-c3ef-4956-b869-945b3ccfe34f",
   "metadata": {
    "editable": true,
    "slideshow": {
     "slide_type": "skip"
    },
    "tags": [
     "answer"
    ]
   },
   "source": [
    "    r1 = ~r1"
   ]
  },
  {
   "cell_type": "markdown",
   "id": "6dd163f6-931a-4a00-b036-42f3c31bf34b",
   "metadata": {
    "editable": true,
    "slideshow": {
     "slide_type": "skip"
    },
    "tags": [
     "blank"
    ]
   },
   "source": [
    "<p style=\"height:3em;\"></p>"
   ]
  },
  {
   "cell_type": "markdown",
   "id": "c2b3d42b-217b-4fd1-b8bb-422239ca1953",
   "metadata": {
    "editable": true,
    "slideshow": {
     "slide_type": ""
    },
    "tags": [
     "question"
    ]
   },
   "source": [
    "Q5: _If the processing unit is fed the instruction `0b11111` what will the processing unit do?_"
   ]
  },
  {
   "cell_type": "markdown",
   "id": "bfb2acec-5c93-4435-91b1-2b68e0c51080",
   "metadata": {
    "editable": true,
    "slideshow": {
     "slide_type": "skip"
    },
    "tags": [
     "answer"
    ]
   },
   "source": [
    "    r1 = ~r1"
   ]
  },
  {
   "cell_type": "markdown",
   "id": "df4e3eaa-3444-4de3-b0a4-c1f7d6d2165b",
   "metadata": {
    "editable": true,
    "slideshow": {
     "slide_type": "skip"
    },
    "tags": [
     "blank"
    ]
   },
   "source": [
    "<p style=\"height:3em;\"></p>"
   ]
  },
  {
   "cell_type": "markdown",
   "id": "4fe49627-e696-48e4-a15c-a5640fe10639",
   "metadata": {
    "editable": true,
    "slideshow": {
     "slide_type": ""
    },
    "tags": [
     "question"
    ]
   },
   "source": [
    "Q6: _If the processing unit contained 16 registers instead of 2, how many bits would be required for a complete assembly instruction?_"
   ]
  },
  {
   "cell_type": "markdown",
   "id": "bc4613e3-78b1-4380-b1c8-908c823c8eca",
   "metadata": {
    "editable": true,
    "slideshow": {
     "slide_type": "skip"
    },
    "tags": [
     "answer"
    ]
   },
   "source": [
    "    14 = 2 + 4 + 4 + 4"
   ]
  },
  {
   "cell_type": "markdown",
   "id": "a2bfb97b-8d5f-4c20-a608-7181b12554c7",
   "metadata": {
    "editable": true,
    "slideshow": {
     "slide_type": "skip"
    },
    "tags": [
     "blank"
    ]
   },
   "source": [
    "<p style=\"height:3em;\"></p>"
   ]
  },
  {
   "cell_type": "markdown",
   "id": "0a673540-9b4f-44f0-a6d4-1fdf904605ec",
   "metadata": {
    "editable": true,
    "slideshow": {
     "slide_type": "subslide"
    },
    "tags": [
     "question"
    ]
   },
   "source": [
    "_For Q7-Q9, consider the processing unit you created in Q2._"
   ]
  },
  {
   "cell_type": "markdown",
   "id": "a19c28ea-b83d-49ca-b176-c0a0b94857a8",
   "metadata": {
    "editable": true,
    "slideshow": {
     "slide_type": ""
    },
    "tags": [
     "question"
    ]
   },
   "source": [
    "Q7: _For this processor's assembly language, how many bits are required for the operation code?_"
   ]
  },
  {
   "cell_type": "markdown",
   "id": "2c563e02-7360-436b-b680-b4b5aabbf89b",
   "metadata": {
    "editable": true,
    "slideshow": {
     "slide_type": "skip"
    },
    "tags": [
     "answer"
    ]
   },
   "source": [
    "    2"
   ]
  },
  {
   "cell_type": "markdown",
   "id": "7cc03bfe-aba8-4061-9822-d6e3d535256e",
   "metadata": {
    "editable": true,
    "slideshow": {
     "slide_type": "skip"
    },
    "tags": [
     "blank"
    ]
   },
   "source": [
    "<p style=\"height:3em;\"></p>"
   ]
  },
  {
   "cell_type": "markdown",
   "id": "8217ffd0-07a5-4169-9d64-12986c0fc515",
   "metadata": {
    "editable": true,
    "slideshow": {
     "slide_type": ""
    },
    "tags": [
     "question"
    ]
   },
   "source": [
    "Q8: _For this processor's assembly language, how many bits are required for a complete instruction?_"
   ]
  },
  {
   "cell_type": "markdown",
   "id": "c5e349cc-0631-4bd0-93c4-18b0cd23aa50",
   "metadata": {
    "editable": true,
    "slideshow": {
     "slide_type": "skip"
    },
    "tags": [
     "answer"
    ]
   },
   "source": [
    "3 + 3 + 3 + 2 = 11"
   ]
  },
  {
   "cell_type": "markdown",
   "id": "b95aa91a-731d-40c4-a3ae-532a97c4c51e",
   "metadata": {
    "editable": true,
    "slideshow": {
     "slide_type": "skip"
    },
    "tags": [
     "blank"
    ]
   },
   "source": [
    "<p style=\"height:3em;\"></p>"
   ]
  },
  {
   "cell_type": "markdown",
   "id": "263b8e9e-9e0e-4c71-9238-a17b6bc0e03e",
   "metadata": {
    "editable": true,
    "slideshow": {
     "slide_type": ""
    },
    "tags": [
     "question"
    ]
   },
   "source": [
    "Q9: _What is the binary representation of the assembly instruction for `r0 = r0 ^ r1`?_"
   ]
  },
  {
   "cell_type": "markdown",
   "id": "11fbf15a-6bc9-4e6d-b8f8-5595799ec970",
   "metadata": {
    "editable": true,
    "slideshow": {
     "slide_type": "skip"
    },
    "tags": [
     "answer"
    ]
   },
   "source": [
    "    0b00000010001  (if instructions are left to right)"
   ]
  },
  {
   "cell_type": "markdown",
   "id": "b44a341f-2f18-42bb-9f65-512f5a2535b0",
   "metadata": {
    "editable": true,
    "slideshow": {
     "slide_type": "skip"
    },
    "tags": [
     "blank"
    ]
   },
   "source": [
    "<p style=\"height:3em;\"></p>"
   ]
  }
 ],
 "metadata": {
  "kernelspec": {
   "display_name": "C",
   "language": "c",
   "name": "c"
  },
  "language_info": {
   "file_extension": ".c",
   "mimetype": "text/plain",
   "name": "c"
  }
 },
 "nbformat": 4,
 "nbformat_minor": 5
}
