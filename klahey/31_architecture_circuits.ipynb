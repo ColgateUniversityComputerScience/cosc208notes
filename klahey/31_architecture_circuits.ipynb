{
 "cells": [
  {
   "cell_type": "markdown",
   "id": "275f3326-b6de-4d7d-b41a-f17ec6a57354",
   "metadata": {
    "editable": true,
    "slideshow": {
     "slide_type": "skip"
    },
    "tags": []
   },
   "source": [
    "# Architecture: circuits\n",
    "_COSC 208, Introduction to Computer Systems, Spring 2025_"
   ]
  },
  {
   "cell_type": "markdown",
   "id": "9db293af-f9ec-4262-b568-ef1906a523b4",
   "metadata": {
    "editable": true,
    "slideshow": {
     "slide_type": "slide"
    },
    "tags": []
   },
   "source": [
    "## Announcements\n",
    "* Project 2 initial version, due March 6, 2025 @ 11pm"
   ]
  },
  {
   "cell_type": "markdown",
   "id": "fd76495a-eb39-4938-9755-c99a0875bbc9",
   "metadata": {
    "editable": true,
    "slideshow": {
     "slide_type": "slide"
    },
    "tags": []
   },
   "source": [
    "## 1-bit comparison circuits"
   ]
  },
  {
   "cell_type": "markdown",
   "id": "5df9ae60-c078-4a9b-a9bf-0c2911282919",
   "metadata": {
    "editable": true,
    "slideshow": {
     "slide_type": ""
    },
    "tags": [
     "question"
    ]
   },
   "source": [
    "Q1: _Fill-in the truth table for the following comparison operations_"
   ]
  },
  {
   "cell_type": "markdown",
   "id": "ebc84d45-e2e2-4937-846d-0167c4c24b73",
   "metadata": {
    "editable": true,
    "slideshow": {
     "slide_type": "skip"
    },
    "tags": [
     "answer"
    ]
   },
   "source": [
    "| A | B | (A != B) | (A > B) | (A >= B) |\n",
    "| - | - | -------- | ------- | -------- |\n",
    "| 0 | 0 |    0     |    0    |    1     |\n",
    "| 0 | 1 |    1     |    0    |    0     |\n",
    "| 1 | 0 |    1     |    1    |    1     |\n",
    "| 1 | 1 |    0     |    0    |    1     |"
   ]
  },
  {
   "cell_type": "markdown",
   "id": "ea0b9bda-7b0e-45a4-bb02-9ca21d1623d5",
   "metadata": {
    "editable": true,
    "slideshow": {
     "slide_type": ""
    },
    "tags": [
     "blank"
    ]
   },
   "source": [
    "| A | B | (A != B) | (A > B) | (A >= B) |\n",
    "| - | - | -------- | ------- | -------- |\n",
    "| 0 | 0 |          |         |          |\n",
    "| 0 | 1 |          |         |          |\n",
    "| 1 | 0 |          |         |          |\n",
    "| 1 | 1 |          |         |          |"
   ]
  },
  {
   "cell_type": "markdown",
   "id": "b8e224d2-78dc-46a7-903d-213864264dd5",
   "metadata": {
    "editable": true,
    "slideshow": {
     "slide_type": "skip"
    },
    "tags": [
     "notes-only"
    ]
   },
   "source": [
    "* _Design the truth table: e.g., A != B_\n",
    "\n",
    "| A | B | A != B |\n",
    "| - | - | ------ |\n",
    "| 0 | 0 |   0    |\n",
    "| 0 | 1 |   1    |\n",
    "| 1 | 0 |   1    |\n",
    "| 1 | 1 |   0    |\n",
    "\n",
    "* For each row where the output value is 1:\n",
    "    * Add an AND gate to the circuit\n",
    "    * If an input value is 1, connect it to the AND gate\n",
    "    * If an input value is 0, connect it to a NOT gate, then connect the output of the NOT gate to the AND gate\n",
    "* Connect the output of all AND gates to a single OR gate\n",
    "\n",
    "    ![](images/circuits/1b_ne.png)"
   ]
  },
  {
   "cell_type": "markdown",
   "id": "9a85d6ba-9ae8-437d-aa8e-811a625c1de5",
   "metadata": {
    "editable": true,
    "slideshow": {
     "slide_type": "skip"
    },
    "tags": [
     "notes-only"
    ]
   },
   "source": [
    "* _Can we build a circuit that uses fewer gates?_\n",
    "    * `A XOR B`\n",
    "    * `(A OR B) AND (NOT (A AND B))`\n",
    "\n",
    "        ![](images/circuits/1b_ne_opt.png)"
   ]
  },
  {
   "cell_type": "markdown",
   "id": "62ffe241-2bd6-4a0e-b0a7-19b4a4e6fb6d",
   "metadata": {
    "editable": true,
    "slideshow": {
     "slide_type": "skip"
    },
    "tags": [
     "blank"
    ]
   },
   "source": [
    "<p style=\"height:12em;\"></p>"
   ]
  },
  {
   "cell_type": "markdown",
   "id": "2d5d0d14-2de9-40aa-a159-38cb8d5b31d6",
   "metadata": {
    "editable": true,
    "slideshow": {
     "slide_type": "subslide"
    },
    "tags": [
     "question"
    ]
   },
   "source": [
    "Q2: _Create a circuit for `A > B` using `AND`, `OR`, `NOT` gates_"
   ]
  },
  {
   "cell_type": "markdown",
   "id": "ca203cf0-6478-4144-a464-89d31975aa1d",
   "metadata": {
    "editable": true,
    "slideshow": {
     "slide_type": "skip"
    },
    "tags": [
     "answer"
    ]
   },
   "source": [
    "`A AND NOT(B)`\n",
    "\n",
    "![](images/circuits/1b_gt.png)"
   ]
  },
  {
   "cell_type": "markdown",
   "id": "363e27c8-7b94-41d6-85c5-6ff51c8f310a",
   "metadata": {
    "editable": true,
    "slideshow": {
     "slide_type": "skip"
    },
    "tags": [
     "blank"
    ]
   },
   "source": [
    "<p style=\"height:14em;\"></p>"
   ]
  },
  {
   "cell_type": "markdown",
   "id": "494d1f49-2574-4e8a-80cf-a7d601de2a18",
   "metadata": {
    "editable": true,
    "slideshow": {
     "slide_type": "subslide"
    },
    "tags": [
     "question"
    ]
   },
   "source": [
    "Q3: _Create a circuit for `A >= B` using `AND`, `OR`, `NOT` gates_"
   ]
  },
  {
   "cell_type": "markdown",
   "id": "63d1b8b2-854d-4e9b-b55b-701f79cefd62",
   "metadata": {
    "editable": true,
    "slideshow": {
     "slide_type": "skip"
    },
    "tags": [
     "answer"
    ]
   },
   "source": [
    "![](images/circuits/1b_ge.png)\n",
    "\n",
    "* Alternatives\n",
    "    * `(NOT(A OR B)) OR (A AND NOT(B)) OR (A AND B)`\n",
    "    * `(NOT(A) AND NOT(B)) OR A`\n",
    "    * `(NOT(A OR B)) OR A`\n",
    "    * `NOT(NOT(A) AND B)`\n",
    "    * `A OR NOT(B)`"
   ]
  },
  {
   "cell_type": "markdown",
   "id": "d95be79f-a856-42f9-9794-c1a600936b67",
   "metadata": {
    "editable": true,
    "slideshow": {
     "slide_type": "skip"
    },
    "tags": [
     "blank"
    ]
   },
   "source": [
    "<p style=\"height:12em;\"></p>"
   ]
  },
  {
   "cell_type": "markdown",
   "id": "f0410e21-9541-4291-891b-538dc9667c51",
   "metadata": {
    "editable": true,
    "slideshow": {
     "slide_type": "subslide"
    },
    "tags": [
     "question"
    ]
   },
   "source": [
    "Q4: _Create a 1-bit circuit for `A <= B` using `AND`, `OR`, `NOT` gates_"
   ]
  },
  {
   "cell_type": "markdown",
   "id": "182db5fd-277f-4d86-b58d-606a53a0229c",
   "metadata": {
    "editable": true,
    "slideshow": {
     "slide_type": "skip"
    },
    "tags": [
     "answer"
    ]
   },
   "source": [
    "| A | B | A <= B |\n",
    "| - | - | ------ |\n",
    "| 0 | 0 |   1    |\n",
    "| 0 | 1 |   1    |\n",
    "| 1 | 0 |   0    |\n",
    "| 1 | 1 |   1    |\n",
    "\n",
    "![](images/circuits/a_le_b.png)"
   ]
  },
  {
   "cell_type": "markdown",
   "id": "1d7a65a7-f0d9-40ce-8f29-8a1fe50940a3",
   "metadata": {
    "editable": true,
    "slideshow": {
     "slide_type": "skip"
    },
    "tags": [
     "blank"
    ]
   },
   "source": [
    "<p style=\"height:18em;\"></p>"
   ]
  },
  {
   "cell_type": "markdown",
   "id": "ee883efb-60bc-49ad-866d-9e81d4ae4bc3",
   "metadata": {
    "editable": true,
    "slideshow": {
     "slide_type": "subslide"
    },
    "tags": [
     "question"
    ]
   },
   "source": [
    "Q5: _Draw a 1-bit circuit for `A < B` using only `AND`, `OR`, and `NOT` gates. Show your work (i.e., any intermediate design steps you took)._"
   ]
  },
  {
   "cell_type": "markdown",
   "id": "aaf82ea4-a4e1-4d3f-aaec-712fa372a876",
   "metadata": {
    "editable": true,
    "slideshow": {
     "slide_type": "skip"
    },
    "tags": [
     "answer"
    ]
   },
   "source": [
    "| A | B | A < B |\n",
    "| - | - | ----- |\n",
    "| 0 | 0 |   0   |\n",
    "| 0 | 1 |   1   |\n",
    "| 1 | 0 |   0   |\n",
    "| 1 | 1 |   0   |\n",
    "\n",
    "```\n",
    "NOT(A) AND B\n",
    "```\n",
    "\n",
    "![](images/circuits/a_lt_b.png)"
   ]
  },
  {
   "cell_type": "markdown",
   "id": "c4021c87-eee9-49b0-a0fa-f850799f3d2f",
   "metadata": {
    "editable": true,
    "slideshow": {
     "slide_type": "skip"
    },
    "tags": [
     "blank"
    ]
   },
   "source": [
    "<div style=\"page-break-after:always;\"></div>"
   ]
  },
  {
   "cell_type": "markdown",
   "id": "5c502906-c962-469c-9caa-c5cb312d3744",
   "metadata": {
    "editable": true,
    "slideshow": {
     "slide_type": "slide"
    },
    "tags": []
   },
   "source": [
    "## 1-bit addition circuit"
   ]
  },
  {
   "cell_type": "markdown",
   "id": "c8f0626c-82a6-48d5-b9bd-9937289badcf",
   "metadata": {
    "editable": true,
    "slideshow": {
     "slide_type": ""
    },
    "tags": [
     "question"
    ]
   },
   "source": [
    "_Your goal is to create a 1-bit circuit to perform addition. The circuit will take 3 input bits (`A`, `B`, and `I` = carry-in) and produce 2 output bits (`S` = sum and `O` = carry_out)._\n",
    "\n",
    "Q6: _Complete the truth table for this operation_"
   ]
  },
  {
   "cell_type": "markdown",
   "id": "0a9b3da2-b4c7-4959-ab1d-9aa7801e403b",
   "metadata": {
    "editable": true,
    "slideshow": {
     "slide_type": "skip"
    },
    "tags": [
     "answer"
    ]
   },
   "source": [
    "| `A` | `B` | `I` | `S` | `O` |\n",
    "|-----|-----|-----|-----|-----|\n",
    "|  0  |  0  |  0  |  0  |  0  |\n",
    "|  0  |  0  |  1  |  1  |  0  |\n",
    "|  0  |  1  |  0  |  1  |  0  |\n",
    "|  0  |  1  |  1  |  0  |  1  |\n",
    "|  1  |  0  |  0  |  1  |  0  |\n",
    "|  1  |  0  |  1  |  0  |  1  |\n",
    "|  1  |  1  |  0  |  0  |  1  |\n",
    "|  1  |  1  |  1  |  1  |  1  |"
   ]
  },
  {
   "cell_type": "markdown",
   "id": "042b610f-830f-4660-9720-0fba145fbcc7",
   "metadata": {
    "editable": true,
    "slideshow": {
     "slide_type": ""
    },
    "tags": [
     "question"
    ]
   },
   "source": [
    "| `A` | `B` | `I` | `S` | `O` |\n",
    "|-----|-----|------------|-------|-------------|\n",
    "|  0  |  0  |     0      |       |             |\n",
    "|  0  |  0  |     1      |       |             |\n",
    "|  0  |  1  |     0      |       |             |\n",
    "|  0  |  1  |     1      |       |             |\n",
    "|  1  |  0  |     0      |       |             |\n",
    "|  1  |  0  |     1      |       |             |\n",
    "|  1  |  1  |     0      |   0   |      1      |\n",
    "|  1  |  1  |     1      |   1   |      1      |\n"
   ]
  },
  {
   "cell_type": "markdown",
   "id": "b51357b6-3cfa-4504-96e9-0905adb42ea7",
   "metadata": {
    "editable": true,
    "slideshow": {
     "slide_type": "subslide"
    },
    "tags": [
     "question"
    ]
   },
   "source": [
    "Q7: _Draw the circuit for `S`_"
   ]
  },
  {
   "cell_type": "markdown",
   "id": "dd6358c4-75b6-4c97-8639-28ba30680142",
   "metadata": {
    "editable": true,
    "slideshow": {
     "slide_type": "skip"
    },
    "tags": [
     "answer"
    ]
   },
   "source": [
    "![](images/circuits/sum.png)"
   ]
  },
  {
   "cell_type": "markdown",
   "id": "df5175cf-7b5c-4cc5-96bd-d670ca260638",
   "metadata": {
    "editable": true,
    "slideshow": {
     "slide_type": "skip"
    },
    "tags": [
     "blank"
    ]
   },
   "source": [
    "<p style=\"height:35em;\"></p>"
   ]
  },
  {
   "cell_type": "markdown",
   "id": "3898f064-56b7-45a7-93d2-c3ea9fba0f6a",
   "metadata": {
    "editable": true,
    "slideshow": {
     "slide_type": "subslide"
    },
    "tags": [
     "question"
    ]
   },
   "source": [
    "Q8: _Draw the circuit for `O`_"
   ]
  },
  {
   "cell_type": "markdown",
   "id": "acdf8bc1-8d2a-4d9c-ab2b-081b4b80ace3",
   "metadata": {
    "editable": true,
    "slideshow": {
     "slide_type": "skip"
    },
    "tags": [
     "notes-only",
     "answer"
    ]
   },
   "source": [
    "* Simplified: `(B AND I) OR (A AND I) OR (A AND B)`\n",
    "\n",
    "    ![](images/circuits/carry_out.png)"
   ]
  },
  {
   "cell_type": "markdown",
   "id": "0aac1296-d7e1-4b04-84d7-eddbb1ec043f",
   "metadata": {
    "editable": true,
    "slideshow": {
     "slide_type": "skip"
    },
    "tags": [
     "blank"
    ]
   },
   "source": [
    "<p style=\"height:20em;\"></p>"
   ]
  },
  {
   "cell_type": "markdown",
   "id": "7ff049a7-3938-4cbd-abce-326694de3435",
   "metadata": {
    "editable": true,
    "slideshow": {
     "slide_type": "slide"
    },
    "tags": [
     "question"
    ]
   },
   "source": [
    "## n-bit comparison circuits"
   ]
  },
  {
   "cell_type": "markdown",
   "id": "1cb49172-85b0-47b2-bbcb-870d5c1c2f3c",
   "metadata": {
    "editable": true,
    "slideshow": {
     "slide_type": "subslide"
    },
    "tags": []
   },
   "source": [
    "Q9: _Complete the truth-table for `A > B` when A and B are two bit unsigned numbers_"
   ]
  },
  {
   "cell_type": "markdown",
   "id": "d83a7d88-1288-4e16-87c5-37b034a1ac64",
   "metadata": {
    "editable": true,
    "slideshow": {
     "slide_type": "skip"
    },
    "tags": [
     "answer"
    ]
   },
   "source": [
    "| A1 A0 | B1 B0 | A > B |\n",
    "| ----- | ----- | ----- |\n",
    "| 0   0 | 0   0 |   0   |\n",
    "| 0   1 | 0   0 |   1   |\n",
    "| 1   0 | 0   0 |   1   |\n",
    "| 1   1 | 0   0 |   1   |\n",
    "| 0   0 | 0   1 |   0   |\n",
    "| 0   1 | 0   1 |   0   |\n",
    "| 1   0 | 0   1 |   1   |\n",
    "| 1   1 | 0   1 |   1   |\n",
    "| 0   0 | 1   0 |   0   |\n",
    "| 0   1 | 1   0 |   0   |\n",
    "| 1   0 | 1   0 |   0   |\n",
    "| 1   1 | 1   0 |   1   |\n",
    "| 0   0 | 1   1 |   0   |\n",
    "| 0   1 | 1   1 |   0   |\n",
    "| 1   0 | 1   1 |   0   |\n",
    "| 1   1 | 1   1 |   0   |"
   ]
  },
  {
   "cell_type": "markdown",
   "id": "c6f28ef4-b6ac-4d0a-801a-c76c50fe339c",
   "metadata": {
    "editable": true,
    "slideshow": {
     "slide_type": ""
    },
    "tags": [
     "blank"
    ]
   },
   "source": [
    "| A1 A0 | B1 B0 | A > B |\n",
    "| ----- | ----- | ----- |\n",
    "| 0   0 | 0   0 |   0   |\n",
    "| 0   1 | 0   0 |   1   |\n",
    "| 1   0 | 0   0 |       |\n",
    "| 1   1 | 0   0 |       |\n",
    "| 0   0 | 0   1 |       |\n",
    "| 0   1 | 0   1 |       |\n",
    "| 1   0 | 0   1 |       |\n",
    "| 1   1 | 0   1 |       |\n",
    "| 0   0 | 1   0 |       |\n",
    "| 0   1 | 1   0 |       |\n",
    "| 1   0 | 1   0 |       |\n",
    "| 1   1 | 1   0 |       |\n",
    "| 0   0 | 1   1 |       |\n",
    "| 0   1 | 1   1 |       |\n",
    "| 1   0 | 1   1 |       |\n",
    "| 1   1 | 1   1 |       |"
   ]
  },
  {
   "cell_type": "markdown",
   "id": "a0ef5704-2873-44ff-bedc-23ab9b22e43e",
   "metadata": {
    "editable": true,
    "slideshow": {
     "slide_type": "skip"
    },
    "tags": [
     "notes-only"
    ]
   },
   "source": [
    "* _How did you determine this?_\n",
    "    * Convert to decimal — not an option for hardware\n",
    "    * Compare 1st bits, then, if necessary, compare 2nd bits — `(A1 > B1) OR ((A1 == B1) AND (A0 > B0))`\n",
    "* _What if there were 3 bits?_ \n",
    "    * Compare 1st bits, then, if necessary, 2nd bits, then, if necessary, 3rd bits\n",
    "    * `(A2 > B2) OR ((A2 == B2) AND (A1 > B1)) OR ((A2 == B2) AND (A1 == B1) AND (A0 > B0))`\n",
    "* _What do you need to know about previous bits?_\n",
    "    * Is some previous bit greater?\n",
    "    * Are all previous bits equal?"
   ]
  },
  {
   "cell_type": "markdown",
   "id": "19bfcbd8-5035-4ee0-a5da-1496d7cb6823",
   "metadata": {
    "editable": true,
    "slideshow": {
     "slide_type": "skip"
    },
    "tags": [
     "notes-only"
    ]
   },
   "source": [
    "![](images/circuits/2-bit_a_gt_b.png)"
   ]
  },
  {
   "cell_type": "markdown",
   "id": "becfe59a-1408-423a-9afd-9225ecd3a55e",
   "metadata": {
    "editable": true,
    "slideshow": {
     "slide_type": "skip"
    },
    "tags": [
     "blank"
    ]
   },
   "source": [
    "<p style=\"height:2em;\"></p>"
   ]
  },
  {
   "cell_type": "markdown",
   "id": "a6b86b26-d575-4b92-9c7e-1193f40e5c3e",
   "metadata": {
    "editable": true,
    "slideshow": {
     "slide_type": "subslide"
    },
    "tags": [
     "question"
    ]
   },
   "source": [
    "Q10: _Draw a circuit that takes two 3-bit unsigned numbers (`0b A2 A1 A0` and `0b B2 B1 B0`) and outputs a single bit that indicates whether the first number is less than or equal to the second number. Assume you have access to an unlimited supply of `AND`, `OR`, and `NOT` gates and 1-bit greater-than, less-than, and equal-to circuits, as shown below_\n",
    "\n",
    "![](images/and_xsmall.png) ![](images/or_xsmall.png) ![](images/not_xsmall.png)\n",
    "\n",
    "![](images/circuits/greater-than-circuit_box.png) ![](images/circuits/less-than-circuit_box.png) ![](images/circuits/equals-circuit_box.png)"
   ]
  },
  {
   "cell_type": "markdown",
   "id": "759ae21d-78d1-4bcc-932e-0d4a1093775d",
   "metadata": {
    "editable": true,
    "slideshow": {
     "slide_type": "skip"
    },
    "tags": [
     "answer"
    ]
   },
   "source": [
    "![](images/circuits/3-bit_less-than-or-equal_circuit.png)"
   ]
  },
  {
   "cell_type": "markdown",
   "id": "e530cfeb-d123-4bfd-9908-8f54fdcab5e2",
   "metadata": {
    "editable": true,
    "slideshow": {
     "slide_type": "skip"
    },
    "tags": [
     "blank"
    ]
   },
   "source": [
    "<p style=\"height:22em;\"></p>"
   ]
  },
  {
   "cell_type": "markdown",
   "id": "a8c8b52c-4bb0-43e7-82a8-959a04e94cab",
   "metadata": {
    "editable": true,
    "slideshow": {
     "slide_type": ""
    },
    "tags": [
     "question"
    ]
   },
   "source": [
    "Q11: _Draw a circuit that takes two 3-bit **signed** numbers (`0b A2 A1 A0` and `0b B2 B1 B0`) and outputs a single bit that indicates whether the first number is **greater than** the second number. Assume you have access to an unlimited supply of `AND`, `OR`, and `NOT` gates and 1-bit greater-than, less-than, and equal-to circuits._"
   ]
  },
  {
   "cell_type": "markdown",
   "id": "502870d2-6d00-474f-894d-f3ca07a8dc38",
   "metadata": {
    "editable": true,
    "slideshow": {
     "slide_type": "skip"
    },
    "tags": [
     "answer"
    ]
   },
   "source": [
    "![](images/circuits/3-bit-signed_greater-than_circuit.png)"
   ]
  },
  {
   "cell_type": "markdown",
   "id": "3a6eb910-ddbc-424f-a06b-7e3573e58c32",
   "metadata": {
    "editable": true,
    "slideshow": {
     "slide_type": "skip"
    },
    "tags": [
     "blank"
    ]
   },
   "source": [
    "<p style=\"height:22em;\"></p>"
   ]
  },
  {
   "cell_type": "markdown",
   "id": "a145a2e4-f066-49a3-b4ef-9b9eccedc2b4",
   "metadata": {
    "editable": true,
    "slideshow": {
     "slide_type": ""
    },
    "tags": [
     "question"
    ]
   },
   "source": [
    "Q12: _Assume you have access to 1-bit circuits for `A < B`, `A == B`, and `A > B` and logic gates for `AND`, `OR`, and `NOT`. \n",
    "Draw a circuit that takes two 2-bit unsigned numbers (`0b A1 A0` and `0b B1 B0`) and outputs a single bit that indicates whether the first number is **less than** the second number._"
   ]
  },
  {
   "cell_type": "markdown",
   "id": "902baf9d-967c-452b-b9bf-2a0c7f901e88",
   "metadata": {
    "editable": true,
    "slideshow": {
     "slide_type": "skip"
    },
    "tags": [
     "answer"
    ]
   },
   "source": [
    "| A1 A0 | B1 B0 | A < B |\n",
    "| ----- | ----- | ----- |\n",
    "| 0   0 | 0   0 |   0   |\n",
    "| 0   1 | 0   0 |   0   |\n",
    "| 1   0 | 0   0 |   0   |\n",
    "| 1   1 | 0   0 |   0   |\n",
    "| 0   0 | 0   1 |   1   |\n",
    "| 0   1 | 0   1 |   0   |\n",
    "| 1   0 | 0   1 |   0   |\n",
    "| 1   1 | 0   1 |   0   |\n",
    "| 0   0 | 1   0 |   1   |\n",
    "| 0   1 | 1   0 |   1   |\n",
    "| 1   0 | 1   0 |   0   |\n",
    "| 1   1 | 1   0 |   0   |\n",
    "| 0   0 | 1   1 |   1   |\n",
    "| 0   1 | 1   1 |   1   |\n",
    "| 1   0 | 1   1 |   1   |\n",
    "| 1   1 | 1   1 |   0   |\n",
    "\n",
    "![](images/circuits/2bit_a_lt_b.png)"
   ]
  },
  {
   "cell_type": "markdown",
   "id": "e66e9946-fa85-4f99-a7ca-293daf14bff3",
   "metadata": {
    "editable": true,
    "slideshow": {
     "slide_type": "skip"
    },
    "tags": [
     "blank"
    ]
   },
   "source": [
    "<p style=\"height:20em;\"></p>"
   ]
  },
  {
   "cell_type": "markdown",
   "id": "de148a2e-b4be-4daa-b2bf-091c05394fbd",
   "metadata": {
    "editable": true,
    "slideshow": {
     "slide_type": "skip"
    },
    "tags": [
     "notes-only"
    ]
   },
   "source": [
    "## n-bit addition circuit"
   ]
  },
  {
   "cell_type": "markdown",
   "id": "68d2c0f5-c44e-4488-a331-562624393f42",
   "metadata": {
    "editable": true,
    "slideshow": {
     "slide_type": "skip"
    },
    "tags": [
     "notes-only"
    ]
   },
   "source": [
    "* Ripple adder\n",
    "    * Adder\n",
    "        * Inputs – `A`, `B`, carry in\n",
    "        * Outputs - `sum`, carry out\n",
    "        * Circuit <br /> ![](images/circuits/adder.png)\n",
    "    * Inputs – `An`, ..., `A1`, `Bn`, ..., `B1`\n",
    "    * Outputs – `Sn`, ..., `S1`\n",
    "    * Circuit <br /> ![](images/circuits/ripple_adder.png)"
   ]
  }
 ],
 "metadata": {
  "kernelspec": {
   "display_name": "C",
   "language": "c",
   "name": "c"
  },
  "language_info": {
   "file_extension": ".c",
   "mimetype": "text/plain",
   "name": "c"
  }
 },
 "nbformat": 4,
 "nbformat_minor": 5
}
