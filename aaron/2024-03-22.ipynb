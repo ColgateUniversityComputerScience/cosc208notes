{
 "cells": [
  {
   "cell_type": "markdown",
   "id": "39d76db8-edb9-47d5-bec8-7998805660b3",
   "metadata": {
    "slideshow": {
     "slide_type": "skip"
    },
    "tags": []
   },
   "source": [
    "# Assembly: operations and operands (continued); mapping assembly code to C\n",
    "_COSC 208, Introduction to Computer Systems, 2024-03-22_"
   ]
  },
  {
   "cell_type": "markdown",
   "id": "78ce01e3-ca44-4561-b8fd-a49919e54a9a",
   "metadata": {
    "slideshow": {
     "slide_type": "skip"
    },
    "tags": []
   },
   "source": [
    "## Announcements\n",
    "* Project 2 due Wednesday @ 11pm"
   ]
  },
  {
   "cell_type": "markdown",
   "id": "f17866fc-fc93-480c-a9a5-d903a0657063",
   "metadata": {
    "slideshow": {
     "slide_type": "skip"
    },
    "tags": []
   },
   "source": [
    "## Outline\n",
    "* Assembly\n",
    "* Viewing assembly code\n",
    "* Operands"
   ]
  },
  {
   "cell_type": "markdown",
   "id": "e663073f-3384-4891-978a-b8c31d0a6263",
   "metadata": {
    "slideshow": {
     "slide_type": "slide"
    },
    "tags": []
   },
   "source": [
    "## No Warm-up – Happy Friday!"
   ]
  },
  {
   "cell_type": "markdown",
   "id": "a31d5fc4-f918-40bf-9381-d502cf27c36c",
   "metadata": {
    "slideshow": {
     "slide_type": "slide"
    },
    "tags": []
   },
   "source": [
    "## Viewing assembly code"
   ]
  },
  {
   "cell_type": "markdown",
   "id": "9990acae-afca-4ab9-802c-ec3481333546",
   "metadata": {},
   "source": [
    "* Example program (`dogyears.c`)"
   ]
  },
  {
   "cell_type": "code",
   "execution_count": null,
   "id": "ba449c04-69ed-4130-82e9-a41c25515742",
   "metadata": {
    "tags": [
     "worksheet-code-only"
    ]
   },
   "outputs": [],
   "source": [
    "/* 1*/   #include <stdio.h>\n",
    "/* 2*/   #include <stdlib.h>\n",
    "/* 3*/   int dog_years(int birth) {\n",
    "/* 4*/       int current = 2023;\n",
    "/* 5*/       int years = current - birth;\n",
    "/* 6*/       years = years * 7;\n",
    "/* 7*/       return years;\n",
    "/* 8*/   }\n",
    "/* 9*/   int main() {\n",
    "/*10*/       printf(\"What year were you born? \");\n",
    "/*11*/       char year[5];\n",
    "/*12*/       fgets(year, 5, stdin);\n",
    "/*13*/       int dog_age = dog_years(atoi(year));\n",
    "/*14*/       printf(\"You are %d dog years old\\n\", dog_age);\n",
    "/*15*/   }"
   ]
  },
  {
   "cell_type": "markdown",
   "id": "dbd244b0-c616-4210-a836-746c11fa7b6e",
   "metadata": {
    "slideshow": {
     "slide_type": "skip"
    },
    "tags": [
     "notes-only"
    ]
   },
   "source": [
    "* Viewing assembly code\n",
    "    * Compile: `gcc -fomit-frame-pointer -o dogyears dogyears.c`\n",
    "    * Disassemble executable: `objdump -d dogyears > dogyears.txt`"
   ]
  },
  {
   "cell_type": "markdown",
   "id": "929ab770-14e2-430e-b46a-4e05fd4e966a",
   "metadata": {
    "slideshow": {
     "slide_type": "subslide"
    },
    "tags": []
   },
   "source": [
    "* Assembly code (excerpt from `dogyears.txt`)\n",
    "    ```\n",
    "    0000000000000914 <dog_years>:\n",
    "     914:   d10083ff        sub     sp, sp, #0x20\n",
    "     918:   b9000fe0        str     w0, [sp, #12]\n",
    "     91c:   5280fce0        mov     w0, #0x7e7\n",
    "     920:   b9001be0        str     w0, [sp, #24]\n",
    "     924:   b9401be1        ldr     w1, [sp, #24]\n",
    "     928:   b9400fe0        ldr     w0, [sp, #12]\n",
    "     92c:   4b000020        sub     w0, w1, w0\n",
    "     930:   b9001fe0        str     w0, [sp, #28]\n",
    "     934:   b9401fe1        ldr     w1, [sp, #28]\n",
    "     938:   2a0103e0        mov     w0, w1\n",
    "     93c:   531d7000        lsl     w0, w0, #3\n",
    "     940:   4b010000        sub     w0, w0, w1\n",
    "     944:   b9001fe0        str     w0, [sp, #28]\n",
    "     948:   b9401fe0        ldr     w0, [sp, #28]\n",
    "     94c:   910083ff        add     sp, sp, #0x20\n",
    "     950:   d65f03c0        ret\n",
    "    ```"
   ]
  },
  {
   "cell_type": "markdown",
   "id": "2084c3d4-8aff-46f0-afa0-534392f22491",
   "metadata": {
    "slideshow": {
     "slide_type": "skip"
    },
    "tags": [
     "worksheet-only"
    ]
   },
   "source": [
    "<div style=\"page-break-after:always;\"></div>"
   ]
  },
  {
   "cell_type": "markdown",
   "id": "9fa02227-4dc3-4bad-a589-f5df0ac650af",
   "metadata": {
    "slideshow": {
     "slide_type": "skip"
    },
    "tags": [
     "notes-only"
    ]
   },
   "source": [
    "* _What do each of the columns contain?_\n",
    "    * Code memory address\n",
    "    * Bytes corresponding to instruction\n",
    "    * Operation\n",
    "        * sub – subtraction\n",
    "        * str – store (i.e., copy) a value from a register into main memory\n",
    "        * mov – move (i.e., copy) into a register a constant or a value from another register\n",
    "        * ldr – load (i.e., copy) a value from main memory into a register\n",
    "        * lsl – logical shift left (i.e., `<<`)\n",
    "        * add – addition\n",
    "        * ret – return from function call\n",
    "    * Operands"
   ]
  },
  {
   "cell_type": "markdown",
   "id": "f2c846cb-c607-4d45-ab5f-76244b723f8c",
   "metadata": {
    "slideshow": {
     "slide_type": "skip"
    },
    "tags": [
     "notes-only"
    ]
   },
   "source": [
    "## Operands"
   ]
  },
  {
   "cell_type": "markdown",
   "id": "979e5a49-8161-4544-bf5c-8b7b72e10478",
   "metadata": {
    "slideshow": {
     "slide_type": "skip"
    },
    "tags": [
     "notes-only"
    ]
   },
   "source": [
    "* Registers\n",
    "    * General purpose registers\n",
    "        * `w0` through `w30` (32-bit) \n",
    "        * `x0` through `x30` (64-bit)\n",
    "    * Stack pointer `sp` – memory address of the top of the current stack frame\n",
    "    * Program counter `pc` – memory address of the current instruction\n",
    "* Constant\n",
    "    * In hex — e.g., `#0x20`\n",
    "    * In decimal — e.g., `#8`\n",
    "* Memory – only used in `ldr` (load) and `str` (store) instructions, which copy data between main memory and the processor\n",
    "    * Dereference — e.g., `[x1]`\n",
    "    * Add to memory address, then dereference — e.g., `[sp,#16]`"
   ]
  },
  {
   "cell_type": "markdown",
   "id": "468e44a6-c2d6-4890-888a-17f5ba417f13",
   "metadata": {
    "slideshow": {
     "slide_type": "skip"
    },
    "tags": []
   },
   "source": [
    "## Mapping assembly code to C code"
   ]
  },
  {
   "cell_type": "markdown",
   "id": "c9a2eaa4-5a70-44da-9302-59a937fd47f9",
   "metadata": {
    "slideshow": {
     "slide_type": "skip"
    },
    "tags": [
     "notes-only"
    ]
   },
   "source": [
    "* Function begin pattern\n",
    "    * create stack frame by decreasing (`sub`) stack pointer\n",
    "    * store (`str`) parameters from registers w/x0, w/x1, etc. into the stack in main memory\n",
    "* Local variable initialization pattern\n",
    "    * move (mov) constant value into register\n",
    "    * store (str) register value onto the stack\n",
    "* Mathematical operation pattern\n",
    "    * load (`ldr`) first operand from the stack into a register OR move (`mov`) first operand constant into a regster\n",
    "    * load (`ldr`) second operand from the stack into a register OR move (`mov`) second operand constant into a regster\n",
    "    * compute\n",
    "    * store (`str`) resulting value from a register into the stack\n",
    "* Function return/end pattern\n",
    "    * load (`ldr`) return value from the stack into the w/x0 register\n",
    "    * destroy stack frame by increasing (`add`) stack pointer\n",
    "    * return (`ret`) to caller"
   ]
  },
  {
   "cell_type": "markdown",
   "id": "1e391b7f-5bc7-4000-b541-1e3a9f1b9aea",
   "metadata": {
    "slideshow": {
     "slide_type": "skip"
    },
    "tags": [
     "notes-only"
    ]
   },
   "source": [
    "* Example program (`dogyears.c`)"
   ]
  },
  {
   "cell_type": "markdown",
   "id": "16c8a50f-6562-46ff-b333-7129893e65ce",
   "metadata": {
    "slideshow": {
     "slide_type": "skip"
    },
    "tags": [
     "notes-only"
    ]
   },
   "source": [
    "```\n",
    "0000000000000914 <dog_years>:\n",
    " 914:   d10083ff        sub     sp, sp, #0x20  // Line 3: create stack frame\n",
    " 918:   b9000fe0        str     w0, [sp, #12]  // Line 3: store parameter\n",
    " 91c:   5280fce0        mov     w0, #0x7e7     // Line 4: assign initial value to local variable\n",
    " 920:   b9001be0        str     w0, [sp, #24]  //      V\n",
    " 924:   b9401be1        ldr     w1, [sp, #24]  // Line 5: load first operand \n",
    " 928:   b9400fe0        ldr     w0, [sp, #12]  // Line 5: load second operand\n",
    " 92c:   4b000020        sub     w0, w1, w0     // Line 5: subtract\n",
    " 930:   b9001fe0        str     w0, [sp, #28]  // Line 5: store result in local variable\n",
    " 934:   b9401fe1        ldr     w1, [sp, #28]  // Line 6: load first operand\n",
    " 938:   2a0103e0        mov     w0, w1                 V\n",
    " 93c:   531d7000        lsl     w0, w0, #3     // Line 6: multiply\n",
    " 940:   4b010000        sub     w0, w0, w1     //      V\n",
    " 944:   b9001fe0        str     w0, [sp, #28]  // Line 6: store result in local variable\n",
    " 948:   b9401fe0        ldr     w0, [sp, #28]  // Line 7: prepare return value\n",
    " 94c:   910083ff        add     sp, sp, #0x20  // Line 7: destroy stack frame\n",
    " 950:   d65f03c0        ret                    // Line 7: return to caller\n",
    "```"
   ]
  },
  {
   "cell_type": "markdown",
   "id": "f0164f7b-c9d3-4b22-99f8-28f6af502b12",
   "metadata": {
    "slideshow": {
     "slide_type": "slide"
    },
    "tags": []
   },
   "source": [
    "* Q1: _For each line of assembly, indicate which original line of C code the assembly instruction was derived from._"
   ]
  },
  {
   "cell_type": "code",
   "execution_count": 2,
   "id": "cd292e35-21b2-48e6-9460-e9a1b128035c",
   "metadata": {
    "tags": [
     "worksheet-code-only"
    ]
   },
   "outputs": [
    {
     "name": "stdout",
     "output_type": "stream",
     "text": [
      "With an interest rate of 10% it will take ~7 years to double your money\n"
     ]
    }
   ],
   "source": [
    "/* 1*/  #include <stdio.h>\n",
    "/* 2*/  int years_to_double(int rate) {\n",
    "/* 3*/      int ruleof72 = 72;\n",
    "/* 4*/      int years = ruleof72 / rate;\n",
    "/* 5*/      return years;\n",
    "/* 6*/  }\n",
    "/* 7*/  int main() {\n",
    "/* 8*/      int r = 10;\n",
    "/* 9*/      int y = years_to_double(r);\n",
    "/*10*/      printf(\"With an interest rate of %d%% it \n",
    "                   will take ~%d years to double your money\\n\", r, y);\n",
    "/*11*/  }"
   ]
  },
  {
   "cell_type": "markdown",
   "id": "336528f6-13c4-467a-bc33-fb688fc1b6b5",
   "metadata": {
    "slideshow": {
     "slide_type": "skip"
    },
    "tags": [
     "notes-only"
    ]
   },
   "source": [
    "```\n",
    "000000000000076c <years_to_double>:\n",
    "    76c:    d10083ff     sub  sp, sp, #0x20   // 2\n",
    "    770:    b9000fe0     str  w0, [sp, #12]   // 2\n",
    "    774:    52800900     mov  w0, #0x48       // 3\n",
    "    778:    b9001be0     str  w0, [sp, #24]   // 3\n",
    "    77c:    b9401be1     ldr  w1, [sp, #24]   // 4\n",
    "    780:    b9400fe0     ldr  w0, [sp, #12]   // 4\n",
    "    784:    1ac00c20     sdiv w0, w1, w0      // 4\n",
    "    788:    b9001fe0     str  w0, [sp, #28]   // 4\n",
    "    78c:    b9401fe0     ldr  w0, [sp, #28]   // 5\n",
    "    790:    910083ff     add  sp, sp, #0x20   // 5\n",
    "    794:    d65f03c0     ret                  // 5\n",
    "```"
   ]
  },
  {
   "cell_type": "markdown",
   "id": "2eebaa5c-c514-4788-9b6d-d13b8b99c3e8",
   "metadata": {
    "tags": [
     "worksheet-only"
    ]
   },
   "source": [
    "```\n",
    "000000000000076c <years_to_double>:\n",
    "    76c:    d10083ff     sub  sp, sp, #0x20\n",
    "    770:    b9000fe0     str  w0, [sp, #12]\n",
    "    774:    52800900     mov  w0, #0x48\n",
    "    778:    b9001be0     str  w0, [sp, #24]\n",
    "    77c:    b9401be1     ldr  w1, [sp, #24]\n",
    "    780:    b9400fe0     ldr  w0, [sp, #12]\n",
    "    784:    1ac00c20     sdiv w0, w1, w0\n",
    "    788:    b9001fe0     str  w0, [sp, #28]\n",
    "    78c:    b9401fe0     ldr  w0, [sp, #28]\n",
    "    790:    910083ff     add  sp, sp, #0x20\n",
    "    794:    d65f03c0     ret\n",
    "```"
   ]
  },
  {
   "cell_type": "markdown",
   "id": "d71cabec-7115-47b9-8853-d876dbd35173",
   "metadata": {
    "slideshow": {
     "slide_type": "subslide"
    },
    "tags": []
   },
   "source": [
    "* Q2: _For each line of assembly, indicate which original line of C code the assembly instruction was derived from._"
   ]
  },
  {
   "cell_type": "code",
   "execution_count": 2,
   "id": "8b94b260-f1a7-4094-9564-ac16e57d273c",
   "metadata": {
    "tags": [
     "worksheet-code-only"
    ]
   },
   "outputs": [
    {
     "name": "stdout",
     "output_type": "stream",
     "text": [
      "With an interest rate of 10% it will take ~7 years to double your money\n"
     ]
    }
   ],
   "source": [
    "/* 1*/  #include <stdio.h>\n",
    "/* 2*/  long deref(long *p) {\n",
    "/* 3*/      long v = *p;\n",
    "/* 4*/      return v;\n",
    "/* 5*/  }\n",
    "/* 6*/  int main() {\n",
    "/* 7*/      long x = 2;\n",
    "/* 8*/      long y = deref(&x);\n",
    "/* 9*/      printf(\"y = %ld\\n\", y);\n",
    "/*10*/      return 0;\n",
    "/*11*/  }"
   ]
  },
  {
   "cell_type": "markdown",
   "id": "00e053c1-4f2a-4cac-b843-f4b4d444b5d3",
   "metadata": {
    "slideshow": {
     "slide_type": "skip"
    },
    "tags": [
     "notes-only"
    ]
   },
   "source": [
    "_Postponed to next class_"
   ]
  },
  {
   "cell_type": "markdown",
   "id": "461492e9-cec3-4dad-805e-1d6f8c585709",
   "metadata": {
    "tags": [
     "worksheet-only"
    ]
   },
   "source": [
    "```\n",
    "0000000000000854 <deref>:\n",
    " 854:   d10083ff    sub sp, sp, #0x20\n",
    " 858:   f90007e0    str x0, [sp, #8]\n",
    " 85c:   f94007e0    ldr x0, [sp, #8]\n",
    " 860:   f9400000    ldr x0, [x0]\n",
    " 864:   f9000fe0    str x0, [sp, #24]\n",
    " 868:   f9400fe0    ldr x0, [sp, #24]\n",
    " 86c:   910083ff    add sp, sp, #0x20\n",
    " 870:   d65f03c0    ret\n",
    "```"
   ]
  },
  {
   "cell_type": "markdown",
   "id": "3ab8473c-f9e0-4020-ae45-74f64422be59",
   "metadata": {
    "slideshow": {
     "slide_type": "skip"
    },
    "tags": [
     "worksheet-only"
    ]
   },
   "source": [
    "🛑 **STOP here** after completing the above questions; if you have extra time please **skip ahead** to the extra practice.\n",
    "\n",
    "<div style=\"page-break-after:always;\"></div>"
   ]
  },
  {
   "cell_type": "markdown",
   "id": "bf847243-5dcb-4778-8577-4a9215adca54",
   "metadata": {
    "slideshow": {
     "slide_type": "slide"
    },
    "tags": []
   },
   "source": [
    "The following C program (`operands.c`) has been compiled into assembly:"
   ]
  },
  {
   "cell_type": "code",
   "execution_count": 4,
   "id": "9b9339a6-78ba-42a7-9902-20c78d394ab1",
   "metadata": {
    "tags": [
     "worksheet-code-only"
    ]
   },
   "outputs": [],
   "source": [
    "int operandsA(int a) {\n",
    "    return a;\n",
    "}\n",
    "long operandsB(long b) {\n",
    "    return b;\n",
    "}\n",
    "int operandsC(int *c) {\n",
    "    return *c;\n",
    "}\n",
    "long operandsD(long *d) {\n",
    "    return *d;\n",
    "}\n",
    "int main() {\n",
    "    operandsA(5);\n",
    "    operandsB(5);\n",
    "    int x = 5;\n",
    "    operandsC(&x);\n",
    "    long y = 5;\n",
    "    operandsD(&y);\n",
    "}"
   ]
  },
  {
   "cell_type": "markdown",
   "id": "b167f15e-29c2-4053-a363-9694d89625e7",
   "metadata": {
    "slideshow": {
     "slide_type": "subslide"
    },
    "tags": []
   },
   "source": [
    "```\n",
    "00000000000007ec <operandsA>:\n",
    "    7ec:    d10043ff     sub    sp, sp, #0x10\n",
    "    7f0:    b9000fe0     str    w0, [sp, #12]\n",
    "    7f4:    b9400fe0     ldr    w0, [sp, #12]\n",
    "    7f8:    910043ff     add    sp, sp, #0x10\n",
    "    7fc:    d65f03c0     ret    \n",
    "0000000000000800 <operandsB>:\n",
    "    800:    d10043ff     sub    sp, sp, #0x10\n",
    "    804:    f90007e0     str    x0, [sp, #8]\n",
    "    808:    f94007e0     ldr    x0, [sp, #8]\n",
    "    80c:    910043ff     add    sp, sp, #0x10\n",
    "    810:    d65f03c0     ret\n",
    "0000000000000814 <operandsC>:\n",
    "    814:    d10043ff     sub    sp, sp, #0x10\n",
    "    818:    f90007e0     str    x0, [sp, #8]\n",
    "    81c:    f94007e0     ldr    x0, [sp, #8]\n",
    "    820:    b9400000     ldr    w0, [x0]\n",
    "    824:    910043ff     add    sp, sp, #0x10\n",
    "    828:    d65f03c0     ret\n",
    "000000000000082c <operandsD>:\n",
    "    82c:    d10043ff     sub    sp, sp, #0x10\n",
    "    830:    f90007e0     str    x0, [sp, #8]\n",
    "    834:    f94007e0     ldr    x0, [sp, #8]\n",
    "    838:    f9400000     ldr    x0, [x0]\n",
    "    83c:    910043ff     add    sp, sp, #0x10\n",
    "    840:    d65f03c0     ret\n",
    "```"
   ]
  },
  {
   "cell_type": "markdown",
   "id": "0a7d4835-5646-4d98-9308-c1d9cde7db5d",
   "metadata": {
    "slideshow": {
     "slide_type": "skip"
    },
    "tags": [
     "worksheet-only"
    ]
   },
   "source": [
    "<div style=\"page-break-after:always;\"></div>"
   ]
  },
  {
   "cell_type": "markdown",
   "id": "0b918236-2ac2-484f-8d24-6d2ee1d785f2",
   "metadata": {
    "slideshow": {
     "slide_type": "subslide"
    },
    "tags": []
   },
   "source": [
    "* Q3: _How does the assembly code for `operandsA` and `operandsB` differ? Why?_"
   ]
  },
  {
   "cell_type": "markdown",
   "id": "498e622c-9264-4b59-aefd-0b1622054d74",
   "metadata": {
    "slideshow": {
     "slide_type": "skip"
    },
    "tags": [
     "notes-only"
    ]
   },
   "source": [
    "_Postponed to next class_"
   ]
  },
  {
   "cell_type": "markdown",
   "id": "9b2e1c04-352e-4f0c-8b2b-cdce9f6d92cf",
   "metadata": {
    "slideshow": {
     "slide_type": "skip"
    },
    "tags": [
     "worksheet-only"
    ]
   },
   "source": [
    "<p style=\"height:4em;\"></p>"
   ]
  },
  {
   "cell_type": "markdown",
   "id": "27af95e1-6ee6-47f1-aae8-fae4d5162612",
   "metadata": {},
   "source": [
    "* Q4: _How does the assembly code for `operandsB` and `operandsD` differ? Why?_"
   ]
  },
  {
   "cell_type": "markdown",
   "id": "148d20f3-0c7c-4ade-8f3d-c9694fd9ce42",
   "metadata": {
    "slideshow": {
     "slide_type": "skip"
    },
    "tags": [
     "notes-only"
    ]
   },
   "source": [
    "_Postponed to next class_"
   ]
  },
  {
   "cell_type": "markdown",
   "id": "c04a4786-e970-40e4-afb9-28de4430c262",
   "metadata": {
    "slideshow": {
     "slide_type": "skip"
    },
    "tags": [
     "worksheet-only"
    ]
   },
   "source": [
    "<p style=\"height:4em;\"></p>"
   ]
  },
  {
   "cell_type": "markdown",
   "id": "7ebf2388-1e4b-4ebe-9480-704eee0bad71",
   "metadata": {},
   "source": [
    "* Q5: _How does the assembly code for `operandsC` and `operandsD` differ? Why?_"
   ]
  },
  {
   "cell_type": "markdown",
   "id": "212d1263-0d8a-4085-8c68-d8c5d9f52fa2",
   "metadata": {
    "slideshow": {
     "slide_type": "skip"
    },
    "tags": [
     "notes-only"
    ]
   },
   "source": [
    "_Postponed to next class_"
   ]
  },
  {
   "cell_type": "markdown",
   "id": "f70ca646-b41d-4f5d-9cc8-05fc35b6addd",
   "metadata": {
    "slideshow": {
     "slide_type": "skip"
    },
    "tags": [
     "worksheet-only"
    ]
   },
   "source": [
    "<p style=\"height:4em;\"></p>"
   ]
  },
  {
   "cell_type": "markdown",
   "id": "b9352283-676c-437f-bbb5-e4f5cbcc1835",
   "metadata": {
    "slideshow": {
     "slide_type": "slide"
    },
    "tags": []
   },
   "source": [
    "## Extra practice"
   ]
  },
  {
   "cell_type": "markdown",
   "id": "b9888fbf-c3b2-44fb-8e02-82e124e6f844",
   "metadata": {
    "tags": []
   },
   "source": [
    "* Q6: _For each line of assembly, indicate which original line of C code the assembly instruction was derived from._"
   ]
  },
  {
   "cell_type": "code",
   "execution_count": 1,
   "id": "382e8b5c-1eae-4a4d-b87f-545b01378c48",
   "metadata": {
    "tags": [
     "worksheet-code-only"
    ]
   },
   "outputs": [
    {
     "name": "stdout",
     "output_type": "stream",
     "text": [
      "525600 minutes\n",
      "525000 moments so dear\n",
      "525600 minutes\n",
      "How do you measure? Measure a year?\n"
     ]
    }
   ],
   "source": [
    "/* 1*/   #include <stdio.h>\n",
    "/* 2*/   int seasons_of_love() {\n",
    "/* 3*/       int dpy = 365;\n",
    "/* 4*/       int hpd = 24;\n",
    "/* 5*/       int mph = 60;\n",
    "/* 6*/       int h = dpy * hpd;\n",
    "/* 7*/       int m = h * mph;\n",
    "/* 8*/       return m;\n",
    "/* 9*/   }\n",
    "/*10*/  int main() {\n",
    "/*11*/      int minutes = seasons_of_love();\n",
    "/*12*/      printf(\"%d minutes\\n\", minutes);\n",
    "/*13*/      printf(\"%d moments so dear\\n\", minutes - 600);\n",
    "/*14*/      printf(\"%d minutes\\n\", minutes);\n",
    "/*15*/      printf(\"How do you measure? Measure a year?\\n\");\n",
    "/*16*/  }"
   ]
  },
  {
   "cell_type": "markdown",
   "id": "698889fe-62fa-4dd1-b5fd-16ddc0bede15",
   "metadata": {
    "slideshow": {
     "slide_type": "skip"
    },
    "tags": [
     "notes-only"
    ]
   },
   "source": [
    "```\n",
    "00000000000007ac <seasons_of_love>:\n",
    "  7ac:   d10083ff    sub sp, sp, #0x20  // Line 2   Create stack frame\n",
    "  7b0:   52802da0    mov w0, #0x16d     // Line 3   Local variable (dpy) initialization \n",
    "  7b4:   b9000fe0    str w0, [sp, #12]  //   V\n",
    "  7b8:   52800300    mov w0, #0x18      // Line 4   Local variable (hpd) initialization\n",
    "  7bc:   b90013e0    str w0, [sp, #16]  //   V\n",
    "  7c0:   52800780    mov w0, #0x3c      // Line 5   Local variable (mph) initialization\n",
    "  7c4:   b90017e0    str w0, [sp, #20]  //   V\n",
    "  7c8:   b9400fe1    ldr w1, [sp, #12]  // Line 6   Mathematical operation\n",
    "  7cc:   b94013e0    ldr w0, [sp, #16]  //   |\n",
    "  7d0:   1b007c20    mul w0, w1, w0     //   |\n",
    "  7d4:   b9001be0    str w0, [sp, #24]  //   V\n",
    "  7d8:   b9401be1    ldr w1, [sp, #24]  // Line 7   Mathematical operation\n",
    "  7dc:   b94017e0    ldr w0, [sp, #20]  //   |\n",
    "  7e0:   1b007c20    mul w0, w1, w0     //   |\n",
    "  7e4:   b9001fe0    str w0, [sp, #28]  //   V\n",
    "  7e8:   b9401fe0    ldr w0, [sp, #28]  // Line 8   Function return/end\n",
    "  7ec:   910083ff    add sp, sp, #0x20  //   |\n",
    "  7f0:   d65f03c0    ret                //   V\n",
    "```"
   ]
  },
  {
   "cell_type": "markdown",
   "id": "7d009e98-a5cc-4f4e-bd29-048cc0b35a94",
   "metadata": {
    "slideshow": {
     "slide_type": "subslide"
    },
    "tags": [
     "worksheet-only"
    ]
   },
   "source": [
    "```\n",
    "00000000000007ac <seasons_of_love>:\n",
    "  7ac:   d10083ff    sub sp, sp, #0x20\n",
    "  7b0:   52802da0    mov w0, #0x16d  \n",
    "  7b4:   b9000fe0    str w0, [sp, #12]\n",
    "  7b8:   52800300    mov w0, #0x18   \n",
    "  7bc:   b90013e0    str w0, [sp, #16]\n",
    "  7c0:   52800780    mov w0, #0x3c   \n",
    "  7c4:   b90017e0    str w0, [sp, #20]\n",
    "  7c8:   b9400fe1    ldr w1, [sp, #12]\n",
    "  7cc:   b94013e0    ldr w0, [sp, #16]\n",
    "  7d0:   1b007c20    mul w0, w1, w0\n",
    "  7d4:   b9001be0    str w0, [sp, #24]\n",
    "  7d8:   b9401be1    ldr w1, [sp, #24]\n",
    "  7dc:   b94017e0    ldr w0, [sp, #20]\n",
    "  7e0:   1b007c20    mul w0, w1, w0\n",
    "  7e4:   b9001fe0    str w0, [sp, #28]\n",
    "  7e8:   b9401fe0    ldr w0, [sp, #28]\n",
    "  7ec:   910083ff    add sp, sp, #0x20\n",
    "  7f0:   d65f03c0    ret\n",
    "```"
   ]
  }
 ],
 "metadata": {
  "kernelspec": {
   "display_name": "C",
   "language": "c",
   "name": "c"
  },
  "language_info": {
   "file_extension": ".c",
   "mimetype": "c",
   "name": "c"
  }
 },
 "nbformat": 4,
 "nbformat_minor": 5
}
