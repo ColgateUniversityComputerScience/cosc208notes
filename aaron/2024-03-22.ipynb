{
 "cells": [
  {
   "cell_type": "markdown",
   "id": "39d76db8-edb9-47d5-bec8-7998805660b3",
   "metadata": {
    "slideshow": {
     "slide_type": "skip"
    },
    "tags": []
   },
   "source": [
    "# Assembly: operations and operands (continued)\n",
    "_COSC 208, Introduction to Computer Systems, 2024-03-22_"
   ]
  },
  {
   "cell_type": "markdown",
   "id": "78ce01e3-ca44-4561-b8fd-a49919e54a9a",
   "metadata": {
    "slideshow": {
     "slide_type": "skip"
    },
    "tags": []
   },
   "source": [
    "## Announcements\n",
    "* Project 2 due Wednesday @ 11pm"
   ]
  },
  {
   "cell_type": "markdown",
   "id": "f17866fc-fc93-480c-a9a5-d903a0657063",
   "metadata": {
    "slideshow": {
     "slide_type": "skip"
    },
    "tags": []
   },
   "source": [
    "## Outline\n",
    "* Assembly\n",
    "* Viewing assembly code\n",
    "* Operands"
   ]
  },
  {
   "cell_type": "markdown",
   "id": "e663073f-3384-4891-978a-b8c31d0a6263",
   "metadata": {
    "slideshow": {
     "slide_type": "slide"
    },
    "tags": []
   },
   "source": [
    "## No Warm-up – Happy Friday!"
   ]
  },
  {
   "cell_type": "markdown",
   "id": "a31d5fc4-f918-40bf-9381-d502cf27c36c",
   "metadata": {
    "slideshow": {
     "slide_type": "slide"
    },
    "tags": []
   },
   "source": [
    "## Viewing assembly code"
   ]
  },
  {
   "cell_type": "markdown",
   "id": "9990acae-afca-4ab9-802c-ec3481333546",
   "metadata": {},
   "source": [
    "* Example program (`dogyears.c`)"
   ]
  },
  {
   "cell_type": "code",
   "execution_count": null,
   "id": "ba449c04-69ed-4130-82e9-a41c25515742",
   "metadata": {
    "tags": [
     "worksheet-code-only"
    ]
   },
   "outputs": [],
   "source": [
    "/* 1*/   #include <stdio.h>\n",
    "/* 2*/   #include <stdlib.h>\n",
    "/* 3*/   int dog_years(int birth) {\n",
    "/* 4*/       int current = 2023;\n",
    "/* 5*/       int years = current - birth;\n",
    "/* 6*/       years = years * 7;\n",
    "/* 7*/       return years;\n",
    "/* 8*/   }\n",
    "/* 9*/   int main() {\n",
    "/*10*/       printf(\"What year were you born? \");\n",
    "/*11*/       char year[5];\n",
    "/*12*/       fgets(year, 5, stdin);\n",
    "/*13*/       int dog_age = dog_years(atoi(year));\n",
    "/*14*/       printf(\"You are %d dog years old\\n\", dog_age);\n",
    "/*15*/   }"
   ]
  },
  {
   "cell_type": "markdown",
   "id": "dbd244b0-c616-4210-a836-746c11fa7b6e",
   "metadata": {
    "slideshow": {
     "slide_type": "skip"
    },
    "tags": [
     "notes-only"
    ]
   },
   "source": [
    "* Viewing assembly code\n",
    "    * Compile: `gcc -fomit-frame-pointer -o dogyears dogyears.c`\n",
    "    * Disassemble executable: `objdump -d dogyears > dogyears.txt`"
   ]
  },
  {
   "cell_type": "markdown",
   "id": "929ab770-14e2-430e-b46a-4e05fd4e966a",
   "metadata": {
    "slideshow": {
     "slide_type": "subslide"
    },
    "tags": []
   },
   "source": [
    "* Assembly code (excerpt from `dogyears.txt`)\n",
    "    ```\n",
    "    0000000000000914 <dog_years>:\n",
    "     914:   d10083ff        sub     sp, sp, #0x20\n",
    "     918:   b9000fe0        str     w0, [sp, #12]\n",
    "     91c:   5280fce0        mov     w0, #0x7e7\n",
    "     920:   b9001be0        str     w0, [sp, #24]\n",
    "     924:   b9401be1        ldr     w1, [sp, #24]\n",
    "     928:   b9400fe0        ldr     w0, [sp, #12]\n",
    "     92c:   4b000020        sub     w0, w1, w0\n",
    "     930:   b9001fe0        str     w0, [sp, #28]\n",
    "     934:   b9401fe1        ldr     w1, [sp, #28]\n",
    "     938:   2a0103e0        mov     w0, w1\n",
    "     93c:   531d7000        lsl     w0, w0, #3\n",
    "     940:   4b010000        sub     w0, w0, w1\n",
    "     944:   b9001fe0        str     w0, [sp, #28]\n",
    "     948:   b9401fe0        ldr     w0, [sp, #28]\n",
    "     94c:   910083ff        add     sp, sp, #0x20\n",
    "     950:   d65f03c0        ret\n",
    "    ```"
   ]
  },
  {
   "cell_type": "markdown",
   "id": "9fa02227-4dc3-4bad-a589-f5df0ac650af",
   "metadata": {
    "slideshow": {
     "slide_type": "skip"
    },
    "tags": [
     "notes-only"
    ]
   },
   "source": [
    "* _What do each of the columns contain?_\n",
    "    * Code memory address\n",
    "    * Bytes corresponding to instruction\n",
    "    * Operation\n",
    "        * sub – subtraction\n",
    "        * str – store (i.e., copy) a value from a register into main memory\n",
    "        * mov – move (i.e., copy) into a register a constant or a value from another register\n",
    "        * ldr – load (i.e., copy) a value from main memory into a register\n",
    "        * lsl – logical shift left (i.e., `<<`)\n",
    "        * add – addition\n",
    "        * ret – return from function call\n",
    "    * Operands"
   ]
  },
  {
   "cell_type": "markdown",
   "id": "f2c846cb-c607-4d45-ab5f-76244b723f8c",
   "metadata": {
    "slideshow": {
     "slide_type": "skip"
    },
    "tags": [
     "notes-only"
    ]
   },
   "source": [
    "## Operands"
   ]
  },
  {
   "cell_type": "markdown",
   "id": "979e5a49-8161-4544-bf5c-8b7b72e10478",
   "metadata": {
    "slideshow": {
     "slide_type": "skip"
    },
    "tags": [
     "notes-only"
    ]
   },
   "source": [
    "* Registers\n",
    "    * General purpose registers\n",
    "        * `w0` through `w30` (32-bit) \n",
    "        * `x0` through `x30` (64-bit)\n",
    "    * Stack pointer `sp` – memory address of the top of the current stack frame\n",
    "    * Program counter `pc` – memory address of the current instruction\n",
    "* Constant\n",
    "    * In hex — e.g., `#0x20`\n",
    "    * In decimal — e.g., `#8`\n",
    "* Memory – only used in `ldr` (load) and `str` (store) instructions, which copy data between main memory and the processor\n",
    "    * Dereference — e.g., `[x1]`\n",
    "    * Add to memory address, then dereference — e.g., `[sp,#16]`"
   ]
  },
  {
   "cell_type": "markdown",
   "id": "b9352283-676c-437f-bbb5-e4f5cbcc1835",
   "metadata": {
    "slideshow": {
     "slide_type": "slide"
    },
    "tags": []
   },
   "source": [
    "## Extra practice"
   ]
  }
 ],
 "metadata": {
  "kernelspec": {
   "display_name": "C",
   "language": "c",
   "name": "c"
  },
  "language_info": {
   "file_extension": ".c",
   "mimetype": "c",
   "name": "c"
  }
 },
 "nbformat": 4,
 "nbformat_minor": 5
}
