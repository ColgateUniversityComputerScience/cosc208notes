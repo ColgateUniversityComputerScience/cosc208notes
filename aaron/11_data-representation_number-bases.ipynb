{
 "cells": [
  {
   "cell_type": "markdown",
   "id": "21041193-7e96-417e-9a3a-c2b693c0b72b",
   "metadata": {
    "slideshow": {
     "slide_type": "skip"
    },
    "tags": []
   },
   "source": [
    "# Data representation: number bases; base conversion\n",
    "_COSC 208, Introduction to Computer Systems, Fall 2024_"
   ]
  },
  {
   "cell_type": "markdown",
   "id": "5f490347-13bc-4925-a00f-23292aa1e82f",
   "metadata": {
    "slideshow": {
     "slide_type": "skip"
    },
    "tags": [
     "notes-only"
    ]
   },
   "source": [
    "## Decimal (i.e., base 10)\n",
    "* _How many unique values can you represent with one decimal digit?_ — 10\n",
    "* _How do you count to 13 (in base 10)?_ — 0 (computers like to start at zero!), 1, 2, 3, 4, 5, 6, 7, 8, 9, 10 (notice the \"ones\" place becomes zero and the \"tens\" place becomes 1), 11, 12, 13"
   ]
  },
  {
   "cell_type": "markdown",
   "id": "50b6d4c6-9418-4a16-adfa-e11c68a3aad5",
   "metadata": {
    "slideshow": {
     "slide_type": "slide"
    },
    "tags": []
   },
   "source": [
    "## Binary (i.e., base 2)"
   ]
  },
  {
   "cell_type": "markdown",
   "id": "ea2939b8-d0c1-407b-a65a-1b780b9447d9",
   "metadata": {
    "slideshow": {
     "slide_type": "skip"
    },
    "tags": [
     "notes-only"
    ]
   },
   "source": [
    "* We are used to working with decimal numbers, but computers represent numbers in binary\n",
    "    * A single binary digit (_bit_) can represent two unique values — 0 or 1\n",
    "    * It is easier to build hardware that uses polar opposites (e.g., on/off, high/low voltage, positive/negative magnetism, etc.) than multiple levels (e.g., very high, high, moderately high, moderate, moderately low, low, very low voltage)\n",
    "* _How many unique values can be represented with 2 bits?_ — 00, 01, 10, 00; 2^2 = 4\n",
    "    * _3 bits?_ — 000, 001, 010, 011, 100, 101, 110, 111; 2^3 = 8\n",
    "* Practice powers of two: 2, 4, 8, 16, 32, 64, 128, 256, 512, 1024, 2048, 4096, 8192\n",
    "* _How many bits are in a byte?_ – 8 bits\n",
    "* _How many unique values can be represented with 1 byte? 4 bytes?_ – 256, ~4.3 billion\n",
    "* _How do you count to 13 in binary?_ – 0, 1, 10, 11, 100, 101, 110, 111, 1000, 1001, 1010, 1011, 1100, 1101"
   ]
  },
  {
   "cell_type": "markdown",
   "id": "7f32193d-36f4-4903-bf5c-b2b0a258e64d",
   "metadata": {
    "slideshow": {
     "slide_type": "skip"
    },
    "tags": [
     "blank"
    ]
   },
   "source": [
    "<div style=\"height:10em;\"></div>"
   ]
  },
  {
   "cell_type": "markdown",
   "id": "f1cd1327-dbd3-41b0-890c-aa88ed4d57e8",
   "metadata": {
    "tags": [
     "question"
    ]
   },
   "source": [
    "_Convert the following binary numbers to decimal (i.e., base 10):_"
   ]
  },
  {
   "cell_type": "markdown",
   "id": "82d58f12-d1a1-4e98-a52b-42eb17243d40",
   "metadata": {
    "tags": [
     "question"
    ]
   },
   "source": [
    "Q1: `0b11`"
   ]
  },
  {
   "cell_type": "markdown",
   "id": "008dcc4b-71c3-40a0-a0ee-5c06eeb8ad39",
   "metadata": {
    "slideshow": {
     "slide_type": "skip"
    },
    "tags": [
     "answer"
    ]
   },
   "source": [
    "    1 * 2^1 + 1 * 2^0 = 2 + 1 = 3"
   ]
  },
  {
   "cell_type": "markdown",
   "id": "285c1856-117d-40e2-aed3-7b598b729751",
   "metadata": {
    "slideshow": {
     "slide_type": "skip"
    },
    "tags": [
     "blank"
    ]
   },
   "source": [
    "<p style=\"height:4em;\"></p>"
   ]
  },
  {
   "cell_type": "markdown",
   "id": "016a9cad-8ed1-4f69-a3ff-06fdf27ad3ae",
   "metadata": {
    "tags": [
     "question"
    ]
   },
   "source": [
    "Q2: `0b1010`"
   ]
  },
  {
   "cell_type": "markdown",
   "id": "0f6ebfee-cfe6-4367-955d-61fce723c288",
   "metadata": {
    "slideshow": {
     "slide_type": "skip"
    },
    "tags": [
     "answer"
    ]
   },
   "source": [
    "    1 * 2^3 + 0 * 2^2 + 1 * 2^1 + 0 * 2^0 = 8 + 2 = 10"
   ]
  },
  {
   "cell_type": "markdown",
   "id": "cc45b6bc-b551-4d82-ace4-380bb786bf33",
   "metadata": {
    "slideshow": {
     "slide_type": "skip"
    },
    "tags": [
     "blank"
    ]
   },
   "source": [
    "<p style=\"height:4em;\"></p>"
   ]
  },
  {
   "cell_type": "markdown",
   "id": "98d6eaf1-3ba0-41b7-87e2-6054d93f87d0",
   "metadata": {
    "tags": [
     "question"
    ]
   },
   "source": [
    "Q3: `0b1111`"
   ]
  },
  {
   "cell_type": "markdown",
   "id": "ac22698d-9cf2-4375-97d5-0cdcfb5b18fc",
   "metadata": {
    "slideshow": {
     "slide_type": "skip"
    },
    "tags": [
     "answer"
    ]
   },
   "source": [
    "    1 * 2^3 + 1 * 2^2 + 1 * 2^1 + 1 * 2^0 = 8 + 4 + 2 + 1 = 15"
   ]
  },
  {
   "cell_type": "markdown",
   "id": "3eec8331-5d2c-4794-b54e-2fd1ab906895",
   "metadata": {
    "slideshow": {
     "slide_type": "skip"
    },
    "tags": [
     "blank"
    ]
   },
   "source": [
    "<p style=\"height:4em;\"></p>"
   ]
  },
  {
   "cell_type": "markdown",
   "id": "4c8c29b8-357b-49a9-9a47-3303d799e38e",
   "metadata": {
    "tags": [
     "question"
    ]
   },
   "source": [
    "Q4: `0b11001100`"
   ]
  },
  {
   "cell_type": "markdown",
   "id": "2e278204-8f14-429e-8522-437caaf2032e",
   "metadata": {
    "slideshow": {
     "slide_type": "skip"
    },
    "tags": [
     "answer"
    ]
   },
   "source": [
    "    1 * 2^7 + 1 * 2^6 + 0 * 2^5 + 0 * 2^4 + 1 * 2^3 + 1 * 2^2 + 0 * 2^1 + 0 * 2^0 = 128 + 64 + 8 + 4 = 204"
   ]
  },
  {
   "cell_type": "markdown",
   "id": "686b3378-217f-45ca-a409-57cbc1ff2cd6",
   "metadata": {
    "slideshow": {
     "slide_type": "skip"
    },
    "tags": [
     "blank"
    ]
   },
   "source": [
    "<p style=\"height:4em;\"></p>"
   ]
  },
  {
   "cell_type": "markdown",
   "id": "23a7f310-e474-474a-8bff-67225721e5f0",
   "metadata": {
    "tags": [
     "question"
    ]
   },
   "source": [
    "Q5: `0b101000`"
   ]
  },
  {
   "cell_type": "markdown",
   "id": "9dd5035e-9b5c-4748-bb47-fb844fe57b47",
   "metadata": {
    "slideshow": {
     "slide_type": "skip"
    },
    "tags": [
     "answer"
    ]
   },
   "source": [
    "    2^5 + 2^3 = 32 + 8 = 40"
   ]
  },
  {
   "cell_type": "markdown",
   "id": "78e45940-1ccf-483a-a306-c194e959b078",
   "metadata": {
    "slideshow": {
     "slide_type": "skip"
    },
    "tags": [
     "blank"
    ]
   },
   "source": [
    "<p style=\"height:4em;\"></p>\n",
    "\n",
    "🛑 **STOP here** after completing the above questions; if you have extra time **skip** to the extra practice."
   ]
  },
  {
   "cell_type": "markdown",
   "id": "75798283-097c-45a8-8649-eeb86adf7e68",
   "metadata": {
    "slideshow": {
     "slide_type": "slide"
    },
    "tags": []
   },
   "source": [
    "## Hexadecimal (i.e., base 16)"
   ]
  },
  {
   "cell_type": "markdown",
   "id": "17c781fa-57b2-4f7b-a589-6a11ecd1031e",
   "metadata": {
    "jp-MarkdownHeadingCollapsed": true,
    "slideshow": {
     "slide_type": "skip"
    },
    "tags": [
     "notes-only"
    ]
   },
   "source": [
    "* _How many values can be represented with one hexadecimal digit?_ - 16\n",
    "* _How do you count to 13 in hexadecimal?_ — 0, 1, 2, 3, 4, 5, 6, 7, 8, 9, A, B, C, D\n",
    "* Powers of sixteen: 16, 256, 4096"
   ]
  },
  {
   "cell_type": "markdown",
   "id": "9ce8fba1-488d-4045-ac81-a04ad78875fe",
   "metadata": {
    "slideshow": {
     "slide_type": "skip"
    },
    "tags": [
     "blank"
    ]
   },
   "source": [
    "<div style=\"height:10em;\"></div>"
   ]
  },
  {
   "cell_type": "markdown",
   "id": "a8618c7d-405b-4f07-a4c0-6d41c0f953bd",
   "metadata": {
    "tags": [
     "question"
    ]
   },
   "source": [
    "_Convert the following hexadecimal numbers to decimal (i.e., base 10):_"
   ]
  },
  {
   "cell_type": "markdown",
   "id": "dff84acb-6e58-4c1e-8fc4-4213e26f4b3f",
   "metadata": {
    "tags": [
     "question"
    ]
   },
   "source": [
    "Q6: `0xC`"
   ]
  },
  {
   "cell_type": "markdown",
   "id": "44ecd630-4d30-4b28-9bd8-32b6ff76f888",
   "metadata": {
    "slideshow": {
     "slide_type": "skip"
    },
    "tags": [
     "answer"
    ]
   },
   "source": [
    "    12 * 16^0 = 12"
   ]
  },
  {
   "cell_type": "markdown",
   "id": "11cd8bce-caf1-450e-a2ac-9d20c886d86a",
   "metadata": {
    "slideshow": {
     "slide_type": "skip"
    },
    "tags": [
     "blank"
    ]
   },
   "source": [
    "<p style=\"height:4em;\"></p>"
   ]
  },
  {
   "cell_type": "markdown",
   "id": "a77acaf5-22d5-4ff7-9f1a-137ec416aa02",
   "metadata": {
    "tags": [
     "question"
    ]
   },
   "source": [
    "Q7: `0x11`"
   ]
  },
  {
   "cell_type": "markdown",
   "id": "45aad7d6-8900-468e-99a7-f10f75a1dda2",
   "metadata": {
    "slideshow": {
     "slide_type": "skip"
    },
    "tags": [
     "answer"
    ]
   },
   "source": [
    "    1 * 16^1 + 1 * 16^0 = 17"
   ]
  },
  {
   "cell_type": "markdown",
   "id": "eb01a02e-6688-42b6-9830-2022b528c907",
   "metadata": {
    "slideshow": {
     "slide_type": "skip"
    },
    "tags": [
     "blank"
    ]
   },
   "source": [
    "<p style=\"height:4em;\"></p>"
   ]
  },
  {
   "cell_type": "markdown",
   "id": "8f1b5e7d-7a7a-4e35-b7d7-4ebb1e4e4762",
   "metadata": {
    "tags": [
     "question"
    ]
   },
   "source": [
    "Q8: `0x1F`"
   ]
  },
  {
   "cell_type": "markdown",
   "id": "3ac13d64-1e1e-4f00-af5c-a4da2973cf7f",
   "metadata": {
    "slideshow": {
     "slide_type": "skip"
    },
    "tags": [
     "answer"
    ]
   },
   "source": [
    "    1 * 16^1 + 15 * 16^0 = 31"
   ]
  },
  {
   "cell_type": "markdown",
   "id": "025e4c3c-a166-4db4-adbe-50ac5dac667b",
   "metadata": {
    "slideshow": {
     "slide_type": "skip"
    },
    "tags": [
     "blank"
    ]
   },
   "source": [
    "<p style=\"height:4em;\"></p>"
   ]
  },
  {
   "cell_type": "markdown",
   "id": "4982144f-5674-42af-8696-8827f117cc31",
   "metadata": {
    "tags": [
     "question"
    ]
   },
   "source": [
    "Q9: `0x248`"
   ]
  },
  {
   "cell_type": "markdown",
   "id": "fc67e856-3200-47b3-b43b-b830e68cc542",
   "metadata": {
    "slideshow": {
     "slide_type": "skip"
    },
    "tags": [
     "answer"
    ]
   },
   "source": [
    "    2 * 16^2 + 4 * 16^1 + 8 * 16^0 = 512 + 64 + 8 = 584"
   ]
  },
  {
   "cell_type": "markdown",
   "id": "3aa24234-ec68-4726-b91e-5a9877dc8571",
   "metadata": {
    "slideshow": {
     "slide_type": "skip"
    },
    "tags": [
     "blank"
    ]
   },
   "source": [
    "<p style=\"height:4em;\"></p>"
   ]
  },
  {
   "cell_type": "markdown",
   "id": "00bd2010-2344-40af-88d7-c60c2277f3c1",
   "metadata": {
    "jp-MarkdownHeadingCollapsed": true,
    "tags": [
     "question"
    ]
   },
   "source": [
    "Q10: `0x2B`"
   ]
  },
  {
   "cell_type": "markdown",
   "id": "e4ca0cb8-c9f2-4576-a2fe-0fd7d245e847",
   "metadata": {
    "slideshow": {
     "slide_type": "skip"
    },
    "tags": [
     "answer"
    ]
   },
   "source": [
    "    43"
   ]
  },
  {
   "cell_type": "markdown",
   "id": "856d15a0-652f-479a-930b-5d088a86f5db",
   "metadata": {
    "slideshow": {
     "slide_type": "skip"
    },
    "tags": [
     "blank"
    ]
   },
   "source": [
    "<p style=\"height:4em;\"></p>"
   ]
  },
  {
   "cell_type": "markdown",
   "id": "694d11b6-ae1c-4342-85ba-835e820d991a",
   "metadata": {
    "jp-MarkdownHeadingCollapsed": true,
    "tags": [
     "question"
    ]
   },
   "source": [
    "Q11: `0x30A`"
   ]
  },
  {
   "cell_type": "markdown",
   "id": "495eb421-2c94-4123-aa6a-021212fd47be",
   "metadata": {
    "slideshow": {
     "slide_type": "skip"
    },
    "tags": [
     "answer"
    ]
   },
   "source": [
    "    3 * 16^2 + 10 * 16^0 = 266"
   ]
  },
  {
   "cell_type": "markdown",
   "id": "055de8c1-47d0-447d-8197-2268d3424174",
   "metadata": {
    "slideshow": {
     "slide_type": "skip"
    },
    "tags": [
     "blank"
    ]
   },
   "source": [
    "<p style=\"height:4em;\"></p>\n",
    "\n",
    "🛑 **STOP here** after completing the above questions; if you have extra time **skip** to the extra practice."
   ]
  },
  {
   "cell_type": "markdown",
   "id": "9d4f62d7-c079-4e34-80ef-ec456cb30a87",
   "metadata": {
    "slideshow": {
     "slide_type": "slide"
    },
    "tags": []
   },
   "source": [
    "## Binary <-> Hex Conversion"
   ]
  },
  {
   "cell_type": "markdown",
   "id": "7559244d-6921-410a-9a95-cd837defa094",
   "metadata": {
    "slideshow": {
     "slide_type": "skip"
    },
    "tags": [
     "notes-only"
    ]
   },
   "source": [
    "* Binary -> Hex\n",
    "    * Convert each group of four bits to its corresponding hex digit\n",
    "    * If the number of binary digits is not a multiple of four pad the front of the binary number with zeros: e.g., `0b11` => `0b0011`\n",
    "* Hex -> Binary\n",
    "    * Convert each hex digit to its corresponding four bits"
   ]
  },
  {
   "cell_type": "markdown",
   "id": "0ef712e2-7afa-440a-8e6f-8214ffbe8263",
   "metadata": {
    "slideshow": {
     "slide_type": "skip"
    },
    "tags": [
     "blank"
    ]
   },
   "source": [
    "<div style=\"height:10em;\"></div>"
   ]
  },
  {
   "cell_type": "markdown",
   "id": "670daa05-1db2-45c2-aa8e-da5ff92036cd",
   "metadata": {
    "tags": [
     "question"
    ]
   },
   "source": [
    "_Convert the following binary numbers to hexadecimal:_\n",
    "\n",
    "Q12: `0b1010`"
   ]
  },
  {
   "cell_type": "markdown",
   "id": "c3303476-1fec-4b78-a442-6b4cab52267d",
   "metadata": {
    "slideshow": {
     "slide_type": "skip"
    },
    "tags": [
     "answer"
    ]
   },
   "source": [
    "    0xA"
   ]
  },
  {
   "cell_type": "markdown",
   "id": "509932fd-f540-4c7b-87f4-837a2d5295aa",
   "metadata": {
    "slideshow": {
     "slide_type": "skip"
    },
    "tags": [
     "blank"
    ]
   },
   "source": [
    "<p style=\"height:4em;\"></p>"
   ]
  },
  {
   "cell_type": "markdown",
   "id": "6bba4ec5-b536-46db-9bb3-7eba4a287350",
   "metadata": {
    "tags": [
     "question"
    ]
   },
   "source": [
    "Q13: `0b11100111`"
   ]
  },
  {
   "cell_type": "markdown",
   "id": "331ad082-ff84-43a4-ad34-237cec9d5760",
   "metadata": {
    "slideshow": {
     "slide_type": "skip"
    },
    "tags": [
     "answer"
    ]
   },
   "source": [
    "    0xE7"
   ]
  },
  {
   "cell_type": "markdown",
   "id": "e11e994f-e088-4ff6-98e0-3ad5563b72b8",
   "metadata": {
    "slideshow": {
     "slide_type": "skip"
    },
    "tags": [
     "blank"
    ]
   },
   "source": [
    "<p style=\"height:4em;\"></p>"
   ]
  },
  {
   "cell_type": "markdown",
   "id": "44be51ce-5ce1-4aa3-97c3-8fcb034f823d",
   "metadata": {
    "slideshow": {
     "slide_type": "subslide"
    },
    "tags": [
     "question"
    ]
   },
   "source": [
    "_Convert the following hexadecimal numbers to binary:_\n",
    "\n",
    "Q14: `0xB`"
   ]
  },
  {
   "cell_type": "markdown",
   "id": "f9f0aea2-e872-4070-b447-26d984490fd8",
   "metadata": {
    "slideshow": {
     "slide_type": "skip"
    },
    "tags": [
     "answer"
    ]
   },
   "source": [
    "    0b1011"
   ]
  },
  {
   "cell_type": "markdown",
   "id": "29520e21-9f38-484b-8ae4-1a084cf040a5",
   "metadata": {
    "slideshow": {
     "slide_type": "skip"
    },
    "tags": [
     "blank"
    ]
   },
   "source": [
    "<p style=\"height:4em;\"></p>"
   ]
  },
  {
   "cell_type": "markdown",
   "id": "9d18519e-9378-4b9e-a045-5585fdfe880c",
   "metadata": {
    "tags": [
     "question"
    ]
   },
   "source": [
    "Q15: `0x37`"
   ]
  },
  {
   "cell_type": "markdown",
   "id": "2894cc07-a5a4-4e72-9d94-c02e379afa6e",
   "metadata": {
    "slideshow": {
     "slide_type": "skip"
    },
    "tags": [
     "answer"
    ]
   },
   "source": [
    "    0b00110111"
   ]
  },
  {
   "cell_type": "markdown",
   "id": "cf893462-1cae-47cb-8e7d-343c1a6bc642",
   "metadata": {
    "slideshow": {
     "slide_type": "skip"
    },
    "tags": [
     "blank"
    ]
   },
   "source": [
    "<p style=\"height:4em;\"></p>"
   ]
  },
  {
   "cell_type": "markdown",
   "id": "8f56033e-452a-40c0-a0ba-6e4432fa06c4",
   "metadata": {
    "tags": [
     "question"
    ]
   },
   "source": [
    "_Convert the following binary numbers to hexadecimal:_\n",
    "\n",
    "Q16: `0b101111111111`"
   ]
  },
  {
   "cell_type": "markdown",
   "id": "76abe2fc-4dac-4ff2-9729-aeb6c8e88480",
   "metadata": {
    "slideshow": {
     "slide_type": "skip"
    },
    "tags": [
     "answer"
    ]
   },
   "source": [
    "    0xBFF"
   ]
  },
  {
   "cell_type": "markdown",
   "id": "bdabb52a-2b18-4ab5-aee1-20a23d079372",
   "metadata": {
    "slideshow": {
     "slide_type": "skip"
    },
    "tags": [
     "blank"
    ]
   },
   "source": [
    "<p style=\"height:4em;\"></p>"
   ]
  },
  {
   "cell_type": "markdown",
   "id": "82c3ff18-790c-444f-9ab0-a2b0e223eb58",
   "metadata": {
    "tags": [
     "question"
    ]
   },
   "source": [
    "Q17: _Convert `0b11001100` to hexadecimal_ "
   ]
  },
  {
   "cell_type": "markdown",
   "id": "5343beb3-edc3-4e10-8d02-9695a8f16593",
   "metadata": {
    "slideshow": {
     "slide_type": "skip"
    },
    "tags": [
     "answer"
    ]
   },
   "source": [
    "    0xCC"
   ]
  },
  {
   "cell_type": "markdown",
   "id": "6cb785a9-e059-4816-95a4-04330ea2b71a",
   "metadata": {
    "slideshow": {
     "slide_type": "skip"
    },
    "tags": [
     "blank"
    ]
   },
   "source": [
    "<p style=\"height:4em;\"></p>"
   ]
  },
  {
   "cell_type": "markdown",
   "id": "4874c590-4561-4a8b-8269-8f41285bed16",
   "metadata": {
    "tags": [
     "question"
    ]
   },
   "source": [
    "Q18: `0b101011110011`"
   ]
  },
  {
   "cell_type": "markdown",
   "id": "134450af-d0a8-4152-b9c8-d9d5934fc861",
   "metadata": {
    "slideshow": {
     "slide_type": "skip"
    },
    "tags": [
     "answer"
    ]
   },
   "source": [
    "    0xAF3"
   ]
  },
  {
   "cell_type": "markdown",
   "id": "1a7b9bca-4d4d-4b3f-b85d-065fe5433854",
   "metadata": {
    "slideshow": {
     "slide_type": "skip"
    },
    "tags": [
     "blank"
    ]
   },
   "source": [
    "<p style=\"height:4em;\"></p>"
   ]
  },
  {
   "cell_type": "markdown",
   "id": "233c851e-4cfc-4972-ab56-4aa2766e4ef9",
   "metadata": {
    "tags": [
     "question"
    ]
   },
   "source": [
    "_Convert the following hexadecimal numbers to binary:_\n",
    "\n",
    "Q19: `0xBEE`"
   ]
  },
  {
   "cell_type": "markdown",
   "id": "4a48bb92-3ee9-4eda-a757-cbca1a9b1e64",
   "metadata": {
    "slideshow": {
     "slide_type": "skip"
    },
    "tags": [
     "answer"
    ]
   },
   "source": [
    "    0b101111101110"
   ]
  },
  {
   "cell_type": "markdown",
   "id": "547aa1bd-d573-49cd-9edb-cca925e153c6",
   "metadata": {
    "slideshow": {
     "slide_type": "skip"
    },
    "tags": [
     "blank"
    ]
   },
   "source": [
    "<p style=\"height:4em;\"></p>"
   ]
  },
  {
   "cell_type": "markdown",
   "id": "9575fa9e-77f9-4fae-b606-c262517b144e",
   "metadata": {
    "tags": [
     "question"
    ]
   },
   "source": [
    "Q20: `0x8C`"
   ]
  },
  {
   "cell_type": "markdown",
   "id": "fd85c1e2-c7df-4a48-8809-edccac2c4c3d",
   "metadata": {
    "slideshow": {
     "slide_type": "skip"
    },
    "tags": [
     "notes-only",
     "answer"
    ]
   },
   "source": [
    "    0b10001100"
   ]
  },
  {
   "cell_type": "markdown",
   "id": "f0666e35-d9dc-46af-aa43-b0c93d0d9fe8",
   "metadata": {
    "slideshow": {
     "slide_type": "skip"
    },
    "tags": [
     "blank"
    ]
   },
   "source": [
    "<p style=\"height:4em;\"></p>"
   ]
  },
  {
   "cell_type": "markdown",
   "id": "f886e9cc-323d-45dd-9821-ff88ca7ddbc7",
   "metadata": {
    "tags": [
     "question"
    ]
   },
   "source": [
    "Q21: `0x9C5`"
   ]
  },
  {
   "cell_type": "markdown",
   "id": "5ba55d71-c39d-4c8e-a538-6a0591cf6ca7",
   "metadata": {
    "slideshow": {
     "slide_type": "skip"
    },
    "tags": [
     "notes-only",
     "answer"
    ]
   },
   "source": [
    "    0b100111000101"
   ]
  },
  {
   "cell_type": "markdown",
   "id": "4e11187e-2a61-4009-bee7-9e77cbdbac3f",
   "metadata": {
    "slideshow": {
     "slide_type": "skip"
    },
    "tags": [
     "blank"
    ]
   },
   "source": [
    "<p style=\"height:4em;\"></p>\n",
    "\n",
    "🛑 **STOP here** after completing the above questions; if you have extra time **skip** to the extra practice."
   ]
  },
  {
   "cell_type": "markdown",
   "id": "17fe65a7-f3ab-493c-9663-d3323646d536",
   "metadata": {
    "slideshow": {
     "slide_type": "slide"
    },
    "tags": []
   },
   "source": [
    "## Decimal -> Binary Conversion"
   ]
  },
  {
   "cell_type": "markdown",
   "id": "a3e39ed2-98b8-47cb-90e6-8836cdb8ec64",
   "metadata": {
    "slideshow": {
     "slide_type": "skip"
    },
    "tags": [
     "notes-only"
    ]
   },
   "source": [
    "* Why do we care about converting between binary and decimal?\n",
    "    * We are used to working with decimal numbers, but computers represent numbers in binary \n",
    "    * Computers allocate a fixed number of bits for different types of variables; mathematical operations whose result exceeds the number of available bits will return unexpected results — we'll talk about overflow (and underflow) on Monday\n",
    "* Repeated division method\n",
    "    * Check if number is even or odd: even => 0, odd => 1\n",
    "    * Build binary number from right to left\n",
    "    * Divide by two, dropping the fractional part: e.g., 5/2 = 2, 1/2 = 0\n",
    "    * Repeat, until reach 0\n",
    "* Subtract powers of two method\n",
    "    * Find the largest power of 2 without going over\n",
    "    * Subtract that amount\n",
    "    * Repeat, with the remainder until reach 0"
   ]
  },
  {
   "cell_type": "markdown",
   "id": "fdee11fd-0648-46fe-b432-7f28d6518c3b",
   "metadata": {
    "slideshow": {
     "slide_type": "skip"
    },
    "tags": [
     "blank"
    ]
   },
   "source": [
    "<div style=\"height:20em;\"></div>"
   ]
  },
  {
   "cell_type": "markdown",
   "id": "0aadf0c9-9dc7-4aec-afb8-acae254f33e5",
   "metadata": {
    "tags": [
     "question"
    ]
   },
   "source": [
    "_Convert the following decimal numbers to binary:_\n",
    "\n",
    "Q22: `10`"
   ]
  },
  {
   "cell_type": "markdown",
   "id": "6963b825-5dfd-4a10-8498-f6c88d412d03",
   "metadata": {
    "slideshow": {
     "slide_type": "skip"
    },
    "tags": [
     "answer"
    ]
   },
   "source": [
    "    0b1010"
   ]
  },
  {
   "cell_type": "markdown",
   "id": "d054d01e-b532-4cc7-a4d3-e372aab00ca8",
   "metadata": {
    "slideshow": {
     "slide_type": "skip"
    },
    "tags": [
     "blank"
    ]
   },
   "source": [
    "<p style=\"height:8em;\"></p>"
   ]
  },
  {
   "cell_type": "markdown",
   "id": "61738ab4-55e7-4daa-b667-6fb524d9ddc1",
   "metadata": {
    "tags": [
     "question"
    ]
   },
   "source": [
    "Q23: `15`"
   ]
  },
  {
   "cell_type": "markdown",
   "id": "540ecfd5-30c9-41d5-a0ef-d9f87a96c11c",
   "metadata": {
    "slideshow": {
     "slide_type": "skip"
    },
    "tags": [
     "notes-only",
     "answer"
    ]
   },
   "source": [
    "    0b1111"
   ]
  },
  {
   "cell_type": "markdown",
   "id": "7d5a315b-c9ea-43d3-90ab-3d41dd05e0a4",
   "metadata": {
    "slideshow": {
     "slide_type": "skip"
    },
    "tags": [
     "worksheet-only",
     "blank"
    ]
   },
   "source": [
    "<p style=\"height:8em;\"></p>"
   ]
  },
  {
   "cell_type": "markdown",
   "id": "f36acb95-62a6-4589-b82f-7e1095320d7c",
   "metadata": {
    "tags": [
     "question"
    ]
   },
   "source": [
    "Q24: `42`"
   ]
  },
  {
   "cell_type": "markdown",
   "id": "fee8ea5a-6415-4824-afec-3655a14ddaeb",
   "metadata": {
    "slideshow": {
     "slide_type": "skip"
    },
    "tags": [
     "notes-only",
     "answer"
    ]
   },
   "source": [
    "    0b101010"
   ]
  },
  {
   "cell_type": "markdown",
   "id": "f0b7c377-eb46-4497-ac21-8d99ea5b01f5",
   "metadata": {
    "slideshow": {
     "slide_type": "skip"
    },
    "tags": [
     "blank"
    ]
   },
   "source": [
    "<p style=\"height:8em;\"></p>"
   ]
  },
  {
   "cell_type": "markdown",
   "id": "2f7b899a-6b19-470c-910d-001abadc9fe6",
   "metadata": {
    "tags": [
     "question"
    ]
   },
   "source": [
    "Q25: `192`"
   ]
  },
  {
   "cell_type": "markdown",
   "id": "dfdac1dd-b0af-4edb-b761-daadbf4cba45",
   "metadata": {
    "slideshow": {
     "slide_type": "skip"
    },
    "tags": [
     "answer"
    ]
   },
   "source": [
    "    0b11000000"
   ]
  },
  {
   "cell_type": "markdown",
   "id": "47ee052f-f937-4278-b62a-d8d186e38fa8",
   "metadata": {
    "slideshow": {
     "slide_type": "skip"
    },
    "tags": [
     "blank"
    ]
   },
   "source": [
    "<p style=\"height:8em;\"></p>"
   ]
  },
  {
   "cell_type": "markdown",
   "id": "4b79f1ae-64d2-4370-a595-2ba31df80a8e",
   "metadata": {
    "tags": [
     "question"
    ]
   },
   "source": [
    "Q26: `75`"
   ]
  },
  {
   "cell_type": "markdown",
   "id": "988c62e9-6469-4396-a133-16d80e9370ea",
   "metadata": {
    "slideshow": {
     "slide_type": "skip"
    },
    "tags": [
     "answer"
    ]
   },
   "source": [
    "    0b1001011"
   ]
  },
  {
   "cell_type": "markdown",
   "id": "7f123a0b-cef8-4d3b-bc1d-a9aa274aa29d",
   "metadata": {
    "slideshow": {
     "slide_type": "skip"
    },
    "tags": [
     "blank"
    ]
   },
   "source": [
    "<p style=\"height:8em;\"></p>"
   ]
  },
  {
   "cell_type": "markdown",
   "id": "e9ec6ec6-6548-45ab-b63e-2246db8bd23f",
   "metadata": {
    "tags": [
     "question"
    ]
   },
   "source": [
    "Q27: `512`"
   ]
  },
  {
   "cell_type": "markdown",
   "id": "c70b34aa-d156-4b6a-99f8-81a0a9aff255",
   "metadata": {
    "slideshow": {
     "slide_type": "skip"
    },
    "tags": [
     "answer"
    ]
   },
   "source": [
    "    0b1000000000"
   ]
  },
  {
   "cell_type": "markdown",
   "id": "350caa79-6a5c-46bf-88ca-1a418bcca365",
   "metadata": {
    "slideshow": {
     "slide_type": "skip"
    },
    "tags": [
     "blank"
    ]
   },
   "source": [
    "<p style=\"height:8em;\"></p>"
   ]
  },
  {
   "cell_type": "markdown",
   "id": "fd54abff-54e0-4ce1-be72-32de15159861",
   "metadata": {
    "slideshow": {
     "slide_type": "slide"
    },
    "tags": []
   },
   "source": [
    "## Extra practice"
   ]
  },
  {
   "cell_type": "markdown",
   "id": "84851cef-f227-473e-bb58-55e03d0472ff",
   "metadata": {},
   "source": [
    "Q28: _Write a function called `check_password` that takes a string and returns 1 if a password is at least 8 characters long and contains at least one uppercase letter, at least one lowercase letter, and at least one digit. Otherwise, the function returns 0. You may want to use the functions `isupper`, `islower`, and `isdigit`. They take a character as a parameter and return 1 if the character is an uppercase letter, lowercase letter, or digit, respectively; otherwise, they return 0._"
   ]
  },
  {
   "cell_type": "code",
   "execution_count": 4,
   "id": "aa634f78-584d-4024-97c3-201531febbf6",
   "metadata": {
    "slideshow": {
     "slide_type": "skip"
    },
    "tags": [
     "notes-only"
    ]
   },
   "outputs": [],
   "source": [
    "#include <string.h>\n",
    "#include <ctype.h>\n",
    "int check_password(char passwd[]) {\n",
    "    if (strlen(passwd) < 8) {\n",
    "        return 0;\n",
    "    }\n",
    "    int lower = 0;\n",
    "    int upper = 0;\n",
    "    int digit = 0;\n",
    "    for (int i = 0; i < strlen(passwd); i++) {\n",
    "        if (islower(passwd[i])) {\n",
    "            lower++;\n",
    "        }\n",
    "        else if (isupper(passwd[i])) {\n",
    "            upper++;\n",
    "        }\n",
    "        else if (isdigit(passwd[i])) {\n",
    "            digit++;\n",
    "        }\n",
    "    }\n",
    "    if (lower == 0 || upper == 0 || digit == 0) {\n",
    "        return 0;\n",
    "    }\n",
    "    return 1;\n",
    "}\n",
    "// Testing\n",
    "#include <assert.h>\n",
    "int main() {\n",
    "    assert(1 == check_password(\"abc123DEF\"));\n",
    "    assert(0 == check_password(\"abc123def\"));\n",
    "}"
   ]
  },
  {
   "cell_type": "markdown",
   "id": "1cdd317d-cd2a-471d-8237-b7041de8ca45",
   "metadata": {
    "slideshow": {
     "slide_type": "skip"
    },
    "tags": [
     "blank"
    ]
   },
   "source": [
    "<p style=\"height:30em;\"></p>"
   ]
  },
  {
   "cell_type": "markdown",
   "id": "f02c490b-f99e-46d8-ac0f-1f3b672c8bd7",
   "metadata": {
    "tags": [
     "question"
    ]
   },
   "source": [
    "Q29: _Write a function called `valid_hex` that takes a string and returns 1 if it is a valid hexadecimal number; otherwise return 0. A valid hexadecimal number must start with `0x` and only contain the digits `0`-`9` and letters `A`-`F` (in upper or lower case)._"
   ]
  },
  {
   "cell_type": "code",
   "execution_count": 9,
   "id": "4218c9e4-436b-44a7-bec6-0484dcf995a1",
   "metadata": {
    "slideshow": {
     "slide_type": "skip"
    },
    "tags": [
     "answer"
    ]
   },
   "outputs": [],
   "source": [
    "#include <string.h>\n",
    "int valid_hex(char str[]) {\n",
    "    if (str[0] != '0' || str[1] != 'x') {\n",
    "        return 0;\n",
    "    }\n",
    "    for (int i = 2; i < strlen(str); i++) {\n",
    "        if (!((str[i] >= '0' && str[i] <= '9') \n",
    "            || (str[i] >= 'A' && str[i] <= 'F') \n",
    "            || (str[i] >= 'a' && str[i] <= 'f'))) {\n",
    "            return 0;\n",
    "        }\n",
    "    }\n",
    "    return 1;\n",
    "}\n",
    "// Testing\n",
    "#include <assert.h>\n",
    "int main() {\n",
    "    assert(valid_hex(\"0x12AB34\"));\n",
    "    assert(!valid_hex(\"12AB34\"));\n",
    "    assert(!valid_hex(\"0x12HI34\"));\n",
    "}"
   ]
  },
  {
   "cell_type": "markdown",
   "id": "afb32002-c7d1-4d82-8a06-061ea3758a15",
   "metadata": {
    "slideshow": {
     "slide_type": "skip"
    },
    "tags": [
     "blank"
    ]
   },
   "source": [
    "<p style=\"height:20em;\"></p>"
   ]
  },
  {
   "cell_type": "markdown",
   "id": "7798b924-eb4a-4d2d-9d7a-b86977f08a04",
   "metadata": {
    "tags": [
     "question"
    ]
   },
   "source": [
    "Q30: _Write a function called `bits_required` that takes an `unsigned long` decimal (i.e., base 10) number and returns the minimum number of bits required to represent the number._"
   ]
  },
  {
   "cell_type": "code",
   "execution_count": 11,
   "id": "6c3fed4e-a3fc-4b9b-9e5f-b7140a79d546",
   "metadata": {
    "slideshow": {
     "slide_type": "skip"
    },
    "tags": [
     "answer"
    ]
   },
   "outputs": [],
   "source": [
    "int bits_required(unsigned long number) {\n",
    "    int bits = 0;\n",
    "    while (number > 0) {\n",
    "        bits++;\n",
    "        number = number / 2;\n",
    "    }\n",
    "    return bits;\n",
    "}\n",
    "// Testing\n",
    "#include <assert.h>\n",
    "int main() {\n",
    "    assert(bits_required(1) == 1);\n",
    "    assert(bits_required(2) == 2);\n",
    "    assert(bits_required(3) == 2);\n",
    "    assert(bits_required(10) == 4);\n",
    "}"
   ]
  },
  {
   "cell_type": "markdown",
   "id": "f88251d9-6977-4d7b-bc89-00ebe3083d66",
   "metadata": {
    "slideshow": {
     "slide_type": "skip"
    },
    "tags": [
     "blank"
    ]
   },
   "source": [
    "<p style=\"height:20em;\"></p>"
   ]
  }
 ],
 "metadata": {
  "kernelspec": {
   "display_name": "C",
   "language": "c",
   "name": "c"
  },
  "language_info": {
   "file_extension": ".c",
   "mimetype": "c",
   "name": "c"
  }
 },
 "nbformat": 4,
 "nbformat_minor": 5
}
