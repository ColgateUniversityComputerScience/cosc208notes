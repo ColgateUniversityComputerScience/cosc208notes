{
 "cells": [
  {
   "cell_type": "markdown",
   "id": "275f3326-b6de-4d7d-b41a-f17ec6a57354",
   "metadata": {
    "slideshow": {
     "slide_type": "skip"
    },
    "tags": []
   },
   "source": [
    "# Architecture: 1-bit circuits\n",
    "_COSC 208, Introduction to Computer Systems, 2023-10-06_"
   ]
  },
  {
   "cell_type": "markdown",
   "id": "9db293af-f9ec-4262-b568-ef1906a523b4",
   "metadata": {
    "slideshow": {
     "slide_type": "skip"
    },
    "tags": []
   },
   "source": [
    "## Announcements\n",
    "* Project 2 due Thurs, Oct 19 @ 11pm"
   ]
  },
  {
   "cell_type": "markdown",
   "id": "bede1ded-97f6-4a28-9335-116fd9ea868f",
   "metadata": {
    "slideshow": {
     "slide_type": "skip"
    },
    "tags": []
   },
   "source": [
    "## Outline\n",
    "* Warm-up\n",
    "* Exam grades\n",
    "* 1-bit circuits"
   ]
  },
  {
   "cell_type": "markdown",
   "id": "ec5a627e-3091-47d8-bc50-fb6394d09f90",
   "metadata": {
    "slideshow": {
     "slide_type": "slide"
    },
    "tags": []
   },
   "source": [
    "## Warm-up"
   ]
  },
  {
   "cell_type": "markdown",
   "id": "5df9ae60-c078-4a9b-a9bf-0c2911282919",
   "metadata": {},
   "source": [
    "* Q1: _Fill-in the truth table for the following logical operations_"
   ]
  },
  {
   "cell_type": "markdown",
   "id": "ebc84d45-e2e2-4937-846d-0167c4c24b73",
   "metadata": {
    "slideshow": {
     "slide_type": "skip"
    },
    "tags": [
     "notes-only"
    ]
   },
   "source": [
    "| A | B | (A != B) | (A > B) | (A >= B) |\n",
    "| - | - | -------- | ------- | -------- |\n",
    "| 0 | 0 |    0     |    0    |    1     |\n",
    "| 0 | 1 |    1     |    0    |    0     |\n",
    "| 1 | 0 |    1     |    1    |    1     |\n",
    "| 1 | 1 |    0     |    0    |    1     |"
   ]
  },
  {
   "cell_type": "markdown",
   "id": "ea0b9bda-7b0e-45a4-bb02-9ca21d1623d5",
   "metadata": {
    "tags": [
     "worksheet-only"
    ]
   },
   "source": [
    "| A | B | (A != B) | (A > B) | (A >= B) |\n",
    "| - | - | -------- | ------- | -------- |\n",
    "| 0 | 0 |          |         |          |\n",
    "| 0 | 1 |          |         |          |\n",
    "| 1 | 0 |          |         |          |\n",
    "| 1 | 1 |          |         |          |"
   ]
  },
  {
   "cell_type": "markdown",
   "id": "173f4a19-85ac-4d33-8daf-862cbdba27aa",
   "metadata": {
    "slideshow": {
     "slide_type": "skip"
    },
    "tags": [
     "worksheet-only"
    ]
   },
   "source": [
    "🛑 **STOP here** after completing the above questions; if you have extra time please **skip ahead** to the extra practice."
   ]
  },
  {
   "cell_type": "markdown",
   "id": "abb92bb4-f6c2-458b-8669-fccbcc3d7e71",
   "metadata": {
    "slideshow": {
     "slide_type": "slide"
    },
    "tags": []
   },
   "source": [
    "## Exam grades\n",
    "* Mapping of standards to questions\n",
    "    * 1.1: Use the Linux command line to navigate directories and run programs – coding completed; written Q1\n",
    "    * 1.2: Use variables, operators, conditionals, loops, and functions appropriately in C code – coding `parse` & `bincmp`; written Q3 & Q7\n",
    "    * 2.1: Convert signed and unsigned numbers between decimal, binary, and hexadecimal – coding `bincmp`; written Q2 & Q4\n",
    "    * 2.2: Compute the results of arithmetic, logical, and bitwise operators in binary (includes overflow or underflow) – coding `bincmp`; written Q5 & Q6\n",
    "    * 3.1: Use arrays, pointers, dynamic memory allocation, and structs appropriately in C code – coding `parse`; written Q6 & Q7\n",
    "    * 3.2: Determine the contents of the stack and heap after a segment of C code has been executed – written Q6"
   ]
  },
  {
   "cell_type": "markdown",
   "id": "a67e80d7-c239-4df9-8da1-84528aae10fe",
   "metadata": {
    "slideshow": {
     "slide_type": "subslide"
    },
    "tags": []
   },
   "source": [
    "* Levels of achievement\n",
    "    * 4: Exceeds the standard\n",
    "    * 3: Meets the standard\n",
    "    * 2: Key gaps in meeting the standard\n",
    "    * 1: Unable to meet any aspect of the standard\n",
    "    * 0: No evidence\n",
    "    * _The levels of achievement map directly to standard letter grades: 4 = A, 3 = B, 2 = C, 1 = D, 0 = F_\n",
    "    * Colgate Catalog: Academic Regulations: Grading Policies: _The grades used to indicate the quality of the student’s performance in a completed course are as follows: A means excellent, B means good, C means satisfactory, D means poor but passing, F means failing._\n",
    "* Overall achivement: _Your overall level of achievement for a standard is the greater of: (1) Your level of achievement for the standard on the most recent assessment that includes the standard; or (2) Your average level of achievement for that standard across all assessments that includes the standard. Your overall course grade is based on the average of your overall level of achievement across all standards._"
   ]
  },
  {
   "cell_type": "markdown",
   "id": "2f05cf09-d406-40a9-b4c5-e0d966abed5a",
   "metadata": {
    "tags": [
     "worksheet-only"
    ]
   },
   "source": [
    "<div style=\"page-break-after:always;\"></div>"
   ]
  },
  {
   "cell_type": "markdown",
   "id": "6ad8d2d2-f321-4d58-9b28-43e3efdf8330",
   "metadata": {
    "slideshow": {
     "slide_type": "slide"
    },
    "tags": []
   },
   "source": [
    "## 1-bit circuits"
   ]
  },
  {
   "cell_type": "markdown",
   "id": "b8e224d2-78dc-46a7-903d-213864264dd5",
   "metadata": {
    "slideshow": {
     "slide_type": "skip"
    },
    "tags": [
     "notes-only"
    ]
   },
   "source": [
    "* _Design the truth table: e.g., A != B_\n",
    "\n",
    "| A | B | A != B |\n",
    "| - | - | ------ |\n",
    "| 0 | 0 |   0    |\n",
    "| 0 | 1 |   1    |\n",
    "| 1 | 0 |   1    |\n",
    "| 1 | 1 |   0    |\n",
    "\n",
    "* For each row where the output value is 1:\n",
    "    * Add an AND gate to the circuit\n",
    "    * If an input value is 1, connect it to the AND gate\n",
    "    * If an input value is 0, connect it to a NOT gate, then connect the output of the NOT gate to the AND gate\n",
    "* Connect the output of all AND gates to a single OR gate\n",
    "\n",
    "    ![](images/circuits/gate_xor5.png)\n",
    "\n",
    "* _Can we build a circuit that uses fewer gates?_\n",
    "    * `A XOR B`\n",
    "    * `(A OR B) AND (NOT (A AND B))`\n",
    "\n",
    "        ![](images/circuits/gate_xor.png)\n"
   ]
  },
  {
   "cell_type": "markdown",
   "id": "2d5d0d14-2de9-40aa-a159-38cb8d5b31d6",
   "metadata": {
    "tags": []
   },
   "source": [
    "* Q2: _Create a circuit for `A > B` using `AND`, `OR`, `NOT` gates_"
   ]
  },
  {
   "cell_type": "markdown",
   "id": "ca203cf0-6478-4144-a464-89d31975aa1d",
   "metadata": {
    "slideshow": {
     "slide_type": "skip"
    },
    "tags": [
     "notes-only"
    ]
   },
   "source": [
    "`A AND NOT(B)`\n",
    "\n",
    "![](images/circuits/a_gt_b.png)"
   ]
  },
  {
   "cell_type": "markdown",
   "id": "363e27c8-7b94-41d6-85c5-6ff51c8f310a",
   "metadata": {
    "slideshow": {
     "slide_type": "skip"
    },
    "tags": [
     "worksheet-only"
    ]
   },
   "source": [
    "<p style=\"height:15em;\"></p>"
   ]
  },
  {
   "cell_type": "markdown",
   "id": "494d1f49-2574-4e8a-80cf-a7d601de2a18",
   "metadata": {},
   "source": [
    "* Q3: _Create a circuit for `A >= B` using `AND`, `OR`, `NOT` gates_"
   ]
  },
  {
   "cell_type": "markdown",
   "id": "63d1b8b2-854d-4e9b-b55b-701f79cefd62",
   "metadata": {
    "slideshow": {
     "slide_type": "skip"
    },
    "tags": [
     "notes-only"
    ]
   },
   "source": [
    "![](images/circuits/a_ge_b.png)\n",
    "\n",
    "* Alternatives\n",
    "    * `(NOT(A OR B)) OR (A AND NOT(B)) OR (A AND B)`\n",
    "    * `(NOT(A) AND NOT(B)) OR A`\n",
    "    * `(NOT(A OR B)) OR A`\n",
    "    * `NOT(NOT(A) AND B)`\n",
    "    * `A OR NOT(B)`"
   ]
  },
  {
   "cell_type": "markdown",
   "id": "d95be79f-a856-42f9-9794-c1a600936b67",
   "metadata": {
    "slideshow": {
     "slide_type": "skip"
    },
    "tags": [
     "worksheet-only"
    ]
   },
   "source": [
    "<p style=\"height:15em;\"></p>\n",
    "\n",
    "🛑 **STOP here** after completing the above questions; if you have extra time please **skip ahead** to the extra practice.\n",
    "\n",
    "<div style=\"page-break-after:always;\"></div>"
   ]
  },
  {
   "cell_type": "markdown",
   "id": "5c502906-c962-469c-9caa-c5cb312d3744",
   "metadata": {
    "slideshow": {
     "slide_type": "slide"
    },
    "tags": []
   },
   "source": [
    "## 1-bit addition circuit"
   ]
  },
  {
   "cell_type": "markdown",
   "id": "c8f0626c-82a6-48d5-b9bd-9937289badcf",
   "metadata": {
    "tags": []
   },
   "source": [
    "_Your goal is to create a 1-bit circuit to perform addition. The circuit will take 3 input bits (`A`, `B`, and `I` = carry-in) and produce 2 output bits (`S` = sum and `O` = carry_out)._\n",
    "\n",
    "* Q4: _Complete the truth table for this operation_"
   ]
  },
  {
   "cell_type": "markdown",
   "id": "0a9b3da2-b4c7-4959-ab1d-9aa7801e403b",
   "metadata": {
    "slideshow": {
     "slide_type": "skip"
    },
    "tags": [
     "notes-only"
    ]
   },
   "source": [
    "| `A` | `B` | `I` | `S` | `O` |\n",
    "|-----|-----|-----|-----|-----|\n",
    "|  0  |  0  |  0  |  0  |  0  |\n",
    "|  0  |  0  |  1  |  1  |  0  |\n",
    "|  0  |  1  |  0  |  1  |  0  |\n",
    "|  0  |  1  |  1  |  0  |  1  |\n",
    "|  1  |  0  |  0  |  1  |  0  |\n",
    "|  1  |  0  |  1  |  0  |  1  |\n",
    "|  1  |  1  |  0  |  0  |  1  |\n",
    "|  1  |  1  |  1  |  1  |  1  |"
   ]
  },
  {
   "cell_type": "markdown",
   "id": "042b610f-830f-4660-9720-0fba145fbcc7",
   "metadata": {
    "tags": [
     "worksheet-only"
    ]
   },
   "source": [
    "| `A` | `B` | `I` | `S` | `O` |\n",
    "|-----|-----|------------|-------|-------------|\n",
    "|  0  |  0  |     0      |       |             |\n",
    "|  0  |  0  |     1      |       |             |\n",
    "|  0  |  1  |     0      |       |             |\n",
    "|  0  |  1  |     1      |       |             |\n",
    "|  1  |  0  |     0      |       |             |\n",
    "|  1  |  0  |     1      |       |             |\n",
    "|  1  |  1  |     0      |   0   |      1      |\n",
    "|  1  |  1  |     1      |   1   |      1      |\n"
   ]
  },
  {
   "cell_type": "markdown",
   "id": "b51357b6-3cfa-4504-96e9-0905adb42ea7",
   "metadata": {
    "tags": []
   },
   "source": [
    "* Q6: _Draw the circuit for `S`_"
   ]
  },
  {
   "cell_type": "markdown",
   "id": "dd6358c4-75b6-4c97-8639-28ba30680142",
   "metadata": {
    "slideshow": {
     "slide_type": "skip"
    },
    "tags": [
     "notes-only"
    ]
   },
   "source": [
    "![](images/circuits/sum.png)"
   ]
  },
  {
   "cell_type": "markdown",
   "id": "df5175cf-7b5c-4cc5-96bd-d670ca260638",
   "metadata": {
    "slideshow": {
     "slide_type": "skip"
    },
    "tags": [
     "worksheet-only"
    ]
   },
   "source": [
    "<p style=\"height:20em;\"></p>"
   ]
  },
  {
   "cell_type": "markdown",
   "id": "3898f064-56b7-45a7-93d2-c3ea9fba0f6a",
   "metadata": {},
   "source": [
    "* Q8: _Draw the circuit for `O`_"
   ]
  },
  {
   "cell_type": "markdown",
   "id": "acdf8bc1-8d2a-4d9c-ab2b-081b4b80ace3",
   "metadata": {
    "slideshow": {
     "slide_type": "skip"
    },
    "tags": [
     "notes-only"
    ]
   },
   "source": [
    "* Simplified: `(B AND I) OR (A AND I) OR (A AND B)`\n",
    "\n",
    "    ![](images/circuits/carry_out.png)"
   ]
  },
  {
   "cell_type": "markdown",
   "id": "acd3d981-c0e7-4035-a062-9e1d192152a5",
   "metadata": {
    "slideshow": {
     "slide_type": "skip"
    },
    "tags": [
     "worksheet-only"
    ]
   },
   "source": [
    "<div style=\"page-break-after:always;\"></div>"
   ]
  },
  {
   "cell_type": "markdown",
   "id": "117bb607-1a26-43bf-a5d0-d539889fc42e",
   "metadata": {
    "slideshow": {
     "slide_type": "slide"
    },
    "tags": []
   },
   "source": [
    "## Extra practice"
   ]
  },
  {
   "cell_type": "markdown",
   "id": "0a5bf50e-42c2-47d2-b48e-99ec50db143d",
   "metadata": {},
   "source": [
    "* Q9: _How do you use NAND gates to create a NOT gate?_"
   ]
  },
  {
   "cell_type": "markdown",
   "id": "bd4e6cbb-a841-4c58-b562-4bb212890103",
   "metadata": {
    "slideshow": {
     "slide_type": "skip"
    },
    "tags": [
     "notes-only"
    ]
   },
   "source": [
    "![](images/circuits/gate_not_from_nand.png)"
   ]
  },
  {
   "cell_type": "markdown",
   "id": "ec8ac899-bb24-421f-ace0-5f05d3c27188",
   "metadata": {
    "slideshow": {
     "slide_type": "skip"
    },
    "tags": [
     "worksheet-only"
    ]
   },
   "source": [
    "<p style=\"height:6em;\"></p>"
   ]
  },
  {
   "cell_type": "markdown",
   "id": "1d8785de-43b5-4a04-9163-ef124c15568b",
   "metadata": {},
   "source": [
    "* Q10: _How do you use NAND gates to create a AND gate?_"
   ]
  },
  {
   "cell_type": "markdown",
   "id": "38e8bdb3-1eb5-408f-970c-aae25e94666a",
   "metadata": {
    "slideshow": {
     "slide_type": "skip"
    },
    "tags": [
     "notes-only"
    ]
   },
   "source": [
    "![](images/circuits/gate_and_from_nand.png)"
   ]
  },
  {
   "cell_type": "markdown",
   "id": "29788efb-9bd7-4a0d-9444-45685015fb40",
   "metadata": {
    "slideshow": {
     "slide_type": "skip"
    },
    "tags": [
     "worksheet-only"
    ]
   },
   "source": [
    "<p style=\"height:6em;\"></p>"
   ]
  },
  {
   "cell_type": "markdown",
   "id": "df69ba89-9d3b-4dd0-a452-6d4b3a47474f",
   "metadata": {},
   "source": [
    "* Q11: _How do you use NAND gates to create an OR gate?_"
   ]
  }
 ],
 "metadata": {
  "kernelspec": {
   "display_name": "C",
   "language": "c",
   "name": "c"
  },
  "language_info": {
   "file_extension": ".c",
   "mimetype": "c",
   "name": "c"
  }
 },
 "nbformat": 4,
 "nbformat_minor": 5
}
