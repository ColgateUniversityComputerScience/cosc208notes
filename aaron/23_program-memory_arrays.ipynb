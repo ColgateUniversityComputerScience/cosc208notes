{
 "cells": [
  {
   "cell_type": "markdown",
   "id": "421ff75b-3025-4535-9a03-8de76e1d05bc",
   "metadata": {
    "editable": true,
    "slideshow": {
     "slide_type": "skip"
    },
    "tags": []
   },
   "source": [
    "# Program memory: arrays & pointers; pointer arithmetic\n",
    "_COSC 208, Introduction to Computer Systems, Fall 2025_"
   ]
  },
  {
   "cell_type": "markdown",
   "id": "cd4d1b97-0087-470d-aa66-5318ae0026d0",
   "metadata": {
    "editable": true,
    "slideshow": {
     "slide_type": "slide"
    },
    "tags": []
   },
   "source": [
    "## Arrays & pointers"
   ]
  },
  {
   "cell_type": "markdown",
   "id": "dbc27645-cb2c-4cf8-bde7-a5d3ce47c7ea",
   "metadata": {
    "editable": true,
    "slideshow": {
     "slide_type": "skip"
    },
    "tags": [
     "notes-only"
    ]
   },
   "source": [
    "* An array variable is a constant (`const`) pointer to a region of memory where the items in the array are stored"
   ]
  },
  {
   "cell_type": "markdown",
   "id": "ec7f893a-db5e-458c-9a56-2f57b3e9ec2d",
   "metadata": {
    "editable": true,
    "slideshow": {
     "slide_type": ""
    },
    "tags": []
   },
   "source": [
    "Example"
   ]
  },
  {
   "cell_type": "code",
   "execution_count": 40,
   "id": "7abd8dc1-e6cf-4b78-bd97-4cb9873861a4",
   "metadata": {
    "editable": true,
    "slideshow": {
     "slide_type": ""
    },
    "tags": [
     "worksheet-code-only"
    ]
   },
   "outputs": [
    {
     "name": "stdout",
     "output_type": "stream",
     "text": [
      "word = hat\n",
      "ptr = hat\n",
      "ptr == word\n",
      "word = hit\n",
      "word = sit\n",
      "ptr = it\n",
      "word = sat\n"
     ]
    }
   ],
   "source": [
    "#include <stdio.h>\n",
    "int main() {\n",
    "    char word[] = \"hat\";\n",
    "    printf(\"word = %s\\n\", word);\n",
    "    char *ptr = word;\n",
    "    printf(\"ptr = %s\\n\", ptr);\n",
    "    if (ptr == word) {\n",
    "        printf(\"ptr == word\\n\");\n",
    "    }\n",
    "    else {\n",
    "        printf(\"ptr != word\\n\");\n",
    "    }\n",
    "    word[1] = 'i';\n",
    "    printf(\"word = %s\\n\", word);\n",
    "    *ptr = 's';\n",
    "    printf(\"word = %s\\n\", word);\n",
    "    ptr = &word[1];\n",
    "    printf(\"ptr = %s\\n\", ptr);\n",
    "    ptr[0] = 'a';\n",
    "    printf(\"word = %s\\n\", word);\n",
    "}"
   ]
  },
  {
   "cell_type": "markdown",
   "id": "69e48b2c-e3a0-4e1e-8de2-5b2b31c46bdc",
   "metadata": {
    "editable": true,
    "slideshow": {
     "slide_type": "skip"
    },
    "tags": [
     "blank"
    ]
   },
   "source": [
    "<div style=\"height:10em;\"></div>"
   ]
  },
  {
   "cell_type": "markdown",
   "id": "0366a6b0-a6f4-4df8-b901-4dc9c8228ffd",
   "metadata": {
    "editable": true,
    "slideshow": {
     "slide_type": "skip"
    },
    "tags": [
     "notes-only"
    ]
   },
   "source": [
    "* This explains why there is no out-of-bounds checks for arrays: the memory addresses in pointers are never checked to see if they are valid\n",
    "* This also explains why you can change an array within a function and have those changes reflected outside of the function"
   ]
  },
  {
   "cell_type": "markdown",
   "id": "e0155882-e3de-4e4b-8391-0f0d3ca681cd",
   "metadata": {
    "editable": true,
    "slideshow": {
     "slide_type": "subslide"
    },
    "tags": []
   },
   "source": [
    "Example: array as a parameter"
   ]
  },
  {
   "cell_type": "code",
   "execution_count": 11,
   "id": "8a2c28c6-0b73-46d4-b61e-f8a73e5b762c",
   "metadata": {
    "editable": true,
    "slideshow": {
     "slide_type": ""
    },
    "tags": [
     "worksheet-code-only"
    ]
   },
   "outputs": [
    {
     "name": "stdout",
     "output_type": "stream",
     "text": [
      "mat\n",
      "pat\n"
     ]
    }
   ],
   "source": [
    "#include <stdio.h>\n",
    "void update(char str[]) {\n",
    "    str[0] = 'p';\n",
    "}\n",
    "int main() {\n",
    "    char word[] = \"mat\";\n",
    "    printf(\"%s\\n\", word);\n",
    "    update(word);\n",
    "    printf(\"%s\\n\", word);\n",
    "}"
   ]
  },
  {
   "cell_type": "markdown",
   "id": "003c9cf1-6c0e-4458-8136-29363ce10d5d",
   "metadata": {
    "editable": true,
    "slideshow": {
     "slide_type": "skip"
    },
    "tags": [
     "blank"
    ]
   },
   "source": [
    "<div style=\"height:3em;\"></div>"
   ]
  },
  {
   "cell_type": "markdown",
   "id": "28cb67c3-e3ff-464a-b2bf-479b2d882be5",
   "metadata": {
    "editable": true,
    "slideshow": {
     "slide_type": "subslide"
    },
    "tags": [
     "question"
    ]
   },
   "source": [
    "Q1: _What does the following program output?_"
   ]
  },
  {
   "cell_type": "code",
   "execution_count": 12,
   "id": "8f464bf4-847f-47b1-b2dc-e6799ca0ddf0",
   "metadata": {
    "editable": true,
    "slideshow": {
     "slide_type": ""
    },
    "tags": [
     "worksheet-code-only"
    ]
   },
   "outputs": [
    {
     "name": "stdout",
     "output_type": "stream",
     "text": [
      "1 2\n",
      "2 3\n",
      "5 20\n",
      "20 3\n"
     ]
    }
   ],
   "source": [
    "#include <stdio.h>\n",
    "void mystery(int arr[]) {\n",
    "    *arr = *arr * 5;\n",
    "    arr[1] = arr[1] * 10;\n",
    "}\n",
    "\n",
    "int main() {\n",
    "    int nums[] = {1, 2, 3, 4};\n",
    "    printf(\"%d %d\\n\", *nums, nums[1]);\n",
    "    int *ptr = &nums[1];\n",
    "    printf(\"%d %d\\n\", *ptr, ptr[1]);\n",
    "    mystery(nums);\n",
    "    printf(\"%d %d\\n\", *nums, nums[1]);\n",
    "    printf(\"%d %d\\n\", *ptr, ptr[1]);\n",
    "}"
   ]
  },
  {
   "cell_type": "markdown",
   "id": "d905cb92-e7b8-474e-bd86-1fc96a721208",
   "metadata": {
    "editable": true,
    "slideshow": {
     "slide_type": "skip"
    },
    "tags": [
     "blank"
    ]
   },
   "source": [
    "<div style=\"height:8em;\"></div>"
   ]
  },
  {
   "cell_type": "markdown",
   "id": "e260a0e0-b0d9-4737-84f0-1e11954359b7",
   "metadata": {
    "editable": true,
    "slideshow": {
     "slide_type": "subslide"
    },
    "tags": [
     "question"
    ]
   },
   "source": [
    "Q2: _What does the following program output?_"
   ]
  },
  {
   "cell_type": "code",
   "execution_count": 7,
   "id": "e71dc048-27d2-49a7-a222-a101d42302f7",
   "metadata": {
    "editable": true,
    "slideshow": {
     "slide_type": ""
    },
    "tags": [
     "worksheet-code-only"
    ]
   },
   "outputs": [
    {
     "name": "stdout",
     "output_type": "stream",
     "text": [
      "r n\n",
      "nice near\n",
      "sick bear\n"
     ]
    }
   ],
   "source": [
    "#include <stdio.h>\n",
    "void update(char *x, char *y) {\n",
    "    char *z = &x[3];\n",
    "    *x = 's';\n",
    "    *y = 'b';\n",
    "    *z = 'k';\n",
    "}\n",
    "\n",
    "int main() {\n",
    "    char one[] = \"rice\";\n",
    "    char two[] = \"neat\";\n",
    "    printf(\"%c %c\\n\", *one, *two);\n",
    "    char *ptr1 = one;\n",
    "    char *ptr2 = &two[3];\n",
    "    *ptr1 = *two;\n",
    "    *ptr2 = 'r';\n",
    "    printf(\"%s %s\\n\", one, two);\n",
    "    update(one, two);\n",
    "    printf(\"%s %s\\n\", one, two);\n",
    "}"
   ]
  },
  {
   "cell_type": "markdown",
   "id": "1d99ae49-3892-470d-8a9d-fc13f0e60985",
   "metadata": {
    "editable": true,
    "slideshow": {
     "slide_type": "skip"
    },
    "tags": [
     "blank"
    ]
   },
   "source": [
    "<div style=\"height:8em;\"></div>"
   ]
  },
  {
   "cell_type": "markdown",
   "id": "8439bc1c-bf6b-4e94-8306-222cbc61f684",
   "metadata": {
    "editable": true,
    "slideshow": {
     "slide_type": "subslide"
    },
    "tags": [
     "question"
    ]
   },
   "source": [
    "Q3: _Draw a memory diagram that displays the program's variables and their values when the program reaches the comment `STOP HERE`._"
   ]
  },
  {
   "cell_type": "code",
   "execution_count": 16,
   "id": "58e40bdf-55f6-46d6-a307-ced66ed4c29a",
   "metadata": {
    "editable": true,
    "slideshow": {
     "slide_type": ""
    },
    "tags": [
     "worksheet-code-only"
    ]
   },
   "outputs": [
    {
     "name": "stdout",
     "output_type": "stream",
     "text": [
      "Domain (11 chars): colgate.edu\n",
      "Path (5 chars): lgbtq\n"
     ]
    }
   ],
   "source": [
    "#include <stdio.h>\n",
    "#include <string.h>\n",
    "char *split(char *str, char delim) {\n",
    "    for (int i = 0; i < strlen(str); i++) {\n",
    "        if (str[i] == delim) {\n",
    "            str[i] = '\\0';\n",
    "            return &str[i+1];\n",
    "        }\n",
    "    }\n",
    "    return NULL;\n",
    "}\n",
    "\n",
    "void parse(char *url) {\n",
    "    char separator = '/';\n",
    "    char *path = split(url, separator);\n",
    "    int domainlen = strlen(url);\n",
    "    int pathlen = strlen(path);\n",
    "    // STOP HERE\n",
    "    printf(\"Domain (%d chars): %s\\n\", domainlen, url);\n",
    "    printf(\"Path (%d chars): %s\\n\", pathlen, path);\n",
    "}\n",
    "\n",
    "int main() {\n",
    "    char input[] = \"colgate.edu/lgbtq\";\n",
    "    parse(input);\n",
    "}"
   ]
  },
  {
   "cell_type": "markdown",
   "id": "5b71f2ed-4c27-4c86-b331-af5168086138",
   "metadata": {
    "editable": true,
    "slideshow": {
     "slide_type": "skip"
    },
    "tags": [
     "answer"
    ]
   },
   "source": [
    "![](images/program_memory/parse_url.png)"
   ]
  },
  {
   "cell_type": "markdown",
   "id": "b5b97bf9-3c59-4d6b-8dac-fbfc5edfdc17",
   "metadata": {
    "editable": true,
    "slideshow": {
     "slide_type": "skip"
    },
    "tags": [
     "blank"
    ]
   },
   "source": [
    "<div style=\"height:30em;\"></div>"
   ]
  },
  {
   "cell_type": "markdown",
   "id": "e9b94917-4e5b-49cd-91cf-88cd4c89e21e",
   "metadata": {
    "editable": true,
    "slideshow": {
     "slide_type": "slide"
    },
    "tags": []
   },
   "source": [
    "## Pointer arithmetic"
   ]
  },
  {
   "cell_type": "markdown",
   "id": "dc567613-3d5a-487b-a176-79b7518d4116",
   "metadata": {
    "editable": true,
    "slideshow": {
     "slide_type": "skip"
    },
    "tags": [
     "notes-only"
    ]
   },
   "source": [
    "* Adding `n` to a pointer without dereferencing determines the address of the element `n` indices away\n",
    "* Pointer does not change, unless the new address is assigned to the pointer"
   ]
  },
  {
   "cell_type": "markdown",
   "id": "4982e8b5-4554-40f6-93bd-6f909ba2cf8e",
   "metadata": {
    "editable": true,
    "slideshow": {
     "slide_type": ""
    },
    "tags": []
   },
   "source": [
    "Example"
   ]
  },
  {
   "cell_type": "code",
   "execution_count": 18,
   "id": "5a7e4bd6-23fa-4529-919b-0feb06eb142d",
   "metadata": {
    "editable": true,
    "slideshow": {
     "slide_type": ""
    },
    "tags": [
     "worksheet-code-only"
    ]
   },
   "outputs": [
    {
     "name": "stdout",
     "output_type": "stream",
     "text": [
      "8 2\n",
      "32 2\n",
      "8 2\n",
      "128 32\n",
      "2 0\n",
      "2 -1\n"
     ]
    }
   ],
   "source": [
    "#include <stdio.h>\n",
    "int main() {\n",
    "    int nums[] = {2,4,8,16,32,64,128};\n",
    "    \n",
    "    int *ptr = nums + 2;\n",
    "    printf(\"%d %d\\n\", *ptr, *nums);\n",
    "    ptr = ptr + 2;\n",
    "    printf(\"%d %d\\n\", *ptr, *nums);\n",
    "    // nums = nums + 2; // Not allowed; array variable must point to 0th element\n",
    "    \n",
    "    int val = *(nums + 2);\n",
    "    printf(\"%d %d\\n\", val, *nums);\n",
    "    val = *(ptr + 2);\n",
    "    printf(\"%d %d\\n\", val, *ptr);\n",
    "    \n",
    "    nums[2] = 0;\n",
    "    printf(\"%d %d\\n\", *nums, nums[2]);\n",
    "    *(nums + 2) = -1;\n",
    "    printf(\"%d %d\\n\", *nums, nums[2]);\n",
    "}"
   ]
  },
  {
   "cell_type": "markdown",
   "id": "b36757e6-2da4-407d-9535-66d5984b8e6d",
   "metadata": {
    "editable": true,
    "slideshow": {
     "slide_type": "skip"
    },
    "tags": [
     "blank"
    ]
   },
   "source": [
    "<div style=\"height:12em;\"></div>"
   ]
  },
  {
   "cell_type": "markdown",
   "id": "06aa7c9e-2702-4ee1-9ba0-f2ffde082ccc",
   "metadata": {
    "editable": true,
    "slideshow": {
     "slide_type": "subslide"
    },
    "tags": [
     "question"
    ]
   },
   "source": [
    "Q4: _What is the output of this program?_"
   ]
  },
  {
   "cell_type": "code",
   "execution_count": 3,
   "id": "7124b885-a5ef-428f-b84a-84b27c0f8680",
   "metadata": {
    "editable": true,
    "slideshow": {
     "slide_type": ""
    },
    "tags": [
     "worksheet-code-only"
    ]
   },
   "outputs": [
    {
     "name": "stdout",
     "output_type": "stream",
     "text": [
      "1 2\n",
      "6 1\n",
      "3\n",
      "4\n"
     ]
    }
   ],
   "source": [
    "#include <stdio.h>\n",
    "int main() {\n",
    "    int nums[4] = {1,2,3,4};\n",
    "    printf(\"%d %d\\n\", *nums, nums[1]);\n",
    "    int *ptr = &nums[1];\n",
    "    nums[1] += 4;\n",
    "    printf(\"%d %d\\n\", *ptr, nums[0]);\n",
    "    ptr = (nums + 2);\n",
    "    printf(\"%d\\n\", *ptr);\n",
    "    ptr++; // num++ is illegal\n",
    "    printf(\"%d\\n\", *ptr);\n",
    "}"
   ]
  },
  {
   "cell_type": "markdown",
   "id": "ebac678f-2db4-4bdf-ab6f-0dde0d4b9652",
   "metadata": {
    "editable": true,
    "slideshow": {
     "slide_type": "skip"
    },
    "tags": [
     "blank"
    ]
   },
   "source": [
    "<div style=\"height:5em;\"></div>"
   ]
  },
  {
   "cell_type": "markdown",
   "id": "04bc2c24-13f0-43a9-98b5-d2c1ebbd27e4",
   "metadata": {
    "editable": true,
    "slideshow": {
     "slide_type": "subslide"
    },
    "tags": [
     "question"
    ]
   },
   "source": [
    "Q5: _What does the following program output?_"
   ]
  },
  {
   "cell_type": "code",
   "execution_count": 4,
   "id": "dc67f386-70a7-4694-bff0-87d3ddc005f6",
   "metadata": {
    "editable": true,
    "slideshow": {
     "slide_type": ""
    },
    "tags": [
     "worksheet-code-only"
    ]
   },
   "outputs": [
    {
     "name": "stdout",
     "output_type": "stream",
     "text": [
      "cs\n",
      "the cap fits\n",
      "red cap fins\n"
     ]
    }
   ],
   "source": [
    "#include <stdio.h>\n",
    "int main() {\n",
    "    char phrase[] = \"the cat sits\";\n",
    "    char *mysteryA = phrase + 4;\n",
    "    char *mysteryB = mysteryA + 4;\n",
    "    printf(\"%c%c\\n\", *mysteryA, *mysteryB);\n",
    "    *(mysteryA + 2) = 'p';\n",
    "    *mysteryB = 'f';\n",
    "    printf(\"%s\\n\", phrase);\n",
    "    mysteryA--;\n",
    "    mysteryB += 2;\n",
    "    *mysteryB = 'n';\n",
    "    printf(\"red%s\\n\", mysteryA);\n",
    "}"
   ]
  },
  {
   "cell_type": "markdown",
   "id": "ba11042d-69b0-43b1-87af-fc6aa6011893",
   "metadata": {
    "editable": true,
    "slideshow": {
     "slide_type": "skip"
    },
    "tags": [
     "blank"
    ]
   },
   "source": [
    "<div style=\"height:5em;\"></div>"
   ]
  },
  {
   "cell_type": "markdown",
   "id": "3a2773c3-c7e1-44ed-aef3-d8ec945e8371",
   "metadata": {
    "editable": true,
    "slideshow": {
     "slide_type": "subslide"
    },
    "tags": [
     "question"
    ]
   },
   "source": [
    "Q6: _Write a function called `sum` which takes an array of integers and a length and returns the sum of the numbers. The function **must** use a pointer to iterate over the array._"
   ]
  },
  {
   "cell_type": "code",
   "execution_count": 2,
   "id": "dbcab9e8-51f4-4aac-b81e-8513d3fb223e",
   "metadata": {
    "editable": true,
    "slideshow": {
     "slide_type": "skip"
    },
    "tags": [
     "answer"
    ]
   },
   "outputs": [
    {
     "name": "stdout",
     "output_type": "stream",
     "text": [
      "15\n"
     ]
    }
   ],
   "source": [
    "#include <stdio.h>\n",
    "int sum(int *nums, int len) {\n",
    "    int *curr = nums;\n",
    "    int total = 0;\n",
    "    for (int i = 0; i < len; i++) {\n",
    "        total += *curr;\n",
    "        curr++;\n",
    "    }\n",
    "    return total;\n",
    "}\n",
    "int main() {\n",
    "    int nums[] = {1, 2, 4, 8};\n",
    "    printf(\"%d\\n\", sum(nums, 4));\n",
    "}"
   ]
  },
  {
   "cell_type": "markdown",
   "id": "902b81f0-6057-40a1-ab67-e507905afc24",
   "metadata": {
    "editable": true,
    "slideshow": {
     "slide_type": "skip"
    },
    "tags": [
     "blank"
    ]
   },
   "source": [
    "<div style=\"height:15em;\"></div>"
   ]
  },
  {
   "cell_type": "markdown",
   "id": "a957ed0a-0582-498c-8b68-dfe1e584a2ab",
   "metadata": {
    "editable": true,
    "slideshow": {
     "slide_type": "subslide"
    },
    "tags": [
     "question"
    ]
   },
   "source": [
    "Q7: _What is the output of this program?_"
   ]
  },
  {
   "cell_type": "code",
   "execution_count": 4,
   "id": "81f6777e-e456-442a-8112-5c1e8299296c",
   "metadata": {
    "editable": true,
    "slideshow": {
     "slide_type": ""
    },
    "tags": [
     "worksheet-code-only"
    ]
   },
   "outputs": [
    {
     "name": "stdout",
     "output_type": "stream",
     "text": [
      "4\n",
      "Knit nit\n"
     ]
    }
   ],
   "source": [
    "#include <stdio.h>\n",
    "int main() {\n",
    "    char *first = \"Colgate\";\n",
    "    char second[10] = \"Univ\";\n",
    "    char *f = &first[3];\n",
    "    printf(\"%d\\n\", strlen(f));\n",
    "    char *s = second;\n",
    "    *s = 'K';\n",
    "    s++;\n",
    "    *(s+2) = 't';\n",
    "    printf(\"%s %s\\n\", second, s);\n",
    "}"
   ]
  },
  {
   "cell_type": "markdown",
   "id": "466aeec4-55c1-45e2-9f7b-4f5e1c634c04",
   "metadata": {
    "editable": true,
    "slideshow": {
     "slide_type": "skip"
    },
    "tags": [
     "blank"
    ]
   },
   "source": [
    "<div style=\"height:2em;\"></div>"
   ]
  },
  {
   "cell_type": "markdown",
   "id": "05eceda5-016e-4b3e-9f38-38f3c50837ba",
   "metadata": {
    "editable": true,
    "slideshow": {
     "slide_type": ""
    },
    "tags": [
     "question"
    ]
   },
   "source": [
    "Q8: _What is the output of this program?_"
   ]
  },
  {
   "cell_type": "code",
   "execution_count": 9,
   "id": "0dcbff25-0f7e-481c-aece-5f1e7b2f8666",
   "metadata": {
    "editable": true,
    "slideshow": {
     "slide_type": ""
    },
    "tags": [
     "worksheet-code-only"
    ]
   },
   "outputs": [
    {
     "name": "stdout",
     "output_type": "stream",
     "text": [
      "no one\n",
      "no 2\n",
      "one-on-one 2\n",
      "no 2\n"
     ]
    }
   ],
   "source": [
    "#include <stdio.h>\n",
    "#include <string.h>\n",
    "\n",
    "void modify(char *str, int idx) {\n",
    "    char tmp = str[0];\n",
    "    idx--;\n",
    "    str[0] = str[idx];\n",
    "    str[idx] = tmp;\n",
    "}\n",
    "\n",
    "int main() {\n",
    "    char a[5] = \"none\";\n",
    "    char b[3] = \"no\";\n",
    "    char *x = &(a[1]);\n",
    "    printf(\"%s %s\\n\", b, x);\n",
    "\n",
    "    char *y = b;\n",
    "    int i = strlen(y);\n",
    "    printf(\"%s %d\\n\", y, i);\n",
    "\n",
    "    modify(y, i);\n",
    "    printf(\"%s-%s-%s %d\\n\", x, y, x, i);\n",
    "\n",
    "    *(a+2) = '\\0';\n",
    "    i = strlen(a);\n",
    "    printf(\"%s %d\\n\", a, i);\n",
    "}"
   ]
  },
  {
   "cell_type": "markdown",
   "id": "af6058bd-7a9d-4637-8242-0dac23b31da8",
   "metadata": {
    "editable": true,
    "slideshow": {
     "slide_type": "skip"
    },
    "tags": [
     "blank"
    ]
   },
   "source": [
    "<div style=\"height:5em;\"></div>"
   ]
  },
  {
   "cell_type": "markdown",
   "id": "791117ea-341b-47c9-880e-24fbef32ea37",
   "metadata": {
    "editable": true,
    "slideshow": {
     "slide_type": "subslide"
    },
    "tags": [
     "question"
    ]
   },
   "source": [
    "Q9: _What does the following program output?_"
   ]
  },
  {
   "cell_type": "code",
   "execution_count": null,
   "id": "c8a71ded-81b7-41cf-a15f-3ddc0a30aae2",
   "metadata": {
    "editable": true,
    "slideshow": {
     "slide_type": ""
    },
    "tags": [
     "worksheet-code-only"
    ]
   },
   "outputs": [
    {
     "name": "stdout",
     "output_type": "stream",
     "text": [
      "1 8\n",
      "4 8 17 32\n",
      "4 2 17 33\n"
     ]
    }
   ],
   "source": [
    "#include <stdio.h>\n",
    "int main() {\n",
    "    int numsA[] = {1, 2, 4, 8, 16, 32, 64};\n",
    "    int *numsB = numsA + 3;\n",
    "    printf(\"%d %d\\n\", *numsA, *numsB);\n",
    "    numsB += 1;\n",
    "    *numsB += 1;\n",
    "    printf(\"%d %d %d %d\\n\", numsA[2], numsA[3], numsA[4], numsA[5]);\n",
    "    *(numsB - 1) = *(numsA + 1);\n",
    "    numsB[1] += 1;\n",
    "    printf(\"%d %d %d %d\\n\", numsA[2], numsA[3], numsA[4], numsA[5]);\n",
    "}"
   ]
  },
  {
   "cell_type": "markdown",
   "id": "42b2f6c5-4fb4-4757-bf57-69e7677096a6",
   "metadata": {
    "editable": true,
    "slideshow": {
     "slide_type": "skip"
    },
    "tags": [
     "blank"
    ]
   },
   "source": [
    "<div style=\"height:5em;\"></div>"
   ]
  },
  {
   "cell_type": "markdown",
   "id": "51729563-44ea-4b72-9dfc-d3b2207ad931",
   "metadata": {
    "editable": true,
    "slideshow": {
     "slide_type": "subslide"
    },
    "tags": [
     "question"
    ]
   },
   "source": [
    "Q10: _What is the output of this program?_"
   ]
  },
  {
   "cell_type": "code",
   "execution_count": 8,
   "id": "4bc2fc07-a160-4e9a-b9f3-568cfa3c6cde",
   "metadata": {
    "editable": true,
    "slideshow": {
     "slide_type": ""
    },
    "tags": [
     "worksheet-code-only"
    ]
   },
   "outputs": [
    {
     "name": "stdout",
     "output_type": "stream",
     "text": [
      "2 6\n",
      "1 3\n",
      "Got Rain\n"
     ]
    }
   ],
   "source": [
    "#include <stdio.h>\n",
    "#include <string.h>\n",
    "\n",
    "int main() {\n",
    "    char first[10] = \"Go\";\n",
    "    char second[] = \"Raiders\";\n",
    "    char *f = first;\n",
    "    char *s = &second[1];\n",
    "    printf(\"%d %d\\n\", strlen(f), strlen(s));\n",
    "    *(s+2) = 'n';\n",
    "    f += 1;\n",
    "    *(++f) = 't';\n",
    "    first[3] = '\\0';\n",
    "    second[4] = '\\0';\n",
    "    printf(\"%d %d\\n\", strlen(f), strlen(s));\n",
    "    printf(\"%s %s\\n\", first, second);\n",
    "}"
   ]
  },
  {
   "cell_type": "markdown",
   "id": "86c5036a-c274-4ba9-88d6-c58d6e18a1e2",
   "metadata": {
    "editable": true,
    "slideshow": {
     "slide_type": "skip"
    },
    "tags": [
     "blank"
    ]
   },
   "source": [
    "<div style=\"height:5em;\"></div>"
   ]
  }
 ],
 "metadata": {
  "kernelspec": {
   "display_name": "C",
   "language": "c",
   "name": "c"
  },
  "language_info": {
   "file_extension": ".c",
   "mimetype": "text/plain",
   "name": "c"
  }
 },
 "nbformat": 4,
 "nbformat_minor": 5
}
