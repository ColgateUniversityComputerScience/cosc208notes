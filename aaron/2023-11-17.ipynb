{
 "cells": [
  {
   "cell_type": "markdown",
   "id": "ffc437ac-d10b-4d12-895d-712e9c2057b5",
   "metadata": {
    "slideshow": {
     "slide_type": "skip"
    },
    "tags": []
   },
   "source": [
    "# Efficiency: threads\n",
    "_COSC 208, Introduction to Computer Systems, 2023-11-17_"
   ]
  },
  {
   "cell_type": "markdown",
   "id": "c377c966-ee4b-4990-a6e6-a2d8f327a112",
   "metadata": {
    "slideshow": {
     "slide_type": "skip"
    },
    "tags": []
   },
   "source": [
    "## Announcements\n",
    "* Project 4 due Thurs, Dec 7"
   ]
  },
  {
   "cell_type": "markdown",
   "id": "377e6d68-2202-4782-afc7-a43582630f55",
   "metadata": {
    "slideshow": {
     "slide_type": "skip"
    },
    "tags": []
   },
   "source": [
    "## Outline\n",
    "* Warm-up\n",
    "* Threads and memory\n",
    "* Pthreads API"
   ]
  },
  {
   "cell_type": "markdown",
   "id": "12012bfd-a4f4-4e7f-9d4b-3275ef92160b",
   "metadata": {},
   "source": [
    "## Warm-up"
   ]
  },
  {
   "cell_type": "markdown",
   "id": "88f9d9c2-18b6-42fb-b56c-6aaad136faa6",
   "metadata": {
    "slideshow": {
     "slide_type": "skip"
    },
    "tags": []
   },
   "source": [
    "* Q1: _What are all possible outputs produced by this program?_"
   ]
  },
  {
   "cell_type": "code",
   "execution_count": 1,
   "id": "c856b340-ce21-4fca-a62e-0c41f4fd3297",
   "metadata": {
    "tags": [
     "worksheet-code-only"
    ]
   },
   "outputs": [
    {
     "name": "stdout",
     "output_type": "stream",
     "text": [
      "z is 1\n",
      "z is 2\n"
     ]
    }
   ],
   "source": [
    "/* 1*/  #include <stdio.h>\n",
    "/* 2*/  #include <stdlib.h>\n",
    "/* 3*/  #include <unistd.h>\n",
    "/* 4*/  void *proc1_main(void *arg) {\n",
    "/* 5*/      int *x = (int *)arg;\n",
    "/* 6*/      *x += 1;\n",
    "/* 7*/      return NULL;\n",
    "/* 8*/  }\n",
    "/* 9*/  void *proc2_main(void *arg) {\n",
    "/*10*/      int *y = (int *)arg;\n",
    "/*11*/      *y += 2;\n",
    "/*12*/      return NULL;\n",
    "/*13*/  }\n",
    "/*14*/  int main() {\n",
    "/*15*/      int *z = malloc(sizeof(int));\n",
    "/*16*/      *z = 0;\n",
    "/*17*/      int pid = fork();\n",
    "/*18*/      if (pid == 0) {\n",
    "/*19*/          proc1_main(z);\n",
    "/*20*/      } else {\n",
    "/*21*/          wait(NULL);\n",
    "/*22*/          proc2_main(z);\n",
    "/*23*/      }\n",
    "/*24*/      printf(\"z is %d\\n\", *z);\n",
    "/*25*/  }"
   ]
  },
  {
   "cell_type": "markdown",
   "id": "e276b4a1-e15f-4ac5-9d9c-6a56495df6ac",
   "metadata": {
    "slideshow": {
     "slide_type": "skip"
    },
    "tags": [
     "worksheet-only"
    ]
   },
   "source": [
    "<div style=\"height:7em;\"></div>\n",
    "\n",
    "🛑 **STOP here** after completing the above question; if you have extra time please **skip ahead** to the extra practice.\n",
    "\n",
    "<div style=\"page-break-after:always;\"></div>"
   ]
  },
  {
   "cell_type": "markdown",
   "id": "afa5ff7b-2b13-46e9-ae63-377944806945",
   "metadata": {
    "slideshow": {
     "slide_type": "slide"
    },
    "tags": []
   },
   "source": [
    "## Threads and memory"
   ]
  },
  {
   "cell_type": "markdown",
   "id": "f4917f69-f8d4-4254-bba6-81e17462c42e",
   "metadata": {
    "slideshow": {
     "slide_type": "skip"
    },
    "tags": [
     "notes-only"
    ]
   },
   "source": [
    "* Threads are multiple execution contexts within the **same process**\n",
    "    * Processes are multiple execution contexts within the **same machine**\n",
    "* Because threads are within the same process, they share all of the process’s resources — memory, CPU time, file descriptors (i.e., open files), etc.\n",
    "* Consequently, two threads can update the same variable"
   ]
  },
  {
   "cell_type": "markdown",
   "id": "b79ae964-6e2c-4114-b844-776508ff0130",
   "metadata": {
    "slideshow": {
     "slide_type": "skip"
    },
    "tags": []
   },
   "source": [
    "* Example"
   ]
  },
  {
   "cell_type": "code",
   "execution_count": null,
   "id": "ba727028-3e07-471a-a024-62b5c5061624",
   "metadata": {},
   "outputs": [],
   "source": [
    "/* 1*/  #include <stdio.h>\n",
    "/* 2*/  #include <stdlib.h>\n",
    "/* 3*/  void *thread1_main(void *arg) {\n",
    "/* 4*/      int *x = (int *)arg;\n",
    "/* 5*/      *x += 1;\n",
    "/* 6*/      return NULL;\n",
    "/* 7*/  }\n",
    "/* 8*/  void *thread2_main(void *arg) {\n",
    "/* 9*/      int *y = (int *)arg;\n",
    "/*10*/      *y += 2;\n",
    "/*11*/      return NULL;\n",
    "/*12*/  }\n",
    "/*13*/  int main() {\n",
    "/*14*/      int *z = malloc(sizeof(int));\n",
    "/*15*/      *z = 0;\n",
    "/*16*/      // Create thread running thread1_main(z)\n",
    "/*17*/      // Create thread running thread2_main(z)\n",
    "/*18*/      // Wait for threads to finish\n",
    "/*19*/      printf(\"z is %d\\n\", *z);\n",
    "/*20*/  }"
   ]
  },
  {
   "cell_type": "markdown",
   "id": "b0076aa3-e731-44b0-ae57-40f3e6fce2df",
   "metadata": {
    "slideshow": {
     "slide_type": "skip"
    },
    "tags": [
     "notes-only"
    ]
   },
   "source": [
    "```\n",
    "z is 3\n",
    "```"
   ]
  },
  {
   "cell_type": "markdown",
   "id": "50e1912c-431b-40ec-9f96-e33c2b299e9e",
   "metadata": {
    "slideshow": {
     "slide_type": "skip"
    },
    "tags": [
     "notes-only"
    ]
   },
   "source": [
    "* Two processes cannot update the same variable — memory is not shared; must use inter-process communication mechanism to share information"
   ]
  },
  {
   "cell_type": "markdown",
   "id": "6af2c892-58eb-4bba-a9c7-92e7df4ce0f8",
   "metadata": {
    "slideshow": {
     "slide_type": "subslide"
    },
    "tags": []
   },
   "source": [
    "* Q2: _What are all possible outputs produced by this program?_"
   ]
  },
  {
   "cell_type": "code",
   "execution_count": null,
   "id": "1f1c1ead-7c3c-446e-929a-5fa27703b704",
   "metadata": {},
   "outputs": [],
   "source": [
    "/* 1*/  #include <stdio.h>\n",
    "/* 2*/  #include <stdlib.h>\n",
    "/* 3*/  void *increment(void *arg) {\n",
    "/* 4*/      int *num = (int*)arg;\n",
    "/* 5*/      *num += 1;\n",
    "/* 6*/      return NULL;\n",
    "/* 7*/  }\n",
    "/* 8*/  void *zero(void *arg) {\n",
    "/* 9*/      int *num = (int*)arg;\n",
    "/*10*/      *num = 0;\n",
    "/*11*/      return NULL;\n",
    "/*12*/  }\n",
    "/*13*/  int main() {\n",
    "/*14*/      int *i = malloc(sizeof(int));\n",
    "/*15*/      *i = 5;\n",
    "/*16*/      // Create thread running increment(i)\n",
    "/*17*/      // Create thread running zero(i)\n",
    "/*18*/      // Wait for threads to finish\n",
    "/*19*/      printf(\"i=%d\\n\", *i);\n",
    "/*20*/  }"
   ]
  },
  {
   "cell_type": "markdown",
   "id": "532f17db-0f88-4e1b-9878-b1658f7ffd4c",
   "metadata": {
    "slideshow": {
     "slide_type": "skip"
    },
    "tags": [
     "notes-only"
    ]
   },
   "source": [
    "```\n",
    "i=0\n",
    "```\n",
    "OR\n",
    "```\n",
    "i=1\n",
    "```"
   ]
  },
  {
   "cell_type": "markdown",
   "id": "d36b301a-c100-4745-96df-5b351e3ab930",
   "metadata": {
    "slideshow": {
     "slide_type": "skip"
    },
    "tags": [
     "worksheet-only"
    ]
   },
   "source": [
    "<p style=\"height:8em;\"></p>\n",
    "\n",
    "🛑 **STOP here** after completing the above question; if you have extra time please **skip ahead** to the extra practice.\n",
    "\n",
    "<div style=\"page-break-after:always;\"></div>"
   ]
  },
  {
   "cell_type": "markdown",
   "id": "19924064-59b0-45a4-94b7-0d9d1ed5645c",
   "metadata": {
    "slideshow": {
     "slide_type": "slide"
    },
    "tags": []
   },
   "source": [
    "## Pthreads API"
   ]
  },
  {
   "cell_type": "markdown",
   "id": "d97b82c1-c803-45a6-a872-2bbefb039ed1",
   "metadata": {
    "slideshow": {
     "slide_type": "skip"
    },
    "tags": [
     "notes-only"
    ]
   },
   "source": [
    "* Can create and wait for threads to finish, just like processes, but API is different\n",
    "* Use the pthreads library—`#include <pthread.h>`\n",
    "* `int pthread_create(pthread_t *thread, const pthread_attr_t *attr, void *(*start_routine)(void*), void * arg)`\n",
    "    * `thread`—a struct that stores metadata for the thread\n",
    "    * `attr`—configuration settings for the thread\n",
    "    * `start_routine`—the function to start executing when the thread starts\n",
    "        * Pass a pointer to a function\n",
    "    * `arg`—an argument passed to the aforementioned function\n",
    "    * _How do we create a new process?_—`fork`\n",
    "* `int pthread_join(pthread_t thread, void **value_ptr)`\n",
    "    * `thread`—the same struct passed at thread creation; used to identify the thread we want to wait for\n",
    "    * `value_ptr`—the location where the function return value should be stored\n",
    "        * Notice it’s a pointer to a void pointer and the `start_routine` function specified in create returns a void pointer\n",
    "    * _How do we wait for a process to finish?_ — `wait` or `waitpid`"
   ]
  },
  {
   "cell_type": "markdown",
   "id": "f35e8492-b34f-404a-954d-41fb0f49f5b1",
   "metadata": {
    "tags": []
   },
   "source": [
    "* Q3: _What are all possible outputs produced by this program?_"
   ]
  },
  {
   "cell_type": "code",
   "execution_count": null,
   "id": "273bdbb0-50ab-4942-ab98-6e1edab2153a",
   "metadata": {
    "tags": [
     "worksheet-code-only"
    ]
   },
   "outputs": [],
   "source": [
    "/* 1*/  #include <stdio.h>\n",
    "/* 2*/  #include <stdlib.h>\n",
    "/* 3*/  #include <pthread.h>\n",
    "/* 4*/  void *printer(void *arg) {\n",
    "/* 5*/      char *ch = (char*)arg;\n",
    "/* 6*/      printf(\"I am %c\\n\", *ch);\n",
    "/* 7*/      return NULL;\n",
    "/* 8*/  }\n",
    "/* 9*/  int main() {\n",
    "/*10*/      pthread_t thread1, thread2;\n",
    "/*11*/      char *ch = malloc(sizeof(char));\n",
    "/*12*/      *ch = 'P';\n",
    "/*13*/      pthread_create(&thread1, NULL, &printer, ch);\n",
    "/*14*/      pthread_join(thread1, NULL);\n",
    "/*15*/      *ch = 'Q';\n",
    "/*16*/      pthread_create(&thread2, NULL, &printer, ch);\n",
    "/*17*/      pthread_join(thread2, NULL);\n",
    "/*18*/  }"
   ]
  },
  {
   "cell_type": "markdown",
   "id": "34c12e99-e56f-4f61-9596-25d9bf57181b",
   "metadata": {
    "slideshow": {
     "slide_type": "skip"
    },
    "tags": [
     "notes-only"
    ]
   },
   "source": [
    "    Postponed to next class"
   ]
  },
  {
   "cell_type": "markdown",
   "id": "caeb2c0f-380e-46b0-988b-50fa8633ec47",
   "metadata": {
    "slideshow": {
     "slide_type": "skip"
    },
    "tags": [
     "worksheet-only"
    ]
   },
   "source": [
    "<div style=\"page-break-after:always;\"></div>"
   ]
  },
  {
   "cell_type": "markdown",
   "id": "b37ca661-12e2-4cd8-b765-8f23c6925f1d",
   "metadata": {
    "slideshow": {
     "slide_type": "slide"
    },
    "tags": []
   },
   "source": [
    "## Extra practice"
   ]
  },
  {
   "cell_type": "markdown",
   "id": "00d1b943-b30a-4dd7-9fd6-b7440a5cda04",
   "metadata": {
    "slideshow": {
     "slide_type": "skip"
    },
    "tags": []
   },
   "source": [
    "* Q4: _What output is produced by the following program? (Note: there is only one possible ordering.)_"
   ]
  },
  {
   "cell_type": "code",
   "execution_count": 2,
   "id": "be1d4206-aa53-4221-a12f-b134879a77b6",
   "metadata": {
    "tags": [
     "worksheet-code-only"
    ]
   },
   "outputs": [
    {
     "name": "stdout",
     "output_type": "stream",
     "text": [
      "A\n",
      "B\n",
      "E\n",
      "C\n",
      "E\n",
      "D\n",
      "E\n"
     ]
    }
   ],
   "source": [
    "/*1*/   #include <stdio.h>\n",
    "/*2*/   #include <stdlib.h>\n",
    "/*3*/   #include <sys/wait.h>\n",
    "/*4*/   #include <unistd.h>\n",
    "/*5*/   int main() {\n",
    "/*6*/       printf(\"A\\n\");\n",
    "/*7*/       int x = fork();\n",
    "/*8*/       if (x == 0) {\n",
    "/*9*/           int y = fork();\n",
    "/*10*/          if (y == 0) {\n",
    "/*11*/              printf(\"B\\n\");\n",
    "/*12*/          }\n",
    "/*13*/          else {\n",
    "/*14*/              wait(NULL);\n",
    "/*15*/              printf(\"C\\n\");\n",
    "/*16*/          }\n",
    "/*17*/      }\n",
    "/*18*/      else {\n",
    "/*19*/          wait(NULL);\n",
    "/*20*/          printf(\"D\\n\");\n",
    "/*21*/      }\n",
    "/*22*/      printf(\"E\\n\");\n",
    "/*23*/  }"
   ]
  },
  {
   "cell_type": "markdown",
   "id": "0e6f8a11-327a-4772-a4c8-a18f4b064ef6",
   "metadata": {
    "slideshow": {
     "slide_type": "skip"
    },
    "tags": [
     "worksheet-only"
    ]
   },
   "source": [
    "<p style=\"height:8em;\"></p>"
   ]
  },
  {
   "cell_type": "markdown",
   "id": "0d6e973f-e418-46ad-a273-9deec52bd6bc",
   "metadata": {
    "slideshow": {
     "slide_type": "subslide"
    },
    "tags": []
   },
   "source": [
    "* Q5: _What are all possible outputs produced by this program?_"
   ]
  },
  {
   "cell_type": "code",
   "execution_count": null,
   "id": "9f47a05f-9ace-4811-a53a-c949691eb406",
   "metadata": {},
   "outputs": [],
   "source": [
    "/* 1*/  #include <stdio.h>\n",
    "/* 2*/  #include <stdlib.h>\n",
    "/* 3*/  void *thread_main(void *arg) {\n",
    "/* 4*/      char *id = (char *)arg;\n",
    "/* 5*/      printf(\"I am thread %c\\n\", *id);\n",
    "/* 6*/      return NULL;\n",
    "/* 7*/  }\n",
    "/* 8*/  int main() {\n",
    "/* 9*/      char *a = malloc(sizeof(char));\n",
    "/*10*/      *a = 'A';\n",
    "/*11*/      char *b = malloc(sizeof(char));\n",
    "/*12*/      *b = 'B';\n",
    "/*13*/      // Create thread running thread_main(a)\n",
    "/*14*/      // Create thread running thread_main(b)\n",
    "/*15*/      // Wait for threads to finish\n",
    "/*16*/  }"
   ]
  },
  {
   "cell_type": "markdown",
   "id": "879c647b-7dbf-4891-91c0-5a3c8fa1630c",
   "metadata": {
    "slideshow": {
     "slide_type": "skip"
    },
    "tags": [
     "notes-only"
    ]
   },
   "source": [
    "```\n",
    "I am thread A\n",
    "I am thread B\n",
    "```\n",
    "OR\n",
    "```\n",
    "I am thread B\n",
    "I am thread A\n",
    "```"
   ]
  }
 ],
 "metadata": {
  "kernelspec": {
   "display_name": "C",
   "language": "c",
   "name": "c"
  },
  "language_info": {
   "file_extension": ".c",
   "mimetype": "c",
   "name": "c"
  }
 },
 "nbformat": 4,
 "nbformat_minor": 5
}
