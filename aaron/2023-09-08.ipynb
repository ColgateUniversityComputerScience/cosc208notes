{
 "cells": [
  {
   "cell_type": "markdown",
   "id": "7f1ef6ff-3d55-41d4-a087-f6ad0221f41a",
   "metadata": {
    "slideshow": {
     "slide_type": "skip"
    },
    "tags": []
   },
   "source": [
    "# Number representation: type conversion; binary arithmetic\n",
    "_COSC 208, Introduction to Computer Systems, 2023-09-08_"
   ]
  },
  {
   "cell_type": "markdown",
   "id": "e4101c49-313a-40aa-9554-8b414a08008f",
   "metadata": {
    "slideshow": {
     "slide_type": "skip"
    },
    "tags": []
   },
   "source": [
    "## Announcements\n",
    "* Project 1 due Thurs, Sept 21 @ 11pm"
   ]
  },
  {
   "cell_type": "markdown",
   "id": "c39c0ff4-433c-45ab-abd3-3547ed1fc965",
   "metadata": {
    "slideshow": {
     "slide_type": "skip"
    },
    "tags": []
   },
   "source": [
    "## Outline\n",
    "* Warm-up\n",
    "* Type conversion\n",
    "* Project 1 overview\n",
    "* Binary arithmetic"
   ]
  },
  {
   "cell_type": "markdown",
   "id": "1ce60573-d0d9-4ce0-b186-179f6a2ed10e",
   "metadata": {
    "slideshow": {
     "slide_type": "slide"
    },
    "tags": []
   },
   "source": [
    "## Warm-up (Q11-Q14 from last class)"
   ]
  },
  {
   "cell_type": "markdown",
   "id": "afbaa29e-bd9b-47f7-9a36-263e7712fd1f",
   "metadata": {
    "tags": []
   },
   "source": [
    "_Express the following decimal numbers using 8-bit two's complement:_\n",
    "* Q1: `13`"
   ]
  },
  {
   "cell_type": "markdown",
   "id": "c6955ba0-8691-4b04-8c37-3591750d3c67",
   "metadata": {
    "slideshow": {
     "slide_type": "skip"
    },
    "tags": [
     "notes-only"
    ]
   },
   "source": [
    "    0b00001101"
   ]
  },
  {
   "cell_type": "markdown",
   "id": "a6a8a0e6-7e95-411b-90b4-573175b87b1c",
   "metadata": {
    "slideshow": {
     "slide_type": "skip"
    },
    "tags": [
     "worksheet-only"
    ]
   },
   "source": [
    "<p style=\"height:6em;\"></p>"
   ]
  },
  {
   "cell_type": "markdown",
   "id": "b6811fd7-9b03-4ad6-9f7f-92abcf401df9",
   "metadata": {
    "tags": []
   },
   "source": [
    "* Q2: `-128`"
   ]
  },
  {
   "cell_type": "markdown",
   "id": "d74573a9-a967-4036-a881-d4019e9d6ccd",
   "metadata": {
    "slideshow": {
     "slide_type": "skip"
    },
    "tags": [
     "notes-only"
    ]
   },
   "source": [
    "    0b10000000"
   ]
  },
  {
   "cell_type": "markdown",
   "id": "b152b088-a724-4771-be83-8f455471a557",
   "metadata": {
    "slideshow": {
     "slide_type": "skip"
    },
    "tags": [
     "worksheet-only"
    ]
   },
   "source": [
    "<p style=\"height:6em;\"></p>"
   ]
  },
  {
   "cell_type": "markdown",
   "id": "f19994b7-fbfc-46f5-a230-33896b7d202a",
   "metadata": {
    "tags": []
   },
   "source": [
    "* Q3: `-64`"
   ]
  },
  {
   "cell_type": "markdown",
   "id": "b65f9ec0-a88a-4eaf-b350-e3e692167477",
   "metadata": {
    "slideshow": {
     "slide_type": "skip"
    },
    "tags": [
     "notes-only"
    ]
   },
   "source": [
    "    0b11000000"
   ]
  },
  {
   "cell_type": "markdown",
   "id": "935aa75f-6f5f-4ef7-945d-f723496b0547",
   "metadata": {
    "slideshow": {
     "slide_type": "skip"
    },
    "tags": [
     "worksheet-only"
    ]
   },
   "source": [
    "<p style=\"height:6em;\"></p>"
   ]
  },
  {
   "cell_type": "markdown",
   "id": "340239c2-6c87-4485-aebb-be4a9a0a20c3",
   "metadata": {
    "tags": []
   },
   "source": [
    "* Q4: `-1`"
   ]
  },
  {
   "cell_type": "markdown",
   "id": "7afa1101-b6a1-454b-ba87-09f759e816e8",
   "metadata": {
    "slideshow": {
     "slide_type": "skip"
    },
    "tags": [
     "notes-only"
    ]
   },
   "source": [
    "    0b11111111"
   ]
  },
  {
   "cell_type": "markdown",
   "id": "48defbc8-3dee-497e-839e-ae3b6a86f342",
   "metadata": {
    "slideshow": {
     "slide_type": "skip"
    },
    "tags": [
     "worksheet-only"
    ]
   },
   "source": [
    "<p style=\"height:6em;\"></p>\n",
    "\n",
    "🛑 **STOP here** after completing the above questions; if you have extra time please **skip ahead** to the extra practice."
   ]
  },
  {
   "cell_type": "markdown",
   "id": "f05ea6ff-cb58-493e-a0c2-4fa5cb01cb8b",
   "metadata": {
    "slideshow": {
     "slide_type": "skip"
    },
    "tags": [
     "notes-only"
    ]
   },
   "source": [
    "* _What is the easy way to negate a number?_\n",
    "    * Flip all bits and add 1\n",
    "    * Example: \n",
    "        * 11 = `0b00001011`\n",
    "        * Flip bits: `0b11110100`\n",
    "        * Add 1: `0b11110101`"
   ]
  },
  {
   "cell_type": "markdown",
   "id": "6b2d45e2-72ce-4220-b235-8f48ff08d9b5",
   "metadata": {
    "slideshow": {
     "slide_type": "slide"
    },
    "tags": []
   },
   "source": [
    "## Type conversion"
   ]
  },
  {
   "cell_type": "markdown",
   "id": "3c8cdbe9-b02d-48d9-8646-4e0e3ff9fa1e",
   "metadata": {
    "slideshow": {
     "slide_type": "skip"
    },
    "tags": [
     "notes-only"
    ]
   },
   "source": [
    "* Format specifiers for printing decimal numbers indicate whether to interpret the number as signed or unsigned – e.g.,"
   ]
  },
  {
   "cell_type": "code",
   "execution_count": 1,
   "id": "fc8fe166-e15a-4a91-a9fe-58297baea8b0",
   "metadata": {
    "tags": [
     "worksheet-code-only"
    ]
   },
   "outputs": [
    {
     "name": "stdout",
     "output_type": "stream",
     "text": [
      "-123456 4294843840\n"
     ]
    }
   ],
   "source": [
    "// Example 1\n",
    "#include <stdio.h>\n",
    "int main() {\n",
    "    int x = -123456;\n",
    "    printf(\"%d %u\\n\", x, x);\n",
    "}"
   ]
  },
  {
   "cell_type": "markdown",
   "id": "69661ad4-375b-4513-97dc-addefc7d4038",
   "metadata": {
    "slideshow": {
     "slide_type": "skip"
    },
    "tags": [
     "notes-only"
    ]
   },
   "source": [
    "* Range of numbers each type can accommodate depends on the number of bits of memory reserved for a variable of that type\n",
    "    * `char` - 8 bits --> 0 to 255 (unsigned) or -128 to 127 (signed)\n",
    "    * `int` – 32 bits --> 0 to ~4.2 billion (unsigned) or ~-2.1 billion to ~2.1 billion (signed)\n",
    "    * `long` – 64 bits --> 0 to ~18 quadrillion (unsigned) or ~-9 quadrillion to 9 quadrillion (signed)\n",
    "* _What happens if you attempt to assign a constant value that is too large to represent using the number of available bits?_ – e.g.,"
   ]
  },
  {
   "cell_type": "code",
   "execution_count": 4,
   "id": "e839d74d-b5b9-496b-a274-752d700c913e",
   "metadata": {
    "slideshow": {
     "slide_type": "subslide"
    },
    "tags": [
     "worksheet-code-only"
    ]
   },
   "outputs": [
    {
     "name": "stderr",
     "output_type": "stream",
     "text": [
      "/var/folders/bd/35sz70xs5837wszrx11bw1yc0000gn/T/tmph0fix2tx.c:3:23: warning: implicit conversion from 'int' to 'unsigned char' changes value from 300 to 44 [-Wconstant-conversion]\n",
      "    unsigned char c = 300;\n",
      "                  ~   ^~~\n",
      "1 warning generated.\n"
     ]
    },
    {
     "name": "stdout",
     "output_type": "stream",
     "text": [
      "44\n"
     ]
    }
   ],
   "source": [
    "// Example 2\n",
    "#include <stdio.h>\n",
    "int main() {\n",
    "    unsigned char c = 300;\n",
    "    printf(\"%u\\n\", c);\n",
    "}"
   ]
  },
  {
   "cell_type": "markdown",
   "id": "6ee0aa4c-aa72-44fc-8d40-0e9084ad1afb",
   "metadata": {
    "slideshow": {
     "slide_type": "skip"
    },
    "tags": [
     "notes-only"
    ]
   },
   "source": [
    "* However, if you assign a variable whose value is too large to represent using the number of available bits, then the value is truncated but **no warning is generated** – e.g.,"
   ]
  },
  {
   "cell_type": "code",
   "execution_count": 5,
   "id": "9d6c3713-a465-4c70-9b30-ee4db1a0e030",
   "metadata": {
    "slideshow": {
     "slide_type": "subslide"
    },
    "tags": [
     "worksheet-code-only"
    ]
   },
   "outputs": [
    {
     "name": "stdout",
     "output_type": "stream",
     "text": [
      "44\n"
     ]
    }
   ],
   "source": [
    "// Example 3\n",
    "#include <stdio.h>\n",
    "int main() {\n",
    "    unsigned int i = 300;\n",
    "    unsigned char c = i;\n",
    "    printf(\"%u\\n\", c);\n",
    "}"
   ]
  },
  {
   "cell_type": "markdown",
   "id": "f2548a19-8c2d-48cb-9007-c16f0b7c138e",
   "metadata": {
    "slideshow": {
     "slide_type": "skip"
    },
    "tags": [
     "notes-only"
    ]
   },
   "source": [
    "* Takeaway: carefully consider the range of values a variable can accommodate, because C will let you do things that are dangerous"
   ]
  },
  {
   "cell_type": "markdown",
   "id": "cd33ef0d-e2fc-4ffd-8421-c0da27cd1d01",
   "metadata": {
    "slideshow": {
     "slide_type": "slide"
    },
    "tags": []
   },
   "source": [
    "## Project 1 overview"
   ]
  },
  {
   "cell_type": "markdown",
   "id": "775c4abb-7509-421f-9f73-3bbf79cff733",
   "metadata": {},
   "source": [
    "* Standards assessed\n",
    "    * 1.1: Use the Linux command line to navigate directories and run programs\n",
    "    * 1.2: Use variables, operators, conditionals, loops, and functions appropriately in C code\n",
    "    * 2.1: Convert signed and unsigned numbers between decimal, binary, and hexadecimal\n",
    "    * 2.2: Compute the results of arithmetic, logical, and bitwise operators in binary (includes overflow or underflow)\n",
    "    * 3.1: Use arrays, pointers, dynamic memory allocation, and structs appropriately in C code\n",
    "* Reminder: **Projects must be completed with a partner** (from any course section). You may switch partners between projects, but you should inform your partner of your decision as soon as possible. Contact Aaron if you would like help finding a partner or you want to complete a project on your own. "
   ]
  },
  {
   "cell_type": "markdown",
   "id": "e6c281c0-42f0-4160-8908-833e3cfb19ac",
   "metadata": {
    "slideshow": {
     "slide_type": "subslide"
    },
    "tags": []
   },
   "source": [
    "* Reminder: policy on Academic Integrity\n",
    "    \n",
    "    “Set[ting] an example of ethical behavior in public and in private” is one of the 13 goals of a Colgate education. As part of this goal, Colgate has an **academic honor code** (https://colgate.edu/current-students/student-handbook/student-rights-and-responsibilities/ academic-honor-code-and) you are expected to follow. Additionally, “a computing professional should uphold, promote, and respect the principles of the **Association for Computing Machinery (ACM) Code of Ethics and Professional Conduct”** (https://www.acm.org/code-of-ethics).\n",
    "    \n",
    "\n",
    "    In particular, you **may not share or copy code/answers from other students.** Violations of this policy will be considered facilitating academic misconduct and/or cheating according to Colgate’s academic honor code.\n",
    "    \n",
    "    Additionally, you **must clearly indicate if any code is copied from or inspired by external sources** (e.g., Stack Overflow, ChatGPT, GitHub Copilot) and adhere to the licensing requirements of such code. Violations of this policy will be considered cheating or plagiarism according to Colgate’s academic honor code. Note that question and answer forums (e.g., Stack Overflow) are often unreliable, and AI-based tools (e.g., ChatGPT) have significant limitations and legal complications.\n",
    "    \n",
    "    **If you are struggling to complete an activity—due to a lack of understanding, time pressure, personal matters, etc.—please contact me. I want you to succeed, and I will do everything I can to help you.** Violating the academic honesty expectations for the course (almost) always leads to a bad experience for you and me. If you are unsure what constitutes academic misconduct, please contact me as soon as possible."
   ]
  },
  {
   "cell_type": "markdown",
   "id": "2d12daf8-9263-4601-bdd2-15675b3940d9",
   "metadata": {
    "slideshow": {
     "slide_type": "slide"
    },
    "tags": []
   },
   "source": [
    "## Binary arithmetic"
   ]
  },
  {
   "cell_type": "markdown",
   "id": "d58f5202-2a98-4a11-9dd0-fefec3d2f204",
   "metadata": {
    "slideshow": {
     "slide_type": "skip"
    },
    "tags": [
     "notes-only"
    ]
   },
   "source": [
    "_Postponed to next class_"
   ]
  },
  {
   "cell_type": "markdown",
   "id": "7d0ad399-063a-46b0-b6e8-4e0451d3d121",
   "metadata": {
    "slideshow": {
     "slide_type": "slide"
    },
    "tags": []
   },
   "source": [
    "## Extra practice"
   ]
  },
  {
   "cell_type": "markdown",
   "id": "5c616d2e-611a-491d-9da3-3b39b8dfb6b7",
   "metadata": {
    "slideshow": {
     "slide_type": "slide"
    },
    "tags": []
   },
   "source": [
    "_Express the following decimal numbers using 8-bit two's complement:_\n",
    "* Q10: `-49`"
   ]
  },
  {
   "cell_type": "markdown",
   "id": "4290317c-b315-4069-89b2-f49545ed011b",
   "metadata": {
    "slideshow": {
     "slide_type": "skip"
    },
    "tags": [
     "notes-only"
    ]
   },
   "source": [
    "    0b11001111"
   ]
  },
  {
   "cell_type": "markdown",
   "id": "2f89d613-64bb-4000-a57e-96072fc42c0f",
   "metadata": {
    "slideshow": {
     "slide_type": "skip"
    },
    "tags": [
     "worksheet-only"
    ]
   },
   "source": [
    "<p style=\"height:5em;\"></p>"
   ]
  },
  {
   "cell_type": "markdown",
   "id": "9912261c-b97d-490d-8a25-42c23a77b2d7",
   "metadata": {
    "jp-MarkdownHeadingCollapsed": true,
    "tags": []
   },
   "source": [
    "* Q11: `-11`"
   ]
  },
  {
   "cell_type": "markdown",
   "id": "04bc736b-417b-4abf-b634-a32ad9901983",
   "metadata": {
    "slideshow": {
     "slide_type": "skip"
    },
    "tags": [
     "notes-only"
    ]
   },
   "source": [
    "    0b11110101"
   ]
  },
  {
   "cell_type": "markdown",
   "id": "e6896632-dab4-4e46-bcd9-e0c2f837eba0",
   "metadata": {
    "slideshow": {
     "slide_type": "skip"
    },
    "tags": [
     "worksheet-only"
    ]
   },
   "source": [
    "<p style=\"height:5em;\"></p>"
   ]
  },
  {
   "cell_type": "markdown",
   "id": "f9e4ce32-e1b0-4478-a3d7-cc9bd91d8bdc",
   "metadata": {
    "tags": []
   },
   "source": [
    "* Q12: _Write a function called `valid_hex` that takes a string and returns 1 if it is a valid hexadecimal number; otherwise return 0. A valid hexadecimal number must start with `0x` and only contain the digits `0`-`9` and letters `A`-`F` (in upper or lower case)._"
   ]
  },
  {
   "cell_type": "code",
   "execution_count": 9,
   "id": "2032eaa5-25b8-4f29-bff9-7743386d608f",
   "metadata": {
    "slideshow": {
     "slide_type": "skip"
    },
    "tags": [
     "notes-only"
    ]
   },
   "outputs": [],
   "source": [
    "#include <string.h>\n",
    "int valid_hex(char str[]) {\n",
    "    if (str[0] != '0' || str[1] != 'x') {\n",
    "        return 0;\n",
    "    }\n",
    "    for (int i = 2; i < strlen(str); i++) {\n",
    "        if (!((str[i] >= '0' && str[i] <= '9') \n",
    "            || (str[i] >= 'A' && str[i] <= 'F') \n",
    "            || (str[i] >= 'a' && str[i] <= 'f'))) {\n",
    "            return 0;\n",
    "        }\n",
    "    }\n",
    "    return 1;\n",
    "}\n",
    "// Testing\n",
    "#include <assert.h>\n",
    "int main() {\n",
    "    assert(valid_hex(\"0x12AB34\"));\n",
    "    assert(!valid_hex(\"12AB34\"));\n",
    "    assert(!valid_hex(\"0x12HI34\"));\n",
    "}"
   ]
  },
  {
   "cell_type": "markdown",
   "id": "0107a9a2-32ae-496b-9d75-00b86626bc78",
   "metadata": {
    "slideshow": {
     "slide_type": "skip"
    },
    "tags": [
     "worksheet-only"
    ]
   },
   "source": [
    "<p style=\"height:20em;\"></p>"
   ]
  },
  {
   "cell_type": "markdown",
   "id": "e36a964e-3628-421a-a8a6-4751433db6ca",
   "metadata": {},
   "source": [
    "* Q13: _Write a function called `bits_required` that takes an `unsigned long` decimal (i.e., base 10) number and returns the minimum number of bits required to represent the number._"
   ]
  },
  {
   "cell_type": "code",
   "execution_count": 11,
   "id": "76b19e6d-fdef-418d-95fc-01ba4f274188",
   "metadata": {
    "slideshow": {
     "slide_type": "skip"
    },
    "tags": [
     "notes-only"
    ]
   },
   "outputs": [],
   "source": [
    "int bits_required(unsigned long number) {\n",
    "    int bits = 0;\n",
    "    while (number > 0) {\n",
    "        bits++;\n",
    "        number = number / 2;\n",
    "    }\n",
    "    return bits;\n",
    "}\n",
    "// Testing\n",
    "#include <assert.h>\n",
    "int main() {\n",
    "    assert(bits_required(1) == 1);\n",
    "    assert(bits_required(2) == 2);\n",
    "    assert(bits_required(3) == 2);\n",
    "    assert(bits_required(10) == 4);\n",
    "}"
   ]
  },
  {
   "cell_type": "markdown",
   "id": "8a48c9d9-0c85-4378-84dd-f56ce43be828",
   "metadata": {
    "slideshow": {
     "slide_type": "skip"
    },
    "tags": [
     "worksheet-only"
    ]
   },
   "source": [
    "<p style=\"height:20em;\"></p>"
   ]
  },
  {
   "cell_type": "markdown",
   "id": "69d962f5-a5f2-4b6a-9bd7-36d9869ee724",
   "metadata": {
    "slideshow": {
     "slide_type": "subslide"
    },
    "tags": []
   },
   "source": [
    "* Q14: _Convert `0xFAB` to binary._"
   ]
  },
  {
   "cell_type": "markdown",
   "id": "472e4a07-e735-4def-ab6c-d9f7b7c9da03",
   "metadata": {
    "slideshow": {
     "slide_type": "skip"
    },
    "tags": [
     "notes-only"
    ]
   },
   "source": [
    "    0b111110101011"
   ]
  },
  {
   "cell_type": "markdown",
   "id": "64ae424d-430a-4b7c-99d2-b4636a721435",
   "metadata": {
    "slideshow": {
     "slide_type": "skip"
    },
    "tags": [
     "worksheet-only"
    ]
   },
   "source": [
    "<p style=\"height:4em;\"></p>"
   ]
  },
  {
   "cell_type": "markdown",
   "id": "bfccd889-8812-4c97-84ca-deded94c73f4",
   "metadata": {},
   "source": [
    "* Q15: _Convert `512` to unsigned binary._"
   ]
  },
  {
   "cell_type": "markdown",
   "id": "210e51ed-c51e-45bb-ad03-6a3457e9c40f",
   "metadata": {
    "slideshow": {
     "slide_type": "skip"
    },
    "tags": [
     "notes-only"
    ]
   },
   "source": [
    "    0b1000000000"
   ]
  },
  {
   "cell_type": "markdown",
   "id": "6fc2f025-b168-4e3a-b7c1-f4e3d5c71090",
   "metadata": {
    "slideshow": {
     "slide_type": "skip"
    },
    "tags": [
     "worksheet-only"
    ]
   },
   "source": [
    "<p style=\"height:4em;\"></p>"
   ]
  },
  {
   "cell_type": "markdown",
   "id": "57fd1608-a72a-4e1b-a895-dc7df3e1bcd3",
   "metadata": {},
   "source": [
    "* Q16: _Convert `-42` to 8-bit signed binary._"
   ]
  },
  {
   "cell_type": "markdown",
   "id": "48403128-c396-4404-8f4a-9f520a3d4e17",
   "metadata": {
    "slideshow": {
     "slide_type": "skip"
    },
    "tags": [
     "notes-only"
    ]
   },
   "source": [
    "    0b11010110"
   ]
  },
  {
   "cell_type": "markdown",
   "id": "611ebb70-7e17-4a73-8878-cf9959eabea5",
   "metadata": {
    "slideshow": {
     "slide_type": "skip"
    },
    "tags": [
     "worksheet-only"
    ]
   },
   "source": [
    "<p style=\"height:4em;\"></p>"
   ]
  }
 ],
 "metadata": {
  "kernelspec": {
   "display_name": "C",
   "language": "c",
   "name": "c"
  },
  "language_info": {
   "file_extension": ".c",
   "mimetype": "c",
   "name": "c"
  }
 },
 "nbformat": 4,
 "nbformat_minor": 5
}
