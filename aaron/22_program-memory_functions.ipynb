{
 "cells": [
  {
   "cell_type": "markdown",
   "id": "f118a68e-b3cd-442e-acc0-dbdb88e2ac71",
   "metadata": {
    "editable": true,
    "slideshow": {
     "slide_type": "skip"
    },
    "tags": []
   },
   "source": [
    "# Program memory: pointers; functions & pointers\n",
    "_COSC 208, Introduction to Computer Systems, Fall 2025_"
   ]
  },
  {
   "cell_type": "markdown",
   "id": "9f0ddbff-3523-47fa-ac9d-96c7aaaa09d3",
   "metadata": {
    "slideshow": {
     "slide_type": "slide"
    },
    "tags": []
   },
   "source": [
    "## Pointers"
   ]
  },
  {
   "cell_type": "markdown",
   "id": "e4d97ec4-1f73-452c-9519-bbe90435de87",
   "metadata": {
    "slideshow": {
     "slide_type": "skip"
    },
    "tags": [
     "notes-only"
    ]
   },
   "source": [
    "* A special type of variable that holds a memory address\n",
    "    * A pointer \"points to\" a location in memory\n",
    "* Declaration consists of:\n",
    "    * Type of value stored in memory at the address stored in the pointer variable\n",
    "    * Asterisk (`*`)\n",
    "    * Name of pointer variable\n",
    "    * Example: `int *p` — declares a pointer variable `p` that refers to a memory location where an integer is stored\n",
    "* Can be used to indirectly read and write another variable\n",
    "* Address-of (`&`) operator obtains the memory address where a variable is stored\n",
    "* De-reference (*) operator is used to refer to the value stored at the memory address contained in the pointer variable"
   ]
  },
  {
   "cell_type": "markdown",
   "id": "bf834fb9-9c87-4838-bc32-420c5a85d134",
   "metadata": {
    "slideshow": {
     "slide_type": "skip"
    },
    "tags": [
     "notes-only"
    ]
   },
   "source": [
    "* Example"
   ]
  },
  {
   "cell_type": "code",
   "execution_count": 12,
   "id": "cf497146-21f9-4e41-83fe-1ffbed147074",
   "metadata": {
    "slideshow": {
     "slide_type": "skip"
    },
    "tags": [
     "notes-only"
    ]
   },
   "outputs": [
    {
     "name": "stdout",
     "output_type": "stream",
     "text": [
      "0x7ff7b8d6d4bc\n",
      "42\n",
      "43 43\n"
     ]
    }
   ],
   "source": [
    "#include <stdio.h>\n",
    "int main() {\n",
    "    int i = 42;\n",
    "    int *p = &i; // p now contains the address where the \n",
    "                 //     value of variable i is stored\n",
    "                 // p “points-to” i\n",
    "    printf(\"%p\\n\", p);\n",
    "    printf(\"%d\\n\", *p); // Outputs 42, because p contains the memory address \n",
    "                       //     where i is stored (i.e., p points-to i), and the \n",
    "                       //     variable i currently contains the value 42\n",
    "    *p = *p + 1; // Updates the value in variable i to 43, because p \n",
    "                 //     contains the memory address where i is stored \n",
    "                 //     (i.e., p points-to i)\n",
    "    printf(\"%d %d\\n\", i, *p);\n",
    "}"
   ]
  },
  {
   "cell_type": "markdown",
   "id": "8a432946-52f6-4751-8cac-a05d062a2b6f",
   "metadata": {
    "slideshow": {
     "slide_type": "skip"
    },
    "tags": [
     "notes-only"
    ]
   },
   "source": [
    "* _What happens if we assign a value to the pointer variable without dereferencing the pointer?_ — we update the memory address stored in the pointer variable; we point to a new location in memory"
   ]
  },
  {
   "cell_type": "markdown",
   "id": "800cdcf8-1138-461c-966f-9e19413de87b",
   "metadata": {
    "editable": true,
    "slideshow": {
     "slide_type": "subslide"
    },
    "tags": [
     "question"
    ]
   },
   "source": [
    "Q1: _What does the following program output?_"
   ]
  },
  {
   "cell_type": "code",
   "execution_count": 7,
   "id": "f550b42a-b3e5-4ca3-b7e4-07054e3ccac6",
   "metadata": {
    "editable": true,
    "slideshow": {
     "slide_type": ""
    },
    "tags": [
     "worksheet-code-only"
    ]
   },
   "outputs": [
    {
     "name": "stdout",
     "output_type": "stream",
     "text": [
      "1 2 1 2\n",
      "5 7 5 7\n",
      "9 10 9 10\n",
      "9 10 10 10\n"
     ]
    }
   ],
   "source": [
    "#include <stdio.h>\n",
    "int main() {\n",
    "    int a = 1;\n",
    "    int b = 2;\n",
    "    int *x = &a;\n",
    "    int *y = &b;\n",
    "    printf(\"%d %d %d %d\\n\", a, b, *x, *y);\n",
    "    a = 5;\n",
    "    *y = 7;\n",
    "    printf(\"%d %d %d %d\\n\", a, b, *x, *y);\n",
    "    *x = *x + 4;\n",
    "    b = b + 3;\n",
    "    printf(\"%d %d %d %d\\n\", a, b, *x, *y);\n",
    "    x = y;\n",
    "    printf(\"%d %d %d %d\\n\", a, b, *x, *y);\n",
    "}"
   ]
  },
  {
   "cell_type": "markdown",
   "id": "16c22f86-fd79-4947-a8f9-5d978b180ba4",
   "metadata": {
    "editable": true,
    "slideshow": {
     "slide_type": "skip"
    },
    "tags": [
     "blank"
    ]
   },
   "source": [
    "<p style=\"height:6em;\"></p>"
   ]
  },
  {
   "cell_type": "markdown",
   "id": "e277ec6f-7bbf-455a-ae93-a8c1b971bf65",
   "metadata": {
    "editable": true,
    "slideshow": {
     "slide_type": "subslide"
    },
    "tags": [
     "question"
    ]
   },
   "source": [
    "Q2: _Write a program that:_\n",
    "1. _Stores the character 'A' in a variable_\n",
    "2. _Creates and uses a pointer to print the character_\n",
    "3. _Uses the same pointer to change the character to 'B'_\n",
    "4. _Uses the same pointer to advance the character by 3 (to 'E')_\n",
    "5. _Creates and uses a second pointer to print the character_"
   ]
  },
  {
   "cell_type": "code",
   "execution_count": 8,
   "id": "f5581994-5b1b-4a85-8b2a-a47eda62a603",
   "metadata": {
    "editable": true,
    "slideshow": {
     "slide_type": "skip"
    },
    "tags": [
     "answer"
    ]
   },
   "outputs": [
    {
     "name": "stdout",
     "output_type": "stream",
     "text": [
      "A\n",
      "E\n"
     ]
    }
   ],
   "source": [
    "#include <stdio.h>\n",
    "int main() {\n",
    "    char ch = 'A';\n",
    "    char *ptr = &ch;\n",
    "    printf(\"%c\\n\", *ptr);\n",
    "    *ptr = 'B';\n",
    "    *ptr = *ptr + 3;\n",
    "    char *ptr2 = ptr;\n",
    "    printf(\"%c\\n\", *ptr2);\n",
    "}"
   ]
  },
  {
   "cell_type": "markdown",
   "id": "8b3faf9d-55cf-4be4-85db-a6c33d1e461f",
   "metadata": {
    "editable": true,
    "slideshow": {
     "slide_type": "skip"
    },
    "tags": [
     "blank"
    ]
   },
   "source": [
    "<p style=\"height:15em;\"></p>"
   ]
  },
  {
   "cell_type": "markdown",
   "id": "ab7be12d-bc75-4eb5-a058-274cfe5a097e",
   "metadata": {
    "editable": true,
    "slideshow": {
     "slide_type": "subslide"
    },
    "tags": [
     "question"
    ]
   },
   "source": [
    "Q3: _What does the following program output?_"
   ]
  },
  {
   "cell_type": "code",
   "execution_count": null,
   "id": "1b8d6752-dcd2-4421-b65e-7a190950662c",
   "metadata": {
    "editable": true,
    "slideshow": {
     "slide_type": ""
    },
    "tags": [
     "worksheet-code-only"
    ]
   },
   "outputs": [
    {
     "name": "stdout",
     "output_type": "stream",
     "text": [
      "S S 3 3 3\n",
      "B B 2 2 2\n",
      "D D 2 2 2\n"
     ]
    }
   ],
   "source": [
    "#include <stdio.h>\n",
    "int main() {\n",
    "    char s = 'S';\n",
    "    char *t = &s;\n",
    "    int u = 3;\n",
    "    int *v = &u;\n",
    "    int *w = v;\n",
    "    printf(\"%c %c %d %d %d\\n\", s, *t, u, *v, *w);\n",
    "    *t = 'B';\n",
    "    u = 2;\n",
    "    printf(\"%c %c %d %d %d\\n\", s, *t, u, *v, *w);\n",
    "    s = s + *v;\n",
    "    printf(\"%c %c %d %d %d\\n\", s, *t, u, *v, *w);\n",
    "}"
   ]
  },
  {
   "cell_type": "markdown",
   "id": "f35daf33-cb58-423b-8f07-dc8cf52819f7",
   "metadata": {
    "editable": true,
    "slideshow": {
     "slide_type": "skip"
    },
    "tags": [
     "blank"
    ]
   },
   "source": [
    "<p style=\"height:8em;\"></p>"
   ]
  },
  {
   "cell_type": "markdown",
   "id": "6518ea1e-1434-4525-a06d-83978c2fb54a",
   "metadata": {},
   "source": [
    "## Program stack"
   ]
  },
  {
   "cell_type": "markdown",
   "id": "6eea694d-3ab9-4d15-83fc-50417f0d35f7",
   "metadata": {},
   "source": [
    "* Stores data for functions that are currently executing\n",
    "* Stored in random access memory (RAM)\n",
    "* Composed of stack frames\n",
    "    * A stack frame contains the values stored in a functions's local variables and formal parameters\n",
    "    * The size of the stack frame is determined by the number and type of local variables and formal parameters\n",
    "    * A stack frame is added to the top of the stack when a function is called\n",
    "    * A stack frame is removed from the top of the stack when a function returns"
   ]
  },
  {
   "cell_type": "markdown",
   "id": "5fafea93-f896-46c9-b3ab-c0153f520eeb",
   "metadata": {},
   "source": [
    "Example"
   ]
  },
  {
   "cell_type": "code",
   "execution_count": null,
   "id": "37204949",
   "metadata": {},
   "outputs": [
    {
     "name": "stdout",
     "output_type": "stream",
     "text": [
      "68F is 20C\n"
     ]
    }
   ],
   "source": [
    "#include <stdio.h>\n",
    "int multiply(int z) {\n",
    "    return z * 5 / 9;\n",
    "}\n",
    "int subtract(int x, int y) {\n",
    "    return x - y;\n",
    "}\n",
    "int convert(int t) {\n",
    "    int u = subtract(t, 32);\n",
    "    int v = multiply(u);\n",
    "    return v;\n",
    "}\n",
    "int main() {\n",
    "    int f = 68;\n",
    "    int c = convert(68);\n",
    "    printf(\"%dF is %dC\\n\", f, c); \n",
    "}"
   ]
  },
  {
   "cell_type": "markdown",
   "id": "b057a6e6-e604-477b-b949-c455cfe69f9f",
   "metadata": {},
   "source": [
    "* Use [C tutor](https://pythontutor.com/c.html) to visualize the stack during C code execution"
   ]
  },
  {
   "cell_type": "markdown",
   "id": "d0e15cea-dc95-41f2-b03c-b5de631b5193",
   "metadata": {},
   "source": [
    "<div style=\"height:20em;\"></div>"
   ]
  },
  {
   "cell_type": "markdown",
   "id": "4ac1362f-05f5-478f-b346-62b6dffea29b",
   "metadata": {},
   "source": [
    "Q4: _What is the output of this program?_"
   ]
  },
  {
   "cell_type": "code",
   "execution_count": null,
   "id": "24d6508e",
   "metadata": {},
   "outputs": [
    {
     "name": "stdout",
     "output_type": "stream",
     "text": [
      "3 7 7\n"
     ]
    }
   ],
   "source": [
    "#include <stdio.h>\n",
    "int copy(int a, int b) {\n",
    "    a = b;\n",
    "    return a;\n",
    "}\n",
    "int main() {\n",
    "    int x = 3;\n",
    "    int y = 7;\n",
    "    int z = copy(x, y);\n",
    "    printf(\"%d %d %d\\n\", x, y, z);\n",
    "}"
   ]
  },
  {
   "cell_type": "markdown",
   "id": "3ab524a5-fba4-4b1b-8aae-6a8984078efc",
   "metadata": {},
   "source": [
    "<div style=\"height:2em;\"></div>"
   ]
  },
  {
   "cell_type": "markdown",
   "id": "eced57e3-b54e-402d-8066-ddc53b4996d3",
   "metadata": {},
   "source": [
    "Q5: _Draw the contents of the stack **immediately before the program prints \"1 x 2\"**_"
   ]
  },
  {
   "cell_type": "code",
   "execution_count": null,
   "id": "ac9d0fe2",
   "metadata": {},
   "outputs": [
    {
     "name": "stdout",
     "output_type": "stream",
     "text": [
      "3^2 is 9\n",
      "1 x 2\n",
      "2 x 2\n",
      "4 x 2\n",
      "2^3 is 8\n"
     ]
    }
   ],
   "source": [
    "#include <stdio.h>\n",
    "int squared(int base) {\n",
    "    return base * base;\n",
    "}\n",
    "int dbl(int num) {\n",
    "    printf(\"%d x 2\\n\", num);\n",
    "    return num * 2;   \n",
    "}\n",
    "int two(int exponent) {\n",
    "    int result = 1;\n",
    "    for (int i = 0; i < exponent; i++) {\n",
    "        result = dbl(result);\n",
    "    }\n",
    "    return result;\n",
    "}\n",
    "int main() {\n",
    "    int n = 3;\n",
    "    int s = squared(3);\n",
    "    printf(\"%d^2 is %d\\n\", n, s);\n",
    "    int t = two(3);\n",
    "    printf(\"2^%d is %d\\n\", n, t);\n",
    "}"
   ]
  },
  {
   "cell_type": "markdown",
   "id": "fd447ca2-e58d-4df6-bce0-234f6d253d73",
   "metadata": {},
   "source": [
    "* Use [C tutor](https://pythontutor.com/c.html) to visualize the execution of this program and check your drawing"
   ]
  },
  {
   "cell_type": "markdown",
   "id": "e6668ff8-acec-4f9b-b98f-f2f7301805b0",
   "metadata": {},
   "source": [
    "<div class=\"blank\" style=\"height:15em;\"></div>"
   ]
  },
  {
   "cell_type": "markdown",
   "id": "a06a3fa3-258a-4fcb-9d23-2a6c7b61d404",
   "metadata": {},
   "source": [
    "Q6: _Draw the contents of the stack **immediately after the program prints `n=1`**_"
   ]
  },
  {
   "cell_type": "code",
   "execution_count": null,
   "id": "3c28a71b",
   "metadata": {},
   "outputs": [
    {
     "name": "stdout",
     "output_type": "stream",
     "text": [
      "n=16\n",
      "n=8\n",
      "n=4\n",
      "n=2\n",
      "n=1\n",
      "result=4\n"
     ]
    }
   ],
   "source": [
    "#include <stdio.h>\n",
    "int recurse(int n) {\n",
    "    printf(\"n=%d\\n\", n);\n",
    "    if (n == 1) {\n",
    "        return 0;\n",
    "    }\n",
    "    else {\n",
    "        return 1 + recurse(n/2);\n",
    "    }\n",
    "}\n",
    "int main() {\n",
    "    int x = 16;\n",
    "    int r = recurse(x);\n",
    "    printf(\"result=%d\\n\", r);\n",
    "}"
   ]
  },
  {
   "cell_type": "markdown",
   "id": "bf6a35b7-8cb5-4a40-b67d-e9708b342b7b",
   "metadata": {},
   "source": [
    "<div class=\"blank\" style=\"height:20em;\"></div>"
   ]
  },
  {
   "cell_type": "markdown",
   "id": "bff0f218-e98d-4677-bb31-97a9a5925834",
   "metadata": {},
   "source": [
    "Q7: _If `main` initialized `x` to `64` (instead of `8`), how many stack frames would exist at the time the program printed \"n=1\"?_"
   ]
  },
  {
   "cell_type": "markdown",
   "id": "1c0562d0-a54b-44ba-8cda-6f7b162488c1",
   "metadata": {},
   "source": [
    "8 —  (bottom) `main`, `recurse(64)`, `recurse(32)`, `recurse(16)`, `recurse(8)`, `recurse(4)`, `recurse(2)`, `recurse(1)`, (top)"
   ]
  },
  {
   "cell_type": "markdown",
   "id": "65cd6bdc-8ee2-4388-b51c-9dbf15c9a7f8",
   "metadata": {},
   "source": [
    "* _What does this tell you about program efficiency?_ — the more nested function calls there are, the more stack memory the program requires; creating an iterative (instead of recursive) implementation would be more memory efficient"
   ]
  },
  {
   "cell_type": "markdown",
   "id": "357a05c2-554a-4af0-bd5c-cb19920520bb",
   "metadata": {
    "editable": true,
    "slideshow": {
     "slide_type": "slide"
    },
    "tags": []
   },
   "source": [
    "## Pointers as parameters"
   ]
  },
  {
   "cell_type": "markdown",
   "id": "406de918-9131-4fc1-8cd5-250c23d09431",
   "metadata": {
    "editable": true,
    "slideshow": {
     "slide_type": "skip"
    },
    "tags": [
     "notes-only"
    ]
   },
   "source": [
    "* Functions can take pointers as parameters\n",
    "    * Similar to a pointer declaration, include an asterisk before the parameter name: e.g., `void foo(int *a)`\n",
    "    * Function gets a copy of the memory address stored in the pointer variable, not a copy of the value stored at that memory address"
   ]
  },
  {
   "cell_type": "markdown",
   "id": "76c3e250-6e8c-44dc-b3a9-d5346845b617",
   "metadata": {
    "editable": true,
    "slideshow": {
     "slide_type": ""
    },
    "tags": []
   },
   "source": [
    "Example"
   ]
  },
  {
   "cell_type": "code",
   "execution_count": 10,
   "id": "e6b8be78-c355-41ad-96c5-7ca26e1c481c",
   "metadata": {
    "editable": true,
    "slideshow": {
     "slide_type": ""
    },
    "tags": [
     "worksheet-code-only"
    ]
   },
   "outputs": [
    {
     "name": "stdout",
     "output_type": "stream",
     "text": [
      "1\n",
      "3\n"
     ]
    }
   ],
   "source": [
    "#include <stdio.h>\n",
    "void value(int a) {\n",
    "    a = 2;\n",
    "}\n",
    "void pointer(int *b) {\n",
    "    *b = 3;\n",
    "}\n",
    "int main() {\n",
    "    int v = 1;\n",
    "    int *p = &v;\n",
    "    value(v);\n",
    "    printf(\"%d\\n\", v);\n",
    "    pointer(p);\n",
    "    printf(\"%d\\n\", v);\n",
    "}"
   ]
  },
  {
   "cell_type": "markdown",
   "id": "74284055-a863-4431-9ca5-52be9c8e163a",
   "metadata": {
    "editable": true,
    "slideshow": {
     "slide_type": "skip"
    },
    "tags": [
     "blank"
    ]
   },
   "source": [
    "<div style=\"page-break-after:always;\"></div>"
   ]
  },
  {
   "cell_type": "markdown",
   "id": "866a8707-b402-42e9-b5b8-bf3beaef6cd0",
   "metadata": {
    "editable": true,
    "slideshow": {
     "slide_type": "subslide"
    },
    "tags": [
     "question"
    ]
   },
   "source": [
    "Q8: _What does the following program output?_"
   ]
  },
  {
   "cell_type": "code",
   "execution_count": 16,
   "id": "8885b8db-a9a9-4256-ae4e-2887df416544",
   "metadata": {
    "editable": true,
    "slideshow": {
     "slide_type": ""
    },
    "tags": [
     "worksheet-code-only"
    ]
   },
   "outputs": [
    {
     "name": "stdout",
     "output_type": "stream",
     "text": [
      "1 2\n",
      "3 4\n",
      "6 6\n"
     ]
    }
   ],
   "source": [
    "#include <stdio.h>\n",
    "void copy1(int a, int b) {\n",
    "    a = b;\n",
    "}\n",
    "void copy2(int *c, int *d) {\n",
    "    c = d;\n",
    "}\n",
    "void copy3(int *e, int *f) {\n",
    "    *e = *f;\n",
    "}\n",
    "int main() {\n",
    "    int q = 1;\n",
    "    int r = 2;\n",
    "    copy1(q, r);\n",
    "    printf(\"%d %d\\n\", q, r);\n",
    "    int s = 3;\n",
    "    int t = 4;\n",
    "    copy2(&s, &t);\n",
    "    printf(\"%d %d\\n\", s, t);\n",
    "    int u = 5;\n",
    "    int v = 6;\n",
    "    copy3(&u, &v);\n",
    "    printf(\"%d %d\\n\", u, v);\n",
    "}"
   ]
  },
  {
   "cell_type": "markdown",
   "id": "c738f0c6-c0bd-4662-80c5-69fadae3642f",
   "metadata": {
    "editable": true,
    "slideshow": {
     "slide_type": "skip"
    },
    "tags": [
     "blank"
    ]
   },
   "source": [
    "<div style=\"page-break-after:always;\"></div>"
   ]
  },
  {
   "cell_type": "markdown",
   "id": "3fbccf15-2c79-44c1-99b8-20c0ef5f74fa",
   "metadata": {
    "editable": true,
    "slideshow": {
     "slide_type": "subslide"
    },
    "tags": [
     "question"
    ]
   },
   "source": [
    "Q9: _Write a function called `add` which takes an integer (`num`) and an integer pointer (`ptr`) and adds `num` to the value `ptr` points to._\n",
    "    \n",
    "_Also write a `main` function which:_\n",
    "1. _Stores `20` in a variable_\n",
    "2. _Calls `add` with the number `5` and a pointer to the aforementioned variable_\n",
    "3. _Prints the value stored in the variable after `add` returns_"
   ]
  },
  {
   "cell_type": "code",
   "execution_count": 13,
   "id": "323f66f9-bdfe-4c41-b00f-0edc15808c54",
   "metadata": {
    "editable": true,
    "slideshow": {
     "slide_type": "skip"
    },
    "tags": [
     "answer"
    ]
   },
   "outputs": [
    {
     "name": "stdout",
     "output_type": "stream",
     "text": [
      "25\n"
     ]
    }
   ],
   "source": [
    "#include <stdio.h>\n",
    "void add(int num, int *ptr) {\n",
    "    *ptr = *ptr + num;\n",
    "}\n",
    "int main() {\n",
    "    int x = 20;\n",
    "    add(5, &x);\n",
    "    printf(\"%d\\n\", x);\n",
    "}"
   ]
  },
  {
   "cell_type": "markdown",
   "id": "6a0843c9-7332-4bd5-8594-6f5f83d34350",
   "metadata": {
    "editable": true,
    "slideshow": {
     "slide_type": "skip"
    },
    "tags": [
     "blank"
    ]
   },
   "source": [
    "<p style=\"height:18em;\"></p>"
   ]
  },
  {
   "cell_type": "markdown",
   "id": "80e1c1c1-608c-42ce-89a4-40257786d97b",
   "metadata": {
    "editable": true,
    "slideshow": {
     "slide_type": "subslide"
    },
    "tags": [
     "question"
    ]
   },
   "source": [
    "Q10: _What does the following program output?_"
   ]
  },
  {
   "cell_type": "code",
   "execution_count": 5,
   "id": "6380f183-4722-4b7f-9de4-7ee5c3739480",
   "metadata": {
    "editable": true,
    "slideshow": {
     "slide_type": ""
    },
    "tags": [
     "worksheet-code-only"
    ]
   },
   "outputs": [
    {
     "name": "stdout",
     "output_type": "stream",
     "text": [
      "1 1\n",
      "2 2\n"
     ]
    }
   ],
   "source": [
    "#include <stdio.h>\n",
    "void increment1(int a) {\n",
    "    a = a + 1;\n",
    "}\n",
    "void increment2(int *b) {\n",
    "    *b = *b + 1;\n",
    "}\n",
    "int main() {\n",
    "    int x = 1;\n",
    "    int *y = &x;\n",
    "    increment1(x);\n",
    "    printf(\"%d %d\\n\", x, *y);\n",
    "    increment2(y);\n",
    "    printf(\"%d %d\\n\", x, *y);\n",
    "}"
   ]
  },
  {
   "cell_type": "markdown",
   "id": "6b741f7b-8aba-4132-a656-20e4e81cd6e5",
   "metadata": {
    "editable": true,
    "slideshow": {
     "slide_type": "skip"
    },
    "tags": [
     "blank"
    ]
   },
   "source": [
    "<div style=\"page-break-after:always;\"></div>"
   ]
  },
  {
   "cell_type": "markdown",
   "id": "37ad8177-02ad-4a0e-8949-fe67ba407ff3",
   "metadata": {
    "editable": true,
    "slideshow": {
     "slide_type": "subslide"
    },
    "tags": [
     "question"
    ]
   },
   "source": [
    "Q11: _What does the following program output?_"
   ]
  },
  {
   "cell_type": "code",
   "execution_count": 4,
   "id": "683771ce-637a-4635-925f-da3a035e546b",
   "metadata": {
    "editable": true,
    "slideshow": {
     "slide_type": ""
    },
    "tags": [
     "worksheet-code-only"
    ]
   },
   "outputs": [
    {
     "name": "stdout",
     "output_type": "stream",
     "text": [
      "Q R\n",
      "T S\n"
     ]
    }
   ],
   "source": [
    "#include <stdio.h>\n",
    "void swap1(char *c, char *d) {\n",
    "    char *tmp = c;\n",
    "    c = d;\n",
    "    d = tmp;\n",
    "}\n",
    "void swap2(char *a, char *b) {\n",
    "    char tmp = *a;\n",
    "    *a = *b;\n",
    "    *b = tmp;\n",
    "}\n",
    "int main() {\n",
    "    char q = 'Q';\n",
    "    char r = 'R';\n",
    "    swap1(&q, &r);\n",
    "    printf(\"%c %c\\n\", q, r);\n",
    "    char s = 'S';\n",
    "    char t = 'T';\n",
    "    swap2(&s, &t);\n",
    "    printf(\"%c %c\\n\", s, t);\n",
    "}"
   ]
  },
  {
   "cell_type": "markdown",
   "id": "bae94c9c-ed3a-4169-94b5-3aa55f5682a6",
   "metadata": {
    "editable": true,
    "slideshow": {
     "slide_type": "skip"
    },
    "tags": [
     "blank"
    ]
   },
   "source": [
    "<div style=\"height:8em;\"></div>"
   ]
  },
  {
   "cell_type": "markdown",
   "id": "b728a920-ed8b-4f96-8c24-b72f7a17409d",
   "metadata": {
    "editable": true,
    "slideshow": {
     "slide_type": "subslide"
    },
    "tags": [
     "question"
    ]
   },
   "source": [
    "Q12: _Write a program that:_\n",
    "1. _Stores 5 in a variable, and stores 10 in another variable_\n",
    "2. _Creates and uses pointers to print each number_\n",
    "3. _Uses the pointers to add the numbers together and store the result in a new variable_\n",
    "4. _Repurposes one of the existing pointers to print the aforementioned result_"
   ]
  },
  {
   "cell_type": "code",
   "execution_count": 3,
   "id": "b5c4d5d0",
   "metadata": {
    "editable": true,
    "slideshow": {
     "slide_type": "skip"
    },
    "tags": [
     "answer"
    ]
   },
   "outputs": [
    {
     "name": "stdout",
     "output_type": "stream",
     "text": [
      "15\n"
     ]
    }
   ],
   "source": [
    "#include <stdio.h>\n",
    "int main() {\n",
    "    int i = 5;\n",
    "    int j = 10;\n",
    "    int *p = &i;\n",
    "    int *q = &j;\n",
    "    int k = *p + *q;\n",
    "    p = &k;\n",
    "    printf(\"%d\\n\", *p);\n",
    "}"
   ]
  },
  {
   "cell_type": "markdown",
   "id": "bad8d23b-cb02-438f-a849-9c1c87281ba6",
   "metadata": {
    "editable": true,
    "slideshow": {
     "slide_type": "skip"
    },
    "tags": [
     "blank"
    ]
   },
   "source": [
    "<p style=\"height:15em;\"></p>"
   ]
  },
  {
   "cell_type": "markdown",
   "id": "e5fa5e97-88c8-43af-a4d0-4d926b5f4ea4",
   "metadata": {
    "editable": true,
    "slideshow": {
     "slide_type": "subslide"
    },
    "tags": [
     "question"
    ]
   },
   "source": [
    "Q13: _Write a function called `transfer` which takes an integer (`amount`) and two integer pointers (`from` and `to`) and moves the specified `amount` from one integer to the other._\n",
    "\n",
    "_Also write a `main` function that:_\n",
    "1. _Stores `50` in one variable and `100` in another variable_\n",
    "2. _Calls `transfer` with the amount `25` and pointers to the aforementioned variable_\n",
    "3. _Prints the value stored in the variables after `transfer` returns_"
   ]
  },
  {
   "cell_type": "code",
   "execution_count": 13,
   "id": "24406502-2803-491d-b1b8-ec7f760659f4",
   "metadata": {
    "editable": true,
    "slideshow": {
     "slide_type": "skip"
    },
    "tags": [
     "answer"
    ]
   },
   "outputs": [
    {
     "name": "stdout",
     "output_type": "stream",
     "text": [
      "25 125\n"
     ]
    }
   ],
   "source": [
    "#include <stdio.h>\n",
    "void transfer(int amount, int *from, int *to) {\n",
    "    *from = *from - amount;\n",
    "    *to = *to + amount;\n",
    "}\n",
    "int main() {\n",
    "    int x = 50;\n",
    "    int y = 100;\n",
    "    transfer(25, &x, &y);\n",
    "    printf(\"%d %d\\n\", x, y);\n",
    "}"
   ]
  }
 ],
 "metadata": {
  "kernelspec": {
   "display_name": "C",
   "language": "c",
   "name": "c"
  },
  "language_info": {
   "file_extension": ".c",
   "mimetype": "text/plain",
   "name": "c"
  }
 },
 "nbformat": 4,
 "nbformat_minor": 5
}
