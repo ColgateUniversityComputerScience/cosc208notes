{
 "cells": [
  {
   "cell_type": "markdown",
   "id": "cb5c0089-8cef-4cc9-af1d-c6477c77bee8",
   "metadata": {
    "slideshow": {
     "slide_type": "skip"
    },
    "tags": []
   },
   "source": [
    "# Review: Final Exam\n",
    "_COSC 208, Introduction to Computer Systems, 2023-12-08_"
   ]
  },
  {
   "cell_type": "markdown",
   "id": "46336b92-6736-4d0b-a37d-edeb69d984c0",
   "metadata": {
    "slideshow": {
     "slide_type": "skip"
    },
    "tags": []
   },
   "source": [
    "## Announcements\n",
    "* Office hours: Monday 9:15am-11:45am, Wednesday 12pm-2pm, Thursday 1pm-3pm\n",
    "* Specify when you will take the final exam: https://forms.gle/SV4aG6C5G3g8Cjba8\n",
    "    * Monday, Dec 11 12pm-2pm in McGregory 314 (registrar assigned slot for section A)\n",
    "    * Friday, Dec 15 12pm-2pm in Perrson 007 (registrar assigned slot for section C)\n",
    "    * Friday, Dec 15 3pm-5pm in McGregory 314 (registrar assigned slot for section B)"
   ]
  },
  {
   "cell_type": "markdown",
   "id": "c264cb6a-f1f1-4e50-b6dd-c75b59464346",
   "metadata": {
    "slideshow": {
     "slide_type": "skip"
    },
    "tags": []
   },
   "source": [
    "## Outline: review\n",
    "* Virtual machines and containers\n",
    "* Threads\n",
    "* Processes\n",
    "* Caching\n",
    "* Memory hierarchy\n",
    "* Pointers & dynamic memory allocation"
   ]
  },
  {
   "cell_type": "markdown",
   "id": "b9c7dee9-04fd-45c3-bb9b-4b73451f9ef2",
   "metadata": {},
   "source": [
    "## No warm-up – Happy last day of classes!"
   ]
  },
  {
   "cell_type": "markdown",
   "id": "e1da8918-6288-49e7-8a70-f856eb9256a3",
   "metadata": {},
   "source": [
    "## Virtual machines and containers"
   ]
  },
  {
   "cell_type": "markdown",
   "id": "aed31b06-3a39-4948-ba11-a162de44ab0b",
   "metadata": {},
   "source": [
    "* Q1: _What is an advantage of using **virtual machines with a type 1 hypervisor** instead of **virtual machines with a type 2 hypervisor**?_"
   ]
  },
  {
   "cell_type": "markdown",
   "id": "797d8234-7c53-465d-a5a2-2c25fa1243f8",
   "metadata": {
    "slideshow": {
     "slide_type": "skip"
    },
    "tags": [
     "notes-only"
    ]
   },
   "source": [
    "    With a type 1 hypervisor, system calls issued by processes only need to be handled by the hypervisor and guest operating system, whereas with a type 2 hypervisor, system calls issued by processes need to be handled by the host operating system, hypervisor, and guest operating system. Thus, a type 1 hypervisor adds less overhead and results in better performance."
   ]
  },
  {
   "cell_type": "markdown",
   "id": "824ac5a9-9c97-42a0-b7fe-2125c3a98352",
   "metadata": {
    "slideshow": {
     "slide_type": "skip"
    },
    "tags": [
     "worksheet-only"
    ]
   },
   "source": [
    "<p style=\"height:7em;\"></p>"
   ]
  },
  {
   "cell_type": "markdown",
   "id": "da58d143-a155-444a-8652-e947d09a6490",
   "metadata": {},
   "source": [
    "* Q2: _What is an advantage of using **virtual machines with a type 2 hypervisor** instead of **virtual machines with a type 1 hypervisor**?_"
   ]
  },
  {
   "cell_type": "markdown",
   "id": "40a87229-c5a4-4e36-b104-de0fe071ad0a",
   "metadata": {
    "slideshow": {
     "slide_type": "skip"
    },
    "tags": [
     "notes-only"
    ]
   },
   "source": [
    "    A type 2 hypervisor can be installed atop an existing (host) operating system just like any other application, whereas a type 1 hypervisor needs to be installed directly atop the hardware before any operating systems are installed. Thus, a type 2 hypervisor is easier to set up."
   ]
  },
  {
   "cell_type": "markdown",
   "id": "50937c1f-4923-4a29-b357-92136af34fc9",
   "metadata": {
    "slideshow": {
     "slide_type": "skip"
    },
    "tags": [
     "worksheet-only"
    ]
   },
   "source": [
    "<div style=\"page-break-after:always;\"></div>"
   ]
  },
  {
   "cell_type": "markdown",
   "id": "ab9e95a7-a24f-41c2-bd94-89208642d25f",
   "metadata": {},
   "source": [
    "## Threads"
   ]
  },
  {
   "cell_type": "markdown",
   "id": "57f5ac8e-435c-422b-8e52-c1879ea61f17",
   "metadata": {},
   "source": [
    "A program contains the following global variables and functions:\n",
    "```C\n",
    "void *dbl(void *arg) {\n",
    "    int *t = (int *)arg;\n",
    "    *t = *t * 2;\n",
    "}\n",
    "\n",
    "void *inc(void *arg) {\n",
    "    int *t = (int *)arg;\n",
    "    *t = *t + 1;\n",
    "}\n",
    "```\n",
    "_For each of the following main methods, list **all possible outputs** the program could produce. Assume threads are only preempted if they become blocked waiting for other threads._"
   ]
  },
  {
   "cell_type": "code",
   "execution_count": null,
   "id": "61d99ae1-1134-4e5a-ae32-bb49ed9f62a2",
   "metadata": {},
   "outputs": [],
   "source": [
    "// Q3\n",
    "int main() {\n",
    "    int *total = malloc(sizeof(int));\n",
    "    *total = 3;\n",
    "    pthread_t thrA, thrB;\n",
    "    pthread_create(&thrA, NULL, &dbl, total);\n",
    "    pthread_create(&thrB, NULL, &inc, total);\n",
    "    pthread_join(thrA, NULL);\n",
    "    pthread_join(thrB, NULL);\n",
    "    printf(\"%d\\n\", total);\n",
    "}"
   ]
  },
  {
   "cell_type": "markdown",
   "id": "abf8790c-c068-4470-9ada-b3c0b76cfac6",
   "metadata": {
    "slideshow": {
     "slide_type": "skip"
    },
    "tags": [
     "notes-only"
    ]
   },
   "source": [
    "* `7` (if `thrB` runs after `thrA` finishes)\n",
    "* `8` (if `thrA` runs after `thrB` finishes)"
   ]
  },
  {
   "cell_type": "markdown",
   "id": "f70b5d60-f0ef-4b82-b05e-965d9e954a78",
   "metadata": {
    "slideshow": {
     "slide_type": "skip"
    },
    "tags": [
     "worksheet-only"
    ]
   },
   "source": [
    "<p style=\"height:4em;\"></p>"
   ]
  },
  {
   "cell_type": "code",
   "execution_count": null,
   "id": "c19681fe-b41a-406b-951e-02b7d731d1c3",
   "metadata": {},
   "outputs": [],
   "source": [
    "// Q4\n",
    "int main() {\n",
    "    int *total = malloc(sizeof(int));\n",
    "    *total = 3\n",
    "    pthread_t thrA, thrB;\n",
    "    pthread_create(&thrA, NULL, &inc, total);\n",
    "    pthread_join(thrA, NULL);\n",
    "    pthread_create(&thrB, NULL, &dbl, total);\n",
    "    pthread_join(thrB, NULL);\n",
    "    printf(\"%d\\n\", total);\n",
    "}"
   ]
  },
  {
   "cell_type": "markdown",
   "id": "5c9e26b2-2b16-4aed-acfb-12710598371e",
   "metadata": {
    "slideshow": {
     "slide_type": "skip"
    },
    "tags": [
     "notes-only"
    ]
   },
   "source": [
    "* `8` (`thrA` is joined, i.e., must finish, before `thrB` is created) "
   ]
  },
  {
   "cell_type": "markdown",
   "id": "8cb5ffa5-d252-4c81-a05a-ed47f34fe164",
   "metadata": {
    "slideshow": {
     "slide_type": "skip"
    },
    "tags": [
     "worksheet-only"
    ]
   },
   "source": [
    "<div style=\"page-break-after:always;\"></div>"
   ]
  },
  {
   "cell_type": "markdown",
   "id": "6db60d3a-b821-4909-8479-f2c87cbab3c8",
   "metadata": {},
   "source": [
    "### Processes"
   ]
  },
  {
   "cell_type": "markdown",
   "id": "7b6cc431-c992-4ac6-8d10-67b594548fcb",
   "metadata": {},
   "source": [
    "* Q5: _Write a program that creates a new process. The child process should print \"I am a child\"; the parent process should print \"I am a parent; my child is CPID\" (replacing CPID with the child’s PID)._"
   ]
  },
  {
   "cell_type": "code",
   "execution_count": 5,
   "id": "4755e19a-d013-4c2d-b12f-3d8bf3f6c3bf",
   "metadata": {
    "slideshow": {
     "slide_type": "skip"
    },
    "tags": [
     "notes-only"
    ]
   },
   "outputs": [
    {
     "name": "stdout",
     "output_type": "stream",
     "text": [
      "I am a parent; my child is 1375\n",
      "I am a child\n"
     ]
    }
   ],
   "source": [
    "#include <stdio.h>\n",
    "#include <unistd.h>\n",
    "int main() {\n",
    "    int pid = fork();\n",
    "    if (pid == 0) {\n",
    "        printf(\"I am a child\\n\");\n",
    "    }\n",
    "    else {\n",
    "        printf(\"I am a parent; my child is %d\\n\", pid);\n",
    "    }\n",
    "}"
   ]
  },
  {
   "cell_type": "markdown",
   "id": "8c6ff62f-d8fc-41d1-a30d-d5775277f05f",
   "metadata": {
    "slideshow": {
     "slide_type": "skip"
    },
    "tags": [
     "worksheet-only"
    ]
   },
   "source": [
    "<p style=\"height:25em;\"></p>"
   ]
  },
  {
   "cell_type": "markdown",
   "id": "cd0ba9cd-7ee6-460b-a710-c00e5fe68c83",
   "metadata": {},
   "source": [
    "* Q6: _Will the output produced by your program always appear in a particular order? Why or why not?_"
   ]
  },
  {
   "cell_type": "markdown",
   "id": "d54fea2f-2d62-4ff7-85d9-9b7be502ac51",
   "metadata": {
    "slideshow": {
     "slide_type": "skip"
    },
    "tags": [
     "notes-only"
    ]
   },
   "source": [
    "* No, because the parent does not `wait` for the child to finish before printing, and the OS scheduler determines which order the processes run\n",
    "* If you included a call to `wait` before the call to `printf` in the else body, then the answer would be yes, because the parent waits for the child to finish before printing"
   ]
  },
  {
   "cell_type": "markdown",
   "id": "addb476a-9229-432d-bfb4-5e30d1ceb992",
   "metadata": {
    "slideshow": {
     "slide_type": "skip"
    },
    "tags": [
     "worksheet-only"
    ]
   },
   "source": [
    "<p style=\"height:4em;\"></p>"
   ]
  },
  {
   "cell_type": "markdown",
   "id": "2f61320e-107f-4aad-afc7-69f81d4d7a00",
   "metadata": {},
   "source": [
    "* Q7: _What are all possible outputs the following program may produce?_"
   ]
  },
  {
   "cell_type": "code",
   "execution_count": null,
   "id": "af9f3e53-8942-4d2e-9ebe-0a8383ff1a2d",
   "metadata": {},
   "outputs": [],
   "source": [
    "#include <stdio.h>\n",
    "#include <unistd.h>\n",
    "int main() {\n",
    "    printf(\"A\\n\");\n",
    "    int retval = fork();\n",
    "    printf(\"B\\n\");\n",
    "    if (retval == 0) {\n",
    "        printf(\"C\\n\");\n",
    "    }\n",
    "    else {\n",
    "        printf(\"D\\n\");\n",
    "    }\n",
    "}"
   ]
  },
  {
   "cell_type": "markdown",
   "id": "6114792a-2a40-4ad7-b192-342f1f7dbdef",
   "metadata": {
    "slideshow": {
     "slide_type": "skip"
    },
    "tags": [
     "notes-only"
    ]
   },
   "source": [
    "```\n",
    "A\n",
    "B\n",
    "C\n",
    "B\n",
    "D\n",
    "```\n",
    "OR\n",
    "```\n",
    "A\n",
    "B\n",
    "B\n",
    "C\n",
    "D\n",
    "```\n",
    "OR\n",
    "```\n",
    "A\n",
    "B\n",
    "D\n",
    "B\n",
    "C\n",
    "```\n",
    "OR\n",
    "```\n",
    "A\n",
    "B\n",
    "B\n",
    "D\n",
    "C\n",
    "```"
   ]
  },
  {
   "cell_type": "markdown",
   "id": "93d0104d-bd6f-4188-b058-9708225d2592",
   "metadata": {
    "slideshow": {
     "slide_type": "skip"
    },
    "tags": [
     "worksheet-only"
    ]
   },
   "source": [
    "<div style=\"page-break-after:always;\"></div>"
   ]
  },
  {
   "cell_type": "markdown",
   "id": "9518db9b-1e9d-4541-aa58-749139fe1203",
   "metadata": {},
   "source": [
    "## Caching"
   ]
  },
  {
   "cell_type": "markdown",
   "id": "99d131e2-ab0b-4ccb-9cc0-609a6674fb9d",
   "metadata": {},
   "source": [
    "* Q8: _Assume the cache size is 3 and the **optimal** cache replacement algorithm is used. Indicate what happens with the cache on each data access._"
   ]
  },
  {
   "cell_type": "markdown",
   "id": "78924e9c-f1e0-420b-b1a1-2e6feb3d41a4",
   "metadata": {},
   "source": [
    "* Access 2\n",
    "* Access 4\n",
    "* Access 1\n",
    "* Access 2\n",
    "* Access 4\n",
    "* Access 3\n",
    "* Access 2\n",
    "* Access 4\n",
    "* Access 1\n",
    "* Access 2\n",
    "* Access 4\n",
    "* Access 1\n",
    "\n",
    "<p style=\"height:1em;\"></p>"
   ]
  },
  {
   "cell_type": "markdown",
   "id": "90bb0465-d50f-4d89-b41d-8b53906d45e9",
   "metadata": {
    "slideshow": {
     "slide_type": "skip"
    },
    "tags": [
     "notes-only"
    ]
   },
   "source": [
    "    * Access 2 — +2\n",
    "    * Access 4 — +4\n",
    "    * Access 1 — +1\n",
    "    * Access 2 — Hit\n",
    "    * Access 4 — Hit\n",
    "    * Access 3 — -1/+3\n",
    "    * Access 2 — Hit\n",
    "    * Access 4 — Hit\n",
    "    * Access 1 — -3/+1\n",
    "    * Access 2 — Hit\n",
    "    * Access 4 — Hit\n",
    "    * Access 1 — Hit"
   ]
  },
  {
   "cell_type": "markdown",
   "id": "6a945d92-3aba-4fd0-9dc8-2446cd9b9989",
   "metadata": {},
   "source": [
    "* Q9: _Assume the cache size is 3 and the **least recently used (LRU)** cache replacement algorithm is used. Indicate what happens with the cache on each data access._"
   ]
  },
  {
   "cell_type": "markdown",
   "id": "c0e398ea-91e2-4406-839c-1f4297e1dc07",
   "metadata": {},
   "source": [
    "* Access 2\n",
    "* Access 4\n",
    "* Access 1\n",
    "* Access 2\n",
    "* Access 4\n",
    "* Access 3\n",
    "* Access 2\n",
    "* Access 4\n",
    "* Access 1\n",
    "* Access 2\n",
    "* Access 4\n",
    "* Access 1\n",
    "\n",
    "<p style=\"height:1em;\"></p>"
   ]
  },
  {
   "cell_type": "markdown",
   "id": "b5b064fe-ee7e-4fad-aee6-47553f25edc1",
   "metadata": {
    "slideshow": {
     "slide_type": "skip"
    },
    "tags": [
     "notes-only"
    ]
   },
   "source": [
    "    * Access 2 — +2\n",
    "    * Access 4 — +4\n",
    "    * Access 1 — +1\n",
    "    * Access 2 — Hit\n",
    "    * Access 4 — Hit\n",
    "    * Access 3 — -1/+3\n",
    "    * Access 2 — Hit\n",
    "    * Access 4 — Hit\n",
    "    * Access 1 — -3/+1\n",
    "    * Access 2 — Hit\n",
    "    * Access 4 — Hit\n",
    "    * Access 1 — Hit"
   ]
  },
  {
   "cell_type": "markdown",
   "id": "e247cc95-55b5-4061-8e3b-c1be7300e583",
   "metadata": {},
   "source": [
    "## Memory hierarchy"
   ]
  },
  {
   "cell_type": "markdown",
   "id": "82675a96-cb84-46eb-88d3-2ae8d73c0dc6",
   "metadata": {},
   "source": [
    "* Q10: _What is the **fastest volatile** memory?_"
   ]
  },
  {
   "cell_type": "markdown",
   "id": "8b06ee0e-6e25-46d5-96e6-145c29d1a021",
   "metadata": {
    "slideshow": {
     "slide_type": "skip"
    },
    "tags": [
     "notes-only"
    ]
   },
   "source": [
    "    registers"
   ]
  },
  {
   "cell_type": "markdown",
   "id": "eef3c0f6-5024-4248-aa45-0bef1229e50f",
   "metadata": {
    "slideshow": {
     "slide_type": "skip"
    },
    "tags": [
     "worksheet-only"
    ]
   },
   "source": [
    "<p style=\"height:3em;\"></p>"
   ]
  },
  {
   "cell_type": "markdown",
   "id": "cb191b17-66d5-4d01-bb6d-f78002c98236",
   "metadata": {},
   "source": [
    "* Q11: _What is the **fastest non-volatile** memory?_"
   ]
  },
  {
   "cell_type": "markdown",
   "id": "10ac1cf9-49f5-4c27-8a98-b202eb2c221e",
   "metadata": {
    "slideshow": {
     "slide_type": "skip"
    },
    "tags": [
     "notes-only"
    ]
   },
   "source": [
    "    solid state drive (SSD) or SDcard"
   ]
  },
  {
   "cell_type": "markdown",
   "id": "e79d028b-3537-43b2-b8fb-f011a78bf402",
   "metadata": {
    "slideshow": {
     "slide_type": "skip"
    },
    "tags": [
     "worksheet-only"
    ]
   },
   "source": [
    "<p style=\"height:3em;\"></p>"
   ]
  },
  {
   "cell_type": "markdown",
   "id": "93fc8efd-22ee-485b-bc4b-0877e1a41528",
   "metadata": {},
   "source": [
    "* Q12: _Why is a hard disk drive (HDD) slower than a solid state drive (SSD)?_"
   ]
  },
  {
   "cell_type": "markdown",
   "id": "5a8127b6-3bf4-491f-b8f0-6164e9e9b7b0",
   "metadata": {
    "slideshow": {
     "slide_type": "skip"
    },
    "tags": [
     "notes-only"
    ]
   },
   "source": [
    "an HDD has moving parts that need to be moved into position before data can be read/written    solid state drive (SSD) or SDcard"
   ]
  },
  {
   "cell_type": "markdown",
   "id": "a763b87a-9e36-4b3b-b8e5-be8654a0bf9a",
   "metadata": {
    "slideshow": {
     "slide_type": "skip"
    },
    "tags": [
     "worksheet-only"
    ]
   },
   "source": [
    "<p style=\"height:5em;\"></p>"
   ]
  },
  {
   "cell_type": "markdown",
   "id": "2ea32fca-3d8f-43a5-8347-768c36c2aa1c",
   "metadata": {},
   "source": [
    "* Q13: _Why is accessing main memory (i.e., Random Access Memory (RAM)) slower than accessing a cache?_"
   ]
  },
  {
   "cell_type": "markdown",
   "id": "a8b2d17e-fcc4-4a4c-bfdb-b2f3a7223504",
   "metadata": {
    "slideshow": {
     "slide_type": "skip"
    },
    "tags": [
     "notes-only"
    ]
   },
   "source": [
    "a cache is part of the CPU, but data needs to travel across a bus to move between the CPU and main memory; the memory circuits used in RAM are slower than the memory circuits used in a cache"
   ]
  },
  {
   "cell_type": "markdown",
   "id": "cea22d04-6fbe-4d91-a441-58d46b4e22ec",
   "metadata": {
    "slideshow": {
     "slide_type": "skip"
    },
    "tags": [
     "worksheet-only"
    ]
   },
   "source": [
    "<div style=\"page-break-after:always;\"></div>"
   ]
  },
  {
   "cell_type": "markdown",
   "id": "d05b9c5c-e92b-417d-811c-8452f73287eb",
   "metadata": {},
   "source": [
    "## Memory errors"
   ]
  },
  {
   "cell_type": "markdown",
   "id": "fddecdd7-eedb-4408-86d2-05294997ddb7",
   "metadata": {},
   "source": [
    "The intended behavior of the program below is to output a string that contains multiple copies of a word (e.g., `\"byebye\"`). The code below compiles without warnings, but it contains multiple errors."
   ]
  },
  {
   "cell_type": "code",
   "execution_count": null,
   "id": "a82eabe4-380c-4105-bd9b-16054c8509af",
   "metadata": {},
   "outputs": [],
   "source": [
    "/*1 */  #include <stdlib.h>\n",
    "/*2 */  #include <string.h>\n",
    "/*3 */  #include <stdio.h>\n",
    "/*4 */  char *repeat(char *word, int count) {\n",
    "/*5 */      char *dup = malloc(sizeof(*word) * count + 1);\n",
    "/*6 */      int k = 0;\n",
    "/*7 */      for (int i = 0; i < count; i++) {\n",
    "/*8 */          for (int j = 0; j <= strlen(word) * count; j++) {\n",
    "/*9 */              dup[k] = word[j];\n",
    "/*10*/              k++;\n",
    "/*11*/          }\n",
    "/*12*/      }\n",
    "/*13*/      free(dup);\n",
    "/*14*/      return dup;\n",
    "/*15*/  }\n",
    "/*16*/  int main() {\n",
    "/*17*/      char *orig = malloc(4);\n",
    "/*18*/      strcpy(orig, \"bye\");\n",
    "/*19*/      char *result = repeat(orig, 2);\n",
    "/*20*/      printf(\"%s\\n\", result);\n",
    "/*21*/  }"
   ]
  },
  {
   "cell_type": "markdown",
   "id": "79c28124-4f25-431a-9bea-e11cb0004771",
   "metadata": {},
   "source": [
    "_For each of the following errors produced by valgrind, describe (in 2-3 sentences) **why** the error is occurring and **how** you would modify the code to correct the error._"
   ]
  },
  {
   "cell_type": "markdown",
   "id": "beff37d8-4805-4476-bdb9-64effbb6108d",
   "metadata": {},
   "source": [
    "* Q14:\n",
    "    ```\n",
    "    Invalid write of size 1\n",
    "        at 0x4006CA: repeat (repeat.c:9)\n",
    "        by 0x400752: main (repeat.c:19)\n",
    "    Address 0x5204093 is 0 bytes after a block of size 3 alloc'd\n",
    "        at 0x4C2DB8F: malloc (in vgpreload_memcheck-amd64-linux.so)\n",
    "        by 0x40066B: repeat (repeat.c:5)\n",
    "        by 0x400752: main (repeat.c:19)\n",
    "    ```"
   ]
  },
  {
   "cell_type": "markdown",
   "id": "fb9ad016-4b1d-45ab-8522-914749583765",
   "metadata": {
    "slideshow": {
     "slide_type": "skip"
    },
    "tags": [
     "notes-only"
    ]
   },
   "source": [
    "Not enough space was allocated for the duplicated string: `sizeof(*word)` gets the size of a single character. Use `strlen(word)` to get the number of characters in the original word."
   ]
  },
  {
   "cell_type": "markdown",
   "id": "ea39df8c-1c4a-4d3c-b198-e465cd88a533",
   "metadata": {
    "slideshow": {
     "slide_type": "skip"
    },
    "tags": [
     "worksheet-only"
    ]
   },
   "source": [
    "<div style=\"page-break-after:always;\"></div>"
   ]
  },
  {
   "cell_type": "markdown",
   "id": "186354ac-f6d9-4059-bc40-079197d87c6d",
   "metadata": {},
   "source": [
    "* Q15:\n",
    "    ```\n",
    "    Invalid read of size 1\n",
    "        at 0x4006BF: repeat (repeat.c:9)\n",
    "        by 0x400752: main (repeat.c:19)\n",
    "    Address 0x5204044 is 0 bytes after a block of size 4 alloc'd\n",
    "        at 0x4C2DB8F: malloc (in vgpreload_memcheck-amd64-linux.so)\n",
    "        by 0x400723: main (repeat.c:17)\n",
    "    ```"
   ]
  },
  {
   "cell_type": "markdown",
   "id": "16fbb8a0-6d99-4c42-8db4-db20e28593ce",
   "metadata": {
    "slideshow": {
     "slide_type": "skip"
    },
    "tags": [
     "notes-only"
    ]
   },
   "source": [
    "The inner for loop goes beyond the end of the original word. The for loop condition should be `j < strlen(word)`."
   ]
  },
  {
   "cell_type": "markdown",
   "id": "1be80eed-a18f-4642-b4ed-b51589990291",
   "metadata": {
    "slideshow": {
     "slide_type": "skip"
    },
    "tags": [
     "worksheet-only"
    ]
   },
   "source": [
    "<p style=\"height:8em;\"></p>"
   ]
  },
  {
   "cell_type": "markdown",
   "id": "721f2bd5-683e-423b-b9ff-77a6b930e50f",
   "metadata": {},
   "source": [
    "* Q16:\n",
    "    ```\n",
    "    Invalid read of size 1\n",
    "        at 0x4E88CD0: vfprintf (vfprintf.c:1632)\n",
    "        by 0x4E8F8A8: printf (printf.c:33)\n",
    "        by 0x40076B: main (repeat.c:20)\n",
    "    Address 0x5204090 is 0 bytes inside a block of size 3 free'd\n",
    "        at 0x4C2EDEB: free (in vgpreload_memcheck-amd64-linux.so)\n",
    "        by 0x4006FF: repeat (repeat.c:13)\n",
    "        by 0x400752: main (repeat.c:19)\n",
    "    Block was alloc'd at\n",
    "        at 0x4C2DB8F: malloc (in vgpreload_memcheck-amd64-linux.so)\n",
    "        by 0x40066B: repeat (repeat.c:5)\n",
    "        by 0x400752: main (repeat.c:19)\n",
    "    ```"
   ]
  },
  {
   "cell_type": "markdown",
   "id": "6cd76f63-4f41-44ba-afc8-2f5b4fffc191",
   "metadata": {
    "slideshow": {
     "slide_type": "skip"
    },
    "tags": [
     "notes-only"
    ]
   },
   "source": [
    "The string containing the repeated word is free'd (in `repeat`) before it is printed (in `main`). Move the call to `free` in `repeat` to after the call to `printf` in `main`."
   ]
  },
  {
   "cell_type": "markdown",
   "id": "61ee4cc7-f07b-443d-ba12-c56847635315",
   "metadata": {
    "slideshow": {
     "slide_type": "skip"
    },
    "tags": [
     "worksheet-only"
    ]
   },
   "source": [
    "<p style=\"height:10em;\"></p>"
   ]
  },
  {
   "cell_type": "markdown",
   "id": "de428241-b28b-4bc9-b8b7-1980283fda13",
   "metadata": {},
   "source": [
    "* Q17:\n",
    "    ```\n",
    "    4 bytes in 1 blocks are definitely lost in loss record 1 of 1\n",
    "        at 0x4C2DB8F: malloc (in vgpreload_memcheck-amd64-linux.so)\n",
    "        by 0x400723: main (repeat.c:17)\n",
    "    ```"
   ]
  },
  {
   "cell_type": "markdown",
   "id": "b1ffcbd4-b3a5-4925-91a4-9f615092c859",
   "metadata": {
    "slideshow": {
     "slide_type": "skip"
    },
    "tags": [
     "notes-only"
    ]
   },
   "source": [
    "The space for the original word (allocated in `main`) is not freed. Add `free(orig)` after the call to `repeat` in `main`."
   ]
  },
  {
   "cell_type": "markdown",
   "id": "33b7f840-77e8-4860-b957-72c8acf39913",
   "metadata": {
    "slideshow": {
     "slide_type": "skip"
    },
    "tags": [
     "worksheet-only"
    ]
   },
   "source": [
    "<div style=\"page-break-after:always;\"></div>"
   ]
  },
  {
   "cell_type": "markdown",
   "id": "1a9eb37d-7a46-45e9-a52c-72eb1548f0b5",
   "metadata": {},
   "source": [
    "## Pointers & dynamic memory allocation"
   ]
  },
  {
   "cell_type": "markdown",
   "id": "4b8bee6f-b7e5-4089-b0c7-33eea6b128bd",
   "metadata": {},
   "source": [
    "* Q18: _Assume the following program is executed._"
   ]
  },
  {
   "cell_type": "code",
   "execution_count": 9,
   "id": "08033766-73cc-4a6f-ad35-1e437168eef5",
   "metadata": {},
   "outputs": [],
   "source": [
    "#include <stdlib.h>\n",
    "#include <string.h>\n",
    "void magic(char *x, char **y) {\n",
    "    char *z = *y;\n",
    "    z[2] = 'a';\n",
    "    *x = 'k';\n",
    "    *y = &x[1];\n",
    "    // STOP HERE\n",
    "}\n",
    "\n",
    "int main() {\n",
    "    char *season = malloc(sizeof(char) * 7);\n",
    "    strcpy(season, \"winter\");\n",
    "    char precip[6] = \"snow\";\n",
    "    char *ptr = season + 3;\n",
    "    magic(precip, &ptr);\n",
    "}"
   ]
  },
  {
   "cell_type": "markdown",
   "id": "484b7c0a-9d73-419c-9360-6767d6f94317",
   "metadata": {},
   "source": [
    "_Draw the contents of the stack and heap when the program reaches the comment `STOP HERE`. If a memory region is freed, cross it out; do not erase it from your diagram._"
   ]
  },
  {
   "cell_type": "markdown",
   "id": "90f29645-5e64-4939-8c19-278d6db2054a",
   "metadata": {
    "slideshow": {
     "slide_type": "skip"
    },
    "tags": [
     "notes-only"
    ]
   },
   "source": [
    "![](images/program_memory/final_review.png)"
   ]
  }
 ],
 "metadata": {
  "kernelspec": {
   "display_name": "C",
   "language": "c",
   "name": "c"
  },
  "language_info": {
   "file_extension": ".c",
   "mimetype": "c",
   "name": "c"
  }
 },
 "nbformat": 4,
 "nbformat_minor": 5
}
