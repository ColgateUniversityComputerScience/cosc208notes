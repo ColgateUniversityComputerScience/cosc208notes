{
 "cells": [
  {
   "cell_type": "markdown",
   "id": "39d76db8-edb9-47d5-bec8-7998805660b3",
   "metadata": {
    "slideshow": {
     "slide_type": "skip"
    },
    "tags": []
   },
   "source": [
    "# Architecture: processing unit\n",
    "_COSC 208, Introduction to Computer Systems, 2024-03-08_"
   ]
  },
  {
   "cell_type": "markdown",
   "id": "890c787a-1bb3-48fe-bd58-8caad79d6454",
   "metadata": {
    "slideshow": {
     "slide_type": "skip"
    },
    "tags": []
   },
   "source": [
    "## Announcements\n",
    "* Quiz 3 Wednesday after spring break (March 20)\n",
    "    * 2.1: Determine the contents of the stack and heap during a program’s execution\n",
    "    * 2.2: Develop C **code** that appropriately uses arrays and pointer arithmetic\n",
    "    * 2.4: Correct memory errors in C **code** with the assistance of a compiler and valgrind\n",
    "    * 3.1: Design single- and multi-bit circuits for arithmetic and comparison operators\n",
    "    * 3.2: Design a simple processing unit and explain how it executes assembly instructions\n",
    "    * Optional: attempt one of...\n",
    "        * 1.1: Develop C **code** that appropriately manipulates numbers, characters, and strings\n",
    "        * 1.2: Convert signed and unsigned numbers between decimal, binary, and hexadecimal\n",
    "        * 1.3: Compute the results of arithmetic and bitwise operators in binary\n",
    "* Project 2 due 1.5 weeks after spring break (Wed, March 27 @ 11pm)\n",
    "    * If you will be off-campus during break and want to use your RPi, you should do the following before you leave campus: (1) install VPN on your laptop; (2) leave your RPi plugged in and power on in your on-campus residence. Once you are off campus, you can: (1) connect to the campus VPN; (2) connect to your RPi using VSCode as normal; (3) close your VSCode session without running sudo poweroff, to ensure your RPi remains powered on."
   ]
  },
  {
   "cell_type": "markdown",
   "id": "f17866fc-fc93-480c-a9a5-d903a0657063",
   "metadata": {
    "slideshow": {
     "slide_type": "skip"
    },
    "tags": []
   },
   "source": [
    "## Outline\n",
    "* Warm-up\n",
    "* Processing unit\n",
    "* Assembly instructions"
   ]
  },
  {
   "cell_type": "markdown",
   "id": "e663073f-3384-4891-978a-b8c31d0a6263",
   "metadata": {
    "slideshow": {
     "slide_type": "slide"
    },
    "tags": []
   },
   "source": [
    "## Warm-up"
   ]
  },
  {
   "cell_type": "markdown",
   "id": "36be2376-bb82-4f99-86a1-8c3f1f6b693b",
   "metadata": {},
   "source": [
    "* Q1: _Draw a circuit that takes two 3-bit unsigned numbers (`0b A2 A1 A0` and `0b B2 B1 B0`) and outputs a single bit that indicates whether the first number is less than or equal to the second number. Assume you have access to an unlimited supply of `AND`, `OR`, and `NOT` gates and 1-bit greater-than, less-than, and equal-to circuits, as shown below_\n",
    "\n",
    "![](images/and_xsmall.png) ![](images/or_xsmall.png) ![](images/not_xsmall.png)\n",
    "\n",
    "![](images/circuits/greater-than-circuit_box.png) ![](images/circuits/less-than-circuit_box.png) ![](images/circuits/equals-circuit_box.png)"
   ]
  },
  {
   "cell_type": "markdown",
   "id": "b9f27818-375c-45e0-832f-8d43972e86e0",
   "metadata": {
    "slideshow": {
     "slide_type": "skip"
    },
    "tags": [
     "notes-only"
    ]
   },
   "source": [
    "![](images/circuits/3-bit_less-than-or-equal_circuit.png)"
   ]
  },
  {
   "cell_type": "markdown",
   "id": "be8a19ad-b7c6-4dfd-976a-3b60eee42ac8",
   "metadata": {
    "slideshow": {
     "slide_type": "skip"
    },
    "tags": [
     "worksheet-only"
    ]
   },
   "source": [
    "<div style=\"page-break-after:always;\"></div>"
   ]
  },
  {
   "cell_type": "markdown",
   "id": "693b6976-7021-4dd4-a554-2c20f6197651",
   "metadata": {
    "slideshow": {
     "slide_type": "skip"
    },
    "tags": [
     "notes-only"
    ]
   },
   "source": [
    "## Multiplexer circuit"
   ]
  },
  {
   "cell_type": "markdown",
   "id": "97f9af55-53cf-44c8-930f-7d7f00fb40f0",
   "metadata": {
    "slideshow": {
     "slide_type": "skip"
    },
    "tags": [
     "notes-only"
    ]
   },
   "source": [
    "* 2-way multiplixer\n",
    "    * Takes three inputs\n",
    "        * Input A\n",
    "        * Input B\n",
    "        * Select bit\n",
    "    * Semantics\n",
    "        * select == 1 → output A's value\n",
    "        * select == 0 → output B's value\n",
    "    * Circuit\n",
    "        <img src=\"https://diveintosystems.org/book/C5-Arch/_images/1bitmux.png\" width=\"500\" />\n",
    "    \n",
    "* Given n selection bits, mux select between 2^n different inputs"
   ]
  },
  {
   "cell_type": "markdown",
   "id": "5ddd8249-6036-4861-9755-91e748a09874",
   "metadata": {
    "slideshow": {
     "slide_type": "skip"
    },
    "tags": [
     "notes-only"
    ]
   },
   "source": [
    "## Processing Unit"
   ]
  },
  {
   "cell_type": "markdown",
   "id": "e6512d28-2adc-4970-ae5d-aef4753950cd",
   "metadata": {
    "slideshow": {
     "slide_type": "skip"
    },
    "tags": [
     "notes-only"
    ]
   },
   "source": [
    "![](images/circuits/processing_unit_complete.png)"
   ]
  },
  {
   "cell_type": "markdown",
   "id": "331066d0-d478-4084-afa2-b81bbcb22819",
   "metadata": {
    "slideshow": {
     "slide_type": "skip"
    },
    "tags": [
     "notes-only"
    ]
   },
   "source": [
    "## Assembly instructions"
   ]
  },
  {
   "cell_type": "markdown",
   "id": "57525e20-cc65-4bee-842f-58b7257fb5dd",
   "metadata": {
    "slideshow": {
     "slide_type": "skip"
    },
    "tags": [
     "notes-only"
    ]
   },
   "source": [
    "* Simple instructions a processor can execute – e.g., add two integers, compare two integers, load/store a value from/to main memory\n",
    "* C code is compiled into assembly code\n",
    "    * Python code is interpreted; interpreter is compiled into assembly\n",
    "    * Java code is compiled to Java byte code, which is executed by the Java Virtual Machine (JVM); JVM is compiled into assembly\n",
    "* Assembly instructions are expressed in binary\n",
    "    * Some bits determine the operation – used as select bits for the multiplexer between the arithmetic and logic circuits and the ALU's output\n",
    "    * Some bits determine the first source register and other bits determine the second source register – used as select bits for the multiplexers between the register file's outputs and ALU's inputs\n",
    "    * Some bits determine the destination register – used as select bits for the demultiplexer between the ALU's output and register file's input\n",
    "* E.g., our simple processor uses 8-bit assembly instructions\n",
    "    * First (i.e., left-most) two bits determine operation\n",
    "    * Next two bits determine destination register\n",
    "    * Next two bits determine first source register\n",
    "    * Final (i.e., right-most) two bits determine second source register"
   ]
  },
  {
   "cell_type": "markdown",
   "id": "a23572a0-326c-4b75-8687-e4a0e04a6c35",
   "metadata": {
    "slideshow": {
     "slide_type": "skip"
    },
    "tags": [
     "notes-only"
    ]
   },
   "source": [
    "* Instruction set architectures (ISAs) — defines the low-level instructions a central processing unit (CPU), or processor, can execute\n",
    "    * Most popular Complex Instruction Set Computer (CISC) architecture: x86 (includes IA32 and x86-64)\n",
    "    * Most popular Reduced Instruction Set Computer (RISC) architecture: ARM\n",
    "    * Other common RISC architectures: SPARC (Scalable Processor Architecture), MIPS (Microprocessor without Interlocked Pipelined Stages), PowerPC, ARC (Argonaut RISC Core)"
   ]
  },
  {
   "cell_type": "markdown",
   "id": "584c8f83-46c0-4ff6-a5b5-51c0ddc3be8e",
   "metadata": {
    "slideshow": {
     "slide_type": "slide"
    },
    "tags": []
   },
   "source": [
    "## Extra practice"
   ]
  },
  {
   "cell_type": "markdown",
   "id": "71572a81-68bc-4539-a420-ef82e456c586",
   "metadata": {},
   "source": [
    "* Q2: _Draw a circuit that takes two 3-bit **signed** numbers (`0b A2 A1 A0` and `0b B2 B1 B0`) and outputs a single bit that indicates whether the first number is **greater than** the second number. Assume you have access to an unlimited supply of `AND`, `OR`, and `NOT` gates and 1-bit greater-than, less-than, and equal-to circuits._"
   ]
  },
  {
   "cell_type": "markdown",
   "id": "11e8cec0-0f18-41e0-905d-c746a36634b7",
   "metadata": {
    "slideshow": {
     "slide_type": "skip"
    },
    "tags": [
     "notes-only"
    ]
   },
   "source": [
    "![](images/circuits/3-bit-signed_greater-than_circuit.png)"
   ]
  },
  {
   "cell_type": "markdown",
   "id": "db3360ae-7d65-4303-b021-7bed59e7c346",
   "metadata": {
    "slideshow": {
     "slide_type": "skip"
    },
    "tags": [
     "worksheet-only"
    ]
   },
   "source": [
    "<p style=\"height:25em;\"></p>"
   ]
  },
  {
   "cell_type": "markdown",
   "id": "256112e2-2333-4650-9612-0727c0e5c46d",
   "metadata": {
    "tags": []
   },
   "source": [
    "* Q3: _Assume you have access to 1-bit circuits for `A < B`, `A == B`, and `A > B` and logic gates for `AND`, `OR`, and `NOT`. Draw a 2-bit circuit for `A < B` which uses the existing circuits and logic gates. Assume `A1` and `B1` are the most significant bits, and `A2` and `B2` are the least significant bits._"
   ]
  },
  {
   "cell_type": "markdown",
   "id": "872313d7-9192-4c07-98a0-43616a1bd128",
   "metadata": {
    "slideshow": {
     "slide_type": "skip"
    },
    "tags": [
     "notes-only"
    ]
   },
   "source": [
    "| A1 A2 | B1 B2 | A < B |\n",
    "| ----- | ----- | ----- |\n",
    "| 0   0 | 0   0 |   0   |\n",
    "| 0   1 | 0   0 |   0   |\n",
    "| 1   0 | 0   0 |   0   |\n",
    "| 1   1 | 0   0 |   0   |\n",
    "| 0   0 | 0   1 |   1   |\n",
    "| 0   1 | 0   1 |   0   |\n",
    "| 1   0 | 0   1 |   0   |\n",
    "| 1   1 | 0   1 |   0   |\n",
    "| 0   0 | 1   0 |   1   |\n",
    "| 0   1 | 1   0 |   1   |\n",
    "| 1   0 | 1   0 |   0   |\n",
    "| 1   1 | 1   0 |   0   |\n",
    "| 0   0 | 1   1 |   1   |\n",
    "| 0   1 | 1   1 |   1   |\n",
    "| 1   0 | 1   1 |   1   |\n",
    "| 1   1 | 1   1 |   0   |\n",
    "\n",
    "![](images/circuits/2bit_a_lt_b.png)"
   ]
  }
 ],
 "metadata": {
  "kernelspec": {
   "display_name": "C",
   "language": "c",
   "name": "c"
  },
  "language_info": {
   "file_extension": ".c",
   "mimetype": "c",
   "name": "c"
  }
 },
 "nbformat": 4,
 "nbformat_minor": 5
}
