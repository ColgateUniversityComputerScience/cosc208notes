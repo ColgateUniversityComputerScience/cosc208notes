{
 "cells": [
  {
   "cell_type": "markdown",
   "id": "275f3326-b6de-4d7d-b41a-f17ec6a57354",
   "metadata": {
    "slideshow": {
     "slide_type": "skip"
    },
    "tags": []
   },
   "source": [
    "# Program memory: malloc; free; 2D arrays\n",
    "_COSC 208, Introduction to Computer Systems, 2023-02-24_"
   ]
  },
  {
   "cell_type": "markdown",
   "id": "9db293af-f9ec-4262-b568-ef1906a523b4",
   "metadata": {
    "slideshow": {
     "slide_type": "skip"
    },
    "tags": []
   },
   "source": [
    "## Announcements\n",
    "* Programming project 2 due Thursday @ 11pm"
   ]
  },
  {
   "cell_type": "markdown",
   "id": "bede1ded-97f6-4a28-9335-116fd9ea868f",
   "metadata": {
    "slideshow": {
     "slide_type": "skip"
    },
    "tags": []
   },
   "source": [
    "## Outline\n",
    "* Warm-up\n",
    "* malloc\n",
    "* free\n",
    "* 2D arrays"
   ]
  },
  {
   "cell_type": "markdown",
   "id": "2455eec5-b456-4d20-8fb3-2042d63ad96d",
   "metadata": {},
   "source": [
    "## Warm-up\n",
    "* Q1: _What does the following program output?_"
   ]
  },
  {
   "cell_type": "code",
   "execution_count": 21,
   "id": "e71dc048-27d2-49a7-a222-a101d42302f7",
   "metadata": {
    "tags": [
     "worksheet-code-only"
    ]
   },
   "outputs": [
    {
     "name": "stdout",
     "output_type": "stream",
     "text": [
      "1 8\n",
      "4 8 17 32\n",
      "4 2 17 33\n"
     ]
    }
   ],
   "source": [
    "#include <stdio.h>\n",
    "int main() {\n",
    "    int numsA[] = {1, 2, 4, 8, 16, 32, 64};\n",
    "    int *numsB = numsA + 3;\n",
    "    printf(\"%d %d\\n\", *numsA, *numsB);\n",
    "    numsB += 1;\n",
    "    *numsB += 1;\n",
    "    printf(\"%d %d %d %d\\n\", numsA[2], numsA[3], numsA[4], numsA[5]);\n",
    "    *(numsB - 1) = *(numsA + 1);\n",
    "    numsB[1] += 1;\n",
    "    printf(\"%d %d %d %d\\n\", numsA[2], numsA[3], numsA[4], numsA[5]);\n",
    "}"
   ]
  },
  {
   "cell_type": "markdown",
   "id": "236c66e3-bfc7-4923-86d8-4713227982b9",
   "metadata": {
    "slideshow": {
     "slide_type": "skip"
    },
    "tags": [
     "worksheet-only"
    ]
   },
   "source": [
    "<p style=\"height:5em;\"></p>\n",
    "\n",
    "🛑 **STOP here** after completing the above question; if you have extra time take a few deep breaths to reduce stress."
   ]
  },
  {
   "cell_type": "markdown",
   "id": "2afba5cc-273c-4ded-ae65-296c9c722d2e",
   "metadata": {
    "slideshow": {
     "slide_type": "slide"
    },
    "tags": []
   },
   "source": [
    "## malloc"
   ]
  },
  {
   "cell_type": "markdown",
   "id": "845c51f0-b177-496c-b151-fd90ac71fb02",
   "metadata": {
    "slideshow": {
     "slide_type": "skip"
    },
    "tags": [
     "notes-only"
    ]
   },
   "source": [
    "* `void* malloc(unsigned int size)`\n",
    "* Memory allocated on the heap persists until explicitly freed\n",
    "* When to malloc?\n",
    "    * When the amount of space required is not known until runtime\n",
    "    * When a value must remain in memory even after returning from a function\n",
    "* How much to malloc?\n",
    "    * Use `sizeof` and a type: e.g., `sizeof(int)`\n",
    "    * How much to malloc for an array? — multiply sizeof(type) by number of elements in array"
   ]
  },
  {
   "cell_type": "markdown",
   "id": "95e83aa3-4e8e-487d-9d3b-5c511a1e9bf9",
   "metadata": {},
   "source": [
    "* Q2: _Write a function called `duplicate` that takes a string (i.e., an array of `char`) as a parameter and returns a copy of that string stored on the heap._"
   ]
  },
  {
   "cell_type": "code",
   "execution_count": 11,
   "id": "24d28c7b-1321-434c-bd9e-d650f3f5c043",
   "metadata": {
    "slideshow": {
     "slide_type": "skip"
    },
    "tags": [
     "notes-only"
    ]
   },
   "outputs": [],
   "source": [
    "#include <stdlib.h>\n",
    "#include <string.h>\n",
    "char *duplicate(char orig[]) {\n",
    "    char *copy = malloc(sizeof(char) * (strlen(orig) + 1));\n",
    "    for (int i = 0; i <= strlen(orig); i++) {\n",
    "        copy[i] = orig[i];\n",
    "    }\n",
    "    // Could replace for loop with: strcpy(copy, orig);\n",
    "    return copy;\n",
    "}\n",
    "// Testing\n",
    "#include <assert.h>\n",
    "int main() {\n",
    "    char *copy = duplicate(\"abc 123\");\n",
    "    assert(strcmp(copy, \"abc 123\") == 0);\n",
    "}"
   ]
  },
  {
   "cell_type": "markdown",
   "id": "5e1bfec4-9bf8-4bc7-ba67-6879eb60ae7e",
   "metadata": {
    "slideshow": {
     "slide_type": "skip"
    },
    "tags": [
     "worksheet-only"
    ]
   },
   "source": [
    "<div style=\"page-break-after:always;\"></div>"
   ]
  },
  {
   "cell_type": "markdown",
   "id": "9a75287b-8e65-4da6-9dd4-f1a164bb1b74",
   "metadata": {},
   "source": [
    "* Q3: _Write a function called `range` that behaves similar to the `range` function in Python. Your function should take an unsigned integer (`length`) as a parameter, and return a dynamically allocated array with `length` unsigned integers. The array should be populated with the values 0 through `length-1`._"
   ]
  },
  {
   "cell_type": "code",
   "execution_count": 10,
   "id": "eb0b2377-fe80-4584-9297-2bf6f912c842",
   "metadata": {
    "slideshow": {
     "slide_type": "skip"
    },
    "tags": [
     "notes-only"
    ]
   },
   "outputs": [],
   "source": [
    "#include <stdlib.h>\n",
    "unsigned int *range(unsigned int length) {\n",
    "    unsigned int *nums = malloc(sizeof(unsigned int) * length);\n",
    "    for (int i = 0; i < length; i++) {\n",
    "        nums[i] = i;\n",
    "    }\n",
    "    return nums;\n",
    "}\n",
    "// Testing\n",
    "#include <assert.h>\n",
    "int main() {\n",
    "    unsigned int *result = range(3);\n",
    "    assert(result[0] == 0 && result[1] == 1 && result[2] == 2);\n",
    "}"
   ]
  },
  {
   "cell_type": "markdown",
   "id": "6b99bd80-a4f1-4b95-a217-d397e6f6d86d",
   "metadata": {
    "slideshow": {
     "slide_type": "skip"
    },
    "tags": [
     "worksheet-only"
    ]
   },
   "source": [
    "<p style=\"height:25em;\"></p>\n",
    "\n",
    "🛑 **STOP here** after completing the above questions; if you have extra time take a few deep breaths to reduce stress."
   ]
  },
  {
   "cell_type": "markdown",
   "id": "89bef20a-3dc9-4b1a-9e8d-b109eb3a1f8c",
   "metadata": {
    "slideshow": {
     "slide_type": "slide"
    },
    "tags": []
   },
   "source": [
    "## free"
   ]
  },
  {
   "cell_type": "markdown",
   "id": "b4e9492c-88cc-49e0-8fb9-fc050feff211",
   "metadata": {
    "slideshow": {
     "slide_type": "skip"
    },
    "tags": [
     "notes-only"
    ]
   },
   "source": [
    "* `void free(void *block)`\n",
    "* When to free? — when a value stored on the heap is no longer needed\n",
    "    * Free memory regions as soon as you are done\n",
    "    * Do not read/write the memory location after it has been freed!"
   ]
  },
  {
   "cell_type": "markdown",
   "id": "9a838494-f252-478e-9633-329ea86e58de",
   "metadata": {},
   "source": [
    "* _What memory deallocation mistake has been made in each of the following programs?_"
   ]
  },
  {
   "cell_type": "code",
   "execution_count": 16,
   "id": "2e31065a-11dd-4b96-bce5-ffde23f8873b",
   "metadata": {
    "tags": [
     "worksheet-code-only"
    ]
   },
   "outputs": [
    {
     "name": "stderr",
     "output_type": "stream",
     "text": [
      "[C kernel] Executable exited with code -6"
     ]
    }
   ],
   "source": [
    "// Q4\n",
    "#include <stdlib.h>\n",
    "int main() {\n",
    "    int *ptrA = malloc(sizeof(int) * 3);\n",
    "    int *ptrB = ptrA;\n",
    "    free(ptrA);\n",
    "    free(ptrB);\n",
    "}"
   ]
  },
  {
   "cell_type": "markdown",
   "id": "8de7e7c8-a40a-4a40-ab92-a60ae2a6e2ed",
   "metadata": {
    "slideshow": {
     "slide_type": "skip"
    },
    "tags": [
     "notes-only"
    ]
   },
   "source": [
    "_Double free_"
   ]
  },
  {
   "cell_type": "code",
   "execution_count": 15,
   "id": "f5b9c557-9b56-4f63-98b7-f12eb5fe1fe7",
   "metadata": {
    "slideshow": {
     "slide_type": "subslide"
    },
    "tags": [
     "worksheet-code-only"
    ]
   },
   "outputs": [],
   "source": [
    "// Q5\n",
    "#include <stdlib.h>\n",
    "int main() {\n",
    "    int *ptr = malloc(sizeof(int) * 3);\n",
    "    ptr[0] = 1;\n",
    "    free(ptr);\n",
    "    ptr[1] = 2;\n",
    "}"
   ]
  },
  {
   "cell_type": "markdown",
   "id": "5b3ef16a-6eb8-4b3e-ba3f-01c50474c0cd",
   "metadata": {
    "slideshow": {
     "slide_type": "skip"
    },
    "tags": [
     "notes-only"
    ]
   },
   "source": [
    "_Use after free_"
   ]
  },
  {
   "cell_type": "code",
   "execution_count": 14,
   "id": "d8530f33-f827-4e01-a5af-c9e7ef199f67",
   "metadata": {
    "slideshow": {
     "slide_type": "subslide"
    },
    "tags": [
     "worksheet-code-only"
    ]
   },
   "outputs": [
    {
     "name": "stderr",
     "output_type": "stream",
     "text": [
      "[C kernel] Executable exited with code -6"
     ]
    }
   ],
   "source": [
    "// Q6\n",
    "#include <stdlib.h>\n",
    "int main() {\n",
    "    int *ptr = malloc(sizeof(int) * 3);\n",
    "    ptr++;\n",
    "    free(ptr);\n",
    "}"
   ]
  },
  {
   "cell_type": "markdown",
   "id": "4b328772-6772-4f61-aa99-c62d94ba2502",
   "metadata": {
    "slideshow": {
     "slide_type": "skip"
    },
    "tags": [
     "notes-only"
    ]
   },
   "source": [
    "_Not freeing from beginning of allocated region_"
   ]
  },
  {
   "cell_type": "code",
   "execution_count": 13,
   "id": "6c53d540-7c7e-499e-812d-ec80b99d89b7",
   "metadata": {
    "slideshow": {
     "slide_type": "subslide"
    },
    "tags": [
     "worksheet-code-only"
    ]
   },
   "outputs": [],
   "source": [
    "// Q7\n",
    "#include <stdlib.h>\n",
    "int main() {\n",
    "    int *ptrA = malloc(sizeof(int) * 3);\n",
    "    int *ptrB = ptrA;\n",
    "    ptrA[0] = 0;\n",
    "    ptrB[1] = 1;\n",
    "    free(ptrA);\n",
    "    ptrB[2] = 2;\n",
    "}"
   ]
  },
  {
   "cell_type": "markdown",
   "id": "4d1fc6e1-635b-4a30-b8b5-3a0ca4a194fd",
   "metadata": {
    "slideshow": {
     "slide_type": "skip"
    },
    "tags": [
     "notes-only"
    ]
   },
   "source": [
    "_Use after free_"
   ]
  },
  {
   "cell_type": "markdown",
   "id": "468d4546-2696-4eba-87e7-289787466927",
   "metadata": {
    "slideshow": {
     "slide_type": "skip"
    },
    "tags": [
     "worksheet-only"
    ]
   },
   "source": [
    "🛑 **STOP here** after completing the above questions; if you have extra time take a few deep breaths to reduce stress."
   ]
  },
  {
   "cell_type": "markdown",
   "id": "b5dcfb27-6dac-4f99-86e7-eb21fab91824",
   "metadata": {
    "slideshow": {
     "slide_type": "slide"
    },
    "tags": []
   },
   "source": [
    "## 2D arrays on the stack\n",
    "* Assume we wanted to create an array to represent a calendar:\n",
    "    ```\n",
    "    +----+----+----+----+----+----+----+\n",
    "    |  1 |  2 |  3 |  4 |  5 |  6 |  7 |\n",
    "    +----+----+----+----+----+----+----+\n",
    "    |  8 |  9 | 10 | 11 | 12 | 13 | 14 |\n",
    "    +----+----+----+----+----+----+----+\n",
    "    | 15 | 16 | 17 | 18 | 19 | 20 | 21 |\n",
    "    +----+----+----+----+----+----+----+\n",
    "    | 22 | 23 | 24 | 25 | 26 | 27 | 28 |\n",
    "    +----+----+----+----+----+----+----+\n",
    "    ```\n",
    "    * 4 rows = 4 weeks; 7 columns = 7 days in a week\n",
    "* Q8: _Write a function called `fill_calendar` that creates a 2D array on the stack and populates the array with the appropriate values._\n"
   ]
  },
  {
   "cell_type": "code",
   "execution_count": 19,
   "id": "b6cae840-c87e-471f-b729-3e365b0b99f0",
   "metadata": {
    "slideshow": {
     "slide_type": "skip"
    },
    "tags": [
     "notes-only"
    ]
   },
   "outputs": [],
   "source": [
    "void fill_calendar() {\n",
    "    int calendar[4][7];\n",
    "    int day = 1;\n",
    "    for (int week = 0; week < 4; week++) {\n",
    "        for (int dow = 0; dow < 7; dow++) {\n",
    "            calendar[week][dow] = day;\n",
    "            day++;\n",
    "        }\n",
    "    }\n",
    "}\n",
    "int main() {\n",
    "    fill_calendar();\n",
    "}"
   ]
  },
  {
   "cell_type": "markdown",
   "id": "8201845e-e24d-4db2-8ee2-e4ea2567eecb",
   "metadata": {
    "slideshow": {
     "slide_type": "skip"
    },
    "tags": [
     "worksheet-only"
    ]
   },
   "source": [
    "<p style=\"height:30em;\"></p>\n",
    "\n",
    "🛑 **STOP here** after completing the above question; if you have extra time take a few deep breaths to reduce stress.\n",
    "\n",
    "<div style=\"page-break-after:always;\"></div>"
   ]
  },
  {
   "cell_type": "markdown",
   "id": "5433bf9b-14f8-4381-8c07-468b6a34fb0e",
   "metadata": {
    "tags": [
     "notes-only"
    ]
   },
   "source": [
    "* _Can we use a formula to compute the day based on week and day-of-week (dow)?_\n",
    "    ```C\n",
    "    day = week * 7 + dow + 1;\n",
    "    ```\n",
    "* _Can we return the `calendar` array from this function?_ – no, it is stored in the stack and will go away when the function returns"
   ]
  },
  {
   "cell_type": "markdown",
   "id": "dca24aa0-2a0c-4def-9052-dec6f5b27562",
   "metadata": {
    "slideshow": {
     "slide_type": "slide"
    },
    "tags": []
   },
   "source": [
    "## 2D arrays as linear arrays"
   ]
  },
  {
   "cell_type": "markdown",
   "id": "1e2ee54b-2e78-476f-876a-34fcdfdca6f2",
   "metadata": {
    "slideshow": {
     "slide_type": "skip"
    },
    "tags": [
     "notes-only"
    ]
   },
   "source": [
    "* Can also think of a calendar as fully linear, like a number line or time line"
   ]
  },
  {
   "cell_type": "markdown",
   "id": "65c81333-57e8-47b9-8c99-5bde1d8426d1",
   "metadata": {},
   "source": [
    "* Q9: _Fill-in the blanks to complete the `fill_calendar_linear` function which creates a fully linear calendar._\n",
    "    ```C\n",
    "    void fill_calendar_linear() {\n",
    "        int calendar[_____]; // 4 * 7\n",
    "        int day = 1;\n",
    "        for (int week = 0; week < 4; week++) {\n",
    "            for (int dow = 0; dow < 7; dow++) {\n",
    "                calendar[__________________] = day; // week * 7 + dow\n",
    "                day++;\n",
    "            }\n",
    "        }\n",
    "    }\n",
    "    ```"
   ]
  },
  {
   "cell_type": "markdown",
   "id": "bd91ecd1-faab-4110-9a6e-ce6256b101ae",
   "metadata": {
    "slideshow": {
     "slide_type": "skip"
    },
    "tags": [
     "notes-only"
    ]
   },
   "source": [
    "* 2D array indices \"map to\" 1D array indices\n",
    "    ```\n",
    "     (0,0) (0,1) (0,2) (0,3) (0,4) (0,5) (0,6) (1,0) (1,1) (1,2) (1,3)  ...  (3,6) (3,7)\n",
    "    +-----+-----+-----+-----+-----+-----+-----+-----+-----+-----+-----+-----+-----+-----+\n",
    "    |  1  |  2  |  3  |  4  |  5  |  6  |  7  |  8  |  9  |  10 |  11 |     |  27 |  28 |\n",
    "    +-----+-----+-----+-----+-----+-----+-----+-----+-----+-----+-----+-----+-----+-----+\n",
    "    ```\n",
    "* _Can we the change code such that the function can safely return `calendar`?_"
   ]
  },
  {
   "cell_type": "code",
   "execution_count": null,
   "id": "da3c2a54-f739-409e-a14f-bc0f4391cf8c",
   "metadata": {
    "slideshow": {
     "slide_type": "skip"
    },
    "tags": [
     "notes-only"
    ]
   },
   "outputs": [],
   "source": [
    "int *fill_calendar_linear_heap() {\n",
    "    int *calendar = malloc(sizeof(int) * 28);\n",
    "    ...\n",
    "    return calendar;\n",
    "}"
   ]
  },
  {
   "cell_type": "markdown",
   "id": "cbb5b3f4-d951-4de0-b581-8a397ec04fe0",
   "metadata": {
    "slideshow": {
     "slide_type": "skip"
    },
    "tags": [
     "notes-only"
    ]
   },
   "source": [
    "* Only need a single call to malloc 😀\n",
    "* Determining indices is hard 😕"
   ]
  }
 ],
 "metadata": {
  "kernelspec": {
   "display_name": "C",
   "language": "c",
   "name": "c"
  },
  "language_info": {
   "file_extension": ".c",
   "mimetype": "c",
   "name": "c"
  }
 },
 "nbformat": 4,
 "nbformat_minor": 5
}
