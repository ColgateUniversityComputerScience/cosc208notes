{
 "cells": [
  {
   "cell_type": "markdown",
   "id": "275f3326-b6de-4d7d-b41a-f17ec6a57354",
   "metadata": {
    "editable": true,
    "slideshow": {
     "slide_type": "skip"
    },
    "tags": []
   },
   "source": [
    "# Program memory: dynamic memory allocation\n",
    "_COSC 208, Introduction to Computer Systems, Fall 2025_"
   ]
  },
  {
   "cell_type": "markdown",
   "id": "6bee8432-dd06-403c-8569-a49c0ad95db7",
   "metadata": {
    "editable": true,
    "slideshow": {
     "slide_type": "slide"
    },
    "tags": []
   },
   "source": [
    "## Laws of pointers & memory allocation\n",
    "1. A pointer variable holds a memory address\n",
    "2. An array variable is a constant pointer to the 0th element"
   ]
  },
  {
   "cell_type": "markdown",
   "id": "78c731ed-4eb1-45f2-9ae7-73534d9c9d45",
   "metadata": {
    "editable": true,
    "slideshow": {
     "slide_type": "slide"
    },
    "tags": []
   },
   "source": [
    "## Pointers as return values"
   ]
  },
  {
   "cell_type": "markdown",
   "id": "5151bdec-c504-4935-9e79-051eb5461c9e",
   "metadata": {
    "editable": true,
    "slideshow": {
     "slide_type": "skip"
    },
    "tags": [
     "notes-only"
    ]
   },
   "source": [
    "* _What happens?_"
   ]
  },
  {
   "cell_type": "code",
   "execution_count": 3,
   "id": "6090ea9d-c3b2-4067-8bd5-b0bf9c4eb058",
   "metadata": {
    "editable": true,
    "slideshow": {
     "slide_type": ""
    },
    "tags": [
     "worksheet-code-only"
    ]
   },
   "outputs": [
    {
     "name": "stdout",
     "output_type": "stream",
     "text": [
      "1\n"
     ]
    }
   ],
   "source": [
    "#include <stdio.h>\n",
    "int *one() {\n",
    "    int x = 1;\n",
    "    int *p = &x;\n",
    "    return p;\n",
    "}\n",
    "int main() {\n",
    "    int *q = one();\n",
    "    printf(\"%d\\n\", *q);\n",
    "}"
   ]
  },
  {
   "cell_type": "markdown",
   "id": "b50c6408-4923-41f9-bf33-a8ab4478dc24",
   "metadata": {
    "editable": true,
    "slideshow": {
     "slide_type": "skip"
    },
    "tags": [
     "notes-only"
    ]
   },
   "source": [
    "* `q` points to a variable that no longer exists!\n",
    "* _So, how can I return a pointer from a function?_ — dynamically allocate memory on the heap!"
   ]
  },
  {
   "cell_type": "markdown",
   "id": "b643e026-3e1e-4bf5-b1c6-10aead6325d9",
   "metadata": {
    "editable": true,
    "slideshow": {
     "slide_type": "skip"
    },
    "tags": [
     "notes-only"
    ]
   },
   "source": [
    "## Program memory\n",
    "* Memory layout\n",
    "    ```\n",
    "    ┏━━━━━━━━━━━━━━━━━━┓ 0\n",
    "    ┃ Operating system ┃\n",
    "    ┣━━━━━━━━━━━━━━━━━━┫\n",
    "    ┃       Code       ┃ <- Function instructions\n",
    "    ┣━━━━━━━━━━━━━━━━━━┫\n",
    "    ┃       Data       ┃ <- Global variables\n",
    "    ┣━━━━━━━━━━━━━━━━━━┫\n",
    "    ┃       Heap       ┃ <- Dyanmically allocated memory\n",
    "    ┃         ▼        ┃    Grows toward higher memory addresses\n",
    "    ┣━━━━━━━━━━━━━━━━━━┫    \n",
    "    ┃                  ┃\n",
    "    ┣━━━━━━━━━━━━━━━━━━┫ \n",
    "    ┃         ▲        ┃    Grows toward lower memory addresses\n",
    "    ┃       Stack      ┃ <- Local variables and parameters\n",
    "    ┗━━━━━━━━━━━━━━━━━━┛ Max address\n",
    "    ```\n",
    "    * Stack consists of stack frames – add a frame when a function is called, remove a frame when a function returns\n",
    "* Variable storage\n",
    "    * Local variables and parameters and stored on the stack --- in the frame for the function in which they are declared\n",
    "    * Global variables are stored in the data section\n",
    "* Memory allocation\n",
    "    * Code and data — automatically allocated with a program starts\n",
    "    * Stack — automatically allocated when a function is called; automatically deallocated when a function returns\n",
    "    * Heap memory — explicitly allocated and freed by a program"
   ]
  },
  {
   "cell_type": "markdown",
   "id": "2afba5cc-273c-4ded-ae65-296c9c722d2e",
   "metadata": {
    "editable": true,
    "slideshow": {
     "slide_type": "slide"
    },
    "tags": []
   },
   "source": [
    "## malloc"
   ]
  },
  {
   "cell_type": "markdown",
   "id": "845c51f0-b177-496c-b151-fd90ac71fb02",
   "metadata": {
    "editable": true,
    "slideshow": {
     "slide_type": "skip"
    },
    "tags": [
     "notes-only"
    ]
   },
   "source": [
    "* `void* malloc(unsigned int size)`"
   ]
  },
  {
   "cell_type": "markdown",
   "id": "29891b01-5921-4d84-9a15-fe9a051cfce3",
   "metadata": {
    "editable": true,
    "slideshow": {
     "slide_type": "skip"
    },
    "tags": []
   },
   "source": [
    "**Laws of pointers & memory allocation 3: Memory allocated on the heap persists until explicitly freed**"
   ]
  },
  {
   "cell_type": "markdown",
   "id": "30420360-9c83-410e-8341-e6877106682f",
   "metadata": {
    "editable": true,
    "slideshow": {
     "slide_type": "skip"
    },
    "tags": [
     "notes-only"
    ]
   },
   "source": [
    "* When to malloc?\n",
    "    * When the amount of space required is not known until runtime\n",
    "    * When a value must remain in memory even after returning from a function\n",
    "* How much to malloc?\n",
    "    * Use `sizeof` and a type: e.g., `sizeof(int)`\n",
    "    * How much to malloc for an array? — multiply sizeof(type) by number of elements in array"
   ]
  },
  {
   "cell_type": "markdown",
   "id": "d6dd3f18-2b38-482c-9ddf-fe3f311ce37a",
   "metadata": {
    "editable": true,
    "slideshow": {
     "slide_type": "skip"
    },
    "tags": [
     "blank"
    ]
   },
   "source": [
    "<div style=\"height:5em;\"></div>"
   ]
  },
  {
   "cell_type": "markdown",
   "id": "d960e639-3c95-450a-97e7-b5484cb5dd23",
   "metadata": {
    "editable": true,
    "slideshow": {
     "slide_type": ""
    },
    "tags": [
     "question"
    ]
   },
   "source": [
    "Q2: _Write a function called `range` that behaves similar to the `range` function in Python. Your function should take an unsigned integer (`length`) as a parameter, and return a dynamically allocated array with `length` unsigned integers. The array should be populated with the values 0 through `length-1`._"
   ]
  },
  {
   "cell_type": "code",
   "execution_count": 10,
   "id": "eb0b2377-fe80-4584-9297-2bf6f912c842",
   "metadata": {
    "editable": true,
    "slideshow": {
     "slide_type": "skip"
    },
    "tags": [
     "answer"
    ]
   },
   "outputs": [],
   "source": [
    "#include <stdlib.h>\n",
    "unsigned int *range(unsigned int length) {\n",
    "    unsigned int *nums = malloc(sizeof(unsigned int) * length);\n",
    "    for (int i = 0; i < length; i++) {\n",
    "        nums[i] = i;\n",
    "    }\n",
    "    return nums;\n",
    "}\n",
    "// Testing\n",
    "#include <assert.h>\n",
    "int main() {\n",
    "    unsigned int *result = range(3);\n",
    "    assert(result[0] == 0 && result[1] == 1 && result[2] == 2);\n",
    "}"
   ]
  },
  {
   "cell_type": "markdown",
   "id": "a2ae7737-f56d-4d8d-8b25-28c314d5f4c8",
   "metadata": {
    "editable": true,
    "slideshow": {
     "slide_type": "skip"
    },
    "tags": [
     "blank"
    ]
   },
   "source": [
    "<div style=\"height:20em;\"></div>"
   ]
  },
  {
   "cell_type": "markdown",
   "id": "7fc785cd-51be-41f1-b10b-9d7fa2799424",
   "metadata": {
    "editable": true,
    "slideshow": {
     "slide_type": "subslide"
    },
    "tags": [
     "question"
    ]
   },
   "source": [
    "Q3: _Assume you wanted to write a function that creates a copy of a string. What is wrong with each of the following attempts at writing such a function?_"
   ]
  },
  {
   "cell_type": "code",
   "execution_count": null,
   "id": "10ca7620-c5cd-4f2d-9e30-54c86e9c1363",
   "metadata": {
    "editable": true,
    "slideshow": {
     "slide_type": ""
    },
    "tags": [
     "question"
    ]
   },
   "outputs": [],
   "source": [
    "#include <string.h>\n",
    "char *copy1(char strA[]) {\n",
    "    char strB[strlen(strA) + 1];\n",
    "    strcpy(strB, strA);\n",
    "    return strB;\n",
    "}"
   ]
  },
  {
   "cell_type": "markdown",
   "id": "da0622e3-a4e6-4034-83db-576136639132",
   "metadata": {
    "editable": true,
    "slideshow": {
     "slide_type": "skip"
    },
    "tags": [
     "answer"
    ]
   },
   "source": [
    "    You cannot return a locally-declared array"
   ]
  },
  {
   "cell_type": "markdown",
   "id": "bbb68456-ce5d-45c3-a80d-e070170f4893",
   "metadata": {
    "editable": true,
    "slideshow": {
     "slide_type": "skip"
    },
    "tags": [
     "blank"
    ]
   },
   "source": [
    "<p style=\"height:2em;\"></p>"
   ]
  },
  {
   "cell_type": "code",
   "execution_count": null,
   "id": "412120ac-58ac-4b9e-9b51-ea731d492543",
   "metadata": {
    "editable": true,
    "slideshow": {
     "slide_type": "fragment"
    },
    "tags": [
     "question"
    ]
   },
   "outputs": [],
   "source": [
    "#include <string.h>\n",
    "#include <stdlib.h>\n",
    "char copy2(char strA[]) {\n",
    "    char *strB = malloc(sizeof(char) * (strlen(strA) + 1));\n",
    "    strcpy(strB, strA);\n",
    "    return *strB;\n",
    "}"
   ]
  },
  {
   "cell_type": "markdown",
   "id": "5c98007b-c669-4e52-82f4-0e571c5c20f4",
   "metadata": {
    "editable": true,
    "slideshow": {
     "slide_type": "skip"
    },
    "tags": [
     "answer"
    ]
   },
   "source": [
    "    Returns the first character in the copy, instead of an array of characters"
   ]
  },
  {
   "cell_type": "markdown",
   "id": "f6177520-e634-42b8-8223-13232323c6b3",
   "metadata": {
    "editable": true,
    "slideshow": {
     "slide_type": "skip"
    },
    "tags": [
     "blank"
    ]
   },
   "source": [
    "<p style=\"height:2em;\"></p>"
   ]
  },
  {
   "cell_type": "code",
   "execution_count": null,
   "id": "09591b4b-8015-483e-8d10-468f419f2341",
   "metadata": {
    "editable": true,
    "slideshow": {
     "slide_type": "fragment"
    },
    "tags": [
     "worksheet-code-only",
     "question"
    ]
   },
   "outputs": [],
   "source": [
    "#include <string.h>\n",
    "#include <stdlib.h>\n",
    "char *copy3(char strA[]) {\n",
    "    char *strB = malloc(sizeof(char *));\n",
    "    strcpy(strB, strA);\n",
    "    return strB;\n",
    "}"
   ]
  },
  {
   "cell_type": "markdown",
   "id": "e57888d3-8f52-4f80-a482-43a6fb5d3f91",
   "metadata": {
    "editable": true,
    "slideshow": {
     "slide_type": "skip"
    },
    "tags": [
     "answer"
    ]
   },
   "source": [
    "    Allocates space for a pointer, not space for the number of characters in strA"
   ]
  },
  {
   "cell_type": "markdown",
   "id": "996e6ad4-ff71-4bfd-9e0f-2c29ad734752",
   "metadata": {
    "editable": true,
    "slideshow": {
     "slide_type": "skip"
    },
    "tags": [
     "blank"
    ]
   },
   "source": [
    "<p style=\"height:2em;\"></p>"
   ]
  },
  {
   "cell_type": "markdown",
   "id": "eec59287-b012-408d-aea0-4dacba222de2",
   "metadata": {
    "editable": true,
    "slideshow": {
     "slide_type": "subslide"
    },
    "tags": [
     "question"
    ]
   },
   "source": [
    "Q4: _Write a function called `generate_password` that takes an unsigned integer (`length`) as a parameter, and returns a dynamically allocated array of with `length` randomly selected characters (e.g., uppercase letters, lowercase letters, digits, symbols). Your function should use the `rand()` function from the C standard library, which returns a pseudo-random integer in the range 0 to `RAND_MAX`._"
   ]
  },
  {
   "cell_type": "code",
   "execution_count": 13,
   "id": "dafae165-a588-4b56-94be-44050d9a9d46",
   "metadata": {
    "editable": true,
    "slideshow": {
     "slide_type": "skip"
    },
    "tags": [
     "answer"
    ]
   },
   "outputs": [
    {
     "name": "stdout",
     "output_type": "stream",
     "text": [
      "d:8#U2`t\n"
     ]
    }
   ],
   "source": [
    "#include <stdlib.h>\n",
    "char *generate_password(unsigned int length) {\n",
    "    char *password = malloc(sizeof(char) * (length + 1));\n",
    "    for (int i = 0; i < length; i++) {\n",
    "        password[i] = (rand() % ('~' - '!')) + '!';\n",
    "    }\n",
    "    password[length] = '\\0';\n",
    "    return password;\n",
    "}\n",
    "// Testing\n",
    "#include <stdio.h>\n",
    "int main() {\n",
    "    printf(\"%s\\n\", generate_password(8));\n",
    "}"
   ]
  },
  {
   "cell_type": "markdown",
   "id": "e6fb9b84-7a9f-479d-9e05-fa424fa887fd",
   "metadata": {
    "editable": true,
    "slideshow": {
     "slide_type": "skip"
    },
    "tags": [
     "blank"
    ]
   },
   "source": [
    "<div style=\"height:20em;\"></div>"
   ]
  },
  {
   "cell_type": "markdown",
   "id": "94e710c7-7389-4485-a364-077319170deb",
   "metadata": {
    "editable": true,
    "slideshow": {
     "slide_type": "slide"
    },
    "tags": []
   },
   "source": [
    "## 2D arrays"
   ]
  },
  {
   "cell_type": "markdown",
   "id": "9d1a088a-297b-418c-8907-aa120ccbae03",
   "metadata": {
    "editable": true,
    "slideshow": {
     "slide_type": ""
    },
    "tags": [
     "notes-only"
    ]
   },
   "source": [
    "Assume we wanted to represent a Tic Tac Toe board\n",
    "```\n",
    "+---+---+---+\n",
    "| X |   |   |\n",
    "+---+---+---+\n",
    "|   | X |   |\n",
    "+---+---+---+\n",
    "|   | O |   |\n",
    "+---+---+---+\n",
    "```"
   ]
  },
  {
   "cell_type": "markdown",
   "id": "c9f90029-fc5b-40f4-8d3b-8c1b89b0bd22",
   "metadata": {
    "editable": true,
    "slideshow": {
     "slide_type": "skip"
    },
    "tags": [
     "notes-only"
    ]
   },
   "source": [
    "* _How would we create an empty board?_ – need to create a 2D array\n",
    "* _How would we represent one row of the board?_ – as an array of characters"
   ]
  },
  {
   "cell_type": "code",
   "execution_count": null,
   "id": "33f61d74-693d-4eab-8fc6-e7df1a4905a3",
   "metadata": {
    "editable": true,
    "slideshow": {
     "slide_type": "skip"
    },
    "tags": [
     "notes-only"
    ]
   },
   "outputs": [],
   "source": [
    "// First attempt\n",
    "#include <stdlib.h>\n",
    "#define BOARD_SIZE 3\n",
    "??? create_board() {\n",
    "    char *top_row = malloc(sizeof(char) * BOARD_SIZE);\n",
    "    char *middle_row = malloc(sizeof(char) * BOARD_SIZE);\n",
    "    char *bottom_row = malloc(sizeof(char) * BOARD_SIZE);\n",
    "    return ???; // How do we return three arrays?\n",
    "}"
   ]
  },
  {
   "cell_type": "markdown",
   "id": "d0003e15-8334-4ae7-ace6-65543fb7ff00",
   "metadata": {
    "editable": true,
    "slideshow": {
     "slide_type": "skip"
    },
    "tags": [
     "notes-only"
    ]
   },
   "source": [
    "* Create an array-of-arrays\n",
    "* _An array is a..._ – pointer\n",
    "* _What does an array-of-arrays store?_ – pointers\n",
    "* _What is an array-of-arrays?_ – a pointer to the zeroth element that is a pointer to the zeroth element"
   ]
  },
  {
   "cell_type": "code",
   "execution_count": null,
   "id": "087bdcc4-4417-4a62-8153-90cdc5a0227c",
   "metadata": {
    "editable": true,
    "slideshow": {
     "slide_type": "skip"
    },
    "tags": [
     "notes-only"
    ]
   },
   "outputs": [],
   "source": [
    "// Second attempt\n",
    "#include <stdlib.h>\n",
    "#define BOARD_SIZE 3\n",
    "char **create_board() {\n",
    "    char *top_row = malloc(sizeof(char) * BOARD_SIZE);\n",
    "    char *middle_row = malloc(sizeof(char) * BOARD_SIZE);\n",
    "    char *bottom_row = malloc(sizeof(char) * BOARD_SIZE);\n",
    "    char **board = malloc(sizeof(char *) * BOARD_SIZE);\n",
    "    board[0] = top_row;\n",
    "    board[1] = middle_row;\n",
    "    board[2] = bottom_row;\n",
    "    return board;\n",
    "}"
   ]
  },
  {
   "cell_type": "code",
   "execution_count": null,
   "id": "2e988b4c-58c5-4b17-900c-4b1e11d9bba2",
   "metadata": {
    "editable": true,
    "slideshow": {
     "slide_type": "skip"
    },
    "tags": [
     "notes-only"
    ]
   },
   "outputs": [],
   "source": [
    "// Final version\n",
    "#include <stdlib.h>\n",
    "#define BOARD_SIZE 3\n",
    "char **create_board() {\n",
    "    char **board = malloc(sizeof(char *) * BOARD_SIZE);\n",
    "    for (int r = 0; r < BOARD_SIZE; r++) {\n",
    "        board[r] = malloc(sizeof(char) * BOARD_SIZE);\n",
    "        for (int c = 0; c < BOARD_SIZE; c++) {\n",
    "            board[r][c] = ' ';\n",
    "        }\n",
    "    }\n",
    "    return board;\n",
    "}\n",
    "\n",
    "int main() {\n",
    "    char **ttt = create_board();\n",
    "    ttt[1][1] = 'X';\n",
    "    \n",
    "    for (int r = 0; r < BOARD_SIZE; r++) {\n",
    "        free(ttt[r]);\n",
    "    }\n",
    "    free(ttt);\n",
    "}"
   ]
  },
  {
   "cell_type": "markdown",
   "id": "4294d784-0ff0-4f7e-8f49-17c3a067b86d",
   "metadata": {
    "editable": true,
    "slideshow": {
     "slide_type": "skip"
    },
    "tags": [
     "blank"
    ]
   },
   "source": [
    "<div style=\"height:15em;\"></div>"
   ]
  },
  {
   "cell_type": "markdown",
   "id": "0ab8e938-3926-41be-80d2-5bd97cc9c4c0",
   "metadata": {
    "editable": true,
    "slideshow": {
     "slide_type": "subslide"
    },
    "tags": [
     "question"
    ]
   },
   "source": [
    "Q5: _Write a `print_board` function that prints the current state of a tic tac toe board._"
   ]
  },
  {
   "cell_type": "code",
   "execution_count": 2,
   "id": "69211947-57fc-4a5b-920b-3be69411b313",
   "metadata": {
    "editable": true,
    "slideshow": {
     "slide_type": "skip"
    },
    "tags": [
     "answer"
    ]
   },
   "outputs": [
    {
     "name": "stdout",
     "output_type": "stream",
     "text": [
      " X |   |   \n",
      "---+---+---\n",
      " O |   |   \n",
      "---+---+---\n",
      "   |   |   \n"
     ]
    }
   ],
   "source": [
    "#include <stdlib.h>\n",
    "#include <stdio.h>\n",
    "#define BOARD_SIZE 3\n",
    "char **create_board() {\n",
    "    char **board = malloc(sizeof(char *) * BOARD_SIZE);\n",
    "    for (int r = 0; r < BOARD_SIZE; r++) {\n",
    "        board[r] = malloc(sizeof(char) * BOARD_SIZE);\n",
    "        for (int c = 0; c < BOARD_SIZE; c++) {\n",
    "            board[r][c] = ' ';\n",
    "        }\n",
    "    }\n",
    "    return board;\n",
    "}\n",
    "void print_board(char **board) {\n",
    "    for (int r = 0; r < BOARD_SIZE; r++) {\n",
    "        if (r != 0) {\n",
    "            printf(\"---+---+---\\n\");\n",
    "        }\n",
    "        printf(\" %c | %c | %c \\n\", board[r][0], board[r][1], board[r][2]);\n",
    "    }\n",
    "}\n",
    "int main() {\n",
    "    char **ttt = create_board();\n",
    "    ttt[0][0] = 'X';\n",
    "    ttt[1][0] = 'O';\n",
    "    print_board(ttt);\n",
    "}"
   ]
  },
  {
   "cell_type": "markdown",
   "id": "57428cd0-55f9-470a-821d-757a8f555710",
   "metadata": {
    "editable": true,
    "slideshow": {
     "slide_type": "skip"
    },
    "tags": [
     "blank"
    ]
   },
   "source": [
    "<p style=\"height:20em;\"></p>"
   ]
  },
  {
   "cell_type": "markdown",
   "id": "0694a226-69d1-4d7d-af7f-ad2938b89e3d",
   "metadata": {
    "editable": true,
    "slideshow": {
     "slide_type": ""
    },
    "tags": [
     "question"
    ]
   },
   "source": [
    "Q6: _Write a function called `lengths` that takes an array of strings and the number of elements in the array and returns an array of integers containing the length of each string._"
   ]
  },
  {
   "cell_type": "code",
   "execution_count": 17,
   "id": "4086184f-48b2-47fb-9855-14fe4c833479",
   "metadata": {
    "editable": true,
    "slideshow": {
     "slide_type": "skip"
    },
    "tags": [
     "answer"
    ]
   },
   "outputs": [],
   "source": [
    "#include <stdlib.h>\n",
    "#include <string.h>\n",
    "int *lengths(char *strs[], int count) {\n",
    "    int *lens = malloc(sizeof(int) * count);\n",
    "    for (int i = 0; i < count; i++) {\n",
    "        lens[i] = strlen(strs[i]);\n",
    "    }\n",
    "    return lens;\n",
    "}\n",
    "// Testing\n",
    "#include <assert.h>\n",
    "int main() {\n",
    "    char *strs[] = {\"abc\", \"12345\", \"do re mi\"};\n",
    "    int *lens = lengths(strs, 3);\n",
    "    assert(lens[0] == 3 && lens[1] == 5 && lens[2] == 8);\n",
    "}"
   ]
  },
  {
   "cell_type": "markdown",
   "id": "ad553926-d006-47c5-ac1a-63489fb130db",
   "metadata": {
    "editable": true,
    "slideshow": {
     "slide_type": "skip"
    },
    "tags": [
     "blank"
    ]
   },
   "source": [
    "<div style=\"height:20em;\"></div>"
   ]
  },
  {
   "cell_type": "markdown",
   "id": "01d96465-8682-4c9a-be4b-cdec0b551f32",
   "metadata": {
    "editable": true,
    "slideshow": {
     "slide_type": ""
    },
    "tags": []
   },
   "source": [
    "Q7: _Write a `get_winner` function that takes a tic tac toe board and returns `X` if `X`s won, `O` if `O`s won, `T` if there is a tie, or `?` if there is not yet a winner or tie._"
   ]
  },
  {
   "cell_type": "code",
   "execution_count": 1,
   "id": "67baa296-caa8-4c4e-aa78-5029a9d8a9d0",
   "metadata": {
    "editable": true,
    "scrolled": true,
    "slideshow": {
     "slide_type": "skip"
    },
    "tags": [
     "notes-only"
    ]
   },
   "outputs": [],
   "source": [
    "#define BOARD_SIZE 3\n",
    "#include <assert.h>\n",
    "#include <stdio.h>\n",
    "#include <stdlib.h>\n",
    "char **create_board() {\n",
    "    char **board = malloc(sizeof(char *) * BOARD_SIZE);\n",
    "    for (int r = 0; r < BOARD_SIZE; r++) {\n",
    "        board[r] = malloc(sizeof(char) * BOARD_SIZE);\n",
    "        for (int c = 0; c < BOARD_SIZE; c++) {\n",
    "            board[r][c] = ' ';\n",
    "        }\n",
    "    }\n",
    "    return board;\n",
    "}\n",
    "void print_board(char **board) {\n",
    "    for (int r = 0; r < BOARD_SIZE; r++) {\n",
    "        if (r != 0) {\n",
    "            printf(\"---+---+---\\n\");\n",
    "        }\n",
    "        printf(\" %c | %c | %c \\n\", board[r][0], board[r][1], board[r][2]);\n",
    "    }\n",
    "}\n",
    "char get_winner(char **board) {\n",
    "    // Check rows for win\n",
    "    for (int r = 0; r < BOARD_SIZE; r++) {\n",
    "        if (board[r][0] != ' ' && board[r][0] == board[r][1] && board[r][0] == board[r][2]) {\n",
    "            return board[r][0];\n",
    "        }\n",
    "    }\n",
    "    // Check cols for win\n",
    "    for (int c = 0; c < BOARD_SIZE; c++) {\n",
    "        if (board[0][c] != ' ' && board[0][c] == board[1][c] && board[0][c] == board[2][c]) {\n",
    "            return board[0][c];\n",
    "        }\n",
    "    }\n",
    "    // Check diagonals for win\n",
    "    if (board[0][0] != ' ' && board[0][0] == board[1][1] && board[0][0] == board[2][2]) {\n",
    "        return board[0][0];\n",
    "    }\n",
    "    if (board[0][2] != ' ' && board[0][2] == board[1][1] && board[0][2] == board[2][0]) {\n",
    "        return board[0][2];\n",
    "    }\n",
    "    // Check diagonals for unknown state\n",
    "    for (int r = 0; r < BOARD_SIZE; r++) {\n",
    "        for (int c = 0; c < BOARD_SIZE; c++) {\n",
    "            if (board[r][c] == ' ') {\n",
    "                return '?';\n",
    "            }\n",
    "        }\n",
    "    }\n",
    "    return 'T';\n",
    "}\n",
    "int main() {\n",
    "    char **ttt = create_board();\n",
    "    ttt[0][0] = 'X';\n",
    "    ttt[0][1] = 'X';\n",
    "    print_board(ttt);\n",
    "    assert(get_winner(ttt) == '?');\n",
    "    ttt[0][2] = 'X';\n",
    "    ttt[2][0] = 'O';\n",
    "    ttt[2][2] = 'O';\n",
    "    print_board(ttt);\n",
    "    assert(get_winner(ttt) == 'X');\n",
    "    ttt[0][0] = ' ';\n",
    "    ttt[1][1] = 'X';\n",
    "    ttt[2][1] = 'X';\n",
    "    print_board(ttt);\n",
    "    assert(get_winner(ttt) == 'X');\n",
    "        ttt[0][0] = ' ';\n",
    "    ttt[2][0] = 'X';\n",
    "    ttt[2][1] = ' ';\n",
    "    print_board(ttt);\n",
    "    assert(get_winner(ttt) == 'X');\n",
    "}"
   ]
  },
  {
   "cell_type": "markdown",
   "id": "6326ba20-9144-4854-b9ba-527df3e7fbbe",
   "metadata": {
    "editable": true,
    "slideshow": {
     "slide_type": "skip"
    },
    "tags": [
     "blank"
    ]
   },
   "source": [
    "<p style=\"height:18em;\"></p>"
   ]
  },
  {
   "cell_type": "markdown",
   "id": "a0cc7efc-a8d4-4a3b-a7d9-e9bd74c8a231",
   "metadata": {
    "editable": true,
    "slideshow": {
     "slide_type": "slide"
    },
    "tags": []
   },
   "source": [
    "## free"
   ]
  },
  {
   "cell_type": "markdown",
   "id": "1e0323aa-2d0b-4673-8a18-843fcd148f77",
   "metadata": {
    "editable": true,
    "slideshow": {
     "slide_type": "skip"
    },
    "tags": [
     "notes-only"
    ]
   },
   "source": [
    "* `void free(void *block)`\n",
    "    * Block must be the same as the value returned by malloc (i.e., a pointer to the beginning of the allocated memory region)\n",
    "    * Entire memory region is freed; cannot free part of a memory region\n",
    "* When to free? — when a value stored on the heap is no longer needed\n",
    "    * Free memory regions as soon as you are done\n",
    "    * Every call to malloc should have a corresponding call to free\n",
    "    * Do not read/write the memory location after it has been freed!"
   ]
  },
  {
   "cell_type": "markdown",
   "id": "b223e1d5-4349-43a6-8b17-1f34ca61ca33",
   "metadata": {
    "editable": true,
    "slideshow": {
     "slide_type": ""
    },
    "tags": []
   },
   "source": [
    "Q8: _What memory deallocation mistake has been made in each of the following programs?_"
   ]
  },
  {
   "cell_type": "code",
   "execution_count": null,
   "id": "8b2fd467-6148-4d09-98e2-344e26edc444",
   "metadata": {
    "editable": true,
    "slideshow": {
     "slide_type": ""
    },
    "tags": [
     "worksheet-code-only"
    ]
   },
   "outputs": [],
   "source": [
    "#include <stdlib.h>\n",
    "int main() {\n",
    "    int *ptrA = malloc(sizeof(int) * 3);\n",
    "    int *ptrB = ptrA;\n",
    "    free(ptrA);\n",
    "    free(ptrB);\n",
    "}"
   ]
  },
  {
   "cell_type": "markdown",
   "id": "3fd844d6-b4a2-4907-874b-da2d32fa423c",
   "metadata": {
    "editable": true,
    "slideshow": {
     "slide_type": "skip"
    },
    "tags": [
     "notes-only"
    ]
   },
   "source": [
    "_Double free_"
   ]
  },
  {
   "cell_type": "markdown",
   "id": "e812d2b3-77d0-44e8-88d8-3da706aebd15",
   "metadata": {
    "editable": true,
    "slideshow": {
     "slide_type": "skip"
    },
    "tags": [
     "blank"
    ]
   },
   "source": [
    "<p style=\"height:2em;\"></p>"
   ]
  },
  {
   "cell_type": "code",
   "execution_count": null,
   "id": "44752798-f881-4a3b-8add-9997c44842fe",
   "metadata": {
    "editable": true,
    "slideshow": {
     "slide_type": "fragment"
    },
    "tags": [
     "worksheet-code-only"
    ]
   },
   "outputs": [],
   "source": [
    "#include <stdlib.h>\n",
    "int main() {\n",
    "    int *ptr = malloc(sizeof(int) * 3);\n",
    "    ptr++;\n",
    "    free(ptr);\n",
    "}"
   ]
  },
  {
   "cell_type": "markdown",
   "id": "5a99184c-0ceb-4764-8aae-c3cc63876648",
   "metadata": {
    "editable": true,
    "slideshow": {
     "slide_type": "skip"
    },
    "tags": [
     "notes-only"
    ]
   },
   "source": [
    "_Not freeing from beginning of allocated region_"
   ]
  },
  {
   "cell_type": "markdown",
   "id": "8c841fc1-d57e-4fd2-82e8-8d0dc3126a79",
   "metadata": {
    "editable": true,
    "slideshow": {
     "slide_type": "skip"
    },
    "tags": [
     "blank"
    ]
   },
   "source": [
    "<p style=\"height:2em;\"></p>"
   ]
  },
  {
   "cell_type": "code",
   "execution_count": 1,
   "id": "46bda9a1-2942-4fd6-90b4-f16347ead331",
   "metadata": {
    "editable": true,
    "slideshow": {
     "slide_type": "subslide"
    },
    "tags": [
     "worksheet-code-only"
    ]
   },
   "outputs": [],
   "source": [
    "#include <stdlib.h>\n",
    "int main() {\n",
    "    int *ptrA = malloc(sizeof(int) * 3);\n",
    "    int *ptrB = ptrA;\n",
    "    ptrA[0] = 0;\n",
    "    ptrB[1] = 1;\n",
    "    free(ptrA);\n",
    "    ptrB[2] = 2;\n",
    "}"
   ]
  },
  {
   "cell_type": "markdown",
   "id": "1ccbc5dd-adec-4689-9939-74d03f7d3d98",
   "metadata": {
    "editable": true,
    "slideshow": {
     "slide_type": "skip"
    },
    "tags": [
     "notes-only"
    ]
   },
   "source": [
    "_Use after free_"
   ]
  },
  {
   "cell_type": "markdown",
   "id": "11fba720-4560-4d43-972f-47982f0d2a85",
   "metadata": {
    "editable": true,
    "slideshow": {
     "slide_type": "skip"
    },
    "tags": [
     "blank"
    ]
   },
   "source": [
    "<p style=\"height:2em;\"></p>"
   ]
  },
  {
   "cell_type": "markdown",
   "id": "c2d9cdd3-bd08-49ad-821e-2c0ecd436f69",
   "metadata": {
    "editable": true,
    "slideshow": {
     "slide_type": "subslide"
    },
    "tags": [
     "question"
    ]
   },
   "source": [
    "Q9: _Write a `destroy_board` function that deallocates a tic tac toe board._"
   ]
  },
  {
   "cell_type": "code",
   "execution_count": 3,
   "id": "c19016a7-ede9-449e-8bd2-27cc4e6894ec",
   "metadata": {
    "editable": true,
    "scrolled": true,
    "slideshow": {
     "slide_type": "skip"
    },
    "tags": [
     "answer"
    ]
   },
   "outputs": [],
   "source": [
    "#define BOARD_SIZE 3\n",
    "#include <assert.h>\n",
    "#include <stdio.h>\n",
    "#include <stdlib.h>\n",
    "char **create_board() {\n",
    "    char **board = malloc(sizeof(char *) * BOARD_SIZE);\n",
    "    for (int r = 0; r < BOARD_SIZE; r++) {\n",
    "        board[r] = malloc(sizeof(char) * BOARD_SIZE);\n",
    "        for (int c = 0; c < BOARD_SIZE; c++) {\n",
    "            board[r][c] = ' ';\n",
    "        }\n",
    "    }\n",
    "    return board;\n",
    "}\n",
    "void destroy_board(char **board) {\n",
    "    for (int r = 0; r < BOARD_SIZE; r++) {\n",
    "        free(board[r]);\n",
    "    }\n",
    "    free(board);\n",
    "}\n",
    "int main() {\n",
    "    char **ttt = create_board();\n",
    "    destroy_board(ttt);\n",
    "}"
   ]
  },
  {
   "cell_type": "markdown",
   "id": "e47efe39-53e7-420d-a59e-1f2ad35f914f",
   "metadata": {
    "editable": true,
    "slideshow": {
     "slide_type": "skip"
    },
    "tags": [
     "blank"
    ]
   },
   "source": [
    "<p style=\"height:18em;\"></p>"
   ]
  }
 ],
 "metadata": {
  "kernelspec": {
   "display_name": "C",
   "language": "c",
   "name": "c"
  },
  "language_info": {
   "file_extension": ".c",
   "mimetype": "text/plain",
   "name": "c"
  }
 },
 "nbformat": 4,
 "nbformat_minor": 5
}
