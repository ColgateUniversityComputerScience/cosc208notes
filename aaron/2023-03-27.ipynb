{
 "cells": [
  {
   "cell_type": "markdown",
   "id": "39d76db8-edb9-47d5-bec8-7998805660b3",
   "metadata": {
    "slideshow": {
     "slide_type": "skip"
    },
    "tags": []
   },
   "source": [
    "# Assembly: conditionals\n",
    "_COSC 208, Introduction to Computer Systems, 2023-03-27_"
   ]
  },
  {
   "cell_type": "markdown",
   "id": "37653a99-1c8a-47ac-b68c-6e7336bb8328",
   "metadata": {
    "slideshow": {
     "slide_type": "skip"
    },
    "tags": []
   },
   "source": [
    "## Announcements\n",
    "* Project 3 due Thursday @ 11pm"
   ]
  },
  {
   "cell_type": "markdown",
   "id": "f17866fc-fc93-480c-a9a5-d903a0657063",
   "metadata": {
    "slideshow": {
     "slide_type": "skip"
    },
    "tags": []
   },
   "source": [
    "## Outline\n",
    "* Warm-up\n",
    "* Mapping C conditionals to assembly code\n",
    "* Transforming C code to goto-form\n",
    "* Practice with conditionals"
   ]
  },
  {
   "cell_type": "markdown",
   "id": "e663073f-3384-4891-978a-b8c31d0a6263",
   "metadata": {
    "slideshow": {
     "slide_type": "slide"
    },
    "tags": []
   },
   "source": [
    "## Warm-up (Q3 & Q4 from Friday)"
   ]
  },
  {
   "cell_type": "markdown",
   "id": "a8d5eb72-bfe7-41a9-bdfc-c753fc218cb7",
   "metadata": {
    "slideshow": {
     "slide_type": "skip"
    },
    "tags": []
   },
   "source": [
    "Q1: _The following C code was compiled into assembly (using `gcc`)._"
   ]
  },
  {
   "cell_type": "code",
   "execution_count": null,
   "id": "897583ab-2be7-4e6f-a091-1294e55b439a",
   "metadata": {},
   "outputs": [],
   "source": [
    "/*1*/  int divide(int numerator, int denominator) {\n",
    "/*2*/      int result = -1;\n",
    "/*3*/      result = numerator / denominator;\n",
    "/*4*/      return result;\n",
    "/*5*/  }"
   ]
  },
  {
   "cell_type": "markdown",
   "id": "5620bbd4-ca17-4082-b168-58fb578c5ad0",
   "metadata": {
    "slideshow": {
     "slide_type": "skip"
    },
    "tags": []
   },
   "source": [
    "_For each line of assembly:_\n",
    "1. _Indicate which original line of C code (above) the assembly instruction was derived from; and_\n",
    "2. _Write the low-level C code equivalent of the assembly instruction, treating registers as if they were variable names._"
   ]
  },
  {
   "cell_type": "markdown",
   "id": "5a2d9a4e-78f8-459a-9adf-7a876de1df1e",
   "metadata": {
    "slideshow": {
     "slide_type": "skip"
    },
    "tags": [
     "notes-only"
    ]
   },
   "source": [
    "```\n",
    "000000000000076c <divide>:                      // Line     Low-level C\n",
    "    76c:    d10083ff     sub    sp, sp, #0x20   // 1        sp = sp - 0x20\n",
    "    770:    b9000fe0     str    w0, [sp, #12]   // 1        *(sp+12) = w0\n",
    "    774:    b9000be1     str    w1, [sp, #8]    // 1        *(sp+8) = w1\n",
    "    778:    12800000     mov    w0, #0xffffffff // 2        w0 = 0xffffffff\n",
    "    77c:    b9001fe0     str    w0, [sp, #28]   // 2        *(sp+28) = w0\n",
    "    780:    b9400fe1     ldr    w1, [sp, #12]   // 3        w1 = *(sp+12)\n",
    "    784:    b9400be0     ldr    w0, [sp, #8]    // 3        w0 = *(sp+8)\n",
    "    788:    1ac00c20     sdiv   w0, w1, w0      // 3        w0 = w1/w0\n",
    "    78c:    b9001fe0     str    w0, [sp, #28]   // 3        *(sp+28) = w0\n",
    "    790:    b9401fe0     ldr    w0, [sp, #28]   // 4        w0 = *(sp+28)\n",
    "    794:    910083ff     add    sp, sp, #0x20   // 4        sp = sp + 0x20\n",
    "    798:    d65f03c0     ret                    // 4        return\n",
    "```"
   ]
  },
  {
   "cell_type": "markdown",
   "id": "ebb176b0-807a-4fe0-95ff-336daec12900",
   "metadata": {
    "tags": [
     "worksheet-only"
    ]
   },
   "source": [
    "```\n",
    "000000000000076c <divide>:                      // Line     Low-level C\n",
    "    76c:    d10083ff     sub    sp, sp, #0x20   // \n",
    "    770:    b9000fe0     str    w0, [sp, #12]   // \n",
    "    774:    b9000be1     str    w1, [sp, #8]    // \n",
    "    778:    12800000     mov    w0, #0xffffffff // \n",
    "    77c:    b9001fe0     str    w0, [sp, #28]   // \n",
    "    780:    b9400fe1     ldr    w1, [sp, #12]   // \n",
    "    784:    b9400be0     ldr    w0, [sp, #8]    // \n",
    "    788:    1ac00c20     sdiv   w0, w1, w0      // \n",
    "    78c:    b9001fe0     str    w0, [sp, #28]   //\n",
    "    790:    b9401fe0     ldr    w0, [sp, #28]   // \n",
    "    794:    910083ff     add    sp, sp, #0x20   // \n",
    "    798:    d65f03c0     ret                    // \n",
    "```"
   ]
  },
  {
   "cell_type": "markdown",
   "id": "b6cbaad6-2054-470a-a058-2b122b492ff7",
   "metadata": {
    "slideshow": {
     "slide_type": "skip"
    },
    "tags": []
   },
   "source": [
    "Q2: _Assume the registers initially hold the following values:_\n",
    "```\n",
    "sp = 0xFE0\n",
    "w/x0 = 100\n",
    "w/x1 = 5\n",
    "```\n",
    "_Draw the contents of the stack and registers just prior to the execution of the second-to-last instruction above._"
   ]
  },
  {
   "cell_type": "markdown",
   "id": "9b770933-ed6c-415e-a1ac-d1e9c467649c",
   "metadata": {
    "slideshow": {
     "slide_type": "skip"
    },
    "tags": [
     "notes-only"
    ]
   },
   "source": [
    "```\n",
    "        0  1  2  3  4  5  6  7  8          \n",
    " sp ->  +--+--+--+--+--+--+--+--+\n",
    " 0xFC0  |                       |\n",
    "        +--+--+--+--+--+--+--+--+\n",
    " 0xFC8  |     5     |    100    |\n",
    "        +--+--+--+--+--+--+--+--+\n",
    " 0xFD0  |                       |\n",
    "        +--+--+--+--+--+--+--+--+\n",
    " 0xFD8  |           |     20    |\n",
    "        +--+--+--+--+--+--+--+--+\n",
    "sp = 0xFC0\n",
    "w/x0 = 20\n",
    "w/x1 = 100\n",
    "```"
   ]
  },
  {
   "cell_type": "markdown",
   "id": "d73216e2-ddd8-47ad-81ce-6661c33ec1d8",
   "metadata": {
    "slideshow": {
     "slide_type": "skip"
    },
    "tags": [
     "worksheet-only"
    ]
   },
   "source": [
    "<p style=\"height:10em;\"></p>\n",
    "\n",
    "🛑 **STOP here** after completing the above question; if you have extra time please **skip ahead** to the extra practice."
   ]
  },
  {
   "cell_type": "markdown",
   "id": "a047debc-cede-40e0-b229-4ab242ba3a5d",
   "metadata": {
    "slideshow": {
     "slide_type": "skip"
    },
    "tags": [
     "notes-only"
    ]
   },
   "source": [
    "* _Why is `#0xffffffff` being stored in `w0`?_ — this is the two's complement representation of -1\n",
    "* _When might this function cause an error?_ — when denominator is 0\n",
    "* _How would you modify the C code to avoid an error?_"
   ]
  },
  {
   "cell_type": "code",
   "execution_count": null,
   "id": "f4f5cbe9-3bfe-47e3-a222-3ba300880666",
   "metadata": {
    "slideshow": {
     "slide_type": "skip"
    },
    "tags": [
     "notes-only"
    ]
   },
   "outputs": [],
   "source": [
    "/*1*/  int divide_safe(int numerator, int denominator) {\n",
    "/*2*/      int result = -1;\n",
    "/*3*/      if (denominator != 0) {\n",
    "/*4*/          result = numerator / denominator;\n",
    "/*5*/      }\n",
    "/*6*/      return result;\n",
    "/*7*/  }"
   ]
  },
  {
   "cell_type": "markdown",
   "id": "a176dd9c-601e-4bdb-864a-1592fea894b6",
   "metadata": {
    "slideshow": {
     "slide_type": "slide"
    },
    "tags": []
   },
   "source": [
    "## Mapping C conditionals to assembly code"
   ]
  },
  {
   "cell_type": "code",
   "execution_count": null,
   "id": "07c57368-0a2f-4f2d-bef3-b2eed13d432b",
   "metadata": {},
   "outputs": [],
   "source": [
    "/*1*/  int divide_safe(int numerator, int denominator) {\n",
    "/*2*/      int result = -1;\n",
    "/*3*/      if (denominator != 0) {\n",
    "/*4*/          result = numerator / denominator;\n",
    "/*5*/      }\n",
    "/*6*/      return result;\n",
    "/*7*/  }"
   ]
  },
  {
   "cell_type": "markdown",
   "id": "defbaade-9145-4030-9049-e770dc1d2e65",
   "metadata": {
    "slideshow": {
     "slide_type": "skip"
    },
    "tags": [
     "notes-only"
    ]
   },
   "source": [
    "```\n",
    "000000000000076c <divide_safe>:                     // Line\n",
    "    76c:    d10083ff     sub    sp, sp, #0x20       // 1\n",
    "    770:    b9000fe0     str    w0, [sp, #12]       // 1\n",
    "    774:    b9000be1     str    w1, [sp, #8]        // 1\n",
    "    778:    12800000     mov    w0, #0xffffffff     // 2\n",
    "    77c:    b9001fe0     str    w0, [sp, #28]       // 2\n",
    "    780:    b9400be0     ldr    w0, [sp, #8]        // 3\n",
    "    784:    7100001f     cmp    w0, #0x0            // 3\n",
    "    788:    540000a0     b.eq   79c <divide_safe+0x30> // 3\n",
    "    78c:    b9400fe1     ldr    w1, [sp, #12]       // 4\n",
    "    790:    b9400be0     ldr    w0, [sp, #8]        // 4\n",
    "    794:    1ac00c20     sdiv   w0, w1, w0          // 4\n",
    "    798:    b9001fe0     str    w0, [sp, #28]       // 4\n",
    "    79c:    b9401fe0     ldr    w0, [sp, #28]       // 6\n",
    "    7a0:    910083ff     add    sp, sp, #0x20       // 6\n",
    "    7a4:    d65f03c0     ret                        // 6\n",
    "```"
   ]
  },
  {
   "cell_type": "markdown",
   "id": "c20bede3-4751-4766-b756-b0094ad1dd62",
   "metadata": {
    "tags": [
     "worksheet-only"
    ]
   },
   "source": [
    "```\n",
    "000000000000076c <divide_safe>:\n",
    "    76c:    d10083ff     sub    sp, sp, #0x20\n",
    "    770:    b9000fe0     str    w0, [sp, #12]\n",
    "    774:    b9000be1     str    w1, [sp, #8]\n",
    "    778:    12800000     mov    w0, #0xffffffff\n",
    "    77c:    b9001fe0     str    w0, [sp, #28]\n",
    "    780:    b9400be0     ldr    w0, [sp, #8]\n",
    "    784:    7100001f     cmp    w0, #0x0\n",
    "    788:    540000a0     b.eq   79c <divide_safe+0x30>\n",
    "    78c:    b9400fe1     ldr    w1, [sp, #12]\n",
    "    790:    b9400be0     ldr    w0, [sp, #8]\n",
    "    794:    1ac00c20     sdiv   w0, w1, w0\n",
    "    798:    b9001fe0     str    w0, [sp, #28]\n",
    "    79c:    b9401fe0     ldr    w0, [sp, #28]\n",
    "    7a0:    910083ff     add    sp, sp, #0x20\n",
    "    7a4:    d65f03c0     ret\n",
    "```"
   ]
  },
  {
   "cell_type": "markdown",
   "id": "7585e818-a0bd-4a41-950c-9974a575d97d",
   "metadata": {
    "slideshow": {
     "slide_type": "skip"
    },
    "tags": [
     "notes-only"
    ]
   },
   "source": [
    "* _What does the `cmp` instruction do?_ — compares a register's value to another value\n",
    "* _What does the `b.eq` instruction do?_ — \"jumps\" (i.e., branches) to a different instruction when the compared values are equal\n",
    "* _Why does the assembly check if `w0 == 0` when the C code contains `!= 0`?_ — the C code checks for the condition that must be true to execute the if body, whereas the assembly code checks for the condition that must be true to **skip over** the if body"
   ]
  },
  {
   "cell_type": "markdown",
   "id": "690cb9cd-a27b-42e3-9d5e-4663d55a44dc",
   "metadata": {
    "slideshow": {
     "slide_type": "skip"
    },
    "tags": [
     "notes-only"
    ]
   },
   "source": [
    "## Transforming C code to goto-form"
   ]
  },
  {
   "cell_type": "markdown",
   "id": "b4ac2e83-528c-4570-93b9-90ec0e3a3ae4",
   "metadata": {
    "slideshow": {
     "slide_type": "skip"
    },
    "tags": [
     "notes-only"
    ]
   },
   "source": [
    "* _How would we express this in C code?_ — using an if statement and a `goto` statement"
   ]
  },
  {
   "cell_type": "code",
   "execution_count": null,
   "id": "a6409a9e-2a28-4369-ae85-702fb043bfbb",
   "metadata": {
    "slideshow": {
     "slide_type": "skip"
    },
    "tags": [
     "notes-only"
    ]
   },
   "outputs": [],
   "source": [
    "/*1*/  int divide_safe_goto(int numerator, int denominator) {\n",
    "/*2*/      int result = -1;\n",
    "/*3*/      if (denominator == 0)\n",
    "/*4*/          goto after;\n",
    "/*5*/      result = numerator / denominator;\n",
    "/*6*/  after:\n",
    "/*7*/      return result;\n",
    "/*8*/  }"
   ]
  },
  {
   "cell_type": "markdown",
   "id": "2779d2e6-5252-44aa-99cc-0cad6f0f90eb",
   "metadata": {
    "slideshow": {
     "slide_type": "skip"
    },
    "tags": [
     "notes-only"
    ]
   },
   "source": [
    "* _What happens if the code includes an else statement?_ — if condition is true, execute the if body and skip over the else body; if condition is false, skip over the if body and execute the else body"
   ]
  },
  {
   "cell_type": "markdown",
   "id": "a31f414c-e7d7-4ef0-94cd-0a77a676f4e5",
   "metadata": {
    "slideshow": {
     "slide_type": "skip"
    },
    "tags": [
     "worksheet-only"
    ]
   },
   "source": [
    "<div style=\"page-break-after:always;\"></div>"
   ]
  },
  {
   "cell_type": "markdown",
   "id": "f7b77b9a-49c9-41ac-afd8-7801c0e64367",
   "metadata": {
    "slideshow": {
     "slide_type": "slide"
    },
    "tags": []
   },
   "source": [
    "## Practice with conditionals"
   ]
  },
  {
   "cell_type": "markdown",
   "id": "fd886bfb-fd19-49d0-b0e6-37d00f0b57a8",
   "metadata": {
    "slideshow": {
     "slide_type": "skip"
    },
    "tags": []
   },
   "source": [
    "Q2: _The C code below was compiled into assembly (using `gcc`). Label each line of assembly code with the line number of the line of C code from which the assembly instruction was derived._"
   ]
  },
  {
   "cell_type": "code",
   "execution_count": null,
   "id": "97026190-1907-4d70-a108-e465b94f9be1",
   "metadata": {},
   "outputs": [],
   "source": [
    "/* 1*/  int flip(int bit) {\n",
    "/* 2*/     int result = -1;\n",
    "/* 3*/     if (bit == 0) {\n",
    "/* 4*/          result = 1; \n",
    "/* 5*/      } \n",
    "/* 6*/      else {\n",
    "/* 7*/          result = 0;\n",
    "/* 8*/      }\n",
    "/* 9*/      return result;\n",
    "/*10*/ }"
   ]
  },
  {
   "cell_type": "markdown",
   "id": "7c556f8a-6c17-4d87-8695-b1d35c1c559f",
   "metadata": {
    "slideshow": {
     "slide_type": "skip"
    },
    "tags": [
     "notes-only"
    ]
   },
   "source": [
    "```\n",
    "000000000000071c <flip>:                            // Line\n",
    "    71c:    d10083ff     sub    sp, sp, #0x20       // 1\n",
    "    720:    b9000fe0     str    w0, [sp, #12]       // 1\n",
    "    724:    12800000     mov    w0, #0xffffffff     // 2\n",
    "    728:    b9001fe0     str    w0, [sp, #28]       // 2\n",
    "    72c:    b9400fe0     ldr    w0, [sp, #12]       // 3\n",
    "    730:    7100001f     cmp    w0, #0x0            // 3\n",
    "    734:    54000081     b.ne   744 <flip+0x28>     // 3\n",
    "    738:    52800020     mov    w0, #0x1            // 4\n",
    "    73c:    b9001fe0     str    w0, [sp, #28]       // 4\n",
    "    740:    14000002     b      748 <flip+0x2c>     // 5\n",
    "    744:    b9001fff     str    wzr, [sp, #28]      // 7\n",
    "    748:    b9401fe0     ldr    w0, [sp, #28]       // 9\n",
    "    74c:    910083ff     add    sp, sp, #0x20       // 9\n",
    "    750:    d65f03c0     ret                        // 9\n",
    "```"
   ]
  },
  {
   "cell_type": "markdown",
   "id": "8ce6d873-e318-435a-88e1-fe8136166b46",
   "metadata": {
    "tags": [
     "worksheet-only"
    ]
   },
   "source": [
    "```\n",
    "000000000000071c <flip>:                            // Line\n",
    "    71c:    d10083ff     sub    sp, sp, #0x20       // \n",
    "    720:    b9000fe0     str    w0, [sp, #12]       // \n",
    "    724:    12800000     mov    w0, #0xffffffff     // \n",
    "    728:    b9001fe0     str    w0, [sp, #28]       // \n",
    "    72c:    b9400fe0     ldr    w0, [sp, #12]       // \n",
    "    730:    7100001f     cmp    w0, #0x0            //\n",
    "    734:    54000081     b.ne   744 <flip+0x28>     // \n",
    "    738:    52800020     mov    w0, #0x1            // \n",
    "    73c:    b9001fe0     str    w0, [sp, #28]       // \n",
    "    740:    14000002     b      748 <flip+0x2c>     // \n",
    "    744:    b9001fff     str    wzr, [sp, #28]      // \n",
    "    748:    b9401fe0     ldr    w0, [sp, #28]       // \n",
    "    74c:    910083ff     add    sp, sp, #0x20       // \n",
    "    750:    d65f03c0     ret                        // \n",
    "```"
   ]
  },
  {
   "cell_type": "markdown",
   "id": "8526f51f-6491-4927-98a6-08bbcba245b5",
   "metadata": {
    "slideshow": {
     "slide_type": "skip"
    },
    "tags": []
   },
   "source": [
    "Q3: _Write a function called `flip_goto` that behaves the same as `flip` but matches the structure of the assembly code that will be generated for `flip`. (Hint: you'll need two `goto` statements.)_"
   ]
  },
  {
   "cell_type": "code",
   "execution_count": null,
   "id": "1102f233-34df-48d6-b608-7778d3387076",
   "metadata": {
    "slideshow": {
     "slide_type": "skip"
    },
    "tags": [
     "notes-only"
    ]
   },
   "outputs": [],
   "source": [
    "int flip_goto(int bit) {\n",
    "    int result = -1;\n",
    "    if (bit != 0)\n",
    "        goto else_body;\n",
    "    result = 1; \n",
    "    goto after_else;\n",
    "else_body:\n",
    "    result = 0;\n",
    "after_else:\n",
    "    return result;\n",
    "}"
   ]
  },
  {
   "cell_type": "markdown",
   "id": "052a94b7-3f13-421a-9f20-4e2b15062d50",
   "metadata": {
    "slideshow": {
     "slide_type": "skip"
    },
    "tags": [
     "worksheet-only"
    ]
   },
   "source": [
    "<div style=\"page-break-after:always;\"></div>"
   ]
  },
  {
   "cell_type": "markdown",
   "id": "baa244a5-b6b1-42e5-9c1d-9afdce6f8911",
   "metadata": {
    "slideshow": {
     "slide_type": "slide"
    },
    "tags": [
     "notes-only"
    ]
   },
   "source": [
    "## Various forms of conditionals"
   ]
  },
  {
   "cell_type": "markdown",
   "id": "e58dc7ea-7acf-4b99-85f6-8ff833a225e3",
   "metadata": {
    "tags": [
     "notes-only"
    ]
   },
   "source": [
    "* Else if"
   ]
  },
  {
   "cell_type": "code",
   "execution_count": null,
   "id": "9ecc0a8a-e754-4c25-9ceb-a1c6fc40958d",
   "metadata": {
    "tags": [
     "notes-only"
    ]
   },
   "outputs": [],
   "source": [
    "/* 1*/  int flip_elif(int bit) {\n",
    "/* 2*/      int result;\n",
    "/* 3*/      if (bit == 0) {\n",
    "/* 4*/          result = 1 ;\n",
    "/* 5*/      }\n",
    "/* 6*/      else if (bit == 1) {\n",
    "/* 7*/          result = 0;\n",
    "/* 8*/      }\n",
    "/* 9*/      else {\n",
    "/*10*/          result = -1;\n",
    "/*11*/      }\n",
    "/*12*/      return result;\n",
    "/*13*/  }"
   ]
  },
  {
   "cell_type": "markdown",
   "id": "fd03638f-cc04-40cd-b6af-ca2c347e3489",
   "metadata": {
    "slideshow": {
     "slide_type": "subslide"
    },
    "tags": [
     "notes-only"
    ]
   },
   "source": [
    "```\n",
    "000000000000071c <flip_elif>:\n",
    "    71c:    d10083ff     sub    sp, sp, #0x20           // 1\n",
    "    720:    b9000fe0     str    w0, [sp, #12]           // 1\n",
    "    724:    b9400fe0     ldr    w0, [sp, #12]           // 3\n",
    "    728:    7100001f     cmp    w0, #0x0                // 3\n",
    "    72c:    54000081     b.ne   73c <flip_elif+0x20>    // 3\n",
    "    730:    52800020     mov    w0, #0x1                // 4\n",
    "    734:    b9001fe0     str    w0, [sp, #28]           // 4\n",
    "    738:    14000008     b      758 <flip_elif+0x3c>    // 5\n",
    "    73c:    b9400fe0     ldr    w0, [sp, #12]           // 6\n",
    "    740:    7100041f     cmp    w0, #0x1                // 6\n",
    "    744:    54000061     b.ne   750 <flip_elif+0x34>    // 6\n",
    "    748:    b9001fff     str    wzr, [sp, #28]          // 7\n",
    "    74c:    14000003     b      758 <flip_elif+0x3c>    // 8\n",
    "    750:    12800000     mov    w0, #0xffffffff         // 10\n",
    "    754:    b9001fe0     str    w0, [sp, #28]           // 10\n",
    "    758:    b9401fe0     ldr    w0, [sp, #28]           // 12\n",
    "    75c:    910083ff     add    sp, sp, #0x20           // 12\n",
    "    760:    d65f03c0     ret                            // 12\n",
    "```"
   ]
  },
  {
   "cell_type": "markdown",
   "id": "459ee5b3-627e-4a53-a5e1-353db1a60fa9",
   "metadata": {
    "slideshow": {
     "slide_type": "subslide"
    },
    "tags": [
     "notes-only"
    ]
   },
   "source": [
    "* Complex conditional expressions"
   ]
  },
  {
   "cell_type": "code",
   "execution_count": null,
   "id": "9381f885-b4c3-46f2-918b-9541f74b6801",
   "metadata": {
    "tags": [
     "notes-only"
    ]
   },
   "outputs": [],
   "source": [
    "/* 1*/  int bitwise_and(int bitA, int bitB) {\n",
    "/* 2*/      int result = -1;\n",
    "/* 3*/      if (bitA == 1 && bitB == 1) {\n",
    "/* 4*/          result = 1;\n",
    "/* 5*/      } \n",
    "/* 6*/      else {\n",
    "/* 7*/          result = 0;\n",
    "/* 8*/      }\n",
    "/* 9*/      return result;\n",
    "/*10*/  }"
   ]
  },
  {
   "cell_type": "markdown",
   "id": "437c7007-cf85-483e-b266-ba9ca7ab1c54",
   "metadata": {
    "slideshow": {
     "slide_type": "subslide"
    },
    "tags": [
     "notes-only"
    ]
   },
   "source": [
    "```\n",
    "0000000000000764 <bitwise_and>:\n",
    "    764:    d10083ff     sub    sp, sp, #0x20           // 1\n",
    "    768:    b9000fe0     str    w0, [sp, #12]           // 1\n",
    "    76c:    b9000be1     str    w1, [sp, #8]            // 1\n",
    "    770:    12800000     mov    w0, #0xffffffff         // 2\n",
    "    774:    b9001fe0     str    w0, [sp, #28]           // 2\n",
    "    778:    b9400fe0     ldr    w0, [sp, #12]           // 3\n",
    "    77c:    7100041f     cmp    w0, #0x1                // 3\n",
    "    780:    540000e1     b.ne   79c <bitwise_and+0x38>  // 3\n",
    "    784:    b9400be0     ldr    w0, [sp, #8]            // 3\n",
    "    788:    7100041f     cmp    w0, #0x1                // 3\n",
    "    78c:    54000081     b.ne   79c <bitwise_and+0x38>  // 3\n",
    "    790:    52800020     mov    w0, #0x1                // 4\n",
    "    794:    b9001fe0     str    w0, [sp, #28]           // 4\n",
    "    798:    14000002     b      7a0 <bitwise_and+0x3c>  // 5\n",
    "    79c:    b9001fff     str    wzr, [sp, #28]          // 7\n",
    "    7a0:    b9401fe0     ldr    w0, [sp, #28]           // 9\n",
    "    7a4:    910083ff     add    sp, sp, #0x20           // 9\n",
    "    7a8:    d65f03c0     ret                            // 9\n",
    "```"
   ]
  },
  {
   "cell_type": "markdown",
   "id": "89937c99-9262-422d-bf94-769592a327c1",
   "metadata": {
    "slideshow": {
     "slide_type": "subslide"
    },
    "tags": [
     "notes-only"
    ]
   },
   "source": [
    "* Nested conditionals"
   ]
  },
  {
   "cell_type": "code",
   "execution_count": null,
   "id": "8e0dd3fb-1c08-40ea-8cc5-f6db977eb1cf",
   "metadata": {
    "tags": [
     "notes-only"
    ]
   },
   "outputs": [],
   "source": [
    "/* 1*/  int bitwise_and_nested(int bitA, int bitB) {\n",
    "/* 2*/      int result = -1;\n",
    "/* 3*/      if (bitA == 1) {\n",
    "/* 4*/          if (bitB == 1) {\n",
    "/* 5*/              result = 1;\n",
    "/* 6*/          }\n",
    "/* 7*/          else {\n",
    "/* 8*/              result = 0;\n",
    "/* 9*/          }\n",
    "/*10*/      }\n",
    "/*11*/      else {\n",
    "/*12*/          result = 0;\n",
    "/*13*/      }\n",
    "/*14*/      return result;\n",
    "/*15*/  }"
   ]
  },
  {
   "cell_type": "markdown",
   "id": "8bede348-45a4-46e0-ba7f-785684784f70",
   "metadata": {
    "slideshow": {
     "slide_type": "subslide"
    },
    "tags": [
     "notes-only"
    ]
   },
   "source": [
    "```\n",
    "00000000000007ac <bitwise_and_nested>:\n",
    "    7ac:    d10083ff     sub    sp, sp, #0x20       // 1\n",
    "    7b0:    b9000fe0     str    w0, [sp, #12]       // 1\n",
    "    7b4:    b9000be1     str    w1, [sp, #8]        // 1\n",
    "    7b8:    12800000     mov    w0, #0xffffffff     // 2\n",
    "    7bc:    b9001fe0     str    w0, [sp, #28]       // 2\n",
    "    7c0:    b9400fe0     ldr    w0, [sp, #12]       // 3\n",
    "    7c4:    7100041f     cmp    w0, #0x1            // 3\n",
    "    7c8:    54000121     b.ne   7ec <bitwise_and_nested+0x40>   // 3\n",
    "    7cc:    b9400be0     ldr    w0, [sp, #8]        // 4\n",
    "    7d0:    7100041f     cmp    w0, #0x1            // 4\n",
    "    7d4:    54000081     b.ne   7e4 <bitwise_and_nested+0x38>   // 4\n",
    "    7d8:    52800020     mov    w0, #0x1            // 5\n",
    "    7dc:    b9001fe0     str    w0, [sp, #28]       // 5\n",
    "    7e0:    14000004     b      7f0 <bitwise_and_nested+0x44>   // 6\n",
    "    7e4:    b9001fff     str    wzr, [sp, #28]      // 8\n",
    "    7e8:    14000002     b      7f0 <bitwise_and_nested+0x44>   // 10\n",
    "    7ec:    b9001fff     str    wzr, [sp, #28]      // 12\n",
    "    7f0:    b9401fe0     ldr    w0, [sp, #28]       // 14\n",
    "    7f4:    910083ff     add    sp, sp, #0x20       // 14\n",
    "    7f8:    d65f03c0     ret                        // 14\n",
    "```"
   ]
  },
  {
   "cell_type": "markdown",
   "id": "3d7062dd-81b9-4381-9e0c-ed7b0e49b1fb",
   "metadata": {
    "slideshow": {
     "slide_type": "subslide"
    },
    "tags": [
     "notes-only"
    ]
   },
   "source": [
    "* Ternary expressions"
   ]
  },
  {
   "cell_type": "code",
   "execution_count": null,
   "id": "cbc66247-2e1c-496c-beb0-dd7b4996b903",
   "metadata": {
    "tags": [
     "notes-only"
    ]
   },
   "outputs": [],
   "source": [
    "/*1*/   int bitwise_and_ternary(int bitA, int bitB) {\n",
    "/*2*/       return (bitA == 1 && bitB == 1 ? 1 : 0);\n",
    "/*3*/   }"
   ]
  },
  {
   "cell_type": "markdown",
   "id": "f7d3c0e2-4685-4642-91ab-8b2684df5d38",
   "metadata": {
    "tags": [
     "notes-only"
    ]
   },
   "source": [
    "```\n",
    "00000000000007fc <bitwise_and_ternary>:\n",
    "    7fc:    d10043ff     sub    sp, sp, #0x10   // 1\n",
    "    800:    b9000fe0     str    w0, [sp, #12]   // 1\n",
    "    804:    b9000be1     str    w1, [sp, #8]    // 1\n",
    "    808:    b9400fe0     ldr    w0, [sp, #12]   // 2\n",
    "    80c:    7100041f     cmp    w0, #0x1        // 2\n",
    "    810:    540000c1     b.ne   828 <bitwise_and_ternary+0x2c>  // 2\n",
    "    814:    b9400be0     ldr    w0, [sp, #8]    // 2\n",
    "    818:    7100041f     cmp    w0, #0x1        // 2\n",
    "    81c:    54000061     b.ne   828 <bitwise_and_ternary+0x2c>  // 2\n",
    "    820:    52800020     mov    w0, #0x1        // 2\n",
    "    824:    14000002     b      82c <bitwise_and_ternary+0x30>  // 2\n",
    "    828:    52800000     mov    w0, #0x0        // 2\n",
    "    82c:    910043ff     add    sp, sp, #0x10   // 2\n",
    "    830:    d65f03c0     ret                    // 2\n",
    "```"
   ]
  },
  {
   "cell_type": "markdown",
   "id": "74ec5e03-96fa-4f83-96b6-627461e6aef9",
   "metadata": {
    "slideshow": {
     "slide_type": "subslide"
    },
    "tags": [
     "notes-only"
    ]
   },
   "source": [
    "* Boolean expressions"
   ]
  },
  {
   "cell_type": "code",
   "execution_count": null,
   "id": "ae18d69f-9257-474a-bdc6-5454c47bd0a7",
   "metadata": {
    "tags": [
     "notes-only"
    ]
   },
   "outputs": [],
   "source": [
    "/*1*/ int bitwise_and_single(int bitA, int bitB) {\n",
    "/*2*/    return (bitA == 1 && bitB == 1);\n",
    "/*3*/ }"
   ]
  },
  {
   "cell_type": "markdown",
   "id": "9dda4902-31a2-4313-baa2-c803a1d225ba",
   "metadata": {
    "tags": [
     "notes-only"
    ]
   },
   "source": [
    "    Exact same assembly code as bitwise_and_ternary"
   ]
  },
  {
   "cell_type": "markdown",
   "id": "94cbf375-752c-40b5-84ba-4e58c8a7bb22",
   "metadata": {
    "slideshow": {
     "slide_type": "subslide"
    },
    "tags": [
     "notes-only"
    ]
   },
   "source": [
    "* With compiler optimizations all four `bitwise_and` functions result in the exact same assembly code"
   ]
  },
  {
   "cell_type": "markdown",
   "id": "b7a934a2-8412-4be5-8f1c-6145a2e94246",
   "metadata": {
    "tags": [
     "notes-only"
    ]
   },
   "source": [
    "```\n",
    "0000000000000734 <bitwise_and>:\n",
    "    734:    7100041f     cmp    w0, #0x1\n",
    "    738:    7a410820     ccmp    w1, #0x1, #0x0, eq\n",
    "    73c:    1a9f17e0     cset    w0, eq\n",
    "    740:    d65f03c0     ret\n",
    "```"
   ]
  },
  {
   "cell_type": "markdown",
   "id": "a82d425b-2220-4a29-9e28-64dbb110b731",
   "metadata": {
    "slideshow": {
     "slide_type": "slide"
    },
    "tags": []
   },
   "source": [
    "## Extra practice"
   ]
  },
  {
   "cell_type": "markdown",
   "id": "d5358bfd-652e-4c68-9ece-3263651ea34e",
   "metadata": {
    "tags": []
   },
   "source": [
    "Q4: _Assume the registers currently hold the following values:_\n",
    "```\n",
    "sp = 0xA980\n",
    "w/x0 = 0\n",
    "w/x1 = 1\n",
    "w/x2 = 2\n",
    "w/x3 = 3\n",
    "w/x4 = 4\n",
    "w/x5 = 5\n",
    "```\n",
    "_Draw the contents of the stack after the following instructions have been executed:_\n",
    "```\n",
    "sub sp, sp, #0x30\n",
    "str w0, [sp, #16]\n",
    "str x1, [sp]\n",
    "str w2, [sp, #20]\n",
    "str x3, [sp, #32]\n",
    "str w4, [sp, #28]\n",
    "str w5, [sp, #8]\n",
    "```"
   ]
  },
  {
   "cell_type": "markdown",
   "id": "86f16093-48e9-4455-9ce3-0b2003778ab1",
   "metadata": {
    "slideshow": {
     "slide_type": "skip"
    },
    "tags": [
     "notes-only"
    ]
   },
   "source": [
    "```\n",
    "        0  1  2  3  4  5  6  7  8          \n",
    " sp ->  +--+--+--+--+--+--+--+--+\n",
    "0xA950  |           1           |\n",
    "        +--+--+--+--+--+--+--+--+\n",
    "0xA958  |     5     |           |\n",
    "        +--+--+--+--+--+--+--+--+\n",
    "0xA960  |     0     |     2     |\n",
    "        +--+--+--+--+--+--+--+--+\n",
    "0xA968  |           |     4     |\n",
    "        +--+--+--+--+--+--+--+--+\n",
    "0xA970  |           3           |\n",
    "        +--+--+--+--+--+--+--+--+\n",
    "0xA978  |                       |\n",
    "        +--+--+--+--+--+--+--+--+\n",
    "0xA980  |                       |\n",
    "        +--+--+--+--+--+--+--+--+\n",
    "```"
   ]
  },
  {
   "cell_type": "markdown",
   "id": "d9a0d7c4-08e5-4f5c-ad98-51d34328ea60",
   "metadata": {
    "slideshow": {
     "slide_type": "skip"
    },
    "tags": [
     "worksheet-only"
    ]
   },
   "source": [
    "<p style=\"height:20em;\"></p>"
   ]
  },
  {
   "cell_type": "markdown",
   "id": "b9204dae-00aa-4e69-9b79-6930ad979735",
   "metadata": {
    "slideshow": {
     "slide_type": "subslide"
    },
    "tags": []
   },
   "source": [
    "Q5: _Write a function called `adjust_goto` that behaves the same as `adjust` but matches the structure of the assembly code that will be generated for `adjust`. (Hint: you'll need two `goto` statements.)_"
   ]
  },
  {
   "cell_type": "code",
   "execution_count": null,
   "id": "ca574589-8f87-494c-af1a-a77f5b84c55c",
   "metadata": {},
   "outputs": [],
   "source": [
    "int adjust(int value) {\n",
    "    if (value < 10) {\n",
    "        value = value * 10;\n",
    "    }\n",
    "    else {\n",
    "        value = value / 10;\n",
    "    }\n",
    "    return value;\n",
    "}"
   ]
  },
  {
   "cell_type": "code",
   "execution_count": null,
   "id": "7fee05b7-3fc3-4076-a6a6-f589117bcac2",
   "metadata": {
    "slideshow": {
     "slide_type": "skip"
    },
    "tags": [
     "notes-only"
    ]
   },
   "outputs": [],
   "source": [
    "int adjust_goto(int value) {\n",
    "    if (value >= 10)\n",
    "        goto else_body;\n",
    "    value = value * 10;\n",
    "    goto after_if;\n",
    "else_body:\n",
    "    value = value / 10;\n",
    "after_if:\n",
    "    return value;\n",
    "}"
   ]
  }
 ],
 "metadata": {
  "kernelspec": {
   "display_name": "C",
   "language": "c",
   "name": "c"
  },
  "language_info": {
   "file_extension": ".c",
   "mimetype": "c",
   "name": "c"
  }
 },
 "nbformat": 4,
 "nbformat_minor": 5
}
