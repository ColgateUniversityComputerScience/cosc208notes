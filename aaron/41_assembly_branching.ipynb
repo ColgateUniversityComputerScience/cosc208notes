{
 "cells": [
  {
   "cell_type": "markdown",
   "id": "39d76db8-edb9-47d5-bec8-7998805660b3",
   "metadata": {
    "slideshow": {
     "slide_type": "skip"
    },
    "tags": []
   },
   "source": [
    "# Assembly: conditionals and loops\n",
    "_COSC 208, Introduction to Computer Systems, Fall 2025_"
   ]
  },
  {
   "cell_type": "markdown",
   "id": "a176dd9c-601e-4bdb-864a-1592fea894b6",
   "metadata": {
    "editable": true,
    "slideshow": {
     "slide_type": "slide"
    },
    "tags": []
   },
   "source": [
    "## Conditionals"
   ]
  },
  {
   "cell_type": "code",
   "execution_count": null,
   "id": "07c57368-0a2f-4f2d-bef3-b2eed13d432b",
   "metadata": {
    "editable": true,
    "slideshow": {
     "slide_type": ""
    },
    "tags": []
   },
   "outputs": [],
   "source": [
    "/*1*/  int divide_safe(unsigned int numerator, unsigned int denominator) {\n",
    "/*2*/      int result = -1;\n",
    "/*3*/      if (denominator != 0) {\n",
    "/*4*/          result = numerator / denominator;\n",
    "/*5*/      }\n",
    "/*6*/      return result;\n",
    "/*7*/  }"
   ]
  },
  {
   "cell_type": "markdown",
   "id": "defbaade-9145-4030-9049-e770dc1d2e65",
   "metadata": {
    "editable": true,
    "slideshow": {
     "slide_type": "skip"
    },
    "tags": [
     "notes-only"
    ]
   },
   "source": [
    "```\n",
    "000000000000076c <divide_safe>:                     // Line\n",
    "    76c:    d10083ff     sub    sp, sp, #0x20       // 1\n",
    "    770:    b9000fe0     str    w0, [sp, #12]       // 1\n",
    "    774:    b9000be1     str    w1, [sp, #8]        // 1\n",
    "    778:    12800000     mov    w0, #0xffffffff     // 2\n",
    "    77c:    b9001fe0     str    w0, [sp, #28]       // 2\n",
    "    780:    b9400be0     ldr    w0, [sp, #8]        // 3\n",
    "    784:    7100001f     cmp    w0, #0x0            // 3\n",
    "    788:    540000a0     b.eq   79c <divide_safe+0x30> // 3\n",
    "    78c:    b9400fe1     ldr    w1, [sp, #12]       // 4\n",
    "    790:    b9400be0     ldr    w0, [sp, #8]        // 4\n",
    "    794:    1ac00c20     udiv   w0, w1, w0          // 4\n",
    "    798:    b9001fe0     str    w0, [sp, #28]       // 4\n",
    "    79c:    b9401fe0     ldr    w0, [sp, #28]       // 6\n",
    "    7a0:    910083ff     add    sp, sp, #0x20       // 6\n",
    "    7a4:    d65f03c0     ret                        // 6\n",
    "```"
   ]
  },
  {
   "cell_type": "markdown",
   "id": "c20bede3-4751-4766-b756-b0094ad1dd62",
   "metadata": {
    "editable": true,
    "slideshow": {
     "slide_type": ""
    },
    "tags": [
     "worksheet-only"
    ]
   },
   "source": [
    "```\n",
    "000000000000076c <divide_safe>:\n",
    "    76c:    d10083ff     sub    sp, sp, #0x20\n",
    "    770:    b9000fe0     str    w0, [sp, #12]\n",
    "    774:    b9000be1     str    w1, [sp, #8]\n",
    "    778:    12800000     mov    w0, #0xffffffff\n",
    "    77c:    b9001fe0     str    w0, [sp, #28]\n",
    "    780:    b9400be0     ldr    w0, [sp, #8]\n",
    "    784:    7100001f     cmp    w0, #0x0\n",
    "    788:    540000a0     b.eq   79c <divide_safe+0x30>\n",
    "    78c:    b9400fe1     ldr    w1, [sp, #12]\n",
    "    790:    b9400be0     ldr    w0, [sp, #8]\n",
    "    794:    1ac00c20     udiv   w0, w1, w0\n",
    "    798:    b9001fe0     str    w0, [sp, #28]\n",
    "    79c:    b9401fe0     ldr    w0, [sp, #28]\n",
    "    7a0:    910083ff     add    sp, sp, #0x20\n",
    "    7a4:    d65f03c0     ret\n",
    "```"
   ]
  },
  {
   "cell_type": "markdown",
   "id": "7585e818-a0bd-4a41-950c-9974a575d97d",
   "metadata": {
    "editable": true,
    "slideshow": {
     "slide_type": "skip"
    },
    "tags": [
     "notes-only"
    ]
   },
   "source": [
    "* _What does the `cmp` instruction do?_ — compares a register's value to another value\n",
    "* _What does the `b.eq` instruction do?_ — \"jumps\" (i.e., branches) to a different instruction when the compared values are equal\n",
    "* _Why does the assembly check if `w0 == 0` when the C code contains `!= 0`?_ — the C code checks for the condition that must be true to execute the if body, whereas the assembly code checks for the condition that must be true to **skip over** the if body"
   ]
  },
  {
   "cell_type": "markdown",
   "id": "b4ac2e83-528c-4570-93b9-90ec0e3a3ae4",
   "metadata": {
    "editable": true,
    "slideshow": {
     "slide_type": "skip"
    },
    "tags": [
     "notes-only"
    ]
   },
   "source": [
    "* _How would we express this in C code?_ — using an if statement and a `goto` statement"
   ]
  },
  {
   "cell_type": "code",
   "execution_count": null,
   "id": "a6409a9e-2a28-4369-ae85-702fb043bfbb",
   "metadata": {
    "editable": true,
    "slideshow": {
     "slide_type": "skip"
    },
    "tags": [
     "notes-only"
    ]
   },
   "outputs": [],
   "source": [
    "/*1*/  int divide_safe_goto(int numerator, int denominator) {\n",
    "/*2*/      int result = -1;\n",
    "/*3*/      if (denominator == 0)\n",
    "/*4*/          goto after;\n",
    "/*5*/      result = numerator / denominator;\n",
    "/*6*/  after:\n",
    "/*7*/      return result;\n",
    "/*8*/  }"
   ]
  },
  {
   "cell_type": "markdown",
   "id": "2779d2e6-5252-44aa-99cc-0cad6f0f90eb",
   "metadata": {
    "editable": true,
    "slideshow": {
     "slide_type": "skip"
    },
    "tags": [
     "notes-only"
    ]
   },
   "source": [
    "* _What happens if the code includes an else statement?_ — if condition is true, execute the if body and skip over the else body; if condition is false, skip over the if body and execute the else body"
   ]
  },
  {
   "cell_type": "markdown",
   "id": "f12697dd-8272-4669-a463-e5f13b48de2b",
   "metadata": {
    "editable": true,
    "slideshow": {
     "slide_type": "skip"
    },
    "tags": [
     "blank"
    ]
   },
   "source": [
    "<p style=\"height:25em;\"></p>"
   ]
  },
  {
   "cell_type": "markdown",
   "id": "fd886bfb-fd19-49d0-b0e6-37d00f0b57a8",
   "metadata": {
    "editable": true,
    "slideshow": {
     "slide_type": "skip"
    },
    "tags": [
     "question"
    ]
   },
   "source": [
    "_The C code below was compiled into assembly (using `gcc`)._"
   ]
  },
  {
   "cell_type": "code",
   "execution_count": null,
   "id": "97026190-1907-4d70-a108-e465b94f9be1",
   "metadata": {
    "editable": true,
    "slideshow": {
     "slide_type": "subslide"
    },
    "tags": [
     "question"
    ]
   },
   "outputs": [],
   "source": [
    "/* 1*/  int flip(int bit) {\n",
    "/* 2*/     int result = -1;\n",
    "/* 3*/     if (bit == 0) {\n",
    "/* 4*/          result = 1; \n",
    "/* 5*/      } \n",
    "/* 6*/      else {\n",
    "/* 7*/          result = 0;\n",
    "/* 8*/      }\n",
    "/* 9*/      return result;\n",
    "/*10*/ }"
   ]
  },
  {
   "cell_type": "markdown",
   "id": "b4cf9cd9-fa2d-46ef-b63d-4c91724e91c7",
   "metadata": {
    "editable": true,
    "slideshow": {
     "slide_type": "skip"
    },
    "tags": [
     "question"
    ]
   },
   "source": [
    "Q1: _For each line of assembly, indicate which original line of C code the assembly instruction was derived from._"
   ]
  },
  {
   "cell_type": "markdown",
   "id": "7c556f8a-6c17-4d87-8695-b1d35c1c559f",
   "metadata": {
    "editable": true,
    "slideshow": {
     "slide_type": "skip"
    },
    "tags": [
     "answer"
    ]
   },
   "source": [
    "```\n",
    "000000000000071c <flip>:                            // Line\n",
    "    71c:    d10083ff     sub    sp, sp, #0x20       // 1\n",
    "    720:    b9000fe0     str    w0, [sp, #12]       // 1\n",
    "    724:    12800000     mov    w0, #0xffffffff     // 2\n",
    "    728:    b9001fe0     str    w0, [sp, #28]       // 2\n",
    "    72c:    b9400fe0     ldr    w0, [sp, #12]       // 3\n",
    "    730:    7100001f     cmp    w0, #0x0            // 3\n",
    "    734:    54000081     b.ne   744 <flip+0x28>     // 3\n",
    "    738:    52800020     mov    w0, #0x1            // 4\n",
    "    73c:    b9001fe0     str    w0, [sp, #28]       // 4\n",
    "    740:    14000002     b      748 <flip+0x2c>     // 5\n",
    "    744:    b9001fff     str    wzr, [sp, #28]      // 7\n",
    "    748:    b9401fe0     ldr    w0, [sp, #28]       // 9\n",
    "    74c:    910083ff     add    sp, sp, #0x20       // 9\n",
    "    750:    d65f03c0     ret                        // 9\n",
    "```"
   ]
  },
  {
   "cell_type": "markdown",
   "id": "8ce6d873-e318-435a-88e1-fe8136166b46",
   "metadata": {
    "editable": true,
    "slideshow": {
     "slide_type": ""
    },
    "tags": [
     "blank"
    ]
   },
   "source": [
    "```\n",
    "000000000000071c <flip>:                            // Line\n",
    "    71c:    d10083ff     sub    sp, sp, #0x20       // \n",
    "    720:    b9000fe0     str    w0, [sp, #12]       // \n",
    "    724:    12800000     mov    w0, #0xffffffff     // \n",
    "    728:    b9001fe0     str    w0, [sp, #28]       // \n",
    "    72c:    b9400fe0     ldr    w0, [sp, #12]       // \n",
    "    730:    7100001f     cmp    w0, #0x0            //\n",
    "    734:    54000081     b.ne   744 <flip+0x28>     // \n",
    "    738:    52800020     mov    w0, #0x1            // \n",
    "    73c:    b9001fe0     str    w0, [sp, #28]       // \n",
    "    740:    14000002     b      748 <flip+0x2c>     // \n",
    "    744:    b9001fff     str    wzr, [sp, #28]      // \n",
    "    748:    b9401fe0     ldr    w0, [sp, #28]       // \n",
    "    74c:    910083ff     add    sp, sp, #0x20       // \n",
    "    750:    d65f03c0     ret                        // \n",
    "```"
   ]
  },
  {
   "cell_type": "markdown",
   "id": "8526f51f-6491-4927-98a6-08bbcba245b5",
   "metadata": {
    "editable": true,
    "slideshow": {
     "slide_type": "skip"
    },
    "tags": [
     "question"
    ]
   },
   "source": [
    "Q2: _Write a function called `flip_goto` that behaves the same as `flip` but matches the structure of the assembly code that will be generated for `flip`. (Hint: you'll need two `goto` statements.)_"
   ]
  },
  {
   "cell_type": "code",
   "execution_count": null,
   "id": "1102f233-34df-48d6-b608-7778d3387076",
   "metadata": {
    "editable": true,
    "slideshow": {
     "slide_type": "skip"
    },
    "tags": [
     "answer"
    ]
   },
   "outputs": [],
   "source": [
    "int flip_goto(int bit) {\n",
    "    int result = -1;\n",
    "    if (bit != 0)\n",
    "        goto else_body;\n",
    "    result = 1; \n",
    "    goto after_else;\n",
    "else_body:\n",
    "    result = 0;\n",
    "after_else:\n",
    "    return result;\n",
    "}"
   ]
  },
  {
   "cell_type": "markdown",
   "id": "04a83cf2-fd22-484e-a779-65c11e655301",
   "metadata": {
    "editable": true,
    "slideshow": {
     "slide_type": "skip"
    },
    "tags": [
     "blank"
    ]
   },
   "source": [
    "<p style=\"height:22em;\"></p>"
   ]
  },
  {
   "cell_type": "markdown",
   "id": "88221450-3c0c-4947-9aca-82c36d50f877",
   "metadata": {
    "editable": true,
    "slideshow": {
     "slide_type": "subslide"
    },
    "tags": [
     "question"
    ]
   },
   "source": [
    "_The following C code was compiled into assembly (using `gcc`)._ "
   ]
  },
  {
   "cell_type": "code",
   "execution_count": null,
   "id": "6c6d0a4d-ac5c-446c-90de-612c6b0eb476",
   "metadata": {
    "editable": true,
    "slideshow": {
     "slide_type": ""
    },
    "tags": [
     "question"
    ]
   },
   "outputs": [],
   "source": [
    "/* 1*/   int abs(int value) {\n",
    "/* 2*/       if (value < 0) {\n",
    "/* 3*/           value = value * -1;\n",
    "/* 4*/       }\n",
    "/* 5*/       return value;\n",
    "/* 6*/   }"
   ]
  },
  {
   "cell_type": "markdown",
   "id": "428b9384-1782-4c63-b82f-f701bb54cdcf",
   "metadata": {
    "editable": true,
    "slideshow": {
     "slide_type": ""
    },
    "tags": [
     "question"
    ]
   },
   "source": [
    "Q3: _Label each line of assembly code with the line number of the line of C code from which the assembly instruction was derived._ "
   ]
  },
  {
   "cell_type": "markdown",
   "id": "c3064dc1-93c6-45fb-9393-8a7c851a58a5",
   "metadata": {
    "editable": true,
    "slideshow": {
     "slide_type": "skip"
    },
    "tags": [
     "answer"
    ]
   },
   "source": [
    "```\n",
    "000000000000074c <abs>:\n",
    "    74c:   d10043ff        sub     sp, sp, #0x10    // 1\n",
    "    750:   b9000fe0        str     w0, [sp, #12]    // 1\n",
    "    754:   b9400fe0        ldr     w0, [sp, #12]    // 2\n",
    "    758:   7100001f        cmp     w0, #0x0         // 2 \n",
    "    75c:   5400008a        b.ge    76c <abs+0x20>   // 2\n",
    "    760:   b9400fe0        ldr     w0, [sp, #12]    // 3\n",
    "    764:   4b0003e0        neg     w0, w0           // 3\n",
    "    768:   b9000fe0        str     w0, [sp, #12]    // 3\n",
    "    76c:   b9400fe0        ldr     w0, [sp, #12]    // 5\n",
    "    770:   910043ff        add     sp, sp, #0x10    // 5\n",
    "    774:   d65f03c0        ret                      // 5\n",
    "``` "
   ]
  },
  {
   "cell_type": "markdown",
   "id": "52fb650b-d92b-49b9-9e55-fd523ed3e62e",
   "metadata": {
    "editable": true,
    "slideshow": {
     "slide_type": ""
    },
    "tags": [
     "blank"
    ]
   },
   "source": [
    "```\n",
    "000000000000074c <abs>:\n",
    "    74c:   d10043ff        sub     sp, sp, #0x10\n",
    "    750:   b9000fe0        str     w0, [sp, #12]\n",
    "    754:   b9400fe0        ldr     w0, [sp, #12]\n",
    "    758:   7100001f        cmp     w0, #0x0 \n",
    "    75c:   5400008a        b.ge    76c <abs+0x20>\n",
    "    760:   b9400fe0        ldr     w0, [sp, #12]\n",
    "    764:   4b0003e0        neg     w0, w0\n",
    "    768:   b9000fe0        str     w0, [sp, #12]\n",
    "    76c:   b9400fe0        ldr     w0, [sp, #12]\n",
    "    770:   910043ff        add     sp, sp, #0x10\n",
    "    774:   d65f03c0        ret\n",
    "``` "
   ]
  },
  {
   "cell_type": "markdown",
   "id": "cf5ce661-9b68-4a9f-8617-39289f00bd38",
   "metadata": {
    "editable": true,
    "slideshow": {
     "slide_type": ""
    },
    "tags": [
     "question"
    ]
   },
   "source": [
    "Q4: _Write a function called `abs_goto` that behaves the same as `abs` but matches the structure of the assembly code that is generated for `abs`._"
   ]
  },
  {
   "cell_type": "code",
   "execution_count": null,
   "id": "e32f48df-3bc3-4fb3-910e-130cccda437a",
   "metadata": {
    "editable": true,
    "slideshow": {
     "slide_type": "skip"
    },
    "tags": [
     "answer"
    ]
   },
   "outputs": [],
   "source": [
    "int abs(int value) {\n",
    "    if (value >= 0)\n",
    "        goto after_if;\n",
    "    value = value * -1;\n",
    "after_if:\n",
    "    return value;\n",
    "}"
   ]
  },
  {
   "cell_type": "markdown",
   "id": "10c72118-d576-4422-8678-917ad01c1815",
   "metadata": {
    "editable": true,
    "slideshow": {
     "slide_type": "skip"
    },
    "tags": [
     "blank"
    ]
   },
   "source": [
    "<p style=\"height:31em;\"></p>"
   ]
  },
  {
   "cell_type": "markdown",
   "id": "a99a7a6d-5dc9-4ac0-9eb2-8983978c9798",
   "metadata": {
    "editable": true,
    "slideshow": {
     "slide_type": "skip"
    },
    "tags": [
     "question"
    ]
   },
   "source": [
    "_The following C code was compiled into assembly (using `gcc`)._"
   ]
  },
  {
   "cell_type": "code",
   "execution_count": null,
   "id": "1834f88f-5085-41da-9304-6cd475a77b98",
   "metadata": {
    "editable": true,
    "slideshow": {
     "slide_type": "subslide"
    },
    "tags": [
     "question"
    ]
   },
   "outputs": [],
   "source": [
    "/* 1*/  int adjust(int value) {\n",
    "/* 2*/      if (value > 0 && value < 10) {\n",
    "/* 3*/          value -= 10;\n",
    "/* 4*/      } else {\n",
    "/* 5*/          value += 10;\n",
    "/* 6*/      }\n",
    "/* 7*/      return value;\n",
    "/* 8*/  }"
   ]
  },
  {
   "cell_type": "markdown",
   "id": "cbf44dda-ee8a-42f1-b511-671f78133f11",
   "metadata": {
    "editable": true,
    "slideshow": {
     "slide_type": "skip"
    },
    "tags": [
     "question"
    ]
   },
   "source": [
    "Q5: _For each line of assembly, indicate which original line of C code the assembly instruction was derived from._ "
   ]
  },
  {
   "cell_type": "markdown",
   "id": "e38d47bb-f96f-4518-8bfb-aad5ecd4552a",
   "metadata": {
    "editable": true,
    "slideshow": {
     "slide_type": "skip"
    },
    "tags": [
     "answer"
    ]
   },
   "source": [
    "```\n",
    "0000000000000754 <adjust>:\n",
    " 754:   d10043ff    sub sp, sp, #0x10         // 1\n",
    " 758:   b9000fe0    str w0, [sp, #12]         // 1\n",
    " 75c:   b9400fe0    ldr w0, [sp, #12]         // 2\n",
    " 760:   7100001f    cmp w0, #0x0              // 2\n",
    " 764:   5400010d    b.le    784 <adjust+0x30> // 2\n",
    " 768:   b9400fe0    ldr w0, [sp, #12]         // 2\n",
    " 76c:   7100241f    cmp w0, #0xa              // 2\n",
    " 770:   540000ac    b.ge    784 <adjust+0x30> // 2\n",
    " 774:   b9400fe0    ldr w0, [sp, #12]         // 3\n",
    " 778:   51002800    sub w0, w0, #0xa          // 3\n",
    " 77c:   b9000fe0    str w0, [sp, #12]         // 3\n",
    " 780:   14000004    b   790 <adjust+0x3c>     // 4\n",
    " 784:   b9400fe0    ldr w0, [sp, #12]         // 5\n",
    " 788:   11002800    add w0, w0, #0xa          // 5\n",
    " 78c:   b9000fe0    str w0, [sp, #12]         // 5\n",
    " 790:   b9400fe0    ldr w0, [sp, #12]         // 7\n",
    " 794:   910043ff    add sp, sp, #0x10         // 7\n",
    " 798:   d65f03c0    ret                       // 7\n",
    "```"
   ]
  },
  {
   "cell_type": "markdown",
   "id": "ee214364-bf30-49c4-b611-d680d79302fb",
   "metadata": {
    "editable": true,
    "slideshow": {
     "slide_type": ""
    },
    "tags": [
     "blank"
    ]
   },
   "source": [
    "```\n",
    "0000000000000754 <adjust>:\n",
    " 754:   d10043ff    sub sp, sp, #0x10\n",
    " 758:   b9000fe0    str w0, [sp, #12]\n",
    " 75c:   b9400fe0    ldr w0, [sp, #12]\n",
    " 760:   7100001f    cmp w0, #0x0\n",
    " 764:   5400010d    b.le    784 <adjust+0x30>\n",
    " 768:   b9400fe0    ldr w0, [sp, #12]\n",
    " 76c:   7100241f    cmp w0, #0xa\n",
    " 770:   540000ac    b.ge    784 <adjust+0x30>\n",
    " 774:   b9400fe0    ldr w0, [sp, #12]\n",
    " 778:   51002800    sub w0, w0, #0xa\n",
    " 77c:   b9000fe0    str w0, [sp, #12]\n",
    " 780:   14000004    b   790 <adjust+0x3c>\n",
    " 784:   b9400fe0    ldr w0, [sp, #12]\n",
    " 788:   11002800    add w0, w0, #0xa\n",
    " 78c:   b9000fe0    str w0, [sp, #12]\n",
    " 790:   b9400fe0    ldr w0, [sp, #12]\n",
    " 794:   910043ff    add sp, sp, #0x10\n",
    " 798:   d65f03c0    ret\n",
    "```"
   ]
  },
  {
   "cell_type": "markdown",
   "id": "dee78992-5d3f-4dd3-99a4-5e8c0e318620",
   "metadata": {
    "editable": true,
    "slideshow": {
     "slide_type": ""
    },
    "tags": [
     "question"
    ]
   },
   "source": [
    "Q6: _Write a function called `adjust_goto` that behaves the same as `adjust` but matches the structure of the assembly code that is generated for `adjust`. (Hint: you'll need three `goto` statements.)_"
   ]
  },
  {
   "cell_type": "code",
   "execution_count": 9,
   "id": "f6c74ed5-7822-4f28-9743-9dfc146193af",
   "metadata": {
    "editable": true,
    "slideshow": {
     "slide_type": "skip"
    },
    "tags": [
     "answer"
    ]
   },
   "outputs": [],
   "source": [
    "int adjust_goto(int value) {\n",
    "    if (value <= 0)\n",
    "        goto else_body;\n",
    "    if (value >= 10)\n",
    "        goto else_body;\n",
    "    value -= 10;\n",
    "    goto after_if;\n",
    "else_body:\n",
    "    value += 10;\n",
    "after_if:\n",
    "    return value;\n",
    "}\n",
    "// Testing\n",
    "#include <assert.h>\n",
    "int main() {\n",
    "    assert(adjust_goto(5) == -5);\n",
    "}"
   ]
  },
  {
   "cell_type": "markdown",
   "id": "ca706859-70df-46f8-8687-814ca4dd48d3",
   "metadata": {
    "editable": true,
    "slideshow": {
     "slide_type": "skip"
    },
    "tags": [
     "blank"
    ]
   },
   "source": [
    "<p style=\"height:18em;\"></p>"
   ]
  },
  {
   "cell_type": "markdown",
   "id": "7b998d2c-fd6c-4968-8638-3c693c430242",
   "metadata": {
    "editable": true,
    "slideshow": {
     "slide_type": "skip"
    },
    "tags": [
     "question"
    ]
   },
   "source": [
    "_The following C code was compiled into assembly (using `gcc`)._ "
   ]
  },
  {
   "cell_type": "code",
   "execution_count": null,
   "id": "9ada8f6e-4510-4bab-b209-bee60e9b8550",
   "metadata": {
    "editable": true,
    "slideshow": {
     "slide_type": "subslide"
    },
    "tags": [
     "question"
    ]
   },
   "outputs": [],
   "source": [
    "/* 1*/  int flip_elif(int bit) {\n",
    "/* 2*/      int result;\n",
    "/* 3*/      if (bit == 0) {\n",
    "/* 4*/          result = 1 ;\n",
    "/* 5*/      }\n",
    "/* 6*/      else if (bit == 1) {\n",
    "/* 7*/          result = 0;\n",
    "/* 8*/      }\n",
    "/* 9*/      else {\n",
    "/*10*/          result = -1;\n",
    "/*11*/      }\n",
    "/*12*/      return result;\n",
    "/*13*/  }"
   ]
  },
  {
   "cell_type": "markdown",
   "id": "86979bbc-ba08-41ca-baa1-d9531cf0c52a",
   "metadata": {
    "editable": true,
    "slideshow": {
     "slide_type": "skip"
    },
    "tags": [
     "question"
    ]
   },
   "source": [
    "Q7: _For each line of assembly, indicate which original line of C code the assembly instruction was derived from._ "
   ]
  },
  {
   "cell_type": "markdown",
   "id": "908eb422-d1c2-4d3c-8571-d93cf7beecc3",
   "metadata": {
    "editable": true,
    "slideshow": {
     "slide_type": "skip"
    },
    "tags": [
     "answer"
    ]
   },
   "source": [
    "```\n",
    "000000000000071c <flip_elif>:\n",
    "    71c:    d10083ff     sub    sp, sp, #0x20           // 1\n",
    "    720:    b9000fe0     str    w0, [sp, #12]           // 1\n",
    "    724:    b9400fe0     ldr    w0, [sp, #12]           // 3\n",
    "    728:    7100001f     cmp    w0, #0x0                // 3\n",
    "    72c:    54000081     b.ne   73c <flip_elif+0x20>    // 3\n",
    "    730:    52800020     mov    w0, #0x1                // 4\n",
    "    734:    b9001fe0     str    w0, [sp, #28]           // 4\n",
    "    738:    14000008     b      758 <flip_elif+0x3c>    // 5\n",
    "    73c:    b9400fe0     ldr    w0, [sp, #12]           // 6\n",
    "    740:    7100041f     cmp    w0, #0x1                // 6\n",
    "    744:    54000061     b.ne   750 <flip_elif+0x34>    // 6\n",
    "    748:    b9001fff     str    wzr, [sp, #28]          // 7\n",
    "    74c:    14000003     b      758 <flip_elif+0x3c>    // 8\n",
    "    750:    12800000     mov    w0, #0xffffffff         // 10\n",
    "    754:    b9001fe0     str    w0, [sp, #28]           // 10\n",
    "    758:    b9401fe0     ldr    w0, [sp, #28]           // 12\n",
    "    75c:    910083ff     add    sp, sp, #0x20           // 12\n",
    "    760:    d65f03c0     ret                            // 12\n",
    "```"
   ]
  },
  {
   "cell_type": "markdown",
   "id": "218402d4-d570-4d86-b2dd-512f45749467",
   "metadata": {
    "editable": true,
    "slideshow": {
     "slide_type": ""
    },
    "tags": [
     "blank"
    ]
   },
   "source": [
    "```\n",
    "000000000000071c <flip_elif>:\n",
    "    71c:    d10083ff     sub    sp, sp, #0x20\n",
    "    720:    b9000fe0     str    w0, [sp, #12]\n",
    "    724:    b9400fe0     ldr    w0, [sp, #12]\n",
    "    728:    7100001f     cmp    w0, #0x0\n",
    "    72c:    54000081     b.ne   73c <flip_elif+0x20>\n",
    "    730:    52800020     mov    w0, #0x1\n",
    "    734:    b9001fe0     str    w0, [sp, #28]\n",
    "    738:    14000008     b      758 <flip_elif+0x3c>\n",
    "    73c:    b9400fe0     ldr    w0, [sp, #12]\n",
    "    740:    7100041f     cmp    w0, #0x1\n",
    "    744:    54000061     b.ne   750 <flip_elif+0x34>\n",
    "    748:    b9001fff     str    wzr, [sp, #28]\n",
    "    74c:    14000003     b      758 <flip_elif+0x3c>\n",
    "    750:    12800000     mov    w0, #0xffffffff\n",
    "    754:    b9001fe0     str    w0, [sp, #28]\n",
    "    758:    b9401fe0     ldr    w0, [sp, #28]\n",
    "    75c:    910083ff     add    sp, sp, #0x20\n",
    "    760:    d65f03c0     ret\n",
    "```"
   ]
  },
  {
   "cell_type": "markdown",
   "id": "ce214837-1afd-4657-97e4-1e4f8e9463f0",
   "metadata": {
    "editable": true,
    "slideshow": {
     "slide_type": "skip"
    },
    "tags": [
     "question"
    ]
   },
   "source": [
    "Q8: _Write a function called `flip_elif_goto` that behaves the same as `flip_elif` but matches the structure of the assembly code that is generated for `flip_elif`._"
   ]
  },
  {
   "cell_type": "code",
   "execution_count": 2,
   "id": "5ec3f9f2-e524-477a-b6b4-8d7c918173e1",
   "metadata": {
    "editable": true,
    "slideshow": {
     "slide_type": "skip"
    },
    "tags": [
     "notes-only"
    ]
   },
   "outputs": [],
   "source": [
    "int flip_elif_goto(int bit) {\n",
    "    int result;\n",
    "    if (bit != 0)\n",
    "        goto ELIF;\n",
    "    result = 1;\n",
    "    goto END;\n",
    "ELIF:\n",
    "    if (bit != 1)\n",
    "        goto ELS;\n",
    "    result = 0;\n",
    "    goto END;\n",
    "ELS:\n",
    "    result = -1;\n",
    "END:\n",
    "    return result;\n",
    "}\n",
    "// Testing\n",
    "#include <assert.h>\n",
    "int main() {\n",
    "    assert(flip_elif_goto(0) == 1);\n",
    "    assert(flip_elif_goto(1) == 0);\n",
    "    assert(flip_elif_goto(2) == -1);\n",
    "}"
   ]
  },
  {
   "cell_type": "markdown",
   "id": "f26cd43e-9e99-4f3c-a1f2-6d99986de92c",
   "metadata": {
    "editable": true,
    "slideshow": {
     "slide_type": "skip"
    },
    "tags": [
     "blank"
    ]
   },
   "source": [
    "<p style=\"height:13em;\"></p>"
   ]
  },
  {
   "cell_type": "markdown",
   "id": "338233e3-6599-4399-8b26-dc02733d2916",
   "metadata": {
    "editable": true,
    "slideshow": {
     "slide_type": "skip"
    },
    "tags": [
     "question"
    ]
   },
   "source": [
    "_The following C code was compiled into assembly (using `gcc`)._ "
   ]
  },
  {
   "cell_type": "code",
   "execution_count": null,
   "id": "f755886e-28a1-44d2-876a-d0a6025a6018",
   "metadata": {
    "editable": true,
    "slideshow": {
     "slide_type": "subslide"
    },
    "tags": [
     "question"
    ]
   },
   "outputs": [],
   "source": [
    "/* 1*/  int adjust2(int value) {\n",
    "/* 2*/      if (value > 0 || value < 10) {\n",
    "/* 3*/          value -= 10;\n",
    "/* 4*/      } else {\n",
    "/* 5*/          value += 10;\n",
    "/* 6*/      }\n",
    "/* 7*/      return value;\n",
    "/* 8*/  }"
   ]
  },
  {
   "cell_type": "markdown",
   "id": "2dd8fbee-61e5-45a0-a91e-dfd7a3385557",
   "metadata": {
    "editable": true,
    "slideshow": {
     "slide_type": ""
    },
    "tags": [
     "question"
    ]
   },
   "source": [
    "Q9: _For each line of assembly, indicate which original line of C code the assembly instruction was derived from._ "
   ]
  },
  {
   "cell_type": "markdown",
   "id": "ceac18e7-33a6-4780-831e-97ae0e8fe0f7",
   "metadata": {
    "editable": true,
    "slideshow": {
     "slide_type": "skip"
    },
    "tags": [
     "answer"
    ]
   },
   "source": [
    "```\n",
    "0000000000000754 <adjust2>:\n",
    " 754:   d10043ff    sub sp, sp, #0x10      // 1\n",
    " 758:   b9000fe0    str w0, [sp, #12]      // 1\n",
    " 75c:   b9400fe0    ldr w0, [sp, #12]      // 2\n",
    " 760:   7100001f    cmp w0, #0x0           // 2\n",
    " 764:   5400008c    b.gt    774 <adjust2+0x20> // 2\n",
    " 768:   b9400fe0    ldr w0, [sp, #12]      // 2\n",
    " 76c:   7100241f    cmp w0, #0x9           // 2\n",
    " 770:   540000ac    b.gt    784 <adjust2+0x30> // 2\n",
    " 774:   b9400fe0    ldr w0, [sp, #12]      // 3\n",
    " 778:   51002800    sub w0, w0, #0xa       // 3\n",
    " 77c:   b9000fe0    str w0, [sp, #12]      // 3\n",
    " 780:   14000004    b   790 <adjust2+0x3c> // 4\n",
    " 784:   b9400fe0    ldr w0, [sp, #12]      // 5\n",
    " 788:   11002800    add w0, w0, #0xa       // 5\n",
    " 78c:   b9000fe0    str w0, [sp, #12]      // 5\n",
    " 790:   b9400fe0    ldr w0, [sp, #12]      // 7\n",
    " 794:   910043ff    add sp, sp, #0x10      // 7\n",
    " 798:   d65f03c0    ret                    // 7\n",
    "```"
   ]
  },
  {
   "cell_type": "markdown",
   "id": "9973ad8d-7a1a-4cf5-912e-d56afdb3a29c",
   "metadata": {
    "editable": true,
    "slideshow": {
     "slide_type": ""
    },
    "tags": [
     "blank"
    ]
   },
   "source": [
    "```\n",
    "0000000000000754 <adjust2>:\n",
    " 754:   d10043ff    sub sp, sp, #0x10\n",
    " 758:   b9000fe0    str w0, [sp, #12]\n",
    " 75c:   b9400fe0    ldr w0, [sp, #12]\n",
    " 760:   7100001f    cmp w0, #0x0\n",
    " 764:   5400008c    b.gt    774 <adjust2+0x20>\n",
    " 768:   b9400fe0    ldr w0, [sp, #12]\n",
    " 76c:   7100241f    cmp w0, #0x9\n",
    " 770:   540000ac    b.gt    784 <adjust2+0x30>\n",
    " 774:   b9400fe0    ldr w0, [sp, #12]\n",
    " 778:   51002800    sub w0, w0, #0xa\n",
    " 77c:   b9000fe0    str w0, [sp, #12]\n",
    " 780:   14000004    b   790 <adjust2+0x3c>\n",
    " 784:   b9400fe0    ldr w0, [sp, #12]\n",
    " 788:   11002800    add w0, w0, #0xa\n",
    " 78c:   b9000fe0    str w0, [sp, #12]\n",
    " 790:   b9400fe0    ldr w0, [sp, #12]\n",
    " 794:   910043ff    add sp, sp, #0x10\n",
    " 798:   d65f03c0    ret\n",
    "```"
   ]
  },
  {
   "cell_type": "markdown",
   "id": "6f2207e7-a91f-4da2-9751-fe2e251a19be",
   "metadata": {
    "editable": true,
    "slideshow": {
     "slide_type": "skip"
    },
    "tags": [
     "question"
    ]
   },
   "source": [
    "Q10: _Write a function called `adjust2_goto` that behaves the same as `adjust2` but matches the structure of the assembly code that is generated for `adjust2`._"
   ]
  },
  {
   "cell_type": "code",
   "execution_count": 2,
   "id": "16c6c75b-d523-4da7-818d-351ccbe1466e",
   "metadata": {
    "editable": true,
    "slideshow": {
     "slide_type": "skip"
    },
    "tags": [
     "notes-only"
    ]
   },
   "outputs": [],
   "source": [
    "int adjust2_goto(int value) {\n",
    "    if (value > 0)\n",
    "        goto if_body;\n",
    "    if (value > 9)\n",
    "        goto else_body;\n",
    "if_body:\n",
    "    value -= 10;\n",
    "    goto after_if;\n",
    "else_body:\n",
    "    value += 10;\n",
    "after_if:\n",
    "    return value;\n",
    "}\n",
    "// Testing\n",
    "#include <assert.h>\n",
    "int main() {\n",
    "    assert(adjust2_goto(2) == -8);\n",
    "    assert(adjust2_goto(-2) == -12);\n",
    "    assert(adjust2_goto(0) == -10);\n",
    "    assert(adjust2_goto(10) == 0);\n",
    "    assert(adjust2_goto(12) == 2);\n",
    "}"
   ]
  },
  {
   "cell_type": "markdown",
   "id": "7cdf21c7-190f-4d11-a561-468f61997b60",
   "metadata": {
    "editable": true,
    "slideshow": {
     "slide_type": "skip"
    },
    "tags": [
     "blank"
    ]
   },
   "source": [
    "<p style=\"height:18em;\"></p>"
   ]
  },
  {
   "cell_type": "markdown",
   "id": "6fd01e8a-2413-4128-bb81-bb82ba9bc45a",
   "metadata": {
    "editable": true,
    "slideshow": {
     "slide_type": "slide"
    },
    "tags": []
   },
   "source": [
    "## Mapping C loops to assembly"
   ]
  },
  {
   "cell_type": "markdown",
   "id": "9b6bbaf4-9f52-4b17-87e1-703e6f16b678",
   "metadata": {
    "editable": true,
    "slideshow": {
     "slide_type": "skip"
    },
    "tags": []
   },
   "source": [
    "_Example_"
   ]
  },
  {
   "cell_type": "code",
   "execution_count": 11,
   "id": "ea872758-e7bb-4372-a72f-7b54effd7aca",
   "metadata": {
    "editable": true,
    "slideshow": {
     "slide_type": ""
    },
    "tags": [
     "worksheet-code-only"
    ]
   },
   "outputs": [
    {
     "name": "stdout",
     "output_type": "stream",
     "text": [
      "2^10 = 1024\n"
     ]
    }
   ],
   "source": [
    "/* 1*/   int pow2(int n) {\n",
    "/* 2*/       int result = 1;\n",
    "/* 3*/       while (n > 0) {\n",
    "/* 4*/           result = result * 2;\n",
    "/* 5*/           n = n - 1;\n",
    "/* 6*/       }\n",
    "/* 7*/       return result;\n",
    "/* 8*/   }"
   ]
  },
  {
   "cell_type": "markdown",
   "id": "d6d7d0aa-197b-4be9-9893-ac43dd3b3281",
   "metadata": {
    "editable": true,
    "slideshow": {
     "slide_type": "skip"
    },
    "tags": [
     "notes-only"
    ]
   },
   "source": [
    "```\n",
    "0000000000000754 <pow2>:\n",
    " 754:   d10083ff        sub     sp, sp, #0x20    // 1\n",
    " 758:   b9000fe0        str     w0, [sp, #12]    // 1\n",
    " 75c:   52800020        mov     w0, #0x1         // 2\n",
    " 760:   b9001fe0        str     w0, [sp, #28]    // 2\n",
    " 764:   14000007        b       780 <pow2+0x2c>  // 3\n",
    " 768:   b9401fe0        ldr     w0, [sp, #28]    // 4\n",
    " 76c:   531f7800        lsl     w0, w0, #1       // 4\n",
    " 770:   b9001fe0        str     w0, [sp, #28]    // 4\n",
    " 774:   b9400fe0        ldr     w0, [sp, #12]    // 5\n",
    " 778:   51000400        sub     w0, w0, #0x1     // 5\n",
    " 77c:   b9000fe0        str     w0, [sp, #12]    // 5\n",
    " 780:   b9400fe0        ldr     w0, [sp, #12]    // 3\n",
    " 784:   7100001f        cmp     w0, #0x0         // 3\n",
    " 788:   54ffff0c        b.gt    768 <pow2+0x14>  // 3\n",
    " 78c:   b9401fe0        ldr     w0, [sp, #28]    // 7\n",
    " 790:   910083ff        add     sp, sp, #0x20    // 7\n",
    " 794:   d65f03c0        ret                      // 7\n",
    "```"
   ]
  },
  {
   "cell_type": "markdown",
   "id": "421d9516-39c8-431b-a1aa-3d0f57b19c89",
   "metadata": {
    "editable": true,
    "slideshow": {
     "slide_type": ""
    },
    "tags": [
     "worksheet-only"
    ]
   },
   "source": [
    "```\n",
    "0000000000000754 <pow2>:\n",
    " 754:   d10083ff        sub     sp, sp, #0x20\n",
    " 758:   b9000fe0        str     w0, [sp, #12]\n",
    " 75c:   52800020        mov     w0, #0x1\n",
    " 760:   b9001fe0        str     w0, [sp, #28]\n",
    " 764:   14000007        b       780 <pow2+0x2c>\n",
    " 768:   b9401fe0        ldr     w0, [sp, #28]\n",
    " 76c:   531f7800        lsl     w0, w0, #1\n",
    " 770:   b9001fe0        str     w0, [sp, #28]\n",
    " 774:   b9400fe0        ldr     w0, [sp, #12]\n",
    " 778:   51000400        sub     w0, w0, #0x1\n",
    " 77c:   b9000fe0        str     w0, [sp, #12]\n",
    " 780:   b9400fe0        ldr     w0, [sp, #12]\n",
    " 784:   7100001f        cmp     w0, #0x0\n",
    " 788:   54ffff0c        b.gt    768 <pow2+0x14>\n",
    " 78c:   b9401fe0        ldr     w0, [sp, #28]\n",
    " 790:   910083ff        add     sp, sp, #0x20\n",
    " 794:   d65f03c0        ret\n",
    "```"
   ]
  },
  {
   "cell_type": "markdown",
   "id": "68b40d02-b32b-40ab-9576-b15aeb1d1ea9",
   "metadata": {
    "editable": true,
    "slideshow": {
     "slide_type": "skip"
    },
    "tags": [
     "notes-only"
    ]
   },
   "source": [
    "* Goto form"
   ]
  },
  {
   "cell_type": "code",
   "execution_count": 3,
   "id": "d78420ad-a321-4bbd-9ab1-41ef1b0a54ca",
   "metadata": {
    "editable": true,
    "slideshow": {
     "slide_type": "skip"
    },
    "tags": [
     "notes-only"
    ]
   },
   "outputs": [
    {
     "name": "stdout",
     "output_type": "stream",
     "text": [
      "2^10 = 1024\n"
     ]
    }
   ],
   "source": [
    "int pow2_goto(int n) {\n",
    "    int result = 1;\n",
    "    goto loop_check;\n",
    "loop_top:\n",
    "    result = result * 2;\n",
    "    n = n - 1;\n",
    "loop_check:\n",
    "    if (n > 0)\n",
    "        goto loop_top;\n",
    "    return result;\n",
    "}\n",
    "#include <stdio.h>\n",
    "int main() {\n",
    "    printf(\"2^10 = %d\\n\", pow2_goto(10));\n",
    "}"
   ]
  },
  {
   "cell_type": "markdown",
   "id": "661e996a-d467-4e05-bec2-c3efb4126c88",
   "metadata": {
    "editable": true,
    "slideshow": {
     "slide_type": "skip"
    },
    "tags": [
     "notes-only"
    ]
   },
   "source": [
    "* For loop can always be expressed using a while loop\n",
    "    * Assembly code generated for a for loop matches the assembly code generated for a while loop"
   ]
  },
  {
   "cell_type": "markdown",
   "id": "1351c6b2-bb32-47ce-9b49-5e460e21c8d3",
   "metadata": {
    "editable": true,
    "slideshow": {
     "slide_type": "skip"
    },
    "tags": [
     "blank"
    ]
   },
   "source": [
    "<p style=\"height:23em;\"></p>"
   ]
  },
  {
   "cell_type": "markdown",
   "id": "9052ecc5-e661-488d-957f-e333379a58c4",
   "metadata": {
    "editable": true,
    "slideshow": {
     "slide_type": "subslide"
    },
    "tags": [
     "question"
    ]
   },
   "source": [
    "Q11: _The following C code was compiled into assembly (using `clang`). Label each line of assembly code with the line number of the line of C code from which the assembly instruction was derived._"
   ]
  },
  {
   "cell_type": "code",
   "execution_count": null,
   "id": "56409109-9f9c-4785-a883-1c0f7781c64e",
   "metadata": {
    "editable": true,
    "slideshow": {
     "slide_type": ""
    },
    "tags": [
     "question"
    ]
   },
   "outputs": [],
   "source": [
    "/*1*/  int powi(int m, int n) {\n",
    "/*2*/      int result = 1;\n",
    "/*3*/      for (int i = 0; i < n; i++) {\n",
    "/*4*/          result *= m;\n",
    "/*5*/      } \n",
    "/*6*/      return result;\n",
    "/*7*/  } "
   ]
  },
  {
   "cell_type": "markdown",
   "id": "f4439125-47e3-4730-b967-3bacb7ed8e46",
   "metadata": {
    "editable": true,
    "slideshow": {
     "slide_type": "skip"
    },
    "tags": [
     "answer"
    ]
   },
   "source": [
    "```\n",
    "0000000000400544 <powi>:\n",
    "    400544:    d10043ff     sub    sp, sp, #0x10        // 1\n",
    "    400548:    b9000fe0     str    w0, [sp, #12]        // 1\n",
    "    40054c:    b9000be1     str    w1, [sp, #8]         // 1\n",
    "    400550:    52800028     mov    w8, #0x1             // 2\n",
    "    400554:    b90007e8     str    w8, [sp, #4]         // 2\n",
    "    400558:    b90003ff     str    wzr, [sp]            // 3\n",
    "    40055c:    b94003e8     ldr    w8, [sp]             // 3\n",
    "    400560:    b9400be9     ldr    w9, [sp, #8]         // 3\n",
    "    400564:    6b09011f     cmp    w8, w9               // 3\n",
    "    400568:    5400012a     b.ge    40058c <powi+0x48>  // 3\n",
    "    40056c:    b9400fe8     ldr    w8, [sp, #12]        // 4\n",
    "    400570:    b94007e9     ldr    w9, [sp, #4]         // 4\n",
    "    400574:    1b087d28     mul    w8, w9, w8           // 4\n",
    "    400578:    b90007e8     str    w8, [sp, #4]         // 4\n",
    "    40057c:    b94003e8     ldr    w8, [sp]             // 3\n",
    "    400580:    11000508     add    w8, w8, #0x1         // 3\n",
    "    400584:    b90003e8     str    w8, [sp]             // 3\n",
    "    400588:    17fffff5     b    40055c <powi+0x18>     // 5\n",
    "    40058c:    b94007e0     ldr    w0, [sp, #4]         // 6\n",
    "    400590:    910043ff     add    sp, sp, #0x10        // 6\n",
    "    400594:    d65f03c0     ret                         // 6\n",
    "```"
   ]
  },
  {
   "cell_type": "markdown",
   "id": "9b58fb26-de81-4f55-bbe9-bb1813905aa3",
   "metadata": {
    "editable": true,
    "slideshow": {
     "slide_type": ""
    },
    "tags": [
     "blank"
    ]
   },
   "source": [
    "```\n",
    "0000000000400544 <powi>:\n",
    "    400544:    d10043ff     sub    sp, sp, #0x10\n",
    "    400548:    b9000fe0     str    w0, [sp, #12]\n",
    "    40054c:    b9000be1     str    w1, [sp, #8]\n",
    "    400550:    52800028     mov    w8, #0x1\n",
    "    400554:    b90007e8     str    w8, [sp, #4]\n",
    "    400558:    b90003ff     str    wzr, [sp]\n",
    "    40055c:    b94003e8     ldr    w8, [sp]\n",
    "    400560:    b9400be9     ldr    w9, [sp, #8]\n",
    "    400564:    6b09011f     cmp    w8, w9\n",
    "    400568:    5400012a     b.ge   40058c <powi+0x48>\n",
    "    40056c:    b9400fe8     ldr    w8, [sp, #12]\n",
    "    400570:    b94007e9     ldr    w9, [sp, #4]\n",
    "    400574:    1b087d28     mul    w8, w9, w8\n",
    "    400578:    b90007e8     str    w8, [sp, #4]\n",
    "    40057c:    b94003e8     ldr    w8, [sp]\n",
    "    400580:    11000508     add    w8, w8, #0x1\n",
    "    400584:    b90003e8     str    w8, [sp]\n",
    "    400588:    17fffff5     b      40055c <powi+0x18>\n",
    "    40058c:    b94007e0     ldr    w0, [sp, #4]\n",
    "    400590:    910043ff     add    sp, sp, #0x10\n",
    "    400594:    d65f03c0     ret\n",
    "```"
   ]
  },
  {
   "cell_type": "markdown",
   "id": "5e5d1c38-926d-40c3-a6ca-52569b3f6fcb",
   "metadata": {
    "editable": true,
    "slideshow": {
     "slide_type": "skip"
    },
    "tags": [
     "blank"
    ]
   },
   "source": [
    "<p style=\"height:23em;\"></p>"
   ]
  },
  {
   "cell_type": "markdown",
   "id": "7680369e-4631-4ef8-ad85-a49b4272f162",
   "metadata": {
    "editable": true,
    "slideshow": {
     "slide_type": "subslide"
    },
    "tags": [
     "question"
    ]
   },
   "source": [
    "Q12: _How would the correspondence between assembly code and C code be different if `powi` used a while loop? (Notice the assembly code is exactly the same as the version that used a for loop.)_"
   ]
  },
  {
   "cell_type": "code",
   "execution_count": null,
   "id": "9749afe3-93d1-41eb-9f2f-f4a4a49e25be",
   "metadata": {
    "editable": true,
    "slideshow": {
     "slide_type": ""
    },
    "tags": [
     "question"
    ]
   },
   "outputs": [],
   "source": [
    "/*1*/  int powi(int m, int n) {\n",
    "/*2*/      int result = 1;\n",
    "/*3*/      int i = 0;\n",
    "/*4*/      while (i < n) {\n",
    "/*5*/          result *= m;\n",
    "/*6*/          i++;\n",
    "/*7*/      } \n",
    "/*8*/      return result;\n",
    "/*9*/  } "
   ]
  },
  {
   "cell_type": "markdown",
   "id": "7dbcd601-5523-46e4-b642-83882586aee2",
   "metadata": {
    "editable": true,
    "slideshow": {
     "slide_type": "skip"
    },
    "tags": [
     "answer"
    ]
   },
   "source": [
    "```\n",
    "0000000000400544 <powi>:\n",
    "    400544:    d10043ff     sub    sp, sp, #0x10        // 1\n",
    "    40054c:    b9000fe0     str    w0, [sp, #12]        // 1\n",
    "    400550:    b9000be1     str    w1, [sp, #8]         // 1\n",
    "    400548:    52800028     mov    w8, #0x1             // 2\n",
    "    400554:    b90007e8     str    w8, [sp, #4]         // 2\n",
    "    400558:    b90003ff     str    wzr, [sp]            // 3\n",
    "    40055c:    b94003e8     ldr    w8, [sp]             // 4\n",
    "    400560:    b9400be9     ldr    w9, [sp, #8]         // 4\n",
    "    400564:    6b09011f     cmp    w8, w9               // 4\n",
    "    400568:    5400012a     b.ge    40058c <powi+0x48>  // 4\n",
    "    40056c:    b9400fe8     ldr    w8, [sp, #12]        // 5\n",
    "    400570:    b94007e9     ldr    w9, [sp, #4]         // 5\n",
    "    400574:    1b087d28     mul    w8, w9, w8           // 5\n",
    "    400578:    b90007e8     str    w8, [sp, #4]         // 5\n",
    "    40057c:    b94003e8     ldr    w8, [sp]             // 6\n",
    "    400580:    11000508     add    w8, w8, #0x1         // 6\n",
    "    400584:    b90003e8     str    w8, [sp]             // 6\n",
    "    400588:    17fffff5     b    40055c <powi+0x18>     // 7\n",
    "    40058c:    b94007e0     ldr    w0, [sp, #4]         // 8\n",
    "    400590:    910043ff     add    sp, sp, #0x10        // 8\n",
    "    400594:    d65f03c0     ret                         // 8\n",
    "```"
   ]
  },
  {
   "cell_type": "markdown",
   "id": "98478953-502c-4174-b3dc-f203ebe78126",
   "metadata": {
    "editable": true,
    "slideshow": {
     "slide_type": ""
    },
    "tags": [
     "blank"
    ]
   },
   "source": [
    "```\n",
    "0000000000400544 <powi>:\n",
    "    400544:    d10043ff     sub    sp, sp, #0x10\n",
    "    40054c:    b9000fe0     str    w0, [sp, #12]\n",
    "    400550:    b9000be1     str    w1, [sp, #8]\n",
    "    400548:    52800028     mov    w8, #0x1\n",
    "    400554:    b90007e8     str    w8, [sp, #4]\n",
    "    400558:    b90003ff     str    wzr, [sp]\n",
    "    40055c:    b94003e8     ldr    w8, [sp]\n",
    "    400560:    b9400be9     ldr    w9, [sp, #8]\n",
    "    400564:    6b09011f     cmp    w8, w9\n",
    "    400568:    5400012a     b.ge   40058c <powi+0x48>\n",
    "    40056c:    b9400fe8     ldr    w8, [sp, #12]\n",
    "    400570:    b94007e9     ldr    w9, [sp, #4]\n",
    "    400574:    1b087d28     mul    w8, w9, w8\n",
    "    400578:    b90007e8     str    w8, [sp, #4]\n",
    "    40057c:    b94003e8     ldr    w8, [sp]\n",
    "    400580:    11000508     add    w8, w8, #0x1\n",
    "    400584:    b90003e8     str    w8, [sp]\n",
    "    400588:    17fffff5     b      40055c <powi+0x18>\n",
    "    40058c:    b94007e0     ldr    w0, [sp, #4]\n",
    "    400590:    910043ff     add    sp, sp, #0x10\n",
    "    400594:    d65f03c0     ret\n",
    "```"
   ]
  },
  {
   "cell_type": "markdown",
   "id": "5b675908-e962-40f9-b0e5-08b7e2f8c5e1",
   "metadata": {
    "editable": true,
    "slideshow": {
     "slide_type": "skip"
    },
    "tags": [
     "question"
    ]
   },
   "source": [
    "Q13: _Write a function called `powi_goto` that behaves the same as `powi` but matches the structure of the assembly code that is generated for `powi`._"
   ]
  },
  {
   "cell_type": "code",
   "execution_count": 7,
   "id": "083982a2-968a-42fd-82bc-74eccac6c91d",
   "metadata": {
    "editable": true,
    "slideshow": {
     "slide_type": "skip"
    },
    "tags": [
     "notes-only"
    ]
   },
   "outputs": [],
   "source": [
    "int powi_goto(int m, int n) {\n",
    "    int result = 1;\n",
    "    int i = 0;\n",
    "loop_check:\n",
    "    if (i >= n)\n",
    "        goto after_loop;\n",
    "    result *= m;\n",
    "    i++;\n",
    "    goto loop_check;\n",
    "after_loop:\n",
    "    return result;\n",
    "}\n",
    "// Testing\n",
    "#include <assert.h>\n",
    "int main() {\n",
    "    assert(powi_goto(2, 1) == 2);\n",
    "    assert(powi_goto(2, 3) == 8);\n",
    "    assert(powi_goto(2, 8) == 256);\n",
    "    assert(powi_goto(3, 0) == 1);\n",
    "    assert(powi_goto(3, 2) == 9);\n",
    "    assert(powi_goto(5, 3) == 125);\n",
    "}"
   ]
  }
 ],
 "metadata": {
  "kernelspec": {
   "display_name": "C",
   "language": "c",
   "name": "c"
  },
  "language_info": {
   "file_extension": ".c",
   "mimetype": "text/plain",
   "name": "c"
  }
 },
 "nbformat": 4,
 "nbformat_minor": 5
}
