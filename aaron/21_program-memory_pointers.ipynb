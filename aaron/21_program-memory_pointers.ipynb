{
 "cells": [
  {
   "cell_type": "markdown",
   "id": "f118a68e-b3cd-442e-acc0-dbdb88e2ac71",
   "metadata": {
    "editable": true,
    "slideshow": {
     "slide_type": "skip"
    },
    "tags": []
   },
   "source": [
    "# Program memory: stack; pointers\n",
    "_COSC 208, Introduction to Computer Systems, Fall 2025_"
   ]
  },
  {
   "cell_type": "markdown",
   "id": "4e6b19aa-8f34-4676-818b-bdb3aa7e09de",
   "metadata": {
    "editable": true,
    "slideshow": {
     "slide_type": ""
    },
    "tags": []
   },
   "source": [
    "## Program stack"
   ]
  },
  {
   "cell_type": "markdown",
   "id": "b942cfac-43bd-4980-873f-9d56a6893e45",
   "metadata": {
    "editable": true,
    "slideshow": {
     "slide_type": ""
    },
    "tags": [
     "notes-only"
    ]
   },
   "source": [
    "* Stores data for functions that are currently executing\n",
    "* Stored in random access memory (RAM)\n",
    "* Composed of stack frames\n",
    "    * A stack frame contains the values stored in a functions's local variables and formal parameters\n",
    "    * The size of the stack frame is determined by the number and type of local variables and formal parameters\n",
    "    * A stack frame is added to the top of the stack when a function is called\n",
    "    * A stack frame is removed from the top of the stack when a function returns"
   ]
  },
  {
   "cell_type": "markdown",
   "id": "4e5d6afc-e8d2-4751-9ec0-18e14ad3d4f3",
   "metadata": {
    "editable": true,
    "slideshow": {
     "slide_type": ""
    },
    "tags": []
   },
   "source": [
    "Example"
   ]
  },
  {
   "cell_type": "code",
   "execution_count": null,
   "id": "37204949",
   "metadata": {
    "editable": true,
    "slideshow": {
     "slide_type": ""
    },
    "tags": []
   },
   "outputs": [
    {
     "name": "stdout",
     "output_type": "stream",
     "text": [
      "68F is 20C\n"
     ]
    }
   ],
   "source": [
    "#include <stdio.h>\n",
    "int multiply(int z) {\n",
    "    return z * 5 / 9;\n",
    "}\n",
    "int subtract(int x, int y) {\n",
    "    return x - y;\n",
    "}\n",
    "int convert(int t) {\n",
    "    int u = subtract(t, 32);\n",
    "    int v = multiply(u);\n",
    "    return v;\n",
    "}\n",
    "int main() {\n",
    "    int f = 68;\n",
    "    int c = convert(68);\n",
    "    printf(\"%dF is %dC\\n\", f, c); \n",
    "}"
   ]
  },
  {
   "cell_type": "markdown",
   "id": "6abbf9da-9cf7-46d6-9656-1c0e720b0a5a",
   "metadata": {
    "editable": true,
    "slideshow": {
     "slide_type": ""
    },
    "tags": [
     "notes-only"
    ]
   },
   "source": [
    "* Use [C tutor](https://pythontutor.com/c.html) to visualize the stack during C code execution"
   ]
  },
  {
   "cell_type": "markdown",
   "id": "2d900efe-83ff-4907-9a6b-3f5abbb4154c",
   "metadata": {
    "editable": true,
    "slideshow": {
     "slide_type": ""
    },
    "tags": [
     "blank"
    ]
   },
   "source": [
    "<div style=\"height:17em;\"></div>"
   ]
  },
  {
   "cell_type": "markdown",
   "id": "810973a5-aee9-4b31-9bfc-cfaa86a4604e",
   "metadata": {
    "editable": true,
    "slideshow": {
     "slide_type": ""
    },
    "tags": [
     "question"
    ]
   },
   "source": [
    "Q1: _What is the output of this program?_"
   ]
  },
  {
   "cell_type": "code",
   "execution_count": null,
   "id": "24d6508e",
   "metadata": {
    "editable": true,
    "slideshow": {
     "slide_type": ""
    },
    "tags": [
     "worksheet-code-only",
     "question"
    ]
   },
   "outputs": [
    {
     "name": "stdout",
     "output_type": "stream",
     "text": [
      "3 7 7\n"
     ]
    }
   ],
   "source": [
    "#include <stdio.h>\n",
    "int copy(int a, int b) {\n",
    "    a = b;\n",
    "    return a;\n",
    "}\n",
    "int main() {\n",
    "    int x = 3;\n",
    "    int y = 7;\n",
    "    int z = copy(x, y);\n",
    "    printf(\"%d %d %d\\n\", x, y, z);\n",
    "}"
   ]
  },
  {
   "cell_type": "markdown",
   "id": "e448b5f7-92bb-429d-888d-8ce571fafd70",
   "metadata": {
    "editable": true,
    "slideshow": {
     "slide_type": ""
    },
    "tags": [
     "blank"
    ]
   },
   "source": [
    "<div style=\"height:2em;\"></div>"
   ]
  },
  {
   "cell_type": "markdown",
   "id": "bf6cef71-7f33-404c-9bb9-72b18e074981",
   "metadata": {
    "editable": true,
    "slideshow": {
     "slide_type": ""
    },
    "tags": [
     "question"
    ]
   },
   "source": [
    "Q2: _Draw the contents of the stack **immediately before the program prints \"1 x 2\"**_"
   ]
  },
  {
   "cell_type": "code",
   "execution_count": null,
   "id": "ac9d0fe2",
   "metadata": {
    "editable": true,
    "slideshow": {
     "slide_type": ""
    },
    "tags": [
     "question",
     "worksheet-code-only"
    ]
   },
   "outputs": [
    {
     "name": "stdout",
     "output_type": "stream",
     "text": [
      "3^2 is 9\n",
      "1 x 2\n",
      "2 x 2\n",
      "4 x 2\n",
      "2^3 is 8\n"
     ]
    }
   ],
   "source": [
    "#include <stdio.h>\n",
    "int squared(int base) {\n",
    "    return base * base;\n",
    "}\n",
    "int dbl(int num) {\n",
    "    printf(\"%d x 2\\n\", num);\n",
    "    return num * 2;   \n",
    "}\n",
    "int two(int exponent) {\n",
    "    int result = 1;\n",
    "    for (int i = 0; i < exponent; i++) {\n",
    "        result = dbl(result);\n",
    "    }\n",
    "    return result;\n",
    "}\n",
    "int main() {\n",
    "    int n = 3;\n",
    "    int s = squared(3);\n",
    "    printf(\"%d^2 is %d\\n\", n, s);\n",
    "    int t = two(3);\n",
    "    printf(\"2^%d is %d\\n\", n, t);\n",
    "}"
   ]
  },
  {
   "cell_type": "markdown",
   "id": "87e632fd-9869-41d2-aae3-9e0c882f287e",
   "metadata": {
    "editable": true,
    "slideshow": {
     "slide_type": ""
    },
    "tags": [
     "answer"
    ]
   },
   "source": [
    "* Use [C tutor](https://pythontutor.com/c.html) to visualize the execution of this program and check your drawing"
   ]
  },
  {
   "cell_type": "markdown",
   "id": "dfe8216b-2876-4ae0-a9e5-a047740c622e",
   "metadata": {
    "editable": true,
    "slideshow": {
     "slide_type": ""
    },
    "tags": [
     "blank"
    ]
   },
   "source": [
    "<p style=\"height:5em;\"></p>"
   ]
  },
  {
   "cell_type": "markdown",
   "id": "78360744-3ff2-4243-9119-09c1eb946777",
   "metadata": {
    "editable": true,
    "slideshow": {
     "slide_type": ""
    },
    "tags": [
     "question"
    ]
   },
   "source": [
    "Q3: _Draw the contents of the stack **immediately after the program prints `n=1`**_"
   ]
  },
  {
   "cell_type": "code",
   "execution_count": null,
   "id": "3c28a71b",
   "metadata": {
    "editable": true,
    "slideshow": {
     "slide_type": ""
    },
    "tags": [
     "question",
     "worksheet-code-only"
    ]
   },
   "outputs": [
    {
     "name": "stdout",
     "output_type": "stream",
     "text": [
      "n=16\n",
      "n=8\n",
      "n=4\n",
      "n=2\n",
      "n=1\n",
      "result=4\n"
     ]
    }
   ],
   "source": [
    "#include <stdio.h>\n",
    "int recurse(int n) {\n",
    "    printf(\"n=%d\\n\", n);\n",
    "    if (n == 1) {\n",
    "        return 0;\n",
    "    }\n",
    "    else {\n",
    "        return 1 + recurse(n/2);\n",
    "    }\n",
    "}\n",
    "int main() {\n",
    "    int x = 16;\n",
    "    int r = recurse(x);\n",
    "    printf(\"result=%d\\n\", r);\n",
    "}"
   ]
  },
  {
   "cell_type": "markdown",
   "id": "c0b98069-ed84-4fbd-bccb-3e99f0127db1",
   "metadata": {
    "editable": true,
    "slideshow": {
     "slide_type": ""
    },
    "tags": [
     "blank"
    ]
   },
   "source": [
    "<p style=\"height:5em;\"></p>"
   ]
  },
  {
   "cell_type": "markdown",
   "id": "2af40031-aed4-4f44-88e8-0182b138c914",
   "metadata": {
    "editable": true,
    "slideshow": {
     "slide_type": ""
    },
    "tags": [
     "question"
    ]
   },
   "source": [
    "Q4: _If `main` initialized `x` to `64` (instead of `8`), how many stack frames would exist at the time the program printed \"n=1\"?_"
   ]
  },
  {
   "cell_type": "markdown",
   "id": "d82dda39-f80f-4fe6-8379-7cf11ac0492a",
   "metadata": {
    "editable": true,
    "slideshow": {
     "slide_type": ""
    },
    "tags": [
     "answer"
    ]
   },
   "source": [
    "8 —  (bottom) `main`, `recurse(64)`, `recurse(32)`, `recurse(16)`, `recurse(8)`, `recurse(4)`, `recurse(2)`, `recurse(1)`, (top)"
   ]
  },
  {
   "cell_type": "markdown",
   "id": "8a329ed9-2bd8-473f-9f24-608b35076071",
   "metadata": {
    "editable": true,
    "slideshow": {
     "slide_type": ""
    },
    "tags": [
     "blank"
    ]
   },
   "source": [
    "<div class=\"blank\" style=\"height:5em;\"></div>"
   ]
  },
  {
   "cell_type": "markdown",
   "id": "2b67ff9f-d864-4b1d-aa89-6828a02a7a42",
   "metadata": {
    "editable": true,
    "slideshow": {
     "slide_type": ""
    },
    "tags": [
     "notes-only"
    ]
   },
   "source": [
    "* _What does this tell you about program efficiency?_ — the more nested function calls there are, the more stack memory the program requires; creating an iterative (instead of recursive) implementation would be more memory efficient"
   ]
  },
  {
   "cell_type": "markdown",
   "id": "9f0ddbff-3523-47fa-ac9d-96c7aaaa09d3",
   "metadata": {
    "editable": true,
    "slideshow": {
     "slide_type": "slide"
    },
    "tags": []
   },
   "source": [
    "## Pointers"
   ]
  },
  {
   "cell_type": "markdown",
   "id": "e4d97ec4-1f73-452c-9519-bbe90435de87",
   "metadata": {
    "slideshow": {
     "slide_type": "skip"
    },
    "tags": [
     "notes-only"
    ]
   },
   "source": [
    "* A special type of variable (or parameter) that holds a memory address\n",
    "    * A pointer \"points to\" a location in memory\n",
    "* Can be used to indirectly read and write another variable\n",
    "* Address-of (`&`) operator obtains the memory address where a variable is stored\n",
    "* De-reference (`*`) operator is used to refer to the value stored at the memory address contained in the pointer variable"
   ]
  },
  {
   "cell_type": "markdown",
   "id": "bf834fb9-9c87-4838-bc32-420c5a85d134",
   "metadata": {
    "editable": true,
    "slideshow": {
     "slide_type": "skip"
    },
    "tags": []
   },
   "source": [
    "Example"
   ]
  },
  {
   "cell_type": "code",
   "execution_count": 11,
   "id": "cf497146-21f9-4e41-83fe-1ffbed147074",
   "metadata": {
    "editable": true,
    "slideshow": {
     "slide_type": "skip"
    },
    "tags": [
     "worksheet-code-only"
    ]
   },
   "outputs": [
    {
     "name": "stdout",
     "output_type": "stream",
     "text": [
      "1\n",
      "1\n",
      "1\n",
      "3\n"
     ]
    }
   ],
   "source": [
    "#include <stdio.h>\n",
    "void value(int a) {\n",
    "    a = 2;\n",
    "}\n",
    "void pointer1(int *b) {\n",
    "    int c = *b;\n",
    "    printf(\"%d\\n\", c);\n",
    "}\n",
    "void pointer2(int *d) {\n",
    "    *d = 3;\n",
    "}\n",
    "int main() {\n",
    "    int v = 1;\n",
    "    value(v);\n",
    "    printf(\"%d\\n\", v);\n",
    "    pointer1(&v);\n",
    "    printf(\"%d\\n\", v);\n",
    "    int *p = &v;\n",
    "    pointer2(p);\n",
    "    printf(\"%d\\n\", v);\n",
    "}"
   ]
  },
  {
   "cell_type": "markdown",
   "id": "8a432946-52f6-4751-8cac-a05d062a2b6f",
   "metadata": {
    "editable": true,
    "slideshow": {
     "slide_type": "skip"
    },
    "tags": [
     "notes-only"
    ]
   },
   "source": [
    "* _What happens if we assign a value to the pointer variable without dereferencing the pointer?_ — we update the memory address stored in the pointer variable; we point to a new location in memory"
   ]
  },
  {
   "cell_type": "markdown",
   "id": "eb513a75-5498-4961-9a0b-c50ef51c3012",
   "metadata": {
    "editable": true,
    "slideshow": {
     "slide_type": ""
    },
    "tags": [
     "blank"
    ]
   },
   "source": [
    "<p style=\"height:40em;\"></p>"
   ]
  },
  {
   "cell_type": "markdown",
   "id": "800cdcf8-1138-461c-966f-9e19413de87b",
   "metadata": {
    "editable": true,
    "slideshow": {
     "slide_type": "subslide"
    },
    "tags": [
     "question"
    ]
   },
   "source": [
    "Q5: _What does the following program output?_"
   ]
  },
  {
   "cell_type": "code",
   "execution_count": 7,
   "id": "f550b42a-b3e5-4ca3-b7e4-07054e3ccac6",
   "metadata": {
    "editable": true,
    "slideshow": {
     "slide_type": ""
    },
    "tags": [
     "worksheet-code-only"
    ]
   },
   "outputs": [
    {
     "name": "stdout",
     "output_type": "stream",
     "text": [
      "1A 1 2\n",
      "1B 5 7\n",
      "1C 1 7\n",
      "2A 10 20\n",
      "2B 13 24\n",
      "2C 10 24\n"
     ]
    }
   ],
   "source": [
    "#include <stdio.h>\n",
    "void helper1(int w, int *x) {\n",
    "    printf(\"1A %d %d\\n\", w, *x);\n",
    "    w = 5;\n",
    "    *x = 7;\n",
    "    printf(\"1B %d %d\\n\", w, *x);\n",
    "}\n",
    "void helper2(int y, int *z) {\n",
    "    printf(\"2A %d %d\\n\", y, *z);\n",
    "    y = y + 3;\n",
    "    *z = *z + 4;\n",
    "    printf(\"2B %d %d\\n\", y, *z);\n",
    "}\n",
    "int main() {\n",
    "    int a = 1;\n",
    "    int b = 2;\n",
    "    helper1(a, &b);\n",
    "    printf(\"1C %d %d\\n\", a, b);\n",
    "    a = 10;\n",
    "    b = 20;\n",
    "    helper2(a, &b);\n",
    "    printf(\"2C %d %d\\n\", a, b);\n",
    "}"
   ]
  },
  {
   "cell_type": "markdown",
   "id": "16c22f86-fd79-4947-a8f9-5d978b180ba4",
   "metadata": {
    "editable": true,
    "slideshow": {
     "slide_type": "skip"
    },
    "tags": [
     "blank"
    ]
   },
   "source": [
    "<p style=\"height:10em;\"></p>"
   ]
  },
  {
   "cell_type": "markdown",
   "id": "e5b089b2-d206-4529-886a-90b53604704a",
   "metadata": {
    "editable": true,
    "slideshow": {
     "slide_type": "subslide"
    },
    "tags": [
     "question"
    ]
   },
   "source": [
    "Q6: _Write a function called `add` which takes an integer (`num`) and an integer pointer (`ptr`) and adds `num` to the value `ptr` points to._\n",
    "    \n",
    "_Also write a `main` function which:_\n",
    "1. _Stores `20` in a variable_\n",
    "2. _Calls `add` with the number `5` and a pointer to the aforementioned variable_\n",
    "3. _Prints the value stored in the variable after `add` returns_"
   ]
  },
  {
   "cell_type": "code",
   "execution_count": 13,
   "id": "323f66f9-bdfe-4c41-b00f-0edc15808c54",
   "metadata": {
    "editable": true,
    "slideshow": {
     "slide_type": "skip"
    },
    "tags": [
     "answer"
    ]
   },
   "outputs": [
    {
     "name": "stdout",
     "output_type": "stream",
     "text": [
      "25\n"
     ]
    }
   ],
   "source": [
    "#include <stdio.h>\n",
    "void add(int num, int *ptr) {\n",
    "    *ptr = *ptr + num;\n",
    "}\n",
    "int main() {\n",
    "    int x = 20;\n",
    "    add(5, &x);\n",
    "    printf(\"%d\\n\", x);\n",
    "}"
   ]
  },
  {
   "cell_type": "markdown",
   "id": "c43ab79f-5a8e-4aaf-bae9-dd9ea26c9be4",
   "metadata": {
    "editable": true,
    "slideshow": {
     "slide_type": "skip"
    },
    "tags": [
     "blank"
    ]
   },
   "source": [
    "<p style=\"height:20em;\"></p>"
   ]
  },
  {
   "cell_type": "markdown",
   "id": "cb0f7e33-017b-4aa4-8537-61b88205505a",
   "metadata": {
    "editable": true,
    "slideshow": {
     "slide_type": "subslide"
    },
    "tags": [
     "question"
    ]
   },
   "source": [
    "Q7: _What does the following program output?_"
   ]
  },
  {
   "cell_type": "code",
   "execution_count": 16,
   "id": "8885b8db-a9a9-4256-ae4e-2887df416544",
   "metadata": {
    "editable": true,
    "slideshow": {
     "slide_type": ""
    },
    "tags": [
     "worksheet-code-only"
    ]
   },
   "outputs": [
    {
     "name": "stdout",
     "output_type": "stream",
     "text": [
      "1 2\n",
      "3 4\n",
      "6 6\n"
     ]
    }
   ],
   "source": [
    "#include <stdio.h>\n",
    "void copy1(int a, int b) {\n",
    "    a = b;\n",
    "}\n",
    "void copy2(int *c, int *d) {\n",
    "    c = d;\n",
    "}\n",
    "void copy3(int *e, int *f) {\n",
    "    *e = *f;\n",
    "}\n",
    "int main() {\n",
    "    int q = 1;\n",
    "    int r = 2;\n",
    "    copy1(q, r);\n",
    "    printf(\"%d %d\\n\", q, r);\n",
    "    int s = 3;\n",
    "    int t = 4;\n",
    "    copy2(&s, &t);\n",
    "    printf(\"%d %d\\n\", s, t);\n",
    "    int u = 5;\n",
    "    int v = 6;\n",
    "    copy3(&u, &v);\n",
    "    printf(\"%d %d\\n\", u, v);\n",
    "}"
   ]
  },
  {
   "cell_type": "markdown",
   "id": "4e1ea426-1512-4ea4-bdea-b7b8f2723afc",
   "metadata": {
    "editable": true,
    "slideshow": {
     "slide_type": "skip"
    },
    "tags": [
     "blank"
    ]
   },
   "source": [
    "<p style=\"height:5em;\"></p>"
   ]
  },
  {
   "cell_type": "markdown",
   "id": "923dfd52-7392-4548-b12e-ff71e24b6198",
   "metadata": {
    "editable": true,
    "slideshow": {
     "slide_type": "subslide"
    },
    "tags": [
     "question"
    ]
   },
   "source": [
    "Q8: _What does the following program output?_"
   ]
  },
  {
   "cell_type": "code",
   "execution_count": 4,
   "id": "683771ce-637a-4635-925f-da3a035e546b",
   "metadata": {
    "editable": true,
    "slideshow": {
     "slide_type": ""
    },
    "tags": [
     "worksheet-code-only"
    ]
   },
   "outputs": [
    {
     "name": "stdout",
     "output_type": "stream",
     "text": [
      "Q R\n",
      "T S\n"
     ]
    }
   ],
   "source": [
    "#include <stdio.h>\n",
    "void swap1(char *c, char *d) {\n",
    "    char *tmp = c;\n",
    "    c = d;\n",
    "    d = tmp;\n",
    "}\n",
    "void swap2(char *a, char *b) {\n",
    "    char tmp = *a;\n",
    "    *a = *b;\n",
    "    *b = tmp;\n",
    "}\n",
    "int main() {\n",
    "    char q = 'Q';\n",
    "    char r = 'R';\n",
    "    swap1(&q, &r);\n",
    "    printf(\"%c %c\\n\", q, r);\n",
    "    char s = 'S';\n",
    "    char t = 'T';\n",
    "    swap2(&s, &t);\n",
    "    printf(\"%c %c\\n\", s, t);\n",
    "}"
   ]
  },
  {
   "cell_type": "markdown",
   "id": "4ab006f3-01e4-4380-9588-c3a6f13b706a",
   "metadata": {
    "editable": true,
    "slideshow": {
     "slide_type": "skip"
    },
    "tags": [
     "blank"
    ]
   },
   "source": [
    "<p style=\"height:5em;\"></p>"
   ]
  },
  {
   "cell_type": "markdown",
   "id": "803747e9-7369-4dfc-ac04-2f409affb7a1",
   "metadata": {
    "editable": true,
    "slideshow": {
     "slide_type": "subslide"
    },
    "tags": [
     "question"
    ]
   },
   "source": [
    "Q9: _Write a function called `transfer` which takes an integer (`amount`) and two integer pointers (`from` and `to`) and moves the specified `amount` from one integer to the other._\n",
    "\n",
    "_Also write a `main` function that:_\n",
    "1. _Stores `50` in one variable and `100` in another variable_\n",
    "2. _Calls `transfer` with the amount `25` and pointers to the aforementioned variable_\n",
    "3. _Prints the value stored in the variables after `transfer` returns_"
   ]
  },
  {
   "cell_type": "code",
   "execution_count": 13,
   "id": "24406502-2803-491d-b1b8-ec7f760659f4",
   "metadata": {
    "editable": true,
    "slideshow": {
     "slide_type": "skip"
    },
    "tags": [
     "answer"
    ]
   },
   "outputs": [
    {
     "name": "stdout",
     "output_type": "stream",
     "text": [
      "25 125\n"
     ]
    }
   ],
   "source": [
    "#include <stdio.h>\n",
    "void transfer(int amount, int *from, int *to) {\n",
    "    *from = *from - amount;\n",
    "    *to = *to + amount;\n",
    "}\n",
    "int main() {\n",
    "    int x = 50;\n",
    "    int y = 100;\n",
    "    transfer(25, &x, &y);\n",
    "    printf(\"%d %d\\n\", x, y);\n",
    "}"
   ]
  }
 ],
 "metadata": {
  "kernelspec": {
   "display_name": "C",
   "language": "c",
   "name": "c"
  },
  "language_info": {
   "file_extension": ".c",
   "mimetype": "text/plain",
   "name": "c"
  }
 },
 "nbformat": 4,
 "nbformat_minor": 5
}
