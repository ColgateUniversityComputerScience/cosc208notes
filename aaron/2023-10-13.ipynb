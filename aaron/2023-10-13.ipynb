{
 "cells": [
  {
   "cell_type": "markdown",
   "id": "39d76db8-edb9-47d5-bec8-7998805660b3",
   "metadata": {
    "slideshow": {
     "slide_type": "skip"
    },
    "tags": []
   },
   "source": [
    "# Architecture: processing unit\n",
    "_COSC 208, Introduction to Computer Systems, 2023-10-13_"
   ]
  },
  {
   "cell_type": "markdown",
   "id": "890c787a-1bb3-48fe-bd58-8caad79d6454",
   "metadata": {
    "slideshow": {
     "slide_type": "skip"
    },
    "tags": []
   },
   "source": [
    "## Announcements\n",
    "* Project 2 due Thurs, Oct 19 @ 11pm"
   ]
  },
  {
   "cell_type": "markdown",
   "id": "f17866fc-fc93-480c-a9a5-d903a0657063",
   "metadata": {
    "slideshow": {
     "slide_type": "skip"
    },
    "tags": []
   },
   "source": [
    "## Outline\n",
    "* Warm-up\n",
    "* Processing unit\n",
    "* Assembly instructions"
   ]
  },
  {
   "cell_type": "markdown",
   "id": "e663073f-3384-4891-978a-b8c31d0a6263",
   "metadata": {
    "slideshow": {
     "slide_type": "slide"
    },
    "tags": []
   },
   "source": [
    "## Warm-up"
   ]
  },
  {
   "cell_type": "markdown",
   "id": "36be2376-bb82-4f99-86a1-8c3f1f6b693b",
   "metadata": {},
   "source": [
    "* Q1: _Draw a circuit that takes two 3-bit unsigned numbers (`0b A2 A1 A0` and `0b B2 B1 B0`) and outputs a single bit that indicates whether the first number is less than or equal to the second number. Assume you have access to an unlimited supply of `AND`, `OR`, and `NOT` gates and 1-bit greater-than, less-than, and equal-to circuits, as shown below_\n",
    "\n",
    "![](images/and_xsmall.png) ![](images/or_xsmall.png) ![](images/not_xsmall.png)\n",
    "\n",
    "![](images/circuits/greater-than-circuit_box.png) ![](images/circuits/less-than-circuit_box.png) ![](images/circuits/equals-circuit_box.png)"
   ]
  },
  {
   "cell_type": "markdown",
   "id": "b9f27818-375c-45e0-832f-8d43972e86e0",
   "metadata": {
    "slideshow": {
     "slide_type": "skip"
    },
    "tags": [
     "notes-only"
    ]
   },
   "source": [
    "![](images/circuits/3-bit_less-than-or-equal_circuit.png)"
   ]
  },
  {
   "cell_type": "markdown",
   "id": "be8a19ad-b7c6-4dfd-976a-3b60eee42ac8",
   "metadata": {
    "slideshow": {
     "slide_type": "skip"
    },
    "tags": [
     "worksheet-only"
    ]
   },
   "source": [
    "<p style=\"height:25em;\"></p>\n",
    "\n",
    "🛑 **STOP here** after completing the above questions; if you have extra time please **skip ahead** to the extra practice."
   ]
  },
  {
   "cell_type": "markdown",
   "id": "5ddd8249-6036-4861-9755-91e748a09874",
   "metadata": {
    "slideshow": {
     "slide_type": "skip"
    },
    "tags": [
     "notes-only"
    ]
   },
   "source": [
    "## Processing Unit"
   ]
  },
  {
   "cell_type": "markdown",
   "id": "e6512d28-2adc-4970-ae5d-aef4753950cd",
   "metadata": {
    "slideshow": {
     "slide_type": "skip"
    },
    "tags": [
     "notes-only"
    ]
   },
   "source": [
    "![](images/circuits/processing_unit_complete.png)"
   ]
  },
  {
   "cell_type": "markdown",
   "id": "331066d0-d478-4084-afa2-b81bbcb22819",
   "metadata": {
    "slideshow": {
     "slide_type": "skip"
    },
    "tags": [
     "notes-only"
    ]
   },
   "source": [
    "## Assembly instructions"
   ]
  },
  {
   "cell_type": "markdown",
   "id": "57525e20-cc65-4bee-842f-58b7257fb5dd",
   "metadata": {
    "slideshow": {
     "slide_type": "skip"
    },
    "tags": [
     "notes-only"
    ]
   },
   "source": [
    "* Simple instructions a processor can execute – e.g., add two integers, compare two integers, load/store a value from/to main memory\n",
    "* C code is compiled into assembly code\n",
    "    * Python code is interpreted; interpreter is compiled into assembly\n",
    "    * Java code is compiled to Java byte code, which is executed by the Java Virtual Machine (JVM); JVM is compiled into assembly\n",
    "* Assembly instructions are expressed in binary\n",
    "    * Some bits determine the operation – used as select bits for the multiplexer between the arithmetic and logic circuits and the ALU's output\n",
    "    * Some bits determine the first source register and other bits determine the second source register – used as select bits for the multiplexers between the register file's outputs and ALU's inputs\n",
    "    * Some bits determine the destination register – used as select bits for the demultiplexer between the ALU's output and register file's input\n",
    "* E.g., our simple processor uses 8-bit assembly instructions\n",
    "    * First (i.e., left-most) two bits determine operation\n",
    "    * Next two bits determine destination register\n",
    "    * Next two bits determine first source register\n",
    "    * Final (i.e., right-most) two bits determine second source register"
   ]
  },
  {
   "cell_type": "markdown",
   "id": "a23572a0-326c-4b75-8687-e4a0e04a6c35",
   "metadata": {
    "slideshow": {
     "slide_type": "skip"
    },
    "tags": [
     "notes-only"
    ]
   },
   "source": [
    "* Instruction set architectures (ISAs) — defines the low-level instructions a central processing unit (CPU), or processor, can execute\n",
    "    * Most popular Complex Instruction Set Computer (CISC) architecture: x86 (includes IA32 and x86-64)\n",
    "    * Most popular Reduced Instruction Set Computer (RISC) architecture: ARM\n",
    "    * Other common RISC architectures: SPARC (Scalable Processor Architecture), MIPS (Microprocessor without Interlocked Pipelined Stages), PowerPC, ARC (Argonaut RISC Core)"
   ]
  },
  {
   "cell_type": "markdown",
   "id": "584c8f83-46c0-4ff6-a5b5-51c0ddc3be8e",
   "metadata": {
    "slideshow": {
     "slide_type": "slide"
    },
    "tags": []
   },
   "source": [
    "## Extra practice"
   ]
  },
  {
   "cell_type": "markdown",
   "id": "71572a81-68bc-4539-a420-ef82e456c586",
   "metadata": {},
   "source": [
    "* Q2: _Draw a circuit that takes two 3-bit **signed** numbers (`0b A2 A1 A0` and `0b B2 B1 B0`) and outputs a single bit that indicates whether the first number is **greater than** the second number. Assume you have access to an unlimited supply of `AND`, `OR`, and `NOT` gates and 1-bit greater-than, less-than, and equal-to circuits._"
   ]
  },
  {
   "cell_type": "markdown",
   "id": "11e8cec0-0f18-41e0-905d-c746a36634b7",
   "metadata": {
    "slideshow": {
     "slide_type": "skip"
    },
    "tags": [
     "notes-only"
    ]
   },
   "source": [
    "![](images/circuits/3-bit-signed_greater-than_circuit.png)"
   ]
  }
 ],
 "metadata": {
  "kernelspec": {
   "display_name": "C",
   "language": "c",
   "name": "c"
  },
  "language_info": {
   "file_extension": ".c",
   "mimetype": "c",
   "name": "c"
  }
 },
 "nbformat": 4,
 "nbformat_minor": 5
}
