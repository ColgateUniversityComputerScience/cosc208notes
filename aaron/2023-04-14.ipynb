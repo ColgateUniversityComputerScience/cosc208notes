{
 "cells": [
  {
   "cell_type": "markdown",
   "id": "ffc437ac-d10b-4d12-895d-712e9c2057b5",
   "metadata": {
    "slideshow": {
     "slide_type": "skip"
    },
    "tags": []
   },
   "source": [
    "# Multiprocessing: processes; fork & wait\n",
    "_COSC 208, Introduction to Computer Systems, 2023-04-14_"
   ]
  },
  {
   "cell_type": "markdown",
   "id": "c377c966-ee4b-4990-a6e6-a2d8f327a112",
   "metadata": {
    "slideshow": {
     "slide_type": "skip"
    },
    "tags": []
   },
   "source": [
    "## Announcements\n",
    "* Project 4 due Thursday, April 20"
   ]
  },
  {
   "cell_type": "markdown",
   "id": "377e6d68-2202-4782-afc7-a43582630f55",
   "metadata": {
    "slideshow": {
     "slide_type": "skip"
    },
    "tags": []
   },
   "source": [
    "## Outline\n",
    "* Limited Direct Execution\n",
    "* System calls\n",
    "* Process abstraction\n",
    "* Creating processes\n",
    "* Waiting for processes"
   ]
  },
  {
   "cell_type": "markdown",
   "id": "12012bfd-a4f4-4e7f-9d4b-3275ef92160b",
   "metadata": {},
   "source": [
    "## No warm-up — Happy Friday!"
   ]
  },
  {
   "cell_type": "markdown",
   "id": "aef4b302-8aa8-47a8-9af1-1164f33661cf",
   "metadata": {
    "slideshow": {
     "slide_type": "skip"
    },
    "tags": [
     "notes-only"
    ]
   },
   "source": [
    "## Limited Direct Execution"
   ]
  },
  {
   "cell_type": "markdown",
   "id": "76585600-414c-4907-93b2-cee792454aa5",
   "metadata": {
    "slideshow": {
     "slide_type": "skip"
    },
    "tags": [
     "notes-only"
    ]
   },
   "source": [
    "* CPU has two modes of execution: user mode & kernel mode\n",
    "* _When does a CPU run in user mode?_ — when executing application code\n",
    "* _When does a CPU run in kernel mode?_ — when executing OS code\n",
    "* Allowable operations in user mode are restricted\n",
    "    * Applications can...\n",
    "        * Perform arithmetic/logic operations\n",
    "        * Load/store values in its stack/heap\n",
    "    * Applications must ask the OS to...\n",
    "        * Start/terminate applications\n",
    "        * Create/delete files\n",
    "        * Display output on screen\n",
    "        * Read input from user\n",
    "    * Must transfer control to the OS to perform these operations — How?"
   ]
  },
  {
   "cell_type": "markdown",
   "id": "f331b62d-83f0-418f-ba92-be1bc7b1e841",
   "metadata": {
    "slideshow": {
     "slide_type": "slide"
    },
    "tags": [
     "notes-only"
    ]
   },
   "source": [
    "## System calls"
   ]
  },
  {
   "cell_type": "markdown",
   "id": "8f17d9ea-36da-4c53-a0a5-8dbebe431c96",
   "metadata": {
    "slideshow": {
     "slide_type": "skip"
    },
    "tags": [
     "notes-only"
    ]
   },
   "source": [
    "* Invoked via a special assembly instruction: trap (generic) or `svc` (on ARM)"
   ]
  },
  {
   "cell_type": "markdown",
   "id": "1c31ba6a-5d8e-48dd-ac03-1edf933ee30c",
   "metadata": {
    "tags": [
     "notes-only"
    ]
   },
   "source": [
    "* Example program"
   ]
  },
  {
   "cell_type": "code",
   "execution_count": null,
   "id": "fa06ca96-9d04-4da6-92bd-2c586c289535",
   "metadata": {
    "tags": [
     "notes-only"
    ]
   },
   "outputs": [
    {
     "name": "stdout",
     "output_type": "stream",
     "text": [
      "User 501 is running this process\n"
     ]
    }
   ],
   "source": [
    "#include <stdio.h>\n",
    "#include <unistd.h>\n",
    "int user() {\n",
    "    int uid = getuid();\n",
    "    return uid;\n",
    "}\n",
    "int main() {\n",
    "    int u = user();\n",
    "    printf(\"User %d is running this process\\n\", u);\n",
    "}"
   ]
  },
  {
   "cell_type": "markdown",
   "id": "12cb561c-3e4f-41a5-8684-d135d2e6df40",
   "metadata": {
    "slideshow": {
     "slide_type": "subslide"
    },
    "tags": [
     "notes-only"
    ]
   },
   "source": [
    "* Assembly code"
   ]
  },
  {
   "cell_type": "markdown",
   "id": "de520b97-5ade-41b6-96a3-cc22560ff188",
   "metadata": {
    "tags": [
     "notes-only"
    ]
   },
   "source": [
    "```\n",
    "00000000004006ac <user>:\n",
    "    4006ac:    d10083ff     sub    sp, sp, #0x20\n",
    "    4006b0:    f9000bfe     str    x30, [sp, #16]\n",
    "    4006b4:    94007713     bl    41e300 <__getuid>\n",
    "    4006b8:    b9000fe0     str    w0, [sp, #12]\n",
    "    4006bc:    b9400fe0     ldr    w0, [sp, #12]\n",
    "    4006c0:    f9400bfe     ldr    x30, [sp, #16]\n",
    "    4006c4:    910083ff     add    sp, sp, #0x20\n",
    "    4006c8:    d65f03c0     ret\n",
    "000000000041e300 <__getuid>:\n",
    "    41e300:    d28015c8     mov    x8, #0xae\n",
    "    41e304:    d4000001     svc    #0x0\n",
    "    41e308:    d65f03c0     ret\n",
    "```"
   ]
  },
  {
   "cell_type": "markdown",
   "id": "b62929ea-4ae9-49cc-9c11-5256e9c8d4c4",
   "metadata": {
    "slideshow": {
     "slide_type": "skip"
    },
    "tags": [
     "notes-only"
    ]
   },
   "source": [
    "* Functions in the C standard library that involve a privileged operation (e.g., `printf`) put the system call number in a register and invoke a trap instruction — programmer doesn’t have to worry about these details; they can just call the appropriate function in the C standard library\n",
    "* When `svc` is executed\n",
    "    1. CPU saves registers to the kernel stack — kernel stack is at a fixed location in memory\n",
    "        * _Why do we need to save the registers?_ — so we can return to `user` when `__getuid` is done\n",
    "    2. CPU switches to kernel mode\n",
    "    3. CPU uses system call number to index into table of trap handlers \n",
    "        * At boot, initialize table of trap handlers with pointers into OS code for handling each type of syscall\n",
    "    4. Branch and link to trap handler code\n",
    "    5. CPU restores registers from the kernel stack\n",
    "    6. CPU switches to user mode\n",
    "    7. Resume execution after `svc` \n",
    "* _What should we do if an application tries to perform a privileged operation without making a system call?_\n",
    "    * Let the code keep running — code may assume privileged operation was successful\n",
    "    * Terminate the application"
   ]
  },
  {
   "cell_type": "markdown",
   "id": "177d7b56-26ce-4023-8010-92c448961bbf",
   "metadata": {
    "slideshow": {
     "slide_type": "subslide"
    },
    "tags": []
   },
   "source": [
    "## Process abstraction"
   ]
  },
  {
   "cell_type": "markdown",
   "id": "14ab688a-b402-42ca-b066-edfbfd1ef0b4",
   "metadata": {
    "slideshow": {
     "slide_type": "skip"
    },
    "tags": [
     "notes-only"
    ]
   },
   "source": [
    "* Process — running program and its corresponding machine state (code, memory, and register values)\n",
    "    * Program is static code and static data; process is dynamic instance of code and data\n",
    "    * Cooking analogy\n",
    "        * Recipe == program\n",
    "        * Following a recipe == process\n",
    "        * Ingredients == program inputs\n",
    "        * Prepared food == program outputs\n",
    "        * Cabinets, fridge, etc. == persistent storage\n",
    "        * Prep area (e.g., counter) == registers & main memory\n",
    "        * Contents and status of the prep area; current step of recipe == machine state\n",
    "        * Chef == CPU\n",
    "    * Can have multiple processes all running different instances of the same program\n",
    "        * Cooking analogy — chef may be making multiple batches of the same recipe\n",
    "* OS is responsible for...\n",
    "    * Creating processes — when a user or another application requests it\n",
    "    * Scheduling processes — i.e., deciding when/which process should be allowed to use the CPU\n",
    "    * Switching processes — i.e., saving the machine state of one process and restoring the machine state of another process; called context switching\n",
    "    * Cleaning-up processes — i.e., releasing any resources they are using when the process is done\n",
    "    * Interacting with I/O devices (e.g., disks, NICs, graphics card) on behalf of processes"
   ]
  },
  {
   "cell_type": "markdown",
   "id": "f713c07f-e5f6-44b2-91ad-ff0059d63f59",
   "metadata": {},
   "source": [
    "* Q1: _Consider building a Lego kit as an analogy for operating systems' process abstraction. Match each component of the analogy with the corresponding component of a real computer system._"
   ]
  },
  {
   "cell_type": "markdown",
   "id": "ebf3908b-951e-4749-ab88-cdab77acad4f",
   "metadata": {
    "tags": [
     "worksheet-only"
    ]
   },
   "source": [
    "* Analogy\n",
    "    1. Cabinet/drawers for storing Legos\n",
    "    2. Lego bricks\n",
    "    3. Building area (e.g., tabletop)\n",
    "    4. Instruction booklet\n",
    "    5. Following the assembly instructions\n",
    "    6. Current step for the instruction booklet\n",
    "    7. Completed kit\n",
    "    8. You\n",
    "* Real system\n",
    "    * CPU\n",
    "    * persistent storage\n",
    "    * process\n",
    "    * program\n",
    "    * program counter\n",
    "    * program inputs\n",
    "    * program outputs\n",
    "    * registers and main memory"
   ]
  },
  {
   "cell_type": "markdown",
   "id": "3bf24e87-83db-4abb-8213-4b53251e25c4",
   "metadata": {
    "slideshow": {
     "slide_type": "skip"
    },
    "tags": [
     "notes-only"
    ]
   },
   "source": [
    "* Instruction booklet == program\n",
    "* Following the assembly instructions == process\n",
    "* Lego bricks == program inputs\n",
    "* Completed kit == program outputs\n",
    "* Cabinet/drawers for storing Legos == persistent storage\n",
    "* Building area (e.g., tabletop) == registers and main memory\n",
    "* Current step for the instruction booklet == program counter\n",
    "* You == CPU"
   ]
  },
  {
   "cell_type": "markdown",
   "id": "25386d04-8639-4cf5-9d82-a7c66b6f2f98",
   "metadata": {
    "slideshow": {
     "slide_type": "skip"
    },
    "tags": [
     "worksheet-only"
    ]
   },
   "source": [
    "🛑 **STOP HERE** after completing the above question; if you have extra time please **skip ahead** to the extra practice."
   ]
  },
  {
   "cell_type": "markdown",
   "id": "e875f316-7b38-4d9e-96c1-825b800f873b",
   "metadata": {
    "slideshow": {
     "slide_type": "slide"
    },
    "tags": []
   },
   "source": [
    "## Creating processes"
   ]
  },
  {
   "cell_type": "markdown",
   "id": "cbe3fc7e-2d67-495c-a15d-e62beb87eef6",
   "metadata": {
    "slideshow": {
     "slide_type": "skip"
    },
    "tags": [
     "notes-only"
    ]
   },
   "source": [
    "* `int fork()`\n",
    "    * Creates an exact copy of the running process, except for the return value from `fork` — return `0` to child (i.e., new) process; return child’s process ID to parent process (i.e., process that called fork)\n",
    "    * Both child and parent resume execution from place where `fork` was called"
   ]
  },
  {
   "cell_type": "markdown",
   "id": "80ce1ecc-a633-43c1-ba8d-456f779c4565",
   "metadata": {},
   "source": [
    "* Q2: _What does the following code output?_"
   ]
  },
  {
   "cell_type": "code",
   "execution_count": 3,
   "id": "428b3aef-ec68-439a-95d7-176f915bcf89",
   "metadata": {
    "tags": [
     "worksheet-code-only"
    ]
   },
   "outputs": [
    {
     "name": "stdout",
     "output_type": "stream",
     "text": [
      "Before fork\n",
      "After fork\n",
      "After fork\n"
     ]
    }
   ],
   "source": [
    "#include <stdio.h>\n",
    "#include <unistd.h>\n",
    "int main(int argc, char **argv) {\n",
    "    printf(\"Before fork\\n\");\n",
    "    fork();\n",
    "    printf(\"After fork\\n\");\n",
    "    return 0;\n",
    "}"
   ]
  },
  {
   "cell_type": "markdown",
   "id": "a60c2d3c-198b-4a76-9541-c20b3ade3953",
   "metadata": {
    "slideshow": {
     "slide_type": "skip"
    },
    "tags": [
     "worksheet-only"
    ]
   },
   "source": [
    "<p style=\"height:10em;\"></p>"
   ]
  },
  {
   "cell_type": "markdown",
   "id": "8d47c194-e490-421d-a5a2-25629704fd84",
   "metadata": {
    "slideshow": {
     "slide_type": "subslide"
    },
    "tags": []
   },
   "source": [
    "* Q3: _What does the following code output (assuming the new process has PID 1819)?_"
   ]
  },
  {
   "cell_type": "code",
   "execution_count": null,
   "id": "4b568a2a-c8dd-4802-a8d8-ab3892b4d87a",
   "metadata": {},
   "outputs": [],
   "source": [
    "#include <stdio.h>\n",
    "#include <unistd.h>    \n",
    "int main(int argc, char **argv) {\n",
    "    printf(\"Before fork\\n\");\n",
    "    int pid = fork();\n",
    "    if (pid < 0) {\n",
    "        printf(\"Fork failed\\n\");\n",
    "        return 1;\n",
    "    } else if (pid == 0) {\n",
    "        printf(\"Child gets %d\\n\", pid);\n",
    "    } else {\n",
    "        printf(\"Parent gets %d\\n\", pid);\n",
    "    }\n",
    "    return 0;\n",
    "}"
   ]
  },
  {
   "cell_type": "markdown",
   "id": "a1b90775-0e5f-42b9-979f-06e200814b3a",
   "metadata": {
    "slideshow": {
     "slide_type": "skip"
    },
    "tags": [
     "notes-only"
    ]
   },
   "source": [
    "```\n",
    "Before fork\n",
    "Child gets 0\n",
    "Parent gets 1819\n",
    "```\n",
    "OR\n",
    "```\n",
    "Before fork\n",
    "Parent gets 1819\n",
    "Child gets 0\n",
    "``` "
   ]
  },
  {
   "cell_type": "markdown",
   "id": "fac69205-5d8c-45ed-8602-77ab4ac85514",
   "metadata": {
    "slideshow": {
     "slide_type": "skip"
    },
    "tags": [
     "worksheet-only"
    ]
   },
   "source": [
    "<p style=\"height:10em;\"></p>\n",
    "\n",
    "🛑 **STOP HERE** after completing the above questions; if you have extra time please **skip ahead** to the extra practice."
   ]
  },
  {
   "cell_type": "markdown",
   "id": "0151bdfc-e738-477b-a41a-1af1f8f0b4c4",
   "metadata": {
    "slideshow": {
     "slide_type": "slide"
    },
    "tags": []
   },
   "source": [
    "## Waiting for processes"
   ]
  },
  {
   "cell_type": "markdown",
   "id": "f859b7ab-c43e-4683-b071-129532260d9e",
   "metadata": {
    "slideshow": {
     "slide_type": "skip"
    },
    "tags": [
     "notes-only"
    ]
   },
   "source": [
    "* Wait for any child to finish — `int wait(int *status)`\n",
    "    * Returns PID of the child process that finished\n",
    "    * `status` parameter is optional\n",
    "        * if passed a valid integer pointer, `wait` will store the return value of the child process's `main` function at the referenced memory location\n",
    "        * if return value of child process's main function is not needed, then pass `NULL`\n",
    "* Wait for a specific process to finish — `int waitpid(pid_t pid, int *status, int options)`\n",
    "    * Returns PID of the process that finished\n",
    "    * `pid` is PID if process to wait for — need not be a child process\n",
    "    * `status` is the same as `wait`\n",
    "    * `options` is typically `0`, except in special circumstances\n",
    "* Wait functions do not return until child or specific process, respectively, finishes"
   ]
  },
  {
   "cell_type": "markdown",
   "id": "47ec338a-7ada-4219-b499-87650ceabf31",
   "metadata": {},
   "source": [
    "* Q4: _What are all possible outputs of this program?_"
   ]
  },
  {
   "cell_type": "code",
   "execution_count": 19,
   "id": "714540d2-d260-4d06-af27-ca2660b8d98a",
   "metadata": {
    "tags": [
     "worksheet-code-only"
    ]
   },
   "outputs": [
    {
     "name": "stdout",
     "output_type": "stream",
     "text": [
      "Child\n",
      "Parent\n"
     ]
    }
   ],
   "source": [
    "#include <stdio.h>\n",
    "#include <unistd.h>\n",
    "int main() {\n",
    "    int pid = fork();\n",
    "    if (pid < 0) {\n",
    "        printf(\"Fork failed\\n\");\n",
    "        return 1;\n",
    "    } else if (pid == 0) {\n",
    "        printf(\"Child\\n\");\n",
    "    } else {\n",
    "        wait(NULL);\n",
    "        printf(\"Parent\\n\");\n",
    "    }\n",
    "    return 0;\n",
    "}"
   ]
  },
  {
   "cell_type": "markdown",
   "id": "d82e58c6-c974-49c6-9f9d-6937bf519486",
   "metadata": {
    "slideshow": {
     "slide_type": "skip"
    },
    "tags": [
     "worksheet-only"
    ]
   },
   "source": [
    "<p style=\"height:12em;\"></p>"
   ]
  },
  {
   "cell_type": "markdown",
   "id": "312aee1c-10d6-44df-8195-b8716f45fb22",
   "metadata": {
    "slideshow": {
     "slide_type": "subslide"
    },
    "tags": []
   },
   "source": [
    "* Q5: _What are all possible outputs of this program (assuming the new process has PID 13346)?_"
   ]
  },
  {
   "cell_type": "code",
   "execution_count": null,
   "id": "ad876136-82fe-4eb8-8b40-1aa938e8ee06",
   "metadata": {},
   "outputs": [],
   "source": [
    "#include <stdio.h>\n",
    "#include <unistd.h>\n",
    "int main() {\n",
    "    int pid = fork();\n",
    "    printf(\"A %d\\n\", pid);\n",
    "    if (pid < 0) {\n",
    "        printf(\"Fork failed\\n\");\n",
    "        return 1;\n",
    "    } else if (pid == 0) {\n",
    "        printf(\"B\\n\");\n",
    "    } else {\n",
    "        wait(NULL);\n",
    "        printf(\"C\\n\");\n",
    "    }\n",
    "}"
   ]
  },
  {
   "cell_type": "markdown",
   "id": "6931cc16-924a-4965-9049-4bc6a85f071f",
   "metadata": {
    "slideshow": {
     "slide_type": "skip"
    },
    "tags": [
     "notes-only"
    ]
   },
   "source": [
    "```\n",
    "A 0\n",
    "A 13346\n",
    "B\n",
    "C\n",
    "```\n",
    "OR\n",
    "```\n",
    "A 13346\n",
    "A 0\n",
    "B\n",
    "C\n",
    "```\n",
    "OR\n",
    "```\n",
    "A 0\n",
    "B\n",
    "A 13346\n",
    "C\n",
    "```"
   ]
  },
  {
   "cell_type": "markdown",
   "id": "115c4db9-d609-4662-ad8f-0d50541a3802",
   "metadata": {
    "slideshow": {
     "slide_type": "skip"
    },
    "tags": [
     "worksheet-only"
    ]
   },
   "source": [
    "<p style=\"height:10em;\"></p>"
   ]
  },
  {
   "cell_type": "markdown",
   "id": "b37ca661-12e2-4cd8-b765-8f23c6925f1d",
   "metadata": {
    "slideshow": {
     "slide_type": "slide"
    },
    "tags": []
   },
   "source": [
    "## Extra practice"
   ]
  },
  {
   "cell_type": "markdown",
   "id": "8b64d86a-7939-4110-80ec-e73cb4faab07",
   "metadata": {},
   "source": [
    "* Q6: _What does the following code output?_"
   ]
  },
  {
   "cell_type": "code",
   "execution_count": null,
   "id": "ffd1fd64-903c-4729-bc8d-292cad550f4d",
   "metadata": {},
   "outputs": [],
   "source": [
    "#include <stdio.h>\n",
    "#include <unistd.h>\n",
    "int main(int argc, char **argv) {\n",
    "    int value = 100;\n",
    "    int pid = fork();\n",
    "    if (pid < 0) {\n",
    "        printf(\"Fork failed\\n\");\n",
    "        return 1;\n",
    "    } else if (pid == 0) {\n",
    "        value -= 50;\n",
    "    } else {\n",
    "        value += 50;\n",
    "    }\n",
    "    printf(\"My value is %d\\n\", value);\n",
    "    return 0;\n",
    "}"
   ]
  },
  {
   "cell_type": "markdown",
   "id": "fb4bee59-0bfd-4437-bdeb-e7fb203127ca",
   "metadata": {
    "slideshow": {
     "slide_type": "skip"
    },
    "tags": [
     "notes-only"
    ]
   },
   "source": [
    "```\n",
    "My value is 50\n",
    "My value is 150\n",
    "```\n",
    "OR\n",
    "```\n",
    "My value is 150\n",
    "My value is 50\n",
    "```"
   ]
  },
  {
   "cell_type": "markdown",
   "id": "5cde44ae-0167-4f7d-b89d-ad79e7389c88",
   "metadata": {
    "slideshow": {
     "slide_type": "skip"
    },
    "tags": [
     "worksheet-only"
    ]
   },
   "source": [
    "<p style=\"height:12em;\"></p>"
   ]
  },
  {
   "cell_type": "markdown",
   "id": "eb399e0c-27f5-4f2f-b83e-9eca2d1fa1df",
   "metadata": {
    "slideshow": {
     "slide_type": "subslide"
    },
    "tags": []
   },
   "source": [
    "* Q7: _What does the following code output?_"
   ]
  },
  {
   "cell_type": "code",
   "execution_count": null,
   "id": "9590e720-0154-4014-a4f1-4b14f50f559f",
   "metadata": {
    "tags": [
     "worksheet-code-only"
    ]
   },
   "outputs": [],
   "source": [
    "#include <stdio.h>\n",
    "#include <unistd.h>\n",
    "int main(int argc, char **argv) {\n",
    "    printf(\"Begin\\n\");\n",
    "    int pid = fork();\n",
    "    if (pid < 0) {\n",
    "        printf(\"Fork failed\\n\");\n",
    "        return 1;\n",
    "    } else if (pid == 0) {\n",
    "        printf(\"Child\\n\");\n",
    "        return 0;\n",
    "    } else {\n",
    "        printf(\"Parent\\n\");\n",
    "    }\n",
    "    printf(\"End\\n\");\n",
    "}"
   ]
  },
  {
   "cell_type": "markdown",
   "id": "05718783-6ef9-4cf5-98ee-73ea2a12317a",
   "metadata": {
    "slideshow": {
     "slide_type": "skip"
    },
    "tags": [
     "notes-only"
    ]
   },
   "source": [
    "```\n",
    "Begin\n",
    "Child\n",
    "Parent\n",
    "End \n",
    "```\n",
    "OR\n",
    "```\n",
    "Begin\n",
    "Parent\n",
    "Child\n",
    "End \n",
    "```\n",
    "OR\n",
    "```\n",
    "Begin\n",
    "Parent\n",
    "End \n",
    "Child\n",
    "```"
   ]
  },
  {
   "cell_type": "markdown",
   "id": "ad696b45-ef77-4ca2-837b-cada1d42c7e0",
   "metadata": {
    "slideshow": {
     "slide_type": "skip"
    },
    "tags": [
     "worksheet-only"
    ]
   },
   "source": [
    "<p style=\"height:15em;\"></p>"
   ]
  },
  {
   "cell_type": "markdown",
   "id": "f472563e-c1a5-4a05-9ffb-0d5aa06a4386",
   "metadata": {
    "tags": []
   },
   "source": [
    "* Q8: _How would you modify the above program such that `Child` always prints before `Parent`?_"
   ]
  },
  {
   "cell_type": "code",
   "execution_count": 17,
   "id": "9686155a-8631-4b0f-8a86-394dbdf21b9b",
   "metadata": {
    "slideshow": {
     "slide_type": "skip"
    },
    "tags": [
     "notes-only"
    ]
   },
   "outputs": [
    {
     "name": "stdout",
     "output_type": "stream",
     "text": [
      "Begin\n",
      "Child\n",
      "Parent\n",
      "End\n"
     ]
    }
   ],
   "source": [
    "#include <stdio.h>\n",
    "#include <unistd.h>\n",
    "int main(int argc, char **argv) {\n",
    "    printf(\"Begin\\n\");\n",
    "    int pid = fork();\n",
    "    if (pid < 0) {\n",
    "        printf(\"Fork failed\\n\");\n",
    "        return 1;\n",
    "    } else if (pid == 0) {\n",
    "        printf(\"Child\\n\");\n",
    "        return 0;\n",
    "    } else {\n",
    "        wait(NULL);\n",
    "        printf(\"Parent\\n\");\n",
    "    }\n",
    "    printf(\"End\\n\");\n",
    "}"
   ]
  }
 ],
 "metadata": {
  "kernelspec": {
   "display_name": "C",
   "language": "c",
   "name": "c"
  },
  "language_info": {
   "file_extension": ".c",
   "mimetype": "c",
   "name": "c"
  }
 },
 "nbformat": 4,
 "nbformat_minor": 5
}
