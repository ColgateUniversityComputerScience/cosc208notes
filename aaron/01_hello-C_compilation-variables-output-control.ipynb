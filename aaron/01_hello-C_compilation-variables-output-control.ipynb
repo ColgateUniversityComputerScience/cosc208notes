{
 "cells": [
  {
   "cell_type": "markdown",
   "id": "27238286-82f8-4b20-9519-25e5c0306d19",
   "metadata": {
    "editable": true,
    "slideshow": {
     "slide_type": "skip"
    },
    "tags": []
   },
   "source": [
    "# Hello C: compilation; variables; output; control structures\n",
    "_COSC 208, Introduction to Computer Systems, Fall 2025_"
   ]
  },
  {
   "cell_type": "markdown",
   "id": "0e94c8d0",
   "metadata": {},
   "source": [
    "## Announcements\n",
    "* CS Bytes – Tuesday @ 11:30am in Bernstein 217\n",
    "* Before class on Wednesday: read Dive Into Systems 2.9.5, 16.4-16.5.3, 17.2"
   ]
  },
  {
   "cell_type": "markdown",
   "id": "d2e86b2c-26ba-4f29-bc58-50726d54e80e",
   "metadata": {
    "editable": true,
    "slideshow": {
     "slide_type": "slide"
    },
    "tags": [
     "question"
    ]
   },
   "source": [
    "## Hello, C\n",
    "Q1: Write a C program that prints \"Hello, C!\""
   ]
  },
  {
   "cell_type": "code",
   "execution_count": 7,
   "id": "44bb68c6-f0df-45a9-bbe6-04e59475c90e",
   "metadata": {
    "editable": true,
    "slideshow": {
     "slide_type": "skip"
    },
    "tags": [
     "answer"
    ]
   },
   "outputs": [
    {
     "name": "stdout",
     "output_type": "stream",
     "text": [
      "Hello, C!\n"
     ]
    }
   ],
   "source": [
    "#include <stdio.h>\n",
    "int main() {\n",
    "    printf(\"Hello, C!\\n\");\n",
    "    return 0;\n",
    "}"
   ]
  },
  {
   "cell_type": "markdown",
   "id": "fa13ab5d-b0e0-4808-9145-86784f46549e",
   "metadata": {
    "editable": true,
    "slideshow": {
     "slide_type": "skip"
    },
    "tags": [
     "blank"
    ]
   },
   "source": [
    "<div style=\"height:10em;\"></div>"
   ]
  },
  {
   "cell_type": "markdown",
   "id": "10c98bd9-e2d3-4312-a402-804ecf67c83e",
   "metadata": {
    "editable": true,
    "slideshow": {
     "slide_type": "skip"
    },
    "tags": [
     "notes-only"
    ]
   },
   "source": [
    "* _How do you compile the program?_\n",
    "```bash\n",
    "$ gcc -Wall -Werror -o hello hello.c\n",
    "```\n",
    "* _How do you run the program?_\n",
    "```bash\n",
    "$ ./hello\n",
    "```"
   ]
  },
  {
   "cell_type": "markdown",
   "id": "fe6f16e7-e2f6-4166-9a32-173bec203023",
   "metadata": {
    "slideshow": {
     "slide_type": "slide"
    },
    "tags": []
   },
   "source": [
    "## Variables"
   ]
  },
  {
   "cell_type": "markdown",
   "id": "b64c3ec5-9975-48c6-bf71-e18ed432787d",
   "metadata": {
    "editable": true,
    "slideshow": {
     "slide_type": "skip"
    },
    "tags": [
     "notes-only"
    ]
   },
   "source": [
    "* Most common variable types – `char` and `int`\n",
    "* Declare (local) variables within functions; avoid declaring (global) variables outside of functions\n",
    "* C does not initialize variables => assign an initial value when a variable is declared"
   ]
  },
  {
   "cell_type": "markdown",
   "id": "e592c323",
   "metadata": {
    "editable": true,
    "slideshow": {
     "slide_type": ""
    },
    "tags": [
     "blank"
    ]
   },
   "source": [
    "<div style=\"height:5em;\"></div>"
   ]
  },
  {
   "cell_type": "markdown",
   "id": "df8ee455-e3ea-46b2-bf63-ee1faf0fff54",
   "metadata": {
    "slideshow": {
     "slide_type": "slide"
    },
    "tags": []
   },
   "source": [
    "## Output"
   ]
  },
  {
   "cell_type": "markdown",
   "id": "f1d1b5b7-4ea5-4e60-84a8-04c7509b24d4",
   "metadata": {
    "editable": true,
    "slideshow": {
     "slide_type": "skip"
    },
    "tags": [
     "notes-only"
    ]
   },
   "source": [
    "* _What is the syntax for `printf`?_\n",
    "    * `printf(FORMAT_STRING, VALUES, ...);`\n",
    "    * `FORMAT_STRING` is a string constant (sequence of characters surrounded by double quotes) that may optionally include format specifiers\n",
    "    * Format specifiers define how to convert a value to a string\n",
    "        * `%d` decimal (i.e., base 10) number\n",
    "        * `%c` character\n",
    "        * `%x` hexadecimal (i.e., base 16) number\n",
    "        * `%s` string — more on this next week\n",
    "    * After the format string, include a value for each format specifier\n",
    "        * A compile error will occur if the number of format specifiers does not match the number of values\n",
    "        * A compile warning will occur if the value type does not match the format specifier"
   ]
  },
  {
   "cell_type": "markdown",
   "id": "81310a48",
   "metadata": {
    "editable": true,
    "slideshow": {
     "slide_type": ""
    },
    "tags": [
     "blank"
    ]
   },
   "source": [
    "<div style=\"height:8em;\"></div>"
   ]
  },
  {
   "cell_type": "markdown",
   "id": "d3a4a1a8-59b3-44d9-b6d5-6e28243fc085",
   "metadata": {
    "editable": true,
    "slideshow": {
     "slide_type": ""
    },
    "tags": [
     "question"
    ]
   },
   "source": [
    "Q2: _Store the dimensions of a sports field/court in the variables `length` and `width`. Use `printf` to output the dimensions (e.g., `94ft x 50ft`)._"
   ]
  },
  {
   "cell_type": "code",
   "execution_count": 34,
   "id": "56cdd775-c0ed-4da4-adbc-f2a066501aab",
   "metadata": {
    "editable": true,
    "slideshow": {
     "slide_type": "skip"
    },
    "tags": [
     "answer"
    ]
   },
   "outputs": [
    {
     "name": "stdout",
     "output_type": "stream",
     "text": [
      "94ft x 50ft\n"
     ]
    }
   ],
   "source": [
    "#include <stdio.h>\n",
    "int main() {\n",
    "    int length = 94;\n",
    "    int width = 50;\n",
    "    printf(\"%dft x %dft\\n\", length, width);\n",
    "}"
   ]
  },
  {
   "cell_type": "markdown",
   "id": "6151c627-bdd5-4b8d-abea-011af51f33b4",
   "metadata": {
    "editable": true,
    "slideshow": {
     "slide_type": ""
    },
    "tags": [
     "blank"
    ]
   },
   "source": [
    "<div style=\"height:5em;\"></div>"
   ]
  },
  {
   "cell_type": "markdown",
   "id": "4aefc349-3e67-4a25-8aea-8449e39da49c",
   "metadata": {
    "editable": true,
    "slideshow": {
     "slide_type": ""
    },
    "tags": [
     "question"
    ]
   },
   "source": [
    "Q3: _Store a patient's initials in the variables `first` and `last` and blood pressure readings in the variables `systolic` and `diastolic`. Use `printf` to output the patient's initials and blood pressure (e.g., `A.G. 115/70`)._"
   ]
  },
  {
   "cell_type": "code",
   "execution_count": 35,
   "id": "11cebc9f-e991-46cf-aff2-f242c9f57605",
   "metadata": {
    "editable": true,
    "slideshow": {
     "slide_type": "skip"
    },
    "tags": [
     "answer"
    ]
   },
   "outputs": [
    {
     "name": "stdout",
     "output_type": "stream",
     "text": [
      "A.G. 115/70\n"
     ]
    }
   ],
   "source": [
    "#include <stdio.h>\n",
    "int main() {\n",
    "    char first = 'A';\n",
    "    char last = 'G';\n",
    "    int systolic = 115;\n",
    "    int diastolic = 70;\n",
    "    printf(\"%c.%c. %d/%d\\n\", first, last, systolic, diastolic);\n",
    "}"
   ]
  },
  {
   "cell_type": "markdown",
   "id": "81655d37-22d3-45db-b4ef-4fc3d772fa5d",
   "metadata": {
    "editable": true,
    "slideshow": {
     "slide_type": ""
    },
    "tags": [
     "blank"
    ]
   },
   "source": [
    "<div style=\"height:8em;\"></div>"
   ]
  },
  {
   "cell_type": "markdown",
   "id": "3e1cde58-827f-42d7-a872-21d0817e79d6",
   "metadata": {
    "editable": true,
    "slideshow": {
     "slide_type": "subslide"
    },
    "tags": [
     "question"
    ]
   },
   "source": [
    "Q4: _What is the output of the following program?_"
   ]
  },
  {
   "cell_type": "code",
   "execution_count": 41,
   "id": "83eb9ddc-6d3b-4098-8e06-8f3ceb201023",
   "metadata": {
    "editable": true,
    "slideshow": {
     "slide_type": ""
    },
    "tags": [
     "question",
     "worksheet-code-only"
    ]
   },
   "outputs": [
    {
     "name": "stdout",
     "output_type": "stream",
     "text": [
      "F 70\n",
      "c 99\n"
     ]
    }
   ],
   "source": [
    "#include <stdio.h>\n",
    "int main() {\n",
    "    int x = 5;\n",
    "    char y = 'A'; // Equivalent to int value 65\n",
    "    y = y + x;\n",
    "    printf(\"%c %d\\n\", y, y);\n",
    "    char z = '1';\n",
    "    z += '2';\n",
    "    printf(\"%c %d\\n\", z, z);\n",
    "}"
   ]
  },
  {
   "cell_type": "markdown",
   "id": "706edbca-bb78-4782-8859-a4cb2adaaebb",
   "metadata": {
    "editable": true,
    "slideshow": {
     "slide_type": ""
    },
    "tags": [
     "blank"
    ]
   },
   "source": [
    "<div style=\"height:3em;\"></div>"
   ]
  },
  {
   "cell_type": "markdown",
   "id": "3ef3dbbb-89bf-42db-9d29-e4321f38f084",
   "metadata": {
    "editable": true,
    "slideshow": {
     "slide_type": ""
    },
    "tags": [
     "question"
    ]
   },
   "source": [
    "Q5: _Assume the variables `year`, `month`, and `day` contain the parts of a date. Use `printf` to output the date (e.g., `2025-09-01`)._"
   ]
  },
  {
   "cell_type": "code",
   "execution_count": 38,
   "id": "8cd22d32-caea-4e8e-9a26-b2505b03ec2c",
   "metadata": {
    "editable": true,
    "slideshow": {
     "slide_type": "skip"
    },
    "tags": [
     "answer"
    ]
   },
   "outputs": [
    {
     "name": "stdout",
     "output_type": "stream",
     "text": [
      "2025-09-01\n"
     ]
    }
   ],
   "source": [
    "#include <stdio.h>\n",
    "int main() {\n",
    "    int year = 2025;\n",
    "    int month = 9;\n",
    "    int day = 1;\n",
    "    printf(\"%d-%02d-%02d\\n\", year, month, day);\n",
    "}"
   ]
  },
  {
   "cell_type": "markdown",
   "id": "d7a1840a-2109-485f-89d5-7cfc721511a7",
   "metadata": {
    "editable": true,
    "slideshow": {
     "slide_type": "skip"
    },
    "tags": [
     "blank"
    ]
   },
   "source": [
    "<div style=\"height:5em;\"></div>"
   ]
  },
  {
   "cell_type": "markdown",
   "id": "38e976ad-7bd7-41c7-b611-8bc131e08b28",
   "metadata": {
    "editable": true,
    "slideshow": {
     "slide_type": ""
    },
    "tags": [
     "question"
    ]
   },
   "source": [
    "Q6: _Write a program that computes and prints the number of days, hours, and minutes in a week._"
   ]
  },
  {
   "cell_type": "code",
   "execution_count": 39,
   "id": "cddddc1d-c4ef-4c2d-b23f-d9254858db9b",
   "metadata": {
    "editable": true,
    "slideshow": {
     "slide_type": "skip"
    },
    "tags": [
     "answer"
    ]
   },
   "outputs": [
    {
     "name": "stdout",
     "output_type": "stream",
     "text": [
      "1 week = 7 days = 168 hours = 10080 minutes\n"
     ]
    }
   ],
   "source": [
    "#include <stdio.h>\n",
    "int main() {\n",
    "    int days = 7;\n",
    "    int hours = days * 24;\n",
    "    int minutes = hours * 60;\n",
    "    printf(\"1 week = %d days = %d hours = %d minutes\\n\", days, hours, minutes);\n",
    "}"
   ]
  },
  {
   "cell_type": "markdown",
   "id": "f9c3c6e1-9d9b-430c-b81d-68f13562fb4a",
   "metadata": {
    "editable": true,
    "slideshow": {
     "slide_type": "skip"
    },
    "tags": [
     "blank"
    ]
   },
   "source": [
    "<div style=\"height:10em;\"></div>"
   ]
  },
  {
   "cell_type": "markdown",
   "id": "c73750da-8ffd-4142-a89e-0e8383268b65",
   "metadata": {
    "editable": true,
    "slideshow": {
     "slide_type": "slide"
    },
    "tags": []
   },
   "source": [
    "## Control structures\n"
   ]
  },
  {
   "cell_type": "markdown",
   "id": "5b619ae7-7ebf-4d93-817a-57859b04de3b",
   "metadata": {
    "editable": true,
    "slideshow": {
     "slide_type": "skip"
    },
    "tags": [
     "notes-only"
    ]
   },
   "source": [
    "* Control structures in C have the same syntax as control structures in Java\n",
    "* _How are `true` and `false` represented in C?_ – `0` is false and any non-zero value (e.g., `13`, `-5`, `'C'`) is true\n",
    "* Curly braces are optional if the body of a conditional, for loop, or while loop is only one line\n",
    "    * But, you should **always** include them to make the code easier to read and reduce the likelihood of future errors"
   ]
  },
  {
   "cell_type": "markdown",
   "id": "2c905a0e",
   "metadata": {
    "editable": true,
    "slideshow": {
     "slide_type": ""
    },
    "tags": [
     "blank"
    ]
   },
   "source": [
    "<div style=\"height:5em;\"></div>"
   ]
  },
  {
   "cell_type": "markdown",
   "id": "f9678613",
   "metadata": {
    "editable": true,
    "slideshow": {
     "slide_type": ""
    },
    "tags": [
     "question"
    ]
   },
   "source": [
    "Q7: _Write a program that prints out the powers of 2 from 2 through 2048._"
   ]
  },
  {
   "cell_type": "code",
   "execution_count": null,
   "id": "7dd7ca4e",
   "metadata": {
    "editable": true,
    "slideshow": {
     "slide_type": ""
    },
    "tags": [
     "answer"
    ]
   },
   "outputs": [
    {
     "name": "stdout",
     "output_type": "stream",
     "text": [
      "2 4 8 16 32 64 128 256 512 1024 2048 \n"
     ]
    }
   ],
   "source": [
    "#include <stdio.h>\n",
    "#define MAX 2048\n",
    "int main() {\n",
    "    int i = 2;\n",
    "    while (i <= MAX) {\n",
    "        printf(\"%d \", i);\n",
    "        i *= 2;\n",
    "    }\n",
    "    printf(\"\\n\");\n",
    "}"
   ]
  },
  {
   "cell_type": "markdown",
   "id": "e3ac7ede",
   "metadata": {
    "editable": true,
    "slideshow": {
     "slide_type": ""
    },
    "tags": [
     "blank"
    ]
   },
   "source": [
    "<div style=\"height:15em;\"></div>"
   ]
  },
  {
   "cell_type": "markdown",
   "id": "27175105-54e7-41f6-83dc-7e276ac8477a",
   "metadata": {
    "editable": true,
    "slideshow": {
     "slide_type": ""
    },
    "tags": [
     "question"
    ]
   },
   "source": [
    "Q8: _Write a program that prints all numbers from 1 to 20, except:_\n",
    "* _If the number is divisible by 3 then print `Three`_\n",
    "* _If the number is divisible by 5 then print `Five`_\n",
    "* _If the number is divisible by 3 and 5, print `Both`_"
   ]
  },
  {
   "cell_type": "code",
   "execution_count": 40,
   "id": "89a0ee98-15a9-45fc-8fe2-abf63da9eb2a",
   "metadata": {
    "editable": true,
    "slideshow": {
     "slide_type": "skip"
    },
    "tags": [
     "answer"
    ]
   },
   "outputs": [
    {
     "name": "stdout",
     "output_type": "stream",
     "text": [
      "1\n",
      "2\n",
      "Three\n",
      "4\n",
      "Five\n",
      "Three\n",
      "7\n",
      "8\n",
      "Three\n",
      "Five\n",
      "11\n",
      "Three\n",
      "13\n",
      "14\n",
      "Both\n",
      "16\n",
      "17\n",
      "Three\n",
      "19\n",
      "Five\n"
     ]
    }
   ],
   "source": [
    "#include <stdio.h>\n",
    "#define MAX 20\n",
    "int main() {\n",
    "    for (int i = 1; i <= MAX; i++) {\n",
    "        if (i % 3 == 0 && i % 5 == 0) {\n",
    "            printf(\"Both\\n\");\n",
    "        }\n",
    "        else if (i % 5 == 0) {\n",
    "            printf(\"Five\\n\");\n",
    "        }\n",
    "        else if (i % 3 == 0) {\n",
    "            printf(\"Three\\n\");\n",
    "        }\n",
    "        else {\n",
    "            printf(\"%d\\n\", i);\n",
    "        }\n",
    "    }\n",
    "}"
   ]
  },
  {
   "cell_type": "markdown",
   "id": "6c848f4c-2bea-4a0d-8797-5c5ccf868418",
   "metadata": {
    "editable": true,
    "slideshow": {
     "slide_type": "skip"
    },
    "tags": [
     "blank"
    ]
   },
   "source": [
    "<div style=\"height:25em;\"></div>"
   ]
  },
  {
   "cell_type": "markdown",
   "id": "2e717136-6894-4d84-a464-451e9099e4df",
   "metadata": {
    "editable": true,
    "slideshow": {
     "slide_type": ""
    },
    "tags": [
     "question"
    ]
   },
   "source": [
    "Q9: _Write a program that prints every letter of the alphabet in upper and lower case: `AaBbCcDd...YyZz`_"
   ]
  },
  {
   "cell_type": "code",
   "execution_count": null,
   "id": "235bd637-36c0-421e-bd81-86f0d990fff1",
   "metadata": {
    "editable": true,
    "slideshow": {
     "slide_type": "skip"
    },
    "tags": [
     "answer"
    ]
   },
   "outputs": [
    {
     "name": "stdout",
     "output_type": "stream",
     "text": [
      "AaBbCcDdEeFfGgHhIiJjKkLlMmNnOoPpQqRrSsTtUuVvWwXxYyZz\n"
     ]
    }
   ],
   "source": [
    "#include <stdio.h>\n",
    "#define NUM_LETTERS 26\n",
    "int main() {\n",
    "    for (int i = 0; i < NUM_LETTERS; i++) {\n",
    "        char upper = 'A' + i;\n",
    "        char lower = 'a' + i;\n",
    "        printf(\"%c%c\", upper, lower);\n",
    "    }\n",
    "    printf(\"\\n\");\n",
    "}"
   ]
  },
  {
   "cell_type": "code",
   "execution_count": 44,
   "id": "ca5e53d1",
   "metadata": {
    "editable": true,
    "slideshow": {
     "slide_type": ""
    },
    "tags": [
     "answer"
    ]
   },
   "outputs": [
    {
     "name": "stdout",
     "output_type": "stream",
     "text": [
      "AaBbCcDdEeFfGgHhIiJjKkLlMmNnOoPpQqRrSsTtUuVvWwXxYyZz\n"
     ]
    }
   ],
   "source": [
    "// Alternate version\n",
    "#include <stdio.h>\n",
    "#define NUM_LETTERS 26\n",
    "int main() {\n",
    "    char lower = 'a';\n",
    "    for (char upper = 'A'; upper <= 'Z'; upper++) {\n",
    "        printf(\"%c%c\", upper, lower);\n",
    "        lower++;\n",
    "    }\n",
    "    printf(\"\\n\");\n",
    "}"
   ]
  }
 ],
 "metadata": {
  "kernelspec": {
   "display_name": "C",
   "language": "c",
   "name": "c"
  },
  "language_info": {
   "file_extension": ".c",
   "mimetype": "text/plain",
   "name": "c"
  }
 },
 "nbformat": 4,
 "nbformat_minor": 5
}
