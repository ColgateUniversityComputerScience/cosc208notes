{
 "cells": [
  {
   "cell_type": "markdown",
   "id": "ffc437ac-d10b-4d12-895d-712e9c2057b5",
   "metadata": {
    "slideshow": {
     "slide_type": "skip"
    },
    "tags": []
   },
   "source": [
    "# Multiprocessing: scheduling\n",
    "_COSC 208, Introduction to Computer Systems, 2023-04-21_"
   ]
  },
  {
   "cell_type": "markdown",
   "id": "c377c966-ee4b-4990-a6e6-a2d8f327a112",
   "metadata": {
    "slideshow": {
     "slide_type": "skip"
    },
    "tags": []
   },
   "source": [
    "## Announcements\n",
    "* Project 5 due Thursday, May 4"
   ]
  },
  {
   "cell_type": "markdown",
   "id": "377e6d68-2202-4782-afc7-a43582630f55",
   "metadata": {
    "slideshow": {
     "slide_type": "skip"
    },
    "tags": []
   },
   "source": [
    "## Outline\n",
    "* Warm-up\n",
    "* Scheduling processes\n",
    "* First In First Out (FIFO) scheduling\n",
    "* Shortest Job First (SJF) scheduling\n",
    "* Preemption\n",
    "* Shortest Time to Completion First (STCF) scheduling"
   ]
  },
  {
   "cell_type": "markdown",
   "id": "12012bfd-a4f4-4e7f-9d4b-3275ef92160b",
   "metadata": {},
   "source": [
    "## Warm-up"
   ]
  },
  {
   "cell_type": "markdown",
   "id": "95c6b8fe-01bb-494f-95b1-864607c3f4fd",
   "metadata": {},
   "source": [
    "* Q1: _What are all possible outputs of this program assuming no errors occur?_"
   ]
  },
  {
   "cell_type": "code",
   "execution_count": null,
   "id": "f274cc31-eafa-43d0-ab3b-db6ea89f01c6",
   "metadata": {
    "tags": [
     "worksheet-code-only"
    ]
   },
   "outputs": [
    {
     "name": "stdout",
     "output_type": "stream",
     "text": [
      "Child\n",
      "Parent\n"
     ]
    }
   ],
   "source": [
    "#include <stdio.h>\n",
    "#include <unistd.h>\n",
    "int main() {\n",
    "    int pid = fork();\n",
    "    if (pid < 0) {\n",
    "        printf(\"Fork failed\\n\");\n",
    "        return 1;\n",
    "    } else if (pid == 0) {\n",
    "        printf(\"Child\\n\");\n",
    "    } else {\n",
    "        wait(NULL);\n",
    "        printf(\"Parent\\n\");\n",
    "    }\n",
    "    return 0;\n",
    "}"
   ]
  },
  {
   "cell_type": "markdown",
   "id": "1e08054b-2ccf-4094-9fa0-e915dd7b7bbe",
   "metadata": {
    "slideshow": {
     "slide_type": "skip"
    },
    "tags": [
     "worksheet-only"
    ]
   },
   "source": [
    "<p style=\"height:5em;\"></p>"
   ]
  },
  {
   "cell_type": "markdown",
   "id": "95550fec-f9ba-4687-8e7f-684f92615ae6",
   "metadata": {
    "slideshow": {
     "slide_type": "subslide"
    },
    "tags": []
   },
   "source": [
    "* Q2: _What are all possible outputs of this program, assuming no errors occur and the new process has PID 13346?_"
   ]
  },
  {
   "cell_type": "code",
   "execution_count": null,
   "id": "e786ab4f-1d44-4258-8996-3c2f230cfc81",
   "metadata": {},
   "outputs": [],
   "source": [
    "#include <stdio.h>\n",
    "#include <unistd.h>\n",
    "int main() {\n",
    "    int pid = fork();\n",
    "    printf(\"A %d\\n\", pid);\n",
    "    if (pid < 0) {\n",
    "        printf(\"Fork failed\\n\");\n",
    "        return 1;\n",
    "    } else if (pid == 0) {\n",
    "        printf(\"B\\n\");\n",
    "    } else {\n",
    "        wait(NULL);\n",
    "        printf(\"C\\n\");\n",
    "    }\n",
    "}"
   ]
  },
  {
   "cell_type": "markdown",
   "id": "2c10f975-9d3a-4f8a-9ce4-48504d1eefeb",
   "metadata": {
    "slideshow": {
     "slide_type": "skip"
    },
    "tags": [
     "notes-only"
    ]
   },
   "source": [
    "```\n",
    "A 0\n",
    "A 13346\n",
    "B\n",
    "C\n",
    "```\n",
    "OR\n",
    "```\n",
    "A 13346\n",
    "A 0\n",
    "B\n",
    "C\n",
    "```\n",
    "OR\n",
    "```\n",
    "A 0\n",
    "B\n",
    "A 13346\n",
    "C\n",
    "```"
   ]
  },
  {
   "cell_type": "markdown",
   "id": "61ec1ac8-2a07-4c68-9811-a74ff881c331",
   "metadata": {
    "slideshow": {
     "slide_type": "skip"
    },
    "tags": [
     "worksheet-only"
    ]
   },
   "source": [
    "<div style=\"page-break-after:always;\"></div>"
   ]
  },
  {
   "cell_type": "markdown",
   "id": "c56bff14-9976-4f31-a896-5fa1090baa51",
   "metadata": {
    "slideshow": {
     "slide_type": "skip"
    },
    "tags": [
     "notes-only"
    ]
   },
   "source": [
    "## Scheduling processes"
   ]
  },
  {
   "cell_type": "markdown",
   "id": "484e78a3-35df-44e8-ae92-f04fb156fab2",
   "metadata": {
    "slideshow": {
     "slide_type": "skip"
    },
    "tags": [
     "notes-only"
    ]
   },
   "source": [
    "* OS decides which process to run and for how long\n",
    "* _What factors should the OS consider when making these decisions?_\n",
    "    * Time for process to complete\n",
    "    * Overhead of context switching\n",
    "    * Fairness\n",
    "    * User interaction\n",
    "* For now, consider one of these metrics: turnaround time\n",
    "    * T<sub>turnaround</sub> = T<sub>complete</sub> - T<sub>arrive</sub>\n",
    "* For now, assume a process starts and runs to completion—i.e., no I/O and no preemption"
   ]
  },
  {
   "cell_type": "markdown",
   "id": "4a592f8c-519e-44ba-b909-51443317cc90",
   "metadata": {
    "slideshow": {
     "slide_type": "skip"
    },
    "tags": [
     "notes-only"
    ]
   },
   "source": [
    "## First In First Out (FIFO) scheduling"
   ]
  },
  {
   "cell_type": "markdown",
   "id": "c057d7fe-108b-4153-8a07-963883e0b92b",
   "metadata": {
    "slideshow": {
     "slide_type": "skip"
    },
    "tags": [
     "notes-only"
    ]
   },
   "source": [
    "| Process | Arrival time | Duration | \n",
    "|---------|--------------|----------|\n",
    "| A       | 0            | 15       |\n",
    "| B       | 5            | 15       |\n",
    "| C       | 10           | 15       |"
   ]
  },
  {
   "cell_type": "markdown",
   "id": "888abc65-f1a2-41e5-b771-d94e22d4b4bf",
   "metadata": {
    "slideshow": {
     "slide_type": "skip"
    },
    "tags": [
     "notes-only"
    ]
   },
   "source": [
    "* _What is the average turnaround time for the processes using FIFO?_\n",
    "    ```\n",
    "    ┌──────────────┬──────────────┬──────────────┐\n",
    "    │ A            │ B            │ C            │\n",
    "    └──────────────┴──────────────┴──────────────┘\n",
    "    0              15             30             45\n",
    "    ```\n",
    "    * Average Turnaround = (15 + 25 + 35) / 3 = 25\n",
    "* _What happens if C's duration is 60?_\n",
    "    ```\n",
    "    ┌──────────────┬──────────────┬────────────────────────────────────────────────────────┐\n",
    "    │ A            │ B            │ C                                                      │\n",
    "    └──────────────┴──────────────┴────────────────────────────────────────────────────────┘\n",
    "    0              15             30                                                       90\n",
    "    ```\n",
    "    Average Turnaround = (15 + 25 + 80) / 3 = 40\n",
    "* _What happens if A’s duration is 60?_\n",
    "    ```\n",
    "    ┌────────────────────────────────────────────────────────┬──────────────┬──────────────┐\n",
    "    │ A                                                      │ B            │ C            │\n",
    "    └────────────────────────────────────────────────────────┴──────────────┴──────────────┘\n",
    "    0                                                        60             75             90\n",
    "    ```\n",
    "    * Average Turnaround = (60 + 70 + 80) / 3 = 70\n",
    "* _How can we change the scheduling algorithm so the average turnaround time when A’s duration is 60 is more like the average turnaround time when C’s duration is 60?_"
   ]
  },
  {
   "cell_type": "markdown",
   "id": "7d4bec7f-3f09-42fc-a118-ea5d9cf6dacb",
   "metadata": {
    "slideshow": {
     "slide_type": "skip"
    },
    "tags": [
     "notes-only"
    ]
   },
   "source": [
    "## Shortest Job First (SJF) scheduling"
   ]
  },
  {
   "cell_type": "markdown",
   "id": "5a4cb931-0c3f-48f8-9c4c-182b59af08e1",
   "metadata": {
    "slideshow": {
     "slide_type": "skip"
    },
    "tags": [
     "notes-only"
    ]
   },
   "source": [
    "| Process | Arrival time | Duration | \n",
    "|---------|--------------|----------|\n",
    "| A       | 0            | 60       |\n",
    "| B       | 0            | 15       |\n",
    "| C       | 0            | 15       |"
   ]
  },
  {
   "cell_type": "markdown",
   "id": "e19f0c25-1882-4de6-ba9c-46ad3ea3ed8f",
   "metadata": {
    "slideshow": {
     "slide_type": "skip"
    },
    "tags": [
     "notes-only"
    ]
   },
   "source": [
    "* _What is the average turnaround time for the above processes using SJF?_\n",
    "    ```\n",
    "    ┌──────────────┬──────────────┬────────────────────────────────────────────────────────┐\n",
    "    │ B            │ C            │ A                                                      │\n",
    "    └──────────────┴──────────────┴────────────────────────────────────────────────────────┘\n",
    "    0              15             30                                                       90\n",
    "    ```\n",
    "    * Average Turnaround = (15 + 30 + 90) / 3 = 45"
   ]
  },
  {
   "cell_type": "markdown",
   "id": "f10702d8-9bab-4222-a80c-6c591fcbe054",
   "metadata": {
    "slideshow": {
     "slide_type": "skip"
    },
    "tags": [
     "notes-only"
    ]
   },
   "source": [
    "| Process | Arrival time | Duration | \n",
    "|---------|--------------|----------|\n",
    "| A       | 0            | 60       |\n",
    "| B       | 5            | 15       |\n",
    "| C       | 10           | 15       |"
   ]
  },
  {
   "cell_type": "markdown",
   "id": "307f49cd-5181-4936-b402-0d835b73c77b",
   "metadata": {
    "slideshow": {
     "slide_type": "skip"
    },
    "tags": [
     "notes-only"
    ]
   },
   "source": [
    "* _What is the average turnaround time for the above processes using SJF?_\n",
    "    ```\n",
    "    ┌────────────────────────────────────────────────────────┬──────────────┬──────────────┐\n",
    "    │ A                                                      │ B            │ C            │\n",
    "    └────────────────────────────────────────────────────────┴──────────────┴──────────────┘\n",
    "    0                                                        60             75             90\n",
    "    ```\n",
    "    * Average Turnaround = (60 + 70 + 80) / 3 = 70\n",
    "    * We're back to FIFO—_What happened!? How can we fix this?_"
   ]
  },
  {
   "cell_type": "markdown",
   "id": "e0b4d0ad-445d-49c8-af03-f4ac5c0a5de9",
   "metadata": {
    "slideshow": {
     "slide_type": "skip"
    },
    "tags": [
     "notes-only"
    ]
   },
   "source": [
    "## Preemption"
   ]
  },
  {
   "cell_type": "markdown",
   "id": "615f9347-3ff3-4d6f-8459-4fa07cd4a903",
   "metadata": {
    "slideshow": {
     "slide_type": "skip"
    },
    "tags": [
     "notes-only"
    ]
   },
   "source": [
    "* OS only regains control when a system call occurs—e.g., read/write file, yield\n",
    "    * Syscalls may occur infrequently, or never, due to program design, bugs, or malicious behavior\n",
    "* _How does an OS forcibly regain control?_ — set a timer that raises an interrupt\n",
    "    * Interrupt causes a trap instruction to be executed\n",
    "    * Interrupts can also be raised by devices—e.g., Network Interface Card (NIC)\n",
    "* _What must the OS do if it decides to run another process?_ — perform a context switch\n",
    "    * Save the machine state associated with the process that was running—in particular, the contents of all registers are saved in the process's control structure\n",
    "    * Restore the machine state associated with the process that should run—again, the contents of all registers are loaded from the process's control structure"
   ]
  },
  {
   "cell_type": "markdown",
   "id": "da108ffb-0598-44c1-af77-d4873dbd853c",
   "metadata": {
    "slideshow": {
     "slide_type": "skip"
    },
    "tags": [
     "notes-only"
    ]
   },
   "source": [
    "## Shortest Time-to-Completion First (STCF) scheduling"
   ]
  },
  {
   "cell_type": "markdown",
   "id": "3c796b35-81a6-48aa-95d1-5207837b865e",
   "metadata": {
    "slideshow": {
     "slide_type": "skip"
    },
    "tags": [
     "notes-only"
    ]
   },
   "source": [
    "* Allow preemption\n",
    "* If a process arrives that has less computation remaining than the currently running process, then preempt the current process and run the new process\n",
    "* Also known as Preemptive Shortest Job First (PSJF)"
   ]
  },
  {
   "cell_type": "markdown",
   "id": "d7cd12a6-4862-46ce-94bc-1b7262245bec",
   "metadata": {
    "slideshow": {
     "slide_type": "skip"
    },
    "tags": [
     "notes-only"
    ]
   },
   "source": [
    "| Process | Arrival time | Duration | \n",
    "|---------|--------------|----------|\n",
    "| A       | 0            | 60       |\n",
    "| B       | 5            | 15       |\n",
    "| C       | 10           | 15       |"
   ]
  },
  {
   "cell_type": "markdown",
   "id": "8042c7de-3b55-4fb0-80b7-1b7dcb79fc92",
   "metadata": {
    "slideshow": {
     "slide_type": "skip"
    },
    "tags": [
     "notes-only"
    ]
   },
   "source": [
    "* _What is the average turnaround time for the above processes using STCF scheduling?_\n",
    "    ```\n",
    "    ┌────┬──────────────┬──────────────┬───────────────────────────────────────────────────┐\n",
    "    │ A  │ B            │ C            │ A                                                 │\n",
    "    └────┴──────────────┴──────────────┴───────────────────────────────────────────────────┘\n",
    "    0    5              20             35                                                   90\n",
    "    ```\n",
    "    * Average Turnaround = (90 + 15 + 25) / 3 = 43.3\n",
    "* Now consider wait time: T<sub>wait</sub> = ∑ (T<sub>start_run</sub> - T<sub>become_ready</sub>)\n",
    "    * A is waiting from time 5 to 35, so T<sub>wait</sub> = 30\n",
    "    * B does not wait, so T<sub>wait</sub> = 0\n",
    "    * C is waiting from time 10 to 20, so T<sub>wait</sub> = 10\n",
    "    * Average Wait = (30 + 0 + 10) / 3 = 13.3"
   ]
  },
  {
   "cell_type": "markdown",
   "id": "b37ca661-12e2-4cd8-b765-8f23c6925f1d",
   "metadata": {
    "slideshow": {
     "slide_type": "slide"
    },
    "tags": []
   },
   "source": [
    "## Extra practice"
   ]
  },
  {
   "cell_type": "markdown",
   "id": "eb399e0c-27f5-4f2f-b83e-9eca2d1fa1df",
   "metadata": {
    "tags": []
   },
   "source": [
    "* Q3: _What is the output produced by running `./progA`, assuming no errors occur?_"
   ]
  },
  {
   "cell_type": "code",
   "execution_count": null,
   "id": "9590e720-0154-4014-a4f1-4b14f50f559f",
   "metadata": {
    "tags": [
     "worksheet-code-only"
    ]
   },
   "outputs": [],
   "source": [
    "// progA\n",
    "#include <stdio.h>\n",
    "#include <unistd.h>\n",
    "int main() {\n",
    "    int a = fork();\n",
    "    if (a < 0) {\n",
    "        perror(\"Fork failed\");\n",
    "        return 1;\n",
    "    }\n",
    "    else if (a == 0) {\n",
    "        char *cmd[] = { \"./progB\", NULL };\n",
    "        execv(cmd[0], cmd);\n",
    "        printf(\"A 2nd gen\\n\");\n",
    "        return 0;\n",
    "    }\n",
    "    else {\n",
    "        wait(NULL);\n",
    "        printf(\"A 1st gen\\n\");\n",
    "        return 0;\n",
    "    }\n",
    "}"
   ]
  },
  {
   "cell_type": "code",
   "execution_count": null,
   "id": "9d10c2dd-00af-432d-9f80-fb1987bce922",
   "metadata": {
    "slideshow": {
     "slide_type": "subslide"
    },
    "tags": [
     "worksheet-code-only"
    ]
   },
   "outputs": [],
   "source": [
    "// progB\n",
    "#include <stdio.h>\n",
    "#include <unistd.h>\n",
    "int main() {\n",
    "    int b = fork();\n",
    "    if (b < 0) {\n",
    "        perror(\"Fork failed\");\n",
    "        return 1;\n",
    "    }\n",
    "    else if (b == 0) {\n",
    "        printf(\"B 2nd gen\\n\");\n",
    "        return 0;\n",
    "    }\n",
    "    else {\n",
    "        wait(NULL);\n",
    "        printf(\"B 1st gen\\n\");\n",
    "        return 0;\n",
    "    }\n",
    "}"
   ]
  },
  {
   "cell_type": "markdown",
   "id": "05718783-6ef9-4cf5-98ee-73ea2a12317a",
   "metadata": {
    "slideshow": {
     "slide_type": "skip"
    },
    "tags": [
     "notes-only"
    ]
   },
   "source": [
    "```\n",
    "B 2nd gen\n",
    "B 1st gen\n",
    "A 1st gen\n",
    "```"
   ]
  },
  {
   "cell_type": "markdown",
   "id": "440c951c-1e07-4ccf-93cc-4ec6bb898ea0",
   "metadata": {
    "slideshow": {
     "slide_type": "skip"
    },
    "tags": [
     "worksheet-only"
    ]
   },
   "source": [
    "<div style=\"page-break-after:always;\"></div>"
   ]
  },
  {
   "cell_type": "markdown",
   "id": "870b03f4-5032-430d-bcd9-6ee62f1cb887",
   "metadata": {},
   "source": [
    "* Q4: _What does the following code output assuming no errors occur?_"
   ]
  },
  {
   "cell_type": "code",
   "execution_count": null,
   "id": "ffd1fd64-903c-4729-bc8d-292cad550f4d",
   "metadata": {
    "slideshow": {
     "slide_type": "subslide"
    },
    "tags": []
   },
   "outputs": [],
   "source": [
    "#include <stdio.h>\n",
    "#include <unistd.h>\n",
    "int main() {\n",
    "    int x = 10;\n",
    "    int y = 20;\n",
    "    int retval = fork();\n",
    "    if (retval == 0) {\n",
    "        y -= 5;\n",
    "    } \n",
    "    else if (retval > 0) {\n",
    "        y+= 5;\n",
    "    }\n",
    "    printf(\"x=%d y=%d\\n\", x, y);\n",
    "    return 0;\n",
    "}"
   ]
  },
  {
   "cell_type": "markdown",
   "id": "175ba9eb-0707-4d41-b698-2eb06d41ad16",
   "metadata": {
    "slideshow": {
     "slide_type": "skip"
    },
    "tags": [
     "notes-only"
    ]
   },
   "source": [
    "```\n",
    "x=10 y=25\n",
    "x=10 y=15\n",
    "```\n",
    "OR\n",
    "```\n",
    "x=10 y=15\n",
    "x=10 y=25\n",
    "```"
   ]
  }
 ],
 "metadata": {
  "kernelspec": {
   "display_name": "C",
   "language": "c",
   "name": "c"
  },
  "language_info": {
   "file_extension": ".c",
   "mimetype": "c",
   "name": "c"
  }
 },
 "nbformat": 4,
 "nbformat_minor": 5
}
