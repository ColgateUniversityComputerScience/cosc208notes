{
 "cells": [
  {
   "cell_type": "markdown",
   "id": "6fda69da-ea01-4d12-a173-840278ddfa84",
   "metadata": {
    "slideshow": {
     "slide_type": "skip"
    },
    "tags": []
   },
   "source": [
    "# Hello, Computer Systems\n",
    "_COSC 208B, Introduction to Computer Systems, 2023-01-23_"
   ]
  },
  {
   "cell_type": "markdown",
   "id": "8f1c445a-0ff2-4793-baf2-4c31fb4070ef",
   "metadata": {
    "slideshow": {
     "slide_type": "slide"
    },
    "tags": []
   },
   "source": [
    "## Announcements\n",
    "* Before next class:\n",
    "    * Complete \"Getting to know you\" questionnaire\n",
    "    * Review the syllabus\n",
    "    * Read Dive Into Systems 0.0, 1.0-1.2.1 and answer pre-class questions\n",
    "* First lab tomorrow or Wednesday"
   ]
  },
  {
   "cell_type": "markdown",
   "id": "aa2ac13f-7b03-416d-8479-319ceb637a1e",
   "metadata": {
    "slideshow": {
     "slide_type": "skip"
    },
    "tags": [
     "notes-only"
    ]
   },
   "source": [
    "## Outline\n",
    "* Getting to know each other\n",
    "* What is a computer system?\n",
    "* Syllabus highlights"
   ]
  },
  {
   "cell_type": "markdown",
   "id": "f4fa787e-dcdb-413a-8791-8f8e380be60c",
   "metadata": {
    "slideshow": {
     "slide_type": "skip"
    },
    "tags": [
     "notes-only"
    ]
   },
   "source": [
    "## Getting to know Aaron\n",
    "* My name is...Aaron Gember-Jacobson\n",
    "* Please call me...Aaron\n",
    "* My personal pronouns are...he/him\n",
    "* Something I did over winter break that I enjoyed is...building Legos.\n",
    "* Something about computer science I really enjoy is...writing programs in Python.\n",
    "* Something I want you to know about my life at Colgate is...I strive to create equitable and inclusive learning environments, because I want to counteract systems of power and privilege within the field of computer science and within Colgate.\n",
    "* Something I want you to know about my life outside of Colgate is...I live in Hamilton with my wife (Emily), kids (Henry, 7; Molly, 5), and cats (Hairy and Luna)."
   ]
  },
  {
   "cell_type": "markdown",
   "id": "964f4367-0720-432f-95d1-18660053e30d",
   "metadata": {
    "slideshow": {
     "slide_type": "skip"
    },
    "tags": [
     "worksheet-only"
    ]
   },
   "source": [
    "## Getting to know you\n",
    "*I want to learn more about you, so I can help ensure you get the most out of this class and your time at Colgate. Please respond to the following prompts. (I will not share your responses with anyone else.)*\n",
    "\n",
    "My name is...\n",
    "```\n",
    "\n",
    "```\n",
    "\n",
    "Please call me...\n",
    "```\n",
    "\n",
    "```\n",
    "\n",
    "My pronouns are...\n",
    "```\n",
    "\n",
    "```\n",
    "\n",
    "Something I did over winter break that I enjoyed was...\n",
    "```\n",
    "\n",
    "\n",
    "\n",
    "\n",
    "```\n",
    "\n",
    "Something about computer science I really enjoy is...\n",
    "```\n",
    "\n",
    "\n",
    "\n",
    "\n",
    "```\n",
    "\n",
    "Something I want you to know about my life at Colgate is...\n",
    "```\n",
    "\n",
    "\n",
    "\n",
    "\n",
    "```\n",
    "Something I want you to know about my life outside of Colgate is...\n"
   ]
  },
  {
   "cell_type": "markdown",
   "id": "e952a436-20a8-4743-9322-377403e7c927",
   "metadata": {
    "slideshow": {
     "slide_type": "skip"
    },
    "tags": [
     "notes-only"
    ]
   },
   "source": [
    "## What is a computer system?\n",
    "* _What do you think of when you hear the term \"computer systems\"?_\n",
    "* Main components of a computer system\n",
    "    * Central processing unit (CPU) — executes assembly instructions\n",
    "    * Random access memory (RAM) — stores program data (code, variables, etc.) at runtime\n",
    "    * Secondary storage devices (e.g., hard disk drive, solid state drive stores) – program data (code, documents, etc.) persistently\n",
    "    * Input/output (I/O) ports – receives user input (e.g., keyboard, mouse, audio); provides output to users (e.g., text, graphics, audio)\n",
    "    * Operating system (OS) — manages hardware resources\n",
    "* _Why is it important to learn about computer systems?_\n",
    "    * To effectively debug errors related to data representation and memory\n",
    "    * To write more efficient programs\n",
    "    * To leverage parallelism\n",
    "* Course topics\n",
    "    * C\n",
    "    * Number representation\n",
    "    * Program memory\n",
    "    * Architecture\n",
    "    * Assembly\n",
    "    * Efficiency\n",
    "    * Multiprocessing\n",
    "    * Distributed systems"
   ]
  },
  {
   "cell_type": "markdown",
   "id": "9aa61e54-8c27-4fd8-80e1-94810b90ac68",
   "metadata": {
    "slideshow": {
     "slide_type": "skip"
    },
    "tags": [
     "notes-only"
    ]
   },
   "source": [
    "## Syllabus highlights\n",
    "* Before each class, read listed textbook sections and answer pre-class questions on Moodle\n",
    "    * Use the pre-class questions to guide your reading\n",
    "    * For Wednesday: Read Dive Into Systems 0.0, 1.0-1.2.1 and answer pre-class questions\n",
    "* Class meetings: warm-up problems, working through examples, clarifying concepts, individual and small group problem solving  \n",
    "    * Everyone is expected to participate in class; it is okay to be wrong — I also do things wrong!\n",
    "* Important dates\n",
    "* Time management: start projects when they are released and work over multiple shorter sessions\n",
    "* Deadlines: I will be reasonably flexible as long as you are responsible\n",
    "* Academic honesty: I want you to succeed, and I will do everything I can to help you; violating the academic honesty expectations almost always leads to a bad experience for you and me\n",
    "* Feedback on the course is always welcome\n",
    "* Grading:\n",
    "    * Everything is graded on a scale of 0 to 4, corresponding to F to A letter grades\n",
    "    * No explit breakdown of coursework categories in the overall course grade – I will use my professional judgement\n",
    "    * Progamming projects and exams (two midterms and a final) are the most critical of your assessed work\n",
    "    * Pre-class questions, in-class activities, and DEI assignments are low-stakes activities which facilitate your learning"
   ]
  }
 ],
 "metadata": {
  "kernelspec": {
   "display_name": "C",
   "language": "c",
   "name": "c"
  },
  "language_info": {
   "file_extension": ".c",
   "mimetype": "c",
   "name": "c"
  }
 },
 "nbformat": 4,
 "nbformat_minor": 5
}
