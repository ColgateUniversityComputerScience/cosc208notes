{
 "cells": [
  {
   "cell_type": "markdown",
   "id": "39d76db8-edb9-47d5-bec8-7998805660b3",
   "metadata": {
    "slideshow": {
     "slide_type": "skip"
    },
    "tags": []
   },
   "source": [
    "# Assembly: mapping assembly code to C (continued); tracing assembly code\n",
    "_COSC 208, Introduction to Computer Systems, 2024-03-25_"
   ]
  },
  {
   "cell_type": "markdown",
   "id": "72dfe620-3491-4230-9b9c-ce9940636045",
   "metadata": {
    "slideshow": {
     "slide_type": "skip"
    },
    "tags": []
   },
   "source": [
    "## Announcements\n",
    "* Project 2 due Wednesday @ 11pm\n",
    "    * **Functionality**\n",
    "        * Satisfactory: **two or fewer minor bugs** (see examples in project instructions)\n",
    "        * Progressing: **two or fewer major bugs**\n",
    "    * **Design**\n",
    "        * Satisfactory: must adhere to **all** design criteria in the project instructions\n",
    "        * Progressing: adheres to **most, but not all,** of the design criteria\n",
    "    * **Academic Integrity**\n",
    "        * “Set[ting] an example of ethical behavior in public and in private” is one of the 13 goals of a Colgate education. As part of this goal, Colgate has an **academic honor code** you are expected to follow. Additionally, “a computing professional should uphold, promote, and respect the principles of the **Association for Computing Machinery (ACM) Code of Ethics and Professional Conduct”**.\n",
    "        * You **may not share or copy code/answers from other students.** Violations of this policy will be considered facilitating academic misconduct and/or cheating according to the academic honor code.\n",
    "        * You **must clearly indicate if any code is copied from or inspired by external sources** (e.g., Stack Overflow, ChatGPT, GitHub Copilot) and adhere to the licensing requirements of such code. Violations of this policy will be considered cheating or plagiarism according to Colgate’s academic honor code.\n",
    "        * **If you are struggling—due to a lack of understanding, time pressure, personal matters, etc.—please contact me. I want you to succeed, and I will do everything I can to help you.**"
   ]
  },
  {
   "cell_type": "markdown",
   "id": "f17866fc-fc93-480c-a9a5-d903a0657063",
   "metadata": {
    "slideshow": {
     "slide_type": "skip"
    },
    "tags": []
   },
   "source": [
    "## Outline\n",
    "* Warm-up\n",
    "* Relationship between C variables and assembly code\n",
    "* Instruction semantics\n",
    "* Tracing assembly code"
   ]
  },
  {
   "cell_type": "markdown",
   "id": "cae43cf3-a088-49f3-858e-6743a59d565d",
   "metadata": {
    "slideshow": {
     "slide_type": "slide"
    },
    "tags": []
   },
   "source": [
    "## Warm-up"
   ]
  },
  {
   "cell_type": "markdown",
   "id": "1d883728-ea7f-47f8-8de3-3c373f2c2e65",
   "metadata": {
    "tags": []
   },
   "source": [
    "* Q1: _For each line of assembly, indicate which original line of C code the assembly instruction was derived from._"
   ]
  },
  {
   "cell_type": "code",
   "execution_count": null,
   "id": "8b94b260-f1a7-4094-9564-ac16e57d273c",
   "metadata": {
    "tags": [
     "worksheet-code-only"
    ]
   },
   "outputs": [
    {
     "name": "stdout",
     "output_type": "stream",
     "text": [
      "y = 2\n"
     ]
    }
   ],
   "source": [
    "/* 1*/  #include <stdio.h>\n",
    "/* 2*/  long deref(long *p) {\n",
    "/* 3*/      long v = *p;\n",
    "/* 4*/      return v;\n",
    "/* 5*/  }\n",
    "/* 6*/  int main() {\n",
    "/* 7*/      long x = 2;\n",
    "/* 8*/      long y = deref(&x);\n",
    "/* 9*/      printf(\"y = %ld\\n\", y);\n",
    "/*10*/      return 0;\n",
    "/*11*/  }"
   ]
  },
  {
   "cell_type": "markdown",
   "id": "6ae05193-212f-488e-84e6-10c09806bc74",
   "metadata": {
    "slideshow": {
     "slide_type": "skip"
    },
    "tags": [
     "notes-only"
    ]
   },
   "source": [
    "```\n",
    "0000000000000854 <deref>:\n",
    " 854:   d10083ff    sub sp, sp, #0x20 // 2: Create stack frame \n",
    " 858:   f90007e0    str x0, [sp, #8]  // 2: Store parameter\n",
    " 85c:   f94007e0    ldr x0, [sp, #8]  // 3: Load pointer\n",
    " 860:   f9400000    ldr x0, [x0]      // 3: Dereference pointer\n",
    " 864:   f9000fe0    str x0, [sp, #24] // 3: Store variable\n",
    " 868:   f9400fe0    ldr x0, [sp, #24] // 4: Load return value\n",
    " 86c:   910083ff    add sp, sp, #0x20 // 4: Destroy stack frame\n",
    " 870:   d65f03c0    ret               // 4: Return to caller\n",
    "```"
   ]
  },
  {
   "cell_type": "markdown",
   "id": "98bec50d-8a6b-4312-b8e7-5a1108b12f92",
   "metadata": {
    "tags": [
     "worksheet-only"
    ]
   },
   "source": [
    "```\n",
    "0000000000000854 <deref>:\n",
    " 854:   d10083ff    sub sp, sp, #0x20\n",
    " 858:   f90007e0    str x0, [sp, #8]\n",
    " 85c:   f94007e0    ldr x0, [sp, #8]\n",
    " 860:   f9400000    ldr x0, [x0]\n",
    " 864:   f9000fe0    str x0, [sp, #24]\n",
    " 868:   f9400fe0    ldr x0, [sp, #24]\n",
    " 86c:   910083ff    add sp, sp, #0x20\n",
    " 870:   d65f03c0    ret\n",
    "```"
   ]
  },
  {
   "cell_type": "markdown",
   "id": "54035356-a49f-4c50-a205-d37070b82906",
   "metadata": {
    "slideshow": {
     "slide_type": "skip"
    },
    "tags": [
     "worksheet-only"
    ]
   },
   "source": [
    "🛑 **STOP here** after completing the above question; if you have extra time please **skip ahead** to the extra practice.\n",
    "\n",
    "<div style=\"page-break-after:always;\"></div>"
   ]
  },
  {
   "cell_type": "markdown",
   "id": "038a1162-388d-4ec3-b604-7b3bc06eed05",
   "metadata": {
    "slideshow": {
     "slide_type": "slide"
    },
    "tags": []
   },
   "source": [
    "## Relationship between C variables and assembly code"
   ]
  },
  {
   "cell_type": "markdown",
   "id": "64785df4-fc21-4000-a39e-858f7b34424d",
   "metadata": {
    "slideshow": {
     "slide_type": "skip"
    },
    "tags": []
   },
   "source": [
    "The following C program (`operands.c`) has been compiled into assembly:"
   ]
  },
  {
   "cell_type": "code",
   "execution_count": null,
   "id": "4d53083c-1abd-47cb-8cd0-420cf6e8cf94",
   "metadata": {
    "tags": [
     "worksheet-code-only"
    ]
   },
   "outputs": [],
   "source": [
    "int operandsA(int a) {\n",
    "    return a;\n",
    "}\n",
    "long operandsB(long b) {\n",
    "    return b;\n",
    "}\n",
    "int operandsC(int *c) {\n",
    "    return *c;\n",
    "}\n",
    "long operandsD(long *d) {\n",
    "    return *d;\n",
    "}\n",
    "int main() {\n",
    "    operandsA(5);\n",
    "    operandsB(5);\n",
    "    int x = 5;\n",
    "    operandsC(&x);\n",
    "    long y = 5;\n",
    "    operandsD(&y);\n",
    "}"
   ]
  },
  {
   "cell_type": "markdown",
   "id": "72e2f918-f3e3-4b4e-9a63-c648af75f34c",
   "metadata": {
    "slideshow": {
     "slide_type": "subslide"
    },
    "tags": []
   },
   "source": [
    "```\n",
    "00000000000007ec <operandsA>:\n",
    "    7ec:    d10043ff     sub    sp, sp, #0x10\n",
    "    7f0:    b9000fe0     str    w0, [sp, #12]\n",
    "    7f4:    b9400fe0     ldr    w0, [sp, #12]\n",
    "    7f8:    910043ff     add    sp, sp, #0x10\n",
    "    7fc:    d65f03c0     ret    \n",
    "0000000000000800 <operandsB>:\n",
    "    800:    d10043ff     sub    sp, sp, #0x10\n",
    "    804:    f90007e0     str    x0, [sp, #8]\n",
    "    808:    f94007e0     ldr    x0, [sp, #8]\n",
    "    80c:    910043ff     add    sp, sp, #0x10\n",
    "    810:    d65f03c0     ret\n",
    "0000000000000814 <operandsC>:\n",
    "    814:    d10043ff     sub    sp, sp, #0x10\n",
    "    818:    f90007e0     str    x0, [sp, #8]\n",
    "    81c:    f94007e0     ldr    x0, [sp, #8]\n",
    "    820:    b9400000     ldr    w0, [x0]\n",
    "    824:    910043ff     add    sp, sp, #0x10\n",
    "    828:    d65f03c0     ret\n",
    "000000000000082c <operandsD>:\n",
    "    82c:    d10043ff     sub    sp, sp, #0x10\n",
    "    830:    f90007e0     str    x0, [sp, #8]\n",
    "    834:    f94007e0     ldr    x0, [sp, #8]\n",
    "    838:    f9400000     ldr    x0, [x0]\n",
    "    83c:    910043ff     add    sp, sp, #0x10\n",
    "    840:    d65f03c0     ret\n",
    "```\n",
    "\n",
    "<div style=\"page-break-after:always;\"></div>"
   ]
  },
  {
   "cell_type": "markdown",
   "id": "a08e2d69-5040-451a-b582-efa5c0b47e12",
   "metadata": {
    "slideshow": {
     "slide_type": "subslide"
    },
    "tags": []
   },
   "source": [
    "* Q2: _How does the assembly code for `operandsA` and `operandsB` differ? Why?_"
   ]
  },
  {
   "cell_type": "markdown",
   "id": "6ab6756a-988d-4e40-a68d-60b387511e14",
   "metadata": {
    "slideshow": {
     "slide_type": "skip"
    },
    "tags": [
     "notes-only"
    ]
   },
   "source": [
    "* `operandsA` takes and returns an int, which is 32-bits, whereas `operandsB` takes and returns a long, which is 64-bits, so:\n",
    "    * `operandsA` uses `w0` while `operandsB` uses `x0`\n",
    "    * `operandsA` stores the parameter at `sp + 12` while `operandsB` stores the parameter at `sp + 8`"
   ]
  },
  {
   "cell_type": "markdown",
   "id": "249184bd-3f6a-447a-a5dc-6b69f6ab83c0",
   "metadata": {
    "slideshow": {
     "slide_type": "skip"
    },
    "tags": [
     "worksheet-only"
    ]
   },
   "source": [
    "<p style=\"height:6em;\"></p>"
   ]
  },
  {
   "cell_type": "markdown",
   "id": "c9ac515b-c7ee-49f6-af43-3af78754aee4",
   "metadata": {},
   "source": [
    "* Q3: _How does the assembly code for `operandsB` and `operandsD` differ? Why?_"
   ]
  },
  {
   "cell_type": "markdown",
   "id": "68616dcc-d3f0-4954-ab57-e1fbbe298ed1",
   "metadata": {
    "slideshow": {
     "slide_type": "skip"
    },
    "tags": [
     "notes-only"
    ]
   },
   "source": [
    "* `operandsB` takes and returns a long, whereas `operandsD` takes a pointer to a long and returns a long, so:\n",
    "    * `operandsD` must deference the pointer (`ldr x0, [x0]`) before returning "
   ]
  },
  {
   "cell_type": "markdown",
   "id": "3baee88a-82de-4561-ac9f-a4487a453abd",
   "metadata": {
    "slideshow": {
     "slide_type": "skip"
    },
    "tags": [
     "worksheet-only"
    ]
   },
   "source": [
    "<p style=\"height:6em;\"></p>"
   ]
  },
  {
   "cell_type": "markdown",
   "id": "4403a894-b02b-4ac5-85e2-5f38fd4d59b2",
   "metadata": {},
   "source": [
    "* Q4: _How does the assembly code for `operandsC` and `operandsD` differ? Why?_"
   ]
  },
  {
   "cell_type": "markdown",
   "id": "bf762be5-23e7-46f1-91af-4826e48284dd",
   "metadata": {
    "slideshow": {
     "slide_type": "skip"
    },
    "tags": [
     "notes-only"
    ]
   },
   "source": [
    "* `operandsC` takes a pointer to an int and returns and int, whereas `operandsD` takes a pointer to a long and returns a long\n",
    "* both take a memory address (a 64-bit value), which is initially in `x0` and stored at `sp + 8`\n",
    "* the dereference of the pointer is a 32-bit value in `operandsC` and a 64-bit value in `operandsD`, so the value is loaded into `w0` in `operandsC` and `x0` in `operandsD`"
   ]
  },
  {
   "cell_type": "markdown",
   "id": "d1c804c7-c3da-47f4-a543-b73ca3e98409",
   "metadata": {
    "slideshow": {
     "slide_type": "skip"
    },
    "tags": [
     "worksheet-only"
    ]
   },
   "source": [
    "<p style=\"height:6em;\"></p>\n",
    "\n",
    "🛑 **STOP here** after completing the above question; if you have extra time please **skip ahead** to the extra practice."
   ]
  },
  {
   "cell_type": "markdown",
   "id": "27c50525-fae4-4d84-b226-11d1fb5b3a0f",
   "metadata": {
    "slideshow": {
     "slide_type": "slide"
    },
    "tags": []
   },
   "source": [
    "## Instruction semantics"
   ]
  },
  {
   "cell_type": "markdown",
   "id": "8651d8d1-5b51-4242-88d3-629be454f04c",
   "metadata": {},
   "source": [
    "_Use the provided ARM64 reference sheet to answer the following questions._\n",
    "* Q5: _What is the difference between a `neg` instruction and a `mvn` instruction?_"
   ]
  },
  {
   "cell_type": "markdown",
   "id": "0ef89bf7-3659-4bdf-b610-482b30ea07b6",
   "metadata": {
    "slideshow": {
     "slide_type": "skip"
    },
    "tags": [
     "notes-only"
    ]
   },
   "source": [
    "    neg negates a number, whereas mvn performs a bitwise not"
   ]
  },
  {
   "cell_type": "markdown",
   "id": "96b26f12-2489-48e5-8dd8-e5b02f0c74a4",
   "metadata": {
    "slideshow": {
     "slide_type": "skip"
    },
    "tags": [
     "worksheet-only"
    ]
   },
   "source": [
    "<div style=\"height:6em;\"></div>"
   ]
  },
  {
   "cell_type": "markdown",
   "id": "d8fae016-917c-4d4f-a129-278027c79a41",
   "metadata": {},
   "source": [
    "* Q6: _What is the difference between an `orr` instruction and a `eor` instruction?_"
   ]
  },
  {
   "cell_type": "markdown",
   "id": "ad8ef9f0-8f62-4c9a-9d40-806c6d8b6f64",
   "metadata": {
    "slideshow": {
     "slide_type": "skip"
    },
    "tags": [
     "notes-only"
    ]
   },
   "source": [
    "    orr performs a bitwise or, whereas eor performs a bitwise xor"
   ]
  },
  {
   "cell_type": "markdown",
   "id": "ac0c6661-9226-4b75-9812-017c6a6196a9",
   "metadata": {
    "slideshow": {
     "slide_type": "skip"
    },
    "tags": [
     "worksheet-only"
    ]
   },
   "source": [
    "<div style=\"height:6em;\"></div>"
   ]
  },
  {
   "cell_type": "markdown",
   "id": "175626ad-0e95-4f26-a653-b4a651423736",
   "metadata": {},
   "source": [
    "* Q7: _What is the difference between a `lsr` instruction and a `ldr` instruction?_"
   ]
  },
  {
   "cell_type": "markdown",
   "id": "b09ed08f-40ee-409e-92d4-b3fa82356a60",
   "metadata": {
    "slideshow": {
     "slide_type": "skip"
    },
    "tags": [
     "notes-only"
    ]
   },
   "source": [
    "    lsr performs a right shift, whereas ldr copies a value from memory into a register"
   ]
  },
  {
   "cell_type": "markdown",
   "id": "fdbd7cfe-de86-411c-bd13-5fb3714ff341",
   "metadata": {
    "slideshow": {
     "slide_type": "skip"
    },
    "tags": [
     "worksheet-only"
    ]
   },
   "source": [
    "<div style=\"height:6em;\"></div>"
   ]
  },
  {
   "cell_type": "markdown",
   "id": "2c40b7a7-3d60-493a-a284-77cf3804e465",
   "metadata": {},
   "source": [
    "* Q8: _What is the difference between a `add` instruction and a `and` instruction?_"
   ]
  },
  {
   "cell_type": "markdown",
   "id": "2690bf84-4726-4bdb-b406-76d3ca5f43fc",
   "metadata": {
    "slideshow": {
     "slide_type": "skip"
    },
    "tags": [
     "notes-only"
    ]
   },
   "source": [
    "    add performs addition, whereas and performs bitwise and"
   ]
  },
  {
   "cell_type": "markdown",
   "id": "dbad13e1-4004-4b2d-ba3b-2f1ff41d19dc",
   "metadata": {
    "slideshow": {
     "slide_type": "skip"
    },
    "tags": [
     "worksheet-only"
    ]
   },
   "source": [
    "<div style=\"height:6em;\"></div>\n",
    "\n",
    "🛑 **STOP here** after completing the above question; if you have extra time please **skip ahead** to the extra practice.\n",
    "\n",
    "<div style=\"page-break-after:always;\"></div>"
   ]
  },
  {
   "cell_type": "markdown",
   "id": "fdea95fc-0ba5-41a4-b3c1-8cf97cfae836",
   "metadata": {
    "slideshow": {
     "slide_type": "slide"
    },
    "tags": [
     "notes-only"
    ]
   },
   "source": [
    "## Tracing assembly code example"
   ]
  },
  {
   "cell_type": "markdown",
   "id": "b4405487-e85e-47ce-ba00-fdbb5ecfc841",
   "metadata": {
    "tags": [
     "notes-only"
    ]
   },
   "source": [
    "* Example"
   ]
  },
  {
   "cell_type": "markdown",
   "id": "75cf129e-37b7-47c4-989e-73444e92ba2a",
   "metadata": {
    "tags": [
     "notes-only"
    ]
   },
   "source": [
    "```\n",
    "0000000000000854 <deref>:\n",
    " 854:   d10083ff    sub sp, sp, #0x20\n",
    " 858:   f90007e0    str x0, [sp, #8]\n",
    " 85c:   f94007e0    ldr x0, [sp, #8]\n",
    " 860:   f9400000    ldr x0, [x0]\n",
    " 864:   f9000fe0    str x0, [sp, #24]\n",
    " 868:   f9400fe0    ldr x0, [sp, #24]\n",
    " 86c:   910083ff    add sp, sp, #0x20\n",
    " 870:   d65f03c0    ret\n",
    "```"
   ]
  },
  {
   "cell_type": "markdown",
   "id": "a0d7f888-bdce-462e-8067-b48d77fb0fe0",
   "metadata": {
    "slideshow": {
     "slide_type": "skip"
    },
    "tags": [
     "notes-only"
    ]
   },
   "source": [
    "* Contents of the stack and registers when the `deref` function (from the warm-up) starts executing\n",
    "    ```\n",
    "    pc = 0x854\n",
    "    sp = 0xFB0\n",
    "    w/x0 = 0xFB8\n",
    "    ```\n",
    "    ```\n",
    "     sp -> +--+--+--+--+--+--+--+--+\n",
    "     0xFB0 |                       |\n",
    "           +--+--+--+--+--+--+--+--+\n",
    "     0xFB8 |           2           |\n",
    "           +--+--+--+--+--+--+--+--+\n",
    "     0xFC0 |         0x770         |\n",
    "           +--+--+--+--+--+--+--+--+\n",
    "     0xFC8 |                       |\n",
    "           +--+--+--+--+--+--+--+--+\n",
    "    ```"
   ]
  },
  {
   "cell_type": "markdown",
   "id": "813d665a-69d1-441d-96d8-a9a60f330252",
   "metadata": {
    "slideshow": {
     "slide_type": "skip"
    },
    "tags": [
     "notes-only"
    ]
   },
   "source": [
    "* Contents of the stack and registers *before* executing the second-to-last assembly instruction (`add sp, sp, #0x20`)\n",
    "    ```\n",
    "    pc = 0x86c\n",
    "    sp = 0xF90\n",
    "    w/x0 = 2\n",
    "    ```\n",
    "    ```\n",
    "           0  1  2  3  4  5  6  7  8\n",
    "     sp -> +--+--+--+--+--+--+--+--+\n",
    "     0xF90 |                       |\n",
    "           +--+--+--+--+--+--+--+--+\n",
    "     0xF98 |         0xFB8         |\n",
    "           +--+--+--+--+--+--+--+--+\n",
    "     0xFA0 |           2           |\n",
    "           +--+--+--+--+--+--+--+--+\n",
    "     0xFA8 |                       |\n",
    "           +--+--+--+--+--+--+--+--+\n",
    "     0xFB0 |                       |\n",
    "           +--+--+--+--+--+--+--+--+\n",
    "     0xFB8 |           2           |\n",
    "           +--+--+--+--+--+--+--+--+\n",
    "     0xFC0 |         0x770         |\n",
    "           +--+--+--+--+--+--+--+--+\n",
    "     0xFC8 |                       |\n",
    "           +--+--+--+--+--+--+--+--+\n",
    "    ```"
   ]
  },
  {
   "cell_type": "markdown",
   "id": "a82d425b-2220-4a29-9e28-64dbb110b731",
   "metadata": {
    "slideshow": {
     "slide_type": "slide"
    },
    "tags": []
   },
   "source": [
    "## Extra practice"
   ]
  },
  {
   "cell_type": "markdown",
   "id": "23706007-7eb9-4b61-9556-6d2cea8af7a1",
   "metadata": {
    "slideshow": {
     "slide_type": "skip"
    },
    "tags": []
   },
   "source": [
    "* Q9: _For each line of assembly, indicate which original line of C code the assembly instruction was derived from._"
   ]
  },
  {
   "cell_type": "code",
   "execution_count": null,
   "id": "14c25b85-2a05-4450-891b-7a08cefe2a96",
   "metadata": {
    "tags": [
     "worksheet-code-only"
    ]
   },
   "outputs": [],
   "source": [
    "/*1*/  int sum(int a, int *b) {\n",
    "/*2*/     int c = *b;\n",
    "/*3*/     int d = a + c;\n",
    "/*4*/     return d;\n",
    "/*5*/  }"
   ]
  },
  {
   "cell_type": "markdown",
   "id": "06ef75dd-58c8-4b8c-8447-89c50b10a570",
   "metadata": {
    "slideshow": {
     "slide_type": "skip"
    },
    "tags": [
     "notes-only"
    ]
   },
   "source": [
    "```\n",
    "0000000000000584 <sum>:\n",
    "  584:    d10083ff     sub sp, sp, #0x20   // 1\n",
    "  588:    b9001fe0     str w0, [sp, #28]   // 1\n",
    "  58c:    f9000be1     str x1, [sp, #16]   // 1\n",
    "  590:    f9400be8     ldr x8, [sp, #16]   // 2\n",
    "  594:    b9400109     ldr w9, [x8]        // 2\n",
    "  598:    b9000fe9     str w9, [sp, #12]   // 2\n",
    "  59c:    b9401fe9     ldr w9, [sp, #28]   // 3\n",
    "  5a0:    b9400fea     ldr w10, [sp, #12]  // 3\n",
    "  5a4:    0b0a0129     add w9, w9, w10     // 3\n",
    "  5a8:    b9000be9     str w9, [sp, #8]    // 3\n",
    "  5ac:    b9400be0     ldr w0, [sp, #8]    // 4\n",
    "  5b0:    910083ff     add sp, sp, #0x20   // 4\n",
    "  5b4:    d65f03c0     ret                 // 4\n",
    "```"
   ]
  },
  {
   "cell_type": "markdown",
   "id": "87684782-3d5d-4833-88cc-957a7c22f283",
   "metadata": {
    "tags": [
     "worksheet-only"
    ]
   },
   "source": [
    "```\n",
    "0000000000000584 <sum>:\n",
    "  584:    d10083ff     sub sp, sp, #0x20\n",
    "  588:    b9001fe0     str w0, [sp, #28]\n",
    "  58c:    f9000be1     str x1, [sp, #16]\n",
    "  590:    f9400be8     ldr x8, [sp, #16]\n",
    "  594:    b9400109     ldr w9, [x8]\n",
    "  598:    b9000fe9     str w9, [sp, #12]\n",
    "  59c:    b9401fe9     ldr w9, [sp, #28]\n",
    "  5a0:    b9400fea     ldr w10, [sp, #12]\n",
    "  5a4:    0b0a0129     add w9, w9, w10\n",
    "  5a8:    b9000be9     str w9, [sp, #8]\n",
    "  5ac:    b9400be0     ldr w0, [sp, #8]\n",
    "  5b0:    910083ff     add sp, sp, #0x20\n",
    "  5b4:    d65f03c0     ret\n",
    "```"
   ]
  }
 ],
 "metadata": {
  "kernelspec": {
   "display_name": "C",
   "language": "c",
   "name": "c"
  },
  "language_info": {
   "file_extension": ".c",
   "mimetype": "c",
   "name": "c"
  }
 },
 "nbformat": 4,
 "nbformat_minor": 5
}
