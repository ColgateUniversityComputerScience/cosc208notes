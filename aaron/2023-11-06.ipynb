{
 "cells": [
  {
   "cell_type": "markdown",
   "id": "ffc437ac-d10b-4d12-895d-712e9c2057b5",
   "metadata": {
    "slideshow": {
     "slide_type": "skip"
    },
    "tags": []
   },
   "source": [
    "# Multiprocessing: wait & exec\n",
    "_COSC 208, Introduction to Computer Systems, 2023-11-06_"
   ]
  },
  {
   "cell_type": "markdown",
   "id": "3a128151-3aa7-467d-9cab-5bda40b8473c",
   "metadata": {
    "slideshow": {
     "slide_type": "skip"
    },
    "tags": []
   },
   "source": [
    "## Announcements\n",
    "* Project 3 due Thursday @ 11pm"
   ]
  },
  {
   "cell_type": "markdown",
   "id": "377e6d68-2202-4782-afc7-a43582630f55",
   "metadata": {
    "slideshow": {
     "slide_type": "skip"
    },
    "tags": []
   },
   "source": [
    "## Outline\n",
    "* Warm-up: fork\n",
    "* Waiting for processes\n",
    "* Running a different program\n",
    "* Midterm Exam 2 Standard 5.2 retake"
   ]
  },
  {
   "cell_type": "markdown",
   "id": "12012bfd-a4f4-4e7f-9d4b-3275ef92160b",
   "metadata": {},
   "source": [
    "## Warm-up: fork (Q7 from last class)"
   ]
  },
  {
   "cell_type": "markdown",
   "id": "a4d62a45-c62d-4510-a785-bf92968debc6",
   "metadata": {
    "slideshow": {
     "slide_type": "subslide"
    },
    "tags": []
   },
   "source": [
    "* Q1: _What does the following code output (assuming the new process has PID 1819)?_"
   ]
  },
  {
   "cell_type": "code",
   "execution_count": 3,
   "id": "4b568a2a-c8dd-4802-a8d8-ab3892b4d87a",
   "metadata": {
    "tags": [
     "worksheet-code-only"
    ]
   },
   "outputs": [
    {
     "name": "stdout",
     "output_type": "stream",
     "text": [
      "Before fork\n",
      "Parent gets 2976\n",
      "Child gets 0\n"
     ]
    }
   ],
   "source": [
    "#include <stdio.h>\n",
    "#include <unistd.h>    \n",
    "int main(int argc, char **argv) {\n",
    "    printf(\"Before fork\\n\");\n",
    "    int pid = fork();\n",
    "    if (pid < 0) {\n",
    "        printf(\"Fork failed\\n\");\n",
    "        return 1;\n",
    "    } else if (pid == 0) {\n",
    "        printf(\"Child gets %d\\n\", pid);\n",
    "    } else {\n",
    "        printf(\"Parent gets %d\\n\", pid);\n",
    "    }\n",
    "    return 0;\n",
    "}"
   ]
  },
  {
   "cell_type": "markdown",
   "id": "b9bb43be-7a01-42f7-ae89-cd7b03bc7822",
   "metadata": {
    "slideshow": {
     "slide_type": "skip"
    },
    "tags": [
     "notes-only"
    ]
   },
   "source": [
    "```\n",
    "Before fork\n",
    "Child gets 0\n",
    "Parent gets 1819\n",
    "```\n",
    "OR\n",
    "```\n",
    "Before fork\n",
    "Parent gets 1819\n",
    "Child gets 0\n",
    "``` "
   ]
  },
  {
   "cell_type": "markdown",
   "id": "c4103de4-b417-4b0f-bb37-bac74de9a772",
   "metadata": {
    "slideshow": {
     "slide_type": "skip"
    },
    "tags": [
     "worksheet-only"
    ]
   },
   "source": [
    "<div style=\"height:15em;\"></div>\n",
    "\n",
    "🛑 **STOP here** after completing the above question; if you have extra time please **skip ahead** to the extra practice.\n",
    "\n",
    "<div style=\"page-break-after:always;\"></div>"
   ]
  },
  {
   "cell_type": "markdown",
   "id": "177d7b56-26ce-4023-8010-92c448961bbf",
   "metadata": {
    "slideshow": {
     "slide_type": "slide"
    },
    "tags": []
   },
   "source": [
    "## Waiting for processes"
   ]
  },
  {
   "cell_type": "markdown",
   "id": "14ab688a-b402-42ca-b066-edfbfd1ef0b4",
   "metadata": {
    "slideshow": {
     "slide_type": "skip"
    },
    "tags": [
     "notes-only"
    ]
   },
   "source": [
    "* Wait for any child to finish — `int wait(int *status)`\n",
    "    * Returns PID of the child process that finished\n",
    "    * `status` parameter is optional\n",
    "        * if passed a valid integer pointer, `wait` will store the return value of the child process's `main` function at the referenced memory location\n",
    "        * if return value of child process's main function is not needed, then pass `NULL`\n",
    "* Wait for a specific process to finish — `int waitpid(pid_t pid, int *status, int options)`\n",
    "    * Returns PID of the process that finished\n",
    "    * `pid` is PID if process to wait for — need not be a child process\n",
    "    * `status` is the same as `wait`\n",
    "    * `options` is typically `0`, except in special circumstances\n",
    "* Wait functions do not return until child or specific process, respectively, finishes"
   ]
  },
  {
   "cell_type": "markdown",
   "id": "f713c07f-e5f6-44b2-91ad-ff0059d63f59",
   "metadata": {
    "tags": []
   },
   "source": [
    "* Q2: _What are all possible outputs of this program?_"
   ]
  },
  {
   "cell_type": "code",
   "execution_count": 1,
   "id": "cb2a09b4-fd2d-4838-be6c-361a49ea6a2a",
   "metadata": {
    "tags": [
     "worksheet-code-only"
    ]
   },
   "outputs": [
    {
     "name": "stdout",
     "output_type": "stream",
     "text": [
      "Child\n",
      "Parent\n"
     ]
    }
   ],
   "source": [
    "#include <stdio.h>\n",
    "#include <unistd.h>\n",
    "int main() {\n",
    "    int pid = fork();\n",
    "    if (pid == 0) {\n",
    "        printf(\"Child\\n\");\n",
    "    } else {\n",
    "        wait(NULL);\n",
    "        printf(\"Parent\\n\");\n",
    "    }\n",
    "    return 0;\n",
    "}"
   ]
  },
  {
   "cell_type": "markdown",
   "id": "c4277981-f469-49a4-8d29-7174cb3abab0",
   "metadata": {
    "slideshow": {
     "slide_type": "skip"
    },
    "tags": [
     "worksheet-only"
    ]
   },
   "source": [
    "<div style=\"height:10em;\"></div>"
   ]
  },
  {
   "cell_type": "markdown",
   "id": "9a49b884-c249-4d55-901c-99e4a5766b83",
   "metadata": {
    "slideshow": {
     "slide_type": "subslide"
    },
    "tags": []
   },
   "source": [
    "* Q3: _What are all possible outputs of this program (assuming the new process has PID 13346)?_"
   ]
  },
  {
   "cell_type": "code",
   "execution_count": null,
   "id": "4ede3e4f-c728-47df-b86c-ba34ad975c22",
   "metadata": {},
   "outputs": [],
   "source": [
    "#include <stdio.h>\n",
    "#include <unistd.h>\n",
    "int main() {\n",
    "    int pid = fork();\n",
    "    printf(\"A %d\\n\", pid);\n",
    "    if (pid == 0) {\n",
    "        printf(\"B\\n\");\n",
    "    } else {\n",
    "        wait(NULL);\n",
    "        printf(\"C\\n\");\n",
    "    }\n",
    "}"
   ]
  },
  {
   "cell_type": "markdown",
   "id": "563f4a68-a50b-416e-bc3d-3eb7965ec2f8",
   "metadata": {
    "slideshow": {
     "slide_type": "skip"
    },
    "tags": [
     "notes-only"
    ]
   },
   "source": [
    "```\n",
    "A 0\n",
    "A 13346\n",
    "B\n",
    "C\n",
    "```\n",
    "OR\n",
    "```\n",
    "A 13346\n",
    "A 0\n",
    "B\n",
    "C\n",
    "```\n",
    "OR\n",
    "```\n",
    "A 0\n",
    "B\n",
    "A 13346\n",
    "C\n",
    "```"
   ]
  },
  {
   "cell_type": "markdown",
   "id": "25386d04-8639-4cf5-9d82-a7c66b6f2f98",
   "metadata": {
    "slideshow": {
     "slide_type": "skip"
    },
    "tags": [
     "worksheet-only"
    ]
   },
   "source": [
    "<div style=\"height:15em;\"></div>\n",
    "\n",
    "🛑 **STOP here** after completing the above question; if you have extra time please **skip ahead** to the extra practice.\n",
    "\n",
    "<div style=\"page-break-after:always;\"></div>"
   ]
  },
  {
   "cell_type": "markdown",
   "id": "e875f316-7b38-4d9e-96c1-825b800f873b",
   "metadata": {
    "slideshow": {
     "slide_type": "slide"
    },
    "tags": []
   },
   "source": [
    "## Running a different program"
   ]
  },
  {
   "cell_type": "markdown",
   "id": "c4f48afa-d724-40d8-8d9a-4cb18bb20749",
   "metadata": {},
   "source": [
    "* Example program"
   ]
  },
  {
   "cell_type": "code",
   "execution_count": 5,
   "id": "d230b252-4fe9-42e5-b601-9ef2ab7cbf64",
   "metadata": {
    "tags": [
     "worksheet-code-only"
    ]
   },
   "outputs": [
    {
     "name": "stdout",
     "output_type": "stream",
     "text": [
      "Begin\n",
      "Parent\n",
      "End\n",
      "Child\n",
      "Sun Nov  5 20:18:17 EST 2023\n"
     ]
    }
   ],
   "source": [
    "#include <stdio.h>\n",
    "#include <unistd.h>\n",
    "int main(int argc, char **argv) {\n",
    "    printf(\"Begin\\n\");\n",
    "    int pid = fork();\n",
    "    if (pid == 0) {\n",
    "        printf(\"Child\\n\");\n",
    "        char *cmd[] = { \"/bin/date\", NULL };\n",
    "        execv(cmd[0], cmd);\n",
    "    } else {\n",
    "        printf(\"Parent\\n\");\n",
    "    }\n",
    "    printf(\"End\\n\");\n",
    "    return 0;\n",
    "}"
   ]
  },
  {
   "cell_type": "markdown",
   "id": "937d247e-dda8-4000-bbdf-67bf3e69f2c7",
   "metadata": {
    "slideshow": {
     "slide_type": "subslide"
    },
    "tags": []
   },
   "source": [
    "* Q4: _What is the output produced by running `./progA`, assuming no errors occur?_"
   ]
  },
  {
   "cell_type": "code",
   "execution_count": null,
   "id": "f55a39c0-0a55-4c1b-a5df-300331062f4e",
   "metadata": {},
   "outputs": [],
   "source": [
    "/** progA **/\n",
    "#include <stdio.h>\n",
    "#include <unistd.h>\n",
    "int main() {\n",
    "    pid_t a = fork();\n",
    "    if (a == 0) {\n",
    "        char *cmd[] = { \"./progB\", NULL };\n",
    "        execv(cmd[0], cmd);\n",
    "        printf(\"A 2nd gen\\n\");\n",
    "        return 0;\n",
    "    } else {\n",
    "        wait(NULL);\n",
    "        printf(\"A 1st gen\\n\");\n",
    "        return 0;\n",
    "    }\n",
    "}"
   ]
  },
  {
   "cell_type": "code",
   "execution_count": null,
   "id": "d66bf910-2bed-48c8-b772-7f20c3cc8e06",
   "metadata": {},
   "outputs": [],
   "source": [
    "/** progB **/\n",
    "#include <stdio.h>\n",
    "#include <unistd.h>\n",
    "int main() {\n",
    "    pid_t b = fork();\n",
    "    if (b == 0) {\n",
    "        printf(\"B 2nd gen\\n\");\n",
    "        return 0;\n",
    "    } else {\n",
    "        wait(NULL);\n",
    "        printf(\"B 1st gen\\n\");\n",
    "        return 0;\n",
    "    }\n",
    "}"
   ]
  },
  {
   "cell_type": "markdown",
   "id": "12d43b8f-2202-4613-9a28-fc453159276f",
   "metadata": {
    "slideshow": {
     "slide_type": "skip"
    },
    "tags": [
     "notes-only"
    ]
   },
   "source": [
    "_Postponed to next class_"
   ]
  },
  {
   "cell_type": "markdown",
   "id": "fac69205-5d8c-45ed-8602-77ab4ac85514",
   "metadata": {
    "slideshow": {
     "slide_type": "skip"
    },
    "tags": [
     "worksheet-only"
    ]
   },
   "source": [
    "<div style=\"page-break-after:always;\"></div>"
   ]
  },
  {
   "cell_type": "markdown",
   "id": "b37ca661-12e2-4cd8-b765-8f23c6925f1d",
   "metadata": {
    "slideshow": {
     "slide_type": "slide"
    },
    "tags": []
   },
   "source": [
    "## Extra practice"
   ]
  },
  {
   "cell_type": "markdown",
   "id": "8b64d86a-7939-4110-80ec-e73cb4faab07",
   "metadata": {},
   "source": [
    "* Q5: _What does the following code output?_"
   ]
  },
  {
   "cell_type": "code",
   "execution_count": null,
   "id": "ffd1fd64-903c-4729-bc8d-292cad550f4d",
   "metadata": {
    "tags": [
     "worksheet-code-only"
    ]
   },
   "outputs": [],
   "source": [
    "#include <stdio.h>\n",
    "#include <unistd.h>\n",
    "int main() {\n",
    "    int x = 10;\n",
    "    int y = 20;\n",
    "    int retval = fork();\n",
    "    if (retval == 0) {\n",
    "        y -= 5;\n",
    "    } else {\n",
    "        y+= 5;\n",
    "    }\n",
    "    printf(\"x=%d y=%d\\n\", x, y);\n",
    "    return 0;\n",
    "}"
   ]
  },
  {
   "cell_type": "markdown",
   "id": "fb4bee59-0bfd-4437-bdeb-e7fb203127ca",
   "metadata": {
    "slideshow": {
     "slide_type": "skip"
    },
    "tags": [
     "notes-only"
    ]
   },
   "source": [
    "```\n",
    "x=10 y=25\n",
    "x=10 y=15\n",
    "```\n",
    "OR\n",
    "```\n",
    "x=10 y=15\n",
    "x=10 y=25\n",
    "```"
   ]
  }
 ],
 "metadata": {
  "kernelspec": {
   "display_name": "C",
   "language": "c",
   "name": "c"
  },
  "language_info": {
   "file_extension": ".c",
   "mimetype": "c",
   "name": "c"
  }
 },
 "nbformat": 4,
 "nbformat_minor": 5
}
