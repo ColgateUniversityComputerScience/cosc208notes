{
 "cells": [
  {
   "cell_type": "markdown",
   "id": "8965ede3-0a2b-41e1-893c-26890dc13d7d",
   "metadata": {
    "slideshow": {
     "slide_type": "skip"
    },
    "tags": []
   },
   "source": [
    "# Review: Exam 1\n",
    "_COSC 208, Introduction to Computer Systems, 2023-02-17_"
   ]
  },
  {
   "cell_type": "markdown",
   "id": "c52570c8-2f99-4e4b-a6f4-ee34e4a6090a",
   "metadata": {
    "slideshow": {
     "slide_type": "skip"
    },
    "tags": []
   },
   "source": [
    "## Announcements\n",
    "* Exam 1\n",
    "    * Study guide posted on Moodle\n",
    "    * Take-home portion: due at the beginning of class on Monday\n",
    "    * In-class portion: during class on Monday"
   ]
  },
  {
   "cell_type": "markdown",
   "id": "3b7e0d2d-2263-442c-b8a9-ac4357986ae5",
   "metadata": {
    "slideshow": {
     "slide_type": "skip"
    },
    "tags": []
   },
   "source": [
    "## No warm-up — happy Friday!"
   ]
  },
  {
   "cell_type": "markdown",
   "id": "a84148cc-188a-4d65-9a0f-8624a10453fa",
   "metadata": {
    "tags": []
   },
   "source": [
    "## Binary arithmetic\n",
    "_Perform the following calculations. Operands are encoded using two's complement encoding with 6 bits. For each calculation, express the result in binary and decimal, and indicate whether the result overflows, underflows, or neither._\n",
    "* Q1: `0b110000 + 0b111111`"
   ]
  },
  {
   "cell_type": "markdown",
   "id": "2db0cca7-0636-4d70-8aac-d3f1c072ffe3",
   "metadata": {
    "slideshow": {
     "slide_type": "skip"
    },
    "tags": [
     "notes-only"
    ]
   },
   "source": [
    "    0b101111 = -17; neither"
   ]
  },
  {
   "cell_type": "markdown",
   "id": "d36a4aaa-1f14-4136-b1cd-2463e6a51e54",
   "metadata": {
    "slideshow": {
     "slide_type": "skip"
    },
    "tags": [
     "worksheet-only"
    ]
   },
   "source": [
    "<p style=\"height:6em;\"></p>"
   ]
  },
  {
   "cell_type": "markdown",
   "id": "ff220ef8-db45-4b74-89b7-366752222727",
   "metadata": {
    "tags": []
   },
   "source": [
    "* Q2: `0b001111 + 0b000001`"
   ]
  },
  {
   "cell_type": "markdown",
   "id": "e90ff3a0-040f-49c6-bed2-07a5aba40b1b",
   "metadata": {
    "slideshow": {
     "slide_type": "skip"
    },
    "tags": [
     "notes-only"
    ]
   },
   "source": [
    "     0b010000 = 16; neither"
   ]
  },
  {
   "cell_type": "markdown",
   "id": "b034829f-341c-4d44-8dcb-6aaf13b7db85",
   "metadata": {
    "slideshow": {
     "slide_type": "skip"
    },
    "tags": [
     "worksheet-only"
    ]
   },
   "source": [
    "<p style=\"height:6em;\"></p>"
   ]
  },
  {
   "cell_type": "markdown",
   "id": "d4b57709-6f93-4fad-90e2-11d3fca34568",
   "metadata": {
    "tags": []
   },
   "source": [
    "* Q3: `0b101010 + 0b100100`"
   ]
  },
  {
   "cell_type": "markdown",
   "id": "a7260d71-daed-491f-a5e4-fdbad2dff41b",
   "metadata": {
    "slideshow": {
     "slide_type": "skip"
    },
    "tags": [
     "notes-only"
    ]
   },
   "source": [
    "    0b001110 = 14; underflow"
   ]
  },
  {
   "cell_type": "markdown",
   "id": "b586fa4b-130a-482b-b74f-2f7bde4e5f4b",
   "metadata": {
    "slideshow": {
     "slide_type": "skip"
    },
    "tags": [
     "worksheet-only"
    ]
   },
   "source": [
    "<p style=\"height:6em;\"></p>"
   ]
  },
  {
   "cell_type": "markdown",
   "id": "2eec1be4-7299-4566-8f93-c96afc05d092",
   "metadata": {
    "tags": []
   },
   "source": [
    "* Q4: `0b001000 + 0b011000`"
   ]
  },
  {
   "cell_type": "markdown",
   "id": "5871dd8c-a6b0-4583-92f4-6afd7c2d74ce",
   "metadata": {
    "slideshow": {
     "slide_type": "skip"
    },
    "tags": [
     "notes-only"
    ]
   },
   "source": [
    "    0b100000 = -32; overflow"
   ]
  },
  {
   "cell_type": "markdown",
   "id": "e6057449-f0dd-473f-9128-d6b8d9b3e89d",
   "metadata": {
    "slideshow": {
     "slide_type": "skip"
    },
    "tags": [
     "worksheet-only"
    ]
   },
   "source": [
    "<p style=\"height:6em;\"></p>"
   ]
  },
  {
   "cell_type": "markdown",
   "id": "207a72d4-8a00-4dc0-9dee-cb97598f761b",
   "metadata": {
    "tags": []
   },
   "source": [
    "* Q5: `0b110000 + 0b010000`"
   ]
  },
  {
   "cell_type": "markdown",
   "id": "79096da8-a109-45ce-820a-d358804f9ebc",
   "metadata": {
    "slideshow": {
     "slide_type": "skip"
    },
    "tags": [
     "notes-only"
    ]
   },
   "source": [
    "    0b000000 = 0; neither"
   ]
  },
  {
   "cell_type": "markdown",
   "id": "957297b5-7c63-4666-ae22-1496f065f2ad",
   "metadata": {
    "slideshow": {
     "slide_type": "skip"
    },
    "tags": [
     "worksheet-only"
    ]
   },
   "source": [
    "<p style=\"height:6em;\"></p>"
   ]
  },
  {
   "cell_type": "markdown",
   "id": "37879694-04d6-46cb-8483-60ed4828b916",
   "metadata": {
    "slideshow": {
     "slide_type": "slide"
    },
    "tags": []
   },
   "source": [
    "## Number representation\n",
    "_Express your answers to the following questions in terms of `n`: e.g., `n/2`._\n",
    "* Q6: _What is the minimum number of bits required to express the unsigned decimal number **2<sup>n</sup> - 1**?_"
   ]
  },
  {
   "cell_type": "markdown",
   "id": "bd7fc97c-0104-4308-ba50-f0fd91e2a70e",
   "metadata": {
    "slideshow": {
     "slide_type": "skip"
    },
    "tags": [
     "notes-only"
    ]
   },
   "source": [
    "    n"
   ]
  },
  {
   "cell_type": "markdown",
   "id": "3e619b29-e869-4622-b246-89736604f863",
   "metadata": {
    "slideshow": {
     "slide_type": "skip"
    },
    "tags": [
     "worksheet-only"
    ]
   },
   "source": [
    "<p style=\"height:2em;\"></p>"
   ]
  },
  {
   "cell_type": "markdown",
   "id": "271fdc22-556e-43fb-bc1f-5c3969cc630e",
   "metadata": {
    "jp-MarkdownHeadingCollapsed": true,
    "tags": []
   },
   "source": [
    "* Q7: _What is the minimum number of bits required to express the signed decimal number **2<sup>n</sup> − 1** using two’s complement?_"
   ]
  },
  {
   "cell_type": "markdown",
   "id": "086daf6a-e86c-4b96-be12-bd4f310fccd3",
   "metadata": {
    "slideshow": {
     "slide_type": "skip"
    },
    "tags": [
     "notes-only"
    ]
   },
   "source": [
    "    n + 1"
   ]
  },
  {
   "cell_type": "markdown",
   "id": "abeb1706-6583-4847-b5a5-208b4c4f19e2",
   "metadata": {
    "slideshow": {
     "slide_type": "skip"
    },
    "tags": [
     "worksheet-only"
    ]
   },
   "source": [
    "<div style=\"page-break-after:always;\"></div>"
   ]
  },
  {
   "cell_type": "markdown",
   "id": "5dfa72f3-1152-4e4b-a3cc-1461966e9b75",
   "metadata": {
    "jp-MarkdownHeadingCollapsed": true,
    "tags": []
   },
   "source": [
    "* Q8: _What is the minimum number of bits required to express the signed decimal numbe$r **−2<sup>n</sup>  + 1** using two’s complement?_"
   ]
  },
  {
   "cell_type": "markdown",
   "id": "31b7b29a-9897-420e-99a7-43d35a6176d1",
   "metadata": {
    "slideshow": {
     "slide_type": "skip"
    },
    "tags": [
     "notes-only"
    ]
   },
   "source": [
    "    n + 1"
   ]
  },
  {
   "cell_type": "markdown",
   "id": "ad6be951-67c9-4163-bb10-4f5dbd8e6a9d",
   "metadata": {
    "slideshow": {
     "slide_type": "skip"
    },
    "tags": [
     "worksheet-only"
    ]
   },
   "source": [
    "<p style=\"height:2em;\"></p>"
   ]
  },
  {
   "cell_type": "markdown",
   "id": "521fdf99-7808-4dc5-8369-e8f482b489ab",
   "metadata": {
    "jp-MarkdownHeadingCollapsed": true,
    "tags": []
   },
   "source": [
    "* Q9: _What is the smallest non-zero unsigned decimal number that can be expressed using a fixed-point representation with n bits for the fractional part?_"
   ]
  },
  {
   "cell_type": "markdown",
   "id": "57a57998-92bf-4ed1-ac81-7fcd26feac86",
   "metadata": {
    "slideshow": {
     "slide_type": "skip"
    },
    "tags": [
     "notes-only"
    ]
   },
   "source": [
    "    1/(2^n)"
   ]
  },
  {
   "cell_type": "markdown",
   "id": "46b94678-d0ca-4e88-8d2d-656f218c5469",
   "metadata": {
    "slideshow": {
     "slide_type": "skip"
    },
    "tags": [
     "worksheet-only"
    ]
   },
   "source": [
    "<p style=\"height:2em;\"></p>"
   ]
  },
  {
   "cell_type": "markdown",
   "id": "c80f819f-a572-43f8-beec-a9f4eff89041",
   "metadata": {
    "slideshow": {
     "slide_type": "slide"
    },
    "tags": []
   },
   "source": [
    "## Strings\n",
    "* Q10: _The following program should ask the user to enter a word, then print the word's length and whether it is a palindrome (i.e., reads the same backward as forward). For example, if the user enters `\"kayak\"` the program should print `\"The word is 5 characters long and is a palindrome.\"` However, the program contains several errors. Modify the program to correct the errors._"
   ]
  },
  {
   "cell_type": "code",
   "execution_count": null,
   "id": "cdc888dd-91c5-48b7-b7e8-fe28f670f2e4",
   "metadata": {
    "slideshow": {
     "slide_type": "subslide"
    },
    "tags": []
   },
   "outputs": [],
   "source": [
    "#include <stdio.h>\n",
    "\n",
    "void palindrome(char word[]) {\n",
    "    int i = 0;\n",
    "    int j = strlen(word);\n",
    "    while (i < j) {\n",
    "        if (word[i] != word[j]) {\n",
    "            return -1;\n",
    "        }\n",
    "        i++;\n",
    "        j--;\n",
    "    }\n",
    "    return 1;\n",
    "}\n",
    "\n",
    "int main() {\n",
    "    printf(\"Enter a word: \");\n",
    "    char word[50];\n",
    "    fgets(word, 50, stdin);\n",
    "    word[strlen(word)-1] = '\\0'; // Remove newline\n",
    "    int len = strlen(word);\n",
    "    printf(\"The word is %c characters long and is \", len);\n",
    "    if (palindrome(word)) {\n",
    "        printf(\"a palindrome.\\n\");\n",
    "    } else {\n",
    "        printf(\"not a palindrome.\\n\");\n",
    "    }\n",
    "}"
   ]
  },
  {
   "cell_type": "markdown",
   "id": "59ffd1d1-2113-4cce-a3f0-c147787fe992",
   "metadata": {
    "slideshow": {
     "slide_type": "skip"
    },
    "tags": [
     "notes-only"
    ]
   },
   "source": [
    "* `#include <string.h>`\n",
    "* Change return type of `palindrome` to `int`\n",
    "* Initialize `j` to `strlen(word) - 1`\n",
    "* Change `return -1` to `return 0`\n",
    "* Change `%c` in 2nd `printf` in `main` to `%d`"
   ]
  },
  {
   "cell_type": "markdown",
   "id": "693c0e5f-2330-4636-999b-dc008a88b387",
   "metadata": {
    "slideshow": {
     "slide_type": "skip"
    },
    "tags": [
     "worksheet-only"
    ]
   },
   "source": [
    "<div style=\"page-break-after:always;\"></div>"
   ]
  },
  {
   "cell_type": "markdown",
   "id": "91f70b0f-1764-47be-828d-a1f6e7ea97cb",
   "metadata": {
    "slideshow": {
     "slide_type": "slide"
    },
    "tags": []
   },
   "source": [
    "* Q11: _Write a function called `molecular_formula` that takes a string containing the constituent atoms of a molecule and updates the string to contain the molecular formula. For example, the string `\"HHO\"` should be changed to `\"H20\"`, and the string `\"HHSOOOO\"` should be changed to `\"H2SO4\"`. You can assume:_\n",
    "    * _Molecules will only contain elements that are represented by a single letter — e.g., a molecule may contain `'H'` but not `\"Na\"`_\n",
    "    * _All atoms of the same element are listed consecutively — e.g., the constituent atoms may be provided as `\"HHO\"` but not `\"HOH\"`_\n",
    "    * _The elements are listed in the order they should appear in the molecular formula — e.g., the constituent atoms `\"HHO\"` are changed to the molecular formula `\"H2O\"`, whereas the constituent atoms `\"OHH\"` are changed to the molecular formula `\"OH2\"`_\n",
    "    * _There will be at most 9 atoms of each element — e.g., `\"H9C9\"` may occur, but `\"H10C11\"` will not occur_"
   ]
  },
  {
   "cell_type": "code",
   "execution_count": 7,
   "id": "d1cfaa9a-5a87-493c-891a-b61eb930bace",
   "metadata": {
    "slideshow": {
     "slide_type": "skip"
    },
    "tags": [
     "notes-only"
    ]
   },
   "outputs": [],
   "source": [
    "#include <string.h>\n",
    "void molecular_formula(char elements[]) {\n",
    "    int count = 1;\n",
    "    int j = 0;\n",
    "    for (int i = 1; i <= strlen(elements); i++) {\n",
    "        if (elements[i] != elements[i-1]) {\n",
    "            elements[j] = elements[i-1];\n",
    "            j++;\n",
    "            if (count > 1) {\n",
    "                elements[j] = count + '0';\n",
    "                j++;\n",
    "            }\n",
    "            count = 0;\n",
    "        }\n",
    "        count++;\n",
    "    }\n",
    "    elements[j] = '\\0';\n",
    "}\n",
    "// Testing\n",
    "#include <assert.h>\n",
    "int main() {\n",
    "    char test1[] = \"HHO\";\n",
    "    molecular_formula(test1);\n",
    "    assert(strcmp(test1, \"H2O\") == 0);\n",
    "    char test2[] = \"HHSOOOO\";\n",
    "    molecular_formula(test2);\n",
    "    assert(strcmp(test2, \"H2SO4\") == 0);\n",
    "}"
   ]
  },
  {
   "cell_type": "markdown",
   "id": "2960f92a-0474-492e-9424-856ca6a77231",
   "metadata": {
    "slideshow": {
     "slide_type": "skip"
    },
    "tags": [
     "worksheet-only"
    ]
   },
   "source": [
    "<div style=\"page-break-after:always;\"></div>"
   ]
  },
  {
   "cell_type": "markdown",
   "id": "77812eb3-6904-4a68-92e0-d7acc59e1653",
   "metadata": {
    "slideshow": {
     "slide_type": "slide"
    },
    "tags": []
   },
   "source": [
    "## Number base conversions\n",
    "_Perform the following conversions_\n",
    "* Q12: `97` to 8-bit unsigned binary"
   ]
  },
  {
   "cell_type": "markdown",
   "id": "d4c9b7a4-6b65-4578-8d2c-b3d5143f5263",
   "metadata": {
    "slideshow": {
     "slide_type": "skip"
    },
    "tags": [
     "notes-only"
    ]
   },
   "source": [
    "    0b01100001"
   ]
  },
  {
   "cell_type": "markdown",
   "id": "df00ea00-3ecb-407c-ae01-f99e4a6dd607",
   "metadata": {
    "slideshow": {
     "slide_type": "skip"
    },
    "tags": [
     "worksheet-only"
    ]
   },
   "source": [
    "<p style=\"height:6em;\"></p>"
   ]
  },
  {
   "cell_type": "markdown",
   "id": "94eaff1a-5949-491d-9640-b722d34fc68c",
   "metadata": {},
   "source": [
    "* Q13: `-42` to 8-bit two's complement"
   ]
  },
  {
   "cell_type": "markdown",
   "id": "7106c92d-8980-4402-9bc0-05f97e9e656f",
   "metadata": {
    "slideshow": {
     "slide_type": "skip"
    },
    "tags": [
     "notes-only"
    ]
   },
   "source": [
    "    0b11010110"
   ]
  },
  {
   "cell_type": "markdown",
   "id": "c46d4f4c-15f3-4868-a970-bc0b35c47119",
   "metadata": {
    "slideshow": {
     "slide_type": "skip"
    },
    "tags": [
     "worksheet-only"
    ]
   },
   "source": [
    "<p style=\"height:6em;\"></p>"
   ]
  },
  {
   "cell_type": "markdown",
   "id": "8c39a13e-a81e-487c-aed4-3a546bf799b0",
   "metadata": {},
   "source": [
    "* Q14: `0b11001100` to unsigned decimal"
   ]
  },
  {
   "cell_type": "markdown",
   "id": "ce9fe4e6-26f3-459e-8d99-e6b5e3472d1e",
   "metadata": {
    "slideshow": {
     "slide_type": "skip"
    },
    "tags": [
     "notes-only"
    ]
   },
   "source": [
    "    128 + 64 + 8 + 4 = 204"
   ]
  },
  {
   "cell_type": "markdown",
   "id": "3f574687-ab9f-4a25-bf5b-549ea6a0e87e",
   "metadata": {
    "slideshow": {
     "slide_type": "skip"
    },
    "tags": [
     "worksheet-only"
    ]
   },
   "source": [
    "<p style=\"height:6em;\"></p>"
   ]
  },
  {
   "cell_type": "markdown",
   "id": "b7841789-6506-46c2-9947-22c92f07719c",
   "metadata": {},
   "source": [
    "* Q15: `0b11001100` to signed decimal"
   ]
  },
  {
   "cell_type": "markdown",
   "id": "d937d804-a098-407b-a671-0f579cbee5f0",
   "metadata": {
    "slideshow": {
     "slide_type": "skip"
    },
    "tags": [
     "notes-only"
    ]
   },
   "source": [
    "    -52"
   ]
  },
  {
   "cell_type": "markdown",
   "id": "05846dfb-532a-461d-af8f-1fed1a463921",
   "metadata": {
    "slideshow": {
     "slide_type": "skip"
    },
    "tags": [
     "worksheet-only"
    ]
   },
   "source": [
    "<p style=\"height:6em;\"></p>"
   ]
  },
  {
   "cell_type": "markdown",
   "id": "f5cd0b96-5105-4ed6-92ba-581125b661d3",
   "metadata": {},
   "source": [
    "* Q16: `0x27` to unsigned decimal"
   ]
  },
  {
   "cell_type": "markdown",
   "id": "1b3b1229-bae4-40db-9556-146d1dbe8659",
   "metadata": {
    "slideshow": {
     "slide_type": "skip"
    },
    "tags": [
     "notes-only"
    ]
   },
   "source": [
    "    39"
   ]
  },
  {
   "cell_type": "markdown",
   "id": "b01ccb62-63fc-41bc-8a3a-2a9f3be98bf7",
   "metadata": {
    "slideshow": {
     "slide_type": "skip"
    },
    "tags": [
     "worksheet-only"
    ]
   },
   "source": [
    "<p style=\"height:6em;\"></p>"
   ]
  },
  {
   "cell_type": "markdown",
   "id": "7ef53461-c29c-4526-9c5e-202de71ba44d",
   "metadata": {},
   "source": [
    "* Q17: `0xDEAD` to 16-bit binary"
   ]
  },
  {
   "cell_type": "markdown",
   "id": "ffd772a3-5ccc-421d-ba6e-eacb0b6f2868",
   "metadata": {
    "slideshow": {
     "slide_type": "skip"
    },
    "tags": [
     "notes-only"
    ]
   },
   "source": [
    "    0b1101111010101101"
   ]
  },
  {
   "cell_type": "markdown",
   "id": "8f5d98ea-ccde-422a-bbef-eeab10cdad6c",
   "metadata": {
    "slideshow": {
     "slide_type": "skip"
    },
    "tags": [
     "worksheet-only"
    ]
   },
   "source": [
    "<div style=\"page-break-after:always;\"></div>"
   ]
  },
  {
   "cell_type": "markdown",
   "id": "54cac4e8-335d-4301-afd6-d3f2cf0e2993",
   "metadata": {
    "slideshow": {
     "slide_type": "slide"
    },
    "tags": []
   },
   "source": [
    "## Pointers\n",
    "* Q18: _What is the output of this program?_"
   ]
  },
  {
   "cell_type": "code",
   "execution_count": 8,
   "id": "9dbd9198-387c-4514-9783-74557e207449",
   "metadata": {
    "tags": [
     "worksheet-code-only"
    ]
   },
   "outputs": [
    {
     "name": "stdout",
     "output_type": "stream",
     "text": [
      "2 6\n",
      "1 3\n",
      "Got Rain\n"
     ]
    }
   ],
   "source": [
    "#include <stdio.h>\n",
    "#include <string.h>\n",
    "\n",
    "int main() {\n",
    "    char first[10] = \"Go\";\n",
    "    char second[] = \"Raiders\";\n",
    "    char *f = first;\n",
    "    char *s = &second[1];\n",
    "    printf(\"%d %d\\n\", strlen(f), strlen(s));\n",
    "    *(s+2) = 'n';\n",
    "    f += 1;\n",
    "    *(++f) = 't';\n",
    "    first[3] = '\\0';\n",
    "    second[4] = '\\0';\n",
    "    printf(\"%d %d\\n\", strlen(f), strlen(s));\n",
    "    printf(\"%s %s\\n\", first, second);\n",
    "}"
   ]
  },
  {
   "cell_type": "markdown",
   "id": "2c04bc6b-f3a2-4c9d-8b1b-4afebaada7e4",
   "metadata": {
    "slideshow": {
     "slide_type": "subslide"
    },
    "tags": []
   },
   "source": [
    "* Q19: _What is the output of this program?_"
   ]
  },
  {
   "cell_type": "code",
   "execution_count": 9,
   "id": "e11e3269-4122-4827-becd-636f183c5a83",
   "metadata": {
    "tags": [
     "worksheet-code-only"
    ]
   },
   "outputs": [
    {
     "name": "stdout",
     "output_type": "stream",
     "text": [
      "no one\n",
      "no 2\n",
      "one-on-one 2\n",
      "no 2\n"
     ]
    }
   ],
   "source": [
    "#include <stdio.h>\n",
    "#include <string.h>\n",
    "\n",
    "void modify(char *str, int idx) {\n",
    "    char tmp = str[0];\n",
    "    idx--;\n",
    "    str[0] = str[idx];\n",
    "    str[idx] = tmp;\n",
    "}\n",
    "\n",
    "int main() {\n",
    "    char a[5] = \"none\";\n",
    "    char b[3] = \"no\";\n",
    "    char *x = &(a[1]);\n",
    "    printf(\"%s %s\\n\", b, x);\n",
    "\n",
    "    char *y = b;\n",
    "    int i = strlen(y);\n",
    "    printf(\"%s %d\\n\", y, i);\n",
    "\n",
    "    modify(y, i);\n",
    "    printf(\"%s-%s-%s %d\\n\", x, y, x, i);\n",
    "\n",
    "    *(a+2) = '\\0';\n",
    "    i = strlen(a);\n",
    "    printf(\"%s %d\\n\", a, i);\n",
    "}"
   ]
  }
 ],
 "metadata": {
  "kernelspec": {
   "display_name": "C",
   "language": "c",
   "name": "c"
  },
  "language_info": {
   "file_extension": ".c",
   "mimetype": "c",
   "name": "c"
  }
 },
 "nbformat": 4,
 "nbformat_minor": 5
}
