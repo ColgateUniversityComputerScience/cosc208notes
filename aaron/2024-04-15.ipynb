{
 "cells": [
  {
   "cell_type": "markdown",
   "id": "d4c0cf7a-6741-41de-924b-477e6ac8b4e3",
   "metadata": {
    "slideshow": {
     "slide_type": "skip"
    },
    "tags": []
   },
   "source": [
    "# Operating Systems & Concurrency: threads\n",
    "_COSC 208, Introduction to Computer Systems, 2024-04-15_"
   ]
  },
  {
   "cell_type": "markdown",
   "id": "e2b64af4-7772-4059-8794-6811b04b94a8",
   "metadata": {
    "slideshow": {
     "slide_type": "skip"
    },
    "tags": []
   },
   "source": [
    "## Announcements\n",
    "* Quiz 5 Friday\n",
    "    * 4.1: Interpret ARM assembly code\n",
    "    * 4.2: Determine the relationship between C code and ARM assembly code\n",
    "    * 6.1: Describe the mechanisms operating systems use to allocate hardware resources and ensure errant processes do not take over the system\n",
    "    * 6.2: Determine the possible outputs of C programs that involve multiple processes and/or threads\n",
    "    * 6.3: Develop C programs that create and wait for processes and execute other programs\n",
    "    * Optional:\n",
    "        * 2.4: Correct memory errors in C code with the assistance of a compiler and valgrind\n",
    "        * 3.1: Design single- and multi-bit circuits for arithmetic and comparison operators\n",
    "        * 3.2: Design a simple processing unit and explain how it executes assembly instructions"
   ]
  },
  {
   "cell_type": "markdown",
   "id": "da1fb4b2-e9fe-4d36-a409-388d2f498f71",
   "metadata": {
    "slideshow": {
     "slide_type": "skip"
    },
    "tags": [
     "notes-only"
    ]
   },
   "source": [
    "## Outline\n",
    "* Warm-up\n",
    "* Threads and memory"
   ]
  },
  {
   "cell_type": "markdown",
   "id": "98d9a0d4-d0f9-405a-8eea-5e10559587d0",
   "metadata": {},
   "source": [
    "## Warm-up (Q3 from last class)"
   ]
  },
  {
   "cell_type": "markdown",
   "id": "33e969d2-00de-46b6-9ac7-af3c9b0bdd13",
   "metadata": {
    "tags": []
   },
   "source": [
    "* Q1: _What is the output produced by running `./progA`, assuming no errors occur?_"
   ]
  },
  {
   "cell_type": "code",
   "execution_count": null,
   "id": "0b88a941-e640-4a55-8ce1-f5ae267b912b",
   "metadata": {},
   "outputs": [],
   "source": [
    "/** progA **/\n",
    "/* 1*/  #include <stdio.h>\n",
    "/* 2*/  #include <unistd.h>\n",
    "/* 3*/  int main() {\n",
    "/* 4*/      int a = fork();\n",
    "/* 5*/      if (a == 0) {\n",
    "/* 6*/          char *cmd[] = { \"./progB\", NULL };\n",
    "/* 7*/          execv(cmd[0], cmd);\n",
    "/* 8*/          printf(\"A 2nd gen\\n\");\n",
    "/* 9*/          return 0;\n",
    "/*10*/      } else {\n",
    "/*11*/          wait(NULL);\n",
    "/*12*/          printf(\"A 1st gen\\n\");\n",
    "/*13*/          return 0;\n",
    "/*14*/      }\n",
    "/*15*/  }"
   ]
  },
  {
   "cell_type": "code",
   "execution_count": null,
   "id": "d8b3b27c-e586-4659-8af0-fba7017ffd0f",
   "metadata": {
    "slideshow": {
     "slide_type": "subslide"
    },
    "tags": []
   },
   "outputs": [],
   "source": [
    "/** progB **/\n",
    "/* 1*/  #include <stdio.h>\n",
    "/* 2*/  #include <unistd.h>\n",
    "/* 3*/  int main() {\n",
    "/* 4*/      int b = fork();\n",
    "/* 5*/      if (b == 0) {\n",
    "/* 6*/          printf(\"B 2nd gen\\n\");\n",
    "/* 7*/          return 0;\n",
    "/* 8*/      } else {\n",
    "/* 9*/          wait(NULL);\n",
    "/*10*/          printf(\"B 1st gen\\n\");\n",
    "/*11*/          return 0;\n",
    "/*12*/      }\n",
    "/*13*/  }"
   ]
  },
  {
   "cell_type": "markdown",
   "id": "42980508-2e7a-401e-a925-6519a5fe77c4",
   "metadata": {
    "slideshow": {
     "slide_type": "skip"
    },
    "tags": [
     "notes-only"
    ]
   },
   "source": [
    "    B 2nd gen\n",
    "    B 1st gen\n",
    "    A 1st gen"
   ]
  },
  {
   "cell_type": "markdown",
   "id": "abeca277-d883-4273-9564-c1f91100e646",
   "metadata": {
    "slideshow": {
     "slide_type": "skip"
    },
    "tags": [
     "worksheet-only"
    ]
   },
   "source": [
    "<p style=\"height:5em;\"></p>\n",
    "\n",
    "🛑 **STOP here** after completing the above question; if you have extra time please **skip ahead** to the extra practice."
   ]
  },
  {
   "cell_type": "markdown",
   "id": "cf63fa5f-05a3-4ea0-a9c8-5e36c5d2ed6e",
   "metadata": {
    "slideshow": {
     "slide_type": "slide"
    },
    "tags": []
   },
   "source": [
    "## Threads and memory"
   ]
  },
  {
   "cell_type": "markdown",
   "id": "72aef2b6-1235-4bdc-a2ce-bd1ca621f6cc",
   "metadata": {
    "slideshow": {
     "slide_type": "skip"
    },
    "tags": [
     "notes-only"
    ]
   },
   "source": [
    "* Threads are multiple execution contexts within the **same process**\n",
    "    * Processes are multiple execution contexts within the **same machine**\n",
    "* Because threads are within the same process, they share all of the process’s resources — memory and CPU time\n",
    "* Consequently, two threads can update the same variable"
   ]
  },
  {
   "cell_type": "markdown",
   "id": "1869540c-338e-48dd-aa78-6ff54eadfcc6",
   "metadata": {
    "slideshow": {
     "slide_type": "skip"
    },
    "tags": []
   },
   "source": [
    "* Example"
   ]
  },
  {
   "cell_type": "code",
   "execution_count": null,
   "id": "ba727028-3e07-471a-a024-62b5c5061624",
   "metadata": {},
   "outputs": [],
   "source": [
    "/* 1*/  #include <stdio.h>\n",
    "/* 2*/  #include <stdlib.h>\n",
    "/* 3*/  void *thread1_main(void *arg) {\n",
    "/* 4*/      int *x = (int *)arg;\n",
    "/* 5*/      *x += 1;\n",
    "/* 6*/      return NULL;\n",
    "/* 7*/  }\n",
    "/* 8*/  void *thread2_main(void *arg) {\n",
    "/* 9*/      int *y = (int *)arg;\n",
    "/*10*/      *y += 2;\n",
    "/*11*/      return NULL;\n",
    "/*12*/  }\n",
    "/*13*/  int main() {\n",
    "/*14*/      int *z = malloc(sizeof(int));\n",
    "/*15*/      *z = 0;\n",
    "/*16*/      // Create thread running thread1_main(z)\n",
    "/*17*/      // Create thread running thread2_main(z)\n",
    "/*18*/      // Wait for threads to finish\n",
    "/*19*/      printf(\"z is %d\\n\", *z);\n",
    "/*20*/  }"
   ]
  },
  {
   "cell_type": "markdown",
   "id": "e468eaf6-ad64-492b-9f9f-27b98f2a8295",
   "metadata": {
    "slideshow": {
     "slide_type": "skip"
    },
    "tags": [
     "notes-only"
    ]
   },
   "source": [
    "```\n",
    "z is 3\n",
    "```"
   ]
  },
  {
   "cell_type": "markdown",
   "id": "c39cc1c9-d02a-499d-bcaf-49c2a86d1800",
   "metadata": {
    "slideshow": {
     "slide_type": "subslide"
    },
    "tags": []
   },
   "source": [
    "* Q2: _What are all possible outputs produced by this program?_"
   ]
  },
  {
   "cell_type": "code",
   "execution_count": null,
   "id": "9a34b176-5570-411e-8f19-96a0d955bc06",
   "metadata": {},
   "outputs": [],
   "source": [
    "/* 1*/  #include <stdio.h>\n",
    "/* 1*/  #include <stdlib.h>\n",
    "/* 1*/  void *increment(void *arg) {\n",
    "/* 1*/      int *num = (int*)arg;\n",
    "/* 1*/      *num += 1;\n",
    "/* 1*/      return NULL;\n",
    "/* 1*/  }\n",
    "/* 1*/  void *zero(void *arg) {\n",
    "/* 1*/      int *num = (int*)arg;\n",
    "/*10*/      *num = 0;\n",
    "/*11*/      return NULL;\n",
    "/*12*/  }\n",
    "/*13*/  int main() {\n",
    "/*14*/      int *i = malloc(sizeof(int));\n",
    "/*15*/      *i = 5;\n",
    "/*16*/      // Create thread running increment(i)\n",
    "/*17*/      // Create thread running zero(i)\n",
    "/*18*/      // Wait for threads to finish\n",
    "/*19*/      printf(\"i=%d\\n\", *i);\n",
    "/*20*/  }"
   ]
  },
  {
   "cell_type": "markdown",
   "id": "8371e702-f56c-4aa9-9e35-cd0a8f5b2b30",
   "metadata": {
    "slideshow": {
     "slide_type": "skip"
    },
    "tags": [
     "notes-only"
    ]
   },
   "source": [
    "```\n",
    "i=0\n",
    "```\n",
    "OR\n",
    "```\n",
    "i=1\n",
    "```"
   ]
  },
  {
   "cell_type": "markdown",
   "id": "f45e359e-1d2a-4f88-b7be-c165082be3da",
   "metadata": {
    "slideshow": {
     "slide_type": "skip"
    },
    "tags": [
     "worksheet-only"
    ]
   },
   "source": [
    "<p style=\"height:8em;\"></p>\n",
    "\n",
    "🛑 **STOP here** after completing the above question; if you have extra time please **skip ahead** to the extra practice.\n",
    "\n",
    "<div style=\"page-break-after:always;\"></div>"
   ]
  },
  {
   "cell_type": "markdown",
   "id": "8cb1438e-8f01-4aa0-85c1-e6019126dd43",
   "metadata": {
    "slideshow": {
     "slide_type": "slide"
    },
    "tags": []
   },
   "source": [
    "## Pthreads API"
   ]
  },
  {
   "cell_type": "markdown",
   "id": "02b35982-9d42-4b00-b634-fd74677f240a",
   "metadata": {
    "slideshow": {
     "slide_type": "skip"
    },
    "tags": [
     "notes-only"
    ]
   },
   "source": [
    "* Can create and wait for threads to finish, just like processes, but API is different\n",
    "* Use the pthreads library—`#include <pthread.h>`\n",
    "* `int pthread_create(pthread_t *thread, const pthread_attr_t *attr, void *(*start_routine)(void*), void * arg)`\n",
    "    * `thread`—a struct that stores metadata for the thread\n",
    "    * `attr`—configuration settings for the thread\n",
    "    * `start_routine`—the function to start executing when the thread starts\n",
    "        * Pass a pointer to a function\n",
    "    * `arg`—an argument passed to the aforementioned function\n",
    "* `int pthread_join(pthread_t thread, void **value_ptr)`\n",
    "    * `thread`—the same struct passed at thread creation; used to identify the thread we want to wait for\n",
    "    * `value_ptr`—the location where the function return value should be stored\n",
    "        * Notice it’s a pointer to a void pointer and the `start_routine` function specified in `pthread_create` returns a void pointer"
   ]
  },
  {
   "cell_type": "markdown",
   "id": "b412f897-d145-463e-bd3d-4b91040118f2",
   "metadata": {
    "tags": []
   },
   "source": [
    "* Q3: _What are all possible outputs produced by this program?_"
   ]
  },
  {
   "cell_type": "code",
   "execution_count": 1,
   "id": "273bdbb0-50ab-4942-ab98-6e1edab2153a",
   "metadata": {
    "tags": [
     "worksheet-code-only"
    ]
   },
   "outputs": [
    {
     "name": "stdout",
     "output_type": "stream",
     "text": [
      "I am P\n",
      "I am Q\n"
     ]
    }
   ],
   "source": [
    "/* 1*/  #include <stdio.h>\n",
    "/* 2*/  #include <stdlib.h>\n",
    "/* 3*/  #include <pthread.h>\n",
    "/* 4*/  void *printer(void *arg) {\n",
    "/* 5*/      char *ch = (char*)arg;\n",
    "/* 6*/      printf(\"I am %c\\n\", *ch);\n",
    "/* 7*/      return NULL;\n",
    "/* 8*/  }\n",
    "/* 9*/  int main() {\n",
    "/*10*/      pthread_t thread1, thread2;\n",
    "/*11*/      char *ch = malloc(sizeof(char));\n",
    "/*12*/      *ch = 'P';\n",
    "/*13*/      pthread_create(&thread1, NULL, &printer, ch);\n",
    "/*14*/      pthread_join(thread1, NULL);\n",
    "/*15*/      *ch = 'Q';\n",
    "/*16*/      pthread_create(&thread2, NULL, &printer, ch);\n",
    "/*17*/      pthread_join(thread2, NULL);\n",
    "/*18*/  }"
   ]
  },
  {
   "cell_type": "markdown",
   "id": "bcbf6d82-689e-4e24-b87d-28853ef8d68b",
   "metadata": {
    "slideshow": {
     "slide_type": "skip"
    },
    "tags": [
     "worksheet-only"
    ]
   },
   "source": [
    "<div style=\"height:5em;\"></div>"
   ]
  },
  {
   "cell_type": "markdown",
   "id": "5f4485d6-763b-4309-a703-58522e2d0a83",
   "metadata": {
    "slideshow": {
     "slide_type": "slide"
    },
    "tags": []
   },
   "source": [
    "## Extra practice"
   ]
  },
  {
   "cell_type": "markdown",
   "id": "54d0c97a-10ed-4b82-a011-41eccd2180ec",
   "metadata": {
    "slideshow": {
     "slide_type": "subslide"
    },
    "tags": []
   },
   "source": [
    "* Q4: _What are all possible outputs produced by this program?_"
   ]
  },
  {
   "cell_type": "code",
   "execution_count": 1,
   "id": "c856b340-ce21-4fca-a62e-0c41f4fd3297",
   "metadata": {
    "tags": [
     "worksheet-code-only"
    ]
   },
   "outputs": [
    {
     "name": "stdout",
     "output_type": "stream",
     "text": [
      "z is 1\n",
      "z is 2\n"
     ]
    }
   ],
   "source": [
    "/* 1*/  #include <stdio.h>\n",
    "/* 2*/  #include <stdlib.h>\n",
    "/* 3*/  #include <unistd.h>\n",
    "/* 4*/  void *proc1_main(void *arg) {\n",
    "/* 5*/      int *x = (int *)arg;\n",
    "/* 6*/      *x += 1;\n",
    "/* 7*/      return NULL;\n",
    "/* 8*/  }\n",
    "/* 9*/  void *proc2_main(void *arg) {\n",
    "/*10*/      int *y = (int *)arg;\n",
    "/*11*/      *y += 2;\n",
    "/*12*/      return NULL;\n",
    "/*13*/  }\n",
    "/*14*/  int main() {\n",
    "/*15*/      int *z = malloc(sizeof(int));\n",
    "/*16*/      *z = 0;\n",
    "/*17*/      int pid = fork();\n",
    "/*18*/      if (pid == 0) {\n",
    "/*19*/          proc1_main(z);\n",
    "/*20*/      } else {\n",
    "/*21*/          wait(NULL);\n",
    "/*22*/          proc2_main(z);\n",
    "/*23*/      }\n",
    "/*24*/      printf(\"z is %d\\n\", *z);\n",
    "/*25*/  }"
   ]
  },
  {
   "cell_type": "markdown",
   "id": "cb19af8f-f5c7-4b30-9536-a1cc546d65ba",
   "metadata": {
    "slideshow": {
     "slide_type": "skip"
    },
    "tags": [
     "worksheet-only"
    ]
   },
   "source": [
    "<div style=\"page-break-after:always;\"></div>"
   ]
  },
  {
   "cell_type": "markdown",
   "id": "7037f356-ebbb-43b6-8d82-f37096b8e83f",
   "metadata": {
    "slideshow": {
     "slide_type": "subslide"
    },
    "tags": []
   },
   "source": [
    "* Q5: _What output is produced by the following program? (Note: there is only one possible ordering.)_"
   ]
  },
  {
   "cell_type": "code",
   "execution_count": null,
   "id": "2536a156-2094-4796-8cdf-81168ac60df0",
   "metadata": {
    "tags": [
     "worksheet-code-only"
    ]
   },
   "outputs": [
    {
     "name": "stdout",
     "output_type": "stream",
     "text": [
      "A\n",
      "B\n",
      "E\n",
      "C\n",
      "E\n",
      "D\n",
      "E\n"
     ]
    }
   ],
   "source": [
    "/*1*/   #include <stdio.h>\n",
    "/*2*/   #include <stdlib.h>\n",
    "/*3*/   #include <sys/wait.h>\n",
    "/*4*/   #include <unistd.h>\n",
    "/*5*/   int main() {\n",
    "/*6*/       printf(\"A\\n\");\n",
    "/*7*/       int x = fork();\n",
    "/*8*/       if (x == 0) {\n",
    "/*9*/           int y = fork();\n",
    "/*10*/          if (y == 0) {\n",
    "/*11*/              printf(\"B\\n\");\n",
    "/*12*/          }\n",
    "/*13*/          else {\n",
    "/*14*/              wait(NULL);\n",
    "/*15*/              printf(\"C\\n\");\n",
    "/*16*/          }\n",
    "/*17*/      }\n",
    "/*18*/      else {\n",
    "/*19*/          wait(NULL);\n",
    "/*20*/          printf(\"D\\n\");\n",
    "/*21*/      }\n",
    "/*22*/      printf(\"E\\n\");\n",
    "/*23*/  }"
   ]
  },
  {
   "cell_type": "markdown",
   "id": "b311746f-bf9a-4b5f-a3a8-fcc0bb74815e",
   "metadata": {
    "slideshow": {
     "slide_type": "skip"
    },
    "tags": [
     "worksheet-only"
    ]
   },
   "source": [
    "<p style=\"height:6em;\"></p>"
   ]
  },
  {
   "cell_type": "markdown",
   "id": "74b95d76-3e1c-404c-a2fb-3c28c5bcac27",
   "metadata": {
    "slideshow": {
     "slide_type": "subslide"
    },
    "tags": []
   },
   "source": [
    "* Q6: _What output is produced by this program, assuming the starting process's PID is 7034 and PIDs are sequentially assigned to new processes. (Note: there is only one possible ordering.)_"
   ]
  },
  {
   "cell_type": "code",
   "execution_count": null,
   "id": "98e8eef4-3954-45ac-bb0c-4f4c12440b36",
   "metadata": {
    "tags": [
     "worksheet-code-only"
    ]
   },
   "outputs": [],
   "source": [
    "/* 1*/  #include <stdio.h>\n",
    "/* 2*/  #include <unistd.h>\n",
    "/* 3*/  int main(int argc, char **argv) {\n",
    "/* 4*/      printf(\"Begin\\n\");\n",
    "/* 5*/      int result = fork();\n",
    "/* 6*/      if (result == 0) {\n",
    "/* 7*/          printf(\"A %d %d\\n\", result, getpid());\n",
    "/* 8*/      } else if (result > 0) {\n",
    "/* 9*/          wait(NULL);\n",
    "/*10*/          printf(\"B %d %d\\n\", result, getpid());\n",
    "/*11*/      }\n",
    "/*12*/      int result2 = fork();\n",
    "/*13*/      if (result2 == 0) {\n",
    "/*14*/          printf(\"C %d %d\\n\", result2, getpid());\n",
    "/*15*/      } else if (result2 > 0) {\n",
    "/*16*/          wait(NULL);\n",
    "/*17*/          printf(\"D %d %d\\n\", result2, getpid());\n",
    "/*18*/      }\n",
    "/*19*/  }"
   ]
  },
  {
   "cell_type": "markdown",
   "id": "1e8a16a2-ae85-43d7-8e79-5d9d189e0084",
   "metadata": {
    "slideshow": {
     "slide_type": "skip"
    },
    "tags": [
     "notes-only"
    ]
   },
   "source": [
    "```\n",
    "Begin\n",
    "A 0 7035\n",
    "C 0 7036\n",
    "D 7036 7035\n",
    "B 7035 7034\n",
    "C 0 7037\n",
    "D 7037 7034\n",
    "```"
   ]
  },
  {
   "cell_type": "markdown",
   "id": "bba410dd-0609-4ba9-8c21-c17c1e4cdd80",
   "metadata": {
    "slideshow": {
     "slide_type": "skip"
    },
    "tags": [
     "worksheet-only"
    ]
   },
   "source": [
    "<p style=\"page-break-after:always;\"></p>"
   ]
  },
  {
   "cell_type": "markdown",
   "id": "baa24ba7-b142-41c0-9c40-d792e7bd68dd",
   "metadata": {
    "slideshow": {
     "slide_type": "subslide"
    },
    "tags": []
   },
   "source": [
    "* Q7: _What are all possible outputs produced by this program?_"
   ]
  },
  {
   "cell_type": "code",
   "execution_count": null,
   "id": "5b3485c4-b1af-47ff-9787-0bbd2e9c0c44",
   "metadata": {},
   "outputs": [],
   "source": [
    "/* 1*/  #include <stdio.h>\n",
    "/* 2*/  #include <stdlib.h>\n",
    "/* 3*/  void *thread_main(void *arg) {\n",
    "/* 4*/      char *id = (char *)arg;\n",
    "/* 5*/      printf(\"I am thread %c\\n\", *id);\n",
    "/* 6*/      return NULL;\n",
    "/* 7*/  }\n",
    "/* 8*/  int main() {\n",
    "/* 9*/      char *a = malloc(sizeof(char));\n",
    "/*10*/      *a = 'A';\n",
    "/*11*/      char *b = malloc(sizeof(char));\n",
    "/*12*/      *b = 'B';\n",
    "/*13*/      // Create thread running thread_main(a)\n",
    "/*14*/      // Create thread running thread_main(b)\n",
    "/*15*/      // Wait for threads to finish\n",
    "/*16*/  }"
   ]
  },
  {
   "cell_type": "markdown",
   "id": "3a27fd7e-bff4-4699-aa4f-31322dc07bb1",
   "metadata": {
    "slideshow": {
     "slide_type": "skip"
    },
    "tags": [
     "notes-only"
    ]
   },
   "source": [
    "```\n",
    "I am thread A\n",
    "I am thread B\n",
    "```\n",
    "OR\n",
    "```\n",
    "I am thread B\n",
    "I am thread A\n",
    "```"
   ]
  }
 ],
 "metadata": {
  "kernelspec": {
   "display_name": "C",
   "language": "c",
   "name": "c"
  },
  "language_info": {
   "file_extension": ".c",
   "mimetype": "c",
   "name": "c"
  }
 },
 "nbformat": 4,
 "nbformat_minor": 5
}
