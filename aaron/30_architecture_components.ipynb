{
 "cells": [
  {
   "cell_type": "markdown",
   "id": "275f3326-b6de-4d7d-b41a-f17ec6a57354",
   "metadata": {
    "editable": true,
    "slideshow": {
     "slide_type": "skip"
    },
    "tags": []
   },
   "source": [
    "# Architecture: von Neumann; logic gates\n",
    "_COSC 208, Introduction to Computer Systems, Fall 2025_"
   ]
  },
  {
   "cell_type": "markdown",
   "id": "8db656a0-0661-43aa-b290-cef12ab6b978",
   "metadata": {
    "editable": true,
    "slideshow": {
     "slide_type": "skip"
    },
    "tags": []
   },
   "source": [
    "## von Neumann Architecture"
   ]
  },
  {
   "cell_type": "markdown",
   "id": "13882050-f8c5-4df3-ab35-c220931c2c1f",
   "metadata": {
    "editable": true,
    "slideshow": {
     "slide_type": "skip"
    },
    "tags": [
     "notes-only"
    ]
   },
   "source": [
    "<img src=\"https://diveintosystems.org/book/C5-Arch/_images/vonNArch.png\" width=\"400px\" />\n",
    "\n",
    "* _Where are instructions stored prior to execution?_ — memory unit\n",
    "    * Instructions are loaded from input unit into memory unit when a program starts\n",
    "* _Where are instructions stored during execution?_ — instruction register\n",
    "* _Where is data stored when it is not in use?_ — memory unit\n",
    "* _Where is data stored when it is being operated on?_ — (general purpose) registers\n",
    "* Notice: instructions and data are both stored in the memory unit, but there are different registers for instructions and data in the CPU\n",
    "* Fetch-Decode-Execute cycle\n",
    "    * _What happens in the fetch stage?_ — The control unit loads the next instruction from memory, based on the program counter, into the instruction register\n",
    "    * _What happens in the decode stage?_ — break instruction into operation and operands\n",
    "    * _What happens in the execute stage?_ — The ALU performs the operation on the operands\n",
    "    * Store stage does not occur in an ARM processor"
   ]
  },
  {
   "cell_type": "markdown",
   "id": "055368d7-0bec-43e5-a70b-914d26c222b3",
   "metadata": {
    "editable": true,
    "slideshow": {
     "slide_type": "skip"
    },
    "tags": [
     "blank"
    ]
   },
   "source": [
    "<p style=\"height:27em;\"></p>"
   ]
  },
  {
   "cell_type": "markdown",
   "id": "f398d604-1c6a-4e89-bc66-b064eeaef676",
   "metadata": {
    "editable": true,
    "slideshow": {
     "slide_type": "skip"
    },
    "tags": [
     "notes-only"
    ]
   },
   "source": [
    "## Hardware building blocks"
   ]
  },
  {
   "cell_type": "markdown",
   "id": "c1f83796-826f-45c0-9274-afa4cb2c7060",
   "metadata": {
    "editable": true,
    "slideshow": {
     "slide_type": "skip"
    },
    "tags": [
     "notes-only"
    ]
   },
   "source": [
    "* Transistors — switches that control electrical flow; output state depends on current state plus input state\n",
    "* Logic gates — created from transistors; implement boolean operations (AND, NO, NOT, etc.)\n",
    "* Circuit — created from logic gates\n",
    "* Processing and control units — created from circuits"
   ]
  },
  {
   "cell_type": "markdown",
   "id": "e04cd4c4-0aef-409d-9f9b-0a5bcdeb3942",
   "metadata": {
    "editable": true,
    "slideshow": {
     "slide_type": "slide"
    },
    "tags": []
   },
   "source": [
    "## Logic gates"
   ]
  },
  {
   "cell_type": "markdown",
   "id": "27e0d6f0-b0a6-45e9-a9f1-c7fde5919fab",
   "metadata": {
    "editable": true,
    "slideshow": {
     "slide_type": ""
    },
    "tags": [
     "question"
    ]
   },
   "source": [
    "Q1: _Fill-in the truth tables for all six types of logic gates_"
   ]
  },
  {
   "cell_type": "markdown",
   "id": "96b33e37-9191-4df7-85a7-19a5cd14f653",
   "metadata": {
    "editable": true,
    "slideshow": {
     "slide_type": "skip"
    },
    "tags": [
     "answer"
    ]
   },
   "source": [
    "| A | B | A AND B | A OR B | NOT A | A NAND B | A NOR B | A XOR B |\n",
    "| - | - | ------- | ------ | ----- | -------- | ------- | ------- |\n",
    "| 0 | 0 |    0    |   0    |   1   |     1    |    1    |    0    | \n",
    "| 0 | 1 |    0    |   1    |   1   |     1    |    0    |    1    | \n",
    "| 1 | 0 |    0    |   1    |   0   |     1    |    0    |    1    | \n",
    "| 1 | 1 |    1    |   1    |   0   |     0    |    0    |    0    | "
   ]
  },
  {
   "cell_type": "markdown",
   "id": "1ab9866f-9e61-46b0-b2eb-43c3d5c5ac89",
   "metadata": {
    "editable": true,
    "slideshow": {
     "slide_type": ""
    },
    "tags": [
     "blank"
    ]
   },
   "source": [
    "| A | B | A AND B | A OR B | NOT A | A NAND B | A NOR B | A XOR B |\n",
    "| - | - | ------- | ------ | ----- | -------- | ------- | ------- |\n",
    "| 0 | 0 |         |        |       |          |         |         | \n",
    "| 0 | 1 |         |        |       |          |         |         | \n",
    "| 1 | 0 |         |        |       |          |         |         | \n",
    "| 1 | 1 |         |        |       |          |         |         | "
   ]
  },
  {
   "cell_type": "markdown",
   "id": "332a774c-fc30-4164-9c4d-6a0833b4dc5d",
   "metadata": {
    "editable": true,
    "slideshow": {
     "slide_type": "subslide"
    },
    "tags": [
     "question"
    ]
   },
   "source": [
    "Q2: _How do you use AND and NOT gates to create a NAND gate?_"
   ]
  },
  {
   "cell_type": "markdown",
   "id": "a36d56dc-e3a8-47ba-bd4f-63379cdcea89",
   "metadata": {
    "editable": true,
    "slideshow": {
     "slide_type": "skip"
    },
    "tags": [
     "answer"
    ]
   },
   "source": [
    "# ![](images/circuits/1b_nand.png)"
   ]
  },
  {
   "cell_type": "markdown",
   "id": "6972c78a-143e-44f3-945d-eed3e424d9ea",
   "metadata": {
    "editable": true,
    "slideshow": {
     "slide_type": "skip"
    },
    "tags": [
     "blank"
    ]
   },
   "source": [
    "<p style=\"height:5em;\"></p>"
   ]
  },
  {
   "cell_type": "markdown",
   "id": "8f83a153-6722-4cf1-aeab-b763221c63b4",
   "metadata": {
    "editable": true,
    "slideshow": {
     "slide_type": ""
    },
    "tags": [
     "question"
    ]
   },
   "source": [
    "Q3: _How do you use OR and NOT gates to create a NOR gate?_"
   ]
  },
  {
   "cell_type": "markdown",
   "id": "32988029-668e-4366-9363-af8debc7c0d3",
   "metadata": {
    "editable": true,
    "slideshow": {
     "slide_type": "skip"
    },
    "tags": [
     "answer"
    ]
   },
   "source": [
    "![](images/circuits/1b_nor.png)"
   ]
  },
  {
   "cell_type": "markdown",
   "id": "2a5968c5-a4bd-4772-a3d3-73c0c2c34a7d",
   "metadata": {
    "editable": true,
    "slideshow": {
     "slide_type": "skip"
    },
    "tags": [
     "blank"
    ]
   },
   "source": [
    "<p style=\"height:5em;\"></p>"
   ]
  },
  {
   "cell_type": "markdown",
   "id": "4763a592-d267-4c62-819b-c63d2d824e96",
   "metadata": {
    "editable": true,
    "slideshow": {
     "slide_type": ""
    },
    "tags": [
     "question"
    ]
   },
   "source": [
    "Q4: _How do you use NAND gates to create a NOT gate?_"
   ]
  },
  {
   "cell_type": "markdown",
   "id": "72c0c5a5-5ec9-4e40-91a9-3c757d89ea27",
   "metadata": {
    "editable": true,
    "slideshow": {
     "slide_type": "skip"
    },
    "tags": [
     "answer"
    ]
   },
   "source": [
    "![](images/circuits/1b_not.png)"
   ]
  },
  {
   "cell_type": "markdown",
   "id": "30dda196-413f-41d3-bea6-9738107690b7",
   "metadata": {
    "editable": true,
    "slideshow": {
     "slide_type": "skip"
    },
    "tags": [
     "blank"
    ]
   },
   "source": [
    "<p style=\"height:5em;\"></p>"
   ]
  },
  {
   "cell_type": "markdown",
   "id": "bee7e873-668c-4a39-bb72-fb4077e583d8",
   "metadata": {
    "editable": true,
    "slideshow": {
     "slide_type": ""
    },
    "tags": [
     "question"
    ]
   },
   "source": [
    "Q5: _How do you use NAND gates to create a AND gate?_"
   ]
  },
  {
   "cell_type": "markdown",
   "id": "377c6706-bf8b-40fb-8f5b-fecc104a4666",
   "metadata": {
    "editable": true,
    "slideshow": {
     "slide_type": "skip"
    },
    "tags": [
     "answer"
    ]
   },
   "source": [
    "![](images/circuits/1b_and.png)"
   ]
  },
  {
   "cell_type": "markdown",
   "id": "e860ccdb-10c5-47e8-a3fa-9df8d65802f5",
   "metadata": {
    "editable": true,
    "slideshow": {
     "slide_type": "skip"
    },
    "tags": [
     "blank"
    ]
   },
   "source": [
    "<p style=\"height:5em;\"></p>"
   ]
  },
  {
   "cell_type": "markdown",
   "id": "cd2b97b1-40b8-4283-b650-2aa210c7a02e",
   "metadata": {
    "editable": true,
    "slideshow": {
     "slide_type": ""
    },
    "tags": [
     "question"
    ]
   },
   "source": [
    "Q6: _How do you use NAND gates to create an OR gate?_"
   ]
  },
  {
   "cell_type": "markdown",
   "id": "b1c08923-8524-4bc7-9039-2f3aa21e210b",
   "metadata": {
    "editable": true,
    "slideshow": {
     "slide_type": "skip"
    },
    "tags": [
     "answer"
    ]
   },
   "source": [
    "```\n",
    "   ┌─┤‾‾‾‾╲\n",
    "A ─┤ │NAND │o─┐\n",
    "   └─┤____╱   └─┤‾‾‾‾╲\n",
    "                │NAND │o─ Output\n",
    "   ┌─┤‾‾‾‾╲   ┌─┤____╱\n",
    "B ─┤ │NAND │o─┘\n",
    "   └─┤____╱\n",
    "```"
   ]
  },
  {
   "cell_type": "markdown",
   "id": "0097976f-8c37-479a-ad0f-983f580c2e95",
   "metadata": {
    "editable": true,
    "slideshow": {
     "slide_type": "skip"
    },
    "tags": [
     "blank"
    ]
   },
   "source": [
    "<p style=\"height:5em;\"></p>"
   ]
  }
 ],
 "metadata": {
  "kernelspec": {
   "display_name": "C",
   "language": "c",
   "name": "c"
  },
  "language_info": {
   "file_extension": ".c",
   "mimetype": "text/plain",
   "name": "c"
  }
 },
 "nbformat": 4,
 "nbformat_minor": 5
}
