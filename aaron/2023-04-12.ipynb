{
 "cells": [
  {
   "cell_type": "markdown",
   "id": "ffc437ac-d10b-4d12-895d-712e9c2057b5",
   "metadata": {
    "slideshow": {
     "slide_type": "skip"
    },
    "tags": []
   },
   "source": [
    "# Multiprocessing: limited direct execution; system calls\n",
    "_COSC 208, Introduction to Computer Systems, 2023-04-12_"
   ]
  },
  {
   "cell_type": "markdown",
   "id": "c377c966-ee4b-4990-a6e6-a2d8f327a112",
   "metadata": {
    "slideshow": {
     "slide_type": "skip"
    },
    "tags": []
   },
   "source": [
    "## Announcements\n",
    "* DEI assignment 3 due Thursday @ 11pm\n",
    "* Project 4 due Thursday, April 20"
   ]
  },
  {
   "cell_type": "markdown",
   "id": "377e6d68-2202-4782-afc7-a43582630f55",
   "metadata": {
    "slideshow": {
     "slide_type": "skip"
    },
    "tags": []
   },
   "source": [
    "## Outline\n",
    "* Operating Systems (OS)\n",
    "* Accessing hardware\n",
    "* Limited direct execution\n",
    "* System calls"
   ]
  },
  {
   "cell_type": "markdown",
   "id": "12012bfd-a4f4-4e7f-9d4b-3275ef92160b",
   "metadata": {},
   "source": [
    "## Warm-up"
   ]
  },
  {
   "cell_type": "markdown",
   "id": "435554ea-bc8a-405d-a81a-688cfcec7eaa",
   "metadata": {},
   "source": [
    "* Q1: _Modify the `prediction` function to improve locality_"
   ]
  },
  {
   "cell_type": "code",
   "execution_count": null,
   "id": "6edea58a-eed6-4084-ae6b-8052d33f84bd",
   "metadata": {},
   "outputs": [],
   "source": [
    "char prediction(int *votes, char *projection) {\n",
    "    int democrat = 0;\n",
    "    int republican = 0;\n",
    "    int length = strlen(projection);\n",
    "    for (int d = 0; d < length; d++) {\n",
    "        if (projection[d] == 'D') {\n",
    "            democrat += votes[d];\n",
    "        }\n",
    "    }\n",
    "    for (int r = 0; r < length; r++) {\n",
    "        if (projection[r] == 'R') {\n",
    "            republican += votes[r];\n",
    "        }\n",
    "    }\n",
    "    if (democrat > republican) {\n",
    "        return 'D';\n",
    "    }\n",
    "    else {\n",
    "        return 'R';\n",
    "    }\n",
    "}"
   ]
  },
  {
   "cell_type": "code",
   "execution_count": null,
   "id": "29c1b964-573e-4c7e-9080-285518bf925d",
   "metadata": {
    "slideshow": {
     "slide_type": "skip"
    },
    "tags": [
     "notes-only"
    ]
   },
   "outputs": [],
   "source": [
    "// Perform loop fusion\n",
    "char prediction(int *votes, char *projection) {\n",
    "    int democrat = 0;\n",
    "    int republican = 0;\n",
    "    int length = strlen(projection);\n",
    "    for (int v = 0; v < length; v++) {\n",
    "        if (projection[v] == 'D') {\n",
    "            democrat += votes[v];\n",
    "        }\n",
    "        if (projection[v] == 'R') {\n",
    "            republican += votes[v];\n",
    "        }\n",
    "    }\n",
    "    if (democrat > republican) {\n",
    "        return 'D';\n",
    "    }\n",
    "    else {\n",
    "        return 'R';\n",
    "    }\n",
    "}"
   ]
  },
  {
   "cell_type": "markdown",
   "id": "7cb2e042-dd02-431c-81b2-b6ca93eefcfe",
   "metadata": {
    "slideshow": {
     "slide_type": "skip"
    },
    "tags": [
     "worksheet-only"
    ]
   },
   "source": [
    "<p style=\"height:4em;\"></p>"
   ]
  },
  {
   "cell_type": "markdown",
   "id": "b975cab2-3934-4524-aadf-5df48bfbc146",
   "metadata": {
    "slideshow": {
     "slide_type": "subslide"
    },
    "tags": []
   },
   "source": [
    "* Q2: _Modify the `rowSum` function to improve locality_"
   ]
  },
  {
   "cell_type": "code",
   "execution_count": null,
   "id": "5e97aed8-cc25-49b8-b030-c6b6783acd27",
   "metadata": {},
   "outputs": [],
   "source": [
    "int *rowSum(int grid[][], int rows, int cols) {\n",
    "    int *sums = malloc(sizeof(int) * rows);\n",
    "    for (int i = 0; i < rows; i++) {\n",
    "        sum[i] = 0;\n",
    "    }\n",
    "    for (int r = 0; r < rows; r++) {\n",
    "        for (int c = 0; c < cols; c++) {\n",
    "            sums[r] += grid[r][c];\n",
    "        }\n",
    "    }\n",
    "    return sums;\n",
    "}"
   ]
  },
  {
   "cell_type": "code",
   "execution_count": null,
   "id": "96fb008a-e8b3-4243-b58c-7bb578038636",
   "metadata": {
    "slideshow": {
     "slide_type": "skip"
    },
    "tags": [
     "notes-only"
    ]
   },
   "outputs": [],
   "source": [
    "// Perform loop fusion\n",
    "int *rowSum(int grid[][], int rows, int cols) {\n",
    "    int *sums = malloc(sizeof(int) * rows);\n",
    "    for (int r = 0; r < rows; r++) {\n",
    "        sum[r] = 0;\n",
    "        for (int c = 0; c < cols; c++) {\n",
    "            sums[r] += grid[r][c];\n",
    "        }\n",
    "    }\n",
    "    return sums;\n",
    "}"
   ]
  },
  {
   "cell_type": "markdown",
   "id": "0a884faf-e3ce-4989-a95c-317b6d2361ee",
   "metadata": {
    "slideshow": {
     "slide_type": "skip"
    },
    "tags": [
     "worksheet-only"
    ]
   },
   "source": [
    "<div style=\"page-break-after:always;\"></div>"
   ]
  },
  {
   "cell_type": "markdown",
   "id": "177d7b56-26ce-4023-8010-92c448961bbf",
   "metadata": {
    "slideshow": {
     "slide_type": "skip"
    },
    "tags": [
     "notes-only"
    ]
   },
   "source": [
    "## Operating systems (OS) overview"
   ]
  },
  {
   "cell_type": "markdown",
   "id": "14ab688a-b402-42ca-b066-edfbfd1ef0b4",
   "metadata": {
    "slideshow": {
     "slide_type": "skip"
    },
    "tags": [
     "notes-only"
    ]
   },
   "source": [
    "* Purpose of an OS\n",
    "    * Make computer hardware easy to use—e.g., an OS knows how to load an application's executable code from persistent storage (e.g., solid state drive (SSD)) into main memory, initialize the process's address space (code, heap, stack), and make the CPU execute the application's instructions\n",
    "    * Support multiprocessing—i.e., running multiple applications concurrently\n",
    "        * Concurrently == switch between multiple tasks during a window of time—e.g., alternate between cooking and setting the table\n",
    "        * Simultaneously == complete two tasks at the same time—e.g., listen to a podcast while cooking\n",
    "    * Allocate and manage hardware resources—e.g., decide when/which applications can use the CPU, decide when/which memory applications can use, prevent applications from stealing/accessing another application's CPU time or memory\n",
    "    * Many OSes also provide a user interface (UI)\n",
    "* How does the OS fulfill its duties?\n",
    "    * Mechanisms — fundamental approaches for managing/providing access to hardware resources\n",
    "        * E.g., system calls, process abstraction\n",
    "    * Policy — specific ways of employing an approach; different policies make different trade-offs (in terms of efficiency, performance, etc.)\n",
    "        * E.g., process scheduler"
   ]
  },
  {
   "cell_type": "markdown",
   "id": "8d807688-da78-40a3-a6ba-33996b0e3916",
   "metadata": {
    "slideshow": {
     "slide_type": "skip"
    },
    "tags": [
     "notes-only"
    ]
   },
   "source": [
    "## Accessing hardware"
   ]
  },
  {
   "cell_type": "markdown",
   "id": "cbe3fc7e-2d67-495c-a15d-e62beb87eef6",
   "metadata": {
    "slideshow": {
     "slide_type": "skip"
    },
    "tags": [
     "notes-only"
    ]
   },
   "source": [
    "* OS is responsible for allocating/managing the hardware\n",
    "    * ⇒ applications should **not have unfettered access to hardware**\n",
    "* _How should applications access the hardware?_\n",
    "    * Ask the OS for access to the hardware\n",
    "        * How do we ensure the OS does not \"lose control\" of the hardware? \n",
    "    * Asks the OS to perform an action on the application's behalf\n",
    "        * How do we ensure this doesn't substantially degrade performance?\n",
    "* Example: execute an instruction on the CPU\n",
    "    * Asking the OS to do this on behalf of an application is impractical—OS would need to execute multiple assembly instructions for each assembly instruction the application wants to execute\n",
    "    * Alternative: allow the application to execute its own instructions on the CPU\n",
    "        * This is risky—an application may execute an instruction that controls the hardware, e.g., `hlt` (halt) instruction pauses the CPU\n",
    "    * Alternative: allow the application to execute \"safe\" instructions on its own on the CPU\n",
    "* Example: accessing the solid state drive (SSD)\n",
    "    * Allowing the application to access the SSD directly\n",
    "        * This is risky—an application may read/write data it should not be able to access\n",
    "    * Alternative: asking the OS to access the SSD on the application's behalf\n",
    "        * Latency of accessing SSD (~1 million CPU cycles) far outweighs the extra instructions required for OS to perform the access on the application's behalf\n",
    "* Mechanisms\n",
    "    * Limited Direct Execution (LDE)\n",
    "    * System calls"
   ]
  },
  {
   "cell_type": "markdown",
   "id": "355efd55-6796-413e-a0a6-8c7501aa4521",
   "metadata": {
    "slideshow": {
     "slide_type": "skip"
    },
    "tags": [
     "notes-only"
    ]
   },
   "source": [
    "## Limited Direct Execution"
   ]
  },
  {
   "cell_type": "markdown",
   "id": "de6963fe-c2d1-4eac-b236-ab5ad3ab0d09",
   "metadata": {
    "slideshow": {
     "slide_type": "skip"
    },
    "tags": [
     "notes-only"
    ]
   },
   "source": [
    "* CPU has two modes of execution: user mode & kernel mode\n",
    "* _When does a CPU run in user mode?_ — when executing application code\n",
    "* _When does a CPU run in kernel mode?_ — when executing OS code\n",
    "* Allowable operations in user mode are restricted\n",
    "    * Applications can...\n",
    "        * Perform arithmetic/logic operations\n",
    "        * Load/store values in its stack/heap\n",
    "    * Applications must ask the OS to...\n",
    "        * Start/terminate applications\n",
    "        * Create/delete files\n",
    "        * Display output on screen\n",
    "        * Read input from user\n",
    "    * Must transfer control to the OS to perform these operations — How?"
   ]
  },
  {
   "cell_type": "markdown",
   "id": "875d2126-6661-484d-8f8a-1a2dd266616a",
   "metadata": {
    "slideshow": {
     "slide_type": "slide"
    },
    "tags": []
   },
   "source": [
    "## System calls"
   ]
  },
  {
   "cell_type": "markdown",
   "id": "03e61e72-8b40-4383-9c0e-fea90793e257",
   "metadata": {
    "slideshow": {
     "slide_type": "skip"
    },
    "tags": [
     "notes-only"
    ]
   },
   "source": [
    "* Invoked via a special assembly instruction: trap (generic) or `svc` (on ARM)"
   ]
  },
  {
   "cell_type": "markdown",
   "id": "9aa4863d-1739-4f9e-a8b2-06b6442d024c",
   "metadata": {},
   "source": [
    "* Example program"
   ]
  },
  {
   "cell_type": "code",
   "execution_count": 1,
   "id": "04c6e2f0-3546-4401-80a3-6ddc170c1814",
   "metadata": {
    "tags": [
     "worksheet-code-only"
    ]
   },
   "outputs": [
    {
     "name": "stdout",
     "output_type": "stream",
     "text": [
      "User 501 is running this process\n"
     ]
    }
   ],
   "source": [
    "#include <stdio.h>\n",
    "#include <unistd.h>\n",
    "int user() {\n",
    "    int uid = getuid();\n",
    "    return uid;\n",
    "}\n",
    "int main() {\n",
    "    int u = user();\n",
    "    printf(\"User %d is running this process\\n\", u);\n",
    "}"
   ]
  },
  {
   "cell_type": "markdown",
   "id": "dbf3c944-810b-4b86-816f-d27174e7ecca",
   "metadata": {
    "slideshow": {
     "slide_type": "subslide"
    },
    "tags": []
   },
   "source": [
    "* Assembly code"
   ]
  },
  {
   "cell_type": "markdown",
   "id": "4f184ce1-aae7-48b8-931a-8d73ac5702b7",
   "metadata": {},
   "source": [
    "```\n",
    "00000000004006ac <user>:\n",
    "    4006ac:    d10083ff     sub    sp, sp, #0x20\n",
    "    4006b0:    f9000bfe     str    x30, [sp, #16]\n",
    "    4006b4:    94007713     bl    41e300 <__getuid>\n",
    "    4006b8:    b9000fe0     str    w0, [sp, #12]\n",
    "    4006bc:    b9400fe0     ldr    w0, [sp, #12]\n",
    "    4006c0:    f9400bfe     ldr    x30, [sp, #16]\n",
    "    4006c4:    910083ff     add    sp, sp, #0x20\n",
    "    4006c8:    d65f03c0     ret\n",
    "000000000041e300 <__getuid>:\n",
    "    41e300:    d28015c8     mov    x8, #0xae\n",
    "    41e304:    d4000001     svc    #0x0\n",
    "    41e308:    d65f03c0     ret\n",
    "```"
   ]
  },
  {
   "cell_type": "markdown",
   "id": "b165706f-1875-44c9-ba9b-9e6f60028664",
   "metadata": {
    "slideshow": {
     "slide_type": "skip"
    },
    "tags": [
     "notes-only"
    ]
   },
   "source": [
    "* Functions in the C standard library that involve a privileged operation (e.g., `printf`) put the system call number in a register and invoke a trap instruction — programmer doesn’t have to worry about these details; they can just call the appropriate function in the C standard library\n",
    "* When `svc` is executed\n",
    "    1. CPU saves registers to the kernel stack — kernel stack is at a fixed location in memory\n",
    "        * _Why do we need to save the registers?_ — so we can return to `user` when `__getuid` is done\n",
    "    2. CPU switches to kernel mode\n",
    "    3. CPU uses system call number to index into table of trap handlers \n",
    "        * At boot, initialize table of trap handlers with pointers into OS code for handling each type of syscall\n",
    "    4. Branch and link to trap handler code\n",
    "    5. CPU restores registers from the kernel stack\n",
    "    6. CPU switches to user mode\n",
    "    7. Resume execution after `svc` \n",
    "* _What should we do if an application tries to perform a privileged operation without making a system call?_\n",
    "    * Let the code keep running — code may assume privileged operation was successful\n",
    "    * Terminate the application"
   ]
  }
 ],
 "metadata": {
  "kernelspec": {
   "display_name": "C",
   "language": "c",
   "name": "c"
  },
  "language_info": {
   "file_extension": ".c",
   "mimetype": "c",
   "name": "c"
  }
 },
 "nbformat": 4,
 "nbformat_minor": 5
}
