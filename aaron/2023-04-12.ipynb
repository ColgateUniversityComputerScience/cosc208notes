{
 "cells": [
  {
   "cell_type": "markdown",
   "id": "ffc437ac-d10b-4d12-895d-712e9c2057b5",
   "metadata": {
    "slideshow": {
     "slide_type": "skip"
    },
    "tags": []
   },
   "source": [
    "# Multiprocessing: limited direct execution\n",
    "_COSC 208, Introduction to Computer Systems, 2023-04-12_"
   ]
  },
  {
   "cell_type": "markdown",
   "id": "c377c966-ee4b-4990-a6e6-a2d8f327a112",
   "metadata": {
    "slideshow": {
     "slide_type": "skip"
    },
    "tags": []
   },
   "source": [
    "## Announcements\n",
    "* DEI assignment 3 due Thursday @ 11pm\n",
    "* Project 4 due Thursday, April 20"
   ]
  },
  {
   "cell_type": "markdown",
   "id": "377e6d68-2202-4782-afc7-a43582630f55",
   "metadata": {
    "slideshow": {
     "slide_type": "skip"
    },
    "tags": []
   },
   "source": [
    "## Outline\n",
    "* Warm-up: Optimizing loops for locality\n",
    "* Operating Systems (OS)\n",
    "* Accessing hardware"
   ]
  },
  {
   "cell_type": "markdown",
   "id": "12012bfd-a4f4-4e7f-9d4b-3275ef92160b",
   "metadata": {},
   "source": [
    "## Warm-up: Optimizing loops for locality (Q5-Q8 from previous class)"
   ]
  },
  {
   "cell_type": "markdown",
   "id": "42491128-2604-426c-b00b-67a3b6a102d3",
   "metadata": {},
   "source": [
    "* Q1: _Modify the following function to better leverage spatial locality_"
   ]
  },
  {
   "cell_type": "code",
   "execution_count": null,
   "id": "4c6c14ea-e809-4d2a-a4ed-d41b61e414a9",
   "metadata": {
    "tags": []
   },
   "outputs": [],
   "source": [
    "void hundreds() {\n",
    "    int *nums = malloc(sizeof(int) * 1000);\n",
    "    for (int i = 0; i < 100; i++) {\n",
    "        for (int j = 0; j < 1000; j+= 100) {\n",
    "            nums[i+j] = i;\n",
    "        }\n",
    "    }\n",
    "}"
   ]
  },
  {
   "cell_type": "code",
   "execution_count": null,
   "id": "0f046a77-7952-4b15-8f61-d127d43ec1ad",
   "metadata": {
    "slideshow": {
     "slide_type": "skip"
    },
    "tags": [
     "notes-only"
    ]
   },
   "outputs": [],
   "source": [
    "// Perform loop interchange\n",
    "void hundreds_optimized() {\n",
    "    int *nums = malloc(sizeof(int) * 1000);\n",
    "    for (int j = 0; j < 1000; j+= 100) {\n",
    "        for (int i = 0; i < 100; i++) {\n",
    "            nums[i+j] = i;\n",
    "        }\n",
    "    }\n",
    "}"
   ]
  },
  {
   "cell_type": "markdown",
   "id": "37221c86-b273-4964-a99b-9f304816547b",
   "metadata": {
    "slideshow": {
     "slide_type": "skip"
    },
    "tags": [
     "worksheet-only"
    ]
   },
   "source": [
    "<p style=\"height:4em;\"></p>"
   ]
  },
  {
   "cell_type": "markdown",
   "id": "ce4ee1a1-fa05-4542-aaf3-c81e40656ceb",
   "metadata": {
    "slideshow": {
     "slide_type": "subslide"
    },
    "tags": []
   },
   "source": [
    "* Q2: _Modify the following function to improve temporal locality_"
   ]
  },
  {
   "cell_type": "code",
   "execution_count": null,
   "id": "06483be8-32ff-4feb-86d2-f0fffb185ad4",
   "metadata": {},
   "outputs": [],
   "source": [
    "int odds(int *nums, int length) {\n",
    "    for (int i = 0; i < length; i++) {\n",
    "        nums[i] = nums[i] % 2;\n",
    "    }\n",
    "    int count = 0;\n",
    "    for (int j = 0; j < length; j++) {\n",
    "        count += nums[j];\n",
    "    }\n",
    "    return count;\n",
    "}"
   ]
  },
  {
   "cell_type": "code",
   "execution_count": null,
   "id": "06c4bf14-9af9-4b0b-8414-c1e2a226411c",
   "metadata": {
    "slideshow": {
     "slide_type": "skip"
    },
    "tags": [
     "notes-only"
    ]
   },
   "outputs": [],
   "source": [
    "// Perform loop fusion\n",
    "int odds_optimized(int *nums, int length) {\n",
    "    int count = 0;\n",
    "    for (int i = 0; i < length; i++) {\n",
    "        nums[i] = nums[i] % 2;\n",
    "        count += nums[i];\n",
    "    }\n",
    "    return count;\n",
    "}"
   ]
  },
  {
   "cell_type": "markdown",
   "id": "f20d0067-b24e-4242-90c2-871e93f536f9",
   "metadata": {
    "slideshow": {
     "slide_type": "skip"
    },
    "tags": [
     "worksheet-only"
    ]
   },
   "source": [
    "<p style=\"height:4em;\"></p>"
   ]
  },
  {
   "cell_type": "markdown",
   "id": "377b6d60-0a7d-4e11-b699-ef2a64bf7399",
   "metadata": {
    "slideshow": {
     "slide_type": "subslide"
    },
    "tags": []
   },
   "source": [
    "* Q3: _Modify the following function to better leverage spatial locality_"
   ]
  },
  {
   "cell_type": "code",
   "execution_count": null,
   "id": "21f016e6-803f-4fe5-a01b-cb6b11293434",
   "metadata": {},
   "outputs": [],
   "source": [
    "void multiplication(int grid[][], int rows, int cols) {\n",
    "    for (int c = 0; c < cols; c++) {\n",
    "        for (int r = 0; r < rows; r++) {\n",
    "            grid[r][c] = c * r;\n",
    "        }\n",
    "    }\n",
    "}"
   ]
  },
  {
   "cell_type": "code",
   "execution_count": null,
   "id": "9080a645-5ea6-4509-ae44-d2e5a8f3c6e5",
   "metadata": {
    "slideshow": {
     "slide_type": "skip"
    },
    "tags": [
     "notes-only"
    ]
   },
   "outputs": [],
   "source": [
    "// Perform loop interchange\n",
    "void multiplication_optimized(int grid[][], int rows, int cols) {\n",
    "    for (int r = 0; r < rows; r++) {\n",
    "        for (int c = 0; c < cols; c++) {\n",
    "            grid[r][c] = c * r;\n",
    "        }\n",
    "    }\n",
    "}"
   ]
  },
  {
   "cell_type": "markdown",
   "id": "3610bdc9-64c6-4e76-ae64-e206cbd7ab39",
   "metadata": {
    "slideshow": {
     "slide_type": "skip"
    },
    "tags": [
     "worksheet-only"
    ]
   },
   "source": [
    "<div style=\"page-break-after:always;\"></div>"
   ]
  },
  {
   "cell_type": "markdown",
   "id": "a19bff5a-c280-4053-8192-187e3cd88f88",
   "metadata": {
    "slideshow": {
     "slide_type": "subslide"
    },
    "tags": []
   },
   "source": [
    "* Q4: _Modify the following function to improve temporal locality_"
   ]
  },
  {
   "cell_type": "code",
   "execution_count": null,
   "id": "fbc049c6-dbfd-4654-8865-b48233d54322",
   "metadata": {},
   "outputs": [],
   "source": [
    "long stdev(int *nums, int length) {\n",
    "    long sum = 0;\n",
    "    for (int i = 0; i < length; i++) {\n",
    "        sum += nums[i];\n",
    "    }\n",
    "    int mean = sum / length;\n",
    "    sum = 0;\n",
    "    for (int j = 0; j < length; j++) {\n",
    "        int diff = nums[j] - mean;\n",
    "        sum += diff * diff:\n",
    "    }\n",
    "    mean = sum / length;\n",
    "    return sqrt(mean);\n",
    "}"
   ]
  },
  {
   "cell_type": "markdown",
   "id": "496b4715-0e51-4abd-8099-075aea4945a1",
   "metadata": {
    "slideshow": {
     "slide_type": "skip"
    },
    "tags": [
     "notes-only"
    ]
   },
   "source": [
    "    It's not possible to optimize this code more:\n",
    "    no loops to interchange and loops cannot be fused."
   ]
  },
  {
   "cell_type": "markdown",
   "id": "56d1467f-8a55-4582-80b4-a0a98fdae647",
   "metadata": {
    "slideshow": {
     "slide_type": "skip"
    },
    "tags": [
     "worksheet-only"
    ]
   },
   "source": [
    "<p style=\"height:12em;\"></p>"
   ]
  },
  {
   "cell_type": "markdown",
   "id": "177d7b56-26ce-4023-8010-92c448961bbf",
   "metadata": {
    "slideshow": {
     "slide_type": "skip"
    },
    "tags": [
     "notes-only"
    ]
   },
   "source": [
    "## Operating systems (OS) overview"
   ]
  },
  {
   "cell_type": "markdown",
   "id": "14ab688a-b402-42ca-b066-edfbfd1ef0b4",
   "metadata": {
    "slideshow": {
     "slide_type": "skip"
    },
    "tags": [
     "notes-only"
    ]
   },
   "source": [
    "* Purpose of an OS\n",
    "    * Make computer hardware easy to use—e.g., an OS knows how to load an application's executable code from persistent storage (e.g., solid state drive (SSD)) into main memory, initialize the process's address space (code, heap, stack), and make the CPU execute the application's instructions\n",
    "    * Support multiprocessing—i.e., running multiple applications concurrently\n",
    "        * Concurrently == switch between multiple tasks during a window of time—e.g., alternate between cooking and setting the table\n",
    "        * Simultaneously == complete two tasks at the same time—e.g., listen to a podcast while cooking\n",
    "    * Allocate and manage hardware resources—e.g., decide when/which applications can use the CPU, decide when/which memory applications can use, prevent applications from stealing/accessing another application's CPU time or memory\n",
    "    * Many OSes also provide a user interface (UI)\n",
    "* How does the OS fulfill its duties?\n",
    "    * Mechanisms — fundamental approaches for managing/providing access to hardware resources\n",
    "        * E.g., system calls, process abstraction\n",
    "    * Policy — specific ways of employing an approach; different policies make different trade-offs (in terms of efficiency, performance, etc.)\n",
    "        * E.g., process scheduler"
   ]
  },
  {
   "cell_type": "markdown",
   "id": "8d807688-da78-40a3-a6ba-33996b0e3916",
   "metadata": {
    "slideshow": {
     "slide_type": "skip"
    },
    "tags": [
     "notes-only"
    ]
   },
   "source": [
    "## Accessing hardware"
   ]
  },
  {
   "cell_type": "markdown",
   "id": "cbe3fc7e-2d67-495c-a15d-e62beb87eef6",
   "metadata": {
    "slideshow": {
     "slide_type": "skip"
    },
    "tags": [
     "notes-only"
    ]
   },
   "source": [
    "* OS is responsible for allocating/managing the hardware\n",
    "    * ⇒ applications should **not have unfettered access to hardware**\n",
    "* _How should applications access the hardware?_\n",
    "    * Ask the OS for access to the hardware\n",
    "        * How do we ensure the OS does not \"lose control\" of the hardware? \n",
    "    * Asks the OS to perform an action on the application's behalf\n",
    "        * How do we ensure this doesn't substantially degrade performance?\n",
    "* Example: execute an instruction on the CPU\n",
    "    * Asking the OS to do this on behalf of an application is impractical—OS would need to execute multiple assembly instructions for each assembly instruction the application wants to execute\n",
    "    * Alternative: allow the application to execute its own instructions on the CPU\n",
    "        * This is risky—an application may execute an instruction that controls the hardware, e.g., `hlt` (halt) instruction pauses the CPU\n",
    "    * Alternative: allow the application to execute \"safe\" instructions on its own on the CPU\n",
    "* Example: accessing the solid state drive (SSD)\n",
    "    * Allowing the application to access the SSD directly\n",
    "        * This is risky—an application may read/write data it should not be able to access\n",
    "    * Alternative: asking the OS to access the SSD on the application's behalf\n",
    "        * Latency of accessing SSD (~1 million CPU cycles) far outweighs the extra instructions required for OS to perform the access on the application's behalf\n",
    "* Mechanisms\n",
    "    * Limited Direct Execution (LDE)\n",
    "    * System calls"
   ]
  },
  {
   "cell_type": "markdown",
   "id": "6ae91b08-5b7e-48ba-bbea-57f4aee2f423",
   "metadata": {
    "slideshow": {
     "slide_type": "slide"
    },
    "tags": []
   },
   "source": [
    "## Extra practice"
   ]
  },
  {
   "cell_type": "markdown",
   "id": "b7afe07a-c495-464d-9b52-4c7548a62769",
   "metadata": {},
   "source": [
    "* Q5: _Modify the `prediction` function to improve locality_"
   ]
  },
  {
   "cell_type": "code",
   "execution_count": null,
   "id": "6edea58a-eed6-4084-ae6b-8052d33f84bd",
   "metadata": {},
   "outputs": [],
   "source": [
    "char prediction(int *votes, char *projection) {\n",
    "    int democrat = 0;\n",
    "    int republican = 0;\n",
    "    int length = strlen(projection);\n",
    "    for (int d = 0; d < length; d++) {\n",
    "        if (projection[d] == 'D') {\n",
    "            democrat += votes[d];\n",
    "        }\n",
    "    }\n",
    "    for (int r = 0; r < length; r++) {\n",
    "        if (projection[r] == 'R') {\n",
    "            republican += votes[r];\n",
    "        }\n",
    "    }\n",
    "    if (democrat > republican) {\n",
    "        return 'D';\n",
    "    }\n",
    "    else {\n",
    "        return 'R';\n",
    "    }\n",
    "}"
   ]
  },
  {
   "cell_type": "code",
   "execution_count": null,
   "id": "29c1b964-573e-4c7e-9080-285518bf925d",
   "metadata": {
    "slideshow": {
     "slide_type": "skip"
    },
    "tags": [
     "notes-only"
    ]
   },
   "outputs": [],
   "source": [
    "// Perform loop fusion\n",
    "char prediction(int *votes, char *projection) {\n",
    "    int democrat = 0;\n",
    "    int republican = 0;\n",
    "    int length = strlen(projection);\n",
    "    for (int v = 0; v < length; v++) {\n",
    "        if (projection[v] == 'D') {\n",
    "            democrat += votes[v];\n",
    "        }\n",
    "        if (projection[v] == 'R') {\n",
    "            republican += votes[v];\n",
    "        }\n",
    "    }\n",
    "    if (democrat > republican) {\n",
    "        return 'D';\n",
    "    }\n",
    "    else {\n",
    "        return 'R';\n",
    "    }\n",
    "}"
   ]
  },
  {
   "cell_type": "markdown",
   "id": "08e6da29-f550-45c2-9a40-bb7401a0f1f4",
   "metadata": {
    "slideshow": {
     "slide_type": "skip"
    },
    "tags": [
     "worksheet-only"
    ]
   },
   "source": [
    "<p style=\"height:4em;\"></p>"
   ]
  },
  {
   "cell_type": "markdown",
   "id": "f695822a-7d3c-433b-a60c-fe7450ad3f3f",
   "metadata": {
    "slideshow": {
     "slide_type": "subslide"
    },
    "tags": []
   },
   "source": [
    "* Q6: _Modify the `rowSum` function to improve locality_"
   ]
  },
  {
   "cell_type": "code",
   "execution_count": null,
   "id": "5e97aed8-cc25-49b8-b030-c6b6783acd27",
   "metadata": {},
   "outputs": [],
   "source": [
    "int *rowSum(int grid[][], int rows, int cols) {\n",
    "    int *sums = malloc(sizeof(int) * rows);\n",
    "    for (int i = 0; i < rows; i++) {\n",
    "        sum[i] = 0;\n",
    "    }\n",
    "    for (int r = 0; r < rows; r++) {\n",
    "        for (int c = 0; c < cols; c++) {\n",
    "            sums[r] += grid[r][c];\n",
    "        }\n",
    "    }\n",
    "    return sums;\n",
    "}"
   ]
  },
  {
   "cell_type": "code",
   "execution_count": null,
   "id": "96fb008a-e8b3-4243-b58c-7bb578038636",
   "metadata": {
    "slideshow": {
     "slide_type": "skip"
    },
    "tags": [
     "notes-only"
    ]
   },
   "outputs": [],
   "source": [
    "// Perform loop fusion\n",
    "int *rowSum(int grid[][], int rows, int cols) {\n",
    "    int *sums = malloc(sizeof(int) * rows);\n",
    "    for (int r = 0; r < rows; r++) {\n",
    "        sum[r] = 0;\n",
    "        for (int c = 0; c < cols; c++) {\n",
    "            sums[r] += grid[r][c];\n",
    "        }\n",
    "    }\n",
    "    return sums;\n",
    "}"
   ]
  }
 ],
 "metadata": {
  "kernelspec": {
   "display_name": "C",
   "language": "c",
   "name": "c"
  },
  "language_info": {
   "file_extension": ".c",
   "mimetype": "c",
   "name": "c"
  }
 },
 "nbformat": 4,
 "nbformat_minor": 5
}
