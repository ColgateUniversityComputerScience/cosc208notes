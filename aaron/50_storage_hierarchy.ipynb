{
 "cells": [
  {
   "cell_type": "markdown",
   "id": "d4c0cf7a-6741-41de-924b-477e6ac8b4e3",
   "metadata": {
    "editable": true,
    "slideshow": {
     "slide_type": "skip"
    },
    "tags": []
   },
   "source": [
    "# Storage: memory hierarchy; locality\n",
    "_COSC 208, Introduction to Computer Systems, Fall 2024_"
   ]
  },
  {
   "cell_type": "markdown",
   "id": "3c81fa41-f1ac-4552-9871-30e7b322189b",
   "metadata": {
    "editable": true,
    "slideshow": {
     "slide_type": "skip"
    },
    "tags": []
   },
   "source": [
    "## Memory hierarchy"
   ]
  },
  {
   "cell_type": "markdown",
   "id": "9de3d2df-2b1e-48c5-aaac-92804f025d77",
   "metadata": {
    "editable": true,
    "slideshow": {
     "slide_type": ""
    },
    "tags": [
     "question"
    ]
   },
   "source": [
    "Q1: _For each of the following characteristics, circle the type(s) of memory to which the characteristic applies. (HDD = Hard Disk Drive; RAM = Random Access Memory; SSD = Solid State Drive)_"
   ]
  },
  {
   "cell_type": "markdown",
   "id": "d384d594-b4f7-46fa-a175-67cb7c5e5391",
   "metadata": {
    "editable": true,
    "slideshow": {
     "slide_type": "skip"
    },
    "tags": [
     "answer"
    ]
   },
   "source": [
    "* Lowest monetary cost: HDD\n",
    "* Fastest: Registers\n",
    "* On CPU: Cache, Registers\n",
    "* Volatile: Cache, RAM, Registers\n",
    "* Size measured in megabytes (MB) in a present day laptop: Cache\n",
    "* Size measured in gigabytes (GB) in a present day laptop: RAM\n",
    "* Size measured in terabytes (TB) in a present day laptop: HDD, SSD"
   ]
  },
  {
   "cell_type": "markdown",
   "id": "a6c9a778-218c-4afc-af33-bae7e85213ad",
   "metadata": {
    "editable": true,
    "slideshow": {
     "slide_type": ""
    },
    "tags": [
     "blank"
    ]
   },
   "source": [
    "| Characteristic | | | | | |\n",
    "|-----|-|-|-|-|-|\n",
    "| <br/>Lowest monetary cost<br/><br/> | Cache | HDD | RAM | Registers | SSD |\n",
    "| <br/>Fastest<br/><br/> | Cache | HDD | RAM | Registers | SSD |\n",
    "| <br/>On CPU<br/><br/> | Cache | HDD | RAM | Registers | SSD |\n",
    "| <br/>Volatile<br/><br/> | Cache | HDD | RAM | Registers | SSD |\n",
    "| <br/>Size measured in megabytes (MB)<br/>in a present day laptop | Cache | HDD | RAM | Registers | SSD |\n",
    "| <br/>Size measured in gigabytes (GB)<br/>in a present day laptop | Cache | HDD | RAM | Registers | SSD |\n",
    "| <br/>Size measured in terabytes (TB)<br/>in a present day laptop | Cache | HDD | RAM | Registers | SSD |"
   ]
  },
  {
   "cell_type": "markdown",
   "id": "120c5877-aa9f-4dee-b23c-5654242ef41a",
   "metadata": {
    "editable": true,
    "slideshow": {
     "slide_type": "skip"
    },
    "tags": [
     "notes-only"
    ]
   },
   "source": [
    "* Access latency\n",
    "    * Let's consider a 1hz CPU, which means 1 cycle = 1 second\n",
    "    * Registers — 1 cycle = 1 second\n",
    "    * Caches — ~10 cycles = ~10 seconds\n",
    "    * Main memory — ~100 cycles = ~2 minutes\n",
    "    * Solid-state drive — ~1 million cycles = ~11.5 days\n",
    "    * Hard (i.e., traditional) disk drive — ~10 million cycles = ~115 days\n",
    "    * Remote (i.e., network) storage — ~20ms = ~2 years\n",
    "* Storage capacity\n",
    "    * Let's assume 1 byte = 1mL\n",
    "    * Registers — 30 * 8B = ~250mL = ~1 cup\n",
    "    * Caches (Core i7 in MacBook Pro)\n",
    "        * L1 — 32KB + 32KB = 64L = ~1 tank of gas\n",
    "        * L2 — 512KB * 4 cores = 2048L = ~7 bathtubs\n",
    "    * Main memory = 32GB (in MacBook Pro) = ~13 olympic swimming pools\n",
    "    * SSD = 1TB (in MacBook Pro) = ~Lake Moraine\n",
    "* Monetary cost – due to the design/components required for each storage technology"
   ]
  },
  {
   "cell_type": "markdown",
   "id": "0baa2c49-b586-42ab-ba73-5a385f25e081",
   "metadata": {
    "editable": true,
    "slideshow": {
     "slide_type": "skip"
    },
    "tags": [
     "blank"
    ]
   },
   "source": [
    "<p style=\"height:20em;\"></p>"
   ]
  },
  {
   "cell_type": "markdown",
   "id": "37a0b3a3-5e1f-4406-8ca1-0a99cd9a9059",
   "metadata": {
    "editable": true,
    "slideshow": {
     "slide_type": "skip"
    },
    "tags": [
     "notes-only"
    ]
   },
   "source": [
    "## Efficiency"
   ]
  },
  {
   "cell_type": "markdown",
   "id": "041529e3-afda-4f78-8dad-dc0b87658f36",
   "metadata": {
    "editable": true,
    "slideshow": {
     "slide_type": "skip"
    },
    "tags": [
     "notes-only"
    ]
   },
   "source": [
    "* Ideally, all data would be stored in registers, because these are the fastest type of storage\n",
    "* _Why is this not practical?_ – limited storage capacity; high monetary cost (relative to other forms of memory)\n",
    "* _Where are a program's values stored when they are not stored in registers?_ – on the stack and heap in main memory\n",
    "* Recall: _How does data move between the CPU, main memory, and secondary storage in the von Neumann Architecture?_ — bus\n",
    "* To make code run faster, we want to limit how frequently data has to be moved betwee the CPU and main memory\n",
    "    * Better register assignment – can reduce number of loads and stores\n",
    "    * Caches – temporaily store some regions of main memory in the CPU\n",
    "    * Better code design – write/revise code with caches in mind"
   ]
  },
  {
   "cell_type": "markdown",
   "id": "e2db81e4-c337-4ae4-bfe2-8dc95d6b2c77",
   "metadata": {
    "editable": true,
    "slideshow": {
     "slide_type": "slide"
    },
    "tags": []
   },
   "source": [
    "## Reducing loads and stores"
   ]
  },
  {
   "cell_type": "markdown",
   "id": "de6f9421-7757-4fd9-893e-4074f569b953",
   "metadata": {
    "editable": true,
    "slideshow": {
     "slide_type": "skip"
    },
    "tags": [
     "notes-only"
    ]
   },
   "source": [
    "* Loads and stores are unnecessary when the value of a register is not changed between store and load instructions involving the same register and memory address\n",
    "* Example load which is _unnecessary_\n",
    "    ```\n",
    "    str x0, [sp,#4]\n",
    "    ldr x0, [sp,#4] // Can eliminate\n",
    "    ```\n",
    "    * If there are no other `ldr` instructions that load from `[sp,#4]`, then it is unnecessary to store a value at `[sp,#4]` and the `str` instruction can also be eliminated\n",
    "* Example store which is _necessary_\n",
    "    ```\n",
    "    str w0, [sp,#4]\n",
    "    mov w0, #0x1\n",
    "    str w0, [sp]\n",
    "    ldr w0, [sp,#4]\n",
    "    ```\n",
    "* Better register assignments to eliminate loads (and stores)\n",
    "    ```\n",
    "    str w0, [sp,#4]\n",
    "    mov w1, #0x1\n",
    "    str w1, [sp]\n",
    "    ldr w0, [sp,#4] // Can eliminiate\n",
    "    ```\n",
    "* Must preserve calling conventions\n",
    "    * Parameters are stored in w/x0, w/x1, ...\n",
    "    * Return value is stored in w/x0\n",
    "    * Caller must store register values into caller's stack frame before `bl` to callee — actually only needed if values in registers are needed by caller after `bl` and callee overwrites the values in those registers"
   ]
  },
  {
   "cell_type": "markdown",
   "id": "cde39ad0-3323-468c-82cb-8d9971ab4347",
   "metadata": {
    "editable": true,
    "slideshow": {
     "slide_type": "skip"
    },
    "tags": []
   },
   "source": [
    "_Example_"
   ]
  },
  {
   "cell_type": "markdown",
   "id": "362022d9-426a-44a4-8c9d-6920afae26c2",
   "metadata": {
    "editable": true,
    "slideshow": {
     "slide_type": "skip"
    },
    "tags": [
     "answer"
    ]
   },
   "source": [
    "```\n",
    "000000000000088c <interest_due>:\n",
    "    88c:    sub    sp, sp, #0x20\n",
    "    890:    str    w0, [sp, #12]    XXXXX\n",
    "    894:    str    w1, [sp, #8]     XXXXX\n",
    "    898:    ldr    w0, [sp, #12]    XXXXX\n",
    "    89c:    ldr    w1, [sp, #8]     XXXXX\n",
    "    8a0:    mul    w0, w1, w0\n",
    "    8a4:    str    w0, [sp, #20]\n",
    "    8a8:    mov    w0, #0x4b0\n",
    "    8ac:    str    w0, [sp, #24]    XXXXX\n",
    "    8b0:    ldr    w1, [sp, #20]\n",
    "    8b4:    ldr    w0, [sp, #24]    XXXXX\n",
    "    8b8:    sdiv   w0, w1, w0\n",
    "    8bc:    str    w0, [sp, #28]    XXXXX\n",
    "    8c0:    ldr    w0, [sp, #28]    XXXXX\n",
    "    8c4:    add    sp, sp, #0x20\n",
    "    8c8:    ret\n",
    "```"
   ]
  },
  {
   "cell_type": "markdown",
   "id": "ac717616-ebae-4ebe-ba71-a2e54b5b8832",
   "metadata": {
    "editable": true,
    "slideshow": {
     "slide_type": "skip"
    },
    "tags": [
     "answer"
    ]
   },
   "source": [
    "```\n",
    "000000000000088c <interest_due>:\n",
    "    88c:    sub    sp, sp, #0x20    XXXXX\n",
    "    8a0:    mul    w0, w1, w0       \n",
    "    8a4:    str    w0, [sp, #20]    XXXXX\n",
    "    8a8:    mov    w0, #0x4b0       // mov w1 #0x4b0\n",
    "    8b0:    ldr    w1, [sp, #20]    XXXXX\n",
    "    8b8:    sdiv   w0, w1, w0       // sdiv w0, w0, w1\n",
    "    8c4:    add    sp, sp, #0x20    XXXXX\n",
    "    8c8:    ret\n",
    "```"
   ]
  },
  {
   "cell_type": "markdown",
   "id": "c4f7d49b-2bbf-402b-b95f-db8809dbceff",
   "metadata": {
    "editable": true,
    "slideshow": {
     "slide_type": ""
    },
    "tags": [
     "blank"
    ]
   },
   "source": [
    "```\n",
    "000000000000088c <interest_due>:\n",
    "    88c:    sub    sp, sp, #0x20\n",
    "    890:    str    w0, [sp, #12]\n",
    "    894:    str    w1, [sp, #8]\n",
    "    898:    ldr    w0, [sp, #12]\n",
    "    89c:    ldr    w1, [sp, #8]\n",
    "    8a0:    mul    w0, w1, w0\n",
    "    8a4:    str    w0, [sp, #20]\n",
    "    8a8:    mov    w0, #0x4b0\n",
    "    8ac:    str    w0, [sp, #24]\n",
    "    8b0:    ldr    w1, [sp, #20]\n",
    "    8b4:    ldr    w0, [sp, #24]\n",
    "    8b8:    sdiv   w0, w1, w0\n",
    "    8bc:    str    w0, [sp, #28]\n",
    "    8c0:    ldr    w0, [sp, #28]\n",
    "    8c4:    add    sp, sp, #0x20\n",
    "    8c8:    ret\n",
    "```"
   ]
  },
  {
   "cell_type": "markdown",
   "id": "fb0d741c-0440-4968-b387-848ba8374bae",
   "metadata": {
    "editable": true,
    "slideshow": {
     "slide_type": "skip"
    },
    "tags": [
     "blank"
    ]
   },
   "source": [
    "<p style=\"height:15em;\"></p>"
   ]
  },
  {
   "cell_type": "markdown",
   "id": "3ffd6856-f317-4f28-9342-0924670b24d2",
   "metadata": {
    "editable": true,
    "slideshow": {
     "slide_type": "subslide"
    },
    "tags": [
     "question"
    ]
   },
   "source": [
    "Q3: _Cross-out unnecessary loads and stores in the following assembly code:_"
   ]
  },
  {
   "cell_type": "markdown",
   "id": "22af762c-4c51-490f-b957-d0cccdcee5e7",
   "metadata": {
    "editable": true,
    "slideshow": {
     "slide_type": "skip"
    },
    "tags": [
     "answer"
    ]
   },
   "source": [
    "```\n",
    "000000000000076c <divide>:                      \n",
    "    76c:    d10083ff     sub    sp, sp, #0x20   \n",
    "    770:    b9000fe0     str    w0, [sp, #12]\n",
    "    774:    b9000be1     str    w1, [sp, #8]        XXXX\n",
    "    778:    12800000     mov    w0, #0xffffffff     \n",
    "    77c:    b9001fe0     str    w0, [sp, #28]       XXXX\n",
    "    780:    b9400fe1     ldr    w1, [sp, #8]        XXXX\n",
    "    784:    b9400be0     ldr    w0, [sp, #12]\n",
    "    788:    1ac00c20     sdiv   w0, w1, w0      \n",
    "    78c:    b9001fe0     str    w0, [sp, #28]       XXXX\n",
    "    790:    b9401fe0     ldr    w0, [sp, #28]       XXXX\n",
    "    794:    910083ff     add    sp, sp, #0x20   \n",
    "    798:    d65f03c0     ret                    \n",
    "```"
   ]
  },
  {
   "cell_type": "markdown",
   "id": "078952b6-20be-4585-b8b7-6743985daaa7",
   "metadata": {
    "editable": true,
    "slideshow": {
     "slide_type": ""
    },
    "tags": [
     "blank"
    ]
   },
   "source": [
    "```\n",
    "000000000000076c <divide>:                      \n",
    "    76c:    d10083ff     sub    sp, sp, #0x20\n",
    "    770:    b9000fe0     str    w0, [sp, #12]\n",
    "    774:    b9000be1     str    w1, [sp, #8]\n",
    "    778:    12800000     mov    w0, #0xffffffff\n",
    "    77c:    b9001fe0     str    w0, [sp, #28]\n",
    "    780:    b9400fe1     ldr    w1, [sp, #8]\n",
    "    784:    b9400be0     ldr    w0, [sp, #12]\n",
    "    788:    1ac00c20     sdiv   w0, w1, w0\n",
    "    78c:    b9001fe0     str    w0, [sp, #28]\n",
    "    790:    b9401fe0     ldr    w0, [sp, #28]\n",
    "    794:    910083ff     add    sp, sp, #0x20\n",
    "    798:    d65f03c0     ret\n",
    "```"
   ]
  },
  {
   "cell_type": "markdown",
   "id": "f4d26f50-4823-47e0-ae7b-0f61f40ebd30",
   "metadata": {
    "editable": true,
    "slideshow": {
     "slide_type": "subslide"
    },
    "tags": [
     "question"
    ]
   },
   "source": [
    "Q4: _Cross-out unnecessary loads and stores in the following assembly code:_"
   ]
  },
  {
   "cell_type": "markdown",
   "id": "2295375b-f89c-4f51-8086-a477139ac213",
   "metadata": {
    "editable": true,
    "slideshow": {
     "slide_type": "skip"
    },
    "tags": [
     "answer"
    ]
   },
   "source": [
    "```\n",
    "0000000000400584 <pow2>:\n",
    "    400584:       d10043ff        sub     sp, sp, #0x10\n",
    "    400588:       b9000fe0        str     w0, [sp, #12]     XXX\n",
    "    40058c:       52800028        mov     w8, #0x1\n",
    "    400590:       b9000be8        str     w8, [sp, #8]      XXX\n",
    "    400594:       b9400fe8        ldr     w0, [sp, #12]     XXX\n",
    "    400598:       7100011f        cmp     w0, #0x0\n",
    "    40059c:       37000128        b.le    4005c0 <pow2+0x3c>\n",
    "    4005a0:       b9400be8        ldr     w8, [sp, #8]      XXX\n",
    "    4005a4:       52800049        mov     w9, #0x2\n",
    "    4005a8:       1b097d08        mul     w8, w8, w9\n",
    "    4005ac:       b9000be8        str     w8, [sp, #8]\n",
    "    4005b0:       b9400fe8        ldr     w0, [sp, #12]     XXX\n",
    "    4005b4:       71000508        subs    w0, w0, #0x1\n",
    "    4005b8:       b9000fe8        str     w0, [sp, #12]     XXX\n",
    "    4005bc:       17fffff5        b       400594 <pow2+0x10>\n",
    "    4005c0:       b9400be0        ldr     w0, [sp, #8]\n",
    "    4005c4:       910043ff        add     sp, sp, #0x10\n",
    "    4005c8:       d65f03c0        ret\n",
    "```"
   ]
  },
  {
   "cell_type": "markdown",
   "id": "baaa2685-1a0c-4cd6-a590-5198e23ab3d9",
   "metadata": {
    "editable": true,
    "slideshow": {
     "slide_type": ""
    },
    "tags": [
     "blank"
    ]
   },
   "source": [
    "```\n",
    "0000000000400584 <pow2>:\n",
    "    400584:       d10043ff        sub     sp, sp, #0x10\n",
    "    400588:       b9000fe0        str     w0, [sp, #12]\n",
    "    40058c:       52800028        mov     w8, #0x1\n",
    "    400590:       b9000be8        str     w8, [sp, #8]\n",
    "    400594:       b9400fe8        ldr     w0, [sp, #12]\n",
    "    400598:       7100011f        cmp     w0, #0x0\n",
    "    40059c:       37000128        b.le    4005c0 <pow2+0x3c>\n",
    "    4005a0:       b9400be8        ldr     w8, [sp, #8]\n",
    "    4005a4:       52800049        mov     w9, #0x2\n",
    "    4005a8:       1b097d08        mul     w8, w8, w9\n",
    "    4005ac:       b9000be8        str     w8, [sp, #8]\n",
    "    4005b0:       b9400fe8        ldr     w0, [sp, #12]\n",
    "    4005b4:       71000508        subs    w0, w0, #0x1\n",
    "    4005b8:       b9000fe8        str     w0, [sp, #12]\n",
    "    4005bc:       17fffff5        b       400594 <pow2+0x10>\n",
    "    4005c0:       b9400be0        ldr     w0, [sp, #8]\n",
    "    4005c4:       910043ff        add     sp, sp, #0x10\n",
    "    4005c8:       d65f03c0        ret\n",
    "```"
   ]
  },
  {
   "cell_type": "markdown",
   "id": "2f23bbea-d559-4a40-b181-da132167cfd6",
   "metadata": {
    "editable": true,
    "slideshow": {
     "slide_type": "subslide"
    },
    "tags": []
   },
   "source": [
    "Q5: _Cross-out unnecessary loads and stores in the following assembly code:_"
   ]
  },
  {
   "cell_type": "markdown",
   "id": "8b49e5e1-d2c8-4876-98a3-614c3321edc9",
   "metadata": {
    "editable": true,
    "slideshow": {
     "slide_type": "skip"
    },
    "tags": [
     "answer"
    ]
   },
   "source": [
    "```\n",
    "000000000000071c <flip>:\n",
    "    71c:    d10083ff     sub    sp, sp, #0x20\n",
    "    720:    b9000fe0     str    w0, [sp, #12]   XXXX\n",
    "    724:    12800000     mov    w1, #0xffffffff\n",
    "    728:    b9001fe0     str    w1, [sp, #28]\n",
    "    72c:    b9400fe0     ldr    w0, [sp, #12]   XXXX\n",
    "    730:    7100001f     cmp    w0, #0x0\n",
    "    734:    54000081     b.eq   740 <flip+0x28>\n",
    "    738:    b9001fff     str    wzr, [sp, #28]\n",
    "    73c:    14000002     b      748 <flip+0x2c>\n",
    "    740:    52800020     mov    w0, #0x1\n",
    "    744:    b9001fe0     str    w0, [sp, #28]\n",
    "    748:    b9401fe0     ldr    w0, [sp, #28]\n",
    "    74c:    910083ff     add    sp, sp, #0x20\n",
    "    750:    d65f03c0     ret    \n",
    "```"
   ]
  },
  {
   "cell_type": "markdown",
   "id": "02042e94-8749-49ee-9542-392a79b3e540",
   "metadata": {
    "editable": true,
    "slideshow": {
     "slide_type": ""
    },
    "tags": [
     "question"
    ]
   },
   "source": [
    "```\n",
    "000000000000071c <flip>:\n",
    "    71c:    d10083ff     sub    sp, sp, #0x20\n",
    "    720:    b9000fe0     str    w0, [sp, #12]\n",
    "    724:    12800000     mov    w1, #0xffffffff\n",
    "    728:    b9001fe0     str    w1, [sp, #28]\n",
    "    72c:    b9400fe0     ldr    w0, [sp, #12]\n",
    "    730:    7100001f     cmp    w0, #0x0\n",
    "    734:    54000081     b.eq   740 <flip+0x28>\n",
    "    738:    b9001fff     str    wzr, [sp, #28]\n",
    "    73c:    14000002     b      748 <flip+0x2c>\n",
    "    740:    52800020     mov    w0, #0x1\n",
    "    744:    b9001fe0     str    w0, [sp, #28]\n",
    "    748:    b9401fe0     ldr    w0, [sp, #28]\n",
    "    74c:    910083ff     add    sp, sp, #0x20\n",
    "    750:    d65f03c0     ret    \n",
    "```\n",
    "\n",
    "<div style=\"page-break-after:always;\"></div>"
   ]
  },
  {
   "cell_type": "markdown",
   "id": "55fd2aca-9542-44be-8970-ad366c6cfdc1",
   "metadata": {
    "editable": true,
    "slideshow": {
     "slide_type": "subslide"
    },
    "tags": [
     "notes-only"
    ]
   },
   "source": [
    "## Temporal vs. spatial locality"
   ]
  },
  {
   "cell_type": "markdown",
   "id": "dad138e9-ceb0-48cb-84d6-8ce71da7c179",
   "metadata": {
    "editable": true,
    "slideshow": {
     "slide_type": "skip"
    },
    "tags": [
     "notes-only"
    ]
   },
   "source": [
    "* _What is temporal locality?_\n",
    "    * Access the same data repeatedly\n",
    "    * E.g., for loop variable\n",
    "* _What is spatial locality?_\n",
    "    * Access data with a similar scope\n",
    "    * E.g., next item in array\n",
    "    * E.g., local variables/parameters, which are stored in the same stack frame\n",
    "* Analogies for temporal and spatial locality\n",
    "    * Book storage (Dive Into Systems Section 11.3.2)\n",
    "        * Temporal locality — store most frequently used books at your desk, less frequently used books on your bookshelf, and least frequently used books at the library\n",
    "        * Spatial locality — checkout books on the same/nearby subjects when you go to the library\n",
    "    * Groceries\n",
    "        * Temporal locality — you store food you eat frequently in the front of the refrigerator, while you store food you eat infrequently in the back of the refrigerator\n",
    "        * Spatial locality — you organize the items on your grocery list based on the aisle in which they are located"
   ]
  },
  {
   "cell_type": "markdown",
   "id": "945636dc-bb1d-4eaf-901e-ea818d02112d",
   "metadata": {
    "editable": true,
    "slideshow": {
     "slide_type": ""
    },
    "tags": [
     "question"
    ]
   },
   "source": [
    "Q6: _For each of the following scenarios, indicate whether it is an example of temporal locality, spatial locality, or neither._"
   ]
  },
  {
   "cell_type": "markdown",
   "id": "f19a37b7-686b-4c42-99b9-96ca04ea6841",
   "metadata": {
    "editable": true,
    "slideshow": {
     "slide_type": "skip"
    },
    "tags": [
     "answer"
    ]
   },
   "source": [
    "* Gates for flights on the same airline are located in the same airport terminal/concourse – spatial locality\n",
    "* A grocery list is arranged in alphabetical order – neither\n",
    "* Clothes in a closet are grouped into outfits, with a shirt and a pair of pants stored next to each other – spatial locality\n",
    "* Boxes of cereal, bowls, and spoons are stored in adjacent kitchen cabinets/drawers – spatial locality\n",
    "* You repeatedly check your phone for new messages – temporal locality\n",
    "* A variable used in a for loop – temporal locality\n",
    "* Variables used in different functions – neither\n",
    "* A function's parameters, which are each used once within the function – spatial locality"
   ]
  },
  {
   "cell_type": "markdown",
   "id": "473bba79-daba-4112-be4f-5c589c3830bd",
   "metadata": {
    "editable": true,
    "slideshow": {
     "slide_type": ""
    },
    "tags": [
     "blank"
    ]
   },
   "source": [
    "* Gates for flights on the same airline are located in the same airport terminal/concourse\n",
    "* A grocery list is arranged in alphabetical order\n",
    "* Clothes in a closet are grouped into outfits, with a shirt and a pair of pants stored next to each other\n",
    "* Boxes of cereal, bowls, and spoons are stored in adjacent kitchen cabinets/drawers\n",
    "* You repeatedly check your phone for new messages\n",
    "* A variable used in a for loop\n",
    "* Variables used in different functions\n",
    "* A function's parameters, which are each used once within the function"
   ]
  }
 ],
 "metadata": {
  "kernelspec": {
   "display_name": "C",
   "language": "c",
   "name": "c"
  },
  "language_info": {
   "file_extension": ".c",
   "mimetype": "text/plain",
   "name": "c"
  }
 },
 "nbformat": 4,
 "nbformat_minor": 5
}
