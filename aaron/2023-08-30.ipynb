{
 "cells": [
  {
   "cell_type": "markdown",
   "id": "9b787d24-b0a3-4cd7-8d2c-09e9c528bc86",
   "metadata": {
    "slideshow": {
     "slide_type": "skip"
    },
    "tags": []
   },
   "source": [
    "# C: defining functions; using libraries; stack frames\n",
    "_COSC 208, Introduction to Computer Systems, 2023-08-30_"
   ]
  },
  {
   "cell_type": "markdown",
   "id": "04a31b3b-0491-4935-b548-93705649a679",
   "metadata": {
    "slideshow": {
     "slide_type": "skip"
    },
    "tags": []
   },
   "source": [
    "## Announcements\n",
    "* First lab today or tomorrow\n",
    "* Before next class: read _Dive Into Systems_ 1.5 and answer pre-class questions"
   ]
  },
  {
   "cell_type": "markdown",
   "id": "3770316d-e35c-486c-802a-a19d5b4981f2",
   "metadata": {
    "slideshow": {
     "slide_type": "skip"
    },
    "tags": []
   },
   "source": [
    "## Outline\n",
    "* Warm-up\n",
    "* Defining functions\n",
    "* Using libraries\n",
    "* Stack frames"
   ]
  },
  {
   "cell_type": "markdown",
   "id": "181ba60a-e800-484f-b7ef-e799b97d6061",
   "metadata": {},
   "source": [
    "## Warm-up"
   ]
  },
  {
   "cell_type": "markdown",
   "id": "75a04f04-02eb-4c31-9382-f54a89426b16",
   "metadata": {
    "tags": []
   },
   "source": [
    "* Q1: _Write a program that prints out the powers of 2 from 2 through 2048._"
   ]
  },
  {
   "cell_type": "code",
   "execution_count": 1,
   "id": "f2d362a3-7727-4feb-a32d-255e53efee46",
   "metadata": {
    "slideshow": {
     "slide_type": "skip"
    },
    "tags": [
     "notes-only"
    ]
   },
   "outputs": [
    {
     "name": "stdout",
     "output_type": "stream",
     "text": [
      "2 4 8 16 32 64 128 256 512 1024 2048 \n"
     ]
    }
   ],
   "source": [
    "#include <stdio.h>\n",
    "#define MAX 2048\n",
    "int main() {\n",
    "    int i = 2;\n",
    "    while (i <= MAX) {\n",
    "        printf(\"%d \", i);\n",
    "        i *= 2;\n",
    "    }\n",
    "    printf(\"\\n\");\n",
    "}"
   ]
  },
  {
   "cell_type": "markdown",
   "id": "79580802-04a3-4870-9749-47f986aaff24",
   "metadata": {
    "slideshow": {
     "slide_type": "skip"
    },
    "tags": [
     "worksheet-only"
    ]
   },
   "source": [
    "<div style=\"height:15em;\"></div>\n",
    "\n",
    "🛑 **STOP here** after completing the warm-up; if you have extra time please **skip ahead** to the extra practice."
   ]
  },
  {
   "cell_type": "markdown",
   "id": "1474d9e2-1088-442b-90f8-f18c46813690",
   "metadata": {
    "slideshow": {
     "slide_type": "slide"
    },
    "tags": []
   },
   "source": [
    "## Defining functions"
   ]
  },
  {
   "cell_type": "markdown",
   "id": "7fd991bd-03aa-46b8-8940-bb452f040ee1",
   "metadata": {
    "slideshow": {
     "slide_type": "skip"
    },
    "tags": [
     "notes-only"
    ]
   },
   "source": [
    "* _What is the syntax for defining a function?_"
   ]
  },
  {
   "cell_type": "code",
   "execution_count": null,
   "id": "1dd89727-1d59-4ce0-8fd0-07f8834239ed",
   "metadata": {
    "slideshow": {
     "slide_type": "skip"
    },
    "tags": [
     "notes-only"
    ]
   },
   "outputs": [],
   "source": [
    "return-type function-name(parameter-type parameter-name, ...) {\n",
    "    /* STATEMENTS */\n",
    "    return value;\n",
    "}"
   ]
  },
  {
   "cell_type": "markdown",
   "id": "d87f0956-ec9e-4a2d-b999-d480efccc3cd",
   "metadata": {
    "slideshow": {
     "slide_type": "skip"
    },
    "tags": [
     "notes-only"
    ]
   },
   "source": [
    "* C compiler must know a function’s return type and the number and type of its parameters before it encounters any calls to that function"
   ]
  },
  {
   "cell_type": "markdown",
   "id": "32c3de45-1fc3-4ea5-a720-649c77e08388",
   "metadata": {
    "tags": [
     "worksheet-only"
    ]
   },
   "source": [
    "* Example"
   ]
  },
  {
   "cell_type": "code",
   "execution_count": 16,
   "id": "88ff8c86-ef6e-4f63-8bd3-496e877a1eb7",
   "metadata": {
    "tags": [
     "worksheet-code-only"
    ]
   },
   "outputs": [
    {
     "name": "stderr",
     "output_type": "stream",
     "text": [
      "/var/folders/bd/35sz70xs5837wszrx11bw1yc0000gn/T/tmpi2tm2ej0.c:3:18: error: implicit declaration of function 'add' is invalid in C99 [-Werror,-Wimplicit-function-declaration]\n",
      "    int result = add(1,2); // Compiler doesn't know if this call is valid \n",
      "                 ^\n",
      "1 error generated.\n",
      "[C kernel] GCC exited with code 1, the executable will not be executed"
     ]
    }
   ],
   "source": [
    "#include <stdio.h>\n",
    "int main() {\n",
    "    int result = add(1,2);\n",
    "    printf(\"%d\\n\", result);\n",
    "}\n",
    "int add(int x, int y) {\n",
    "    return x+y;\n",
    "}"
   ]
  },
  {
   "cell_type": "markdown",
   "id": "e33b1ccf-e2fc-4a86-9b4d-2567f50f447b",
   "metadata": {
    "slideshow": {
     "slide_type": "skip"
    },
    "tags": [
     "notes-only"
    ]
   },
   "source": [
    "* Function prototype provides a function’s return type, name, and number and type of its parameters, but not its body"
   ]
  },
  {
   "cell_type": "code",
   "execution_count": null,
   "id": "52479565-84c7-4c2c-9811-df5765667c07",
   "metadata": {
    "slideshow": {
     "slide_type": "skip"
    },
    "tags": [
     "notes-only"
    ]
   },
   "outputs": [],
   "source": [
    "return-type function-name(parameter-types);"
   ]
  },
  {
   "cell_type": "code",
   "execution_count": null,
   "id": "eec1655f-a562-49c7-9fc3-de515d329138",
   "metadata": {
    "slideshow": {
     "slide_type": "skip"
    },
    "tags": [
     "notes-only"
    ]
   },
   "outputs": [],
   "source": [
    "int add(int, int);"
   ]
  },
  {
   "cell_type": "markdown",
   "id": "ea619d9c-6bbb-4372-b4cd-2f7e80c405a7",
   "metadata": {
    "slideshow": {
     "slide_type": "slide"
    },
    "tags": []
   },
   "source": [
    "* Q2: _In the biological process of cell division, each cell divides into two cells and the process repeats. Write a function called `cells` that takes the number of rounds of cell division that occur and computes the total number of cells that will exist after the specified number of rounds (assuming you started with a single cell)._"
   ]
  },
  {
   "cell_type": "code",
   "execution_count": 7,
   "id": "b3eb574a-d3f8-4b28-ad7c-0d150ff63855",
   "metadata": {
    "slideshow": {
     "slide_type": "skip"
    },
    "tags": [
     "notes-only"
    ]
   },
   "outputs": [],
   "source": [
    "int cells(int rounds) {\n",
    "    int total = 1;\n",
    "    for (int i = 0; i < rounds; i++) {\n",
    "        total = total * 2;\n",
    "    }\n",
    "    return total;\n",
    "}\n",
    "// Testing code\n",
    "#include <assert.h>\n",
    "int main() {\n",
    "    assert(cells(0) == 1);\n",
    "    assert(cells(1) == 2);\n",
    "    assert(cells(8) == 256);\n",
    "}"
   ]
  },
  {
   "cell_type": "markdown",
   "id": "cedfa048-a66e-4710-9bc2-32bff5c515c7",
   "metadata": {
    "slideshow": {
     "slide_type": "skip"
    },
    "tags": [
     "worksheet-only"
    ]
   },
   "source": [
    "<div style=\"page-break-after:always;\"></div>"
   ]
  },
  {
   "cell_type": "markdown",
   "id": "27b5f2f4-6070-496d-a679-9399fa2322eb",
   "metadata": {},
   "source": [
    "* Q3: _Write a function called `rounds` that takes the number of cells that should exist and computes the number of rounds of cell division that must occur to have at least that many cells (assuming you started with a single cell)._"
   ]
  },
  {
   "cell_type": "code",
   "execution_count": 9,
   "id": "59530c5d-d297-4a92-ad30-8471bf104f1b",
   "metadata": {
    "slideshow": {
     "slide_type": "skip"
    },
    "tags": [
     "notes-only"
    ]
   },
   "outputs": [],
   "source": [
    "int rounds(int cells) {\n",
    "    int total = 1;\n",
    "    int rounds = 0;\n",
    "    while (total < cells) {\n",
    "        total *= 2;\n",
    "        rounds++;\n",
    "    }\n",
    "    return rounds;\n",
    "}\n",
    "// Testing code\n",
    "#include <assert.h>\n",
    "int main() {\n",
    "    assert(rounds(1) == 0);\n",
    "    assert(rounds(2) == 1);\n",
    "    assert(rounds(250) == 8);\n",
    "    assert(rounds(256) == 8);\n",
    "}"
   ]
  },
  {
   "cell_type": "markdown",
   "id": "e353de13-cbd2-4a70-81e8-afbcdadc79a9",
   "metadata": {
    "slideshow": {
     "slide_type": "skip"
    },
    "tags": [
     "worksheet-only"
    ]
   },
   "source": [
    "<div style=\"height:20em;\"></div>\n",
    "\n",
    "🛑 **STOP here** after completing the above questions; if you have extra time please **skip ahead** to the extra practice."
   ]
  },
  {
   "cell_type": "markdown",
   "id": "50b8ef3f-5672-419e-b9cb-42a17c145b09",
   "metadata": {
    "slideshow": {
     "slide_type": "skip"
    },
    "tags": [
     "notes-only"
    ]
   },
   "source": [
    "## Using libraries\n",
    "* Could use exponent to compute number of cells and logarithm to compute number of rounds\n",
    "* Provided by math library — `#include <math.h>`\n",
    "    * `double pow(double x, double y);`\n",
    "    * `double log2(double x);`\n",
    "* Aside: calculations involving decimal points suffer from small rounding errors, but we are going to using the integer ceiling of the result, so the rounding errors won't be a problem\n",
    "    * `double round(double x);`\n",
    "    * `double ceil(double x);`"
   ]
  },
  {
   "cell_type": "code",
   "execution_count": 3,
   "id": "65d004dc-5d08-4438-855d-1688cf2a43cb",
   "metadata": {
    "slideshow": {
     "slide_type": "skip"
    },
    "tags": [
     "notes-only"
    ]
   },
   "outputs": [],
   "source": [
    "#include <math.h>\n",
    "int cells(int rounds) {\n",
    "    double total = pow(2, rounds);\n",
    "    total = round(total);\n",
    "    return (int)total;\n",
    "} \n",
    "int rounds(int cells) {\n",
    "    double rounds = log2(cells);\n",
    "    rounds = ceil(rounds);\n",
    "    return (int)rounds; // Type cast to integer\n",
    "}\n",
    "// Testing code\n",
    "#include <assert.h>\n",
    "int main() {\n",
    "    assert(cells(4) == 16);\n",
    "    assert(rounds(16) == 4);\n",
    "}"
   ]
  },
  {
   "cell_type": "markdown",
   "id": "dc065200-13af-4362-81dc-901f511273a0",
   "metadata": {
    "slideshow": {
     "slide_type": "skip"
    },
    "tags": [
     "notes-only"
    ]
   },
   "source": [
    "* Compilation error — Why?\n",
    "```bash\n",
    "$ gcc -Wall -o cell_division cell_division.c\n",
    "/usr/bin/ld: /tmp/ccyyWBh4.o: in function `cells':\n",
    "cell_division.c:(.text+0x1c): undefined reference to `pow'\n",
    "/usr/bin/ld: cell_division.c:(.text+0x28): undefined reference to `round'\n",
    "/usr/bin/ld: /tmp/ccyyWBh4.o: in function `rounds':\n",
    "cell_division.c:(.text+0x54): undefined reference to `log2'\n",
    "/usr/bin/ld: cell_division.c:(.text+0x60): undefined reference to `ceil'\n",
    "collect2: error: ld returned 1 exit status\n",
    "```\n",
    "* Need to tell compiler to \"link\" to a library\n",
    "* Library contains pre-compiled code\n",
    "* Recall: header file contains function prototypes, which allows compiler to know what functions are available in the library\n",
    "* At runtime, executable and referenced libraries are loaded into memory"
   ]
  },
  {
   "cell_type": "markdown",
   "id": "8f0d2cb0-995d-4e40-a463-a46371c5983c",
   "metadata": {
    "slideshow": {
     "slide_type": "slide"
    },
    "tags": []
   },
   "source": [
    "## Program stack"
   ]
  },
  {
   "cell_type": "markdown",
   "id": "3977874a-3b3d-404b-ba11-bc63709e9fd6",
   "metadata": {
    "slideshow": {
     "slide_type": "skip"
    },
    "tags": [
     "notes-only"
    ]
   },
   "source": [
    "* Stores data for functions that are currently executing\n",
    "* Stored in random access memory (RAM)\n",
    "* Composed of stack frames\n",
    "    * A stack frame contains the values stored in a functions's local variables and formal parameters\n",
    "    * The size of the stack frame is determined by the number and type of local variables and formal parameters\n",
    "    * A stack frame is added to the top of the stack when a function is called\n",
    "    * A stack frame is removed from the top of the stack when a function returns"
   ]
  },
  {
   "cell_type": "markdown",
   "id": "d78a26cc-d4db-40f5-b839-03bf24f60a33",
   "metadata": {},
   "source": [
    "* Example"
   ]
  },
  {
   "cell_type": "code",
   "execution_count": 16,
   "id": "6a156a86-d715-4216-a800-034192330f39",
   "metadata": {
    "tags": [
     "worksheet-code-only"
    ]
   },
   "outputs": [
    {
     "name": "stdout",
     "output_type": "stream",
     "text": [
      "68F is 20C\n"
     ]
    }
   ],
   "source": [
    "#include <stdio.h>\n",
    "int multiply(int z) {\n",
    "    return z * 5 / 9;\n",
    "}\n",
    "int subtract(int x, int y) {\n",
    "    return x - y;\n",
    "}\n",
    "int convert(int t) {\n",
    "    int u = subtract(t, 32);\n",
    "    int v = multiply(u);\n",
    "    return v;\n",
    "}\n",
    "int main() {\n",
    "    int f = 68;\n",
    "    int c = convert(68);\n",
    "    printf(\"%dF is %dC\\n\", f, c); \n",
    "}"
   ]
  },
  {
   "cell_type": "markdown",
   "id": "1b5a6bb7-1b66-486e-8000-5a13b073fa9e",
   "metadata": {
    "slideshow": {
     "slide_type": "skip"
    },
    "tags": [
     "worksheet-only"
    ]
   },
   "source": [
    "<div style=\"page-break-after:always;\"></div>"
   ]
  },
  {
   "cell_type": "markdown",
   "id": "c762ec3b-54d6-44a9-a83a-e90e880cd9cd",
   "metadata": {
    "slideshow": {
     "slide_type": "skip"
    },
    "tags": [
     "notes-only"
    ]
   },
   "source": [
    "* C is pass-by-value → changes made to a variable inside a function will not be preserved outside of the function"
   ]
  },
  {
   "cell_type": "markdown",
   "id": "5d03c655-307f-4a6a-ab73-a44e819b6c73",
   "metadata": {
    "slideshow": {
     "slide_type": "subslide"
    },
    "tags": []
   },
   "source": [
    "* Q4: _What is the output of this program?_"
   ]
  },
  {
   "cell_type": "code",
   "execution_count": 17,
   "id": "5153e7e0-7a18-4c5e-b1be-51eedd25fa71",
   "metadata": {
    "tags": [
     "worksheet-code-only"
    ]
   },
   "outputs": [
    {
     "name": "stdout",
     "output_type": "stream",
     "text": [
      "3 7 7\n"
     ]
    }
   ],
   "source": [
    "#include <stdio.h>\n",
    "int copy(int a, int b) {\n",
    "    a = b;\n",
    "    return a;\n",
    "}\n",
    "int main() {\n",
    "    int x = 3;\n",
    "    int y = 7;\n",
    "    int z = copy(x, y);\n",
    "    printf(\"%d %d %d\\n\", x, y, z);\n",
    "}"
   ]
  },
  {
   "cell_type": "markdown",
   "id": "3e008fcb-917a-4df6-8bb9-b29591d0f027",
   "metadata": {
    "slideshow": {
     "slide_type": "slide"
    },
    "tags": []
   },
   "source": [
    "## Extra practice"
   ]
  },
  {
   "cell_type": "markdown",
   "id": "64ac459f-68e9-41dc-a1cb-d54336f1bc27",
   "metadata": {},
   "source": [
    "* Q5: _Write a program that prints the number of days, hours, and minutes in a week._"
   ]
  },
  {
   "cell_type": "code",
   "execution_count": 2,
   "id": "76e86dce-2812-488d-9d43-682840ebdde8",
   "metadata": {
    "slideshow": {
     "slide_type": "skip"
    },
    "tags": [
     "notes-only"
    ]
   },
   "outputs": [
    {
     "name": "stdout",
     "output_type": "stream",
     "text": [
      "1 week = 7 days = 168 hours = 10080 minutes\n"
     ]
    }
   ],
   "source": [
    "#include <stdio.h>\n",
    "int main() {\n",
    "    int days = 7;\n",
    "    int hours = days * 24;\n",
    "    int minutes = hours * 60;\n",
    "    printf(\"1 week = %d days = %d hours = %d minutes\\n\", days, hours, minutes);\n",
    "}"
   ]
  },
  {
   "cell_type": "markdown",
   "id": "046d17d0-f52e-4e1b-8063-002148353587",
   "metadata": {
    "slideshow": {
     "slide_type": "skip"
    },
    "tags": [
     "worksheet-only"
    ]
   },
   "source": [
    "<div style=\"height:15em;\"></div>"
   ]
  },
  {
   "cell_type": "markdown",
   "id": "4b87eb00-dc30-4aa3-8ece-2a38500f27a5",
   "metadata": {
    "tags": []
   },
   "source": [
    "* Q6: _Write a function called `isletter` that takes a character and returns `1` if the character is a letter, or `0` otherwise._"
   ]
  },
  {
   "cell_type": "code",
   "execution_count": 32,
   "id": "849c65b5-8360-4286-8f8b-ec8d4105baee",
   "metadata": {
    "slideshow": {
     "slide_type": "skip"
    },
    "tags": [
     "notes-only"
    ]
   },
   "outputs": [
    {
     "name": "stdout",
     "output_type": "stream",
     "text": [
      "Is m a letter? 1\n",
      "Is ! a letter? 0\n"
     ]
    }
   ],
   "source": [
    "#include <stdio.h>\n",
    "int isletter(char ch) {\n",
    "    if (ch >= 'A' && ch <= 'Z') { // Uppercase letter\n",
    "        return 1;\n",
    "    } else if (ch >= 'a' && ch <= 'z') { // Lowercase letter\n",
    "        return 1;\n",
    "    } else { // Not a letter\n",
    "        return 0;\n",
    "    }\n",
    "}\n",
    "// Testing\n",
    "int main() {\n",
    "    printf(\"Is %c a letter? %d\\n\", 'm', isletter('m'));\n",
    "    printf(\"Is %c a letter? %d\\n\", '!', isletter('!'));\n",
    "}"
   ]
  },
  {
   "cell_type": "markdown",
   "id": "0a14a2c2-890f-4d43-8921-2850e0788d0c",
   "metadata": {
    "slideshow": {
     "slide_type": "skip"
    },
    "tags": [
     "worksheet-only"
    ]
   },
   "source": [
    "<div style=\"height:15em;\"></div>"
   ]
  },
  {
   "cell_type": "markdown",
   "id": "f75d2a99-885f-4979-a7da-edaaf7a54261",
   "metadata": {
    "tags": []
   },
   "source": [
    "* Q7: _Write a function called `flipcase` that takes a letter and returns the letter in the opposite case. If the character is not a letter, then return the character unchanged._"
   ]
  },
  {
   "cell_type": "code",
   "execution_count": 31,
   "id": "afb9eda1-a441-48a4-b7e5-210f1023e40d",
   "metadata": {
    "slideshow": {
     "slide_type": "skip"
    },
    "tags": [
     "notes-only"
    ]
   },
   "outputs": [
    {
     "name": "stdout",
     "output_type": "stream",
     "text": [
      "d flipped to D\n",
      "F flipped to f\n"
     ]
    }
   ],
   "source": [
    "#include <stdio.h>\n",
    "char flipcase(char ch) {\n",
    "    if (ch >= 'A' && ch <= 'Z') { // Uppercase to lowercase\n",
    "        return ch - 'A' + 'a';\n",
    "    } else if (ch >= 'a' && ch <= 'z') { // Lowercase to uppercase\n",
    "        return ch - 'a' + 'A';\n",
    "    } else { // Not a letter\n",
    "        return ch;\n",
    "    }\n",
    "}\n",
    "// Testing\n",
    "int main() {\n",
    "    printf(\"%c flipped to %c\\n\", 'd', 'D');\n",
    "    printf(\"%c flipped to %c\\n\", 'F', 'f');\n",
    "}"
   ]
  },
  {
   "cell_type": "markdown",
   "id": "32494041-700a-4c0a-a09b-8f31a48a8d39",
   "metadata": {
    "slideshow": {
     "slide_type": "skip"
    },
    "tags": [
     "worksheet-only"
    ]
   },
   "source": [
    "<div style=\"page-break-after:always;\"></div>"
   ]
  },
  {
   "cell_type": "markdown",
   "id": "a9228fac-355f-4d57-b6a6-43cfdd9e9235",
   "metadata": {},
   "source": [
    "* Q8: _Write a function called `floorm` that takes two integers and rounds down the first integer to the closest multiple of the second integer._"
   ]
  },
  {
   "cell_type": "code",
   "execution_count": 35,
   "id": "b1499f14-b393-4d46-b2d6-717fec2576cb",
   "metadata": {
    "slideshow": {
     "slide_type": "skip"
    },
    "tags": [
     "notes-only"
    ]
   },
   "outputs": [
    {
     "name": "stdout",
     "output_type": "stream",
     "text": [
      "The closest 5-multiple of 13 is 10\n",
      "The closest 3-multiple of 9 is 9\n"
     ]
    }
   ],
   "source": [
    "#include <stdio.h>\n",
    "int floorm(int num, int multiple) {\n",
    "    return num - (num % multiple);\n",
    "}\n",
    "// Testing\n",
    "int main() {\n",
    "    printf(\"The closest %d-multiple of %d is %d\\n\", 5, 13, floorm(13, 5));\n",
    "    printf(\"The closest %d-multiple of %d is %d\\n\", 3, 9, floorm(9, 3));\n",
    "}"
   ]
  },
  {
   "cell_type": "markdown",
   "id": "3818b176-e1ba-41f4-b696-21cc51f7be88",
   "metadata": {
    "slideshow": {
     "slide_type": "skip"
    },
    "tags": [
     "worksheet-only"
    ]
   },
   "source": [
    "<div style=\"height:15em;\"></div>"
   ]
  },
  {
   "cell_type": "markdown",
   "id": "501baf2b-3769-451e-8fd3-ff75a9bd53be",
   "metadata": {
    "slideshow": {
     "slide_type": "subslide"
    },
    "tags": []
   },
   "source": [
    "* Q9: _Draw the contents of the stack immediately before the program prints \"1 x 2\"_"
   ]
  },
  {
   "cell_type": "code",
   "execution_count": 24,
   "id": "791e250e-1fb6-48f8-9a62-1873fcfb5428",
   "metadata": {
    "tags": [
     "worksheet-code-only"
    ]
   },
   "outputs": [
    {
     "name": "stdout",
     "output_type": "stream",
     "text": [
      "3^2 is 9\n",
      "1 x 2\n",
      "2 x 2\n",
      "4 x 2\n",
      "2^3 is 8\n"
     ]
    }
   ],
   "source": [
    "#include <stdio.h>\n",
    "int squared(int base) {\n",
    "    return base * base;\n",
    "}\n",
    "int dbl(int num) {\n",
    "    printf(\"%d x 2\\n\", num);\n",
    "    return num * 2;   \n",
    "}\n",
    "int two(int exponent) {\n",
    "    int result = 1;\n",
    "    for (int i = 0; i < exponent; i++) {\n",
    "        result = dbl(result);\n",
    "    }\n",
    "    return result;\n",
    "}\n",
    "int main() {\n",
    "    int n = 3;\n",
    "    int s = squared(3);\n",
    "    printf(\"%d^2 is %d\\n\", n, s);\n",
    "    int t = two(3);\n",
    "    printf(\"2^%d is %d\\n\", n, t);\n",
    "}"
   ]
  },
  {
   "cell_type": "markdown",
   "id": "de17154b-28c8-428d-a0b3-470682c0af87",
   "metadata": {
    "slideshow": {
     "slide_type": "skip"
    },
    "tags": [
     "notes-only"
    ]
   },
   "source": [
    "* Use [C tutor](https://pythontutor.com/c.html) to visualize the execution of this program and check your drawing"
   ]
  },
  {
   "cell_type": "markdown",
   "id": "e49c7f10-c3b6-4c0b-9ecd-3efcfa297edb",
   "metadata": {
    "slideshow": {
     "slide_type": "skip"
    },
    "tags": [
     "worksheet-only"
    ]
   },
   "source": [
    "<div style=\"height:10em;\"></div>"
   ]
  },
  {
   "cell_type": "markdown",
   "id": "4cd7ce60-86a4-43b2-a456-498ec33250a9",
   "metadata": {
    "jp-MarkdownHeadingCollapsed": true,
    "slideshow": {
     "slide_type": "subslide"
    },
    "tags": []
   },
   "source": [
    "* Q10: _Write a function called `print_x` that takes an integer n that prints the letter `X` n lines high and n characters wide. You can assume n is an odd number. For example, if n = 5, the program's output would be:_\n",
    "    ```\n",
    "    \\   /\n",
    "     \\ / \n",
    "      X  \n",
    "     / \\ \n",
    "    /   \\\n",
    "    ```"
   ]
  },
  {
   "cell_type": "code",
   "execution_count": 2,
   "id": "7715520d-d856-4790-b8bf-bcc5f1f00184",
   "metadata": {
    "slideshow": {
     "slide_type": "skip"
    },
    "tags": [
     "notes-only"
    ]
   },
   "outputs": [
    {
     "name": "stdout",
     "output_type": "stream",
     "text": [
      "\\ /\n",
      " X \n",
      "/ \\\n",
      "\\   /\n",
      " \\ / \n",
      "  X  \n",
      " / \\ \n",
      "/   \\\n"
     ]
    }
   ],
   "source": [
    "#include <stdio.h>\n",
    "void print_x_helper(int n, int r) {\n",
    "    for (int c = 0; c < n; c++) {\n",
    "        if (c == r) {\n",
    "            printf(\"\\\\\");\n",
    "        }\n",
    "        else if (c == n-1-r) {\n",
    "            printf(\"/\");\n",
    "        }\n",
    "        else {\n",
    "            printf(\" \" );\n",
    "        }\n",
    "    }\n",
    "    printf(\"\\n\");\n",
    "}\n",
    "void print_x(int n) {\n",
    "    int r = 0;\n",
    "    while (r < n/2) {\n",
    "        print_x_helper(n, r);\n",
    "        r++;\n",
    "    }\n",
    "    for (int c = 0; c < n; c++) {\n",
    "        if (c == r) {\n",
    "            printf(\"X\");\n",
    "        }\n",
    "        else {\n",
    "            printf(\" \");\n",
    "        }\n",
    "    }\n",
    "    printf(\"\\n\");\n",
    "    r++;\n",
    "    while (r < n) {\n",
    "        print_x_helper(n, r);\n",
    "        r++;\n",
    "    }\n",
    "}\n",
    "// Testing\n",
    "int main() {\n",
    "    print_x(3);\n",
    "    print_x(5);\n",
    "}"
   ]
  }
 ],
 "metadata": {
  "kernelspec": {
   "display_name": "C",
   "language": "c",
   "name": "c"
  },
  "language_info": {
   "file_extension": ".c",
   "mimetype": "c",
   "name": "c"
  }
 },
 "nbformat": 4,
 "nbformat_minor": 5
}
