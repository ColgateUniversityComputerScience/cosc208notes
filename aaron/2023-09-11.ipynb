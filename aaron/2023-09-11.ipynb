{
 "cells": [
  {
   "cell_type": "markdown",
   "id": "40c5bff8-f0b9-4222-80cb-62efa3710886",
   "metadata": {
    "slideshow": {
     "slide_type": "skip"
    },
    "tags": []
   },
   "source": [
    "# Number representation:  binary arithmetic; overflow; bitwise operators\n",
    "_COSC 208, Introduction to Computer Systems, 2023-09-11_"
   ]
  },
  {
   "cell_type": "markdown",
   "id": "e4a98a6a-7087-4ad0-b2ff-45f36e31fac1",
   "metadata": {
    "slideshow": {
     "slide_type": "skip"
    },
    "tags": []
   },
   "source": [
    "## Announcements\n",
    "* Project 1 due Thurs, Sept 21 @ 11pm"
   ]
  },
  {
   "cell_type": "markdown",
   "id": "3b3f6f1a-6540-48d2-b1af-4915be71fc04",
   "metadata": {
    "slideshow": {
     "slide_type": "skip"
    },
    "tags": []
   },
   "source": [
    "## Outline\n",
    "* Warm-up\n",
    "* Binary arithmetic\n",
    "* Overflow\n",
    "* Bitwise operators"
   ]
  },
  {
   "cell_type": "markdown",
   "id": "06ae68b0-3464-407c-b17f-c419329d72cb",
   "metadata": {
    "tags": []
   },
   "source": [
    "## Warm-up"
   ]
  },
  {
   "cell_type": "markdown",
   "id": "68fe1c6e-87a0-4609-b5b3-316bb0ade69a",
   "metadata": {},
   "source": [
    "* Q1: _What is the largest magnitude negative number that can be represented using 5-bit two's complement?_"
   ]
  },
  {
   "cell_type": "markdown",
   "id": "86a86453-d634-49c1-833e-7768243e8fdd",
   "metadata": {
    "slideshow": {
     "slide_type": "skip"
    },
    "tags": [
     "notes-only"
    ]
   },
   "source": [
    "    -16"
   ]
  },
  {
   "cell_type": "markdown",
   "id": "5401d658-10be-4d36-aab5-0ee4df2c4288",
   "metadata": {
    "slideshow": {
     "slide_type": "skip"
    },
    "tags": [
     "worksheet-only"
    ]
   },
   "source": [
    "<p style=\"height:3em;\"></p>"
   ]
  },
  {
   "cell_type": "markdown",
   "id": "97b166cb-4f7e-4f6b-a1a9-d51982c2b68d",
   "metadata": {},
   "source": [
    "* Q2: _What is the smallest magnitude negative number that can be represented using 5-bit two's complement?_"
   ]
  },
  {
   "cell_type": "markdown",
   "id": "023099c4-5391-4e59-b4ee-5e4317f101c8",
   "metadata": {
    "slideshow": {
     "slide_type": "skip"
    },
    "tags": [
     "notes-only"
    ]
   },
   "source": [
    "    -1"
   ]
  },
  {
   "cell_type": "markdown",
   "id": "c211d836-5a85-4da2-983e-aac7dc970730",
   "metadata": {
    "slideshow": {
     "slide_type": "skip"
    },
    "tags": [
     "worksheet-only"
    ]
   },
   "source": [
    "<p style=\"height:3em;\"></p>"
   ]
  },
  {
   "cell_type": "markdown",
   "id": "b8199dce-47b6-4270-9dc4-8919da7abd20",
   "metadata": {},
   "source": [
    "* Q3: _What is the largest magnitude positive number that can be represented using 5-bit two's complement?_"
   ]
  },
  {
   "cell_type": "markdown",
   "id": "072578b0-fcfc-453b-9736-0018b77b6259",
   "metadata": {
    "slideshow": {
     "slide_type": "skip"
    },
    "tags": [
     "notes-only"
    ]
   },
   "source": [
    "    15"
   ]
  },
  {
   "cell_type": "markdown",
   "id": "364fe9fc-58ce-416c-a932-99e43b07e42c",
   "metadata": {
    "slideshow": {
     "slide_type": "skip"
    },
    "tags": [
     "worksheet-only"
    ]
   },
   "source": [
    "<p style=\"height:2em;\"></p>\n",
    "\n",
    "🛑 **STOP here** after completing the above questions; if you have extra time please **skip ahead** to the extra practice."
   ]
  },
  {
   "cell_type": "markdown",
   "id": "ba37f244-d781-4a25-9496-803617b63bb9",
   "metadata": {
    "slideshow": {
     "slide_type": "slide"
    },
    "tags": []
   },
   "source": [
    "## Binary arithmetic"
   ]
  },
  {
   "cell_type": "markdown",
   "id": "b7fdce34-64c3-4d1c-b3c0-d3299f425554",
   "metadata": {
    "slideshow": {
     "slide_type": "skip"
    },
    "tags": [
     "notes-only"
    ]
   },
   "source": [
    "* Addition: same as decimal, except you carry a one instead of a ten\n",
    "* Example: 5 + 5\n",
    "\n",
    "```\n",
    "  0b0101\n",
    "+ 0b0101\n",
    "--------\n",
    "\n",
    "      1\n",
    "  0b0101\n",
    "+ 0b0101\n",
    "--------\n",
    "       0\n",
    "\n",
    "     01\n",
    "  0b0101\n",
    "+ 0b0101\n",
    "--------\n",
    "      10\n",
    "\n",
    "    101\n",
    "  0b0101\n",
    "+ 0b0101\n",
    "--------\n",
    "     010\n",
    "\n",
    "    101\n",
    "  0b0101\n",
    "+ 0b0101\n",
    "--------\n",
    "  0b1010\n",
    "```\n",
    "\n",
    "* Check our work:\n",
    "\n",
    "```\n",
    "1 * 2^3 + 0 * 2^2 + 1 * 2^1 + 0 * 2^0 = 8 + 2 = 10 = 5+5\n",
    "```\n",
    "\n",
    "* Another example: 5 + -5\n",
    "\n",
    "```\n",
    "  0b0101\n",
    "+ 0b1011\n",
    "--------\n",
    "\n",
    "      1\n",
    "  0b0101\n",
    "+ 0b1011\n",
    "--------\n",
    "       0\n",
    "\n",
    "     11\n",
    "  0b0101\n",
    "+ 0b1011\n",
    "--------\n",
    "      00\n",
    "\n",
    "    111\n",
    "  0b0101\n",
    "+ 0b1011\n",
    "--------\n",
    "     000\n",
    "\n",
    "    111\n",
    "  0b0101\n",
    "+ 0b1011\n",
    "--------\n",
    "    0000\n",
    "(Carry-out => 1)\n",
    "```\n",
    "\n",
    "* Subtraction: add the negation"
   ]
  },
  {
   "cell_type": "markdown",
   "id": "eeb72ee0-8d81-481a-b36f-d684e28e97ec",
   "metadata": {},
   "source": [
    "_Express the decimal numbers in 8-bit two's complement, then use bitwise arithmetic:_\n",
    "* Q4: `10 + 5`"
   ]
  },
  {
   "cell_type": "markdown",
   "id": "6225a184-e639-4b2a-a309-165b393eb38c",
   "metadata": {
    "slideshow": {
     "slide_type": "skip"
    },
    "tags": [
     "notes-only"
    ]
   },
   "source": [
    "    0b00001010 + 0b00000101 = 0b00001111"
   ]
  },
  {
   "cell_type": "markdown",
   "id": "57243856-cf8f-4f1e-b740-0a55c125353e",
   "metadata": {
    "slideshow": {
     "slide_type": "skip"
    },
    "tags": [
     "worksheet-only"
    ]
   },
   "source": [
    "<p style=\"height:10em;\"></p>"
   ]
  },
  {
   "cell_type": "markdown",
   "id": "b9e35913-0cbc-46aa-9ad5-c4af9c5a786c",
   "metadata": {},
   "source": [
    "* Q5: `0b00000111 + 15`"
   ]
  },
  {
   "cell_type": "markdown",
   "id": "faa92245-2452-4027-ab80-32e5522ad3c2",
   "metadata": {
    "slideshow": {
     "slide_type": "skip"
    },
    "tags": [
     "notes-only"
    ]
   },
   "source": [
    "    0b00000111 + 0b00001111 = 0b00010110"
   ]
  },
  {
   "cell_type": "markdown",
   "id": "9a136931-4cb8-4e87-88f1-27ec21d6e46c",
   "metadata": {
    "slideshow": {
     "slide_type": "skip"
    },
    "tags": [
     "worksheet-only"
    ]
   },
   "source": [
    "<p style=\"height:10em;\"></p>"
   ]
  },
  {
   "cell_type": "markdown",
   "id": "7979abae-579c-4fe4-a1ab-f7a0e76714bf",
   "metadata": {},
   "source": [
    "* Q6: `-10 + 0b00000101`"
   ]
  },
  {
   "cell_type": "markdown",
   "id": "58197657-4922-4ef0-8ceb-7500d6968ed1",
   "metadata": {
    "slideshow": {
     "slide_type": "skip"
    },
    "tags": [
     "notes-only"
    ]
   },
   "source": [
    "    (0b11110101 + 0b1) + 0b00000101 = 0b11110110 + 0b00000101 = 0b11111011"
   ]
  },
  {
   "cell_type": "markdown",
   "id": "cb2d1967-58c3-4ea2-a843-1a19823f5844",
   "metadata": {
    "slideshow": {
     "slide_type": "skip"
    },
    "tags": [
     "worksheet-only"
    ]
   },
   "source": [
    "<p style=\"height:10em;\"></p>"
   ]
  },
  {
   "cell_type": "markdown",
   "id": "4d7db5e3-61f0-461a-bbec-7ec9de74e60e",
   "metadata": {},
   "source": [
    "* Q7: `0b00001010 - 5`"
   ]
  },
  {
   "cell_type": "markdown",
   "id": "275c455b-ddc2-45a3-a0b4-88703915ca74",
   "metadata": {
    "slideshow": {
     "slide_type": "skip"
    },
    "tags": [
     "notes-only"
    ]
   },
   "source": [
    "    0b00001010 + (0b11111010 + 0b1) = 0b00001010 + 0b11111011 = 0b00000101"
   ]
  },
  {
   "cell_type": "markdown",
   "id": "c6a62574-7f4e-4f44-b739-ba4ba8c27470",
   "metadata": {
    "slideshow": {
     "slide_type": "skip"
    },
    "tags": [
     "worksheet-only"
    ]
   },
   "source": [
    "<p style=\"height:10em;\"></p>"
   ]
  },
  {
   "cell_type": "markdown",
   "id": "77029220-52ca-421a-b9f6-c93ec768bf2a",
   "metadata": {},
   "source": [
    "* Q8: `64 + 64`"
   ]
  },
  {
   "cell_type": "markdown",
   "id": "d4e7a238-ee8b-482d-8bc1-ce6335a78187",
   "metadata": {
    "slideshow": {
     "slide_type": "skip"
    },
    "tags": [
     "notes-only"
    ]
   },
   "source": [
    "    0b01000000 + 0b1000000 = 0b10000000"
   ]
  },
  {
   "cell_type": "markdown",
   "id": "5bf35c19-35e1-4874-a67d-dc9d7ad954e5",
   "metadata": {
    "slideshow": {
     "slide_type": "skip"
    },
    "tags": [
     "worksheet-only"
    ]
   },
   "source": [
    "<p style=\"height:9em;\"></p>"
   ]
  },
  {
   "cell_type": "markdown",
   "id": "79cb78ce-6036-4657-8e64-9da752faad4c",
   "metadata": {
    "jp-MarkdownHeadingCollapsed": true,
    "tags": []
   },
   "source": [
    "* Q9: `0b00100000 + 0b01100000`"
   ]
  },
  {
   "cell_type": "markdown",
   "id": "bfd7d108-9094-4f99-a813-a5374af6a759",
   "metadata": {
    "slideshow": {
     "slide_type": "skip"
    },
    "tags": [
     "notes-only"
    ]
   },
   "source": [
    "    0b10000000 = -128 (overflow occurred)"
   ]
  },
  {
   "cell_type": "markdown",
   "id": "e6460fc5-b510-437b-b3bb-edd4766ba874",
   "metadata": {
    "slideshow": {
     "slide_type": "skip"
    },
    "tags": [
     "worksheet-only"
    ]
   },
   "source": [
    "<p style=\"height:9em;\"></p>\n",
    "\n",
    "🛑 **STOP here** after completing the above questions; if you have extra time please **skip ahead** to the extra practice."
   ]
  },
  {
   "cell_type": "markdown",
   "id": "b4b4a64a-e262-4936-b143-f35e26669127",
   "metadata": {
    "slideshow": {
     "slide_type": "slide"
    },
    "tags": []
   },
   "source": [
    "## Overflow"
   ]
  },
  {
   "cell_type": "markdown",
   "id": "202e063c-1aa1-4ef6-afbc-15f1c9c6bd0d",
   "metadata": {
    "slideshow": {
     "slide_type": "skip"
    },
    "tags": [
     "notes-only"
    ]
   },
   "source": [
    "* 32 + 96 = -128!? What!?\n",
    "* Computation overflowed — i.e., result is too large to be represented\n",
    "    * Computation wraps around to negative numbers\n",
    "    * Can only occur when you add two positive numbers\n",
    "* Computation can also underflow — i.e., result is too small to be represented\n",
    "    * Computation wraps around to positive numbers\n",
    "    * E.g., -64 + -65 = `0b11000000` + `0b10111111` = `0b01111111` = 127\n",
    "    * Can only occur when you add two negative numbers\n",
    "* Overflow and underflow are impossible when adding a positive number and a negative number\n",
    "    * Assume you add the largest magnitude positive number and the smallest magnitude negative number (-1); the result will be slightly less magnitude than the positive operand, and thus cannot overflow\n",
    "    * Assume you add the smallest magnitude positive number (1) and the largest magnitude negative number; the result will be slightly less magnitude than the negative operand, and thus cannot underflow\n",
    "* _What happens if you overflow with unsigned integers?_ — you wrap around to zero, and get a smaller positive integer\n",
    "* _What happens if you underflow with unsigned integers?_ — you wrap around to the maximum value, and get a larger positive integer"
   ]
  },
  {
   "cell_type": "markdown",
   "id": "2b8fb090-1806-408e-a726-d7cc9a0669c7",
   "metadata": {
    "jp-MarkdownHeadingCollapsed": true,
    "tags": []
   },
   "source": [
    "_For each of the following computations, determine whether the computation overflows, underflows, or neither. Assume we are using 8-bit signed integers._\n",
    "* Q10: `0b10000000 + 0b01111111`"
   ]
  },
  {
   "cell_type": "markdown",
   "id": "be8d7c55-98b4-4b63-92ff-b13c63a7d93f",
   "metadata": {
    "slideshow": {
     "slide_type": "skip"
    },
    "tags": [
     "notes-only"
    ]
   },
   "source": [
    "    neither"
   ]
  },
  {
   "cell_type": "markdown",
   "id": "010d4399-fc0b-4a82-9eb5-230d22c96081",
   "metadata": {
    "slideshow": {
     "slide_type": "skip"
    },
    "tags": [
     "worksheet-only"
    ]
   },
   "source": [
    "<p style=\"height:4em;\"></p>"
   ]
  },
  {
   "cell_type": "markdown",
   "id": "c6dd1ec9-f985-4383-9c96-923b5848f6ff",
   "metadata": {
    "jp-MarkdownHeadingCollapsed": true,
    "tags": []
   },
   "source": [
    "* Q11: `0b10000001 + 0b01111111`"
   ]
  },
  {
   "cell_type": "markdown",
   "id": "aaf1999d-98c5-4e6e-b3f2-3be0e12ef9a3",
   "metadata": {
    "slideshow": {
     "slide_type": "skip"
    },
    "tags": [
     "notes-only"
    ]
   },
   "source": [
    "    neither"
   ]
  },
  {
   "cell_type": "markdown",
   "id": "04144daf-6979-481b-a1f5-944efbbc18d1",
   "metadata": {
    "slideshow": {
     "slide_type": "skip"
    },
    "tags": [
     "worksheet-only"
    ]
   },
   "source": [
    "<p style=\"height:4em;\"></p>"
   ]
  },
  {
   "cell_type": "markdown",
   "id": "0b3aca9c-5089-42aa-b94e-6b20f29431f0",
   "metadata": {
    "jp-MarkdownHeadingCollapsed": true,
    "tags": []
   },
   "source": [
    "* Q12: `0b10000000 + 0b10000001`"
   ]
  },
  {
   "cell_type": "markdown",
   "id": "2d647a76-622d-409a-af5b-0b0ea2de7ab3",
   "metadata": {
    "slideshow": {
     "slide_type": "skip"
    },
    "tags": [
     "notes-only"
    ]
   },
   "source": [
    "    underflow"
   ]
  },
  {
   "cell_type": "markdown",
   "id": "ef8326bb-ffab-4fc6-8522-81f997f9ab4a",
   "metadata": {
    "slideshow": {
     "slide_type": "skip"
    },
    "tags": [
     "worksheet-only"
    ]
   },
   "source": [
    "<p style=\"height:4em;\"></p>"
   ]
  },
  {
   "cell_type": "markdown",
   "id": "015796f8-2bbd-440c-b853-a93b8e8df641",
   "metadata": {
    "jp-MarkdownHeadingCollapsed": true,
    "tags": []
   },
   "source": [
    "* Q13: `0b11000000 + 0b11000000`"
   ]
  },
  {
   "cell_type": "markdown",
   "id": "a38931ec-b714-4741-a0ff-d48dd71b93a8",
   "metadata": {
    "slideshow": {
     "slide_type": "skip"
    },
    "tags": [
     "notes-only"
    ]
   },
   "source": [
    "    neither"
   ]
  },
  {
   "cell_type": "markdown",
   "id": "eae15875-15da-4c54-801d-c13c7c463788",
   "metadata": {
    "slideshow": {
     "slide_type": "skip"
    },
    "tags": [
     "worksheet-only"
    ]
   },
   "source": [
    "<p style=\"height:5em;\"></p>"
   ]
  },
  {
   "cell_type": "markdown",
   "id": "6a4f427a-cc83-4e14-ac4d-6db0222bd1b8",
   "metadata": {
    "jp-MarkdownHeadingCollapsed": true,
    "tags": []
   },
   "source": [
    "* Q14: `0b01111111 + 0b00000001`"
   ]
  },
  {
   "cell_type": "markdown",
   "id": "6597c562-6479-40fb-849e-828c5d408e41",
   "metadata": {
    "slideshow": {
     "slide_type": "skip"
    },
    "tags": [
     "notes-only"
    ]
   },
   "source": [
    "    overflow"
   ]
  },
  {
   "cell_type": "markdown",
   "id": "e345f93c-99fe-454f-8dac-89561a854a1d",
   "metadata": {
    "slideshow": {
     "slide_type": "skip"
    },
    "tags": [
     "worksheet-only"
    ]
   },
   "source": [
    "<p style=\"height:4em;\"></p>\n",
    "\n",
    "🛑 **STOP here** after completing the above questions; if you have extra time please **skip ahead** to the extra practice."
   ]
  },
  {
   "cell_type": "markdown",
   "id": "c7aeb2f7-666d-43ad-968a-bf2f24bc5cd7",
   "metadata": {
    "slideshow": {
     "slide_type": "slide"
    },
    "tags": []
   },
   "source": [
    "## Bitwise operators"
   ]
  },
  {
   "cell_type": "markdown",
   "id": "2ceb5846-f182-4f82-8e1a-bcf6596bae35",
   "metadata": {
    "slideshow": {
     "slide_type": "skip"
    },
    "tags": [
     "notes-only"
    ]
   },
   "source": [
    "* Apply an operation to a single bit (not) or a pair of bits (and, or, xor)\n",
    "* `~` (not)\n",
    "    * Flips bits: if bit is 0, then result is 1; otherwise, result is 0\n",
    "    * Example: `~0b101` = `0b010`\n",
    "* `&` (and)\n",
    "    * If both bits are 1, then result is 1; otherwise, result is 0\n",
    "    * Example: `0b0101 & 0b0011` = `0b0001`\n",
    "    * This is different than logical and (`&&`) which checks whether both operands are non-zero\n",
    "* `|` (or)\n",
    "    * If either or both bits are 1, then result is 1; otherwise, result is 0\n",
    "    * Example: `0b0101 | 0b0011` = `0b0111`\n",
    "    * This is different than logical or (`||`) which checks whether at least one operand is non-zero\n",
    "* `^` (xor)\n",
    "    * If either, but not both, bits are 1, then result is 1; otherwise, result is 0\n",
    "    * Example: `0b0101 ^ 0b0011` = `0b0110`\n",
    "* `<<` (left shift), `>>` (right shift)\n",
    "    * Move bits to the left or the right and append or prepend zeros to keep the same number of bits\n",
    "    * Example: `0b1111 << 0b0010` = `0b1100`\n",
    "    * Example: `0b1111 >> 0b0001` = `0b0111`\n",
    "    * Can use bit shifting to multiply or divide by powers of two"
   ]
  },
  {
   "cell_type": "markdown",
   "id": "e562f409-ea91-4f6e-8ef9-2170860dafd3",
   "metadata": {
    "jp-MarkdownHeadingCollapsed": true,
    "tags": []
   },
   "source": [
    "* Q15: `0b1010 | 0b0101`"
   ]
  },
  {
   "cell_type": "markdown",
   "id": "720378bc-5e11-487b-9935-e72f30e6b9c9",
   "metadata": {
    "slideshow": {
     "slide_type": "skip"
    },
    "tags": [
     "notes-only"
    ]
   },
   "source": [
    "    0b1111"
   ]
  },
  {
   "cell_type": "markdown",
   "id": "a67b1afa-527b-4ee4-af01-f693bb0fd269",
   "metadata": {
    "slideshow": {
     "slide_type": "skip"
    },
    "tags": [
     "worksheet-only"
    ]
   },
   "source": [
    "<p style=\"height:2em;\"></p>"
   ]
  },
  {
   "cell_type": "markdown",
   "id": "5f4f233c-1be5-4c6f-93d4-3d9df066d6fe",
   "metadata": {
    "jp-MarkdownHeadingCollapsed": true,
    "tags": []
   },
   "source": [
    "* Q16: `0b1010 & 0b0101`"
   ]
  },
  {
   "cell_type": "markdown",
   "id": "58ddd77d-ecfe-4eee-bf9b-1bfb5627f582",
   "metadata": {
    "slideshow": {
     "slide_type": "skip"
    },
    "tags": [
     "notes-only"
    ]
   },
   "source": [
    "    0b0000"
   ]
  },
  {
   "cell_type": "markdown",
   "id": "a78964f3-b81b-47f8-84da-ad13d89b09fe",
   "metadata": {
    "slideshow": {
     "slide_type": "skip"
    },
    "tags": [
     "worksheet-only"
    ]
   },
   "source": [
    "<p style=\"height:2em;\"></p>"
   ]
  },
  {
   "cell_type": "markdown",
   "id": "f98f6e9d-c55d-4040-8360-dbaee7bf87bb",
   "metadata": {
    "jp-MarkdownHeadingCollapsed": true,
    "tags": []
   },
   "source": [
    "* Q17: `~(0b1100 & 0b0110)`"
   ]
  },
  {
   "cell_type": "markdown",
   "id": "bf02aa7d-3f9f-4c48-b37a-37adda6ec4f7",
   "metadata": {
    "slideshow": {
     "slide_type": "skip"
    },
    "tags": [
     "notes-only"
    ]
   },
   "source": [
    "    ~0b0100 = 0b1011"
   ]
  },
  {
   "cell_type": "markdown",
   "id": "69e16196-45ea-40f2-84cf-92527b62c465",
   "metadata": {
    "slideshow": {
     "slide_type": "skip"
    },
    "tags": [
     "worksheet-only"
    ]
   },
   "source": [
    "<p style=\"height:2em;\"></p>"
   ]
  },
  {
   "cell_type": "markdown",
   "id": "e1685164-1594-492f-9a77-f8a9f050c6b8",
   "metadata": {
    "jp-MarkdownHeadingCollapsed": true,
    "tags": []
   },
   "source": [
    "* Q18: `0b1000 >> 0b011`"
   ]
  },
  {
   "cell_type": "markdown",
   "id": "ace094e8-b4f4-494b-9a4a-2ed90ef490c7",
   "metadata": {
    "slideshow": {
     "slide_type": "skip"
    },
    "tags": [
     "notes-only"
    ]
   },
   "source": [
    "    0b0001 (divide by 2^3)"
   ]
  },
  {
   "cell_type": "markdown",
   "id": "1716ebdb-4829-4f59-a577-910bb421c40f",
   "metadata": {
    "slideshow": {
     "slide_type": "skip"
    },
    "tags": [
     "worksheet-only"
    ]
   },
   "source": [
    "<p style=\"height:2em;\"></p>"
   ]
  },
  {
   "cell_type": "markdown",
   "id": "9d847356-15cd-46c2-aeb9-eec882588b5b",
   "metadata": {
    "jp-MarkdownHeadingCollapsed": true,
    "tags": []
   },
   "source": [
    "* Q19: `0b0001 << 0b0010`"
   ]
  },
  {
   "cell_type": "markdown",
   "id": "e550d49b-07f5-47d4-beb6-ab675c297a13",
   "metadata": {
    "slideshow": {
     "slide_type": "skip"
    },
    "tags": [
     "notes-only"
    ]
   },
   "source": [
    "    0b0100 (multiply by 2^2)"
   ]
  },
  {
   "cell_type": "markdown",
   "id": "6c8d841f-8c87-4032-9620-f7dbfd7d8ee3",
   "metadata": {
    "slideshow": {
     "slide_type": "skip"
    },
    "tags": [
     "worksheet-only"
    ]
   },
   "source": [
    "<p style=\"height:2em;\"></p>"
   ]
  },
  {
   "cell_type": "markdown",
   "id": "35589968-a05e-4560-a2c5-da54e973e789",
   "metadata": {
    "jp-MarkdownHeadingCollapsed": true,
    "tags": []
   },
   "source": [
    "* Q20: `0b1111 & (~0b0010)`"
   ]
  },
  {
   "cell_type": "markdown",
   "id": "d6a553f0-3362-45fd-9f21-72da87f662da",
   "metadata": {
    "slideshow": {
     "slide_type": "skip"
    },
    "tags": [
     "notes-only"
    ]
   },
   "source": [
    "    0b1111 & 0b1101 = 0b1101 (clear a bit)"
   ]
  },
  {
   "cell_type": "markdown",
   "id": "9f8a0090-4185-457b-a316-8de166d5541a",
   "metadata": {
    "slideshow": {
     "slide_type": "skip"
    },
    "tags": [
     "worksheet-only"
    ]
   },
   "source": [
    "<p style=\"height:2em;\"></p>"
   ]
  },
  {
   "cell_type": "markdown",
   "id": "a17c2f4c-f64e-40f2-8168-2f7116051e29",
   "metadata": {
    "jp-MarkdownHeadingCollapsed": true,
    "tags": []
   },
   "source": [
    "* Q21: `0b0000 | 0b0010`"
   ]
  },
  {
   "cell_type": "markdown",
   "id": "ee34fec9-e0e7-4a7c-9ec5-87d4acf82c59",
   "metadata": {
    "slideshow": {
     "slide_type": "skip"
    },
    "tags": [
     "notes-only"
    ]
   },
   "source": [
    "    0b0010 (set a bit)"
   ]
  },
  {
   "cell_type": "markdown",
   "id": "52e69156-713f-4755-ba29-c3ae9231c022",
   "metadata": {
    "slideshow": {
     "slide_type": "skip"
    },
    "tags": [
     "worksheet-only"
    ]
   },
   "source": [
    "<p style=\"height:2em;\"></p>\n",
    "\n",
    "🛑 **STOP here** after completing the above questions; if you have extra time please **skip ahead** to the extra practice."
   ]
  },
  {
   "cell_type": "markdown",
   "id": "ebc403c2-ab4a-4118-9970-3b0e4151d56a",
   "metadata": {
    "slideshow": {
     "slide_type": "slide"
    },
    "tags": []
   },
   "source": [
    "## Extra practice\n",
    "* Q22: _Write a function called `sign` that takes a number expressed in binary using two's complement and returns `-1` if the number is negative, `0` if the number is zero, or `1` if the number is positive. The binary is stored as a character array that starts with `0b` and contains an arbitrary number of `'0'` and `'1'` characters._"
   ]
  },
  {
   "cell_type": "code",
   "execution_count": 2,
   "id": "75121cfc-6f4d-403e-837e-0b940e281a12",
   "metadata": {
    "slideshow": {
     "slide_type": "skip"
    },
    "tags": [
     "notes-only"
    ]
   },
   "outputs": [],
   "source": [
    "#include <string.h>\n",
    "int sign(char binary[]) {\n",
    "    if (binary[2] == '1') {\n",
    "        return -1;\n",
    "    } else {\n",
    "        for (int i = 3; i < strlen(binary); i++) {\n",
    "            if (binary[i] == '1') {\n",
    "                return 1;\n",
    "            }\n",
    "        }\n",
    "        return 0;\n",
    "    }\n",
    "}\n",
    "// Testing\n",
    "#include <assert.h>\n",
    "int main() {\n",
    "    assert(sign(\"0b0100\") == 1);\n",
    "    assert(sign(\"0b1000\") == -1);\n",
    "    assert(sign(\"0b0000\") == 0);\n",
    "}"
   ]
  },
  {
   "cell_type": "markdown",
   "id": "c55df4ae-07f8-43c5-962c-fe752dba5d1f",
   "metadata": {
    "slideshow": {
     "slide_type": "skip"
    },
    "tags": [
     "worksheet-only"
    ]
   },
   "source": [
    "<p style=\"height:20em;\"></p>"
   ]
  },
  {
   "cell_type": "markdown",
   "id": "8724748e-096a-48d5-bd06-83581d55db52",
   "metadata": {
    "slideshow": {
     "slide_type": "slide"
    },
    "tags": []
   },
   "source": [
    "_Perform the following computations with 8-bit signed integers._\n",
    "* Q23: `0b10100011 + 7`"
   ]
  },
  {
   "cell_type": "markdown",
   "id": "d8d5d616-295c-4543-85a5-1d8a639dbeea",
   "metadata": {
    "slideshow": {
     "slide_type": "skip"
    },
    "tags": [
     "notes-only"
    ]
   },
   "source": [
    "    0b10100011 + 0b00000111 = 0b10101010 = -86"
   ]
  },
  {
   "cell_type": "markdown",
   "id": "3da065c7-4b48-4bc7-94b6-a4547682d085",
   "metadata": {
    "slideshow": {
     "slide_type": "skip"
    },
    "tags": [
     "worksheet-only"
    ]
   },
   "source": [
    "<p style=\"height:6em;\"></p>"
   ]
  },
  {
   "cell_type": "markdown",
   "id": "14d182c0-12fa-4de3-abae-7c771d8fdf46",
   "metadata": {
    "jp-MarkdownHeadingCollapsed": true,
    "tags": []
   },
   "source": [
    "* Q24: `48 - 0b01100001`"
   ]
  },
  {
   "cell_type": "markdown",
   "id": "232f6217-17c4-4d98-9ec2-4783076c4834",
   "metadata": {
    "slideshow": {
     "slide_type": "skip"
    },
    "tags": [
     "notes-only"
    ]
   },
   "source": [
    "    0b00110000 + 0b10011111 = 0b11001111 = -49"
   ]
  },
  {
   "cell_type": "markdown",
   "id": "2aa584c7-69dd-4767-b004-006e08d098a0",
   "metadata": {
    "slideshow": {
     "slide_type": "skip"
    },
    "tags": [
     "worksheet-only"
    ]
   },
   "source": [
    "<p style=\"height:6em;\"></p>"
   ]
  }
 ],
 "metadata": {
  "kernelspec": {
   "display_name": "C",
   "language": "c",
   "name": "c"
  },
  "language_info": {
   "file_extension": ".c",
   "mimetype": "c",
   "name": "c"
  }
 },
 "nbformat": 4,
 "nbformat_minor": 5
}
