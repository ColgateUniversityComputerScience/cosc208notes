{
 "cells": [
  {
   "cell_type": "markdown",
   "id": "39d76db8-edb9-47d5-bec8-7998805660b3",
   "metadata": {
    "slideshow": {
     "slide_type": "skip"
    },
    "tags": []
   },
   "source": [
    "# Assembly: load/store operations; arithmetic and bitwise operations; translating assembly code to low-level C code\n",
    "_COSC 208, Introduction to Computer Systems, 2023-03-22_"
   ]
  },
  {
   "cell_type": "markdown",
   "id": "37653a99-1c8a-47ac-b68c-6e7336bb8328",
   "metadata": {
    "slideshow": {
     "slide_type": "skip"
    },
    "tags": []
   },
   "source": [
    "## Announcements\n",
    "* Project 3 due tomorrow @ 11pm\n",
    "* Office hours tomorrow: 12:30pm-2pm (instead of 9am-10am)"
   ]
  },
  {
   "cell_type": "markdown",
   "id": "f17866fc-fc93-480c-a9a5-d903a0657063",
   "metadata": {
    "slideshow": {
     "slide_type": "skip"
    },
    "tags": []
   },
   "source": [
    "## Outline\n",
    "* Warm-up\n",
    "* Mapping assembly code to C code"
   ]
  },
  {
   "cell_type": "markdown",
   "id": "5c945817-10f1-4bbf-96bb-e4915f9852f0",
   "metadata": {
    "slideshow": {
     "slide_type": "slide"
    },
    "tags": []
   },
   "source": [
    "## Warm-up"
   ]
  },
  {
   "cell_type": "markdown",
   "id": "d5c253f4-f71c-4435-be4d-581746ae91d6",
   "metadata": {},
   "source": [
    "_Use the provided ARM64 reference sheet to answer the following questions._\n",
    "* Q1: _What is the difference between a `neg` instruction and a `mvn` instruction?_"
   ]
  },
  {
   "cell_type": "markdown",
   "id": "61545393-ddc6-4f1d-9518-6964cb2cfb2c",
   "metadata": {
    "slideshow": {
     "slide_type": "skip"
    },
    "tags": [
     "notes-only"
    ]
   },
   "source": [
    "    neg negates a number, whereas mvn performs a bitwise not"
   ]
  },
  {
   "cell_type": "markdown",
   "id": "62797ae6-9108-435b-9f81-2780fff438b9",
   "metadata": {
    "slideshow": {
     "slide_type": "skip"
    },
    "tags": [
     "worksheet-only"
    ]
   },
   "source": [
    "<div style=\"height:4em;\"></div>"
   ]
  },
  {
   "cell_type": "markdown",
   "id": "e63494ba-d302-4625-b250-c8c5451bc346",
   "metadata": {},
   "source": [
    "* Q2: _What is the difference between an `orr` instruction and a `eor` instruction?_"
   ]
  },
  {
   "cell_type": "markdown",
   "id": "036933a9-8d74-47a5-a827-23da7c8c17c8",
   "metadata": {
    "slideshow": {
     "slide_type": "skip"
    },
    "tags": [
     "notes-only"
    ]
   },
   "source": [
    "    orr performs a bitwise or, whereas eor performs a bitwise xor"
   ]
  },
  {
   "cell_type": "markdown",
   "id": "dfb0dd56-5696-429c-b339-eeccc1741465",
   "metadata": {
    "slideshow": {
     "slide_type": "skip"
    },
    "tags": [
     "worksheet-only"
    ]
   },
   "source": [
    "<div style=\"height:4em;\"></div>"
   ]
  },
  {
   "cell_type": "markdown",
   "id": "ace74a7a-01ba-4b11-a428-1259b54190e5",
   "metadata": {},
   "source": [
    "* Q3: _What is the difference between a `lsr` instruction and a `ldr` instruction?_"
   ]
  },
  {
   "cell_type": "markdown",
   "id": "1bc0acbb-c55d-4a4c-a0de-d8b13b275dd0",
   "metadata": {
    "slideshow": {
     "slide_type": "skip"
    },
    "tags": [
     "notes-only"
    ]
   },
   "source": [
    "    lsr performs a right shift, whereas ldr copies a value from memory into a register"
   ]
  },
  {
   "cell_type": "markdown",
   "id": "bf26f7a4-043f-4860-8b33-ce21fb73a6f2",
   "metadata": {
    "slideshow": {
     "slide_type": "skip"
    },
    "tags": [
     "worksheet-only"
    ]
   },
   "source": [
    "<div style=\"height:4em;\"></div>"
   ]
  },
  {
   "cell_type": "markdown",
   "id": "2fab1087-e548-4cd5-a26f-8e68a6b26197",
   "metadata": {},
   "source": [
    "* Q4: _What is the difference between a `add` instruction and a `and` instruction?_"
   ]
  },
  {
   "cell_type": "markdown",
   "id": "8f45b5de-f577-4cac-88e2-887b396cb19f",
   "metadata": {
    "slideshow": {
     "slide_type": "skip"
    },
    "tags": [
     "notes-only"
    ]
   },
   "source": [
    "    add performs addition, whereas and performs bitwise and"
   ]
  },
  {
   "cell_type": "markdown",
   "id": "bf9615c8-cf78-4225-9e93-b14d0cf1759c",
   "metadata": {
    "slideshow": {
     "slide_type": "skip"
    },
    "tags": [
     "worksheet-only"
    ]
   },
   "source": [
    "<div style=\"height:4em;\"></div>\n",
    "\n",
    "🛑 **STOP here** after completing the above questions; if you have extra time please **skip ahead** to the extra practice.\n",
    "\n",
    "<div style=\"page-break-after:always;\"></div>"
   ]
  },
  {
   "cell_type": "markdown",
   "id": "cae43cf3-a088-49f3-858e-6743a59d565d",
   "metadata": {
    "slideshow": {
     "slide_type": "slide"
    },
    "tags": []
   },
   "source": [
    "## Mapping assembly code to C code"
   ]
  },
  {
   "cell_type": "markdown",
   "id": "612576a8-f5ef-4191-8c88-accb38937e06",
   "metadata": {
    "slideshow": {
     "slide_type": "skip"
    },
    "tags": [
     "notes-only"
    ]
   },
   "source": [
    "* Function begin pattern\n",
    "    * create stack frame by decreasing (`sub`) stack pointer\n",
    "    * store (`str`) parameters from registers w/x0, w/x1, etc. into the stack in main memory\n",
    "* Local variable initialization pattern\n",
    "    * move (mov) constant value into register\n",
    "    * store (str) register value onto the stack\n",
    "* Mathematical operation pattern\n",
    "    * load (`ldr`) first operand from the stack into a register OR move (`mov`) first operand constant into a regster\n",
    "    * load (`ldr`) second operand from the stack into a register OR move (`mov`) second operand constant into a regster\n",
    "    * compute\n",
    "    * store (`str`) resulting value from a register into the stack\n",
    "* Function return/end pattern\n",
    "    * load (`ldr`) return value from the stack into the w/x0 register\n",
    "    * destroy stack frame by increasing (`add`) stack pointer\n",
    "    * return (`ret`) to caller"
   ]
  },
  {
   "cell_type": "markdown",
   "id": "42c0297e-7271-4031-9ae2-f6510b9c2f33",
   "metadata": {},
   "source": [
    "* Example"
   ]
  },
  {
   "cell_type": "code",
   "execution_count": null,
   "id": "a26198f0-28fa-413e-bb9a-5e35c60f7e92",
   "metadata": {
    "tags": [
     "worksheet-code-only"
    ]
   },
   "outputs": [],
   "source": [
    "/* 1*/   #include <stdio.h>\n",
    "/* 2*/   #include <stdlib.h>\n",
    "/* 3*/   int dog_years(int birth) {\n",
    "/* 4*/       int current = 2023;\n",
    "/* 5*/       int years = current - birth;\n",
    "/* 6*/       years = years * 7;\n",
    "/* 7*/       return years;\n",
    "/* 8*/   }\n",
    "/* 9*/   int main() {\n",
    "/*10*/       printf(\"What year were you born? \");\n",
    "/*11*/       char year[5];\n",
    "/*12*/       fgets(year, 5, stdin);\n",
    "/*13*/       int dog_age = dog_years(atoi(year));\n",
    "/*14*/       printf(\"You are %d dog years old\\n\", dog_age);\n",
    "/*15*/   }"
   ]
  },
  {
   "cell_type": "markdown",
   "id": "f6626fc2-a724-4b1d-af39-14a00d0b4e9f",
   "metadata": {
    "slideshow": {
     "slide_type": "skip"
    },
    "tags": [
     "notes-only"
    ]
   },
   "source": [
    "```\n",
    "0000000000000914 <dog_years>:\n",
    " 914:   d10083ff        sub     sp, sp, #0x20  // Line 3: create stack frame\n",
    " 918:   b9000fe0        str     w0, [sp, #12]  // Line 3: store parameter\n",
    " 91c:   5280fce0        mov     w0, #0x7e7     // Line 4: assign initial value to local variable\n",
    " 920:   b9001be0        str     w0, [sp, #24]  //      V\n",
    " 924:   b9401be1        ldr     w1, [sp, #24]  // Line 5: load first operand \n",
    " 928:   b9400fe0        ldr     w0, [sp, #12]  // Line 5: load second operand\n",
    " 92c:   4b000020        sub     w0, w1, w0     // Line 5: subtract\n",
    " 930:   b9001fe0        str     w0, [sp, #28]  // Line 5: store result in local variable\n",
    " 934:   b9401fe1        ldr     w1, [sp, #28]  // Line 6: load first operand\n",
    " 938:   2a0103e0        mov     w0, w1                 V\n",
    " 93c:   531d7000        lsl     w0, w0, #3     // Line 6: multiply\n",
    " 940:   4b010000        sub     w0, w0, w1     //      V\n",
    " 944:   b9001fe0        str     w0, [sp, #28]  // Line 6: store result in local variable\n",
    " 948:   b9401fe0        ldr     w0, [sp, #28]  // Line 7: prepare return value\n",
    " 94c:   910083ff        add     sp, sp, #0x20  // Line 7: destroy stack frame\n",
    " 950:   d65f03c0        ret                    // Line 7: return to caller\n",
    "```"
   ]
  },
  {
   "cell_type": "markdown",
   "id": "5114e012-158c-467e-b0e4-e6e67975403a",
   "metadata": {
    "slideshow": {
     "slide_type": "subslide"
    },
    "tags": [
     "worksheet-only"
    ]
   },
   "source": [
    "```\n",
    "0000000000000914 <dog_years>:\n",
    " 914:   d10083ff        sub     sp, sp, #0x20\n",
    " 918:   b9000fe0        str     w0, [sp, #12]\n",
    " 91c:   5280fce0        mov     w0, #0x7e7\n",
    " 920:   b9001be0        str     w0, [sp, #24]\n",
    " 924:   b9401be1        ldr     w1, [sp, #24]\n",
    " 928:   b9400fe0        ldr     w0, [sp, #12]\n",
    " 92c:   4b000020        sub     w0, w1, w0\n",
    " 930:   b9001fe0        str     w0, [sp, #28]\n",
    " 934:   b9401fe1        ldr     w1, [sp, #28]\n",
    " 938:   2a0103e0        mov     w0, w1\n",
    " 93c:   531d7000        lsl     w0, w0, #3\n",
    " 940:   4b010000        sub     w0, w0, w1\n",
    " 944:   b9001fe0        str     w0, [sp, #28]\n",
    " 948:   b9401fe0        ldr     w0, [sp, #28]\n",
    " 94c:   910083ff        add     sp, sp, #0x20\n",
    " 950:   d65f03c0        ret\n",
    "```\n",
    "\n",
    "<div style=\"page-break-after:always;\"></div>"
   ]
  },
  {
   "cell_type": "markdown",
   "id": "2a03461a-d75a-428c-8e01-cd0e91d94a17",
   "metadata": {
    "slideshow": {
     "slide_type": "subslide"
    },
    "tags": []
   },
   "source": [
    "* Q5: _For each line of assembly, indicate which original line of C code the assembly instruction was derived from._"
   ]
  },
  {
   "cell_type": "code",
   "execution_count": 2,
   "id": "cd292e35-21b2-48e6-9460-e9a1b128035c",
   "metadata": {
    "tags": [
     "worksheet-code-only"
    ]
   },
   "outputs": [
    {
     "name": "stdout",
     "output_type": "stream",
     "text": [
      "With an interest rate of 10% it will take ~7 years to double your money\n"
     ]
    }
   ],
   "source": [
    "/* 1*/  #include <stdio.h>\n",
    "/* 2*/  int years_to_double(int rate) {\n",
    "/* 3*/      int ruleof72 = 72;\n",
    "/* 4*/      int years = ruleof72 / rate;\n",
    "/* 5*/      return years;\n",
    "/* 6*/  }\n",
    "/* 7*/  int main() {\n",
    "/* 8*/      int r = 10;\n",
    "/* 9*/      int y = years_to_double(r);\n",
    "/*10*/      printf(\"With an interest rate of %d%% it \n",
    "                   will take ~%d years to double your money\\n\", r, y);\n",
    "/*11*/  }"
   ]
  },
  {
   "cell_type": "markdown",
   "id": "c5267656-d834-458f-aacc-46a4751f4bf6",
   "metadata": {
    "slideshow": {
     "slide_type": "skip"
    },
    "tags": [
     "notes-only"
    ]
   },
   "source": [
    "```\n",
    "000000000000076c <years_to_double>:\n",
    "    76c:    d10083ff     sub  sp, sp, #0x20   // 2\n",
    "    770:    b9000fe0     str  w0, [sp, #12]   // 2\n",
    "    774:    52800900     mov  w0, #0x48       // 3\n",
    "    778:    b9001be0     str  w0, [sp, #24]   // 3\n",
    "    77c:    b9401be1     ldr  w1, [sp, #24]   // 4\n",
    "    780:    b9400fe0     ldr  w0, [sp, #12]   // 4\n",
    "    784:    1ac00c20     sdiv w0, w1, w0      // 4\n",
    "    788:    b9001fe0     str  w0, [sp, #28]   // 4\n",
    "    78c:    b9401fe0     ldr  w0, [sp, #28]   // 5\n",
    "    790:    910083ff     add  sp, sp, #0x20   // 5\n",
    "    794:    d65f03c0     ret                  // 5\n",
    "```"
   ]
  },
  {
   "cell_type": "markdown",
   "id": "58e3b726-930b-404b-b1e5-d2dedb98b36a",
   "metadata": {
    "tags": [
     "worksheet-only"
    ]
   },
   "source": [
    "```\n",
    "000000000000076c <years_to_double>:\n",
    "    76c:    d10083ff     sub  sp, sp, #0x20\n",
    "    770:    b9000fe0     str  w0, [sp, #12]\n",
    "    774:    52800900     mov  w0, #0x48\n",
    "    778:    b9001be0     str  w0, [sp, #24]\n",
    "    77c:    b9401be1     ldr  w1, [sp, #24]\n",
    "    780:    b9400fe0     ldr  w0, [sp, #12]\n",
    "    784:    1ac00c20     sdiv w0, w1, w0\n",
    "    788:    b9001fe0     str  w0, [sp, #28]\n",
    "    78c:    b9401fe0     ldr  w0, [sp, #28]\n",
    "    790:    910083ff     add  sp, sp, #0x20\n",
    "    794:    d65f03c0     ret\n",
    "```"
   ]
  },
  {
   "cell_type": "markdown",
   "id": "87de8c6c-c9da-4eb7-a459-df1a076a84fc",
   "metadata": {
    "slideshow": {
     "slide_type": "subslide"
    },
    "tags": []
   },
   "source": [
    "* Q6: _For each line of assembly, indicate which original line of C code the assembly instruction was derived from._"
   ]
  },
  {
   "cell_type": "code",
   "execution_count": 2,
   "id": "8b94b260-f1a7-4094-9564-ac16e57d273c",
   "metadata": {
    "tags": [
     "worksheet-code-only"
    ]
   },
   "outputs": [
    {
     "name": "stdout",
     "output_type": "stream",
     "text": [
      "With an interest rate of 10% it will take ~7 years to double your money\n"
     ]
    }
   ],
   "source": [
    "/* 1*/  #include <stdio.h>\n",
    "/* 2*/  long deref(long *p) {\n",
    "/* 3*/      long v = *p;\n",
    "/* 4*/      return v;\n",
    "/* 5*/  }\n",
    "/* 6*/  int main() {\n",
    "/* 7*/      long x = 2;\n",
    "/* 8*/      long y = deref(&x);\n",
    "/* 9*/      printf(\"y = %ld\\n\", y);\n",
    "/*10*/      return 0;\n",
    "/*11*/  }"
   ]
  },
  {
   "cell_type": "markdown",
   "id": "96f6660a-cc0f-4871-8201-981d9d14499a",
   "metadata": {
    "slideshow": {
     "slide_type": "skip"
    },
    "tags": [
     "notes-only"
    ]
   },
   "source": [
    "```\n",
    "0000000000000854 <deref>:\n",
    " 854:   d10083ff    sub sp, sp, #0x20 // 2\n",
    " 858:   f90007e0    str x0, [sp, #8]  // 2\n",
    " 85c:   f94007e0    ldr x0, [sp, #8]  // 3\n",
    " 860:   f9400000    ldr x0, [x0]      // 3\n",
    " 864:   f9000fe0    str x0, [sp, #24] // 3\n",
    " 868:   f9400fe0    ldr x0, [sp, #24] // 4\n",
    " 86c:   910083ff    add sp, sp, #0x20 // 4\n",
    " 870:   d65f03c0    ret               // 4\n",
    "```"
   ]
  },
  {
   "cell_type": "markdown",
   "id": "c080c1bb-69c7-4d0d-b15b-3c62082e5a40",
   "metadata": {
    "tags": [
     "worksheet-only"
    ]
   },
   "source": [
    "```\n",
    "0000000000000854 <deref>:\n",
    " 854:   d10083ff    sub sp, sp, #0x20\n",
    " 858:   f90007e0    str x0, [sp, #8]\n",
    " 85c:   f94007e0    ldr x0, [sp, #8]\n",
    " 860:   f9400000    ldr x0, [x0]\n",
    " 864:   f9000fe0    str x0, [sp, #24]\n",
    " 868:   f9400fe0    ldr x0, [sp, #24]\n",
    " 86c:   910083ff    add sp, sp, #0x20\n",
    " 870:   d65f03c0    ret\n",
    "```"
   ]
  },
  {
   "cell_type": "markdown",
   "id": "54035356-a49f-4c50-a205-d37070b82906",
   "metadata": {
    "slideshow": {
     "slide_type": "skip"
    },
    "tags": [
     "worksheet-only"
    ]
   },
   "source": [
    "🛑 **STOP here** after completing the above questions; if you have extra time please **skip ahead** to the extra practice.\n",
    "\n",
    "<div style=\"page-break-after:always;\"></div>"
   ]
  },
  {
   "cell_type": "markdown",
   "id": "64785df4-fc21-4000-a39e-858f7b34424d",
   "metadata": {
    "slideshow": {
     "slide_type": "slide"
    },
    "tags": []
   },
   "source": [
    "The following C program (`operands.c`) has been compiled into assembly:"
   ]
  },
  {
   "cell_type": "code",
   "execution_count": 4,
   "id": "4d53083c-1abd-47cb-8cd0-420cf6e8cf94",
   "metadata": {
    "tags": [
     "worksheet-code-only"
    ]
   },
   "outputs": [],
   "source": [
    "int operandsA(int a) {\n",
    "    return a;\n",
    "}\n",
    "long operandsB(long b) {\n",
    "    return b;\n",
    "}\n",
    "int operandsC(int *c) {\n",
    "    return *c;\n",
    "}\n",
    "long operandsD(long *d) {\n",
    "    return *d;\n",
    "}\n",
    "int main() {\n",
    "    operandsA(5);\n",
    "    operandsB(5);\n",
    "    int x = 5;\n",
    "    operandsC(&x);\n",
    "    long y = 5;\n",
    "    operandsD(&y);\n",
    "}"
   ]
  },
  {
   "cell_type": "markdown",
   "id": "72e2f918-f3e3-4b4e-9a63-c648af75f34c",
   "metadata": {
    "slideshow": {
     "slide_type": "subslide"
    },
    "tags": []
   },
   "source": [
    "```\n",
    "00000000000007ec <operandsA>:\n",
    "    7ec:    d10043ff     sub    sp, sp, #0x10\n",
    "    7f0:    b9000fe0     str    w0, [sp, #12]\n",
    "    7f4:    b9400fe0     ldr    w0, [sp, #12]\n",
    "    7f8:    910043ff     add    sp, sp, #0x10\n",
    "    7fc:    d65f03c0     ret    \n",
    "0000000000000800 <operandsB>:\n",
    "    800:    d10043ff     sub    sp, sp, #0x10\n",
    "    804:    f90007e0     str    x0, [sp, #8]\n",
    "    808:    f94007e0     ldr    x0, [sp, #8]\n",
    "    80c:    910043ff     add    sp, sp, #0x10\n",
    "    810:    d65f03c0     ret\n",
    "0000000000000814 <operandsC>:\n",
    "    814:    d10043ff     sub    sp, sp, #0x10\n",
    "    818:    f90007e0     str    x0, [sp, #8]\n",
    "    81c:    f94007e0     ldr    x0, [sp, #8]\n",
    "    820:    b9400000     ldr    w0, [x0]\n",
    "    824:    910043ff     add    sp, sp, #0x10\n",
    "    828:    d65f03c0     ret\n",
    "000000000000082c <operandsD>:\n",
    "    82c:    d10043ff     sub    sp, sp, #0x10\n",
    "    830:    f90007e0     str    x0, [sp, #8]\n",
    "    834:    f94007e0     ldr    x0, [sp, #8]\n",
    "    838:    f9400000     ldr    x0, [x0]\n",
    "    83c:    910043ff     add    sp, sp, #0x10\n",
    "    840:    d65f03c0     ret\n",
    "```\n",
    "\n",
    "<div style=\"page-break-after:always;\"></div>"
   ]
  },
  {
   "cell_type": "markdown",
   "id": "a08e2d69-5040-451a-b582-efa5c0b47e12",
   "metadata": {
    "slideshow": {
     "slide_type": "subslide"
    },
    "tags": []
   },
   "source": [
    "* Q7: _How does the assembly code for `operandsA` and `operandsB` differ? Why?_"
   ]
  },
  {
   "cell_type": "markdown",
   "id": "6ab6756a-988d-4e40-a68d-60b387511e14",
   "metadata": {
    "slideshow": {
     "slide_type": "skip"
    },
    "tags": [
     "notes-only"
    ]
   },
   "source": [
    "* `operandsA` takes and returns an int, which is 32-bits, whereas `operandsB` takes and returns a long, which is 64-bits, so:\n",
    "    * `operandsA` uses `w0` while `operandsB` uses `x0`\n",
    "    * `operandsA` stores the parameter at `sp + 12` while `operandsB` stores the parameter at `sp + 8`"
   ]
  },
  {
   "cell_type": "markdown",
   "id": "249184bd-3f6a-447a-a5dc-6b69f6ab83c0",
   "metadata": {
    "slideshow": {
     "slide_type": "skip"
    },
    "tags": [
     "worksheet-only"
    ]
   },
   "source": [
    "<p style=\"height:6em;\"></p>"
   ]
  },
  {
   "cell_type": "markdown",
   "id": "c9ac515b-c7ee-49f6-af43-3af78754aee4",
   "metadata": {},
   "source": [
    "* Q8: _How does the assembly code for `operandsB` and `operandsD` differ? Why?_"
   ]
  },
  {
   "cell_type": "markdown",
   "id": "68616dcc-d3f0-4954-ab57-e1fbbe298ed1",
   "metadata": {
    "slideshow": {
     "slide_type": "skip"
    },
    "tags": [
     "notes-only"
    ]
   },
   "source": [
    "* `operandsB` takes and returns a long, whereas `operandsD` takes a pointer to a long and returns a long, so:\n",
    "    * `operandsD` must deference the pointer (`ldr x0, [x0]`) before returning "
   ]
  },
  {
   "cell_type": "markdown",
   "id": "3baee88a-82de-4561-ac9f-a4487a453abd",
   "metadata": {
    "slideshow": {
     "slide_type": "skip"
    },
    "tags": [
     "worksheet-only"
    ]
   },
   "source": [
    "<p style=\"height:6em;\"></p>"
   ]
  },
  {
   "cell_type": "markdown",
   "id": "4403a894-b02b-4ac5-85e2-5f38fd4d59b2",
   "metadata": {},
   "source": [
    "* Q9: _How does the assembly code for `operandsC` and `operandsD` differ? Why?_"
   ]
  },
  {
   "cell_type": "markdown",
   "id": "bf762be5-23e7-46f1-91af-4826e48284dd",
   "metadata": {
    "slideshow": {
     "slide_type": "skip"
    },
    "tags": [
     "notes-only"
    ]
   },
   "source": [
    "* `operandsC` takes a pointer to an int and returns and int, whereas `operandsD` takes a pointer to a long and returns a long\n",
    "* both take a memory address (a 64-bit value), which is initially in `x0` and stored at `sp + 8`\n",
    "* the dereference of the pointer is a 32-bit value in `operandsC` and a 64-bit value in `operandsD`, so the value is loaded into `w0` in `operandsC` and `x0` in `operandsD`"
   ]
  },
  {
   "cell_type": "markdown",
   "id": "22e1c4fb-4f31-48d0-9c9c-a32f2403dba7",
   "metadata": {
    "slideshow": {
     "slide_type": "skip"
    },
    "tags": [
     "worksheet-only"
    ]
   },
   "source": [
    "<div style=\"page-break-after:always;\"></div>"
   ]
  },
  {
   "cell_type": "markdown",
   "id": "a82d425b-2220-4a29-9e28-64dbb110b731",
   "metadata": {
    "slideshow": {
     "slide_type": "slide"
    },
    "tags": []
   },
   "source": [
    "## Extra practice"
   ]
  },
  {
   "cell_type": "markdown",
   "id": "26e4f44d-142e-404b-8f96-d8e96320bac6",
   "metadata": {
    "tags": []
   },
   "source": [
    "* Q10: _For each line of assembly, indicate which original line of C code the assembly instruction was derived from._"
   ]
  },
  {
   "cell_type": "code",
   "execution_count": 1,
   "id": "8db5d813-625d-47b7-9829-c1b69abfeee7",
   "metadata": {
    "tags": [
     "worksheet-code-only"
    ]
   },
   "outputs": [
    {
     "name": "stdout",
     "output_type": "stream",
     "text": [
      "525600 minutes\n",
      "525000 moments so dear\n",
      "525600 minutes\n",
      "How do you measure? Measure a year?\n"
     ]
    }
   ],
   "source": [
    "/* 1*/   #include <stdio.h>\n",
    "/* 2*/   int seasons_of_love() {\n",
    "/* 3*/       int dpy = 365;\n",
    "/* 4*/       int hpd = 24;\n",
    "/* 5*/       int mph = 60;\n",
    "/* 6*/       int h = dpy * hpd;\n",
    "/* 7*/       int m = h * mph;\n",
    "/* 8*/       return m;\n",
    "/* 9*/   }\n",
    "/*10*/  int main() {\n",
    "/*11*/      int minutes = seasons_of_love();\n",
    "/*12*/      printf(\"%d minutes\\n\", minutes);\n",
    "/*13*/      printf(\"%d moments so dear\\n\", minutes - 600);\n",
    "/*14*/      printf(\"%d minutes\\n\", minutes);\n",
    "/*15*/      printf(\"How do you measure? Measure a year?\\n\");\n",
    "/*16*/  }"
   ]
  },
  {
   "cell_type": "markdown",
   "id": "0d0371cc-8ffc-45ca-85a7-ee688472d711",
   "metadata": {
    "slideshow": {
     "slide_type": "skip"
    },
    "tags": [
     "notes-only"
    ]
   },
   "source": [
    "```\n",
    "00000000000007ac <seasons_of_love>:\n",
    "    7ac:   d10083ff        sub     sp, sp, #0x20    // Line 2   Create stack frame\n",
    "    7b0:   52802da0        mov     w0, #0x16d       // Line 3   Local variable (dpy) initialization \n",
    "    7b4:   b9000fe0        str     w0, [sp, #12]    //   V\n",
    "    7b8:   52800300        mov     w0, #0x18        // Line 4   Local variable (hpd) initialization\n",
    "    7bc:   b90013e0        str     w0, [sp, #16]    //   V\n",
    "    7c0:   52800780        mov     w0, #0x3c        // Line 5   Local variable (mph) initialization\n",
    "    7c4:   b90017e0        str     w0, [sp, #20]    //   V\n",
    "    7c8:   b9400fe1        ldr     w1, [sp, #12]    // Line 6   Mathematical operation\n",
    "    7cc:   b94013e0        ldr     w0, [sp, #16]    //   |\n",
    "    7d0:   1b007c20        mul     w0, w1, w0       //   |\n",
    "    7d4:   b9001be0        str     w0, [sp, #24]    //   V\n",
    "    7d8:   b9401be1        ldr     w1, [sp, #24]    // Line 7   Mathematical operation\n",
    "    7dc:   b94017e0        ldr     w0, [sp, #20]    //   |\n",
    "    7e0:   1b007c20        mul     w0, w1, w0       //   |\n",
    "    7e4:   b9001fe0        str     w0, [sp, #28]    //   V\n",
    "    7e8:   b9401fe0        ldr     w0, [sp, #28]    // Line 8   Function return/end\n",
    "    7ec:   910083ff        add     sp, sp, #0x20    //   |\n",
    "    7f0:   d65f03c0        ret                      //   V\n",
    "```"
   ]
  },
  {
   "cell_type": "markdown",
   "id": "e4eaabb2-1d76-448a-b517-395424a6f219",
   "metadata": {
    "slideshow": {
     "slide_type": "subslide"
    },
    "tags": [
     "worksheet-only"
    ]
   },
   "source": [
    "```\n",
    "00000000000007ac <seasons_of_love>:\n",
    "    7ac:   d10083ff        sub     sp, sp, #0x20\n",
    "    7b0:   52802da0        mov     w0, #0x16d  \n",
    "    7b4:   b9000fe0        str     w0, [sp, #12]\n",
    "    7b8:   52800300        mov     w0, #0x18   \n",
    "    7bc:   b90013e0        str     w0, [sp, #16]\n",
    "    7c0:   52800780        mov     w0, #0x3c   \n",
    "    7c4:   b90017e0        str     w0, [sp, #20]\n",
    "    7c8:   b9400fe1        ldr     w1, [sp, #12]\n",
    "    7cc:   b94013e0        ldr     w0, [sp, #16]\n",
    "    7d0:   1b007c20        mul     w0, w1, w0\n",
    "    7d4:   b9001be0        str     w0, [sp, #24]\n",
    "    7d8:   b9401be1        ldr     w1, [sp, #24]\n",
    "    7dc:   b94017e0        ldr     w0, [sp, #20]\n",
    "    7e0:   1b007c20        mul     w0, w1, w0\n",
    "    7e4:   b9001fe0        str     w0, [sp, #28]\n",
    "    7e8:   b9401fe0        ldr     w0, [sp, #28]\n",
    "    7ec:   910083ff        add     sp, sp, #0x20\n",
    "    7f0:   d65f03c0        ret\n",
    "```"
   ]
  }
 ],
 "metadata": {
  "kernelspec": {
   "display_name": "C",
   "language": "c",
   "name": "c"
  },
  "language_info": {
   "file_extension": ".c",
   "mimetype": "c",
   "name": "c"
  }
 },
 "nbformat": 4,
 "nbformat_minor": 5
}
