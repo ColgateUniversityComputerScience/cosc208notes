{
 "cells": [
  {
   "cell_type": "markdown",
   "id": "40c5bff8-f0b9-4222-80cb-62efa3710886",
   "metadata": {
    "editable": true,
    "slideshow": {
     "slide_type": "skip"
    },
    "tags": []
   },
   "source": [
    "# Data representation: real numbers\n",
    "_COSC 208, Introduction to Computer Systems, Fall 2024_"
   ]
  },
  {
   "cell_type": "markdown",
   "id": "ff6e3e06-7a9a-4b93-abbd-97854e97df8f",
   "metadata": {
    "editable": true,
    "slideshow": {
     "slide_type": "skip"
    },
    "tags": []
   },
   "source": [
    "## Announcements\n",
    "* Project 1 beta version due Tues, Sept 24 @ 11pm"
   ]
  },
  {
   "cell_type": "markdown",
   "id": "dec847ab-5024-4756-a382-5525280b44c8",
   "metadata": {
    "editable": true,
    "slideshow": {
     "slide_type": "skip"
    },
    "tags": [
     "notes-only"
    ]
   },
   "source": [
    "## Real numbers"
   ]
  },
  {
   "cell_type": "markdown",
   "id": "b293f20e-f6e9-40fd-9a16-8fd3334d30b4",
   "metadata": {
    "editable": true,
    "slideshow": {
     "slide_type": "skip"
    },
    "tags": [
     "notes-only"
    ]
   },
   "source": [
    "* Real numbers may have fractional parts -- e.g., `3.14`\n",
    "* _How can we encode real numbers?_\n",
    "* Fixed-point representation\n",
    "    * Location of decimal point is fixed — some bits encode whole numbers, and some bits encode fractional numbers\n",
    "    * Example: 8-bit fixed point with 3 bits for the fractional part: `0b01011010` = 0 * 2^4 + 1 * 2^3 + 0 * 2^2 + 1 * 2^1 + 1 * 2^0 + 0 * 2^-1 + 1 * 2^-2 + 0 * 2^-3 = 8 + 2 + 1 + 0.25 = 11.25\n",
    "    * _What is an advantage of fixed-point representation?_\n",
    "        * Easy to compute\n",
    "    * _What is a disadvantage of fixed-point representation?_ \n",
    "        * Range of real numbers is fixed — cannot represent large whole numbers or small fractional numbers\n",
    "* Float-point representation\n",
    "    * Uses a \"scaling factor\" to multiply (or divide) fractional part\n",
    "    * Bits in the significand represent (from left to right) 2^-1, 2^-2, ... 2^-23\n",
    "    * Bits in the exponent represent an unsigned integer 0 - 255\n",
    "    * Multiply significand by 2^(exponent - 127) to get final result\n",
    "    * Can represent large whole numbers **or** small fractional numbers, but not a large whole number with a small fractional part"
   ]
  },
  {
   "cell_type": "markdown",
   "id": "f422f904-846f-4d7d-b13c-7d5c8efd9d0a",
   "metadata": {
    "editable": true,
    "slideshow": {
     "slide_type": ""
    },
    "tags": [
     "question"
    ]
   },
   "source": [
    "_Express the following real numbers using 8-bit fixed point representation with 4 bits for the fractional part. If the number cannot be expressed exactly, express it as closely as you can and indicate which number is actually represented by the bits._\n",
    "\n",
    "Q1: `5.75`"
   ]
  },
  {
   "cell_type": "markdown",
   "id": "93125c1a-b9f2-4a21-93dc-123fe3e51daf",
   "metadata": {
    "editable": true,
    "slideshow": {
     "slide_type": "skip"
    },
    "tags": [
     "answer"
    ]
   },
   "source": [
    "    0b01011100 = 2^2 + 2^0 + 2^-1 + 2^-2"
   ]
  },
  {
   "cell_type": "markdown",
   "id": "af013c2b-48e2-4f8f-b159-2d14cba563a7",
   "metadata": {
    "editable": true,
    "slideshow": {
     "slide_type": "skip"
    },
    "tags": [
     "blank"
    ]
   },
   "source": [
    "<p style=\"height:6em;\"></p>"
   ]
  },
  {
   "cell_type": "markdown",
   "id": "7ce21d1b-b80e-46c0-8c1c-8f685026a665",
   "metadata": {
    "editable": true,
    "slideshow": {
     "slide_type": ""
    },
    "tags": [
     "question"
    ]
   },
   "source": [
    "Q2: `16.125`"
   ]
  },
  {
   "cell_type": "markdown",
   "id": "40f53bc2-6f67-493b-ad26-e7fca9f43963",
   "metadata": {
    "editable": true,
    "slideshow": {
     "slide_type": "skip"
    },
    "tags": [
     "answer"
    ]
   },
   "source": [
    "    0b11110010 = 2^3 + 2^2 + 2^1 + 2^0 + 2^-3 = 15.125"
   ]
  },
  {
   "cell_type": "markdown",
   "id": "108d87e4-9bed-4616-9c5a-87d727a85be3",
   "metadata": {
    "editable": true,
    "slideshow": {
     "slide_type": "skip"
    },
    "tags": [
     "blank"
    ]
   },
   "source": [
    "<p style=\"height:6em;\"></p>"
   ]
  },
  {
   "cell_type": "markdown",
   "id": "3a2de75a-0105-4e2a-aeda-b7be6a7343ce",
   "metadata": {
    "editable": true,
    "slideshow": {
     "slide_type": ""
    },
    "tags": [
     "question"
    ]
   },
   "source": [
    "Q3: `4.1875`"
   ]
  },
  {
   "cell_type": "markdown",
   "id": "3a8e76db-9bcf-47a7-80d4-3ddf66d844ee",
   "metadata": {
    "editable": true,
    "slideshow": {
     "slide_type": "skip"
    },
    "tags": [
     "answer"
    ]
   },
   "source": [
    "    0b01000011 = 2^2 + 2^0 + 2^-3 + 2^-4 = 4.1875"
   ]
  },
  {
   "cell_type": "markdown",
   "id": "3c4f784d-1d5e-49b7-9eb9-51950982230c",
   "metadata": {
    "editable": true,
    "slideshow": {
     "slide_type": "skip"
    },
    "tags": [
     "blank"
    ]
   },
   "source": [
    "<p style=\"height:6em;\"></p>"
   ]
  }
 ],
 "metadata": {
  "kernelspec": {
   "display_name": "C",
   "language": "c",
   "name": "c"
  },
  "language_info": {
   "file_extension": ".c",
   "mimetype": "text/plain",
   "name": "c"
  }
 },
 "nbformat": 4,
 "nbformat_minor": 5
}
