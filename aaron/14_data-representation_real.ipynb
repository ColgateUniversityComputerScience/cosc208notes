{
 "cells": [
  {
   "cell_type": "markdown",
   "id": "40c5bff8-f0b9-4222-80cb-62efa3710886",
   "metadata": {
    "editable": true,
    "slideshow": {
     "slide_type": "skip"
    },
    "tags": []
   },
   "source": [
    "# Data representation: binary arithmetic; overflow; bitwise operators\n",
    "_COSC 208, Introduction to Computer Systems, Fall 2024_"
   ]
  },
  {
   "cell_type": "markdown",
   "id": "ff6e3e06-7a9a-4b93-abbd-97854e97df8f",
   "metadata": {
    "editable": true,
    "slideshow": {
     "slide_type": "skip"
    },
    "tags": []
   },
   "source": [
    "## Announcements\n",
    "* Project 1 beta version due Tues, Sept 24 @ 11pm"
   ]
  },
  {
   "cell_type": "markdown",
   "id": "ba37f244-d781-4a25-9496-803617b63bb9",
   "metadata": {
    "editable": true,
    "slideshow": {
     "slide_type": "slide"
    },
    "tags": []
   },
   "source": [
    "## Binary arithmetic"
   ]
  },
  {
   "cell_type": "markdown",
   "id": "b7fdce34-64c3-4d1c-b3c0-d3299f425554",
   "metadata": {
    "editable": true,
    "slideshow": {
     "slide_type": "skip"
    },
    "tags": [
     "notes-only"
    ]
   },
   "source": [
    "* Addition: same as decimal, except you carry a one instead of a ten\n",
    "* Example: 5 + 5\n",
    "\n",
    "```\n",
    "  0b0101\n",
    "+ 0b0101\n",
    "--------\n",
    "\n",
    "      1\n",
    "  0b0101\n",
    "+ 0b0101\n",
    "--------\n",
    "       0\n",
    "\n",
    "     01\n",
    "  0b0101\n",
    "+ 0b0101\n",
    "--------\n",
    "      10\n",
    "\n",
    "    101\n",
    "  0b0101\n",
    "+ 0b0101\n",
    "--------\n",
    "     010\n",
    "\n",
    "    101\n",
    "  0b0101\n",
    "+ 0b0101\n",
    "--------\n",
    "  0b1010\n",
    "```\n",
    "\n",
    "* Check our work:\n",
    "\n",
    "```\n",
    "1 * 2^3 + 0 * 2^2 + 1 * 2^1 + 0 * 2^0 = 8 + 2 = 10 = 5+5\n",
    "```\n",
    "\n",
    "* Another example: 5 + -5\n",
    "\n",
    "```\n",
    "  0b0101\n",
    "+ 0b1011\n",
    "--------\n",
    "\n",
    "      1\n",
    "  0b0101\n",
    "+ 0b1011\n",
    "--------\n",
    "       0\n",
    "\n",
    "     11\n",
    "  0b0101\n",
    "+ 0b1011\n",
    "--------\n",
    "      00\n",
    "\n",
    "    111\n",
    "  0b0101\n",
    "+ 0b1011\n",
    "--------\n",
    "     000\n",
    "\n",
    "    111\n",
    "  0b0101\n",
    "+ 0b1011\n",
    "--------\n",
    "    0000\n",
    "(Carry-out => 1)\n",
    "```\n",
    "\n",
    "* Subtraction: add the negation"
   ]
  },
  {
   "cell_type": "markdown",
   "id": "eeb72ee0-8d81-481a-b36f-d684e28e97ec",
   "metadata": {
    "editable": true,
    "slideshow": {
     "slide_type": ""
    },
    "tags": [
     "question"
    ]
   },
   "source": [
    "_Express the decimal numbers in **8-bit two's complement**, then use **bitwise arithmetic**:_\n",
    "\n",
    "Q1: `10 + 0b00000101`"
   ]
  },
  {
   "cell_type": "markdown",
   "id": "6225a184-e639-4b2a-a309-165b393eb38c",
   "metadata": {
    "editable": true,
    "slideshow": {
     "slide_type": "skip"
    },
    "tags": [
     "answer"
    ]
   },
   "source": [
    "    0b00001010 + 0b00000101 = 0b00001111"
   ]
  },
  {
   "cell_type": "markdown",
   "id": "57243856-cf8f-4f1e-b740-0a55c125353e",
   "metadata": {
    "editable": true,
    "slideshow": {
     "slide_type": "skip"
    },
    "tags": [
     "blank"
    ]
   },
   "source": [
    "<p style=\"height:10em;\"></p>"
   ]
  },
  {
   "cell_type": "markdown",
   "id": "b9e35913-0cbc-46aa-9ad5-c4af9c5a786c",
   "metadata": {
    "editable": true,
    "slideshow": {
     "slide_type": ""
    },
    "tags": [
     "question"
    ]
   },
   "source": [
    "Q2: `0b00000111 + 15`"
   ]
  },
  {
   "cell_type": "markdown",
   "id": "faa92245-2452-4027-ab80-32e5522ad3c2",
   "metadata": {
    "editable": true,
    "slideshow": {
     "slide_type": "skip"
    },
    "tags": [
     "answer"
    ]
   },
   "source": [
    "    0b00000111 + 0b00001111 = 0b00010110"
   ]
  },
  {
   "cell_type": "markdown",
   "id": "9a136931-4cb8-4e87-88f1-27ec21d6e46c",
   "metadata": {
    "editable": true,
    "slideshow": {
     "slide_type": "skip"
    },
    "tags": [
     "blank"
    ]
   },
   "source": [
    "<p style=\"height:10em;\"></p>"
   ]
  },
  {
   "cell_type": "markdown",
   "id": "7979abae-579c-4fe4-a1ab-f7a0e76714bf",
   "metadata": {
    "editable": true,
    "slideshow": {
     "slide_type": ""
    },
    "tags": [
     "question"
    ]
   },
   "source": [
    "Q3: `-10 + 0b00000101`"
   ]
  },
  {
   "cell_type": "markdown",
   "id": "58197657-4922-4ef0-8ceb-7500d6968ed1",
   "metadata": {
    "editable": true,
    "slideshow": {
     "slide_type": "skip"
    },
    "tags": [
     "answer"
    ]
   },
   "source": [
    "    (0b11110101 + 0b1) + 0b00000101 = 0b11110110 + 0b00000101 = 0b11111011"
   ]
  },
  {
   "cell_type": "markdown",
   "id": "cb2d1967-58c3-4ea2-a843-1a19823f5844",
   "metadata": {
    "editable": true,
    "slideshow": {
     "slide_type": "skip"
    },
    "tags": [
     "blank"
    ]
   },
   "source": [
    "<p style=\"height:10em;\"></p>"
   ]
  },
  {
   "cell_type": "markdown",
   "id": "4d7db5e3-61f0-461a-bbec-7ec9de74e60e",
   "metadata": {
    "editable": true,
    "slideshow": {
     "slide_type": ""
    },
    "tags": [
     "question"
    ]
   },
   "source": [
    "Q4: `0b00001010 - 5`"
   ]
  },
  {
   "cell_type": "markdown",
   "id": "275c455b-ddc2-45a3-a0b4-88703915ca74",
   "metadata": {
    "editable": true,
    "slideshow": {
     "slide_type": "skip"
    },
    "tags": [
     "answer"
    ]
   },
   "source": [
    "    0b00001010 + (0b11111010 + 0b1) = 0b00001010 + 0b11111011 = 0b00000101"
   ]
  },
  {
   "cell_type": "markdown",
   "id": "c6a62574-7f4e-4f44-b739-ba4ba8c27470",
   "metadata": {
    "editable": true,
    "slideshow": {
     "slide_type": "skip"
    },
    "tags": [
     "blank"
    ]
   },
   "source": [
    "<p style=\"height:10em;\"></p>"
   ]
  },
  {
   "cell_type": "markdown",
   "id": "79cb78ce-6036-4657-8e64-9da752faad4c",
   "metadata": {
    "editable": true,
    "jp-MarkdownHeadingCollapsed": true,
    "slideshow": {
     "slide_type": ""
    },
    "tags": [
     "question"
    ]
   },
   "source": [
    "Q5: `0b00100000 + 0b01100000`"
   ]
  },
  {
   "cell_type": "markdown",
   "id": "bfd7d108-9094-4f99-a813-a5374af6a759",
   "metadata": {
    "editable": true,
    "slideshow": {
     "slide_type": "skip"
    },
    "tags": [
     "answer"
    ]
   },
   "source": [
    "    0b10000000 = -128 (overflow occurred)"
   ]
  },
  {
   "cell_type": "markdown",
   "id": "e6460fc5-b510-437b-b3bb-edd4766ba874",
   "metadata": {
    "editable": true,
    "slideshow": {
     "slide_type": "skip"
    },
    "tags": [
     "blank"
    ]
   },
   "source": [
    "<p style=\"height:9em;\"></p>"
   ]
  },
  {
   "cell_type": "markdown",
   "id": "e3d1dd91-88d8-4596-94c2-16de5444fcef",
   "metadata": {
    "editable": true,
    "slideshow": {
     "slide_type": ""
    },
    "tags": [
     "question"
    ]
   },
   "source": [
    "Q6: `64 + 64`"
   ]
  },
  {
   "cell_type": "markdown",
   "id": "33187b78-abce-4c34-b266-c6936f2321f6",
   "metadata": {
    "editable": true,
    "slideshow": {
     "slide_type": "skip"
    },
    "tags": [
     "answer"
    ]
   },
   "source": [
    "    0b01000000 + 0b1000000 = 0b10000000 = -128 (overflow occurred)"
   ]
  },
  {
   "cell_type": "markdown",
   "id": "574286a6-e19f-4724-bdd7-4c7733e102ee",
   "metadata": {
    "editable": true,
    "slideshow": {
     "slide_type": "skip"
    },
    "tags": [
     "blank"
    ]
   },
   "source": [
    "<p style=\"height:9em;\"></p>"
   ]
  },
  {
   "cell_type": "markdown",
   "id": "a2d03aa6-7f04-4e0b-81e8-4136d1d050ce",
   "metadata": {
    "editable": true,
    "slideshow": {
     "slide_type": "slide"
    },
    "tags": [
     "question"
    ]
   },
   "source": [
    "Q7: `0b10100011 + 7`"
   ]
  },
  {
   "cell_type": "markdown",
   "id": "a45b77f8-4189-49c5-a34a-1c88418215d8",
   "metadata": {
    "editable": true,
    "slideshow": {
     "slide_type": "skip"
    },
    "tags": [
     "answer"
    ]
   },
   "source": [
    "    0b10100011 + 0b00000111 = 0b10101010 = -86"
   ]
  },
  {
   "cell_type": "markdown",
   "id": "c96d1e70-98e8-4c60-81aa-41b1ea354a09",
   "metadata": {
    "editable": true,
    "slideshow": {
     "slide_type": "skip"
    },
    "tags": [
     "blank"
    ]
   },
   "source": [
    "<p style=\"height:10em;\"></p>"
   ]
  },
  {
   "cell_type": "markdown",
   "id": "b5386f6a-b795-4773-9e89-c54e6293f3ba",
   "metadata": {
    "editable": true,
    "jp-MarkdownHeadingCollapsed": true,
    "slideshow": {
     "slide_type": ""
    },
    "tags": [
     "question"
    ]
   },
   "source": [
    "Q8: `48 - 0b01100001`"
   ]
  },
  {
   "cell_type": "markdown",
   "id": "0aa6051d-e746-417d-8fba-8d4ebe780334",
   "metadata": {
    "editable": true,
    "slideshow": {
     "slide_type": "skip"
    },
    "tags": [
     "answer"
    ]
   },
   "source": [
    "    0b00110000 + 0b10011111 = 0b11001111 = -49"
   ]
  },
  {
   "cell_type": "markdown",
   "id": "99f8e4f4-4e03-4415-96fd-7ae6b44526f4",
   "metadata": {
    "editable": true,
    "slideshow": {
     "slide_type": "skip"
    },
    "tags": [
     "blank"
    ]
   },
   "source": [
    "<p style=\"height:10em;\"></p>"
   ]
  },
  {
   "cell_type": "markdown",
   "id": "b4b4a64a-e262-4936-b143-f35e26669127",
   "metadata": {
    "editable": true,
    "slideshow": {
     "slide_type": "slide"
    },
    "tags": []
   },
   "source": [
    "## Overflow"
   ]
  },
  {
   "cell_type": "markdown",
   "id": "202e063c-1aa1-4ef6-afbc-15f1c9c6bd0d",
   "metadata": {
    "editable": true,
    "slideshow": {
     "slide_type": "skip"
    },
    "tags": [
     "notes-only"
    ]
   },
   "source": [
    "* 32 + 96 = -128!? What!?\n",
    "* Computation overflowed — i.e., result is too large to be represented\n",
    "    * Computation wraps around to negative numbers\n",
    "    * Can only occur when you add two positive numbers\n",
    "* Computation can also underflow — i.e., result is too small to be represented\n",
    "    * Computation wraps around to positive numbers\n",
    "    * E.g., -64 + -65 = `0b11000000` + `0b10111111` = `0b01111111` = 127\n",
    "    * Can only occur when you add two negative numbers\n",
    "* Overflow and underflow are impossible when adding a positive number and a negative number\n",
    "    * Assume you add the largest magnitude positive number and the smallest magnitude negative number (-1); the result will be slightly less magnitude than the positive operand, and thus cannot overflow\n",
    "    * Assume you add the smallest magnitude positive number (1) and the largest magnitude negative number; the result will be slightly less magnitude than the negative operand, and thus cannot underflow\n",
    "* _What happens if you overflow with unsigned integers?_ — you wrap around to zero, and get a smaller positive integer\n",
    "* _What happens if you underflow with unsigned integers?_ — you wrap around to the maximum value, and get a larger positive integer"
   ]
  },
  {
   "cell_type": "markdown",
   "id": "776edd02-4f6a-45c4-b7be-afb117b11f5c",
   "metadata": {
    "editable": true,
    "jp-MarkdownHeadingCollapsed": true,
    "slideshow": {
     "slide_type": ""
    },
    "tags": [
     "question"
    ]
   },
   "source": [
    "_For each of the following computations, determine whether the computation **overflows, underflows, or neither**. Assume we are using **8-bit signed integers**._\n",
    "\n",
    "Q9: `0b10000000 + 0b01111111`"
   ]
  },
  {
   "cell_type": "markdown",
   "id": "2614b3ec-9c23-4494-96dc-8dd12a65a559",
   "metadata": {
    "editable": true,
    "slideshow": {
     "slide_type": "skip"
    },
    "tags": [
     "answer"
    ]
   },
   "source": [
    "    neither"
   ]
  },
  {
   "cell_type": "markdown",
   "id": "36d17409-0934-4d94-a456-89ddeb3ab038",
   "metadata": {
    "editable": true,
    "slideshow": {
     "slide_type": "skip"
    },
    "tags": [
     "blank"
    ]
   },
   "source": [
    "<p style=\"height:5em;\"></p>"
   ]
  },
  {
   "cell_type": "markdown",
   "id": "f0b4ac7f-1a0e-47e6-869e-f56d0980f5ee",
   "metadata": {
    "editable": true,
    "jp-MarkdownHeadingCollapsed": true,
    "slideshow": {
     "slide_type": ""
    },
    "tags": [
     "question"
    ]
   },
   "source": [
    "Q10: `0b10000001 + 0b01111111`"
   ]
  },
  {
   "cell_type": "markdown",
   "id": "41c1c2d7-6b82-4b6f-8742-7bcfe0ae662e",
   "metadata": {
    "editable": true,
    "slideshow": {
     "slide_type": "skip"
    },
    "tags": [
     "answer"
    ]
   },
   "source": [
    "    neither"
   ]
  },
  {
   "cell_type": "markdown",
   "id": "9d0f9b9e-fe8c-486d-9c5b-b902fcb110ff",
   "metadata": {
    "editable": true,
    "slideshow": {
     "slide_type": "skip"
    },
    "tags": [
     "blank"
    ]
   },
   "source": [
    "<p style=\"height:5em;\"></p>"
   ]
  },
  {
   "cell_type": "markdown",
   "id": "f68655fd-0267-489e-8eb6-837e63118b1d",
   "metadata": {
    "editable": true,
    "jp-MarkdownHeadingCollapsed": true,
    "slideshow": {
     "slide_type": ""
    },
    "tags": [
     "question"
    ]
   },
   "source": [
    "Q11: `0b10000000 + 0b10000001`"
   ]
  },
  {
   "cell_type": "markdown",
   "id": "a469577d-2be5-49df-888e-eeb5bc34302e",
   "metadata": {
    "editable": true,
    "slideshow": {
     "slide_type": "skip"
    },
    "tags": [
     "answer"
    ]
   },
   "source": [
    "    underflow"
   ]
  },
  {
   "cell_type": "markdown",
   "id": "d88954fb-0fb5-42ce-92b9-2f9a05c696ad",
   "metadata": {
    "editable": true,
    "slideshow": {
     "slide_type": "skip"
    },
    "tags": [
     "blank"
    ]
   },
   "source": [
    "<p style=\"height:5em;\"></p>"
   ]
  },
  {
   "cell_type": "markdown",
   "id": "7403e290-6ccc-46fc-af42-13fefcb9a3ff",
   "metadata": {
    "editable": true,
    "jp-MarkdownHeadingCollapsed": true,
    "slideshow": {
     "slide_type": ""
    },
    "tags": [
     "question"
    ]
   },
   "source": [
    "Q12: `0b11000000 + 0b11000000`"
   ]
  },
  {
   "cell_type": "markdown",
   "id": "978b0601-7045-415c-8ef8-82a1affa024f",
   "metadata": {
    "editable": true,
    "slideshow": {
     "slide_type": "skip"
    },
    "tags": [
     "answer"
    ]
   },
   "source": [
    "    neither"
   ]
  },
  {
   "cell_type": "markdown",
   "id": "9b2e5038-7569-4d40-b33b-3278a99624cb",
   "metadata": {
    "editable": true,
    "slideshow": {
     "slide_type": "skip"
    },
    "tags": [
     "blank"
    ]
   },
   "source": [
    "<p style=\"height:5em;\"></p>"
   ]
  },
  {
   "cell_type": "markdown",
   "id": "b7174f7d-050c-447c-a16b-e70f1caf6637",
   "metadata": {
    "editable": true,
    "jp-MarkdownHeadingCollapsed": true,
    "slideshow": {
     "slide_type": ""
    },
    "tags": [
     "question"
    ]
   },
   "source": [
    "Q13: `0b01111111 + 0b00000001`"
   ]
  },
  {
   "cell_type": "markdown",
   "id": "ca6ce501-a83b-4f0a-b0e7-005af10489eb",
   "metadata": {
    "editable": true,
    "slideshow": {
     "slide_type": "skip"
    },
    "tags": [
     "answer"
    ]
   },
   "source": [
    "    overflow"
   ]
  },
  {
   "cell_type": "markdown",
   "id": "5ae3ee46-fdd8-4af2-b67b-1db77ed010bd",
   "metadata": {
    "editable": true,
    "slideshow": {
     "slide_type": "skip"
    },
    "tags": [
     "blank"
    ]
   },
   "source": [
    "<p style=\"height:5em;\"></p>"
   ]
  },
  {
   "cell_type": "markdown",
   "id": "df6035c7-d216-4035-aff3-13f46198f169",
   "metadata": {
    "editable": true,
    "slideshow": {
     "slide_type": ""
    },
    "tags": [
     "question"
    ]
   },
   "source": [
    "_Perform the following calculations. Operands are encoded using **two's complement encoding with 6 bits**. For each calculation, express the **result in binary and decimal**, and indicate whether the result **overflows, underflows, or neither**._\n",
    "\n",
    "Q14: `0b110000 + 0b111111`"
   ]
  },
  {
   "cell_type": "markdown",
   "id": "9ec40d6c-2320-497e-bec4-e15f5b3362dd",
   "metadata": {
    "editable": true,
    "slideshow": {
     "slide_type": "skip"
    },
    "tags": [
     "answer"
    ]
   },
   "source": [
    "    0b101111 = -17; neither"
   ]
  },
  {
   "cell_type": "markdown",
   "id": "dc7f1717-b2b7-427c-a064-a0f13fbeec56",
   "metadata": {
    "editable": true,
    "slideshow": {
     "slide_type": "skip"
    },
    "tags": [
     "blank"
    ]
   },
   "source": [
    "<p style=\"height:6em;\"></p>"
   ]
  },
  {
   "cell_type": "markdown",
   "id": "dcf0a21e-04f5-42ac-8e7f-1c4a83302705",
   "metadata": {
    "editable": true,
    "slideshow": {
     "slide_type": ""
    },
    "tags": [
     "question"
    ]
   },
   "source": [
    "Q15: `0b001111 + 0b000001`"
   ]
  },
  {
   "cell_type": "markdown",
   "id": "f7cfde7e-05b4-451c-9814-b41491e27e70",
   "metadata": {
    "editable": true,
    "slideshow": {
     "slide_type": "skip"
    },
    "tags": [
     "answer"
    ]
   },
   "source": [
    "     0b010000 = 16; neither"
   ]
  },
  {
   "cell_type": "markdown",
   "id": "86f4bf87-4d77-4229-9a8a-33723bece221",
   "metadata": {
    "editable": true,
    "slideshow": {
     "slide_type": "skip"
    },
    "tags": [
     "blank"
    ]
   },
   "source": [
    "<p style=\"height:6em;\"></p>"
   ]
  },
  {
   "cell_type": "markdown",
   "id": "2b8b64f0-38fb-4b83-bb40-9b29a9f47117",
   "metadata": {
    "editable": true,
    "slideshow": {
     "slide_type": ""
    },
    "tags": [
     "question"
    ]
   },
   "source": [
    "Q16: `0b101010 + 0b100100`"
   ]
  },
  {
   "cell_type": "markdown",
   "id": "982d34e6-49ff-48cb-bfb4-5f45771ff6b8",
   "metadata": {
    "editable": true,
    "slideshow": {
     "slide_type": "skip"
    },
    "tags": [
     "answer"
    ]
   },
   "source": [
    "    0b001110 = 14; underflow"
   ]
  },
  {
   "cell_type": "markdown",
   "id": "79b57df3-261b-44d9-badb-4c5bd8ecfcac",
   "metadata": {
    "editable": true,
    "slideshow": {
     "slide_type": "skip"
    },
    "tags": [
     "blank"
    ]
   },
   "source": [
    "<p style=\"height:6em;\"></p>"
   ]
  },
  {
   "cell_type": "markdown",
   "id": "5a094386-10d6-477f-98e3-0d756b14fb9f",
   "metadata": {
    "editable": true,
    "slideshow": {
     "slide_type": ""
    },
    "tags": [
     "question"
    ]
   },
   "source": [
    "Q17: `0b001000 + 0b011000`"
   ]
  },
  {
   "cell_type": "markdown",
   "id": "b4b16bc9-659d-4bb5-9dee-285f4ead8457",
   "metadata": {
    "editable": true,
    "slideshow": {
     "slide_type": "skip"
    },
    "tags": [
     "answer"
    ]
   },
   "source": [
    "    0b100000 = -32; overflow"
   ]
  },
  {
   "cell_type": "markdown",
   "id": "0a52d93c-7165-4f7f-ab8d-701371e0e69e",
   "metadata": {
    "editable": true,
    "slideshow": {
     "slide_type": "skip"
    },
    "tags": [
     "blank"
    ]
   },
   "source": [
    "<p style=\"height:6em;\"></p>"
   ]
  },
  {
   "cell_type": "markdown",
   "id": "f38a0b6a-c546-4541-8d5a-7d5431303b2e",
   "metadata": {
    "editable": true,
    "slideshow": {
     "slide_type": ""
    },
    "tags": [
     "question"
    ]
   },
   "source": [
    "Q18: `0b110000 + 0b010000`"
   ]
  },
  {
   "cell_type": "markdown",
   "id": "ad40b467-9016-4328-93c9-dbd7becd8b1d",
   "metadata": {
    "editable": true,
    "slideshow": {
     "slide_type": "skip"
    },
    "tags": [
     "answer"
    ]
   },
   "source": [
    "    0b000000 = 0; neither"
   ]
  },
  {
   "cell_type": "markdown",
   "id": "be67fc20-039f-4743-83f4-fc3b131ca1c9",
   "metadata": {
    "editable": true,
    "slideshow": {
     "slide_type": "skip"
    },
    "tags": [
     "blank"
    ]
   },
   "source": [
    "<p style=\"height:6em;\"></p>"
   ]
  },
  {
   "cell_type": "markdown",
   "id": "23e53a12-adec-4f0f-8456-b3afc5c164ee",
   "metadata": {
    "editable": true,
    "slideshow": {
     "slide_type": "slide"
    },
    "tags": []
   },
   "source": [
    "## Bitwise operators"
   ]
  },
  {
   "cell_type": "markdown",
   "id": "ab8c3729-bf62-430d-96d7-f36af7422eb6",
   "metadata": {
    "editable": true,
    "slideshow": {
     "slide_type": "skip"
    },
    "tags": [
     "notes-only"
    ]
   },
   "source": [
    "* Apply an operation to a single bit (not) or a pair of bits (and, or, xor)\n",
    "* `~` (not)\n",
    "    * Flips bits: if bit is 0, then result is 1; otherwise, result is 0\n",
    "    * Example: `~0b101` = `0b010`\n",
    "* `&` (and)\n",
    "    * If both bits are 1, then result is 1; otherwise, result is 0\n",
    "    * Example: `0b0101 & 0b0011` = `0b0001`\n",
    "    * This is different than logical and (`&&`) which checks whether both operands are non-zero\n",
    "* `|` (or)\n",
    "    * If either or both bits are 1, then result is 1; otherwise, result is 0\n",
    "    * Example: `0b0101 | 0b0011` = `0b0111`\n",
    "    * This is different than logical or (`||`) which checks whether at least one operand is non-zero\n",
    "* `^` (xor)\n",
    "    * If either, but not both, bits are 1, then result is 1; otherwise, result is 0\n",
    "    * Example: `0b0101 ^ 0b0011` = `0b0110`\n",
    "* `<<` (left shift), `>>` (right shift)\n",
    "    * Move bits to the left or the right and append or prepend zeros to keep the same number of bits\n",
    "    * Example: `0b1111 << 0b0010` = `0b1100`\n",
    "    * Example: `0b1111 >> 0b0001` = `0b0111`\n",
    "    * Can use bit shifting to multiply or divide by powers of two"
   ]
  },
  {
   "cell_type": "markdown",
   "id": "ab42f1f3-b15e-4745-a265-67976dbade8c",
   "metadata": {
    "editable": true,
    "jp-MarkdownHeadingCollapsed": true,
    "slideshow": {
     "slide_type": ""
    },
    "tags": [
     "question"
    ]
   },
   "source": [
    "_Determine the resulting binary_\n",
    "\n",
    "Q19: `0b1010 | 0b0101`"
   ]
  },
  {
   "cell_type": "markdown",
   "id": "3fce6009-1804-4559-bd82-8ad3c3ca7472",
   "metadata": {
    "editable": true,
    "slideshow": {
     "slide_type": "skip"
    },
    "tags": [
     "answer"
    ]
   },
   "source": [
    "    0b1111"
   ]
  },
  {
   "cell_type": "markdown",
   "id": "2a4b703c-b020-4781-b662-225c284b78c1",
   "metadata": {
    "editable": true,
    "slideshow": {
     "slide_type": "skip"
    },
    "tags": [
     "blank"
    ]
   },
   "source": [
    "<p style=\"height:4em;\"></p>"
   ]
  },
  {
   "cell_type": "markdown",
   "id": "557d4418-40c3-456c-b532-0078d53e332e",
   "metadata": {
    "editable": true,
    "jp-MarkdownHeadingCollapsed": true,
    "slideshow": {
     "slide_type": ""
    },
    "tags": [
     "question"
    ]
   },
   "source": [
    "Q20: `0b1010 & 0b0101`"
   ]
  },
  {
   "cell_type": "markdown",
   "id": "76262ea8-4b08-4182-9c51-a386d1c9ed92",
   "metadata": {
    "editable": true,
    "slideshow": {
     "slide_type": "skip"
    },
    "tags": [
     "answer"
    ]
   },
   "source": [
    "    0b0000"
   ]
  },
  {
   "cell_type": "markdown",
   "id": "6b20f76b-bec5-48bf-ad4d-07485a4821fe",
   "metadata": {
    "editable": true,
    "slideshow": {
     "slide_type": "skip"
    },
    "tags": [
     "blank"
    ]
   },
   "source": [
    "<p style=\"height:4em;\"></p>"
   ]
  },
  {
   "cell_type": "markdown",
   "id": "1212eb2c-8827-4169-9744-414d5d3709e3",
   "metadata": {
    "editable": true,
    "jp-MarkdownHeadingCollapsed": true,
    "slideshow": {
     "slide_type": ""
    },
    "tags": [
     "question"
    ]
   },
   "source": [
    "Q21: `~(0b1100 & 0b0110)`"
   ]
  },
  {
   "cell_type": "markdown",
   "id": "dee29ca9-8ff3-4d2d-a60c-395a49dc3c3d",
   "metadata": {
    "editable": true,
    "slideshow": {
     "slide_type": "skip"
    },
    "tags": [
     "answer"
    ]
   },
   "source": [
    "    ~0b0100 = 0b1011"
   ]
  },
  {
   "cell_type": "markdown",
   "id": "1e0d9724-60af-4174-8a1e-6cb1fd2b1194",
   "metadata": {
    "editable": true,
    "slideshow": {
     "slide_type": "skip"
    },
    "tags": [
     "blank"
    ]
   },
   "source": [
    "<p style=\"height:4em;\"></p>"
   ]
  },
  {
   "cell_type": "markdown",
   "id": "331f0f4e-ea4a-45e3-8f99-65b1dedfb408",
   "metadata": {
    "editable": true,
    "jp-MarkdownHeadingCollapsed": true,
    "slideshow": {
     "slide_type": ""
    },
    "tags": [
     "question"
    ]
   },
   "source": [
    "Q22: `0b1000 >> 0b011`"
   ]
  },
  {
   "cell_type": "markdown",
   "id": "3b1c7830-3f0b-4f27-9ad8-825aacc03e94",
   "metadata": {
    "editable": true,
    "slideshow": {
     "slide_type": "skip"
    },
    "tags": [
     "answer"
    ]
   },
   "source": [
    "    0b0001 (divide by 2^3)"
   ]
  },
  {
   "cell_type": "markdown",
   "id": "17b7ba45-52fa-4300-83e4-bf7c88a130b0",
   "metadata": {
    "editable": true,
    "slideshow": {
     "slide_type": "skip"
    },
    "tags": [
     "blank"
    ]
   },
   "source": [
    "<p style=\"height:4em;\"></p>"
   ]
  },
  {
   "cell_type": "markdown",
   "id": "5075a76f-8e00-44b9-b595-e236754102dc",
   "metadata": {
    "editable": true,
    "jp-MarkdownHeadingCollapsed": true,
    "slideshow": {
     "slide_type": ""
    },
    "tags": [
     "question"
    ]
   },
   "source": [
    "Q23: `0b0001 << 0b0010`"
   ]
  },
  {
   "cell_type": "markdown",
   "id": "db99539a-34aa-460c-adab-d834e9b704ef",
   "metadata": {
    "editable": true,
    "slideshow": {
     "slide_type": "skip"
    },
    "tags": [
     "answer"
    ]
   },
   "source": [
    "    0b0100 (multiply by 2^2)"
   ]
  },
  {
   "cell_type": "markdown",
   "id": "8d75dc31-3463-4ff0-96e8-e767e0b38b0d",
   "metadata": {
    "editable": true,
    "slideshow": {
     "slide_type": "skip"
    },
    "tags": [
     "blank"
    ]
   },
   "source": [
    "<p style=\"height:4em;\"></p>"
   ]
  },
  {
   "cell_type": "markdown",
   "id": "f4f9c3f3-706c-434f-ab13-b4d053391d0e",
   "metadata": {
    "editable": true,
    "jp-MarkdownHeadingCollapsed": true,
    "slideshow": {
     "slide_type": ""
    },
    "tags": [
     "question"
    ]
   },
   "source": [
    "Q24: `0b1111 & (~0b0010)`"
   ]
  },
  {
   "cell_type": "markdown",
   "id": "00b91544-0afb-4c01-a0f7-34766ace2d5d",
   "metadata": {
    "editable": true,
    "slideshow": {
     "slide_type": "skip"
    },
    "tags": [
     "answer"
    ]
   },
   "source": [
    "    0b1111 & 0b1101 = 0b1101 (clear a bit)"
   ]
  },
  {
   "cell_type": "markdown",
   "id": "e6d877bb-3763-4d6f-8b5f-b237473a6293",
   "metadata": {
    "editable": true,
    "slideshow": {
     "slide_type": "skip"
    },
    "tags": [
     "blank"
    ]
   },
   "source": [
    "<p style=\"height:4em;\"></p>"
   ]
  },
  {
   "cell_type": "markdown",
   "id": "ac1da2db-5f82-4c52-a678-af83b5db2c99",
   "metadata": {
    "editable": true,
    "jp-MarkdownHeadingCollapsed": true,
    "slideshow": {
     "slide_type": ""
    },
    "tags": [
     "question"
    ]
   },
   "source": [
    "Q25: `0b0000 | 0b0010`"
   ]
  },
  {
   "cell_type": "markdown",
   "id": "89207a0e-8df1-4506-b2db-2c92c65d5521",
   "metadata": {
    "editable": true,
    "slideshow": {
     "slide_type": "skip"
    },
    "tags": [
     "answer"
    ]
   },
   "source": [
    "    0b0010 (set a bit)"
   ]
  },
  {
   "cell_type": "markdown",
   "id": "b26e5260-07d1-4054-93c4-c223041fdccd",
   "metadata": {
    "editable": true,
    "slideshow": {
     "slide_type": "skip"
    },
    "tags": [
     "blank"
    ]
   },
   "source": [
    "<p style=\"height:4em;\"></p>"
   ]
  },
  {
   "cell_type": "markdown",
   "id": "ad230c3b-f13a-47e2-8d33-655430378c75",
   "metadata": {
    "editable": true,
    "slideshow": {
     "slide_type": ""
    },
    "tags": [
     "question"
    ]
   },
   "source": [
    "Q26: `0b0011 & 0b0101`"
   ]
  },
  {
   "cell_type": "markdown",
   "id": "947eb317-d5a0-4325-800f-20a8ee25b83c",
   "metadata": {
    "editable": true,
    "slideshow": {
     "slide_type": "skip"
    },
    "tags": [
     "answer"
    ]
   },
   "source": [
    "    0b0001"
   ]
  },
  {
   "cell_type": "markdown",
   "id": "ba351a05-c2a3-41f3-addd-27509861a3cd",
   "metadata": {
    "editable": true,
    "slideshow": {
     "slide_type": "skip"
    },
    "tags": [
     "blank"
    ]
   },
   "source": [
    "<p style=\"height:4em;\"></p>"
   ]
  },
  {
   "cell_type": "markdown",
   "id": "f7853f25-d34b-4be6-ab59-885bf38d4934",
   "metadata": {
    "editable": true,
    "slideshow": {
     "slide_type": ""
    },
    "tags": [
     "question"
    ]
   },
   "source": [
    "Q27: `0b0011 | 0b0101`"
   ]
  },
  {
   "cell_type": "markdown",
   "id": "1b6e7d13-d252-4087-a801-23ab6a960aec",
   "metadata": {
    "editable": true,
    "slideshow": {
     "slide_type": "skip"
    },
    "tags": [
     "answer"
    ]
   },
   "source": [
    "    0b0111"
   ]
  },
  {
   "cell_type": "markdown",
   "id": "fb4d871d-b629-461d-9b0e-1ca5cd282fcc",
   "metadata": {
    "editable": true,
    "slideshow": {
     "slide_type": "skip"
    },
    "tags": [
     "blank"
    ]
   },
   "source": [
    "<p style=\"height:4em;\"></p>"
   ]
  },
  {
   "cell_type": "markdown",
   "id": "17543ecf-eef3-49ea-8720-4dc84e5e51fb",
   "metadata": {
    "editable": true,
    "slideshow": {
     "slide_type": ""
    },
    "tags": [
     "question"
    ]
   },
   "source": [
    "Q28: `0b0011 ^ 0b0101`"
   ]
  },
  {
   "cell_type": "markdown",
   "id": "b0c877da-3047-4b85-b0e3-df6e8c5d1297",
   "metadata": {
    "editable": true,
    "slideshow": {
     "slide_type": "skip"
    },
    "tags": [
     "answer"
    ]
   },
   "source": [
    "    0b0110"
   ]
  },
  {
   "cell_type": "markdown",
   "id": "f9af279b-819a-4e4b-bcff-9af52e0e92b1",
   "metadata": {
    "editable": true,
    "slideshow": {
     "slide_type": "skip"
    },
    "tags": [
     "blank"
    ]
   },
   "source": [
    "<p style=\"height:4em;\"></p>"
   ]
  },
  {
   "cell_type": "markdown",
   "id": "2f8aafe9-795a-42a1-a589-c7138a23c48a",
   "metadata": {
    "editable": true,
    "slideshow": {
     "slide_type": "subslide"
    },
    "tags": [
     "question"
    ]
   },
   "source": [
    "_For each of the following expressions, select all operators that make the expression evaluate to true. Operands are encoded using two's complement._\n",
    "\n",
    "Q29: `0b110000 __ 0b111111`  \n",
    "```\n",
    "&   &&   |   ||   ^   <\n",
    "```"
   ]
  },
  {
   "cell_type": "markdown",
   "id": "2db8cd5a-1c14-4ec3-a748-7b472b288bc9",
   "metadata": {
    "editable": true,
    "slideshow": {
     "slide_type": "skip"
    },
    "tags": [
     "answer"
    ]
   },
   "source": [
    "`&`, `&&`, `|`, `||`, `^`, `<`"
   ]
  },
  {
   "cell_type": "markdown",
   "id": "61f6408d-9198-43cb-9333-8675c6190250",
   "metadata": {
    "editable": true,
    "slideshow": {
     "slide_type": "skip"
    },
    "tags": [
     "blank"
    ]
   },
   "source": [
    "<p style=\"height:4em;\"></p>"
   ]
  },
  {
   "cell_type": "markdown",
   "id": "4101e717-0415-45c7-9b85-279858b1815e",
   "metadata": {
    "editable": true,
    "slideshow": {
     "slide_type": ""
    },
    "tags": [
     "question"
    ]
   },
   "source": [
    "Q30: `0b011110 __ 0b000001`  \n",
    "```\n",
    "&   &&   |   ||   ^   <\n",
    "```"
   ]
  },
  {
   "cell_type": "markdown",
   "id": "ce4dce09-ebce-4de9-b1a1-a29a14475fe0",
   "metadata": {
    "editable": true,
    "slideshow": {
     "slide_type": "skip"
    },
    "tags": [
     "answer"
    ]
   },
   "source": [
    "`&&`, `|`, `||`, `^`"
   ]
  },
  {
   "cell_type": "markdown",
   "id": "85bfc0e6-f39f-4552-99d5-230822670f45",
   "metadata": {
    "editable": true,
    "slideshow": {
     "slide_type": "skip"
    },
    "tags": [
     "blank"
    ]
   },
   "source": [
    "<p style=\"height:4em;\"></p>"
   ]
  },
  {
   "cell_type": "markdown",
   "id": "7ec4fca9-49fa-4268-94b4-b57639893d21",
   "metadata": {
    "editable": true,
    "slideshow": {
     "slide_type": ""
    },
    "tags": [
     "question"
    ]
   },
   "source": [
    "Q31: `0b000000 __ 0b000000`  \n",
    "```\n",
    "&   &&   |   ||   ^   <\n",
    "```"
   ]
  },
  {
   "cell_type": "markdown",
   "id": "ed389b44-3151-4760-a973-c46b9ba84fb4",
   "metadata": {
    "editable": true,
    "slideshow": {
     "slide_type": "skip"
    },
    "tags": [
     "answer"
    ]
   },
   "source": [
    "_none_"
   ]
  },
  {
   "cell_type": "markdown",
   "id": "c85a7ccf-19aa-4889-bd49-0bbeb7e14c7b",
   "metadata": {
    "editable": true,
    "slideshow": {
     "slide_type": "skip"
    },
    "tags": [
     "blank"
    ]
   },
   "source": [
    "<p style=\"height:4em;\"></p>"
   ]
  },
  {
   "cell_type": "markdown",
   "id": "74c36cad-85b5-4377-a289-6d02619b18b0",
   "metadata": {
    "editable": true,
    "slideshow": {
     "slide_type": ""
    },
    "tags": [
     "question"
    ]
   },
   "source": [
    "Q32: `0b000111 __ 0b000111`  \n",
    "```\n",
    "&   &&   |   ||   ^   <\n",
    "```"
   ]
  },
  {
   "cell_type": "markdown",
   "id": "a3b73216-c7c1-4e93-b318-eef41c3e6ee3",
   "metadata": {
    "editable": true,
    "slideshow": {
     "slide_type": "skip"
    },
    "tags": [
     "answer"
    ]
   },
   "source": [
    "`&`, `&&`, `|`, `||`"
   ]
  },
  {
   "cell_type": "markdown",
   "id": "079f72ba-771c-4752-8af7-3fb7436589b2",
   "metadata": {
    "editable": true,
    "slideshow": {
     "slide_type": "skip"
    },
    "tags": [
     "blank"
    ]
   },
   "source": [
    "<p style=\"height:4em;\"></p>"
   ]
  },
  {
   "cell_type": "markdown",
   "id": "dec847ab-5024-4756-a382-5525280b44c8",
   "metadata": {
    "editable": true,
    "slideshow": {
     "slide_type": "skip"
    },
    "tags": [
     "notes-only"
    ]
   },
   "source": [
    "## Real numbers"
   ]
  },
  {
   "cell_type": "markdown",
   "id": "b293f20e-f6e9-40fd-9a16-8fd3334d30b4",
   "metadata": {
    "editable": true,
    "slideshow": {
     "slide_type": "skip"
    },
    "tags": [
     "notes-only"
    ]
   },
   "source": [
    "* Real numbers may have fractional parts -- e.g., `3.14`\n",
    "* _How can we encode real numbers?_\n",
    "* Fixed-point representation\n",
    "    * Location of decimal point is fixed — some bits encode whole numbers, and some bits encode fractional numbers\n",
    "    * Example: 8-bit fixed point with 3 bits for the fractional part: `0b01011010` = 0 * 2^4 + 1 * 2^3 + 0 * 2^2 + 1 * 2^1 + 1 * 2^0 + 0 * 2^-1 + 1 * 2^-2 + 0 * 2^-3 = 8 + 2 + 1 + 0.25 = 11.25\n",
    "    * _What is an advantage of fixed-point representation?_\n",
    "        * Easy to compute\n",
    "    * _What is a disadvantage of fixed-point representation?_ \n",
    "        * Range of real numbers is fixed — cannot represent large whole numbers or small fractional numbers\n",
    "* Float-point representation\n",
    "    * Uses a \"scaling factor\" to multiply (or divide) fractional part\n",
    "    * Bits in the significand represent (from left to right) 2^-1, 2^-2, ... 2^-23\n",
    "    * Bits in the exponent represent an unsigned integer 0 - 255\n",
    "    * Multiply significand by 2^(exponent - 127) to get final result\n",
    "    * Can represent large whole numbers **or** small fractional numbers, but not a large whole number with a small fractional part"
   ]
  },
  {
   "cell_type": "markdown",
   "id": "f422f904-846f-4d7d-b13c-7d5c8efd9d0a",
   "metadata": {
    "editable": true,
    "slideshow": {
     "slide_type": ""
    },
    "tags": [
     "question"
    ]
   },
   "source": [
    "_Express the following real numbers using 8-bit fixed point representation with 4 bits for the fractional part. If the number cannot be expressed exactly, express it as closely as you can and indicate which number is actually represented by the bits._\n",
    "\n",
    "Q33: `5.75`"
   ]
  },
  {
   "cell_type": "markdown",
   "id": "93125c1a-b9f2-4a21-93dc-123fe3e51daf",
   "metadata": {
    "editable": true,
    "slideshow": {
     "slide_type": "skip"
    },
    "tags": [
     "answer"
    ]
   },
   "source": [
    "    0b01011100 = 2^2 + 2^0 + 2^-1 + 2^-2"
   ]
  },
  {
   "cell_type": "markdown",
   "id": "af013c2b-48e2-4f8f-b159-2d14cba563a7",
   "metadata": {
    "editable": true,
    "slideshow": {
     "slide_type": "skip"
    },
    "tags": [
     "blank"
    ]
   },
   "source": [
    "<p style=\"height:6em;\"></p>"
   ]
  },
  {
   "cell_type": "markdown",
   "id": "7ce21d1b-b80e-46c0-8c1c-8f685026a665",
   "metadata": {
    "editable": true,
    "slideshow": {
     "slide_type": ""
    },
    "tags": [
     "question"
    ]
   },
   "source": [
    "Q34: `16.125`"
   ]
  },
  {
   "cell_type": "markdown",
   "id": "40f53bc2-6f67-493b-ad26-e7fca9f43963",
   "metadata": {
    "editable": true,
    "slideshow": {
     "slide_type": "skip"
    },
    "tags": [
     "answer"
    ]
   },
   "source": [
    "    0b11110010 = 2^3 + 2^2 + 2^1 + 2^0 + 2^-3 = 15.125"
   ]
  },
  {
   "cell_type": "markdown",
   "id": "108d87e4-9bed-4616-9c5a-87d727a85be3",
   "metadata": {
    "editable": true,
    "slideshow": {
     "slide_type": "skip"
    },
    "tags": [
     "blank"
    ]
   },
   "source": [
    "<p style=\"height:6em;\"></p>"
   ]
  },
  {
   "cell_type": "markdown",
   "id": "3a2de75a-0105-4e2a-aeda-b7be6a7343ce",
   "metadata": {
    "editable": true,
    "slideshow": {
     "slide_type": ""
    },
    "tags": [
     "question"
    ]
   },
   "source": [
    "Q35: `4.1875`"
   ]
  },
  {
   "cell_type": "markdown",
   "id": "3a8e76db-9bcf-47a7-80d4-3ddf66d844ee",
   "metadata": {
    "editable": true,
    "slideshow": {
     "slide_type": "skip"
    },
    "tags": [
     "answer"
    ]
   },
   "source": [
    "    0b01000011 = 2^2 + 2^0 + 2^-3 + 2^-4 = 4.1875"
   ]
  },
  {
   "cell_type": "markdown",
   "id": "3c4f784d-1d5e-49b7-9eb9-51950982230c",
   "metadata": {
    "editable": true,
    "slideshow": {
     "slide_type": "skip"
    },
    "tags": [
     "blank"
    ]
   },
   "source": [
    "<p style=\"height:6em;\"></p>"
   ]
  }
 ],
 "metadata": {
  "kernelspec": {
   "display_name": "C",
   "language": "c",
   "name": "c"
  },
  "language_info": {
   "file_extension": ".c",
   "mimetype": "text/plain",
   "name": "c"
  }
 },
 "nbformat": 4,
 "nbformat_minor": 5
}
