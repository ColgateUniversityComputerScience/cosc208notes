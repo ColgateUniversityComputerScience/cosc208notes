{
 "cells": [
  {
   "cell_type": "markdown",
   "id": "ffc437ac-d10b-4d12-895d-712e9c2057b5",
   "metadata": {
    "slideshow": {
     "slide_type": "skip"
    },
    "tags": []
   },
   "source": [
    "# Multiprocessing: scheduling (continued); threads\n",
    "_COSC 208, Introduction to Computer Systems, 2023-04-24_"
   ]
  },
  {
   "cell_type": "markdown",
   "id": "c377c966-ee4b-4990-a6e6-a2d8f327a112",
   "metadata": {
    "slideshow": {
     "slide_type": "skip"
    },
    "tags": []
   },
   "source": [
    "## Announcements\n",
    "* Attend faculty candidate research talk and teaching demo – tomorrow 11:30am-noon and 12:30pm-1pm in the student lounge (McGregory 319)\n",
    "* Project 5 due Thursday, May 4"
   ]
  },
  {
   "cell_type": "markdown",
   "id": "377e6d68-2202-4782-afc7-a43582630f55",
   "metadata": {
    "slideshow": {
     "slide_type": "skip"
    },
    "tags": []
   },
   "source": [
    "## Outline\n",
    "* Warm-up\n",
    "* Shortest Time to Completion First (STCF) (continued)\n",
    "* Round robin scheduling\n",
    "* Processes and memory\n",
    "* Threads"
   ]
  },
  {
   "cell_type": "markdown",
   "id": "12012bfd-a4f4-4e7f-9d4b-3275ef92160b",
   "metadata": {},
   "source": [
    "## Warm-up"
   ]
  },
  {
   "cell_type": "markdown",
   "id": "78069061-c3e9-4c2b-8181-04f4eba9858e",
   "metadata": {},
   "source": [
    "_Consider the following set of processes:_"
   ]
  },
  {
   "cell_type": "markdown",
   "id": "5a4cb931-0c3f-48f8-9c4c-182b59af08e1",
   "metadata": {
    "tags": []
   },
   "source": [
    "| Process | Arrival Time | Duration |\n",
    "|---------|--------------|----------|\n",
    "| A       | 0            | 30       |\n",
    "| B       | 0            | 25       |\n",
    "| C       | 5            | 15       |\n",
    "| D       | 10           | 5        |"
   ]
  },
  {
   "cell_type": "markdown",
   "id": "090cf016-253a-46bb-bb1e-3598b8461a3d",
   "metadata": {},
   "source": [
    "* Q1: _Draw the schedule when a Shortest Job First (SJF) scheduling algorithm is used._"
   ]
  },
  {
   "cell_type": "markdown",
   "id": "457f7b23-60e5-4e51-ba95-edba39d4b4f1",
   "metadata": {
    "slideshow": {
     "slide_type": "skip"
    },
    "tags": [
     "notes-only"
    ]
   },
   "source": [
    "```\n",
    "  B                       D    C               A\n",
    "|------------------------|----|--------------|-----------------------------|\n",
    "0                        25   30             45                            75\n",
    "\n",
    "```"
   ]
  },
  {
   "cell_type": "markdown",
   "id": "cce54cfd-0412-4be9-b3b1-39744f96aa06",
   "metadata": {
    "slideshow": {
     "slide_type": "skip"
    },
    "tags": [
     "worksheet-only"
    ]
   },
   "source": [
    "<p style=\"height:6em;\"></p>"
   ]
  },
  {
   "cell_type": "markdown",
   "id": "cd3ab43d-4d58-4c55-a826-a74abfa81f9a",
   "metadata": {},
   "source": [
    "* Q2: _Compute the turnaround and wait time for each process based on the above schedule._"
   ]
  },
  {
   "cell_type": "markdown",
   "id": "343f3c50-d446-4eaa-be8f-87505864b5fd",
   "metadata": {
    "slideshow": {
     "slide_type": "skip"
    },
    "tags": [
     "notes-only"
    ]
   },
   "source": [
    "| Process | Turnaround | Wait |\n",
    "|---------|------------|------|\n",
    "| A       | 75         | 45   |\n",
    "| B       | 25         | 0    |\n",
    "| C       | 40         | 25   |\n",
    "| D       | 20         | 15   |"
   ]
  },
  {
   "cell_type": "markdown",
   "id": "9f1edf1a-2ea3-4dbe-8ac1-ad1dc5296f41",
   "metadata": {
    "slideshow": {
     "slide_type": "skip"
    },
    "tags": [
     "worksheet-only"
    ]
   },
   "source": [
    "<p style=\"height:10em;\"></p>"
   ]
  },
  {
   "cell_type": "markdown",
   "id": "d55b33da-9c27-4ce1-b4cb-235a253d38f3",
   "metadata": {},
   "source": [
    "* Q3: _Draw the schedule when a Shortest Time to Completion First (STCF) scheduling algorithm is used._"
   ]
  },
  {
   "cell_type": "markdown",
   "id": "3e2a6eef-44d8-4db6-8f16-b0d970324f6a",
   "metadata": {
    "slideshow": {
     "slide_type": "skip"
    },
    "tags": [
     "notes-only"
    ]
   },
   "source": [
    "```\n",
    "  B    C    D    C         B                   A\n",
    "|----|----|----|---------|-------------------|-----------------------------|\n",
    "0    5    10   15        25                  45                            75\n",
    "```"
   ]
  },
  {
   "cell_type": "markdown",
   "id": "43621074-1c29-417c-8748-a71c11a87f2d",
   "metadata": {
    "slideshow": {
     "slide_type": "skip"
    },
    "tags": [
     "worksheet-only"
    ]
   },
   "source": [
    "<p style=\"height:6em;\"></p>"
   ]
  },
  {
   "cell_type": "markdown",
   "id": "dd414541-7b22-41d5-b265-e8ad3923d9b8",
   "metadata": {},
   "source": [
    "* Q4: _Compute the turnaround and wait time for each process based on the above schedule._"
   ]
  },
  {
   "cell_type": "markdown",
   "id": "0b359294-8f15-4b5f-ae2b-aa82ea1ac504",
   "metadata": {
    "slideshow": {
     "slide_type": "skip"
    },
    "tags": [
     "notes-only"
    ]
   },
   "source": [
    "| Process | Turnaround | Wait |\n",
    "|---------|------------|------|\n",
    "| A       | 75         | 45   |\n",
    "| B       | 45         | 20   |\n",
    "| C       | 20         | 5    |\n",
    "| D       | 5          | 0    |\n"
   ]
  },
  {
   "cell_type": "markdown",
   "id": "f1695430-8e94-42c6-99c1-1c1bab12a412",
   "metadata": {
    "slideshow": {
     "slide_type": "skip"
    },
    "tags": [
     "worksheet-only"
    ]
   },
   "source": [
    "<p style=\"height:10em;\"></p>\n",
    "\n",
    "🛑 **STOP here** after completing the above question; if you have extra time please **skip ahead** to the extra practice."
   ]
  },
  {
   "cell_type": "markdown",
   "id": "da108ffb-0598-44c1-af77-d4873dbd853c",
   "metadata": {
    "slideshow": {
     "slide_type": "skip"
    },
    "tags": [
     "notes-only"
    ]
   },
   "source": [
    "## Shortest Time-to-Completion First (STCF) scheduling"
   ]
  },
  {
   "cell_type": "markdown",
   "id": "d7cd12a6-4862-46ce-94bc-1b7262245bec",
   "metadata": {
    "slideshow": {
     "slide_type": "skip"
    },
    "tags": [
     "notes-only"
    ]
   },
   "source": [
    "| Process | Arrival time | Duration | Turnaround | Response | Wait |\n",
    "|---------|--------------|----------|------------|----------|------|\n",
    "| A       | 0            | 60       | 90         | 0        | 30   |\n",
    "| B       | 5            | 15       | 15         | 0        | 0    |\n",
    "| C       | 10           | 15       | 25         | 10       | 10   |\n",
    "|         |              | **Average**  | 43.3       | 3.3      | 13.3 |"
   ]
  },
  {
   "cell_type": "markdown",
   "id": "8042c7de-3b55-4fb0-80b7-1b7dcb79fc92",
   "metadata": {
    "slideshow": {
     "slide_type": "skip"
    },
    "tags": [
     "notes-only"
    ]
   },
   "source": [
    "* STCF schedule:\n",
    "    ```\n",
    "    ┌────┬──────────────┬──────────────┬───────────────────────────────────────────────────┐\n",
    "    │ A  │ B            │ C            │ A                                                 │\n",
    "    └────┴──────────────┴──────────────┴───────────────────────────────────────────────────┘\n",
    "    0    5              20             35                                                   90\n",
    "    ```\n",
    "    * Average Turnaround = (90 + 15 + 25) / 3 = 43.3\n",
    "* Now consider time between runs: T<sub>time_between_runs</sub> = T<sub>wait</sub> / Number_of_times_process_ran\n",
    "    * A has wait time 30 and runs twice, so T<sub>time_between_runs</sub> = 15\n",
    "    * B has no wait time and runs once, so T<sub>time_between_runs</sub> = 0\n",
    "    * C has wait time 10 and runs once, so T<sub>time_between_runs</sub> = 10\n",
    "    * Average Time-between-runs = (15 + 0 + 10) / 3 = 8.3\n",
    "* _What major assumption have we made thus far that is impractical in a real system?_ — we know a process’s duration (i.e., how much work it has to do)"
   ]
  },
  {
   "cell_type": "markdown",
   "id": "a204a674-4040-49ae-94e6-b9085f4efb2b",
   "metadata": {
    "slideshow": {
     "slide_type": "skip"
    },
    "tags": [
     "notes-only"
    ]
   },
   "source": [
    "## Round Robin (RR)"
   ]
  },
  {
   "cell_type": "markdown",
   "id": "afe0ef69-bebf-4382-b813-3d8a99af3216",
   "metadata": {
    "slideshow": {
     "slide_type": "skip"
    },
    "tags": [
     "notes-only"
    ]
   },
   "source": [
    "* Let each process run for a small amount of time, then switch to the next process; when you get to the last process, then start again with the first process and repeat"
   ]
  },
  {
   "cell_type": "markdown",
   "id": "5cde59ae-a7fa-4509-91eb-d9a2669c7e5e",
   "metadata": {
    "slideshow": {
     "slide_type": "skip"
    },
    "tags": [
     "notes-only"
    ]
   },
   "source": [
    "| Process | Arrival time   | Duration | \n",
    "|---------|----------------|----------|\n",
    "| A       | Just before 0  | 60       |\n",
    "| B       | Just before 5  | 15       |\n",
    "| C       | Just before 10 | 15       |"
   ]
  },
  {
   "cell_type": "markdown",
   "id": "350ba8c5-096a-4c7d-90e6-6236cbca2dc5",
   "metadata": {
    "slideshow": {
     "slide_type": "skip"
    },
    "tags": [
     "notes-only"
    ]
   },
   "source": [
    "* _What is the average turnaround time and response time for the above processes assuming we let a process run for 5 seconds before switching processes?_\n",
    "    ```\n",
    "    ┌────┬────┬────┬────┬────┬────┬────┬────┬────┬─────────────────────────────────────────┐\n",
    "    │ A  │ B  │ C  │ A  │ B  │ C  │ A  │ B  │ C  │ A                                       │\n",
    "    └────┴────┴────┴────┴────┴────┴────┴────┴────┴─────────────────────────────────────────┘\n",
    "    0    5    10   15   20   25   30   35   40   45                                        90 \n",
    "    ```\n",
    "    * Average Turnaround = (90 + 35 + 35) / 3 = 53.3\n",
    "    * Average Wait = (30 + 20 + 20) / 3 = 23.3\n",
    "    * Average Time-between-runs = (7.5 + 6.66 + 6.66) / 3 = 6.94\n",
    "* In practice, there is a queue of processes that are in the ready state, resulting in the following schedule:\n",
    "    ```\n",
    "    ┌────┬────┬────┬────┬────┬────┬────┬────┬────┬────┬────────────────────────────────────┐\n",
    "    │ A  │ B  │ A  │ C  │ B  │ A  │ C  │ B  │ A  │ C  │                                    │\n",
    "    └────┴────┴────┴────┴────┴────┴────┴────┴────┴────┴────────────────────────────────────┘\n",
    "    0    5    10   15   20   25   30   35   40   45   50                                   90 \n",
    "    ```\n",
    "* _Determine the schedule for the above process with a time quantum of 10._\n",
    "    ```\n",
    "    ┌─────────┬─────────┬─────────┬─────────┬────┬────┬────────────────────────────────────┐\n",
    "    │ A       │ B       │ C       │ A       │ B  │ C  │ A                                  │\n",
    "    └─────────┴─────────┴─────────┴─────────┴────┴────┴────────────────────────────────────┘\n",
    "    0         10        20        30        40   45   50                                   90 \n",
    "    ```\n",
    "    * Average Turnaround = (90 + 40 + 40) / 3 = 56.6\n",
    "    * Average Wait = (30 + 25 + 25) / 3 = 26.6\n",
    "    * Average Time-between-runs = (10 + 12.5 + 12.5) / 3 = 11.66\n",
    "* _What happens to average Time-between-runs as we increase the time quantum?_ — increases\n",
    "* _What happens if we make the time quantum infinity?_ — we have a non-preemptive scheduler; RR becomes FIFO"
   ]
  },
  {
   "cell_type": "markdown",
   "id": "a0dae1cd-e8d5-4d80-bfc3-5cf1acc02566",
   "metadata": {
    "slideshow": {
     "slide_type": "slide"
    },
    "tags": []
   },
   "source": [
    "## Processes and memory"
   ]
  },
  {
   "cell_type": "markdown",
   "id": "2c12d0f8-74ec-4f6d-873e-04be13cf6f17",
   "metadata": {
    "slideshow": {
     "slide_type": "skip"
    },
    "tags": []
   },
   "source": [
    "* Q5: _What are all possible outputs produced by this program?_"
   ]
  },
  {
   "cell_type": "code",
   "execution_count": 4,
   "id": "c856b340-ce21-4fca-a62e-0c41f4fd3297",
   "metadata": {
    "tags": [
     "worksheet-code-only"
    ]
   },
   "outputs": [
    {
     "name": "stdout",
     "output_type": "stream",
     "text": [
      "z is 1\n",
      "z is 2\n"
     ]
    }
   ],
   "source": [
    "#include <stdio.h>\n",
    "#include <stdlib.h>\n",
    "#include <unistd.h>\n",
    "void *proc1_main(void *arg) {\n",
    "    int *x = (int *)arg;\n",
    "    *x += 1;\n",
    "    return NULL;\n",
    "}\n",
    "void *proc2_main(void *arg) {\n",
    "    int *y = (int *)arg;\n",
    "    *y += 2;\n",
    "    return NULL;\n",
    "}\n",
    "int main() {\n",
    "    int *z = malloc(sizeof(int));\n",
    "    *z = 0;\n",
    "    int pid = fork();\n",
    "    if (pid == 0) {\n",
    "        proc1_main(z);\n",
    "    } else {\n",
    "        wait(NULL);\n",
    "        proc2_main(z);\n",
    "    }\n",
    "    printf(\"z is %d\\n\", *z);\n",
    "}"
   ]
  },
  {
   "cell_type": "markdown",
   "id": "e211f25f-fff7-4d4c-ae92-dd732f481d01",
   "metadata": {
    "slideshow": {
     "slide_type": "skip"
    },
    "tags": [
     "worksheet-only"
    ]
   },
   "source": [
    "<p style=\"height:5em;\"></p>\n",
    "\n",
    "🛑 **STOP here** after completing the above question; if you have extra time please **skip ahead** to the extra practice."
   ]
  },
  {
   "cell_type": "markdown",
   "id": "afa5ff7b-2b13-46e9-ae63-377944806945",
   "metadata": {
    "slideshow": {
     "slide_type": "slide"
    },
    "tags": []
   },
   "source": [
    "## Threads"
   ]
  },
  {
   "cell_type": "markdown",
   "id": "f4917f69-f8d4-4254-bba6-81e17462c42e",
   "metadata": {
    "slideshow": {
     "slide_type": "skip"
    },
    "tags": [
     "notes-only"
    ]
   },
   "source": [
    "* Threads are multiple execution contexts within the **same process**\n",
    "    * Processes are multiple execution contexts within the **same machine**\n",
    "* Because threads are within the same process, they share all of the process’s resources — memory, CPU time, file descriptors (i.e., open files), etc.\n",
    "* Consequently, two threads can update the same variable"
   ]
  },
  {
   "cell_type": "code",
   "execution_count": null,
   "id": "ba727028-3e07-471a-a024-62b5c5061624",
   "metadata": {},
   "outputs": [],
   "source": [
    "#include <stdio.h>\n",
    "#include <stdlib.h>\n",
    "void *thread1_main(void *arg) {\n",
    "    int *x = (int *)arg;\n",
    "    *x += 1;\n",
    "    return NULL;\n",
    "}\n",
    "void *thread2_main(void *arg) {\n",
    "    int *y = (int *)arg;\n",
    "    *y += 2;\n",
    "    return NULL;\n",
    "}\n",
    "int main() {\n",
    "    int *z = malloc(sizeof(int));\n",
    "    *z = 0;\n",
    "    // Create thread running thread1_main(z)\n",
    "    // Create thread running thread2_main(z)\n",
    "    // Wait for threads to finish\n",
    "    printf(\"z is %d\\n\", *z);\n",
    "}"
   ]
  },
  {
   "cell_type": "markdown",
   "id": "b0076aa3-e731-44b0-ae57-40f3e6fce2df",
   "metadata": {
    "slideshow": {
     "slide_type": "skip"
    },
    "tags": [
     "notes-only"
    ]
   },
   "source": [
    "```\n",
    "z is 3\n",
    "```"
   ]
  },
  {
   "cell_type": "markdown",
   "id": "1df5a6a9-ba96-430a-8a45-98bfe7220088",
   "metadata": {
    "slideshow": {
     "slide_type": "skip"
    },
    "tags": [
     "notes-only"
    ]
   },
   "source": [
    "* Two processes cannot update the same variable — memory is not shared; must use inter-process communication mechanism to share information"
   ]
  },
  {
   "cell_type": "markdown",
   "id": "09a6e35b-7a5e-4837-9de6-2038adcb9fb4",
   "metadata": {
    "slideshow": {
     "slide_type": "subslide"
    },
    "tags": []
   },
   "source": [
    "* Q6: _What are all possible outputs produced by this program?_"
   ]
  },
  {
   "cell_type": "code",
   "execution_count": null,
   "id": "9f47a05f-9ace-4811-a53a-c949691eb406",
   "metadata": {},
   "outputs": [],
   "source": [
    "#include <stdio.h>\n",
    "#include <stdlib.h>\n",
    "void *thread_main(void *arg) {\n",
    "    char *id = (char *)arg;\n",
    "    printf(\"I am thread %c\\n\", *id);\n",
    "    return NULL;\n",
    "}\n",
    "int main() {\n",
    "    char *a = malloc(sizeof(char));\n",
    "    *a = 'A';\n",
    "    char *b = malloc(sizeof(char));\n",
    "    *b = 'B';\n",
    "    // Create thread running thread_main(a)\n",
    "    // Create thread running thread_main(b)\n",
    "    // Wait for threads to finish\n",
    "}"
   ]
  },
  {
   "cell_type": "markdown",
   "id": "2eb07ea8-c24f-4fc7-87c4-3021cdc00eba",
   "metadata": {
    "slideshow": {
     "slide_type": "skip"
    },
    "tags": [
     "notes-only"
    ]
   },
   "source": [
    "```\n",
    "I am thread A\n",
    "I am thread B\n",
    "```\n",
    "OR\n",
    "```\n",
    "I am thread B\n",
    "I am thread A\n",
    "```"
   ]
  },
  {
   "cell_type": "markdown",
   "id": "ad49adc1-35b8-4fe1-a323-63f19bd8fa65",
   "metadata": {
    "slideshow": {
     "slide_type": "skip"
    },
    "tags": [
     "worksheet-only"
    ]
   },
   "source": [
    "<p style=\"height:5em;\"></p>"
   ]
  },
  {
   "cell_type": "markdown",
   "id": "b37ca661-12e2-4cd8-b765-8f23c6925f1d",
   "metadata": {
    "slideshow": {
     "slide_type": "slide"
    },
    "tags": []
   },
   "source": [
    "## Extra practice"
   ]
  },
  {
   "cell_type": "markdown",
   "id": "d3a00865-2936-4b1f-a08f-5992a873b039",
   "metadata": {
    "slideshow": {
     "slide_type": "skip"
    },
    "tags": []
   },
   "source": [
    "* Q7: _What output is produced by the following program? (Note: there is only one possible ordering.)_"
   ]
  },
  {
   "cell_type": "code",
   "execution_count": 2,
   "id": "be1d4206-aa53-4221-a12f-b134879a77b6",
   "metadata": {
    "tags": [
     "worksheet-code-only"
    ]
   },
   "outputs": [
    {
     "name": "stdout",
     "output_type": "stream",
     "text": [
      "A\n",
      "B\n",
      "E\n",
      "C\n",
      "E\n",
      "D\n",
      "E\n"
     ]
    }
   ],
   "source": [
    "/*1*/   #include <stdio.h>\n",
    "/*2*/   #include <stdlib.h>\n",
    "/*3*/   #include <sys/wait.h>\n",
    "/*4*/   #include <unistd.h>\n",
    "/*5*/   int main() {\n",
    "/*6*/       printf(\"A\\n\");\n",
    "/*7*/       int x = fork();\n",
    "/*8*/       if (x == 0) {\n",
    "/*9*/           int y = fork();\n",
    "/*10*/          if (y == 0) {\n",
    "/*11*/              printf(\"B\\n\");\n",
    "/*12*/          }\n",
    "/*13*/          else {\n",
    "/*14*/              wait(NULL);\n",
    "/*15*/              printf(\"C\\n\");\n",
    "/*16*/          }\n",
    "/*17*/      }\n",
    "/*18*/      else {\n",
    "/*19*/          wait(NULL);\n",
    "/*20*/          printf(\"D\\n\");\n",
    "/*21*/      }\n",
    "/*22*/      printf(\"E\\n\");\n",
    "/*23*/  }"
   ]
  },
  {
   "cell_type": "markdown",
   "id": "6fc02323-cec3-47f0-bc8f-4ce56d78df91",
   "metadata": {
    "slideshow": {
     "slide_type": "skip"
    },
    "tags": [
     "worksheet-only"
    ]
   },
   "source": [
    "<p style=\"height:8em;\"></p>"
   ]
  },
  {
   "cell_type": "markdown",
   "id": "280da21e-d6df-40aa-aa34-edb13633d084",
   "metadata": {
    "slideshow": {
     "slide_type": "subslide"
    },
    "tags": []
   },
   "source": [
    "_Consider the following set of processes:_"
   ]
  },
  {
   "cell_type": "markdown",
   "id": "f313620a-8916-4bb7-9797-04fe40b3bd56",
   "metadata": {
    "tags": []
   },
   "source": [
    "| Process | Arrival Time | Duration |\n",
    "|---------|--------------|----------|\n",
    "| A       | 0            | 30       |\n",
    "| B       | 0            | 25       |\n",
    "| C       | 5            | 15       |\n",
    "| D       | 10           | 5        |"
   ]
  },
  {
   "cell_type": "markdown",
   "id": "d585d058-c228-40df-a1a9-3d69a2d9a0e5",
   "metadata": {},
   "source": [
    "* Q8: _Draw the schedule when a First In First Out(FIFO) scheduling algorithm is used._"
   ]
  },
  {
   "cell_type": "markdown",
   "id": "90f4e4a6-a421-4fb6-a656-e6fca7ffab9d",
   "metadata": {
    "slideshow": {
     "slide_type": "skip"
    },
    "tags": [
     "notes-only"
    ]
   },
   "source": [
    "```\n",
    "  A                             B                        C              D\n",
    "|-----------------------------|------------------------|--------------|----|\n",
    "0                             30                       55             70   75\n",
    "\n",
    "```"
   ]
  },
  {
   "cell_type": "markdown",
   "id": "06c8b4ad-428e-4a29-980f-2623abafbdb1",
   "metadata": {
    "slideshow": {
     "slide_type": "skip"
    },
    "tags": [
     "worksheet-only"
    ]
   },
   "source": [
    "<p style=\"height:6em;\"></p>"
   ]
  },
  {
   "cell_type": "markdown",
   "id": "74b27e7f-1d79-4204-bf84-2fe8e62b8b64",
   "metadata": {},
   "source": [
    "* Q9: _Compute the turnaround and wait time for each process based on the above schedule._"
   ]
  },
  {
   "cell_type": "markdown",
   "id": "bd007cc2-8487-4c8c-b2f8-89c88d2411d8",
   "metadata": {
    "slideshow": {
     "slide_type": "skip"
    },
    "tags": [
     "notes-only"
    ]
   },
   "source": [
    "| Process | Turnaround | Wait |\n",
    "|---------|------------|------|\n",
    "| A       | 30         | 0    |\n",
    "| B       | 55         | 30   |\n",
    "| C       | 65         | 50   |\n",
    "| D       | 65         | 60   |"
   ]
  },
  {
   "cell_type": "markdown",
   "id": "09ddf329-d5a2-4932-8146-9c8b05423dd3",
   "metadata": {
    "slideshow": {
     "slide_type": "skip"
    },
    "tags": [
     "worksheet-only"
    ]
   },
   "source": [
    "<p style=\"height:10em;\"></p>"
   ]
  },
  {
   "cell_type": "markdown",
   "id": "4f4c4dae-bb11-407e-992c-600dc90be871",
   "metadata": {},
   "source": [
    "* Q10: _Draw the schedule when a Round Robin (RR) scheduling algorithm is used with a time quantum of 10._"
   ]
  },
  {
   "cell_type": "markdown",
   "id": "30c0ad10-85e6-4b89-93a2-eafc9eaff296",
   "metadata": {
    "slideshow": {
     "slide_type": "skip"
    },
    "tags": [
     "notes-only"
    ]
   },
   "source": [
    "```\n",
    "  A         B         C         D    A         B         C    A         B\n",
    "|---------|---------|---------|----|---------|---------|----|---------|----|\n",
    "0         10        20        30   35        45        55   60        70   75\n",
    "\n",
    "```"
   ]
  },
  {
   "cell_type": "markdown",
   "id": "64f76338-ab43-4b5e-bea9-7de5fd700955",
   "metadata": {
    "slideshow": {
     "slide_type": "skip"
    },
    "tags": [
     "worksheet-only"
    ]
   },
   "source": [
    "<p style=\"height:6em;\"></p>"
   ]
  },
  {
   "cell_type": "markdown",
   "id": "44115cad-224a-42da-8115-6f6a6a34d4ec",
   "metadata": {},
   "source": [
    "* Q11: _Compute the turnaround and wait time for each process based on the above schedule._"
   ]
  },
  {
   "cell_type": "markdown",
   "id": "6cb83c33-f469-4e21-9fd8-3e3d753a4c17",
   "metadata": {
    "slideshow": {
     "slide_type": "skip"
    },
    "tags": [
     "notes-only"
    ]
   },
   "source": [
    "| Process | Turnaround | Wait |\n",
    "|---------|------------|------|\n",
    "| A       | 70         | 40   |\n",
    "| B       | 75         | 50   |\n",
    "| C       | 55         | 40   |\n",
    "| D       | 25         | 20   |"
   ]
  }
 ],
 "metadata": {
  "kernelspec": {
   "display_name": "C",
   "language": "c",
   "name": "c"
  },
  "language_info": {
   "file_extension": ".c",
   "mimetype": "c",
   "name": "c"
  }
 },
 "nbformat": 4,
 "nbformat_minor": 5
}
