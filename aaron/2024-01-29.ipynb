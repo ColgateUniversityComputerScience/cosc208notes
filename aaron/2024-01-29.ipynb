{
 "cells": [
  {
   "cell_type": "markdown",
   "id": "766c3265-87a5-4a23-b560-83e011c2ed6b",
   "metadata": {
    "slideshow": {
     "slide_type": "skip"
    },
    "tags": []
   },
   "source": [
    "# Data representation: arrays; strings; input\n",
    "_COSC 208, Introduction to Computer Systems, 2024-01-29_"
   ]
  },
  {
   "cell_type": "markdown",
   "id": "191c15e7-124f-4158-8ce9-41b74735bea2",
   "metadata": {
    "slideshow": {
     "slide_type": "skip"
    },
    "tags": []
   },
   "source": [
    "## Announcements\n",
    "<img src=\"images/data_buddies_qr.png\" style=\"float:right; width:80px;\" />\n",
    "\n",
    "* First lab today\n",
    "* Before each class: read _Dive Into Systems_ and answer pre-class questions\n",
    "* Complete Computing Research Association (CRA) Data Buddies Survey by **tomorrow** to earn one free “upgrade” on your level of achievement for one of the 18 standards assessed on quizzes \n",
    "    https://cerp.co1.qualtrics.com/jfe/form/SV_9vFybdrfLKUkVcq/?id=colgate_cs  "
   ]
  },
  {
   "cell_type": "markdown",
   "id": "1d912bb5-c8b0-474f-8c78-cf971ce9f98a",
   "metadata": {
    "slideshow": {
     "slide_type": "skip"
    },
    "tags": []
   },
   "source": [
    "## Outline\n",
    "* Warm-up\n",
    "* Arrays\n",
    "* Strings\n",
    "* Input"
   ]
  },
  {
   "cell_type": "markdown",
   "id": "7bbef47b-ce5a-4cb2-a406-daadf53a3425",
   "metadata": {
    "slideshow": {
     "slide_type": "slide"
    },
    "tags": []
   },
   "source": [
    "## Warm-up\n",
    "* Q1: _Draw the contents of the stack **immediately after the program prints `n=1`**_"
   ]
  },
  {
   "cell_type": "code",
   "execution_count": 1,
   "id": "1a9eb750-d1e2-476c-bf86-d78240957ca9",
   "metadata": {
    "tags": [
     "worksheet-code-only"
    ]
   },
   "outputs": [
    {
     "name": "stdout",
     "output_type": "stream",
     "text": [
      "n=16\n",
      "n=8\n",
      "n=4\n",
      "n=2\n",
      "n=1\n",
      "result=4\n"
     ]
    }
   ],
   "source": [
    "#include <stdio.h>\n",
    "int recurse(int n) {\n",
    "    printf(\"n=%d\\n\", n);\n",
    "    if (n == 1) {\n",
    "        return 0;\n",
    "    }\n",
    "    else {\n",
    "        return 1 + recurse(n/2);\n",
    "    }\n",
    "}\n",
    "int main() {\n",
    "    int x = 16;\n",
    "    int r = recurse(x);\n",
    "    printf(\"result=%d\\n\", r);\n",
    "}"
   ]
  },
  {
   "cell_type": "markdown",
   "id": "f8bd6311-6fbf-424d-bf20-7b89049f61e4",
   "metadata": {
    "slideshow": {
     "slide_type": "skip"
    },
    "tags": [
     "worksheet-only"
    ]
   },
   "source": [
    "<div style=\"height:15em;\"></div>"
   ]
  },
  {
   "cell_type": "markdown",
   "id": "c60d2b3f-dea9-4a12-af19-c6267aa76d4d",
   "metadata": {},
   "source": [
    "* Q2: _If `main` initialized `x` to `64` (instead of `16`), how many stack frames would exist at the time the program printed \"n=1\"?_"
   ]
  },
  {
   "cell_type": "markdown",
   "id": "91eb5802-83b7-4a61-abe8-89bb587b7270",
   "metadata": {
    "slideshow": {
     "slide_type": "skip"
    },
    "tags": [
     "notes-only"
    ]
   },
   "source": [
    "8 —  (bottom) `main`, `recurse(64)`, `recurse(32)`, `recurse(16)`, `recurse(8)`, `recurse(4)`, `recurse(2)`, `recurse(1)`, (top)"
   ]
  },
  {
   "cell_type": "markdown",
   "id": "745c66f7-e6f7-4e68-83a2-c5b724626a57",
   "metadata": {
    "slideshow": {
     "slide_type": "skip"
    },
    "tags": [
     "worksheet-only"
    ]
   },
   "source": [
    "<div style=\"height:5em;\"></div>\n",
    "\n",
    "🛑 **STOP here** after completing the warm-up; if you have extra time please **skip ahead** to the extra practice.\n",
    "\n",
    "<div style=\"page-break-after:always;\"></div>"
   ]
  },
  {
   "cell_type": "markdown",
   "id": "10a8ff56-b066-4eab-b399-f30e2e1a4ee4",
   "metadata": {
    "slideshow": {
     "slide_type": "skip"
    },
    "tags": [
     "notes-only"
    ]
   },
   "source": [
    "* _What does this tell you about program efficiency?_ — the more nested function calls there are, the more stack memory the program requires; creating an iterative (instead of recursive) implementation would be more memory efficient"
   ]
  },
  {
   "cell_type": "markdown",
   "id": "9b5ef5a7-7f36-42f3-bf18-73be0035f776",
   "metadata": {
    "slideshow": {
     "slide_type": "slide"
    },
    "tags": []
   },
   "source": [
    "## Arrays"
   ]
  },
  {
   "cell_type": "markdown",
   "id": "648ce366-41a3-4010-b19a-0434d245a71e",
   "metadata": {
    "slideshow": {
     "slide_type": "skip"
    },
    "tags": [
     "notes-only"
    ]
   },
   "source": [
    "* _How do you declare an array?_\n",
    "    * `TYPE VARNAME[LENGTH];`\n",
    "    * `TYPE VARNAME[] = {VALUE1, VALUE2, ...};`\n",
    "* _How do you access an element in an array?_ — `VARNAME[INDEX]`"
   ]
  },
  {
   "cell_type": "markdown",
   "id": "466fd692-ad75-4cfd-8fb4-eae66cb6c138",
   "metadata": {},
   "source": [
    "* Q3: _What is the output of this program?_"
   ]
  },
  {
   "cell_type": "code",
   "execution_count": 2,
   "id": "71572cfd-b0ff-40da-9106-530bf52790dc",
   "metadata": {
    "tags": [
     "worksheet-code-only"
    ]
   },
   "outputs": [
    {
     "name": "stdout",
     "output_type": "stream",
     "text": [
      "7\n"
     ]
    }
   ],
   "source": [
    "#include <stdio.h>\n",
    "int main() {\n",
    "    int sum = 0;\n",
    "    int nums[] = { 1, 3, 5, 7 };\n",
    "    for (int i = 0; i < 3; i++) {\n",
    "        nums[i+1] -= 1;\n",
    "        sum += nums[i];\n",
    "    }\n",
    "    printf(\"%d\\n\", sum);\n",
    "}"
   ]
  },
  {
   "cell_type": "markdown",
   "id": "33f33165-3c32-41a3-8be1-c10eb46a4f25",
   "metadata": {
    "slideshow": {
     "slide_type": "subslide"
    },
    "tags": []
   },
   "source": [
    "* Q4: _What is the output of this program?_"
   ]
  },
  {
   "cell_type": "code",
   "execution_count": 6,
   "id": "b113b722-05a7-45d2-917e-4c07eaa3763e",
   "metadata": {
    "tags": [
     "worksheet-code-only"
    ]
   },
   "outputs": [
    {
     "name": "stdout",
     "output_type": "stream",
     "text": [
      "1849360390\n"
     ]
    }
   ],
   "source": [
    "#include <stdio.h>\n",
    "int main() {\n",
    "    int sum = 0;\n",
    "    int nums[] = { 1, 2, 3 };\n",
    "    for (int i = 0; i <= 3; i++) {\n",
    "        sum += nums[i];\n",
    "    }\n",
    "    printf(\"%d\\n\", sum);\n",
    "}"
   ]
  },
  {
   "cell_type": "markdown",
   "id": "008d705b-de8a-4500-a2ff-0e569a8f3610",
   "metadata": {
    "slideshow": {
     "slide_type": "skip"
    },
    "tags": [
     "notes-only"
    ]
   },
   "source": [
    "_Undefined — C doesn't check array bounds like Java_"
   ]
  },
  {
   "cell_type": "markdown",
   "id": "ebd67c56-fed2-43dd-99ea-d066a67cd338",
   "metadata": {
    "slideshow": {
     "slide_type": "skip"
    },
    "tags": [
     "worksheet-only"
    ]
   },
   "source": [
    "🛑 **STOP here** after completing the above questions; if you have extra time please **skip ahead** to the extra practice."
   ]
  },
  {
   "cell_type": "markdown",
   "id": "b22129f8-cc9b-41e4-872f-57a38223a7b7",
   "metadata": {
    "slideshow": {
     "slide_type": "slide"
    },
    "tags": []
   },
   "source": [
    "## Strings"
   ]
  },
  {
   "cell_type": "markdown",
   "id": "ea79433a-39c4-44e8-88e5-c03ac3b81c4f",
   "metadata": {
    "slideshow": {
     "slide_type": "skip"
    },
    "tags": [
     "notes-only"
    ]
   },
   "source": [
    "* String is simply an array of characters\n",
    "* End of string is denoted by the null character (`\\0`)\n",
    "    ```\n",
    "                 ┏━━━┳━━━┳━━━┳━━━┳━━━┳━━━┳━━━┳━━━━┓\n",
    "    \"Colgate\" == ┃ C ┃ o ┃ l ┃ g ┃ a ┃ t ┃ e ┃ \\0 ┃\n",
    "                 ┗━━━┻━━━┻━━━┻━━━┻━━━┻━━━┻━━━┻━━━━┛\n",
    "    ```\n",
    "* Useful string functions\n",
    "    * `strlen` counts the number of characters in an array before a null character \n",
    "        * The null character is **not** included in the length\n",
    "    * `strcmp` checks if the two strings are the same\n",
    "        * Stops when it reaches a null character in either array\n",
    "    * `strcpy` copies the characters from one array to another\n",
    "        * Also copies the null character \n",
    "    * The `man` pages for these functions indicate the parameters are are of type `const char *` or `char *`\n",
    "        * `const` means the function does not modify the array\n",
    "        * `char *` means a character pointer; in a few weeks we'll discuss the duality between arrays and pointers; for now, it means you can pass an array of characters to these functions"
   ]
  },
  {
   "cell_type": "markdown",
   "id": "2fa83c86-4abc-4cc3-b17b-7680385201bc",
   "metadata": {
    "tags": []
   },
   "source": [
    "* Q5: _What is the output of this program?_"
   ]
  },
  {
   "cell_type": "code",
   "execution_count": 5,
   "id": "d13fc5bf-56ab-437e-aa1b-581f10b193d1",
   "metadata": {
    "tags": [
     "worksheet-code-only"
    ]
   },
   "outputs": [
    {
     "name": "stdout",
     "output_type": "stream",
     "text": [
      "7\n",
      "4\n",
      "Colgate-;Uni.\n",
      "Col./Uni.\n"
     ]
    }
   ],
   "source": [
    "#include <stdio.h>\n",
    "int main() {\n",
    "    char first[] = \"Colgate\";\n",
    "    char second[10] = \"Univ\";\n",
    "    printf(\"%lu\\n\", strlen(first));\n",
    "    printf(\"%lu\\n\", strlen(second));\n",
    "    first[strlen(first)] = '-';\n",
    "    second[strlen(second)-1] = '.';\n",
    "    printf(\"%s%s\\n\", first, second);\n",
    "    first[3] = '.';\n",
    "    first[4] = '\\0';\n",
    "    printf(\"%s/%s\\n\", first, second);\n",
    "}"
   ]
  },
  {
   "cell_type": "markdown",
   "id": "4aaec6fc-7849-4cab-bbf1-895cf197c2da",
   "metadata": {
    "slideshow": {
     "slide_type": "skip"
    },
    "tags": [
     "worksheet-only"
    ]
   },
   "source": [
    "<div style=\"page-break-after:always;\"></div>"
   ]
  },
  {
   "cell_type": "markdown",
   "id": "1bb41882-8e83-4a1a-9609-1a3b619f9fe1",
   "metadata": {
    "slideshow": {
     "slide_type": "subslide"
    },
    "tags": []
   },
   "source": [
    "* Q6: _What is the output of this program?_"
   ]
  },
  {
   "cell_type": "code",
   "execution_count": null,
   "id": "29b69970-6395-400a-9429-32d40101c6d7",
   "metadata": {
    "tags": [
     "worksheet-code-only"
    ]
   },
   "outputs": [],
   "source": [
    "#include <stdio.h>\n",
    "int main() {\n",
    "    char first[] = \"Systems is fun!\";\n",
    "    char second[] = \"Systems is fun!\";\n",
    "    if (first == second) {\n",
    "        printf(\"1st == 2nd\\n\");\n",
    "    }\n",
    "    if (strcmp(first, second)) {\n",
    "        printf(\"1st cmp 2nd\\n\");\n",
    "    }\n",
    "}"
   ]
  },
  {
   "cell_type": "markdown",
   "id": "dfd9c4ad-1023-437e-8cc5-96fa8020ddba",
   "metadata": {
    "slideshow": {
     "slide_type": "skip"
    },
    "tags": [
     "notes-only"
    ]
   },
   "source": [
    "_(No output)_"
   ]
  },
  {
   "cell_type": "markdown",
   "id": "68ffddf6-599d-43b1-ba79-fc411f614e37",
   "metadata": {
    "slideshow": {
     "slide_type": "skip"
    },
    "tags": [
     "worksheet-only"
    ]
   },
   "source": [
    "<div style=\"height:5em;\"></div>"
   ]
  },
  {
   "cell_type": "markdown",
   "id": "d08b3ce1-4fcf-4627-8c14-4a35e8b6ef51",
   "metadata": {
    "slideshow": {
     "slide_type": "skip"
    },
    "tags": [
     "notes-only"
    ]
   },
   "source": [
    "## Input\n",
    "* Use `fgets` to read in a line of input as a string\n",
    "    ```C\n",
    "    char str[10];\n",
    "    fgets(str, 10, stdin);\n",
    "    ```\n",
    "* `stdin` means _standard input_"
   ]
  },
  {
   "cell_type": "markdown",
   "id": "b4d22014-0af6-4eb5-9ce7-3d7c49ecba82",
   "metadata": {
    "slideshow": {
     "slide_type": "slide"
    },
    "tags": []
   },
   "source": [
    "## Extra practice"
   ]
  },
  {
   "cell_type": "markdown",
   "id": "48169c28-75a9-41da-8da0-93a1a9e8c296",
   "metadata": {
    "tags": []
   },
   "source": [
    "* Q7: _What is the output of this program?_"
   ]
  },
  {
   "cell_type": "code",
   "execution_count": 4,
   "id": "ff6a7e9c-5d88-40b4-a76c-1987c0f89850",
   "metadata": {
    "tags": [
     "worksheet-code-only"
    ]
   },
   "outputs": [
    {
     "name": "stdout",
     "output_type": "stream",
     "text": [
      "-1481762753\n"
     ]
    }
   ],
   "source": [
    "#include <stdio.h>\n",
    "int main() {\n",
    "    int sum = 0;\n",
    "    int zeros[10];\n",
    "    for (int i = 0; i < 10; i++) {\n",
    "        sum += zeros[i];\n",
    "    }\n",
    "    printf(\"%d\\n\", sum);\n",
    "}"
   ]
  },
  {
   "cell_type": "markdown",
   "id": "b409c3fe-0b86-40c8-801e-9f11eebd1b50",
   "metadata": {
    "slideshow": {
     "slide_type": "skip"
    },
    "tags": [
     "notes-only"
    ]
   },
   "source": [
    "_Undefined — variables are not initialized like they are in Java_"
   ]
  },
  {
   "cell_type": "markdown",
   "id": "9a54fa9e-7ccd-4f00-b885-a6b460109500",
   "metadata": {
    "slideshow": {
     "slide_type": "subslide"
    },
    "tags": []
   },
   "source": [
    "* Q8: _Write a function called `avg` that takes an array of integers and the length of the array and returns the average of those integers._"
   ]
  },
  {
   "cell_type": "code",
   "execution_count": 3,
   "id": "c01182ef-9ee1-4402-8ca9-e0a55bec8354",
   "metadata": {
    "slideshow": {
     "slide_type": "skip"
    },
    "tags": [
     "notes-only"
    ]
   },
   "outputs": [],
   "source": [
    "int avg(int nums[], int length) {\n",
    "    int sum = 0;\n",
    "    for (int i = 0; i < length; i++) {\n",
    "        sum += nums[i];\n",
    "    }\n",
    "    return sum / length;\n",
    "}\n",
    "// Testing code\n",
    "#include <assert.h>\n",
    "int main() {\n",
    "    int test[] = {2, 6, 7};\n",
    "    assert(avg(test, 3) == 5);\n",
    "}"
   ]
  },
  {
   "cell_type": "markdown",
   "id": "ab222c6b-01cc-49be-a5c2-fea05373e7fd",
   "metadata": {
    "slideshow": {
     "slide_type": "skip"
    },
    "tags": [
     "worksheet-only"
    ]
   },
   "source": [
    "<div style=\"height:12em;\"></div>"
   ]
  },
  {
   "cell_type": "markdown",
   "id": "841c89b6-e2f8-481d-97e1-c0bf453cc693",
   "metadata": {},
   "source": [
    "* Q9: _Write a function called `count` that takes an array of integers,  the length of the array, and an integer to search for and returns the number of times the specified integer appears in the array._"
   ]
  },
  {
   "cell_type": "code",
   "execution_count": 5,
   "id": "faf9688b-dcf7-4182-85af-6a0f0b6a72b1",
   "metadata": {
    "slideshow": {
     "slide_type": "skip"
    },
    "tags": [
     "notes-only"
    ]
   },
   "outputs": [],
   "source": [
    "int count(int nums[], int length, int find) {\n",
    "    int occurrences = 0;\n",
    "    for (int i = 0; i < length; i++) {\n",
    "        if (nums[i] == find) {\n",
    "            occurrences++;\n",
    "        }\n",
    "    }\n",
    "    return occurrences;\n",
    "}\n",
    "// Testing code\n",
    "#include <assert.h>\n",
    "int main() {\n",
    "    int test[] = {1, 2, 1, 2, 2, 1, 2};\n",
    "    assert(count(test, 7, 1) == 3);\n",
    "    assert(count(test, 7, 2) == 4);\n",
    "}"
   ]
  },
  {
   "cell_type": "markdown",
   "id": "b35e9577-07d9-42e4-bcf1-9fd7362bf527",
   "metadata": {
    "slideshow": {
     "slide_type": "skip"
    },
    "tags": [
     "worksheet-only"
    ]
   },
   "source": [
    "<div style=\"page-break-after:always;\"></div>"
   ]
  },
  {
   "cell_type": "markdown",
   "id": "5da91146-e958-4ad1-858a-79661267b2f9",
   "metadata": {},
   "source": [
    "* Q10: _Write a program that asks the user for a string and converts all lowercase letters to uppercase and all uppercase letters to lowercase; numbers and punctuation should be left unchanged._"
   ]
  },
  {
   "cell_type": "code",
   "execution_count": null,
   "id": "5bc04baa-6354-4f3b-8257-4739a158b146",
   "metadata": {
    "slideshow": {
     "slide_type": "skip"
    },
    "tags": [
     "notes-only"
    ]
   },
   "outputs": [],
   "source": [
    "#include <stdio.h>\n",
    "#include <stdlib.h>\n",
    "#include <string.h>\n",
    "int main() {\n",
    "    char str[100];\n",
    "    printf(\"String? \");\n",
    "    fgets(str, 100, stdin);\n",
    "    for (int i = 0; i < strlen(str); i++) {\n",
    "        if (str[i] >= 'A' && str[i] <= 'Z') {\n",
    "            str[i] = str[i] - 'A' + 'a';\n",
    "    } else if (str[i] >= 'a' && str[i] <= 'z') {\n",
    "            str[i] = str[i] - 'a' + 'A';\n",
    "        }\n",
    "    }\n",
    "    printf(\"%s\", str);\n",
    "    return EXIT_SUCCESS;\n",
    "}"
   ]
  },
  {
   "cell_type": "markdown",
   "id": "6a0bd3f2-bd33-402a-a177-7d2b69da6054",
   "metadata": {
    "slideshow": {
     "slide_type": "skip"
    },
    "tags": [
     "worksheet-only"
    ]
   },
   "source": [
    "<div style=\"height:25em;\"></div>"
   ]
  },
  {
   "cell_type": "markdown",
   "id": "a7ff2f26-c0d8-4e62-a090-50db6502e2b0",
   "metadata": {},
   "source": [
    "* Q11: _Write a program that asks the user for a string and checks if the string is a palindrome (i.e., reads the same forwards and backwards)._"
   ]
  },
  {
   "cell_type": "code",
   "execution_count": null,
   "id": "74206b7b-e648-47f5-a0b4-17737bece470",
   "metadata": {
    "slideshow": {
     "slide_type": "skip"
    },
    "tags": [
     "notes-only"
    ]
   },
   "outputs": [],
   "source": [
    "#include <stdio.h>\n",
    "#include <stdlib.h>\n",
    "#include <string.h>\n",
    "int main() {\n",
    "    char str[100];\n",
    "    printf(\"String? \");\n",
    "    fgets(str, 100, stdin);\n",
    "    str[strlen(str)-1] = '\\0'; // strip newline\n",
    "    for (int i = 0; i < strlen(str) / 2; i++) {\n",
    "        if (str[i] != str[strlen(str)-i-1]) {\n",
    "            printf(\"Not a palindrome\\n\");\n",
    "            return EXIT_SUCCESS;\n",
    "        }\n",
    "    }\n",
    "    printf(\"Palindrome\\n\");\n",
    "    return EXIT_SUCCESS;\n",
    "}"
   ]
  }
 ],
 "metadata": {
  "kernelspec": {
   "display_name": "C",
   "language": "c",
   "name": "c"
  },
  "language_info": {
   "file_extension": ".c",
   "mimetype": "c",
   "name": "c"
  }
 },
 "nbformat": 4,
 "nbformat_minor": 5
}
