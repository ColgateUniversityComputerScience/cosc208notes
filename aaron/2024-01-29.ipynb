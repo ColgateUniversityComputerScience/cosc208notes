{
 "cells": [
  {
   "cell_type": "markdown",
   "id": "766c3265-87a5-4a23-b560-83e011c2ed6b",
   "metadata": {
    "slideshow": {
     "slide_type": "skip"
    },
    "tags": []
   },
   "source": [
    "# Data representation: stack frames; arrays; strings; input\n",
    "_COSC 208, Introduction to Computer Systems, 2024-01-29_"
   ]
  },
  {
   "cell_type": "markdown",
   "id": "191c15e7-124f-4158-8ce9-41b74735bea2",
   "metadata": {
    "jp-MarkdownHeadingCollapsed": true,
    "slideshow": {
     "slide_type": "skip"
    },
    "tags": []
   },
   "source": [
    "## Announcements\n",
    "<img src=\"images/data_buddies_qr.png\" style=\"float:right; width:80px;\" />\n",
    "\n",
    "* First lab today\n",
    "* Before each class: read _Dive Into Systems_ and answer pre-class questions\n",
    "* Complete Computing Research Association (CRA) Data Buddies Survey by **tomorrow** to earn one free “upgrade” on your level of achievement for one of the 18 standards assessed on quizzes \n",
    "    https://cerp.co1.qualtrics.com/jfe/form/SV_9vFybdrfLKUkVcq/?id=colgate_cs  "
   ]
  },
  {
   "cell_type": "markdown",
   "id": "1d912bb5-c8b0-474f-8c78-cf971ce9f98a",
   "metadata": {
    "slideshow": {
     "slide_type": "skip"
    },
    "tags": []
   },
   "source": [
    "## Outline\n",
    "* Stack frames\n",
    "* Arrays\n",
    "* Strings\n",
    "* Input"
   ]
  },
  {
   "cell_type": "markdown",
   "id": "288f8e6e-3466-49cb-a70a-11da6fc40373",
   "metadata": {},
   "source": [
    "## Warm-up"
   ]
  },
  {
   "cell_type": "markdown",
   "id": "cda10975-411d-4125-9eb7-621b3dfa4956",
   "metadata": {
    "tags": []
   },
   "source": [
    "* Q1: _What is the output of this program?_"
   ]
  },
  {
   "cell_type": "code",
   "execution_count": 1,
   "id": "5b7800be-e05d-4a36-924d-4a4927d7f117",
   "metadata": {
    "tags": [
     "worksheet-code-only"
    ]
   },
   "outputs": [
    {
     "name": "stdout",
     "output_type": "stream",
     "text": [
      "3 7 7\n"
     ]
    }
   ],
   "source": [
    "#include <stdio.h>\n",
    "int copy(int a, int b) {\n",
    "    a = b;\n",
    "    return a;\n",
    "}\n",
    "int main() {\n",
    "    int x = 3;\n",
    "    int y = 7;\n",
    "    int z = copy(x, y);\n",
    "    printf(\"%d %d %d\\n\", x, y, z);\n",
    "}"
   ]
  },
  {
   "cell_type": "markdown",
   "id": "c5da9eed-50db-48d8-ad9c-f5ac791c04fb",
   "metadata": {
    "slideshow": {
     "slide_type": "skip"
    },
    "tags": [
     "worksheet-only"
    ]
   },
   "source": [
    "<div style=\"height:3em;\"></div>\n",
    "\n",
    "🛑 **STOP here** after completing the above question; if you have extra time please **skip ahead** to the extra practice."
   ]
  },
  {
   "cell_type": "markdown",
   "id": "7a61167b-d367-4451-858a-5db585843172",
   "metadata": {
    "slideshow": {
     "slide_type": "skip"
    },
    "tags": [
     "notes-only"
    ]
   },
   "source": [
    "* C is pass-by-value → changes made to a variable inside a function will not be preserved outside of the function"
   ]
  },
  {
   "cell_type": "markdown",
   "id": "d4945d86-1fa4-475a-97d3-ebaf2145ac26",
   "metadata": {
    "slideshow": {
     "slide_type": "slide"
    },
    "tags": []
   },
   "source": [
    "## Stack frames"
   ]
  },
  {
   "cell_type": "markdown",
   "id": "f823c517-1d14-44b0-96f5-d13899ff20dc",
   "metadata": {
    "slideshow": {
     "slide_type": "skip"
    },
    "tags": [
     "notes-only"
    ]
   },
   "source": [
    "* Stores data for functions that are currently executing\n",
    "* Stored in random access memory (RAM)\n",
    "* Composed of stack frames\n",
    "    * A stack frame contains the values stored in a functions's local variables and formal parameters\n",
    "    * The size of the stack frame is determined by the number and type of local variables and formal parameters\n",
    "    * A stack frame is added to the top of the stack when a function is called\n",
    "    * A stack frame is removed from the top of the stack when a function returns"
   ]
  },
  {
   "cell_type": "markdown",
   "id": "4be18390-50fb-4044-8bd6-81aa4541c4ed",
   "metadata": {},
   "source": [
    "* Example"
   ]
  },
  {
   "cell_type": "code",
   "execution_count": 16,
   "id": "9807807d-4504-42c7-8698-de936ce8f3a3",
   "metadata": {
    "tags": [
     "worksheet-code-only"
    ]
   },
   "outputs": [
    {
     "name": "stdout",
     "output_type": "stream",
     "text": [
      "68F is 20C\n"
     ]
    }
   ],
   "source": [
    "#include <stdio.h>\n",
    "int multiply(int z) {\n",
    "    return z * 5 / 9;\n",
    "}\n",
    "int subtract(int x, int y) {\n",
    "    return x - y;\n",
    "}\n",
    "int convert(int t) {\n",
    "    int u = subtract(t, 32);\n",
    "    int v = multiply(u);\n",
    "    return v;\n",
    "}\n",
    "int main() {\n",
    "    int f = 68;\n",
    "    int c = convert(68);\n",
    "    printf(\"%dF is %dC\\n\", f, c); \n",
    "}"
   ]
  },
  {
   "cell_type": "markdown",
   "id": "c1305881-91c5-47a1-8576-114685d5a646",
   "metadata": {
    "slideshow": {
     "slide_type": "skip"
    },
    "tags": [
     "notes-only"
    ]
   },
   "source": [
    "Use [Python Tutor](https://pythontutor.com/visualize.html#mode=edit) to visualize the stack during C code execution"
   ]
  },
  {
   "cell_type": "markdown",
   "id": "7bbef47b-ce5a-4cb2-a406-daadf53a3425",
   "metadata": {
    "slideshow": {
     "slide_type": "slide"
    },
    "tags": []
   },
   "source": [
    "* Q2: _Draw the contents of the stack **immediately after the program prints `n=1`**_"
   ]
  },
  {
   "cell_type": "code",
   "execution_count": 1,
   "id": "a78089dd",
   "metadata": {
    "tags": [
     "worksheet-code-only"
    ]
   },
   "outputs": [
    {
     "name": "stdout",
     "output_type": "stream",
     "text": [
      "n=16\n",
      "n=8\n",
      "n=4\n",
      "n=2\n",
      "n=1\n",
      "result=4\n"
     ]
    }
   ],
   "source": [
    "#include <stdio.h>\n",
    "int recurse(int n) {\n",
    "    printf(\"n=%d\\n\", n);\n",
    "    if (n == 1) {\n",
    "        return 0;\n",
    "    }\n",
    "    else {\n",
    "        return 1 + recurse(n/2);\n",
    "    }\n",
    "}\n",
    "int main() {\n",
    "    int x = 16;\n",
    "    int r = recurse(x);\n",
    "    printf(\"result=%d\\n\", r);\n",
    "}"
   ]
  },
  {
   "cell_type": "markdown",
   "id": "f8bd6311-6fbf-424d-bf20-7b89049f61e4",
   "metadata": {
    "slideshow": {
     "slide_type": "skip"
    },
    "tags": [
     "worksheet-only"
    ]
   },
   "source": [
    "<div style=\"height:17em;\"></div>"
   ]
  },
  {
   "cell_type": "markdown",
   "id": "c60d2b3f-dea9-4a12-af19-c6267aa76d4d",
   "metadata": {},
   "source": [
    "* Q3: _If `main` initialized `x` to `64` (instead of `8`), how many stack frames would exist at the time the program printed \"n=1\"?_"
   ]
  },
  {
   "cell_type": "markdown",
   "id": "91eb5802-83b7-4a61-abe8-89bb587b7270",
   "metadata": {
    "slideshow": {
     "slide_type": "skip"
    },
    "tags": [
     "notes-only"
    ]
   },
   "source": [
    "8 —  (bottom) `main`, `recurse(64)`, `recurse(32)`, `recurse(16)`, `recurse(8)`, `recurse(4)`, `recurse(2)`, `recurse(1)`, (top)"
   ]
  },
  {
   "cell_type": "markdown",
   "id": "745c66f7-e6f7-4e68-83a2-c5b724626a57",
   "metadata": {
    "slideshow": {
     "slide_type": "skip"
    },
    "tags": [
     "worksheet-only"
    ]
   },
   "source": [
    "<div style=\"height:5em;\"></div>\n",
    "\n",
    "🛑 **STOP here** after completing the above questions; if you have extra time please **skip ahead** to the extra practice."
   ]
  },
  {
   "cell_type": "markdown",
   "id": "10a8ff56-b066-4eab-b399-f30e2e1a4ee4",
   "metadata": {
    "slideshow": {
     "slide_type": "skip"
    },
    "tags": [
     "notes-only"
    ]
   },
   "source": [
    "* _What does this tell you about program efficiency?_ — the more nested function calls there are, the more stack memory the program requires; creating an iterative (instead of recursive) implementation would be more memory efficient"
   ]
  },
  {
   "cell_type": "markdown",
   "id": "9b5ef5a7-7f36-42f3-bf18-73be0035f776",
   "metadata": {
    "slideshow": {
     "slide_type": "slide"
    },
    "tags": []
   },
   "source": [
    "## Arrays"
   ]
  },
  {
   "cell_type": "markdown",
   "id": "648ce366-41a3-4010-b19a-0434d245a71e",
   "metadata": {
    "slideshow": {
     "slide_type": "skip"
    },
    "tags": [
     "notes-only"
    ]
   },
   "source": [
    "* _How do you declare an array?_\n",
    "    * `TYPE VARNAME[LENGTH];`\n",
    "    * `TYPE VARNAME[] = {VALUE1, VALUE2, ...};`\n",
    "* _How do you access an element in an array?_ — `VARNAME[INDEX]`"
   ]
  },
  {
   "cell_type": "markdown",
   "id": "466fd692-ad75-4cfd-8fb4-eae66cb6c138",
   "metadata": {},
   "source": [
    "* Q4: _What is the output of this program?_"
   ]
  },
  {
   "cell_type": "code",
   "execution_count": 2,
   "id": "71572cfd-b0ff-40da-9106-530bf52790dc",
   "metadata": {
    "tags": [
     "worksheet-code-only"
    ]
   },
   "outputs": [
    {
     "name": "stdout",
     "output_type": "stream",
     "text": [
      "7\n"
     ]
    }
   ],
   "source": [
    "#include <stdio.h>\n",
    "int main() {\n",
    "    int sum = 0;\n",
    "    int nums[] = { 1, 3, 5, 7 };\n",
    "    for (int i = 0; i < 3; i++) {\n",
    "        nums[i+1] -= 1;\n",
    "        sum += nums[i];\n",
    "    }\n",
    "    printf(\"%d\\n\", sum);\n",
    "}"
   ]
  },
  {
   "cell_type": "markdown",
   "id": "c2dbea18-ddd8-40aa-9521-0a20d13b72c3",
   "metadata": {
    "slideshow": {
     "slide_type": "skip"
    },
    "tags": [
     "worksheet-only"
    ]
   },
   "source": [
    "<div style=\"page-break-after:always;\"></div>"
   ]
  },
  {
   "cell_type": "markdown",
   "id": "33f33165-3c32-41a3-8be1-c10eb46a4f25",
   "metadata": {
    "slideshow": {
     "slide_type": "subslide"
    },
    "tags": []
   },
   "source": [
    "* Q5: _What is the output of this program?_"
   ]
  },
  {
   "cell_type": "code",
   "execution_count": 6,
   "id": "b113b722-05a7-45d2-917e-4c07eaa3763e",
   "metadata": {
    "tags": [
     "worksheet-code-only"
    ]
   },
   "outputs": [
    {
     "name": "stdout",
     "output_type": "stream",
     "text": [
      "1849360390\n"
     ]
    }
   ],
   "source": [
    "#include <stdio.h>\n",
    "int main() {\n",
    "    int sum = 0;\n",
    "    int nums[] = { 1, 2, 3 };\n",
    "    for (int i = 0; i <= 3; i++) {\n",
    "        sum += nums[i];\n",
    "    }\n",
    "    printf(\"%d\\n\", sum);\n",
    "}"
   ]
  },
  {
   "cell_type": "markdown",
   "id": "008d705b-de8a-4500-a2ff-0e569a8f3610",
   "metadata": {
    "slideshow": {
     "slide_type": "skip"
    },
    "tags": [
     "notes-only"
    ]
   },
   "source": [
    "_Undefined — C doesn't check array bounds like Java_"
   ]
  },
  {
   "cell_type": "markdown",
   "id": "ebd67c56-fed2-43dd-99ea-d066a67cd338",
   "metadata": {
    "slideshow": {
     "slide_type": "skip"
    },
    "tags": [
     "worksheet-only"
    ]
   },
   "source": [
    "🛑 **STOP here** after completing the above questions; if you have extra time please **skip ahead** to the extra practice."
   ]
  },
  {
   "cell_type": "markdown",
   "id": "b22129f8-cc9b-41e4-872f-57a38223a7b7",
   "metadata": {
    "slideshow": {
     "slide_type": "slide"
    },
    "tags": []
   },
   "source": [
    "## Strings"
   ]
  },
  {
   "cell_type": "markdown",
   "id": "ea79433a-39c4-44e8-88e5-c03ac3b81c4f",
   "metadata": {
    "slideshow": {
     "slide_type": "skip"
    },
    "tags": [
     "notes-only"
    ]
   },
   "source": [
    "* String is simply an array of characters\n",
    "* End of string is denoted by the null character (`\\0`)\n",
    "    ```\n",
    "                 ┏━━━┳━━━┳━━━┳━━━┳━━━┳━━━┳━━━┳━━━━┓\n",
    "    \"Colgate\" == ┃ C ┃ o ┃ l ┃ g ┃ a ┃ t ┃ e ┃ \\0 ┃\n",
    "                 ┗━━━┻━━━┻━━━┻━━━┻━━━┻━━━┻━━━┻━━━━┛\n",
    "    ```\n",
    "* `strlen` counts the number of characters in an array before a null character \n",
    "    * The null character is **not** included in the length\n",
    "    * The `man` page for `strlen` indicates the parameter is of type `const char *`\n",
    "        * `const` means the function does not modify the array\n",
    "        * `char *` means a character pointer; in a few weeks we'll discuss the duality between arrays and pointers; for now, it means you can pass an array of characters to this function"
   ]
  },
  {
   "cell_type": "markdown",
   "id": "2fa83c86-4abc-4cc3-b17b-7680385201bc",
   "metadata": {
    "tags": []
   },
   "source": [
    "* Q6: _What is the output of this program?_"
   ]
  },
  {
   "cell_type": "code",
   "execution_count": 10,
   "id": "d13fc5bf-56ab-437e-aa1b-581f10b193d1",
   "metadata": {
    "tags": [
     "worksheet-code-only"
    ]
   },
   "outputs": [
    {
     "name": "stdout",
     "output_type": "stream",
     "text": [
      "7\n",
      "4\n",
      "Colgate-wUni.\n",
      "Col./Uni.\n"
     ]
    }
   ],
   "source": [
    "#include <stdio.h>\n",
    "int main() {\n",
    "    char first[] = \"Colgate\";\n",
    "    char second[10] = \"Univ\";\n",
    "    printf(\"%d\\n\", strlen(first));\n",
    "    printf(\"%d\\n\", strlen(second));\n",
    "    first[strlen(first)] = '-';\n",
    "    second[strlen(second)-1] = '.';\n",
    "    printf(\"%s%s\\n\", first, second);\n",
    "    first[3] = '.';\n",
    "    first[4] = '\\0';\n",
    "    printf(\"%s/%s\\n\", first, second);\n",
    "}"
   ]
  },
  {
   "cell_type": "markdown",
   "id": "4aaec6fc-7849-4cab-bbf1-895cf197c2da",
   "metadata": {
    "slideshow": {
     "slide_type": "skip"
    },
    "tags": [
     "worksheet-only"
    ]
   },
   "source": [
    "<div style=\"height:10em;\"></div>"
   ]
  },
  {
   "cell_type": "markdown",
   "id": "9717049a-ccad-45b9-b1f3-225045bc29ad",
   "metadata": {
    "slideshow": {
     "slide_type": "skip"
    },
    "tags": [
     "notes-only"
    ]
   },
   "source": [
    "## Input\n",
    "* Use `fgets` to read in a line of input as a string\n",
    "    ```C\n",
    "    char str[10];\n",
    "    fgets(str, 10, stdin);\n",
    "    ```\n",
    "    * `stdin` means _standard input_\n",
    "* If you enter a number, the input is still a string–i.e., an array of digit characters–not an `int`\n",
    "    * Use `atoi` to convert a string of digit characters to an integer"
   ]
  },
  {
   "cell_type": "markdown",
   "id": "b4d22014-0af6-4eb5-9ce7-3d7c49ecba82",
   "metadata": {
    "slideshow": {
     "slide_type": "slide"
    },
    "tags": []
   },
   "source": [
    "## Extra practice"
   ]
  },
  {
   "cell_type": "markdown",
   "id": "48169c28-75a9-41da-8da0-93a1a9e8c296",
   "metadata": {
    "tags": []
   },
   "source": [
    "* Q7: _What is the output of this program?_"
   ]
  },
  {
   "cell_type": "code",
   "execution_count": 4,
   "id": "ff6a7e9c-5d88-40b4-a76c-1987c0f89850",
   "metadata": {
    "tags": [
     "worksheet-code-only"
    ]
   },
   "outputs": [
    {
     "name": "stdout",
     "output_type": "stream",
     "text": [
      "-1481762753\n"
     ]
    }
   ],
   "source": [
    "#include <stdio.h>\n",
    "int main() {\n",
    "    int sum = 0;\n",
    "    int zeros[10];\n",
    "    for (int i = 0; i < 10; i++) {\n",
    "        sum += zeros[i];\n",
    "    }\n",
    "    printf(\"%d\\n\", sum);\n",
    "}"
   ]
  },
  {
   "cell_type": "markdown",
   "id": "b409c3fe-0b86-40c8-801e-9f11eebd1b50",
   "metadata": {
    "slideshow": {
     "slide_type": "skip"
    },
    "tags": [
     "notes-only"
    ]
   },
   "source": [
    "_Undefined — variables are not initialized like they are in Java_"
   ]
  },
  {
   "cell_type": "markdown",
   "id": "07c4dd2a-00a4-41e9-ac45-6dc526b20877",
   "metadata": {
    "slideshow": {
     "slide_type": "skip"
    },
    "tags": [
     "worksheet-only"
    ]
   },
   "source": [
    "<div style=\"page-break-after:always;\"></div>"
   ]
  },
  {
   "cell_type": "markdown",
   "id": "9a54fa9e-7ccd-4f00-b885-a6b460109500",
   "metadata": {
    "slideshow": {
     "slide_type": "subslide"
    },
    "tags": []
   },
   "source": [
    "* Q8: _Write a function called `avg` that takes an array of integers and the length of the array and returns the average of those integers._"
   ]
  },
  {
   "cell_type": "code",
   "execution_count": 3,
   "id": "c01182ef-9ee1-4402-8ca9-e0a55bec8354",
   "metadata": {
    "slideshow": {
     "slide_type": "skip"
    },
    "tags": [
     "notes-only"
    ]
   },
   "outputs": [],
   "source": [
    "int avg(int nums[], int length) {\n",
    "    int sum = 0;\n",
    "    for (int i = 0; i < length; i++) {\n",
    "        sum += nums[i];\n",
    "    }\n",
    "    return sum / length;\n",
    "}\n",
    "// Testing code\n",
    "#include <assert.h>\n",
    "int main() {\n",
    "    int test[] = {2, 6, 7};\n",
    "    assert(avg(test, 3) == 5);\n",
    "}"
   ]
  },
  {
   "cell_type": "markdown",
   "id": "ab222c6b-01cc-49be-a5c2-fea05373e7fd",
   "metadata": {
    "slideshow": {
     "slide_type": "skip"
    },
    "tags": [
     "worksheet-only"
    ]
   },
   "source": [
    "<div style=\"height:20em;\"></div>"
   ]
  },
  {
   "cell_type": "markdown",
   "id": "841c89b6-e2f8-481d-97e1-c0bf453cc693",
   "metadata": {},
   "source": [
    "* Q9: _Write a function called `count` that takes an array of integers,  the length of the array, and an integer to search for and returns the number of times the specified integer appears in the array._"
   ]
  },
  {
   "cell_type": "code",
   "execution_count": 5,
   "id": "faf9688b-dcf7-4182-85af-6a0f0b6a72b1",
   "metadata": {
    "slideshow": {
     "slide_type": "skip"
    },
    "tags": [
     "notes-only"
    ]
   },
   "outputs": [],
   "source": [
    "int count(int nums[], int length, int find) {\n",
    "    int occurrences = 0;\n",
    "    for (int i = 0; i < length; i++) {\n",
    "        if (nums[i] == find) {\n",
    "            occurrences++;\n",
    "        }\n",
    "    }\n",
    "    return occurrences;\n",
    "}\n",
    "// Testing code\n",
    "#include <assert.h>\n",
    "int main() {\n",
    "    int test[] = {1, 2, 1, 2, 2, 1, 2};\n",
    "    assert(count(test, 7, 1) == 3);\n",
    "    assert(count(test, 7, 2) == 4);\n",
    "}"
   ]
  }
 ],
 "metadata": {
  "kernelspec": {
   "display_name": "C",
   "language": "c",
   "name": "c"
  },
  "language_info": {
   "file_extension": ".c",
   "mimetype": "c",
   "name": "c"
  }
 },
 "nbformat": 4,
 "nbformat_minor": 5
}
