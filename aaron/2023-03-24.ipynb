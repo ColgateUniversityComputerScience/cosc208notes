{
 "cells": [
  {
   "cell_type": "markdown",
   "id": "39d76db8-edb9-47d5-bec8-7998805660b3",
   "metadata": {
    "slideshow": {
     "slide_type": "skip"
    },
    "tags": []
   },
   "source": [
    "# Assembly: Tracing assembly code\n",
    "_COSC 208, Introduction to Computer Systems, 2023-03-24_"
   ]
  },
  {
   "cell_type": "markdown",
   "id": "37653a99-1c8a-47ac-b68c-6e7336bb8328",
   "metadata": {
    "slideshow": {
     "slide_type": "skip"
    },
    "tags": []
   },
   "source": [
    "## Announcements\n",
    "* Project 3 due Thursday, March 30 @ 11pm"
   ]
  },
  {
   "cell_type": "markdown",
   "id": "f17866fc-fc93-480c-a9a5-d903a0657063",
   "metadata": {
    "slideshow": {
     "slide_type": "skip"
    },
    "tags": []
   },
   "source": [
    "## Outline\n",
    "* Warm-up\n",
    "* Tracing assembly code\n",
    "* Practice mapping, translating, and tracing assembly code"
   ]
  },
  {
   "cell_type": "markdown",
   "id": "e663073f-3384-4891-978a-b8c31d0a6263",
   "metadata": {
    "slideshow": {
     "slide_type": "slide"
    },
    "tags": []
   },
   "source": [
    "## Warm-up"
   ]
  },
  {
   "cell_type": "markdown",
   "id": "841f6f3e-e954-45fa-84fe-951093ec6c77",
   "metadata": {
    "slideshow": {
     "slide_type": "skip"
    },
    "tags": []
   },
   "source": [
    "Q1: _The following C code was compiled into assembly (using `clang`)._"
   ]
  },
  {
   "cell_type": "code",
   "execution_count": null,
   "id": "b657c909-c355-4616-ae21-1c17bda7a50d",
   "metadata": {
    "tags": [
     "worksheet-code-only"
    ]
   },
   "outputs": [],
   "source": [
    "/*1*/  int sum(int a, int *b) {\n",
    "/*2*/     int c = *b;\n",
    "/*3*/     int d = a + c;\n",
    "/*4*/     return d;\n",
    "/*5*/  }"
   ]
  },
  {
   "cell_type": "markdown",
   "id": "6072e067-a988-4df1-9cab-122b43737aae",
   "metadata": {
    "slideshow": {
     "slide_type": "skip"
    },
    "tags": []
   },
   "source": [
    "_For each line of assembly:_\n",
    "1. _Indicate which original line of C code (above) the assembly instruction was derived from; and_\n",
    "2. _Write the low-level C code equivalent of the assembly instruction, treating registers as if they were variable names._"
   ]
  },
  {
   "cell_type": "markdown",
   "id": "75bdd247-6d4e-4cb7-89a2-43605269755c",
   "metadata": {
    "slideshow": {
     "slide_type": "skip"
    },
    "tags": [
     "notes-only"
    ]
   },
   "source": [
    "```\n",
    "0000000000400584 <sum>:                            // Line     Low-level C\n",
    "    400584:    d10083ff     sub    sp, sp, #0x20   // 1        sp = sp - 0x20\n",
    "    400588:    b9001fe0     str    w0, [sp, #28]   // 1        *(sp+28) = w0\n",
    "    40058c:    f9000be1     str    x1, [sp, #16]   // 1        *(sp+16) = x1\n",
    "    400590:    f9400be8     ldr    x8, [sp, #16]   // 2        x8 = *(sp+16)\n",
    "    400594:    b9400109     ldr    w9, [x8]        // 2        w9 = *x8\n",
    "    400598:    b9000fe9     str    w9, [sp, #12]   // 2        *(sp+12) = w9\n",
    "    40059c:    b9401fe9     ldr    w9, [sp, #28]   // 3        w9 = *(sp+28)\n",
    "    4005a0:    b9400fea     ldr    w10, [sp, #12]  // 3        w10 = *(sp+12)\n",
    "    4005a4:    0b0a0129     add    w9, w9, w10     // 3        w9 = w9 + w10\n",
    "    4005a8:    b9000be9     str    w9, [sp, #8]    // 3        *(sp+8) = w9\n",
    "    4005ac:    b9400be0     ldr    w0, [sp, #8]    // 4        w0 = *(sp+8)\n",
    "    4005b0:    910083ff     add    sp, sp, #0x20   // 4        sp = sp + 0x20\n",
    "    4005b4:    d65f03c0     ret                    // 4        return\n",
    "```"
   ]
  },
  {
   "cell_type": "markdown",
   "id": "294e188d-21f2-486b-9bdb-84ea6ea5fa7a",
   "metadata": {
    "tags": [
     "worksheet-only"
    ]
   },
   "source": [
    "```\n",
    "0000000000400584 <sum>:                            // Line     Low-level C\n",
    "    400584:    d10083ff     sub    sp, sp, #0x20   // \n",
    "    400588:    b9001fe0     str    w0, [sp, #28]   // \n",
    "    40058c:    f9000be1     str    x1, [sp, #16]   // \n",
    "    400590:    f9400be8     ldr    x8, [sp, #16]   // \n",
    "    400594:    b9400109     ldr    w9, [x8]        // \n",
    "    400598:    b9000fe9     str    w9, [sp, #12]   // \n",
    "    40059c:    b9401fe9     ldr    w9, [sp, #28]   // \n",
    "    4005a0:    b9400fea     ldr    w10, [sp, #12]  // \n",
    "    4005a4:    0b0a0129     add    w9, w9, w10     // \n",
    "    4005a8:    b9000be9     str    w9, [sp, #8]    // \n",
    "    4005ac:    b9400be0     ldr    w0, [sp, #8]    // \n",
    "    4005b0:    910083ff     add    sp, sp, #0x20   // \n",
    "    4005b4:    d65f03c0     ret                    // \n",
    "```"
   ]
  },
  {
   "cell_type": "markdown",
   "id": "54035356-a49f-4c50-a205-d37070b82906",
   "metadata": {
    "slideshow": {
     "slide_type": "skip"
    },
    "tags": [
     "worksheet-only"
    ]
   },
   "source": [
    "🛑 **STOP here** after completing the above question; if you have extra time please **skip ahead** to the extra practice.\n",
    "\n",
    "<div style=\"page-break-after:always;\"></div>"
   ]
  },
  {
   "cell_type": "markdown",
   "id": "4a887b71-9282-4c01-9b04-fb1a699cdb5f",
   "metadata": {
    "slideshow": {
     "slide_type": "skip"
    },
    "tags": []
   },
   "source": [
    "## Tracing assembly code example"
   ]
  },
  {
   "cell_type": "markdown",
   "id": "050d7b45-5461-479b-908a-20b1211ed04a",
   "metadata": {
    "slideshow": {
     "slide_type": "skip"
    },
    "tags": [
     "notes-only"
    ]
   },
   "source": [
    "* Contents of the stack and registers when the function starts executing\n",
    "    ```\n",
    "    sp = 0xFB0\n",
    "    w/x0 = 2\n",
    "    w/x1 = 0xFC8 \n",
    "    ```\n",
    "    ```\n",
    "     sp -> +--+--+--+--+--+--+--+--+\n",
    "     0xFB0 |                       |\n",
    "           +--+--+--+--+--+--+--+--+\n",
    "     0xFB8 |                       |\n",
    "           +--+--+--+--+--+--+--+--+\n",
    "     0xFC0 |         0xFC8         |\n",
    "           +--+--+--+--+--+--+--+--+\n",
    "     0xFC8 |     3     |     2     |\n",
    "           +--+--+--+--+--+--+--+--+\n",
    "     0xFD0 |       0x400618        |\n",
    "           +--+--+--+--+--+--+--+--+\n",
    "     0xFD8 |                       |\n",
    "           +--+--+--+--+--+--+--+--+\n",
    "    ```"
   ]
  },
  {
   "cell_type": "markdown",
   "id": "514604e2-5b2a-4420-ac90-168bf23bace3",
   "metadata": {
    "slideshow": {
     "slide_type": "skip"
    },
    "tags": [
     "notes-only"
    ]
   },
   "source": [
    "* Contents of the stack and registers *before* executing second-to-last assembly instruction (`add    sp, sp, #0x20`)\n",
    "    ```\n",
    "    sp = 0xF90\n",
    "    w/x0 = 5\n",
    "    w/x1 = 0xFC8\n",
    "    w/x8 = 0xFC8\n",
    "    w/x9 = 5\n",
    "    w/x10 = 3\n",
    "    ```\n",
    "    ```\n",
    "           0  1  2  3  4  5  6  7  8\n",
    "     sp -> +--+--+--+--+--+--+--+--+\n",
    "     0xF90 |                       |\n",
    "           +--+--+--+--+--+--+--+--+\n",
    "     0xF98 |     5     |     3     |\n",
    "           +--+--+--+--+--+--+--+--+\n",
    "     0xFA0 |         0xFC8         |\n",
    "           +--+--+--+--+--+--+--+--+\n",
    "     0xFA8 |           |     2     |\n",
    "           +--+--+--+--+--+--+--+--+\n",
    "     0xFB0 |                       |\n",
    "           +--+--+--+--+--+--+--+--+\n",
    "     0xFB8 |                       |\n",
    "           +--+--+--+--+--+--+--+--+\n",
    "     0xFC0 |         0xFC8         |\n",
    "           +--+--+--+--+--+--+--+--+\n",
    "     0xFC8 |     3     |     2     |\n",
    "           +--+--+--+--+--+--+--+--+\n",
    "     0xFD0 |       0x400618        |\n",
    "           +--+--+--+--+--+--+--+--+\n",
    "     0xFD8 |                       |\n",
    "           +--+--+--+--+--+--+--+--+\n",
    "    ```"
   ]
  },
  {
   "cell_type": "markdown",
   "id": "e36f3d63-c89b-402a-b6f9-a20cb9e8e6ec",
   "metadata": {
    "slideshow": {
     "slide_type": "slide"
    },
    "tags": []
   },
   "source": [
    "## Practice tracing assembly code"
   ]
  },
  {
   "cell_type": "markdown",
   "id": "97ee6345-7edd-4b7b-8dd0-f8a40021d754",
   "metadata": {
    "slideshow": {
     "slide_type": "skip"
    },
    "tags": []
   },
   "source": [
    "Q2: _Assume the following assembly code was generated (using `gcc`) for a C function with the prototype `int seasons_of_love()`:_"
   ]
  },
  {
   "cell_type": "markdown",
   "id": "5dac965d-9f06-454e-a736-6948ebedd6ec",
   "metadata": {},
   "source": [
    "```\n",
    "00000000000007ac <seasons_of_love>:\n",
    "    7ac:   d10083ff        sub     sp, sp, #0x20\n",
    "    7b0:   52802da0        mov     w0, #0x16d   // 365\n",
    "    7b4:   b9000fe0        str     w0, [sp, #12]\n",
    "    7b8:   52800300        mov     w0, #0x18    // 24\n",
    "    7bc:   b90013e0        str     w0, [sp, #16]\n",
    "    7c0:   52800780        mov     w0, #0x3c    // 60\n",
    "    7c4:   b90017e0        str     w0, [sp, #20]\n",
    "    7c8:   b9400fe1        ldr     w1, [sp, #12]\n",
    "    7cc:   b94013e0        ldr     w0, [sp, #16]\n",
    "    7d0:   1b007c20        mul     w0, w1, w0\n",
    "    7d4:   b9001be0        str     w0, [sp, #24]\n",
    "    7d8:   b9401be1        ldr     w1, [sp, #24]\n",
    "    7dc:   b94017e0        ldr     w0, [sp, #20]\n",
    "    7e0:   1b007c20        mul     w0, w1, w0   \n",
    "    7e4:   b9001fe0        str     w0, [sp, #28]\n",
    "    7e8:   b9401fe0        ldr     w0, [sp, #28]\n",
    "    7ec:   910083ff        add     sp, sp, #0x20\n",
    "    7f0:   d65f03c0        ret\n",
    "```"
   ]
  },
  {
   "cell_type": "markdown",
   "id": "ff024bae-cb0b-4d0f-8a09-83b0773f63a2",
   "metadata": {
    "tags": []
   },
   "source": [
    "_Draw the contents of the stack and registers just prior to the execution of the second-to-last instruction (`add sp, sp, #0x20`). Assume the initial value in the `sp` register is `0x7FE0`._"
   ]
  },
  {
   "cell_type": "markdown",
   "id": "e104dee5-0420-45a5-a1dd-9c2af65a448b",
   "metadata": {
    "slideshow": {
     "slide_type": "skip"
    },
    "tags": [
     "worksheet-only"
    ]
   },
   "source": [
    "<p style=\"height:28em;\"></p>\n",
    "\n",
    "🛑 **STOP here** after completing the above question; if you have extra time please **skip ahead** to the extra practice.\n",
    "\n",
    "<div style=\"page-break-after:always;\"></div>"
   ]
  },
  {
   "cell_type": "markdown",
   "id": "65a65754-337a-4da2-b18b-803c99144bcc",
   "metadata": {
    "slideshow": {
     "slide_type": "slide"
    },
    "tags": []
   },
   "source": [
    "## Practice mapping, translating, and tracing assembly code"
   ]
  },
  {
   "cell_type": "markdown",
   "id": "cb5a5104-ea18-4715-bc73-4b050eaf5072",
   "metadata": {
    "slideshow": {
     "slide_type": "skip"
    },
    "tags": []
   },
   "source": [
    "Q3: _The following C code was compiled into assembly (using `gcc`)._"
   ]
  },
  {
   "cell_type": "code",
   "execution_count": null,
   "id": "897583ab-2be7-4e6f-a091-1294e55b439a",
   "metadata": {},
   "outputs": [],
   "source": [
    "/*1*/  int divide(int numerator, int denominator) {\n",
    "/*2*/      int result = -1;\n",
    "/*3*/      result = numerator / denominator;\n",
    "/*4*/      return result;\n",
    "/*5*/  }"
   ]
  },
  {
   "cell_type": "markdown",
   "id": "bd3f51f0-54c0-4e36-9987-0ceee9b8c445",
   "metadata": {
    "slideshow": {
     "slide_type": "skip"
    },
    "tags": []
   },
   "source": [
    "_For each line of assembly:_\n",
    "1. _Indicate which original line of C code (above) the assembly instruction was derived from; and_\n",
    "2. _Write the low-level C code equivalent of the assembly instruction, treating registers as if they were variable names._"
   ]
  },
  {
   "cell_type": "markdown",
   "id": "09163450-9039-4b98-a97f-1e85c0324bc5",
   "metadata": {
    "slideshow": {
     "slide_type": "skip"
    },
    "tags": [
     "notes-only"
    ]
   },
   "source": [
    "```\n",
    "000000000000076c <divide>:                      // Line     Low-level C\n",
    "    76c:    d10083ff     sub    sp, sp, #0x20   // 1        sp = sp - 0x20\n",
    "    770:    b9000fe0     str    w0, [sp, #12]   // 1        *(sp+12) = w0\n",
    "    774:    b9000be1     str    w1, [sp, #8]    // 1        *(sp+8) = w1\n",
    "    778:    12800000     mov    w0, #0xffffffff // 2        w0 = 0xffffffff\n",
    "    77c:    b9001fe0     str    w0, [sp, #28]   // 2        *(sp+28) = w0\n",
    "    780:    b9400fe1     ldr    w1, [sp, #12]   // 3        w1 = *(sp+12)\n",
    "    784:    b9400be0     ldr    w0, [sp, #8]    // 3        w0 = *(sp+8)\n",
    "    788:    1ac00c20     sdiv   w0, w1, w0      // 3        w0 = w1/w0\n",
    "    78c:    b9001fe0     str    w0, [sp, #28]   // 3        *(sp+28) = w0\n",
    "    790:    b9401fe0     ldr    w0, [sp, #28]   // 4        w0 = *(sp+28)\n",
    "    794:    910083ff     add    sp, sp, #0x20   // 4        sp = sp + 0x20\n",
    "    798:    d65f03c0     ret                    // 4        return\n",
    "```"
   ]
  },
  {
   "cell_type": "markdown",
   "id": "e52baf6e-b98a-4d98-a8d4-eb08a6979e2c",
   "metadata": {
    "tags": [
     "worksheet-only"
    ]
   },
   "source": [
    "```\n",
    "000000000000076c <divide>:                      // Line     Low-level C\n",
    "    76c:    d10083ff     sub    sp, sp, #0x20   // \n",
    "    770:    b9000fe0     str    w0, [sp, #12]   // \n",
    "    774:    b9000be1     str    w1, [sp, #8]    // \n",
    "    778:    12800000     mov    w0, #0xffffffff // \n",
    "    77c:    b9001fe0     str    w0, [sp, #28]   // \n",
    "    780:    b9400fe1     ldr    w1, [sp, #12]   // \n",
    "    784:    b9400be0     ldr    w0, [sp, #8]    // \n",
    "    788:    1ac00c20     sdiv   w0, w1, w0      // \n",
    "    78c:    b9001fe0     str    w0, [sp, #28]   //\n",
    "    790:    b9401fe0     ldr    w0, [sp, #28]   // \n",
    "    794:    910083ff     add    sp, sp, #0x20   // \n",
    "    798:    d65f03c0     ret                    // \n",
    "```"
   ]
  },
  {
   "cell_type": "markdown",
   "id": "74afdce8-a887-45c9-96f5-a2405c243cf7",
   "metadata": {
    "tags": []
   },
   "source": [
    "Q4: _Assume the registers initially hold the following values:_\n",
    "```\n",
    "sp = 0xFE0\n",
    "w/x0 = 100\n",
    "w/x1 = 5\n",
    "```\n",
    "_Draw the contents of the stack and registers just prior to the execution of the second-to-last instruction (`add sp, sp, #0x10`) above._"
   ]
  },
  {
   "cell_type": "markdown",
   "id": "541cf4ce-d3ce-4bcc-8ebf-ab71e1d46681",
   "metadata": {
    "slideshow": {
     "slide_type": "skip"
    },
    "tags": [
     "worksheet-only"
    ]
   },
   "source": [
    "<div style=\"page-break-after:always;\"></div>"
   ]
  },
  {
   "cell_type": "markdown",
   "id": "a82d425b-2220-4a29-9e28-64dbb110b731",
   "metadata": {
    "slideshow": {
     "slide_type": "slide"
    },
    "tags": []
   },
   "source": [
    "## Extra practice"
   ]
  },
  {
   "cell_type": "markdown",
   "id": "d5358bfd-652e-4c68-9ece-3263651ea34e",
   "metadata": {
    "slideshow": {
     "slide_type": "skip"
    },
    "tags": []
   },
   "source": [
    "Q5: _Assume the following assembly code was generated (using `gcc`) for a C function with the prototype `int years_to_double(int rate)`:_"
   ]
  },
  {
   "cell_type": "markdown",
   "id": "3473cf46-cf7d-4842-a2c4-ad8eeddb63e0",
   "metadata": {
    "tags": [
     "notes-only"
    ]
   },
   "source": [
    "```\n",
    "000000000000076c <years_to_double>:\n",
    "    76c:    d10083ff     sub    sp, sp, #0x20\n",
    "    770:    b9000fe0     str    w0, [sp, #12]\n",
    "    774:    52800900     mov    w0, #0x48   // 72\n",
    "    778:    b9001be0     str    w0, [sp, #24]\n",
    "    77c:    b9401be1     ldr    w1, [sp, #24]\n",
    "    780:    b9400fe0     ldr    w0, [sp, #12]\n",
    "    784:    1ac00c20     sdiv   w0, w1, w0\n",
    "    788:    b9001fe0     str    w0, [sp, #28]\n",
    "    78c:    b9401fe0     ldr    w0, [sp, #28]\n",
    "    790:    910083ff     add    sp, sp, #0x20\n",
    "    794:    d65f03c0     ret\n",
    "```"
   ]
  },
  {
   "cell_type": "markdown",
   "id": "c5082200-7d21-4c1c-8414-e8967e7526e4",
   "metadata": {
    "tags": []
   },
   "source": [
    "_Assume the registers initially hold the following values:_\n",
    "```\n",
    "sp = 0x780\n",
    "w/x0 = 9\n",
    "```\n",
    "_Draw the contents of the stack and registers just prior to the execution of the second-to-last instruction (`add sp, sp, #0x10`) above._"
   ]
  }
 ],
 "metadata": {
  "kernelspec": {
   "display_name": "C",
   "language": "c",
   "name": "c"
  },
  "language_info": {
   "file_extension": ".c",
   "mimetype": "c",
   "name": "c"
  }
 },
 "nbformat": 4,
 "nbformat_minor": 5
}
