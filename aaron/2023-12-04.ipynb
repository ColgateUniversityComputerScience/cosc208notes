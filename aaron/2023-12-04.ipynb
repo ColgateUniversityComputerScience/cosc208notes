{
 "cells": [
  {
   "cell_type": "markdown",
   "id": "33410e11-322f-4e1e-979b-fe8de0e69a0e",
   "metadata": {
    "slideshow": {
     "slide_type": "skip"
    },
    "tags": []
   },
   "source": [
    "# Virtualization: containers\n",
    "_COSC 208, Introduction to Computer Systems, 2023-12-04_"
   ]
  },
  {
   "cell_type": "markdown",
   "id": "7b745dbf-4bfa-4331-87b1-1d6d0518484f",
   "metadata": {
    "slideshow": {
     "slide_type": "skip"
    },
    "tags": []
   },
   "source": [
    "## Announcements\n",
    "* Project 4 due Thursday @ 11pm\n",
    "* Specify when you will take the final exam: https://forms.gle/SV4aG6C5G3g8Cjba8\n",
    "    * Monday, Dec 11 12pm-2pm in McGregory 314 (registrar assigned slot for section A)\n",
    "    * Friday, Dec 15 12pm-2pm in Perrson 007 (registrar assigned slot for section C)\n",
    "    * Friday, Dec 15 3pm-5pm in McGregory 314 (registrar assigned slot for section B)"
   ]
  },
  {
   "cell_type": "markdown",
   "id": "91a6b9f6-e5e2-4677-8e45-9d026953759b",
   "metadata": {
    "slideshow": {
     "slide_type": "skip"
    },
    "tags": []
   },
   "source": [
    "## Outline\n",
    "* SETs\n",
    "* Warm-up\n",
    "* Containers"
   ]
  },
  {
   "cell_type": "markdown",
   "id": "1134e57c-fb3e-44da-9d13-fdd42f3f6094",
   "metadata": {},
   "source": [
    "## Warm-up"
   ]
  },
  {
   "cell_type": "markdown",
   "id": "2f638d8d-c5d3-461b-bfbf-11495cbd996e",
   "metadata": {},
   "source": [
    "* Q1: _Draw a diagram of a system that does **not** use a hypervisor or containers._"
   ]
  },
  {
   "cell_type": "markdown",
   "id": "44f5088a-7533-4ef1-8c16-b8760a5eb1bb",
   "metadata": {
    "slideshow": {
     "slide_type": "skip"
    },
    "tags": [
     "notes-only"
    ]
   },
   "source": [
    "```\n",
    "+----+ +----+\n",
    "|Proc| |Proc|\n",
    "+----+ +----+\n",
    "+-----------+\n",
    "|    OS     |\n",
    "+-----------+\n",
    "+-----------+\n",
    "|  Hardware |\n",
    "+-----------+\n",
    "```"
   ]
  },
  {
   "cell_type": "markdown",
   "id": "df217f8c-3418-4a0a-a8e2-6d19b8d36b71",
   "metadata": {
    "slideshow": {
     "slide_type": "skip"
    },
    "tags": [
     "worksheet-only"
    ]
   },
   "source": [
    "<p style=\"height:10em;\"></p>"
   ]
  },
  {
   "cell_type": "markdown",
   "id": "6e0efd5c-ba40-4b4d-a8e0-690ae44357da",
   "metadata": {},
   "source": [
    "* Q2: _Draw a diagram of a system that uses a **type 1 hypervisor**._"
   ]
  },
  {
   "cell_type": "markdown",
   "id": "53f1982d-ac4f-4b02-9305-ea2a7eaaaf42",
   "metadata": {
    "slideshow": {
     "slide_type": "skip"
    },
    "tags": [
     "notes-only"
    ]
   },
   "source": [
    "```\n",
    "+-------------+ +-------------+\n",
    "|     VM      | |     VM      |\n",
    "|+----+ +----+| |+----+ +----+|\n",
    "||Proc| |Proc|| ||Proc| |Proc||\n",
    "|+----+ +----+| |+----+ +----+|\n",
    "|+-----------+| |+-----------+|\n",
    "||    OS     || ||    OS     ||\n",
    "|+-----------+| |+-----------+|\n",
    "+-------------+ +-------------+\n",
    "+-----------------------------+\n",
    "|          Hypervisor         |\n",
    "+-----------------------------+\n",
    "+-----------------------------+\n",
    "|           Hardware          |\n",
    "+-----------------------------+\n",
    "```"
   ]
  },
  {
   "cell_type": "markdown",
   "id": "636a291a-c6a0-4a51-b824-6f36160ec57e",
   "metadata": {
    "slideshow": {
     "slide_type": "skip"
    },
    "tags": [
     "worksheet-only"
    ]
   },
   "source": [
    "<p style=\"height:10em;\"></p>"
   ]
  },
  {
   "cell_type": "markdown",
   "id": "3f874e4d-eb43-4161-8ca3-87518335964c",
   "metadata": {},
   "source": [
    "* Q3: _Draw a diagram of a system that uses a **type 2 hypervisor**._"
   ]
  },
  {
   "cell_type": "markdown",
   "id": "3c1f2b72-b2be-412d-bdae-e37e1bcb3321",
   "metadata": {
    "slideshow": {
     "slide_type": "skip"
    },
    "tags": [
     "notes-only"
    ]
   },
   "source": [
    "```\n",
    "              +-------------+ +-------------+\n",
    "              |     VM      | |     VM      |\n",
    "              |+----+ +----+| |+----+ +----+|\n",
    "              ||Proc| |Proc|| ||Proc| |Proc||\n",
    "              |+----+ +----+| |+----+ +----+|\n",
    "              |+-----------+| |+-----------+|\n",
    "              || Guest OS  || || Guest OS  ||\n",
    "              |+-----------+| |+-----------+|\n",
    "              +-------------+ +-------------+\n",
    "+----+ +----+ +-----------------------------+\n",
    "|Proc| |Proc| |          Hypervisor         |\n",
    "+----+ +----+ +-----------------------------+\n",
    "+-------------------------------------------+\n",
    "|                 Host OS                   |\n",
    "+-------------------------------------------+\n",
    "+-------------------------------------------+\n",
    "|                Hardware                   |\n",
    "+-------------------------------------------+\n",
    "```"
   ]
  },
  {
   "cell_type": "markdown",
   "id": "6fce365f-56b1-432a-a2d9-a790ae098d7b",
   "metadata": {
    "slideshow": {
     "slide_type": "skip"
    },
    "tags": [
     "worksheet-only"
    ]
   },
   "source": [
    "<p style=\"height:10em;\"></p>\n",
    "\n",
    "🛑 **STOP here** after completing the above questions; if you have extra time take a few deep breaths to reduce stress."
   ]
  },
  {
   "cell_type": "markdown",
   "id": "f01342dd-6255-491f-849d-66fbe5a1dddb",
   "metadata": {
    "slideshow": {
     "slide_type": "skip"
    },
    "tags": [
     "notes-only"
    ]
   },
   "source": [
    "## Containers"
   ]
  },
  {
   "cell_type": "markdown",
   "id": "a8c1945d-de2d-4763-8375-f9211214cb66",
   "metadata": {
    "slideshow": {
     "slide_type": "skip"
    },
    "tags": [
     "notes-only"
    ]
   },
   "source": [
    "* Containers — use a single OS, but create groups of processes that are isolated from other processes\n",
    "    * OS's process abstraction already isolates each process's CPU time, memory, and registers, but processes can still use syscalls to pass messages to each other, wait for each other, access a common set of files, etc.\n",
    "* Containers share the kernel — i.e., core OS functionality like syscalls, scheduler, I/O interface\n",
    "    * VMs do **not** share the kernel\n",
    "* Containers and VMs do **not** share the file system ==> containers and virtual machines do **not** share libraries, executables, etc.\n",
    "* Containers and VMs do **not** share user accounts\n",
    "* Containers and VMs do **not** share network stacks ==> e.g., each container or VM has its own Internet Protocol (IP) address\n",
    "* Compute and storage resources (e.g., CPU, memory) available to containers and VMs can be limited\n",
    "* Containers and VMs share the hardware"
   ]
  }
 ],
 "metadata": {
  "kernelspec": {
   "display_name": "C",
   "language": "c",
   "name": "c"
  },
  "language_info": {
   "file_extension": ".c",
   "mimetype": "c",
   "name": "c"
  }
 },
 "nbformat": 4,
 "nbformat_minor": 5
}
