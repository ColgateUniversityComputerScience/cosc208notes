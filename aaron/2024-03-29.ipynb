{
 "cells": [
  {
   "cell_type": "markdown",
   "id": "39d76db8-edb9-47d5-bec8-7998805660b3",
   "metadata": {
    "slideshow": {
     "slide_type": "skip"
    },
    "tags": []
   },
   "source": [
    "# Assembly: conditionals\n",
    "_COSC 208, Introduction to Computer Systems, 2024-03-29_"
   ]
  },
  {
   "cell_type": "markdown",
   "id": "37653a99-1c8a-47ac-b68c-6e7336bb8328",
   "metadata": {
    "slideshow": {
     "slide_type": "skip"
    },
    "tags": []
   },
   "source": [
    "## Announcements\n",
    "* Quiz 4 Wednesday\n",
    "    * 2.4: Correct memory errors in C **code** with the assistance of a compiler and valgrind\n",
    "    * 3.1: Design single- and multi-bit circuits for arithmetic and comparison operators\n",
    "    * 3.2: Design a simple processing unit and explain how it executes assembly instructions\n",
    "    * 4.1: Interpret ARM assembly code\n",
    "    * 4.2: Determine the relationship between C code and ARM assembly code\n",
    "    * Optional:\n",
    "        * 2.1: Determine the contents of the stack and heap during a program’s execution\n",
    "        * 2.2: Develop C **code** that appropriately uses arrays and pointer arithmetic"
   ]
  },
  {
   "cell_type": "markdown",
   "id": "f17866fc-fc93-480c-a9a5-d903a0657063",
   "metadata": {
    "slideshow": {
     "slide_type": "skip"
    },
    "tags": []
   },
   "source": [
    "## Outline\n",
    "* Warm-up\n",
    "* Mapping C conditionals to assembly\n",
    "* Transforming C code to goto-form\n",
    "* Practice with conditionals"
   ]
  },
  {
   "cell_type": "markdown",
   "id": "cba1360f-3378-40b4-9e25-b5896ad18424",
   "metadata": {
    "slideshow": {
     "slide_type": "slide"
    },
    "tags": []
   },
   "source": [
    "## Warm-up"
   ]
  },
  {
   "cell_type": "markdown",
   "id": "93d675cb-713d-4777-b0be-6846eba72800",
   "metadata": {
    "tags": []
   },
   "source": [
    "* Q1: _When would the following function result in an error? How would you modify the code to avoid this error?_"
   ]
  },
  {
   "cell_type": "code",
   "execution_count": null,
   "id": "897583ab-2be7-4e6f-a091-1294e55b439a",
   "metadata": {},
   "outputs": [],
   "source": [
    "/*1*/  int divide(unsigned int numerator, unsigned int denominator) {\n",
    "/*2*/      int result = -1;\n",
    "/*3*/      result = numerator / denominator;\n",
    "/*4*/      return result;\n",
    "/*5*/  }"
   ]
  },
  {
   "cell_type": "markdown",
   "id": "490f7a6d-5702-4d24-8db4-fad675ba3d47",
   "metadata": {
    "slideshow": {
     "slide_type": "skip"
    },
    "tags": [
     "worksheet-only"
    ]
   },
   "source": [
    "<p style=\"height:6em;\"></p>\n",
    "\n",
    "🛑 **STOP here** after completing the above question; if you have extra time please **skip ahead** to the extra practice.\n",
    "\n",
    "<div style=\"page-break-after:always;\"></div>"
   ]
  },
  {
   "cell_type": "markdown",
   "id": "a176dd9c-601e-4bdb-864a-1592fea894b6",
   "metadata": {
    "slideshow": {
     "slide_type": "slide"
    },
    "tags": []
   },
   "source": [
    "## Mapping C conditionals to assembly"
   ]
  },
  {
   "cell_type": "code",
   "execution_count": null,
   "id": "07c57368-0a2f-4f2d-bef3-b2eed13d432b",
   "metadata": {},
   "outputs": [],
   "source": [
    "/*1*/  int divide_safe(unsigned int numerator, unsigned int denominator) {\n",
    "/*2*/      int result = -1;\n",
    "/*3*/      if (denominator != 0) {\n",
    "/*4*/          result = numerator / denominator;\n",
    "/*5*/      }\n",
    "/*6*/      return result;\n",
    "/*7*/  }"
   ]
  },
  {
   "cell_type": "markdown",
   "id": "defbaade-9145-4030-9049-e770dc1d2e65",
   "metadata": {
    "slideshow": {
     "slide_type": "skip"
    },
    "tags": [
     "notes-only"
    ]
   },
   "source": [
    "```\n",
    "000000000000076c <divide_safe>:                     // Line\n",
    "    76c:    d10083ff     sub    sp, sp, #0x20       // 1\n",
    "    770:    b9000fe0     str    w0, [sp, #12]       // 1\n",
    "    774:    b9000be1     str    w1, [sp, #8]        // 1\n",
    "    778:    12800000     mov    w0, #0xffffffff     // 2\n",
    "    77c:    b9001fe0     str    w0, [sp, #28]       // 2\n",
    "    780:    b9400be0     ldr    w0, [sp, #8]        // 3\n",
    "    784:    7100001f     cmp    w0, #0x0            // 3\n",
    "    788:    540000a0     b.eq   79c <divide_safe+0x30> // 3\n",
    "    78c:    b9400fe1     ldr    w1, [sp, #12]       // 4\n",
    "    790:    b9400be0     ldr    w0, [sp, #8]        // 4\n",
    "    794:    1ac00c20     udiv   w0, w1, w0          // 4\n",
    "    798:    b9001fe0     str    w0, [sp, #28]       // 4\n",
    "    79c:    b9401fe0     ldr    w0, [sp, #28]       // 6\n",
    "    7a0:    910083ff     add    sp, sp, #0x20       // 6\n",
    "    7a4:    d65f03c0     ret                        // 6\n",
    "```"
   ]
  },
  {
   "cell_type": "markdown",
   "id": "c20bede3-4751-4766-b756-b0094ad1dd62",
   "metadata": {
    "tags": [
     "worksheet-only"
    ]
   },
   "source": [
    "```\n",
    "000000000000076c <divide_safe>:\n",
    "    76c:    d10083ff     sub    sp, sp, #0x20\n",
    "    770:    b9000fe0     str    w0, [sp, #12]\n",
    "    774:    b9000be1     str    w1, [sp, #8]\n",
    "    778:    12800000     mov    w0, #0xffffffff\n",
    "    77c:    b9001fe0     str    w0, [sp, #28]\n",
    "    780:    b9400be0     ldr    w0, [sp, #8]\n",
    "    784:    7100001f     cmp    w0, #0x0\n",
    "    788:    540000a0     b.eq   79c <divide_safe+0x30>\n",
    "    78c:    b9400fe1     ldr    w1, [sp, #12]\n",
    "    790:    b9400be0     ldr    w0, [sp, #8]\n",
    "    794:    1ac00c20     udiv   w0, w1, w0\n",
    "    798:    b9001fe0     str    w0, [sp, #28]\n",
    "    79c:    b9401fe0     ldr    w0, [sp, #28]\n",
    "    7a0:    910083ff     add    sp, sp, #0x20\n",
    "    7a4:    d65f03c0     ret\n",
    "```"
   ]
  },
  {
   "cell_type": "markdown",
   "id": "7585e818-a0bd-4a41-950c-9974a575d97d",
   "metadata": {
    "slideshow": {
     "slide_type": "skip"
    },
    "tags": [
     "notes-only"
    ]
   },
   "source": [
    "* _What does the `cmp` instruction do?_ — compares a register's value to another value\n",
    "* _What does the `b.eq` instruction do?_ — \"jumps\" (i.e., branches) to a different instruction when the compared values are equal\n",
    "* _Why does the assembly check if `w0 == 0` when the C code contains `!= 0`?_ — the C code checks for the condition that must be true to execute the if body, whereas the assembly code checks for the condition that must be true to **skip over** the if body"
   ]
  },
  {
   "cell_type": "markdown",
   "id": "690cb9cd-a27b-42e3-9d5e-4663d55a44dc",
   "metadata": {
    "slideshow": {
     "slide_type": "skip"
    },
    "tags": [
     "notes-only"
    ]
   },
   "source": [
    "## Transforming C code to goto-form"
   ]
  },
  {
   "cell_type": "markdown",
   "id": "b4ac2e83-528c-4570-93b9-90ec0e3a3ae4",
   "metadata": {
    "slideshow": {
     "slide_type": "skip"
    },
    "tags": [
     "notes-only"
    ]
   },
   "source": [
    "* _How would we express this in C code?_ — using an if statement and a `goto` statement"
   ]
  },
  {
   "cell_type": "code",
   "execution_count": null,
   "id": "a6409a9e-2a28-4369-ae85-702fb043bfbb",
   "metadata": {
    "slideshow": {
     "slide_type": "skip"
    },
    "tags": [
     "notes-only"
    ]
   },
   "outputs": [],
   "source": [
    "/*1*/  int divide_safe_goto(int numerator, int denominator) {\n",
    "/*2*/      int result = -1;\n",
    "/*3*/      if (denominator == 0)\n",
    "/*4*/          goto after;\n",
    "/*5*/      result = numerator / denominator;\n",
    "/*6*/  after:\n",
    "/*7*/      return result;\n",
    "/*8*/  }"
   ]
  },
  {
   "cell_type": "markdown",
   "id": "2779d2e6-5252-44aa-99cc-0cad6f0f90eb",
   "metadata": {
    "slideshow": {
     "slide_type": "skip"
    },
    "tags": [
     "notes-only"
    ]
   },
   "source": [
    "* _What happens if the code includes an else statement?_ — if condition is true, execute the if body and skip over the else body; if condition is false, skip over the if body and execute the else body"
   ]
  },
  {
   "cell_type": "markdown",
   "id": "a31f414c-e7d7-4ef0-94cd-0a77a676f4e5",
   "metadata": {
    "slideshow": {
     "slide_type": "skip"
    },
    "tags": [
     "worksheet-only"
    ]
   },
   "source": [
    "<div style=\"page-break-after:always;\"></div>"
   ]
  },
  {
   "cell_type": "markdown",
   "id": "f7b77b9a-49c9-41ac-afd8-7801c0e64367",
   "metadata": {
    "slideshow": {
     "slide_type": "slide"
    },
    "tags": []
   },
   "source": [
    "## Practice with conditionals"
   ]
  },
  {
   "cell_type": "markdown",
   "id": "fd886bfb-fd19-49d0-b0e6-37d00f0b57a8",
   "metadata": {
    "slideshow": {
     "slide_type": "skip"
    },
    "tags": []
   },
   "source": [
    "* _The C code below was compiled into assembly (using `gcc`)._"
   ]
  },
  {
   "cell_type": "code",
   "execution_count": null,
   "id": "97026190-1907-4d70-a108-e465b94f9be1",
   "metadata": {},
   "outputs": [],
   "source": [
    "/* 1*/  int flip(int bit) {\n",
    "/* 2*/     int result = -1;\n",
    "/* 3*/     if (bit == 0) {\n",
    "/* 4*/          result = 1; \n",
    "/* 5*/      } \n",
    "/* 6*/      else {\n",
    "/* 7*/          result = 0;\n",
    "/* 8*/      }\n",
    "/* 9*/      return result;\n",
    "/*10*/ }"
   ]
  },
  {
   "cell_type": "markdown",
   "id": "b4cf9cd9-fa2d-46ef-b63d-4c91724e91c7",
   "metadata": {
    "slideshow": {
     "slide_type": "skip"
    },
    "tags": []
   },
   "source": [
    "* Q3: _For each line of assembly, indicate which original line of C code the assembly instruction was derived from._"
   ]
  },
  {
   "cell_type": "markdown",
   "id": "7c556f8a-6c17-4d87-8695-b1d35c1c559f",
   "metadata": {
    "slideshow": {
     "slide_type": "skip"
    },
    "tags": [
     "notes-only"
    ]
   },
   "source": [
    "```\n",
    "000000000000071c <flip>:                            // Line\n",
    "    71c:    d10083ff     sub    sp, sp, #0x20       // 1\n",
    "    720:    b9000fe0     str    w0, [sp, #12]       // 1\n",
    "    724:    12800000     mov    w0, #0xffffffff     // 2\n",
    "    728:    b9001fe0     str    w0, [sp, #28]       // 2\n",
    "    72c:    b9400fe0     ldr    w0, [sp, #12]       // 3\n",
    "    730:    7100001f     cmp    w0, #0x0            // 3\n",
    "    734:    54000081     b.ne   744 <flip+0x28>     // 3\n",
    "    738:    52800020     mov    w0, #0x1            // 4\n",
    "    73c:    b9001fe0     str    w0, [sp, #28]       // 4\n",
    "    740:    14000002     b      748 <flip+0x2c>     // 5\n",
    "    744:    b9001fff     str    wzr, [sp, #28]      // 7\n",
    "    748:    b9401fe0     ldr    w0, [sp, #28]       // 9\n",
    "    74c:    910083ff     add    sp, sp, #0x20       // 9\n",
    "    750:    d65f03c0     ret                        // 9\n",
    "```"
   ]
  },
  {
   "cell_type": "markdown",
   "id": "8ce6d873-e318-435a-88e1-fe8136166b46",
   "metadata": {
    "tags": [
     "worksheet-only"
    ]
   },
   "source": [
    "```\n",
    "000000000000071c <flip>:                            // Line\n",
    "    71c:    d10083ff     sub    sp, sp, #0x20       // \n",
    "    720:    b9000fe0     str    w0, [sp, #12]       // \n",
    "    724:    12800000     mov    w0, #0xffffffff     // \n",
    "    728:    b9001fe0     str    w0, [sp, #28]       // \n",
    "    72c:    b9400fe0     ldr    w0, [sp, #12]       // \n",
    "    730:    7100001f     cmp    w0, #0x0            //\n",
    "    734:    54000081     b.ne   744 <flip+0x28>     // \n",
    "    738:    52800020     mov    w0, #0x1            // \n",
    "    73c:    b9001fe0     str    w0, [sp, #28]       // \n",
    "    740:    14000002     b      748 <flip+0x2c>     // \n",
    "    744:    b9001fff     str    wzr, [sp, #28]      // \n",
    "    748:    b9401fe0     ldr    w0, [sp, #28]       // \n",
    "    74c:    910083ff     add    sp, sp, #0x20       // \n",
    "    750:    d65f03c0     ret                        // \n",
    "```"
   ]
  },
  {
   "cell_type": "markdown",
   "id": "8526f51f-6491-4927-98a6-08bbcba245b5",
   "metadata": {
    "slideshow": {
     "slide_type": "skip"
    },
    "tags": []
   },
   "source": [
    "* Q4: _Write a function called `flip_goto` that behaves the same as `flip` but matches the structure of the assembly code that will be generated for `flip`. (Hint: you'll need two `goto` statements.)_"
   ]
  },
  {
   "cell_type": "code",
   "execution_count": null,
   "id": "1102f233-34df-48d6-b608-7778d3387076",
   "metadata": {
    "slideshow": {
     "slide_type": "skip"
    },
    "tags": [
     "notes-only"
    ]
   },
   "outputs": [],
   "source": [
    "int flip_goto(int bit) {\n",
    "    int result = -1;\n",
    "    if (bit != 0)\n",
    "        goto else_body;\n",
    "    result = 1; \n",
    "    goto after_else;\n",
    "else_body:\n",
    "    result = 0;\n",
    "after_else:\n",
    "    return result;\n",
    "}"
   ]
  },
  {
   "cell_type": "markdown",
   "id": "04a83cf2-fd22-484e-a779-65c11e655301",
   "metadata": {
    "slideshow": {
     "slide_type": "skip"
    },
    "tags": [
     "worksheet-only"
    ]
   },
   "source": [
    "<p style=\"height:20em;\"></p>\n",
    "\n",
    "🛑 **STOP here** after completing the above question; if you have extra time please **skip ahead** to the extra practice."
   ]
  },
  {
   "cell_type": "markdown",
   "id": "052a94b7-3f13-421a-9f20-4e2b15062d50",
   "metadata": {
    "slideshow": {
     "slide_type": "skip"
    },
    "tags": [
     "worksheet-only"
    ]
   },
   "source": [
    "<div style=\"page-break-after:always;\"></div>"
   ]
  },
  {
   "cell_type": "markdown",
   "id": "51635ef5-8132-434f-8cdd-fd398af757e0",
   "metadata": {
    "slideshow": {
     "slide_type": "slide"
    },
    "tags": []
   },
   "source": [
    "## Mapping C loops to assembly"
   ]
  },
  {
   "cell_type": "markdown",
   "id": "a2c85545-d023-4371-abe9-24a2cf79d3f5",
   "metadata": {
    "slideshow": {
     "slide_type": "skip"
    },
    "tags": []
   },
   "source": [
    "* Example mapping while loops to assembly"
   ]
  },
  {
   "cell_type": "code",
   "execution_count": 11,
   "id": "77120044-0023-45b8-b37e-7448d07a92b8",
   "metadata": {
    "tags": [
     "worksheet-code-only"
    ]
   },
   "outputs": [
    {
     "name": "stdout",
     "output_type": "stream",
     "text": [
      "2^10 = 1024\n"
     ]
    }
   ],
   "source": [
    "/* 1*/   #include <stdio.h>\n",
    "/* 2*/   int pow2(int n) {\n",
    "/* 3*/       int result = 1;\n",
    "/* 4*/       while (n > 0) {\n",
    "/* 5*/           result = result * 2;\n",
    "/* 6*/           n = n - 1;\n",
    "/* 7*/       }\n",
    "/* 8*/       return result;\n",
    "/* 9*/   }\n",
    "/*10*/   int main() {\n",
    "/*11*/    printf(\"2^10 = %d\\n\", pow2(10));\n",
    "/*12*/}"
   ]
  },
  {
   "cell_type": "markdown",
   "id": "ec14e83c-0d06-427b-b613-84e54c498f44",
   "metadata": {
    "slideshow": {
     "slide_type": "skip"
    },
    "tags": [
     "notes-only"
    ]
   },
   "source": [
    "```\n",
    "0000000000000754 <pow2>:\n",
    " 754:   d10083ff        sub     sp, sp, #0x20    // 1\n",
    " 758:   b9000fe0        str     w0, [sp, #12]    // 1\n",
    " 75c:   52800020        mov     w0, #0x1         // 2\n",
    " 760:   b9001fe0        str     w0, [sp, #28]    // 2\n",
    " 764:   14000007        b       780 <pow2+0x2c>  // 3\n",
    " 768:   b9401fe0        ldr     w0, [sp, #28]    // 4\n",
    " 76c:   531f7800        lsl     w0, w0, #1       // 4\n",
    " 770:   b9001fe0        str     w0, [sp, #28]    // 4\n",
    " 774:   b9400fe0        ldr     w0, [sp, #12]    // 5\n",
    " 778:   51000400        sub     w0, w0, #0x1     // 5\n",
    " 77c:   b9000fe0        str     w0, [sp, #12]    // 5\n",
    " 780:   b9400fe0        ldr     w0, [sp, #12]    // 3\n",
    " 784:   7100001f        cmp     w0, #0x0         // 3\n",
    " 788:   54ffff0c        b.gt    768 <pow2+0x14>  // 3\n",
    " 78c:   b9401fe0        ldr     w0, [sp, #28]    // 7\n",
    " 790:   910083ff        add     sp, sp, #0x20    // 7\n",
    " 794:   d65f03c0        ret                      // 7\n",
    "```"
   ]
  },
  {
   "cell_type": "markdown",
   "id": "8c1e0d3f-d956-478d-af84-8d8ebd082c43",
   "metadata": {
    "tags": [
     "worksheet-only"
    ]
   },
   "source": [
    "```\n",
    "0000000000000754 <pow2>:\n",
    " 754:   d10083ff        sub     sp, sp, #0x20\n",
    " 758:   b9000fe0        str     w0, [sp, #12]\n",
    " 75c:   52800020        mov     w0, #0x1\n",
    " 760:   b9001fe0        str     w0, [sp, #28]\n",
    " 764:   14000007        b       780 <pow2+0x2c>\n",
    " 768:   b9401fe0        ldr     w0, [sp, #28]\n",
    " 76c:   531f7800        lsl     w0, w0, #1\n",
    " 770:   b9001fe0        str     w0, [sp, #28]\n",
    " 774:   b9400fe0        ldr     w0, [sp, #12]\n",
    " 778:   51000400        sub     w0, w0, #0x1\n",
    " 77c:   b9000fe0        str     w0, [sp, #12]\n",
    " 780:   b9400fe0        ldr     w0, [sp, #12]\n",
    " 784:   7100001f        cmp     w0, #0x0\n",
    " 788:   54ffff0c        b.gt    768 <pow2+0x14>\n",
    " 78c:   b9401fe0        ldr     w0, [sp, #28]\n",
    " 790:   910083ff        add     sp, sp, #0x20\n",
    " 794:   d65f03c0        ret\n",
    "```"
   ]
  },
  {
   "cell_type": "markdown",
   "id": "a61e5b0e-65e9-47de-8cb8-be189ec4d447",
   "metadata": {
    "slideshow": {
     "slide_type": "skip"
    },
    "tags": [
     "worksheet-only"
    ]
   },
   "source": [
    "<div style=\"page-break-after:always;\"></div>"
   ]
  },
  {
   "cell_type": "markdown",
   "id": "a82d425b-2220-4a29-9e28-64dbb110b731",
   "metadata": {
    "slideshow": {
     "slide_type": "slide"
    },
    "tags": []
   },
   "source": [
    "## Extra practice"
   ]
  },
  {
   "cell_type": "markdown",
   "id": "d5358bfd-652e-4c68-9ece-3263651ea34e",
   "metadata": {
    "tags": []
   },
   "source": [
    "* Q5: _Assume the registers currently hold the following values:_\n",
    "```\n",
    "sp = 0xA980\n",
    "w/x10 = 10\n",
    "w/x11 = 11\n",
    "w/x12 = 12\n",
    "w/x13 = 13\n",
    "```\n",
    "_Draw the contents of the stack and registers after the following instructions have been executed:_\n",
    "```\n",
    "sub sp, sp, #0x30\n",
    "str w10, [sp, #16]\n",
    "str x11, [sp]\n",
    "str w12, [sp, #28]\n",
    "str x13, [sp, #32]\n",
    "ldr x10, [sp]\n",
    "ldr w13, [sp, #28]\n",
    "```"
   ]
  },
  {
   "cell_type": "markdown",
   "id": "86f16093-48e9-4455-9ce3-0b2003778ab1",
   "metadata": {
    "slideshow": {
     "slide_type": "skip"
    },
    "tags": [
     "notes-only"
    ]
   },
   "source": [
    "```\n",
    "sp = 0xA950\n",
    "w/x10 = 11\n",
    "w/x11 = 11\n",
    "w/x12 = 12\n",
    "w/x13 = 12\n",
    "```\n",
    "```\n",
    "        0  1  2  3  4  5  6  7  8          \n",
    " sp ->  +--+--+--+--+--+--+--+--+\n",
    "0xA950  |          11           |\n",
    "        +--+--+--+--+--+--+--+--+\n",
    "0xA958  |           |           |\n",
    "        +--+--+--+--+--+--+--+--+\n",
    "0xA960  |    10     |           |\n",
    "        +--+--+--+--+--+--+--+--+\n",
    "0xA968  |           |     12    |\n",
    "        +--+--+--+--+--+--+--+--+\n",
    "0xA970  |          13           |\n",
    "        +--+--+--+--+--+--+--+--+\n",
    "0xA978  |                       |\n",
    "        +--+--+--+--+--+--+--+--+\n",
    "0xA980  |                       |\n",
    "        +--+--+--+--+--+--+--+--+\n",
    "```"
   ]
  },
  {
   "cell_type": "markdown",
   "id": "d9a0d7c4-08e5-4f5c-ad98-51d34328ea60",
   "metadata": {
    "slideshow": {
     "slide_type": "skip"
    },
    "tags": [
     "worksheet-only"
    ]
   },
   "source": [
    "<div style=\"height:15em;\"></div>"
   ]
  },
  {
   "cell_type": "markdown",
   "id": "e6d5e6df-d819-4b26-bb16-fd8e2666c592",
   "metadata": {
    "slideshow": {
     "slide_type": "subslide"
    },
    "tags": []
   },
   "source": [
    "* Q6: _The following C code was compiled into assembly (using `gcc`). Label each line of assembly code with the line number of the line of C code from which the assembly instruction was derived._ "
   ]
  },
  {
   "cell_type": "code",
   "execution_count": null,
   "id": "6c6d0a4d-ac5c-446c-90de-612c6b0eb476",
   "metadata": {},
   "outputs": [],
   "source": [
    "/* 1*/   int abs(int value) {\n",
    "/* 2*/       if (value < 0) {\n",
    "/* 3*/           value = value * -1;\n",
    "/* 4*/       }\n",
    "/* 5*/       return value;\n",
    "/* 6*/   }"
   ]
  },
  {
   "cell_type": "markdown",
   "id": "db93cf22-3543-427f-8a72-2416d09bdbf9",
   "metadata": {
    "slideshow": {
     "slide_type": "skip"
    },
    "tags": [
     "notes-only"
    ]
   },
   "source": [
    "```\n",
    "000000000000074c <abs>:\n",
    "    74c:   d10043ff        sub     sp, sp, #0x10    // 1\n",
    "    750:   b9000fe0        str     w0, [sp, #12]    // 1\n",
    "    754:   b9400fe0        ldr     w0, [sp, #12]    // 2\n",
    "    758:   7100001f        cmp     w0, #0x0         // 2 \n",
    "    75c:   5400008a        b.ge    76c <abs+0x20>   // 2\n",
    "    760:   b9400fe0        ldr     w0, [sp, #12]    // 3\n",
    "    764:   4b0003e0        neg     w0, w0           // 3\n",
    "    768:   b9000fe0        str     w0, [sp, #12]    // 3\n",
    "    76c:   b9400fe0        ldr     w0, [sp, #12]    // 5\n",
    "    770:   910043ff        add     sp, sp, #0x10    // 5\n",
    "    774:   d65f03c0        ret                      // 5\n",
    "``` "
   ]
  },
  {
   "cell_type": "markdown",
   "id": "a18849a7-7273-47a9-8f5c-d1184671a510",
   "metadata": {
    "tags": [
     "worksheet-only"
    ]
   },
   "source": [
    "```\n",
    "000000000000074c <abs>:\n",
    "    74c:   d10043ff        sub     sp, sp, #0x10\n",
    "    750:   b9000fe0        str     w0, [sp, #12]\n",
    "    754:   b9400fe0        ldr     w0, [sp, #12]\n",
    "    758:   7100001f        cmp     w0, #0x0 \n",
    "    75c:   5400008a        b.ge    76c <abs+0x20>\n",
    "    760:   b9400fe0        ldr     w0, [sp, #12]\n",
    "    764:   4b0003e0        neg     w0, w0\n",
    "    768:   b9000fe0        str     w0, [sp, #12]\n",
    "    76c:   b9400fe0        ldr     w0, [sp, #12]\n",
    "    770:   910043ff        add     sp, sp, #0x10\n",
    "    774:   d65f03c0        ret\n",
    "``` "
   ]
  },
  {
   "cell_type": "markdown",
   "id": "cc9eb57b-b504-458b-b35e-63811c26c1a9",
   "metadata": {
    "tags": []
   },
   "source": [
    "* Q7: _Write a function called `abs_goto` that behaves the same as `abs` but matches the structure of the assembly code that is generated for `abs`._"
   ]
  },
  {
   "cell_type": "code",
   "execution_count": null,
   "id": "e32f48df-3bc3-4fb3-910e-130cccda437a",
   "metadata": {
    "slideshow": {
     "slide_type": "skip"
    },
    "tags": [
     "notes-only"
    ]
   },
   "outputs": [],
   "source": [
    "int abs(int value) {\n",
    "    if (value >= 0)\n",
    "        goto after_if;\n",
    "    value = value * -1;\n",
    "after_if:\n",
    "    return value;\n",
    "}"
   ]
  }
 ],
 "metadata": {
  "kernelspec": {
   "display_name": "C",
   "language": "c",
   "name": "c"
  },
  "language_info": {
   "file_extension": ".c",
   "mimetype": "c",
   "name": "c"
  }
 },
 "nbformat": 4,
 "nbformat_minor": 5
}
