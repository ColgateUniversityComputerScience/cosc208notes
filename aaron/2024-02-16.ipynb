{
 "cells": [
  {
   "cell_type": "markdown",
   "id": "421ff75b-3025-4535-9a03-8de76e1d05bc",
   "metadata": {
    "slideshow": {
     "slide_type": "skip"
    },
    "tags": []
   },
   "source": [
    "# Program memory: pointers as parameters; arrays & pointers\n",
    "_COSC 208, Introduction to Computer Systems, 2024-02-16_"
   ]
  },
  {
   "cell_type": "markdown",
   "id": "b207b076-f5b6-4674-8385-1d10b4d807cd",
   "metadata": {
    "jp-MarkdownHeadingCollapsed": true,
    "slideshow": {
     "slide_type": "skip"
    },
    "tags": []
   },
   "source": [
    "## Announcements\n",
    "* Project 1 due Wednesday @ 11pm"
   ]
  },
  {
   "cell_type": "markdown",
   "id": "cf625bb6-e838-4e30-a8ab-065374bc56c9",
   "metadata": {
    "slideshow": {
     "slide_type": "skip"
    },
    "tags": []
   },
   "source": [
    "## Outline\n",
    "* Warm-up\n",
    "* Pointers as parameters\n",
    "* Arrays & pointers"
   ]
  },
  {
   "cell_type": "markdown",
   "id": "e525e5fd-8695-4b33-837f-52365156aa0a",
   "metadata": {},
   "source": [
    "## Warm-up"
   ]
  },
  {
   "cell_type": "markdown",
   "id": "7e75b9d1-6944-4874-acea-ed77134d74d8",
   "metadata": {
    "slideshow": {
     "slide_type": "subslide"
    },
    "tags": []
   },
   "source": [
    "* Q1: _What does the following program output?_"
   ]
  },
  {
   "cell_type": "code",
   "execution_count": null,
   "id": "f550b42a-b3e5-4ca3-b7e4-07054e3ccac6",
   "metadata": {
    "tags": [
     "worksheet-code-only"
    ]
   },
   "outputs": [
    {
     "name": "stdout",
     "output_type": "stream",
     "text": [
      "S S 3 3 3\n",
      "B B 2 2 2\n",
      "D D 2 2 2\n"
     ]
    }
   ],
   "source": [
    "#include <stdio.h>\n",
    "int main() {\n",
    "    char s = 'S';\n",
    "    char *t = &s;\n",
    "    int u = 3;\n",
    "    int *v = &u;\n",
    "    int *w = v;\n",
    "    printf(\"%c %c %d %d %d\\n\", s, *t, u, *v, *w);\n",
    "    *t = 'B';\n",
    "    u = 2;\n",
    "    printf(\"%c %c %d %d %d\\n\", s, *t, u, *v, *w);\n",
    "    s = s + *v;\n",
    "    printf(\"%c %c %d %d %d\\n\", s, *t, u, *v, *w);\n",
    "}"
   ]
  },
  {
   "cell_type": "markdown",
   "id": "b2432b3b-c8c9-47b1-a6e3-31003d88395c",
   "metadata": {
    "slideshow": {
     "slide_type": "skip"
    },
    "tags": [
     "worksheet-only"
    ]
   },
   "source": [
    "<p style=\"height:8em;\"></p>\n",
    "\n",
    "🛑 **STOP here** after completing the above question; if you have extra time please **skip ahead** to the extra practice."
   ]
  },
  {
   "cell_type": "markdown",
   "id": "648435a9-1ef8-4571-9cd7-04acd11ee313",
   "metadata": {
    "slideshow": {
     "slide_type": "slide"
    },
    "tags": []
   },
   "source": [
    "## Pointers as parameters"
   ]
  },
  {
   "cell_type": "markdown",
   "id": "300b4ee2-60b6-4734-87ff-45c0c57a945d",
   "metadata": {
    "slideshow": {
     "slide_type": "skip"
    },
    "tags": [
     "notes-only"
    ]
   },
   "source": [
    "* Functions can take pointers as parameters\n",
    "    * Similar to a pointer declaration, include an asterisk before the parameter name: e.g., `void foo(int *a)`\n",
    "    * Function gets a copy of the memory address stored in the pointer variable, not a copy of the value stored at that memory address"
   ]
  },
  {
   "cell_type": "markdown",
   "id": "9d260ad5-807b-4ab0-bdf8-ffd4c48b5a6d",
   "metadata": {},
   "source": [
    "* Example"
   ]
  },
  {
   "cell_type": "code",
   "execution_count": 10,
   "id": "e6b8be78-c355-41ad-96c5-7ca26e1c481c",
   "metadata": {
    "tags": [
     "worksheet-code-only"
    ]
   },
   "outputs": [
    {
     "name": "stdout",
     "output_type": "stream",
     "text": [
      "1\n",
      "3\n"
     ]
    }
   ],
   "source": [
    "#include <stdio.h>\n",
    "void value(int a) {\n",
    "    a = 2;\n",
    "}\n",
    "void pointer(int *b) {\n",
    "    *b = 3;\n",
    "}\n",
    "int main() {\n",
    "    int v = 1;\n",
    "    int *p = &v;\n",
    "    value(v);\n",
    "    printf(\"%d\\n\", v);\n",
    "    pointer(p);\n",
    "    printf(\"%d\\n\", v);\n",
    "}"
   ]
  },
  {
   "cell_type": "markdown",
   "id": "2f62294e-77ca-407c-971c-d18800e9beb1",
   "metadata": {
    "tags": []
   },
   "source": [
    "* Q2: _What does the following program output?_"
   ]
  },
  {
   "cell_type": "code",
   "execution_count": 16,
   "id": "8885b8db-a9a9-4256-ae4e-2887df416544",
   "metadata": {
    "tags": [
     "worksheet-code-only"
    ]
   },
   "outputs": [
    {
     "name": "stdout",
     "output_type": "stream",
     "text": [
      "1 2\n",
      "3 4\n",
      "6 6\n"
     ]
    }
   ],
   "source": [
    "#include <stdio.h>\n",
    "void copy1(int a, int b) {\n",
    "    a = b;\n",
    "}\n",
    "void copy2(int *c, int *d) {\n",
    "    c = d;\n",
    "}\n",
    "void copy3(int *e, int *f) {\n",
    "    *e = *f;\n",
    "}\n",
    "int main() {\n",
    "    int q = 1;\n",
    "    int r = 2;\n",
    "    copy1(q, r);\n",
    "    printf(\"%d %d\\n\", q, r);\n",
    "    int s = 3;\n",
    "    int t = 4;\n",
    "    copy2(&s, &t);\n",
    "    printf(\"%d %d\\n\", s, t);\n",
    "    int u = 5;\n",
    "    int v = 6;\n",
    "    copy3(&u, &v);\n",
    "    printf(\"%d %d\\n\", u, v);\n",
    "}"
   ]
  },
  {
   "cell_type": "markdown",
   "id": "8aa19037-8535-4364-b124-e408b38e9282",
   "metadata": {
    "slideshow": {
     "slide_type": "skip"
    },
    "tags": [
     "worksheet-only"
    ]
   },
   "source": [
    "<div style=\"height:8em;\"></div>"
   ]
  },
  {
   "cell_type": "markdown",
   "id": "7e344cdb-a8c9-4ce3-a73b-9f7a8dbacbb3",
   "metadata": {
    "slideshow": {
     "slide_type": "subslide"
    },
    "tags": []
   },
   "source": [
    "* Q3: _Write a function called `add` which takes an integer (`num`) and an integer pointer (`ptr`) and adds `num` to the value `ptr` points to._\n",
    "    \n",
    "    _Also write a `main` function which:_\n",
    "    1. _Stores `20` in a variable_\n",
    "    2. _Calls `add` with the number `5` and a pointer to the aforementioned variable_\n",
    "    3. _Prints the value stored in the variable after `add` returns_"
   ]
  },
  {
   "cell_type": "code",
   "execution_count": 13,
   "id": "323f66f9-bdfe-4c41-b00f-0edc15808c54",
   "metadata": {
    "slideshow": {
     "slide_type": "skip"
    },
    "tags": [
     "notes-only"
    ]
   },
   "outputs": [
    {
     "name": "stdout",
     "output_type": "stream",
     "text": [
      "25\n"
     ]
    }
   ],
   "source": [
    "#include <stdio.h>\n",
    "void add(int num, int *ptr) {\n",
    "    *ptr = *ptr + num;\n",
    "}\n",
    "int main() {\n",
    "    int x = 20;\n",
    "    add(5, &x);\n",
    "    printf(\"%d\\n\", x);\n",
    "}"
   ]
  },
  {
   "cell_type": "markdown",
   "id": "45fee770-e7fa-4592-a2f1-690d0f62844b",
   "metadata": {
    "slideshow": {
     "slide_type": "skip"
    },
    "tags": [
     "worksheet-only"
    ]
   },
   "source": [
    "<p style=\"height:18em;\"></p>\n",
    "\n",
    "🛑 **STOP here** after completing the above questions; if you have extra time please **skip ahead** to the extra practice."
   ]
  },
  {
   "cell_type": "markdown",
   "id": "cd4d1b97-0087-470d-aa66-5318ae0026d0",
   "metadata": {
    "slideshow": {
     "slide_type": "slide"
    },
    "tags": []
   },
   "source": [
    "## Arrays & pointers"
   ]
  },
  {
   "cell_type": "markdown",
   "id": "dbc27645-cb2c-4cf8-bde7-a5d3ce47c7ea",
   "metadata": {
    "slideshow": {
     "slide_type": "skip"
    },
    "tags": [
     "notes-only"
    ]
   },
   "source": [
    "* An array variable is a constant (`const`) pointer to a region of memory where the items in the array are stored"
   ]
  },
  {
   "cell_type": "markdown",
   "id": "ec7f893a-db5e-458c-9a56-2f57b3e9ec2d",
   "metadata": {},
   "source": [
    "* Example"
   ]
  },
  {
   "cell_type": "code",
   "execution_count": 40,
   "id": "7abd8dc1-e6cf-4b78-bd97-4cb9873861a4",
   "metadata": {
    "tags": [
     "worksheet-code-only"
    ]
   },
   "outputs": [
    {
     "name": "stdout",
     "output_type": "stream",
     "text": [
      "word = hat\n",
      "ptr = hat\n",
      "ptr == word\n",
      "word = hit\n",
      "word = sit\n",
      "ptr = it\n",
      "word = sat\n"
     ]
    }
   ],
   "source": [
    "#include <stdio.h>\n",
    "int main() {\n",
    "    char word[] = \"hat\";\n",
    "    printf(\"word = %s\\n\", word);\n",
    "    char *ptr = word;\n",
    "    printf(\"ptr = %s\\n\", ptr);\n",
    "    if (ptr == word) {\n",
    "        printf(\"ptr == word\\n\");\n",
    "    }\n",
    "    else {\n",
    "        printf(\"ptr != word\\n\");\n",
    "    }\n",
    "    word[1] = 'i';\n",
    "    printf(\"word = %s\\n\", word);\n",
    "    *ptr = 's';\n",
    "    printf(\"word = %s\\n\", word);\n",
    "    ptr = &word[1];\n",
    "    printf(\"ptr = %s\\n\", ptr);\n",
    "    ptr[0] = 'a';\n",
    "    printf(\"word = %s\\n\", word);\n",
    "}"
   ]
  },
  {
   "cell_type": "markdown",
   "id": "0366a6b0-a6f4-4df8-b901-4dc9c8228ffd",
   "metadata": {
    "slideshow": {
     "slide_type": "skip"
    },
    "tags": [
     "notes-only"
    ]
   },
   "source": [
    "* This explains why there is no out-of-bounds checks for arrays: the memory addresses in pointers are never checked to see if they are valid\n",
    "* This also explains why you can change an array within a function and have those changes reflected outside of the function"
   ]
  },
  {
   "cell_type": "markdown",
   "id": "e0155882-e3de-4e4b-8391-0f0d3ca681cd",
   "metadata": {
    "slideshow": {
     "slide_type": "subslide"
    },
    "tags": []
   },
   "source": [
    "* Example: array as a parameter"
   ]
  },
  {
   "cell_type": "code",
   "execution_count": 11,
   "id": "8a2c28c6-0b73-46d4-b61e-f8a73e5b762c",
   "metadata": {
    "tags": [
     "worksheet-code-only"
    ]
   },
   "outputs": [
    {
     "name": "stdout",
     "output_type": "stream",
     "text": [
      "mat\n",
      "pat\n"
     ]
    }
   ],
   "source": [
    "#include <stdio.h>\n",
    "void update(char str[]) {\n",
    "    str[0] = 'p';\n",
    "}\n",
    "int main() {\n",
    "    char word[] = \"mat\";\n",
    "    printf(\"%s\\n\", word);\n",
    "    update(word);\n",
    "    printf(\"%s\\n\", word);\n",
    "}"
   ]
  },
  {
   "cell_type": "markdown",
   "id": "bc4f6a76-1d10-4efb-aa22-c81a60c0061f",
   "metadata": {
    "slideshow": {
     "slide_type": "slide"
    },
    "tags": []
   },
   "source": [
    "## Extra practice\n",
    "* Q4: _What does the following program output?_"
   ]
  },
  {
   "cell_type": "code",
   "execution_count": 5,
   "id": "6380f183-4722-4b7f-9de4-7ee5c3739480",
   "metadata": {
    "tags": [
     "worksheet-code-only"
    ]
   },
   "outputs": [
    {
     "name": "stdout",
     "output_type": "stream",
     "text": [
      "1 1\n",
      "2 2\n"
     ]
    }
   ],
   "source": [
    "#include <stdio.h>\n",
    "void increment1(int a) {\n",
    "    a = a + 1;\n",
    "}\n",
    "void increment2(int *b) {\n",
    "    *b = *b + 1;\n",
    "}\n",
    "int main() {\n",
    "    int x = 1;\n",
    "    int *y = &x;\n",
    "    increment1(x);\n",
    "    printf(\"%d %d\\n\", x, *y);\n",
    "    increment2(y);\n",
    "    printf(\"%d %d\\n\", x, *y);\n",
    "}"
   ]
  },
  {
   "cell_type": "markdown",
   "id": "fa749713-1c8e-4e51-a66b-5d28599d8eb0",
   "metadata": {
    "slideshow": {
     "slide_type": "skip"
    },
    "tags": [
     "worksheet-only"
    ]
   },
   "source": [
    "<p style=\"height:2em;\"></p>"
   ]
  },
  {
   "cell_type": "markdown",
   "id": "9d0a97c5-00b7-4d1d-a8a9-df082e368d6a",
   "metadata": {
    "slideshow": {
     "slide_type": "subslide"
    },
    "tags": []
   },
   "source": [
    "* Q5: _What does the following program output?_"
   ]
  },
  {
   "cell_type": "code",
   "execution_count": 4,
   "id": "683771ce-637a-4635-925f-da3a035e546b",
   "metadata": {
    "tags": [
     "worksheet-code-only"
    ]
   },
   "outputs": [
    {
     "name": "stdout",
     "output_type": "stream",
     "text": [
      "Q R\n",
      "T S\n"
     ]
    }
   ],
   "source": [
    "#include <stdio.h>\n",
    "void swap1(char *c, char *d) {\n",
    "    char *tmp = c;\n",
    "    c = d;\n",
    "    d = tmp;\n",
    "}\n",
    "void swap2(char *a, char *b) {\n",
    "    char tmp = *a;\n",
    "    *a = *b;\n",
    "    *b = tmp;\n",
    "}\n",
    "int main() {\n",
    "    char q = 'Q';\n",
    "    char r = 'R';\n",
    "    swap1(&q, &r);\n",
    "    printf(\"%c %c\\n\", q, r);\n",
    "    char s = 'S';\n",
    "    char t = 'T';\n",
    "    swap2(&s, &t);\n",
    "    printf(\"%c %c\\n\", s, t);\n",
    "}"
   ]
  },
  {
   "cell_type": "markdown",
   "id": "b43604f3-4e36-4c0d-a491-765cd7860849",
   "metadata": {
    "slideshow": {
     "slide_type": "skip"
    },
    "tags": [
     "worksheet-only"
    ]
   },
   "source": [
    "<div style=\"height:8em;\"></div>"
   ]
  },
  {
   "cell_type": "markdown",
   "id": "33acbbf0-dd78-4e3e-988e-8532bda13433",
   "metadata": {
    "slideshow": {
     "slide_type": "subslide"
    },
    "tags": []
   },
   "source": [
    "* Q6: _Write a program that:_\n",
    "    1. _Stores 5 in a variable, and stores 10 in another variable_\n",
    "    2. _Creates and uses pointers to print each number_\n",
    "    3. _Uses the pointers to add the numbers together and store the result in a new variable_\n",
    "    4. _Repurposes one of the existing pointers to print the aforementioned result_"
   ]
  },
  {
   "cell_type": "code",
   "execution_count": 3,
   "id": "f5581994-5b1b-4a85-8b2a-a47eda62a603",
   "metadata": {
    "slideshow": {
     "slide_type": "skip"
    },
    "tags": [
     "notes-only"
    ]
   },
   "outputs": [
    {
     "name": "stdout",
     "output_type": "stream",
     "text": [
      "15\n"
     ]
    }
   ],
   "source": [
    "#include <stdio.h>\n",
    "int main() {\n",
    "    int i = 5;\n",
    "    int j = 10;\n",
    "    int *p = &i;\n",
    "    int *q = &j;\n",
    "    int k = *p + *q;\n",
    "    p = &k;\n",
    "    printf(\"%d\\n\", *p);\n",
    "}"
   ]
  },
  {
   "cell_type": "markdown",
   "id": "cfac0874-25b0-4a9a-a9a9-8cf0fb8a1f04",
   "metadata": {
    "slideshow": {
     "slide_type": "skip"
    },
    "tags": [
     "worksheet-only"
    ]
   },
   "source": [
    "<p style=\"height:15em;\"></p>"
   ]
  },
  {
   "cell_type": "markdown",
   "id": "ab68ab31-8106-4916-a022-cb3de73f5ff8",
   "metadata": {
    "slideshow": {
     "slide_type": "subslide"
    },
    "tags": []
   },
   "source": [
    "* Q7: _Write a function called `transfer` which takes an integer (`amount`) and two integer pointers (`from` and `to`) and moves the specified `amount` from one integer to the other._\n",
    "    _Also write a `main` function that:_\n",
    "    1. _Stores `50` in one variable and `100` in another variable_\n",
    "    2. _Calls `transfer` with the amount `25` and pointers to the aforementioned variable_\n",
    "    3. _Prints the value stored in the variables after `transfer` returns_"
   ]
  },
  {
   "cell_type": "code",
   "execution_count": 13,
   "id": "24406502-2803-491d-b1b8-ec7f760659f4",
   "metadata": {
    "slideshow": {
     "slide_type": "skip"
    },
    "tags": [
     "notes-only"
    ]
   },
   "outputs": [
    {
     "name": "stdout",
     "output_type": "stream",
     "text": [
      "25 125\n"
     ]
    }
   ],
   "source": [
    "#include <stdio.h>\n",
    "void transfer(int amount, int *from, int *to) {\n",
    "    *from = *from - amount;\n",
    "    *to = *to + amount;\n",
    "}\n",
    "int main() {\n",
    "    int x = 50;\n",
    "    int y = 100;\n",
    "    transfer(25, &x, &y);\n",
    "    printf(\"%d %d\\n\", x, y);\n",
    "}"
   ]
  },
  {
   "cell_type": "markdown",
   "id": "2b14c2a1-8c65-4a24-b328-2c5186a2b374",
   "metadata": {
    "slideshow": {
     "slide_type": "skip"
    },
    "tags": [
     "worksheet-only"
    ]
   },
   "source": [
    "<div style=\"page-break-after:always;\"></div>"
   ]
  }
 ],
 "metadata": {
  "kernelspec": {
   "display_name": "C",
   "language": "c",
   "name": "c"
  },
  "language_info": {
   "file_extension": ".c",
   "mimetype": "c",
   "name": "c"
  }
 },
 "nbformat": 4,
 "nbformat_minor": 5
}
