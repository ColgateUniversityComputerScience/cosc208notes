{
 "cells": [
  {
   "cell_type": "markdown",
   "id": "cb5c0089-8cef-4cc9-af1d-c6477c77bee8",
   "metadata": {
    "slideshow": {
     "slide_type": "skip"
    },
    "tags": []
   },
   "source": [
    "# Virtualization: data centers; cloud computing\n",
    "_COSC 208, Introduction to Computer Systems, 2023-05-03_"
   ]
  },
  {
   "cell_type": "markdown",
   "id": "46336b92-6736-4d0b-a37d-edeb69d984c0",
   "metadata": {
    "slideshow": {
     "slide_type": "skip"
    },
    "tags": []
   },
   "source": [
    "## Announcements\n",
    "* Project 5 due tomorrow at 11pm\n",
    "* Final exam\n",
    "    * Study guide posted on Moodle\n",
    "    * Take-home portion: released later this week; due Tuesday of finals week\n",
    "    * In-class portion: Tuesday of finals week 9am-11am or 12pm-2pm"
   ]
  },
  {
   "cell_type": "markdown",
   "id": "c264cb6a-f1f1-4e50-b6dd-c75b59464346",
   "metadata": {
    "slideshow": {
     "slide_type": "skip"
    },
    "tags": []
   },
   "source": [
    "## Outline\n",
    "* SETs\n",
    "* Warm-up\n",
    "* Data centers\n",
    "* Cloud computing"
   ]
  },
  {
   "cell_type": "markdown",
   "id": "b9c7dee9-04fd-45c3-bb9b-4b73451f9ef2",
   "metadata": {},
   "source": [
    "## Warm-up"
   ]
  },
  {
   "cell_type": "markdown",
   "id": "3d30dd37-cd82-40e9-bab7-c30791146672",
   "metadata": {},
   "source": [
    "* Q1: _Draw a diagram of a system that does **not** use a hypervisor._"
   ]
  },
  {
   "cell_type": "markdown",
   "id": "a859d2a4-7119-46a0-9aa3-9bfc230c75bb",
   "metadata": {
    "slideshow": {
     "slide_type": "skip"
    },
    "tags": [
     "worksheet-only"
    ]
   },
   "source": [
    "<p style=\"height:10em;\"></p>"
   ]
  },
  {
   "cell_type": "markdown",
   "id": "3428ba61-7344-4163-a03c-e788a0dd9997",
   "metadata": {},
   "source": [
    "* Q2: _Draw a diagram of a system that uses a **type 1 hypervisor**._"
   ]
  },
  {
   "cell_type": "markdown",
   "id": "f7ab68f6-9247-4621-80d6-1b6879fdd81a",
   "metadata": {
    "slideshow": {
     "slide_type": "skip"
    },
    "tags": [
     "worksheet-only"
    ]
   },
   "source": [
    "<p style=\"height:10em;\"></p>"
   ]
  },
  {
   "cell_type": "markdown",
   "id": "25ea349b-4f60-41cf-8822-6ceac9817aa5",
   "metadata": {},
   "source": [
    "* Q3: _Draw a diagram of a system that uses a **type 2 hypervisor**._"
   ]
  },
  {
   "cell_type": "markdown",
   "id": "e2003509-c084-4b92-9368-c531caaa0e26",
   "metadata": {
    "slideshow": {
     "slide_type": "skip"
    },
    "tags": [
     "worksheet-only"
    ]
   },
   "source": [
    "<p style=\"height:10em;\"></p>"
   ]
  },
  {
   "cell_type": "markdown",
   "id": "f53442a6-7783-4dd6-aede-ebff82a3be0f",
   "metadata": {},
   "source": [
    "* Q4: _Draw a diagram of a system that uses a **container**._"
   ]
  },
  {
   "cell_type": "markdown",
   "id": "fffb05d1-65e3-4b89-a29c-2701c9c46963",
   "metadata": {
    "slideshow": {
     "slide_type": "skip"
    },
    "tags": [
     "worksheet-only"
    ]
   },
   "source": [
    "<p style=\"height:10em;\"></p>\n",
    "\n",
    "🛑 **STOP here** after completing the above questions; if you have extra time take a few deep breaths to reduce stress."
   ]
  },
  {
   "cell_type": "markdown",
   "id": "077c4132-504f-426e-95a3-157fecb06509",
   "metadata": {
    "slideshow": {
     "slide_type": "skip"
    },
    "tags": [
     "notes-only"
    ]
   },
   "source": [
    "## Data centers"
   ]
  },
  {
   "cell_type": "markdown",
   "id": "11ad9547-b5a6-44c3-be44-223ba0734de3",
   "metadata": {
    "slideshow": {
     "slide_type": "skip"
    },
    "tags": [
     "notes-only"
    ]
   },
   "source": [
    "* _What is a data center?_ — a large collection of computer systems housed in a single physical location\n",
    "* Primary components\n",
    "    * Servers — with multi-core CPU, main memory, secondary storage, and network interface card (NIC)\n",
    "    * Racks — cabinet containing tens of servers\n",
    "    * Rows — line of racks\n",
    "    * Network — routers, switches, and fiber optic cables connecting servers/racks together to allow them to exchange data\n",
    "        * Includes connectivity to other data centers and the Internet\n",
    "    * Power system — electrical wires, distribution units, generators, connections to the power grid\n",
    "    * Cooling system — fans, cooling units (mechanical, evaporative, outdoor air, etc.)\n",
    "* Resources can be pooled together to provide more computing and storage than a single server\n",
    "    * Application can be replicated on many servers (running many processes) to handle a large volume of data/users and provide fault-tolerance\n",
    "    * Main memory on many servers can be pooled together to provide the abstraction of large, low-latency storage\n",
    "    * Files can be distributed/replicated across secondary storage on many servers to handle a large volume of data and provide fault-tolerance"
   ]
  },
  {
   "cell_type": "markdown",
   "id": "28a07752-eb1f-45c1-a3db-c84df1ae1b77",
   "metadata": {
    "slideshow": {
     "slide_type": "slide"
    },
    "tags": []
   },
   "source": [
    "## Cloud computing"
   ]
  },
  {
   "cell_type": "markdown",
   "id": "38ece385-a5b3-4f4d-8413-bbaad14b5c8d",
   "metadata": {
    "slideshow": {
     "slide_type": "skip"
    },
    "tags": [
     "notes-only"
    ]
   },
   "source": [
    "* Characteristics\n",
    "    * Resources available on-demand — tenants reserve resources only when they need them\n",
    "        * E.g., a company uses more virtual machines during the day when employees are using applications\n",
    "        * E.g., a website has more visitors during a sale or popular event\n",
    "    * Pay-per-use — only pay for the resources you use\n",
    "        * E.g., pay for a virtual machine per hour of use\n",
    "        * E.g., pay for storage per GB per month\n",
    "    * Shared & virtualized — physical servers and storage devices resources are used by multiple tenants\n",
    "        * E.g., multiple virtual machines run on the same machine\n",
    "        * Physical servers and storage are usually more isolated than network switches and links\n",
    "* Service models\n",
    "    * Infrastructure-as-a-Service (IaaS)\n",
    "        * Tenants lease virtual machines, virtual storage, and virtual networks\n",
    "        * Tenants must manage the operating system, file system, etc.\n",
    "        * E.g., Amazon EC2, Microsoft Azure, Rackspace, Google Compute Engine\n",
    "    * Platform-as-a-Service (PaaS)\n",
    "        * Tenants lease resources to run applications written in a specific language — Python, Java, Hadoop/MapReduce\n",
    "        * Cloud provider manages the operating system, file system, and network\n",
    "        * E.g., Google App Engine, Cloud Foundry, IBM Cloud\n",
    "    * Function-as-a-Service (FaaS) or serverless\n",
    "        * Tenants run independent snippets of code\n",
    "        * E.g., Amazon Lambda\n",
    "    * Software-as-a-Service (SaaS)\n",
    "        * Tenants lease access to specific software\n",
    "        * E.g., Salesforce, Concur, Constant Contact, Google Drive, Office 365\n",
    "    * Storage-as-a-Service (STaaS)\n",
    "        * E.g., Dropbox, Google Drive, iCloud\n",
    "    * Ownership\n",
    "        * Public - anyone can request and use resources\n",
    "        * Private - resources are only available to tenants (e.g., departments) within a company or organization\n",
    "        * Hybrid - tenants use a combination of public and private cloud resources"
   ]
  },
  {
   "cell_type": "markdown",
   "id": "3bfb57d2-9a5b-4034-8bb9-226d082c8712",
   "metadata": {},
   "source": [
    "_For each of the following service providers, indicate what type of service they offer._"
   ]
  },
  {
   "cell_type": "markdown",
   "id": "a5ed44b0-1fec-49a0-9b74-4aaa389de565",
   "metadata": {},
   "source": [
    "* Q5: _Box provides secure file sharing and storage_"
   ]
  },
  {
   "cell_type": "markdown",
   "id": "e8f7b909-76a7-434e-8c1e-25be69a0bc66",
   "metadata": {
    "slideshow": {
     "slide_type": "skip"
    },
    "tags": [
     "notes-only"
    ]
   },
   "source": [
    "    Storage-as-a-Service (STaaS)"
   ]
  },
  {
   "cell_type": "markdown",
   "id": "facc38d1-b297-4a31-8cef-c052533e09e4",
   "metadata": {
    "slideshow": {
     "slide_type": "skip"
    },
    "tags": [
     "worksheet-only"
    ]
   },
   "source": [
    "<p style=\"height:2em;\"></p>"
   ]
  },
  {
   "cell_type": "markdown",
   "id": "40b94516-a9fd-4cdf-83ab-4d2ffad8efcd",
   "metadata": {},
   "source": [
    "* Q6: _Microsoft Azure provides virtual machines running Windows or Linux_"
   ]
  },
  {
   "cell_type": "markdown",
   "id": "74c4873b-74fc-4cf0-906d-c4ba02e40da7",
   "metadata": {
    "slideshow": {
     "slide_type": "skip"
    },
    "tags": [
     "notes-only"
    ]
   },
   "source": [
    "    Infrastructure-as-a-Service (IaaS)"
   ]
  },
  {
   "cell_type": "markdown",
   "id": "fb598941-dc42-403a-bfce-8fdfebc65654",
   "metadata": {
    "slideshow": {
     "slide_type": "skip"
    },
    "tags": [
     "worksheet-only"
    ]
   },
   "source": [
    "<p style=\"height:2em;\"></p>"
   ]
  },
  {
   "cell_type": "markdown",
   "id": "a6b55678-5e5d-40f2-b007-3e0aa32365f0",
   "metadata": {},
   "source": [
    "* Q7: _Heroku allows tenants to deploy code written in Ruby, Java, PHP, Python, Go, Scala, or Clojure_"
   ]
  },
  {
   "cell_type": "markdown",
   "id": "914e91c9-b697-4c07-b5da-954f467e571e",
   "metadata": {
    "slideshow": {
     "slide_type": "skip"
    },
    "tags": [
     "notes-only"
    ]
   },
   "source": [
    "    Platform-as-a-Service (PaaS)"
   ]
  },
  {
   "cell_type": "markdown",
   "id": "c24ad1bf-8b9f-4c7a-b608-667884f12157",
   "metadata": {
    "slideshow": {
     "slide_type": "skip"
    },
    "tags": [
     "worksheet-only"
    ]
   },
   "source": [
    "<p style=\"height:2em;\"></p>"
   ]
  },
  {
   "cell_type": "markdown",
   "id": "2a0f0744-ba41-4ad1-b218-618f75d4efc5",
   "metadata": {},
   "source": [
    "* Q8: _Oracle Supply Chain Management (SCM) is software that allows businesses to manage their supply chain_"
   ]
  },
  {
   "cell_type": "markdown",
   "id": "5b3fc186-6665-49a2-814e-cf17cf487f55",
   "metadata": {
    "slideshow": {
     "slide_type": "skip"
    },
    "tags": [
     "notes-only"
    ]
   },
   "source": [
    "    Software-as-a-Service (SaaS)"
   ]
  }
 ],
 "metadata": {
  "kernelspec": {
   "display_name": "C",
   "language": "c",
   "name": "c"
  },
  "language_info": {
   "file_extension": ".c",
   "mimetype": "c",
   "name": "c"
  }
 },
 "nbformat": 4,
 "nbformat_minor": 5
}
