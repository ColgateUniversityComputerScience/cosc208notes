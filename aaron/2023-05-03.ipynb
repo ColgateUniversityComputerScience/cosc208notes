{
 "cells": [
  {
   "cell_type": "markdown",
   "id": "cb5c0089-8cef-4cc9-af1d-c6477c77bee8",
   "metadata": {
    "slideshow": {
     "slide_type": "skip"
    },
    "tags": []
   },
   "source": [
    "# Virtualization: data centers\n",
    "_COSC 208, Introduction to Computer Systems, 2023-05-03_"
   ]
  },
  {
   "cell_type": "markdown",
   "id": "46336b92-6736-4d0b-a37d-edeb69d984c0",
   "metadata": {
    "slideshow": {
     "slide_type": "skip"
    },
    "tags": []
   },
   "source": [
    "## Announcements\n",
    "* Project 5 due tomorrow at 11pm\n",
    "* Final exam\n",
    "    * Study guide posted on Moodle\n",
    "    * Take-home portion: released later this week; due Tuesday of finals week\n",
    "    * In-class portion: Tuesday of finals week 9am-11am or 12pm-2pm"
   ]
  },
  {
   "cell_type": "markdown",
   "id": "c264cb6a-f1f1-4e50-b6dd-c75b59464346",
   "metadata": {
    "slideshow": {
     "slide_type": "skip"
    },
    "tags": []
   },
   "source": [
    "## Outline\n",
    "* SETs\n",
    "* Warm-up\n",
    "* Data centers"
   ]
  },
  {
   "cell_type": "markdown",
   "id": "b9c7dee9-04fd-45c3-bb9b-4b73451f9ef2",
   "metadata": {},
   "source": [
    "## Warm-up"
   ]
  },
  {
   "cell_type": "markdown",
   "id": "3d30dd37-cd82-40e9-bab7-c30791146672",
   "metadata": {},
   "source": [
    "* Q1: _Draw a diagram of a system that does **not** use a hypervisor or containers._"
   ]
  },
  {
   "cell_type": "markdown",
   "id": "a859d2a4-7119-46a0-9aa3-9bfc230c75bb",
   "metadata": {
    "slideshow": {
     "slide_type": "skip"
    },
    "tags": [
     "worksheet-only"
    ]
   },
   "source": [
    "<p style=\"height:10em;\"></p>"
   ]
  },
  {
   "cell_type": "markdown",
   "id": "3428ba61-7344-4163-a03c-e788a0dd9997",
   "metadata": {},
   "source": [
    "* Q2: _Draw a diagram of a system that uses a **type 1 hypervisor**._"
   ]
  },
  {
   "cell_type": "markdown",
   "id": "f7ab68f6-9247-4621-80d6-1b6879fdd81a",
   "metadata": {
    "slideshow": {
     "slide_type": "skip"
    },
    "tags": [
     "worksheet-only"
    ]
   },
   "source": [
    "<p style=\"height:10em;\"></p>"
   ]
  },
  {
   "cell_type": "markdown",
   "id": "25ea349b-4f60-41cf-8822-6ceac9817aa5",
   "metadata": {},
   "source": [
    "* Q3: _Draw a diagram of a system that uses a **type 2 hypervisor**._"
   ]
  },
  {
   "cell_type": "markdown",
   "id": "e2003509-c084-4b92-9368-c531caaa0e26",
   "metadata": {
    "slideshow": {
     "slide_type": "skip"
    },
    "tags": [
     "worksheet-only"
    ]
   },
   "source": [
    "<p style=\"height:10em;\"></p>"
   ]
  },
  {
   "cell_type": "markdown",
   "id": "f53442a6-7783-4dd6-aede-ebff82a3be0f",
   "metadata": {},
   "source": [
    "* Q4: _Draw a diagram of a system that uses a **container**._"
   ]
  },
  {
   "cell_type": "markdown",
   "id": "fffb05d1-65e3-4b89-a29c-2701c9c46963",
   "metadata": {
    "slideshow": {
     "slide_type": "skip"
    },
    "tags": [
     "worksheet-only"
    ]
   },
   "source": [
    "<p style=\"height:10em;\"></p>\n",
    "\n",
    "🛑 **STOP here** after completing the above questions; if you have extra time take a few deep breaths to reduce stress."
   ]
  },
  {
   "cell_type": "markdown",
   "id": "077c4132-504f-426e-95a3-157fecb06509",
   "metadata": {
    "slideshow": {
     "slide_type": "skip"
    },
    "tags": [
     "notes-only"
    ]
   },
   "source": [
    "## Data centers"
   ]
  },
  {
   "cell_type": "markdown",
   "id": "11ad9547-b5a6-44c3-be44-223ba0734de3",
   "metadata": {
    "slideshow": {
     "slide_type": "skip"
    },
    "tags": [
     "notes-only"
    ]
   },
   "source": [
    "* _What is a data center?_ — a large collection of computer systems housed in a single physical location\n",
    "* Primary components\n",
    "    * Servers — with multi-core CPU, main memory, secondary storage, and network interface card (NIC)\n",
    "    * Racks — cabinet containing tens of servers\n",
    "    * Rows — line of racks\n",
    "    * Network — routers, switches, and fiber optic cables connecting servers/racks together to allow them to exchange data\n",
    "        * Includes connectivity to other data centers and the Internet\n",
    "    * Power system — electrical wires, distribution units, generators, connections to the power grid\n",
    "    * Cooling system — fans, cooling units (mechanical, evaporative, outdoor air, etc.)\n",
    "* Resources can be pooled together to provide more computing and storage than a single server\n",
    "    * Application can be replicated on many servers (running many processes) to handle a large volume of data/users and provide fault-tolerance\n",
    "    * Main memory on many servers can be pooled together to provide the abstraction of large, low-latency storage\n",
    "    * Files can be distributed/replicated across secondary storage on many servers to handle a large volume of data and provide fault-tolerance"
   ]
  }
 ],
 "metadata": {
  "kernelspec": {
   "display_name": "C",
   "language": "c",
   "name": "c"
  },
  "language_info": {
   "file_extension": ".c",
   "mimetype": "c",
   "name": "c"
  }
 },
 "nbformat": 4,
 "nbformat_minor": 5
}
