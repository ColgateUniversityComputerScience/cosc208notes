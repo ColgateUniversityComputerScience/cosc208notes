{
 "cells": [
  {
   "cell_type": "markdown",
   "id": "d4c0cf7a-6741-41de-924b-477e6ac8b4e3",
   "metadata": {
    "slideshow": {
     "slide_type": "skip"
    },
    "tags": []
   },
   "source": [
    "# Storage: cache replacement; loop interchange\n",
    "_COSC 208, Introduction to Computer Systems, 2024-04-26_"
   ]
  },
  {
   "cell_type": "markdown",
   "id": "78350802-670b-44a9-98b4-46d2cd90ee79",
   "metadata": {
    "slideshow": {
     "slide_type": "skip"
    },
    "tags": []
   },
   "source": [
    "## Announcements\n",
    "* Attend VAP candidate talk today 11:15am-11:45am\n",
    "* Project 3 revisions due next Friday @ 5pm\n",
    "* Quiz 6 Wednesday – can start as early as 8:05am\n",
    "    * 6.1: Describe the mechanisms operating systems use to allocate hardware resources and ensure errant processes do not take over the system\n",
    "    * 6.2: Determine the possible outputs of C programs that involve multiple processes and/or threads\n",
    "    * 6.3: Develop C programs that create and wait for processes and execute other programs\n",
    "    * 6.4: Modify C programs to use threads\n",
    "    * 6.5: Compare virtualization technologies\n",
    "    * 5.1: Determine where code and data resides throughout a program’s lifecycle\n",
    "    * 5.2: Determine how assembly and/or C code can be modified for more efficient use of storage\n",
    "    * Optional:\n",
    "        * 4.1: Interpret ARM assembly code\n",
    "        * 4.2: Determine the relationship between C code and ARM assembly code"
   ]
  },
  {
   "cell_type": "markdown",
   "id": "da1fb4b2-e9fe-4d36-a409-388d2f498f71",
   "metadata": {
    "slideshow": {
     "slide_type": "skip"
    },
    "tags": [
     "notes-only"
    ]
   },
   "source": [
    "## Outline\n",
    "* SETs\n",
    "* Warm-up\n",
    "* Cache replacement\n",
    "* Loop interchange"
   ]
  },
  {
   "cell_type": "markdown",
   "id": "30668a31-dd79-46fe-a7c0-c93223b39240",
   "metadata": {
    "slideshow": {
     "slide_type": "skip"
    },
    "tags": []
   },
   "source": [
    "## SETs"
   ]
  },
  {
   "cell_type": "markdown",
   "id": "67ea334f-496e-4912-991c-e65d47069a72",
   "metadata": {
    "tags": []
   },
   "source": [
    "## Warm-up"
   ]
  },
  {
   "cell_type": "markdown",
   "id": "ff0ca62c-d352-4c73-937a-859dbef7f42e",
   "metadata": {},
   "source": [
    "Q1: _For each of the following scenarios, indicate whether it is an example of temporal locality, spatial locality, or neither._"
   ]
  },
  {
   "cell_type": "markdown",
   "id": "778b73f2-4118-43ca-815c-7c68de0826a6",
   "metadata": {
    "slideshow": {
     "slide_type": "skip"
    },
    "tags": [
     "notes-only"
    ]
   },
   "source": [
    "* Gates for flights on the same airline are located in the same airport terminal/concourse – spatial locality\n",
    "* A grocery list is arranged in alphabetical order – neither\n",
    "* Clothes in a closet are grouped into outfits, with a shirt and a pair of pants stored next to each other – spatial locality\n",
    "* Boxes of cereal, bowls, and spoons are stored in adjacent kitchen cabinets/drawers – spatial locality\n",
    "* You repeatedly check your phone for new messages – temporal locality\n",
    "* A variable used in a for loop – temporal locality\n",
    "* Variables used in different functions – neither\n",
    "* A function's parameters, which are each used once within the function – spatial locality"
   ]
  },
  {
   "cell_type": "markdown",
   "id": "ab508c28-f541-462c-84e8-b4bb98ab1044",
   "metadata": {
    "tags": [
     "worksheet-only"
    ]
   },
   "source": [
    "* Gates for flights on the same airline are located in the same airport terminal/concourse\n",
    "* A grocery list is arranged in alphabetical order\n",
    "* Clothes in a closet are grouped into outfits, with a shirt and a pair of pants stored next to each other\n",
    "* Boxes of cereal, bowls, and spoons are stored in adjacent kitchen cabinets/drawers\n",
    "* You repeatedly check your phone for new messages\n",
    "* A variable used in a for loop\n",
    "* Variables used in different functions\n",
    "* A function's parameters, which are each used once within the function"
   ]
  },
  {
   "cell_type": "markdown",
   "id": "a3c8581d-7371-4498-a215-8875474d7416",
   "metadata": {
    "slideshow": {
     "slide_type": "skip"
    },
    "tags": [
     "worksheet-only"
    ]
   },
   "source": [
    "🛑 **STOP here** after completing the above question; if you have extra time please **skip ahead** to the extra practice."
   ]
  },
  {
   "cell_type": "markdown",
   "id": "3ec442a8-3a95-49d1-b562-0fc0f55a92ec",
   "metadata": {
    "slideshow": {
     "slide_type": "slide"
    },
    "tags": []
   },
   "source": [
    "## Cache replacement"
   ]
  },
  {
   "cell_type": "markdown",
   "id": "1501ba0a-a7fd-402c-b39d-8b672dc31335",
   "metadata": {
    "slideshow": {
     "slide_type": "skip"
    },
    "tags": [
     "notes-only"
    ]
   },
   "source": [
    "* If a cache is full, then a cache entry must be removed so different data can be placed in the cache\n",
    "* Cache replacement policy governs which data is removed\n",
    "* _What should a good cache replacement policy do?_ — maximize the number of cache hits (or minimize the number of cache misses)\n",
    "    * Evaluation metric: Hit ratio = number of hits / total number of memory accesses\n",
    "* _How do we determine which cache entry to replace?_\n",
    "* First-in First-out (FIFO)\n",
    "    * Simple to implement\n",
    "    * Doesn’t consider the importance of a cache entry\n",
    "* Optimal replacement policy – replace the entry that will be accessed furthest in the future\n",
    "    * Impractical because we don’t know data access patterns a priori\n",
    "* Least Recently Used (LRU)\n",
    "    * LRU assumes an item that was accessed recently will be accessed again soon – temporal locality\n",
    "    * Downside: lots of overhead to implement — need to store an ordered list of items and move an item up in the list whenever it’s accessed\n",
    "    * Where does this go wrong? — when working-set size (i.e., number of repeatedly accessed entries) is (slightly) greater than size of the cache"
   ]
  },
  {
   "cell_type": "markdown",
   "id": "068a9301-784a-406e-b0ee-b7632b32f678",
   "metadata": {},
   "source": [
    "* Assume a cache can hold 3 entries and the following 15 data accesses occur: \n",
    "```\n",
    "3, 4, 4, 5, 3, 2, 3, 4, 1, 4, 4, 2, 5, 2, 4\n",
    "```\n",
    "* Q2: _What is the sequence of hits, insertions, and replacements that occur when an **optimal** cache replacement algorithm is used?_"
   ]
  },
  {
   "cell_type": "markdown",
   "id": "0e9e3642-6baf-4c3a-b9d6-fcd50f4d56ef",
   "metadata": {
    "slideshow": {
     "slide_type": "skip"
    },
    "tags": [
     "notes-only"
    ]
   },
   "source": [
    "```\n",
    "+3, +4, H4, +5, H3, -5/+2, H3, H4, -3/+1, H4, H4, H2, -1/+5, H2, H4\n",
    "Hit ratio = 9/15 = 60%\n",
    "```"
   ]
  },
  {
   "cell_type": "markdown",
   "id": "816f71ca-d323-4ce5-aeea-6917be89161e",
   "metadata": {
    "slideshow": {
     "slide_type": "skip"
    },
    "tags": [
     "worksheet-only"
    ]
   },
   "source": [
    "<p style=\"height:5em;\"></p>"
   ]
  },
  {
   "cell_type": "markdown",
   "id": "78b31e3b-ca1a-40c6-a24a-9cea0eeefe75",
   "metadata": {},
   "source": [
    "* Q3: _What is the sequence of hits, insertions, and replacements that occur when a **least recently used (LRU)** cache replacement algorithm is used?_"
   ]
  },
  {
   "cell_type": "markdown",
   "id": "766e9f3a-98aa-4fcd-9e5e-cbec465d96c2",
   "metadata": {
    "slideshow": {
     "slide_type": "skip"
    },
    "tags": [
     "notes-only"
    ]
   },
   "source": [
    "```\n",
    "+3, +4, H4, +5, H3, -4/+2, H3, -5/+4, -2/+1, H4, H4, -3/+2, -1/+5, H2, H4\n",
    "Hit ratio = 7/15 = 47%\n",
    "```"
   ]
  },
  {
   "cell_type": "markdown",
   "id": "abeca277-d883-4273-9564-c1f91100e646",
   "metadata": {
    "slideshow": {
     "slide_type": "skip"
    },
    "tags": [
     "worksheet-only"
    ]
   },
   "source": [
    "<p style=\"height:5em;\"></p>\n",
    "\n",
    "🛑 **STOP here** after completing the above question; if you have extra time please **skip ahead** to the extra practice."
   ]
  },
  {
   "cell_type": "markdown",
   "id": "59a9b3a8-be20-4679-aa51-e8e29d36add8",
   "metadata": {
    "slideshow": {
     "slide_type": "slide"
    },
    "tags": []
   },
   "source": [
    "## Loop interchange"
   ]
  },
  {
   "cell_type": "markdown",
   "id": "098caece-78ae-4ceb-9daa-2c8ea009e1ae",
   "metadata": {
    "slideshow": {
     "slide_type": "skip"
    },
    "tags": []
   },
   "source": [
    "* Example"
   ]
  },
  {
   "cell_type": "code",
   "execution_count": 1,
   "id": "22e143cd-3ecd-4a39-9c67-330917a4a674",
   "metadata": {
    "tags": [
     "worksheet-code-only"
    ]
   },
   "outputs": [
    {
     "name": "stdout",
     "output_type": "stream",
     "text": [
      "66\n"
     ]
    }
   ],
   "source": [
    "#include <stdlib.h>\n",
    "#include <stdio.h>\n",
    "#define LEN 12\n",
    "int main() {\n",
    "    int *array = malloc(sizeof(int) * LEN);\n",
    "\n",
    "    for (int i = 0; i < LEN; i++) {\n",
    "        array[i] = i;\n",
    "    }\n",
    "    \n",
    "    int sum = 0;\n",
    "    for (int j = 0; j < 4; j++) {\n",
    "        for (int k = 0; k < LEN; k += 4) {\n",
    "            sum += array[j+k];\n",
    "        }\n",
    "    }\n",
    "    printf(\"%d\\n\", sum);\n",
    "}"
   ]
  },
  {
   "cell_type": "markdown",
   "id": "c8b3e066-d554-43a4-9cd3-022f18cc20cc",
   "metadata": {
    "slideshow": {
     "slide_type": "skip"
    },
    "tags": [
     "notes-only"
    ]
   },
   "source": [
    "* _Assume the values of all local variables are stored in registers (**not** the stack) and the value of `array` is `0x400`. What is the sequence of memory addresses that are accessed?_\n",
    "    * First for loop: `0x400`, `0x404`, `0x408`, `0x40c`, `0x410`, `0x414`, `0x418`, `0x41c`, `0x420`, `0x424`, `0x428`, `0x42c`\n",
    "    * Second for loop: `0x400`, `0x410`, `0x420`, `0x404`, `0x414`, `0x424`, `0x408`, `0x418`, `0x428`, `0x40c`, `0x41c`, `0x42c`, \n",
    "    * Notice that the first for loop accesses memory addresses in order, whereas the second for loop accesses addresses out of order\n",
    "* _Now assume the system uses a cache that holds 2 entries which are each 16 bytes large. What is the sequence of hits and misses using a least recently used (LRU) replacement policy?_\n",
    "    * First for loop: Miss (+0x4000), Hit, Hit, Hit, Miss (+0x4010), Hit, Hit, Hit, Miss (-0x4000/+0x4020), Hit, Hit, Hit\n",
    "    * Second for loop: Miss (-0x4010/+0x4000), Miss (-0x4020/+0x4010), Miss (-0x4000/+0x4020), Miss (-0x4010/+0x4000), Miss (-0x4020/+0x4010), Miss (-0x4000/+0x4020), Miss (-0x4010/+0x4000), Miss (-0x4020/+0x4010), Miss (-0x4000/+0x4020), Miss (-0x4010/+0x4000), Miss (-0x4020/+0x4010), Miss (-0x4000/+0x4020)\n",
    "    * Notice that the first for loop has three hits after each miss, whereas the second for loop is all misses\n",
    "* _How could we modify the code to achieve a higher hit ratio?_ – loop interchange, i.e., swap inner and outer loops"
   ]
  },
  {
   "cell_type": "code",
   "execution_count": 2,
   "id": "b44bd006-61a3-491e-9600-905dc7e7a34c",
   "metadata": {
    "slideshow": {
     "slide_type": "skip"
    },
    "tags": [
     "notes-only"
    ]
   },
   "outputs": [
    {
     "name": "stdout",
     "output_type": "stream",
     "text": [
      "66\n"
     ]
    }
   ],
   "source": [
    "#include <stdlib.h>\n",
    "#include <stdio.h>\n",
    "#define LEN 12\n",
    "int main() {\n",
    "    int *array = malloc(sizeof(int) * LEN);\n",
    "\n",
    "    for (int i = 0; i < LEN; i++) {\n",
    "        array[i] = i;\n",
    "    }\n",
    "    \n",
    "    int sum = 0;\n",
    "    for (int k = 0; k < LEN; k += 4) {\n",
    "        for (int j = 0; j < 4; j++) {\n",
    "            sum += array[j+k];\n",
    "        }\n",
    "    }\n",
    "    printf(\"%d\\n\", sum);\n",
    "}"
   ]
  },
  {
   "cell_type": "markdown",
   "id": "b8ed1be1-70d7-42fa-bcc6-06cff0bc0ce9",
   "metadata": {
    "slideshow": {
     "slide_type": "subslide"
    },
    "tags": []
   },
   "source": [
    "* Q4: _Would loop interchange improve the efficiency of this code?_"
   ]
  },
  {
   "cell_type": "code",
   "execution_count": null,
   "id": "7d51d0b9-8295-4b7a-84bd-2bd04bad9697",
   "metadata": {
    "tags": [
     "worksheet-only"
    ]
   },
   "outputs": [],
   "source": [
    "void hundreds() {\n",
    "    int *nums = malloc(sizeof(int) * 1000);\n",
    "    for (int i = 0; i < 1000; i+= 100) {\n",
    "        for (int j = 0; j < 100; j++) {\n",
    "            nums[i+j] = i;\n",
    "        }\n",
    "    }\n",
    "}"
   ]
  },
  {
   "cell_type": "markdown",
   "id": "8603fd12-edc8-43b6-93da-74f6d01037b1",
   "metadata": {
    "slideshow": {
     "slide_type": "skip"
    },
    "tags": [
     "notes-only"
    ]
   },
   "source": [
    "    No"
   ]
  },
  {
   "cell_type": "markdown",
   "id": "fbebad94-eaf4-4943-ba1a-129c82c4050f",
   "metadata": {
    "slideshow": {
     "slide_type": "skip"
    },
    "tags": [
     "worksheet-only"
    ]
   },
   "source": [
    "<p style=\"height:2em;\"></p>"
   ]
  },
  {
   "cell_type": "markdown",
   "id": "a82cac33-a4dd-4c39-bfe1-03034d48ca21",
   "metadata": {
    "slideshow": {
     "slide_type": "subslide"
    },
    "tags": []
   },
   "source": [
    "* Q5: _Would loop interchange improve the efficiency of this code?_"
   ]
  },
  {
   "cell_type": "code",
   "execution_count": null,
   "id": "f3638e65-4dad-4520-a7fb-f286fd818863",
   "metadata": {},
   "outputs": [],
   "source": [
    "void multiplication(int grid[][], int rows, int cols) {\n",
    "    for (int c = 0; c < cols; c++) {\n",
    "        for (int r = 0; r < rows; r++) {\n",
    "            grid[r][c] = c * r;\n",
    "        }\n",
    "    }\n",
    "}"
   ]
  },
  {
   "cell_type": "markdown",
   "id": "262945dc-3068-4eae-8fe1-ac78aa99768a",
   "metadata": {
    "slideshow": {
     "slide_type": "skip"
    },
    "tags": [
     "notes-only"
    ]
   },
   "source": [
    "    Yes"
   ]
  },
  {
   "cell_type": "markdown",
   "id": "7c6dab10-6b18-4d29-aec8-e843ee40211a",
   "metadata": {
    "slideshow": {
     "slide_type": "skip"
    },
    "tags": [
     "worksheet-only"
    ]
   },
   "source": [
    "<div style=\"page-break-after:always;\"></div>"
   ]
  },
  {
   "cell_type": "markdown",
   "id": "5f4485d6-763b-4309-a703-58522e2d0a83",
   "metadata": {
    "slideshow": {
     "slide_type": "slide"
    },
    "tags": []
   },
   "source": [
    "## Extra practice"
   ]
  },
  {
   "cell_type": "markdown",
   "id": "c7f0480a-68ea-4191-b21c-056c1c8748ed",
   "metadata": {
    "tags": []
   },
   "source": [
    "Q6: _For each of the following instances of caching, indicate whether the caching is motivated by temporal or spatial locality._"
   ]
  },
  {
   "cell_type": "markdown",
   "id": "bc596435-38f4-42cd-872d-aca6fb1e704f",
   "metadata": {
    "slideshow": {
     "slide_type": "skip"
    },
    "tags": [
     "notes-only"
    ]
   },
   "source": [
    "* A CPU caches the first 32 instructions of a function when the function is called – spatial\n",
    "* A CPU caches all of the instructions for a frequently called function – temporal\n",
    "* A web browser caches the Moodle pages for your courses, which you view multiple times per week – temporal\n",
    "* A content distribution network (CDN) caches a video that has gone viral – temporal\n",
    "* A content distribution network (CDN) caches \"recommended videos\" related to a video – spatial"
   ]
  },
  {
   "cell_type": "markdown",
   "id": "1b7a5138-60de-4c8d-81ca-c7fce9a69790",
   "metadata": {
    "tags": [
     "worksheet-only"
    ]
   },
   "source": [
    "* A CPU caches the first 32 instructions of a function when the function is called\n",
    "* A CPU caches all of the instructions for a frequently called function\n",
    "* A web browser caches the Moodle pages for your courses, which you view multiple times per week\n",
    "* A content distribution network (CDN) caches a video that has gone viral\n",
    "* A content distribution network (CDN) caches \"recommended videos\" related to a video"
   ]
  },
  {
   "cell_type": "markdown",
   "id": "1635f9f0-6b5f-479f-a639-df63885b690e",
   "metadata": {
    "slideshow": {
     "slide_type": "subslide"
    },
    "tags": []
   },
   "source": [
    "Q7: _Assume a cache can hold 3 entries and the following 15 data accesses occur:_ \n",
    "```\n",
    "3, 4, 4, 5, 3, 2, 3, 4, 1, 4, 4, 2, 5, 2, 4\n",
    "```\n",
    "_What is the sequence of hits, insertions, and replacements that occur when a **first in first out (FIFO)** cache replacement algorithm is used?_"
   ]
  },
  {
   "cell_type": "markdown",
   "id": "62482c22-704c-4673-ab52-68357a3274e8",
   "metadata": {
    "slideshow": {
     "slide_type": "skip"
    },
    "tags": [
     "notes-only"
    ]
   },
   "source": [
    "```\n",
    "+3, +4, H4, +5, H3, -3/+2, -4/+3, -5/+4, -2/+1, H4, H4, -3/+2, -4/+5, H2, -1/+4\n",
    "Hit ratio = 5/15 = 33%\n",
    "```"
   ]
  }
 ],
 "metadata": {
  "kernelspec": {
   "display_name": "C",
   "language": "c",
   "name": "c"
  },
  "language_info": {
   "file_extension": ".c",
   "mimetype": "c",
   "name": "c"
  }
 },
 "nbformat": 4,
 "nbformat_minor": 5
}
