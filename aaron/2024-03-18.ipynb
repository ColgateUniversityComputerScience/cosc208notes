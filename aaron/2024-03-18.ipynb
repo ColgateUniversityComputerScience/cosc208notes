{
 "cells": [
  {
   "cell_type": "markdown",
   "id": "39d76db8-edb9-47d5-bec8-7998805660b3",
   "metadata": {
    "slideshow": {
     "slide_type": "skip"
    },
    "tags": []
   },
   "source": [
    "# Assembly: operations and operands\n",
    "_COSC 208, Introduction to Computer Systems, 2024-03-18_"
   ]
  },
  {
   "cell_type": "markdown",
   "id": "78ce01e3-ca44-4561-b8fd-a49919e54a9a",
   "metadata": {
    "slideshow": {
     "slide_type": "skip"
    },
    "tags": []
   },
   "source": [
    "## Announcements\n",
    "* Quiz 3 Wednesday\n",
    "    * 2.1: Determine the contents of the stack and heap during a program’s execution\n",
    "    * 2.2: Develop C **code** that appropriately uses arrays and pointer arithmetic\n",
    "    * 2.4: Correct memory errors in C **code** with the assistance of a compiler and valgrind\n",
    "    * 3.1: Design single- and multi-bit circuits for arithmetic and comparison operators\n",
    "    * 3.2: Design a simple processing unit and explain how it executes assembly instructions\n",
    "    * Optional: attempt one of...\n",
    "        * 1.1: Develop C **code** that appropriately manipulates numbers, characters, and strings\n",
    "        * 1.2: Convert signed and unsigned numbers between decimal, binary, and hexadecimal\n",
    "        * 1.3: Compute the results of arithmetic and bitwise operators in binary\n",
    "* Project 2 due Wednesday, March 27 @ 11pm – connect with your partner and decide on a game **no later than tomorrow**"
   ]
  },
  {
   "cell_type": "markdown",
   "id": "f17866fc-fc93-480c-a9a5-d903a0657063",
   "metadata": {
    "slideshow": {
     "slide_type": "skip"
    },
    "tags": []
   },
   "source": [
    "## Outline\n",
    "* Warm-up\n",
    "* Assembly\n",
    "* Viewing assembly code\n",
    "* Operands"
   ]
  },
  {
   "cell_type": "markdown",
   "id": "e663073f-3384-4891-978a-b8c31d0a6263",
   "metadata": {
    "slideshow": {
     "slide_type": "slide"
    },
    "tags": []
   },
   "source": [
    "## Warm-up"
   ]
  },
  {
   "cell_type": "markdown",
   "id": "841f6f3e-e954-45fa-84fe-951093ec6c77",
   "metadata": {},
   "source": [
    "* Q1: _Draw the circuitry for a processing unit that has two general purpose registers (r0 and r1) and supports four bitwise operations (`&`, `|`, `^`, `~`). Assume you already have storage, MUX, DMUX, and bitwise operations (`&`, `|`, `^`, `~`) circuits available as building blocks._"
   ]
  },
  {
   "cell_type": "markdown",
   "id": "27c0c763-8dc3-43f5-a971-291eaaede49b",
   "metadata": {
    "slideshow": {
     "slide_type": "skip"
    },
    "tags": [
     "notes-only"
    ]
   },
   "source": [
    "![](images/circuits/processing_unit_with_bitwise_operators.png)"
   ]
  },
  {
   "cell_type": "markdown",
   "id": "54035356-a49f-4c50-a205-d37070b82906",
   "metadata": {
    "slideshow": {
     "slide_type": "skip"
    },
    "tags": [
     "worksheet-only"
    ]
   },
   "source": [
    "<p style=\"height:30em;\"></p>\n",
    "\n",
    "🛑 **STOP here** after completing the above question; if you have extra time please **skip ahead** to the extra practice.\n",
    "\n",
    "<div style=\"page-break-after:always;\"></div>"
   ]
  },
  {
   "cell_type": "markdown",
   "id": "62f3d1f1-af19-4940-9fff-1b5116c6557e",
   "metadata": {
    "slideshow": {
     "slide_type": "skip"
    },
    "tags": [
     "notes-only"
    ]
   },
   "source": [
    "## Assembly instructions"
   ]
  },
  {
   "cell_type": "markdown",
   "id": "8aafcccb-eb08-475e-be4b-da85dfc2c024",
   "metadata": {
    "slideshow": {
     "slide_type": "skip"
    },
    "tags": [
     "notes-only"
    ]
   },
   "source": [
    "* Simple instructions a processor can execute – e.g., add two integers, compare two integers, load/store a value from/to main memory\n",
    "* C code is compiled into assembly code\n",
    "    * Python code is interpreted; interpreter is compiled into assembly\n",
    "    * Java code is compiled to Java byte code, which is executed by the Java Virtual Machine (JVM); JVM is compiled into assembly\n",
    "* Assembly instructions are expressed in binary\n",
    "    * Some bits determine the operation – used as select bits for the multiplexer between the arithmetic and logic circuits and the ALU's output\n",
    "    * Some bits determine the first source register and other bits determine the second source register – used as select bits for the multiplexers between the register file's outputs and ALU's inputs\n",
    "    * Some bits determine the destination register – used as select bits for the demultiplexer between the ALU's output and register file's input\n",
    "* E.g., our simple processor from the warm-up uses 5-bit assembly instructions\n",
    "    * First (i.e., left-most) two bits determine operation\n",
    "    * Next bit determines destination register\n",
    "    * Next bit determines first source register\n",
    "    * Final (i.e., right-most) bit determinse second source register\n",
    "* Instruction set architectures (ISAs) — defines the low-level instructions a central processing unit (CPU), or processor, can execute\n",
    "    * Most popular Complex Instruction Set Computer (CISC) architecture: x86 (includes IA32 and x86-64)\n",
    "    * Most popular Reduced Instruction Set Computer (RISC) architecture: ARM\n",
    "    * Other common RISC architectures: SPARC (Scalable Processor Architecture), MIPS (Microprocessor without Interlocked Pipelined Stages), PowerPC, ARC (Argonaut RISC Core)\n",
    "* Our goal: to understand the relationship between C code and its corresponding assembly code to make informed programming decisions"
   ]
  },
  {
   "cell_type": "markdown",
   "id": "a31d5fc4-f918-40bf-9381-d502cf27c36c",
   "metadata": {
    "slideshow": {
     "slide_type": "slide"
    },
    "tags": []
   },
   "source": [
    "## Viewing assembly code"
   ]
  },
  {
   "cell_type": "markdown",
   "id": "9990acae-afca-4ab9-802c-ec3481333546",
   "metadata": {},
   "source": [
    "* Example program (`dogyears.c`)"
   ]
  },
  {
   "cell_type": "code",
   "execution_count": null,
   "id": "ba449c04-69ed-4130-82e9-a41c25515742",
   "metadata": {
    "tags": [
     "worksheet-code-only"
    ]
   },
   "outputs": [],
   "source": [
    "/* 1*/   #include <stdio.h>\n",
    "/* 2*/   #include <stdlib.h>\n",
    "/* 3*/   int dog_years(int birth) {\n",
    "/* 4*/       int current = 2023;\n",
    "/* 5*/       int years = current - birth;\n",
    "/* 6*/       years = years * 7;\n",
    "/* 7*/       return years;\n",
    "/* 8*/   }\n",
    "/* 9*/   int main() {\n",
    "/*10*/       printf(\"What year were you born? \");\n",
    "/*11*/       char year[5];\n",
    "/*12*/       fgets(year, 5, stdin);\n",
    "/*13*/       int dog_age = dog_years(atoi(year));\n",
    "/*14*/       printf(\"You are %d dog years old\\n\", dog_age);\n",
    "/*15*/   }"
   ]
  },
  {
   "cell_type": "markdown",
   "id": "dbd244b0-c616-4210-a836-746c11fa7b6e",
   "metadata": {
    "slideshow": {
     "slide_type": "skip"
    },
    "tags": [
     "notes-only"
    ]
   },
   "source": [
    "* Viewing assembly code\n",
    "    * Compile: `gcc -fomit-frame-pointer -o dogyears dogyears.c`\n",
    "    * Disassemble executable: `objdump -d dogyears > dogyears.txt`"
   ]
  },
  {
   "cell_type": "markdown",
   "id": "929ab770-14e2-430e-b46a-4e05fd4e966a",
   "metadata": {
    "slideshow": {
     "slide_type": "subslide"
    },
    "tags": []
   },
   "source": [
    "* Assembly code (excerpt from `dogyears.txt`)\n",
    "    ```\n",
    "    0000000000000914 <dog_years>:\n",
    "     914:   d10083ff        sub     sp, sp, #0x20\n",
    "     918:   b9000fe0        str     w0, [sp, #12]\n",
    "     91c:   5280fce0        mov     w0, #0x7e7\n",
    "     920:   b9001be0        str     w0, [sp, #24]\n",
    "     924:   b9401be1        ldr     w1, [sp, #24]\n",
    "     928:   b9400fe0        ldr     w0, [sp, #12]\n",
    "     92c:   4b000020        sub     w0, w1, w0\n",
    "     930:   b9001fe0        str     w0, [sp, #28]\n",
    "     934:   b9401fe1        ldr     w1, [sp, #28]\n",
    "     938:   2a0103e0        mov     w0, w1\n",
    "     93c:   531d7000        lsl     w0, w0, #3\n",
    "     940:   4b010000        sub     w0, w0, w1\n",
    "     944:   b9001fe0        str     w0, [sp, #28]\n",
    "     948:   b9401fe0        ldr     w0, [sp, #28]\n",
    "     94c:   910083ff        add     sp, sp, #0x20\n",
    "     950:   d65f03c0        ret\n",
    "    ```"
   ]
  },
  {
   "cell_type": "markdown",
   "id": "e117ce88-35f2-4d0d-886c-f3cbf3455779",
   "metadata": {
    "slideshow": {
     "slide_type": "skip"
    },
    "tags": [
     "worksheet-only"
    ]
   },
   "source": [
    "<div style=\"page-break-after:always;\"></div>"
   ]
  },
  {
   "cell_type": "markdown",
   "id": "9fa02227-4dc3-4bad-a589-f5df0ac650af",
   "metadata": {
    "slideshow": {
     "slide_type": "skip"
    },
    "tags": [
     "notes-only"
    ]
   },
   "source": [
    "* _What do each of the columns contain?_\n",
    "    * Code memory address\n",
    "    * Bytes corresponding to instruction\n",
    "    * Operation\n",
    "        * sub – subtraction\n",
    "        * str – store (i.e., copy) a value from a register into main memory\n",
    "        * mov – move (i.e., copy) into a register a constant or a value from another register\n",
    "        * ldr – load (i.e., copy) a value from main memory into a register\n",
    "        * lsl – logical shift left (i.e., `<<`)\n",
    "        * add – addition\n",
    "        * ret – return from function call\n",
    "    * Operands"
   ]
  },
  {
   "cell_type": "markdown",
   "id": "f2c846cb-c607-4d45-ab5f-76244b723f8c",
   "metadata": {
    "slideshow": {
     "slide_type": "skip"
    },
    "tags": [
     "notes-only"
    ]
   },
   "source": [
    "## Operands"
   ]
  },
  {
   "cell_type": "markdown",
   "id": "979e5a49-8161-4544-bf5c-8b7b72e10478",
   "metadata": {
    "slideshow": {
     "slide_type": "skip"
    },
    "tags": [
     "notes-only"
    ]
   },
   "source": [
    "* Registers\n",
    "    * General purpose registers\n",
    "        * `w0` through `w30` (32-bit) \n",
    "        * `x0` through `x30` (64-bit)\n",
    "    * Stack pointer `sp` – memory address of the top of the current stack frame\n",
    "    * Program counter `pc` – memory address of the current instruction\n",
    "* Constant\n",
    "    * In hex — e.g., `#0x20`\n",
    "    * In decimal — e.g., `#8`\n",
    "* Memory – only used in `ldr` (load) and `str` (store) instructions, which copy data between main memory and the processor\n",
    "    * Dereference — e.g., `[x1]`\n",
    "    * Add to memory address, then dereference — e.g., `[sp,#16]`"
   ]
  },
  {
   "cell_type": "markdown",
   "id": "b9352283-676c-437f-bbb5-e4f5cbcc1835",
   "metadata": {
    "slideshow": {
     "slide_type": "slide"
    },
    "tags": []
   },
   "source": [
    "## Extra practice"
   ]
  },
  {
   "cell_type": "markdown",
   "id": "aedc67e3-8fd8-447d-9483-c4e6d1d10faf",
   "metadata": {},
   "source": [
    "* Q2: _Draw the circuitry for a processing unit that has four general purpose registers (r0-r3) and supports four operations:_\n",
    "    * `nop`: no operation; do nothing\n",
    "    * `mov`: copy a value from one register to another\n",
    "    * `movc`: store a constant value into a register, where the constant comes from the last four bits of the instruction\n",
    "    * `add`: add the values in two registers and store the result in a register"
   ]
  },
  {
   "cell_type": "markdown",
   "id": "5450a0be-093f-4e55-99c1-642048db99a3",
   "metadata": {
    "slideshow": {
     "slide_type": "skip"
    },
    "tags": [
     "notes-only"
    ]
   },
   "source": [
    "![](images/circuits/processing_unit_with_special_operators.png)"
   ]
  }
 ],
 "metadata": {
  "kernelspec": {
   "display_name": "C",
   "language": "c",
   "name": "c"
  },
  "language_info": {
   "file_extension": ".c",
   "mimetype": "c",
   "name": "c"
  }
 },
 "nbformat": 4,
 "nbformat_minor": 5
}
