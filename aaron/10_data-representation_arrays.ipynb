{
 "cells": [
  {
   "cell_type": "markdown",
   "id": "766c3265-87a5-4a23-b560-83e011c2ed6b",
   "metadata": {
    "editable": true,
    "slideshow": {
     "slide_type": "skip"
    },
    "tags": []
   },
   "source": [
    "# Data representation: arrays; strings; input\n",
    "_COSC 208, Introduction to Computer Systems, Fall 2024_"
   ]
  },
  {
   "cell_type": "markdown",
   "id": "191c15e7-124f-4158-8ce9-41b74735bea2",
   "metadata": {
    "editable": true,
    "slideshow": {
     "slide_type": "skip"
    },
    "tags": []
   },
   "source": [
    "## Announcements\n",
    "* Before each class: read _Dive Into Systems_ sections listed on the course schedule"
   ]
  },
  {
   "cell_type": "markdown",
   "id": "b22129f8-cc9b-41e4-872f-57a38223a7b7",
   "metadata": {
    "slideshow": {
     "slide_type": "slide"
    },
    "tags": []
   },
   "source": [
    "## Strings"
   ]
  },
  {
   "cell_type": "markdown",
   "id": "ea79433a-39c4-44e8-88e5-c03ac3b81c4f",
   "metadata": {
    "slideshow": {
     "slide_type": "skip"
    },
    "tags": [
     "notes-only"
    ]
   },
   "source": [
    "* String is simply an array of characters\n",
    "* End of string is denoted by the null character (`\\0`)\n",
    "    ```\n",
    "                 ┏━━━┳━━━┳━━━┳━━━┳━━━┳━━━┳━━━┳━━━━┓\n",
    "    \"Colgate\" == ┃ C ┃ o ┃ l ┃ g ┃ a ┃ t ┃ e ┃ \\0 ┃\n",
    "                 ┗━━━┻━━━┻━━━┻━━━┻━━━┻━━━┻━━━┻━━━━┛\n",
    "    ```\n",
    "* `strlen` counts the number of characters in an array before a null character \n",
    "    * The null character is **not** included in the length\n",
    "    * The `man` page for `strlen` indicates the parameter is of type `const char *`\n",
    "        * `const` means the function does not modify the array\n",
    "        * `char *` means a character pointer; in a few weeks we'll discuss the duality between arrays and pointers; for now, it means you can pass an array of characters to this function"
   ]
  },
  {
   "cell_type": "markdown",
   "id": "3d6c9585-cc4c-468d-b8ef-5d80b9b3a1d0",
   "metadata": {
    "slideshow": {
     "slide_type": "skip"
    },
    "tags": [
     "blank"
    ]
   },
   "source": [
    "<div style=\"height:10em;\"></div>"
   ]
  },
  {
   "cell_type": "markdown",
   "id": "2fa83c86-4abc-4cc3-b17b-7680385201bc",
   "metadata": {
    "tags": [
     "question"
    ]
   },
   "source": [
    "Q6: _What is the output of this program?_"
   ]
  },
  {
   "cell_type": "code",
   "execution_count": 10,
   "id": "ecd577fd-a2ea-4ab2-913d-7ec9826312da",
   "metadata": {
    "tags": [
     "worksheet-code-only"
    ]
   },
   "outputs": [
    {
     "name": "stdout",
     "output_type": "stream",
     "text": [
      "7\n",
      "4\n",
      "Colgate-wUni.\n",
      "Col./Uni.\n"
     ]
    }
   ],
   "source": [
    "#include <stdio.h>\n",
    "int main() {\n",
    "    char first[] = \"Colgate\";\n",
    "    char second[10] = \"Univ\";\n",
    "    printf(\"%d\\n\", strlen(first));\n",
    "    printf(\"%d\\n\", strlen(second));\n",
    "    first[strlen(first)] = '-';\n",
    "    second[strlen(second)-1] = '.';\n",
    "    printf(\"%s%s\\n\", first, second);\n",
    "    first[3] = '.';\n",
    "    first[4] = '\\0';\n",
    "    printf(\"%s/%s\\n\", first, second);\n",
    "}"
   ]
  },
  {
   "cell_type": "markdown",
   "id": "e44f7765-3da0-4ce2-8aeb-52046105a407",
   "metadata": {
    "slideshow": {
     "slide_type": "skip"
    },
    "tags": [
     "blank"
    ]
   },
   "source": [
    "<div style=\"height:5em;\"></div>"
   ]
  },
  {
   "cell_type": "markdown",
   "id": "7525b7dd-7830-4c98-bbda-8887c927badf",
   "metadata": {
    "slideshow": {
     "slide_type": "subslide"
    },
    "tags": [
     "question"
    ]
   },
   "source": [
    "Q7: _Write a function called `count_words` that takes a string and counts the number of words in the string. Assume each word is separated by a single space, and the string will contain at least one word. For example, `\"Today is Wednesday.\"` contains 3 words._"
   ]
  },
  {
   "cell_type": "code",
   "execution_count": 7,
   "id": "eb7a9162-d44b-4cfe-9c64-e4d1e7c4053c",
   "metadata": {
    "slideshow": {
     "slide_type": "skip"
    },
    "tags": [
     "answer"
    ]
   },
   "outputs": [],
   "source": [
    "#include <string.h>\n",
    "int count_words(char str[]) {\n",
    "    int words = 1;\n",
    "    for (int i = 0; i < strlen(str); i++) {\n",
    "        if (str[i] == ' ') {\n",
    "            words++;\n",
    "        }\n",
    "    }\n",
    "    return words;\n",
    "}\n",
    "// Testing\n",
    "#include <assert.h>\n",
    "int main() {\n",
    "    assert(count_words(\"Today is Wednesday.\") == 3);\n",
    "}"
   ]
  },
  {
   "cell_type": "markdown",
   "id": "f3ceaa95-9851-48d0-8603-3ebc1c18da92",
   "metadata": {
    "slideshow": {
     "slide_type": "skip"
    },
    "tags": [
     "blank"
    ]
   },
   "source": [
    "<div style=\"height:20em;\"></div>"
   ]
  },
  {
   "cell_type": "markdown",
   "id": "d24e3bc5-545d-43cf-a794-595072b45d81",
   "metadata": {
    "tags": [
     "question"
    ]
   },
   "source": [
    "Q8: _Write a function called `abbreviate` that takes a string and modifies the string in place to include only the first letter of each word. For example, `\"Talk To You Later\"` is converted to `TTYL`._"
   ]
  },
  {
   "cell_type": "code",
   "execution_count": 11,
   "id": "ab7d2e04-3a93-440c-81cf-500bbbb4fb87",
   "metadata": {
    "slideshow": {
     "slide_type": "skip"
    },
    "tags": [
     "answer"
    ]
   },
   "outputs": [],
   "source": [
    "#include <string.h>\n",
    "void abbreviate(char str[]) {\n",
    "    int store = 1;\n",
    "    int check = 1;\n",
    "    while (check < strlen(str)) {\n",
    "        if (str[check-1] == ' ') {\n",
    "            str[store] = str[check];\n",
    "            store++;\n",
    "        }\n",
    "        check++;\n",
    "    }\n",
    "    str[store] = '\\0';\n",
    "}\n",
    "// Testing\n",
    "#include <assert.h>\n",
    "int main() {\n",
    "    char phrase[18];\n",
    "    strcpy(phrase, \"Talk To You Later\");\n",
    "    abbreviate(phrase);\n",
    "    assert(strcmp(phrase, \"TTYL\") == 0);\n",
    "}"
   ]
  },
  {
   "cell_type": "markdown",
   "id": "634fba62-b1f6-413b-805d-9eed551d4b16",
   "metadata": {
    "slideshow": {
     "slide_type": "skip"
    },
    "tags": [
     "blank"
    ]
   },
   "source": [
    "<div style=\"height:20em;\"></div>"
   ]
  },
  {
   "cell_type": "markdown",
   "id": "6f034b35-fdcd-4689-b9e9-f3787981c86f",
   "metadata": {
    "slideshow": {
     "slide_type": "slide"
    },
    "tags": []
   },
   "source": [
    "## Input"
   ]
  },
  {
   "cell_type": "markdown",
   "id": "6d957c78-dd7f-42c8-9096-e2da33093f45",
   "metadata": {
    "slideshow": {
     "slide_type": "skip"
    },
    "tags": [
     "notes-only"
    ]
   },
   "source": [
    "* Use `fgets` to read in a line of input as a string\n",
    "    ```C\n",
    "    char str[10];\n",
    "    fgets(str, 10, stdin);\n",
    "    ```\n",
    "    * `stdin` means _standard input_\n",
    "* If you enter a number, the input is still a string–i.e., an array of digit characters–not an `int`\n",
    "    * Use `atoi` to convert a string of digit characters to an integer"
   ]
  },
  {
   "cell_type": "markdown",
   "id": "70fc80c6-a86d-4b74-ad1a-fb0db0651e55",
   "metadata": {
    "slideshow": {
     "slide_type": "skip"
    },
    "tags": [
     "blank"
    ]
   },
   "source": [
    "<div style=\"height:10em;\"></div>"
   ]
  },
  {
   "cell_type": "markdown",
   "id": "380c4a5a-765e-4642-afed-e25c319cb2e8",
   "metadata": {
    "tags": [
     "question"
    ]
   },
   "source": [
    "Q9: _Write a program that asks the user for a string and prints the string backwards._"
   ]
  },
  {
   "cell_type": "code",
   "execution_count": null,
   "id": "895f62bc-5ea0-49af-93d3-ec23551ed3b5",
   "metadata": {
    "slideshow": {
     "slide_type": "skip"
    },
    "tags": [
     "answer"
    ]
   },
   "outputs": [],
   "source": [
    "#include <stdio.h>\n",
    "#include <string.h>\n",
    "int main() {\n",
    "    char str[100];\n",
    "    printf(\"String? \");\n",
    "    fgets(str, 100, stdin);\n",
    "    for (int i = strlen(str); i >= 0; i--) {\n",
    "        printf(\"%c\", str[i]);\n",
    "    }\n",
    "    printf(\"\\n\");\n",
    "}"
   ]
  },
  {
   "cell_type": "markdown",
   "id": "ed44b9b0-5597-4afa-9348-1e8c06131318",
   "metadata": {
    "slideshow": {
     "slide_type": "skip"
    },
    "tags": [
     "blank"
    ]
   },
   "source": [
    "<div style=\"height:20em;\"></div>"
   ]
  },
  {
   "cell_type": "markdown",
   "id": "9ec49468-b008-4ecb-a152-69a2574141e0",
   "metadata": {
    "tags": [
     "question"
    ]
   },
   "source": [
    "Q10: _Write a program that asks the user for a string and converts all lowercase letters to uppercase and all uppercase letters to lowercase; numbers and punctuation should be left unchanged._"
   ]
  },
  {
   "cell_type": "code",
   "execution_count": null,
   "id": "654467d4-d755-495b-8461-7b9fedb9df28",
   "metadata": {
    "slideshow": {
     "slide_type": "skip"
    },
    "tags": [
     "answer"
    ]
   },
   "outputs": [],
   "source": [
    "#include <stdio.h>\n",
    "#include <stdlib.h>\n",
    "#include <string.h>\n",
    "int main() {\n",
    "    char str[100];\n",
    "    printf(\"String? \");\n",
    "    fgets(str, 100, stdin);\n",
    "    for (int i = 0; i < strlen(str); i++) {\n",
    "        if (str[i] >= 'A' && str[i] <= 'Z') {\n",
    "            str[i] = str[i] - 'A' + 'a';\n",
    "    } else if (str[i] >= 'a' && str[i] <= 'z') {\n",
    "            str[i] = str[i] - 'a' + 'A';\n",
    "        }\n",
    "    }\n",
    "    printf(\"%s\", str);\n",
    "    return EXIT_SUCCESS;\n",
    "}"
   ]
  },
  {
   "cell_type": "markdown",
   "id": "659444d8-e759-4316-a449-0d3b18e22c53",
   "metadata": {
    "slideshow": {
     "slide_type": "skip"
    },
    "tags": [
     "blank"
    ]
   },
   "source": [
    "<div style=\"height:20em;\"></div>"
   ]
  },
  {
   "cell_type": "markdown",
   "id": "39ae3d44-354b-445e-b8c8-0cd011a042be",
   "metadata": {
    "slideshow": {
     "slide_type": "subslide"
    },
    "tags": [
     "question"
    ]
   },
   "source": [
    "Q11: _The following program should ask the user to enter a word, then print the word's length and whether it is a palindrome (i.e., reads the same backward as forward). For example, if the user enters `\"kayak\"` the program should print `\"The word is 5 characters long and is a palindrome.\"` However, the program contains several errors. Modify the program to correct the errors._"
   ]
  },
  {
   "cell_type": "code",
   "execution_count": null,
   "id": "cdc888dd-91c5-48b7-b7e8-fe28f670f2e4",
   "metadata": {
    "slideshow": {
     "slide_type": "subslide"
    },
    "tags": [
     "question"
    ]
   },
   "outputs": [],
   "source": [
    "#include <stdio.h>\n",
    "\n",
    "void palindrome(char word[]) {\n",
    "    int i = 0;\n",
    "    int j = strlen(word);\n",
    "    while (i < j) {\n",
    "        if (word[i] != word[j]) {\n",
    "            return -1;\n",
    "        }\n",
    "        i++;\n",
    "        j--;\n",
    "    }\n",
    "    return 1;\n",
    "}\n",
    "\n",
    "int main() {\n",
    "    printf(\"Enter a word: \");\n",
    "    char word[50];\n",
    "    fgets(word, 50, stdin);\n",
    "    word[strlen(word)-1] = '\\0'; // Remove newline\n",
    "    int len = strlen(word);\n",
    "    printf(\"The word is %c characters long and is \", len);\n",
    "    if (palindrome(word)) {\n",
    "        printf(\"a palindrome.\\n\");\n",
    "    } else {\n",
    "        printf(\"not a palindrome.\\n\");\n",
    "    }\n",
    "}"
   ]
  },
  {
   "cell_type": "markdown",
   "id": "66ce5be0-f5ef-4824-b7f4-1fe579c2794f",
   "metadata": {
    "slideshow": {
     "slide_type": "skip"
    },
    "tags": [
     "answer"
    ]
   },
   "source": [
    "* `#include <string.h>`\n",
    "* Change return type of `palindrome` to `int`\n",
    "* Initialize `j` to `strlen(word) - 1`\n",
    "* Change `return -1` to `return 0`\n",
    "* Change `%c` in 2nd `printf` in `main` to `%d`"
   ]
  }
 ],
 "metadata": {
  "kernelspec": {
   "display_name": "C",
   "language": "c",
   "name": "c"
  },
  "language_info": {
   "file_extension": ".c",
   "mimetype": "text/plain",
   "name": "c"
  }
 },
 "nbformat": 4,
 "nbformat_minor": 5
}
