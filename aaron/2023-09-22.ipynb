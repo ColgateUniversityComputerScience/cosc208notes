{
 "cells": [
  {
   "cell_type": "markdown",
   "id": "275f3326-b6de-4d7d-b41a-f17ec6a57354",
   "metadata": {
    "slideshow": {
     "slide_type": "skip"
    },
    "tags": []
   },
   "source": [
    "# Program memory: 2D arrays\n",
    "_COSC 208, Introduction to Computer Systems, 2023-09-22_"
   ]
  },
  {
   "cell_type": "markdown",
   "id": "9db293af-f9ec-4262-b568-ef1906a523b4",
   "metadata": {
    "slideshow": {
     "slide_type": "skip"
    },
    "tags": []
   },
   "source": [
    "## Announcements\n",
    "* Exam 1 Wednesday 6:30pm-8:30pm"
   ]
  },
  {
   "cell_type": "markdown",
   "id": "bede1ded-97f6-4a28-9335-116fd9ea868f",
   "metadata": {
    "slideshow": {
     "slide_type": "skip"
    },
    "tags": []
   },
   "source": [
    "## Outline\n",
    "* Warm-up\n",
    "* 2D arrays on the stack\n",
    "* 2D arrays a linear arrays\n",
    "* 2D arrays as array-of-arrays\n",
    "* Command-line arguments"
   ]
  },
  {
   "cell_type": "markdown",
   "id": "2455eec5-b456-4d20-8fb3-2042d63ad96d",
   "metadata": {},
   "source": [
    "## Warm-up\n",
    "* Q1: _Assume you wanted to write a function that creates a copy of a string. What is wrong with each of the following attempts at writing such a function?_"
   ]
  },
  {
   "cell_type": "code",
   "execution_count": null,
   "id": "e71dc048-27d2-49a7-a222-a101d42302f7",
   "metadata": {
    "tags": [
     "worksheet-code-only"
    ]
   },
   "outputs": [],
   "source": [
    "#include <string.h>\n",
    "char *copy1(char strA[]) {\n",
    "    char strB[strlen(strA) + 1];\n",
    "    strcpy(strB, strA);\n",
    "    return strB;\n",
    "}"
   ]
  },
  {
   "cell_type": "markdown",
   "id": "2794253e-a3c0-45de-af18-1bcf6d12d9e1",
   "metadata": {
    "slideshow": {
     "slide_type": "skip"
    },
    "tags": [
     "notes-only"
    ]
   },
   "source": [
    "    You cannot return a locally-declared array"
   ]
  },
  {
   "cell_type": "markdown",
   "id": "236c66e3-bfc7-4923-86d8-4713227982b9",
   "metadata": {
    "slideshow": {
     "slide_type": "skip"
    },
    "tags": [
     "worksheet-only"
    ]
   },
   "source": [
    "<p style=\"height:2em;\"></p>"
   ]
  },
  {
   "cell_type": "code",
   "execution_count": null,
   "id": "c8de2a2b-8df8-4da4-95de-21e5a5328dd4",
   "metadata": {
    "slideshow": {
     "slide_type": "subslide"
    },
    "tags": [
     "worksheet-code-only"
    ]
   },
   "outputs": [],
   "source": [
    "#include <string.h>\n",
    "#include <stdlib.h>\n",
    "char copy2(char strA[]) {\n",
    "    char *strB = malloc(sizeof(char) * (strlen(strA) + 1));\n",
    "    strcpy(strB, strA);\n",
    "    return *strB;\n",
    "}"
   ]
  },
  {
   "cell_type": "markdown",
   "id": "63e4070d-dd88-42a8-af4d-2384bc44ed29",
   "metadata": {
    "slideshow": {
     "slide_type": "skip"
    },
    "tags": [
     "notes-only"
    ]
   },
   "source": [
    "    Returns the first character in the copy, instead of an array of characters"
   ]
  },
  {
   "cell_type": "markdown",
   "id": "c7135004-cdfe-4b8e-8e64-bcea9c0de442",
   "metadata": {
    "slideshow": {
     "slide_type": "skip"
    },
    "tags": [
     "worksheet-only"
    ]
   },
   "source": [
    "<p style=\"height:2em;\"></p>"
   ]
  },
  {
   "cell_type": "code",
   "execution_count": null,
   "id": "dd874b00-ae07-4bda-b09a-4756645e1906",
   "metadata": {
    "slideshow": {
     "slide_type": "subslide"
    },
    "tags": [
     "worksheet-code-only"
    ]
   },
   "outputs": [],
   "source": [
    "#include <string.h>\n",
    "#include <stdlib.h>\n",
    "char *copy3(char strA[]) {\n",
    "    char *strB = malloc(sizeof(char *));\n",
    "    strcpy(strB, strA);\n",
    "    return strB;\n",
    "}"
   ]
  },
  {
   "cell_type": "markdown",
   "id": "3b3b11c0-771a-4717-bd3f-f69a0f70a0ae",
   "metadata": {
    "slideshow": {
     "slide_type": "skip"
    },
    "tags": [
     "notes-only"
    ]
   },
   "source": [
    "    Allocates space for a pointer, not space for the number of characters in strA"
   ]
  },
  {
   "cell_type": "markdown",
   "id": "55c2a8d6-fb34-4c7b-a641-358262a61684",
   "metadata": {
    "slideshow": {
     "slide_type": "skip"
    },
    "tags": [
     "worksheet-only"
    ]
   },
   "source": [
    "<p style=\"height:2em;\"></p>\n",
    "\n",
    "🛑 **STOP here** after completing the above question; if you have extra time take a few deep breaths to reduce stress.\n",
    "\n",
    "<div style=\"page-break-after:always;\"></div>"
   ]
  },
  {
   "cell_type": "markdown",
   "id": "b5dcfb27-6dac-4f99-86e7-eb21fab91824",
   "metadata": {
    "slideshow": {
     "slide_type": "slide"
    },
    "tags": []
   },
   "source": [
    "## 2D arrays on the stack\n",
    "* Assume we wanted to create an array to represent a calendar:\n",
    "    ```\n",
    "    +----+----+----+----+----+----+----+\n",
    "    |  1 |  2 |  3 |  4 |  5 |  6 |  7 |\n",
    "    +----+----+----+----+----+----+----+\n",
    "    |  8 |  9 | 10 | 11 | 12 | 13 | 14 |\n",
    "    +----+----+----+----+----+----+----+\n",
    "    | 15 | 16 | 17 | 18 | 19 | 20 | 21 |\n",
    "    +----+----+----+----+----+----+----+\n",
    "    | 22 | 23 | 24 | 25 | 26 | 27 | 28 |\n",
    "    +----+----+----+----+----+----+----+\n",
    "    ```\n",
    "    * 4 rows = 4 weeks; 7 columns = 7 days in a week\n",
    "* Q2: _Write a function called `fill_calendar` that creates a 2D array on the stack and populates the array with the appropriate values._\n"
   ]
  },
  {
   "cell_type": "code",
   "execution_count": 3,
   "id": "b6cae840-c87e-471f-b729-3e365b0b99f0",
   "metadata": {
    "slideshow": {
     "slide_type": "skip"
    },
    "tags": [
     "notes-only"
    ]
   },
   "outputs": [],
   "source": [
    "void fill_calendar() {\n",
    "    int calendar[4][7];\n",
    "    int day = 1;\n",
    "    for (int week = 0; week < 4; week++) {\n",
    "        for (int dow = 0; dow < 7; dow++) {\n",
    "            calendar[week][dow] = day;\n",
    "            day++;\n",
    "        }\n",
    "    }\n",
    "}\n",
    "int main() {\n",
    "    fill_calendar();\n",
    "}"
   ]
  },
  {
   "cell_type": "markdown",
   "id": "8201845e-e24d-4db2-8ee2-e4ea2567eecb",
   "metadata": {
    "slideshow": {
     "slide_type": "skip"
    },
    "tags": [
     "worksheet-only"
    ]
   },
   "source": [
    "<p style=\"height:25em;\"></p>\n",
    "\n",
    "🛑 **STOP here** after completing the above question; if you have extra time take a few deep breaths to reduce stress."
   ]
  },
  {
   "cell_type": "markdown",
   "id": "5433bf9b-14f8-4381-8c07-468b6a34fb0e",
   "metadata": {
    "slideshow": {
     "slide_type": "skip"
    },
    "tags": [
     "notes-only"
    ]
   },
   "source": [
    "* _Can we use a formula to compute the day based on week and day-of-week (dow)?_\n",
    "    ```C\n",
    "    day = week * 7 + dow + 1;\n",
    "    ```\n",
    "* _Can we return the `calendar` array from this function?_ – no, it is stored in the stack and will go away when the function returns"
   ]
  },
  {
   "cell_type": "markdown",
   "id": "dca24aa0-2a0c-4def-9052-dec6f5b27562",
   "metadata": {
    "slideshow": {
     "slide_type": "slide"
    },
    "tags": []
   },
   "source": [
    "## 2D arrays as linear arrays"
   ]
  },
  {
   "cell_type": "markdown",
   "id": "1e2ee54b-2e78-476f-876a-34fcdfdca6f2",
   "metadata": {
    "slideshow": {
     "slide_type": "skip"
    },
    "tags": [
     "notes-only"
    ]
   },
   "source": [
    "* Can also think of a calendar as fully linear, like a number line or time line"
   ]
  },
  {
   "cell_type": "markdown",
   "id": "65c81333-57e8-47b9-8c99-5bde1d8426d1",
   "metadata": {},
   "source": [
    "* Q3: _Fill-in the blanks to complete the `fill_calendar_linear` function which creates a fully linear calendar._\n",
    "    ```C\n",
    "    void fill_calendar_linear() {\n",
    "        int calendar[_____];\n",
    "        int day = 1;\n",
    "        for (int week = 0; week < 4; week++) {\n",
    "            for (int dow = 0; dow < 7; dow++) {\n",
    "                calendar[__________________] = day;\n",
    "                day++;\n",
    "            }\n",
    "        }\n",
    "    }\n",
    "    ```"
   ]
  },
  {
   "cell_type": "markdown",
   "id": "062b2a1c-2aec-4d38-ba8e-45f7feb7e191",
   "metadata": {
    "slideshow": {
     "slide_type": "skip"
    },
    "tags": [
     "worksheet-only"
    ]
   },
   "source": [
    "🛑 **STOP here** after completing the above question; if you have extra time take a few deep breaths to reduce stress.\n",
    "\n",
    "<div style=\"page-break-after:always;\"></div>"
   ]
  },
  {
   "cell_type": "code",
   "execution_count": 2,
   "id": "4f4714e9-7b9b-4631-a48f-4dd61250cd5e",
   "metadata": {
    "slideshow": {
     "slide_type": "skip"
    },
    "tags": [
     "notes-only"
    ]
   },
   "outputs": [],
   "source": [
    "void fill_calendar_linear() {\n",
    "    int calendar[4 * 7]; // 4 * 7\n",
    "    int day = 1;\n",
    "    for (int week = 0; week < 4; week++) {\n",
    "        for (int dow = 0; dow < 7; dow++) {\n",
    "            calendar[week * 7 + dow] = day;\n",
    "            day++;\n",
    "        }\n",
    "    }\n",
    "}\n",
    "int main() {\n",
    "    fill_calendar_linear();\n",
    "}"
   ]
  },
  {
   "cell_type": "markdown",
   "id": "bd91ecd1-faab-4110-9a6e-ce6256b101ae",
   "metadata": {
    "slideshow": {
     "slide_type": "skip"
    },
    "tags": [
     "notes-only"
    ]
   },
   "source": [
    "* 2D array indices \"map to\" 1D array indices\n",
    "    ```\n",
    "     (0,0) (0,1) (0,2) (0,3) (0,4) (0,5) (0,6) (1,0) (1,1) (1,2) (1,3)  ...  (3,6) (3,7)\n",
    "    +-----+-----+-----+-----+-----+-----+-----+-----+-----+-----+-----+-----+-----+-----+\n",
    "    |  1  |  2  |  3  |  4  |  5  |  6  |  7  |  8  |  9  |  10 |  11 |     |  27 |  28 |\n",
    "    +-----+-----+-----+-----+-----+-----+-----+-----+-----+-----+-----+-----+-----+-----+\n",
    "    ```\n",
    "* _Can we the change code such that the function can safely return `calendar`?_"
   ]
  },
  {
   "cell_type": "markdown",
   "id": "bb209750-0310-4e2b-b80a-ae76abadaaf9",
   "metadata": {
    "slideshow": {
     "slide_type": "skip"
    },
    "tags": [
     "notes-only"
    ]
   },
   "source": [
    "int *fill_calendar_linear_heap() {\n",
    "    int *calendar = malloc(sizeof(int) * 28);\n",
    "    ...\n",
    "    return calendar;\n",
    "}"
   ]
  },
  {
   "cell_type": "markdown",
   "id": "cbb5b3f4-d951-4de0-b581-8a397ec04fe0",
   "metadata": {
    "slideshow": {
     "slide_type": "skip"
    },
    "tags": [
     "notes-only"
    ]
   },
   "source": [
    "* Only need a single call to malloc 😀\n",
    "* Determining indices is hard 😕"
   ]
  },
  {
   "cell_type": "markdown",
   "id": "d9cee829-6469-46b3-9e4b-00154572c3dd",
   "metadata": {
    "slideshow": {
     "slide_type": "slide"
    },
    "tags": []
   },
   "source": [
    "## 2D arrays as array-of-arrays"
   ]
  },
  {
   "cell_type": "markdown",
   "id": "f56346f0-4b40-4c7b-b28d-9f5406d15619",
   "metadata": {
    "slideshow": {
     "slide_type": "skip"
    },
    "tags": [
     "notes-only"
    ]
   },
   "source": [
    "* _An array is a..._ – pointer\n",
    "* _What does our \"outer\" array store?_ – pointers\n",
    "* _What does each \"inner\" array store?_ – integers"
   ]
  },
  {
   "cell_type": "markdown",
   "id": "f16fec36-1051-4924-aa70-e8c4fda52339",
   "metadata": {},
   "source": [
    "* Example"
   ]
  },
  {
   "cell_type": "code",
   "execution_count": null,
   "id": "087bdcc4-4417-4a62-8153-90cdc5a0227c",
   "metadata": {
    "tags": [
     "worksheet-code-only"
    ]
   },
   "outputs": [],
   "source": [
    "#include <stdlib.h>\n",
    "int **fill_calendar_arrayofarrays_heap() {\n",
    "    int **calendar = malloc(sizeof(int *) * 4);\n",
    "    int day = 1;\n",
    "    for (int week = 0; week < 4; week++) {\n",
    "        calendar[week] = malloc(sizeof(int) * 7);\n",
    "        for (int dow = 0; dow < 7; dow++) {\n",
    "            calendar[week][dow] = day;\n",
    "            day++;\n",
    "        }\n",
    "    }\n",
    "    return calendar;\n",
    "}"
   ]
  },
  {
   "cell_type": "markdown",
   "id": "65474a67-1e09-473d-8664-d512bbe28c53",
   "metadata": {
    "slideshow": {
     "slide_type": "skip"
    },
    "tags": [
     "notes-only"
    ]
   },
   "source": [
    "* _How are strings represented in C?_ — array of characters, ending with a null character\n",
    "* An array of strings is an array of arrays\n",
    "* _What does our \"outer\" array store?_ – pointers, because arrays (of characters) are pointers\n",
    "* _What do our \"inner\" arrays store?_ – characters, because strings are arrays of characters"
   ]
  },
  {
   "cell_type": "markdown",
   "id": "34fdf08c-6ea4-4da0-987a-0e692d6f9663",
   "metadata": {
    "slideshow": {
     "slide_type": "slide"
    },
    "tags": []
   },
   "source": [
    "## Command-line arguments"
   ]
  },
  {
   "cell_type": "markdown",
   "id": "20557c2f-ffb1-437e-a394-47a74ca64f8e",
   "metadata": {
    "slideshow": {
     "slide_type": "skip"
    },
    "tags": [
     "notes-only"
    ]
   },
   "source": [
    "* Arguments entered on the command line separated by spaces are passed to `main`\n",
    "    ```bash\n",
    "    ./myprog abc 123\n",
    "    ```"
   ]
  },
  {
   "cell_type": "markdown",
   "id": "8b89527a-6e6b-4478-beea-c609319a5431",
   "metadata": {},
   "source": [
    "* Example"
   ]
  },
  {
   "cell_type": "code",
   "execution_count": null,
   "id": "fb9f8b63-b6d0-4736-93fd-15058ceb6f9a",
   "metadata": {},
   "outputs": [],
   "source": [
    "#include <stdio.h>\n",
    "int main(int argc, char *argv[]) {\n",
    "    for (int i = 0; i < argc; i++) {\n",
    "        printf(\"%s\\n\", argv[i]);\n",
    "    }\n",
    "}"
   ]
  },
  {
   "cell_type": "markdown",
   "id": "9c5324fa-c05c-4669-b888-b705510c7725",
   "metadata": {
    "slideshow": {
     "slide_type": "skip"
    },
    "tags": [
     "notes-only"
    ]
   },
   "source": [
    "* _Why is `argv` an array of character pointers?_ – we want an array of strings; strings are arrays and arrays and pointers\n",
    "* _Why do we need `argc`?_\n",
    "    * We only include a null character at the end of a string (i.e., an array of characters); we don't include a null character at the end of other types of arrays (e.g., arrays of pointers)\n",
    "    * Arrays are pointers, which contain the memory address of the first element of the array\n",
    "    * Length of array is not encoded in array variable, nor is there a special ending indicator --> we need to know how many pointers are in the array, so we don't go beyond the end of the array"
   ]
  }
 ],
 "metadata": {
  "kernelspec": {
   "display_name": "C",
   "language": "c",
   "name": "c"
  },
  "language_info": {
   "file_extension": ".c",
   "mimetype": "c",
   "name": "c"
  }
 },
 "nbformat": 4,
 "nbformat_minor": 5
}
