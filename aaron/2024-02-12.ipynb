{
 "cells": [
  {
   "cell_type": "markdown",
   "id": "f118a68e-b3cd-442e-acc0-dbdb88e2ac71",
   "metadata": {
    "slideshow": {
     "slide_type": "skip"
    },
    "tags": []
   },
   "source": [
    "# Program memory: pointers\n",
    "_COSC 208, Introduction to Computer Systems, 2024-02-12_"
   ]
  },
  {
   "cell_type": "markdown",
   "id": "cdf0fd49-f3cc-4175-a53b-39c4f8ba4316",
   "metadata": {
    "slideshow": {
     "slide_type": "skip"
    },
    "tags": []
   },
   "source": [
    "## Announcements\n",
    "* Quiz 1 in class Wednesday\n",
    "* Project 1 due Wed, Feb 21 @ 11pm"
   ]
  },
  {
   "cell_type": "markdown",
   "id": "a8c78c4d-4fe8-4ebf-b714-fd762523ea7f",
   "metadata": {
    "slideshow": {
     "slide_type": "skip"
    },
    "tags": []
   },
   "source": [
    "## Outline\n",
    "* Warm-up\n",
    "* Real numbers\n",
    "* Pointers"
   ]
  },
  {
   "cell_type": "markdown",
   "id": "7606c4a3-294e-4e04-915e-7532e29199ba",
   "metadata": {},
   "source": [
    "## Warm-up (Q6-Q12 from last class)"
   ]
  },
  {
   "cell_type": "markdown",
   "id": "2c805c90-d5ce-4709-8b80-44d13ba69e6e",
   "metadata": {},
   "source": [
    "_Determine the resulting binary_"
   ]
  },
  {
   "cell_type": "markdown",
   "id": "2cf083a1-1771-4cf7-9db1-ddeefec6df62",
   "metadata": {
    "jp-MarkdownHeadingCollapsed": true,
    "tags": []
   },
   "source": [
    "* Q1: `0b1010 | 0b0101`"
   ]
  },
  {
   "cell_type": "markdown",
   "id": "61d8eaed-bf0e-4233-a07d-2260222a8a53",
   "metadata": {
    "slideshow": {
     "slide_type": "skip"
    },
    "tags": [
     "notes-only"
    ]
   },
   "source": [
    "    0b1111"
   ]
  },
  {
   "cell_type": "markdown",
   "id": "ac031143-4d46-49f7-8553-1613965f3cf0",
   "metadata": {
    "slideshow": {
     "slide_type": "skip"
    },
    "tags": [
     "worksheet-only"
    ]
   },
   "source": [
    "<p style=\"height:4em;\"></p>"
   ]
  },
  {
   "cell_type": "markdown",
   "id": "65faa087-5c35-4a0e-b694-19e086ae5f44",
   "metadata": {
    "jp-MarkdownHeadingCollapsed": true,
    "tags": []
   },
   "source": [
    "* Q2: `0b1010 & 0b0101`"
   ]
  },
  {
   "cell_type": "markdown",
   "id": "b0ccbec6-f8bf-4be8-8068-bcf36e521d4d",
   "metadata": {
    "slideshow": {
     "slide_type": "skip"
    },
    "tags": [
     "notes-only"
    ]
   },
   "source": [
    "    0b0000"
   ]
  },
  {
   "cell_type": "markdown",
   "id": "0d90d029-05c0-458e-acbc-f9221bd03ac2",
   "metadata": {
    "slideshow": {
     "slide_type": "skip"
    },
    "tags": [
     "worksheet-only"
    ]
   },
   "source": [
    "<p style=\"height:4em;\"></p>"
   ]
  },
  {
   "cell_type": "markdown",
   "id": "c4810896-23dd-4185-84c3-092c11557ac2",
   "metadata": {
    "jp-MarkdownHeadingCollapsed": true,
    "tags": []
   },
   "source": [
    "* Q3: `~(0b1100 & 0b0110)`"
   ]
  },
  {
   "cell_type": "markdown",
   "id": "8d928382-9a1e-42ac-9913-76ec68fc595d",
   "metadata": {
    "slideshow": {
     "slide_type": "skip"
    },
    "tags": [
     "notes-only"
    ]
   },
   "source": [
    "    ~0b0100 = 0b1011"
   ]
  },
  {
   "cell_type": "markdown",
   "id": "2cd2eccc-3359-4af1-b3c7-80743f069b46",
   "metadata": {
    "slideshow": {
     "slide_type": "skip"
    },
    "tags": [
     "worksheet-only"
    ]
   },
   "source": [
    "<p style=\"height:4em;\"></p>"
   ]
  },
  {
   "cell_type": "markdown",
   "id": "28533004-ba95-477c-a90a-9f32c032bb2d",
   "metadata": {
    "jp-MarkdownHeadingCollapsed": true,
    "tags": []
   },
   "source": [
    "* Q4: `0b1000 >> 0b011`"
   ]
  },
  {
   "cell_type": "markdown",
   "id": "8151a2ba-bd89-4873-8619-7faabfe3701f",
   "metadata": {
    "slideshow": {
     "slide_type": "skip"
    },
    "tags": [
     "notes-only"
    ]
   },
   "source": [
    "    0b0001 (divide by 2^3)"
   ]
  },
  {
   "cell_type": "markdown",
   "id": "4838641d-b8fb-4347-834e-55dac4471737",
   "metadata": {
    "slideshow": {
     "slide_type": "skip"
    },
    "tags": [
     "worksheet-only"
    ]
   },
   "source": [
    "<p style=\"height:4em;\"></p>"
   ]
  },
  {
   "cell_type": "markdown",
   "id": "b5100524-6917-4689-9d51-d35bb0536d9b",
   "metadata": {
    "jp-MarkdownHeadingCollapsed": true,
    "tags": []
   },
   "source": [
    "* Q5: `0b0001 << 0b0010`"
   ]
  },
  {
   "cell_type": "markdown",
   "id": "65c0c2fe-d4db-4451-9725-d548188b19f1",
   "metadata": {
    "slideshow": {
     "slide_type": "skip"
    },
    "tags": [
     "notes-only"
    ]
   },
   "source": [
    "    0b0100 (multiply by 2^2)"
   ]
  },
  {
   "cell_type": "markdown",
   "id": "e72ad03d-fc09-4202-b3c7-8bfc7d093c79",
   "metadata": {
    "slideshow": {
     "slide_type": "skip"
    },
    "tags": [
     "worksheet-only"
    ]
   },
   "source": [
    "<p style=\"height:4em;\"></p>"
   ]
  },
  {
   "cell_type": "markdown",
   "id": "37f227b8-d1de-444c-add0-434357a98ff6",
   "metadata": {
    "jp-MarkdownHeadingCollapsed": true,
    "tags": []
   },
   "source": [
    "* Q6: `0b1111 & (~0b0010)`"
   ]
  },
  {
   "cell_type": "markdown",
   "id": "03c6761a-983f-4a93-93dd-e7f6800a8b14",
   "metadata": {
    "slideshow": {
     "slide_type": "skip"
    },
    "tags": [
     "notes-only"
    ]
   },
   "source": [
    "    0b1111 & 0b1101 = 0b1101 (clear a bit)"
   ]
  },
  {
   "cell_type": "markdown",
   "id": "a0f7e2c3-4678-43cc-9b69-67bf15e94786",
   "metadata": {
    "slideshow": {
     "slide_type": "skip"
    },
    "tags": [
     "worksheet-only"
    ]
   },
   "source": [
    "<p style=\"height:4em;\"></p>"
   ]
  },
  {
   "cell_type": "markdown",
   "id": "9f8c2bd0-475f-4d0f-919d-d646dc808e46",
   "metadata": {
    "jp-MarkdownHeadingCollapsed": true,
    "tags": []
   },
   "source": [
    "* Q7: `0b0000 | 0b0010`"
   ]
  },
  {
   "cell_type": "markdown",
   "id": "5a8e6565-d00f-4171-ba09-174d0da20a66",
   "metadata": {
    "slideshow": {
     "slide_type": "skip"
    },
    "tags": [
     "notes-only"
    ]
   },
   "source": [
    "    0b0010 (set a bit)"
   ]
  },
  {
   "cell_type": "markdown",
   "id": "821bf940-b63d-4038-b34a-6f3cffcd1496",
   "metadata": {
    "slideshow": {
     "slide_type": "skip"
    },
    "tags": [
     "worksheet-only"
    ]
   },
   "source": [
    "<p style=\"height:4em;\"></p>\n",
    "\n",
    "🛑 **STOP here** after completing the above questions; if you have extra time please **skip ahead** to the extra practice.\n",
    "\n",
    "<p style=\"page-break-after:always;\"></p>"
   ]
  },
  {
   "cell_type": "markdown",
   "id": "8df546e1-13f9-42a2-99eb-c72738e46e4d",
   "metadata": {
    "slideshow": {
     "slide_type": "skip"
    },
    "tags": [
     "notes-only"
    ]
   },
   "source": [
    "## Real numbers"
   ]
  },
  {
   "cell_type": "markdown",
   "id": "aebf9ced-4586-4668-8f06-75cb74ce4d87",
   "metadata": {
    "slideshow": {
     "slide_type": "skip"
    },
    "tags": [
     "notes-only"
    ]
   },
   "source": [
    "* Real numbers may have fractional parts -- e.g., `3.14`\n",
    "* _How can we encode real numbers?_\n",
    "* Fixed-point representation\n",
    "    * Location of decimal point is fixed — some bits encode whole numbers, and some bits encode fractional numbers\n",
    "    * Example: 8-bit fixed point with 3 bits for the fractional part: `0b01011010` = 0 * 2^4 + 1 * 2^3 + 0 * 2^2 + 1 * 2^1 + 1 * 2^0 + 0 * 2^-1 + 1 * 2^-2 + 0 * 2^-3 = 8 + 2 + 1 + 0.25 = 11.25\n",
    "    * _What is an advantage of fixed-point representation?_\n",
    "        * Easy to compute\n",
    "    * _What is a disadvantage of fixed-point representation?_ \n",
    "        * Range of real numbers is fixed — cannot represent large whole numbers or small fractional numbers\n",
    "* Float-point representation\n",
    "    * Uses a \"scaling factor\" to multiply (or divide) fractional part\n",
    "    * Bits in the significand represent (from left to right) 2^-1, 2^-2, ... 2^-23\n",
    "    * Bits in the exponent represent an unsigned integer 0 - 255\n",
    "    * Multiply significand by 2^(exponent - 127) to get final result\n",
    "    * Can represent large whole numbers **or** small fractional numbers, but not a large whole number with a small fractional part"
   ]
  },
  {
   "cell_type": "markdown",
   "id": "7a44398a-2dfb-432a-a901-e4e693180735",
   "metadata": {
    "slideshow": {
     "slide_type": "slide"
    },
    "tags": []
   },
   "source": [
    "## Pointers"
   ]
  },
  {
   "cell_type": "markdown",
   "id": "d0b355f2-bbe2-4fce-b0ec-07767710dc7a",
   "metadata": {
    "slideshow": {
     "slide_type": "skip"
    },
    "tags": [
     "notes-only"
    ]
   },
   "source": [
    "* A special type of variable that holds a memory address\n",
    "    * A pointer \"points to\" a location in memory\n",
    "* Declaration consists of:\n",
    "    * Type of value stored in memory at the address stored in the pointer variable\n",
    "    * Asterisk (`*`)\n",
    "    * Name of pointer variable\n",
    "    * Example: `int *p` — declares a pointer variable `p` that refers to a memory location where an integer is stored\n",
    "* Can be used to indirectly read and write another variable\n",
    "* Address-of (`&`) operator obtains the memory address where a variable is stored\n",
    "* De-reference (*) operator is used to refer to the value stored at the memory address contained in the pointer variable"
   ]
  },
  {
   "cell_type": "markdown",
   "id": "c4c9228a-78f7-4591-8050-b17de849783f",
   "metadata": {
    "slideshow": {
     "slide_type": "skip"
    },
    "tags": [
     "notes-only"
    ]
   },
   "source": [
    "* Example"
   ]
  },
  {
   "cell_type": "code",
   "execution_count": 12,
   "id": "cf497146-21f9-4e41-83fe-1ffbed147074",
   "metadata": {
    "slideshow": {
     "slide_type": "skip"
    },
    "tags": [
     "notes-only"
    ]
   },
   "outputs": [
    {
     "name": "stdout",
     "output_type": "stream",
     "text": [
      "0x7ff7b8d6d4bc\n",
      "42\n",
      "43 43\n"
     ]
    }
   ],
   "source": [
    "#include <stdio.h>\n",
    "int main() {\n",
    "    int i = 42;\n",
    "    int *p = &i; // p now contains the address where the \n",
    "                 //     value of variable i is stored\n",
    "                 // p “points-to” i\n",
    "    printf(\"%p\\n\", p);\n",
    "    printf(\"%d\\n\", *p); // Outputs 42, because p contains the memory address \n",
    "                       //     where i is stored (i.e., p points-to i), and the \n",
    "                       //     variable i currently contains the value 42\n",
    "    *p = *p + 1; // Updates the value in variable i to 43, because p \n",
    "                 //     contains the memory address where i is stored \n",
    "                 //     (i.e., p points-to i)\n",
    "    printf(\"%d %d\\n\", i, *p);\n",
    "}"
   ]
  },
  {
   "cell_type": "markdown",
   "id": "ab308741-cd58-4d58-b9e4-f03bb67c2de9",
   "metadata": {
    "slideshow": {
     "slide_type": "skip"
    },
    "tags": [
     "notes-only"
    ]
   },
   "source": [
    "* _What happens if we assign a value to the pointer variable without dereferencing the pointer?_ — we update the memory address stored in the pointer variable; we point to a new location in memory"
   ]
  },
  {
   "cell_type": "markdown",
   "id": "902e9d6d-9acf-420d-8e17-59e63871ef0a",
   "metadata": {
    "slideshow": {
     "slide_type": "subslide"
    },
    "tags": []
   },
   "source": [
    "* Q8: _What does the following program output?_"
   ]
  },
  {
   "cell_type": "code",
   "execution_count": 7,
   "id": "f550b42a-b3e5-4ca3-b7e4-07054e3ccac6",
   "metadata": {
    "tags": [
     "worksheet-code-only"
    ]
   },
   "outputs": [
    {
     "name": "stdout",
     "output_type": "stream",
     "text": [
      "1 2 1 2\n",
      "5 7 5 7\n",
      "9 10 9 10\n",
      "9 10 10 10\n"
     ]
    }
   ],
   "source": [
    "#include <stdio.h>\n",
    "int main() {\n",
    "    int a = 1;\n",
    "    int b = 2;\n",
    "    int *x = &a;\n",
    "    int *y = &b;\n",
    "    printf(\"%d %d %d %d\\n\", a, b, *x, *y);\n",
    "    a = 5;\n",
    "    *y = 7;\n",
    "    printf(\"%d %d %d %d\\n\", a, b, *x, *y);\n",
    "    *x = *x + 4;\n",
    "    b = b + 3;\n",
    "    printf(\"%d %d %d %d\\n\", a, b, *x, *y);\n",
    "    x = y;\n",
    "    printf(\"%d %d %d %d\\n\", a, b, *x, *y);\n",
    "}"
   ]
  },
  {
   "cell_type": "markdown",
   "id": "e3f4c647-84aa-42dd-9174-4145e347575c",
   "metadata": {
    "slideshow": {
     "slide_type": "skip"
    },
    "tags": [
     "worksheet-only"
    ]
   },
   "source": [
    "<p style=\"height:6em;\"></p>"
   ]
  },
  {
   "cell_type": "markdown",
   "id": "36b00a5f-e834-438b-bf1b-1ef92b074737",
   "metadata": {
    "slideshow": {
     "slide_type": "subslide"
    },
    "tags": []
   },
   "source": [
    "* Q9: _Write a program that:_\n",
    "    1. _Stores the character 'A' in a variable_\n",
    "    2. _Creates and uses a pointer to print the character_\n",
    "    3. _Uses the same pointer to change the character to 'B'_\n",
    "    4. _Uses the same pointer to advance the character by 3 (to 'E')_\n",
    "    5. _Creates and uses a second pointer to print the character_"
   ]
  },
  {
   "cell_type": "code",
   "execution_count": 8,
   "id": "f5581994-5b1b-4a85-8b2a-a47eda62a603",
   "metadata": {
    "slideshow": {
     "slide_type": "skip"
    },
    "tags": [
     "notes-only"
    ]
   },
   "outputs": [
    {
     "name": "stdout",
     "output_type": "stream",
     "text": [
      "A\n",
      "E\n"
     ]
    }
   ],
   "source": [
    "#include <stdio.h>\n",
    "int main() {\n",
    "    char ch = 'A';\n",
    "    char *ptr = &ch;\n",
    "    printf(\"%c\\n\", *ptr);\n",
    "    *ptr = 'B';\n",
    "    *ptr = *ptr + 3;\n",
    "    char *ptr2 = ptr;\n",
    "    printf(\"%c\\n\", *ptr2);\n",
    "}"
   ]
  },
  {
   "cell_type": "markdown",
   "id": "7c54a332-505a-4c66-975d-dc9ba6a161f3",
   "metadata": {
    "slideshow": {
     "slide_type": "skip"
    },
    "tags": [
     "worksheet-only"
    ]
   },
   "source": [
    "<p style=\"height:15em;\"></p>\n",
    "\n",
    "🛑 **STOP here** after completing the above questions; if you have extra time please **skip ahead** to the extra practice.\n",
    "\n",
    "<div style=\"page-break-after:always;\"></div>"
   ]
  },
  {
   "cell_type": "markdown",
   "id": "1a34c66e-e778-4b10-ad0a-7efbb9ef4333",
   "metadata": {
    "slideshow": {
     "slide_type": "slide"
    },
    "tags": []
   },
   "source": [
    "## Pointers as parameters"
   ]
  },
  {
   "cell_type": "markdown",
   "id": "e1056f79-e17b-47b9-90ff-3771d6805c31",
   "metadata": {
    "slideshow": {
     "slide_type": "skip"
    },
    "tags": [
     "notes-only"
    ]
   },
   "source": [
    "* Functions can take pointers as parameters\n",
    "    * Similar to a pointer declaration, include an asterisk before the parameter name: e.g., `void foo(int *a)`\n",
    "    * Function gets a copy of the memory address stored in the pointer variable, not a copy of the value stored at that memory address"
   ]
  },
  {
   "cell_type": "markdown",
   "id": "8d7510d3-bbb5-4362-934c-2c026fa83106",
   "metadata": {},
   "source": [
    "* Example"
   ]
  },
  {
   "cell_type": "code",
   "execution_count": 10,
   "id": "a2f895de-6993-4edb-8fac-e5424cf73645",
   "metadata": {
    "tags": [
     "worksheet-code-only"
    ]
   },
   "outputs": [
    {
     "name": "stdout",
     "output_type": "stream",
     "text": [
      "1\n",
      "3\n"
     ]
    }
   ],
   "source": [
    "#include <stdio.h>\n",
    "void value(int a) {\n",
    "    a = 2;\n",
    "}\n",
    "void pointer(int *b) {\n",
    "    *b = 3;\n",
    "}\n",
    "int main() {\n",
    "    int v = 1;\n",
    "    int *p = &v;\n",
    "    value(v);\n",
    "    printf(\"%d\\n\", v);\n",
    "    pointer(p);\n",
    "    printf(\"%d\\n\", v);\n",
    "}"
   ]
  },
  {
   "cell_type": "markdown",
   "id": "efa6b227-7b7d-4af6-a044-335579835a7e",
   "metadata": {
    "slideshow": {
     "slide_type": "slide"
    },
    "tags": []
   },
   "source": [
    "## Extra practice"
   ]
  },
  {
   "cell_type": "markdown",
   "id": "992d1b32-f219-4f1b-99ee-d29a8ac8c644",
   "metadata": {},
   "source": [
    "_Apply the following bitwise operations_"
   ]
  },
  {
   "cell_type": "markdown",
   "id": "1f6527ba-a511-4c8c-bd0d-67475639d4cc",
   "metadata": {},
   "source": [
    "* Q10: `0b0011 & 0b0101`"
   ]
  },
  {
   "cell_type": "markdown",
   "id": "3566ac67-2151-4fde-8bd4-4646d18dc5cd",
   "metadata": {
    "slideshow": {
     "slide_type": "skip"
    },
    "tags": [
     "notes-only"
    ]
   },
   "source": [
    "    0b0001"
   ]
  },
  {
   "cell_type": "markdown",
   "id": "1c8c1f09-99db-4a9b-ba95-a70c1c37a95a",
   "metadata": {
    "slideshow": {
     "slide_type": "skip"
    },
    "tags": [
     "worksheet-only"
    ]
   },
   "source": [
    "<p style=\"height:4em;\"></p>"
   ]
  },
  {
   "cell_type": "markdown",
   "id": "b416a2d2-7233-468d-8165-cb7a93ddb700",
   "metadata": {},
   "source": [
    "* Q11: `0b0011 | 0b0101`"
   ]
  },
  {
   "cell_type": "markdown",
   "id": "f2fe1fb4-17b7-4847-8f38-d58d59a0a035",
   "metadata": {
    "slideshow": {
     "slide_type": "skip"
    },
    "tags": [
     "notes-only"
    ]
   },
   "source": [
    "    0b0111"
   ]
  },
  {
   "cell_type": "markdown",
   "id": "d22d7af6-dc52-4af3-a5a6-39387013ae77",
   "metadata": {
    "slideshow": {
     "slide_type": "skip"
    },
    "tags": [
     "worksheet-only"
    ]
   },
   "source": [
    "<p style=\"height:4em;\"></p>"
   ]
  },
  {
   "cell_type": "markdown",
   "id": "9d45f568-df58-4b88-8da4-0690667cccd7",
   "metadata": {},
   "source": [
    "* Q12: `0b0011 ^ 0b0101`"
   ]
  },
  {
   "cell_type": "markdown",
   "id": "e0bd540d-ac5d-4b63-aee6-966ce7df8765",
   "metadata": {
    "slideshow": {
     "slide_type": "skip"
    },
    "tags": [
     "notes-only"
    ]
   },
   "source": [
    "    0b0110"
   ]
  },
  {
   "cell_type": "markdown",
   "id": "ceef0f4a-632d-49a2-8594-5b07baf11675",
   "metadata": {
    "slideshow": {
     "slide_type": "skip"
    },
    "tags": [
     "worksheet-only"
    ]
   },
   "source": [
    "<p style=\"height:4em;\"></p>"
   ]
  },
  {
   "cell_type": "markdown",
   "id": "03c8fd1b-baa7-4538-b928-44361efee780",
   "metadata": {
    "slideshow": {
     "slide_type": "subslide"
    },
    "tags": []
   },
   "source": [
    "_For each of the following expressions, select all operators that make the expression evaluate to true. Operands are encoded using two's complement._\n",
    "\n",
    "* Q13: `0b110000 __ 0b111111`  \n",
    "```\n",
    "&   &&   |   ||   ^   <\n",
    "```"
   ]
  },
  {
   "cell_type": "markdown",
   "id": "9f1a7e98-55b4-4d30-b56b-5ce9c1f3f83b",
   "metadata": {
    "slideshow": {
     "slide_type": "skip"
    },
    "tags": [
     "notes-only"
    ]
   },
   "source": [
    "`&`, `&&`, `|`, `||`, `^`, `<`"
   ]
  },
  {
   "cell_type": "markdown",
   "id": "7d543134-07fd-4236-ab45-dec309bdd6af",
   "metadata": {},
   "source": [
    "* Q14: `0b011110 __ 0b000001`  \n",
    "```\n",
    "&   &&   |   ||   ^   <\n",
    "```"
   ]
  },
  {
   "cell_type": "markdown",
   "id": "d09958bd-25f8-4b38-9719-ae4ff0cbf968",
   "metadata": {
    "slideshow": {
     "slide_type": "skip"
    },
    "tags": [
     "notes-only"
    ]
   },
   "source": [
    "`&&`, `|`, `||`, `^`"
   ]
  },
  {
   "cell_type": "markdown",
   "id": "472c6a70-cb63-4ba0-a8c4-84c101bc327a",
   "metadata": {},
   "source": [
    "* Q15: `0b000000 __ 0b000000`  \n",
    "```\n",
    "&   &&   |   ||   ^   <\n",
    "```"
   ]
  },
  {
   "cell_type": "markdown",
   "id": "641abc28-3177-48fe-8e66-9a220b65e150",
   "metadata": {
    "slideshow": {
     "slide_type": "skip"
    },
    "tags": [
     "notes-only"
    ]
   },
   "source": [
    "_none_"
   ]
  },
  {
   "cell_type": "markdown",
   "id": "2bf95705-3126-4305-ad7e-d3bf338cafff",
   "metadata": {},
   "source": [
    "* Q16: `0b000111 __ 0b000111`  \n",
    "```\n",
    "&   &&   |   ||   ^   <\n",
    "```"
   ]
  },
  {
   "cell_type": "markdown",
   "id": "de520e4a-4e80-49f8-90b9-f31a5013d46c",
   "metadata": {
    "slideshow": {
     "slide_type": "skip"
    },
    "tags": [
     "notes-only"
    ]
   },
   "source": [
    "`&`, `&&`, `|`, `||`"
   ]
  },
  {
   "cell_type": "markdown",
   "id": "cad15167-c326-4666-b68e-1dd04a4875ab",
   "metadata": {
    "slideshow": {
     "slide_type": "skip"
    },
    "tags": [
     "worksheet-only"
    ]
   },
   "source": [
    "<p style=\"page-break-after:always;\"></p>"
   ]
  },
  {
   "cell_type": "markdown",
   "id": "ef843131-1c2e-45ec-91dc-eab60a31e3d3",
   "metadata": {
    "tags": []
   },
   "source": [
    "_Express the following real numbers using 8-bit fixed point representation with 4 bits for the fractional part. If the number cannot be expressed exactly, express it as closely as you can and indicate which number is actually represented by the bits._\n",
    "* Q17: `5.75`"
   ]
  },
  {
   "cell_type": "markdown",
   "id": "3d46e23a-8492-4a5d-835e-fce6f8175762",
   "metadata": {
    "slideshow": {
     "slide_type": "skip"
    },
    "tags": [
     "notes-only"
    ]
   },
   "source": [
    "    0b01011100 = 2^2 + 2^0 + 2^-1 + 2^-2"
   ]
  },
  {
   "cell_type": "markdown",
   "id": "8c469a6a-e5fe-4f0e-97f1-71a230063555",
   "metadata": {
    "slideshow": {
     "slide_type": "skip"
    },
    "tags": [
     "worksheet-only"
    ]
   },
   "source": [
    "<p style=\"height:6em;\"></p>"
   ]
  },
  {
   "cell_type": "markdown",
   "id": "e30c6e5e-75c2-45e5-8b04-f3bfbe6f8c72",
   "metadata": {
    "tags": []
   },
   "source": [
    "* Q18: `16.125`"
   ]
  },
  {
   "cell_type": "markdown",
   "id": "6572b385-fd5c-4e97-b87e-0c4ea469b681",
   "metadata": {
    "slideshow": {
     "slide_type": "skip"
    },
    "tags": [
     "notes-only"
    ]
   },
   "source": [
    "    0b11110010 = 2^3 + 2^2 + 2^1 + 2^0 + 2^-3 = 15.125"
   ]
  },
  {
   "cell_type": "markdown",
   "id": "e9d55210-9be3-4e21-9a81-dc65cc4e4a1e",
   "metadata": {
    "slideshow": {
     "slide_type": "skip"
    },
    "tags": [
     "worksheet-only"
    ]
   },
   "source": [
    "<p style=\"height:6em;\"></p>"
   ]
  },
  {
   "cell_type": "markdown",
   "id": "d1e6040b-7cab-4d0c-986f-a8ba9f381134",
   "metadata": {
    "tags": []
   },
   "source": [
    "* Q19: `4.1875`"
   ]
  },
  {
   "cell_type": "markdown",
   "id": "d83707cf-7dd5-431b-8ef3-192f428fa2db",
   "metadata": {
    "slideshow": {
     "slide_type": "skip"
    },
    "tags": [
     "notes-only"
    ]
   },
   "source": [
    "    0b01000011 = 2^2 + 2^0 + 2^-3 + 2^-4 = 4.1875"
   ]
  },
  {
   "cell_type": "markdown",
   "id": "3d019022-a43f-460b-afc6-ff5cd2a1d1a1",
   "metadata": {
    "slideshow": {
     "slide_type": "skip"
    },
    "tags": [
     "worksheet-only"
    ]
   },
   "source": [
    "<p style=\"height:6em;\"></p>"
   ]
  }
 ],
 "metadata": {
  "kernelspec": {
   "display_name": "C",
   "language": "c",
   "name": "c"
  },
  "language_info": {
   "file_extension": ".c",
   "mimetype": "c",
   "name": "c"
  }
 },
 "nbformat": 4,
 "nbformat_minor": 5
}
