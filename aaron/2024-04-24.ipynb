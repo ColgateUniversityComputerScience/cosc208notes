{
 "cells": [
  {
   "cell_type": "markdown",
   "id": "d4c0cf7a-6741-41de-924b-477e6ac8b4e3",
   "metadata": {
    "slideshow": {
     "slide_type": "skip"
    },
    "tags": []
   },
   "source": [
    "# Storage: memory hierarchy; locality\n",
    "_COSC 208, Introduction to Computer Systems, 2024-04-24_"
   ]
  },
  {
   "cell_type": "markdown",
   "id": "ed5ad917-28d5-4478-b50b-72e280029552",
   "metadata": {
    "slideshow": {
     "slide_type": "skip"
    },
    "tags": []
   },
   "source": [
    "## Announcements\n",
    "* Project 3 due today @ 11pm"
   ]
  },
  {
   "cell_type": "markdown",
   "id": "da1fb4b2-e9fe-4d36-a409-388d2f498f71",
   "metadata": {
    "slideshow": {
     "slide_type": "skip"
    },
    "tags": [
     "notes-only"
    ]
   },
   "source": [
    "## Outline\n",
    "* Memory hierarchy\n",
    "* Temporal vs. spatial locality\n",
    "* CPU caches\n",
    "* Cache replacement"
   ]
  },
  {
   "cell_type": "markdown",
   "id": "3c81fa41-f1ac-4552-9871-30e7b322189b",
   "metadata": {},
   "source": [
    "## Warm-up: memory hierarchy"
   ]
  },
  {
   "cell_type": "markdown",
   "id": "9de3d2df-2b1e-48c5-aaac-92804f025d77",
   "metadata": {},
   "source": [
    "* Q1: _For each of the following characteristics, circle the type(s) of memory to which the characteristic applies. (HDD = Hard Disk Drive; RAM = Random Access Memory; SSD = Solid State Drive)_\n",
    "\n",
    "| Characteristic | | | | | |\n",
    "|-----|-|-|-|-|-|\n",
    "| <br/>Cheapest<br/><br/> | Cache | HDD | RAM | Registers | SSD |\n",
    "| <br/>Fastest<br/><br/> | Cache | HDD | RAM | Registers | SSD |\n",
    "| <br/>On CPU<br/><br/> | Cache | HDD | RAM | Registers | SSD |\n",
    "| <br/>Volatile<br/><br/> | Cache | HDD | RAM | Registers | SSD |\n",
    "| <br/>Size measured in megabytes (MB)<br/>in a present day laptop | Cache | HDD | RAM | Registers | SSD |\n",
    "| <br/>Size measured in gigabytes (GB)<br/>in a present day laptop | Cache | HDD | RAM | Registers | SSD |\n",
    "| <br/>Size measured in terabytes (TB)<br/>in a present day laptop | Cache | HDD | RAM | Registers | SSD |"
   ]
  },
  {
   "cell_type": "markdown",
   "id": "d384d594-b4f7-46fa-a175-67cb7c5e5391",
   "metadata": {
    "slideshow": {
     "slide_type": "skip"
    },
    "tags": [
     "notes-only"
    ]
   },
   "source": [
    "    Cheapest: HDD\n",
    "    Fastest: Registers\n",
    "    On CPU: Cache, Registers\n",
    "    Volatile: Cache, RAM, Registers\n",
    "    Size in MB: Cache\n",
    "    Size in GB: RAM\n",
    "    Size in TB: HDD, SSD"
   ]
  },
  {
   "cell_type": "markdown",
   "id": "b39bafff-9bb8-4c57-a274-8a3c035d9731",
   "metadata": {
    "slideshow": {
     "slide_type": "skip"
    },
    "tags": [
     "worksheet-only"
    ]
   },
   "source": [
    "<div style=\"page-break-after:always;\"></div>"
   ]
  },
  {
   "cell_type": "markdown",
   "id": "37a0b3a3-5e1f-4406-8ca1-0a99cd9a9059",
   "metadata": {
    "slideshow": {
     "slide_type": "skip"
    },
    "tags": [
     "notes-only"
    ]
   },
   "source": [
    "## Data movement"
   ]
  },
  {
   "cell_type": "markdown",
   "id": "041529e3-afda-4f78-8dad-dc0b87658f36",
   "metadata": {
    "slideshow": {
     "slide_type": "skip"
    },
    "tags": [
     "notes-only"
    ]
   },
   "source": [
    "* Recall: _How does data move between the CPU, main memory, and secondary storage in the von Neumann Architecture?_ — bus\n",
    "* _Why does data move between registers and main memory?_ — not enough room in registers to store all values used by a program at runtime\n",
    "* _How can we move less data (i.e., perform fewer loads and stores)?_\n",
    "* Better use of registers — Loads and stores are unnecessary when the value of a register is not changed between store and load instructions involving the same register and memory address\n",
    "    * Example load which is _unnecessary_\n",
    "        ```\n",
    "        str x0, [sp,#4]\n",
    "        ldr x0, [sp,#4] // Can eliminiate\n",
    "        ```\n",
    "    * Example load store which is _necessary_\n",
    "        ```\n",
    "        str w0, [sp,#4]\n",
    "        mov w0, #0x1\n",
    "        str w0, [sp]\n",
    "        ldr w0, [sp,#4]\n",
    "        ```\n",
    "    * Better register assignments to eliminate loads (and stores)\n",
    "        ```\n",
    "        str w0, [sp,#4]\n",
    "        mov w1, #0x1\n",
    "        str w1, [sp]\n",
    "        ldr w0, [sp,#4] // Can eliminiate\n",
    "        ```\n",
    "    * Must preserve calling conventions\n",
    "        * Parameters are stored in w/x0, w/x1, ...\n",
    "        * Return value is stored in w/x0\n",
    "        * Caller must store register values into caller's stack frame before `bl` to callee — actually only needed if values in registers are needed by caller after `bl` and callee overwrites the values in those registers\n",
    "* Leverage locality\n",
    "    * Add additional memory to the CPU — i.e., a cache\n",
    "    * Optimize code to improve locality"
   ]
  },
  {
   "cell_type": "markdown",
   "id": "55fd2aca-9542-44be-8970-ad366c6cfdc1",
   "metadata": {
    "slideshow": {
     "slide_type": "skip"
    },
    "tags": [
     "notes-only"
    ]
   },
   "source": [
    "## Temporal vs. spatial locality"
   ]
  },
  {
   "cell_type": "markdown",
   "id": "dad138e9-ceb0-48cb-84d6-8ce71da7c179",
   "metadata": {
    "slideshow": {
     "slide_type": "skip"
    },
    "tags": [
     "notes-only"
    ]
   },
   "source": [
    "* _What is temporal locality?_\n",
    "    * Access the same data repeatedly\n",
    "    * E.g., for loop variable\n",
    "* _What is spatial locality?_\n",
    "    * Access data with a similar scope\n",
    "    * E.g., next item in array\n",
    "    * E.g., local variables/parameters, which are stored in the same stack frame\n",
    "* Analogies for temporal and spatial locality\n",
    "    * Book storage (Dive Into Systems Section 11.3.2)\n",
    "        * Temporal locality — store most frequently used books at your desk, less frequently used books on your bookshelf, and least frequently used books at the library\n",
    "        * Spatial locality — checkout books on the same/nearby subjects when you go to the library\n",
    "    * Groceries (pre-class questions 3 & 4)\n",
    "        * Temporal locality — you store food you eat frequently in the front of the refrigerator, while you store food you eat infrequently in the back of the refrigerator\n",
    "        * Spatial locality — you organize the items on your grocery list based on the aisle in which they are located\n",
    "    * _With a partner, develop your own analogy for temporal and spatial locality_"
   ]
  },
  {
   "cell_type": "markdown",
   "id": "055ab108-994c-405d-b84a-807e49d6b872",
   "metadata": {
    "slideshow": {
     "slide_type": "skip"
    },
    "tags": [
     "notes-only"
    ]
   },
   "source": [
    "## CPU caches"
   ]
  },
  {
   "cell_type": "markdown",
   "id": "84a8e039-f872-4d4a-94f0-9c847f3742b9",
   "metadata": {
    "slideshow": {
     "slide_type": "skip"
    },
    "tags": [
     "notes-only"
    ]
   },
   "source": [
    "* _Why do we have caches on the CPU?_ — accessing main memory is ~100x slower than accessing a register\n",
    "* Store instructions and data (stack, heap, etc.) from main memory\n",
    "* Three levels — L1, L2, and L3\n",
    "* Range in size from a few KB to a few MB – L1 is smallest and fastest; L3 is largest and slowest\n",
    "* Cache line (i.e., cache entry) is typically larger than a word — e.g., 128 bytes\n",
    "    * _Why?_ — spatial locality\n",
    "* What happens when we write to memory?\n",
    "    * Write through cache — write to the cache and main memory\n",
    "    * Write back cache — initially write to the cache; write to main memory when the entry is evicted from the cache\n",
    "    * What are the advantages of each approach?\n",
    "        * Write through cache ensures consistency between CPU cores\n",
    "        * Write back cache only incurs the overhead of accessing main memory when absolutely necessary"
   ]
  },
  {
   "cell_type": "markdown",
   "id": "2919df6f-d4fd-40ce-a526-fb8e92d874ce",
   "metadata": {
    "slideshow": {
     "slide_type": "slide"
    },
    "tags": []
   },
   "source": [
    "## Extra practice\n",
    "Q2: _Consider the following program:_"
   ]
  },
  {
   "cell_type": "code",
   "execution_count": null,
   "id": "4cf335df-5bfd-417e-80ca-a57ea337fe53",
   "metadata": {},
   "outputs": [],
   "source": [
    "/* 1*/  #include <ctype.h>\n",
    "/* 2*/  #include <pthread.h>\n",
    "/* 3*/  #include <stdio.h>\n",
    "/* 4*/  #include <stdlib.h>\n",
    "/* 5*/  #include <string.h>\n",
    "/* 6*/  int count_upper(char *str) {\n",
    "/* 7*/      int count = 0;\n",
    "/* 8*/      for (int i = 0; i < strlen(str); i++) {\n",
    "/* 9*/          if (isupper(str[i])) {\n",
    "/*10*/              count++;\n",
    "/*11*/          }\n",
    "/*12*/      }\n",
    "/*13*/      return count;\n",
    "/*14*/  }\n",
    "/*15*/  int main(int argc, char *argv[]) {\n",
    "/*16*/      if (argc < 2) {\n",
    "/*17*/          printf(\"Error: provide a string\\n\");\n",
    "/*18*/          return 1;\n",
    "/*19*/      }\n",
    "/*20*/      char *str = argv[1];\n",
    "/*21*/      pthread_t thr;\n",
    "/*22*/      pthread_create(thr, NULL, &count_upper, str);\n",
    "/*23*/      int count = 0;\n",
    "/*24*/      pthread_join(thr, &count);\n",
    "/*25*/      printf(\"There are %d uppercase letters\\n\", count);\n",
    "/*26*/  }"
   ]
  },
  {
   "cell_type": "markdown",
   "id": "b6c2dec4-91de-43f5-aff9-11aa7726cc09",
   "metadata": {
    "slideshow": {
     "slide_type": "skip"
    },
    "tags": [
     "worksheet-only"
    ]
   },
   "source": [
    "<div style=\"page-break-after:always;\"></div>"
   ]
  },
  {
   "cell_type": "markdown",
   "id": "21dda6c5-11f4-4171-8938-08c35b59e6fd",
   "metadata": {
    "slideshow": {
     "slide_type": "subslide"
    },
    "tags": []
   },
   "source": [
    "_Compiling this program results in the following warnings:_\n",
    "```\n",
    "buggy.c:22:20: warning: incompatible integer to pointer conversion passing \n",
    "'pthread_t' (aka 'unsigned long') to parameter of type 'pthread_t *' (aka \n",
    "'unsigned long *'); take the address with & [-Wint-conversion]\n",
    "    pthread_create(thr, NULL, &count_upper, str);\n",
    "                   ^~~\n",
    "                   &\n",
    "/usr/include/pthread.h:198:50: note: passing argument to parameter \n",
    "'__newthread' here\n",
    "extern int pthread_create (pthread_t *__restrict __newthread,\n",
    "                                                 ^\n",
    "\n",
    "buggy.c:22:31: warning: incompatible function pointer types passing \n",
    "'int (*)(char *)' to parameter of type 'void *(*)(void *)' \n",
    "[-Wincompatible-function-pointer-types]\n",
    "    pthread_create(thr, NULL, &count_upper, str);\n",
    "                              ^~~~~~~~~~~~\n",
    "/usr/include/pthread.h:200:15: note: passing argument to parameter \n",
    "'__start_routine' here\n",
    "                           void *(*__start_routine) (void *),\n",
    "                                   ^\n",
    "\n",
    "buggy.c:24:23: warning: incompatible pointer types passing \n",
    "'int *' to parameter of type 'void **' [-Wincompatible-pointer-types]\n",
    "    pthread_join(thr, &count);\n",
    "                      ^~~~~~\n",
    "/usr/include/pthread.h:215:49: note: passing argument to parameter \n",
    "'__thread_return' here\n",
    "extern int pthread_join (pthread_t __th, void **__thread_return);\n",
    "                                                ^\n",
    "3 warnings generated.\n",
    "```\n",
    "_How would you change the code to fix these problems?_"
   ]
  },
  {
   "cell_type": "markdown",
   "id": "c501530d-804b-44dd-a389-b6adc5c52c1d",
   "metadata": {
    "slideshow": {
     "slide_type": "skip"
    },
    "tags": [
     "notes-only"
    ]
   },
   "source": [
    "* Need to pass `&thr` to `pthread_create` (instead of `thr`) on line 22\n",
    "* Function executed by a thread must return `void *` and take a single `void *` parameter; replace lines 6-7 with:\n",
    "    ```C\n",
    "    void *count_upper(void *arg) {\n",
    "        char *str = (char *)arg;\n",
    "        int *count = malloc(sizeof(int));\n",
    "        *count = 0;\n",
    "    ```\n",
    "    Also replace line 10 with:\n",
    "    ```C\n",
    "    *count++;\n",
    "    ```\n",
    "* Need to pass a double pointer to `pthread_join` on line 24; replace lines 23-25 with:\n",
    "    ```C\n",
    "    int *count = NULL;\n",
    "    pthread_join(thr, &count);\n",
    "    printf(\"There are %d uppercase letters\\n\", *count);\n",
    "    ``` "
   ]
  }
 ],
 "metadata": {
  "kernelspec": {
   "display_name": "C",
   "language": "c",
   "name": "c"
  },
  "language_info": {
   "file_extension": ".c",
   "mimetype": "c",
   "name": "c"
  }
 },
 "nbformat": 4,
 "nbformat_minor": 5
}
