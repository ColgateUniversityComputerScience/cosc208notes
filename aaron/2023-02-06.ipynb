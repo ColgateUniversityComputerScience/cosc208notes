{
 "cells": [
  {
   "cell_type": "markdown",
   "id": "2d19966c-5c00-4945-bcbb-856b672d5eb4",
   "metadata": {
    "slideshow": {
     "slide_type": "skip"
    },
    "tags": []
   },
   "source": [
    "# Number representation: base conversion (continued); signed integers\n",
    "_COSC 208, Introduction to Computer Systems, 2023-02-06_"
   ]
  },
  {
   "cell_type": "markdown",
   "id": "f1e246ff-7cc1-410b-8ff3-f5fbe09d59a2",
   "metadata": {
    "slideshow": {
     "slide_type": "skip"
    },
    "tags": []
   },
   "source": [
    "## Announcements\n",
    "* DEI assignment 1 due Thursday @ 11pm\n",
    "* Programming project 1 due Thurs, Feb 16 @ 11pm"
   ]
  },
  {
   "cell_type": "markdown",
   "id": "40f1ede4-fe5f-4ba6-bc8f-e945df5e4ebe",
   "metadata": {
    "slideshow": {
     "slide_type": "skip"
    },
    "tags": []
   },
   "source": [
    "## Outline\n",
    "* Warm-up\n",
    "* Binary <-> hex conversion\n",
    "* Decimal -> binary conversion\n",
    "* Signed integers"
   ]
  },
  {
   "cell_type": "markdown",
   "id": "9d22d92a-1a6d-491a-afb1-74fb87777d7a",
   "metadata": {
    "slideshow": {
     "slide_type": "slide"
    },
    "tags": []
   },
   "source": [
    "## Warm-up\n",
    "_Convert the following numbers to decimal (i.e., base 10):_\n",
    "* Q1: `0b010100`"
   ]
  },
  {
   "cell_type": "markdown",
   "id": "72318744-df79-4fd0-bbab-78fdc640391c",
   "metadata": {
    "slideshow": {
     "slide_type": "skip"
    },
    "tags": [
     "notes-only"
    ]
   },
   "source": [
    "    2^4 + 2^2 = 16 + 4 = 20"
   ]
  },
  {
   "cell_type": "markdown",
   "id": "1c2b6f22-18b5-45ff-8a51-da6b8c0cdea4",
   "metadata": {
    "slideshow": {
     "slide_type": "skip"
    },
    "tags": [
     "worksheet-only"
    ]
   },
   "source": [
    "<p style=\"height:4em;\"></p>"
   ]
  },
  {
   "cell_type": "markdown",
   "id": "fd8360d9-84de-4ec9-b051-870d30093415",
   "metadata": {
    "jp-MarkdownHeadingCollapsed": true,
    "tags": []
   },
   "source": [
    "* Q2: `0b101000`"
   ]
  },
  {
   "cell_type": "markdown",
   "id": "712d2beb-9a0e-4e38-be42-92f85f5e53a8",
   "metadata": {
    "slideshow": {
     "slide_type": "skip"
    },
    "tags": [
     "notes-only"
    ]
   },
   "source": [
    "    2^5 + 2^3 = 32 + 8 = 40"
   ]
  },
  {
   "cell_type": "markdown",
   "id": "cb34f094-77dc-4652-8bfe-364d709e55ec",
   "metadata": {
    "slideshow": {
     "slide_type": "skip"
    },
    "tags": [
     "worksheet-only"
    ]
   },
   "source": [
    "<p style=\"height:4em;\"></p>"
   ]
  },
  {
   "cell_type": "markdown",
   "id": "2d62006d-0985-4c32-a7df-3aa081b6f22c",
   "metadata": {
    "jp-MarkdownHeadingCollapsed": true,
    "tags": []
   },
   "source": [
    "* Q3: `0b01000110`"
   ]
  },
  {
   "cell_type": "markdown",
   "id": "b25a3b4c-a57d-4724-abc8-07de2df070f2",
   "metadata": {
    "slideshow": {
     "slide_type": "skip"
    },
    "tags": [
     "notes-only"
    ]
   },
   "source": [
    "    2^6 + 2^2 + 2^1 = 64 + 4 + 2 = 70"
   ]
  },
  {
   "cell_type": "markdown",
   "id": "9e19747b-3f44-4fdb-978f-0387e76765b5",
   "metadata": {
    "slideshow": {
     "slide_type": "skip"
    },
    "tags": [
     "worksheet-only"
    ]
   },
   "source": [
    "<p style=\"height:4em;\"></p>"
   ]
  },
  {
   "cell_type": "markdown",
   "id": "2e8f0adc-6f41-4a91-83a4-b134844eb87d",
   "metadata": {
    "jp-MarkdownHeadingCollapsed": true,
    "tags": []
   },
   "source": [
    "* Q4: `0xB`"
   ]
  },
  {
   "cell_type": "markdown",
   "id": "71dd5c9a-8c17-4e7a-bafa-7124a2d229a4",
   "metadata": {
    "slideshow": {
     "slide_type": "skip"
    },
    "tags": [
     "notes-only"
    ]
   },
   "source": [
    "    11"
   ]
  },
  {
   "cell_type": "markdown",
   "id": "b06a4a5d-fecb-4cee-b9af-78f1d577c7e3",
   "metadata": {
    "slideshow": {
     "slide_type": "skip"
    },
    "tags": [
     "worksheet-only"
    ]
   },
   "source": [
    "<p style=\"height:4em;\"></p>"
   ]
  },
  {
   "cell_type": "markdown",
   "id": "7facf261-5307-4cf5-8865-f1f5a5d77d89",
   "metadata": {
    "jp-MarkdownHeadingCollapsed": true,
    "tags": []
   },
   "source": [
    "* Q5: `0x30`"
   ]
  },
  {
   "cell_type": "markdown",
   "id": "d988e359-4ce2-47a2-aa04-5309e8911ad8",
   "metadata": {
    "slideshow": {
     "slide_type": "skip"
    },
    "tags": [
     "notes-only"
    ]
   },
   "source": [
    "    3 * 16^1 = 48"
   ]
  },
  {
   "cell_type": "markdown",
   "id": "392d3800-7b87-4b65-a04d-38d99bc66620",
   "metadata": {
    "slideshow": {
     "slide_type": "skip"
    },
    "tags": [
     "worksheet-only"
    ]
   },
   "source": [
    "<p style=\"height:4em;\"></p>\n",
    "\n",
    "🛑 **STOP here** after completing the above questions; if you have extra time please **skip ahead** to the extra practice."
   ]
  },
  {
   "cell_type": "markdown",
   "id": "a87d5cd9-c1a9-4712-a9cc-06a2f7f158cd",
   "metadata": {
    "slideshow": {
     "slide_type": "slide"
    },
    "tags": []
   },
   "source": [
    "## Binary <-> Hex Conversion"
   ]
  },
  {
   "cell_type": "markdown",
   "id": "10b540df-08db-46bf-a470-c1852db29aba",
   "metadata": {
    "slideshow": {
     "slide_type": "skip"
    },
    "tags": [
     "notes-only"
    ]
   },
   "source": [
    "* Binary -> Hex\n",
    "    * Convert each group of four bits to its corresponding hex digit\n",
    "    * If the number of binary digits is not a multiple of four pad the front of the binary number with zeros: e.g., `0b11` => `0b0011`\n",
    "* Hex -> Binary\n",
    "    * Convert each hex digit to its corresponding four bits"
   ]
  },
  {
   "cell_type": "markdown",
   "id": "4eca8357-a5fd-4930-9217-ede6d8a41353",
   "metadata": {
    "tags": []
   },
   "source": [
    "_Convert the following binary numbers to hexadecimal:_\n",
    "* Q6: `0b1010`"
   ]
  },
  {
   "cell_type": "markdown",
   "id": "45c05dbb-7ad9-4342-9d8c-a0c50787cbbb",
   "metadata": {
    "slideshow": {
     "slide_type": "skip"
    },
    "tags": [
     "notes-only"
    ]
   },
   "source": [
    "    0xA"
   ]
  },
  {
   "cell_type": "markdown",
   "id": "f831f08c-43a8-42d2-9616-473bffd4a425",
   "metadata": {
    "slideshow": {
     "slide_type": "skip"
    },
    "tags": [
     "worksheet-only"
    ]
   },
   "source": [
    "<p style=\"height:4em;\"></p>"
   ]
  },
  {
   "cell_type": "markdown",
   "id": "7670492a-e75a-40da-91c5-772df7b31961",
   "metadata": {
    "tags": []
   },
   "source": [
    "* Q7: `0b1111`"
   ]
  },
  {
   "cell_type": "markdown",
   "id": "b367d9b0-ad39-49a7-a54c-860ad81cac18",
   "metadata": {
    "slideshow": {
     "slide_type": "skip"
    },
    "tags": [
     "notes-only"
    ]
   },
   "source": [
    "    0xF"
   ]
  },
  {
   "cell_type": "markdown",
   "id": "21a10399-b8f2-4357-8b30-750628e4d1bd",
   "metadata": {
    "slideshow": {
     "slide_type": "skip"
    },
    "tags": [
     "worksheet-only"
    ]
   },
   "source": [
    "<p style=\"height:4em;\"></p>"
   ]
  },
  {
   "cell_type": "markdown",
   "id": "3560d6c4-0106-431b-949b-680df629b33e",
   "metadata": {
    "tags": []
   },
   "source": [
    "* Q8: `0b11100111`"
   ]
  },
  {
   "cell_type": "markdown",
   "id": "adc0330f-0853-46e2-aafb-7ecbc7d43c89",
   "metadata": {
    "slideshow": {
     "slide_type": "skip"
    },
    "tags": [
     "notes-only"
    ]
   },
   "source": [
    "    0xE7"
   ]
  },
  {
   "cell_type": "markdown",
   "id": "d50945ca-88f4-4a38-9dfd-cbbd1eff946f",
   "metadata": {
    "slideshow": {
     "slide_type": "skip"
    },
    "tags": [
     "worksheet-only"
    ]
   },
   "source": [
    "<p style=\"page-break-after:always;\"></p>"
   ]
  },
  {
   "cell_type": "markdown",
   "id": "467bf8fa-59cc-41a5-94d7-d589d2e6ce13",
   "metadata": {
    "tags": []
   },
   "source": [
    "_Convert the following hexadecimal numbers to binary:_\n",
    "* Q9: `0x5`"
   ]
  },
  {
   "cell_type": "markdown",
   "id": "8190407a-e491-4081-a8b6-7748ede1e0c4",
   "metadata": {
    "slideshow": {
     "slide_type": "skip"
    },
    "tags": [
     "notes-only"
    ]
   },
   "source": [
    "    0b0101"
   ]
  },
  {
   "cell_type": "markdown",
   "id": "3ce47064-97aa-4bed-aa4f-e5745f4b65d4",
   "metadata": {
    "slideshow": {
     "slide_type": "skip"
    },
    "tags": [
     "worksheet-only"
    ]
   },
   "source": [
    "<p style=\"height:4em;\"></p>"
   ]
  },
  {
   "cell_type": "markdown",
   "id": "c384a259-fe21-4a7b-bbf8-fb2b59387ac5",
   "metadata": {
    "tags": []
   },
   "source": [
    "* Q10: `0xB`"
   ]
  },
  {
   "cell_type": "markdown",
   "id": "a116532e-3cb6-44d3-9bdd-6f386bb3ef2c",
   "metadata": {
    "slideshow": {
     "slide_type": "skip"
    },
    "tags": [
     "notes-only"
    ]
   },
   "source": [
    "    0b1011"
   ]
  },
  {
   "cell_type": "markdown",
   "id": "a4ef8d3b-7378-4084-bd8e-c789453152d8",
   "metadata": {
    "slideshow": {
     "slide_type": "skip"
    },
    "tags": [
     "worksheet-only"
    ]
   },
   "source": [
    "<p style=\"height:4em;\"></p>"
   ]
  },
  {
   "cell_type": "markdown",
   "id": "c1f7caf9-09b5-4f44-b5cb-0aa783b15591",
   "metadata": {
    "tags": []
   },
   "source": [
    "* Q11: `0x37`"
   ]
  },
  {
   "cell_type": "markdown",
   "id": "92373927-add0-4e20-aca0-532264fcd1e6",
   "metadata": {
    "slideshow": {
     "slide_type": "skip"
    },
    "tags": [
     "notes-only"
    ]
   },
   "source": [
    "    0b00110111"
   ]
  },
  {
   "cell_type": "markdown",
   "id": "e955945d-03a9-41fb-89c8-7d7003a50682",
   "metadata": {
    "slideshow": {
     "slide_type": "skip"
    },
    "tags": [
     "worksheet-only"
    ]
   },
   "source": [
    "<p style=\"height:4em;\"></p>\n",
    "\n",
    "🛑 **STOP here** after completing the above questions; if you have extra time please **skip ahead** to the extra practice."
   ]
  },
  {
   "cell_type": "markdown",
   "id": "e3334e23-c3e9-476e-b94c-2535c8de7a72",
   "metadata": {
    "slideshow": {
     "slide_type": "slide"
    },
    "tags": []
   },
   "source": [
    "## Decimal -> Binary Conversion"
   ]
  },
  {
   "cell_type": "markdown",
   "id": "617faf6b-dfaf-41c7-94e8-d5fd4675528a",
   "metadata": {
    "slideshow": {
     "slide_type": "skip"
    },
    "tags": [
     "notes-only"
    ]
   },
   "source": [
    "* Why do we care about converting between binary and decimal?\n",
    "    * We are used to working with decimal numbers, but computers represent numbers in binary \n",
    "    * Computers allocate a fixed number of bits for different types of variables; mathematical operations whose result exceeds the number of available bits will return unexpected results — we'll talk about overflow (and underflow) on Monday\n",
    "* Repeated division method\n",
    "    * Check if number is even or odd: even => 0, odd => 1\n",
    "    * Build binary number from right to left\n",
    "    * Divide by two, dropping the fractional part: e.g., 5/2 = 2, 1/2 = 0\n",
    "    * Repeat, until reach 0\n",
    "* Subtract powers of two method\n",
    "    * Find the largest power of 2 without going over\n",
    "    * Subtract that amount\n",
    "    * Repeat, with the remainder until reach 0"
   ]
  },
  {
   "cell_type": "markdown",
   "id": "967d040d-83c2-4132-b284-9fc1232489ae",
   "metadata": {
    "tags": []
   },
   "source": [
    "_Convert the following decimal numbers to binary:_\n",
    "* Q12: `10`"
   ]
  },
  {
   "cell_type": "markdown",
   "id": "b98169ae-37eb-4c49-bf94-bf24184b1a90",
   "metadata": {
    "slideshow": {
     "slide_type": "skip"
    },
    "tags": [
     "notes-only"
    ]
   },
   "source": [
    "    0b1010"
   ]
  },
  {
   "cell_type": "markdown",
   "id": "baaf9a62-a3e9-48d6-8a96-dbd51db267c1",
   "metadata": {
    "slideshow": {
     "slide_type": "skip"
    },
    "tags": [
     "worksheet-only"
    ]
   },
   "source": [
    "<p style=\"height:4em;\"></p>"
   ]
  },
  {
   "cell_type": "markdown",
   "id": "785468b4-0fab-492f-8528-55adb75742ce",
   "metadata": {
    "tags": []
   },
   "source": [
    "* Q13: `15`"
   ]
  },
  {
   "cell_type": "markdown",
   "id": "1b52f428-ecd3-401e-9139-5b449ccaec53",
   "metadata": {
    "slideshow": {
     "slide_type": "skip"
    },
    "tags": [
     "notes-only"
    ]
   },
   "source": [
    "    0b1111"
   ]
  },
  {
   "cell_type": "markdown",
   "id": "5e142630-b180-4687-9bf0-6ae3d774eb64",
   "metadata": {
    "slideshow": {
     "slide_type": "skip"
    },
    "tags": [
     "worksheet-only"
    ]
   },
   "source": [
    "<p style=\"height:4em;\"></p>"
   ]
  },
  {
   "cell_type": "markdown",
   "id": "46382459-98eb-4b6c-bdf0-c5ead1958673",
   "metadata": {
    "tags": []
   },
   "source": [
    "* Q14: `42`"
   ]
  },
  {
   "cell_type": "markdown",
   "id": "1acf43fe-0a5a-4b25-867b-7d06f457f28f",
   "metadata": {
    "slideshow": {
     "slide_type": "skip"
    },
    "tags": [
     "notes-only"
    ]
   },
   "source": [
    "    0b101010"
   ]
  },
  {
   "cell_type": "markdown",
   "id": "d9dc7003-7869-4137-be0d-45880b886407",
   "metadata": {
    "slideshow": {
     "slide_type": "skip"
    },
    "tags": [
     "worksheet-only"
    ]
   },
   "source": [
    "<p style=\"height:4em;\"></p>"
   ]
  },
  {
   "cell_type": "markdown",
   "id": "5c69188f-9c5f-4157-be77-6b1121fb8a68",
   "metadata": {
    "tags": []
   },
   "source": [
    "* Q15: `192`"
   ]
  },
  {
   "cell_type": "markdown",
   "id": "56d132df-47d0-4a00-96e7-cba7d453b38d",
   "metadata": {
    "slideshow": {
     "slide_type": "skip"
    },
    "tags": [
     "notes-only"
    ]
   },
   "source": [
    "    0b11000000"
   ]
  },
  {
   "cell_type": "markdown",
   "id": "b17ea3fb-8240-4642-b1d4-a33a63f73ffc",
   "metadata": {
    "slideshow": {
     "slide_type": "skip"
    },
    "tags": [
     "worksheet-only"
    ]
   },
   "source": [
    "<p style=\"height:4em;\"></p>\n",
    "\n",
    "🛑 **STOP here** after completing the above questions; if you have extra time please **skip ahead** to the extra practice."
   ]
  },
  {
   "cell_type": "markdown",
   "id": "688c3894-9773-4dcf-94df-2cc8483553be",
   "metadata": {
    "slideshow": {
     "slide_type": "slide"
    },
    "tags": []
   },
   "source": [
    "## Signed integers"
   ]
  },
  {
   "cell_type": "markdown",
   "id": "5112c3aa-c57c-47b1-86a0-0cc757b0a8a5",
   "metadata": {
    "slideshow": {
     "slide_type": "skip"
    },
    "tags": [
     "notes-only"
    ]
   },
   "source": [
    "* _How can we distinguish between positive values, zero, and negative values?_\n",
    "* Use a bit to encode the sign — called signed magnitude\n",
    "    * _What is an advantage of signed magnitude?_\n",
    "        * Easy to convert between negative and positive values\n",
    "    * _What is a disadvantage of signed magnitude?_\n",
    "        * Positive zero and negative zero\n",
    "        * Discontinuity between positive and negative values\n",
    "* Have the highest order bit contribute a negative value to the sum — called two's complement\n",
    "    * Example unsigned conversion: `0b0101`\n",
    "        * 0 * 2^3 + 1 * 2^2 + 0 * 2^1 + 1 * 2^0 = 4 + 1 = 5\n",
    "    * Example signed conversion: `0b0101`\n",
    "        * 0 * -2^3 + 1 * 2^2 + 0 * 2^1 + 1 * 2^0 = 4 + 1 = 5\n",
    "    * Another example signed conversion: `0b1011`\n",
    "        * 1 * -2^3 + 0 * 2^2 + 1 * 2^1 + 1 * 2^0 = -8 + 2 + 3 = -5\n",
    "    * _How many values can be represented using 4 bits?_ — 2^4 = 16\n",
    "        * One of these values is zero (`0b0000`)\n",
    "        * _How many positive values an be represented using 4 bits?_ 2^4 / 2 - 1 = 7\n",
    "        * _How many negative values can be represented using 4 bits?_ 2^4 / 2 = 8"
   ]
  },
  {
   "cell_type": "markdown",
   "id": "3f6eb1b3-bb59-4eff-b0c9-b9bddd47c088",
   "metadata": {
    "tags": []
   },
   "source": [
    "_Express the following decimal numbers using 8-bit two's complement:_\n",
    "* Q16: `13`"
   ]
  },
  {
   "cell_type": "markdown",
   "id": "5ffad999-2402-4bbe-a8aa-b10294572440",
   "metadata": {
    "slideshow": {
     "slide_type": "skip"
    },
    "tags": [
     "notes-only"
    ]
   },
   "source": [
    "    0b00001101"
   ]
  },
  {
   "cell_type": "markdown",
   "id": "26cb07e5-5082-4816-96ba-7a16422b0685",
   "metadata": {
    "slideshow": {
     "slide_type": "skip"
    },
    "tags": [
     "worksheet-only"
    ]
   },
   "source": [
    "<p style=\"height:4em;\"></p>"
   ]
  },
  {
   "cell_type": "markdown",
   "id": "b70078ee-0a3d-420f-8171-6f1246e8f032",
   "metadata": {
    "tags": []
   },
   "source": [
    "* Q17: `-128`"
   ]
  },
  {
   "cell_type": "markdown",
   "id": "25c8142a-f0bc-451d-8db4-cfde47b4fd26",
   "metadata": {
    "slideshow": {
     "slide_type": "skip"
    },
    "tags": [
     "notes-only"
    ]
   },
   "source": [
    "    0b10000000"
   ]
  },
  {
   "cell_type": "markdown",
   "id": "745ce048-6143-470a-817a-f9a510efaf90",
   "metadata": {
    "slideshow": {
     "slide_type": "skip"
    },
    "tags": [
     "worksheet-only"
    ]
   },
   "source": [
    "<p style=\"height:4em;\"></p>"
   ]
  },
  {
   "cell_type": "markdown",
   "id": "1605226a-5f03-4879-914d-d9d53354826c",
   "metadata": {
    "tags": []
   },
   "source": [
    "* Q18: `-64`"
   ]
  },
  {
   "cell_type": "markdown",
   "id": "cf096a06-0c4f-448d-8a4b-eaf54f5ec0e0",
   "metadata": {
    "slideshow": {
     "slide_type": "skip"
    },
    "tags": [
     "notes-only"
    ]
   },
   "source": [
    "    0b11000000"
   ]
  },
  {
   "cell_type": "markdown",
   "id": "26503afb-ff08-4f68-b127-82bb35d2f1bd",
   "metadata": {
    "slideshow": {
     "slide_type": "skip"
    },
    "tags": [
     "worksheet-only"
    ]
   },
   "source": [
    "<p style=\"height:4em;\"></p>"
   ]
  },
  {
   "cell_type": "markdown",
   "id": "8d37e5ee-715e-4857-9950-9af95760790d",
   "metadata": {
    "tags": []
   },
   "source": [
    "* Q19: `-1`"
   ]
  },
  {
   "cell_type": "markdown",
   "id": "1199b890-f24b-4db5-88bd-6bdd74aacd0f",
   "metadata": {
    "slideshow": {
     "slide_type": "skip"
    },
    "tags": [
     "notes-only"
    ]
   },
   "source": [
    "    0b11111111"
   ]
  },
  {
   "cell_type": "markdown",
   "id": "7d28a1ae-ea9f-41e9-9e30-9bff2c9e1e5b",
   "metadata": {
    "slideshow": {
     "slide_type": "skip"
    },
    "tags": [
     "worksheet-only"
    ]
   },
   "source": [
    "<p style=\"height:4em;\"></p>"
   ]
  },
  {
   "cell_type": "markdown",
   "id": "faf1933a-05c1-416b-8a4d-38f4c24c9ba1",
   "metadata": {
    "slideshow": {
     "slide_type": "slide"
    },
    "tags": []
   },
   "source": [
    "## Extra practice\n",
    "* Q20: _Write a function called `check_password` that takes a string and returns 1 if a password is at least 8 characters long and contains at least one uppercase letter, at least one lowercase letter, and at least one digit. Otherwise, the function returns 0. You may want to use the functions `isupper`, `islower`, and `isdigit`. They take a character as a parameter and return 1 if the character is an uppercase letter, lowercase letter, or digit, respectively; otherwise, they return 0._"
   ]
  },
  {
   "cell_type": "code",
   "execution_count": 4,
   "id": "aa634f78-584d-4024-97c3-201531febbf6",
   "metadata": {
    "slideshow": {
     "slide_type": "skip"
    },
    "tags": [
     "notes-only"
    ]
   },
   "outputs": [],
   "source": [
    "#include <string.h>\n",
    "#include <ctype.h>\n",
    "int check_password(char passwd[]) {\n",
    "    if (strlen(passwd) < 8) {\n",
    "        return 0;\n",
    "    }\n",
    "    int lower = 0;\n",
    "    int upper = 0;\n",
    "    int digit = 0;\n",
    "    for (int i = 0; i < strlen(passwd); i++) {\n",
    "        if (islower(passwd[i])) {\n",
    "            lower++;\n",
    "        }\n",
    "        else if (isupper(passwd[i])) {\n",
    "            upper++;\n",
    "        }\n",
    "        else if (isdigit(passwd[i])) {\n",
    "            digit++;\n",
    "        }\n",
    "    }\n",
    "    if (lower == 0 || upper == 0 || digit == 0) {\n",
    "        return 0;\n",
    "    }\n",
    "    return 1;\n",
    "}\n",
    "// Testing\n",
    "#include <assert.h>\n",
    "int main() {\n",
    "    assert(1 == check_password(\"abc123DEF\"));\n",
    "    assert(0 == check_password(\"abc123def\"));\n",
    "}"
   ]
  },
  {
   "cell_type": "markdown",
   "id": "5c7f6acd-eca8-42b8-9284-b81a779a9baa",
   "metadata": {
    "slideshow": {
     "slide_type": "skip"
    },
    "tags": [
     "worksheet-only"
    ]
   },
   "source": [
    "<p style=\"page-break-after:always;\"></p>"
   ]
  },
  {
   "cell_type": "markdown",
   "id": "1ca2116b-2e61-48e1-bef3-4c06963b7987",
   "metadata": {
    "slideshow": {
     "slide_type": "subslide"
    },
    "tags": []
   },
   "source": [
    "_Convert the following binary numbers to hexadecimal:_\n",
    "* Q21: `0b11001100`"
   ]
  },
  {
   "cell_type": "markdown",
   "id": "043080bf-c9fb-472f-b2dc-d60afcf3f3ca",
   "metadata": {
    "slideshow": {
     "slide_type": "skip"
    },
    "tags": [
     "notes-only"
    ]
   },
   "source": [
    "    0xCC"
   ]
  },
  {
   "cell_type": "markdown",
   "id": "b7e920f9-8062-412b-b7d2-a18019993d51",
   "metadata": {
    "slideshow": {
     "slide_type": "skip"
    },
    "tags": [
     "worksheet-only"
    ]
   },
   "source": [
    "<p style=\"height:4em;\"></p>"
   ]
  },
  {
   "cell_type": "markdown",
   "id": "19ba7ec6-c874-4bfe-8fdd-f506a7471050",
   "metadata": {
    "tags": []
   },
   "source": [
    "* Q22: `0b101111111111`"
   ]
  },
  {
   "cell_type": "markdown",
   "id": "ee2fb858-3294-40d0-9038-3f751bd61536",
   "metadata": {
    "slideshow": {
     "slide_type": "skip"
    },
    "tags": [
     "notes-only"
    ]
   },
   "source": [
    "    0xBFF"
   ]
  },
  {
   "cell_type": "markdown",
   "id": "616bb657-f7f3-4b74-a435-3c7d48b05054",
   "metadata": {
    "slideshow": {
     "slide_type": "skip"
    },
    "tags": [
     "worksheet-only"
    ]
   },
   "source": [
    "<p style=\"height:4em;\"></p>"
   ]
  },
  {
   "cell_type": "markdown",
   "id": "541398e7-87a0-400c-95e6-127d1bfa7732",
   "metadata": {
    "tags": []
   },
   "source": [
    "_Convert the following hexadecimal numbers to binary:_\n",
    "* Q23: `0x8`"
   ]
  },
  {
   "cell_type": "markdown",
   "id": "bb8969e0-e670-45c0-b0e3-9752f05a6679",
   "metadata": {
    "slideshow": {
     "slide_type": "skip"
    },
    "tags": [
     "notes-only"
    ]
   },
   "source": [
    "    0b1000"
   ]
  },
  {
   "cell_type": "markdown",
   "id": "de8f1ca5-b14c-4581-99ca-f5d94f179dba",
   "metadata": {
    "slideshow": {
     "slide_type": "skip"
    },
    "tags": [
     "worksheet-only"
    ]
   },
   "source": [
    "<p style=\"height:4em;\"></p>"
   ]
  },
  {
   "cell_type": "markdown",
   "id": "52e42314-0945-4e30-9454-7f880113fd03",
   "metadata": {
    "tags": []
   },
   "source": [
    "* Q24: `0xBEE`"
   ]
  },
  {
   "cell_type": "markdown",
   "id": "fe23831b-3c29-4ed4-80d0-c6f0ae4e9549",
   "metadata": {
    "slideshow": {
     "slide_type": "skip"
    },
    "tags": [
     "notes-only"
    ]
   },
   "source": [
    "    0b101111101110"
   ]
  },
  {
   "cell_type": "markdown",
   "id": "a22b6b50-36b1-442a-abde-6bbdb71b9bd2",
   "metadata": {
    "slideshow": {
     "slide_type": "skip"
    },
    "tags": [
     "worksheet-only"
    ]
   },
   "source": [
    "<p style=\"height:4em;\"></p>"
   ]
  }
 ],
 "metadata": {
  "kernelspec": {
   "display_name": "C",
   "language": "c",
   "name": "c"
  },
  "language_info": {
   "file_extension": ".c",
   "mimetype": "c",
   "name": "c"
  }
 },
 "nbformat": 4,
 "nbformat_minor": 5
}
