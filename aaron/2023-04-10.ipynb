{
 "cells": [
  {
   "cell_type": "markdown",
   "id": "d4c0cf7a-6741-41de-924b-477e6ac8b4e3",
   "metadata": {
    "slideshow": {
     "slide_type": "skip"
    },
    "tags": []
   },
   "source": [
    "# Efficiency: caching (continued); loop optimization\n",
    "_COSC 208, Introduction to Computer Systems, 2023-04-10_"
   ]
  },
  {
   "cell_type": "markdown",
   "id": "ed5ad917-28d5-4478-b50b-72e280029552",
   "metadata": {
    "slideshow": {
     "slide_type": "skip"
    },
    "tags": []
   },
   "source": [
    "## Announcements\n",
    "* DEI assignment 3 due Thursday @ 11pm\n",
    "* Project 4 due Thursday, April 20"
   ]
  },
  {
   "cell_type": "markdown",
   "id": "da1fb4b2-e9fe-4d36-a409-388d2f498f71",
   "metadata": {
    "slideshow": {
     "slide_type": "skip"
    },
    "tags": [
     "notes-only"
    ]
   },
   "source": [
    "## Outline\n",
    "* Warm-up\n",
    "* Other instances of caching\n",
    "* Cache replacement\n",
    "* Optimizing loops for locality"
   ]
  },
  {
   "cell_type": "markdown",
   "id": "98d9a0d4-d0f9-405a-8eea-5e10559587d0",
   "metadata": {},
   "source": [
    "## Warm-up"
   ]
  },
  {
   "cell_type": "markdown",
   "id": "044ee85d-73e5-44da-8760-75e2bf8a24f8",
   "metadata": {},
   "source": [
    "Q1: _For each of the following scenarios, indicate whether it is an example of temporal locality, spatial locality, or neither._"
   ]
  },
  {
   "cell_type": "markdown",
   "id": "c2f56688-cc75-4db7-9de9-762814591962",
   "metadata": {
    "slideshow": {
     "slide_type": "skip"
    },
    "tags": [
     "notes-only"
    ]
   },
   "source": [
    "* Gates for flights on the same airline are located in the same airport terminal/concourse – spatial locality\n",
    "* A grocery list is arranged in alphabetical order – neither\n",
    "* Clothes in a closet are grouped into outfits, with a shirt and a pair of pants stored next to each other – spatial locality\n",
    "* Boxes of cereal, bowls, and spoons are stored in adjacent kitchen cabinets/drawers – spatial locality\n",
    "* You repeatedly check your phone for new messages – temporal locality\n",
    "* A variable used in a for loop – temporal locality\n",
    "* Variables used in different functions – neither\n",
    "* A function's parameters, which are each used once within the function – spatial locality"
   ]
  },
  {
   "cell_type": "markdown",
   "id": "5259672b-be4d-441e-bf9d-37083033d5a8",
   "metadata": {
    "tags": [
     "worksheet-only"
    ]
   },
   "source": [
    "* Gates for flights on the same airline are located in the same airport terminal/concourse\n",
    "* A grocery list is arranged in alphabetical order\n",
    "* Clothes in a closet are grouped into outfits, with a shirt and a pair of pants stored next to each other\n",
    "* Boxes of cereal, bowls, and spoons are stored in adjacent kitchen cabinets/drawers\n",
    "* You repeatedly check your phone for new messages\n",
    "* A variable used in a for loop\n",
    "* Variables used in different functions\n",
    "* A function's parameters, which are each used once within the function"
   ]
  },
  {
   "cell_type": "markdown",
   "id": "a906bfe9-133e-45e0-8254-1a6b12fe1516",
   "metadata": {
    "slideshow": {
     "slide_type": "skip"
    },
    "tags": [
     "worksheet-only"
    ]
   },
   "source": [
    "🛑 **STOP here** after completing the above question; if you have extra time take a few deep breaths to reduce stress."
   ]
  },
  {
   "cell_type": "markdown",
   "id": "055ab108-994c-405d-b84a-807e49d6b872",
   "metadata": {
    "slideshow": {
     "slide_type": "skip"
    },
    "tags": [
     "notes-only"
    ]
   },
   "source": [
    "## Other instances of caching"
   ]
  },
  {
   "cell_type": "markdown",
   "id": "a4aba740-7205-4814-85b5-4f0bdc852d5f",
   "metadata": {
    "slideshow": {
     "slide_type": "skip"
    },
    "tags": [
     "notes-only"
    ]
   },
   "source": [
    "* _Where are caches used in computer systems besides the CPU?_\n",
    "    * Operating systems\n",
    "    * Web browsers\n",
    "    * Web servers\n",
    "    * Domain Name System (DNS)\n",
    "    * Databases\n",
    "    * Hard Disk Drives (HDDs)\n",
    "    * Solid State Drives (SSDs)"
   ]
  },
  {
   "cell_type": "markdown",
   "id": "84a8e039-f872-4d4a-94f0-9c847f3742b9",
   "metadata": {
    "slideshow": {
     "slide_type": "skip"
    },
    "tags": [
     "notes-only"
    ]
   },
   "source": [
    "* Web browser caches\n",
    "    * _Why do web browsers have caches?_\n",
    "        * Accessing remote network storage is >50x slower than accessing a solid state drive (SSD)\n",
    "        * Spatial locality — many aspects of a web page are also used with other pages on the same site: e.g., images, Cascading Style Sheets (CSS), JavaScript (JS)\n",
    "        * Temporal locality — users often visit the same web page repeatedly: e.g., Google\n",
    "        * Internet Service Provider (ISP) may limit amount of data downloaded/uploaded per month\n",
    "    * Store static content (e.g., images, CSS, JS)\n",
    "    * Web browser caches are read-only\n",
    "* Content distribution networks (CDNs)\n",
    "    * Collection of geographically distributed servers that delivery content (e.g., streaming videos) to users\n",
    "    * User's computers contact a server that is \"nearby\"\n",
    "        * Ideally measured in terms of latency, which is a function of geographic distance, network routes, and network load\n",
    "        * Analogy: time it takes to drive somewhere is a function of geographic distance, the route you take, and the amount of traffic on the road\n",
    "    * CDN servers fetch and cache content from origin servers\n",
    "    * Popular content (e.g., image from the front page of the NY Times) is more likely to already be cached\n",
    "* Domain Name System (DNS)\n",
    "    * Web browser, operating system, and/or DNS server cache mappings from domain names (e.g., `portal.colgate.edu`) to Internet Protocol (IP) addresses (e.g., `149.43.134.29`)"
   ]
  },
  {
   "cell_type": "markdown",
   "id": "afcddff5-ecba-4a2c-8235-14d74e7f55ce",
   "metadata": {
    "slideshow": {
     "slide_type": "slide"
    },
    "tags": []
   },
   "source": [
    "## Cache replacement"
   ]
  },
  {
   "cell_type": "markdown",
   "id": "dc549feb-bf5b-43f5-8fb0-76c93be58c97",
   "metadata": {
    "slideshow": {
     "slide_type": "skip"
    },
    "tags": [
     "notes-only"
    ]
   },
   "source": [
    "* If a cache is full, then a cache entry must be removed so different data can be placed in the cache\n",
    "* Cache replacement policy governs which data is removed\n",
    "* _What should a good cache replacement policy do?_ — maximize the number of cache hits (or minimize the number of cache misses)\n",
    "    * Evaluation metric: Hit ratio = number of hits / total number of memory accesses\n",
    "* _How do we determine which cache entry to replace?_\n",
    "* Optimal replacement policy – replace the entry that will be accessed furthest in the future\n",
    "    * Impractical because we don’t know data access patterns a priori\n",
    "* Least Recently Used (LRU)\n",
    "    * LRU assumes a item that was accessed recently will be accessed again soon – temporal locality\n",
    "    * Downside: lots of overhead to implement — need to store an ordered list of items and move an item up in the list whenever it’s accessed\n",
    "    * Where does this go wrong? — when working-set size (i.e., number of repeatedly accessed entries) is (slightly) greater than size of the cache\n",
    "* First-in First-out (FIFO)\n",
    "    * Simple to implement\n",
    "    * Doesn’t consider the importance of a cache entry\n",
    "* Random\n",
    "    * Even simpler to implement\n",
    "    * Doesn’t consider the importance of a cache entry"
   ]
  },
  {
   "cell_type": "markdown",
   "id": "52247547-844e-4b3d-a8a3-fadb695c2b84",
   "metadata": {},
   "source": [
    "* Assume a cache can hold 3 entries and the following 15 data accesses occur: \n",
    "```\n",
    "3, 4, 4, 5, 3, 2, 3, 4, 1, 4, 4, 2, 5, 2, 4\n",
    "```\n",
    "* Q2: _What is the sequence of hits, insertions, and replacements that occur when an **optimal** cache replacement algorithm is used?_"
   ]
  },
  {
   "cell_type": "markdown",
   "id": "a3e23874-b08b-4077-9766-bb23cd0aa6ee",
   "metadata": {
    "slideshow": {
     "slide_type": "skip"
    },
    "tags": [
     "notes-only"
    ]
   },
   "source": [
    "```\n",
    "+3, +4, H4, +5, H3, -5/+2, H3, H4, -3/+1, H4, H4, H2, -1/+5, H2, H4\n",
    "Hit ratio = 9/15 = 60%\n",
    "```"
   ]
  },
  {
   "cell_type": "markdown",
   "id": "fdb9e8d3-2dc5-4ee1-a315-df301dc0c2d4",
   "metadata": {
    "slideshow": {
     "slide_type": "skip"
    },
    "tags": [
     "worksheet-only"
    ]
   },
   "source": [
    "<p style=\"height:8em;\"></p>"
   ]
  },
  {
   "cell_type": "markdown",
   "id": "526b185a-12d7-48c5-a3ee-3b71a913d3a8",
   "metadata": {
    "slideshow": {
     "slide_type": "fragment"
    },
    "tags": []
   },
   "source": [
    "* Q3: _What is the sequence of hits, insertions, and replacements that occur when a **first in first out (FIFO)** cache replacement algorithm is used?_"
   ]
  },
  {
   "cell_type": "markdown",
   "id": "9910b7f4-6ce1-4906-b39e-fae2657ffa95",
   "metadata": {
    "slideshow": {
     "slide_type": "skip"
    },
    "tags": [
     "notes-only"
    ]
   },
   "source": [
    "```\n",
    "+3, +4, H4, +5, H3, -3/+2, -4/+3, -5/+4, -2/+1, H4, H4, -3/+2, -4/+5, H2, -1/+4\n",
    "Hit ratio = 5/15 = 33%\n",
    "```"
   ]
  },
  {
   "cell_type": "markdown",
   "id": "d3eee7f4-02bb-4bae-a459-0bc73d54ae95",
   "metadata": {
    "slideshow": {
     "slide_type": "skip"
    },
    "tags": [
     "worksheet-only"
    ]
   },
   "source": [
    "<p style=\"height:8em;\"></p>"
   ]
  },
  {
   "cell_type": "markdown",
   "id": "37390556-86f5-4951-940b-9ba34a255390",
   "metadata": {},
   "source": [
    "* Q4: _What is the sequence of hits, insertions, and replacements that occur when a **least recently used (LRU)** cache replacement algorithm is used?_"
   ]
  },
  {
   "cell_type": "markdown",
   "id": "62681ac0-982e-4bd3-9470-b4d1112001fc",
   "metadata": {
    "slideshow": {
     "slide_type": "skip"
    },
    "tags": [
     "notes-only"
    ]
   },
   "source": [
    "```\n",
    "+3, +4, H4, +5, H3, -4/+2, H3, -5/+4, -2/+1, H4, H4, -3/+2, -1/+5, H2, H4\n",
    "Hit ratio = 7/15 = 47%\n",
    "```"
   ]
  },
  {
   "cell_type": "markdown",
   "id": "40f4585b-a482-4e1a-85fc-0afbd9715a65",
   "metadata": {
    "slideshow": {
     "slide_type": "skip"
    },
    "tags": [
     "worksheet-only"
    ]
   },
   "source": [
    "<p style=\"height:8em;\"></p>\n",
    "\n",
    "🛑 **STOP here** after completing the above question; if you have extra time please **skip ahead** to the extra practice.\n",
    "\n",
    "<div style=\"page-break-after:always;\"></div>"
   ]
  },
  {
   "cell_type": "markdown",
   "id": "59a9b3a8-be20-4679-aa51-e8e29d36add8",
   "metadata": {
    "slideshow": {
     "slide_type": "slide"
    },
    "tags": []
   },
   "source": [
    "## Optimizing loops for locality"
   ]
  },
  {
   "cell_type": "markdown",
   "id": "81dfd16e-2fa2-413a-b378-ed10b82984cd",
   "metadata": {
    "slideshow": {
     "slide_type": "skip"
    },
    "tags": [
     "notes-only"
    ]
   },
   "source": [
    "* Techniques\n",
    "    * Loop interchange — with nested loops, swap inner and outer loop\n",
    "    * Loop fussion — combine two loops at the same level into a single loop\n",
    "    * Loop fission — split a single loop into two loops at the same level"
   ]
  },
  {
   "cell_type": "markdown",
   "id": "b8ed1be1-70d7-42fa-bcc6-06cff0bc0ce9",
   "metadata": {},
   "source": [
    "* Q5: _Modify the following function to improve spatial locality_"
   ]
  },
  {
   "cell_type": "code",
   "execution_count": null,
   "id": "7d51d0b9-8295-4b7a-84bd-2bd04bad9697",
   "metadata": {
    "tags": [
     "worksheet-only"
    ]
   },
   "outputs": [],
   "source": [
    "void hundreds() {\n",
    "    int *nums = malloc(sizeof(int) * 1000);\n",
    "    for (int i = 0; i < 100; i++) {\n",
    "        for (int j = 0; j < 1000; j+= 100) {\n",
    "            nums[i+j] = i;\n",
    "        }\n",
    "    }\n",
    "}"
   ]
  },
  {
   "cell_type": "code",
   "execution_count": null,
   "id": "425e7890-e8e2-48a4-9a3b-d979915f88c4",
   "metadata": {
    "slideshow": {
     "slide_type": "skip"
    },
    "tags": [
     "notes-only"
    ]
   },
   "outputs": [],
   "source": [
    "// Perform loop interchange\n",
    "void hundreds_optimized() {\n",
    "    int *nums = malloc(sizeof(int) * 1000);\n",
    "    for (int j = 0; j < 1000; j+= 100) {\n",
    "        for (int i = 0; i < 100; i++) {\n",
    "            nums[i+j] = i;\n",
    "        }\n",
    "    }\n",
    "}"
   ]
  },
  {
   "cell_type": "markdown",
   "id": "fbebad94-eaf4-4943-ba1a-129c82c4050f",
   "metadata": {
    "slideshow": {
     "slide_type": "skip"
    },
    "tags": [
     "worksheet-only"
    ]
   },
   "source": [
    "<p style=\"height:9em;\"></p>"
   ]
  },
  {
   "cell_type": "markdown",
   "id": "a4bcdd2a-d696-4045-b205-2c7703d900df",
   "metadata": {
    "slideshow": {
     "slide_type": "subslide"
    },
    "tags": []
   },
   "source": [
    "* Q6: _Modify the following function to improve temporal locality_"
   ]
  },
  {
   "cell_type": "code",
   "execution_count": null,
   "id": "59290ce0-9ebd-4982-a8e9-4cd2fa8b169f",
   "metadata": {},
   "outputs": [],
   "source": [
    "int odds(int *nums, int length) {\n",
    "    for (int i = 0; i < length; i++) {\n",
    "        nums[i] = nums[i] % 2;\n",
    "    }\n",
    "    int count = 0;\n",
    "    for (int j = 0; j < length; j++) {\n",
    "        count += nums[j];\n",
    "    }\n",
    "    return count;\n",
    "}"
   ]
  },
  {
   "cell_type": "code",
   "execution_count": null,
   "id": "85bf24d4-d3fe-422c-b411-6e9fc466f59b",
   "metadata": {
    "slideshow": {
     "slide_type": "skip"
    },
    "tags": [
     "notes-only"
    ]
   },
   "outputs": [],
   "source": [
    "// Perform loop fusion\n",
    "int odds_optimized(int *nums, int length) {\n",
    "    int count = =0;\n",
    "    for (int i = 0; i < length; i++) {\n",
    "        nums[i] = nums[i] % 2;\n",
    "        count += nums[i];\n",
    "    }\n",
    "    return count;\n",
    "}"
   ]
  },
  {
   "cell_type": "markdown",
   "id": "a277dc2a-2909-42b1-ab19-8b4a4ed2d522",
   "metadata": {
    "slideshow": {
     "slide_type": "skip"
    },
    "tags": [
     "worksheet-only"
    ]
   },
   "source": [
    "<p style=\"height:10em;\"></p>"
   ]
  },
  {
   "cell_type": "markdown",
   "id": "a82cac33-a4dd-4c39-bfe1-03034d48ca21",
   "metadata": {
    "slideshow": {
     "slide_type": "subslide"
    },
    "tags": []
   },
   "source": [
    "* Q7: _Modify the following function to improve spatial locality_"
   ]
  },
  {
   "cell_type": "code",
   "execution_count": null,
   "id": "f3638e65-4dad-4520-a7fb-f286fd818863",
   "metadata": {},
   "outputs": [],
   "source": [
    "void multiplication(int grid[][], int rows, int cols) {\n",
    "    for (int c = 0; c < cols; c++) {\n",
    "        for (int r = 0; r < rows; r++) {\n",
    "            grid[r][c] = c * r;\n",
    "        }\n",
    "    }\n",
    "}"
   ]
  },
  {
   "cell_type": "code",
   "execution_count": null,
   "id": "94cc32f4-a190-497d-aea4-a527c4782ff0",
   "metadata": {
    "slideshow": {
     "slide_type": "skip"
    },
    "tags": [
     "notes-only"
    ]
   },
   "outputs": [],
   "source": [
    "// Perform loop interchange\n",
    "void multiplication_optimized(int grid[][], int rows, int cols) {\n",
    "    for (int r = 0; r < rows; r++) {\n",
    "        for (int c = 0; c < cols; c++) {\n",
    "            grid[r][c] = c * r;\n",
    "        }\n",
    "    }\n",
    "}"
   ]
  },
  {
   "cell_type": "markdown",
   "id": "47d90656-f223-4e8f-84e6-e03994c63cf7",
   "metadata": {
    "slideshow": {
     "slide_type": "skip"
    },
    "tags": [
     "worksheet-only"
    ]
   },
   "source": [
    "<p style=\"height:8em;\"></p>"
   ]
  },
  {
   "cell_type": "markdown",
   "id": "398f958c-ad74-4945-aff3-4d5a9b9b0271",
   "metadata": {
    "slideshow": {
     "slide_type": "subslide"
    },
    "tags": []
   },
   "source": [
    "* Q8: _Modify the following function to improve temporal locality_"
   ]
  },
  {
   "cell_type": "code",
   "execution_count": null,
   "id": "2140441e-6e68-445f-a6b6-b63f71fdcb76",
   "metadata": {},
   "outputs": [],
   "source": [
    "long stdev(int *nums, int length) {\n",
    "    long sum = 0;\n",
    "    for (int i = 0; i < length; i++) {\n",
    "        sum += nums[i];\n",
    "    }\n",
    "    int mean = sum / length;\n",
    "    sum = 0;\n",
    "    for (int j = 0; j < length; j++) {\n",
    "        int diff = nums[j] - mean;\n",
    "        sum += diff * diff:\n",
    "    }\n",
    "    mean = sum / length;\n",
    "    return sqrt(mean);\n",
    "}"
   ]
  },
  {
   "cell_type": "markdown",
   "id": "c6f8699a-5420-4063-aeb5-f2d94c06a50c",
   "metadata": {
    "slideshow": {
     "slide_type": "skip"
    },
    "tags": [
     "notes-only"
    ]
   },
   "source": [
    "    It's not possible to optimize this code more—there are no loops to interchange; there are no loops to fission; the loops cannot be fused."
   ]
  },
  {
   "cell_type": "markdown",
   "id": "a49e95d2-c5ac-44d9-865c-6c27265dcbca",
   "metadata": {
    "slideshow": {
     "slide_type": "skip"
    },
    "tags": [
     "worksheet-only"
    ]
   },
   "source": [
    "<p style=\"height:10em;\"></p>"
   ]
  },
  {
   "cell_type": "markdown",
   "id": "5f4485d6-763b-4309-a703-58522e2d0a83",
   "metadata": {
    "slideshow": {
     "slide_type": "slide"
    },
    "tags": []
   },
   "source": [
    "## Extra practice"
   ]
  },
  {
   "cell_type": "markdown",
   "id": "0a4db7c7-00cb-4b37-a471-ecd354136714",
   "metadata": {},
   "source": [
    "Q9: _For each of the following instances of caching, indicate whether the caching is motivated by temporal or spatial locality._"
   ]
  },
  {
   "cell_type": "markdown",
   "id": "d7b708ec-fd84-422c-bd2a-ff6dbe1fc41e",
   "metadata": {
    "slideshow": {
     "slide_type": "skip"
    },
    "tags": [
     "notes-only"
    ]
   },
   "source": [
    "* A CPU caches the first 32 instructions of a function when the function is called – spatial\n",
    "* A CPU caches all of the instructions for a frequently called function – temporal\n",
    "* A web browser caches the Moodle pages for your courses, which you view multiple times per week – temporal\n",
    "* A content distribution network (CDN) caches a video that has gone viral – temporal\n",
    "* A content distribution network (CDN) caches \"recommended videos\" related to a video – spatial"
   ]
  },
  {
   "cell_type": "markdown",
   "id": "b51db39d-d7fc-49db-bcec-ec26c63a28f0",
   "metadata": {
    "tags": [
     "worksheet-only"
    ]
   },
   "source": [
    "* A CPU caches the first 32 instructions of a function when the function is called\n",
    "* A CPU caches all of the instructions for a frequently called function\n",
    "* A web browser caches the Moodle pages for your courses, which you view multiple times per week\n",
    "* A content distribution network (CDN) caches a video that has gone viral\n",
    "* A content distribution network (CDN) caches \"recommended videos\" related to a video"
   ]
  }
 ],
 "metadata": {
  "kernelspec": {
   "display_name": "C",
   "language": "c",
   "name": "c"
  },
  "language_info": {
   "file_extension": ".c",
   "mimetype": "c",
   "name": "c"
  }
 },
 "nbformat": 4,
 "nbformat_minor": 5
}
