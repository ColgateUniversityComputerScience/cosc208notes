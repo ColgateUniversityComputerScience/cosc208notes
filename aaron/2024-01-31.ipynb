{
 "cells": [
  {
   "cell_type": "markdown",
   "id": "25560706-53b0-48d3-afe9-9b37e8503dbf",
   "metadata": {
    "slideshow": {
     "slide_type": "skip"
    },
    "tags": []
   },
   "source": [
    "# Number representation: number bases\n",
    "_COSC 208, Introduction to Computer Systems, 2024-01-31_"
   ]
  },
  {
   "cell_type": "markdown",
   "id": "513f3f0d-2a29-44f1-950b-cd98a904f6a6",
   "metadata": {
    "slideshow": {
     "slide_type": "skip"
    },
    "tags": []
   },
   "source": [
    "## Outline\n",
    "* Warm-up\n",
    "* Input\n",
    "* Binary\n",
    "* Hexadecimal"
   ]
  },
  {
   "cell_type": "markdown",
   "id": "7c9983fa-504e-4874-b171-3f6562266879",
   "metadata": {
    "slideshow": {
     "slide_type": "slide"
    },
    "tags": []
   },
   "source": [
    "## Warm-up (Q6 from last class)"
   ]
  },
  {
   "cell_type": "markdown",
   "id": "29b1ae67-8592-41fa-a577-a22ce201ec99",
   "metadata": {
    "tags": []
   },
   "source": [
    "* Q1: _What is the output of this program?_"
   ]
  },
  {
   "cell_type": "code",
   "execution_count": 10,
   "id": "ecd577fd-a2ea-4ab2-913d-7ec9826312da",
   "metadata": {
    "tags": [
     "worksheet-code-only"
    ]
   },
   "outputs": [
    {
     "name": "stdout",
     "output_type": "stream",
     "text": [
      "7\n",
      "4\n",
      "Colgate-wUni.\n",
      "Col./Uni.\n"
     ]
    }
   ],
   "source": [
    "#include <stdio.h>\n",
    "int main() {\n",
    "    char first[] = \"Colgate\";\n",
    "    char second[10] = \"Univ\";\n",
    "    printf(\"%d\\n\", strlen(first));\n",
    "    printf(\"%d\\n\", strlen(second));\n",
    "    first[strlen(first)] = '-';\n",
    "    second[strlen(second)-1] = '.';\n",
    "    printf(\"%s%s\\n\", first, second);\n",
    "    first[3] = '.';\n",
    "    first[4] = '\\0';\n",
    "    printf(\"%s/%s\\n\", first, second);\n",
    "}"
   ]
  },
  {
   "cell_type": "markdown",
   "id": "ecca111c-c189-4a72-ae57-366a6593ba60",
   "metadata": {
    "slideshow": {
     "slide_type": "skip"
    },
    "tags": [
     "worksheet-only"
    ]
   },
   "source": [
    "<div style=\"height:8em;\"></div>\n",
    "\n",
    "🛑 **STOP here** after completing the above question; if you have extra time please **skip ahead** to the extra practice."
   ]
  },
  {
   "cell_type": "markdown",
   "id": "4f54e16f-629c-4ce2-b862-b6a00c41cca5",
   "metadata": {
    "slideshow": {
     "slide_type": "slide"
    },
    "tags": []
   },
   "source": [
    "## Input"
   ]
  },
  {
   "cell_type": "markdown",
   "id": "5aa6deda-5ed0-4cad-b194-c7a4f08249e8",
   "metadata": {
    "slideshow": {
     "slide_type": "skip"
    },
    "tags": [
     "notes-only"
    ]
   },
   "source": [
    "* Use `fgets` to read in a line of input as a string\n",
    "    ```C\n",
    "    char str[10];\n",
    "    fgets(str, 10, stdin);\n",
    "    ```\n",
    "    * `stdin` means _standard input_\n",
    "* If you enter a number, the input is still a string–i.e., an array of digit characters–not an `int`\n",
    "    * Use `atoi` to convert a string of digit characters to an integer"
   ]
  },
  {
   "cell_type": "markdown",
   "id": "25ca74ba-6cbb-4a4d-9dee-de6020604b70",
   "metadata": {
    "tags": []
   },
   "source": [
    "* Q2: _Write a program that asks the user for a string and prints the string backwards._"
   ]
  },
  {
   "cell_type": "code",
   "execution_count": null,
   "id": "895f62bc-5ea0-49af-93d3-ec23551ed3b5",
   "metadata": {
    "slideshow": {
     "slide_type": "skip"
    },
    "tags": [
     "notes-only"
    ]
   },
   "outputs": [],
   "source": [
    "#include <stdio.h>\n",
    "#include <string.h>\n",
    "int main() {\n",
    "    char str[100];\n",
    "    printf(\"String? \");\n",
    "    fgets(str, 100, stdin);\n",
    "    for (int i = strlen(str); i >= 0; i--) {\n",
    "        printf(\"%c\", str[i]);\n",
    "    }\n",
    "    printf(\"\\n\");\n",
    "}"
   ]
  },
  {
   "cell_type": "markdown",
   "id": "d2ab6499-7a67-4815-b4df-1d758521c4dd",
   "metadata": {
    "slideshow": {
     "slide_type": "skip"
    },
    "tags": [
     "worksheet-only"
    ]
   },
   "source": [
    "<div style=\"height:20em;\"></div>\n",
    "\n",
    "🛑 **STOP here** after completing the above question; if you have extra time please **skip ahead** to the extra practice."
   ]
  },
  {
   "cell_type": "markdown",
   "id": "5f490347-13bc-4925-a00f-23292aa1e82f",
   "metadata": {
    "slideshow": {
     "slide_type": "skip"
    },
    "tags": [
     "notes-only"
    ]
   },
   "source": [
    "## Decimal (i.e., base 10)\n",
    "* _How many unique values can you represent with one decimal digit?_ — 10\n",
    "* _How do you count to 13 (in base 10)?_ — 0 (computers like to start at zero!), 1, 2, 3, 4, 5, 6, 7, 8, 9, 10 (notice the \"ones\" place becomes zero and the \"tens\" place becomes 1), 11, 12, 13"
   ]
  },
  {
   "cell_type": "markdown",
   "id": "50b6d4c6-9418-4a16-adfa-e11c68a3aad5",
   "metadata": {
    "slideshow": {
     "slide_type": "slide"
    },
    "tags": []
   },
   "source": [
    "## Binary (i.e., base 2)"
   ]
  },
  {
   "cell_type": "markdown",
   "id": "ea2939b8-d0c1-407b-a65a-1b780b9447d9",
   "metadata": {
    "slideshow": {
     "slide_type": "skip"
    },
    "tags": [
     "notes-only"
    ]
   },
   "source": [
    "* We are used to working with decimal numbers, but computers represent numbers in binary\n",
    "    * A single binary digit (_bit_) can represent two unique values — 0 or 1\n",
    "    * It is easier to build hardware that uses polar opposites (e.g., on/off, high/low voltage, positive/negative magnetism, etc.) than multiple levels (e.g., very high, high, moderately high, moderate, moderately low, low, very low voltage)\n",
    "* _How many unique values can be represented with 2 bits?_ — 00, 01, 10, 00; 2^2 = 4\n",
    "    * _3 bits?_ — 000, 001, 010, 011, 100, 101, 110, 111; 2^3 = 8\n",
    "* Practice powers of two: 2, 4, 8, 16, 32, 64, 128, 256, 512, 1024, 2048, 4096, 8192\n",
    "* _How many bits are in a byte?_ – 8 bits\n",
    "* _How many unique values can be represented with 1 byte? 4 bytes?_ – 256, ~4.3 billion\n",
    "* _How do you count to 13 in binary?_ – 0, 1, 10, 11, 100, 101, 110, 111, 1000, 1001, 1010, 1011, 1100, 1101"
   ]
  },
  {
   "cell_type": "markdown",
   "id": "a5700d30-65ed-4891-9d57-b2ccab4539a4",
   "metadata": {},
   "source": [
    "_Convert the following binary numbers to decimal (i.e., base 10):_"
   ]
  },
  {
   "cell_type": "markdown",
   "id": "757a2b13-ecdb-439d-adb2-34756c9c2918",
   "metadata": {
    "tags": []
   },
   "source": [
    "* Q3: `0b11`"
   ]
  },
  {
   "cell_type": "markdown",
   "id": "660c4fcd-86cf-40e6-8bf4-06d3661571cf",
   "metadata": {
    "slideshow": {
     "slide_type": "skip"
    },
    "tags": [
     "notes-only"
    ]
   },
   "source": [
    "    1 * 2^1 + 1 * 2^0 = 2 + 1 = 3"
   ]
  },
  {
   "cell_type": "markdown",
   "id": "25064b25-5819-449b-88ae-3c93ba0dfc7e",
   "metadata": {
    "slideshow": {
     "slide_type": "skip"
    },
    "tags": [
     "worksheet-only"
    ]
   },
   "source": [
    "<p style=\"height:4em;\"></p>"
   ]
  },
  {
   "cell_type": "markdown",
   "id": "dd34eac3-b326-4765-af93-763435206300",
   "metadata": {
    "tags": []
   },
   "source": [
    "* Q4: `0b1010`"
   ]
  },
  {
   "cell_type": "markdown",
   "id": "bdea8586-3a85-4786-8b04-338d3aa423be",
   "metadata": {
    "slideshow": {
     "slide_type": "skip"
    },
    "tags": [
     "notes-only"
    ]
   },
   "source": [
    "    1 * 2^3 + 0 * 2^2 + 1 * 2^1 + 0 * 2^0 = 8 + 2 = 10"
   ]
  },
  {
   "cell_type": "markdown",
   "id": "9ebfd980-5d62-404c-b45e-4640de5a9ce4",
   "metadata": {
    "slideshow": {
     "slide_type": "skip"
    },
    "tags": [
     "worksheet-only"
    ]
   },
   "source": [
    "<p style=\"height:4em;\"></p>"
   ]
  },
  {
   "cell_type": "markdown",
   "id": "b1a1a8f5-5c7c-4086-acf8-950b803935f9",
   "metadata": {
    "tags": []
   },
   "source": [
    "* Q5: `0b1111`"
   ]
  },
  {
   "cell_type": "markdown",
   "id": "d9e656bc-089e-43a3-88d6-75fd7deb7f4f",
   "metadata": {
    "slideshow": {
     "slide_type": "skip"
    },
    "tags": [
     "notes-only"
    ]
   },
   "source": [
    "    1 * 2^3 + 1 * 2^2 + 1 * 2^1 + 1 * 2^0 = 8 + 4 + 2 + 1 = 15"
   ]
  },
  {
   "cell_type": "markdown",
   "id": "cdc2faad-24fb-4717-a4fe-7efdc01da5c1",
   "metadata": {
    "slideshow": {
     "slide_type": "skip"
    },
    "tags": [
     "worksheet-only"
    ]
   },
   "source": [
    "<p style=\"height:4em;\"></p>"
   ]
  },
  {
   "cell_type": "markdown",
   "id": "c26e9f3b-9a1c-4c9a-bf08-0011d359cec7",
   "metadata": {
    "tags": []
   },
   "source": [
    "* Q6: `0b11001100`"
   ]
  },
  {
   "cell_type": "markdown",
   "id": "7a584d89-16e8-4c3b-ba36-7ee312b569d7",
   "metadata": {
    "slideshow": {
     "slide_type": "skip"
    },
    "tags": [
     "notes-only"
    ]
   },
   "source": [
    "    1 * 2^7 + 1 * 2^6 + 0 * 2^5 + 0 * 2^4 + 1 * 2^3 + 1 * 2^2 + 0 * 2^1 + 0 * 2^0 = 128 + 64 + 8 + 4 = 204"
   ]
  },
  {
   "cell_type": "markdown",
   "id": "c13a3e69-dde0-4736-bc6a-daf72c605edb",
   "metadata": {
    "slideshow": {
     "slide_type": "skip"
    },
    "tags": [
     "worksheet-only"
    ]
   },
   "source": [
    "<p style=\"height:4em;\"></p>\n",
    "\n",
    "🛑 **STOP here** after completing the above questions; if you have extra time please **skip ahead** to the extra practice."
   ]
  },
  {
   "cell_type": "markdown",
   "id": "9605d6e7-573b-40d0-89d6-96b0895ba49d",
   "metadata": {
    "slideshow": {
     "slide_type": "slide"
    },
    "tags": []
   },
   "source": [
    "## Hexadecimal (i.e., base 16)"
   ]
  },
  {
   "cell_type": "markdown",
   "id": "71c58ff5-bc30-47b1-a347-1b9fe3dfc031",
   "metadata": {
    "jp-MarkdownHeadingCollapsed": true,
    "slideshow": {
     "slide_type": "skip"
    },
    "tags": [
     "notes-only"
    ]
   },
   "source": [
    "* _How many values can be represented with one hexadecimal digit?_ - 16\n",
    "* _How do you count to 13 in hexadecimal?_ — 0, 1, 2, 3, 4, 5, 6, 7, 8, 9, A, B, C, D\n",
    "* Powers of sixteen: 16, 256, 4096"
   ]
  },
  {
   "cell_type": "markdown",
   "id": "5a70bae2-0be0-47dd-afb0-ecb2ba8ba2da",
   "metadata": {},
   "source": [
    "_Convert the following hexadecimal numbers to decimal (i.e., base 10):_"
   ]
  },
  {
   "cell_type": "markdown",
   "id": "b23fff6c-9972-446e-87b5-0b84525281cf",
   "metadata": {},
   "source": [
    "* Q7: `0xC`"
   ]
  },
  {
   "cell_type": "markdown",
   "id": "494058dc-6d15-4ef4-8a84-18674f474067",
   "metadata": {
    "slideshow": {
     "slide_type": "skip"
    },
    "tags": [
     "notes-only"
    ]
   },
   "source": [
    "    12 * 16^0 = 12"
   ]
  },
  {
   "cell_type": "markdown",
   "id": "056d245b-4810-4db7-bc43-73fc7f27bcd4",
   "metadata": {
    "slideshow": {
     "slide_type": "skip"
    },
    "tags": [
     "worksheet-only"
    ]
   },
   "source": [
    "<p style=\"height:4em;\"></p>"
   ]
  },
  {
   "cell_type": "markdown",
   "id": "cfee1016-66f8-4c51-b54f-e53ff32dfb3e",
   "metadata": {},
   "source": [
    "* Q8: `0x11`"
   ]
  },
  {
   "cell_type": "markdown",
   "id": "849f83ea-699c-49b4-903e-a3e5d5492075",
   "metadata": {
    "slideshow": {
     "slide_type": "skip"
    },
    "tags": [
     "notes-only"
    ]
   },
   "source": [
    "    1 * 16^1 + 1 * 16^0 = 17"
   ]
  },
  {
   "cell_type": "markdown",
   "id": "4210ad09-f2ac-4323-99f0-cc1868e88b06",
   "metadata": {
    "slideshow": {
     "slide_type": "skip"
    },
    "tags": [
     "worksheet-only"
    ]
   },
   "source": [
    "<p style=\"height:4em;\"></p>"
   ]
  },
  {
   "cell_type": "markdown",
   "id": "b51a7dca-6fd2-408b-bb06-f136cb48ab5a",
   "metadata": {},
   "source": [
    "* Q9: `0x1F`"
   ]
  },
  {
   "cell_type": "markdown",
   "id": "c7d1caa4-8e21-4843-bb70-95e924b7252d",
   "metadata": {
    "slideshow": {
     "slide_type": "skip"
    },
    "tags": [
     "notes-only"
    ]
   },
   "source": [
    "    1 * 16^1 + 15 * 16^0 = 31"
   ]
  },
  {
   "cell_type": "markdown",
   "id": "59c56aba-414d-4ebd-a2ca-e30cbfbd5c05",
   "metadata": {
    "slideshow": {
     "slide_type": "skip"
    },
    "tags": [
     "worksheet-only"
    ]
   },
   "source": [
    "<p style=\"height:4em;\"></p>"
   ]
  },
  {
   "cell_type": "markdown",
   "id": "5a8c96ce-5494-403e-a695-66e3aa722e79",
   "metadata": {},
   "source": [
    "* Q10: `0x248`"
   ]
  },
  {
   "cell_type": "markdown",
   "id": "c565f39a-a567-4033-8be1-ae050d169905",
   "metadata": {
    "slideshow": {
     "slide_type": "skip"
    },
    "tags": [
     "notes-only"
    ]
   },
   "source": [
    "    2 * 16^2 + 4 * 16^1 + 8 * 16^0 = 512 + 64 + 8 = 584"
   ]
  },
  {
   "cell_type": "markdown",
   "id": "6ebf82b9-a4c0-4e30-bfbf-48209b3d0c3e",
   "metadata": {
    "slideshow": {
     "slide_type": "skip"
    },
    "tags": [
     "worksheet-only"
    ]
   },
   "source": [
    "<p style=\"height:4em;\"></p>"
   ]
  },
  {
   "cell_type": "markdown",
   "id": "8bb8861f-57d7-445f-9612-30716b0cd0a1",
   "metadata": {
    "slideshow": {
     "slide_type": "slide"
    },
    "tags": []
   },
   "source": [
    "## Extra practice"
   ]
  },
  {
   "cell_type": "markdown",
   "id": "3ca35143-3c45-4cba-b3b0-37e397d61b82",
   "metadata": {},
   "source": [
    "* Q11: _Write a function called `count_words` that takes a string and counts the number of words in the string. Assume each word is separated by a single space, and the string will contain at least one word. For example, `\"Today is Wednesday.\"` contains 3 words._"
   ]
  },
  {
   "cell_type": "code",
   "execution_count": 7,
   "id": "eb7a9162-d44b-4cfe-9c64-e4d1e7c4053c",
   "metadata": {
    "slideshow": {
     "slide_type": "skip"
    },
    "tags": [
     "notes-only"
    ]
   },
   "outputs": [],
   "source": [
    "#include <string.h>\n",
    "int count_words(char str[]) {\n",
    "    int words = 1;\n",
    "    for (int i = 0; i < strlen(str); i++) {\n",
    "        if (str[i] == ' ') {\n",
    "            words++;\n",
    "        }\n",
    "    }\n",
    "    return words;\n",
    "}\n",
    "// Testing\n",
    "#include <assert.h>\n",
    "int main() {\n",
    "    assert(count_words(\"Today is Wednesday.\") == 3);\n",
    "}"
   ]
  },
  {
   "cell_type": "markdown",
   "id": "f41a549d-2d6b-40f2-b54e-c45b67f2366c",
   "metadata": {
    "slideshow": {
     "slide_type": "skip"
    },
    "tags": [
     "worksheet-only"
    ]
   },
   "source": [
    "<div style=\"page-break-after:always;\"></div>"
   ]
  },
  {
   "cell_type": "markdown",
   "id": "451b2477-f47c-46c1-b697-d6f5d3ade099",
   "metadata": {},
   "source": [
    "* Q12: _Write a function called `abbreviate` that takes a string and modifies the string in place to include only the first letter of each word. For example, `\"Talk To You Later\"` is converted to `TTYL`._"
   ]
  },
  {
   "cell_type": "code",
   "execution_count": 11,
   "id": "ab7d2e04-3a93-440c-81cf-500bbbb4fb87",
   "metadata": {
    "slideshow": {
     "slide_type": "skip"
    },
    "tags": [
     "notes-only"
    ]
   },
   "outputs": [],
   "source": [
    "#include <string.h>\n",
    "void abbreviate(char str[]) {\n",
    "    int store = 1;\n",
    "    int check = 1;\n",
    "    while (check < strlen(str)) {\n",
    "        if (str[check-1] == ' ') {\n",
    "            str[store] = str[check];\n",
    "            store++;\n",
    "        }\n",
    "        check++;\n",
    "    }\n",
    "    str[store] = '\\0';\n",
    "}\n",
    "// Testing\n",
    "#include <assert.h>\n",
    "int main() {\n",
    "    char phrase[18];\n",
    "    strcpy(phrase, \"Talk To You Later\");\n",
    "    abbreviate(phrase);\n",
    "    assert(strcmp(phrase, \"TTYL\") == 0);\n",
    "}"
   ]
  },
  {
   "cell_type": "markdown",
   "id": "c40b0374-fca1-4382-8fb7-6e7de494b304",
   "metadata": {
    "slideshow": {
     "slide_type": "skip"
    },
    "tags": [
     "worksheet-only"
    ]
   },
   "source": [
    "<div style=\"height:20em;\"></div>"
   ]
  },
  {
   "cell_type": "markdown",
   "id": "d2688f2d-992a-45a9-b445-ccebce93ddfe",
   "metadata": {},
   "source": [
    "* Q13: _Write a program that asks the user for a string and converts all lowercase letters to uppercase and all uppercase letters to lowercase; numbers and punctuation should be left unchanged._"
   ]
  },
  {
   "cell_type": "code",
   "execution_count": null,
   "id": "654467d4-d755-495b-8461-7b9fedb9df28",
   "metadata": {
    "slideshow": {
     "slide_type": "skip"
    },
    "tags": [
     "notes-only"
    ]
   },
   "outputs": [],
   "source": [
    "#include <stdio.h>\n",
    "#include <stdlib.h>\n",
    "#include <string.h>\n",
    "int main() {\n",
    "    char str[100];\n",
    "    printf(\"String? \");\n",
    "    fgets(str, 100, stdin);\n",
    "    for (int i = 0; i < strlen(str); i++) {\n",
    "        if (str[i] >= 'A' && str[i] <= 'Z') {\n",
    "            str[i] = str[i] - 'A' + 'a';\n",
    "    } else if (str[i] >= 'a' && str[i] <= 'z') {\n",
    "            str[i] = str[i] - 'a' + 'A';\n",
    "        }\n",
    "    }\n",
    "    printf(\"%s\", str);\n",
    "    return EXIT_SUCCESS;\n",
    "}"
   ]
  },
  {
   "cell_type": "markdown",
   "id": "aa2780b6-a063-4154-930b-c991fc67ab10",
   "metadata": {
    "slideshow": {
     "slide_type": "skip"
    },
    "tags": [
     "worksheet-only"
    ]
   },
   "source": [
    "<div style=\"page-break-after:always;\"></div>"
   ]
  },
  {
   "cell_type": "markdown",
   "id": "4e250030-f512-4c01-8a7a-cc0599ceee77",
   "metadata": {
    "slideshow": {
     "slide_type": "slide"
    },
    "tags": []
   },
   "source": [
    "* Q14: _The following program should ask the user to enter a word, then print the word's length and whether it is a palindrome (i.e., reads the same backward as forward). For example, if the user enters `\"kayak\"` the program should print `\"The word is 5 characters long and is a palindrome.\"` However, the program contains several errors. Modify the program to correct the errors._"
   ]
  },
  {
   "cell_type": "code",
   "execution_count": null,
   "id": "cdc888dd-91c5-48b7-b7e8-fe28f670f2e4",
   "metadata": {
    "slideshow": {
     "slide_type": "subslide"
    },
    "tags": []
   },
   "outputs": [],
   "source": [
    "#include <stdio.h>\n",
    "\n",
    "void palindrome(char word[]) {\n",
    "    int i = 0;\n",
    "    int j = strlen(word);\n",
    "    while (i < j) {\n",
    "        if (word[i] != word[j]) {\n",
    "            return -1;\n",
    "        }\n",
    "        i++;\n",
    "        j--;\n",
    "    }\n",
    "    return 1;\n",
    "}\n",
    "\n",
    "int main() {\n",
    "    printf(\"Enter a word: \");\n",
    "    char word[50];\n",
    "    fgets(word, 50, stdin);\n",
    "    word[strlen(word)-1] = '\\0'; // Remove newline\n",
    "    int len = strlen(word);\n",
    "    printf(\"The word is %c characters long and is \", len);\n",
    "    if (palindrome(word)) {\n",
    "        printf(\"a palindrome.\\n\");\n",
    "    } else {\n",
    "        printf(\"not a palindrome.\\n\");\n",
    "    }\n",
    "}"
   ]
  },
  {
   "cell_type": "markdown",
   "id": "22a2751e-f81f-4407-aec9-2a953d720d9a",
   "metadata": {
    "slideshow": {
     "slide_type": "skip"
    },
    "tags": [
     "notes-only"
    ]
   },
   "source": [
    "* `#include <string.h>`\n",
    "* Change return type of `palindrome` to `int`\n",
    "* Initialize `j` to `strlen(word) - 1`\n",
    "* Change `return -1` to `return 0`\n",
    "* Change `%c` in 2nd `printf` in `main` to `%d`"
   ]
  },
  {
   "cell_type": "markdown",
   "id": "0c983e5f-d926-4a7e-ac6c-a176caf23c24",
   "metadata": {},
   "source": [
    "_Convert the following numbers to decimal (i.e., base 10):_"
   ]
  },
  {
   "cell_type": "markdown",
   "id": "7429193f-bf61-4fc9-bbc1-c3091a8f9044",
   "metadata": {
    "tags": []
   },
   "source": [
    "* Q15: `0b10`"
   ]
  },
  {
   "cell_type": "markdown",
   "id": "24541f0a-7dba-4e22-bd62-a9c8c7435208",
   "metadata": {
    "slideshow": {
     "slide_type": "skip"
    },
    "tags": [
     "notes-only"
    ]
   },
   "source": [
    "    1 * 2^1 + 0 * 2^0 = 2"
   ]
  },
  {
   "cell_type": "markdown",
   "id": "0f258e87-66db-4d21-8812-776f75da4151",
   "metadata": {
    "slideshow": {
     "slide_type": "skip"
    },
    "tags": [
     "worksheet-only"
    ]
   },
   "source": [
    "<p style=\"height:4em;\"></p>"
   ]
  },
  {
   "cell_type": "markdown",
   "id": "ff8e95e4-5004-4951-8bc8-f048f3530fbd",
   "metadata": {},
   "source": [
    "* Q16: `0xF`"
   ]
  },
  {
   "cell_type": "markdown",
   "id": "97efa945-3692-492a-9173-572b835f40aa",
   "metadata": {
    "slideshow": {
     "slide_type": "skip"
    },
    "tags": [
     "notes-only"
    ]
   },
   "source": [
    "    15 * 16^0 = 15"
   ]
  },
  {
   "cell_type": "markdown",
   "id": "d6d58025-350f-4cf9-838b-969ce7d59662",
   "metadata": {
    "slideshow": {
     "slide_type": "skip"
    },
    "tags": [
     "worksheet-only"
    ]
   },
   "source": [
    "<p style=\"height:4em;\"></p>"
   ]
  },
  {
   "cell_type": "markdown",
   "id": "8d8d933b-9b8d-421f-bc51-35850903da17",
   "metadata": {
    "slideshow": {
     "slide_type": "skip"
    },
    "tags": [
     "worksheet-only"
    ]
   },
   "source": [
    "<p style=\"height:4em;\"></p>"
   ]
  }
 ],
 "metadata": {
  "kernelspec": {
   "display_name": "C",
   "language": "c",
   "name": "c"
  },
  "language_info": {
   "file_extension": ".c",
   "mimetype": "c",
   "name": "c"
  }
 },
 "nbformat": 4,
 "nbformat_minor": 5
}
