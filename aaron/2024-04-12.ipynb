{
 "cells": [
  {
   "cell_type": "markdown",
   "id": "ffc437ac-d10b-4d12-895d-712e9c2057b5",
   "metadata": {
    "slideshow": {
     "slide_type": "skip"
    },
    "tags": []
   },
   "source": [
    "# Operating Systems & Concurrency: process API (continued)\n",
    "_COSC 208, Introduction to Computer Systems, 2024-04-12_"
   ]
  },
  {
   "cell_type": "markdown",
   "id": "2ef33852-2a4a-4911-8857-4047647e3db0",
   "metadata": {
    "slideshow": {
     "slide_type": "skip"
    },
    "tags": []
   },
   "source": [
    "## Announcements\n",
    "* Project 2 revisions due today at 11pm\n",
    "* Quiz 5 rescheduled for Friday, April 19"
   ]
  },
  {
   "cell_type": "markdown",
   "id": "377e6d68-2202-4782-afc7-a43582630f55",
   "metadata": {
    "slideshow": {
     "slide_type": "skip"
    },
    "tags": []
   },
   "source": [
    "## Outline\n",
    "* Warm-up\n",
    "* Waiting for processes\n",
    "* Running a different program"
   ]
  },
  {
   "cell_type": "markdown",
   "id": "099f5346-79cf-4f66-b61d-6989dd1fc873",
   "metadata": {},
   "source": [
    "## Warm-up"
   ]
  },
  {
   "cell_type": "markdown",
   "id": "2e37d847-853e-4020-98fc-e39041b13fa3",
   "metadata": {
    "tags": []
   },
   "source": [
    "* Q1: _What are all possible outputs of this program, assuming the process identifier (PID) of the parent process is 50 and the PID of the child process is 60?_"
   ]
  },
  {
   "cell_type": "code",
   "execution_count": 1,
   "id": "4b568a2a-c8dd-4802-a8d8-ab3892b4d87a",
   "metadata": {
    "tags": [
     "worksheet-code-only"
    ]
   },
   "outputs": [
    {
     "name": "stdout",
     "output_type": "stream",
     "text": [
      "x=5603 n=30\n",
      "x=0 n=25\n"
     ]
    }
   ],
   "source": [
    "/* 1*/  #include <stdio.h>\n",
    "/* 2*/  #include <unistd.h>    \n",
    "/* 3*/  int main() {\n",
    "/* 4*/      int n = 20;\n",
    "/* 5*/      int x = fork();\n",
    "/* 6*/      if (x < 0) {\n",
    "/* 7*/          printf(\"Fork failed\\n\");\n",
    "/* 8*/          return 1;\n",
    "/* 9*/      } else if (x == 0) {\n",
    "/*10*/          n += 5;\n",
    "/*11*/      } else {\n",
    "/*12*/          n += 10;\n",
    "/*13*/      }\n",
    "/*14*/      printf(\"x=%d n=%d\\n\", x, n);\n",
    "/*15*/  }"
   ]
  },
  {
   "cell_type": "markdown",
   "id": "cdffc28d-9382-4f74-b8c2-457a4fe79262",
   "metadata": {
    "slideshow": {
     "slide_type": "skip"
    },
    "tags": [
     "notes-only"
    ]
   },
   "source": [
    "    x=0 n=25\n",
    "    x=60 n=30"
   ]
  },
  {
   "cell_type": "markdown",
   "id": "e2e21367-dd28-4789-981a-bfba4693e10f",
   "metadata": {
    "slideshow": {
     "slide_type": "skip"
    },
    "tags": [
     "worksheet-only"
    ]
   },
   "source": [
    "<div style=\"height:10em;\"></div>\n",
    "\n",
    "🛑 **STOP here** after completing the above question; if you have extra time **take a few deep breaths** to reduce stress.\n",
    "\n",
    "<div style=\"page-break-after:always;\"></div>"
   ]
  },
  {
   "cell_type": "markdown",
   "id": "177d7b56-26ce-4023-8010-92c448961bbf",
   "metadata": {
    "slideshow": {
     "slide_type": "slide"
    },
    "tags": []
   },
   "source": [
    "## Waiting for processes"
   ]
  },
  {
   "cell_type": "markdown",
   "id": "14ab688a-b402-42ca-b066-edfbfd1ef0b4",
   "metadata": {
    "slideshow": {
     "slide_type": "skip"
    },
    "tags": [
     "notes-only"
    ]
   },
   "source": [
    "* Wait for any child to finish — `int wait(int *status)`\n",
    "    * Returns PID of the child process that finished\n",
    "    * `status` parameter is optional\n",
    "        * if passed a valid integer pointer, `wait` will store the return value of the child process's `main` function at the referenced memory location\n",
    "        * if return value of child process's main function is not needed, then pass `NULL`\n",
    "* Wait for a specific process to finish — `int waitpid(pid_t pid, int *status, int options)`\n",
    "    * Returns PID of the process that finished\n",
    "    * `pid` is PID if process to wait for — need not be a child process\n",
    "    * `status` is the same as `wait`\n",
    "    * `options` is typically `0`, except in special circumstances\n",
    "* Wait functions do not return until child or specific process, respectively, finishes"
   ]
  },
  {
   "cell_type": "markdown",
   "id": "f713c07f-e5f6-44b2-91ad-ff0059d63f59",
   "metadata": {
    "tags": []
   },
   "source": [
    "* Q2: _What are all possible outputs of this program?_"
   ]
  },
  {
   "cell_type": "code",
   "execution_count": 4,
   "id": "cb2a09b4-fd2d-4838-be6c-361a49ea6a2a",
   "metadata": {
    "tags": [
     "worksheet-code-only"
    ]
   },
   "outputs": [
    {
     "name": "stdout",
     "output_type": "stream",
     "text": [
      "Child\n",
      "Parent\n"
     ]
    }
   ],
   "source": [
    "/* 1*/  #include <stdio.h>\n",
    "/* 2*/  #include <unistd.h>\n",
    "/* 3*/  int main() {\n",
    "/* 4*/      int pid = fork();\n",
    "/* 5*/      if (pid < 0) {\n",
    "/* 6*/          printf(\"Fork failed\\n\");\n",
    "/* 7*/          return 1;\n",
    "/* 8*/      } else if (pid > 0) {\n",
    "/* 9*/          wait(NULL);\n",
    "/*10*/          printf(\"Parent\\n\");\n",
    "/*11*/      } else {\n",
    "/*12*/          printf(\"Child\\n\");\n",
    "/*13*/      }\n",
    "/*14*/      return 0;\n",
    "/*15*/  }"
   ]
  },
  {
   "cell_type": "markdown",
   "id": "25386d04-8639-4cf5-9d82-a7c66b6f2f98",
   "metadata": {
    "slideshow": {
     "slide_type": "skip"
    },
    "tags": [
     "worksheet-only"
    ]
   },
   "source": [
    "<div style=\"height:17em;\"></div>\n",
    "\n",
    "🛑 **STOP here** after completing the above question; if you have extra time please **skip ahead** to the extra practice."
   ]
  },
  {
   "cell_type": "markdown",
   "id": "e875f316-7b38-4d9e-96c1-825b800f873b",
   "metadata": {
    "slideshow": {
     "slide_type": "slide"
    },
    "tags": []
   },
   "source": [
    "## Running a different program"
   ]
  },
  {
   "cell_type": "markdown",
   "id": "c4f48afa-d724-40d8-8d9a-4cb18bb20749",
   "metadata": {},
   "source": [
    "* Example program"
   ]
  },
  {
   "cell_type": "code",
   "execution_count": 9,
   "id": "d230b252-4fe9-42e5-b601-9ef2ab7cbf64",
   "metadata": {
    "tags": [
     "worksheet-code-only"
    ]
   },
   "outputs": [
    {
     "name": "stdout",
     "output_type": "stream",
     "text": [
      "Begin\n",
      "Parent\n",
      "End\n",
      "Child\n",
      "Tue Apr  9 08:32:18 EDT 2024\n"
     ]
    }
   ],
   "source": [
    "/* 1*/  #include <stdio.h>\n",
    "/* 2*/  #include <unistd.h>\n",
    "/* 3*/  int main(int argc, char **argv) {\n",
    "/* 4*/      printf(\"Begin\\n\");\n",
    "/* 5*/      int pid = fork();\n",
    "/* 6*/      if (pid < 0) {\n",
    "/* 7*/          printf(\"Fork failed\\n\");\n",
    "/* 8*/          return 1;\n",
    "/* 9*/      } else if (pid == 0) {\n",
    "/*10*/          printf(\"Child\\n\");\n",
    "/*11*/          char *cmd[] = { \"/bin/date\", NULL };\n",
    "/*12*/          execv(cmd[0], cmd);\n",
    "/*13*/      } else {\n",
    "/*14*/          printf(\"Parent\\n\");\n",
    "/*15*/      }\n",
    "/*16*/      printf(\"End\\n\");\n",
    "/*17*/      return 0;\n",
    "/*18*/  }"
   ]
  },
  {
   "cell_type": "markdown",
   "id": "e41e083f-f003-49d9-9bf9-940d3b6908a6",
   "metadata": {
    "slideshow": {
     "slide_type": "subslide"
    },
    "tags": []
   },
   "source": [
    "* Q3: _What is the output produced by running `./progA`, assuming no errors occur?_"
   ]
  },
  {
   "cell_type": "code",
   "execution_count": null,
   "id": "1a3a4541-07b5-49f2-a490-b16d4ffc7f9c",
   "metadata": {},
   "outputs": [],
   "source": [
    "/** progA **/\n",
    "/* 1*/  #include <stdio.h>\n",
    "/* 2*/  #include <unistd.h>\n",
    "/* 3*/  int main() {\n",
    "/* 4*/      int a = fork();\n",
    "/* 5*/      if (a == 0) {\n",
    "/* 6*/          char *cmd[] = { \"./progB\", NULL };\n",
    "/* 7*/          execv(cmd[0], cmd);\n",
    "/* 8*/          printf(\"A 2nd gen\\n\");\n",
    "/* 9*/          return 0;\n",
    "/*10*/      } else {\n",
    "/*11*/          wait(NULL);\n",
    "/*12*/          printf(\"A 1st gen\\n\");\n",
    "/*13*/          return 0;\n",
    "/*14*/      }\n",
    "/*15*/  }"
   ]
  },
  {
   "cell_type": "code",
   "execution_count": null,
   "id": "c6198ceb-d933-4f1c-a114-0f8f67d74ef9",
   "metadata": {
    "slideshow": {
     "slide_type": "subslide"
    },
    "tags": []
   },
   "outputs": [],
   "source": [
    "/** progB **/\n",
    "/* 1*/  #include <stdio.h>\n",
    "/* 2*/  #include <unistd.h>\n",
    "/* 3*/  int main() {\n",
    "/* 4*/      int b = fork();\n",
    "/* 5*/      if (b == 0) {\n",
    "/* 6*/          printf(\"B 2nd gen\\n\");\n",
    "/* 7*/          return 0;\n",
    "/* 8*/      } else {\n",
    "/* 9*/          wait(NULL);\n",
    "/*10*/          printf(\"B 1st gen\\n\");\n",
    "/*11*/          return 0;\n",
    "/*12*/      }\n",
    "/*13*/  }"
   ]
  },
  {
   "cell_type": "markdown",
   "id": "e55943aa-708e-4454-b9df-caf754080da8",
   "metadata": {
    "slideshow": {
     "slide_type": "skip"
    },
    "tags": [
     "notes-only"
    ]
   },
   "source": [
    "_Postponed to next class_"
   ]
  },
  {
   "cell_type": "markdown",
   "id": "cdca3ef8-a2d7-4684-8411-20961acbb75d",
   "metadata": {
    "slideshow": {
     "slide_type": "skip"
    },
    "tags": [
     "worksheet-only"
    ]
   },
   "source": [
    "<div style=\"page-break-after:always;\"></div>"
   ]
  },
  {
   "cell_type": "markdown",
   "id": "b37ca661-12e2-4cd8-b765-8f23c6925f1d",
   "metadata": {
    "slideshow": {
     "slide_type": "slide"
    },
    "tags": []
   },
   "source": [
    "## Extra practice"
   ]
  },
  {
   "cell_type": "markdown",
   "id": "4698188f-4820-498e-9aaf-0df94e922b6e",
   "metadata": {},
   "source": [
    "* Q4: _What does the following code output?_"
   ]
  },
  {
   "cell_type": "code",
   "execution_count": null,
   "id": "0c52c803-9d18-4d39-bb01-95efe43291fa",
   "metadata": {},
   "outputs": [],
   "source": [
    "/* 1*/  #include <stdio.h>\n",
    "/* 2*/  #include <unistd.h>\n",
    "/* 3*/  int main(int argc, char **argv) {\n",
    "/* 4*/      int value = 100;\n",
    "/* 5*/      int pid = fork();\n",
    "/* 6*/      if (pid < 0) {\n",
    "/* 7*/          printf(\"Fork failed\\n\");\n",
    "/* 8*/          return 1;\n",
    "/* 9*/      } else if (pid > 0) {\n",
    "/*10*/          value -= 50;\n",
    "/*11*/      } else {\n",
    "/*12*/          value += 50;\n",
    "/*13*/      }\n",
    "/*14*/      printf(\"My value is %d\\n\", value);\n",
    "/*15*/      return 0;\n",
    "/*16*/  }"
   ]
  },
  {
   "cell_type": "markdown",
   "id": "11594941-7fe7-4a67-9852-584f9e116475",
   "metadata": {
    "slideshow": {
     "slide_type": "skip"
    },
    "tags": [
     "notes-only"
    ]
   },
   "source": [
    "```\n",
    "My value is 50\n",
    "My value is 150\n",
    "```\n",
    "OR\n",
    "```\n",
    "My value is 150\n",
    "My value is 50\n",
    "```"
   ]
  },
  {
   "cell_type": "markdown",
   "id": "cd2619e9-fc77-4504-937c-12875cffda81",
   "metadata": {
    "slideshow": {
     "slide_type": "skip"
    },
    "tags": [
     "worksheet-only"
    ]
   },
   "source": [
    "<p style=\"height:12em;\"></p>"
   ]
  },
  {
   "cell_type": "markdown",
   "id": "8297c434-5490-4e44-b2df-f6bef8f1f4be",
   "metadata": {
    "slideshow": {
     "slide_type": "subslide"
    },
    "tags": []
   },
   "source": [
    "* Q5: _How would you modify the program below such that `Child` always prints before `Parent`?_"
   ]
  },
  {
   "cell_type": "code",
   "execution_count": null,
   "id": "98e8eef4-3954-45ac-bb0c-4f4c12440b36",
   "metadata": {
    "tags": [
     "worksheet-code-only"
    ]
   },
   "outputs": [],
   "source": [
    "#include <stdio.h>\n",
    "#include <unistd.h>\n",
    "int main(int argc, char **argv) {\n",
    "    printf(\"Begin\\n\");\n",
    "    int pid = fork();\n",
    "    if (pid < 0) {\n",
    "        printf(\"Fork failed\\n\");\n",
    "        return 1;\n",
    "    } else if (pid > 0) {\n",
    "        printf(\"Parent\\n\");\n",
    "    } else {\n",
    "        printf(\"Child\\n\");\n",
    "        return 0;\n",
    "    }\n",
    "    printf(\"End\\n\");\n",
    "}"
   ]
  },
  {
   "cell_type": "code",
   "execution_count": null,
   "id": "98f1924a-dd50-46ae-b531-d374c7c35ef2",
   "metadata": {
    "slideshow": {
     "slide_type": "skip"
    },
    "tags": [
     "notes-only"
    ]
   },
   "outputs": [],
   "source": [
    "#include <stdio.h>\n",
    "#include <unistd.h>\n",
    "int main(int argc, char **argv) {\n",
    "    printf(\"Begin\\n\");\n",
    "    int pid = fork();\n",
    "    if (pid < 0) {\n",
    "        printf(\"Fork failed\\n\");\n",
    "        return 1;\n",
    "    } else if (pid > 0) {\n",
    "        wait(NULL);\n",
    "        printf(\"Parent\\n\");\n",
    "    } else {\n",
    "        printf(\"Child\\n\");\n",
    "        return 0;\n",
    "    }\n",
    "    printf(\"End\\n\");\n",
    "}"
   ]
  }
 ],
 "metadata": {
  "kernelspec": {
   "display_name": "C",
   "language": "c",
   "name": "c"
  },
  "language_info": {
   "file_extension": ".c",
   "mimetype": "c",
   "name": "c"
  }
 },
 "nbformat": 4,
 "nbformat_minor": 5
}
