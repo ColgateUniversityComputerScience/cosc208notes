{
 "cells": [
  {
   "cell_type": "markdown",
   "id": "ffc437ac-d10b-4d12-895d-712e9c2057b5",
   "metadata": {
    "slideshow": {
     "slide_type": "skip"
    },
    "tags": []
   },
   "source": [
    "# Operating Systems & Concurrency: writing multi-threaded programs\n",
    "_COSC 208, Introduction to Computer Systems, 2024-04-22_"
   ]
  },
  {
   "cell_type": "markdown",
   "id": "f5f0bc81-4967-454e-93fd-93f8347ef17d",
   "metadata": {
    "slideshow": {
     "slide_type": "skip"
    },
    "tags": []
   },
   "source": [
    "## Announcements\n",
    "* Project 3 due Wednesday @ 11pm"
   ]
  },
  {
   "cell_type": "markdown",
   "id": "377e6d68-2202-4782-afc7-a43582630f55",
   "metadata": {
    "slideshow": {
     "slide_type": "skip"
    },
    "tags": []
   },
   "source": [
    "## Outline\n",
    "* Warm-up\n",
    "* Pthreads API\n",
    "* Creating multiple threads\n",
    "* Returning values from threads\n",
    "* Practice writing multi-threaded programs"
   ]
  },
  {
   "cell_type": "markdown",
   "id": "e9553457-80b5-425c-8011-4d678a7aef4a",
   "metadata": {},
   "source": [
    "## Warm-up"
   ]
  },
  {
   "cell_type": "markdown",
   "id": "46066a68-950f-4d6d-b566-c8e1c1092ab5",
   "metadata": {},
   "source": [
    "A program contains the following functions:\n",
    "```C\n",
    "void *dbl(void *arg) {\n",
    "    int *t = (int *)arg;\n",
    "    *t = *t * 2;\n",
    "}\n",
    "\n",
    "void *inc(void *arg) {\n",
    "    int *t = (int *)arg;\n",
    "    *t = *t + 1;\n",
    "}\n",
    "```\n",
    "_For each of the following main methods, list **all possible outputs** the program could produce. Assume threads are only preempted if they become blocked waiting for other threads._"
   ]
  },
  {
   "cell_type": "code",
   "execution_count": null,
   "id": "31b636bd-3ed5-46ae-8739-6c19f364e011",
   "metadata": {},
   "outputs": [],
   "source": [
    "// Q1\n",
    "int main() {\n",
    "    int *total = malloc(sizeof(int));\n",
    "    *total = 3;\n",
    "    pthread_t thrA, thrB;\n",
    "    pthread_create(&thrA, NULL, &dbl, total);\n",
    "    pthread_create(&thrB, NULL, &inc, total);\n",
    "    pthread_join(thrA, NULL);\n",
    "    pthread_join(thrB, NULL);\n",
    "    printf(\"%d\\n\", total);\n",
    "}"
   ]
  },
  {
   "cell_type": "markdown",
   "id": "2bc3054c-ae99-40c0-9049-0a8181b1fde5",
   "metadata": {
    "slideshow": {
     "slide_type": "skip"
    },
    "tags": [
     "notes-only"
    ]
   },
   "source": [
    "* `7` (if `thrB` runs after `thrA` finishes)\n",
    "* `8` (if `thrA` runs after `thrB` finishes)"
   ]
  },
  {
   "cell_type": "markdown",
   "id": "4f33a2d4-7eba-45da-b979-4382673f8e54",
   "metadata": {
    "slideshow": {
     "slide_type": "skip"
    },
    "tags": [
     "worksheet-only"
    ]
   },
   "source": [
    "<p style=\"height:1em;\"></p>"
   ]
  },
  {
   "cell_type": "code",
   "execution_count": null,
   "id": "216c2d62-254f-4d01-9773-ce39aefd2e87",
   "metadata": {},
   "outputs": [],
   "source": [
    "// Q2\n",
    "int main() {\n",
    "    int *total = malloc(sizeof(int));\n",
    "    *total = 3\n",
    "    pthread_t thrA, thrB;\n",
    "    pthread_create(&thrA, NULL, &inc, total);\n",
    "    pthread_join(thrA, NULL);\n",
    "    pthread_create(&thrB, NULL, &dbl, total);\n",
    "    pthread_join(thrB, NULL);\n",
    "    printf(\"%d\\n\", total);\n",
    "}"
   ]
  },
  {
   "cell_type": "markdown",
   "id": "eef5abea-d484-4ca2-907b-1190c8a65dc3",
   "metadata": {
    "slideshow": {
     "slide_type": "skip"
    },
    "tags": [
     "notes-only"
    ]
   },
   "source": [
    "* `8` (`thrA` is joined, i.e., must finish, before `thrB` is created) "
   ]
  },
  {
   "cell_type": "markdown",
   "id": "9302a3e8-c8ae-441a-b093-35d0651baeee",
   "metadata": {
    "slideshow": {
     "slide_type": "skip"
    },
    "tags": [
     "worksheet-only"
    ]
   },
   "source": [
    "<div style=\"height:1em;\"></div>\n",
    "\n",
    "🛑 **STOP here** after completing the above questions.\n",
    "\n",
    "<div style=\"page-break-after:always;\"></div>"
   ]
  },
  {
   "cell_type": "markdown",
   "id": "e5072efc-8bb3-4665-8c90-489fadb2eeca",
   "metadata": {
    "slideshow": {
     "slide_type": "slide"
    },
    "tags": []
   },
   "source": [
    "## Creating multiple threads"
   ]
  },
  {
   "cell_type": "markdown",
   "id": "dc85f1e2-7967-4695-b3c5-70402e3a1511",
   "metadata": {
    "slideshow": {
     "slide_type": "skip"
    },
    "tags": [
     "notes-only"
    ]
   },
   "source": [
    "* Create an array of `pthread_t` and an array of arguments\n",
    "* Call `pthread_create` within a loop\n",
    "* Call `pthread_join` within a separate loop\n",
    "* Example"
   ]
  },
  {
   "cell_type": "code",
   "execution_count": 36,
   "id": "54bc7331-0318-4887-a3c6-d65aa46c3e76",
   "metadata": {
    "tags": [
     "worksheet-code-only"
    ]
   },
   "outputs": [
    {
     "name": "stdout",
     "output_type": "stream",
     "text": [
      "I am thread 1\n",
      "I am thread 2\n",
      "I am thread 3\n",
      "I am thread 4\n",
      "I am thread 5\n",
      "All threads finished\n"
     ]
    }
   ],
   "source": [
    "/* 1*/  #include <pthread.h>\n",
    "/* 2*/  #include <stdio.h>\n",
    "/* 3*/  #include <stdlib.h>\n",
    "/* 4*/  #define NUM_THREADS 5\n",
    "/* 5*/  void *simple(void *arg) {\n",
    "/* 6*/      int *id = (int *)arg;\n",
    "/* 7*/      printf(\"I am thread %d\\n\", *id);\n",
    "/* 8*/      return NULL;\n",
    "/* 9*/  }\n",
    "/*10*/  int main() {\n",
    "/*11*/      pthread_t threads[NUM_THREADS];\n",
    "/*12*/      int ids[NUM_THREADS];\n",
    "/*13*/      for (int i = 0; i < NUM_THREADS; i++) {\n",
    "/*14*/          ids[i] = i+1;\n",
    "/*15*/          pthread_create(threads+i, NULL, &simple, ids+i);\n",
    "/*16*/      } \n",
    "/*17*/      for (int i = 0; i < NUM_THREADS; i++) {\n",
    "/*18*/          pthread_join(threads[i], NULL);\n",
    "/*19*/      }\n",
    "/*20*/      printf(\"All threads finished\\n\");\n",
    "/*21*/  }"
   ]
  },
  {
   "cell_type": "markdown",
   "id": "054bf1a0-9e88-4c03-a1c0-07027c3e0d67",
   "metadata": {
    "slideshow": {
     "slide_type": "slide"
    },
    "tags": []
   },
   "source": [
    "## Returning values from threads"
   ]
  },
  {
   "cell_type": "markdown",
   "id": "0f185709-ae69-4c95-a1ea-6dbfba9dda35",
   "metadata": {
    "slideshow": {
     "slide_type": "skip"
    },
    "tags": [
     "notes-only"
    ]
   },
   "source": [
    "* _When does a thread end?_ — when the function passed to `pthread_create` finishes (i.e., returns)\n",
    "* _What happens to a function's parameters and local variables when the function returns?_ — they no longer exist (i.e., the stack frame is destroyed)\n",
    "* _Where should we store a value that should exist even after a function returns?_ — on the heap\n",
    "* Need to store a thread's return value on the heap\n",
    "* Thread returns a pointer to the value on the heap\n",
    "* Example"
   ]
  },
  {
   "cell_type": "code",
   "execution_count": 20,
   "id": "5d720362-7fea-42c1-99e4-303a7a2f0036",
   "metadata": {
    "tags": [
     "worksheet-code-only"
    ]
   },
   "outputs": [
    {
     "name": "stdout",
     "output_type": "stream",
     "text": [
      "Length: 15\n"
     ]
    }
   ],
   "source": [
    "/* 1*/  #include <stdio.h>\n",
    "/* 2*/  #include <stdlib.h>\n",
    "/* 3*/  #include <string.h>\n",
    "/* 4*/  #include <pthread.h>\n",
    "/* 5*/  void *length(void *arg) {\n",
    "/* 6*/      char *str = (char *)arg;\n",
    "/* 7*/      int *len = malloc(sizeof(int));\n",
    "/* 8*/      *len = strlen(str);\n",
    "/* 9*/      return len;\n",
    "/*10*/  }\n",
    "/*11*/  int main() {\n",
    "/*12*/      pthread_t thread;\n",
    "/*13*/      char *phrase = \"Hello, threads!\";\n",
    "/*14*/      pthread_create(&thread, NULL, &length, phrase);\n",
    "/*15*/      int *result = NULL;\n",
    "/*16*/      pthread_join(thread, (void **)&result);\n",
    "/*17*/      printf(\"Length: %d\\n\", *result);\n",
    "/*18*/      free(result);\n",
    "/*19*/  }"
   ]
  },
  {
   "cell_type": "markdown",
   "id": "83f6c598-17f2-48c5-b2f0-10dafc624041",
   "metadata": {
    "slideshow": {
     "slide_type": "skip"
    },
    "tags": [
     "notes-only"
    ]
   },
   "source": [
    "* `pthread_join` returns `0` if successful, or an error number\n",
    "* To get the pointer returned by the thread, we need to pass a location where the pointer can be stored — i.e., we need to pass a double pointer"
   ]
  },
  {
   "cell_type": "markdown",
   "id": "0fe2305a-538a-4301-a361-7b1f08713456",
   "metadata": {
    "slideshow": {
     "slide_type": "skip"
    },
    "tags": [
     "worksheet-only"
    ]
   },
   "source": [
    "<div style=\"page-break-after:always;\"></div>"
   ]
  },
  {
   "cell_type": "markdown",
   "id": "056a93f5-0d98-41e9-a21f-edeb65a4446b",
   "metadata": {
    "slideshow": {
     "slide_type": "slide"
    },
    "tags": []
   },
   "source": [
    "## Practice writing multi-threaded programs"
   ]
  },
  {
   "cell_type": "markdown",
   "id": "0c1ca21a-20d6-4f16-8e1e-24c45cffbf33",
   "metadata": {},
   "source": [
    "* Q3: _Write a function called `sum_array` which takes an array of `ARRAY_LEN` integers and returns the sum of the integers. Your function should have the appropriate prototype/implementation to serve as the entry point for a thread. Assume `ARRAY_LEN` is a constant which has been `#define`d._"
   ]
  },
  {
   "cell_type": "markdown",
   "id": "987317e2-cbc7-4fdd-87c8-8a01ec431c1f",
   "metadata": {
    "slideshow": {
     "slide_type": "skip"
    },
    "tags": [
     "worksheet-only"
    ]
   },
   "source": [
    "<p style=\"height:20em;\"></p>"
   ]
  },
  {
   "cell_type": "markdown",
   "id": "5d56f4fa-db2f-4f75-8e17-a75a17663ac0",
   "metadata": {},
   "source": [
    "* Q4: _Write a function called `sum_matrix` which takes an array of `NUM_ARRAYS` arrays of integers (i.e., an `int **`) and returns the sum of all the integers. The function should create `NUM_ARRAYS` threads, each running the `sum_array` function for a single array of integers. Assume `NUM_ARRAYS` is a constant which has been `#define`d._"
   ]
  },
  {
   "cell_type": "code",
   "execution_count": 2,
   "id": "fcc2c6b2-1956-49c2-94ba-9ddb7336ea79",
   "metadata": {
    "slideshow": {
     "slide_type": "skip"
    },
    "tags": [
     "notes-only"
    ]
   },
   "outputs": [
    {
     "name": "stdout",
     "output_type": "stream",
     "text": [
      "10225\n"
     ]
    }
   ],
   "source": [
    "#include <pthread.h>\n",
    "#include <stdio.h>\n",
    "#include <stdlib.h>\n",
    "\n",
    "#define ARRAY_LEN 10\n",
    "#define NUM_ARRAYS 5\n",
    "\n",
    "void *sum_array(void *args) {\n",
    "    int *nums = (int *)args;\n",
    "    int *sum = malloc(sizeof(int));\n",
    "    *sum = 0;\n",
    "    for (int i = 0; i < ARRAY_LEN; i++) {\n",
    "        *sum += nums[i];\n",
    "    }\n",
    "    return sum;\n",
    "}\n",
    "\n",
    "int sum_matrix(int *matrix[]) {\n",
    "    pthread_t threads[NUM_ARRAYS];\n",
    "    for (int i = 0; i < NUM_ARRAYS; i++) {\n",
    "        pthread_create(&(threads[i]), NULL, &sum_array, matrix[i]);\n",
    "    }\n",
    "\n",
    "    int total = 0;\n",
    "    for (int i = 0; i < NUM_ARRAYS; i++) {\n",
    "        int *sum;\n",
    "        pthread_join(threads[i], (void **)(&sum));\n",
    "        total += *sum;\n",
    "        free(sum);\n",
    "    }\n",
    "\n",
    "    return total;\n",
    "}\n",
    "\n",
    "int main() {\n",
    "    int *matrix[NUM_ARRAYS];\n",
    "    for (int i = 0; i < NUM_ARRAYS; i++) {\n",
    "        matrix[i] = malloc(sizeof(int) * ARRAY_LEN);\n",
    "        for (int j = 0; j < ARRAY_LEN; j++) {\n",
    "            matrix[i][j] = i * 100 + j;\n",
    "        }\n",
    "    }\n",
    "\n",
    "    int sum = sum_matrix(matrix);\n",
    "    printf(\"%d\\n\", sum);\n",
    "}"
   ]
  }
 ],
 "metadata": {
  "kernelspec": {
   "display_name": "C",
   "language": "c",
   "name": "c"
  },
  "language_info": {
   "file_extension": ".c",
   "mimetype": "c",
   "name": "c"
  }
 },
 "nbformat": 4,
 "nbformat_minor": 5
}
