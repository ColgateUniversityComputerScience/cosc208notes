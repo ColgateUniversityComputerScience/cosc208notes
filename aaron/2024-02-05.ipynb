{
 "cells": [
  {
   "cell_type": "markdown",
   "id": "7f1ef6ff-3d55-41d4-a087-f6ad0221f41a",
   "metadata": {
    "slideshow": {
     "slide_type": "skip"
    },
    "tags": []
   },
   "source": [
    "# Number representation: signed integers; type conversion; binary arithmetic\n",
    "_COSC 208, Introduction to Computer Systems, 2024-02-05_"
   ]
  },
  {
   "cell_type": "markdown",
   "id": "c39c0ff4-433c-45ab-abd3-3547ed1fc965",
   "metadata": {
    "jp-MarkdownHeadingCollapsed": true,
    "slideshow": {
     "slide_type": "skip"
    },
    "tags": []
   },
   "source": [
    "## Outline\n",
    "* Warm-up\n",
    "* Signed integers\n",
    "* Type conversion\n",
    "* Binary arithmetic"
   ]
  },
  {
   "cell_type": "markdown",
   "id": "478faaec-989c-4e31-b5ab-7ceae7db2fae",
   "metadata": {
    "tags": []
   },
   "source": [
    "## Warm-up"
   ]
  },
  {
   "cell_type": "markdown",
   "id": "83907771-4db4-4ef9-81da-c8d221a823d0",
   "metadata": {
    "tags": []
   },
   "source": [
    "* Q1: Convert `0b101011110011` to hexadecimal"
   ]
  },
  {
   "cell_type": "markdown",
   "id": "71465fae-23ff-4285-a658-f410301a43d5",
   "metadata": {
    "slideshow": {
     "slide_type": "skip"
    },
    "tags": [
     "notes-only"
    ]
   },
   "source": [
    "    0xAF3"
   ]
  },
  {
   "cell_type": "markdown",
   "id": "9ddc9d91-378c-427a-a620-e65f5e509884",
   "metadata": {
    "slideshow": {
     "slide_type": "skip"
    },
    "tags": [
     "worksheet-only"
    ]
   },
   "source": [
    "<p style=\"height:6em;\"></p>"
   ]
  },
  {
   "cell_type": "markdown",
   "id": "029caca6-f9e5-4040-8482-0d82155f516b",
   "metadata": {
    "tags": []
   },
   "source": [
    "* Q2: Convert `0x9C5` to binary"
   ]
  },
  {
   "cell_type": "markdown",
   "id": "7cdbd86c-3196-4d7d-9902-9f262bdf11fb",
   "metadata": {
    "slideshow": {
     "slide_type": "skip"
    },
    "tags": [
     "notes-only"
    ]
   },
   "source": [
    "    0b100111000101"
   ]
  },
  {
   "cell_type": "markdown",
   "id": "42e61b2c-c129-4cfe-b9d7-2bd1f260c37f",
   "metadata": {
    "slideshow": {
     "slide_type": "skip"
    },
    "tags": [
     "worksheet-only"
    ]
   },
   "source": [
    "<p style=\"height:6em;\"></p>"
   ]
  },
  {
   "cell_type": "markdown",
   "id": "92361b0e-713f-4ec6-8e26-635b6dd81a5d",
   "metadata": {
    "tags": []
   },
   "source": [
    "* Q3: Convert `75` to binary"
   ]
  },
  {
   "cell_type": "markdown",
   "id": "7a5d18c7-d089-413e-8b8d-333f2b7df365",
   "metadata": {
    "slideshow": {
     "slide_type": "skip"
    },
    "tags": [
     "notes-only"
    ]
   },
   "source": [
    "    0b1001011"
   ]
  },
  {
   "cell_type": "markdown",
   "id": "1a625345-ca2e-4d89-a611-13f6f5c562de",
   "metadata": {
    "slideshow": {
     "slide_type": "skip"
    },
    "tags": [
     "worksheet-only"
    ]
   },
   "source": [
    "<p style=\"height:8em;\"></p>\n",
    "\n",
    "🛑 **STOP here** after completing the above questions; if you have extra time please **skip ahead** to the extra practice."
   ]
  },
  {
   "cell_type": "markdown",
   "id": "9aa343c3-b5ac-4385-ae24-02ba1db51f89",
   "metadata": {
    "slideshow": {
     "slide_type": "slide"
    },
    "tags": []
   },
   "source": [
    "## Signed integers"
   ]
  },
  {
   "cell_type": "markdown",
   "id": "c47054c9-e19a-487a-9c66-04968243e193",
   "metadata": {
    "slideshow": {
     "slide_type": "skip"
    },
    "tags": [
     "notes-only"
    ]
   },
   "source": [
    "* _How can we distinguish between positive values, zero, and negative values?_\n",
    "* Use a bit to encode the sign — called signed magnitude\n",
    "    * _What is an advantage of signed magnitude?_ – easy to convert between negative and positive values\n",
    "    * _What is a disadvantage of signed magnitude?_ – positive zero and negative zero\n",
    "* Have the highest order bit contribute a negative value to the sum — called two's complement\n",
    "    * Example unsigned conversion: `0b0101`\n",
    "        * 0 * 2^3 + 1 * 2^2 + 0 * 2^1 + 1 * 2^0 = 4 + 1 = 5\n",
    "    * Example signed conversion: `0b0101`\n",
    "        * 0 * -2^3 + 1 * 2^2 + 0 * 2^1 + 1 * 2^0 = 4 + 1 = 5\n",
    "    * Another example signed conversion: `0b1011`\n",
    "        * 1 * -2^3 + 0 * 2^2 + 1 * 2^1 + 1 * 2^0 = -8 + 2 + 3 = -5\n",
    "    * _How many values can be represented using 4 bits?_ — 2^4 = 16\n",
    "        * One of these values is zero (`0b0000`)\n",
    "        * _How many positive values an be represented using 4 bits?_ 2^4 / 2 - 1 = 7\n",
    "        * _How many negative values can be represented using 4 bits?_ 2^4 / 2 = 8"
   ]
  },
  {
   "cell_type": "markdown",
   "id": "afbaa29e-bd9b-47f7-9a36-263e7712fd1f",
   "metadata": {
    "tags": []
   },
   "source": [
    "_Express the following decimal numbers using 8-bit two's complement:_\n",
    "* Q4: `13`"
   ]
  },
  {
   "cell_type": "markdown",
   "id": "c6955ba0-8691-4b04-8c37-3591750d3c67",
   "metadata": {
    "slideshow": {
     "slide_type": "skip"
    },
    "tags": [
     "notes-only"
    ]
   },
   "source": [
    "    0b00001101"
   ]
  },
  {
   "cell_type": "markdown",
   "id": "a6a8a0e6-7e95-411b-90b4-573175b87b1c",
   "metadata": {
    "slideshow": {
     "slide_type": "skip"
    },
    "tags": [
     "worksheet-only"
    ]
   },
   "source": [
    "<p style=\"height:10em;\"></p>"
   ]
  },
  {
   "cell_type": "markdown",
   "id": "b6811fd7-9b03-4ad6-9f7f-92abcf401df9",
   "metadata": {
    "tags": []
   },
   "source": [
    "* Q5: `-128`"
   ]
  },
  {
   "cell_type": "markdown",
   "id": "d74573a9-a967-4036-a881-d4019e9d6ccd",
   "metadata": {
    "slideshow": {
     "slide_type": "skip"
    },
    "tags": [
     "notes-only"
    ]
   },
   "source": [
    "    0b10000000"
   ]
  },
  {
   "cell_type": "markdown",
   "id": "b152b088-a724-4771-be83-8f455471a557",
   "metadata": {
    "slideshow": {
     "slide_type": "skip"
    },
    "tags": [
     "worksheet-only"
    ]
   },
   "source": [
    "<p style=\"height:12em;\"></p>"
   ]
  },
  {
   "cell_type": "markdown",
   "id": "f19994b7-fbfc-46f5-a230-33896b7d202a",
   "metadata": {
    "tags": []
   },
   "source": [
    "* Q6: `-64`"
   ]
  },
  {
   "cell_type": "markdown",
   "id": "b65f9ec0-a88a-4eaf-b350-e3e692167477",
   "metadata": {
    "slideshow": {
     "slide_type": "skip"
    },
    "tags": [
     "notes-only"
    ]
   },
   "source": [
    "    0b11000000"
   ]
  },
  {
   "cell_type": "markdown",
   "id": "935aa75f-6f5f-4ef7-945d-f723496b0547",
   "metadata": {
    "slideshow": {
     "slide_type": "skip"
    },
    "tags": [
     "worksheet-only"
    ]
   },
   "source": [
    "<p style=\"height:10em;\"></p>"
   ]
  },
  {
   "cell_type": "markdown",
   "id": "340239c2-6c87-4485-aebb-be4a9a0a20c3",
   "metadata": {
    "tags": []
   },
   "source": [
    "* Q7: `-1`"
   ]
  },
  {
   "cell_type": "markdown",
   "id": "7afa1101-b6a1-454b-ba87-09f759e816e8",
   "metadata": {
    "slideshow": {
     "slide_type": "skip"
    },
    "tags": [
     "notes-only"
    ]
   },
   "source": [
    "    0b11111111"
   ]
  },
  {
   "cell_type": "markdown",
   "id": "48defbc8-3dee-497e-839e-ae3b6a86f342",
   "metadata": {
    "slideshow": {
     "slide_type": "skip"
    },
    "tags": [
     "worksheet-only"
    ]
   },
   "source": [
    "<p style=\"height:10em;\"></p>\n",
    "\n",
    "🛑 **STOP here** after completing the above questions; if you have extra time please **skip ahead** to the extra practice."
   ]
  },
  {
   "cell_type": "markdown",
   "id": "f05ea6ff-cb58-493e-a0c2-4fa5cb01cb8b",
   "metadata": {
    "slideshow": {
     "slide_type": "skip"
    },
    "tags": [
     "notes-only"
    ]
   },
   "source": [
    "* _What is the easy way to negate a number?_\n",
    "    * Flip all bits and add 1\n",
    "    * Example: \n",
    "        * 11 = `0b00001011`\n",
    "        * Flip bits: `0b11110100`\n",
    "        * Add 1: `0b11110101`"
   ]
  },
  {
   "cell_type": "markdown",
   "id": "6b2d45e2-72ce-4220-b235-8f48ff08d9b5",
   "metadata": {
    "slideshow": {
     "slide_type": "slide"
    },
    "tags": []
   },
   "source": [
    "## Type conversion"
   ]
  },
  {
   "cell_type": "markdown",
   "id": "3c8cdbe9-b02d-48d9-8646-4e0e3ff9fa1e",
   "metadata": {
    "slideshow": {
     "slide_type": "skip"
    },
    "tags": [
     "notes-only"
    ]
   },
   "source": [
    "* Format specifiers for printing decimal numbers indicate whether to interpret the number as signed or unsigned – e.g.,"
   ]
  },
  {
   "cell_type": "code",
   "execution_count": 1,
   "id": "fc8fe166-e15a-4a91-a9fe-58297baea8b0",
   "metadata": {
    "tags": [
     "worksheet-code-only"
    ]
   },
   "outputs": [
    {
     "name": "stdout",
     "output_type": "stream",
     "text": [
      "-123456 4294843840\n"
     ]
    }
   ],
   "source": [
    "// Example 1\n",
    "#include <stdio.h>\n",
    "int main() {\n",
    "    int x = -123456;\n",
    "    printf(\"%d %u\\n\", x, x);\n",
    "}"
   ]
  },
  {
   "cell_type": "markdown",
   "id": "69661ad4-375b-4513-97dc-addefc7d4038",
   "metadata": {
    "slideshow": {
     "slide_type": "skip"
    },
    "tags": [
     "notes-only"
    ]
   },
   "source": [
    "* Range of numbers each type can accommodate depends on the number of bits of memory reserved for a variable of that type\n",
    "    * `char` - 8 bits --> 0 to 255 (unsigned) or -128 to 127 (signed)\n",
    "    * `int` – 32 bits --> 0 to ~4.2 billion (unsigned) or ~-2.1 billion to ~2.1 billion (signed)\n",
    "    * `long` – 64 bits --> 0 to ~18 quadrillion (unsigned) or ~-9 quadrillion to 9 quadrillion (signed)\n",
    "* _What happens if you attempt to assign a constant value that is too large to represent using the number of available bits?_ – e.g.,"
   ]
  },
  {
   "cell_type": "code",
   "execution_count": 4,
   "id": "e839d74d-b5b9-496b-a274-752d700c913e",
   "metadata": {
    "slideshow": {
     "slide_type": "subslide"
    },
    "tags": [
     "worksheet-code-only"
    ]
   },
   "outputs": [
    {
     "name": "stderr",
     "output_type": "stream",
     "text": [
      "/var/folders/bd/35sz70xs5837wszrx11bw1yc0000gn/T/tmph0fix2tx.c:3:23: warning: implicit conversion from 'int' to 'unsigned char' changes value from 300 to 44 [-Wconstant-conversion]\n",
      "    unsigned char c = 300;\n",
      "                  ~   ^~~\n",
      "1 warning generated.\n"
     ]
    },
    {
     "name": "stdout",
     "output_type": "stream",
     "text": [
      "44\n"
     ]
    }
   ],
   "source": [
    "// Example 2\n",
    "#include <stdio.h>\n",
    "int main() {\n",
    "    unsigned char c = 300;\n",
    "    printf(\"%u\\n\", c);\n",
    "}"
   ]
  },
  {
   "cell_type": "markdown",
   "id": "6ee0aa4c-aa72-44fc-8d40-0e9084ad1afb",
   "metadata": {
    "slideshow": {
     "slide_type": "skip"
    },
    "tags": [
     "notes-only"
    ]
   },
   "source": [
    "* However, if you assign a variable whose value is too large to represent using the number of available bits, then the value is truncated but **no warning is generated** – e.g.,"
   ]
  },
  {
   "cell_type": "code",
   "execution_count": 5,
   "id": "9d6c3713-a465-4c70-9b30-ee4db1a0e030",
   "metadata": {
    "slideshow": {
     "slide_type": "subslide"
    },
    "tags": [
     "worksheet-code-only"
    ]
   },
   "outputs": [
    {
     "name": "stdout",
     "output_type": "stream",
     "text": [
      "44\n"
     ]
    }
   ],
   "source": [
    "// Example 3\n",
    "#include <stdio.h>\n",
    "int main() {\n",
    "    unsigned int i = 300;\n",
    "    unsigned char c = i;\n",
    "    printf(\"%u\\n\", c);\n",
    "}"
   ]
  },
  {
   "cell_type": "markdown",
   "id": "f2548a19-8c2d-48cb-9007-c16f0b7c138e",
   "metadata": {
    "slideshow": {
     "slide_type": "skip"
    },
    "tags": [
     "notes-only"
    ]
   },
   "source": [
    "* Takeaway: carefully consider the range of values a variable can accommodate, because C will let you do things that are dangerous"
   ]
  },
  {
   "cell_type": "markdown",
   "id": "27e378ce-55f5-4da4-9200-17dd64becd22",
   "metadata": {
    "slideshow": {
     "slide_type": "skip"
    },
    "tags": [
     "notes-only"
    ]
   },
   "source": [
    "## Binary arithmetic"
   ]
  },
  {
   "cell_type": "markdown",
   "id": "a4f0334c-3fbc-4753-b4b0-e834c5b6cfa5",
   "metadata": {
    "slideshow": {
     "slide_type": "skip"
    },
    "tags": [
     "notes-only"
    ]
   },
   "source": [
    "* Addition: same as decimal, except you carry a one instead of a ten\n",
    "* Example: 5 + 5\n",
    "\n",
    "```\n",
    "  0b0101\n",
    "+ 0b0101\n",
    "--------\n",
    "\n",
    "      1\n",
    "  0b0101\n",
    "+ 0b0101\n",
    "--------\n",
    "       0\n",
    "\n",
    "     01\n",
    "  0b0101\n",
    "+ 0b0101\n",
    "--------\n",
    "      10\n",
    "\n",
    "    101\n",
    "  0b0101\n",
    "+ 0b0101\n",
    "--------\n",
    "     010\n",
    "\n",
    "    101\n",
    "  0b0101\n",
    "+ 0b0101\n",
    "--------\n",
    "  0b1010\n",
    "```\n",
    "\n",
    "* Check our work:\n",
    "\n",
    "```\n",
    "1 * 2^3 + 0 * 2^2 + 1 * 2^1 + 0 * 2^0 = 8 + 2 = 10 = 5+5\n",
    "```\n",
    "\n",
    "* Another example: 5 + -5\n",
    "\n",
    "```\n",
    "  0b0101\n",
    "+ 0b1011\n",
    "--------\n",
    "\n",
    "      1\n",
    "  0b0101\n",
    "+ 0b1011\n",
    "--------\n",
    "       0\n",
    "\n",
    "     11\n",
    "  0b0101\n",
    "+ 0b1011\n",
    "--------\n",
    "      00\n",
    "\n",
    "    111\n",
    "  0b0101\n",
    "+ 0b1011\n",
    "--------\n",
    "     000\n",
    "\n",
    "    111\n",
    "  0b0101\n",
    "+ 0b1011\n",
    "--------\n",
    "    0000\n",
    "(Carry-out => 1)\n",
    "```\n",
    "\n",
    "* Subtraction: add the negation"
   ]
  },
  {
   "cell_type": "markdown",
   "id": "067303ed-878f-4046-9ece-0549a3797e5e",
   "metadata": {
    "slideshow": {
     "slide_type": "skip"
    },
    "tags": [
     "worksheet-only"
    ]
   },
   "source": [
    "<div style=\"page-break-after:always\"></div>"
   ]
  },
  {
   "cell_type": "markdown",
   "id": "7d0ad399-063a-46b0-b6e8-4e0451d3d121",
   "metadata": {
    "slideshow": {
     "slide_type": "slide"
    },
    "tags": []
   },
   "source": [
    "## Extra practice"
   ]
  },
  {
   "cell_type": "markdown",
   "id": "f9e4ce32-e1b0-4478-a3d7-cc9bd91d8bdc",
   "metadata": {
    "tags": []
   },
   "source": [
    "* Q8: _Write a function called `valid_hex` that takes a string and returns 1 if it is a valid hexadecimal number; otherwise return 0. A valid hexadecimal number must start with `0x` and only contain the digits `0`-`9` and letters `A`-`F` (in upper or lower case)._"
   ]
  },
  {
   "cell_type": "code",
   "execution_count": 9,
   "id": "2032eaa5-25b8-4f29-bff9-7743386d608f",
   "metadata": {
    "slideshow": {
     "slide_type": "skip"
    },
    "tags": [
     "notes-only"
    ]
   },
   "outputs": [],
   "source": [
    "#include <string.h>\n",
    "int valid_hex(char str[]) {\n",
    "    if (str[0] != '0' || str[1] != 'x') {\n",
    "        return 0;\n",
    "    }\n",
    "    for (int i = 2; i < strlen(str); i++) {\n",
    "        if (!((str[i] >= '0' && str[i] <= '9') \n",
    "            || (str[i] >= 'A' && str[i] <= 'F') \n",
    "            || (str[i] >= 'a' && str[i] <= 'f'))) {\n",
    "            return 0;\n",
    "        }\n",
    "    }\n",
    "    return 1;\n",
    "}\n",
    "// Testing\n",
    "#include <assert.h>\n",
    "int main() {\n",
    "    assert(valid_hex(\"0x12AB34\"));\n",
    "    assert(!valid_hex(\"12AB34\"));\n",
    "    assert(!valid_hex(\"0x12HI34\"));\n",
    "}"
   ]
  },
  {
   "cell_type": "markdown",
   "id": "0107a9a2-32ae-496b-9d75-00b86626bc78",
   "metadata": {
    "slideshow": {
     "slide_type": "skip"
    },
    "tags": [
     "worksheet-only"
    ]
   },
   "source": [
    "<p style=\"height:20em;\"></p>"
   ]
  },
  {
   "cell_type": "markdown",
   "id": "5c616d2e-611a-491d-9da3-3b39b8dfb6b7",
   "metadata": {
    "slideshow": {
     "slide_type": "slide"
    },
    "tags": []
   },
   "source": [
    "_Express the following decimal numbers using 8-bit two's complement:_\n",
    "* Q9: `-49`"
   ]
  },
  {
   "cell_type": "markdown",
   "id": "4290317c-b315-4069-89b2-f49545ed011b",
   "metadata": {
    "slideshow": {
     "slide_type": "skip"
    },
    "tags": [
     "notes-only"
    ]
   },
   "source": [
    "    0b11001111"
   ]
  },
  {
   "cell_type": "markdown",
   "id": "2f89d613-64bb-4000-a57e-96072fc42c0f",
   "metadata": {
    "slideshow": {
     "slide_type": "skip"
    },
    "tags": [
     "worksheet-only"
    ]
   },
   "source": [
    "<p style=\"height:5em;\"></p>"
   ]
  },
  {
   "cell_type": "markdown",
   "id": "9912261c-b97d-490d-8a25-42c23a77b2d7",
   "metadata": {
    "jp-MarkdownHeadingCollapsed": true,
    "tags": []
   },
   "source": [
    "* Q10: `-11`"
   ]
  },
  {
   "cell_type": "markdown",
   "id": "04bc736b-417b-4abf-b634-a32ad9901983",
   "metadata": {
    "slideshow": {
     "slide_type": "skip"
    },
    "tags": [
     "notes-only"
    ]
   },
   "source": [
    "    0b11110101"
   ]
  },
  {
   "cell_type": "markdown",
   "id": "e6896632-dab4-4e46-bcd9-e0c2f837eba0",
   "metadata": {
    "slideshow": {
     "slide_type": "skip"
    },
    "tags": [
     "worksheet-only"
    ]
   },
   "source": [
    "<p style=\"height:5em;\"></p>"
   ]
  },
  {
   "cell_type": "markdown",
   "id": "e36a964e-3628-421a-a8a6-4751433db6ca",
   "metadata": {
    "slideshow": {
     "slide_type": "subslide"
    },
    "tags": []
   },
   "source": [
    "* Q11: _Write a function called `bits_required` that takes an `unsigned long` decimal (i.e., base 10) number and returns the minimum number of bits required to represent the number._"
   ]
  },
  {
   "cell_type": "code",
   "execution_count": 11,
   "id": "76b19e6d-fdef-418d-95fc-01ba4f274188",
   "metadata": {
    "slideshow": {
     "slide_type": "skip"
    },
    "tags": [
     "notes-only"
    ]
   },
   "outputs": [],
   "source": [
    "int bits_required(unsigned long number) {\n",
    "    int bits = 0;\n",
    "    while (number > 0) {\n",
    "        bits++;\n",
    "        number = number / 2;\n",
    "    }\n",
    "    return bits;\n",
    "}\n",
    "// Testing\n",
    "#include <assert.h>\n",
    "int main() {\n",
    "    assert(bits_required(1) == 1);\n",
    "    assert(bits_required(2) == 2);\n",
    "    assert(bits_required(3) == 2);\n",
    "    assert(bits_required(10) == 4);\n",
    "}"
   ]
  },
  {
   "cell_type": "markdown",
   "id": "8a48c9d9-0c85-4378-84dd-f56ce43be828",
   "metadata": {
    "slideshow": {
     "slide_type": "skip"
    },
    "tags": [
     "worksheet-only"
    ]
   },
   "source": [
    "<p style=\"page-break-after:always;\"></p>"
   ]
  },
  {
   "cell_type": "markdown",
   "id": "69d962f5-a5f2-4b6a-9bd7-36d9869ee724",
   "metadata": {
    "slideshow": {
     "slide_type": "subslide"
    },
    "tags": []
   },
   "source": [
    "* Q12: _Convert `0xFAB` to binary._"
   ]
  },
  {
   "cell_type": "markdown",
   "id": "472e4a07-e735-4def-ab6c-d9f7b7c9da03",
   "metadata": {
    "slideshow": {
     "slide_type": "skip"
    },
    "tags": [
     "notes-only"
    ]
   },
   "source": [
    "    0b111110101011"
   ]
  },
  {
   "cell_type": "markdown",
   "id": "64ae424d-430a-4b7c-99d2-b4636a721435",
   "metadata": {
    "slideshow": {
     "slide_type": "skip"
    },
    "tags": [
     "worksheet-only"
    ]
   },
   "source": [
    "<p style=\"height:6em;\"></p>"
   ]
  },
  {
   "cell_type": "markdown",
   "id": "bfccd889-8812-4c97-84ca-deded94c73f4",
   "metadata": {},
   "source": [
    "* Q13: _Convert `512` to unsigned binary._"
   ]
  },
  {
   "cell_type": "markdown",
   "id": "210e51ed-c51e-45bb-ad03-6a3457e9c40f",
   "metadata": {
    "slideshow": {
     "slide_type": "skip"
    },
    "tags": [
     "notes-only"
    ]
   },
   "source": [
    "    0b1000000000"
   ]
  },
  {
   "cell_type": "markdown",
   "id": "6fc2f025-b168-4e3a-b7c1-f4e3d5c71090",
   "metadata": {
    "slideshow": {
     "slide_type": "skip"
    },
    "tags": [
     "worksheet-only"
    ]
   },
   "source": [
    "<p style=\"height:6em;\"></p>"
   ]
  },
  {
   "cell_type": "markdown",
   "id": "57fd1608-a72a-4e1b-a895-dc7df3e1bcd3",
   "metadata": {},
   "source": [
    "* Q14: _Convert `-42` to 8-bit signed binary._"
   ]
  },
  {
   "cell_type": "markdown",
   "id": "48403128-c396-4404-8f4a-9f520a3d4e17",
   "metadata": {
    "slideshow": {
     "slide_type": "skip"
    },
    "tags": [
     "notes-only"
    ]
   },
   "source": [
    "    0b11010110"
   ]
  }
 ],
 "metadata": {
  "kernelspec": {
   "display_name": "C",
   "language": "c",
   "name": "c"
  },
  "language_info": {
   "file_extension": ".c",
   "mimetype": "c",
   "name": "c"
  }
 },
 "nbformat": 4,
 "nbformat_minor": 5
}
