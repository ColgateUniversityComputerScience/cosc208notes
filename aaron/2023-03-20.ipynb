{
 "cells": [
  {
   "cell_type": "markdown",
   "id": "39d76db8-edb9-47d5-bec8-7998805660b3",
   "metadata": {
    "slideshow": {
     "slide_type": "skip"
    },
    "tags": []
   },
   "source": [
    "# Assembly: instruction formats; mapping assembly code to C code\n",
    "_COSC 208, Introduction to Computer Systems, 2023-03-20_"
   ]
  },
  {
   "cell_type": "markdown",
   "id": "37653a99-1c8a-47ac-b68c-6e7336bb8328",
   "metadata": {
    "slideshow": {
     "slide_type": "skip"
    },
    "tags": []
   },
   "source": [
    "## Announcements\n",
    "* Project 3 due Thursday @ 11pm"
   ]
  },
  {
   "cell_type": "markdown",
   "id": "f17866fc-fc93-480c-a9a5-d903a0657063",
   "metadata": {
    "slideshow": {
     "slide_type": "skip"
    },
    "tags": []
   },
   "source": [
    "## Outline\n",
    "* Mid-semester course evaluation\n",
    "* Warm-up\n",
    "* Assembly\n",
    "* Operands\n",
    "* Mapping assembly code to C code"
   ]
  },
  {
   "cell_type": "markdown",
   "id": "7b342ae4-ce85-48d5-b03a-faa360433d5b",
   "metadata": {},
   "source": [
    "## Mid-semester Course Evaluation (separate sheet)\n",
    "Your feedback on this course is important for helping Aaron improve the learning environment. Thank you for your thoughtful, anonymous responses."
   ]
  },
  {
   "cell_type": "markdown",
   "id": "e663073f-3384-4891-978a-b8c31d0a6263",
   "metadata": {
    "slideshow": {
     "slide_type": "slide"
    },
    "tags": []
   },
   "source": [
    "## Warm-up"
   ]
  },
  {
   "cell_type": "markdown",
   "id": "841f6f3e-e954-45fa-84fe-951093ec6c77",
   "metadata": {},
   "source": [
    "Q1: _Where are multiplexers used in a processing unit?_"
   ]
  },
  {
   "cell_type": "markdown",
   "id": "79cb1a76-9b43-4917-9a96-909126fc0a17",
   "metadata": {
    "slideshow": {
     "slide_type": "skip"
    },
    "tags": [
     "notes-only"
    ]
   },
   "source": [
    "* To select which registers' values are input to the arithmetic logic unit (ALU)\n",
    "* To select which operation's result is output by the ALU\n",
    "* A demultiplexer is used to select which register the result is stored in"
   ]
  },
  {
   "cell_type": "markdown",
   "id": "294e188d-21f2-486b-9bdb-84ea6ea5fa7a",
   "metadata": {
    "slideshow": {
     "slide_type": "skip"
    },
    "tags": [
     "worksheet-only"
    ]
   },
   "source": [
    "<p style=\"height:8em;\"></p>"
   ]
  },
  {
   "cell_type": "markdown",
   "id": "c71569cc-92ae-481f-b239-da00270df6bd",
   "metadata": {},
   "source": [
    "Q2: _How do multiplexers relate to assembly instructions?_"
   ]
  },
  {
   "cell_type": "markdown",
   "id": "797ee804-3354-48f2-a295-fd7d0086ae4c",
   "metadata": {
    "slideshow": {
     "slide_type": "skip"
    },
    "tags": [
     "notes-only"
    ]
   },
   "source": [
    "* Some bits determine the operation – used as select bits for the multiplexer between the arithmetic and logic circuits and the ALU's output\n",
    "* Some bits determine the first source register and other bits determine the second source register – used as select bits for the multiplexers between the register file's outputs and ALU's inputs\n",
    "* Some bits determine the destination register – used as select bits for the demultiplexer between the ALU's output and register file's input"
   ]
  },
  {
   "cell_type": "markdown",
   "id": "54035356-a49f-4c50-a205-d37070b82906",
   "metadata": {
    "slideshow": {
     "slide_type": "skip"
    },
    "tags": [
     "worksheet-only"
    ]
   },
   "source": [
    "<p style=\"height:8em;\"></p>\n",
    "\n",
    "🛑 **STOP here** after completing the above questions; if you have extra time please **skip ahead** to the extra practice.\n",
    "\n",
    "<div style=\"page-break-after:always;\"></div>"
   ]
  },
  {
   "cell_type": "markdown",
   "id": "a31d5fc4-f918-40bf-9381-d502cf27c36c",
   "metadata": {
    "slideshow": {
     "slide_type": "slide"
    },
    "tags": []
   },
   "source": [
    "## Assembly"
   ]
  },
  {
   "cell_type": "markdown",
   "id": "050d7b45-5461-479b-908a-20b1211ed04a",
   "metadata": {
    "slideshow": {
     "slide_type": "skip"
    },
    "tags": [
     "notes-only"
    ]
   },
   "source": [
    "* Instruction set architectures (ISAs) — defines the low-level instructions a central processing unit (CPU), or processor, can execute\n",
    "    * Most popular Complex Instruction Set Computer (CISC) architecture: x86 (includes IA32 and x86-64)\n",
    "    * Most popular Reduced Instruction Set Computer (RISC) architecture: ARM\n",
    "    * Other common RISC architectures: SPARC (Scalable Processor Architecture), MIPS (Microprocessor without Interlocked Pipelined Stages), PowerPC, ARC (Argonaut RISC Core)"
   ]
  },
  {
   "cell_type": "markdown",
   "id": "9990acae-afca-4ab9-802c-ec3481333546",
   "metadata": {},
   "source": [
    "* Example program (`seasons.c`)"
   ]
  },
  {
   "cell_type": "code",
   "execution_count": 1,
   "id": "ba449c04-69ed-4130-82e9-a41c25515742",
   "metadata": {
    "tags": [
     "worksheet-code-only"
    ]
   },
   "outputs": [
    {
     "name": "stdout",
     "output_type": "stream",
     "text": [
      "525600 minutes\n",
      "525000 moments so dear\n",
      "525600 minutes\n",
      "How do you measure? Measure a year?\n"
     ]
    }
   ],
   "source": [
    "/* 1*/   #include <stdio.h>\n",
    "/* 2*/   int seasons_of_love() {\n",
    "/* 3*/       int dpy = 365;\n",
    "/* 4*/       int hpd = 24;\n",
    "/* 5*/       int mph = 60;\n",
    "/* 6*/       int h = dpy * hpd;\n",
    "/* 7*/       int m = h * mph;\n",
    "/* 8*/       return m;\n",
    "/* 9*/   }\n",
    "/*10*/  int main() {\n",
    "/*11*/      int minutes = seasons_of_love();\n",
    "/*12*/      printf(\"%d minutes\\n\", minutes);\n",
    "/*13*/      printf(\"%d moments so dear\\n\", minutes - 600);\n",
    "/*14*/      printf(\"%d minutes\\n\", minutes);\n",
    "/*15*/      printf(\"How do you measure? Measure a year?\\n\");\n",
    "/*16*/  }"
   ]
  },
  {
   "cell_type": "markdown",
   "id": "dbd244b0-c616-4210-a836-746c11fa7b6e",
   "metadata": {
    "slideshow": {
     "slide_type": "skip"
    },
    "tags": [
     "notes-only"
    ]
   },
   "source": [
    "* Viewing assembly code\n",
    "    * Compile: `gcc -fomit-frame-pointer -o seasons seasons.c`\n",
    "    * Disassemble executable: `objdump -d seasons > seasons.txt`"
   ]
  },
  {
   "cell_type": "markdown",
   "id": "929ab770-14e2-430e-b46a-4e05fd4e966a",
   "metadata": {
    "slideshow": {
     "slide_type": "subslide"
    },
    "tags": []
   },
   "source": [
    "* Assembly code (excerpt from `seasons.txt`)\n",
    "    ```\n",
    "    00000000000007ac <seasons_of_love>:\n",
    "        7ac:   d10083ff        sub     sp, sp, #0x20\n",
    "        7b0:   52802da0        mov     w0, #0x16d  \n",
    "        7b4:   b9000fe0        str     w0, [sp, #12]\n",
    "        7b8:   52800300        mov     w0, #0x18   \n",
    "        7bc:   b90013e0        str     w0, [sp, #16]\n",
    "        7c0:   52800780        mov     w0, #0x3c   \n",
    "        7c4:   b90017e0        str     w0, [sp, #20]\n",
    "        7c8:   b9400fe1        ldr     w1, [sp, #12]\n",
    "        7cc:   b94013e0        ldr     w0, [sp, #16]\n",
    "        7d0:   1b007c20        mul     w0, w1, w0\n",
    "        7d4:   b9001be0        str     w0, [sp, #24]\n",
    "        7d8:   b9401be1        ldr     w1, [sp, #24]\n",
    "        7dc:   b94017e0        ldr     w0, [sp, #20]\n",
    "        7e0:   1b007c20        mul     w0, w1, w0\n",
    "        7e4:   b9001fe0        str     w0, [sp, #28]\n",
    "        7e8:   b9401fe0        ldr     w0, [sp, #28]\n",
    "        7ec:   910083ff        add     sp, sp, #0x20\n",
    "        7f0:   d65f03c0        ret\n",
    "    ```"
   ]
  },
  {
   "cell_type": "markdown",
   "id": "e117ce88-35f2-4d0d-886c-f3cbf3455779",
   "metadata": {
    "slideshow": {
     "slide_type": "skip"
    },
    "tags": [
     "worksheet-only"
    ]
   },
   "source": [
    "<div style=\"page-break-after:always;\"></div>"
   ]
  },
  {
   "cell_type": "markdown",
   "id": "9fa02227-4dc3-4bad-a589-f5df0ac650af",
   "metadata": {
    "slideshow": {
     "slide_type": "skip"
    },
    "tags": [
     "notes-only"
    ]
   },
   "source": [
    "* _What do each of the columns contain?_\n",
    "    * Code memory address\n",
    "    * Bytes corresponding to instruction\n",
    "    * Operation\n",
    "    * Operands"
   ]
  },
  {
   "cell_type": "markdown",
   "id": "f2c846cb-c607-4d45-ab5f-76244b723f8c",
   "metadata": {
    "slideshow": {
     "slide_type": "skip"
    },
    "tags": [
     "notes-only"
    ]
   },
   "source": [
    "## Operands\n",
    "* Registers\n",
    "    * General purpose registers: 31\n",
    "        * `w0` through `w30` (32-bit) \n",
    "        * `x0` through `x30` (64-bit)\n",
    "    * Stack pointer (top of current stack frame): `sp`\n",
    "        * Always holds a memory address\n",
    "* Constant\n",
    "    * In hex — e.g., `#0x20`\n",
    "    * In decimal — e.g., `#8`\n",
    "* Memory\n",
    "    * Dereference — e.g., `[x1]`\n",
    "    * Add to memory address, then dereference — e.g., `[sp,#16]`"
   ]
  },
  {
   "cell_type": "markdown",
   "id": "7fbdb2ef-13ab-4fca-85b4-52f08889aa4b",
   "metadata": {
    "slideshow": {
     "slide_type": "skip"
    },
    "tags": [
     "notes-only"
    ]
   },
   "source": [
    "## Mapping assembly code to C code"
   ]
  },
  {
   "cell_type": "markdown",
   "id": "6a5ef006-85f5-4b16-9ef5-b694b7a08f5a",
   "metadata": {
    "slideshow": {
     "slide_type": "skip"
    },
    "tags": [
     "notes-only"
    ]
   },
   "source": [
    "* Mathematical operation pattern\n",
    "    * load (ldr) first operand from the stack into a register OR move (mov) first operand into a regster\n",
    "    * load (ldr) second operand from the stack into a register OR move (mov) second operand into a regster\n",
    "    * compute\n",
    "    * store (str) resulting value from a register onto the stack\n",
    "* Local variable initialization pattern\n",
    "    * move (mov) constant value into register\n",
    "    * store (str) register value onto the stack\n",
    "* Function begin pattern\n",
    "    * create stack frame by decreasing (sub) stack pointer\n",
    "    * store (str) parameters from registers x/w0, x/w1, etc. onto the stack\n",
    "* Function return/end pattern\n",
    "    * load (ldr) return value from the stack into the w/x0 register\n",
    "    * destroy stack frame by increasing (add) stack pointer\n",
    "    * return (ret) to caller"
   ]
  },
  {
   "cell_type": "markdown",
   "id": "efafcbf1-b438-4de9-81ae-60dfb9e23fdd",
   "metadata": {
    "slideshow": {
     "slide_type": "skip"
    },
    "tags": [
     "notes-only"
    ]
   },
   "source": [
    "* Example"
   ]
  },
  {
   "cell_type": "markdown",
   "id": "9b4a6e0d-f8e8-4812-bb1e-76e0b2cba235",
   "metadata": {
    "slideshow": {
     "slide_type": "skip"
    },
    "tags": [
     "notes-only"
    ]
   },
   "source": [
    "```\n",
    "00000000000007ac <seasons_of_love>:\n",
    "    7ac:   d10083ff        sub     sp, sp, #0x20    // Line 2   Create stack frame\n",
    "    7b0:   52802da0        mov     w0, #0x16d       // Line 3   Local variable (dpy) initialization \n",
    "    7b4:   b9000fe0        str     w0, [sp, #12]    //   V\n",
    "    7b8:   52800300        mov     w0, #0x18        // Line 4   Local variable (hpd) initialization\n",
    "    7bc:   b90013e0        str     w0, [sp, #16]    //   V\n",
    "    7c0:   52800780        mov     w0, #0x3c        // Line 5   Local variable (mph) initialization\n",
    "    7c4:   b90017e0        str     w0, [sp, #20]    //   V\n",
    "    7c8:   b9400fe1        ldr     w1, [sp, #12]    // Line 6   Mathematical operation\n",
    "    7cc:   b94013e0        ldr     w0, [sp, #16]    //   |\n",
    "    7d0:   1b007c20        mul     w0, w1, w0       //   |\n",
    "    7d4:   b9001be0        str     w0, [sp, #24]    //   V\n",
    "    7d8:   b9401be1        ldr     w1, [sp, #24]    // Line 7   Mathematical operation\n",
    "    7dc:   b94017e0        ldr     w0, [sp, #20]    //   |\n",
    "    7e0:   1b007c20        mul     w0, w1, w0       //   |\n",
    "    7e4:   b9001fe0        str     w0, [sp, #28]    //   V\n",
    "    7e8:   b9401fe0        ldr     w0, [sp, #28]    // Line 8   Function return/end\n",
    "    7ec:   910083ff        add     sp, sp, #0x20    //   |\n",
    "    7f0:   d65f03c0        ret                      //   V\n",
    "```"
   ]
  },
  {
   "cell_type": "markdown",
   "id": "b9352283-676c-437f-bbb5-e4f5cbcc1835",
   "metadata": {
    "slideshow": {
     "slide_type": "slide"
    },
    "tags": []
   },
   "source": [
    "## Extra practice"
   ]
  },
  {
   "cell_type": "markdown",
   "id": "60135226-a322-4cc9-97b2-6fb09f9587cb",
   "metadata": {},
   "source": [
    "* Q3: _Draw a processor with 8 general purpose registers and two operations (add and subtract)._"
   ]
  },
  {
   "cell_type": "markdown",
   "id": "70a799ec-c050-42b5-a42f-5d3bcd2abc36",
   "metadata": {
    "tags": [
     "worksheet-only"
    ]
   },
   "source": [
    "![](images/circuits/processing_unit_empty.png)"
   ]
  }
 ],
 "metadata": {
  "kernelspec": {
   "display_name": "C",
   "language": "c",
   "name": "c"
  },
  "language_info": {
   "file_extension": ".c",
   "mimetype": "c",
   "name": "c"
  }
 },
 "nbformat": 4,
 "nbformat_minor": 5
}
