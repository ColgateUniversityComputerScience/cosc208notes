{
 "cells": [
  {
   "cell_type": "markdown",
   "id": "fc3dc1b0-82e5-4f7c-8d28-f7574cbab568",
   "metadata": {
    "editable": true,
    "slideshow": {
     "slide_type": "skip"
    },
    "tags": [
     "notes-only"
    ]
   },
   "source": [
    "## Mapping assembly code to C code"
   ]
  },
  {
   "cell_type": "markdown",
   "id": "59411a6a-990f-4e82-a843-44f6dd9d8dca",
   "metadata": {
    "slideshow": {
     "slide_type": "skip"
    },
    "tags": [
     "notes-only"
    ]
   },
   "source": [
    "* Mathematical operation pattern\n",
    "    * load (ldr) first operand from the stack into a register OR move (mov) first operand into a regster\n",
    "    * load (ldr) second operand from the stack into a register OR move (mov) second operand into a regster\n",
    "    * compute\n",
    "    * store (str) resulting value from a register onto the stack\n",
    "* Local variable initialization pattern\n",
    "    * move (mov) constant value into register\n",
    "    * store (str) register value onto the stack\n",
    "* Function begin pattern\n",
    "    * create stack frame by decreasing (sub) stack pointer\n",
    "    * store (str) parameters from registers x/w0, x/w1, etc. onto the stack\n",
    "* Function return/end pattern\n",
    "    * load (ldr) return value from the stack into the w/x0 register\n",
    "    * destroy stack frame by increasing (add) stack pointer\n",
    "    * return (ret) to caller"
   ]
  },
  {
   "cell_type": "markdown",
   "id": "d029345b-ad5b-488f-9a35-634586d23352",
   "metadata": {
    "editable": true,
    "slideshow": {
     "slide_type": "skip"
    },
    "tags": [
     "notes-only"
    ]
   },
   "source": [
    "* Example"
   ]
  },
  {
   "cell_type": "markdown",
   "id": "f7663421-b588-4068-95df-4c00e14e7741",
   "metadata": {
    "editable": true,
    "slideshow": {
     "slide_type": "skip"
    },
    "tags": [
     "notes-only"
    ]
   },
   "source": [
    "```\n",
    "00000000000007ac <seasons_of_love>:\n",
    "    7ac:   d10083ff        sub     sp, sp, #0x20    // Line 2   Create stack frame\n",
    "    7b0:   52802da0        mov     w0, #0x16d       // Line 3   Local variable (dpy) initialization \n",
    "    7b4:   b9000fe0        str     w0, [sp, #12]    //   V\n",
    "    7b8:   52800300        mov     w0, #0x18        // Line 4   Local variable (hpd) initialization\n",
    "    7bc:   b90013e0        str     w0, [sp, #16]    //   V\n",
    "    7c0:   52800780        mov     w0, #0x3c        // Line 5   Local variable (mph) initialization\n",
    "    7c4:   b90017e0        str     w0, [sp, #20]    //   V\n",
    "    7c8:   b9400fe1        ldr     w1, [sp, #12]    // Line 6   Mathematical operation\n",
    "    7cc:   b94013e0        ldr     w0, [sp, #16]    //   |\n",
    "    7d0:   1b007c20        mul     w0, w1, w0       //   |\n",
    "    7d4:   b9001be0        str     w0, [sp, #24]    //   V\n",
    "    7d8:   b9401be1        ldr     w1, [sp, #24]    // Line 7   Mathematical operation\n",
    "    7dc:   b94017e0        ldr     w0, [sp, #20]    //   |\n",
    "    7e0:   1b007c20        mul     w0, w1, w0       //   |\n",
    "    7e4:   b9001fe0        str     w0, [sp, #28]    //   V\n",
    "    7e8:   b9401fe0        ldr     w0, [sp, #28]    // Line 8   Function return/end\n",
    "    7ec:   910083ff        add     sp, sp, #0x20    //   |\n",
    "    7f0:   d65f03c0        ret                      //   V\n",
    "```"
   ]
  },
  {
   "cell_type": "markdown",
   "id": "7d089125-f7b3-4382-bbb8-30befffdce78",
   "metadata": {
    "slideshow": {
     "slide_type": "slide"
    },
    "tags": []
   },
   "source": [
    "## Load/store operations"
   ]
  },
  {
   "cell_type": "markdown",
   "id": "7bc7a4bb-6349-4623-bfa6-bacb1f177082",
   "metadata": {
    "editable": true,
    "slideshow": {
     "slide_type": "skip"
    },
    "tags": [
     "notes-only"
    ]
   },
   "source": [
    "* Load (`ldr`) — copies a value from a specific location in main memory into a specific register on the CPU\n",
    "    * Can copy either 64-bits or 32-bits at a time, depending on whether the instruction specifies `x` or `w` register, respectively\n",
    "    * Similar to dereferencing a pointer and storing the value in a local variable\n",
    "        * For example, if we treat registers as if they were variable names, `ldr x0, [x1]` is similar to `x0 = *x1`, where `x0` has type `long` and `x1` has type `long *`\n",
    "* Store (`str`) — copies a value from a specific register on the CPU into a specific location in main memory\n",
    "    * Again, can copy 64-bits or 32-bits at a time, depending on whether the instruction specifies `x` or `w` register, respectively\n",
    "    * Similar to storing the value in a local variable at a memory location pointed-to by a pointer\n",
    "        * For example, if we treat registers as if they were variable names, `str x0, [x1]` is similar to `*x1 = x0`, where `x0` has type `long` and `x1` has type `long *`"
   ]
  },
  {
   "cell_type": "markdown",
   "id": "b1c50513-65e5-4482-a0f8-1b79cf543895",
   "metadata": {},
   "source": [
    "_Write the C code equivalent for each line of assembly, treating registers as if they were variable names._"
   ]
  },
  {
   "cell_type": "markdown",
   "id": "06080951-fccd-445b-9979-61ea5ec0bcd8",
   "metadata": {
    "editable": true,
    "slideshow": {
     "slide_type": ""
    },
    "tags": []
   },
   "source": [
    "* Q2: `ldr x0, [sp]`"
   ]
  },
  {
   "cell_type": "markdown",
   "id": "02e022dc-cfcf-4bce-bf95-df15a9e13019",
   "metadata": {
    "slideshow": {
     "slide_type": "skip"
    },
    "tags": [
     "notes-only"
    ]
   },
   "source": [
    "    x0 = *sp"
   ]
  },
  {
   "cell_type": "markdown",
   "id": "1abab643-f230-402a-ae6a-d15752fcc0bc",
   "metadata": {
    "slideshow": {
     "slide_type": "skip"
    },
    "tags": [
     "worksheet-only"
    ]
   },
   "source": [
    "<p style=\"height:3em;\"></p>"
   ]
  },
  {
   "cell_type": "markdown",
   "id": "f8983777-35e5-4666-a9ab-22f98fc650c2",
   "metadata": {},
   "source": [
    "* Q3: `str w0, [sp]`"
   ]
  },
  {
   "cell_type": "markdown",
   "id": "f2b69f5b-e12a-4fb9-8b89-a64530d689cf",
   "metadata": {
    "slideshow": {
     "slide_type": "skip"
    },
    "tags": [
     "notes-only"
    ]
   },
   "source": [
    "    *sp = w0"
   ]
  },
  {
   "cell_type": "markdown",
   "id": "fe4c6577-fbef-46b8-af9e-d9231641e818",
   "metadata": {
    "slideshow": {
     "slide_type": "skip"
    },
    "tags": [
     "worksheet-only"
    ]
   },
   "source": [
    "<p style=\"height:3em;\"></p>"
   ]
  },
  {
   "cell_type": "markdown",
   "id": "20ea63d7-e535-4efb-94f0-dab556ec63fe",
   "metadata": {},
   "source": [
    "* Q4: `ldr x1, [sp,#12]`"
   ]
  },
  {
   "cell_type": "markdown",
   "id": "01bb5933-e540-49ff-9fe0-ba795c9ba705",
   "metadata": {
    "slideshow": {
     "slide_type": "skip"
    },
    "tags": [
     "notes-only"
    ]
   },
   "source": [
    "    x1 = *(sp + 12)"
   ]
  },
  {
   "cell_type": "markdown",
   "id": "cc9c7dc7-7fa9-4678-898b-921743c1580a",
   "metadata": {
    "slideshow": {
     "slide_type": "skip"
    },
    "tags": [
     "worksheet-only"
    ]
   },
   "source": [
    "<p style=\"height:3em;\"></p>"
   ]
  },
  {
   "cell_type": "markdown",
   "id": "c869f261-fc95-4632-9c59-974f64eeb5cf",
   "metadata": {},
   "source": [
    "* Q5: `str x2, [x3,#0x10]`"
   ]
  },
  {
   "cell_type": "markdown",
   "id": "20b2f63b-c166-4b2e-8663-46a5a34094ab",
   "metadata": {
    "slideshow": {
     "slide_type": "skip"
    },
    "tags": [
     "notes-only"
    ]
   },
   "source": [
    "    *(x3 + 0x10) = x2"
   ]
  },
  {
   "cell_type": "markdown",
   "id": "2941fafa-0c1f-4b89-a56c-5f9c7e61acee",
   "metadata": {
    "editable": true,
    "slideshow": {
     "slide_type": "skip"
    },
    "tags": [
     "worksheet-only"
    ]
   },
   "source": [
    "<p style=\"height:3em;\"></p>\n",
    "\n",
    "🛑 **STOP here** after completing the above questions; if you have extra time please **skip ahead** to the extra practice."
   ]
  },
  {
   "cell_type": "markdown",
   "id": "15ba5c76-fc1c-472b-801a-ae1d3fb5e286",
   "metadata": {
    "slideshow": {
     "slide_type": "slide"
    },
    "tags": []
   },
   "source": [
    "## Arithmetic and logical operations"
   ]
  },
  {
   "cell_type": "markdown",
   "id": "d8511e18-6fb2-4d75-bf40-4fa3abc5d0d3",
   "metadata": {
    "slideshow": {
     "slide_type": "skip"
    },
    "tags": [
     "notes-only"
    ]
   },
   "source": [
    "* (Most) arithmetic and bitwise operations take three operands\n",
    "    * Register into which to store the result of the operation\n",
    "    * Register containing the first operand\n",
    "    * Constant value or register containing the second operand"
   ]
  },
  {
   "cell_type": "markdown",
   "id": "f032b05b-8ce1-4141-af3f-1d3a9222e7e5",
   "metadata": {},
   "source": [
    "_Write the C code equivalent for each line of assembly, treating registers as if they were variable names._"
   ]
  },
  {
   "cell_type": "markdown",
   "id": "d372dad3-83b8-47f0-a202-858930f6824e",
   "metadata": {},
   "source": [
    "* Q6: `lsl w0, w1, w2`"
   ]
  },
  {
   "cell_type": "markdown",
   "id": "8a3040f2-e3aa-4914-aecd-51b7e9793e14",
   "metadata": {
    "slideshow": {
     "slide_type": "skip"
    },
    "tags": [
     "notes-only"
    ]
   },
   "source": [
    "    w0 = w1 << w2"
   ]
  },
  {
   "cell_type": "markdown",
   "id": "9ebce099-8c97-4481-a913-17ff77e70bc0",
   "metadata": {
    "slideshow": {
     "slide_type": "skip"
    },
    "tags": [
     "worksheet-only"
    ]
   },
   "source": [
    "<p style=\"height:3em;\"></p>"
   ]
  },
  {
   "cell_type": "markdown",
   "id": "300a256b-f10c-4cc4-a6bf-0957795c8b8e",
   "metadata": {},
   "source": [
    "* Q7: `and w3, w4, w3`"
   ]
  },
  {
   "cell_type": "markdown",
   "id": "ad92ddd3-91ad-4aa0-bb1e-2e719afab009",
   "metadata": {
    "slideshow": {
     "slide_type": "skip"
    },
    "tags": [
     "notes-only"
    ]
   },
   "source": [
    "    w3 = w4 & w3"
   ]
  },
  {
   "cell_type": "markdown",
   "id": "7dd72f8d-c199-411f-9031-1e14540030e9",
   "metadata": {
    "slideshow": {
     "slide_type": "skip"
    },
    "tags": [
     "worksheet-only"
    ]
   },
   "source": [
    "<p style=\"height:3em;\"></p>"
   ]
  },
  {
   "cell_type": "markdown",
   "id": "b859afec-e55f-4875-b6cf-458b288d78bd",
   "metadata": {},
   "source": [
    "* Q8: `mul x2, x4, x6`"
   ]
  },
  {
   "cell_type": "markdown",
   "id": "43abea71-ec73-4e1b-9869-75db170fd9de",
   "metadata": {
    "slideshow": {
     "slide_type": "skip"
    },
    "tags": [
     "notes-only"
    ]
   },
   "source": [
    "     x2 = x4 * x6"
   ]
  },
  {
   "cell_type": "markdown",
   "id": "254d4678-f2c4-4a5f-819c-c2e614c834ed",
   "metadata": {
    "slideshow": {
     "slide_type": "skip"
    },
    "tags": [
     "worksheet-only"
    ]
   },
   "source": [
    "<p style=\"height:3em;\"></p>"
   ]
  },
  {
   "cell_type": "markdown",
   "id": "9af31716-5031-48f5-b802-6079bedf1b44",
   "metadata": {},
   "source": [
    "* Q9: `sdiv w9, w9, w10`"
   ]
  },
  {
   "cell_type": "markdown",
   "id": "7eb68fee-42f6-4ae2-aede-a11a2cdff975",
   "metadata": {
    "slideshow": {
     "slide_type": "skip"
    },
    "tags": [
     "notes-only"
    ]
   },
   "source": [
    "    w9 = w9 / w10"
   ]
  },
  {
   "cell_type": "markdown",
   "id": "eadba7db-b532-4206-b32d-83e10dbb86d4",
   "metadata": {
    "slideshow": {
     "slide_type": "skip"
    },
    "tags": [
     "worksheet-only"
    ]
   },
   "source": [
    "<p style=\"height:3em;\"></p>\n",
    "\n",
    "🛑 **STOP here** after completing the above questions; if you have extra time please **skip ahead** to the extra practice.\n",
    "\n",
    "<div style=\"page-break-after:always;\"></div>"
   ]
  },
  {
   "cell_type": "markdown",
   "id": "d9cb2b6c-6ab6-4c8f-b4c8-48259702c2b4",
   "metadata": {
    "editable": true,
    "slideshow": {
     "slide_type": "subslide"
    },
    "tags": []
   },
   "source": [
    "Q2: _The following C code was compiled into assembly (using `clang`)._"
   ]
  },
  {
   "cell_type": "code",
   "execution_count": null,
   "id": "52f10004-ad36-4a1d-87b2-43c2df8477ad",
   "metadata": {},
   "outputs": [],
   "source": [
    "/*10*/  int main() {\n",
    "/*11*/      int n = volume(1, 3, 5);\n",
    "/*12*/      return n; \n",
    "/*13*/  }"
   ]
  },
  {
   "cell_type": "markdown",
   "id": "90f0ac66-488d-4c3a-8a26-f5bbbeaacee8",
   "metadata": {
    "editable": true,
    "slideshow": {
     "slide_type": "skip"
    },
    "tags": []
   },
   "source": [
    "_For each line of assembly:_\n",
    "1. _Indicate which original line of C code (above) the assembly instruction was derived from; and_\n",
    "2. _Write the low-level C code equivalent of the assembly instruction, treating registers as if they were variable names._"
   ]
  },
  {
   "cell_type": "markdown",
   "id": "88864ca0-1ac7-4516-aced-978eecf59aac",
   "metadata": {
    "editable": true,
    "slideshow": {
     "slide_type": "skip"
    },
    "tags": [
     "notes-only"
    ]
   },
   "source": [
    "```\n",
    "00000000004005b0 <main>:                            // Line     Low-level C\n",
    "    4005b0:    d10083ff     sub    sp, sp, #0x20    // 10       sp = sp - 0x20\n",
    "    4005b4:    f9000bfe     str    x30, [sp, #16]   // 10       *(sp+16) = x30\n",
    "    4005b8:    52800020     mov    w0, #0x1         // 11       w0 = 0x1\n",
    "    4005bc:    52800061     mov    w1, #0x3         // 11       w1 = 0x3\n",
    "    4005c0:    528000a2     mov    w2, #0x5         // 11       w2 = 0x5\n",
    "    4005c4:    97ffffe9     bl    40056c <volume>   // 11       x30 = pc + 4; pc = 0x40056c\n",
    "    4005c8:    b9000be0     str    w0, [sp, #8]     // 11       *(sp+8) = w0\n",
    "    4005cc:    b9400be0     ldr    w0, [sp, #8]     // 12       w0 = *(sp+8)\n",
    "    4005d0:    f9400bfe     ldr    x30, [sp, #16]   // 12       x30 = *(sp+16)\n",
    "    4005d4:    910083ff     add    sp, sp, #0x20    // 12       sp = sp + 0x20\n",
    "    4005d8:    d65f03c0     ret                     // 12       pc = x30\n",
    "```"
   ]
  },
  {
   "cell_type": "markdown",
   "id": "20c6a479-1c52-4570-bb50-c70c68be29ff",
   "metadata": {
    "editable": true,
    "slideshow": {
     "slide_type": ""
    },
    "tags": [
     "worksheet-only"
    ]
   },
   "source": [
    "```\n",
    "00000000004005b0 <main>:                               // Line     Low-level C\n",
    "    4005b0:    d10083ff     sub    sp, sp, #0x20       //\n",
    "    4005b4:    f9000bfe     str    x30, [sp, #16]      //\n",
    "    4005b8:    52800020     mov    w0, #0x1            //\n",
    "    4005bc:    52800061     mov    w1, #0x3            //\n",
    "    4005c0:    528000a2     mov    w2, #0x5            //\n",
    "    4005c4:    97ffffe9     bl     40056c <volume>     //\n",
    "    4005c8:    b9000be0     str    w0, [sp, #8]        //\n",
    "    4005cc:    b9400be0     ldr    w0, [sp, #8]        //\n",
    "    4005d0:    f9400bfe     ldr    x30, [sp, #16]      //\n",
    "    4005d4:    910083ff     add    sp, sp, #0x20       //\n",
    "    4005d8:    d65f03c0     ret                        //\n",
    "```"
   ]
  },
  {
   "cell_type": "markdown",
   "id": "5edcf6c3-2e53-4e62-aef0-21bb7a37a6b9",
   "metadata": {
    "editable": true,
    "slideshow": {
     "slide_type": "slide"
    },
    "tags": []
   },
   "source": [
    "## Various forms of conditionals"
   ]
  },
  {
   "cell_type": "markdown",
   "id": "3c51548a-fff1-4b7f-92ef-41cfbca27c2e",
   "metadata": {
    "editable": true,
    "slideshow": {
     "slide_type": "skip"
    },
    "tags": [
     "blank"
    ]
   },
   "source": [
    "<p style=\"height:20em;\"></p>"
   ]
  },
  {
   "cell_type": "markdown",
   "id": "b9edbd6a-3e62-40e4-a0a2-08513ac8c180",
   "metadata": {
    "editable": true,
    "slideshow": {
     "slide_type": "subslide"
    },
    "tags": [
     "notes-only"
    ]
   },
   "source": [
    "* Complex conditional expressions"
   ]
  },
  {
   "cell_type": "code",
   "execution_count": null,
   "id": "315957bf-e262-4f09-be30-2a5f4638df4b",
   "metadata": {
    "editable": true,
    "slideshow": {
     "slide_type": ""
    },
    "tags": [
     "notes-only"
    ]
   },
   "outputs": [],
   "source": [
    "/* 1*/  int bitwise_and(int bitA, int bitB) {\n",
    "/* 2*/      int result = -1;\n",
    "/* 3*/      if (bitA == 1 && bitB == 1) {\n",
    "/* 4*/          result = 1;\n",
    "/* 5*/      } \n",
    "/* 6*/      else {\n",
    "/* 7*/          result = 0;\n",
    "/* 8*/      }\n",
    "/* 9*/      return result;\n",
    "/*10*/  }"
   ]
  },
  {
   "cell_type": "markdown",
   "id": "75a4dd30-514f-465a-affa-f0af84b249b6",
   "metadata": {
    "editable": true,
    "slideshow": {
     "slide_type": "subslide"
    },
    "tags": [
     "notes-only"
    ]
   },
   "source": [
    "```\n",
    "0000000000000764 <bitwise_and>:\n",
    "    764:    d10083ff     sub    sp, sp, #0x20           // 1\n",
    "    768:    b9000fe0     str    w0, [sp, #12]           // 1\n",
    "    76c:    b9000be1     str    w1, [sp, #8]            // 1\n",
    "    770:    12800000     mov    w0, #0xffffffff         // 2\n",
    "    774:    b9001fe0     str    w0, [sp, #28]           // 2\n",
    "    778:    b9400fe0     ldr    w0, [sp, #12]           // 3\n",
    "    77c:    7100041f     cmp    w0, #0x1                // 3\n",
    "    780:    540000e1     b.ne   79c <bitwise_and+0x38>  // 3\n",
    "    784:    b9400be0     ldr    w0, [sp, #8]            // 3\n",
    "    788:    7100041f     cmp    w0, #0x1                // 3\n",
    "    78c:    54000081     b.ne   79c <bitwise_and+0x38>  // 3\n",
    "    790:    52800020     mov    w0, #0x1                // 4\n",
    "    794:    b9001fe0     str    w0, [sp, #28]           // 4\n",
    "    798:    14000002     b      7a0 <bitwise_and+0x3c>  // 5\n",
    "    79c:    b9001fff     str    wzr, [sp, #28]          // 7\n",
    "    7a0:    b9401fe0     ldr    w0, [sp, #28]           // 9\n",
    "    7a4:    910083ff     add    sp, sp, #0x20           // 9\n",
    "    7a8:    d65f03c0     ret                            // 9\n",
    "```"
   ]
  },
  {
   "cell_type": "code",
   "execution_count": 3,
   "id": "c62b95c3-1d7e-4632-a867-79a99332202a",
   "metadata": {
    "editable": true,
    "slideshow": {
     "slide_type": "subslide"
    },
    "tags": [
     "notes-only"
    ]
   },
   "outputs": [],
   "source": [
    "int bitwise_and_goto(int bitA, int bitB) {\n",
    "    int result = -1;\n",
    "    if (bitA != 1)\n",
    "        goto ELS;\n",
    "    if (bitB != 1)\n",
    "        goto ELS;\n",
    "    result = 1;\n",
    "    goto END;\n",
    "ELS:\n",
    "    result = 0;\n",
    "END:\n",
    "    return result;\n",
    "}\n",
    "// Testing\n",
    "#include <assert.h>\n",
    "int main() {\n",
    "    assert(bitwise_and_goto(0, 0) == 0);\n",
    "    assert(bitwise_and_goto(0, 1) == 0);\n",
    "    assert(bitwise_and_goto(1, 0) == 0);\n",
    "    assert(bitwise_and_goto(1, 1) == 1);\n",
    "}"
   ]
  },
  {
   "cell_type": "markdown",
   "id": "c1498e0e-7a85-4311-93c9-035264065ce1",
   "metadata": {
    "editable": true,
    "slideshow": {
     "slide_type": "subslide"
    },
    "tags": [
     "notes-only"
    ]
   },
   "source": [
    "* Nested conditionals"
   ]
  },
  {
   "cell_type": "code",
   "execution_count": null,
   "id": "44b1ca90-cff2-4152-bfc4-f5adcf99fad6",
   "metadata": {
    "editable": true,
    "slideshow": {
     "slide_type": ""
    },
    "tags": [
     "notes-only"
    ]
   },
   "outputs": [],
   "source": [
    "/* 1*/  int bitwise_and_nested(int bitA, int bitB) {\n",
    "/* 2*/      int result = -1;\n",
    "/* 3*/      if (bitA == 1) {\n",
    "/* 4*/          if (bitB == 1) {\n",
    "/* 5*/              result = 1;\n",
    "/* 6*/          }\n",
    "/* 7*/          else {\n",
    "/* 8*/              result = 0;\n",
    "/* 9*/          }\n",
    "/*10*/      }\n",
    "/*11*/      else {\n",
    "/*12*/          result = 0;\n",
    "/*13*/      }\n",
    "/*14*/      return result;\n",
    "/*15*/  }"
   ]
  },
  {
   "cell_type": "markdown",
   "id": "ea7ac8da-0feb-42ae-b699-2bf30a910042",
   "metadata": {
    "slideshow": {
     "slide_type": "subslide"
    },
    "tags": [
     "notes-only"
    ]
   },
   "source": [
    "```\n",
    "00000000000007ac <bitwise_and_nested>:\n",
    "    7ac:    d10083ff     sub    sp, sp, #0x20       // 1\n",
    "    7b0:    b9000fe0     str    w0, [sp, #12]       // 1\n",
    "    7b4:    b9000be1     str    w1, [sp, #8]        // 1\n",
    "    7b8:    12800000     mov    w0, #0xffffffff     // 2\n",
    "    7bc:    b9001fe0     str    w0, [sp, #28]       // 2\n",
    "    7c0:    b9400fe0     ldr    w0, [sp, #12]       // 3\n",
    "    7c4:    7100041f     cmp    w0, #0x1            // 3\n",
    "    7c8:    54000121     b.ne   7ec <bitwise_and_nested+0x40>   // 3\n",
    "    7cc:    b9400be0     ldr    w0, [sp, #8]        // 4\n",
    "    7d0:    7100041f     cmp    w0, #0x1            // 4\n",
    "    7d4:    54000081     b.ne   7e4 <bitwise_and_nested+0x38>   // 4\n",
    "    7d8:    52800020     mov    w0, #0x1            // 5\n",
    "    7dc:    b9001fe0     str    w0, [sp, #28]       // 5\n",
    "    7e0:    14000004     b      7f0 <bitwise_and_nested+0x44>   // 6\n",
    "    7e4:    b9001fff     str    wzr, [sp, #28]      // 8\n",
    "    7e8:    14000002     b      7f0 <bitwise_and_nested+0x44>   // 10\n",
    "    7ec:    b9001fff     str    wzr, [sp, #28]      // 12\n",
    "    7f0:    b9401fe0     ldr    w0, [sp, #28]       // 14\n",
    "    7f4:    910083ff     add    sp, sp, #0x20       // 14\n",
    "    7f8:    d65f03c0     ret                        // 14\n",
    "```"
   ]
  },
  {
   "cell_type": "code",
   "execution_count": 4,
   "id": "00a88cba-1196-4c6d-88a2-62aa9591534c",
   "metadata": {
    "slideshow": {
     "slide_type": "subslide"
    },
    "tags": [
     "notes-only"
    ]
   },
   "outputs": [],
   "source": [
    "int bitwise_and_nested_goto(int bitA, int bitB) {\n",
    "    int result = -1;\n",
    "    if (bitA != 1)\n",
    "        goto OUTER_ELS;\n",
    "    if (bitB != 1)\n",
    "        goto INNER_ELS;\n",
    "    result = 1;\n",
    "    goto OUTER_END;\n",
    "INNER_ELS:\n",
    "    result = 0;\n",
    "    goto OUTER_END;\n",
    "OUTER_ELS:\n",
    "    result = 0;\n",
    "OUTER_END:\n",
    "    return result;\n",
    "}\n",
    "// Testing\n",
    "#include <assert.h>\n",
    "int main() {\n",
    "    assert(bitwise_and_nested_goto(0, 0) == 0);\n",
    "    assert(bitwise_and_nested_goto(0, 1) == 0);\n",
    "    assert(bitwise_and_nested_goto(1, 0) == 0);\n",
    "    assert(bitwise_and_nested_goto(1, 1) == 1);\n",
    "}"
   ]
  },
  {
   "cell_type": "markdown",
   "id": "883549b0-c4a1-4309-9c96-7eacd045c311",
   "metadata": {
    "slideshow": {
     "slide_type": "subslide"
    },
    "tags": [
     "notes-only"
    ]
   },
   "source": [
    "* Ternary expressions"
   ]
  },
  {
   "cell_type": "code",
   "execution_count": null,
   "id": "5eccec59-3389-42e8-9925-4ea8e8190994",
   "metadata": {
    "tags": [
     "notes-only"
    ]
   },
   "outputs": [],
   "source": [
    "/*1*/   int bitwise_and_ternary(int bitA, int bitB) {\n",
    "/*2*/       return (bitA == 1 && bitB == 1 ? 1 : 0);\n",
    "/*3*/   }"
   ]
  },
  {
   "cell_type": "markdown",
   "id": "3bb1d943-95f4-4efb-a419-5a78bd7efc24",
   "metadata": {
    "tags": [
     "notes-only"
    ]
   },
   "source": [
    "```\n",
    "00000000000007fc <bitwise_and_ternary>:\n",
    "    7fc:    d10043ff     sub    sp, sp, #0x10   // 1\n",
    "    800:    b9000fe0     str    w0, [sp, #12]   // 1\n",
    "    804:    b9000be1     str    w1, [sp, #8]    // 1\n",
    "    808:    b9400fe0     ldr    w0, [sp, #12]   // 2\n",
    "    80c:    7100041f     cmp    w0, #0x1        // 2\n",
    "    810:    540000c1     b.ne   828 <bitwise_and_ternary+0x2c>  // 2\n",
    "    814:    b9400be0     ldr    w0, [sp, #8]    // 2\n",
    "    818:    7100041f     cmp    w0, #0x1        // 2\n",
    "    81c:    54000061     b.ne   828 <bitwise_and_ternary+0x2c>  // 2\n",
    "    820:    52800020     mov    w0, #0x1        // 2\n",
    "    824:    14000002     b      82c <bitwise_and_ternary+0x30>  // 2\n",
    "    828:    52800000     mov    w0, #0x0        // 2\n",
    "    82c:    910043ff     add    sp, sp, #0x10   // 2\n",
    "    830:    d65f03c0     ret                    // 2\n",
    "```"
   ]
  },
  {
   "cell_type": "markdown",
   "id": "e31c2e7e-9ce0-4e22-9ba4-d8fa364b6258",
   "metadata": {
    "slideshow": {
     "slide_type": "subslide"
    },
    "tags": [
     "notes-only"
    ]
   },
   "source": [
    "* Boolean expressions"
   ]
  },
  {
   "cell_type": "code",
   "execution_count": null,
   "id": "1aef596e-4dfa-45b6-a14c-9dd793342ff8",
   "metadata": {
    "tags": [
     "notes-only"
    ]
   },
   "outputs": [],
   "source": [
    "/*1*/ int bitwise_and_single(int bitA, int bitB) {\n",
    "/*2*/    return (bitA == 1 && bitB == 1);\n",
    "/*3*/ }"
   ]
  },
  {
   "cell_type": "markdown",
   "id": "fac0b7f3-265c-423a-9221-adc95a3b8f9c",
   "metadata": {
    "tags": [
     "notes-only"
    ]
   },
   "source": [
    "    Exact same assembly code as bitwise_and_ternary"
   ]
  },
  {
   "cell_type": "markdown",
   "id": "19de9a08-e537-435f-9e22-ba58ab05536c",
   "metadata": {
    "slideshow": {
     "slide_type": "subslide"
    },
    "tags": [
     "notes-only"
    ]
   },
   "source": [
    "* With compiler optimizations all four `bitwise_and` functions result in the exact same assembly code"
   ]
  },
  {
   "cell_type": "markdown",
   "id": "d58a36c9-bbf1-42e7-b12f-c31acab7d175",
   "metadata": {
    "editable": true,
    "slideshow": {
     "slide_type": ""
    },
    "tags": [
     "notes-only"
    ]
   },
   "source": [
    "```\n",
    "0000000000000734 <bitwise_and>:\n",
    "    734:    7100041f     cmp    w0, #0x1\n",
    "    738:    7a410820     ccmp    w1, #0x1, #0x0, eq\n",
    "    73c:    1a9f17e0     cset    w0, eq\n",
    "    740:    d65f03c0     ret\n",
    "```"
   ]
  }
 ],
 "metadata": {
  "kernelspec": {
   "display_name": "C",
   "language": "c",
   "name": "c"
  },
  "language_info": {
   "file_extension": ".c",
   "mimetype": "text/plain",
   "name": "c"
  }
 },
 "nbformat": 4,
 "nbformat_minor": 5
}
