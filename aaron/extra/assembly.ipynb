{
 "cells": [
  {
   "cell_type": "markdown",
   "id": "e69db26e-94b3-492c-9db4-d31cbc33a565",
   "metadata": {
    "slideshow": {
     "slide_type": "skip"
    },
    "tags": [
     "notes-only"
    ]
   },
   "source": [
    "* Tracing assembly code with function calls: Assume the registers have the following initial values:\n",
    "    * `pc` = `0x4005b0`\n",
    "    * `sp` = `0xFF0`\n",
    "    * `x30` = `0x4005dc`"
   ]
  }
 ],
 "metadata": {
  "kernelspec": {
   "display_name": "C",
   "language": "c",
   "name": "c"
  },
  "language_info": {
   "file_extension": ".c",
   "mimetype": "c",
   "name": "c"
  }
 },
 "nbformat": 4,
 "nbformat_minor": 5
}
