{
 "cells": [
  {
   "cell_type": "markdown",
   "id": "fc3dc1b0-82e5-4f7c-8d28-f7574cbab568",
   "metadata": {
    "slideshow": {
     "slide_type": "skip"
    },
    "tags": [
     "notes-only"
    ]
   },
   "source": [
    "## Mapping assembly code to C code"
   ]
  },
  {
   "cell_type": "markdown",
   "id": "59411a6a-990f-4e82-a843-44f6dd9d8dca",
   "metadata": {
    "slideshow": {
     "slide_type": "skip"
    },
    "tags": [
     "notes-only"
    ]
   },
   "source": [
    "* Mathematical operation pattern\n",
    "    * load (ldr) first operand from the stack into a register OR move (mov) first operand into a regster\n",
    "    * load (ldr) second operand from the stack into a register OR move (mov) second operand into a regster\n",
    "    * compute\n",
    "    * store (str) resulting value from a register onto the stack\n",
    "* Local variable initialization pattern\n",
    "    * move (mov) constant value into register\n",
    "    * store (str) register value onto the stack\n",
    "* Function begin pattern\n",
    "    * create stack frame by decreasing (sub) stack pointer\n",
    "    * store (str) parameters from registers x/w0, x/w1, etc. onto the stack\n",
    "* Function return/end pattern\n",
    "    * load (ldr) return value from the stack into the w/x0 register\n",
    "    * destroy stack frame by increasing (add) stack pointer\n",
    "    * return (ret) to caller"
   ]
  },
  {
   "cell_type": "markdown",
   "id": "d029345b-ad5b-488f-9a35-634586d23352",
   "metadata": {
    "slideshow": {
     "slide_type": "skip"
    },
    "tags": [
     "notes-only"
    ]
   },
   "source": [
    "* Example"
   ]
  },
  {
   "cell_type": "markdown",
   "id": "f7663421-b588-4068-95df-4c00e14e7741",
   "metadata": {
    "slideshow": {
     "slide_type": "skip"
    },
    "tags": [
     "notes-only"
    ]
   },
   "source": [
    "```\n",
    "00000000000007ac <seasons_of_love>:\n",
    "    7ac:   d10083ff        sub     sp, sp, #0x20    // Line 2   Create stack frame\n",
    "    7b0:   52802da0        mov     w0, #0x16d       // Line 3   Local variable (dpy) initialization \n",
    "    7b4:   b9000fe0        str     w0, [sp, #12]    //   V\n",
    "    7b8:   52800300        mov     w0, #0x18        // Line 4   Local variable (hpd) initialization\n",
    "    7bc:   b90013e0        str     w0, [sp, #16]    //   V\n",
    "    7c0:   52800780        mov     w0, #0x3c        // Line 5   Local variable (mph) initialization\n",
    "    7c4:   b90017e0        str     w0, [sp, #20]    //   V\n",
    "    7c8:   b9400fe1        ldr     w1, [sp, #12]    // Line 6   Mathematical operation\n",
    "    7cc:   b94013e0        ldr     w0, [sp, #16]    //   |\n",
    "    7d0:   1b007c20        mul     w0, w1, w0       //   |\n",
    "    7d4:   b9001be0        str     w0, [sp, #24]    //   V\n",
    "    7d8:   b9401be1        ldr     w1, [sp, #24]    // Line 7   Mathematical operation\n",
    "    7dc:   b94017e0        ldr     w0, [sp, #20]    //   |\n",
    "    7e0:   1b007c20        mul     w0, w1, w0       //   |\n",
    "    7e4:   b9001fe0        str     w0, [sp, #28]    //   V\n",
    "    7e8:   b9401fe0        ldr     w0, [sp, #28]    // Line 8   Function return/end\n",
    "    7ec:   910083ff        add     sp, sp, #0x20    //   |\n",
    "    7f0:   d65f03c0        ret                      //   V\n",
    "```"
   ]
  },
  {
   "cell_type": "markdown",
   "id": "7d089125-f7b3-4382-bbb8-30befffdce78",
   "metadata": {
    "slideshow": {
     "slide_type": "slide"
    },
    "tags": []
   },
   "source": [
    "## Load/store operations"
   ]
  },
  {
   "cell_type": "markdown",
   "id": "7bc7a4bb-6349-4623-bfa6-bacb1f177082",
   "metadata": {
    "slideshow": {
     "slide_type": "skip"
    },
    "tags": [
     "notes-only"
    ]
   },
   "source": [
    "* Load (`ldr`) — copies a value from a specific location in main memory into a specific register on the CPU\n",
    "    * Can copy either 64-bits or 32-bits at a time, depending on whether the instruction specifies `x` or `w` register, respectively\n",
    "    * Similar to dereferencing a pointer and storing the value in a local variable\n",
    "        * For example, if we treat registers as if they were variable names, `ldr x0, [x1]` is similar to `x0 = *x1`, where `x0` has type `long` and `x1` has type `long *`\n",
    "* Store (`str`) — copies a value from a specific register on the CPU into a specific location in main memory\n",
    "    * Again, can copy 64-bits or 32-bits at a time, depending on whether the instruction specifies `x` or `w` register, respectively\n",
    "    * Similar to storing the value in a local variable at a memory location pointed-to by a pointer\n",
    "        * For example, if we treat registers as if they were variable names, `str x0, [x1]` is similar to `*x1 = x0`, where `x0` has type `long` and `x1` has type `long *`"
   ]
  },
  {
   "cell_type": "markdown",
   "id": "b1c50513-65e5-4482-a0f8-1b79cf543895",
   "metadata": {},
   "source": [
    "_Write the C code equivalent for each line of assembly, treating registers as if they were variable names._"
   ]
  },
  {
   "cell_type": "markdown",
   "id": "06080951-fccd-445b-9979-61ea5ec0bcd8",
   "metadata": {},
   "source": [
    "* Q2: `ldr x0, [sp]`"
   ]
  },
  {
   "cell_type": "markdown",
   "id": "02e022dc-cfcf-4bce-bf95-df15a9e13019",
   "metadata": {
    "slideshow": {
     "slide_type": "skip"
    },
    "tags": [
     "notes-only"
    ]
   },
   "source": [
    "    x0 = *sp"
   ]
  },
  {
   "cell_type": "markdown",
   "id": "1abab643-f230-402a-ae6a-d15752fcc0bc",
   "metadata": {
    "slideshow": {
     "slide_type": "skip"
    },
    "tags": [
     "worksheet-only"
    ]
   },
   "source": [
    "<p style=\"height:3em;\"></p>"
   ]
  },
  {
   "cell_type": "markdown",
   "id": "f8983777-35e5-4666-a9ab-22f98fc650c2",
   "metadata": {},
   "source": [
    "* Q3: `str w0, [sp]`"
   ]
  },
  {
   "cell_type": "markdown",
   "id": "f2b69f5b-e12a-4fb9-8b89-a64530d689cf",
   "metadata": {
    "slideshow": {
     "slide_type": "skip"
    },
    "tags": [
     "notes-only"
    ]
   },
   "source": [
    "    *sp = w0"
   ]
  },
  {
   "cell_type": "markdown",
   "id": "fe4c6577-fbef-46b8-af9e-d9231641e818",
   "metadata": {
    "slideshow": {
     "slide_type": "skip"
    },
    "tags": [
     "worksheet-only"
    ]
   },
   "source": [
    "<p style=\"height:3em;\"></p>"
   ]
  },
  {
   "cell_type": "markdown",
   "id": "20ea63d7-e535-4efb-94f0-dab556ec63fe",
   "metadata": {},
   "source": [
    "* Q4: `ldr x1, [sp,#12]`"
   ]
  },
  {
   "cell_type": "markdown",
   "id": "01bb5933-e540-49ff-9fe0-ba795c9ba705",
   "metadata": {
    "slideshow": {
     "slide_type": "skip"
    },
    "tags": [
     "notes-only"
    ]
   },
   "source": [
    "    x1 = *(sp + 12)"
   ]
  },
  {
   "cell_type": "markdown",
   "id": "cc9c7dc7-7fa9-4678-898b-921743c1580a",
   "metadata": {
    "slideshow": {
     "slide_type": "skip"
    },
    "tags": [
     "worksheet-only"
    ]
   },
   "source": [
    "<p style=\"height:3em;\"></p>"
   ]
  },
  {
   "cell_type": "markdown",
   "id": "c869f261-fc95-4632-9c59-974f64eeb5cf",
   "metadata": {},
   "source": [
    "* Q5: `str x2, [x3,#0x10]`"
   ]
  },
  {
   "cell_type": "markdown",
   "id": "20b2f63b-c166-4b2e-8663-46a5a34094ab",
   "metadata": {
    "slideshow": {
     "slide_type": "skip"
    },
    "tags": [
     "notes-only"
    ]
   },
   "source": [
    "    *(x3 + 0x10) = x2"
   ]
  },
  {
   "cell_type": "markdown",
   "id": "2941fafa-0c1f-4b89-a56c-5f9c7e61acee",
   "metadata": {
    "slideshow": {
     "slide_type": "skip"
    },
    "tags": [
     "worksheet-only"
    ]
   },
   "source": [
    "<p style=\"height:3em;\"></p>\n",
    "\n",
    "🛑 **STOP here** after completing the above questions; if you have extra time please **skip ahead** to the extra practice."
   ]
  },
  {
   "cell_type": "markdown",
   "id": "15ba5c76-fc1c-472b-801a-ae1d3fb5e286",
   "metadata": {
    "slideshow": {
     "slide_type": "slide"
    },
    "tags": []
   },
   "source": [
    "## Arithmetic and logical operations"
   ]
  },
  {
   "cell_type": "markdown",
   "id": "d8511e18-6fb2-4d75-bf40-4fa3abc5d0d3",
   "metadata": {
    "slideshow": {
     "slide_type": "skip"
    },
    "tags": [
     "notes-only"
    ]
   },
   "source": [
    "* (Most) arithmetic and bitwise operations take three operands\n",
    "    * Register into which to store the result of the operation\n",
    "    * Register containing the first operand\n",
    "    * Constant value or register containing the second operand"
   ]
  },
  {
   "cell_type": "markdown",
   "id": "f032b05b-8ce1-4141-af3f-1d3a9222e7e5",
   "metadata": {},
   "source": [
    "_Write the C code equivalent for each line of assembly, treating registers as if they were variable names._"
   ]
  },
  {
   "cell_type": "markdown",
   "id": "d372dad3-83b8-47f0-a202-858930f6824e",
   "metadata": {},
   "source": [
    "* Q6: `lsl w0, w1, w2`"
   ]
  },
  {
   "cell_type": "markdown",
   "id": "8a3040f2-e3aa-4914-aecd-51b7e9793e14",
   "metadata": {
    "slideshow": {
     "slide_type": "skip"
    },
    "tags": [
     "notes-only"
    ]
   },
   "source": [
    "    w0 = w1 << w2"
   ]
  },
  {
   "cell_type": "markdown",
   "id": "9ebce099-8c97-4481-a913-17ff77e70bc0",
   "metadata": {
    "slideshow": {
     "slide_type": "skip"
    },
    "tags": [
     "worksheet-only"
    ]
   },
   "source": [
    "<p style=\"height:3em;\"></p>"
   ]
  },
  {
   "cell_type": "markdown",
   "id": "300a256b-f10c-4cc4-a6bf-0957795c8b8e",
   "metadata": {},
   "source": [
    "* Q7: `and w3, w4, w3`"
   ]
  },
  {
   "cell_type": "markdown",
   "id": "ad92ddd3-91ad-4aa0-bb1e-2e719afab009",
   "metadata": {
    "slideshow": {
     "slide_type": "skip"
    },
    "tags": [
     "notes-only"
    ]
   },
   "source": [
    "    w3 = w4 & w3"
   ]
  },
  {
   "cell_type": "markdown",
   "id": "7dd72f8d-c199-411f-9031-1e14540030e9",
   "metadata": {
    "slideshow": {
     "slide_type": "skip"
    },
    "tags": [
     "worksheet-only"
    ]
   },
   "source": [
    "<p style=\"height:3em;\"></p>"
   ]
  },
  {
   "cell_type": "markdown",
   "id": "b859afec-e55f-4875-b6cf-458b288d78bd",
   "metadata": {},
   "source": [
    "* Q8: `mul x2, x4, x6`"
   ]
  },
  {
   "cell_type": "markdown",
   "id": "43abea71-ec73-4e1b-9869-75db170fd9de",
   "metadata": {
    "slideshow": {
     "slide_type": "skip"
    },
    "tags": [
     "notes-only"
    ]
   },
   "source": [
    "     x2 = x4 * x6"
   ]
  },
  {
   "cell_type": "markdown",
   "id": "254d4678-f2c4-4a5f-819c-c2e614c834ed",
   "metadata": {
    "slideshow": {
     "slide_type": "skip"
    },
    "tags": [
     "worksheet-only"
    ]
   },
   "source": [
    "<p style=\"height:3em;\"></p>"
   ]
  },
  {
   "cell_type": "markdown",
   "id": "9af31716-5031-48f5-b802-6079bedf1b44",
   "metadata": {},
   "source": [
    "* Q9: `sdiv w9, w9, w10`"
   ]
  },
  {
   "cell_type": "markdown",
   "id": "7eb68fee-42f6-4ae2-aede-a11a2cdff975",
   "metadata": {
    "slideshow": {
     "slide_type": "skip"
    },
    "tags": [
     "notes-only"
    ]
   },
   "source": [
    "    w9 = w9 / w10"
   ]
  },
  {
   "cell_type": "markdown",
   "id": "eadba7db-b532-4206-b32d-83e10dbb86d4",
   "metadata": {
    "slideshow": {
     "slide_type": "skip"
    },
    "tags": [
     "worksheet-only"
    ]
   },
   "source": [
    "<p style=\"height:3em;\"></p>\n",
    "\n",
    "🛑 **STOP here** after completing the above questions; if you have extra time please **skip ahead** to the extra practice.\n",
    "\n",
    "<div style=\"page-break-after:always;\"></div>"
   ]
  }
 ],
 "metadata": {
  "kernelspec": {
   "display_name": "C",
   "language": "c",
   "name": "c"
  },
  "language_info": {
   "file_extension": ".c",
   "mimetype": "c",
   "name": "c"
  }
 },
 "nbformat": 4,
 "nbformat_minor": 5
}
