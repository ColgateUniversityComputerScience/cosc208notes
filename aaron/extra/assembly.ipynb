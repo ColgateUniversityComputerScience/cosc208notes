{
 "cells": [
  {
   "cell_type": "code",
   "execution_count": null,
   "id": "bedd2098-f05c-4260-9a2e-dc41e2e9efd9",
   "metadata": {},
   "outputs": [],
   "source": []
  }
 ],
 "metadata": {
  "kernelspec": {
   "display_name": "C",
   "language": "c",
   "name": "c"
  },
  "language_info": {
   "file_extension": ".c",
   "mimetype": "c",
   "name": "c"
  }
 },
 "nbformat": 4,
 "nbformat_minor": 5
}
