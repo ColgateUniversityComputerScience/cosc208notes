{
 "cells": [
  {
   "cell_type": "markdown",
   "id": "fc3dc1b0-82e5-4f7c-8d28-f7574cbab568",
   "metadata": {
    "slideshow": {
     "slide_type": "skip"
    },
    "tags": [
     "notes-only"
    ]
   },
   "source": [
    "## Mapping assembly code to C code"
   ]
  },
  {
   "cell_type": "markdown",
   "id": "59411a6a-990f-4e82-a843-44f6dd9d8dca",
   "metadata": {
    "slideshow": {
     "slide_type": "skip"
    },
    "tags": [
     "notes-only"
    ]
   },
   "source": [
    "* Mathematical operation pattern\n",
    "    * load (ldr) first operand from the stack into a register OR move (mov) first operand into a regster\n",
    "    * load (ldr) second operand from the stack into a register OR move (mov) second operand into a regster\n",
    "    * compute\n",
    "    * store (str) resulting value from a register onto the stack\n",
    "* Local variable initialization pattern\n",
    "    * move (mov) constant value into register\n",
    "    * store (str) register value onto the stack\n",
    "* Function begin pattern\n",
    "    * create stack frame by decreasing (sub) stack pointer\n",
    "    * store (str) parameters from registers x/w0, x/w1, etc. onto the stack\n",
    "* Function return/end pattern\n",
    "    * load (ldr) return value from the stack into the w/x0 register\n",
    "    * destroy stack frame by increasing (add) stack pointer\n",
    "    * return (ret) to caller"
   ]
  },
  {
   "cell_type": "markdown",
   "id": "d029345b-ad5b-488f-9a35-634586d23352",
   "metadata": {
    "slideshow": {
     "slide_type": "skip"
    },
    "tags": [
     "notes-only"
    ]
   },
   "source": [
    "* Example"
   ]
  },
  {
   "cell_type": "markdown",
   "id": "f7663421-b588-4068-95df-4c00e14e7741",
   "metadata": {
    "slideshow": {
     "slide_type": "skip"
    },
    "tags": [
     "notes-only"
    ]
   },
   "source": [
    "```\n",
    "00000000000007ac <seasons_of_love>:\n",
    "    7ac:   d10083ff        sub     sp, sp, #0x20    // Line 2   Create stack frame\n",
    "    7b0:   52802da0        mov     w0, #0x16d       // Line 3   Local variable (dpy) initialization \n",
    "    7b4:   b9000fe0        str     w0, [sp, #12]    //   V\n",
    "    7b8:   52800300        mov     w0, #0x18        // Line 4   Local variable (hpd) initialization\n",
    "    7bc:   b90013e0        str     w0, [sp, #16]    //   V\n",
    "    7c0:   52800780        mov     w0, #0x3c        // Line 5   Local variable (mph) initialization\n",
    "    7c4:   b90017e0        str     w0, [sp, #20]    //   V\n",
    "    7c8:   b9400fe1        ldr     w1, [sp, #12]    // Line 6   Mathematical operation\n",
    "    7cc:   b94013e0        ldr     w0, [sp, #16]    //   |\n",
    "    7d0:   1b007c20        mul     w0, w1, w0       //   |\n",
    "    7d4:   b9001be0        str     w0, [sp, #24]    //   V\n",
    "    7d8:   b9401be1        ldr     w1, [sp, #24]    // Line 7   Mathematical operation\n",
    "    7dc:   b94017e0        ldr     w0, [sp, #20]    //   |\n",
    "    7e0:   1b007c20        mul     w0, w1, w0       //   |\n",
    "    7e4:   b9001fe0        str     w0, [sp, #28]    //   V\n",
    "    7e8:   b9401fe0        ldr     w0, [sp, #28]    // Line 8   Function return/end\n",
    "    7ec:   910083ff        add     sp, sp, #0x20    //   |\n",
    "    7f0:   d65f03c0        ret                      //   V\n",
    "```"
   ]
  }
 ],
 "metadata": {
  "kernelspec": {
   "display_name": "C",
   "language": "c",
   "name": "c"
  },
  "language_info": {
   "file_extension": ".c",
   "mimetype": "c",
   "name": "c"
  }
 },
 "nbformat": 4,
 "nbformat_minor": 5
}
