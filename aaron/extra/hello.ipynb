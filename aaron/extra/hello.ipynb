{
 "cells": [
  {
   "cell_type": "markdown",
   "id": "16c7bedf",
   "metadata": {},
   "source": [
    "_What is the output of each of the following programs?_"
   ]
  },
  {
   "cell_type": "code",
   "execution_count": null,
   "id": "500f1394",
   "metadata": {},
   "outputs": [
    {
     "name": "stdout",
     "output_type": "stream",
     "text": [
      "6 2\n",
      "4 2\n",
      "3 10\n"
     ]
    }
   ],
   "source": [
    "//Q2\n",
    "#include <stdio.h>\n",
    "int main() {\n",
    "    int x = 1;\n",
    "    int y = 2;\n",
    "    x = x+5;\n",
    "    printf(\"%d %d\\n\", x, y);\n",
    "    x = y*2;\n",
    "    printf(\"%d %d\\n\", x, y);\n",
    "    y *= 5;\n",
    "    x--;\n",
    "    printf(\"%d %d\\n\", x, y);\n",
    "}"
   ]
  },
  {
   "cell_type": "markdown",
   "id": "1b686774",
   "metadata": {},
   "source": [
    "<div style=\"height:5em;\"></div>"
   ]
  },
  {
   "cell_type": "code",
   "execution_count": null,
   "id": "6c6c39b7",
   "metadata": {},
   "outputs": [
    {
     "name": "stdout",
     "output_type": "stream",
     "text": [
      "2 1\n"
     ]
    }
   ],
   "source": [
    "//Q3\n",
    "#include <stdio.h>\n",
    "int main() {\n",
    "    int x = 5;\n",
    "    int y = x/2;\n",
    "    int z = x%2;\n",
    "    printf(\"%d %d\\n\", y, z);\n",
    "}"
   ]
  },
  {
   "cell_type": "markdown",
   "id": "cd36ea84",
   "metadata": {},
   "source": [
    "<div style=\"height:2em;\"></div>"
   ]
  },
  {
   "cell_type": "markdown",
   "id": "473cbd80",
   "metadata": {},
   "source": [
    "Q8: _Write a program that computes and displays the number of minutes in a year._"
   ]
  },
  {
   "cell_type": "code",
   "execution_count": null,
   "id": "3f97a9fd",
   "metadata": {},
   "outputs": [
    {
     "name": "stdout",
     "output_type": "stream",
     "text": [
      "525600 minutes\n"
     ]
    }
   ],
   "source": [
    "#include <stdio.h>\n",
    "int main() {\n",
    "    int minutes = 365 * 24 * 60;\n",
    "    printf(\"%d minutes\\n\", minutes);\n",
    "    return 0;\n",
    "}"
   ]
  },
  {
   "cell_type": "markdown",
   "id": "72e1d644",
   "metadata": {},
   "source": [
    "<div style=\"height:10em;\"></div>"
   ]
  },
  {
   "cell_type": "markdown",
   "id": "c89084cf",
   "metadata": {},
   "source": [
    "Q10: _Write a program that prints all even numbers from 1 to 10 loop._"
   ]
  },
  {
   "cell_type": "code",
   "execution_count": null,
   "id": "e2e5132f",
   "metadata": {},
   "outputs": [
    {
     "name": "stdout",
     "output_type": "stream",
     "text": [
      "2\n",
      "4\n",
      "6\n",
      "8\n",
      "10\n"
     ]
    }
   ],
   "source": [
    "#include <stdio.h>\n",
    "int main() {\n",
    "    for (int i = 2; i <= 10; i+=2) {\n",
    "        printf(\"%d\\n\", i);\n",
    "    }\n",
    "}"
   ]
  },
  {
   "cell_type": "code",
   "execution_count": null,
   "id": "731fef56",
   "metadata": {},
   "outputs": [
    {
     "name": "stdout",
     "output_type": "stream",
     "text": [
      "0\n",
      "2\n",
      "4\n",
      "6\n",
      "8\n",
      "10\n"
     ]
    }
   ],
   "source": [
    "// Alternate version\n",
    "#include <stdio.h>\n",
    "int main() {\n",
    "    for (int i = 0; i <= 10; i++) {\n",
    "        if (0 == i % 2) {\n",
    "            printf(\"%d\\n\", i);\n",
    "        }\n",
    "    }\n",
    "}"
   ]
  },
  {
   "cell_type": "code",
   "execution_count": null,
   "id": "40a4ca9a",
   "metadata": {},
   "outputs": [
    {
     "name": "stdout",
     "output_type": "stream",
     "text": [
      "2\n",
      "4\n",
      "6\n",
      "8\n",
      "10\n"
     ]
    }
   ],
   "source": [
    "// Alternate version\n",
    "#include <stdio.h>\n",
    "int main() {\n",
    "    int i = 2;\n",
    "    while (i <= 10) {\n",
    "        printf(\"%d\\n\", i);\n",
    "        i+=2;\n",
    "    }\n",
    "}"
   ]
  },
  {
   "cell_type": "markdown",
   "id": "aec00482",
   "metadata": {},
   "source": [
    "<div style=\"height:10em;\"></div>"
   ]
  },
  {
   "cell_type": "markdown",
   "id": "cf95cf50",
   "metadata": {},
   "source": [
    "Q19: _Write a function called `floorm` that takes two integers and rounds down the first integer to the closest multiple of the second integer._"
   ]
  },
  {
   "cell_type": "code",
   "execution_count": null,
   "id": "c8265606",
   "metadata": {},
   "outputs": [
    {
     "name": "stdout",
     "output_type": "stream",
     "text": [
      "The closest 5-multiple of 13 is 10\n",
      "The closest 3-multiple of 9 is 9\n"
     ]
    }
   ],
   "source": [
    "#include <stdio.h>\n",
    "int floorm(int num, int multiple) {\n",
    "    return num - (num % multiple);\n",
    "}\n",
    "// Testing\n",
    "int main() {\n",
    "    printf(\"The closest %d-multiple of %d is %d\\n\", 5, 13, floorm(13, 5));\n",
    "    printf(\"The closest %d-multiple of %d is %d\\n\", 3, 9, floorm(9, 3));\n",
    "}"
   ]
  },
  {
   "cell_type": "markdown",
   "id": "495512a3",
   "metadata": {},
   "source": [
    "<div style=\"height:12em;\"></div>"
   ]
  },
  {
   "cell_type": "markdown",
   "id": "5ae668bf",
   "metadata": {},
   "source": [
    "Q20: _Write a function called `print_x` that takes an integer n that prints the letter `X` n lines high and n characters wide. You can assume n is an odd number. For example, if n = 5, the program's output would be:_\n",
    "```\n",
    "\\   /\n",
    " \\ / \n",
    "  X  \n",
    " / \\ \n",
    "/   \\\n",
    "```"
   ]
  },
  {
   "cell_type": "code",
   "execution_count": null,
   "id": "00cf2a3c",
   "metadata": {},
   "outputs": [
    {
     "name": "stdout",
     "output_type": "stream",
     "text": [
      "\\ /\n",
      " X \n",
      "/ \\\n",
      "\\   /\n",
      " \\ / \n",
      "  X  \n",
      " / \\ \n",
      "/   \\\n"
     ]
    }
   ],
   "source": [
    "#include <stdio.h>\n",
    "void print_x_helper(int n, int r) {\n",
    "    for (int c = 0; c < n; c++) {\n",
    "        if (c == r) {\n",
    "            printf(\"\\\\\");\n",
    "        }\n",
    "        else if (c == n-1-r) {\n",
    "            printf(\"/\");\n",
    "        }\n",
    "        else {\n",
    "            printf(\" \" );\n",
    "        }\n",
    "    }\n",
    "    printf(\"\\n\");\n",
    "}\n",
    "void print_x(int n) {\n",
    "    int r = 0;\n",
    "    while (r < n/2) {\n",
    "        print_x_helper(n, r);\n",
    "        r++;\n",
    "    }\n",
    "    for (int c = 0; c < n; c++) {\n",
    "        if (c == r) {\n",
    "            printf(\"X\");\n",
    "        }\n",
    "        else {\n",
    "            printf(\" \");\n",
    "        }\n",
    "    }\n",
    "    printf(\"\\n\");\n",
    "    r++;\n",
    "    while (r < n) {\n",
    "        print_x_helper(n, r);\n",
    "        r++;\n",
    "    }\n",
    "}\n",
    "// Testing\n",
    "int main() {\n",
    "    print_x(3);\n",
    "    print_x(5);\n",
    "}"
   ]
  },
  {
   "cell_type": "markdown",
   "id": "ef77644c",
   "metadata": {},
   "source": [
    "<div style=\"height:20em;\"></div>"
   ]
  },
  {
   "cell_type": "markdown",
   "id": "d18c2db9-207d-4b15-9602-2a51b97ce8bf",
   "metadata": {
    "editable": true,
    "slideshow": {
     "slide_type": "slide"
    },
    "tags": [
     "question"
    ]
   },
   "source": [
    "Q1: _The following program should ask the user to enter a word, then print the word's length and whether it is a palindrome (i.e., reads the same backward as forward). For example, if the user enters `\"kayak\"` the program should print `\"The word is 5 characters long and is a palindrome.\"` However, the program contains several errors. Modify the program to correct the errors._"
   ]
  },
  {
   "cell_type": "code",
   "execution_count": null,
   "id": "6eba0807-a53d-41c8-9bd6-744cefefca70",
   "metadata": {
    "editable": true,
    "slideshow": {
     "slide_type": "subslide"
    },
    "tags": []
   },
   "outputs": [],
   "source": [
    "#include <stdio.h>\n",
    "void palindrome(char word[]) {\n",
    "    int i = 0;\n",
    "    int j = strlen(word);\n",
    "    while (i < j) {\n",
    "        if (word[i] != word[j]) {\n",
    "            return -1;\n",
    "        }\n",
    "        i++;\n",
    "        j--;\n",
    "    }\n",
    "    return 1;\n",
    "}\n",
    "int main() {\n",
    "    printf(\"Enter a word: \");\n",
    "    char word[50];\n",
    "    fgets(word, 50, stdin);\n",
    "    word[strlen(word)-1] = '\\0'; // Remove newline\n",
    "    int len = strlen(word);\n",
    "    printf(\"The word is %c characters long and is \", len);\n",
    "    if (palindrome(word)) {\n",
    "        printf(\"a palindrome.\\n\");\n",
    "    } else {\n",
    "        printf(\"not a palindrome.\\n\");\n",
    "    }\n",
    "}"
   ]
  },
  {
   "cell_type": "markdown",
   "id": "fa645e6f-8bf3-43f8-aece-0bec3ddb99ec",
   "metadata": {
    "editable": true,
    "slideshow": {
     "slide_type": "slide"
    },
    "tags": [
     "question"
    ]
   },
   "source": [
    "Q2: _Write a function called `molecular_formula` that takes a string containing the constituent atoms of a molecule and updates the string to contain the molecular formula. For example, the string `\"HHO\"` should be changed to `\"H20\"`, and the string `\"HHSOOOO\"` should be changed to `\"H2SO4\"`. You can assume:_\n",
    "* _Molecules will only contain elements that are represented by a single letter — e.g., a molecule may contain `'H'` but not `\"Na\"`_\n",
    "* _All atoms of the same element are listed consecutively — e.g., the constituent atoms may be provided as `\"HHO\"` but not `\"HOH\"`_\n",
    "* _The elements are listed in the order they should appear in the molecular formula — e.g., the constituent atoms `\"HHO\"` are changed to the molecular formula `\"H2O\"`, whereas the constituent atoms `\"OHH\"` are changed to the molecular formula `\"OH2\"`_\n",
    "* _There will be at most 9 atoms of each element — e.g., `\"H9C9\"` may occur, but `\"H10C11\"` will not occur_"
   ]
  },
  {
   "cell_type": "markdown",
   "id": "c44ec93c-3994-47e1-ad46-5fcf24bfa4b0",
   "metadata": {
    "editable": true,
    "slideshow": {
     "slide_type": "skip"
    },
    "tags": [
     "notes-only"
    ]
   },
   "source": [
    "_Q1 answer_\n",
    "* `#include <string.h>`\n",
    "* Change return type of `palindrome` to `int`\n",
    "* Initialize `j` to `strlen(word) - 1`\n",
    "* Change `return -1` to `return 0`\n",
    "* Change `%c` in 2nd `printf` in `main` to `%d`"
   ]
  },
  {
   "cell_type": "code",
   "execution_count": 1,
   "id": "4a349e3e-6ac7-4ff4-aef4-ffbbd58f752f",
   "metadata": {
    "editable": true,
    "slideshow": {
     "slide_type": "skip"
    },
    "tags": [
     "notes-only"
    ]
   },
   "outputs": [],
   "source": [
    "//Q2 answer\n",
    "#include <string.h>\n",
    "void molecular_formula(char elements[]) {\n",
    "    int count = 1;\n",
    "    int j = 0;\n",
    "    for (int i = 1; i <= strlen(elements); i++) {\n",
    "        if (elements[i] != elements[i-1]) {\n",
    "            elements[j] = elements[i-1];\n",
    "            j++;\n",
    "            if (count > 1) {\n",
    "                elements[j] = count + '0';\n",
    "                j++;\n",
    "            }\n",
    "            count = 0;\n",
    "        }\n",
    "        count++;\n",
    "    }\n",
    "    elements[j] = '\\0';\n",
    "}\n",
    "// Testing\n",
    "#include <assert.h>\n",
    "int main() {\n",
    "    char test1[] = \"HHO\";\n",
    "    molecular_formula(test1);\n",
    "    assert(strcmp(test1, \"H2O\") == 0);\n",
    "    char test2[] = \"HHSOOOO\";\n",
    "    molecular_formula(test2);\n",
    "    assert(strcmp(test2, \"H2SO4\") == 0);\n",
    "}"
   ]
  }
 ],
 "metadata": {
  "kernelspec": {
   "display_name": "C",
   "language": "c",
   "name": "c"
  },
  "language_info": {
   "file_extension": ".c",
   "mimetype": "text/plain",
   "name": "c"
  }
 },
 "nbformat": 4,
 "nbformat_minor": 5
}
