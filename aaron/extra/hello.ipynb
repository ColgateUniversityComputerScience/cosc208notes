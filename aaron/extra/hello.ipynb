{
 "cells": [
  {
   "cell_type": "markdown",
   "id": "d18c2db9-207d-4b15-9602-2a51b97ce8bf",
   "metadata": {
    "editable": true,
    "slideshow": {
     "slide_type": "slide"
    },
    "tags": [
     "question"
    ]
   },
   "source": [
    "Q1: _The following program should ask the user to enter a word, then print the word's length and whether it is a palindrome (i.e., reads the same backward as forward). For example, if the user enters `\"kayak\"` the program should print `\"The word is 5 characters long and is a palindrome.\"` However, the program contains several errors. Modify the program to correct the errors._"
   ]
  },
  {
   "cell_type": "code",
   "execution_count": null,
   "id": "6eba0807-a53d-41c8-9bd6-744cefefca70",
   "metadata": {
    "editable": true,
    "slideshow": {
     "slide_type": "subslide"
    },
    "tags": []
   },
   "outputs": [],
   "source": [
    "#include <stdio.h>\n",
    "void palindrome(char word[]) {\n",
    "    int i = 0;\n",
    "    int j = strlen(word);\n",
    "    while (i < j) {\n",
    "        if (word[i] != word[j]) {\n",
    "            return -1;\n",
    "        }\n",
    "        i++;\n",
    "        j--;\n",
    "    }\n",
    "    return 1;\n",
    "}\n",
    "int main() {\n",
    "    printf(\"Enter a word: \");\n",
    "    char word[50];\n",
    "    fgets(word, 50, stdin);\n",
    "    word[strlen(word)-1] = '\\0'; // Remove newline\n",
    "    int len = strlen(word);\n",
    "    printf(\"The word is %c characters long and is \", len);\n",
    "    if (palindrome(word)) {\n",
    "        printf(\"a palindrome.\\n\");\n",
    "    } else {\n",
    "        printf(\"not a palindrome.\\n\");\n",
    "    }\n",
    "}"
   ]
  },
  {
   "cell_type": "markdown",
   "id": "fa645e6f-8bf3-43f8-aece-0bec3ddb99ec",
   "metadata": {
    "editable": true,
    "slideshow": {
     "slide_type": "slide"
    },
    "tags": [
     "question"
    ]
   },
   "source": [
    "Q2: _Write a function called `molecular_formula` that takes a string containing the constituent atoms of a molecule and updates the string to contain the molecular formula. For example, the string `\"HHO\"` should be changed to `\"H20\"`, and the string `\"HHSOOOO\"` should be changed to `\"H2SO4\"`. You can assume:_\n",
    "* _Molecules will only contain elements that are represented by a single letter — e.g., a molecule may contain `'H'` but not `\"Na\"`_\n",
    "* _All atoms of the same element are listed consecutively — e.g., the constituent atoms may be provided as `\"HHO\"` but not `\"HOH\"`_\n",
    "* _The elements are listed in the order they should appear in the molecular formula — e.g., the constituent atoms `\"HHO\"` are changed to the molecular formula `\"H2O\"`, whereas the constituent atoms `\"OHH\"` are changed to the molecular formula `\"OH2\"`_\n",
    "* _There will be at most 9 atoms of each element — e.g., `\"H9C9\"` may occur, but `\"H10C11\"` will not occur_"
   ]
  },
  {
   "cell_type": "markdown",
   "id": "c44ec93c-3994-47e1-ad46-5fcf24bfa4b0",
   "metadata": {
    "editable": true,
    "slideshow": {
     "slide_type": "skip"
    },
    "tags": [
     "notes-only"
    ]
   },
   "source": [
    "_Q1 answer_\n",
    "* `#include <string.h>`\n",
    "* Change return type of `palindrome` to `int`\n",
    "* Initialize `j` to `strlen(word) - 1`\n",
    "* Change `return -1` to `return 0`\n",
    "* Change `%c` in 2nd `printf` in `main` to `%d`"
   ]
  },
  {
   "cell_type": "code",
   "execution_count": 1,
   "id": "4a349e3e-6ac7-4ff4-aef4-ffbbd58f752f",
   "metadata": {
    "editable": true,
    "slideshow": {
     "slide_type": "skip"
    },
    "tags": [
     "notes-only"
    ]
   },
   "outputs": [],
   "source": [
    "//Q2 answer\n",
    "#include <string.h>\n",
    "void molecular_formula(char elements[]) {\n",
    "    int count = 1;\n",
    "    int j = 0;\n",
    "    for (int i = 1; i <= strlen(elements); i++) {\n",
    "        if (elements[i] != elements[i-1]) {\n",
    "            elements[j] = elements[i-1];\n",
    "            j++;\n",
    "            if (count > 1) {\n",
    "                elements[j] = count + '0';\n",
    "                j++;\n",
    "            }\n",
    "            count = 0;\n",
    "        }\n",
    "        count++;\n",
    "    }\n",
    "    elements[j] = '\\0';\n",
    "}\n",
    "// Testing\n",
    "#include <assert.h>\n",
    "int main() {\n",
    "    char test1[] = \"HHO\";\n",
    "    molecular_formula(test1);\n",
    "    assert(strcmp(test1, \"H2O\") == 0);\n",
    "    char test2[] = \"HHSOOOO\";\n",
    "    molecular_formula(test2);\n",
    "    assert(strcmp(test2, \"H2SO4\") == 0);\n",
    "}"
   ]
  }
 ],
 "metadata": {
  "kernelspec": {
   "display_name": "C",
   "language": "c",
   "name": "c"
  },
  "language_info": {
   "file_extension": ".c",
   "mimetype": "text/plain",
   "name": "c"
  }
 },
 "nbformat": 4,
 "nbformat_minor": 5
}
