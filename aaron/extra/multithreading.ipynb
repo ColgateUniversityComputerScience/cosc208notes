{
 "cells": [
  {
   "cell_type": "markdown",
   "id": "97da8e8a-e3ca-4fdc-a1d2-4f20ecb6b80f",
   "metadata": {
    "editable": true,
    "slideshow": {
     "slide_type": ""
    },
    "tags": []
   },
   "source": [
    "## Pthreads API\n",
    "* Q3: _What are all possible outputs produced by this program?_\n",
    "    ```C\n",
    "    1   #include <pthread.h>\n",
    "    2   void *printer(void *arg) {\n",
    "    3       char *ch = (char*)arg;\n",
    "    4       printf(\"I am %c\\n\", *ch);\n",
    "    5       return NULL;\n",
    "    6   }\n",
    "    7   int main() {\n",
    "    8       pthread_t thread1, thread2;\n",
    "    9       char *ch1 = malloc(sizeof(char));\n",
    "    10      *ch1 = 'X';\n",
    "    11      char *ch2 = malloc(sizeof(char));\n",
    "    12      *ch2 = 'Y';\n",
    "    13      pthread_create(&thread1, NULL, &printer, ch1);\n",
    "    14      pthread_create(&thread2, NULL, &printer, ch2);\n",
    "    15      pthread_join(thread1, NULL);\n",
    "    16      pthread_join(thread2, NULL);\n",
    "    17  }\n",
    "    ```\n",
    "    ```\n",
    "    I am X\t\n",
    "    I am Y\n",
    "    ```\n",
    "    OR\n",
    "    ```\n",
    "\tI am Y\n",
    "\tI am X\n",
    "    ```"
   ]
  },
  {
   "cell_type": "markdown",
   "id": "7987b47a-1ba8-4649-98d5-898ad5ecf8a4",
   "metadata": {
    "editable": true,
    "slideshow": {
     "slide_type": ""
    },
    "tags": []
   },
   "source": [
    "## Transforming programs to be multi-threaded"
   ]
  },
  {
   "cell_type": "markdown",
   "id": "3222e034-dd40-468f-b50f-9b13f48873c5",
   "metadata": {},
   "source": [
    "* For-each style loops are natural candidates for threading\n",
    "    * Example: a program that counts the number of occurrences of each vowel within a string\n",
    "    * Another example: a program that counts the longest sequence of each Short Tandem Repeat (STR) in a DNA sequence — you already performed loop optimization on such a program last week; this week in lab you'll make it multi-threaded\n",
    "* Steps\n",
    "    * Move the body of the loop into its own \"worker\" function (if not done already)\n",
    "    * Write a \"wrapper\" function which:\n",
    "        * Has the required signature for a thread function (i.e., takes a single `void *` parameter and returns a void pointer)\n",
    "        * Extracts the argument(s) for the \"worker\" function from the thread function's arguments\n",
    "        * Calls the \"worker\" function\n",
    "        * Prepares the return value from the \"worker\" function to be returned by the thread\n",
    "    * Replace the body of the loop with the creation of threads that execute the \"wrapper\" function\n",
    "    * Add a second loop to wait for all threads to complete"
   ]
  },
  {
   "cell_type": "markdown",
   "id": "80e263fe-4ccb-43e9-8936-85f926a7cc01",
   "metadata": {},
   "source": [
    "## Making programs multi-threaded\n",
    "* _Assume you are given the following code:_\n",
    "    ```C\n",
    "    #include <ctype.h>\n",
    "    #include <stdio.h>\n",
    "    #include <string.h>\n",
    "    int count(char *str, char ch) {\n",
    "        int num = 0;\n",
    "        while (*str != '\\0') {\n",
    "            if (tolower(*str) == ch) {\n",
    "                num++;\n",
    "            }\n",
    "            str++;\n",
    "        }\n",
    "        return num;\n",
    "    }\n",
    "    int main(int argc, char *argv[]) {\n",
    "        if (argc < 2) {\n",
    "            printf(\"Error: provide a string\\n\");\n",
    "            return 1;\n",
    "        }\n",
    "        char *str = argv[1];\n",
    "        char *vowels = \"aeiou\";\n",
    "        int counts[strlen(vowels)];\n",
    "        for (int i = 0; i < strlen(vowels); i++) {\n",
    "            counts[i] = count(str, vowels[i]);\n",
    "        }\n",
    "\n",
    "        for (int i = 0; i < strlen(vowels); i++) {\n",
    "            printf(\"%c %d\\n\", vowels[i], counts[i]);\n",
    "        }\n",
    "    }\n",
    "    ```\n",
    "* Q2: *Write a function called  `count_wrapper` that has the signature required for a thread function and calls the `count` function. (Hint: you'll need to declare a `struct` that contains all of the parameters required for `count`.)*\n",
    "    ```C\n",
    "    struct count_args {\n",
    "        char *str;\n",
    "        char ch;\n",
    "    };\n",
    "    void *count_wrapper(void *arg) {\n",
    "        struct count_args *cargs = (struct count_args *)arg;\n",
    "        int *result = malloc(sizeof(int));\n",
    "        *result = count(cargs->str, cargs->ch);\n",
    "        return result;\n",
    "    }\n",
    "    ```\n",
    "* Q3: *Re-write `main` to create/wait for threads that execute `count_wrapper` (instead of calling `count` sequentially).*\n",
    "    ```C\n",
    "    int main(int argc, char *argv[]) {\n",
    "        if (argc < 2) {\n",
    "            printf(\"Error: provide a string\\n\");\n",
    "            return 1;\n",
    "        }\n",
    "        char *str = argv[1];\n",
    "        char *vowels = \"aeiou\";\n",
    "\n",
    "        // Create threads\n",
    "        struct count_args args[strlen(vowels)];\n",
    "        pthread_t threads[strlen(vowels)];\n",
    "        for (int i = 0; i < strlen(vowels); i++) {\n",
    "            args[i].str = str;\n",
    "            args[i].ch = vowels[i];\n",
    "            pthread_create(&(threads[i]), NULL, &count_wrapper, &(args[i]));\n",
    "        }\n",
    "\n",
    "        // Wait for threads\n",
    "        for (int i = 0; i < strlen(vowels); i++) {\n",
    "            int *ptr;\n",
    "            pthread_join(threads[i], (void **)(&ptr));\n",
    "            printf(\"%c %d\\n\", vowels[i], *ptr);\n",
    "        }\n",
    "    }\n",
    "    ```"
   ]
  },
  {
   "cell_type": "markdown",
   "id": "679504ed-5bd7-4307-9539-ba0e98c358e6",
   "metadata": {},
   "source": [
    "* Q1: _The `compute_gcf` function below finds the greatest common factor between two numbers. Complete the `main` function to use threads to compute the greatest common factor for all pairs of numbers in the `to_factor` array. The program should produce the following output:_\n",
    "    ```\n",
    "    The GCF of 48 and 52 is 4\n",
    "    The GCF of 25 and 100 is 25\n",
    "    The GCF of 120 and 340 is 20\n",
    "    ```"
   ]
  },
  {
   "cell_type": "code",
   "execution_count": null,
   "id": "7f3b9e97-f147-44ba-a799-17b61a0c154b",
   "metadata": {
    "tags": [
     "worksheet-only"
    ]
   },
   "outputs": [],
   "source": [
    "#include <pthread.h>\n",
    "#include <stdio.h>\n",
    "#include <stdlib.h>\n",
    "\n",
    "void *compute_gcf(void *arg) {\n",
    "    int *pair = (int *)arg;\n",
    "    int *gcf = malloc(sizeof(int));\n",
    "    *gcf = 1;\n",
    "    for (int i = 2; i <= pair[0]; i++) {\n",
    "        if (pair[0] % i == 0 && pair[1] % i == 0) {\n",
    "            *gcf = i;\n",
    "        }\n",
    "    }\n",
    "    return gcf;\n",
    "}\n",
    "\n",
    "#define NUM_PAIRS 3\n",
    "\n",
    "int main() {\n",
    "    int pairs[NUM_PAIRS][2] = { {48, 52}, {25, 100}, {120, 340} };"
   ]
  },
  {
   "cell_type": "code",
   "execution_count": 1,
   "id": "984db93a-e06a-43fc-956b-1190d277ea94",
   "metadata": {
    "editable": true,
    "slideshow": {
     "slide_type": "skip"
    },
    "tags": [
     "notes-only"
    ]
   },
   "outputs": [
    {
     "name": "stdout",
     "output_type": "stream",
     "text": [
      "The GCF of 48 and 52 is 4\n",
      "The GCF of 25 and 100 is 25\n",
      "The GCF of 120 and 340 is 20\n"
     ]
    }
   ],
   "source": [
    "#include <pthread.h>\n",
    "#include <stdio.h>\n",
    "#include <stdlib.h>\n",
    "\n",
    "void *compute_gcf(void *arg) {\n",
    "    int *pair = (int *)arg;\n",
    "    int *gcf = malloc(sizeof(int));\n",
    "    *gcf = 1;\n",
    "    for (int i = 2; i <= pair[0]; i++) {\n",
    "        if (pair[0] % i == 0 && pair[1] % i == 0) {\n",
    "            *gcf = i;\n",
    "        }\n",
    "    }\n",
    "    return gcf;\n",
    "}\n",
    "\n",
    "#define NUM_PAIRS 3\n",
    "\n",
    "int main() {\n",
    "    int pairs[NUM_PAIRS][2] = { {48, 52}, {25, 100}, {120, 340} };\n",
    "    pthread_t threads[NUM_PAIRS];\n",
    "    for (int i = 0; i < NUM_PAIRS; i++) {\n",
    "        pthread_create(threads+i, NULL, &compute_gcf, pairs[i]);\n",
    "    }\n",
    "    for (int i = 0; i < NUM_PAIRS; i++) {\n",
    "        int *gcf = NULL;\n",
    "        pthread_join(threads[i], (void **)&gcf);\n",
    "        printf(\"The GCF of %d and %d is %d\\n\", pairs[i][0], pairs[i][1], *gcf);\n",
    "    }\n",
    "}"
   ]
  },
  {
   "cell_type": "markdown",
   "id": "bb6f4fdc-36c6-433b-a11d-94e013aa5c07",
   "metadata": {
    "editable": true,
    "slideshow": {
     "slide_type": ""
    },
    "tags": []
   },
   "source": [
    "## Extra practice"
   ]
  },
  {
   "cell_type": "markdown",
   "id": "860d1232-5dbd-432d-8d7a-c53204c9f792",
   "metadata": {
    "editable": true,
    "slideshow": {
     "slide_type": "subslide"
    },
    "tags": [
     "question"
    ]
   },
   "source": [
    "Q2: _What are all possible outputs produced by this program?_"
   ]
  },
  {
   "cell_type": "code",
   "execution_count": null,
   "id": "6b9cdd6d-0595-40ba-a71f-dee0b92be2f5",
   "metadata": {
    "editable": true,
    "slideshow": {
     "slide_type": ""
    },
    "tags": [
     "question"
    ]
   },
   "outputs": [],
   "source": [
    "/* 1*/  #include <stdio.h>\n",
    "/* 2*/  #include <stdlib.h>\n",
    "/* 3*/  void *thread_main(void *arg) {\n",
    "/* 4*/      char *id = (char *)arg;\n",
    "/* 5*/      printf(\"I am thread %c\\n\", *id);\n",
    "/* 6*/      return NULL;\n",
    "/* 7*/  }\n",
    "/* 8*/  int main() {\n",
    "/* 9*/      char *a = malloc(sizeof(char));\n",
    "/*10*/      *a = 'A';\n",
    "/*11*/      char *b = malloc(sizeof(char));\n",
    "/*12*/      *b = 'B';\n",
    "/*13*/      // Create thread running thread_main(a)\n",
    "/*14*/      // Create thread running thread_main(b)\n",
    "/*15*/      // Wait for threads to finish\n",
    "/*16*/  }"
   ]
  },
  {
   "cell_type": "markdown",
   "id": "5adbb43a-f00b-455b-977e-d89ff254aebd",
   "metadata": {
    "editable": true,
    "slideshow": {
     "slide_type": "skip"
    },
    "tags": [
     "answer"
    ]
   },
   "source": [
    "```\n",
    "I am thread A\n",
    "I am thread B\n",
    "```\n",
    "OR\n",
    "```\n",
    "I am thread B\n",
    "I am thread A\n",
    "```"
   ]
  },
  {
   "cell_type": "markdown",
   "id": "fd34c616-621a-4d53-945e-e6d9ae4cd306",
   "metadata": {
    "editable": true,
    "slideshow": {
     "slide_type": "skip"
    },
    "tags": [
     "worksheet-only",
     "blank"
    ]
   },
   "source": [
    "<p style=\"height:8em;\"></p>"
   ]
  }
 ],
 "metadata": {
  "kernelspec": {
   "display_name": "C",
   "language": "c",
   "name": "c"
  },
  "language_info": {
   "file_extension": ".c",
   "mimetype": "text/plain",
   "name": "c"
  }
 },
 "nbformat": 4,
 "nbformat_minor": 5
}
