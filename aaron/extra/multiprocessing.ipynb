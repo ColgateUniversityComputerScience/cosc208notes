{
 "cells": [
  {
   "cell_type": "markdown",
   "id": "b5be4592-146c-42fc-8eff-bea4e3c41de4",
   "metadata": {
    "editable": true,
    "slideshow": {
     "slide_type": ""
    },
    "tags": []
   },
   "source": [
    "## Extra practice"
   ]
  },
  {
   "cell_type": "markdown",
   "id": "d9529194-f909-4b50-9436-2d3a6403bc55",
   "metadata": {
    "editable": true,
    "slideshow": {
     "slide_type": "skip"
    },
    "tags": [
     "worksheet-only"
    ]
   },
   "source": [
    "* Q5: _What are all possible outputs produced by this program?_\n",
    "    ```C\n",
    "    #include <stdio.h>\n",
    "    #include <stdlib.h>\n",
    "    #include <unistd.h>\n",
    "    #include <sys/wait.h>\n",
    "    int main() {\n",
    "        int pid = fork();\n",
    "        if (pid == 0) {\n",
    "            printf(\"Child\\n\");\n",
    "            exit(22);\n",
    "        } else {\n",
    "            int status = 0;\n",
    "            wait(&status);\n",
    "            printf(\"Status %d\\n\", WEXITSTATUS(status));\n",
    "            exit(44);\n",
    "        }\n",
    "    }\n",
    "    ```\n",
    "    ```\n",
    "    Child\n",
    "    Status 22\n",
    "    ```"
   ]
  }
 ],
 "metadata": {
  "kernelspec": {
   "display_name": "C",
   "language": "c",
   "name": "c"
  },
  "language_info": {
   "file_extension": ".c",
   "mimetype": "text/plain",
   "name": "c"
  }
 },
 "nbformat": 4,
 "nbformat_minor": 5
}
