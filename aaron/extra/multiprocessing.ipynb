{
 "cells": [
  {
   "cell_type": "markdown",
   "id": "b5be4592-146c-42fc-8eff-bea4e3c41de4",
   "metadata": {},
   "source": [
    "## Extra practice"
   ]
  },
  {
   "cell_type": "markdown",
   "id": "d9529194-f909-4b50-9436-2d3a6403bc55",
   "metadata": {
    "slideshow": {
     "slide_type": "skip"
    },
    "tags": [
     "worksheet-only"
    ]
   },
   "source": [
    "* Q5: _What are all possible outputs produced by this program?_\n",
    "    ```C\n",
    "    #include <stdio.h>\n",
    "    #include <stdlib.h>\n",
    "    #include <unistd.h>\n",
    "    #include <sys/wait.h>\n",
    "    int main() {\n",
    "        int pid = fork();\n",
    "        if (pid == 0) {\n",
    "            printf(\"Child\\n\");\n",
    "            exit(22);\n",
    "        } else {\n",
    "            int status = 0;\n",
    "            wait(&status);\n",
    "            printf(\"Status %d\\n\", WEXITSTATUS(status));\n",
    "            exit(44);\n",
    "        }\n",
    "    }\n",
    "    ```\n",
    "    ```\n",
    "    Child\n",
    "    Status 22\n",
    "    ```"
   ]
  },
  {
   "cell_type": "markdown",
   "id": "e9621446-ba15-44b5-a2b4-138407d28146",
   "metadata": {
    "tags": []
   },
   "source": [
    "* Q8: _How would you modify the program below such that `Child` always prints before `Parent`?_"
   ]
  },
  {
   "cell_type": "code",
   "execution_count": null,
   "id": "98e8eef4-3954-45ac-bb0c-4f4c12440b36",
   "metadata": {
    "tags": [
     "worksheet-code-only"
    ]
   },
   "outputs": [],
   "source": [
    "#include <stdio.h>\n",
    "#include <unistd.h>\n",
    "int main(int argc, char **argv) {\n",
    "    printf(\"Begin\\n\");\n",
    "    int pid = fork();\n",
    "    if (pid < 0) {\n",
    "        printf(\"Fork failed\\n\");\n",
    "        return 1;\n",
    "    } else if (pid == 0) {\n",
    "        printf(\"Child\\n\");\n",
    "        return 0;\n",
    "    } else {\n",
    "        printf(\"Parent\\n\");\n",
    "    }\n",
    "    printf(\"End\\n\");\n",
    "}"
   ]
  },
  {
   "cell_type": "code",
   "execution_count": 17,
   "id": "98f1924a-dd50-46ae-b531-d374c7c35ef2",
   "metadata": {
    "slideshow": {
     "slide_type": "skip"
    },
    "tags": [
     "notes-only"
    ]
   },
   "outputs": [
    {
     "name": "stdout",
     "output_type": "stream",
     "text": [
      "Begin\n",
      "Child\n",
      "Parent\n",
      "End\n"
     ]
    }
   ],
   "source": [
    "#include <stdio.h>\n",
    "#include <unistd.h>\n",
    "int main(int argc, char **argv) {\n",
    "    printf(\"Begin\\n\");\n",
    "    int pid = fork();\n",
    "    if (pid < 0) {\n",
    "        printf(\"Fork failed\\n\");\n",
    "        return 1;\n",
    "    } else if (pid == 0) {\n",
    "        printf(\"Child\\n\");\n",
    "        return 0;\n",
    "    } else {\n",
    "        wait(NULL);\n",
    "        printf(\"Parent\\n\");\n",
    "    }\n",
    "    printf(\"End\\n\");\n",
    "}"
   ]
  },
  {
   "cell_type": "markdown",
   "id": "b690cb35-149e-4ab8-a844-84813a890c46",
   "metadata": {
    "slideshow": {
     "slide_type": "slide"
    },
    "tags": []
   },
   "source": [
    "## Extra practice"
   ]
  },
  {
   "cell_type": "markdown",
   "id": "0c1bd713-d179-4f24-8d47-304d3103a992",
   "metadata": {},
   "source": [
    "* Q8: _What does the following code output?_"
   ]
  },
  {
   "cell_type": "code",
   "execution_count": null,
   "id": "232fd9fb-3b5a-45ef-b5ad-7cfe3317d50d",
   "metadata": {},
   "outputs": [],
   "source": [
    "#include <stdio.h>\n",
    "#include <unistd.h>\n",
    "int main(int argc, char **argv) {\n",
    "    int value = 100;\n",
    "    int pid = fork();\n",
    "    if (pid < 0) {\n",
    "        printf(\"Fork failed\\n\");\n",
    "        return 1;\n",
    "    } else if (pid == 0) {\n",
    "        value -= 50;\n",
    "    } else {\n",
    "        value += 50;\n",
    "    }\n",
    "    printf(\"My value is %d\\n\", value);\n",
    "    return 0;\n",
    "}"
   ]
  },
  {
   "cell_type": "markdown",
   "id": "16f21d8b-6236-4fa3-9117-7afc191e61eb",
   "metadata": {
    "slideshow": {
     "slide_type": "skip"
    },
    "tags": [
     "notes-only"
    ]
   },
   "source": [
    "```\n",
    "My value is 50\n",
    "My value is 150\n",
    "```\n",
    "OR\n",
    "```\n",
    "My value is 150\n",
    "My value is 50\n",
    "```"
   ]
  },
  {
   "cell_type": "markdown",
   "id": "366c500a-84bf-4407-8f2e-022eb101e840",
   "metadata": {
    "slideshow": {
     "slide_type": "skip"
    },
    "tags": [
     "worksheet-only"
    ]
   },
   "source": [
    "<p style=\"height:12em;\"></p>"
   ]
  },
  {
   "cell_type": "markdown",
   "id": "45a31acb-4b67-4059-a4b2-eaa3ffb2d63e",
   "metadata": {
    "slideshow": {
     "slide_type": "subslide"
    },
    "tags": []
   },
   "source": [
    "* Q9: _What does the following code output?_"
   ]
  },
  {
   "cell_type": "code",
   "execution_count": null,
   "id": "fee3bde2-71b7-4233-a1d6-d4ec45c06587",
   "metadata": {
    "tags": [
     "worksheet-code-only"
    ]
   },
   "outputs": [],
   "source": [
    "#include <stdio.h>\n",
    "#include <unistd.h>\n",
    "int main(int argc, char **argv) {\n",
    "    printf(\"Begin\\n\");\n",
    "    int pid = fork();\n",
    "    if (pid < 0) {\n",
    "        printf(\"Fork failed\\n\");\n",
    "        return 1;\n",
    "    } else if (pid == 0) {\n",
    "        printf(\"Child\\n\");\n",
    "        return 0;\n",
    "    } else {\n",
    "        printf(\"Parent\\n\");\n",
    "    }\n",
    "    printf(\"End\\n\");\n",
    "}"
   ]
  },
  {
   "cell_type": "markdown",
   "id": "4d8d34f4-b69c-4e52-91e2-7856ee6013e8",
   "metadata": {
    "slideshow": {
     "slide_type": "skip"
    },
    "tags": [
     "notes-only"
    ]
   },
   "source": [
    "```\n",
    "Begin\n",
    "Child\n",
    "Parent\n",
    "End \n",
    "```\n",
    "OR\n",
    "```\n",
    "Begin\n",
    "Parent\n",
    "Child\n",
    "End \n",
    "```\n",
    "OR\n",
    "```\n",
    "Begin\n",
    "Parent\n",
    "End \n",
    "Child\n",
    "```"
   ]
  }
 ],
 "metadata": {
  "kernelspec": {
   "display_name": "C",
   "language": "c",
   "name": "c"
  },
  "language_info": {
   "file_extension": ".c",
   "mimetype": "c",
   "name": "c"
  }
 },
 "nbformat": 4,
 "nbformat_minor": 5
}
