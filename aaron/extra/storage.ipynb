{
 "cells": [
  {
   "cell_type": "markdown",
   "id": "8d1d9a9c-c454-4d20-9140-3f9b417b17d5",
   "metadata": {
    "slideshow": {
     "slide_type": "skip"
    },
    "tags": [
     "notes-only"
    ]
   },
   "source": [
    "## Memory hierarchy"
   ]
  },
  {
   "cell_type": "markdown",
   "id": "a4078f1f-8d92-414f-81fe-17a2b58ef14d",
   "metadata": {
    "slideshow": {
     "slide_type": "skip"
    },
    "tags": [
     "notes-only"
    ]
   },
   "source": [
    "* Compares various forms of storage in terms of\n",
    "    * Access latency\n",
    "    * Capacity\n",
    "    * Cost\n",
    "    * Volatility\n",
    "* Access latency\n",
    "    * Let's consider a 1hz CPU, which means 1 cycle = 1 second\n",
    "    * Registers — 1 cycle = 1 second\n",
    "    * Caches — ~10 cycles = ~10 seconds\n",
    "    * Main memory — ~100 cycles = ~2 minutes\n",
    "    * Solid-state drive — ~1 million cycles = ~11.5 days\n",
    "    * Hard (i.e., traditional) disk drive — ~10 million cycles = ~115 days\n",
    "    * Remote (i.e., network) storage — ~20ms = ~2 years\n",
    "* Storage capacity\n",
    "    * Let's assume 1 byte = 1mL\n",
    "    * Registers — 30 * 8B = ~250mL = ~1 cup\n",
    "    * Caches (Core i7 in MacBook Pro)\n",
    "        * L1 — 32KB + 32KB = 64L = ~1 tank of gas\n",
    "        * L2 — 512KB * 4 cores = 2048L = ~7 bathtubs\n",
    "    * Main memory = 32GB (in MacBook Pro) = ~13 olympic swimming pools\n",
    "    * SSD = 1TB (in MacBook Pro) = ~Lake Moraine"
   ]
  }
 ],
 "metadata": {
  "kernelspec": {
   "display_name": "C",
   "language": "c",
   "name": "c"
  },
  "language_info": {
   "file_extension": ".c",
   "mimetype": "c",
   "name": "c"
  }
 },
 "nbformat": 4,
 "nbformat_minor": 5
}
