{
 "cells": [
  {
   "cell_type": "markdown",
   "id": "62140b78-d352-42d9-8ac6-0acac5fccd6a",
   "metadata": {},
   "source": [
    "## Warm-up\n",
    "_Apply the following bitwise operations_\n",
    "* Q1: `0b0011 & 0b0101`\n",
    "* Q2: `0b0011 | 0b0101`\n",
    "* Q3: `0b0011 ^ 0b0101`"
   ]
  },
  {
   "cell_type": "markdown",
   "id": "f7bce52a-e0b7-4eea-af60-228089fa5bee",
   "metadata": {
    "slideshow": {
     "slide_type": "skip"
    },
    "tags": [
     "notes-only"
    ]
   },
   "source": [
    "## Real numbers\n",
    "* Real numbers may have fractional parts -- e.g., `3.14`\n",
    "* _How can we encode real numbers?_\n",
    "* Fixed-point representation\n",
    "    * Location of decimal point is fixed — some bits encode whole numbers, and some bits encode fractional numbers\n",
    "    * Example: 8-bit fixed point with 3 bits for the fractional part: `0b01011010` = 0 * 2^4 + 1 * 2^3 + 0 * 2^2 + 1 * 2^1 + 1 * 2^0 + 0 * 2^-1 + 1 * 2^-2 + 0 * 2^-3 = 8 + 2 + 1 + 0.25 = 11.25\n",
    "    * _What is an advantage of fixed-point representation?_\n",
    "        * Easy to compute\n",
    "    * _What is a disadvantage of fixed-point representation?_ \n",
    "        * Range of real numbers is fixed — cannot represent large whole numbers or small fractional numbers\n",
    "* Float-point representation\n",
    "    * Uses a \"scaling factor\" to multiply (or divide) fractional part\n",
    "    * Bits in the significand represent (from left to right) 2^-1, 2^-2, ... 2^-23\n",
    "    * Bits in the exponent represent an unsigned integer 0 - 255\n",
    "    * Multiply significand by 2^(exponent - 127) to get final result\n",
    "    * Can represent large whole numbers **or** small fractional numbers, but not a large whole number with a small fractional part"
   ]
  },
  {
   "cell_type": "markdown",
   "id": "73685c78-064f-4b6a-9c70-2b7c9527eafe",
   "metadata": {
    "jp-MarkdownHeadingCollapsed": true,
    "slideshow": {
     "slide_type": "subslide"
    },
    "tags": []
   },
   "source": [
    "_How many bytes of memory are reserved for each of the following variables?_\n",
    "* Q17: `int a;`"
   ]
  },
  {
   "cell_type": "markdown",
   "id": "0fabedf3-db92-49a2-ac52-19e6ed964396",
   "metadata": {
    "slideshow": {
     "slide_type": "skip"
    },
    "tags": [
     "notes-only"
    ]
   },
   "source": [
    "    4"
   ]
  },
  {
   "cell_type": "markdown",
   "id": "4abc622d-528c-4ce8-90ad-39af37a0b3ca",
   "metadata": {
    "jp-MarkdownHeadingCollapsed": true,
    "tags": []
   },
   "source": [
    "* Q18: `unsigned int b;`"
   ]
  },
  {
   "cell_type": "markdown",
   "id": "690313c0-b3b9-4931-ae8c-859a0e3bf4c1",
   "metadata": {
    "slideshow": {
     "slide_type": "skip"
    },
    "tags": [
     "notes-only"
    ]
   },
   "source": [
    "    4"
   ]
  },
  {
   "cell_type": "markdown",
   "id": "8f64acd0-2e53-46a1-a078-ff4856a2f17c",
   "metadata": {
    "jp-MarkdownHeadingCollapsed": true,
    "tags": []
   },
   "source": [
    "* Q19: `char c;`"
   ]
  },
  {
   "cell_type": "markdown",
   "id": "db8a8f9b-d666-4142-93a9-f843f789ce5e",
   "metadata": {
    "slideshow": {
     "slide_type": "skip"
    },
    "tags": [
     "notes-only"
    ]
   },
   "source": [
    "    1"
   ]
  },
  {
   "cell_type": "markdown",
   "id": "03bda3b4-52e4-43b8-b470-ac31b43b37d0",
   "metadata": {
    "jp-MarkdownHeadingCollapsed": true,
    "tags": []
   },
   "source": [
    "* Q20: `long d;`"
   ]
  },
  {
   "cell_type": "markdown",
   "id": "0c637c72-78df-4614-a485-8e09e803a47f",
   "metadata": {
    "slideshow": {
     "slide_type": "skip"
    },
    "tags": [
     "notes-only"
    ]
   },
   "source": [
    "    8"
   ]
  },
  {
   "cell_type": "markdown",
   "id": "6c1fea03-f9c2-4eed-ae0e-55e562ff768a",
   "metadata": {
    "jp-MarkdownHeadingCollapsed": true,
    "tags": []
   },
   "source": [
    "* Q21: `int e[5];`"
   ]
  },
  {
   "cell_type": "markdown",
   "id": "79365f7f-5cbf-4e9f-adbf-c1c3b0ca055f",
   "metadata": {
    "slideshow": {
     "slide_type": "skip"
    },
    "tags": [
     "notes-only"
    ]
   },
   "source": [
    "    20"
   ]
  },
  {
   "cell_type": "markdown",
   "id": "11b982ce-4551-4342-8b70-f17e388f0570",
   "metadata": {
    "jp-MarkdownHeadingCollapsed": true,
    "tags": []
   },
   "source": [
    "* Q22: `char f[30];`"
   ]
  },
  {
   "cell_type": "markdown",
   "id": "77d225c5-e41c-4d51-a17f-cb44d283b31e",
   "metadata": {
    "slideshow": {
     "slide_type": "skip"
    },
    "tags": [
     "notes-only"
    ]
   },
   "source": [
    "    30"
   ]
  },
  {
   "cell_type": "markdown",
   "id": "979f73ee-9bb8-4924-a2cc-3463d979664b",
   "metadata": {
    "slideshow": {
     "slide_type": "slide"
    },
    "tags": []
   },
   "source": [
    "## Warm-up\n",
    "_Express the following real numbers using 8-bit fixed point representation with 4 bits for the fractional part. If the number cannot be expressed exactly, express it as closely as you can and indicate which number is actually represented by the bits._\n",
    "* Q1: `5.75`"
   ]
  },
  {
   "cell_type": "markdown",
   "id": "a80283d6-009d-4813-af86-21e3b5b4593c",
   "metadata": {
    "slideshow": {
     "slide_type": "skip"
    },
    "tags": [
     "notes-only"
    ]
   },
   "source": [
    "    0b01011100 = 2^2 + 2^0 + 2^-1 + 2^-2"
   ]
  },
  {
   "cell_type": "markdown",
   "id": "cdf46238-fcdf-4f4e-b2c8-40c6357bcd4f",
   "metadata": {
    "slideshow": {
     "slide_type": "skip"
    },
    "tags": [
     "worksheet-only"
    ]
   },
   "source": [
    "<p style=\"height:6em;\"></p>"
   ]
  },
  {
   "cell_type": "markdown",
   "id": "0b43c85e-9896-4a3f-b88d-d8adbf2e75a8",
   "metadata": {
    "tags": []
   },
   "source": [
    "* Q2: `16.125`"
   ]
  },
  {
   "cell_type": "markdown",
   "id": "22ac0f10-4407-449c-9151-c7811207b934",
   "metadata": {
    "slideshow": {
     "slide_type": "skip"
    },
    "tags": [
     "notes-only"
    ]
   },
   "source": [
    "    0b11110010 = 2^3 + 2^2 + 2^1 + 2^0 + 2^-3 = 15.125"
   ]
  },
  {
   "cell_type": "markdown",
   "id": "3121080f-3a77-4e41-91ba-d473dbfbe1d3",
   "metadata": {
    "slideshow": {
     "slide_type": "skip"
    },
    "tags": [
     "worksheet-only"
    ]
   },
   "source": [
    "<p style=\"height:6em;\"></p>"
   ]
  },
  {
   "cell_type": "markdown",
   "id": "fb359e77-d7de-4d5b-8301-bec3c9de36c3",
   "metadata": {
    "tags": []
   },
   "source": [
    "* Q3: `4.1875`"
   ]
  },
  {
   "cell_type": "markdown",
   "id": "5f18e025-a007-42cf-9fc3-31460b8d39bc",
   "metadata": {
    "slideshow": {
     "slide_type": "skip"
    },
    "tags": [
     "notes-only"
    ]
   },
   "source": [
    "    0b01000011 = 2^2 + 2^0 + 2^-3 + 2^-4 = 4.1875"
   ]
  },
  {
   "cell_type": "markdown",
   "id": "a7b9a0a0-4aee-4abe-b6f1-7563d3a13cfd",
   "metadata": {
    "slideshow": {
     "slide_type": "skip"
    },
    "tags": [
     "worksheet-only"
    ]
   },
   "source": [
    "<p style=\"height:6em;\"></p>\n",
    "\n",
    "🛑 **STOP here** after completing the above questions; if you have extra time please **skip ahead** to the extra practice."
   ]
  },
  {
   "cell_type": "markdown",
   "id": "5c9f90c8-97fb-4c70-9bb9-235a2ebef4e6",
   "metadata": {
    "slideshow": {
     "slide_type": "subslide"
    },
    "tags": []
   },
   "source": [
    "* Q6: _What is the output of this program?_"
   ]
  },
  {
   "cell_type": "code",
   "execution_count": 1,
   "id": "52d49a44-8ade-463a-90a8-ad6337960761",
   "metadata": {
    "tags": [
     "worksheet-code-only"
    ]
   },
   "outputs": [
    {
     "name": "stderr",
     "output_type": "stream",
     "text": [
      "/var/folders/bd/35sz70xs5837wszrx11bw1yc0000gn/T/tmpldbbut6g.c:5:15: warning: array comparison always evaluates to false [-Wtautological-compare]\n",
      "    if (first == second) {\n",
      "              ^\n",
      "1 warning generated.\n"
     ]
    },
    {
     "name": "stdout",
     "output_type": "stream",
     "text": [
      "End\n"
     ]
    }
   ],
   "source": [
    "#include <stdio.h>\n",
    "int main() {\n",
    "    char first[] = \"Systems is fun!\";\n",
    "    char second[] = \"Systems is fun!\";\n",
    "    if (first == second) {\n",
    "        printf(\"1st == 2nd\\n\");\n",
    "    }\n",
    "    if (strcmp(first, second)) {\n",
    "        printf(\"1st cmp 2nd\\n\");\n",
    "    }\n",
    "    printf(\"End\\n\");\n",
    "}"
   ]
  },
  {
   "cell_type": "markdown",
   "id": "59694bab-2b55-4eb6-8f8d-c4ef99838701",
   "metadata": {},
   "source": [
    "* Q11: _Write a program that asks the user for a string and checks if the string is a palindrome (i.e., reads the same forwards and backwards)._"
   ]
  },
  {
   "cell_type": "code",
   "execution_count": null,
   "id": "a7c233b9-881b-4020-b592-1d743707f014",
   "metadata": {
    "slideshow": {
     "slide_type": "skip"
    },
    "tags": [
     "notes-only"
    ]
   },
   "outputs": [],
   "source": [
    "#include <stdio.h>\n",
    "#include <stdlib.h>\n",
    "#include <string.h>\n",
    "int main() {\n",
    "    char str[100];\n",
    "    printf(\"String? \");\n",
    "    fgets(str, 100, stdin);\n",
    "    str[strlen(str)-1] = '\\0'; // strip newline\n",
    "    for (int i = 0; i < strlen(str) / 2; i++) {\n",
    "        if (str[i] != str[strlen(str)-i-1]) {\n",
    "            printf(\"Not a palindrome\\n\");\n",
    "            return EXIT_SUCCESS;\n",
    "        }\n",
    "    }\n",
    "    printf(\"Palindrome\\n\");\n",
    "    return EXIT_SUCCESS;\n",
    "}"
   ]
  }
 ],
 "metadata": {
  "kernelspec": {
   "display_name": "C",
   "language": "c",
   "name": "c"
  },
  "language_info": {
   "file_extension": ".c",
   "mimetype": "c",
   "name": "c"
  }
 },
 "nbformat": 4,
 "nbformat_minor": 5
}
