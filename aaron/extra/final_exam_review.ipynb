{
 "cells": [
  {
   "cell_type": "markdown",
   "id": "e5f3d3b4-c8f1-4232-b016-ebf3c87685eb",
   "metadata": {},
   "source": [
    "### Scheduling"
   ]
  },
  {
   "cell_type": "markdown",
   "id": "ce49f573-8bf5-4570-bdbb-40688e8b2346",
   "metadata": {},
   "source": [
    "_Consider the following set of processes:_\n",
    "\n",
    "| Process | Duration | Arrival Time |\n",
    "|---------|----------|--------------|\n",
    "| A       | 20       | 0            |\n",
    "| B       | 15       | 0            |\n",
    "| C       | 25       | 5            |\n",
    "| D       | 5        | 10           |"
   ]
  },
  {
   "cell_type": "markdown",
   "id": "26aafc1d-04c3-43c4-a98b-fcd4f4870fee",
   "metadata": {},
   "source": [
    "* Q11: _Draw the schedule when a First In First Out (FIFO) scheduling algorithm is used._"
   ]
  },
  {
   "cell_type": "markdown",
   "id": "14ba2a74-eb9a-4e99-a613-76946a5562a6",
   "metadata": {
    "slideshow": {
     "slide_type": "skip"
    },
    "tags": [
     "notes-only"
    ]
   },
   "source": [
    "```\n",
    "  A                   B              C                        D\n",
    "|-------------------|--------------|------------------------|----|\n",
    "0                   20             35                       60   65\n",
    "```"
   ]
  },
  {
   "cell_type": "markdown",
   "id": "f0afc11b-ddac-4c1c-83cd-2fc1e703d48d",
   "metadata": {
    "slideshow": {
     "slide_type": "skip"
    },
    "tags": [
     "worksheet-only"
    ]
   },
   "source": [
    "<p style=\"height:8em;\"></p>"
   ]
  },
  {
   "cell_type": "markdown",
   "id": "052496cd-20c0-4fc4-b712-25f9edea6f67",
   "metadata": {},
   "source": [
    "* Q12: _Compute the turnaround and wait time for each process based on the above schedule._"
   ]
  },
  {
   "cell_type": "markdown",
   "id": "b9b830d9-b758-48b0-8040-9d70279f6d31",
   "metadata": {
    "slideshow": {
     "slide_type": "skip"
    },
    "tags": [
     "notes-only"
    ]
   },
   "source": [
    "| Process | Turnaround | Wait |\n",
    "|---------|------------|------|\n",
    "| A       | 20         | 0    |\n",
    "| B       | 35         | 20   |\n",
    "| C       | 55         | 30   |\n",
    "| D       | 55         | 50   |"
   ]
  },
  {
   "cell_type": "markdown",
   "id": "e5efc756-307b-484a-8538-57724567e559",
   "metadata": {
    "tags": [
     "worksheet-only"
    ]
   },
   "source": [
    "| Process | Turnaround | Wait |\n",
    "|---------|------------|------|\n",
    "| A       |            |      |\n",
    "| B       |            |      |\n",
    "| C       |            |      |\n",
    "| D       |            |      |"
   ]
  },
  {
   "cell_type": "markdown",
   "id": "5067f816-1666-46cd-9468-3fbf0ab79529",
   "metadata": {},
   "source": [
    "* Q13: _Draw the schedule when a Shortest Job First (SJF) scheduling algorithm is used._"
   ]
  },
  {
   "cell_type": "markdown",
   "id": "ff8fa777-c68d-4494-a13f-30d52c7b0012",
   "metadata": {
    "slideshow": {
     "slide_type": "skip"
    },
    "tags": [
     "notes-only"
    ]
   },
   "source": [
    "```\n",
    "  B              D    A                   C\n",
    "|--------------|----|-------------------|------------------------|\n",
    "0              15   20                  40                       65\n",
    "```"
   ]
  },
  {
   "cell_type": "markdown",
   "id": "fe74702b-fe34-4bd9-b09b-9334910c0218",
   "metadata": {
    "slideshow": {
     "slide_type": "skip"
    },
    "tags": [
     "worksheet-only"
    ]
   },
   "source": [
    "<p style=\"height:8em;\"></p>"
   ]
  },
  {
   "cell_type": "markdown",
   "id": "89ecacdd-bd08-4608-8cd0-7a7a98b6ae99",
   "metadata": {},
   "source": [
    "* Q14: _Compute the turnaround and wait time for each process based on the above schedule._"
   ]
  },
  {
   "cell_type": "markdown",
   "id": "98c42013-08b5-46e1-9d8f-6b198dbdeda1",
   "metadata": {
    "slideshow": {
     "slide_type": "skip"
    },
    "tags": [
     "notes-only"
    ]
   },
   "source": [
    "| Process | Turnaround | Wait |\n",
    "|---------|------------|------|\n",
    "| A       | 40         | 20   |\n",
    "| B       | 15         | 0    |\n",
    "| C       | 60         | 35   |\n",
    "| D       | 10         | 5    |"
   ]
  },
  {
   "cell_type": "markdown",
   "id": "51292a4e-1dc5-469a-b8a2-c7cbe53beaf9",
   "metadata": {
    "tags": [
     "worksheet-only"
    ]
   },
   "source": [
    "| Process | Turnaround | Wait |\n",
    "|---------|------------|------|\n",
    "| A       |            |      |\n",
    "| B       |            |      |\n",
    "| C       |            |      |\n",
    "| D       |            |      |"
   ]
  },
  {
   "cell_type": "markdown",
   "id": "52b22360-7130-46fd-bcfb-0d363634b790",
   "metadata": {},
   "source": [
    "* Q15: _Draw the schedule when a Shortest Time to Completion First (STCF) scheduling algorithm is used._"
   ]
  },
  {
   "cell_type": "markdown",
   "id": "2ffcba02-5c33-4c14-b057-cd3cad2d672e",
   "metadata": {
    "slideshow": {
     "slide_type": "skip"
    },
    "tags": [
     "notes-only"
    ]
   },
   "source": [
    "```\n",
    "  B              D    A                   C\n",
    "|--------------|----|-------------------|------------------------|\n",
    "0              15   20                  40                       65\n",
    "```"
   ]
  },
  {
   "cell_type": "markdown",
   "id": "2460b26e-dcdf-4bd5-a9e4-701f3e2dadb9",
   "metadata": {
    "slideshow": {
     "slide_type": "skip"
    },
    "tags": [
     "worksheet-only"
    ]
   },
   "source": [
    "<p style=\"height:8em;\"></p>"
   ]
  },
  {
   "cell_type": "markdown",
   "id": "2745cf65-9e4a-48d1-ab6a-a57a29f4dcd7",
   "metadata": {},
   "source": [
    "* Q16: _Compute the turnaround and wait time for each process based on the above schedule._"
   ]
  },
  {
   "cell_type": "markdown",
   "id": "f26a352f-6d58-48cc-b7fa-01923b61582d",
   "metadata": {
    "slideshow": {
     "slide_type": "skip"
    },
    "tags": [
     "notes-only"
    ]
   },
   "source": [
    "| Process | Turnaround | Wait |\n",
    "|---------|------------|------|\n",
    "| A       | 40         | 20   |\n",
    "| B       | 15         | 0    |\n",
    "| C       | 60         | 35   |\n",
    "| D       | 10         | 5    |"
   ]
  },
  {
   "cell_type": "markdown",
   "id": "da0e7098-02ef-4c63-b549-4a481e741617",
   "metadata": {
    "tags": [
     "worksheet-only"
    ]
   },
   "source": [
    "| Process | Turnaround | Wait |\n",
    "|---------|------------|------|\n",
    "| A       |            |      |\n",
    "| B       |            |      |\n",
    "| C       |            |      |\n",
    "| D       |            |      |\n",
    "\n",
    "<div style=\"page-break-after:always;\"></div>"
   ]
  },
  {
   "cell_type": "markdown",
   "id": "20372d7b-0595-424e-b968-79422d797b95",
   "metadata": {},
   "source": [
    "* Q17: _Draw the schedule when a Round Round (RR) scheduling algorithm is used with a time quantum of 10._"
   ]
  },
  {
   "cell_type": "markdown",
   "id": "56217338-c54a-4e71-ae81-7e62b832fe9f",
   "metadata": {
    "slideshow": {
     "slide_type": "skip"
    },
    "tags": [
     "notes-only"
    ]
   },
   "source": [
    "```\n",
    "  A         B         C         D   A          B    C\n",
    "|---------|---------|---------|----|---------|----|-------------------|\n",
    "0         10        20        30   35        45   50                  65\n",
    "```"
   ]
  },
  {
   "cell_type": "markdown",
   "id": "155490a8-8438-4763-b4cb-943c27865e57",
   "metadata": {
    "slideshow": {
     "slide_type": "skip"
    },
    "tags": [
     "worksheet-only"
    ]
   },
   "source": [
    "<p style=\"height:8em;\"></p>"
   ]
  },
  {
   "cell_type": "markdown",
   "id": "22bee578-6da6-46bd-b538-2292c534e59d",
   "metadata": {},
   "source": [
    "* Q18: _Compute the turnaround and wait time for each process based on the above schedule._"
   ]
  },
  {
   "cell_type": "markdown",
   "id": "31c814e3-c409-4a54-81bb-0ab0d400c271",
   "metadata": {
    "slideshow": {
     "slide_type": "skip"
    },
    "tags": [
     "notes-only"
    ]
   },
   "source": [
    "| Process | Turnaround | Wait |\n",
    "|---------|------------|------|\n",
    "| A       | 45         | 25   |\n",
    "| B       | 50         | 35   |\n",
    "| C       | 60         | 35   |\n",
    "| D       | 25         | 20   |"
   ]
  },
  {
   "cell_type": "markdown",
   "id": "680d86ee-2c5d-43f1-8e19-8bdae5595f1e",
   "metadata": {
    "tags": [
     "worksheet-only"
    ]
   },
   "source": [
    "| Process | Turnaround | Wait |\n",
    "|---------|------------|------|\n",
    "| A       |            |      |\n",
    "| B       |            |      |\n",
    "| C       |            |      |\n",
    "| D       |            |      |"
   ]
  },
  {
   "cell_type": "markdown",
   "id": "8b7afe8d-4af2-4fed-b99c-40fe84c171aa",
   "metadata": {},
   "source": [
    "### Loop optimization"
   ]
  },
  {
   "cell_type": "markdown",
   "id": "f7aae81d-b26f-44b1-a8c7-47062170c53b",
   "metadata": {},
   "source": [
    "* Q23: _Modify the following code to perform all relevant loop optimizations. You should assume the length of the key is **significantly smaller** than the length of the plain string, such that the entire key will fit in the cache but the entire plain string will not fit in the cache._"
   ]
  },
  {
   "cell_type": "code",
   "execution_count": null,
   "id": "c1a61f04-9732-462b-864d-9c31aaffd838",
   "metadata": {},
   "outputs": [],
   "source": [
    "char *vigenere(char *plain, char *key, int keylen) {\n",
    "    char *cipher = malloc(sizeof(char) * (strlen(plain) + 1));\n",
    "    cipher[strlen(plain)] = '\\0';\n",
    "    int j = 0;\n",
    "    while (j < keylen) {\n",
    "        int i = j;\n",
    "        while (i < strlen(plain)) {\n",
    "            cipher[i] = (((plain[i] - 'A') + key[j]) % 26) + 'A';\n",
    "            i += keylen;\n",
    "        }\n",
    "        j++;\n",
    "    }\n",
    "    return cipher;\n",
    "}"
   ]
  },
  {
   "cell_type": "markdown",
   "id": "04e8386a-2799-40e8-80b1-2221acebcc7f",
   "metadata": {
    "slideshow": {
     "slide_type": "skip"
    },
    "tags": [
     "notes-only"
    ]
   },
   "source": [
    "Optimizations: loop-invariant code motion to call `strlen` only once; loop interchange to avoid \"jumping around\" the `plain` array (there is now \"jumping around\" the key array, but this is tolerable because the key is small enough to fit entirely in the cache)"
   ]
  },
  {
   "cell_type": "code",
   "execution_count": null,
   "id": "fb7d607f-98db-4d0b-9346-e51ccd691adc",
   "metadata": {
    "slideshow": {
     "slide_type": "skip"
    },
    "tags": [
     "notes-only"
    ]
   },
   "outputs": [],
   "source": [
    "char *vigenere(char *plain, char *key, int keylen) {\n",
    "    int len = strlen(plain);\n",
    "    char *cipher = malloc(sizeof(char) * (len + 1));\n",
    "    cipher[len] = '\\0';\n",
    "    int i = 0;\n",
    "    while (i < len) {\n",
    "        int j = 0;\n",
    "        while (j < keylen && i < len) {\n",
    "            cipher[i] = (((plain[i] - 'A') + key[j]) % 26) + 'A';\n",
    "            j++;\n",
    "            i++;\n",
    "        }\n",
    "    }\n",
    "    return cipher;\n",
    "}"
   ]
  },
  {
   "cell_type": "markdown",
   "id": "a34b47d9-3e6a-45c3-9388-1753a11caaa7",
   "metadata": {
    "slideshow": {
     "slide_type": "skip"
    },
    "tags": [
     "notes-only"
    ]
   },
   "source": [
    "Alternative code with same optimizations"
   ]
  },
  {
   "cell_type": "code",
   "execution_count": null,
   "id": "7bc7324a-1ca9-4adb-8d15-1a356a9b2c64",
   "metadata": {
    "slideshow": {
     "slide_type": "skip"
    },
    "tags": [
     "notes-only"
    ]
   },
   "outputs": [],
   "source": [
    "char *vigenere(char *plain, char *key, int keylen) {\n",
    "    int len = strlen(plain);\n",
    "    char *cipher = malloc(sizeof(char) * (len + 1));\n",
    "    cipher[len] = '\\0';\n",
    "    int i = 0;\n",
    "    while (i < len) {\n",
    "        int j = 0;\n",
    "        while (j < keylen && i+j < len) {\n",
    "            cipher[i+j] = (((plain[i+j] - 'A') + key[j]) % 26) + 'A';\n",
    "            j++;\n",
    "        }\n",
    "        i += keylen;\n",
    "    }\n",
    "    return cipher;\n",
    "}"
   ]
  },
  {
   "cell_type": "markdown",
   "id": "e244be3e-4bed-4191-aa1f-e9e546e52cdf",
   "metadata": {
    "slideshow": {
     "slide_type": "skip"
    },
    "tags": [
     "worksheet-only"
    ]
   },
   "source": [
    "<p style=\"height:20em;\"></p>"
   ]
  },
  {
   "cell_type": "markdown",
   "id": "37dd35de-88d0-4b69-b69a-fbed4bc4572f",
   "metadata": {},
   "source": [
    "### Reducing memory accesses"
   ]
  },
  {
   "cell_type": "markdown",
   "id": "e34b509d-b0c2-49ba-aff3-120e372d2d11",
   "metadata": {},
   "source": [
    "* Q26: _Cross-out unnecessary loads and stores for the following assembly code:_"
   ]
  },
  {
   "cell_type": "markdown",
   "id": "cb80be36-866a-4996-bfdd-846e67c802c4",
   "metadata": {
    "tags": [
     "worksheet-only"
    ]
   },
   "source": [
    "```\n",
    "000000000000076c <divide>:                      \n",
    "    76c:    d10083ff     sub    sp, sp, #0x20\n",
    "    770:    b9000fe0     str    w0, [sp, #12]\n",
    "    774:    b9000be1     str    w1, [sp, #8]\n",
    "    778:    12800000     mov    w0, #0xffffffff\n",
    "    77c:    b9001fe0     str    w0, [sp, #28]\n",
    "    780:    b9400fe1     ldr    w1, [sp, #8]\n",
    "    784:    b9400be0     ldr    w0, [sp, #12]\n",
    "    788:    1ac00c20     sdiv   w0, w1, w0\n",
    "    78c:    b9001fe0     str    w0, [sp, #28]\n",
    "    790:    b9401fe0     ldr    w0, [sp, #28]\n",
    "    794:    910083ff     add    sp, sp, #0x20\n",
    "    798:    d65f03c0     ret\n",
    "```"
   ]
  },
  {
   "cell_type": "markdown",
   "id": "47a5f8f9-b38e-4d49-ab53-e328f231dfed",
   "metadata": {
    "slideshow": {
     "slide_type": "skip"
    },
    "tags": [
     "notes-only"
    ]
   },
   "source": [
    "```\n",
    "000000000000076c <divide>:                      \n",
    "    76c:    d10083ff     sub    sp, sp, #0x20   \n",
    "    770:    b9000fe0     str    w0, [sp, #12]\n",
    "    774:    b9000be1     str    w1, [sp, #8]        XXXX\n",
    "    778:    12800000     mov    w0, #0xffffffff     \n",
    "    77c:    b9001fe0     str    w0, [sp, #28]       XXXX\n",
    "    780:    b9400fe1     ldr    w1, [sp, #8]        XXXX\n",
    "    784:    b9400be0     ldr    w0, [sp, #12]\n",
    "    788:    1ac00c20     sdiv   w0, w1, w0      \n",
    "    78c:    b9001fe0     str    w0, [sp, #28]       XXXX\n",
    "    790:    b9401fe0     ldr    w0, [sp, #28]       XXXX\n",
    "    794:    910083ff     add    sp, sp, #0x20   \n",
    "    798:    d65f03c0     ret                    \n",
    "```"
   ]
  },
  {
   "cell_type": "markdown",
   "id": "c7722119-b5aa-45f2-9b51-26e9ebd1cf8b",
   "metadata": {},
   "source": [
    "* Q27: _Cross-out unnecessary loads and stores for the following assembly code:_"
   ]
  },
  {
   "cell_type": "markdown",
   "id": "ada5018e-a52d-406f-bfc9-be8e2342bfbc",
   "metadata": {
    "tags": [
     "worksheet-only"
    ]
   },
   "source": [
    "```\n",
    "000000000000071c <flip>:\n",
    "    71c:    d10083ff     sub    sp, sp, #0x20\n",
    "    720:    b9000fe0     str    w0, [sp, #12]\n",
    "    724:    12800000     mov    w1, #0xffffffff\n",
    "    728:    b9001fe0     str    w1, [sp, #28]\n",
    "    72c:    b9400fe0     ldr    w0, [sp, #12]\n",
    "    730:    7100001f     cmp    w0, #0x0\n",
    "    734:    54000081     b.eq   740 <flip+0x28>\n",
    "    738:    b9001fff     str    wzr, [sp, #28]\n",
    "    73c:    14000002     b      748 <flip+0x2c>\n",
    "    740:    52800020     mov    w0, #0x1\n",
    "    744:    b9001fe0     str    w0, [sp, #28]\n",
    "    748:    b9401fe0     ldr    w0, [sp, #28]\n",
    "    74c:    910083ff     add    sp, sp, #0x20\n",
    "    750:    d65f03c0     ret    \n",
    "```\n",
    "\n",
    "<div style=\"page-break-after:always;\"></div>"
   ]
  },
  {
   "cell_type": "markdown",
   "id": "21f289ce-fde6-4cc8-8f16-c2126c9b702b",
   "metadata": {
    "slideshow": {
     "slide_type": "skip"
    },
    "tags": [
     "notes-only"
    ]
   },
   "source": [
    "```\n",
    "000000000000071c <flip>:\n",
    "    71c:    d10083ff     sub    sp, sp, #0x20\n",
    "    720:    b9000fe0     str    w0, [sp, #12]   XXXX\n",
    "    724:    12800000     mov    w1, #0xffffffff\n",
    "    728:    b9001fe0     str    w1, [sp, #28]\n",
    "    72c:    b9400fe0     ldr    w0, [sp, #12]   XXXX\n",
    "    730:    7100001f     cmp    w0, #0x0\n",
    "    734:    54000081     b.eq   740 <flip+0x28>\n",
    "    738:    b9001fff     str    wzr, [sp, #28]\n",
    "    73c:    14000002     b      748 <flip+0x2c>\n",
    "    740:    52800020     mov    w0, #0x1\n",
    "    744:    b9001fe0     str    w0, [sp, #28]\n",
    "    748:    b9401fe0     ldr    w0, [sp, #28]\n",
    "    74c:    910083ff     add    sp, sp, #0x20\n",
    "    750:    d65f03c0     ret    \n",
    "```"
   ]
  },
  {
   "cell_type": "markdown",
   "id": "9a6afa2a-3a37-430c-8e2e-4b42291eadb3",
   "metadata": {},
   "source": [
    "### Number representation"
   ]
  },
  {
   "cell_type": "markdown",
   "id": "ffd0e0f6-0d7b-4e8f-9f06-998df470d9ed",
   "metadata": {},
   "source": [
    "* Q37: _Convert `0b10101010` to an unsigned decimal number_"
   ]
  },
  {
   "cell_type": "markdown",
   "id": "2be78e8c-e895-4c5b-8cdb-61f08f86baf2",
   "metadata": {
    "slideshow": {
     "slide_type": "skip"
    },
    "tags": [
     "notes-only"
    ]
   },
   "source": [
    "    170"
   ]
  },
  {
   "cell_type": "markdown",
   "id": "cd3721ca-a481-45a5-bd6b-9c4fdce9e60a",
   "metadata": {
    "slideshow": {
     "slide_type": "skip"
    },
    "tags": [
     "worksheet-only"
    ]
   },
   "source": [
    "<p style=\"height:4em;\"></p>"
   ]
  },
  {
   "cell_type": "markdown",
   "id": "6c5f0b66-0d6d-4c2e-9784-c629a71b22e2",
   "metadata": {},
   "source": [
    "* Q38: _Convert `0b10101010` to an signed decimal number_"
   ]
  },
  {
   "cell_type": "markdown",
   "id": "1c9379a6-071d-4311-be33-8a68fa23e9e7",
   "metadata": {
    "slideshow": {
     "slide_type": "skip"
    },
    "tags": [
     "notes-only"
    ]
   },
   "source": [
    "    -86"
   ]
  },
  {
   "cell_type": "markdown",
   "id": "d21a866c-5a82-4705-9318-4ce369bcfe18",
   "metadata": {
    "slideshow": {
     "slide_type": "skip"
    },
    "tags": [
     "worksheet-only"
    ]
   },
   "source": [
    "<p style=\"height:4em;\"></p>"
   ]
  },
  {
   "cell_type": "markdown",
   "id": "e2e2dee2-d261-47aa-87ac-26ae5483d931",
   "metadata": {},
   "source": [
    "* Q39: _Convert `43` to 8-bit two's complement_"
   ]
  },
  {
   "cell_type": "markdown",
   "id": "bac4ca98-6386-4364-b87e-522dd9f80525",
   "metadata": {
    "slideshow": {
     "slide_type": "skip"
    },
    "tags": [
     "notes-only"
    ]
   },
   "source": [
    "    0b00101011"
   ]
  },
  {
   "cell_type": "markdown",
   "id": "e3e7f5b0-5b49-47cf-92c8-7a1ef55219fd",
   "metadata": {
    "slideshow": {
     "slide_type": "skip"
    },
    "tags": [
     "worksheet-only"
    ]
   },
   "source": [
    "<p style=\"height:4em;\"></p>"
   ]
  },
  {
   "cell_type": "markdown",
   "id": "e862c844-1285-4051-b3a3-84a63632da7a",
   "metadata": {},
   "source": [
    "* Q40: _Convert `-43` to 8-bit two's complement_"
   ]
  },
  {
   "cell_type": "markdown",
   "id": "65819e52-609e-49bb-8841-8211901c0ec6",
   "metadata": {
    "slideshow": {
     "slide_type": "skip"
    },
    "tags": [
     "notes-only"
    ]
   },
   "source": [
    "    0b11010101"
   ]
  },
  {
   "cell_type": "markdown",
   "id": "aa083ace-a3ec-4a78-a710-3d45aadd6c17",
   "metadata": {
    "slideshow": {
     "slide_type": "skip"
    },
    "tags": [
     "worksheet-only"
    ]
   },
   "source": [
    "<p style=\"height:4em;\"></p>"
   ]
  },
  {
   "cell_type": "markdown",
   "id": "4a47ac08-79c3-4383-9cbf-40cfef3bbeb5",
   "metadata": {},
   "source": [
    "* Q41: _Compute `(0b1100 ^ 0b1111) & 0b0101`_"
   ]
  },
  {
   "cell_type": "markdown",
   "id": "f2a82dde-8cdc-453b-a978-8803a1687c68",
   "metadata": {
    "slideshow": {
     "slide_type": "skip"
    },
    "tags": [
     "notes-only"
    ]
   },
   "source": [
    "    0b0001"
   ]
  },
  {
   "cell_type": "markdown",
   "id": "56f7035d-8091-4905-8e4e-ac9c2bcc795e",
   "metadata": {
    "slideshow": {
     "slide_type": "skip"
    },
    "tags": [
     "worksheet-only"
    ]
   },
   "source": [
    "<p style=\"height:4em;\"></p>"
   ]
  },
  {
   "cell_type": "markdown",
   "id": "76e0faa1-503c-49cb-a8f1-4cef11e6928b",
   "metadata": {},
   "source": [
    "* Q42: _Compute `(~0b1100) | 0b0101`_"
   ]
  },
  {
   "cell_type": "markdown",
   "id": "07a394cf-5128-48ec-a82a-0bf94039b7e1",
   "metadata": {
    "slideshow": {
     "slide_type": "skip"
    },
    "tags": [
     "notes-only"
    ]
   },
   "source": [
    "    0b0111"
   ]
  },
  {
   "cell_type": "markdown",
   "id": "9205d9b6-7c41-4df5-bd39-3b1730d1d9b1",
   "metadata": {
    "slideshow": {
     "slide_type": "skip"
    },
    "tags": [
     "worksheet-only"
    ]
   },
   "source": [
    "<p style=\"height:4em;\"></p>"
   ]
  },
  {
   "cell_type": "markdown",
   "id": "fb4a8a6b-5f35-4347-b280-5682e20ef9f0",
   "metadata": {},
   "source": [
    "* Q43: _In a system that represents numbers using 8-bit two's complement will the computation `120 + 16` result in overflow, underflow, or neither?_"
   ]
  },
  {
   "cell_type": "markdown",
   "id": "d3ba30f6-b404-44de-aa1c-d9d8d4a41dc0",
   "metadata": {
    "slideshow": {
     "slide_type": "skip"
    },
    "tags": [
     "notes-only"
    ]
   },
   "source": [
    "    overflow"
   ]
  },
  {
   "cell_type": "markdown",
   "id": "99bb090d-c2e0-4577-81db-ac3dc5cda391",
   "metadata": {
    "slideshow": {
     "slide_type": "skip"
    },
    "tags": [
     "worksheet-only"
    ]
   },
   "source": [
    "<p style=\"height:4em;\"></p>"
   ]
  },
  {
   "cell_type": "markdown",
   "id": "5bb40587-8359-46d6-958c-daf59075d383",
   "metadata": {},
   "source": [
    "* Q44: _In a system that represents numbers using 8-bit two's complement will the computation `-120 + -8` result in overflow, underflow, or neither?_"
   ]
  },
  {
   "cell_type": "markdown",
   "id": "12ca5d25-34eb-4170-9fb7-be68f2377ca6",
   "metadata": {
    "slideshow": {
     "slide_type": "skip"
    },
    "tags": [
     "notes-only"
    ]
   },
   "source": [
    "    neither"
   ]
  }
 ],
 "metadata": {
  "kernelspec": {
   "display_name": "Python 3 (ipykernel)",
   "language": "python",
   "name": "python3"
  },
  "language_info": {
   "codemirror_mode": {
    "name": "ipython",
    "version": 3
   },
   "file_extension": ".py",
   "mimetype": "text/x-python",
   "name": "python",
   "nbconvert_exporter": "python",
   "pygments_lexer": "ipython3",
   "version": "3.9.6"
  }
 },
 "nbformat": 4,
 "nbformat_minor": 5
}
