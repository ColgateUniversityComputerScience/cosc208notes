{
 "cells": [
  {
   "cell_type": "markdown",
   "id": "60bebc21-3ef5-4298-8075-f74b620ed45d",
   "metadata": {
    "slideshow": {
     "slide_type": "skip"
    },
    "tags": [
     "notes-only"
    ]
   },
   "source": [
    "## CPU sharing"
   ]
  },
  {
   "cell_type": "markdown",
   "id": "c1193e8d-a1ec-4e91-b2c5-63485d408e60",
   "metadata": {
    "slideshow": {
     "slide_type": "skip"
    },
    "tags": [
     "notes-only"
    ]
   },
   "source": [
    "* Use same approach OS uses for sharing CPU between processes — Limited Direct Execution (LDE)\n",
    "* _Recall: How does LDE work in OS?_\n",
    "    * Put CPU in user mode\n",
    "    * Give process exclusive access to CPU\n",
    "    * Process issues a syscall to perform privileged operation\n",
    "    * Timer interrupt allows OS to regain control\n",
    "* To use LDE with a VM\n",
    "    * Put CPU in user mode\n",
    "    * Give VM exclusive access to CPU\n",
    "    * Process issues a syscall -OR- OS attempts to perform privileged operation\n",
    "    * Timer interrupt allows hypervisor to regain control\n",
    "* Recall: _How does a process make a syscall?_ — load syscall number into register `x8` and execute `svc` instruction\n",
    "* _What happens when a process makes a syscall?_\n",
    "    1. CPU switches to kernel mode\n",
    "    2. CPU saves registers to the OS stack\n",
    "    3. CPU uses system call number to index into OS's table of syscall handlers \n",
    "    4. Branch and link to syscall handler code\n",
    "    5. Restore registers from the OS stack\n",
    "    6. Switch CPU to user mode\n",
    "    7. Resume execution after `svc` \n",
    "* Syscalls with a type 1 hypervisor\n",
    "    * Processes in virtualized OS do the same as before\n",
    "    * Hypervisor’s syscall handler is invoked by hardware instead of OS’s syscall handler\n",
    "    * Actually want to invoke OS's syscall handler — the hypervisor does this\n",
    "    * Hypervisor knows where OS trap table is located, because populating syscall table is a privileged instruction, so hypervisor interposed on these operations when OS booted\n",
    "* Steps when process in virtualized OS makes a syscall\n",
    "    1. CPU switches to kernel mode\n",
    "    2. CPU saves registers to the hypervisor stack\n",
    "    3. CPU uses system call number to index into VM's table of syscall handlers \n",
    "    4. **Switch CPU from kernel to user mode**\n",
    "    5. Branch and link to syscall handler code\n",
    "    6. **Switch CPU from user to kernel mode**\n",
    "    7. Restore registers from the hypervisor stack\n",
    "    8. Switch CPU to user mode\n",
    "    9. Resume execution after `svc`\n",
    "* Extra work to always trap to hypervisor, which then invokes OS code\n",
    "* Possible solutions\n",
    "    * Hardware support — e.g., supervisor mode that is between user and kernel mode\n",
    "    * Para-virtualization — modify the OS so it's aware there is a hypervisor and the two can interact directly\n",
    "    * Containers — use a single OS, but create groups of processes that are isolated from other processes\n",
    "        * OS's process abstraction already isolates each process's CPU time, memory, and registers, but processes can still use syscalls to pass messages to each other, wait for each other, access a common set of files, etc."
   ]
  }
 ],
 "metadata": {
  "kernelspec": {
   "display_name": "C",
   "language": "c",
   "name": "c"
  },
  "language_info": {
   "file_extension": ".c",
   "mimetype": "c",
   "name": "c"
  }
 },
 "nbformat": 4,
 "nbformat_minor": 5
}
