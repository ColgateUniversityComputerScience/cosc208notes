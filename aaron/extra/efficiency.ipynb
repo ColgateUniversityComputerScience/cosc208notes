{
 "cells": [
  {
   "cell_type": "markdown",
   "id": "ad046316-5680-4525-83f7-cb8333771347",
   "metadata": {},
   "source": [
    "* Q1: _Cross-out unnecessary loads and stores in the following assembly code._\n",
    "    ```\n",
    "    0000000000400584 <pow2>:\n",
    "        400584:       d10043ff        sub     sp, sp, #0x10\n",
    "        400588:       b9000fe0        str     w0, [sp, #12]     XXX\n",
    "        40058c:       52800028        mov     w8, #0x1\n",
    "        400590:       b9000be8        str     w8, [sp, #8]      XXX\n",
    "        400594:       b9400fe8        ldr     w0, [sp, #12]     XXX\n",
    "        400598:       7100011f        cmp     w0, #0x0\n",
    "        40059c:       37000128        b.le    4005c0 <pow2+0x3c>\n",
    "        4005a0:       b9400be8        ldr     w8, [sp, #8]      XXX\n",
    "        4005a4:       52800049        mov     w9, #0x2\n",
    "        4005a8:       1b097d08        mul     w8, w8, w9\n",
    "        4005ac:       b9000be8        str     w8, [sp, #8]\n",
    "        4005b0:       b9400fe8        ldr     w0, [sp, #12]     XXX\n",
    "        4005b4:       71000508        subs    w0, w0, #0x1\n",
    "        4005b8:       b9000fe8        str     w0, [sp, #12]     XXX\n",
    "        4005bc:       17fffff5        b       400594 <pow2+0x10>\n",
    "        4005c0:       b9400be0        ldr     w0, [sp, #8]\n",
    "        4005c4:       910043ff        add     sp, sp, #0x10\n",
    "        4005c8:       d65f03c0        ret\n",
    "    ```"
   ]
  },
  {
   "cell_type": "markdown",
   "id": "74bb064b-3048-4914-a4f5-dff722ed5ab6",
   "metadata": {},
   "source": [
    "* Q1: _Modify the following function to better leverage spatial locality_"
   ]
  },
  {
   "cell_type": "code",
   "execution_count": null,
   "id": "6cf310cb-e4d4-480c-a35a-5c59d93ffe1f",
   "metadata": {
    "tags": []
   },
   "outputs": [],
   "source": [
    "void hundreds() {\n",
    "    int *nums = malloc(sizeof(int) * 1000);\n",
    "    for (int i = 0; i < 100; i++) {\n",
    "        for (int j = 0; j < 1000; j+= 100) {\n",
    "            nums[i+j] = i;\n",
    "        }\n",
    "    }\n",
    "}"
   ]
  },
  {
   "cell_type": "code",
   "execution_count": null,
   "id": "b54de061-4e47-4ce9-b98a-624136388eaf",
   "metadata": {
    "slideshow": {
     "slide_type": "skip"
    },
    "tags": [
     "notes-only"
    ]
   },
   "outputs": [],
   "source": [
    "// Perform loop interchange\n",
    "void hundreds_optimized() {\n",
    "    int *nums = malloc(sizeof(int) * 1000);\n",
    "    for (int j = 0; j < 1000; j+= 100) {\n",
    "        for (int i = 0; i < 100; i++) {\n",
    "            nums[i+j] = i;\n",
    "        }\n",
    "    }\n",
    "}"
   ]
  },
  {
   "cell_type": "markdown",
   "id": "f460f81c-7d86-42e6-9c10-ce8a39979c0b",
   "metadata": {
    "slideshow": {
     "slide_type": "skip"
    },
    "tags": [
     "worksheet-only"
    ]
   },
   "source": [
    "<p style=\"height:4em;\"></p>"
   ]
  },
  {
   "cell_type": "markdown",
   "id": "d669ea2c-005a-496b-8f5f-f0c12ec6c0d7",
   "metadata": {
    "slideshow": {
     "slide_type": "subslide"
    },
    "tags": []
   },
   "source": [
    "* Q2: _Modify the following function to improve temporal locality_"
   ]
  },
  {
   "cell_type": "code",
   "execution_count": null,
   "id": "f796c8bf-61ed-454f-a5fd-32f1774bb193",
   "metadata": {},
   "outputs": [],
   "source": [
    "int odds(int *nums, int length) {\n",
    "    for (int i = 0; i < length; i++) {\n",
    "        nums[i] = nums[i] % 2;\n",
    "    }\n",
    "    int count = 0;\n",
    "    for (int j = 0; j < length; j++) {\n",
    "        count += nums[j];\n",
    "    }\n",
    "    return count;\n",
    "}"
   ]
  },
  {
   "cell_type": "code",
   "execution_count": null,
   "id": "bdf3db6d-b9d9-40e2-ab4b-6b84203ede0f",
   "metadata": {
    "slideshow": {
     "slide_type": "skip"
    },
    "tags": [
     "notes-only"
    ]
   },
   "outputs": [],
   "source": [
    "// Perform loop fusion\n",
    "int odds_optimized(int *nums, int length) {\n",
    "    int count = 0;\n",
    "    for (int i = 0; i < length; i++) {\n",
    "        nums[i] = nums[i] % 2;\n",
    "        count += nums[i];\n",
    "    }\n",
    "    return count;\n",
    "}"
   ]
  },
  {
   "cell_type": "markdown",
   "id": "77cdcb43-f5c2-4022-a32b-4f31830d5e1c",
   "metadata": {
    "slideshow": {
     "slide_type": "skip"
    },
    "tags": [
     "worksheet-only"
    ]
   },
   "source": [
    "<p style=\"height:4em;\"></p>"
   ]
  },
  {
   "cell_type": "markdown",
   "id": "7ad521a1-12e2-488b-ad6d-60dfa8fd996b",
   "metadata": {
    "slideshow": {
     "slide_type": "subslide"
    },
    "tags": []
   },
   "source": [
    "* Q3: _Modify the following function to better leverage spatial locality_"
   ]
  },
  {
   "cell_type": "code",
   "execution_count": null,
   "id": "4c40a036-d03b-4fb7-b1ed-2b2ddeffcb8f",
   "metadata": {},
   "outputs": [],
   "source": [
    "void multiplication(int grid[][], int rows, int cols) {\n",
    "    for (int c = 0; c < cols; c++) {\n",
    "        for (int r = 0; r < rows; r++) {\n",
    "            grid[r][c] = c * r;\n",
    "        }\n",
    "    }\n",
    "}"
   ]
  },
  {
   "cell_type": "code",
   "execution_count": null,
   "id": "b7037d68-9535-4626-be91-b14d4e07e3f5",
   "metadata": {
    "slideshow": {
     "slide_type": "skip"
    },
    "tags": [
     "notes-only"
    ]
   },
   "outputs": [],
   "source": [
    "// Perform loop interchange\n",
    "void multiplication_optimized(int grid[][], int rows, int cols) {\n",
    "    for (int r = 0; r < rows; r++) {\n",
    "        for (int c = 0; c < cols; c++) {\n",
    "            grid[r][c] = c * r;\n",
    "        }\n",
    "    }\n",
    "}"
   ]
  },
  {
   "cell_type": "markdown",
   "id": "77238e64-9699-4ab7-8b03-9c0164c34888",
   "metadata": {
    "slideshow": {
     "slide_type": "skip"
    },
    "tags": [
     "worksheet-only"
    ]
   },
   "source": [
    "<div style=\"page-break-after:always;\"></div>"
   ]
  },
  {
   "cell_type": "markdown",
   "id": "a32249e4-fa98-4981-9d1a-1a123daf1caa",
   "metadata": {
    "slideshow": {
     "slide_type": "subslide"
    },
    "tags": []
   },
   "source": [
    "* Q4: _Modify the following function to improve temporal locality_"
   ]
  },
  {
   "cell_type": "code",
   "execution_count": null,
   "id": "5004021c-ca68-4ff0-b73e-be65d7149afb",
   "metadata": {},
   "outputs": [],
   "source": [
    "long stdev(int *nums, int length) {\n",
    "    long sum = 0;\n",
    "    for (int i = 0; i < length; i++) {\n",
    "        sum += nums[i];\n",
    "    }\n",
    "    int mean = sum / length;\n",
    "    sum = 0;\n",
    "    for (int j = 0; j < length; j++) {\n",
    "        int diff = nums[j] - mean;\n",
    "        sum += diff * diff:\n",
    "    }\n",
    "    mean = sum / length;\n",
    "    return sqrt(mean);\n",
    "}"
   ]
  },
  {
   "cell_type": "markdown",
   "id": "1ebfbbc7-312b-4d36-9192-c16e8b6565b5",
   "metadata": {
    "slideshow": {
     "slide_type": "skip"
    },
    "tags": [
     "notes-only"
    ]
   },
   "source": [
    "    It's not possible to optimize this code more:\n",
    "    no loops to interchange and loops cannot be fused."
   ]
  },
  {
   "cell_type": "markdown",
   "id": "e0affaa3-4015-4047-afdf-22f19626e12b",
   "metadata": {
    "slideshow": {
     "slide_type": "slide"
    },
    "tags": []
   },
   "source": [
    "## Extra practice"
   ]
  },
  {
   "cell_type": "markdown",
   "id": "9b95352a-22d0-4038-9132-dd3876f06500",
   "metadata": {},
   "source": [
    "* Q5: _Modify the `prediction` function to improve locality_"
   ]
  },
  {
   "cell_type": "code",
   "execution_count": null,
   "id": "c6c50509-5a2d-422c-9f7d-455ec71f18cf",
   "metadata": {},
   "outputs": [],
   "source": [
    "char prediction(int *votes, char *projection) {\n",
    "    int democrat = 0;\n",
    "    int republican = 0;\n",
    "    int length = strlen(projection);\n",
    "    for (int d = 0; d < length; d++) {\n",
    "        if (projection[d] == 'D') {\n",
    "            democrat += votes[d];\n",
    "        }\n",
    "    }\n",
    "    for (int r = 0; r < length; r++) {\n",
    "        if (projection[r] == 'R') {\n",
    "            republican += votes[r];\n",
    "        }\n",
    "    }\n",
    "    if (democrat > republican) {\n",
    "        return 'D';\n",
    "    }\n",
    "    else {\n",
    "        return 'R';\n",
    "    }\n",
    "}"
   ]
  },
  {
   "cell_type": "code",
   "execution_count": null,
   "id": "0b1333e6-14fb-4bc4-95c9-0d021a3b4af1",
   "metadata": {
    "slideshow": {
     "slide_type": "skip"
    },
    "tags": [
     "notes-only"
    ]
   },
   "outputs": [],
   "source": [
    "// Perform loop fusion\n",
    "char prediction(int *votes, char *projection) {\n",
    "    int democrat = 0;\n",
    "    int republican = 0;\n",
    "    int length = strlen(projection);\n",
    "    for (int v = 0; v < length; v++) {\n",
    "        if (projection[v] == 'D') {\n",
    "            democrat += votes[v];\n",
    "        }\n",
    "        if (projection[v] == 'R') {\n",
    "            republican += votes[v];\n",
    "        }\n",
    "    }\n",
    "    if (democrat > republican) {\n",
    "        return 'D';\n",
    "    }\n",
    "    else {\n",
    "        return 'R';\n",
    "    }\n",
    "}"
   ]
  },
  {
   "cell_type": "markdown",
   "id": "66e71f0c-363e-4c8b-b8f9-2495fa676448",
   "metadata": {
    "slideshow": {
     "slide_type": "skip"
    },
    "tags": [
     "worksheet-only"
    ]
   },
   "source": [
    "<p style=\"height:4em;\"></p>"
   ]
  },
  {
   "cell_type": "markdown",
   "id": "2d3f61d7-16c6-465c-8bd1-506acb0b3dd2",
   "metadata": {
    "slideshow": {
     "slide_type": "subslide"
    },
    "tags": []
   },
   "source": [
    "* Q6: _Modify the `rowSum` function to improve locality_"
   ]
  },
  {
   "cell_type": "code",
   "execution_count": null,
   "id": "326a56f3-a00f-44a3-84b4-73430fb11840",
   "metadata": {},
   "outputs": [],
   "source": [
    "int *rowSum(int grid[][], int rows, int cols) {\n",
    "    int *sums = malloc(sizeof(int) * rows);\n",
    "    for (int i = 0; i < rows; i++) {\n",
    "        sum[i] = 0;\n",
    "    }\n",
    "    for (int r = 0; r < rows; r++) {\n",
    "        for (int c = 0; c < cols; c++) {\n",
    "            sums[r] += grid[r][c];\n",
    "        }\n",
    "    }\n",
    "    return sums;\n",
    "}"
   ]
  },
  {
   "cell_type": "code",
   "execution_count": null,
   "id": "baf4152c-2e50-4220-9f94-e68716b6d98f",
   "metadata": {
    "slideshow": {
     "slide_type": "skip"
    },
    "tags": [
     "notes-only"
    ]
   },
   "outputs": [],
   "source": [
    "// Perform loop fusion\n",
    "int *rowSum(int grid[][], int rows, int cols) {\n",
    "    int *sums = malloc(sizeof(int) * rows);\n",
    "    for (int r = 0; r < rows; r++) {\n",
    "        sum[r] = 0;\n",
    "        for (int c = 0; c < cols; c++) {\n",
    "            sums[r] += grid[r][c];\n",
    "        }\n",
    "    }\n",
    "    return sums;\n",
    "}"
   ]
  },
  {
   "cell_type": "markdown",
   "id": "dffd2332-e815-4e7e-8aea-e1b5aeaa1543",
   "metadata": {
    "slideshow": {
     "slide_type": "skip"
    },
    "tags": [
     "worksheet-only"
    ]
   },
   "source": [
    "<p style=\"height:12em;\"></p>"
   ]
  },
  {
   "cell_type": "markdown",
   "id": "b2373903-72d7-4ddd-aed9-6a868f17c410",
   "metadata": {
    "slideshow": {
     "slide_type": "slide"
    },
    "tags": []
   },
   "source": [
    "## Better use of registers"
   ]
  },
  {
   "cell_type": "markdown",
   "id": "6dae0104-2c7a-44c6-90b3-404c92154dce",
   "metadata": {
    "slideshow": {
     "slide_type": "skip"
    },
    "tags": [
     "notes-only"
    ]
   },
   "source": [
    "* Loads and stores are unnecessary when the value of a register is not changed between store and load instructions involving the same register and memory address\n",
    "    * Example load and store which is _unnecessary_\n",
    "        ```\n",
    "        str x0, [sp,#4]\n",
    "        ldr x0, [sp,#4]\n",
    "        ```\n",
    "    * Example load and store which is _necessary_\n",
    "        ```\n",
    "        str w0, [sp,#4]\n",
    "        mov w0, #0x1\n",
    "        str w0, [sp]\n",
    "        ldr w0, [sp,#4]\n",
    "        ```"
   ]
  },
  {
   "cell_type": "markdown",
   "id": "914140ff-2fef-45dc-8dcf-152d17c47ef2",
   "metadata": {},
   "source": [
    "* Q1: _Cross-out unnecessary loads and stores in the following assembly code_"
   ]
  },
  {
   "cell_type": "markdown",
   "id": "a3ef2db1-40f0-43aa-b014-7bdb51698c3e",
   "metadata": {
    "slideshow": {
     "slide_type": "skip"
    },
    "tags": [
     "notes-only"
    ]
   },
   "source": [
    "```\n",
    "000000000000088c <interest_due>:\n",
    "    88c:    sub    sp, sp, #0x20\n",
    "    890:    str    w0, [sp, #12]    XXXXX\n",
    "    894:    str    w1, [sp, #8]     XXXXX\n",
    "    898:    ldr    w0, [sp, #12]    XXXXX\n",
    "    89c:    ldr    w1, [sp, #8]     XXXXX\n",
    "    8a0:    mul    w0, w1, w0\n",
    "    8a4:    str    w0, [sp, #20]\n",
    "    8a8:    mov    w0, #0x4b0\n",
    "    8ac:    str    w0, [sp, #24]    XXXXX\n",
    "    8b0:    ldr    w1, [sp, #20]\n",
    "    8b4:    ldr    w0, [sp, #24]    XXXXX\n",
    "    8b8:    sdiv   w0, w1, w0\n",
    "    8bc:    str    w0, [sp, #28]    XXXXX\n",
    "    8c0:    ldr    w0, [sp, #28]    XXXXX\n",
    "    8c4:    add    sp, sp, #0x20\n",
    "    8c8:    ret\n",
    "```"
   ]
  },
  {
   "cell_type": "markdown",
   "id": "0a418022-c37f-4df3-b873-ca3a75dcdf7d",
   "metadata": {
    "slideshow": {
     "slide_type": "skip"
    },
    "tags": [
     "notes-only"
    ]
   },
   "source": [
    "```\n",
    "0000000000400544 <sum>:\n",
    "    400544:    d10043ff     sub    sp, sp, #0x10\n",
    "    400548:    b9000fe0     str    w0, [sp, #12]\n",
    "    40054c:    b9000be1     str    w1, [sp, #8] \n",
    "    400550:    b9400fe8     ldr    w8, [sp, #12]\n",
    "    400554:    b9400be9     ldr    w9, [sp, #8] \n",
    "    400558:    0b090108     add    w8, w8, w9   \n",
    "    40055c:    b90007e8     str    w8, [sp, #4] \n",
    "    400560:    b94007e0     ldr    w0, [sp, #4] \n",
    "    400564:    910043ff     add    sp, sp, #0x10\n",
    "    400568:    d65f03c0     ret                 \n",
    "```"
   ]
  },
  {
   "cell_type": "markdown",
   "id": "60bb4bfb-f97a-4564-ab14-cb1de92f0eb5",
   "metadata": {
    "tags": [
     "worksheet-only"
    ]
   },
   "source": [
    "```\n",
    "000000000000088c <interest_due>:\n",
    "    88c:    sub    sp, sp, #0x20\n",
    "    890:    str    w0, [sp, #12]\n",
    "    894:    str    w1, [sp, #8]\n",
    "    898:    ldr    w0, [sp, #12]\n",
    "    89c:    ldr    w1, [sp, #8] \n",
    "    8a0:    mul    w0, w1, w0\n",
    "    8a4:    str    w0, [sp, #20]\n",
    "    8a8:    mov    w0, #0x4b0\n",
    "    8ac:    str    w0, [sp, #24]\n",
    "    8b0:    ldr    w1, [sp, #20]\n",
    "    8b4:    ldr    w0, [sp, #24] \n",
    "    8b8:    sdiv   w0, w1, w0\n",
    "    8bc:    str    w0, [sp, #28] \n",
    "    8c0:    ldr    w0, [sp, #28] \n",
    "    8c4:    add    sp, sp, #0x20\n",
    "    8c8:    ret\n",
    "```"
   ]
  },
  {
   "cell_type": "markdown",
   "id": "3cfe23f6-7ac4-4e18-b984-efbb388eb4e3",
   "metadata": {
    "slideshow": {
     "slide_type": "subslide"
    },
    "tags": [
     "worksheet-only"
    ]
   },
   "source": [
    "```\n",
    "0000000000400544 <sum>:\n",
    "    400544:    d10043ff     sub    sp, sp, #0x10\n",
    "    400548:    b9000fe0     str    w0, [sp, #12]\n",
    "    40054c:    b9000be1     str    w1, [sp, #8] \n",
    "    400550:    b9400fe8     ldr    w8, [sp, #12]\n",
    "    400554:    b9400be9     ldr    w9, [sp, #8] \n",
    "    400558:    0b090108     add    w8, w8, w9   \n",
    "    40055c:    b90007e8     str    w8, [sp, #4] \n",
    "    400560:    b94007e0     ldr    w0, [sp, #4] \n",
    "    400564:    910043ff     add    sp, sp, #0x10\n",
    "    400568:    d65f03c0     ret                 \n",
    "```"
   ]
  },
  {
   "cell_type": "markdown",
   "id": "fbfb2ee8-fe5d-4d8f-a300-18c909b05de9",
   "metadata": {
    "slideshow": {
     "slide_type": "skip"
    },
    "tags": [
     "notes-only"
    ]
   },
   "source": [
    "* Update register assignments to eliminate loads and stores\n",
    "    * Must preserve calling conventions\n",
    "        * Parameters are stored in w/x0, w/x1, ...\n",
    "        * Return value is stored in w/x0\n",
    "        * Caller must store register values into caller's stack frame before `bl` to callee — actually only needed if values in registers are needed by caller after `bl` and callee overwrites the values in those registers\n",
    "    * Example"
   ]
  },
  {
   "cell_type": "markdown",
   "id": "7ffee86f-de64-4739-8e29-cb7374f575a1",
   "metadata": {
    "slideshow": {
     "slide_type": "skip"
    },
    "tags": [
     "notes-only"
    ]
   },
   "source": [
    "```\n",
    "000000000000088c <interest_due>:\n",
    "    88c:    sub    sp, sp, #0x20    XXXXX\n",
    "    8a0:    mul    w0, w1, w0       \n",
    "    8a4:    str    w0, [sp, #20]    XXXXX\n",
    "    8a8:    mov    w0, #0x4b0       // mov w1 #0x4b0\n",
    "    8b0:    ldr    w1, [sp, #20]    XXXXX\n",
    "    8b8:    sdiv   w0, w1, w0       // sdiv w0, w0, w1\n",
    "    8c4:    add    sp, sp, #0x20    XXXXX\n",
    "    8c8:    ret\n",
    "```"
   ]
  },
  {
   "cell_type": "markdown",
   "id": "87c455b5-1633-4fc1-8dee-61070a22c1ed",
   "metadata": {
    "slideshow": {
     "slide_type": "skip"
    },
    "tags": [
     "notes-only"
    ]
   },
   "source": [
    "```\n",
    "0000000000400544 <sum>:\n",
    "    400544:    d10043ff     sub    sp, sp, #0x10    XXXXX\n",
    "    400548:    b9000fe0     str    w0, [sp, #12]    XXXXX\n",
    "    40054c:    b9000be1     str    w1, [sp, #8]     XXXXX\n",
    "    400550:    b9400fe8     ldr    w8, [sp, #12]    XXXXX\n",
    "    400554:    b9400be9     ldr    w9, [sp, #8]     XXXXX\n",
    "    400558:    0b090108     add    w8, w8, w9       // add w0, w0, w1\n",
    "    40055c:    b90007e8     str    w8, [sp, #4]     XXXXX\n",
    "    400560:    b94007e0     ldr    w0, [sp, #4]     XXXXX\n",
    "    400564:    910043ff     add    sp, sp, #0x10    XXXXX\n",
    "    400568:    d65f03c0     ret                 \n",
    "```"
   ]
  },
  {
   "cell_type": "markdown",
   "id": "3bd01d16-64db-4d98-bd32-902a24f283a7",
   "metadata": {
    "slideshow": {
     "slide_type": "slide"
    },
    "tags": []
   },
   "source": [
    "## Extra practice"
   ]
  },
  {
   "cell_type": "markdown",
   "id": "42e11740-c33c-4acf-996a-d5afbde128d5",
   "metadata": {},
   "source": [
    "* Q5: _Cross-out unnecessary loads and stores in the following assembly code._"
   ]
  },
  {
   "cell_type": "markdown",
   "id": "4118a440-7f36-40f8-8700-cb6c1cdb064e",
   "metadata": {
    "slideshow": {
     "slide_type": "skip"
    },
    "tags": [
     "notes-only"
    ]
   },
   "source": [
    "```\n",
    "0000000000400544 <adjust>:                          \n",
    "    400544:  d10043ff   sub  sp, sp, #0x10          \n",
    "    400548:  b9000fe0   str  w0, [sp, #12]          \n",
    "    40054c:  b9400fe8   ldr  w8, [sp, #12]          \n",
    "    400550:  7100291f   cmp  w8, #0xa               \n",
    "    400554:  540000ca   b.ge 40056c <adjust+0x28>   \n",
    "    400558:  b9400fe8   ldr  w8, [sp, #12]          XXX\n",
    "    40055c:  52800149   mov  w9, #0xa               \n",
    "    400560:  1b097d08   mul  w8, w8, w9             \n",
    "    400564:  b9000fe8   str  w8, [sp, #12]          \n",
    "    400568:  14000005   b    40057c <adjust+0x38>   \n",
    "    40056c:  b9400fe8   ldr  w8, [sp, #12]          XXX\n",
    "    400570:  52800149   mov  w9, #0xa               \n",
    "    400574:  1ac90d08   sdiv w8, w8, w9             \n",
    "    400578:  b9000fe8   str  w8, [sp, #12]          \n",
    "    40057c:  b9400fe0   ldr  w0, [sp, #12]          \n",
    "    400580:  910043ff   add  sp, sp, #0x10          \n",
    "    400584:  d65f03c0   ret                         \n",
    "```"
   ]
  },
  {
   "cell_type": "markdown",
   "id": "57d00d32-4183-497b-94b9-129aee2146b3",
   "metadata": {
    "tags": [
     "worksheet-only"
    ]
   },
   "source": [
    "```\n",
    "0000000000400544 <adjust>:                          \n",
    "    400544:  d10043ff   sub  sp, sp, #0x10          \n",
    "    400548:  b9000fe0   str  w0, [sp, #12]          \n",
    "    40054c:  b9400fe8   ldr  w8, [sp, #12]          \n",
    "    400550:  7100291f   cmp  w8, #0xa               \n",
    "    400554:  540000ca   b.ge 40056c <adjust+0x28>   \n",
    "    400558:  b9400fe8   ldr  w8, [sp, #12]          \n",
    "    40055c:  52800149   mov  w9, #0xa               \n",
    "    400560:  1b097d08   mul  w8, w8, w9             \n",
    "    400564:  b9000fe8   str  w8, [sp, #12]          \n",
    "    400568:  14000005   b    40057c <adjust+0x38>   \n",
    "    40056c:  b9400fe8   ldr  w8, [sp, #12]          \n",
    "    400570:  52800149   mov  w9, #0xa               \n",
    "    400574:  1ac90d08   sdiv w8, w8, w9             \n",
    "    400578:  b9000fe8   str  w8, [sp, #12]          \n",
    "    40057c:  b9400fe0   ldr  w0, [sp, #12]          \n",
    "    400580:  910043ff   add  sp, sp, #0x10          \n",
    "    400584:  d65f03c0   ret                         \n",
    "```"
   ]
  },
  {
   "cell_type": "markdown",
   "id": "9cdd4fc6-0025-4cd4-a1ff-8f131139816b",
   "metadata": {
    "slideshow": {
     "slide_type": "skip"
    },
    "tags": [
     "notes-only"
    ]
   },
   "source": [
    "```\n",
    "000000000000076c <divide_safe>:\n",
    "    76c:    d10083ff     sub    sp, sp, #0x20\n",
    "    770:    b9000fe0     str    w0, [sp, #12]\n",
    "    774:    b9000be1     str    w1, [sp, #8]\n",
    "    778:    12800000     mov    w0, #0xffffffff\n",
    "    77c:    b9001fe0     str    w0, [sp, #28]\n",
    "    780:    b9400be0     ldr    w0, [sp, #8]\n",
    "    784:    7100001f     cmp    w0, #0x0\n",
    "    788:    540000a0     b.eq   79c <divide_safe+0x30>\n",
    "    78c:    b9400fe1     ldr    w1, [sp, #12]\n",
    "    790:    b9400be0     ldr    w0, [sp, #8]    XXX\n",
    "    794:    1ac00c20     sdiv   w0, w1, w0\n",
    "    798:    b9001fe0     str    w0, [sp, #28]\n",
    "    79c:    b9401fe0     ldr    w0, [sp, #28]\n",
    "    7a0:    910083ff     add    sp, sp, #0x20\n",
    "    7a4:    d65f03c0     ret\n",
    "```"
   ]
  },
  {
   "cell_type": "markdown",
   "id": "4daf4d25-6782-4d6c-82dc-d08f48c6ddc1",
   "metadata": {
    "slideshow": {
     "slide_type": "subslide"
    },
    "tags": [
     "worksheet-only"
    ]
   },
   "source": [
    "```\n",
    "000000000000076c <divide_safe>:\n",
    "    76c:    d10083ff     sub    sp, sp, #0x20\n",
    "    770:    b9000fe0     str    w0, [sp, #12]\n",
    "    774:    b9000be1     str    w1, [sp, #8]\n",
    "    778:    12800000     mov    w0, #0xffffffff\n",
    "    77c:    b9001fe0     str    w0, [sp, #28]\n",
    "    780:    b9400be0     ldr    w0, [sp, #8]\n",
    "    784:    7100001f     cmp    w0, #0x0\n",
    "    788:    540000a0     b.eq   79c <divide_safe+0x30>\n",
    "    78c:    b9400fe1     ldr    w1, [sp, #12]\n",
    "    790:    b9400be0     ldr    w0, [sp, #8]\n",
    "    794:    1ac00c20     sdiv   w0, w1, w0\n",
    "    798:    b9001fe0     str    w0, [sp, #28]\n",
    "    79c:    b9401fe0     ldr    w0, [sp, #28]\n",
    "    7a0:    910083ff     add    sp, sp, #0x20\n",
    "    7a4:    d65f03c0     ret\n",
    "```"
   ]
  }
 ],
 "metadata": {
  "kernelspec": {
   "display_name": "C",
   "language": "c",
   "name": "c"
  },
  "language_info": {
   "file_extension": ".c",
   "mimetype": "c",
   "name": "c"
  }
 },
 "nbformat": 4,
 "nbformat_minor": 5
}
