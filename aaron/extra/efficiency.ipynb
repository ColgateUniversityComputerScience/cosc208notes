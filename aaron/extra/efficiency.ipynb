{
 "cells": [
  {
   "cell_type": "markdown",
   "id": "ad046316-5680-4525-83f7-cb8333771347",
   "metadata": {},
   "source": [
    "* Q1: _Cross-out unnecessary loads and stores in the following assembly code._\n",
    "    ```\n",
    "    0000000000400584 <pow2>:\n",
    "        400584:       d10043ff        sub     sp, sp, #0x10\n",
    "        400588:       b9000fe0        str     w0, [sp, #12]     XXX\n",
    "        40058c:       52800028        mov     w8, #0x1\n",
    "        400590:       b9000be8        str     w8, [sp, #8]      XXX\n",
    "        400594:       b9400fe8        ldr     w0, [sp, #12]     XXX\n",
    "        400598:       7100011f        cmp     w0, #0x0\n",
    "        40059c:       37000128        b.le    4005c0 <pow2+0x3c>\n",
    "        4005a0:       b9400be8        ldr     w8, [sp, #8]      XXX\n",
    "        4005a4:       52800049        mov     w9, #0x2\n",
    "        4005a8:       1b097d08        mul     w8, w8, w9\n",
    "        4005ac:       b9000be8        str     w8, [sp, #8]\n",
    "        4005b0:       b9400fe8        ldr     w0, [sp, #12]     XXX\n",
    "        4005b4:       71000508        subs    w0, w0, #0x1\n",
    "        4005b8:       b9000fe8        str     w0, [sp, #12]     XXX\n",
    "        4005bc:       17fffff5        b       400594 <pow2+0x10>\n",
    "        4005c0:       b9400be0        ldr     w0, [sp, #8]\n",
    "        4005c4:       910043ff        add     sp, sp, #0x10\n",
    "        4005c8:       d65f03c0        ret\n",
    "    ```"
   ]
  }
 ],
 "metadata": {
  "kernelspec": {
   "display_name": "C",
   "language": "c",
   "name": "c"
  },
  "language_info": {
   "file_extension": ".c",
   "mimetype": "c",
   "name": "c"
  }
 },
 "nbformat": 4,
 "nbformat_minor": 5
}
