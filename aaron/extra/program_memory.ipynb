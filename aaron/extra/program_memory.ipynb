{
 "cells": [
  {
   "cell_type": "markdown",
   "id": "37aeb440-55ae-4d3b-88e6-abd335ee3ff9",
   "metadata": {},
   "source": [
    "## Pointers\n",
    "* Q4: _Write a snippet of code that:_\n",
    "    1. _Declares a `char` variable called `orig` and initializes it with the value `'A'`_\n",
    "    2. _Declares and initializes a pointer called `ptr` that points to `orig`_\n",
    "    3. _Uses the pointer to update the value stored in `orig` to `'B'`_"
   ]
  },
  {
   "cell_type": "code",
   "execution_count": 4,
   "id": "71f9e399-df3e-4959-a7b0-9b244f35ba2d",
   "metadata": {},
   "outputs": [],
   "source": [
    "int main() {\n",
    "    char orig = 'A';\n",
    "    char *ptr = &orig;\n",
    "    *ptr = 'B';\n",
    "}"
   ]
  },
  {
   "cell_type": "markdown",
   "id": "9a263365-f63c-42a9-b20c-e693b10029ea",
   "metadata": {},
   "source": [
    "* Q5: _What is the output of this program?_ — draw a memory diagram to help"
   ]
  },
  {
   "cell_type": "code",
   "execution_count": 5,
   "id": "e2bad345-4ea6-4bb8-b27f-705e61354c61",
   "metadata": {},
   "outputs": [
    {
     "name": "stdout",
     "output_type": "stream",
     "text": [
      "1 2 C\n",
      "2 4 D\n",
      "2 4 D\n",
      "14 14\n",
      "22 14\n"
     ]
    }
   ],
   "source": [
    "#include <stdio.h>\n",
    "int main() {\n",
    "    int a = 1;\n",
    "    int b = 2;\n",
    "    char c = 'C';\n",
    "    int *x = &a;\n",
    "    int *y = &b;\n",
    "    char *z = &c;\n",
    "    printf(\"%d %d %c\\n\", *x, *y, *z);\n",
    "    *x += 1;\n",
    "    b += 2;\n",
    "    *z = 'D';\n",
    "    printf(\"%d %d %c\\n\", *x, *y, *z);\n",
    "    printf(\"%d %d %c\\n\", a, b, c);\n",
    "    x = y;\n",
    "    *x += 10;\n",
    "    a += 20;\n",
    "    printf(\"%d %d\\n\", *x, *y);\n",
    "    printf(\"%d %d\\n\", a, b);\n",
    "}"
   ]
  },
  {
   "cell_type": "markdown",
   "id": "c1660ce7-01b2-4a7c-af54-3f1f75fc3c41",
   "metadata": {},
   "source": [
    "* Q6: _What is the output of this program?_\n",
    "    ```C\n",
    "    int main() {\n",
    "        int a = 1; // Assume at 0x4\n",
    "        int *x = &a; // Assume at 0x8\n",
    "        int **y = &x; // Assume at 0x10\n",
    "        printf(\"%p %p %p\\n\", &a, &x ,&y); // %p prints value in hex\n",
    "        printf(\"%p %p %p\\n\", a, x ,y);\n",
    "        printf(\"%p %p\\n\", *x , *y);\n",
    "    }\n",
    "    ```\n",
    "    Output\n",
    "    ```\n",
    "    0x4 0x8 0x10\n",
    "    0x1 0x4 0x8\n",
    "    0x1 0x4\n",
    "    ```"
   ]
  },
  {
   "cell_type": "markdown",
   "id": "c767c493-01cf-44e9-84a0-1b5df554cf50",
   "metadata": {},
   "source": [
    "* Q8: _Write a function called `transfer` that takes two integer pointers and an amount to transfer and moves the specified amount from one integer to the other._\n",
    "    ```C\n",
    "    void transfer(int *from, int *to, int amount) {\n",
    "        *from -= amount;\n",
    "        *to += amount;\n",
    "    }\n",
    "    ```"
   ]
  },
  {
   "cell_type": "markdown",
   "id": "a82add16-a8ae-4f89-89a5-2fdc6c073678",
   "metadata": {},
   "source": [
    "## Structs\n",
    "* _Two structs have been defined representing a queue and an item on a queue._\n",
    "    ```C\n",
    "    struct item {\n",
    "        int value;\n",
    "        struct item *next;\n",
    "    };\n",
    "    struct queue {\n",
    "        struct item *head;\n",
    "        struct item *tail;\n",
    "    };\n",
    "    ```\n",
    "    _The `new_queue` function creates a new, empty queue._\n",
    "    ```C\n",
    "    struct queue *new_queue() {\n",
    "        struct queue *q = malloc(sizeof(struct queue));\n",
    "        q->head = NULL;\n",
    "        q->tail = NULL;\n",
    "        return q;\n",
    "    }\n",
    "    ```\n",
    "* Q8: _Write a function called `enqueue` that adds a new value at the end of the queue._\n",
    "    ```C\n",
    "    void enqueue(int value, struct queue *q) {\n",
    "        struct item *i = malloc(sizeof(struct item));\n",
    "        i->value = value;\n",
    "        i->next = NULL;\n",
    "        if (q->tail == NULL) {\n",
    "            q->head = i;\n",
    "            q->tail = i;\n",
    "        } else {\n",
    "            q->tail->next = i;\n",
    "            q->tail = i;\n",
    "        }\n",
    "    }\n",
    "    ```\n",
    "* Q9: _Write a function called `dequeue` that removes and returns the value at the head of the queue. The function should return -1 if the queue is empty._\n",
    "    ```C\n",
    "    int dequeue(struct queue *q) {\n",
    "        if (NULL == q->head) {\n",
    "            return -1;\n",
    "        }\n",
    "        struct item *i = q->head;\n",
    "        int v = i->value;\n",
    "        q->head = i->next;\n",
    "        if (q->head == NULL) {\n",
    "            q->tail = NULL;\n",
    "        }\n",
    "        free(i);\n",
    "        return v;\n",
    "    }\n",
    "    ```\n",
    "* Q10: _Write a function called `free_queue` that empties and frees a queue._\n",
    "    ```C\n",
    "    void free_stack(struct queue *q) {\n",
    "        while (q->head != NULL) {\n",
    "            dequeue(q);\n",
    "        }\n",
    "        free(q);\n",
    "    }\n",
    "    ```"
   ]
  },
  {
   "cell_type": "code",
   "execution_count": null,
   "id": "a113c3a2-c815-4a65-a2c1-c090f5f66d0d",
   "metadata": {
    "slideshow": {
     "slide_type": "subslide"
    },
    "tags": [
     "worksheet-code-only"
    ]
   },
   "outputs": [],
   "source": [
    "// Q5\n",
    "#include <stdlib.h>\n",
    "int main() {\n",
    "    int *ptr = malloc(sizeof(int) * 3);\n",
    "    ptr[0] = 1;\n",
    "    free(ptr);\n",
    "    ptr[1] = 2;\n",
    "}"
   ]
  },
  {
   "cell_type": "markdown",
   "id": "35a9bd2f-2ab4-4f36-a32c-033585eb5ad1",
   "metadata": {
    "slideshow": {
     "slide_type": "skip"
    },
    "tags": [
     "notes-only"
    ]
   },
   "source": [
    "_Use after free_"
   ]
  },
  {
   "cell_type": "markdown",
   "id": "25826684-5619-4849-92ca-3572a0497a82",
   "metadata": {
    "slideshow": {
     "slide_type": "skip"
    },
    "tags": []
   },
   "source": [
    "* Q1: _What does the following program output?_"
   ]
  },
  {
   "cell_type": "code",
   "execution_count": 10,
   "id": "79ea6970-0840-4f0f-bd6e-595308dfd87c",
   "metadata": {
    "tags": [
     "worksheet-code-only"
    ]
   },
   "outputs": [
    {
     "name": "stdout",
     "output_type": "stream",
     "text": [
      "one 3, 4\n",
      "two 4, 3\n",
      "one 5, 4\n",
      "two 8, 4\n",
      "three 8, 4\n"
     ]
    }
   ],
   "source": [
    "#include <stdio.h>\n",
    "#include <stdlib.h>\n",
    "struct coords {\n",
    "    int x;\n",
    "    int y;\n",
    "};\n",
    "struct coords *flip(struct coords *in) {\n",
    "    struct coords *out = malloc(sizeof(struct coords));\n",
    "    out->x = in->y;\n",
    "    out->y = in->x;\n",
    "    return out;\n",
    "}\n",
    "struct coords *modify(struct coords *point) {\n",
    "    point->x *= 2;\n",
    "    point->y *= 2;\n",
    "    return point;\n",
    "}\n",
    "int main() {\n",
    "    struct coords *one = malloc(sizeof(struct coords));\n",
    "    one->x = 3;\n",
    "    one->y = 4;\n",
    "    struct coords *two = flip(one);\n",
    "    printf(\"one %d, %d\\n\", one->x, one->y);\n",
    "    printf(\"two %d, %d\\n\", two->x, two->y);\n",
    "    struct coords *three = modify(two);\n",
    "    three->y = one->y;\n",
    "    one->x = 5;\n",
    "    printf(\"one %d, %d\\n\", one->x, one->y);\n",
    "    printf(\"two %d, %d\\n\", two->x, two->y);\n",
    "    printf(\"three %d, %d\\n\", three->x, three->y);\n",
    "}"
   ]
  },
  {
   "cell_type": "markdown",
   "id": "c2740b40-b870-48f3-bdfb-00ef859d7bdc",
   "metadata": {
    "slideshow": {
     "slide_type": "skip"
    },
    "tags": [
     "worksheet-only"
    ]
   },
   "source": [
    "<p style=\"height:10em;\"></p>\n",
    "\n",
    "🛑 **STOP here** after completing the above question; if you have extra time please **skip ahead** to the extra practice."
   ]
  },
  {
   "cell_type": "markdown",
   "id": "edf00135-e388-47bc-813b-f615334da4dd",
   "metadata": {},
   "source": [
    "* _Two structs have been defined representing a queue and an item on a queue._"
   ]
  },
  {
   "cell_type": "code",
   "execution_count": null,
   "id": "f53e8a95-0ce0-4289-ae08-5556439d0a5f",
   "metadata": {},
   "outputs": [],
   "source": [
    "struct item {\n",
    "    int value;\n",
    "    struct item *next;\n",
    "};\n",
    "struct queue {\n",
    "    struct item *head;\n",
    "    struct item *tail;\n",
    "};"
   ]
  },
  {
   "cell_type": "markdown",
   "id": "1afc64f3-904d-4ad3-a5d4-bbd503ceb4bf",
   "metadata": {},
   "source": [
    "* _The `new_queue` function creates a new, empty queue._"
   ]
  },
  {
   "cell_type": "code",
   "execution_count": null,
   "id": "6580b673-e3dc-4f00-9f29-9852f0acfca6",
   "metadata": {},
   "outputs": [],
   "source": [
    "struct queue *new_queue() {\n",
    "    struct queue *q = malloc(sizeof(struct queue));\n",
    "    q->head = NULL;\n",
    "    q->tail = NULL;\n",
    "    return q;\n",
    "}"
   ]
  },
  {
   "cell_type": "markdown",
   "id": "7288664d-d8b7-4a4d-a52d-910e10485349",
   "metadata": {
    "slideshow": {
     "slide_type": "subslide"
    },
    "tags": []
   },
   "source": [
    "* Q5: _Write a function called `enqueue` that adds a new value at the end of the queue._"
   ]
  },
  {
   "cell_type": "markdown",
   "id": "231c6e1a-133c-4ef6-a4b8-d6759af90a74",
   "metadata": {
    "slideshow": {
     "slide_type": "skip"
    },
    "tags": [
     "worksheet-only"
    ]
   },
   "source": [
    "<p style=\"height:15em;\"></p>"
   ]
  },
  {
   "cell_type": "markdown",
   "id": "0ff00439-a10c-44ae-9d0c-28e7727d0ce1",
   "metadata": {
    "tags": []
   },
   "source": [
    "* Q6: _Write a function called `dequeue` that removes and returns the value at the head of the queue. The function should return -1 if the queue is empty._"
   ]
  },
  {
   "cell_type": "markdown",
   "id": "2aee3059-baee-4183-997e-f890ac769ef6",
   "metadata": {
    "slideshow": {
     "slide_type": "skip"
    },
    "tags": [
     "worksheet-only"
    ]
   },
   "source": [
    "<p style=\"height:15em;\"></p>"
   ]
  },
  {
   "cell_type": "markdown",
   "id": "4762ae96-7cc1-487a-a586-a9770446c84c",
   "metadata": {},
   "source": [
    "* Q7: _Write a function called `free_queue` that empties and frees a queue._"
   ]
  },
  {
   "cell_type": "markdown",
   "id": "83c74993-d33c-4606-a27d-1c4828b9bc0f",
   "metadata": {
    "slideshow": {
     "slide_type": "skip"
    },
    "tags": [
     "worksheet-only"
    ]
   },
   "source": [
    "<p style=\"height:15em;\"></p>"
   ]
  },
  {
   "cell_type": "markdown",
   "id": "d38b0597-0d7e-4d8d-a62a-d2bbfb2f6798",
   "metadata": {},
   "source": [
    "* Q8: _Write a function called `position` that takes a value and a queue and returns the position of the value within the queue (the head of the queue is position 0). Return -1 if the value is not present in the queue._"
   ]
  },
  {
   "cell_type": "code",
   "execution_count": 2,
   "id": "dc8d4af5-86b3-43d4-bc9a-7b42c95aa260",
   "metadata": {
    "slideshow": {
     "slide_type": "skip"
    },
    "tags": [
     "notes-only"
    ]
   },
   "outputs": [],
   "source": [
    "#include <stdlib.h>\n",
    "struct item {\n",
    "    int value;\n",
    "    struct item *next;\n",
    "};\n",
    "struct queue {\n",
    "    struct item *head;\n",
    "    struct item *tail;\n",
    "};\n",
    "\n",
    "struct queue *new_queue() {\n",
    "    struct queue *q = malloc(sizeof(struct queue));\n",
    "    q->head = NULL;\n",
    "    q->tail = NULL;\n",
    "    return q;\n",
    "}\n",
    "\n",
    "void enqueue(int value, struct queue *q) {\n",
    "    struct item *i = malloc(sizeof(struct item));\n",
    "    i->value = value;\n",
    "    i->next = NULL;\n",
    "    if (q->tail == NULL) {\n",
    "        q->head = i;\n",
    "        q->tail = i;\n",
    "    } else {\n",
    "        q->tail->next = i;\n",
    "        q->tail = i;\n",
    "    }\n",
    "}\n",
    "\n",
    "int dequeue(struct queue *q) {\n",
    "    if (NULL == q->head) {\n",
    "        return -1;\n",
    "    }\n",
    "    struct item *i = q->head;\n",
    "    int v = i->value;\n",
    "    q->head = i->next;\n",
    "    if (q->head == NULL) {\n",
    "        q->tail = NULL;\n",
    "    }\n",
    "    free(i);\n",
    "    return v;\n",
    "}\n",
    "\n",
    "void free_queue(struct queue *q) {\n",
    "    while (q->head != NULL) {\n",
    "        dequeue(q);\n",
    "    }\n",
    "    free(q);\n",
    "}\n",
    "\n",
    "int position(int value, struct queue *q) {\n",
    "    struct item *curr = q->head;\n",
    "    int index = 0;\n",
    "    while (curr != NULL) {\n",
    "        if (curr->value == value) {\n",
    "            return index;\n",
    "        }\n",
    "        curr = curr->next;\n",
    "        index++;\n",
    "    }\n",
    "    return -1;\n",
    "}\n",
    "\n",
    "// Testing\n",
    "#include <assert.h>\n",
    "int main() {\n",
    "    struct queue *q = new_queue();\n",
    "    enqueue(1, q);\n",
    "    enqueue(2, q);\n",
    "    assert(dequeue(q) == 1);\n",
    "    enqueue(3, q);\n",
    "    enqueue(4, q);\n",
    "    assert(dequeue(q) == 2);\n",
    "    assert(dequeue(q) == 3);\n",
    "}"
   ]
  }
 ],
 "metadata": {
  "kernelspec": {
   "display_name": "C",
   "language": "c",
   "name": "c"
  },
  "language_info": {
   "file_extension": ".c",
   "mimetype": "c",
   "name": "c"
  }
 },
 "nbformat": 4,
 "nbformat_minor": 5
}
