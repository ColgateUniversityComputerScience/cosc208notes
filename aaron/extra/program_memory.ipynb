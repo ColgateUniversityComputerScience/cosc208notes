{
 "cells": [
  {
   "cell_type": "markdown",
   "id": "37aeb440-55ae-4d3b-88e6-abd335ee3ff9",
   "metadata": {},
   "source": [
    "## Pointers\n",
    "* Q4: _Write a snippet of code that:_\n",
    "    1. _Declares a `char` variable called `orig` and initializes it with the value `'A'`_\n",
    "    2. _Declares and initializes a pointer called `ptr` that points to `orig`_\n",
    "    3. _Uses the pointer to update the value stored in `orig` to `'B'`_"
   ]
  },
  {
   "cell_type": "code",
   "execution_count": 4,
   "id": "71f9e399-df3e-4959-a7b0-9b244f35ba2d",
   "metadata": {},
   "outputs": [],
   "source": [
    "int main() {\n",
    "    char orig = 'A';\n",
    "    char *ptr = &orig;\n",
    "    *ptr = 'B';\n",
    "}"
   ]
  },
  {
   "cell_type": "markdown",
   "id": "9a263365-f63c-42a9-b20c-e693b10029ea",
   "metadata": {},
   "source": [
    "* Q5: _What is the output of this program?_ — draw a memory diagram to help"
   ]
  },
  {
   "cell_type": "code",
   "execution_count": 5,
   "id": "e2bad345-4ea6-4bb8-b27f-705e61354c61",
   "metadata": {},
   "outputs": [
    {
     "name": "stdout",
     "output_type": "stream",
     "text": [
      "1 2 C\n",
      "2 4 D\n",
      "2 4 D\n",
      "14 14\n",
      "22 14\n"
     ]
    }
   ],
   "source": [
    "#include <stdio.h>\n",
    "int main() {\n",
    "    int a = 1;\n",
    "    int b = 2;\n",
    "    char c = 'C';\n",
    "    int *x = &a;\n",
    "    int *y = &b;\n",
    "    char *z = &c;\n",
    "    printf(\"%d %d %c\\n\", *x, *y, *z);\n",
    "    *x += 1;\n",
    "    b += 2;\n",
    "    *z = 'D';\n",
    "    printf(\"%d %d %c\\n\", *x, *y, *z);\n",
    "    printf(\"%d %d %c\\n\", a, b, c);\n",
    "    x = y;\n",
    "    *x += 10;\n",
    "    a += 20;\n",
    "    printf(\"%d %d\\n\", *x, *y);\n",
    "    printf(\"%d %d\\n\", a, b);\n",
    "}"
   ]
  },
  {
   "cell_type": "markdown",
   "id": "c1660ce7-01b2-4a7c-af54-3f1f75fc3c41",
   "metadata": {},
   "source": [
    "* Q6: _What is the output of this program?_\n",
    "    ```C\n",
    "    int main() {\n",
    "        int a = 1; // Assume at 0x4\n",
    "        int *x = &a; // Assume at 0x8\n",
    "        int **y = &x; // Assume at 0x10\n",
    "        printf(\"%p %p %p\\n\", &a, &x ,&y); // %p prints value in hex\n",
    "        printf(\"%p %p %p\\n\", a, x ,y);\n",
    "        printf(\"%p %p\\n\", *x , *y);\n",
    "    }\n",
    "    ```\n",
    "    Output\n",
    "    ```\n",
    "    0x4 0x8 0x10\n",
    "    0x1 0x4 0x8\n",
    "    0x1 0x4\n",
    "    ```"
   ]
  },
  {
   "cell_type": "markdown",
   "id": "c767c493-01cf-44e9-84a0-1b5df554cf50",
   "metadata": {},
   "source": [
    "* Q8: _Write a function called `transfer` that takes two integer pointers and an amount to transfer and moves the specified amount from one integer to the other._\n",
    "    ```C\n",
    "    void transfer(int *from, int *to, int amount) {\n",
    "        *from -= amount;\n",
    "        *to += amount;\n",
    "    }\n",
    "    ```"
   ]
  },
  {
   "cell_type": "markdown",
   "id": "23c4a48c-f2cb-4b91-a305-7acc09cbf4bc",
   "metadata": {},
   "source": [
    "## Arrays & pointers\n",
    "* Q2: _What is the output of this program?_"
   ]
  },
  {
   "cell_type": "code",
   "execution_count": 8,
   "id": "997c5e3b-e646-480b-a885-3332740bff8e",
   "metadata": {},
   "outputs": [
    {
     "name": "stdout",
     "output_type": "stream",
     "text": [
      "1 1\n",
      "2 2\n"
     ]
    }
   ],
   "source": [
    "#include <stdio.h>\n",
    "void increment1(int a) {\n",
    "    a = a + 1;\n",
    "}\n",
    "void increment2(int *b) {\n",
    "    *b = *b + 1;\n",
    "}\n",
    "int main() {\n",
    "    int x = 1;\n",
    "    int *y = &x;\n",
    "    increment1(x);\n",
    "    printf(\"%d %d\\n\", x, *y);\n",
    "    increment2(y);\n",
    "    printf(\"%d %d\\n\", x, *y);\n",
    "}"
   ]
  },
  {
   "cell_type": "markdown",
   "id": "65e7924c-b19a-489a-a092-ad5c0eec251e",
   "metadata": {},
   "source": [
    "* Q3: _What is the output of this program?_\n",
    "    ```C\n",
    "    int main() {\n",
    "        int nums[4] = {1,2,3,4};\n",
    "        printf(\"%d %d\\n\", *nums, nums[1]);\n",
    "        int *ptr = &nums[1];\n",
    "        nums[1] += 4;\n",
    "        printf(\"%d %d\\n\", *ptr, nums[0]);\n",
    "        ptr = (nums + 2);\n",
    "        printf(\"%d\\n\", *ptr);\n",
    "        ptr++; // num++ is illegal\n",
    "        printf(\"%d\\n\", *ptr);\n",
    "    }\n",
    "    ```\n",
    "    ```\n",
    "    1 2\n",
    "    6 1\n",
    "    3\n",
    "    4\n",
    "    ```\n",
    "* Q4: _What is the output of this program?_\n",
    "    ```C\n",
    "    int main() {\n",
    "        char *first = \"Colgate\";\n",
    "        char second[10] = \"Univ\";\n",
    "        char *f = &first[3];\n",
    "        printf(\"%d\\n\", strlen(f));\n",
    "        char *s = second;\n",
    "        *s = 'K';\n",
    "        s++;\n",
    "        *(s+2) = 't';\n",
    "        printf(\"%s %s\\n\", second, s);\n",
    "    }\n",
    "    ```\n",
    "    ```\n",
    "    4\n",
    "    Knit nit\n",
    "    ```"
   ]
  }
 ],
 "metadata": {
  "kernelspec": {
   "display_name": "C",
   "language": "c",
   "name": "c"
  },
  "language_info": {
   "file_extension": ".c",
   "mimetype": "c",
   "name": "c"
  }
 },
 "nbformat": 4,
 "nbformat_minor": 5
}
