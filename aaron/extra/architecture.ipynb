{
 "cells": [
  {
   "cell_type": "markdown",
   "id": "a70403a4-3ebe-4295-89c6-34efc2da1a38",
   "metadata": {},
   "source": [
    "Q1: _Where are multiplexers used in a processing unit?_"
   ]
  },
  {
   "cell_type": "markdown",
   "id": "e3e981ef-2dbe-4a9c-bebe-892f4c080bae",
   "metadata": {
    "slideshow": {
     "slide_type": "skip"
    },
    "tags": [
     "notes-only"
    ]
   },
   "source": [
    "* To select which registers' values are input to the arithmetic logic unit (ALU)\n",
    "* To select which operation's result is output by the ALU\n",
    "* A demultiplexer is used to select which register the result is stored in"
   ]
  },
  {
   "cell_type": "markdown",
   "id": "6424d442-4639-42ed-b3c8-ae8eb378bec2",
   "metadata": {},
   "source": [
    "Q2: _How do multiplexers relate to assembly instructions?_"
   ]
  },
  {
   "cell_type": "markdown",
   "id": "9f28d8cc-c838-446b-bcd3-5876fcfcb736",
   "metadata": {
    "slideshow": {
     "slide_type": "skip"
    },
    "tags": [
     "notes-only"
    ]
   },
   "source": [
    "* Some bits determine the operation – used as select bits for the multiplexer between the arithmetic and logic circuits and the ALU's output\n",
    "* Some bits determine the first source register and other bits determine the second source register – used as select bits for the multiplexers between the register file's outputs and ALU's inputs\n",
    "* Some bits determine the destination register – used as select bits for the demultiplexer between the ALU's output and register file's input"
   ]
  },
  {
   "cell_type": "markdown",
   "id": "f4bf1e95-702b-4762-8682-126b001538d0",
   "metadata": {},
   "source": [
    "* Q3: _Draw a processor with 8 general purpose registers and two operations (add and subtract)._"
   ]
  },
  {
   "cell_type": "markdown",
   "id": "cdab3e08-ecd4-4420-b7e7-1d9756718ea2",
   "metadata": {
    "tags": [
     "worksheet-only"
    ]
   },
   "source": [
    "![](../images/circuits/processing_unit_empty.png)"
   ]
  },
  {
   "cell_type": "code",
   "execution_count": null,
   "id": "cb2c2f1c-9a1b-4f22-bc93-bbf5f42d2735",
   "metadata": {},
   "outputs": [],
   "source": []
  }
 ],
 "metadata": {
  "kernelspec": {
   "display_name": "C",
   "language": "c",
   "name": "c"
  },
  "language_info": {
   "file_extension": ".c",
   "mimetype": "c",
   "name": "c"
  }
 },
 "nbformat": 4,
 "nbformat_minor": 5
}
