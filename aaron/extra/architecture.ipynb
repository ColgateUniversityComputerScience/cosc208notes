{
 "cells": [
  {
   "cell_type": "markdown",
   "id": "a70403a4-3ebe-4295-89c6-34efc2da1a38",
   "metadata": {},
   "source": [
    "Q1: _Where are multiplexers used in a processing unit?_"
   ]
  },
  {
   "cell_type": "markdown",
   "id": "e3e981ef-2dbe-4a9c-bebe-892f4c080bae",
   "metadata": {
    "slideshow": {
     "slide_type": "skip"
    },
    "tags": [
     "notes-only"
    ]
   },
   "source": [
    "* To select which registers' values are input to the arithmetic logic unit (ALU)\n",
    "* To select which operation's result is output by the ALU\n",
    "* A demultiplexer is used to select which register the result is stored in"
   ]
  },
  {
   "cell_type": "markdown",
   "id": "6424d442-4639-42ed-b3c8-ae8eb378bec2",
   "metadata": {},
   "source": [
    "Q2: _How do multiplexers relate to assembly instructions?_"
   ]
  },
  {
   "cell_type": "markdown",
   "id": "9f28d8cc-c838-446b-bcd3-5876fcfcb736",
   "metadata": {
    "slideshow": {
     "slide_type": "skip"
    },
    "tags": [
     "notes-only"
    ]
   },
   "source": [
    "* Some bits determine the operation – used as select bits for the multiplexer between the arithmetic and logic circuits and the ALU's output\n",
    "* Some bits determine the first source register and other bits determine the second source register – used as select bits for the multiplexers between the register file's outputs and ALU's inputs\n",
    "* Some bits determine the destination register – used as select bits for the demultiplexer between the ALU's output and register file's input"
   ]
  },
  {
   "cell_type": "markdown",
   "id": "f4bf1e95-702b-4762-8682-126b001538d0",
   "metadata": {},
   "source": [
    "* Q3: _Draw a processor with 8 general purpose registers and two operations (add and subtract)._"
   ]
  },
  {
   "cell_type": "markdown",
   "id": "cdab3e08-ecd4-4420-b7e7-1d9756718ea2",
   "metadata": {
    "tags": [
     "worksheet-only"
    ]
   },
   "source": [
    "![](../images/circuits/processing_unit_empty.png)"
   ]
  },
  {
   "cell_type": "markdown",
   "id": "87d4eda1-8571-40a7-92db-73e74a6bd9ca",
   "metadata": {},
   "source": [
    "* Q2: _For this processor's assembly language, how many bits are required for the operation code?_"
   ]
  },
  {
   "cell_type": "markdown",
   "id": "8437d3de-4be7-4ea1-bf3d-357cafbafe1c",
   "metadata": {
    "slideshow": {
     "slide_type": "skip"
    },
    "tags": [
     "notes-only"
    ]
   },
   "source": [
    "    2"
   ]
  },
  {
   "cell_type": "markdown",
   "id": "ab2a1582-f641-4d4b-a069-36b50ae29537",
   "metadata": {
    "slideshow": {
     "slide_type": "skip"
    },
    "tags": [
     "worksheet-only"
    ]
   },
   "source": [
    "<p style=\"height:3em;\"></p>"
   ]
  },
  {
   "cell_type": "markdown",
   "id": "fa69f4e3-509e-4da1-b9af-a4b617aa0e00",
   "metadata": {},
   "source": [
    "* Q3: _For this processor's assembly language, how many bits are required for a complete instruction?_"
   ]
  },
  {
   "cell_type": "markdown",
   "id": "a283ba3a-c2a9-4815-8b6f-43c662dec8bb",
   "metadata": {
    "slideshow": {
     "slide_type": "skip"
    },
    "tags": [
     "notes-only"
    ]
   },
   "source": [
    "    5"
   ]
  },
  {
   "cell_type": "markdown",
   "id": "5c8b0f8a-14f5-4456-af4b-fbec01c376d9",
   "metadata": {
    "slideshow": {
     "slide_type": "skip"
    },
    "tags": [
     "worksheet-only"
    ]
   },
   "source": [
    "<p style=\"height:3em;\"></p>"
   ]
  },
  {
   "cell_type": "markdown",
   "id": "a6ec795c-f637-454c-878e-e4da1548361c",
   "metadata": {},
   "source": [
    "* Q4: _What is the binary representation of the assembly instruction for `r0 = r0 ^ r1`?_"
   ]
  },
  {
   "cell_type": "markdown",
   "id": "13a6c617-09a2-4f88-b35a-e9a203190c01",
   "metadata": {
    "slideshow": {
     "slide_type": "skip"
    },
    "tags": [
     "notes-only"
    ]
   },
   "source": [
    "    0b10001"
   ]
  },
  {
   "cell_type": "markdown",
   "id": "205b20bd-dbc9-4091-8377-8b9a8bb54cf3",
   "metadata": {
    "slideshow": {
     "slide_type": "skip"
    },
    "tags": [
     "worksheet-only"
    ]
   },
   "source": [
    "<p style=\"height:3em;\"></p>\n",
    "\n",
    "🛑 **STOP here** after completing the above questions; if you have extra time please **skip ahead** to the extra practice.\n",
    "\n",
    "<div style=\"page-break-after:always;\"></div>"
   ]
  },
  {
   "cell_type": "markdown",
   "id": "39caec65-77d0-452b-9f23-31ee89c3fbcb",
   "metadata": {},
   "source": [
    "* Q6: _If the processing unit you created in the warm-up is fed the instruction `0b11110` what will the processing unit do?_"
   ]
  },
  {
   "cell_type": "markdown",
   "id": "5c867188-2fa8-4fd7-9ab9-36bf0b3bc3a0",
   "metadata": {
    "slideshow": {
     "slide_type": "skip"
    },
    "tags": [
     "notes-only"
    ]
   },
   "source": [
    "    r1 = ~r1"
   ]
  },
  {
   "cell_type": "markdown",
   "id": "8c8ca906-e0ef-41bd-99ba-737ecfa907ef",
   "metadata": {
    "slideshow": {
     "slide_type": "skip"
    },
    "tags": [
     "worksheet-only"
    ]
   },
   "source": [
    "<p style=\"height:3em;\"></p>"
   ]
  },
  {
   "cell_type": "markdown",
   "id": "f41d7336-c1ec-4684-9890-e1601b1d4549",
   "metadata": {},
   "source": [
    "* Q7: _If the processing unit you created in the warm-up is fed the instruction `0b11111` what will the processing unit do?_"
   ]
  },
  {
   "cell_type": "markdown",
   "id": "05410592-00c1-439c-a14e-3a56ddfdfc4a",
   "metadata": {
    "slideshow": {
     "slide_type": "skip"
    },
    "tags": [
     "notes-only"
    ]
   },
   "source": [
    "    r1 = ~r1"
   ]
  },
  {
   "cell_type": "markdown",
   "id": "1e6646ba-9d28-4768-b3ba-d549592a0060",
   "metadata": {
    "slideshow": {
     "slide_type": "skip"
    },
    "tags": [
     "worksheet-only"
    ]
   },
   "source": [
    "<p style=\"height:3em;\"></p>"
   ]
  },
  {
   "cell_type": "markdown",
   "id": "b3ffe356-9a69-4c20-9d53-7a9bca694d59",
   "metadata": {},
   "source": [
    "* Q8: _If the processing unit you created in the warm-up contained 16 registers instead of 2, how many bits would be required for a complete assembly instruction?_"
   ]
  },
  {
   "cell_type": "markdown",
   "id": "4eb3c9df-aac1-46b5-96d8-cc19d10a9621",
   "metadata": {
    "slideshow": {
     "slide_type": "skip"
    },
    "tags": [
     "notes-only"
    ]
   },
   "source": [
    "    14 = 2 + 4 + 4 + 4"
   ]
  },
  {
   "cell_type": "markdown",
   "id": "61c2e47b-20ac-4a4a-b9e3-95490a76b693",
   "metadata": {
    "slideshow": {
     "slide_type": "skip"
    },
    "tags": [
     "worksheet-only"
    ]
   },
   "source": [
    "<p style=\"height:3em;\"></p>"
   ]
  }
 ],
 "metadata": {
  "kernelspec": {
   "display_name": "C",
   "language": "c",
   "name": "c"
  },
  "language_info": {
   "file_extension": ".c",
   "mimetype": "c",
   "name": "c"
  }
 },
 "nbformat": 4,
 "nbformat_minor": 5
}
