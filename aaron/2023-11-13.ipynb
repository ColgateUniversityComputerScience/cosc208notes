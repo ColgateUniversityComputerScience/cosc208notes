{
 "cells": [
  {
   "cell_type": "markdown",
   "id": "d4c0cf7a-6741-41de-924b-477e6ac8b4e3",
   "metadata": {
    "slideshow": {
     "slide_type": "skip"
    },
    "tags": []
   },
   "source": [
    "# Efficiency: locality; caching\n",
    "_COSC 208, Introduction to Computer Systems, 2023-11-13_"
   ]
  },
  {
   "cell_type": "markdown",
   "id": "ed5ad917-28d5-4478-b50b-72e280029552",
   "metadata": {
    "slideshow": {
     "slide_type": "skip"
    },
    "tags": []
   },
   "source": [
    "## Announcements\n",
    "* Project 3 due today @ 11pm"
   ]
  },
  {
   "cell_type": "markdown",
   "id": "da1fb4b2-e9fe-4d36-a409-388d2f498f71",
   "metadata": {
    "slideshow": {
     "slide_type": "skip"
    },
    "tags": [
     "notes-only"
    ]
   },
   "source": [
    "## Outline\n",
    "* Warm-up\n",
    "* Temporal vs. spatial locality\n",
    "* CPU caches\n",
    "* Cache replacement"
   ]
  },
  {
   "cell_type": "markdown",
   "id": "82294a58-aa33-4a81-a4bb-dc583ee63880",
   "metadata": {
    "slideshow": {
     "slide_type": "skip"
    },
    "tags": []
   },
   "source": [
    "## Warm-up"
   ]
  },
  {
   "cell_type": "markdown",
   "id": "095a04fd-dfe9-43d2-850d-bf44a352f21b",
   "metadata": {},
   "source": [
    "* Q1: _For each of the following characteristics, circle the type(s) of memory to which the characteristic applies. (HDD = Hard Disk Drive; RAM = Random Access Memory; SSD = Solid State Drive)_\n",
    "\n",
    "| Characteristic | | | | | |\n",
    "|-----|-|-|-|-|-|\n",
    "| <br/>Cheapest<br/><br/> | Cache | HDD | RAM | Registers | SSD |\n",
    "| <br/>Fastest<br/><br/> | Cache | HDD | RAM | Registers | SSD |\n",
    "| <br/>On CPU<br/><br/> | Cache | HDD | RAM | Registers | SSD |\n",
    "| <br/>Volatile<br/><br/> | Cache | HDD | RAM | Registers | SSD |\n",
    "| <br/>Size measured in megabytes (MB)<br/>in a present day laptop | Cache | HDD | RAM | Registers | SSD |\n",
    "| <br/>Size measured in gigabytes (GB)<br/>in a present day laptop | Cache | HDD | RAM | Registers | SSD |\n",
    "| <br/>Size measured in terabytes (TB)<br/>in a present day laptop | Cache | HDD | RAM | Registers | SSD |"
   ]
  },
  {
   "cell_type": "markdown",
   "id": "10f010b7-07f0-40cb-be38-bb5890fb4ed5",
   "metadata": {
    "slideshow": {
     "slide_type": "skip"
    },
    "tags": [
     "notes-only"
    ]
   },
   "source": [
    "    Cheapest: HDD\n",
    "    Fastest: Registers\n",
    "    On CPU: Cache, Registers\n",
    "    Volatile: Cache, RAM, Registers\n",
    "    Size in MB: Cache\n",
    "    Size in GB: RAM\n",
    "    Size in TB: HDD, SSD"
   ]
  },
  {
   "cell_type": "markdown",
   "id": "d8e82db1-522d-4062-91f6-2423f7ab27f8",
   "metadata": {
    "slideshow": {
     "slide_type": "skip"
    },
    "tags": [
     "worksheet-only"
    ]
   },
   "source": [
    "🛑 **STOP here** after completing the above question; if you have extra time please **skip ahead** to the extra practice.\n",
    "\n",
    "<div style=\"page-break-after:always;\"></div>"
   ]
  },
  {
   "cell_type": "markdown",
   "id": "37a0b3a3-5e1f-4406-8ca1-0a99cd9a9059",
   "metadata": {
    "slideshow": {
     "slide_type": "skip"
    },
    "tags": [
     "notes-only"
    ]
   },
   "source": [
    "## Data movement"
   ]
  },
  {
   "cell_type": "markdown",
   "id": "041529e3-afda-4f78-8dad-dc0b87658f36",
   "metadata": {
    "slideshow": {
     "slide_type": "skip"
    },
    "tags": [
     "notes-only"
    ]
   },
   "source": [
    "* Recall: _How does data move between the CPU, main memory, and secondary storage in the von Neumann Architecture?_ — bus\n",
    "* _Why does data move between registers and main memory?_ — not enough room in registers to store all values used by a program at runtime\n",
    "* _How can we move less data (i.e., perform fewer loads and stores)?_\n",
    "* Better use of registers — Loads and stores are unnecessary when the value of a register is not changed between store and load instructions involving the same register and memory address\n",
    "    * Example load which is _unnecessary_\n",
    "        ```\n",
    "        str x0, [sp,#4]\n",
    "        ldr x0, [sp,#4] // Can eliminiate\n",
    "        ```\n",
    "    * Example load store which is _necessary_\n",
    "        ```\n",
    "        str w0, [sp,#4]\n",
    "        mov w0, #0x1\n",
    "        str w0, [sp]\n",
    "        ldr w0, [sp,#4]\n",
    "        ```\n",
    "    * Better register assignments to eliminate loads (and stores)\n",
    "        ```\n",
    "        str w0, [sp,#4]\n",
    "        mov w1, #0x1\n",
    "        str w1, [sp]\n",
    "        ldr w0, [sp,#4] // Can eliminiate\n",
    "        ```\n",
    "    * Must preserve calling conventions\n",
    "        * Parameters are stored in w/x0, w/x1, ...\n",
    "        * Return value is stored in w/x0\n",
    "        * Caller must store register values into caller's stack frame before `bl` to callee — actually only needed if values in registers are needed by caller after `bl` and callee overwrites the values in those registers\n",
    "* Leverage locality\n",
    "    * Add additional memory to the CPU — i.e., a cache\n",
    "    * Optimize code to improve locality"
   ]
  },
  {
   "cell_type": "markdown",
   "id": "55fd2aca-9542-44be-8970-ad366c6cfdc1",
   "metadata": {
    "slideshow": {
     "slide_type": "skip"
    },
    "tags": [
     "notes-only"
    ]
   },
   "source": [
    "## Temporal vs. spatial locality"
   ]
  },
  {
   "cell_type": "markdown",
   "id": "dad138e9-ceb0-48cb-84d6-8ce71da7c179",
   "metadata": {
    "slideshow": {
     "slide_type": "skip"
    },
    "tags": [
     "notes-only"
    ]
   },
   "source": [
    "* _What is temporal locality?_\n",
    "    * Access the same data repeatedly\n",
    "    * E.g., for loop variable\n",
    "* _What is spatial locality?_\n",
    "    * Access data with a similar scope\n",
    "    * E.g., next item in array\n",
    "    * E.g., local variables/parameters, which are stored in the same stack frame\n",
    "* Analogies for temporal and spatial locality\n",
    "    * Book storage (Dive Into Systems Section 11.3.2)\n",
    "        * Temporal locality — store most frequently used books at your desk, less frequently used books on your bookshelf, and least frequently used books at the library\n",
    "        * Spatial locality — checkout books on the same/nearby subjects when you go to the library\n",
    "    * Groceries (pre-class questions 3 & 4)\n",
    "        * Temporal locality — you store food you eat frequently in the front of the refrigerator, while you store food you eat infrequently in the back of the refrigerator\n",
    "        * Spatial locality — you organize the items on your grocery list based on the aisle in which they are located\n",
    "    * _With a partner, develop your own analogy for temporal and spatial locality_"
   ]
  },
  {
   "cell_type": "markdown",
   "id": "055ab108-994c-405d-b84a-807e49d6b872",
   "metadata": {
    "slideshow": {
     "slide_type": "skip"
    },
    "tags": [
     "notes-only"
    ]
   },
   "source": [
    "## CPU caches"
   ]
  },
  {
   "cell_type": "markdown",
   "id": "84a8e039-f872-4d4a-94f0-9c847f3742b9",
   "metadata": {
    "slideshow": {
     "slide_type": "skip"
    },
    "tags": [
     "notes-only"
    ]
   },
   "source": [
    "* _Why do we have caches on the CPU?_ — accessing main memory is ~100x slower than accessing a register\n",
    "* Store instructions and data (stack, heap, etc.) from main memory\n",
    "* Three levels — L1, L2, and L3\n",
    "* Range in size from a few KB to a few MB – L1 is smallest and fastest; L3 is largest and slowest\n",
    "* Cache line (i.e., cache entry) is typically larger than a word — e.g., 128 bytes\n",
    "    * _Why?_ — spatial locality\n",
    "* What happens when we write to memory?\n",
    "    * Write through cache — write to the cache and main memory\n",
    "    * Write back cache — initially write to the cache; write to main memory when the entry is evicted from the cache\n",
    "    * What are the advantages of each approach?\n",
    "        * Write through cache ensures consistency between CPU cores\n",
    "        * Write back cache only incurs the overhead of accessing main memory when absolutely necessary"
   ]
  },
  {
   "cell_type": "markdown",
   "id": "afcddff5-ecba-4a2c-8235-14d74e7f55ce",
   "metadata": {
    "slideshow": {
     "slide_type": "slide"
    },
    "tags": []
   },
   "source": [
    "## Cache replacement"
   ]
  },
  {
   "cell_type": "markdown",
   "id": "5811587c-2946-4bbd-820d-1a4b9846de3f",
   "metadata": {
    "slideshow": {
     "slide_type": "skip"
    },
    "tags": [
     "notes-only"
    ]
   },
   "source": [
    "* If a cache is full, then a cache entry must be removed so different data can be placed in the cache\n",
    "* Cache replacement policy governs which data is removed\n",
    "* _What should a good cache replacement policy do?_ — maximize the number of cache hits (or minimize the number of cache misses)\n",
    "    * Evaluation metric: Hit ratio = number of hits / total number of memory accesses\n",
    "* _How do we determine which cache entry to replace?_\n",
    "* Optimal replacement policy – replace the entry that will be accessed furthest in the future\n",
    "    * Impractical because we don’t know data access patterns a priori\n",
    "* Least Recently Used (LRU)\n",
    "    * LRU assumes a item that was accessed recently will be accessed again soon – temporal locality\n",
    "    * Downside: lots of overhead to implement — need to store an ordered list of items and move an item up in the list whenever it’s accessed\n",
    "    * Where does this go wrong? — when working-set size (i.e., number of repeatedly accessed entries) is (slightly) greater than size of the cache\n",
    "* First-in First-out (FIFO)\n",
    "    * Simple to implement\n",
    "    * Doesn’t consider the importance of a cache entry\n",
    "* Random\n",
    "    * Even simpler to implement\n",
    "    * Doesn’t consider the importance of a cache entry"
   ]
  },
  {
   "cell_type": "markdown",
   "id": "52247547-844e-4b3d-a8a3-fadb695c2b84",
   "metadata": {},
   "source": [
    "* Assume a cache can hold 3 entries and the following 15 data accesses occur: \n",
    "```\n",
    "3, 4, 4, 5, 3, 2, 3, 4, 1, 4, 4, 2, 5, 2, 4\n",
    "```\n",
    "* Q2: _What is the sequence of hits, insertions, and replacements that occur when an **optimal** cache replacement algorithm is used?_"
   ]
  },
  {
   "cell_type": "markdown",
   "id": "be613ef7-a7ed-47f8-bf3c-5ac5a6a7fdc6",
   "metadata": {
    "slideshow": {
     "slide_type": "skip"
    },
    "tags": [
     "notes-only"
    ]
   },
   "source": [
    "```\n",
    "+3, +4, H4, +5, H3, -5/+2, H3, H4, -3/+1, H4, H4, H2, -1/+5, H2, H4\n",
    "Hit ratio = 9/15 = 60%\n",
    "```"
   ]
  },
  {
   "cell_type": "markdown",
   "id": "fdb9e8d3-2dc5-4ee1-a315-df301dc0c2d4",
   "metadata": {
    "slideshow": {
     "slide_type": "skip"
    },
    "tags": [
     "worksheet-only"
    ]
   },
   "source": [
    "<p style=\"height:6em;\"></p>"
   ]
  },
  {
   "cell_type": "markdown",
   "id": "526b185a-12d7-48c5-a3ee-3b71a913d3a8",
   "metadata": {
    "tags": []
   },
   "source": [
    "* Q3: _What is the sequence of hits, insertions, and replacements that occur when a **first in first out (FIFO)** cache replacement algorithm is used?_"
   ]
  },
  {
   "cell_type": "markdown",
   "id": "77c5673e-3333-444c-b0d0-65fca6b72760",
   "metadata": {
    "slideshow": {
     "slide_type": "skip"
    },
    "tags": [
     "notes-only"
    ]
   },
   "source": [
    "    Postponed to next class"
   ]
  },
  {
   "cell_type": "markdown",
   "id": "d3eee7f4-02bb-4bae-a459-0bc73d54ae95",
   "metadata": {
    "slideshow": {
     "slide_type": "skip"
    },
    "tags": [
     "worksheet-only"
    ]
   },
   "source": [
    "<p style=\"height:6em;\"></p>"
   ]
  },
  {
   "cell_type": "markdown",
   "id": "37390556-86f5-4951-940b-9ba34a255390",
   "metadata": {},
   "source": [
    "* Q4: _What is the sequence of hits, insertions, and replacements that occur when a **least recently used (LRU)** cache replacement algorithm is used?_"
   ]
  },
  {
   "cell_type": "markdown",
   "id": "62a84526-5319-4bf2-b7c4-5ab1baad55ef",
   "metadata": {
    "slideshow": {
     "slide_type": "skip"
    },
    "tags": [
     "notes-only"
    ]
   },
   "source": [
    "    Postponed to next class"
   ]
  },
  {
   "cell_type": "markdown",
   "id": "e9e79997-d06e-41e9-99f9-967204565144",
   "metadata": {
    "slideshow": {
     "slide_type": "skip"
    },
    "tags": [
     "worksheet-only"
    ]
   },
   "source": [
    "<p style=\"height:6em;\"></p>"
   ]
  },
  {
   "cell_type": "markdown",
   "id": "1fa83fb5-0b7a-4bce-8c6f-2c405e97d6cc",
   "metadata": {
    "slideshow": {
     "slide_type": "slide"
    },
    "tags": []
   },
   "source": [
    "## Extra practice"
   ]
  },
  {
   "cell_type": "markdown",
   "id": "16ce590b-82c8-4af3-94f1-a11fb10bab6f",
   "metadata": {},
   "source": [
    "* Q5: _What output is produced by this program, assuming the starting process's PID is 7034 and PIDs are sequentially assigned to new processes._"
   ]
  },
  {
   "cell_type": "code",
   "execution_count": 4,
   "id": "98e8eef4-3954-45ac-bb0c-4f4c12440b36",
   "metadata": {
    "tags": [
     "worksheet-code-only"
    ]
   },
   "outputs": [
    {
     "name": "stdout",
     "output_type": "stream",
     "text": [
      "Begin\n",
      "A 0 7035\n",
      "B 7035 7034\n",
      "C 0 7036\n",
      "C 0 7037\n",
      "D 7037 7034\n"
     ]
    }
   ],
   "source": [
    "#include <stdio.h>\n",
    "#include <unistd.h>\n",
    "int main(int argc, char **argv) {\n",
    "    printf(\"Begin\\n\");\n",
    "    int result = fork();\n",
    "    if (result == 0) {\n",
    "        printf(\"A %d %d\\n\", result, getpid());\n",
    "    } else if (result > 0) {\n",
    "        wait(NULL);\n",
    "        printf(\"B %d %d\\n\", result, getpid());\n",
    "    }\n",
    "    int result2 = fork();\n",
    "    if (result2 == 0) {\n",
    "        printf(\"C %d %d\\n\", result2, getpid());\n",
    "    } else if (result > 0) {\n",
    "        wait(NULL);\n",
    "        printf(\"D %d %d\\n\", result2, getpid());\n",
    "    }\n",
    "}"
   ]
  },
  {
   "cell_type": "markdown",
   "id": "7484e8ba-f028-4cd3-836a-581e50abf82d",
   "metadata": {
    "slideshow": {
     "slide_type": "skip"
    },
    "tags": [
     "worksheet-only"
    ]
   },
   "source": [
    "<p style=\"height:6em;\"></p>"
   ]
  }
 ],
 "metadata": {
  "kernelspec": {
   "display_name": "C",
   "language": "c",
   "name": "c"
  },
  "language_info": {
   "file_extension": ".c",
   "mimetype": "c",
   "name": "c"
  }
 },
 "nbformat": 4,
 "nbformat_minor": 5
}
