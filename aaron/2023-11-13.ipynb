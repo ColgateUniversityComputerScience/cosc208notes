{
 "cells": [
  {
   "cell_type": "markdown",
   "id": "d4c0cf7a-6741-41de-924b-477e6ac8b4e3",
   "metadata": {
    "slideshow": {
     "slide_type": "skip"
    },
    "tags": []
   },
   "source": [
    "# Efficiency: locality; caching\n",
    "_COSC 208, Introduction to Computer Systems, 2023-11-13_"
   ]
  },
  {
   "cell_type": "markdown",
   "id": "ed5ad917-28d5-4478-b50b-72e280029552",
   "metadata": {
    "slideshow": {
     "slide_type": "skip"
    },
    "tags": []
   },
   "source": [
    "## Announcements\n",
    "* Project 3 due today @ 11pm"
   ]
  },
  {
   "cell_type": "markdown",
   "id": "da1fb4b2-e9fe-4d36-a409-388d2f498f71",
   "metadata": {
    "slideshow": {
     "slide_type": "skip"
    },
    "tags": [
     "notes-only"
    ]
   },
   "source": [
    "## Outline\n",
    "* Warm-up\n",
    "* Temporal vs. spatial locality\n",
    "* CPU caches\n",
    "* Cache replacement"
   ]
  },
  {
   "cell_type": "markdown",
   "id": "51d8bf49-f0f4-4e98-8d90-19557015254a",
   "metadata": {},
   "source": [
    "## Warm-up"
   ]
  },
  {
   "cell_type": "markdown",
   "id": "8998bd5f-7315-4e06-aabd-5c49e39ce055",
   "metadata": {},
   "source": [
    "* Q1: _Cross-out unnecessary loads and stores in the following assembly code:_"
   ]
  },
  {
   "cell_type": "markdown",
   "id": "9283524b-4473-4e96-9f8a-2e78f92c2833",
   "metadata": {
    "slideshow": {
     "slide_type": "skip"
    },
    "tags": [
     "notes-only"
    ]
   },
   "source": [
    "```\n",
    "000000000000088c <interest_due>:\n",
    "    88c:    sub    sp, sp, #0x20\n",
    "    890:    str    w0, [sp, #12]    XXXXX\n",
    "    894:    str    w1, [sp, #8]     XXXXX\n",
    "    898:    ldr    w0, [sp, #12]    XXXXX\n",
    "    89c:    ldr    w1, [sp, #8]     XXXXX\n",
    "    8a0:    mul    w0, w1, w0\n",
    "    8a4:    str    w0, [sp, #20]\n",
    "    8a8:    mov    w0, #0x4b0\n",
    "    8ac:    str    w0, [sp, #24]    XXXXX\n",
    "    8b0:    ldr    w1, [sp, #20]\n",
    "    8b4:    ldr    w0, [sp, #24]    XXXXX\n",
    "    8b8:    sdiv   w0, w1, w0\n",
    "    8bc:    str    w0, [sp, #28]    XXXXX\n",
    "    8c0:    ldr    w0, [sp, #28]    XXXXX\n",
    "    8c4:    add    sp, sp, #0x20\n",
    "    8c8:    ret\n",
    "```"
   ]
  },
  {
   "cell_type": "markdown",
   "id": "b32c9084-bfcc-4958-ba5b-f06d7fe7f714",
   "metadata": {
    "tags": [
     "worksheet-only"
    ]
   },
   "source": [
    "```\n",
    "000000000000088c <interest_due>:\n",
    "    88c:    sub    sp, sp, #0x20\n",
    "    890:    str    w0, [sp, #12]\n",
    "    894:    str    w1, [sp, #8]\n",
    "    898:    ldr    w0, [sp, #12]\n",
    "    89c:    ldr    w1, [sp, #8] \n",
    "    8a0:    mul    w0, w1, w0\n",
    "    8a4:    str    w0, [sp, #20]\n",
    "    8a8:    mov    w0, #0x4b0\n",
    "    8ac:    str    w0, [sp, #24]\n",
    "    8b0:    ldr    w1, [sp, #20]\n",
    "    8b4:    ldr    w0, [sp, #24] \n",
    "    8b8:    sdiv   w0, w1, w0\n",
    "    8bc:    str    w0, [sp, #28] \n",
    "    8c0:    ldr    w0, [sp, #28] \n",
    "    8c4:    add    sp, sp, #0x20\n",
    "    8c8:    ret\n",
    "```"
   ]
  },
  {
   "cell_type": "markdown",
   "id": "083588e2-4214-47b2-942e-54ba2dbc4481",
   "metadata": {
    "slideshow": {
     "slide_type": "skip"
    },
    "tags": [
     "worksheet-only"
    ]
   },
   "source": [
    "🛑 **STOP here** after completing the above question; if you have extra time please **skip ahead** to the extra practice."
   ]
  },
  {
   "cell_type": "markdown",
   "id": "df0d4d43-bb39-451b-be7f-3e800e14f854",
   "metadata": {
    "slideshow": {
     "slide_type": "skip"
    },
    "tags": [
     "notes-only"
    ]
   },
   "source": [
    "* Addtional load and store can be eliminated with better register assignments\n",
    "```\n",
    "000000000000088c <interest_due>:\n",
    "    88c:    sub    sp, sp, #0x20    XXXXX\n",
    "    8a0:    mul    w0, w1, w0       \n",
    "    8a4:    str    w0, [sp, #20]    XXXXX\n",
    "    8a8:    mov    w0, #0x4b0       // mov w1 #0x4b0\n",
    "    8b0:    ldr    w1, [sp, #20]    XXXXX\n",
    "    8b8:    sdiv   w0, w1, w0       // sdiv w0, w0, w1\n",
    "    8c4:    add    sp, sp, #0x20    XXXXX\n",
    "    8c8:    ret\n",
    "```"
   ]
  },
  {
   "cell_type": "markdown",
   "id": "55fd2aca-9542-44be-8970-ad366c6cfdc1",
   "metadata": {
    "slideshow": {
     "slide_type": "skip"
    },
    "tags": [
     "notes-only"
    ]
   },
   "source": [
    "## Temporal vs. spatial locality"
   ]
  },
  {
   "cell_type": "markdown",
   "id": "dad138e9-ceb0-48cb-84d6-8ce71da7c179",
   "metadata": {
    "slideshow": {
     "slide_type": "skip"
    },
    "tags": [
     "notes-only"
    ]
   },
   "source": [
    "* _What is temporal locality?_\n",
    "    * Access the same data repeatedly\n",
    "    * E.g., for loop variable\n",
    "* _What is spatial locality?_\n",
    "    * Access data with a similar scope\n",
    "    * E.g., next item in array\n",
    "    * E.g., local variables/parameters, which are stored in the same stack frame\n",
    "* Analogies for temporal and spatial locality\n",
    "    * Book storage (Dive Into Systems Section 11.3.2)\n",
    "        * Temporal locality — store most frequently used books at your desk, less frequently used books on your bookshelf, and least frequently used books at the library\n",
    "        * Spatial locality — checkout books on the same/nearby subjects when you go to the library\n",
    "    * Groceries (pre-class questions 3 & 4)\n",
    "        * Temporal locality — you store food you eat frequently in the front of the refrigerator, while you store food you eat infrequently in the back of the refrigerator\n",
    "        * Spatial locality — you organize the items on your grocery list based on the aisle in which they are located\n",
    "    * _With a partner, develop your own analogy for temporal and spatial locality_"
   ]
  },
  {
   "cell_type": "markdown",
   "id": "055ab108-994c-405d-b84a-807e49d6b872",
   "metadata": {
    "slideshow": {
     "slide_type": "skip"
    },
    "tags": [
     "notes-only"
    ]
   },
   "source": [
    "## CPU caches"
   ]
  },
  {
   "cell_type": "markdown",
   "id": "84a8e039-f872-4d4a-94f0-9c847f3742b9",
   "metadata": {
    "slideshow": {
     "slide_type": "skip"
    },
    "tags": [
     "notes-only"
    ]
   },
   "source": [
    "* _Why do we have caches on the CPU?_ — accessing main memory is ~100x slower than accessing a register\n",
    "* Store instructions and data (stack, heap, etc.) from main memory\n",
    "* Three levels — L1, L2, and L3\n",
    "* Range in size from a few KB to a few MB – L1 is smallest and fastest; L3 is largest and slowest\n",
    "* Cache line (i.e., cache entry) is typically larger than a word — e.g., 128 bytes\n",
    "    * _Why?_ — spatial locality\n",
    "* What happens when we write to memory?\n",
    "    * Write through cache — write to the cache and main memory\n",
    "    * Write back cache — initially write to the cache; write to main memory when the entry is evicted from the cache\n",
    "    * What are the advantages of each approach?\n",
    "        * Write through cache ensures consistency between CPU cores\n",
    "        * Write back cache only incurs the overhead of accessing main memory when absolutely necessary"
   ]
  },
  {
   "cell_type": "markdown",
   "id": "afcddff5-ecba-4a2c-8235-14d74e7f55ce",
   "metadata": {
    "slideshow": {
     "slide_type": "slide"
    },
    "tags": []
   },
   "source": [
    "## Cache replacement"
   ]
  },
  {
   "cell_type": "markdown",
   "id": "5811587c-2946-4bbd-820d-1a4b9846de3f",
   "metadata": {
    "slideshow": {
     "slide_type": "skip"
    },
    "tags": [
     "notes-only"
    ]
   },
   "source": [
    "* If a cache is full, then a cache entry must be removed so different data can be placed in the cache\n",
    "* Cache replacement policy governs which data is removed\n",
    "* _What should a good cache replacement policy do?_ — maximize the number of cache hits (or minimize the number of cache misses)\n",
    "    * Evaluation metric: Hit ratio = number of hits / total number of memory accesses\n",
    "* _How do we determine which cache entry to replace?_\n",
    "* Optimal replacement policy – replace the entry that will be accessed furthest in the future\n",
    "    * Impractical because we don’t know data access patterns a priori\n",
    "* Least Recently Used (LRU)\n",
    "    * LRU assumes a item that was accessed recently will be accessed again soon – temporal locality\n",
    "    * Downside: lots of overhead to implement — need to store an ordered list of items and move an item up in the list whenever it’s accessed\n",
    "    * Where does this go wrong? — when working-set size (i.e., number of repeatedly accessed entries) is (slightly) greater than size of the cache\n",
    "* First-in First-out (FIFO)\n",
    "    * Simple to implement\n",
    "    * Doesn’t consider the importance of a cache entry\n",
    "* Random\n",
    "    * Even simpler to implement\n",
    "    * Doesn’t consider the importance of a cache entry"
   ]
  },
  {
   "cell_type": "markdown",
   "id": "52247547-844e-4b3d-a8a3-fadb695c2b84",
   "metadata": {},
   "source": [
    "* Assume a cache can hold 3 entries and the following 15 data accesses occur: \n",
    "```\n",
    "3, 4, 4, 5, 3, 2, 3, 4, 1, 4, 4, 2, 5, 2, 4\n",
    "```\n",
    "* Q2: _What is the sequence of hits, insertions, and replacements that occur when an **optimal** cache replacement algorithm is used?_"
   ]
  },
  {
   "cell_type": "markdown",
   "id": "be613ef7-a7ed-47f8-bf3c-5ac5a6a7fdc6",
   "metadata": {
    "slideshow": {
     "slide_type": "skip"
    },
    "tags": [
     "notes-only"
    ]
   },
   "source": [
    "```\n",
    "+3, +4, H4, +5, H3, -5/+2, H3, H4, -3/+1, H4, H4, H2, -1/+5, H2, H4\n",
    "Hit ratio = 9/15 = 60%\n",
    "```"
   ]
  },
  {
   "cell_type": "markdown",
   "id": "fdb9e8d3-2dc5-4ee1-a315-df301dc0c2d4",
   "metadata": {
    "slideshow": {
     "slide_type": "skip"
    },
    "tags": [
     "worksheet-only"
    ]
   },
   "source": [
    "<p style=\"height:6em;\"></p>"
   ]
  },
  {
   "cell_type": "markdown",
   "id": "526b185a-12d7-48c5-a3ee-3b71a913d3a8",
   "metadata": {
    "slideshow": {
     "slide_type": "fragment"
    },
    "tags": []
   },
   "source": [
    "* Q3: _What is the sequence of hits, insertions, and replacements that occur when a **first in first out (FIFO)** cache replacement algorithm is used?_"
   ]
  },
  {
   "cell_type": "markdown",
   "id": "77c5673e-3333-444c-b0d0-65fca6b72760",
   "metadata": {
    "slideshow": {
     "slide_type": "skip"
    },
    "tags": [
     "notes-only"
    ]
   },
   "source": [
    "```\n",
    "+3, +4, H4, +5, H3, -3/+2, -4/+3, -5/+4, -2/+1, H4, H4, -3/+2, -4/+5, H2, -1/+4\n",
    "Hit ratio = 5/15 = 33%\n",
    "```"
   ]
  },
  {
   "cell_type": "markdown",
   "id": "d3eee7f4-02bb-4bae-a459-0bc73d54ae95",
   "metadata": {
    "slideshow": {
     "slide_type": "skip"
    },
    "tags": [
     "worksheet-only"
    ]
   },
   "source": [
    "<p style=\"height:6em;\"></p>"
   ]
  },
  {
   "cell_type": "markdown",
   "id": "37390556-86f5-4951-940b-9ba34a255390",
   "metadata": {},
   "source": [
    "* Q4: _What is the sequence of hits, insertions, and replacements that occur when a **least recently used (LRU)** cache replacement algorithm is used?_"
   ]
  },
  {
   "cell_type": "markdown",
   "id": "62a84526-5319-4bf2-b7c4-5ab1baad55ef",
   "metadata": {
    "slideshow": {
     "slide_type": "skip"
    },
    "tags": [
     "notes-only"
    ]
   },
   "source": [
    "```\n",
    "+3, +4, H4, +5, H3, -4/+2, H3, -5/+4, -2/+1, H4, H4, -3/+2, -1/+5, H2, H4\n",
    "Hit ratio = 7/15 = 47%\n",
    "```"
   ]
  },
  {
   "cell_type": "markdown",
   "id": "e9e79997-d06e-41e9-99f9-967204565144",
   "metadata": {
    "slideshow": {
     "slide_type": "skip"
    },
    "tags": [
     "worksheet-only"
    ]
   },
   "source": [
    "<p style=\"height:6em;\"></p>"
   ]
  },
  {
   "cell_type": "markdown",
   "id": "1f9e86ca-31cd-4a4e-abb4-b97d4838b46d",
   "metadata": {},
   "source": [
    "## Extra practice"
   ]
  },
  {
   "cell_type": "markdown",
   "id": "1916aacf-0287-4faf-baf4-8d3d9066af92",
   "metadata": {},
   "source": [
    "* Q5: _Cross-out unnecessary loads and stores in the following assembly code:_"
   ]
  },
  {
   "cell_type": "markdown",
   "id": "29532ef4-61c5-423d-8e13-68364cec2339",
   "metadata": {
    "slideshow": {
     "slide_type": "skip"
    },
    "tags": [
     "notes-only"
    ]
   },
   "source": [
    "```\n",
    "000000000040056c <volume>:                             \n",
    "    40056c:    d10083ff     sub    sp, sp, #0x20       \n",
    "    400570:    f9000bfe     str    x30, [sp, #16]      \n",
    "    400574:    b9000fe0     str    w0, [sp, #12]       XXX\n",
    "    400578:    b9000be1     str    w1, [sp, #8]        XXX\n",
    "    40057c:    b90007e2     str    w2, [sp, #4]        \n",
    "    400580:    b9400fe0     ldr    w0, [sp, #12]       XXX\n",
    "    400584:    b9400be1     ldr    w1, [sp, #8]        XXX\n",
    "    400588:    97ffffef     bl     400544 <multiply>   \n",
    "    40058c:    b90003e0     str    w0, [sp]            XXX\n",
    "    400590:    b94003e0     ldr    w0, [sp]            XXX\n",
    "    400594:    b94007e1     ldr    w1, [sp, #4]        \n",
    "    400598:    97ffffeb     bl     400544 <multiply>    \n",
    "    40059c:    b90003e0     str    w0, [sp]            XXX\n",
    "    4005a0:    b94003e0     ldr    w0, [sp]            XXX\n",
    "    4005a4:    f9400bfe     ldr    x30, [sp, #16]      \n",
    "    4005a8:    910083ff     add    sp, sp, #0x20       \n",
    "    4005ac:    d65f03c0     ret                        \n",
    "```"
   ]
  },
  {
   "cell_type": "markdown",
   "id": "f7d795ca-b8b2-44fa-ac3b-87d3e892cb42",
   "metadata": {
    "tags": [
     "worksheet-only"
    ]
   },
   "source": [
    "```\n",
    "000000000040056c <volume>:                             \n",
    "    40056c:    d10083ff     sub    sp, sp, #0x20       \n",
    "    400570:    f9000bfe     str    x30, [sp, #16]      \n",
    "    400574:    b9000fe0     str    w0, [sp, #12]       \n",
    "    400578:    b9000be1     str    w1, [sp, #8]        \n",
    "    40057c:    b90007e2     str    w2, [sp, #4]        \n",
    "    400580:    b9400fe0     ldr    w0, [sp, #12]       \n",
    "    400584:    b9400be1     ldr    w1, [sp, #8]        \n",
    "    400588:    97ffffef     bl     400544 <multiply>    \n",
    "    40058c:    b90003e0     str    w0, [sp]            \n",
    "    400590:    b94003e0     ldr    w0, [sp]            \n",
    "    400594:    b94007e1     ldr    w1, [sp, #4]        \n",
    "    400598:    97ffffeb     bl     400544 <multiply>    \n",
    "    40059c:    b90003e0     str    w0, [sp]            \n",
    "    4005a0:    b94003e0     ldr    w0, [sp]            \n",
    "    4005a4:    f9400bfe     ldr    x30, [sp, #16]      \n",
    "    4005a8:    910083ff     add    sp, sp, #0x20       \n",
    "    4005ac:    d65f03c0     ret                        \n",
    "```"
   ]
  },
  {
   "cell_type": "markdown",
   "id": "40f4585b-a482-4e1a-85fc-0afbd9715a65",
   "metadata": {
    "slideshow": {
     "slide_type": "skip"
    },
    "tags": [
     "worksheet-only"
    ]
   },
   "source": [
    "<div style=\"page-break-after:always;\"></div>"
   ]
  }
 ],
 "metadata": {
  "kernelspec": {
   "display_name": "C",
   "language": "c",
   "name": "c"
  },
  "language_info": {
   "file_extension": ".c",
   "mimetype": "c",
   "name": "c"
  }
 },
 "nbformat": 4,
 "nbformat_minor": 5
}
