{
 "cells": [
  {
   "cell_type": "markdown",
   "id": "27238286-82f8-4b20-9519-25e5c0306d19",
   "metadata": {
    "slideshow": {
     "slide_type": "skip"
    },
    "tags": []
   },
   "source": [
    "# Hello, C: compilation; variables; operators; output; control structures\n",
    "_COSC 208, Introduction to Computer Systems, 2024-01-26_"
   ]
  },
  {
   "cell_type": "markdown",
   "id": "0b9670ce-4f41-42c5-8f64-3b012fa73629",
   "metadata": {
    "slideshow": {
     "slide_type": "skip"
    },
    "tags": []
   },
   "source": [
    "## Announcements\n",
    "* Before next class: Read Dive Into Systems 16.4, 2.9.5 and answer pre-class questions\n",
    "* Complete \"Getting to know you\" questionnaire – if you haven’t already"
   ]
  },
  {
   "cell_type": "markdown",
   "id": "d7ffb82e-b020-48e1-b9e8-0bb6f3efc52e",
   "metadata": {
    "slideshow": {
     "slide_type": "skip"
    },
    "tags": []
   },
   "source": [
    "## Outline\n",
    "* Warm-up: Hello, C\n",
    "* Variables and operators\n",
    "* Output\n",
    "* Control structures"
   ]
  },
  {
   "cell_type": "markdown",
   "id": "d2e86b2c-26ba-4f29-bc58-50726d54e80e",
   "metadata": {
    "slideshow": {
     "slide_type": "slide"
    },
    "tags": []
   },
   "source": [
    "## Warm-up: Hello, C\n",
    "* Q1: Write a C program that prints \"Hello, C!\""
   ]
  },
  {
   "cell_type": "code",
   "execution_count": 3,
   "id": "44bb68c6-f0df-45a9-bbe6-04e59475c90e",
   "metadata": {
    "slideshow": {
     "slide_type": "skip"
    },
    "tags": [
     "notes-only"
    ]
   },
   "outputs": [
    {
     "name": "stdout",
     "output_type": "stream",
     "text": [
      "Hello, C!\n"
     ]
    }
   ],
   "source": [
    "#include <stdio.h>\n",
    "int main() {\n",
    "    printf(\"Hello, C!\\n\");\n",
    "    return 0;\n",
    "}"
   ]
  },
  {
   "cell_type": "markdown",
   "id": "fa13ab5d-b0e0-4808-9145-86784f46549e",
   "metadata": {
    "slideshow": {
     "slide_type": "skip"
    },
    "tags": [
     "worksheet-only"
    ]
   },
   "source": [
    "<div style=\"height:10em;\"></div>\n",
    "\n",
    "🛑 Stop here after completing the warm-up; please **do not** work ahead"
   ]
  },
  {
   "cell_type": "markdown",
   "id": "10c98bd9-e2d3-4312-a402-804ecf67c83e",
   "metadata": {
    "slideshow": {
     "slide_type": "skip"
    },
    "tags": [
     "notes-only"
    ]
   },
   "source": [
    "* _How do you compile the program?_\n",
    "```bash\n",
    "$ gcc -Wall -Werror -o hello hello.c\n",
    "```\n",
    "* _How do you run the program?_\n",
    "```bash\n",
    "$ ./hello\n",
    "```"
   ]
  },
  {
   "cell_type": "markdown",
   "id": "fe6f16e7-e2f6-4166-9a32-173bec203023",
   "metadata": {
    "slideshow": {
     "slide_type": "slide"
    },
    "tags": []
   },
   "source": [
    "## Variables and operators"
   ]
  },
  {
   "cell_type": "markdown",
   "id": "b64c3ec5-9975-48c6-bf71-e18ed432787d",
   "metadata": {
    "slideshow": {
     "slide_type": "skip"
    },
    "tags": [
     "notes-only"
    ]
   },
   "source": [
    "* Most common variable types – `char` and `int`\n",
    "* Declare (local) variables within functions; avoid declaring (global) variables outside of functions\n",
    "* C does not initialize variables => assign an initial value when a variable is declared\n",
    "* _How would I increment the number stored in a variable `x` by `1`?_\n",
    "    * `x = x + 1`\n",
    "    * `x += 1`\n",
    "    * `x++`\n",
    "    * `++x` – rarely used"
   ]
  },
  {
   "cell_type": "markdown",
   "id": "2517ac4d-0dd6-422f-b977-0233b4cbc474",
   "metadata": {
    "tags": []
   },
   "source": [
    "* _What is the output of each of the following programs?_"
   ]
  },
  {
   "cell_type": "code",
   "execution_count": 2,
   "id": "2c9762f6-8e20-4c5a-b471-9a6121a80b22",
   "metadata": {
    "tags": [
     "worksheet-code-only"
    ]
   },
   "outputs": [
    {
     "name": "stdout",
     "output_type": "stream",
     "text": [
      "6 2\n",
      "4 2\n",
      "3 10\n"
     ]
    }
   ],
   "source": [
    "//Q2\n",
    "#include <stdio.h>\n",
    "int main() {\n",
    "    int x = 1;\n",
    "    int y = 2;\n",
    "    x = x+5;\n",
    "    printf(\"%d %d\\n\", x, y);\n",
    "    x = y*2;\n",
    "    printf(\"%d %d\\n\", x, y);\n",
    "    y *= 5;\n",
    "    x--;\n",
    "    printf(\"%d %d\\n\", x, y);\n",
    "}"
   ]
  },
  {
   "cell_type": "markdown",
   "id": "dabaa5fb-34c9-40ed-afab-2a597bf8e193",
   "metadata": {
    "tags": [
     "worksheet-only"
    ]
   },
   "source": [
    "<div style=\"height:2em;\"></div>"
   ]
  },
  {
   "cell_type": "code",
   "execution_count": 3,
   "id": "540cdec9-5847-46ca-bb70-a9da17cb94ef",
   "metadata": {
    "slideshow": {
     "slide_type": "subslide"
    },
    "tags": [
     "worksheet-code-only"
    ]
   },
   "outputs": [
    {
     "name": "stdout",
     "output_type": "stream",
     "text": [
      "2 1\n"
     ]
    }
   ],
   "source": [
    "//Q3\n",
    "#include <stdio.h>\n",
    "int main() {\n",
    "    int x = 5;\n",
    "    int y = x/2;\n",
    "    int z = x%2;\n",
    "    printf(\"%d %d\\n\", y, z);\n",
    "}"
   ]
  },
  {
   "cell_type": "markdown",
   "id": "9c31ae64-22e4-4e86-b1f1-cf5979573198",
   "metadata": {
    "tags": [
     "worksheet-only"
    ]
   },
   "source": [
    "<div style=\"height:1em;\"></div>"
   ]
  },
  {
   "cell_type": "markdown",
   "id": "4e604e77-8f66-4698-bfcf-8b8fc2b6969b",
   "metadata": {
    "slideshow": {
     "slide_type": "skip"
    },
    "tags": [
     "worksheet-only"
    ]
   },
   "source": [
    "🛑 Stop here after completing the above questions; if you have extra time please **skip ahead** to the extra practice."
   ]
  },
  {
   "cell_type": "markdown",
   "id": "df8ee455-e3ea-46b2-bf63-ee1faf0fff54",
   "metadata": {
    "slideshow": {
     "slide_type": "slide"
    },
    "tags": []
   },
   "source": [
    "## Output"
   ]
  },
  {
   "cell_type": "markdown",
   "id": "f1d1b5b7-4ea5-4e60-84a8-04c7509b24d4",
   "metadata": {
    "slideshow": {
     "slide_type": "skip"
    },
    "tags": [
     "notes-only"
    ]
   },
   "source": [
    "* What is the syntax for `printf`?\n",
    "    * `printf(FORMAT_STRING, VALUES, ...);`\n",
    "    * `FORMAT_STRING` is a string constant (sequence of characters surrounded by double quotes) that may optionally include format specifiers\n",
    "    * Format specifiers define how to convert a value to a string\n",
    "        * `%d` decimal (i.e., base 10) number\n",
    "        * `%c` character\n",
    "        * `%x` hexadecimal (i.e., base 16) number\n",
    "        * `%s` string — more on this next week\n",
    "    * After the format string, include a value for each format specifier\n",
    "        * A compile error will occur if the number of format specifiers does not match the number of values\n",
    "        * A compile warning will occur if the value type does not match the format specifier"
   ]
  },
  {
   "cell_type": "markdown",
   "id": "d3a4a1a8-59b3-44d9-b6d5-6e28243fc085",
   "metadata": {},
   "source": [
    "* Q4: _Assume the variables `length` and `width` contain the dimensions of a sports field/court. Use `printf` to output the dimensions (`94ft x 50ft`)_"
   ]
  },
  {
   "cell_type": "code",
   "execution_count": null,
   "id": "56cdd775-c0ed-4da4-adbc-f2a066501aab",
   "metadata": {
    "slideshow": {
     "slide_type": "skip"
    },
    "tags": [
     "notes-only"
    ]
   },
   "outputs": [],
   "source": [
    "printf(\"%dft x %dft\\n\", length, width);"
   ]
  },
  {
   "cell_type": "markdown",
   "id": "6151c627-bdd5-4b8d-abea-011af51f33b4",
   "metadata": {
    "tags": [
     "worksheet-only"
    ]
   },
   "source": [
    "<div style=\"height:3em;\"></div>"
   ]
  },
  {
   "cell_type": "markdown",
   "id": "4aefc349-3e67-4a25-8aea-8449e39da49c",
   "metadata": {},
   "source": [
    "* Q5: _Assume the variables `first` and `last` contain a patient's first and last initial, and the variables `systolic` and `diastolic` contain the patient's blood pressure readings. Use `printf` to output the patient's initials and blood pressure (e.g., `A.G. 115/70`)_"
   ]
  },
  {
   "cell_type": "code",
   "execution_count": null,
   "id": "11cebc9f-e991-46cf-aff2-f242c9f57605",
   "metadata": {
    "slideshow": {
     "slide_type": "skip"
    },
    "tags": [
     "notes-only"
    ]
   },
   "outputs": [],
   "source": [
    "printf(\"%c.%c. %d/%d\\n\", first, last, systolic, diastolic);"
   ]
  },
  {
   "cell_type": "markdown",
   "id": "81655d37-22d3-45db-b4ef-4fc3d772fa5d",
   "metadata": {
    "tags": [
     "worksheet-only"
    ]
   },
   "source": [
    "<div style=\"height:3em;\"></div>"
   ]
  },
  {
   "cell_type": "markdown",
   "id": "3e1cde58-827f-42d7-a872-21d0817e79d6",
   "metadata": {
    "slideshow": {
     "slide_type": "subslide"
    },
    "tags": []
   },
   "source": [
    "* Q6: _What is the output of the following program?_"
   ]
  },
  {
   "cell_type": "code",
   "execution_count": 1,
   "id": "83eb9ddc-6d3b-4098-8e06-8f3ceb201023",
   "metadata": {
    "tags": [
     "worksheet-code-only"
    ]
   },
   "outputs": [
    {
     "name": "stdout",
     "output_type": "stream",
     "text": [
      "F 70\n"
     ]
    }
   ],
   "source": [
    "#include <stdio.h>\n",
    "int main() {\n",
    "    int x = 5;\n",
    "    char y = 'A'; // Equivalent to int value 65\n",
    "    y = y + x;\n",
    "    printf(\"%c %d\\n\", y, y);\n",
    "}"
   ]
  },
  {
   "cell_type": "markdown",
   "id": "706edbca-bb78-4782-8859-a4cb2adaaebb",
   "metadata": {
    "tags": [
     "worksheet-only"
    ]
   },
   "source": [
    "<div style=\"height:2em;\"></div>"
   ]
  },
  {
   "cell_type": "markdown",
   "id": "ecc0a7e5-2e3b-4586-bdd5-5b5b499fbc72",
   "metadata": {
    "slideshow": {
     "slide_type": "skip"
    },
    "tags": [
     "worksheet-only"
    ]
   },
   "source": [
    "🛑 Stop here after completing the above questions; if you have extra time please **skip ahead** to the extra practice."
   ]
  },
  {
   "cell_type": "markdown",
   "id": "c73750da-8ffd-4142-a89e-0e8383268b65",
   "metadata": {
    "slideshow": {
     "slide_type": "slide"
    },
    "tags": []
   },
   "source": [
    "## Control structures\n"
   ]
  },
  {
   "cell_type": "markdown",
   "id": "5b619ae7-7ebf-4d93-817a-57859b04de3b",
   "metadata": {
    "slideshow": {
     "slide_type": "skip"
    },
    "tags": [
     "notes-only"
    ]
   },
   "source": [
    "* Control structures in C have the same syntax as control structures in Java\n",
    "* _How are `true` and `false` represented in C?_ – `0` is false and any non-zero value (e.g., `13`, `-5`, `'C'`) is true\n",
    "* Curly braces are optional if the body of a conditional, for loop, or while loop is only one line\n",
    "    * But, you should **always** include them to make the code easier to read and reduce the likelihood of future errors"
   ]
  },
  {
   "cell_type": "markdown",
   "id": "e75a6e08-f91c-4b34-a0dc-54f039b3a847",
   "metadata": {},
   "source": [
    "* Q7: _Write a program that prints all even numbers from 1 to 10 using a for loop._"
   ]
  },
  {
   "cell_type": "code",
   "execution_count": 9,
   "id": "924c4aeb-8888-41c0-87ab-dc1df51574f1",
   "metadata": {
    "slideshow": {
     "slide_type": "skip"
    },
    "tags": [
     "notes-only"
    ]
   },
   "outputs": [
    {
     "name": "stdout",
     "output_type": "stream",
     "text": [
      "2\n",
      "4\n",
      "6\n",
      "8\n",
      "10\n"
     ]
    }
   ],
   "source": [
    "#include <stdio.h>\n",
    "int main() {\n",
    "    for (int i = 2; i <= 10; i+=2) {\n",
    "        printf(\"%d\\n\", i);\n",
    "    }\n",
    "}"
   ]
  },
  {
   "cell_type": "code",
   "execution_count": 33,
   "id": "7d895e85-237b-4127-b039-2c7abc7933b6",
   "metadata": {
    "slideshow": {
     "slide_type": "skip"
    },
    "tags": [
     "notes-only"
    ]
   },
   "outputs": [
    {
     "name": "stdout",
     "output_type": "stream",
     "text": [
      "0\n",
      "2\n",
      "4\n",
      "6\n",
      "8\n",
      "10\n"
     ]
    }
   ],
   "source": [
    "// Alternate version\n",
    "#include <stdio.h>\n",
    "int main() {\n",
    "    for (int i = 0; i <= 10; i++) {\n",
    "        if (0 == i % 2) {\n",
    "            printf(\"%d\\n\", i);\n",
    "        }\n",
    "    }\n",
    "}"
   ]
  },
  {
   "cell_type": "markdown",
   "id": "f84ff673-923d-4c7e-9fdb-15dccb88c039",
   "metadata": {
    "slideshow": {
     "slide_type": "skip"
    },
    "tags": [
     "worksheet-only"
    ]
   },
   "source": [
    "<div style=\"height:15em;\"></div>"
   ]
  },
  {
   "cell_type": "markdown",
   "id": "550d2dc4-fb27-40c8-9f8f-5eb48dbc3806",
   "metadata": {
    "slideshow": {
     "slide_type": "slide"
    },
    "tags": []
   },
   "source": [
    "## Extra practice"
   ]
  },
  {
   "cell_type": "markdown",
   "id": "f97aa4fb-b44b-4c2d-9a45-3494ba462dfe",
   "metadata": {},
   "source": [
    "* Q8: _Assume the variables `year`, `month` and `day` contain the parts of a date. Use `printf` to output the date (e.g., `2023-8-28`)_"
   ]
  },
  {
   "cell_type": "code",
   "execution_count": null,
   "id": "8cd22d32-caea-4e8e-9a26-b2505b03ec2c",
   "metadata": {
    "slideshow": {
     "slide_type": "skip"
    },
    "tags": [
     "notes-only"
    ]
   },
   "outputs": [],
   "source": [
    "printf(\"%d-%d-%d\\n\", year, month, day);"
   ]
  },
  {
   "cell_type": "markdown",
   "id": "856a4e50-bb60-4f79-8e4e-dd913e726696",
   "metadata": {
    "slideshow": {
     "slide_type": "skip"
    },
    "tags": [
     "worksheet-only"
    ]
   },
   "source": [
    "<div style=\"height:3em;\"></div>"
   ]
  },
  {
   "cell_type": "markdown",
   "id": "a43392b6-8979-4544-80a4-fb69332c7d94",
   "metadata": {
    "tags": []
   },
   "source": [
    "* Q9: _Write a program that computes and displays the number of minutes in a year._"
   ]
  },
  {
   "cell_type": "code",
   "execution_count": 2,
   "id": "29a937f6-137c-4171-a208-d7e3087b5146",
   "metadata": {
    "slideshow": {
     "slide_type": "skip"
    },
    "tags": [
     "notes-only"
    ]
   },
   "outputs": [
    {
     "name": "stdout",
     "output_type": "stream",
     "text": [
      "525600 minutes\n"
     ]
    }
   ],
   "source": [
    "#include <stdio.h>\n",
    "int main() {\n",
    "    int minutes = 365 * 24 * 60;\n",
    "    printf(\"%d minutes\\n\", minutes);\n",
    "    return 0;\n",
    "}"
   ]
  },
  {
   "cell_type": "markdown",
   "id": "62cea7e9-5101-4362-88d8-cf6dbcdfc2e2",
   "metadata": {
    "slideshow": {
     "slide_type": "skip"
    },
    "tags": [
     "worksheet-only"
    ]
   },
   "source": [
    "<div style=\"page-break-after:always;\"></div>"
   ]
  },
  {
   "cell_type": "markdown",
   "id": "7f19920b-9eae-43e1-be1d-2b741fa7c141",
   "metadata": {},
   "source": [
    "* Q10: _Write a program that prints all even numbers from 1 to 10 using a while loop._"
   ]
  },
  {
   "cell_type": "code",
   "execution_count": 12,
   "id": "3ba4c118-d695-48f3-8131-9efaa7f629d5",
   "metadata": {
    "slideshow": {
     "slide_type": "skip"
    },
    "tags": [
     "notes-only"
    ]
   },
   "outputs": [
    {
     "name": "stdout",
     "output_type": "stream",
     "text": [
      "2\n",
      "4\n",
      "6\n",
      "8\n",
      "10\n"
     ]
    }
   ],
   "source": [
    "#include <stdio.h>\n",
    "int main() {\n",
    "    int i = 2;\n",
    "    while (i <= 10) {\n",
    "        printf(\"%d\\n\", i);\n",
    "        i+=2;\n",
    "    }\n",
    "}"
   ]
  },
  {
   "cell_type": "markdown",
   "id": "e7be4cc0-2500-4e25-84e4-d9c8a7f5b901",
   "metadata": {
    "slideshow": {
     "slide_type": "skip"
    },
    "tags": [
     "worksheet-only"
    ]
   },
   "source": [
    "<div style=\"height:12em;\"></div>"
   ]
  },
  {
   "cell_type": "markdown",
   "id": "27175105-54e7-41f6-83dc-7e276ac8477a",
   "metadata": {},
   "source": [
    "* Q11: _Write a program that prints all numbers from 1 to 20, except:_\n",
    "    * _If the number is divisible by 3 then print `Three`_\n",
    "    * _If the number is divisible by 5 then print `Five`_\n",
    "    * _If the number is divisible by 3 and 5, print `Both`_"
   ]
  },
  {
   "cell_type": "code",
   "execution_count": 22,
   "id": "89a0ee98-15a9-45fc-8fe2-abf63da9eb2a",
   "metadata": {
    "slideshow": {
     "slide_type": "skip"
    },
    "tags": [
     "notes-only"
    ]
   },
   "outputs": [
    {
     "name": "stdout",
     "output_type": "stream",
     "text": [
      "1\n",
      "2\n",
      "Three\n",
      "4\n",
      "Five\n",
      "Three\n",
      "7\n",
      "8\n",
      "Three\n",
      "Five\n",
      "11\n",
      "Three\n",
      "13\n",
      "14\n",
      "Both\n",
      "16\n",
      "17\n",
      "Three\n",
      "19\n",
      "Five\n"
     ]
    }
   ],
   "source": [
    "#include <stdio.h>\n",
    "int main() {\n",
    "    for (int i = 1; i <= 20; i++) {\n",
    "        if (i % 3 == 0 && i % 5 == 0) {\n",
    "            printf(\"Both\\n\");\n",
    "        }\n",
    "        else if (i % 5 == 0) {\n",
    "            printf(\"Five\\n\");\n",
    "        }\n",
    "        else if (i % 3 == 0) {\n",
    "            printf(\"Three\\n\");\n",
    "        }\n",
    "        else {\n",
    "            printf(\"%d\\n\", i);\n",
    "        }\n",
    "    }\n",
    "}"
   ]
  },
  {
   "cell_type": "markdown",
   "id": "6c848f4c-2bea-4a0d-8797-5c5ccf868418",
   "metadata": {
    "slideshow": {
     "slide_type": "skip"
    },
    "tags": [
     "worksheet-only"
    ]
   },
   "source": [
    "<div style=\"height:30em;\"></div>"
   ]
  },
  {
   "cell_type": "markdown",
   "id": "2e717136-6894-4d84-a464-451e9099e4df",
   "metadata": {},
   "source": [
    "* Q12: _Write a program that prints every letter of the alphabet in upper and lower case: `AaBbCcDd...YyZz`_"
   ]
  },
  {
   "cell_type": "code",
   "execution_count": 23,
   "id": "235bd637-36c0-421e-bd81-86f0d990fff1",
   "metadata": {
    "slideshow": {
     "slide_type": "skip"
    },
    "tags": [
     "notes-only"
    ]
   },
   "outputs": [
    {
     "name": "stdout",
     "output_type": "stream",
     "text": [
      "AaBbCcDdEeFfGgHhIiJjKkLlMmNnOoPpQqRrSsTtUuVvWwXxYyZz\n"
     ]
    }
   ],
   "source": [
    "#include <stdio.h>\n",
    "int main() {\n",
    "    for (char upper='A'; upper <= 'Z'; upper++) {\n",
    "        char lower = upper - 'A' + 'a';\n",
    "        printf(\"%c%c\", upper, lower);\n",
    "    }\n",
    "    printf(\"\\n\");\n",
    "}"
   ]
  }
 ],
 "metadata": {
  "kernelspec": {
   "display_name": "C",
   "language": "c",
   "name": "c"
  },
  "language_info": {
   "file_extension": ".c",
   "mimetype": "c",
   "name": "c"
  }
 },
 "nbformat": 4,
 "nbformat_minor": 5
}
