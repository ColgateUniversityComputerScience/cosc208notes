{
 "cells": [
  {
   "cell_type": "markdown",
   "id": "27238286-82f8-4b20-9519-25e5c0306d19",
   "metadata": {
    "slideshow": {
     "slide_type": "skip"
    },
    "tags": []
   },
   "source": [
    "# Hello C: functions; libraries; arrays\n",
    "_COSC 208, Introduction to Computer Systems, Fall 2025_"
   ]
  },
  {
   "cell_type": "markdown",
   "id": "48efcf02",
   "metadata": {
    "editable": true,
    "slideshow": {
     "slide_type": ""
    },
    "tags": []
   },
   "source": [
    "## Announcements\n",
    "* First lab tomorrow \n",
    "* Before class on Friday: read Dive Into Systems 16.5.4, 2.9.2, 4.0-4.1\n",
    "* No quiz this Friday"
   ]
  },
  {
   "cell_type": "markdown",
   "id": "948aa1a7-d925-464a-9c37-24f65bfc926f",
   "metadata": {
    "editable": true,
    "slideshow": {
     "slide_type": "slide"
    },
    "tags": []
   },
   "source": [
    "## Defining functions"
   ]
  },
  {
   "cell_type": "markdown",
   "id": "acc4d287",
   "metadata": {
    "editable": true,
    "slideshow": {
     "slide_type": ""
    },
    "tags": [
     "question"
    ]
   },
   "source": [
    "Q1: _Write a function called `isoperator` that takes a character and returns `1` if the character is a mathematical operator (`+`, `-`, `*`, `/`), or `0` otherwise._"
   ]
  },
  {
   "cell_type": "code",
   "execution_count": 46,
   "id": "52fcf031",
   "metadata": {
    "editable": true,
    "slideshow": {
     "slide_type": ""
    },
    "tags": [
     "answer"
    ]
   },
   "outputs": [
    {
     "name": "stdout",
     "output_type": "stream",
     "text": [
      "Is + an operator? 1\n",
      "Is $ an operator? 0\n"
     ]
    }
   ],
   "source": [
    "#include <stdio.h>\n",
    "int isoperator(char ch) {\n",
    "    if (ch == '+' || ch == '-' || ch == '*' || ch == '/') {\n",
    "        return 1;\n",
    "    } else { // Not a letter\n",
    "        return 0;\n",
    "    }\n",
    "}\n",
    "// Testing\n",
    "int main() {\n",
    "    printf(\"Is %c an operator? %d\\n\", '+', isoperator('+'));\n",
    "    printf(\"Is %c an operator? %d\\n\", '$', isoperator('$'));\n",
    "}"
   ]
  },
  {
   "cell_type": "markdown",
   "id": "0629b9d3",
   "metadata": {
    "editable": true,
    "slideshow": {
     "slide_type": ""
    },
    "tags": [
     "blank"
    ]
   },
   "source": [
    "<div style=\"height:15em;\"></div>"
   ]
  },
  {
   "cell_type": "markdown",
   "id": "5140aeac",
   "metadata": {
    "editable": true,
    "slideshow": {
     "slide_type": ""
    },
    "tags": [
     "question"
    ]
   },
   "source": [
    "Q2: _Write a function called `flipcase` that takes a letter and returns the letter in the opposite case. If the character is not a letter, then return the character unchanged._"
   ]
  },
  {
   "cell_type": "code",
   "execution_count": 8,
   "id": "d94dcff5",
   "metadata": {
    "editable": true,
    "slideshow": {
     "slide_type": ""
    },
    "tags": [
     "answer"
    ]
   },
   "outputs": [],
   "source": [
    "#include <stdio.h>\n",
    "char flipcase(char ch) {\n",
    "    if (ch >= 'A' && ch <= 'Z') { // Uppercase to lowercase\n",
    "        return ch - 'A' + 'a';\n",
    "    } else if (ch >= 'a' && ch <= 'z') { // Lowercase to uppercase\n",
    "        return ch - 'a' + 'A';\n",
    "    } else { // Not a letter\n",
    "        return ch;\n",
    "    }\n",
    "}\n",
    "// Testing code\n",
    "#include <assert.h>\n",
    "int main() {\n",
    "    assert(flipcase('D') == 'd');\n",
    "    assert(flipcase('d') == 'D');\n",
    "    assert(flipcase('5') == '5');\n",
    "}"
   ]
  },
  {
   "cell_type": "markdown",
   "id": "3c9118f5",
   "metadata": {
    "editable": true,
    "slideshow": {
     "slide_type": ""
    },
    "tags": [
     "blank"
    ]
   },
   "source": [
    "<div style=\"height:15em;\"></div>"
   ]
  },
  {
   "cell_type": "markdown",
   "id": "ddefe1f2-33b6-4f79-b51d-d789542f3ae8",
   "metadata": {
    "editable": true,
    "slideshow": {
     "slide_type": "skip"
    },
    "tags": []
   },
   "source": [
    "## Function prototypes"
   ]
  },
  {
   "cell_type": "markdown",
   "id": "cdcfdd52-cdd8-4283-8780-4b30c5a8b01f",
   "metadata": {
    "editable": true,
    "slideshow": {
     "slide_type": "skip"
    },
    "tags": [
     "notes-only"
    ]
   },
   "source": [
    "* C compiler must know a function’s return type and the number and type of its parameters before it encounters any calls to that function"
   ]
  },
  {
   "cell_type": "code",
   "execution_count": 16,
   "id": "88ff8c86-ef6e-4f63-8bd3-496e877a1eb7",
   "metadata": {
    "editable": true,
    "slideshow": {
     "slide_type": ""
    },
    "tags": [
     "notes-only"
    ]
   },
   "outputs": [
    {
     "name": "stderr",
     "output_type": "stream",
     "text": [
      "/var/folders/bd/35sz70xs5837wszrx11bw1yc0000gn/T/tmpi2tm2ej0.c:3:18: error: implicit declaration of function 'add' is invalid in C99 [-Werror,-Wimplicit-function-declaration]\n",
      "    int result = add(1,2); // Compiler doesn't know if this call is valid \n",
      "                 ^\n",
      "1 error generated.\n",
      "[C kernel] GCC exited with code 1, the executable will not be executed"
     ]
    }
   ],
   "source": [
    "#include <stdio.h>\n",
    "int main() {\n",
    "    int result = add(1,2);\n",
    "    printf(\"%d\\n\", result);\n",
    "}\n",
    "int add(int x, int y) {\n",
    "    return x+y;\n",
    "}"
   ]
  },
  {
   "cell_type": "markdown",
   "id": "aeb49e34-d438-4305-aff9-92a656360b88",
   "metadata": {
    "editable": true,
    "slideshow": {
     "slide_type": "skip"
    },
    "tags": [
     "notes-only"
    ]
   },
   "source": [
    "* Function prototype provides a function’s return type, name, and number and type of its parameters, but not its body"
   ]
  },
  {
   "cell_type": "code",
   "execution_count": null,
   "id": "52479565-84c7-4c2c-9811-df5765667c07",
   "metadata": {
    "editable": true,
    "slideshow": {
     "slide_type": "skip"
    },
    "tags": [
     "notes-only"
    ]
   },
   "outputs": [],
   "source": [
    "return-type function-name(parameter-types);"
   ]
  },
  {
   "cell_type": "code",
   "execution_count": null,
   "id": "eec1655f-a562-49c7-9fc3-de515d329138",
   "metadata": {
    "editable": true,
    "slideshow": {
     "slide_type": "skip"
    },
    "tags": [
     "notes-only"
    ]
   },
   "outputs": [],
   "source": [
    "int add(int, int);"
   ]
  },
  {
   "cell_type": "markdown",
   "id": "13996252",
   "metadata": {
    "editable": true,
    "slideshow": {
     "slide_type": ""
    },
    "tags": [
     "notes-only"
    ]
   },
   "source": [
    "* Header (`.h`) files contain function prototypes "
   ]
  },
  {
   "cell_type": "markdown",
   "id": "f6d29f8c-29af-480e-9e3c-45aa43819c55",
   "metadata": {
    "editable": true,
    "slideshow": {
     "slide_type": ""
    },
    "tags": [
     "blank"
    ]
   },
   "source": [
    "<div style=\"height:12em;\"></div>"
   ]
  },
  {
   "cell_type": "markdown",
   "id": "a443c419-5cb4-4697-b93e-f06b11f4d5d5",
   "metadata": {
    "editable": true,
    "slideshow": {
     "slide_type": "slide"
    },
    "tags": [
     "question"
    ]
   },
   "source": [
    "Q3: _In the biological process of cell division, each cell divides into two cells and the process repeats. Write a function called `cells` that takes the number of rounds of cell division that occur and computes the total number of cells that will exist after the specified number of rounds (assuming you started with a single cell)._"
   ]
  },
  {
   "cell_type": "code",
   "execution_count": 7,
   "id": "b3eb574a-d3f8-4b28-ad7c-0d150ff63855",
   "metadata": {
    "editable": true,
    "slideshow": {
     "slide_type": "skip"
    },
    "tags": [
     "answer"
    ]
   },
   "outputs": [],
   "source": [
    "int cells(int rounds) {\n",
    "    int total = 1;\n",
    "    for (int i = 0; i < rounds; i++) {\n",
    "        total = total * 2;\n",
    "    }\n",
    "    return total;\n",
    "}\n",
    "// Testing code\n",
    "#include <assert.h>\n",
    "int main() {\n",
    "    assert(cells(0) == 1);\n",
    "    assert(cells(1) == 2);\n",
    "    assert(cells(8) == 256);\n",
    "}"
   ]
  },
  {
   "cell_type": "markdown",
   "id": "3b47690c-4dc9-4f75-a0ad-e3401e0215a2",
   "metadata": {
    "editable": true,
    "slideshow": {
     "slide_type": "skip"
    },
    "tags": [
     "blank"
    ]
   },
   "source": [
    "<div style=\"height:12em;\"></div>"
   ]
  },
  {
   "cell_type": "markdown",
   "id": "3b778a3d-05ad-4499-be74-5b275e77e0a6",
   "metadata": {
    "editable": true,
    "slideshow": {
     "slide_type": ""
    },
    "tags": [
     "question"
    ]
   },
   "source": [
    "Q4: _Write a function called `rounds` that takes the number of cells that should exist and computes the number of rounds of cell division that must occur to have at least that many cells (assuming you started with a single cell)._"
   ]
  },
  {
   "cell_type": "code",
   "execution_count": 1,
   "id": "59530c5d-d297-4a92-ad30-8471bf104f1b",
   "metadata": {
    "editable": true,
    "slideshow": {
     "slide_type": "skip"
    },
    "tags": [
     "answer"
    ]
   },
   "outputs": [],
   "source": [
    "int rounds(int cells) {\n",
    "    int total = 1;\n",
    "    int rounds = 0;\n",
    "    while (total < cells) {\n",
    "        total *= 2;\n",
    "        rounds++;\n",
    "    }\n",
    "    return rounds;\n",
    "}\n",
    "// Testing code\n",
    "#include <assert.h>\n",
    "int main() {\n",
    "    assert(rounds(1) == 0);\n",
    "    assert(rounds(2) == 1);\n",
    "    assert(rounds(250) == 8);\n",
    "    assert(rounds(256) == 8);\n",
    "}"
   ]
  },
  {
   "cell_type": "markdown",
   "id": "64c4933d-a1e4-4842-9024-f88fdf04cb2d",
   "metadata": {
    "editable": true,
    "slideshow": {
     "slide_type": "skip"
    },
    "tags": [
     "blank"
    ]
   },
   "source": [
    "<div style=\"height:12em;\"></div>"
   ]
  },
  {
   "cell_type": "markdown",
   "id": "0687b985-5db0-4cb1-afeb-05d7e00ca014",
   "metadata": {
    "editable": true,
    "slideshow": {
     "slide_type": "skip"
    },
    "tags": []
   },
   "source": [
    "## Using libraries"
   ]
  },
  {
   "cell_type": "markdown",
   "id": "099faa2a-1a18-44af-8edf-8e52ca02d859",
   "metadata": {
    "editable": true,
    "slideshow": {
     "slide_type": "skip"
    },
    "tags": [
     "notes-only"
    ]
   },
   "source": [
    "* Could use exponent to compute number of cells and logarithm to compute number of rounds\n",
    "* Provided by math library — `#include <math.h>`\n",
    "    * `double pow(double x, double y);`\n",
    "    * `double log2(double x);`\n",
    "* Aside: calculations involving decimal points suffer from small rounding errors, but we are going to using the integer ceiling of the result, so the rounding errors won't be a problem\n",
    "    * `double round(double x);`\n",
    "    * `double ceil(double x);`"
   ]
  },
  {
   "cell_type": "code",
   "execution_count": 3,
   "id": "65d004dc-5d08-4438-855d-1688cf2a43cb",
   "metadata": {
    "editable": true,
    "slideshow": {
     "slide_type": "skip"
    },
    "tags": [
     "notes-only"
    ]
   },
   "outputs": [],
   "source": [
    "#include <math.h>\n",
    "int cells(int rounds) {\n",
    "    double total = pow(2, rounds);\n",
    "    total = round(total);\n",
    "    return (int)total;\n",
    "} \n",
    "int rounds(int cells) {\n",
    "    double rounds = log2(cells);\n",
    "    rounds = ceil(rounds);\n",
    "    return (int)rounds; // Type cast to integer\n",
    "}\n",
    "// Testing code\n",
    "#include <assert.h>\n",
    "int main() {\n",
    "    assert(cells(4) == 16);\n",
    "    assert(rounds(16) == 4);\n",
    "}"
   ]
  },
  {
   "cell_type": "markdown",
   "id": "c9ed7383-0199-4f52-b151-5c264c65350f",
   "metadata": {
    "editable": true,
    "slideshow": {
     "slide_type": "skip"
    },
    "tags": [
     "notes-only"
    ]
   },
   "source": [
    "* Compilation error — Why?\n",
    "```bash\n",
    "$ gcc -Wall -o cell_division cell_division.c\n",
    "/usr/bin/ld: /tmp/ccyyWBh4.o: in function `cells':\n",
    "cell_division.c:(.text+0x1c): undefined reference to `pow'\n",
    "/usr/bin/ld: cell_division.c:(.text+0x28): undefined reference to `round'\n",
    "/usr/bin/ld: /tmp/ccyyWBh4.o: in function `rounds':\n",
    "cell_division.c:(.text+0x54): undefined reference to `log2'\n",
    "/usr/bin/ld: cell_division.c:(.text+0x60): undefined reference to `ceil'\n",
    "collect2: error: ld returned 1 exit status\n",
    "```\n",
    "* Need to tell compiler to \"link\" to a library\n",
    "* Library contains pre-compiled code\n",
    "* Recall: header file contains function prototypes, which allows compiler to know what functions are available in the library\n",
    "* At runtime, executable and referenced libraries are loaded into memory"
   ]
  },
  {
   "cell_type": "markdown",
   "id": "84f95c06-10ee-478c-8ce1-bb172851fa10",
   "metadata": {
    "editable": true,
    "slideshow": {
     "slide_type": "skip"
    },
    "tags": [
     "blank"
    ]
   },
   "source": [
    "<div style=\"height:5em;\"></div>"
   ]
  },
  {
   "cell_type": "markdown",
   "id": "1e6443a7",
   "metadata": {
    "editable": true,
    "slideshow": {
     "slide_type": ""
    },
    "tags": []
   },
   "source": [
    "## Arrays"
   ]
  },
  {
   "cell_type": "markdown",
   "id": "fca603a4",
   "metadata": {
    "editable": true,
    "slideshow": {
     "slide_type": ""
    },
    "tags": [
     "notes-only"
    ]
   },
   "source": [
    "* _How do you declare an array?_\n",
    "    * `TYPE VARNAME[LENGTH];`\n",
    "    * `TYPE VARNAME[] = {VALUE1, VALUE2, ...};`\n",
    "* _How do you access an element in an array?_ — `VARNAME[INDEX]`"
   ]
  },
  {
   "cell_type": "markdown",
   "id": "be809ec3-5d83-4960-a5e3-7834e7c150b6",
   "metadata": {
    "editable": true,
    "slideshow": {
     "slide_type": "skip"
    },
    "tags": [
     "blank"
    ]
   },
   "source": [
    "<div style=\"height:3em;\"></div>"
   ]
  },
  {
   "cell_type": "markdown",
   "id": "387c72a2",
   "metadata": {
    "editable": true,
    "slideshow": {
     "slide_type": ""
    },
    "tags": [
     "question"
    ]
   },
   "source": [
    "Q5: _What is the output of this program?_"
   ]
  },
  {
   "cell_type": "code",
   "execution_count": null,
   "id": "61faa08d",
   "metadata": {
    "editable": true,
    "slideshow": {
     "slide_type": ""
    },
    "tags": [
     "worksheet-code-only",
     "question"
    ]
   },
   "outputs": [
    {
     "name": "stdout",
     "output_type": "stream",
     "text": [
      "7\n"
     ]
    }
   ],
   "source": [
    "#include <stdio.h>\n",
    "int main() {\n",
    "    int sum = 0;\n",
    "    int nums[] = { 1, 3, 5, 7 };\n",
    "    for (int i = 0; i < 3; i++) {\n",
    "        nums[i+1] -= 1;\n",
    "        sum += nums[i];\n",
    "    }\n",
    "    printf(\"%d\\n\", sum);\n",
    "}"
   ]
  },
  {
   "cell_type": "markdown",
   "id": "ac601480",
   "metadata": {
    "editable": true,
    "slideshow": {
     "slide_type": ""
    },
    "tags": [
     "blank"
    ]
   },
   "source": [
    "<div style=\"height:5em;\"></div>"
   ]
  },
  {
   "cell_type": "markdown",
   "id": "0d9d6248",
   "metadata": {
    "editable": true,
    "slideshow": {
     "slide_type": ""
    },
    "tags": [
     "question"
    ]
   },
   "source": [
    "Q6: _What is the output of this program?_"
   ]
  },
  {
   "cell_type": "code",
   "execution_count": null,
   "id": "852bc238",
   "metadata": {
    "editable": true,
    "slideshow": {
     "slide_type": ""
    },
    "tags": [
     "worksheet-code-only",
     "question"
    ]
   },
   "outputs": [
    {
     "name": "stdout",
     "output_type": "stream",
     "text": [
      "1849360390\n"
     ]
    }
   ],
   "source": [
    "#include <stdio.h>\n",
    "int main() {\n",
    "    int sum = 0;\n",
    "    int nums[] = { 1, 2, 3 };\n",
    "    for (int i = 0; i <= 3; i++) {\n",
    "        sum += nums[i];\n",
    "    }\n",
    "    printf(\"%d\\n\", sum);\n",
    "}"
   ]
  },
  {
   "cell_type": "markdown",
   "id": "d9dfcef7",
   "metadata": {
    "editable": true,
    "slideshow": {
     "slide_type": ""
    },
    "tags": [
     "answer"
    ]
   },
   "source": [
    "_Undefined — C doesn't check array bounds like Java_"
   ]
  },
  {
   "cell_type": "markdown",
   "id": "27adf5d8",
   "metadata": {
    "editable": true,
    "slideshow": {
     "slide_type": ""
    },
    "tags": [
     "blank"
    ]
   },
   "source": [
    "<div style=\"height:5em;\"></div>"
   ]
  },
  {
   "cell_type": "markdown",
   "id": "9c5716e9",
   "metadata": {
    "editable": true,
    "slideshow": {
     "slide_type": ""
    },
    "tags": [
     "question"
    ]
   },
   "source": [
    "Q7: _What is the output of this program?_"
   ]
  },
  {
   "cell_type": "code",
   "execution_count": null,
   "id": "5fbfeb20",
   "metadata": {
    "editable": true,
    "slideshow": {
     "slide_type": ""
    },
    "tags": [
     "worksheet-code-only",
     "question"
    ]
   },
   "outputs": [
    {
     "name": "stdout",
     "output_type": "stream",
     "text": [
      "-1481762753\n"
     ]
    }
   ],
   "source": [
    "#include <stdio.h>\n",
    "int main() {\n",
    "    int sum = 0;\n",
    "    int zeros[10];\n",
    "    for (int i = 0; i < 10; i++) {\n",
    "        sum += zeros[i];\n",
    "    }\n",
    "    printf(\"%d\\n\", sum);\n",
    "}"
   ]
  },
  {
   "cell_type": "markdown",
   "id": "0bcee56b",
   "metadata": {
    "editable": true,
    "slideshow": {
     "slide_type": ""
    },
    "tags": [
     "answer"
    ]
   },
   "source": [
    "_Undefined — variables are not initialized like they are in Java_"
   ]
  },
  {
   "cell_type": "markdown",
   "id": "3aced59c",
   "metadata": {
    "editable": true,
    "slideshow": {
     "slide_type": ""
    },
    "tags": [
     "blank"
    ]
   },
   "source": [
    "<div style=\"height:5em;\"></div>"
   ]
  },
  {
   "cell_type": "markdown",
   "id": "0f695bf5-acff-45b3-a59b-557f5cd4156e",
   "metadata": {
    "editable": true,
    "slideshow": {
     "slide_type": ""
    },
    "tags": [
     "question"
    ]
   },
   "source": [
    "Q8: _What is the output of this program?_"
   ]
  },
  {
   "cell_type": "code",
   "execution_count": 7,
   "id": "8a4b1b85-9743-45ec-9a69-93b4225d2487",
   "metadata": {
    "editable": true,
    "slideshow": {
     "slide_type": ""
    },
    "tags": [
     "worksheet-code-only",
     "question"
    ]
   },
   "outputs": [
    {
     "name": "stdout",
     "output_type": "stream",
     "text": [
      "2\n",
      "4\n",
      "6\n"
     ]
    }
   ],
   "source": [
    "#include <stdio.h>\n",
    "#define LENGTH 3\n",
    "void helper(int nums[]) {\n",
    "    for (int i = 0; i < LENGTH; i++) {\n",
    "        nums[i] *= 2;\n",
    "    }\n",
    "}\n",
    "int main() {\n",
    "    int nums[LENGTH] = { 1, 2, 3 };\n",
    "    helper(nums);\n",
    "    for (int i = 0; i < LENGTH; i++) {\n",
    "        printf(\"%d\\n\", nums[i]);\n",
    "    }\n",
    "}"
   ]
  },
  {
   "cell_type": "markdown",
   "id": "75dc416c-bb99-4cc5-b855-5c5705e6503c",
   "metadata": {
    "editable": true,
    "slideshow": {
     "slide_type": ""
    },
    "tags": [
     "blank"
    ]
   },
   "source": [
    "<div style=\"height:8em;\"></div>"
   ]
  },
  {
   "cell_type": "markdown",
   "id": "9fd264ea",
   "metadata": {
    "editable": true,
    "slideshow": {
     "slide_type": ""
    },
    "tags": [
     "question"
    ]
   },
   "source": [
    "Q9: _Write a function called `avg` that takes an array of integers and the length of the array and returns the average of those integers._"
   ]
  },
  {
   "cell_type": "code",
   "execution_count": null,
   "id": "da510fe7",
   "metadata": {
    "editable": true,
    "slideshow": {
     "slide_type": ""
    },
    "tags": [
     "answer"
    ]
   },
   "outputs": [],
   "source": [
    "int avg(int nums[], int length) {\n",
    "    int sum = 0;\n",
    "    for (int i = 0; i < length; i++) {\n",
    "        sum += nums[i];\n",
    "    }\n",
    "    return sum / length;\n",
    "}\n",
    "// Testing code\n",
    "#include <assert.h>\n",
    "int main() {\n",
    "    int test[] = {2, 6, 7};\n",
    "    assert(avg(test, 3) == 5);\n",
    "}"
   ]
  },
  {
   "cell_type": "markdown",
   "id": "49d178b3",
   "metadata": {
    "editable": true,
    "slideshow": {
     "slide_type": ""
    },
    "tags": [
     "blank"
    ]
   },
   "source": [
    "<div style=\"height:15em;\"></div>"
   ]
  },
  {
   "cell_type": "markdown",
   "id": "638185fe",
   "metadata": {
    "editable": true,
    "slideshow": {
     "slide_type": ""
    },
    "tags": [
     "question"
    ]
   },
   "source": [
    "Q10: _Write a function called `count` that takes an array of integers,  the length of the array, and an integer to search for and returns the number of times the specified integer appears in the array._"
   ]
  },
  {
   "cell_type": "code",
   "execution_count": null,
   "id": "ffb411d0",
   "metadata": {
    "editable": true,
    "slideshow": {
     "slide_type": ""
    },
    "tags": [
     "answer"
    ]
   },
   "outputs": [],
   "source": [
    "int count(int nums[], int length, int find) {\n",
    "    int occurrences = 0;\n",
    "    for (int i = 0; i < length; i++) {\n",
    "        if (nums[i] == find) {\n",
    "            occurrences++;\n",
    "        }\n",
    "    }\n",
    "    return occurrences;\n",
    "}\n",
    "// Testing code\n",
    "#include <assert.h>\n",
    "int main() {\n",
    "    int test[] = {1, 2, 1, 2, 2, 1, 2};\n",
    "    assert(count(test, 7, 1) == 3);\n",
    "    assert(count(test, 7, 2) == 4);\n",
    "}"
   ]
  },
  {
   "cell_type": "markdown",
   "id": "f02c865c",
   "metadata": {
    "editable": true,
    "slideshow": {
     "slide_type": ""
    },
    "tags": [
     "blank"
    ]
   },
   "source": [
    "<div style=\"height:15em;\"></div>"
   ]
  },
  {
   "cell_type": "markdown",
   "id": "778e1b1e-190b-440d-aeb4-012b976c7515",
   "metadata": {
    "editable": true,
    "slideshow": {
     "slide_type": ""
    },
    "tags": [
     "question"
    ]
   },
   "source": [
    "Q11: _Separate the following function into multiple functions._"
   ]
  },
  {
   "cell_type": "code",
   "execution_count": 2,
   "id": "300aed5b-fc36-4bc6-b415-05c64aef0f1f",
   "metadata": {
    "editable": true,
    "slideshow": {
     "slide_type": ""
    },
    "tags": [
     "question"
    ]
   },
   "outputs": [],
   "source": [
    "int concatenated(int nums[], int len) {\n",
    "   int min = nums[0];\n",
    "   int counter = 0;\n",
    "   for (int i = 0; i < len; i++) {\n",
    "       int num = nums[i];\n",
    "       if (min > num) {\n",
    "           min = num;\n",
    "       }\n",
    "   }\n",
    "   for (int j = 0; j < len; j++) {\n",
    "       int num = nums[j];\n",
    "       if (num == min) {\n",
    "           counter += 1;\n",
    "       }\n",
    "   } \n",
    "   return counter;\n",
    "}"
   ]
  },
  {
   "cell_type": "code",
   "execution_count": 3,
   "id": "0e89a832-3c30-49aa-97bd-955c2fa93d1b",
   "metadata": {
    "editable": true,
    "slideshow": {
     "slide_type": ""
    },
    "tags": [
     "answer"
    ]
   },
   "outputs": [],
   "source": [
    "// Refactored\n",
    "int minimum(int nums[], int len) {\n",
    "    int min = nums[0];\n",
    "    for (int i = 0; i < len; i++) {\n",
    "       int num = nums[i];\n",
    "       if (min > num) {\n",
    "           min = num;\n",
    "       }\n",
    "   }\n",
    "    return min;\n",
    "}\n",
    "int occurrences(int nums[], int len, int value) {\n",
    "    int counter = 0;\n",
    "    for (int j = 0; j < len; j++) {\n",
    "       int num = nums[j];\n",
    "       if (num == value) {\n",
    "           counter += 1;\n",
    "       }\n",
    "    }\n",
    "    return counter;\n",
    "}\n",
    "int concatenated(int nums[], int len) {\n",
    "   int min = minimum(nums, len);\n",
    "   int counter = occurrences(nums, len, min);\n",
    "   return counter;\n",
    "}\n",
    "// Testing code\n",
    "#include <assert.h>\n",
    "int main() {\n",
    "    int test[] = {3, 2, 1, 2, 1, 2, 3, 2, 1, 2};\n",
    "    assert(concatenated(test, 10) == 3);\n",
    "}"
   ]
  },
  {
   "cell_type": "markdown",
   "id": "5c002751-f014-4345-8cad-99e646f9b90a",
   "metadata": {
    "editable": true,
    "slideshow": {
     "slide_type": ""
    },
    "tags": [
     "blank"
    ]
   },
   "source": [
    "<div style=\"height:10em;\"></div>"
   ]
  },
  {
   "cell_type": "code",
   "execution_count": 4,
   "id": "814b3943-969c-4420-8fbe-9c87e27c1468",
   "metadata": {
    "editable": true,
    "slideshow": {
     "slide_type": ""
    },
    "tags": [
     "question"
    ]
   },
   "outputs": [],
   "source": [
    "int inclusion(int nums[], int len) {\n",
    "   int min = nums[0]+1;\n",
    "   int counter = 0;\n",
    "   for (int i = 0; i < len; i++) {\n",
    "       int num = nums[i];\n",
    "       if (min > num) {\n",
    "           min = num;\n",
    "           counter = 0;\n",
    "           for (int j = 0; j < len; j++) {\n",
    "               int num = nums[j];\n",
    "               if (num == min) {\n",
    "                   counter += 1;\n",
    "               }\n",
    "           }\n",
    "       }\n",
    "   }\n",
    "   return counter;\n",
    "}"
   ]
  },
  {
   "cell_type": "code",
   "execution_count": 5,
   "id": "532bd712-22c6-4e02-ae4a-e40af904ba96",
   "metadata": {
    "editable": true,
    "slideshow": {
     "slide_type": ""
    },
    "tags": [
     "answer"
    ]
   },
   "outputs": [],
   "source": [
    "// Refactored\n",
    "int occurrences(int nums[], int len, int value) {\n",
    "    int counter = 0;\n",
    "    for (int j = 0; j < len; j++) {\n",
    "       int num = nums[j];\n",
    "       if (num == value) {\n",
    "           counter += 1;\n",
    "       }\n",
    "    }\n",
    "    return counter;\n",
    "}\n",
    "int inclusion(int nums[], int len) {\n",
    "   int min = nums[0]+1;\n",
    "   int counter = 0;\n",
    "   for (int i = 0; i < len; i++) {\n",
    "       int num = nums[i];\n",
    "       if (min > num) {\n",
    "           min = num;\n",
    "           counter = occurrences(nums, len, min);\n",
    "       }\n",
    "   }\n",
    "   return counter;\n",
    "}\n",
    "// Testing code\n",
    "#include <assert.h>\n",
    "int main() {\n",
    "    int test[] = {3, 2, 1, 2, 1, 2, 3, 2, 1, 2};\n",
    "    assert(inclusion(test, 10) == 3);\n",
    "}"
   ]
  },
  {
   "cell_type": "markdown",
   "id": "e65ace19-1cb9-462d-9afe-9de5b768b6c1",
   "metadata": {
    "editable": true,
    "slideshow": {
     "slide_type": ""
    },
    "tags": [
     "blank"
    ]
   },
   "source": [
    "<div style=\"height:10em;\"></div>"
   ]
  },
  {
   "cell_type": "code",
   "execution_count": 2,
   "id": "c5bfc700-84ca-43dc-87a6-7ca9f6496baf",
   "metadata": {
    "editable": true,
    "slideshow": {
     "slide_type": ""
    },
    "tags": [
     "question"
    ]
   },
   "outputs": [],
   "source": [
    "int interleaved(int nums[], int len) {\n",
    "   int min = nums[0];\n",
    "   int counter = 0;\n",
    "   for (int i = 0; i < len; i++) {\n",
    "       int num = nums[i];\n",
    "       if (min > num) {\n",
    "           min = num;\n",
    "           counter = 1;\n",
    "       } else if (min == num) {\n",
    "           counter += 1;\n",
    "       }\n",
    "   }\n",
    "   return counter;\n",
    "}"
   ]
  }
 ],
 "metadata": {
  "kernelspec": {
   "display_name": "C",
   "language": "c",
   "name": "c"
  },
  "language_info": {
   "file_extension": ".c",
   "mimetype": "text/plain",
   "name": "c"
  }
 },
 "nbformat": 4,
 "nbformat_minor": 5
}
