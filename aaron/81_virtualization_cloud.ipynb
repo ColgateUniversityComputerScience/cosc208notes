{
 "cells": [
  {
   "cell_type": "markdown",
   "id": "33410e11-322f-4e1e-979b-fe8de0e69a0e",
   "metadata": {
    "editable": true,
    "slideshow": {
     "slide_type": "skip"
    },
    "tags": []
   },
   "source": [
    "# Virtualization: data centers; cloud computing\n",
    "_COSC 208, Introduction to Computer Systems, Fall 2024_"
   ]
  },
  {
   "cell_type": "markdown",
   "id": "3988538a-8e48-491f-bcf7-338f16cdef9a",
   "metadata": {
    "editable": true,
    "slideshow": {
     "slide_type": ""
    },
    "tags": []
   },
   "source": [
    "## Data centers"
   ]
  },
  {
   "cell_type": "markdown",
   "id": "7cdd00a8-f6f8-4f45-80c7-d70946f3e9c9",
   "metadata": {
    "editable": true,
    "slideshow": {
     "slide_type": ""
    },
    "tags": [
     "notes-only"
    ]
   },
   "source": [
    "* A large collection of computer systems housed in a single physical location\n",
    "* Primary components\n",
    "    * Servers — with multi-core CPU, main memory, secondary storage, and network interface card (NIC)\n",
    "    * Racks — cabinet containing tens of servers\n",
    "    * Rows — line of racks\n",
    "    * Network — routers, switches, and fiber optic cables connecting servers/racks together to allow them to exchange data\n",
    "        * Includes connectivity to other data centers and the Internet\n",
    "    * Power system — electrical wires, distribution units, generators, connections to the power grid\n",
    "    * Cooling system — fans, cooling units (mechanical, evaporative, outdoor air, etc.)\n",
    "* Resources can be pooled together to provide more computing and storage than a single server\n",
    "    * Application can be replicated on many servers (running many processes) to handle a large volume of data/users and provide fault-tolerance\n",
    "    * Main memory on many servers can be pooled together to provide the abstraction of large, low-latency storage\n",
    "    * Files can be distributed/replicated across secondary storage on many servers to handle a large volume of data and provide fault-tolerance"
   ]
  },
  {
   "cell_type": "markdown",
   "id": "320f0985-2860-4f11-91bb-a13ffd3e13ac",
   "metadata": {
    "editable": true,
    "slideshow": {
     "slide_type": "skip"
    },
    "tags": [
     "blank"
    ]
   },
   "source": [
    "<p style=\"height:15em;\"></p>"
   ]
  },
  {
   "cell_type": "markdown",
   "id": "8cb55e9c-968b-4bf8-8cb2-80cda62fe6ca",
   "metadata": {
    "editable": true,
    "slideshow": {
     "slide_type": "slide"
    },
    "tags": []
   },
   "source": [
    "## Cloud computing"
   ]
  },
  {
   "cell_type": "markdown",
   "id": "29db34e5-258d-4a78-80dd-826650ae9e27",
   "metadata": {
    "editable": true,
    "slideshow": {
     "slide_type": "skip"
    },
    "tags": [
     "notes-only"
    ]
   },
   "source": [
    "* Characteristics\n",
    "    * Resources available on-demand — tenants reserve resources only when they need them\n",
    "        * E.g., a company uses more virtual machines during the day when employees are using applications\n",
    "        * E.g., a website has more visitors during a sale or popular event\n",
    "    * Pay-per-use — only pay for the resources you use\n",
    "        * E.g., pay for a virtual machine per hour of use\n",
    "            * Using one virtual machine for 24 hours costs the same as using 24 virtual machines for 1 hour\n",
    "        * E.g., pay for storage per GB per month\n",
    "    * Shared & virtualized — physical servers and storage devices resources are used by multiple tenants\n",
    "        * E.g., multiple virtual machines run on the same machine\n",
    "        * Physical servers and storage are usually more isolated than network switches and links\n",
    "* Service models\n",
    "    * Infrastructure-as-a-Service (IaaS)\n",
    "        * Tenants lease virtual machines, virtual storage, and virtual networks\n",
    "        * Tenants must manage the operating system, file system, etc.\n",
    "        * E.g., Amazon EC2, Microsoft Azure, Rackspace, Google Compute Engine\n",
    "    * Platform-as-a-Service (PaaS)\n",
    "        * Tenants lease resources to run applications written in a specific language — Python, Java, Hadoop/MapReduce\n",
    "        * Cloud provider manages the operating system, file system, and network\n",
    "        * E.g., Google App Engine, Cloud Foundry, IBM Cloud\n",
    "    * Function-as-a-Service (FaaS) or serverless\n",
    "        * Tenants run independent snippets of code\n",
    "        * E.g., Amazon Lambda\n",
    "    * Software-as-a-Service (SaaS)\n",
    "        * Tenants lease access to specific software\n",
    "        * E.g., Salesforce, Concur, Constant Contact, Google Drive, Office 365\n",
    "    * Storage-as-a-Service (STaaS)\n",
    "        * E.g., Dropbox, Google Drive, iCloud\n",
    "* Ownership\n",
    "    * Public - anyone can request and use resources\n",
    "    * Private - resources are only available to tenants (e.g., departments) within a company or organization\n",
    "    * Hybrid - tenants use a combination of public and private cloud resources"
   ]
  },
  {
   "cell_type": "markdown",
   "id": "0b6e9ac7-ec40-4897-97e7-1248c19cbde3",
   "metadata": {
    "editable": true,
    "slideshow": {
     "slide_type": "skip"
    },
    "tags": [
     "blank"
    ]
   },
   "source": [
    "<p style=\"height:20em;\"></p>"
   ]
  },
  {
   "cell_type": "markdown",
   "id": "d4fe036f-1766-4600-9c4b-0402d146ce21",
   "metadata": {
    "editable": true,
    "slideshow": {
     "slide_type": ""
    },
    "tags": [
     "question"
    ]
   },
   "source": [
    "_For each of the following service providers, indicate what type of service they offer._\n",
    "\n",
    "Q1: _Box provides secure file sharing and storage_"
   ]
  },
  {
   "cell_type": "markdown",
   "id": "abedf3f9-15f9-47dc-bdd5-7c0ac0d50891",
   "metadata": {
    "editable": true,
    "slideshow": {
     "slide_type": "skip"
    },
    "tags": [
     "answer"
    ]
   },
   "source": [
    "Storage-as-a-Service (STaaS)"
   ]
  },
  {
   "cell_type": "markdown",
   "id": "6ce440ff-9828-47c9-8825-e879081c64a4",
   "metadata": {
    "editable": true,
    "slideshow": {
     "slide_type": "skip"
    },
    "tags": [
     "blank"
    ]
   },
   "source": [
    "<p style=\"height:2em;\"></p>"
   ]
  },
  {
   "cell_type": "markdown",
   "id": "29213331-af80-42c0-901b-bdef8d4e2240",
   "metadata": {
    "editable": true,
    "slideshow": {
     "slide_type": ""
    },
    "tags": [
     "question"
    ]
   },
   "source": [
    "Q2: _Microsoft Azure provides virtual machines running Windows or Linux_"
   ]
  },
  {
   "cell_type": "markdown",
   "id": "e0a1c6f5-8fc0-48f1-ad19-a164ab5393e0",
   "metadata": {
    "editable": true,
    "slideshow": {
     "slide_type": "skip"
    },
    "tags": [
     "answer"
    ]
   },
   "source": [
    "Infrastructure-as-a-Service (IaaS)"
   ]
  },
  {
   "cell_type": "markdown",
   "id": "1d022fb2-6b60-443a-ac17-e0dd88ffc256",
   "metadata": {
    "editable": true,
    "slideshow": {
     "slide_type": "skip"
    },
    "tags": [
     "blank"
    ]
   },
   "source": [
    "<p style=\"height:2em;\"></p>"
   ]
  },
  {
   "cell_type": "markdown",
   "id": "bb99895d-5d60-4ca3-953b-288b452dfa27",
   "metadata": {
    "editable": true,
    "slideshow": {
     "slide_type": ""
    },
    "tags": [
     "question"
    ]
   },
   "source": [
    "Q3: _Heroku allows tenants to deploy code written in Ruby, Java, PHP, Python, Go, Scala, or Clojure_"
   ]
  },
  {
   "cell_type": "markdown",
   "id": "2aafc725-014c-4887-847a-f0ee563dae76",
   "metadata": {
    "editable": true,
    "slideshow": {
     "slide_type": "skip"
    },
    "tags": [
     "answer"
    ]
   },
   "source": [
    "Platform-as-a-Service (PaaS)"
   ]
  },
  {
   "cell_type": "markdown",
   "id": "aa31df66-976c-4b5b-b8ef-df2435f0af29",
   "metadata": {
    "editable": true,
    "slideshow": {
     "slide_type": "skip"
    },
    "tags": [
     "blank"
    ]
   },
   "source": [
    "<p style=\"height:2em;\"></p>"
   ]
  },
  {
   "cell_type": "markdown",
   "id": "f84c1592-1a5a-4b41-ac62-1dd47c43ebeb",
   "metadata": {
    "editable": true,
    "slideshow": {
     "slide_type": ""
    },
    "tags": [
     "question"
    ]
   },
   "source": [
    "Q4: _Oracle Supply Chain Management (SCM) is software that allows businesses to manage their supply chain_"
   ]
  },
  {
   "cell_type": "markdown",
   "id": "c151ff2f-d34d-4247-9211-f014c2516e8d",
   "metadata": {
    "editable": true,
    "slideshow": {
     "slide_type": "skip"
    },
    "tags": [
     "answer"
    ]
   },
   "source": [
    "Software-as-a-Service (SaaS)"
   ]
  },
  {
   "cell_type": "markdown",
   "id": "00d03456-1574-4d2e-af49-7334c8768b91",
   "metadata": {
    "editable": true,
    "slideshow": {
     "slide_type": "skip"
    },
    "tags": [
     "blank"
    ]
   },
   "source": [
    "<p style=\"height:2em;\"></p>"
   ]
  }
 ],
 "metadata": {
  "kernelspec": {
   "display_name": "C",
   "language": "c",
   "name": "c"
  },
  "language_info": {
   "file_extension": ".c",
   "mimetype": "text/plain",
   "name": "c"
  }
 },
 "nbformat": 4,
 "nbformat_minor": 5
}
