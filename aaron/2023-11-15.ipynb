{
 "cells": [
  {
   "cell_type": "markdown",
   "id": "d4c0cf7a-6741-41de-924b-477e6ac8b4e3",
   "metadata": {
    "slideshow": {
     "slide_type": "skip"
    },
    "tags": []
   },
   "source": [
    "# Efficiency: loop interchange; threads\n",
    "_COSC 208, Introduction to Computer Systems, 2023-11-15_"
   ]
  },
  {
   "cell_type": "markdown",
   "id": "ed5ad917-28d5-4478-b50b-72e280029552",
   "metadata": {
    "slideshow": {
     "slide_type": "skip"
    },
    "tags": []
   },
   "source": [
    "## Announcements\n",
    "* Project 4 due Thursday, December 7"
   ]
  },
  {
   "cell_type": "markdown",
   "id": "da1fb4b2-e9fe-4d36-a409-388d2f498f71",
   "metadata": {
    "slideshow": {
     "slide_type": "skip"
    },
    "tags": [
     "notes-only"
    ]
   },
   "source": [
    "## Outline\n",
    "* Warm-up\n",
    "* Loop interchange\n",
    "* Threads and memory"
   ]
  },
  {
   "cell_type": "markdown",
   "id": "98d9a0d4-d0f9-405a-8eea-5e10559587d0",
   "metadata": {},
   "source": [
    "## Warm-up (Q3 & Q4 from last class)"
   ]
  },
  {
   "cell_type": "markdown",
   "id": "a1a2ab4a-4b9a-4b9f-a15a-4d6e4943afbf",
   "metadata": {},
   "source": [
    "* Assume a cache can hold 3 entries and the following 15 data accesses occur: \n",
    "```\n",
    "3, 4, 4, 5, 3, 2, 3, 4, 1, 4, 4, 2, 5, 2, 4\n",
    "```\n",
    "* Q1: _What is the sequence of hits, insertions, and replacements that occur when a **first in first out (FIFO)** cache replacement algorithm is used?_"
   ]
  },
  {
   "cell_type": "markdown",
   "id": "facf45a1-9029-4223-a1d6-e95e8a3aa2b5",
   "metadata": {
    "slideshow": {
     "slide_type": "skip"
    },
    "tags": [
     "notes-only"
    ]
   },
   "source": [
    "```\n",
    "+3, +4, H4, +5, H3, -3/+2, -4/+3, -5/+4, -2/+1, H4, H4, -3/+2, -4/+5, H2, -1/+4\n",
    "Hit ratio = 5/15 = 33%\n",
    "```"
   ]
  },
  {
   "cell_type": "markdown",
   "id": "1642bcdb-0327-43e2-a039-d69827150d27",
   "metadata": {
    "slideshow": {
     "slide_type": "skip"
    },
    "tags": [
     "worksheet-only"
    ]
   },
   "source": [
    "<p style=\"height:6em;\"></p>"
   ]
  },
  {
   "cell_type": "markdown",
   "id": "78b31e3b-ca1a-40c6-a24a-9cea0eeefe75",
   "metadata": {},
   "source": [
    "* Q2: _What is the sequence of hits, insertions, and replacements that occur when a **least recently used (LRU)** cache replacement algorithm is used?_"
   ]
  },
  {
   "cell_type": "markdown",
   "id": "766e9f3a-98aa-4fcd-9e5e-cbec465d96c2",
   "metadata": {
    "slideshow": {
     "slide_type": "skip"
    },
    "tags": [
     "notes-only"
    ]
   },
   "source": [
    "```\n",
    "+3, +4, H4, +5, H3, -4/+2, H3, -5/+4, -2/+1, H4, H4, -3/+2, -1/+5, H2, H4\n",
    "Hit ratio = 7/15 = 47%\n",
    "```"
   ]
  },
  {
   "cell_type": "markdown",
   "id": "abeca277-d883-4273-9564-c1f91100e646",
   "metadata": {
    "slideshow": {
     "slide_type": "skip"
    },
    "tags": [
     "worksheet-only"
    ]
   },
   "source": [
    "<p style=\"height:6em;\"></p>\n",
    "\n",
    "🛑 **STOP here** after completing the above question; if you have extra time please **skip ahead** to the extra practice."
   ]
  },
  {
   "cell_type": "markdown",
   "id": "59a9b3a8-be20-4679-aa51-e8e29d36add8",
   "metadata": {
    "slideshow": {
     "slide_type": "slide"
    },
    "tags": []
   },
   "source": [
    "## Loop interchange"
   ]
  },
  {
   "cell_type": "markdown",
   "id": "098caece-78ae-4ceb-9daa-2c8ea009e1ae",
   "metadata": {
    "slideshow": {
     "slide_type": "skip"
    },
    "tags": []
   },
   "source": [
    "* Example"
   ]
  },
  {
   "cell_type": "code",
   "execution_count": 16,
   "id": "22e143cd-3ecd-4a39-9c67-330917a4a674",
   "metadata": {
    "tags": [
     "worksheet-code-only"
    ]
   },
   "outputs": [
    {
     "name": "stdout",
     "output_type": "stream",
     "text": [
      "66\n"
     ]
    }
   ],
   "source": [
    "#include <stdlib.h>\n",
    "#include <stdio.h>\n",
    "#define LEN 12\n",
    "int main() {\n",
    "    int *array = malloc(sizeof(int) * LEN);\n",
    "\n",
    "    for (int i = 0; i < LEN; i++) {\n",
    "        array[i] = i;\n",
    "    }\n",
    "    \n",
    "    int sum = 0;\n",
    "    for (int j = 0; j < 4; j++) {\n",
    "        for (int k = 0; k < LEN; k += 4) {\n",
    "            sum += array[j+k];\n",
    "        }\n",
    "    }\n",
    "    printf(\"%d\\n\", sum);\n",
    "}"
   ]
  },
  {
   "cell_type": "markdown",
   "id": "c8b3e066-d554-43a4-9cd3-022f18cc20cc",
   "metadata": {
    "slideshow": {
     "slide_type": "skip"
    },
    "tags": [
     "notes-only"
    ]
   },
   "source": [
    "* _Assume the values of all local variables are stored in registers (**not** the stack) and the value of `array` is `0x400`. What is the sequence of memory addresses that are accessed?_\n",
    "    * First for loop: `0x400`, `0x404`, `0x408`, `0x40c`, `0x410`, `0x414`, `0x418`, `0x41c`, `0x420`, `0x424`, `0x428`, `0x42c`\n",
    "    * Second for loop: `0x400`, `0x410`, `0x420`, `0x404`, `0x414`, `0x424`, `0x408`, `0x418`, `0x428`, `0x40c`, `0x41c`, `0x42c`, \n",
    "    * Notice that the first for loop accesses memory addresses in order, whereas the second for loop accesses addresses out of order\n",
    "* _Now assume the system uses a cache that holds 2 entries which are each 16 bytes large. What is the sequence of hits and misses using a least recently used (LRU) replacement policy?_\n",
    "    * First for loop: Miss (+0x4000), Hit, Hit, Hit, Miss (+0x4010), Hit, Hit, Hit, Miss (-0x4000/+0x4020), Hit, Hit, Hit\n",
    "    * Second for loop: Miss (-0x4010/+0x4000), Miss (-0x4020/+0x4010), Miss (-0x4000/+0x4020), Miss (-0x4010/+0x4000), Miss (-0x4020/+0x4010), Miss (-0x4000/+0x4020), Miss (-0x4010/+0x4000), Miss (-0x4020/+0x4010), Miss (-0x4000/+0x4020), Miss (-0x4010/+0x4000), Miss (-0x4020/+0x4010), Miss (-0x4000/+0x4020)\n",
    "    * Notice that the first for loop has three hits after each miss, whereas the second for loop is all misses\n",
    "* _How could we modify the code to achieve a higher hit ratio?_ – loop interchange, i.e., swap inner and outer loops"
   ]
  },
  {
   "cell_type": "code",
   "execution_count": 17,
   "id": "b44bd006-61a3-491e-9600-905dc7e7a34c",
   "metadata": {
    "slideshow": {
     "slide_type": "skip"
    },
    "tags": [
     "notes-only"
    ]
   },
   "outputs": [
    {
     "name": "stdout",
     "output_type": "stream",
     "text": [
      "66\n"
     ]
    }
   ],
   "source": [
    "#include <stdlib.h>\n",
    "#include <stdio.h>\n",
    "#define LEN 12\n",
    "int main() {\n",
    "    int *array = malloc(sizeof(int) * LEN);\n",
    "\n",
    "    for (int i = 0; i < LEN; i++) {\n",
    "        array[i] = i;\n",
    "    }\n",
    "    \n",
    "    int sum = 0;\n",
    "    for (int k = 0; k < LEN; k += 4) {\n",
    "        for (int j = 0; j < 4; j++) {\n",
    "            sum += array[j+k];\n",
    "        }\n",
    "    }\n",
    "    printf(\"%d\\n\", sum);\n",
    "}"
   ]
  },
  {
   "cell_type": "markdown",
   "id": "3dfccef5-3c32-40dd-9c3a-f1c606f00d97",
   "metadata": {
    "slideshow": {
     "slide_type": "skip"
    },
    "tags": [
     "worksheet-only"
    ]
   },
   "source": [
    "<div style=\"page-break-after:always;\"></div>"
   ]
  },
  {
   "cell_type": "markdown",
   "id": "b8ed1be1-70d7-42fa-bcc6-06cff0bc0ce9",
   "metadata": {
    "slideshow": {
     "slide_type": "subslide"
    },
    "tags": []
   },
   "source": [
    "* Q3: _Would loop interchange improve the efficiency of this code?_"
   ]
  },
  {
   "cell_type": "code",
   "execution_count": null,
   "id": "7d51d0b9-8295-4b7a-84bd-2bd04bad9697",
   "metadata": {
    "tags": [
     "worksheet-only"
    ]
   },
   "outputs": [],
   "source": [
    "void hundreds() {\n",
    "    int *nums = malloc(sizeof(int) * 1000);\n",
    "    for (int i = 0; i < 1000; i+= 100) {\n",
    "        for (int j = 0; j < 100; j++) {\n",
    "            nums[i+j] = i;\n",
    "        }\n",
    "    }\n",
    "}"
   ]
  },
  {
   "cell_type": "markdown",
   "id": "8603fd12-edc8-43b6-93da-74f6d01037b1",
   "metadata": {
    "slideshow": {
     "slide_type": "skip"
    },
    "tags": [
     "notes-only"
    ]
   },
   "source": [
    "    No"
   ]
  },
  {
   "cell_type": "markdown",
   "id": "fbebad94-eaf4-4943-ba1a-129c82c4050f",
   "metadata": {
    "slideshow": {
     "slide_type": "skip"
    },
    "tags": [
     "worksheet-only"
    ]
   },
   "source": [
    "<p style=\"height:2em;\"></p>"
   ]
  },
  {
   "cell_type": "markdown",
   "id": "a82cac33-a4dd-4c39-bfe1-03034d48ca21",
   "metadata": {
    "slideshow": {
     "slide_type": "subslide"
    },
    "tags": []
   },
   "source": [
    "* Q4: _Would loop interchange improve the efficiency of this code?_"
   ]
  },
  {
   "cell_type": "code",
   "execution_count": null,
   "id": "f3638e65-4dad-4520-a7fb-f286fd818863",
   "metadata": {},
   "outputs": [],
   "source": [
    "void multiplication(int grid[][], int rows, int cols) {\n",
    "    for (int c = 0; c < cols; c++) {\n",
    "        for (int r = 0; r < rows; r++) {\n",
    "            grid[r][c] = c * r;\n",
    "        }\n",
    "    }\n",
    "}"
   ]
  },
  {
   "cell_type": "markdown",
   "id": "262945dc-3068-4eae-8fe1-ac78aa99768a",
   "metadata": {
    "slideshow": {
     "slide_type": "skip"
    },
    "tags": [
     "notes-only"
    ]
   },
   "source": [
    "    Yes"
   ]
  },
  {
   "cell_type": "markdown",
   "id": "7c6dab10-6b18-4d29-aec8-e843ee40211a",
   "metadata": {
    "slideshow": {
     "slide_type": "skip"
    },
    "tags": [
     "worksheet-only"
    ]
   },
   "source": [
    "<p style=\"height:2em;\"></p>\n",
    "\n",
    "🛑 **STOP here** after completing the above question; if you have extra time please **skip ahead** to the extra practice."
   ]
  },
  {
   "cell_type": "markdown",
   "id": "cf63fa5f-05a3-4ea0-a9c8-5e36c5d2ed6e",
   "metadata": {
    "slideshow": {
     "slide_type": "slide"
    },
    "tags": []
   },
   "source": [
    "## Threads and memory"
   ]
  },
  {
   "cell_type": "markdown",
   "id": "72aef2b6-1235-4bdc-a2ce-bd1ca621f6cc",
   "metadata": {
    "slideshow": {
     "slide_type": "skip"
    },
    "tags": [
     "notes-only"
    ]
   },
   "source": [
    "* Threads are multiple execution contexts within the **same process**\n",
    "    * Processes are multiple execution contexts within the **same machine**\n",
    "* Because threads are within the same process, they share all of the process’s resources — memory, CPU time, file descriptors (i.e., open files), etc.\n",
    "* Consequently, two threads can update the same variable"
   ]
  },
  {
   "cell_type": "markdown",
   "id": "1869540c-338e-48dd-aa78-6ff54eadfcc6",
   "metadata": {
    "slideshow": {
     "slide_type": "skip"
    },
    "tags": []
   },
   "source": [
    "* Example"
   ]
  },
  {
   "cell_type": "code",
   "execution_count": null,
   "id": "ba727028-3e07-471a-a024-62b5c5061624",
   "metadata": {},
   "outputs": [],
   "source": [
    "#include <stdio.h>\n",
    "#include <stdlib.h>\n",
    "void *thread1_main(void *arg) {\n",
    "    int *x = (int *)arg;\n",
    "    *x += 1;\n",
    "    return NULL;\n",
    "}\n",
    "void *thread2_main(void *arg) {\n",
    "    int *y = (int *)arg;\n",
    "    *y += 2;\n",
    "    return NULL;\n",
    "}\n",
    "int main() {\n",
    "    int *z = malloc(sizeof(int));\n",
    "    *z = 0;\n",
    "    // Create thread running thread1_main(z)\n",
    "    // Create thread running thread2_main(z)\n",
    "    // Wait for threads to finish\n",
    "    printf(\"z is %d\\n\", *z);\n",
    "}"
   ]
  },
  {
   "cell_type": "markdown",
   "id": "e468eaf6-ad64-492b-9f9f-27b98f2a8295",
   "metadata": {
    "slideshow": {
     "slide_type": "skip"
    },
    "tags": [
     "notes-only"
    ]
   },
   "source": [
    "```\n",
    "z is 3\n",
    "```"
   ]
  },
  {
   "cell_type": "markdown",
   "id": "35690466-5c3a-46d7-b948-b01ccd946d86",
   "metadata": {
    "slideshow": {
     "slide_type": "skip"
    },
    "tags": [
     "notes-only"
    ]
   },
   "source": [
    "* Two processes cannot update the same variable — memory is not shared; must use inter-process communication mechanism to share information"
   ]
  },
  {
   "cell_type": "markdown",
   "id": "0f8ae88b-2902-4bfc-bd3f-e1649fb5ad50",
   "metadata": {
    "slideshow": {
     "slide_type": "skip"
    },
    "tags": [
     "worksheet-only"
    ]
   },
   "source": [
    "<div style=\"page-break-after:always;\"></div>"
   ]
  },
  {
   "cell_type": "markdown",
   "id": "c39cc1c9-d02a-499d-bcaf-49c2a86d1800",
   "metadata": {
    "slideshow": {
     "slide_type": "subslide"
    },
    "tags": []
   },
   "source": [
    "* Q5: _What are all possible outputs produced by this program?_"
   ]
  },
  {
   "cell_type": "code",
   "execution_count": null,
   "id": "9a34b176-5570-411e-8f19-96a0d955bc06",
   "metadata": {},
   "outputs": [],
   "source": [
    "#include <stdio.h>\n",
    "#include <stdlib.h>\n",
    "void *increment(void *arg) {\n",
    "    int *num = (int*)arg;\n",
    "    *num += 1;\n",
    "    return NULL;\n",
    "}\n",
    "void *zero(void *arg) {\n",
    "    int *num = (int*)arg;\n",
    "    *num = 0;\n",
    "    return NULL;\n",
    "}\n",
    "int main() {\n",
    "    int *i = malloc(sizeof(int));\n",
    "    *i = 5;\n",
    "    // Create thread running increment(i)\n",
    "    // Create thread running zero(i)\n",
    "    // Wait for threads to finish\n",
    "    printf(\"i=%d\\n\", *i);\n",
    "}"
   ]
  },
  {
   "cell_type": "markdown",
   "id": "ea2259ab-5942-429f-b16e-aadd6085de7d",
   "metadata": {
    "slideshow": {
     "slide_type": "skip"
    },
    "tags": [
     "notes-only"
    ]
   },
   "source": [
    "```\n",
    "i=0\n",
    "```\n",
    "OR\n",
    "```\n",
    "i=1\n",
    "```"
   ]
  },
  {
   "cell_type": "markdown",
   "id": "1fabb42c-6da9-4e86-b1fc-8cc66f441d9d",
   "metadata": {
    "slideshow": {
     "slide_type": "skip"
    },
    "tags": [
     "worksheet-only"
    ]
   },
   "source": [
    "<p style=\"height:10em;\"></p>"
   ]
  },
  {
   "cell_type": "markdown",
   "id": "5f4485d6-763b-4309-a703-58522e2d0a83",
   "metadata": {
    "slideshow": {
     "slide_type": "slide"
    },
    "tags": []
   },
   "source": [
    "## Extra practice"
   ]
  },
  {
   "cell_type": "markdown",
   "id": "027b256f-8e79-4e62-866a-eabeb2fadd6a",
   "metadata": {},
   "source": [
    "Q6: _For each of the following scenarios, indicate whether it is an example of temporal locality, spatial locality, or neither._"
   ]
  },
  {
   "cell_type": "markdown",
   "id": "21f384f8-5bfe-493e-8042-95b5fd07e75c",
   "metadata": {
    "slideshow": {
     "slide_type": "skip"
    },
    "tags": [
     "notes-only"
    ]
   },
   "source": [
    "* Gates for flights on the same airline are located in the same airport terminal/concourse – spatial locality\n",
    "* A grocery list is arranged in alphabetical order – neither\n",
    "* Clothes in a closet are grouped into outfits, with a shirt and a pair of pants stored next to each other – spatial locality\n",
    "* Boxes of cereal, bowls, and spoons are stored in adjacent kitchen cabinets/drawers – spatial locality\n",
    "* You repeatedly check your phone for new messages – temporal locality\n",
    "* A variable used in a for loop – temporal locality\n",
    "* Variables used in different functions – neither\n",
    "* A function's parameters, which are each used once within the function – spatial locality"
   ]
  },
  {
   "cell_type": "markdown",
   "id": "081ba331-538a-469c-a584-20e0e84e23d4",
   "metadata": {
    "tags": [
     "worksheet-only"
    ]
   },
   "source": [
    "* Gates for flights on the same airline are located in the same airport terminal/concourse\n",
    "* A grocery list is arranged in alphabetical order\n",
    "* Clothes in a closet are grouped into outfits, with a shirt and a pair of pants stored next to each other\n",
    "* Boxes of cereal, bowls, and spoons are stored in adjacent kitchen cabinets/drawers\n",
    "* You repeatedly check your phone for new messages\n",
    "* A variable used in a for loop\n",
    "* Variables used in different functions\n",
    "* A function's parameters, which are each used once within the function"
   ]
  },
  {
   "cell_type": "markdown",
   "id": "0a4db7c7-00cb-4b37-a471-ecd354136714",
   "metadata": {
    "slideshow": {
     "slide_type": "subslide"
    },
    "tags": []
   },
   "source": [
    "Q7: _For each of the following instances of caching, indicate whether the caching is motivated by temporal or spatial locality._"
   ]
  },
  {
   "cell_type": "markdown",
   "id": "d7b708ec-fd84-422c-bd2a-ff6dbe1fc41e",
   "metadata": {
    "slideshow": {
     "slide_type": "skip"
    },
    "tags": [
     "notes-only"
    ]
   },
   "source": [
    "* A CPU caches the first 32 instructions of a function when the function is called – spatial\n",
    "* A CPU caches all of the instructions for a frequently called function – temporal\n",
    "* A web browser caches the Moodle pages for your courses, which you view multiple times per week – temporal\n",
    "* A content distribution network (CDN) caches a video that has gone viral – temporal\n",
    "* A content distribution network (CDN) caches \"recommended videos\" related to a video – spatial"
   ]
  },
  {
   "cell_type": "markdown",
   "id": "b51db39d-d7fc-49db-bcec-ec26c63a28f0",
   "metadata": {
    "tags": [
     "worksheet-only"
    ]
   },
   "source": [
    "* A CPU caches the first 32 instructions of a function when the function is called\n",
    "* A CPU caches all of the instructions for a frequently called function\n",
    "* A web browser caches the Moodle pages for your courses, which you view multiple times per week\n",
    "* A content distribution network (CDN) caches a video that has gone viral\n",
    "* A content distribution network (CDN) caches \"recommended videos\" related to a video"
   ]
  }
 ],
 "metadata": {
  "kernelspec": {
   "display_name": "C",
   "language": "c",
   "name": "c"
  },
  "language_info": {
   "file_extension": ".c",
   "mimetype": "c",
   "name": "c"
  }
 },
 "nbformat": 4,
 "nbformat_minor": 5
}
