{
 "cells": [
  {
   "cell_type": "markdown",
   "id": "ffc437ac-d10b-4d12-895d-712e9c2057b5",
   "metadata": {
    "slideshow": {
     "slide_type": "skip"
    },
    "tags": []
   },
   "source": [
    "# Multiprocessing: exec\n",
    "_COSC 208, Introduction to Computer Systems, 2023-11-08_"
   ]
  },
  {
   "cell_type": "markdown",
   "id": "3a128151-3aa7-467d-9cab-5bda40b8473c",
   "metadata": {
    "slideshow": {
     "slide_type": "skip"
    },
    "tags": []
   },
   "source": [
    "## Announcements\n",
    "* Project 3 due tomorrow @ 11pm\n",
    "\n",
    "    _You **may not share or copy code/answers from other students.** Violations of this policy will be considered facilitating academic misconduct and/or cheating according to Colgate’s academic honor code._\n",
    "    \n",
    "    _Additionally, you **must clearly indicate if any code is copied from or inspired by external sources** (e.g., Stack Overflow, ChatGPT, GitHub Copilot) and adhere to the licensing requirements of such code. Violations of this policy will be considered cheating or plagiarism according to Colgate’s academic honor code. Note that question and answer forums (e.g., Stack Overflow) are often unreliable, and AI-based tools (e.g., ChatGPT) have significant limitations and legal complications._\n",
    "    \n",
    "    _**If you are struggling to complete an activity—due to a lack of understanding, time pressure, personal matters, etc.—please contact me. I want you to succeed, and I will do everything I can to help you.** Violating the academic honesty expectations for the course (almost) always leads to a bad experience for you and me. If you are unsure what constitutes academic misconduct, please contact me as soon as possible._"
   ]
  },
  {
   "cell_type": "markdown",
   "id": "377e6d68-2202-4782-afc7-a43582630f55",
   "metadata": {
    "slideshow": {
     "slide_type": "skip"
    },
    "tags": []
   },
   "source": [
    "## Outline\n",
    "* Warm-up\n",
    "* Running a different program"
   ]
  },
  {
   "cell_type": "markdown",
   "id": "12012bfd-a4f4-4e7f-9d4b-3275ef92160b",
   "metadata": {},
   "source": [
    "## Warm-up"
   ]
  },
  {
   "cell_type": "markdown",
   "id": "a4d62a45-c62d-4510-a785-bf92968debc6",
   "metadata": {
    "tags": []
   },
   "source": [
    "* Q1: _What are all possible outputs of this program, assuming the process identifier (PID) of the parent process is 50 and the PID of the child process is 60?_"
   ]
  },
  {
   "cell_type": "code",
   "execution_count": null,
   "id": "4b568a2a-c8dd-4802-a8d8-ab3892b4d87a",
   "metadata": {
    "tags": [
     "worksheet-code-only"
    ]
   },
   "outputs": [],
   "source": [
    "#include <stdio.h>\n",
    "#include <unistd.h>    \n",
    "int main() {\n",
    "    int n = 20;\n",
    "    int x = fork();\n",
    "    if (x < 0) {\n",
    "        printf(\"Fork failed\\n\");\n",
    "        return 1;\n",
    "    } else if (x == 0) {\n",
    "        n += 5;\n",
    "    } else {\n",
    "        wait(NULL);\n",
    "        n += 10;\n",
    "    }\n",
    "    printf(\"x=%d n=%d\\n\", x, n);\n",
    "}"
   ]
  },
  {
   "cell_type": "markdown",
   "id": "b9bb43be-7a01-42f7-ae89-cd7b03bc7822",
   "metadata": {
    "slideshow": {
     "slide_type": "skip"
    },
    "tags": [
     "notes-only"
    ]
   },
   "source": [
    "    x=0 n=25\n",
    "    x=60 n=30"
   ]
  },
  {
   "cell_type": "markdown",
   "id": "c4103de4-b417-4b0f-bb37-bac74de9a772",
   "metadata": {
    "slideshow": {
     "slide_type": "skip"
    },
    "tags": [
     "worksheet-only"
    ]
   },
   "source": [
    "<div style=\"height:10em;\"></div>\n",
    "\n",
    "🛑 **STOP here** after completing the above question; if you have extra time **take a few deep breaths** to reduce stress.\n",
    "\n",
    "<div style=\"page-break-after:always;\"></div>"
   ]
  },
  {
   "cell_type": "markdown",
   "id": "e875f316-7b38-4d9e-96c1-825b800f873b",
   "metadata": {
    "slideshow": {
     "slide_type": "slide"
    },
    "tags": []
   },
   "source": [
    "## Running a different program"
   ]
  },
  {
   "cell_type": "markdown",
   "id": "d0e78826-65d1-4833-b13e-b3d9bf8a34b5",
   "metadata": {
    "slideshow": {
     "slide_type": "skip"
    },
    "tags": [
     "notes-only"
    ]
   },
   "source": [
    "* `int exec(const char *path, const char *argv[])`\n",
    "    * Used to switch which program is running in a process — replaces current code with code for a new program and starts executing that program from main\n",
    "    * `path` == full path to program\n",
    "    * `argv` == array of strings containing the full path to the program, any command line arguments, and `NULL`"
   ]
  },
  {
   "cell_type": "markdown",
   "id": "c4f48afa-d724-40d8-8d9a-4cb18bb20749",
   "metadata": {},
   "source": [
    "* Example program"
   ]
  },
  {
   "cell_type": "code",
   "execution_count": 5,
   "id": "d230b252-4fe9-42e5-b601-9ef2ab7cbf64",
   "metadata": {
    "tags": [
     "worksheet-code-only"
    ]
   },
   "outputs": [
    {
     "name": "stdout",
     "output_type": "stream",
     "text": [
      "Begin\n",
      "Parent\n",
      "End\n",
      "Child\n",
      "Sun Nov  5 20:18:17 EST 2023\n"
     ]
    }
   ],
   "source": [
    "#include <stdio.h>\n",
    "#include <unistd.h>\n",
    "int main(int argc, char **argv) {\n",
    "    printf(\"Begin\\n\");\n",
    "    int pid = fork();\n",
    "    if (pid == 0) {\n",
    "        printf(\"Child\\n\");\n",
    "        char *cmd[] = { \"/bin/date\", NULL };\n",
    "        execv(cmd[0], cmd);\n",
    "    } else {\n",
    "        printf(\"Parent\\n\");\n",
    "    }\n",
    "    printf(\"End\\n\");\n",
    "    return 0;\n",
    "}"
   ]
  },
  {
   "cell_type": "markdown",
   "id": "937d247e-dda8-4000-bbdf-67bf3e69f2c7",
   "metadata": {
    "slideshow": {
     "slide_type": "subslide"
    },
    "tags": []
   },
   "source": [
    "* Q2: _What is the output produced by running `./progA`, assuming no errors occur?_"
   ]
  },
  {
   "cell_type": "code",
   "execution_count": null,
   "id": "f55a39c0-0a55-4c1b-a5df-300331062f4e",
   "metadata": {},
   "outputs": [],
   "source": [
    "/** progA **/\n",
    "#include <stdio.h>\n",
    "#include <unistd.h>\n",
    "int main() {\n",
    "    pid_t a = fork();\n",
    "    if (a == 0) {\n",
    "        char *cmd[] = { \"./progB\", NULL };\n",
    "        execv(cmd[0], cmd);\n",
    "        printf(\"A 2nd gen\\n\");\n",
    "        return 0;\n",
    "    } else {\n",
    "        wait(NULL);\n",
    "        printf(\"A 1st gen\\n\");\n",
    "        return 0;\n",
    "    }\n",
    "}"
   ]
  },
  {
   "cell_type": "code",
   "execution_count": null,
   "id": "d66bf910-2bed-48c8-b772-7f20c3cc8e06",
   "metadata": {
    "slideshow": {
     "slide_type": "subslide"
    },
    "tags": []
   },
   "outputs": [],
   "source": [
    "/** progB **/\n",
    "#include <stdio.h>\n",
    "#include <unistd.h>\n",
    "int main() {\n",
    "    pid_t b = fork();\n",
    "    if (b == 0) {\n",
    "        printf(\"B 2nd gen\\n\");\n",
    "        return 0;\n",
    "    } else {\n",
    "        wait(NULL);\n",
    "        printf(\"B 1st gen\\n\");\n",
    "        return 0;\n",
    "    }\n",
    "}"
   ]
  },
  {
   "cell_type": "markdown",
   "id": "12d43b8f-2202-4613-9a28-fc453159276f",
   "metadata": {
    "slideshow": {
     "slide_type": "skip"
    },
    "tags": [
     "notes-only"
    ]
   },
   "source": [
    "    B 2nd gen\n",
    "    B 1st gen\n",
    "    A 1st gen"
   ]
  },
  {
   "cell_type": "markdown",
   "id": "9862d7e8-fa5e-440e-a4b8-52883f0375da",
   "metadata": {
    "slideshow": {
     "slide_type": "skip"
    },
    "tags": [
     "worksheet-only"
    ]
   },
   "source": [
    "<div style=\"height:2em;\"></div>\n",
    "\n",
    "🛑 **STOP here** after completing the above question; if you have extra time **take a few deep breaths** to reduce stress.\n",
    "\n",
    "<div style=\"page-break-after:always;\"></div>"
   ]
  }
 ],
 "metadata": {
  "kernelspec": {
   "display_name": "C",
   "language": "c",
   "name": "c"
  },
  "language_info": {
   "file_extension": ".c",
   "mimetype": "c",
   "name": "c"
  }
 },
 "nbformat": 4,
 "nbformat_minor": 5
}
