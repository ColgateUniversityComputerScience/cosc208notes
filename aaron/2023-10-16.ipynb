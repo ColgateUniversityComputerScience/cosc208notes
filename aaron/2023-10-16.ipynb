{
 "cells": [
  {
   "cell_type": "markdown",
   "id": "39d76db8-edb9-47d5-bec8-7998805660b3",
   "metadata": {
    "slideshow": {
     "slide_type": "skip"
    },
    "tags": []
   },
   "source": [
    "# Assembly: operations and operands; mapping assembly to C\n",
    "_COSC 208, Introduction to Computer Systems, 2023-10-16_"
   ]
  },
  {
   "cell_type": "markdown",
   "id": "37653a99-1c8a-47ac-b68c-6e7336bb8328",
   "metadata": {
    "slideshow": {
     "slide_type": "skip"
    },
    "tags": []
   },
   "source": [
    "## Announcements\n",
    "* Project 2 due Thursday @ 11pm"
   ]
  },
  {
   "cell_type": "markdown",
   "id": "f17866fc-fc93-480c-a9a5-d903a0657063",
   "metadata": {
    "slideshow": {
     "slide_type": "skip"
    },
    "tags": []
   },
   "source": [
    "## Outline\n",
    "* Warm-up\n",
    "* Viewing assembly code\n",
    "* Operands\n",
    "* Mapping assembly to C"
   ]
  },
  {
   "cell_type": "markdown",
   "id": "e663073f-3384-4891-978a-b8c31d0a6263",
   "metadata": {
    "slideshow": {
     "slide_type": "slide"
    },
    "tags": []
   },
   "source": [
    "## Warm-up"
   ]
  },
  {
   "cell_type": "markdown",
   "id": "841f6f3e-e954-45fa-84fe-951093ec6c77",
   "metadata": {},
   "source": [
    "* Q1: _Draw the circuitry for a processing unit that has two general purpose registers (r0 and r1) and supports four bitwise operations (`&`, `|`, `^`, `~`). Assume you already have storage, MUX, DMUX, and bitwise operations (`&`, `|`, `^`, `~`) circuits available as building blocks._"
   ]
  },
  {
   "cell_type": "markdown",
   "id": "27c0c763-8dc3-43f5-a971-291eaaede49b",
   "metadata": {
    "slideshow": {
     "slide_type": "skip"
    },
    "tags": [
     "notes-only"
    ]
   },
   "source": [
    "![](images/circuits/processing_unit_with_bitwise_operators.png)"
   ]
  },
  {
   "cell_type": "markdown",
   "id": "97fc1e1b-1232-4764-baea-c1663e278316",
   "metadata": {
    "slideshow": {
     "slide_type": "skip"
    },
    "tags": [
     "worksheet-only"
    ]
   },
   "source": [
    "<p style=\"height:25em;\"></p>"
   ]
  },
  {
   "cell_type": "markdown",
   "id": "e7bb1719-9d74-40c9-bb60-b965fe8ff2a0",
   "metadata": {},
   "source": [
    "* Q2: _For this processor's assembly language, how many bits are required for the operation code?_"
   ]
  },
  {
   "cell_type": "markdown",
   "id": "9f2afe8b-1b95-469b-a663-edf5d2279cf8",
   "metadata": {
    "slideshow": {
     "slide_type": "skip"
    },
    "tags": [
     "notes-only"
    ]
   },
   "source": [
    "    2"
   ]
  },
  {
   "cell_type": "markdown",
   "id": "294e188d-21f2-486b-9bdb-84ea6ea5fa7a",
   "metadata": {
    "slideshow": {
     "slide_type": "skip"
    },
    "tags": [
     "worksheet-only"
    ]
   },
   "source": [
    "<p style=\"height:3em;\"></p>"
   ]
  },
  {
   "cell_type": "markdown",
   "id": "05f6d312-533d-4a42-9525-5463975d865c",
   "metadata": {},
   "source": [
    "* Q3: _For this processor's assembly language, how many bits are required for a complete instruction?_"
   ]
  },
  {
   "cell_type": "markdown",
   "id": "a183a7f3-c4c4-4989-b707-d26cf7eeeb3c",
   "metadata": {
    "slideshow": {
     "slide_type": "skip"
    },
    "tags": [
     "notes-only"
    ]
   },
   "source": [
    "    5"
   ]
  },
  {
   "cell_type": "markdown",
   "id": "2f5e89d1-c803-49cc-9685-3323ac221248",
   "metadata": {
    "slideshow": {
     "slide_type": "skip"
    },
    "tags": [
     "worksheet-only"
    ]
   },
   "source": [
    "<p style=\"height:3em;\"></p>"
   ]
  },
  {
   "cell_type": "markdown",
   "id": "c71569cc-92ae-481f-b239-da00270df6bd",
   "metadata": {},
   "source": [
    "* Q4: _What is the binary representation of the assembly instruction for `r0 = r0 ^ r1`?_"
   ]
  },
  {
   "cell_type": "markdown",
   "id": "e5dc84d5-d3ed-4aea-9129-666f5113a154",
   "metadata": {
    "slideshow": {
     "slide_type": "skip"
    },
    "tags": [
     "notes-only"
    ]
   },
   "source": [
    "    0b10001"
   ]
  },
  {
   "cell_type": "markdown",
   "id": "54035356-a49f-4c50-a205-d37070b82906",
   "metadata": {
    "slideshow": {
     "slide_type": "skip"
    },
    "tags": [
     "worksheet-only"
    ]
   },
   "source": [
    "<p style=\"height:3em;\"></p>\n",
    "\n",
    "🛑 **STOP here** after completing the above questions; if you have extra time please **skip ahead** to the extra practice.\n",
    "\n",
    "<div style=\"page-break-after:always;\"></div>"
   ]
  },
  {
   "cell_type": "markdown",
   "id": "a31d5fc4-f918-40bf-9381-d502cf27c36c",
   "metadata": {
    "slideshow": {
     "slide_type": "slide"
    },
    "tags": []
   },
   "source": [
    "## Viewing assembly code"
   ]
  },
  {
   "cell_type": "markdown",
   "id": "e7825527-e714-4f49-9717-38fc62934c6c",
   "metadata": {
    "slideshow": {
     "slide_type": "skip"
    },
    "tags": [
     "worksheet-only"
    ]
   },
   "source": [
    "* Goal is to understand the relationship between C code and its corresponding assembly code to make informed programming decisions"
   ]
  },
  {
   "cell_type": "markdown",
   "id": "9990acae-afca-4ab9-802c-ec3481333546",
   "metadata": {},
   "source": [
    "* Example program (`dogyears.c`)"
   ]
  },
  {
   "cell_type": "code",
   "execution_count": null,
   "id": "ba449c04-69ed-4130-82e9-a41c25515742",
   "metadata": {
    "tags": [
     "worksheet-code-only"
    ]
   },
   "outputs": [],
   "source": [
    "/* 1*/   #include <stdio.h>\n",
    "/* 2*/   #include <stdlib.h>\n",
    "/* 3*/   int dog_years(int birth) {\n",
    "/* 4*/       int current = 2023;\n",
    "/* 5*/       int years = current - birth;\n",
    "/* 6*/       years = years * 7;\n",
    "/* 7*/       return years;\n",
    "/* 8*/   }\n",
    "/* 9*/   int main() {\n",
    "/*10*/       printf(\"What year were you born? \");\n",
    "/*11*/       char year[5];\n",
    "/*12*/       fgets(year, 5, stdin);\n",
    "/*13*/       int dog_age = dog_years(atoi(year));\n",
    "/*14*/       printf(\"You are %d dog years old\\n\", dog_age);\n",
    "/*15*/   }"
   ]
  },
  {
   "cell_type": "markdown",
   "id": "dbd244b0-c616-4210-a836-746c11fa7b6e",
   "metadata": {
    "slideshow": {
     "slide_type": "skip"
    },
    "tags": [
     "notes-only"
    ]
   },
   "source": [
    "* Viewing assembly code\n",
    "    * Compile: `gcc -fomit-frame-pointer -o dogyears dogyears.c`\n",
    "    * Disassemble executable: `objdump -d dogyears > dogyears.txt`"
   ]
  },
  {
   "cell_type": "markdown",
   "id": "929ab770-14e2-430e-b46a-4e05fd4e966a",
   "metadata": {
    "slideshow": {
     "slide_type": "subslide"
    },
    "tags": []
   },
   "source": [
    "* Assembly code (excerpt from `dogyears.txt`)\n",
    "    ```\n",
    "    0000000000000914 <dog_years>:\n",
    "     914:   d10083ff        sub     sp, sp, #0x20\n",
    "     918:   b9000fe0        str     w0, [sp, #12]\n",
    "     91c:   5280fce0        mov     w0, #0x7e7\n",
    "     920:   b9001be0        str     w0, [sp, #24]\n",
    "     924:   b9401be1        ldr     w1, [sp, #24]\n",
    "     928:   b9400fe0        ldr     w0, [sp, #12]\n",
    "     92c:   4b000020        sub     w0, w1, w0\n",
    "     930:   b9001fe0        str     w0, [sp, #28]\n",
    "     934:   b9401fe1        ldr     w1, [sp, #28]\n",
    "     938:   2a0103e0        mov     w0, w1\n",
    "     93c:   531d7000        lsl     w0, w0, #3\n",
    "     940:   4b010000        sub     w0, w0, w1\n",
    "     944:   b9001fe0        str     w0, [sp, #28]\n",
    "     948:   b9401fe0        ldr     w0, [sp, #28]\n",
    "     94c:   910083ff        add     sp, sp, #0x20\n",
    "     950:   d65f03c0        ret\n",
    "    ```"
   ]
  },
  {
   "cell_type": "markdown",
   "id": "e117ce88-35f2-4d0d-886c-f3cbf3455779",
   "metadata": {
    "slideshow": {
     "slide_type": "skip"
    },
    "tags": [
     "worksheet-only"
    ]
   },
   "source": [
    "<div style=\"page-break-after:always;\"></div>"
   ]
  },
  {
   "cell_type": "markdown",
   "id": "9fa02227-4dc3-4bad-a589-f5df0ac650af",
   "metadata": {
    "slideshow": {
     "slide_type": "skip"
    },
    "tags": [
     "notes-only"
    ]
   },
   "source": [
    "* _What do each of the columns contain?_\n",
    "    * Code memory address\n",
    "    * Bytes corresponding to instruction\n",
    "    * Operation\n",
    "        * sub – subtraction\n",
    "        * str – store (i.e., copy) a value from a register into main memory\n",
    "        * mov – move (i.e., copy) into a register a constant or a value from another register\n",
    "        * ldr – load (i.e., copy) a value from main memory into a register\n",
    "        * lsl – logical shift left (i.e., `<<`)\n",
    "        * add – addition\n",
    "        * ret – return from function call\n",
    "    * Operands"
   ]
  },
  {
   "cell_type": "markdown",
   "id": "f2c846cb-c607-4d45-ab5f-76244b723f8c",
   "metadata": {
    "slideshow": {
     "slide_type": "skip"
    },
    "tags": [
     "notes-only"
    ]
   },
   "source": [
    "## Operands"
   ]
  },
  {
   "cell_type": "markdown",
   "id": "979e5a49-8161-4544-bf5c-8b7b72e10478",
   "metadata": {
    "slideshow": {
     "slide_type": "skip"
    },
    "tags": [
     "notes-only"
    ]
   },
   "source": [
    "* Registers\n",
    "    * General purpose registers\n",
    "        * `w0` through `w30` (32-bit) \n",
    "        * `x0` through `x30` (64-bit)\n",
    "    * Stack pointer `sp` – memory address of the top of the current stack frame\n",
    "    * Program counter `pc` – memory address of the current instruction\n",
    "* Constant\n",
    "    * In hex — e.g., `#0x20`\n",
    "    * In decimal — e.g., `#8`\n",
    "* Memory – only used in `ldr` (load) and `str` (store) instructions, which copy data between main memory and the processor\n",
    "    * Dereference — e.g., `[x1]`\n",
    "    * Add to memory address, then dereference — e.g., `[sp,#16]`"
   ]
  },
  {
   "cell_type": "markdown",
   "id": "88099808-c224-42c1-a326-6c83e80431ea",
   "metadata": {
    "slideshow": {
     "slide_type": "slide"
    },
    "tags": []
   },
   "source": [
    "## Mapping assembly code to C code"
   ]
  },
  {
   "cell_type": "markdown",
   "id": "4cf5b48d-2f88-4248-9cdb-da1cc978548b",
   "metadata": {
    "slideshow": {
     "slide_type": "skip"
    },
    "tags": [
     "notes-only"
    ]
   },
   "source": [
    "* Function begin pattern\n",
    "    * create stack frame by decreasing (`sub`) stack pointer\n",
    "    * store (`str`) parameters from registers w/x0, w/x1, etc. into the stack in main memory\n",
    "* Local variable initialization pattern\n",
    "    * move (mov) constant value into register\n",
    "    * store (str) register value onto the stack\n",
    "* Mathematical operation pattern\n",
    "    * load (`ldr`) first operand from the stack into a register OR move (`mov`) first operand constant into a regster\n",
    "    * load (`ldr`) second operand from the stack into a register OR move (`mov`) second operand constant into a regster\n",
    "    * compute\n",
    "    * store (`str`) resulting value from a register into the stack\n",
    "* Function return/end pattern\n",
    "    * load (`ldr`) return value from the stack into the w/x0 register\n",
    "    * destroy stack frame by increasing (`add`) stack pointer\n",
    "    * return (`ret`) to caller"
   ]
  },
  {
   "cell_type": "markdown",
   "id": "6f04e4df-c444-4a06-b64d-63bff0b2e9c6",
   "metadata": {
    "slideshow": {
     "slide_type": "skip"
    },
    "tags": [
     "notes-only"
    ]
   },
   "source": [
    "* Example\n",
    "    ```\n",
    "    0000000000000914 <dog_years>:\n",
    "     914:   d10083ff        sub     sp, sp, #0x20  // Line 3: create stack frame\n",
    "     918:   b9000fe0        str     w0, [sp, #12]  // Line 3: store parameter\n",
    "     91c:   5280fce0        mov     w0, #0x7e7     // Line 4: assign initial value to local variable\n",
    "     920:   b9001be0        str     w0, [sp, #24]  //      V\n",
    "     924:   b9401be1        ldr     w1, [sp, #24]  // Line 5: load first operand \n",
    "     928:   b9400fe0        ldr     w0, [sp, #12]  // Line 5: load second operand\n",
    "     92c:   4b000020        sub     w0, w1, w0     // Line 5: subtract\n",
    "     930:   b9001fe0        str     w0, [sp, #28]  // Line 5: store result in local variable\n",
    "     934:   b9401fe1        ldr     w1, [sp, #28]  // Line 6: load first operand\n",
    "     938:   2a0103e0        mov     w0, w1                 V\n",
    "     93c:   531d7000        lsl     w0, w0, #3     // Line 6: multiply\n",
    "     940:   4b010000        sub     w0, w0, w1     //      V\n",
    "     944:   b9001fe0        str     w0, [sp, #28]  // Line 6: store result in local variable\n",
    "     948:   b9401fe0        ldr     w0, [sp, #28]  // Line 7: prepare return value\n",
    "     94c:   910083ff        add     sp, sp, #0x20  // Line 7: destroy stack frame\n",
    "     950:   d65f03c0        ret                    // Line 7: return to caller\n",
    "    ```"
   ]
  },
  {
   "cell_type": "markdown",
   "id": "5734f7f2-d878-4e8d-af09-1aa6ac103d56",
   "metadata": {
    "slideshow": {
     "slide_type": "skip"
    },
    "tags": []
   },
   "source": [
    "* Q5: _For each line of assembly, indicate which original line of C code the assembly instruction was derived from._"
   ]
  },
  {
   "cell_type": "code",
   "execution_count": 10,
   "id": "b657c909-c355-4616-ae21-1c17bda7a50d",
   "metadata": {
    "tags": [
     "worksheet-code-only"
    ]
   },
   "outputs": [
    {
     "name": "stdout",
     "output_type": "stream",
     "text": [
      "With an interest rate of 10% it will take ~7 years to double your money\n"
     ]
    }
   ],
   "source": [
    "/* 1*/  #include <stdio.h>\n",
    "/* 2*/  int years_to_double(int rate) {\n",
    "/* 3*/      int ruleof72 = 72;\n",
    "/* 4*/      int years = ruleof72 / rate;\n",
    "/* 5*/      return years;\n",
    "/* 6*/  }\n",
    "/* 7*/  int main() {\n",
    "/* 8*/      int r = 10;\n",
    "/* 9*/      int y = years_to_double(r);\n",
    "/*10*/      printf(\"With an interest rate of %d%% it \n",
    "                   will take ~%d years to double your money\\n\", r, y);\n",
    "/*11*/  }"
   ]
  },
  {
   "cell_type": "markdown",
   "id": "e950e2b7-0a57-4045-baca-f4129386d369",
   "metadata": {
    "slideshow": {
     "slide_type": "skip"
    },
    "tags": [
     "notes-only"
    ]
   },
   "source": [
    "```\n",
    "000000000000076c <years_to_double>:\n",
    "    76c:\td10083ff \tsub  sp, sp, #0x20   // 2\n",
    "    770:\tb9000fe0 \tstr  w0, [sp, #12]   // 2\n",
    "    774:\t52800900 \tmov  w0, #0x48       // 3\n",
    "    778:\tb9001be0 \tstr  w0, [sp, #24]   // 3\n",
    "    77c:\tb9401be1 \tldr  w1, [sp, #24]   // 4\n",
    "    780:\tb9400fe0 \tldr  w0, [sp, #12]   // 4\n",
    "    784:\t1ac00c20 \tsdiv w0, w1, w0      // 4\n",
    "    788:\tb9001fe0 \tstr  w0, [sp, #28]   // 4\n",
    "    78c:\tb9401fe0 \tldr  w0, [sp, #28]   // 5\n",
    "    790:\t910083ff \tadd  sp, sp, #0x20   // 5\n",
    "    794:\td65f03c0 \tret                  // 5\n",
    "```"
   ]
  },
  {
   "cell_type": "markdown",
   "id": "5e07b0c9-6144-449b-83c0-d8ea01d06768",
   "metadata": {
    "tags": [
     "worksheet-only"
    ]
   },
   "source": [
    "```\n",
    "000000000000076c <years_to_double>:\n",
    "    76c:\td10083ff \tsub  sp, sp, #0x20\n",
    "    770:\tb9000fe0 \tstr  w0, [sp, #12]\n",
    "    774:\t52800900 \tmov  w0, #0x48\n",
    "    778:\tb9001be0 \tstr  w0, [sp, #24]\n",
    "    77c:\tb9401be1 \tldr  w1, [sp, #24]\n",
    "    780:\tb9400fe0 \tldr  w0, [sp, #12]\n",
    "    784:\t1ac00c20 \tsdiv w0, w1, w0\n",
    "    788:\tb9001fe0 \tstr  w0, [sp, #28]\n",
    "    78c:\tb9401fe0 \tldr  w0, [sp, #28]\n",
    "    790:\t910083ff \tadd  sp, sp, #0x20\n",
    "    794:\td65f03c0 \tret\n",
    "```"
   ]
  },
  {
   "cell_type": "markdown",
   "id": "3996236b-900f-4912-97e3-61c56550ced0",
   "metadata": {
    "slideshow": {
     "slide_type": "skip"
    },
    "tags": [
     "worksheet-only"
    ]
   },
   "source": [
    "<div style=\"page-break-after:always;\"></div>"
   ]
  },
  {
   "cell_type": "markdown",
   "id": "b9352283-676c-437f-bbb5-e4f5cbcc1835",
   "metadata": {
    "slideshow": {
     "slide_type": "slide"
    },
    "tags": []
   },
   "source": [
    "## Extra practice"
   ]
  },
  {
   "cell_type": "markdown",
   "id": "2d715950-951b-43ce-b4ef-a632906415c9",
   "metadata": {},
   "source": [
    "* Q6: _If the processing unit you created in the warm-up is fed the instruction `0b11110` what will the processing unit do?_"
   ]
  },
  {
   "cell_type": "markdown",
   "id": "5c8267db-bb07-4d1c-a541-d3431889e57f",
   "metadata": {
    "slideshow": {
     "slide_type": "skip"
    },
    "tags": [
     "notes-only"
    ]
   },
   "source": [
    "    r1 = ~r1"
   ]
  },
  {
   "cell_type": "markdown",
   "id": "3d844a74-c3b7-4f13-9a26-b854b67bcc95",
   "metadata": {
    "slideshow": {
     "slide_type": "skip"
    },
    "tags": [
     "worksheet-only"
    ]
   },
   "source": [
    "<p style=\"height:3em;\"></p>"
   ]
  },
  {
   "cell_type": "markdown",
   "id": "b3adbf2a-cc95-42fc-93b3-95a3227ada15",
   "metadata": {},
   "source": [
    "* Q7: _If the processing unit you created in the warm-up is fed the instruction `0b11111` what will the processing unit do?_"
   ]
  },
  {
   "cell_type": "markdown",
   "id": "90af86ee-f0c9-4204-bff4-c62996d599b2",
   "metadata": {
    "slideshow": {
     "slide_type": "skip"
    },
    "tags": [
     "notes-only"
    ]
   },
   "source": [
    "    r1 = ~r1"
   ]
  },
  {
   "cell_type": "markdown",
   "id": "4bd4fb79-817e-49ac-93e9-c22f70ece720",
   "metadata": {
    "slideshow": {
     "slide_type": "skip"
    },
    "tags": [
     "worksheet-only"
    ]
   },
   "source": [
    "<p style=\"height:3em;\"></p>"
   ]
  },
  {
   "cell_type": "markdown",
   "id": "f75226b5-f47a-4077-96bd-4405d599ecbe",
   "metadata": {},
   "source": [
    "* Q8: _If the processing unit you created in the warm-up contained 16 registers instead of 2, how many bits would be required for a complete assembly instruction?_"
   ]
  },
  {
   "cell_type": "markdown",
   "id": "dc16435c-13d4-4b98-b944-56b3c2ee1abf",
   "metadata": {
    "slideshow": {
     "slide_type": "skip"
    },
    "tags": [
     "notes-only"
    ]
   },
   "source": [
    "    18 = 2 + 4 + 4 + 4"
   ]
  },
  {
   "cell_type": "markdown",
   "id": "cd70fa23-bb0c-4f14-8200-01b40457f94f",
   "metadata": {
    "slideshow": {
     "slide_type": "skip"
    },
    "tags": [
     "worksheet-only"
    ]
   },
   "source": [
    "<p style=\"height:3em;\"></p>"
   ]
  },
  {
   "cell_type": "markdown",
   "id": "aedc67e3-8fd8-447d-9483-c4e6d1d10faf",
   "metadata": {},
   "source": [
    "* Q9: _Draw the circuitry for a processing unit that has four general purpose registers (r0-r3) and supports four operations:_\n",
    "    * `nop`: no operation; do nothing\n",
    "    * `mov`: copy a value from one register to another\n",
    "    * `movc`: store a constant value into a register, where the constant comes from the last four bits of the instruction\n",
    "    * `add`: add the values in two registers and store the result in a register"
   ]
  },
  {
   "cell_type": "markdown",
   "id": "5450a0be-093f-4e55-99c1-642048db99a3",
   "metadata": {
    "slideshow": {
     "slide_type": "skip"
    },
    "tags": [
     "notes-only"
    ]
   },
   "source": [
    "![](images/circuits/processing_unit_with_special_operators.png)"
   ]
  }
 ],
 "metadata": {
  "kernelspec": {
   "display_name": "C",
   "language": "c",
   "name": "c"
  },
  "language_info": {
   "file_extension": ".c",
   "mimetype": "c",
   "name": "c"
  }
 },
 "nbformat": 4,
 "nbformat_minor": 5
}
