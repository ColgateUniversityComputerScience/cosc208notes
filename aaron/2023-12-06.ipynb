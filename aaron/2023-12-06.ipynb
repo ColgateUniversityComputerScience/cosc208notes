{
 "cells": [
  {
   "cell_type": "markdown",
   "id": "cb5c0089-8cef-4cc9-af1d-c6477c77bee8",
   "metadata": {
    "slideshow": {
     "slide_type": "skip"
    },
    "tags": []
   },
   "source": [
    "# Virtualization: cloud computing\n",
    "_COSC 208, Introduction to Computer Systems, 2023-12-06_"
   ]
  },
  {
   "cell_type": "markdown",
   "id": "46336b92-6736-4d0b-a37d-edeb69d984c0",
   "metadata": {
    "slideshow": {
     "slide_type": "skip"
    },
    "tags": []
   },
   "source": [
    "## Announcements\n",
    "* Project 4 due tomorrow at 11pm\n",
    "* Specify when you will take the final exam: https://forms.gle/SV4aG6C5G3g8Cjba8"
   ]
  },
  {
   "cell_type": "markdown",
   "id": "c264cb6a-f1f1-4e50-b6dd-c75b59464346",
   "metadata": {
    "slideshow": {
     "slide_type": "skip"
    },
    "tags": []
   },
   "source": [
    "## Outline\n",
    "* Warm-up\n",
    "* Data centers\n",
    "* Cloud computing"
   ]
  },
  {
   "cell_type": "markdown",
   "id": "b9c7dee9-04fd-45c3-bb9b-4b73451f9ef2",
   "metadata": {},
   "source": [
    "## Warm-up"
   ]
  },
  {
   "cell_type": "markdown",
   "id": "f53442a6-7783-4dd6-aede-ebff82a3be0f",
   "metadata": {},
   "source": [
    "* Q1: _Draw a diagram of a system that uses a **container**._"
   ]
  },
  {
   "cell_type": "markdown",
   "id": "592c90cb-57fe-4002-844a-fa3590d3ef2c",
   "metadata": {
    "slideshow": {
     "slide_type": "skip"
    },
    "tags": [
     "worksheet-only"
    ]
   },
   "source": [
    "<p style=\"height:10em;\"></p>"
   ]
  },
  {
   "cell_type": "markdown",
   "id": "552aa8f2-c634-445b-960d-717fdfa4c05e",
   "metadata": {},
   "source": [
    "* Q2: _What is an advantage of using **containers** instead of **virtual machines with a type 1 hypervisor**?_"
   ]
  },
  {
   "cell_type": "markdown",
   "id": "c5eb4ff9-7ba5-4546-a107-6b7e6cdc717b",
   "metadata": {
    "slideshow": {
     "slide_type": "skip"
    },
    "tags": [
     "notes-only"
    ]
   },
   "source": [
    "    With containers, all processes run atop a single operating system instances, whereas with a type 1 hypervisor, each group of processes requires a separate operating system. Thus, containers avoid the need to maintain multiple copies of the same operating system.\n",
    "\n",
    "    With containers, systems calls issued by processes only need to be handled by the operating system, just like a system without containers or virtual machines, whereas with a type 1 hypervisor, system calls issued by processes need to be handled by the hypervisor and the operating system running inside the virtual machine. Thus, containers add less overhead and result in better performance."
   ]
  },
  {
   "cell_type": "markdown",
   "id": "3bcee499-a963-4098-91b5-eab439ffb06c",
   "metadata": {
    "slideshow": {
     "slide_type": "skip"
    },
    "tags": [
     "worksheet-only"
    ]
   },
   "source": [
    "<p style=\"height:8em;\"></p>"
   ]
  },
  {
   "cell_type": "markdown",
   "id": "5d6d94b2-6ec0-41e1-b920-8b5e62d70f9c",
   "metadata": {},
   "source": [
    "* Q3: _What is an advantage of using **virtual machines with a type 1 hypervisor** instead of **containers**?_"
   ]
  },
  {
   "cell_type": "markdown",
   "id": "59ed1f36-4a5d-4803-8764-2c7d276f6841",
   "metadata": {
    "slideshow": {
     "slide_type": "skip"
    },
    "tags": [
     "notes-only"
    ]
   },
   "source": [
    "    With a type 1 hypervisor, multiple flavors (e.g., Windows, Linux, Mac OS) and/or versions (e.g., Windows 8, Windows 10) of operating systems can run atop the same physical hardware, whereas with containers only a single operating system can run atop the hardware. Thus, type 1 hypervisors allow multiple OSes to be run on the same computer system."
   ]
  },
  {
   "cell_type": "markdown",
   "id": "fffb05d1-65e3-4b89-a29c-2701c9c46963",
   "metadata": {
    "slideshow": {
     "slide_type": "skip"
    },
    "tags": [
     "worksheet-only"
    ]
   },
   "source": [
    "<p style=\"height:8em;\"></p>\n",
    "\n",
    "🛑 **STOP here** after completing the above questions; if you have extra time please **skip ahead** to the extra practice.\n",
    "\n",
    "<div style=\"page-break-after:always;\"></div>"
   ]
  },
  {
   "cell_type": "markdown",
   "id": "077c4132-504f-426e-95a3-157fecb06509",
   "metadata": {
    "slideshow": {
     "slide_type": "skip"
    },
    "tags": [
     "notes-only"
    ]
   },
   "source": [
    "## Data centers"
   ]
  },
  {
   "cell_type": "markdown",
   "id": "11ad9547-b5a6-44c3-be44-223ba0734de3",
   "metadata": {
    "slideshow": {
     "slide_type": "skip"
    },
    "tags": [
     "notes-only"
    ]
   },
   "source": [
    "* _What is a data center?_ — a large collection of computer systems housed in a single physical location\n",
    "* Primary components\n",
    "    * Servers — with multi-core CPU, main memory, secondary storage, and network interface card (NIC)\n",
    "    * Racks — cabinet containing tens of servers\n",
    "    * Rows — line of racks\n",
    "    * Network — routers, switches, and fiber optic cables connecting servers/racks together to allow them to exchange data\n",
    "        * Includes connectivity to other data centers and the Internet\n",
    "    * Power system — electrical wires, distribution units, generators, connections to the power grid\n",
    "    * Cooling system — fans, cooling units (mechanical, evaporative, outdoor air, etc.)\n",
    "* Resources can be pooled together to provide more computing and storage than a single server\n",
    "    * Application can be replicated on many servers (running many processes) to handle a large volume of data/users and provide fault-tolerance\n",
    "    * Main memory on many servers can be pooled together to provide the abstraction of large, low-latency storage\n",
    "    * Files can be distributed/replicated across secondary storage on many servers to handle a large volume of data and provide fault-tolerance"
   ]
  },
  {
   "cell_type": "markdown",
   "id": "9a9453d7-4fe5-4fa8-a586-e2f2497802db",
   "metadata": {
    "slideshow": {
     "slide_type": "slide"
    },
    "tags": []
   },
   "source": [
    "## Cloud computing"
   ]
  },
  {
   "cell_type": "markdown",
   "id": "1fb2bbd1-c683-454f-89d7-521af26c940a",
   "metadata": {
    "slideshow": {
     "slide_type": "skip"
    },
    "tags": [
     "notes-only"
    ]
   },
   "source": [
    "* Characteristics\n",
    "    * Resources available on-demand — tenants reserve resources only when they need them\n",
    "        * E.g., a company uses more virtual machines during the day when employees are using applications\n",
    "        * E.g., a website has more visitors during a sale or popular event\n",
    "    * Pay-per-use — only pay for the resources you use\n",
    "        * E.g., pay for a virtual machine per hour of use\n",
    "        * E.g., pay for storage per GB per month\n",
    "    * Shared & virtualized — physical servers and storage devices resources are used by multiple tenants\n",
    "        * E.g., multiple virtual machines run on the same machine\n",
    "        * Physical servers and storage are usually more isolated than network switches and links\n",
    "* Service models\n",
    "    * Infrastructure-as-a-Service (IaaS)\n",
    "        * Tenants lease virtual machines, virtual storage, and virtual networks\n",
    "        * Tenants must manage the operating system, file system, etc.\n",
    "        * E.g., Amazon EC2, Microsoft Azure, Rackspace, Google Compute Engine\n",
    "    * Platform-as-a-Service (PaaS)\n",
    "        * Tenants lease resources to run applications written in a specific language — Python, Java, Hadoop/MapReduce\n",
    "        * Cloud provider manages the operating system, file system, and network\n",
    "        * E.g., Google App Engine, Cloud Foundry, IBM Cloud\n",
    "    * Function-as-a-Service (FaaS) or serverless\n",
    "        * Tenants run independent snippets of code\n",
    "        * E.g., Amazon Lambda\n",
    "    * Software-as-a-Service (SaaS)\n",
    "        * Tenants lease access to specific software\n",
    "        * E.g., Salesforce, Concur, Constant Contact, Google Drive, Office 365\n",
    "    * Storage-as-a-Service (STaaS)\n",
    "        * E.g., Dropbox, Google Drive, iCloud\n",
    "* Ownership\n",
    "    * Public - anyone can request and use resources\n",
    "    * Private - resources are only available to tenants (e.g., departments) within a company or organization\n",
    "    * Hybrid - tenants use a combination of public and private cloud resources"
   ]
  },
  {
   "cell_type": "markdown",
   "id": "746ee9b3-5e52-4ee7-a5b8-7f1daf3b6386",
   "metadata": {},
   "source": [
    "_For each of the following service providers, indicate what type of service they offer._"
   ]
  },
  {
   "cell_type": "markdown",
   "id": "4dd238bd-19d4-42e3-89e1-687e4e473046",
   "metadata": {},
   "source": [
    "* Q4: _Box provides secure file sharing and storage_"
   ]
  },
  {
   "cell_type": "markdown",
   "id": "70ccfb9c-a51a-46bf-ad60-96882a2c961b",
   "metadata": {
    "slideshow": {
     "slide_type": "skip"
    },
    "tags": [
     "notes-only"
    ]
   },
   "source": [
    "    Storage-as-a-Service (STaaS)"
   ]
  },
  {
   "cell_type": "markdown",
   "id": "6975ab30-38a5-42d8-bdb8-1dd8cc5b06a5",
   "metadata": {
    "slideshow": {
     "slide_type": "skip"
    },
    "tags": [
     "worksheet-only"
    ]
   },
   "source": [
    "<p style=\"height:2em;\"></p>"
   ]
  },
  {
   "cell_type": "markdown",
   "id": "f0e56db5-1c8d-4857-a834-387ce9cee11a",
   "metadata": {},
   "source": [
    "* Q5: _Microsoft Azure provides virtual machines running Windows or Linux_"
   ]
  },
  {
   "cell_type": "markdown",
   "id": "0915d99e-8d8d-405f-aa38-6501fa189740",
   "metadata": {
    "slideshow": {
     "slide_type": "skip"
    },
    "tags": [
     "notes-only"
    ]
   },
   "source": [
    "    Infrastructure-as-a-Service (IaaS)"
   ]
  },
  {
   "cell_type": "markdown",
   "id": "a4060daa-5c0e-45fd-9097-52aa55a73bc8",
   "metadata": {
    "slideshow": {
     "slide_type": "skip"
    },
    "tags": [
     "worksheet-only"
    ]
   },
   "source": [
    "<p style=\"height:2em;\"></p>"
   ]
  },
  {
   "cell_type": "markdown",
   "id": "5afab19e-a199-4136-886c-27a3aa71ba9f",
   "metadata": {},
   "source": [
    "* Q6: _Heroku allows tenants to deploy code written in Ruby, Java, PHP, Python, Go, Scala, or Clojure_"
   ]
  },
  {
   "cell_type": "markdown",
   "id": "a51e52bc-da96-46c2-84f4-32b9cbfb5057",
   "metadata": {
    "slideshow": {
     "slide_type": "skip"
    },
    "tags": [
     "notes-only"
    ]
   },
   "source": [
    "    Platform-as-a-Service (PaaS)"
   ]
  },
  {
   "cell_type": "markdown",
   "id": "28cfc68f-4b58-4e35-bf9f-610c4f19772a",
   "metadata": {
    "slideshow": {
     "slide_type": "skip"
    },
    "tags": [
     "worksheet-only"
    ]
   },
   "source": [
    "<p style=\"height:2em;\"></p>"
   ]
  },
  {
   "cell_type": "markdown",
   "id": "de72b38d-c92d-4009-90f2-7b546f5f5462",
   "metadata": {},
   "source": [
    "* Q7: _Oracle Supply Chain Management (SCM) is software that allows businesses to manage their supply chain_"
   ]
  },
  {
   "cell_type": "markdown",
   "id": "5b8d0772-3f1e-4df7-92b8-e6ee2a9b47e6",
   "metadata": {
    "slideshow": {
     "slide_type": "skip"
    },
    "tags": [
     "notes-only"
    ]
   },
   "source": [
    "    Software-as-a-Service (SaaS)"
   ]
  },
  {
   "cell_type": "markdown",
   "id": "19cf5c4e-891b-4801-bcb1-dc4a6ab5ccc9",
   "metadata": {
    "slideshow": {
     "slide_type": "skip"
    },
    "tags": [
     "worksheet-only"
    ]
   },
   "source": [
    "<p style=\"height:2em;\"></p>"
   ]
  },
  {
   "cell_type": "markdown",
   "id": "bb0f45ba-7b94-4b2b-ae68-5a498d85897a",
   "metadata": {},
   "source": [
    "## Extra practice"
   ]
  },
  {
   "cell_type": "markdown",
   "id": "cac9c9b6-9588-4273-8b36-17be976cce22",
   "metadata": {},
   "source": [
    "* Q8: _Write a program that creates two new processes. The first process should run the executable `/usr/bin/whoami`. The second process should print `I have a sibling` after the first process has finished._"
   ]
  },
  {
   "cell_type": "code",
   "execution_count": 6,
   "id": "c214c5b0-31d9-479f-beaf-5127cac8afb8",
   "metadata": {
    "slideshow": {
     "slide_type": "skip"
    },
    "tags": [
     "notes-only"
    ]
   },
   "outputs": [
    {
     "name": "stdout",
     "output_type": "stream",
     "text": [
      "aaron\n",
      "I have a sibling\n"
     ]
    }
   ],
   "source": [
    "#include <stdio.h>\n",
    "#include <unistd.h>\n",
    "#include <sys/wait.h>\n",
    "int main() {\n",
    "    int retval = fork();\n",
    "    if (retval == 0) {\n",
    "        char *cmd[] = { \"/usr/bin/whoami\", NULL };\n",
    "        execv(cmd[0], cmd);\n",
    "    } else {\n",
    "        wait(NULL); \n",
    "    }\n",
    "\n",
    "    retval = fork();\n",
    "    if (retval == 0) {\n",
    "        printf(\"I have a sibling\\n\");\n",
    "        return 0;\n",
    "    } else {\n",
    "        return 0;\n",
    "    }\n",
    "}"
   ]
  }
 ],
 "metadata": {
  "kernelspec": {
   "display_name": "C",
   "language": "c",
   "name": "c"
  },
  "language_info": {
   "file_extension": ".c",
   "mimetype": "c",
   "name": "c"
  }
 },
 "nbformat": 4,
 "nbformat_minor": 5
}
