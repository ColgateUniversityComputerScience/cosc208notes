{
 "cells": [
  {
   "cell_type": "markdown",
   "id": "39d76db8-edb9-47d5-bec8-7998805660b3",
   "metadata": {
    "slideshow": {
     "slide_type": "skip"
    },
    "tags": []
   },
   "source": [
    "# Assembly: tracing assembly code (continued)\n",
    "_COSC 208, Introduction to Computer Systems, 2024-03-27_"
   ]
  },
  {
   "cell_type": "markdown",
   "id": "864054ce-13e3-471e-b700-6475cd9e8af8",
   "metadata": {
    "slideshow": {
     "slide_type": "skip"
    },
    "tags": []
   },
   "source": [
    "## Announcements\n",
    "* Project 2 due today @ 11pm"
   ]
  },
  {
   "cell_type": "markdown",
   "id": "f17866fc-fc93-480c-a9a5-d903a0657063",
   "metadata": {
    "slideshow": {
     "slide_type": "skip"
    },
    "tags": []
   },
   "source": [
    "## Outline\n",
    "* Tracing assembly code"
   ]
  },
  {
   "cell_type": "markdown",
   "id": "e663073f-3384-4891-978a-b8c31d0a6263",
   "metadata": {
    "slideshow": {
     "slide_type": "slide"
    },
    "tags": []
   },
   "source": [
    "## No warm-up – Happy Wednesday!"
   ]
  },
  {
   "cell_type": "markdown",
   "id": "3699c0b1-2cf9-45a8-983e-6e7024c192d2",
   "metadata": {
    "slideshow": {
     "slide_type": "slide"
    },
    "tags": []
   },
   "source": [
    "## Tracing assembly code"
   ]
  },
  {
   "cell_type": "markdown",
   "id": "922b370d-e65b-4b8f-8539-c4d4551c6c0a",
   "metadata": {
    "slideshow": {
     "slide_type": "skip"
    },
    "tags": []
   },
   "source": [
    "* Example assembly code"
   ]
  },
  {
   "cell_type": "markdown",
   "id": "92b0653b-5eab-4400-a180-c5452d667db3",
   "metadata": {
    "tags": []
   },
   "source": [
    "```\n",
    "0000000000000854 <deref>:\n",
    " 854:   d10083ff    sub sp, sp, #0x20\n",
    " 858:   f90007e0    str x0, [sp, #8]\n",
    " 85c:   f94007e0    ldr x0, [sp, #8]\n",
    " 860:   f9400000    ldr x0, [x0]\n",
    " 864:   f9000fe0    str x0, [sp, #24]\n",
    " 868:   f9400fe0    ldr x0, [sp, #24]\n",
    " 86c:   910083ff    add sp, sp, #0x20\n",
    " 870:   d65f03c0    ret\n",
    "```"
   ]
  },
  {
   "cell_type": "markdown",
   "id": "a8b788f7-d868-4a68-b2f1-7ca8f4b30e4a",
   "metadata": {
    "slideshow": {
     "slide_type": "skip"
    },
    "tags": []
   },
   "source": [
    "* Contents of the stack and registers after executing the first assembly instruction\n",
    "    ```\n",
    "    pc = 0x858\n",
    "    sp = 0xF90\n",
    "    w/x0 = 0xFB8\n",
    "    ```\n",
    "    ```\n",
    "           0  1  2  3  4  5  6  7  8\n",
    "     sp -> +--+--+--+--+--+--+--+--+\n",
    "     0xF90 |                       |\n",
    "           +--+--+--+--+--+--+--+--+\n",
    "     0xF98 |                       |\n",
    "           +--+--+--+--+--+--+--+--+\n",
    "     0xFA0 |                       |\n",
    "           +--+--+--+--+--+--+--+--+\n",
    "     0xFA8 |                       |\n",
    "           +--+--+--+--+--+--+--+--+\n",
    "     0xFB0 |                       |\n",
    "           +--+--+--+--+--+--+--+--+\n",
    "     0xFB8 |           2           |\n",
    "           +--+--+--+--+--+--+--+--+\n",
    "     0xFC0 |         0x770         |\n",
    "           +--+--+--+--+--+--+--+--+\n",
    "     0xFC8 |                       |\n",
    "           +--+--+--+--+--+--+--+--+\n",
    "    ```"
   ]
  },
  {
   "cell_type": "markdown",
   "id": "ec0ffee3-b4d9-41a7-9f8c-f7c2d5aea94e",
   "metadata": {
    "slideshow": {
     "slide_type": "skip"
    },
    "tags": [
     "notes-only"
    ]
   },
   "source": [
    "* Contents of the stack and registers *before* executing the second-to-last assembly instruction (`add sp, sp, #0x20`)\n",
    "    ```\n",
    "    pc = 0x86c\n",
    "    sp = 0xF90\n",
    "    w/x0 = 2\n",
    "    ```\n",
    "    ```\n",
    "           0  1  2  3  4  5  6  7  8\n",
    "     sp -> +--+--+--+--+--+--+--+--+\n",
    "     0xF90 |                       |\n",
    "           +--+--+--+--+--+--+--+--+\n",
    "     0xF98 |         0xFB8         |\n",
    "           +--+--+--+--+--+--+--+--+\n",
    "     0xFA0 |           2           |\n",
    "           +--+--+--+--+--+--+--+--+\n",
    "     0xFA8 |                       |\n",
    "           +--+--+--+--+--+--+--+--+\n",
    "     0xFB0 |                       |\n",
    "           +--+--+--+--+--+--+--+--+\n",
    "     0xFB8 |           2           |\n",
    "           +--+--+--+--+--+--+--+--+\n",
    "     0xFC0 |         0x770         |\n",
    "           +--+--+--+--+--+--+--+--+\n",
    "     0xFC8 |                       |\n",
    "           +--+--+--+--+--+--+--+--+\n",
    "    ```"
   ]
  },
  {
   "cell_type": "markdown",
   "id": "e7b1768d-3b8e-4032-b346-b69d09757870",
   "metadata": {
    "slideshow": {
     "slide_type": "skip"
    },
    "tags": [
     "worksheet-only"
    ]
   },
   "source": [
    "<div style=\"page-break-after:always;\"></div>"
   ]
  },
  {
   "cell_type": "markdown",
   "id": "cb5a5104-ea18-4715-bc73-4b050eaf5072",
   "metadata": {
    "slideshow": {
     "slide_type": "skip"
    },
    "tags": []
   },
   "source": [
    "_The following C code was compiled into assembly (using `gcc`)._"
   ]
  },
  {
   "cell_type": "code",
   "execution_count": null,
   "id": "897583ab-2be7-4e6f-a091-1294e55b439a",
   "metadata": {
    "slideshow": {
     "slide_type": "slide"
    },
    "tags": []
   },
   "outputs": [],
   "source": [
    "/*1*/  int divide(unsigned int numerator, unsigned int denominator) {\n",
    "/*2*/      int result = -1;\n",
    "/*3*/      result = numerator / denominator;\n",
    "/*4*/      return result;\n",
    "/*5*/  }"
   ]
  },
  {
   "cell_type": "markdown",
   "id": "bd3f51f0-54c0-4e36-9987-0ceee9b8c445",
   "metadata": {
    "tags": []
   },
   "source": [
    "Q1: _For each line of assembly, indicate which original line of C code the assembly instruction was derived from._"
   ]
  },
  {
   "cell_type": "markdown",
   "id": "dba391ce-853c-43a6-b3c9-4bbf4e14b630",
   "metadata": {
    "slideshow": {
     "slide_type": "skip"
    },
    "tags": [
     "notes-only"
    ]
   },
   "source": [
    "```\n",
    "000000000000076c <divide>:                      // Line\n",
    "    76c:    d10083ff     sub    sp, sp, #0x20   // 1\n",
    "    770:    b9000fe0     str    w0, [sp, #12]   // 1\n",
    "    774:    b9000be1     str    w1, [sp, #8]    // 1\n",
    "    778:    12800000     mov    w0, #0xffffffff // 2\n",
    "    77c:    b9001fe0     str    w0, [sp, #28]   // 2\n",
    "    780:    b9400fe1     ldr    w1, [sp, #12]   // 3\n",
    "    784:    b9400be0     ldr    w0, [sp, #8]    // 3\n",
    "    788:    1ac00820     udiv   w0, w1, w0      // 3\n",
    "    78c:    b9001fe0     str    w0, [sp, #28]   // 3\n",
    "    790:    b9401fe0     ldr    w0, [sp, #28]   // 4\n",
    "    794:    910083ff     add    sp, sp, #0x20   // 4\n",
    "    798:    d65f03c0     ret                    // 4\n",
    "```"
   ]
  },
  {
   "cell_type": "markdown",
   "id": "e52baf6e-b98a-4d98-a8d4-eb08a6979e2c",
   "metadata": {
    "tags": [
     "worksheet-only"
    ]
   },
   "source": [
    "```\n",
    "000000000000076c <divide>:\n",
    "    76c:    d10083ff     sub    sp, sp, #0x20\n",
    "    770:    b9000fe0     str    w0, [sp, #12]\n",
    "    774:    b9000be1     str    w1, [sp, #8]\n",
    "    778:    12800000     mov    w0, #0xffffffff\n",
    "    77c:    b9001fe0     str    w0, [sp, #28]\n",
    "    780:    b9400fe1     ldr    w1, [sp, #12]\n",
    "    784:    b9400be0     ldr    w0, [sp, #8]\n",
    "    788:    1ac00820     udiv   w0, w1, w0\n",
    "    78c:    b9001fe0     str    w0, [sp, #28]\n",
    "    790:    b9401fe0     ldr    w0, [sp, #28]\n",
    "    794:    910083ff     add    sp, sp, #0x20\n",
    "    798:    d65f03c0     ret\n",
    "```"
   ]
  },
  {
   "cell_type": "markdown",
   "id": "74afdce8-a887-45c9-96f5-a2405c243cf7",
   "metadata": {
    "tags": []
   },
   "source": [
    "Q2: _Assume the registers initially hold the following values:_\n",
    "```\n",
    "pc = 0x76C\n",
    "sp = 0xFE0\n",
    "w/x0 = 100\n",
    "w/x1 = 5\n",
    "```\n",
    "_Draw the contents of the stack and registers after executing the assembly instruction at 0x790._"
   ]
  },
  {
   "cell_type": "markdown",
   "id": "108c5ecc-4b86-4333-a74b-3684e2b2f2b0",
   "metadata": {
    "slideshow": {
     "slide_type": "skip"
    },
    "tags": [
     "notes-only"
    ]
   },
   "source": [
    "```\n",
    "        0  1  2  3  4  5  6  7  8          \n",
    " sp ->  +--+--+--+--+--+--+--+--+\n",
    " 0xFC0  |                       |\n",
    "        +--+--+--+--+--+--+--+--+\n",
    " 0xFC8  |     5     |    100    |\n",
    "        +--+--+--+--+--+--+--+--+\n",
    " 0xFD0  |                       |\n",
    "        +--+--+--+--+--+--+--+--+\n",
    " 0xFD8  |           |     20    |\n",
    "        +--+--+--+--+--+--+--+--+\n",
    "pc = 0x794\n",
    "sp = 0xFC0\n",
    "w/x0 = 20\n",
    "w/x1 = 100\n",
    "```"
   ]
  },
  {
   "cell_type": "markdown",
   "id": "8713f8ba-2931-48a6-aa9b-9f15f9013fd0",
   "metadata": {
    "slideshow": {
     "slide_type": "skip"
    },
    "tags": [
     "notes-only"
    ]
   },
   "source": [
    "* _Why is `#0xffffffff` being stored in `w0`?_ — this is the two's complement representation of -1\n",
    "* _When might this function cause an error?_ — when denominator is 0\n",
    "* _How would you modify the C code to avoid an error?_ – add an if statement to verify that `denominator != 0`"
   ]
  },
  {
   "cell_type": "markdown",
   "id": "849c35d4-eff4-49a1-81f8-027d9089c2a0",
   "metadata": {
    "slideshow": {
     "slide_type": "skip"
    },
    "tags": [
     "worksheet-only"
    ]
   },
   "source": [
    "<div style=\"page-break-after:always;\"></div>"
   ]
  },
  {
   "cell_type": "markdown",
   "id": "e4306511-b91b-4425-ad51-cc59775830aa",
   "metadata": {
    "slideshow": {
     "slide_type": "slide"
    },
    "tags": []
   },
   "source": [
    "## Mapping C conditionals to assembly"
   ]
  },
  {
   "cell_type": "code",
   "execution_count": null,
   "id": "07c57368-0a2f-4f2d-bef3-b2eed13d432b",
   "metadata": {},
   "outputs": [],
   "source": [
    "/*1*/  int divide_safe(unsigned int numerator, unsigned int denominator) {\n",
    "/*2*/      int result = -1;\n",
    "/*3*/      if (denominator != 0) {\n",
    "/*4*/          result = numerator / denominator;\n",
    "/*5*/      }\n",
    "/*6*/      return result;\n",
    "/*7*/  }"
   ]
  },
  {
   "cell_type": "markdown",
   "id": "b01bc8c7-37a0-48d2-92c1-9933b9e561a7",
   "metadata": {
    "slideshow": {
     "slide_type": "skip"
    },
    "tags": [
     "notes-only"
    ]
   },
   "source": [
    "_Postponed to next class_"
   ]
  },
  {
   "cell_type": "markdown",
   "id": "27c32146-b1b1-4b00-904d-e2b692deeb69",
   "metadata": {
    "tags": [
     "worksheet-only"
    ]
   },
   "source": [
    "```\n",
    "000000000000076c <divide_safe>:\n",
    "    76c:    d10083ff     sub    sp, sp, #0x20\n",
    "    770:    b9000fe0     str    w0, [sp, #12]\n",
    "    774:    b9000be1     str    w1, [sp, #8]\n",
    "    778:    12800000     mov    w0, #0xffffffff\n",
    "    77c:    b9001fe0     str    w0, [sp, #28]\n",
    "    780:    b9400be0     ldr    w0, [sp, #8]\n",
    "    784:    7100001f     cmp    w0, #0x0\n",
    "    788:    540000a0     b.eq   79c <divide_safe+0x30>\n",
    "    78c:    b9400fe1     ldr    w1, [sp, #12]\n",
    "    790:    b9400be0     ldr    w0, [sp, #8]\n",
    "    794:    1ac00c20     udiv   w0, w1, w0\n",
    "    798:    b9001fe0     str    w0, [sp, #28]\n",
    "    79c:    b9401fe0     ldr    w0, [sp, #28]\n",
    "    7a0:    910083ff     add    sp, sp, #0x20\n",
    "    7a4:    d65f03c0     ret\n",
    "```"
   ]
  },
  {
   "cell_type": "markdown",
   "id": "77002541-d1bf-43cc-a509-528242c8cccd",
   "metadata": {
    "slideshow": {
     "slide_type": "skip"
    },
    "tags": [
     "worksheet-only"
    ]
   },
   "source": [
    "<div style=\"page-break-after:always;\"></div>"
   ]
  },
  {
   "cell_type": "markdown",
   "id": "b28a30ad-f765-4635-8e5a-2ef7f0e875a4",
   "metadata": {
    "slideshow": {
     "slide_type": "slide"
    },
    "tags": []
   },
   "source": [
    "## Extra practice"
   ]
  },
  {
   "cell_type": "markdown",
   "id": "a4e75ebc-a157-480f-93ac-5bd8cba3ce9b",
   "metadata": {
    "tags": []
   },
   "source": [
    "Q3: _The following assembly code was generated (using `gcc`) for a C function with the prototype `int years_to_double(int rate)`:_"
   ]
  },
  {
   "cell_type": "markdown",
   "id": "857782a7-645f-418d-93c2-34d8cda2041a",
   "metadata": {
    "tags": []
   },
   "source": [
    "```\n",
    "000000000000076c <years_to_double>:\n",
    "    76c:    d10083ff    sub  sp, sp, #0x20\n",
    "    770:    b9000fe0    str  w0, [sp, #12]\n",
    "    774:    52800900    mov  w0, #0x48\n",
    "    778:    b9001be0    str  w0, [sp, #24]\n",
    "    77c:    b9401be1    ldr  w1, [sp, #24]\n",
    "    780:    b9400fe0    ldr  w0, [sp, #12]\n",
    "    784:    1ac00c20    sdiv w0, w1, w0\n",
    "    788:    b9001fe0    str  w0, [sp, #28]\n",
    "    78c:    b9401fe0    ldr  w0, [sp, #28]\n",
    "    790:    910083ff    add  sp, sp, #0x20 \n",
    "    794:    d65f03c0    ret\n",
    "```"
   ]
  },
  {
   "cell_type": "markdown",
   "id": "dd43c63e-128f-4a19-b83b-96b6ba284bd6",
   "metadata": {
    "tags": []
   },
   "source": [
    "_Assume the registers initially hold the following values:_\n",
    "```\n",
    "pc = 0x76C\n",
    "sp = 0x780\n",
    "w/x0 = 9\n",
    "```\n",
    "_Draw the contents of the stack and registers after executing the assembly instruction at 0x78C._"
   ]
  },
  {
   "cell_type": "markdown",
   "id": "2e45ee49-7da6-47d4-a04c-3b4fd87c9ea8",
   "metadata": {
    "slideshow": {
     "slide_type": "skip"
    },
    "tags": [
     "notes-only"
    ]
   },
   "source": [
    "```\n",
    "        0  1  2  3  4  5  6  7  8          \n",
    " sp ->  +--+--+--+--+--+--+--+--+\n",
    " 0x760  |                       |\n",
    "        +--+--+--+--+--+--+--+--+\n",
    " 0x768  |           |     9     |\n",
    "        +--+--+--+--+--+--+--+--+\n",
    " 0x770  |                       |\n",
    "        +--+--+--+--+--+--+--+--+\n",
    " 0x778  |    72     |     8     |\n",
    "        +--+--+--+--+--+--+--+--+\n",
    "pc = 0x790\n",
    "sp = 0x760\n",
    "w/x0 = 8\n",
    "w/x1 = 72\n",
    "```"
   ]
  },
  {
   "cell_type": "markdown",
   "id": "36c6bd15-fe7d-4003-8cf2-f2a41e4213a0",
   "metadata": {
    "slideshow": {
     "slide_type": "skip"
    },
    "tags": [
     "worksheet-only"
    ]
   },
   "source": [
    "<div style=\"page-break-after:always;\"></div>"
   ]
  },
  {
   "cell_type": "markdown",
   "id": "434b3dac-83c3-4ded-9899-78b0223875e5",
   "metadata": {
    "slideshow": {
     "slide_type": "slide"
    },
    "tags": []
   },
   "source": [
    "Q4: _The following assembly code was generated (using `gcc`) for a C function with the prototype `int sum(int a, int *b)`:_"
   ]
  },
  {
   "cell_type": "markdown",
   "id": "958a934d-e124-4a2f-b658-75104e616390",
   "metadata": {
    "tags": [
     "worksheet-only"
    ]
   },
   "source": [
    "```\n",
    "0000000000000584 <sum>:\n",
    "  584:    d10083ff     sub sp, sp, #0x20\n",
    "  588:    b9001fe0     str w0, [sp, #28]\n",
    "  58c:    f9000be1     str x1, [sp, #16]\n",
    "  590:    f9400be8     ldr x8, [sp, #16]\n",
    "  594:    b9400109     ldr w9, [x8]\n",
    "  598:    b9000fe9     str w9, [sp, #12]\n",
    "  59c:    b9401fe9     ldr w9, [sp, #28]\n",
    "  5a0:    b9400fea     ldr w10, [sp, #12]\n",
    "  5a4:    0b0a0129     add w9, w9, w10\n",
    "  5a8:    b9000be9     str w9, [sp, #8]\n",
    "  5ac:    b9400be0     ldr w0, [sp, #8]\n",
    "  5b0:    910083ff     add sp, sp, #0x20\n",
    "  5b4:    d65f03c0     ret\n",
    "```"
   ]
  },
  {
   "cell_type": "markdown",
   "id": "c3d4cb7f-2864-4c0b-97a4-e7ad82810a86",
   "metadata": {
    "slideshow": {
     "slide_type": "subslide"
    },
    "tags": []
   },
   "source": [
    "_Assume the registers and stack initially hold the following values:_\n",
    "\n",
    "```\n",
    "pc = 0x584\n",
    "sp = 0xFB0\n",
    "w/x0 = 2\n",
    "w/x1 = 0xFC8 \n",
    "```\n",
    "```\n",
    "\n",
    "\n",
    "\n",
    "\n",
    "\n",
    "\n",
    "\n",
    "\n",
    "\n",
    "\n",
    "\n",
    "\n",
    "\n",
    "\n",
    "\n",
    "\n",
    "\n",
    " sp -> +--+--+--+--+--+--+--+--+\n",
    " 0xFB0 |                       |\n",
    "       +--+--+--+--+--+--+--+--+\n",
    " 0xFB8 |                       |\n",
    "       +--+--+--+--+--+--+--+--+\n",
    " 0xFC0 |         0xFC8         |\n",
    "       +--+--+--+--+--+--+--+--+\n",
    " 0xFC8 |     3     |     2     |\n",
    "       +--+--+--+--+--+--+--+--+\n",
    " 0xFD0 |         0x618         |\n",
    "       +--+--+--+--+--+--+--+--+\n",
    " 0xFD8 |                       |\n",
    "       +--+--+--+--+--+--+--+--+\n",
    "```\n",
    "    \n",
    "_Trace through the assembly code and update the contents of the stack and registers until the pc = 0x5B0._"
   ]
  },
  {
   "cell_type": "markdown",
   "id": "2859cb45-8dd9-47c7-9e13-989cbc716fee",
   "metadata": {
    "slideshow": {
     "slide_type": "skip"
    },
    "tags": [
     "notes-only"
    ]
   },
   "source": [
    "```\n",
    "pc = 0x5B0\n",
    "sp = 0xF90\n",
    "w/x0 = 5\n",
    "w/x1 = 0xFC8\n",
    "w/x8 = 0xFC8\n",
    "w/x9 = 5\n",
    "w/x10 = 3\n",
    "```\n",
    "```\n",
    "       0  1  2  3  4  5  6  7  8\n",
    " sp -> +--+--+--+--+--+--+--+--+\n",
    " 0xF90 |                       |\n",
    "       +--+--+--+--+--+--+--+--+\n",
    " 0xF98 |     5     |     3     |\n",
    "       +--+--+--+--+--+--+--+--+\n",
    " 0xFA0 |         0xFC8         |\n",
    "       +--+--+--+--+--+--+--+--+\n",
    " 0xFA8 |           |     2     |\n",
    "       +--+--+--+--+--+--+--+--+\n",
    " 0xFB0 |                       |\n",
    "       +--+--+--+--+--+--+--+--+\n",
    " 0xFB8 |                       |\n",
    "       +--+--+--+--+--+--+--+--+\n",
    " 0xFC0 |         0xFC8         |\n",
    "       +--+--+--+--+--+--+--+--+\n",
    " 0xFC8 |     3     |     2     |\n",
    "       +--+--+--+--+--+--+--+--+\n",
    " 0xFD0 |         0x618         |\n",
    "       +--+--+--+--+--+--+--+--+\n",
    " 0xFD8 |                       |\n",
    "       +--+--+--+--+--+--+--+--+\n",
    "```"
   ]
  }
 ],
 "metadata": {
  "kernelspec": {
   "display_name": "C",
   "language": "c",
   "name": "c"
  },
  "language_info": {
   "file_extension": ".c",
   "mimetype": "c",
   "name": "c"
  }
 },
 "nbformat": 4,
 "nbformat_minor": 5
}
