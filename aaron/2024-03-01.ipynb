{
 "cells": [
  {
   "cell_type": "markdown",
   "id": "275f3326-b6de-4d7d-b41a-f17ec6a57354",
   "metadata": {
    "slideshow": {
     "slide_type": "skip"
    },
    "tags": []
   },
   "source": [
    "# Architecture: von Neumann; logic gates\n",
    "_COSC 208, Introduction to Computer Systems, 2024-03-01_"
   ]
  },
  {
   "cell_type": "markdown",
   "id": "9db293af-f9ec-4262-b568-ef1906a523b4",
   "metadata": {
    "slideshow": {
     "slide_type": "skip"
    },
    "tags": []
   },
   "source": [
    "## Announcements\n",
    "* Project 1 revisions due Wednesday @ 11pm"
   ]
  },
  {
   "cell_type": "markdown",
   "id": "bede1ded-97f6-4a28-9335-116fd9ea868f",
   "metadata": {
    "slideshow": {
     "slide_type": "skip"
    },
    "tags": []
   },
   "source": [
    "## Outline\n",
    "* Warm-up\n",
    "* Command-line arguments\n",
    "* von Neumann Architecture\n",
    "* Hardware building blocks\n",
    "* Logic gates"
   ]
  },
  {
   "cell_type": "markdown",
   "id": "21816ff4-52c0-4680-95b9-3142e9d79121",
   "metadata": {
    "slideshow": {
     "slide_type": "skip"
    },
    "tags": []
   },
   "source": [
    "## Warm-up"
   ]
  },
  {
   "cell_type": "markdown",
   "id": "af6d774e-1946-4736-a8db-d8e1406cd30b",
   "metadata": {},
   "source": [
    "Q1: _Consider the following function that creates a tic tac toe board._"
   ]
  },
  {
   "cell_type": "code",
   "execution_count": null,
   "id": "79ce9d17-c968-4aa1-94bb-33ed0abb31c3",
   "metadata": {},
   "outputs": [],
   "source": [
    "#include <stdlib.h>\n",
    "#define BOARD_SIZE 3\n",
    "char **create_board() {\n",
    "    char **board = malloc(sizeof(char *) * BOARD_SIZE);\n",
    "    for (int r = 0; r < BOARD_SIZE; r++) {\n",
    "        board[r] = malloc(sizeof(char) * BOARD_SIZE);\n",
    "        for (int c = 0; c < BOARD_SIZE; c++) {\n",
    "            board[r][c] = ' ';\n",
    "        }\n",
    "    }\n",
    "    return board;\n",
    "}"
   ]
  },
  {
   "cell_type": "markdown",
   "id": "99f7882a-b0ce-42fd-ba03-5ad820bfa5f2",
   "metadata": {},
   "source": [
    "_Write a `print_board` function that prints the current state of a tic tac toe board._"
   ]
  },
  {
   "cell_type": "code",
   "execution_count": 2,
   "id": "ca3194fe-a0da-418b-8728-cfaa23959726",
   "metadata": {
    "slideshow": {
     "slide_type": "skip"
    },
    "tags": [
     "notes-only"
    ]
   },
   "outputs": [
    {
     "name": "stdout",
     "output_type": "stream",
     "text": [
      " X |   |   \n",
      "---+---+---\n",
      " O |   |   \n",
      "---+---+---\n",
      "   |   |   \n"
     ]
    }
   ],
   "source": [
    "#include <stdlib.h>\n",
    "#include <stdio.h>\n",
    "#define BOARD_SIZE 3\n",
    "char **create_board() {\n",
    "    char **board = malloc(sizeof(char *) * BOARD_SIZE);\n",
    "    for (int r = 0; r < BOARD_SIZE; r++) {\n",
    "        board[r] = malloc(sizeof(char) * BOARD_SIZE);\n",
    "        for (int c = 0; c < BOARD_SIZE; c++) {\n",
    "            board[r][c] = ' ';\n",
    "        }\n",
    "    }\n",
    "    return board;\n",
    "}\n",
    "void print_board(char **board) {\n",
    "    for (int r = 0; r < BOARD_SIZE; r++) {\n",
    "        if (r != 0) {\n",
    "            printf(\"---+---+---\\n\");\n",
    "        }\n",
    "        printf(\" %c | %c | %c \\n\", board[r][0], board[r][1], board[r][2]);\n",
    "    }\n",
    "}\n",
    "int main() {\n",
    "    char **ttt = create_board();\n",
    "    ttt[0][0] = 'X';\n",
    "    ttt[1][0] = 'O';\n",
    "    print_board(ttt);\n",
    "}"
   ]
  },
  {
   "cell_type": "markdown",
   "id": "c001e611-4239-43f4-ac3c-afa4cd2d3caf",
   "metadata": {
    "slideshow": {
     "slide_type": "skip"
    },
    "tags": [
     "worksheet-only"
    ]
   },
   "source": [
    "<p style=\"height:19em;\"></p>\n",
    "\n",
    "🛑 **STOP here** after completing the above question; if you have extra time please **skip ahead** to the extra practice."
   ]
  },
  {
   "cell_type": "markdown",
   "id": "9c79e935-9b13-4cf2-bb50-170f55dff1e0",
   "metadata": {
    "slideshow": {
     "slide_type": "slide"
    },
    "tags": [
     "notes-only"
    ]
   },
   "source": [
    "## Command-line arguments"
   ]
  },
  {
   "cell_type": "markdown",
   "id": "294b2a54-a9a9-4d84-9edf-14aa0455bfe0",
   "metadata": {
    "slideshow": {
     "slide_type": "skip"
    },
    "tags": [
     "notes-only"
    ]
   },
   "source": [
    "* Arguments entered on the command line separated by spaces are passed to `main`\n",
    "    ```bash\n",
    "    ./myprog abc 123\n",
    "    ```"
   ]
  },
  {
   "cell_type": "markdown",
   "id": "fa7d38cc-0c2f-4142-8358-bbb37db1f383",
   "metadata": {
    "tags": [
     "notes-only"
    ]
   },
   "source": [
    "* Example"
   ]
  },
  {
   "cell_type": "code",
   "execution_count": null,
   "id": "fb9f8b63-b6d0-4736-93fd-15058ceb6f9a",
   "metadata": {
    "tags": [
     "notes-only"
    ]
   },
   "outputs": [],
   "source": [
    "#include <stdio.h>\n",
    "int main(int argc, char *argv[]) {\n",
    "    for (int i = 0; i < argc; i++) {\n",
    "        printf(\"%s\\n\", argv[i]);\n",
    "    }\n",
    "}"
   ]
  },
  {
   "cell_type": "markdown",
   "id": "7f59acd4-ab8f-4a95-9b5e-ce08f723ff85",
   "metadata": {
    "slideshow": {
     "slide_type": "skip"
    },
    "tags": [
     "notes-only"
    ]
   },
   "source": [
    "* _Why is `argv` an array of character pointers?_ – we want an array of strings; strings are arrays and arrays and pointers\n",
    "* _Why do we need `argc`?_\n",
    "    * We only include a null character at the end of a string (i.e., an array of characters); we don't include a null character at the end of other types of arrays (e.g., arrays of pointers)\n",
    "    * Arrays are pointers, which contain the memory address of the first element of the array\n",
    "    * Length of array is not encoded in array variable, nor is there a special ending indicator --> we need to know how many pointers are in the array, so we don't go beyond the end of the array"
   ]
  },
  {
   "cell_type": "markdown",
   "id": "13882050-f8c5-4df3-ab35-c220931c2c1f",
   "metadata": {
    "slideshow": {
     "slide_type": "skip"
    },
    "tags": [
     "notes-only"
    ]
   },
   "source": [
    "## von Neumann Architecture\n",
    "\n",
    "<img src=\"https://diveintosystems.org/book/C5-Arch/_images/vonNArch.png\" width=\"400px\" />\n",
    "\n",
    "* _Where are instructions stored prior to execution?_ — memory unit\n",
    "    * Instructions are loaded from input unit into memory unit when a program starts\n",
    "* _Where are instructions stored during execution?_ — instruction register\n",
    "* _Where is data stored when it is not in use?_ — memory unit\n",
    "* _Where is data stored when it is being operated on?_ — (general purpose) registers\n",
    "* Notice: instructions and data are both stored in the memory unit, but there are different registers for instructions and data in the CPU\n",
    "* Fetch-Decode-Execute cycle\n",
    "    * _What happens in the fetch stage?_ — The control unit loads the next instruction from memory, based on the program counter, into the instruction register\n",
    "    * _What happens in the decode stage?_ — break instruction into operation and operands\n",
    "    * _What happens in the execute stage?_ — The ALU performs the operation on the operands\n",
    "    * Store stage does not occur in an ARM processor"
   ]
  },
  {
   "cell_type": "markdown",
   "id": "f398d604-1c6a-4e89-bc66-b064eeaef676",
   "metadata": {
    "slideshow": {
     "slide_type": "skip"
    },
    "tags": [
     "notes-only"
    ]
   },
   "source": [
    "## Hardware building blocks"
   ]
  },
  {
   "cell_type": "markdown",
   "id": "c1f83796-826f-45c0-9274-afa4cb2c7060",
   "metadata": {
    "slideshow": {
     "slide_type": "skip"
    },
    "tags": [
     "notes-only"
    ]
   },
   "source": [
    "* Transistors — switches that control electrical flow; output state depends on current state plus input state\n",
    "* Logic gates — created from transistors; implement boolean operations (AND, NO, NOT, etc.)\n",
    "* Circuit — created from logic gates\n",
    "* Processing and control units — created from circuits"
   ]
  },
  {
   "cell_type": "markdown",
   "id": "e04cd4c4-0aef-409d-9f9b-0a5bcdeb3942",
   "metadata": {
    "slideshow": {
     "slide_type": "slide"
    },
    "tags": []
   },
   "source": [
    "## Logic gates"
   ]
  },
  {
   "cell_type": "markdown",
   "id": "27e0d6f0-b0a6-45e9-a9f1-c7fde5919fab",
   "metadata": {
    "tags": []
   },
   "source": [
    "* Q2: _Fill-in the truth tables for all six types of logic gates_"
   ]
  },
  {
   "cell_type": "markdown",
   "id": "96b33e37-9191-4df7-85a7-19a5cd14f653",
   "metadata": {
    "slideshow": {
     "slide_type": "skip"
    },
    "tags": [
     "notes-only"
    ]
   },
   "source": [
    "| A | B | A AND B | A OR B | NOT A | A NAND B | A NOR B | A XOR B |\n",
    "| - | - | ------- | ------ | ----- | -------- | ------- | ------- |\n",
    "| 0 | 0 |    0    |   0    |   1   |     1    |    1    |    0    | \n",
    "| 0 | 1 |    0    |   1    |   1   |     1    |    0    |    1    | \n",
    "| 1 | 0 |    0    |   1    |   0   |     1    |    0    |    1    | \n",
    "| 1 | 1 |    1    |   1    |   0   |     0    |    0    |    0    | "
   ]
  },
  {
   "cell_type": "markdown",
   "id": "1ab9866f-9e61-46b0-b2eb-43c3d5c5ac89",
   "metadata": {
    "tags": [
     "worksheet-only"
    ]
   },
   "source": [
    "| A | B | A AND B | A OR B | NOT A | A NAND B | A NOR B | A XOR B |\n",
    "| - | - | ------- | ------ | ----- | -------- | ------- | ------- |\n",
    "| 0 | 0 |         |        |       |          |         |         | \n",
    "| 0 | 1 |         |        |       |          |         |         | \n",
    "| 1 | 0 |         |        |       |          |         |         | \n",
    "| 1 | 1 |         |        |       |          |         |         | "
   ]
  },
  {
   "cell_type": "markdown",
   "id": "332a774c-fc30-4164-9c4d-6a0833b4dc5d",
   "metadata": {
    "slideshow": {
     "slide_type": "subslide"
    },
    "tags": []
   },
   "source": [
    "* Q3: _How do you use AND and NOT gates to create a NAND gate?_"
   ]
  },
  {
   "cell_type": "markdown",
   "id": "a36d56dc-e3a8-47ba-bd4f-63379cdcea89",
   "metadata": {
    "slideshow": {
     "slide_type": "skip"
    },
    "tags": [
     "notes-only"
    ]
   },
   "source": [
    "![](images/circuits/gate_nand.png)"
   ]
  },
  {
   "cell_type": "markdown",
   "id": "6972c78a-143e-44f3-945d-eed3e424d9ea",
   "metadata": {
    "slideshow": {
     "slide_type": "skip"
    },
    "tags": [
     "worksheet-only"
    ]
   },
   "source": [
    "<p style=\"height:8em;\"></p>"
   ]
  },
  {
   "cell_type": "markdown",
   "id": "8f83a153-6722-4cf1-aeab-b763221c63b4",
   "metadata": {},
   "source": [
    "* Q4: _How do you use OR and NOT gates to create a NOR gate?_"
   ]
  },
  {
   "cell_type": "markdown",
   "id": "32988029-668e-4366-9363-af8debc7c0d3",
   "metadata": {
    "slideshow": {
     "slide_type": "skip"
    },
    "tags": [
     "notes-only"
    ]
   },
   "source": [
    "![](images/circuits/gate_nor.png)"
   ]
  },
  {
   "cell_type": "markdown",
   "id": "2a5968c5-a4bd-4772-a3d3-73c0c2c34a7d",
   "metadata": {
    "slideshow": {
     "slide_type": "skip"
    },
    "tags": [
     "worksheet-only"
    ]
   },
   "source": [
    "<p style=\"height:8em;\"></p>"
   ]
  },
  {
   "cell_type": "markdown",
   "id": "117bb607-1a26-43bf-a5d0-d539889fc42e",
   "metadata": {
    "slideshow": {
     "slide_type": "slide"
    },
    "tags": []
   },
   "source": [
    "## Extra practice"
   ]
  },
  {
   "cell_type": "markdown",
   "id": "61686b08-7afa-47f8-96f5-de8d9dd51526",
   "metadata": {},
   "source": [
    "* Q5: _Write a `get_winner` function that takes a tic tac toe board and returns `X` if `X`s won, `O` if `O`s won, `T` if there is a tie, or `?` if there is not yet a winner or tie._"
   ]
  },
  {
   "cell_type": "markdown",
   "id": "da9080ae-d3bc-451b-82f6-e849848a924b",
   "metadata": {
    "slideshow": {
     "slide_type": "skip"
    },
    "tags": [
     "worksheet-only"
    ]
   },
   "source": [
    "<p style=\"height:30em;\"></p>"
   ]
  },
  {
   "cell_type": "markdown",
   "id": "e143fd35-c75e-49eb-a516-4ef3bcc58f86",
   "metadata": {},
   "source": [
    "* Q6: _Write a `destroy_board` function that deallocates a tic tac toe board._"
   ]
  },
  {
   "cell_type": "code",
   "execution_count": 14,
   "id": "91f7d4e1-3947-4614-9cea-f6d410198cce",
   "metadata": {
    "slideshow": {
     "slide_type": "skip"
    },
    "tags": [
     "notes-only"
    ]
   },
   "outputs": [
    {
     "name": "stdout",
     "output_type": "stream",
     "text": [
      " X | X |   \n",
      "---+---+---\n",
      "   |   |   \n",
      "---+---+---\n",
      "   |   |   \n",
      " X | X | X \n",
      "---+---+---\n",
      "   |   |   \n",
      "---+---+---\n",
      " O |   | O \n",
      "   | X | X \n",
      "---+---+---\n",
      "   | X |   \n",
      "---+---+---\n",
      " O | X | O \n",
      "   | X | X \n",
      "---+---+---\n",
      "   | X |   \n",
      "---+---+---\n",
      " X |   | O \n"
     ]
    }
   ],
   "source": [
    "#define BOARD_SIZE 3\n",
    "#include <assert.h>\n",
    "#include <stdio.h>\n",
    "#include <stdlib.h>\n",
    "char **create_board() {\n",
    "    char **board = malloc(sizeof(char *) * BOARD_SIZE);\n",
    "    for (int r = 0; r < BOARD_SIZE; r++) {\n",
    "        board[r] = malloc(sizeof(char) * BOARD_SIZE);\n",
    "        for (int c = 0; c < BOARD_SIZE; c++) {\n",
    "            board[r][c] = ' ';\n",
    "        }\n",
    "    }\n",
    "    return board;\n",
    "}\n",
    "void print_board(char **board) {\n",
    "    for (int r = 0; r < BOARD_SIZE; r++) {\n",
    "        if (r != 0) {\n",
    "            printf(\"---+---+---\\n\");\n",
    "        }\n",
    "        printf(\" %c | %c | %c \\n\", board[r][0], board[r][1], board[r][2]);\n",
    "    }\n",
    "}\n",
    "char get_winner(char **board) {\n",
    "    // Check rows for win\n",
    "    for (int r = 0; r < BOARD_SIZE; r++) {\n",
    "        if (board[r][0] != ' ' && board[r][0] == board[r][1] && board[r][0] == board[r][2]) {\n",
    "            return board[r][0];\n",
    "        }\n",
    "    }\n",
    "    // Check cols for win\n",
    "    for (int c = 0; c < BOARD_SIZE; c++) {\n",
    "        if (board[0][c] != ' ' && board[0][c] == board[1][c] && board[0][c] == board[2][c]) {\n",
    "            return board[0][c];\n",
    "        }\n",
    "    }\n",
    "    // Check diagonals for win\n",
    "    if (board[0][0] != ' ' && board[0][0] == board[1][1] && board[0][0] == board[2][2]) {\n",
    "        return board[0][0];\n",
    "    }\n",
    "    if (board[0][2] != ' ' && board[0][2] == board[1][1] && board[0][2] == board[2][0]) {\n",
    "        return board[0][2];\n",
    "    }\n",
    "    // Check diagonals for unknown state\n",
    "    for (int r = 0; r < BOARD_SIZE; r++) {\n",
    "        for (int c = 0; c < BOARD_SIZE; c++) {\n",
    "            if (board[r][c] == ' ') {\n",
    "                return '?';\n",
    "            }\n",
    "        }\n",
    "    }\n",
    "    return 'T';\n",
    "}\n",
    "void destroy_board(char **board) {\n",
    "    for (int r = 0; r < BOARD_SIZE; r++) {\n",
    "        free(board[r]);\n",
    "    }\n",
    "    free(board);\n",
    "}\n",
    "int main() {\n",
    "    char **ttt = create_board();\n",
    "    ttt[0][0] = 'X';\n",
    "    ttt[0][1] = 'X';\n",
    "    print_board(ttt);\n",
    "    assert(get_winner(ttt) == '?');\n",
    "    ttt[0][2] = 'X';\n",
    "    ttt[2][0] = 'O';\n",
    "    ttt[2][2] = 'O';\n",
    "    print_board(ttt);\n",
    "    assert(get_winner(ttt) == 'X');\n",
    "    ttt[0][0] = ' ';\n",
    "    ttt[1][1] = 'X';\n",
    "    ttt[2][1] = 'X';\n",
    "    print_board(ttt);\n",
    "    assert(get_winner(ttt) == 'X');\n",
    "        ttt[0][0] = ' ';\n",
    "    ttt[2][0] = 'X';\n",
    "    ttt[2][1] = ' ';\n",
    "    print_board(ttt);\n",
    "    assert(get_winner(ttt) == 'X');\n",
    "    destroy_board(ttt);\n",
    "}"
   ]
  },
  {
   "cell_type": "code",
   "execution_count": null,
   "id": "a99a47cc-18ea-4529-8f6c-48bc8dc39087",
   "metadata": {},
   "outputs": [],
   "source": []
  }
 ],
 "metadata": {
  "kernelspec": {
   "display_name": "C",
   "language": "c",
   "name": "c"
  },
  "language_info": {
   "file_extension": ".c",
   "mimetype": "c",
   "name": "c"
  }
 },
 "nbformat": 4,
 "nbformat_minor": 5
}
