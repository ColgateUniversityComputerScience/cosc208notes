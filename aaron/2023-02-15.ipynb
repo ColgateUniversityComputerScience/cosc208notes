{
 "cells": [
  {
   "cell_type": "markdown",
   "id": "421ff75b-3025-4535-9a03-8de76e1d05bc",
   "metadata": {
    "slideshow": {
     "slide_type": "skip"
    },
    "tags": []
   },
   "source": [
    "# Program memory: arrays & pointers\n",
    "_COSC 208, Introduction to Computer Systems, 2023-02-15_"
   ]
  },
  {
   "cell_type": "markdown",
   "id": "b207b076-f5b6-4674-8385-1d10b4d807cd",
   "metadata": {
    "slideshow": {
     "slide_type": "skip"
    },
    "tags": []
   },
   "source": [
    "## Announcements\n",
    "* TA Open Hours: Mondays 4pm-6pm and Wednesdays 6pm-8pm in McGregory 319 (student lounge)\n",
    "* Programming project 1 due tomorrow @ 11pm\n",
    "* Exam 1\n",
    "    * Study guide posted on Moodle\n",
    "    * Take-home portion: released after class on Friday; due at the beginning of class on Monday\n",
    "    * In-class portion: during class on Monday"
   ]
  },
  {
   "cell_type": "markdown",
   "id": "cf625bb6-e838-4e30-a8ab-065374bc56c9",
   "metadata": {
    "slideshow": {
     "slide_type": "skip"
    },
    "tags": []
   },
   "source": [
    "## Outline\n",
    "* Warm-up\n",
    "* Arrays & pointers\n",
    "* Pointer arithmetic"
   ]
  },
  {
   "cell_type": "markdown",
   "id": "91d78f5c-17d0-47f1-acad-e36061221f4f",
   "metadata": {
    "slideshow": {
     "slide_type": "subslide"
    },
    "tags": []
   },
   "source": [
    "## Warm-up\n",
    "* Q1: _What does the following program output?_"
   ]
  },
  {
   "cell_type": "code",
   "execution_count": 2,
   "id": "f550b42a-b3e5-4ca3-b7e4-07054e3ccac6",
   "metadata": {
    "tags": [
     "worksheet-code-only"
    ]
   },
   "outputs": [
    {
     "name": "stdout",
     "output_type": "stream",
     "text": [
      "S S 3 3 3\n",
      "B B 2 2 2\n",
      "D D 2 2 2\n"
     ]
    }
   ],
   "source": [
    "#include <stdio.h>\n",
    "int main() {\n",
    "    char s = 'S';\n",
    "    char *t = &s;\n",
    "    int u = 3;\n",
    "    int *v = &u;\n",
    "    int *w = v;\n",
    "    printf(\"%c %c %d %d %d\\n\", s, *t, u, *v, *w);\n",
    "    *t = 'B';\n",
    "    u = 2;\n",
    "    printf(\"%c %c %d %d %d\\n\", s, *t, u, *v, *w);\n",
    "    s = s + *v;\n",
    "    printf(\"%c %c %d %d %d\\n\", s, *t, u, *v, *w);\n",
    "}"
   ]
  },
  {
   "cell_type": "markdown",
   "id": "490dc511-8dd3-4a04-850e-efbab9d21d5e",
   "metadata": {
    "slideshow": {
     "slide_type": "skip"
    },
    "tags": [
     "worksheet-only"
    ]
   },
   "source": [
    "<p style=\"height:5em;\"></p>"
   ]
  },
  {
   "cell_type": "markdown",
   "id": "4f79842e-5478-403f-85cd-c9fffd35a757",
   "metadata": {
    "slideshow": {
     "slide_type": "subslide"
    },
    "tags": []
   },
   "source": [
    "* Q2: _What does the following program output?_"
   ]
  },
  {
   "cell_type": "code",
   "execution_count": 4,
   "id": "683771ce-637a-4635-925f-da3a035e546b",
   "metadata": {
    "tags": [
     "worksheet-code-only"
    ]
   },
   "outputs": [
    {
     "name": "stdout",
     "output_type": "stream",
     "text": [
      "Q R\n",
      "T S\n"
     ]
    }
   ],
   "source": [
    "#include <stdio.h>\n",
    "void swap1(char *c, char *d) {\n",
    "    char *tmp = c;\n",
    "    c = d;\n",
    "    d = tmp;\n",
    "}\n",
    "void swap2(char *a, char *b) {\n",
    "    char tmp = *a;\n",
    "    *a = *b;\n",
    "    *b = tmp;\n",
    "}\n",
    "int main() {\n",
    "    char q = 'Q';\n",
    "    char r = 'R';\n",
    "    swap1(&q, &r);\n",
    "    printf(\"%c %c\\n\", q, r);\n",
    "    char s = 'S';\n",
    "    char t = 'T';\n",
    "    swap2(&s, &t);\n",
    "    printf(\"%c %c\\n\", s, t);\n",
    "}"
   ]
  },
  {
   "cell_type": "markdown",
   "id": "779b1b61-040e-4046-83c7-4efe1d871cf1",
   "metadata": {
    "slideshow": {
     "slide_type": "skip"
    },
    "tags": [
     "worksheet-only"
    ]
   },
   "source": [
    "<div style=\"page-break-after:always;\"></div>"
   ]
  },
  {
   "cell_type": "markdown",
   "id": "d71e695d-f067-4a84-a44c-434eb5b2944b",
   "metadata": {
    "slideshow": {
     "slide_type": "subslide"
    },
    "tags": []
   },
   "source": [
    "* Q3: _Write a program that:_\n",
    "    1. _Stores 5 in a variable, and stores 10 in another variable_\n",
    "    2. _Creates and uses pointers to print each number_\n",
    "    3. _Uses the pointers to add the numbers together and store the result in a new variable_\n",
    "    4. _Repurposes one of the existing pointers to print the aforementioned result_"
   ]
  },
  {
   "cell_type": "code",
   "execution_count": 3,
   "id": "f5581994-5b1b-4a85-8b2a-a47eda62a603",
   "metadata": {
    "slideshow": {
     "slide_type": "skip"
    },
    "tags": [
     "notes-only"
    ]
   },
   "outputs": [
    {
     "name": "stdout",
     "output_type": "stream",
     "text": [
      "15\n"
     ]
    }
   ],
   "source": [
    "#include <stdio.h>\n",
    "int main() {\n",
    "    int i = 5;\n",
    "    int j = 10;\n",
    "    int *p = &i;\n",
    "    int *q = &j;\n",
    "    int k = *p + *q;\n",
    "    p = &k;\n",
    "    printf(\"%d\\n\", *p);\n",
    "}"
   ]
  },
  {
   "cell_type": "markdown",
   "id": "71ec6666-d0ee-4034-ad61-a45f80e2e896",
   "metadata": {
    "slideshow": {
     "slide_type": "skip"
    },
    "tags": [
     "worksheet-only"
    ]
   },
   "source": [
    "<p style=\"height:15em;\"></p>"
   ]
  },
  {
   "cell_type": "markdown",
   "id": "9a799753-ca30-43e8-8534-1e7793355217",
   "metadata": {
    "slideshow": {
     "slide_type": "subslide"
    },
    "tags": []
   },
   "source": [
    "* Q4: _Write a function called `transfer` which takes an integer (`amount`) and two integer pointers (`from` and `to`) and moves the specified `amount` from one integer to the other._\n",
    "    _Also write a `main` function that:_\n",
    "    1. _Stores `50` in one variable and `100` in another variable_\n",
    "    2. _Calls `transfer` with the amount `25` and pointers to the aforementioned variable_\n",
    "    3. _Prints the value stored in the variables after `transfer` returns_"
   ]
  },
  {
   "cell_type": "code",
   "execution_count": 13,
   "id": "24406502-2803-491d-b1b8-ec7f760659f4",
   "metadata": {
    "slideshow": {
     "slide_type": "skip"
    },
    "tags": [
     "notes-only"
    ]
   },
   "outputs": [
    {
     "name": "stdout",
     "output_type": "stream",
     "text": [
      "25 125\n"
     ]
    }
   ],
   "source": [
    "#include <stdio.h>\n",
    "void transfer(int amount, int *from, int *to) {\n",
    "    *from = *from - amount;\n",
    "    *to = *to + amount;\n",
    "}\n",
    "int main() {\n",
    "    int x = 50;\n",
    "    int y = 100;\n",
    "    transfer(25, &x, &y);\n",
    "    printf(\"%d %d\\n\", x, y);\n",
    "}"
   ]
  },
  {
   "cell_type": "markdown",
   "id": "afc71811-e270-4b7d-8655-522517b5227a",
   "metadata": {
    "slideshow": {
     "slide_type": "skip"
    },
    "tags": [
     "worksheet-only"
    ]
   },
   "source": [
    "<p style=\"height:15em;\"></p>\n",
    "\n",
    "🛑 **STOP here** after completing the above questions; if you have extra time please **skip ahead** to the extra practice.\n",
    "\n",
    "<div style=\"page-break-after:always;\"></div>"
   ]
  },
  {
   "cell_type": "markdown",
   "id": "cd4d1b97-0087-470d-aa66-5318ae0026d0",
   "metadata": {
    "slideshow": {
     "slide_type": "slide"
    },
    "tags": []
   },
   "source": [
    "## Arrays & pointers"
   ]
  },
  {
   "cell_type": "markdown",
   "id": "dbc27645-cb2c-4cf8-bde7-a5d3ce47c7ea",
   "metadata": {
    "slideshow": {
     "slide_type": "skip"
    },
    "tags": [
     "notes-only"
    ]
   },
   "source": [
    "* An array variable is a pointer to a region of memory where the items in the array are stored"
   ]
  },
  {
   "cell_type": "markdown",
   "id": "ec7f893a-db5e-458c-9a56-2f57b3e9ec2d",
   "metadata": {},
   "source": [
    "* Example"
   ]
  },
  {
   "cell_type": "code",
   "execution_count": 40,
   "id": "7abd8dc1-e6cf-4b78-bd97-4cb9873861a4",
   "metadata": {
    "tags": [
     "worksheet-code-only"
    ]
   },
   "outputs": [
    {
     "name": "stdout",
     "output_type": "stream",
     "text": [
      "word = hat\n",
      "ptr = hat\n",
      "ptr == word\n",
      "word = hit\n",
      "word = sit\n",
      "ptr = it\n",
      "word = sat\n"
     ]
    }
   ],
   "source": [
    "#include <stdio.h>\n",
    "int main() {\n",
    "    char word[] = \"hat\";\n",
    "    printf(\"word = %s\\n\", word);\n",
    "    char *ptr = word;\n",
    "    printf(\"ptr = %s\\n\", ptr);\n",
    "    if (ptr == word) {\n",
    "        printf(\"ptr == word\\n\");\n",
    "    }\n",
    "    else {\n",
    "        printf(\"ptr != word\\n\");\n",
    "    }\n",
    "    word[1] = 'i';\n",
    "    printf(\"word = %s\\n\", word);\n",
    "    *ptr = 's';\n",
    "    printf(\"word = %s\\n\", word);\n",
    "    ptr = &word[1];\n",
    "    printf(\"ptr = %s\\n\", ptr);\n",
    "    ptr[0] = 'a';\n",
    "    printf(\"word = %s\\n\", word);\n",
    "}"
   ]
  },
  {
   "cell_type": "markdown",
   "id": "0366a6b0-a6f4-4df8-b901-4dc9c8228ffd",
   "metadata": {
    "slideshow": {
     "slide_type": "skip"
    },
    "tags": [
     "notes-only"
    ]
   },
   "source": [
    "* This explains why there is no out-of-bounds checks for arrays: the memory addresses in pointers are never checked to see if they are valid\n",
    "* This also explains why you can change an array within a function and have those changes reflected outside of the function"
   ]
  },
  {
   "cell_type": "markdown",
   "id": "e0155882-e3de-4e4b-8391-0f0d3ca681cd",
   "metadata": {
    "slideshow": {
     "slide_type": "subslide"
    },
    "tags": []
   },
   "source": [
    "* Example: array as a parameter"
   ]
  },
  {
   "cell_type": "code",
   "execution_count": 11,
   "id": "8a2c28c6-0b73-46d4-b61e-f8a73e5b762c",
   "metadata": {
    "tags": [
     "worksheet-code-only"
    ]
   },
   "outputs": [
    {
     "name": "stdout",
     "output_type": "stream",
     "text": [
      "mat\n",
      "pat\n"
     ]
    }
   ],
   "source": [
    "#include <stdio.h>\n",
    "void update(char str[]) {\n",
    "    str[0] = 'p';\n",
    "}\n",
    "int main() {\n",
    "    char word[] = \"mat\";\n",
    "    printf(\"%s\\n\", word);\n",
    "    update(word);\n",
    "    printf(\"%s\\n\", word);\n",
    "}"
   ]
  },
  {
   "cell_type": "markdown",
   "id": "1d92c433-de2a-46f5-b4b9-c33bd5b4aabc",
   "metadata": {
    "slideshow": {
     "slide_type": "subslide"
    },
    "tags": []
   },
   "source": [
    "* Q5: _What does the following program output?_"
   ]
  },
  {
   "cell_type": "code",
   "execution_count": 12,
   "id": "8f464bf4-847f-47b1-b2dc-e6799ca0ddf0",
   "metadata": {
    "tags": [
     "worksheet-code-only"
    ]
   },
   "outputs": [
    {
     "name": "stdout",
     "output_type": "stream",
     "text": [
      "1 2\n",
      "2 3\n",
      "5 20\n",
      "20 3\n"
     ]
    }
   ],
   "source": [
    "#include <stdio.h>\n",
    "void mystery(int arr[]) {\n",
    "    *arr = *arr * 5;\n",
    "    arr[1] = arr[1] * 10;\n",
    "}\n",
    "\n",
    "int main() {\n",
    "    int nums[] = {1, 2, 3, 4};\n",
    "    printf(\"%d %d\\n\", *nums, nums[1]);\n",
    "    int *ptr = &nums[1];\n",
    "    printf(\"%d %d\\n\", *ptr, ptr[1]);\n",
    "    mystery(nums);\n",
    "    printf(\"%d %d\\n\", *nums, nums[1]);\n",
    "    printf(\"%d %d\\n\", *ptr, ptr[1]);\n",
    "}"
   ]
  },
  {
   "cell_type": "markdown",
   "id": "16196b23-00e7-44ac-9751-ea589b3fcd07",
   "metadata": {
    "slideshow": {
     "slide_type": "skip"
    },
    "tags": [
     "worksheet-only"
    ]
   },
   "source": [
    "<p style=\"height:6em;\"></p>"
   ]
  },
  {
   "cell_type": "markdown",
   "id": "ff41bd53-7f17-4a05-a838-7264bfde32a2",
   "metadata": {
    "slideshow": {
     "slide_type": "subslide"
    },
    "tags": []
   },
   "source": [
    "* Q6: _Write a function called `underscore` which takes an array of characters and replaces all spaces (`' '`) with underscores (`'_'`). Also write a `main` function that:_\n",
    "    1. _Stores the string `\"This has spaces\"` in an array of characters_\n",
    "    2. _Calls the `underscore` function on the array_\n",
    "    3. _Prints the string after `underscore` returns_"
   ]
  },
  {
   "cell_type": "code",
   "execution_count": 14,
   "id": "d0c06280-e560-40f1-87a1-9edc10b36d7f",
   "metadata": {
    "slideshow": {
     "slide_type": "skip"
    },
    "tags": [
     "notes-only"
    ]
   },
   "outputs": [
    {
     "name": "stdout",
     "output_type": "stream",
     "text": [
      "This_has_spaces\n"
     ]
    }
   ],
   "source": [
    "#include <stdio.h>\n",
    "#include <string.h>\n",
    "void underscore(char *str) {\n",
    "    for (int i = 0; i < strlen(str); i++) {\n",
    "        if (str[i] == ' ') {\n",
    "            str[i] = '_';\n",
    "        }\n",
    "    }\n",
    "}\n",
    "int main() {\n",
    "    char phrase[] = \"This has spaces\";\n",
    "    underscore(phrase);\n",
    "    printf(\"%s\\n\", phrase);\n",
    "}"
   ]
  },
  {
   "cell_type": "markdown",
   "id": "299bfb66-4d4c-404f-bad5-f246224950f2",
   "metadata": {
    "slideshow": {
     "slide_type": "skip"
    },
    "tags": [
     "worksheet-only"
    ]
   },
   "source": [
    "<p style=\"height:15em;\"></p>\n",
    "\n",
    "🛑 **STOP here** after completing the above questions; if you have extra time please **skip ahead** to the extra practice."
   ]
  },
  {
   "cell_type": "markdown",
   "id": "688255d1-f6df-4aad-b47e-f7790224908a",
   "metadata": {
    "slideshow": {
     "slide_type": "slide"
    },
    "tags": []
   },
   "source": [
    "## Pointer arithmetic"
   ]
  },
  {
   "cell_type": "markdown",
   "id": "4fda4e8e-65ec-411f-b02a-d34ba4bd07e0",
   "metadata": {
    "slideshow": {
     "slide_type": "skip"
    },
    "tags": [
     "notes-only"
    ]
   },
   "source": [
    "* Adding `n` to a pointer without dereferencing determines the address of the element `n` indices away\n",
    "* Pointer does not change, unless the new address is assigned to the pointer"
   ]
  },
  {
   "cell_type": "markdown",
   "id": "4be5028d-0c9a-494f-81ad-2e01f92e9674",
   "metadata": {},
   "source": [
    "* Example"
   ]
  },
  {
   "cell_type": "code",
   "execution_count": 39,
   "id": "82e95294-40f8-46ca-a72f-9e8510dde8e4",
   "metadata": {
    "tags": [
     "worksheet-code-only"
    ]
   },
   "outputs": [
    {
     "name": "stdout",
     "output_type": "stream",
     "text": [
      "8 2\n",
      "32 2\n",
      "8 2\n",
      "128 32\n",
      "2 0\n",
      "2 -1\n"
     ]
    }
   ],
   "source": [
    "#include <stdio.h>\n",
    "int main() {\n",
    "    int nums[] = {2,4,8,16,32,64,128};\n",
    "    \n",
    "    int *ptr = nums + 2;\n",
    "    printf(\"%d %d\\n\", *ptr, *nums);\n",
    "    ptr = ptr + 2;\n",
    "    printf(\"%d %d\\n\", *ptr, *nums);\n",
    "    // nums = nums + 2; // Not allowed; array variable must always point to 0th element\n",
    "    \n",
    "    int val = *(nums + 2);\n",
    "    printf(\"%d %d\\n\", val, *nums);\n",
    "    val = *(ptr + 2);\n",
    "    printf(\"%d %d\\n\", val, *ptr);\n",
    "    \n",
    "    nums[2] = 0;\n",
    "    printf(\"%d %d\\n\", *nums, nums[2]);\n",
    "    *(nums + 2) = -1;\n",
    "    printf(\"%d %d\\n\", *nums, nums[2]);\n",
    "}"
   ]
  },
  {
   "cell_type": "markdown",
   "id": "bc49d480-59bf-48b3-9eda-67a9eb72aa79",
   "metadata": {
    "slideshow": {
     "slide_type": "skip"
    },
    "tags": [
     "worksheet-only"
    ]
   },
   "source": [
    "<div style=\"page-break-after:always;\"></div>"
   ]
  },
  {
   "cell_type": "markdown",
   "id": "912d895c-6427-49bc-b47c-efd2a77960f1",
   "metadata": {
    "slideshow": {
     "slide_type": "subslide"
    },
    "tags": []
   },
   "source": [
    "* Q7: _What does the following program output?_"
   ]
  },
  {
   "cell_type": "code",
   "execution_count": 4,
   "id": "0bf073ac-ec22-4ccf-94ca-445b66a53196",
   "metadata": {
    "tags": [
     "worksheet-code-only"
    ]
   },
   "outputs": [
    {
     "name": "stdout",
     "output_type": "stream",
     "text": [
      "cs\n",
      "the cap fits\n",
      "red cap fins\n"
     ]
    }
   ],
   "source": [
    "#include <stdio.h>\n",
    "int main() {\n",
    "    char phrase[] = \"the cat sits\";\n",
    "    char *mysteryA = phrase + 4;\n",
    "    char *mysteryB = mysteryA + 4;\n",
    "    printf(\"%c%c\\n\", *mysteryA, *mysteryB);\n",
    "    *(mysteryA + 2) = 'p';\n",
    "    *mysteryB = 'f';\n",
    "    printf(\"%s\\n\", phrase);\n",
    "    mysteryA--;\n",
    "    mysteryB += 2;\n",
    "    *mysteryB = 'n';\n",
    "    printf(\"red%s\\n\", mysteryA);\n",
    "}"
   ]
  },
  {
   "cell_type": "markdown",
   "id": "2a3299f6-fc53-4c44-8757-2e1b9bdf9319",
   "metadata": {
    "slideshow": {
     "slide_type": "skip"
    },
    "tags": [
     "worksheet-only"
    ]
   },
   "source": [
    "<p style=\"height:6em;\"></p>"
   ]
  },
  {
   "cell_type": "markdown",
   "id": "ae3e19ad-bb67-46d0-a316-ec168a66cc3c",
   "metadata": {
    "slideshow": {
     "slide_type": "subslide"
    },
    "tags": []
   },
   "source": [
    "* Q8: _Write a function called `sum` which takes an array of integers and a length and returns the sum of the numbers. The function **must** use a pointer to iterate over the array._"
   ]
  },
  {
   "cell_type": "code",
   "execution_count": 2,
   "id": "e381fcdb-83b5-4e80-9bb4-4af34b3ccc3a",
   "metadata": {
    "slideshow": {
     "slide_type": "skip"
    },
    "tags": [
     "notes-only"
    ]
   },
   "outputs": [
    {
     "name": "stdout",
     "output_type": "stream",
     "text": [
      "15\n"
     ]
    }
   ],
   "source": [
    "#include <stdio.h>\n",
    "int sum(int *nums, int len) {\n",
    "    int *curr = nums;\n",
    "    int total = 0;\n",
    "    for (int i = 0; i < len; i++) {\n",
    "        total += *curr;\n",
    "        curr++;\n",
    "    }\n",
    "    return total;\n",
    "}\n",
    "int main() {\n",
    "    int nums[] = {1, 2, 4, 8};\n",
    "    printf(\"%d\\n\", sum(nums, 4));\n",
    "}"
   ]
  },
  {
   "cell_type": "markdown",
   "id": "d946a864-718d-44c2-af41-a9aad6219cce",
   "metadata": {
    "slideshow": {
     "slide_type": "skip"
    },
    "tags": [
     "worksheet-only"
    ]
   },
   "source": [
    "<p style=\"height:15em;\"></p>"
   ]
  },
  {
   "cell_type": "markdown",
   "id": "bc4f6a76-1d10-4efb-aa22-c81a60c0061f",
   "metadata": {
    "slideshow": {
     "slide_type": "slide"
    },
    "tags": []
   },
   "source": [
    "## Extra practice\n",
    "* Q9: _What does the following program output?_"
   ]
  },
  {
   "cell_type": "code",
   "execution_count": 5,
   "id": "6380f183-4722-4b7f-9de4-7ee5c3739480",
   "metadata": {
    "tags": [
     "worksheet-code-only"
    ]
   },
   "outputs": [
    {
     "name": "stdout",
     "output_type": "stream",
     "text": [
      "1 1\n",
      "2 2\n"
     ]
    }
   ],
   "source": [
    "#include <stdio.h>\n",
    "void increment1(int a) {\n",
    "    a = a + 1;\n",
    "}\n",
    "void increment2(int *b) {\n",
    "    *b = *b + 1;\n",
    "}\n",
    "int main() {\n",
    "    int x = 1;\n",
    "    int *y = &x;\n",
    "    increment1(x);\n",
    "    printf(\"%d %d\\n\", x, *y);\n",
    "    increment2(y);\n",
    "    printf(\"%d %d\\n\", x, *y);\n",
    "}"
   ]
  },
  {
   "cell_type": "markdown",
   "id": "fa749713-1c8e-4e51-a66b-5d28599d8eb0",
   "metadata": {
    "slideshow": {
     "slide_type": "skip"
    },
    "tags": [
     "worksheet-only"
    ]
   },
   "source": [
    "<div style=\"page-break-after:always;\"></div>"
   ]
  },
  {
   "cell_type": "markdown",
   "id": "402d58c2-8710-4a31-93f8-3923b16aa2b9",
   "metadata": {
    "slideshow": {
     "slide_type": "subslide"
    },
    "tags": []
   },
   "source": [
    "* Q10: _Draw a memory diagram that displays the program's variables and their values when the program reaches the comment `STOP HERE`._"
   ]
  },
  {
   "cell_type": "code",
   "execution_count": 16,
   "id": "bf32dbcd-aa56-4f22-8d69-cede54fb9065",
   "metadata": {
    "tags": [
     "worksheet-code-only"
    ]
   },
   "outputs": [
    {
     "name": "stdout",
     "output_type": "stream",
     "text": [
      "Domain (11 chars): colgate.edu\n",
      "Path (5 chars): lgbtq\n"
     ]
    }
   ],
   "source": [
    "#include <stdio.h>\n",
    "#include <string.h>\n",
    "char *split(char *str, char delim) {\n",
    "    for (int i = 0; i < strlen(str); i++) {\n",
    "        if (str[i] == delim) {\n",
    "            str[i] = '\\0';\n",
    "            return &str[i+1];\n",
    "        }\n",
    "    }\n",
    "    return NULL;\n",
    "}\n",
    "\n",
    "void parse(char *url) {\n",
    "    char separator = '/';\n",
    "    char *path = split(url, separator);\n",
    "    int domainlen = strlen(url);\n",
    "    int pathlen = strlen(path);\n",
    "    // STOP HERE\n",
    "    printf(\"Domain (%d chars): %s\\n\", domainlen, url);\n",
    "    printf(\"Path (%d chars): %s\\n\", pathlen, path);\n",
    "}\n",
    "\n",
    "int main() {\n",
    "    char input[] = \"colgate.edu/lgbtq\";\n",
    "    parse(input);\n",
    "}"
   ]
  }
 ],
 "metadata": {
  "kernelspec": {
   "display_name": "C",
   "language": "c",
   "name": "c"
  },
  "language_info": {
   "file_extension": ".c",
   "mimetype": "c",
   "name": "c"
  }
 },
 "nbformat": 4,
 "nbformat_minor": 5
}
