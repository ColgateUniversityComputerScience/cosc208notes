{
 "cells": [
  {
   "cell_type": "markdown",
   "id": "766c3265-87a5-4a23-b560-83e011c2ed6b",
   "metadata": {
    "editable": true,
    "slideshow": {
     "slide_type": "skip"
    },
    "tags": []
   },
   "source": [
    "# Hello C: strings; command line arguments\n",
    "_COSC 208, Introduction to Computer Systems, Fall 2025_"
   ]
  },
  {
   "cell_type": "markdown",
   "id": "191c15e7-124f-4158-8ce9-41b74735bea2",
   "metadata": {
    "editable": true,
    "slideshow": {
     "slide_type": "skip"
    },
    "tags": []
   },
   "source": [
    "## Announcements\n",
    "* Before each class: read _Dive Into Systems_ sections listed on the course schedule"
   ]
  },
  {
   "cell_type": "markdown",
   "id": "b22129f8-cc9b-41e4-872f-57a38223a7b7",
   "metadata": {
    "slideshow": {
     "slide_type": "slide"
    },
    "tags": []
   },
   "source": [
    "## Strings"
   ]
  },
  {
   "cell_type": "markdown",
   "id": "ea79433a-39c4-44e8-88e5-c03ac3b81c4f",
   "metadata": {
    "editable": true,
    "slideshow": {
     "slide_type": "skip"
    },
    "tags": [
     "notes-only"
    ]
   },
   "source": [
    "* String is simply an array of characters\n",
    "* End of string is denoted by the null character (`\\0`)\n",
    "    ```\n",
    "                 ┏━━━┳━━━┳━━━┳━━━┳━━━┳━━━┳━━━┳━━━━┓\n",
    "    \"Colgate\" == ┃ C ┃ o ┃ l ┃ g ┃ a ┃ t ┃ e ┃ \\0 ┃\n",
    "                 ┗━━━┻━━━┻━━━┻━━━┻━━━┻━━━┻━━━┻━━━━┛\n",
    "    ```\n",
    "* `strlen` counts the number of characters in an array before a null character \n",
    "    * The null character is **not** included in the length\n",
    "    * The `man` page for `strlen` indicates the parameter is of type `const char *`\n",
    "        * `const` means the function does not modify the array\n",
    "        * `char *` means a character pointer; in a few weeks we'll discuss the duality between arrays and pointers; for now, it means you can pass an array of characters to this function"
   ]
  },
  {
   "cell_type": "markdown",
   "id": "3d6c9585-cc4c-468d-b8ef-5d80b9b3a1d0",
   "metadata": {
    "editable": true,
    "slideshow": {
     "slide_type": "skip"
    },
    "tags": [
     "blank"
    ]
   },
   "source": [
    "<div style=\"height:10em;\"></div>"
   ]
  },
  {
   "cell_type": "markdown",
   "id": "2fa83c86-4abc-4cc3-b17b-7680385201bc",
   "metadata": {
    "tags": [
     "question"
    ]
   },
   "source": [
    "Q1: _What is the output of this program?_"
   ]
  },
  {
   "cell_type": "code",
   "execution_count": 10,
   "id": "ecd577fd-a2ea-4ab2-913d-7ec9826312da",
   "metadata": {
    "tags": [
     "worksheet-code-only"
    ]
   },
   "outputs": [
    {
     "name": "stdout",
     "output_type": "stream",
     "text": [
      "7\n",
      "4\n",
      "Colgate-wUni.\n",
      "Col./Uni.\n"
     ]
    }
   ],
   "source": [
    "#include <stdio.h>\n",
    "int main() {\n",
    "    char first[] = \"Colgate\";\n",
    "    char second[10] = \"Univ\";\n",
    "    printf(\"%d\\n\", strlen(first));\n",
    "    printf(\"%d\\n\", strlen(second));\n",
    "    first[strlen(first)] = '-';\n",
    "    second[strlen(second)-1] = '.';\n",
    "    printf(\"%s%s\\n\", first, second);\n",
    "    first[3] = '.';\n",
    "    first[4] = '\\0';\n",
    "    printf(\"%s/%s\\n\", first, second);\n",
    "}"
   ]
  },
  {
   "cell_type": "markdown",
   "id": "e44f7765-3da0-4ce2-8aeb-52046105a407",
   "metadata": {
    "slideshow": {
     "slide_type": "skip"
    },
    "tags": [
     "blank"
    ]
   },
   "source": [
    "<div style=\"height:5em;\"></div>"
   ]
  },
  {
   "cell_type": "markdown",
   "id": "7525b7dd-7830-4c98-bbda-8887c927badf",
   "metadata": {
    "slideshow": {
     "slide_type": "subslide"
    },
    "tags": [
     "question"
    ]
   },
   "source": [
    "Q2: _Write a function called `count_words` that takes a string and counts the number of words in the string. Assume each word is separated by a single space, and the string will contain at least one word. For example, `\"Today is Wednesday.\"` contains 3 words._"
   ]
  },
  {
   "cell_type": "code",
   "execution_count": 7,
   "id": "eb7a9162-d44b-4cfe-9c64-e4d1e7c4053c",
   "metadata": {
    "slideshow": {
     "slide_type": "skip"
    },
    "tags": [
     "answer"
    ]
   },
   "outputs": [],
   "source": [
    "#include <string.h>\n",
    "int count_words(char str[]) {\n",
    "    int words = 1;\n",
    "    for (int i = 0; i < strlen(str); i++) {\n",
    "        if (str[i] == ' ') {\n",
    "            words++;\n",
    "        }\n",
    "    }\n",
    "    return words;\n",
    "}\n",
    "// Testing\n",
    "#include <assert.h>\n",
    "int main() {\n",
    "    assert(count_words(\"Today is Wednesday.\") == 3);\n",
    "}"
   ]
  },
  {
   "cell_type": "markdown",
   "id": "f3ceaa95-9851-48d0-8603-3ebc1c18da92",
   "metadata": {
    "editable": true,
    "slideshow": {
     "slide_type": "skip"
    },
    "tags": [
     "blank"
    ]
   },
   "source": [
    "<div style=\"height:15em;\"></div>"
   ]
  },
  {
   "cell_type": "markdown",
   "id": "d24e3bc5-545d-43cf-a794-595072b45d81",
   "metadata": {
    "editable": true,
    "slideshow": {
     "slide_type": ""
    },
    "tags": [
     "question"
    ]
   },
   "source": [
    "Q3: _Write a function called `abbreviate` that takes a string and modifies the string in place to include only the first letter of each word. For example, `\"Talk To You Later\"` is converted to `TTYL`._"
   ]
  },
  {
   "cell_type": "code",
   "execution_count": 11,
   "id": "ab7d2e04-3a93-440c-81cf-500bbbb4fb87",
   "metadata": {
    "slideshow": {
     "slide_type": "skip"
    },
    "tags": [
     "answer"
    ]
   },
   "outputs": [],
   "source": [
    "#include <string.h>\n",
    "void abbreviate(char str[]) {\n",
    "    int store = 1;\n",
    "    int check = 1;\n",
    "    while (check < strlen(str)) {\n",
    "        if (str[check-1] == ' ') {\n",
    "            str[store] = str[check];\n",
    "            store++;\n",
    "        }\n",
    "        check++;\n",
    "    }\n",
    "    str[store] = '\\0';\n",
    "}\n",
    "// Testing\n",
    "#include <assert.h>\n",
    "int main() {\n",
    "    char phrase[18];\n",
    "    strcpy(phrase, \"Talk To You Later\");\n",
    "    abbreviate(phrase);\n",
    "    assert(strcmp(phrase, \"TTYL\") == 0);\n",
    "}"
   ]
  },
  {
   "cell_type": "markdown",
   "id": "634fba62-b1f6-413b-805d-9eed551d4b16",
   "metadata": {
    "slideshow": {
     "slide_type": "skip"
    },
    "tags": [
     "blank"
    ]
   },
   "source": [
    "<div style=\"height:20em;\"></div>"
   ]
  },
  {
   "cell_type": "markdown",
   "id": "aa0f5a6f-d8bb-4987-b1c6-94612ee305dc",
   "metadata": {
    "slideshow": {
     "slide_type": "slide"
    },
    "tags": []
   },
   "source": [
    "## Command line arguments"
   ]
  },
  {
   "cell_type": "markdown",
   "id": "3757ada8-bad3-4e02-bc1d-7587ba5f576c",
   "metadata": {
    "editable": true,
    "slideshow": {
     "slide_type": "skip"
    },
    "tags": [
     "notes-only"
    ]
   },
   "source": [
    "* Included on the command line after the name of the executable file\n",
    "    * Separated by spaces (unless the spaces are inside quotes)\n",
    "* Passed to the program's `main` function\n",
    "    * `int argc` stores the number of command line arguments, which includes the name of the executable file\n",
    "    * `char *argv[]` stores an array of strings, which each string in the array is a separate command line argument\n",
    "* `atoi` function is useful for converting strings to integers"
   ]
  },
  {
   "cell_type": "code",
   "execution_count": null,
   "id": "62f8e514-38e0-4ff4-ba27-86242cfc468a",
   "metadata": {
    "editable": true,
    "slideshow": {
     "slide_type": ""
    },
    "tags": []
   },
   "outputs": [],
   "source": [
    "// Example program that prints the command line arguments\n",
    "#include <stdio.h>\n",
    "int main(int argc, char *argv[]) {\n",
    "    printf(\"The executable file is: %s\", argv[0]);\n",
    "    printf(\"There are %d additional arguments\", argc-1);\n",
    "    for (int i = 1; i < argc; i++) {\n",
    "        printf(\"%d) %s\\n\", i, argv[i]);\n",
    "    }\n",
    "}"
   ]
  },
  {
   "cell_type": "markdown",
   "id": "bcda7403-720d-4c16-9c00-235662f8f393",
   "metadata": {
    "editable": true,
    "slideshow": {
     "slide_type": ""
    },
    "tags": [
     "notes-only"
    ]
   },
   "source": [
    "Running `./example abc 123` produces the output:\n",
    "```\n",
    "The executable file is: ./example\n",
    "There are 2 additional arguments\n",
    "1) abc\n",
    "2) 123\n",
    "```"
   ]
  },
  {
   "cell_type": "markdown",
   "id": "acea54a7-c676-4d78-a98b-1a77c7042567",
   "metadata": {
    "editable": true,
    "slideshow": {
     "slide_type": "skip"
    },
    "tags": [
     "blank"
    ]
   },
   "source": [
    "<div style=\"height:12em;\"></div>"
   ]
  },
  {
   "cell_type": "markdown",
   "id": "d18bc24a-6feb-4de5-b63a-76c3f5ec20e8",
   "metadata": {
    "editable": true,
    "slideshow": {
     "slide_type": ""
    },
    "tags": [
     "question"
    ]
   },
   "source": [
    "Q4: _Write a program that takes a string as a command line argument and prints the string backwards._"
   ]
  },
  {
   "cell_type": "code",
   "execution_count": null,
   "id": "84a6f16d-af49-4bf0-87ba-3398779d0981",
   "metadata": {
    "editable": true,
    "slideshow": {
     "slide_type": "skip"
    },
    "tags": [
     "answer"
    ]
   },
   "outputs": [],
   "source": [
    "#include <stdio.h>\n",
    "#include <string.h>\n",
    "int main(int argc, char *argv[]) {\n",
    "    for (int i = strlen(argv[1]); i >= 0; i--) {\n",
    "        printf(\"%c\", argv[1][i]);\n",
    "    }\n",
    "    printf(\"\\n\");\n",
    "}"
   ]
  },
  {
   "cell_type": "markdown",
   "id": "509e47e7-62c2-4bb9-b192-e868f9cf9e42",
   "metadata": {
    "editable": true,
    "slideshow": {
     "slide_type": "skip"
    },
    "tags": [
     "blank"
    ]
   },
   "source": [
    "<div style=\"height:15em;\"></div>"
   ]
  },
  {
   "cell_type": "markdown",
   "id": "be682aa0-57bf-4aeb-a590-7a4898beec5b",
   "metadata": {
    "editable": true,
    "slideshow": {
     "slide_type": ""
    },
    "tags": [
     "question"
    ]
   },
   "source": [
    "Q5: _Write a program that takes two numbers as command line arguments and outputs their sum._"
   ]
  },
  {
   "cell_type": "code",
   "execution_count": null,
   "id": "c7fccf42-6244-45a7-afd9-a4922909b0f8",
   "metadata": {
    "editable": true,
    "slideshow": {
     "slide_type": "skip"
    },
    "tags": [
     "answer"
    ]
   },
   "outputs": [],
   "source": [
    "#include <stdio.h>\n",
    "#include <stdlib.h>\n",
    "int main(int argc, char *argv[]) {\n",
    "    int num1 = atoi(argv[1]);\n",
    "    int num2 = atoi(argv[2]);\n",
    "    printf(\"%d\\n\", num1 + num2);\n",
    "}"
   ]
  },
  {
   "cell_type": "markdown",
   "id": "ec8ddd34-56ef-4e20-bea2-ab559a0deea1",
   "metadata": {
    "editable": true,
    "slideshow": {
     "slide_type": "skip"
    },
    "tags": [
     "blank"
    ]
   },
   "source": [
    "<div style=\"height:15em;\"></div>"
   ]
  },
  {
   "cell_type": "markdown",
   "id": "bb9438d2-11be-447e-8d41-f0da06acb0e5",
   "metadata": {
    "editable": true,
    "slideshow": {
     "slide_type": "slide"
    },
    "tags": []
   },
   "source": [
    "Q6: _The following program should take a word as a command line argument and print the word's length and whether it is a palindrome (i.e., reads the same backward as forward). For example, if the user provides the command line argument `\"kayak\"`, the program should output `\"The word is 5 characters long and is a palindrome.\"` However, the program contains several errors. Modify the program to correct the errors._"
   ]
  },
  {
   "cell_type": "code",
   "execution_count": null,
   "id": "5e904271-5996-4e3c-85fd-8afe3c7639d4",
   "metadata": {
    "editable": true,
    "slideshow": {
     "slide_type": "subslide"
    },
    "tags": [
     "question"
    ]
   },
   "outputs": [],
   "source": [
    "#include <stdio.h>\n",
    "\n",
    "void palindrome(char word[]) {\n",
    "    int i = 0;\n",
    "    int j = strlen(word);\n",
    "    while (i < j) {\n",
    "        if (word[i] != word[j]) {\n",
    "            return -1;\n",
    "        }\n",
    "        i++;\n",
    "        j--;\n",
    "    }\n",
    "    return 1;\n",
    "}\n",
    "\n",
    "int main(int argc, char *argv[]) {\n",
    "    argv[1][strlen(argv[1])-1] = '\\0'; // Remove newline\n",
    "    int len = strlen(argv[1]);\n",
    "    printf(\"The word is %c characters long and is \", len);\n",
    "    if (palindrome(argv[1])) {\n",
    "        printf(\"a palindrome.\\n\");\n",
    "    } else {\n",
    "        printf(\"not a palindrome.\\n\");\n",
    "    }\n",
    "}"
   ]
  },
  {
   "cell_type": "markdown",
   "id": "08fe369a-1031-4c4f-a1ac-3a572e952b07",
   "metadata": {
    "editable": true,
    "slideshow": {
     "slide_type": "skip"
    },
    "tags": [
     "answer"
    ]
   },
   "source": [
    "* `#include <string.h>`\n",
    "* Change return type of `palindrome` to `int`\n",
    "* Initialize `j` to `strlen(word) - 1`\n",
    "* Change `return -1` to `return 0`\n",
    "* Change `%c` in 2nd `printf` in `main` to `%d`"
   ]
  }
 ],
 "metadata": {
  "kernelspec": {
   "display_name": "C",
   "language": "c",
   "name": "c"
  },
  "language_info": {
   "file_extension": ".c",
   "mimetype": "text/plain",
   "name": "c"
  }
 },
 "nbformat": 4,
 "nbformat_minor": 5
}
