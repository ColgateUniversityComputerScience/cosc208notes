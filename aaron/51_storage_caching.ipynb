{
 "cells": [
  {
   "cell_type": "markdown",
   "id": "d4c0cf7a-6741-41de-924b-477e6ac8b4e3",
   "metadata": {
    "editable": true,
    "slideshow": {
     "slide_type": "skip"
    },
    "tags": []
   },
   "source": [
    "# Storage: caching; loop optimization\n",
    "_COSC 208, Introduction to Computer Systems, Fall 2024_"
   ]
  },
  {
   "cell_type": "markdown",
   "id": "e009757e-91a3-4118-b100-c30f8cc3bda5",
   "metadata": {
    "editable": true,
    "slideshow": {
     "slide_type": ""
    },
    "tags": []
   },
   "source": [
    "## Caching"
   ]
  },
  {
   "cell_type": "markdown",
   "id": "ad4afe2d-40cf-4454-b3b0-3d285b42befe",
   "metadata": {
    "editable": true,
    "slideshow": {
     "slide_type": "skip"
    },
    "tags": [
     "notes-only"
    ]
   },
   "source": [
    "* _Why do we have caches on the CPU?_ — accessing main memory is ~100x slower than accessing a register\n",
    "* Store instructions and data (stack, heap, etc.) from main memory\n",
    "* Three levels — L1, L2, and L3\n",
    "* Range in size from a few KB to a few MB – L1 is smallest and fastest; L3 is largest and slowest\n",
    "* Cache line (i.e., cache entry) is typically larger than a word — e.g., 128 bytes\n",
    "    * _Why?_ — spatial locality\n",
    "* What happens when we write to memory?\n",
    "    * Write through cache — write to the cache and main memory\n",
    "    * Write back cache — initially write to the cache; write to main memory when the entry is evicted from the cache\n",
    "    * What are the advantages of each approach?\n",
    "        * Write through cache ensures consistency between CPU cores\n",
    "        * Write back cache only incurs the overhead of accessing main memory when absolutely necessary\n",
    "* Caches are also used in many other places in computer systems – e.g., web browser cache, content distribution network (CDN)"
   ]
  },
  {
   "cell_type": "markdown",
   "id": "d6e19a33-d0c6-4d0a-97c4-bda289ef7696",
   "metadata": {
    "editable": true,
    "slideshow": {
     "slide_type": ""
    },
    "tags": [
     "question"
    ]
   },
   "source": [
    "Q1: _For each of the following instances of caching, indicate whether the caching is motivated by temporal or spatial locality._"
   ]
  },
  {
   "cell_type": "markdown",
   "id": "d57dbc0d-2e87-4dd6-8288-8ea99d427117",
   "metadata": {
    "editable": true,
    "slideshow": {
     "slide_type": "skip"
    },
    "tags": [
     "answer"
    ]
   },
   "source": [
    "* A CPU caches the first 32 instructions of a function when the function is called – spatial\n",
    "* A CPU caches all of the instructions for a frequently called function – temporal\n",
    "* A web browser caches the Moodle pages for your courses, which you view multiple times per week – temporal\n",
    "* A content distribution network (CDN) caches a video that has gone viral – temporal\n",
    "* A content distribution network (CDN) caches \"recommended videos\" related to a video – spatial"
   ]
  },
  {
   "cell_type": "markdown",
   "id": "b57d0166-fdec-45d8-b0a6-5d00fb37f38b",
   "metadata": {
    "editable": true,
    "slideshow": {
     "slide_type": ""
    },
    "tags": [
     "blank"
    ]
   },
   "source": [
    "* A CPU caches the first 32 instructions of a function when the function is called\n",
    "* A CPU caches all of the instructions for a frequently called function\n",
    "* A web browser caches the Moodle pages for your courses, which you view multiple times per week\n",
    "* A content distribution network (CDN) caches a video that has gone viral\n",
    "* A content distribution network (CDN) caches \"recommended videos\" related to a video"
   ]
  },
  {
   "cell_type": "markdown",
   "id": "14b499fe-b447-444a-a220-26789f23ecbe",
   "metadata": {
    "editable": true,
    "slideshow": {
     "slide_type": "skip"
    },
    "tags": [
     "blank"
    ]
   },
   "source": [
    "<p style=\"height:5em;\"></p>"
   ]
  },
  {
   "cell_type": "markdown",
   "id": "3ec442a8-3a95-49d1-b562-0fc0f55a92ec",
   "metadata": {
    "editable": true,
    "slideshow": {
     "slide_type": "slide"
    },
    "tags": []
   },
   "source": [
    "## Cache replacement"
   ]
  },
  {
   "cell_type": "markdown",
   "id": "1501ba0a-a7fd-402c-b39d-8b672dc31335",
   "metadata": {
    "editable": true,
    "slideshow": {
     "slide_type": "skip"
    },
    "tags": [
     "notes-only"
    ]
   },
   "source": [
    "* If a cache is full, then a cache entry must be removed so different data can be placed in the cache\n",
    "* Cache replacement policy governs which data is removed\n",
    "* _What should a good cache replacement policy do?_ — maximize the number of cache hits (or minimize the number of cache misses)\n",
    "    * Evaluation metric: Hit ratio = number of hits / total number of memory accesses\n",
    "* _How do we determine which cache entry to replace?_\n",
    "* First-in First-out (FIFO)\n",
    "    * Simple to implement\n",
    "    * Doesn’t consider the importance of a cache entry\n",
    "* Optimal replacement policy – replace the entry that will be accessed furthest in the future\n",
    "    * Impractical because we don’t know data access patterns a priori\n",
    "* Least Recently Used (LRU)\n",
    "    * LRU assumes an item that was accessed recently will be accessed again soon – temporal locality\n",
    "    * Downside: lots of overhead to implement — need to store an ordered list of items and move an item up in the list whenever it’s accessed\n",
    "    * Where does this go wrong? — when working-set size (i.e., number of repeatedly accessed entries) is (slightly) greater than size of the cache"
   ]
  },
  {
   "cell_type": "markdown",
   "id": "068a9301-784a-406e-b0ee-b7632b32f678",
   "metadata": {
    "editable": true,
    "slideshow": {
     "slide_type": ""
    },
    "tags": [
     "question"
    ]
   },
   "source": [
    "Assume a cache can hold 3 entries and the following 15 data accesses occur: \n",
    "```\n",
    "3, 4, 4, 5, 3, 2, 3, 4, 1, 4, 4, 2, 5, 2, 4\n",
    "```\n",
    "Q2: _What is the sequence of hits, insertions, and replacements that occur when an **optimal** cache replacement algorithm is used?_"
   ]
  },
  {
   "cell_type": "markdown",
   "id": "0e9e3642-6baf-4c3a-b9d6-fcd50f4d56ef",
   "metadata": {
    "editable": true,
    "slideshow": {
     "slide_type": "skip"
    },
    "tags": [
     "answer"
    ]
   },
   "source": [
    "```\n",
    "+3, +4, H4, +5, H3, -5/+2, H3, H4, -3/+1, H4, H4, H2, -1/+5, H2, H4\n",
    "Hit ratio = 9/15 = 60%\n",
    "```"
   ]
  },
  {
   "cell_type": "markdown",
   "id": "816f71ca-d323-4ce5-aeea-6917be89161e",
   "metadata": {
    "editable": true,
    "slideshow": {
     "slide_type": "skip"
    },
    "tags": [
     "blank"
    ]
   },
   "source": [
    "<p style=\"height:8em;\"></p>"
   ]
  },
  {
   "cell_type": "markdown",
   "id": "78b31e3b-ca1a-40c6-a24a-9cea0eeefe75",
   "metadata": {
    "editable": true,
    "slideshow": {
     "slide_type": ""
    },
    "tags": [
     "question"
    ]
   },
   "source": [
    "Q3: _What is the sequence of hits, insertions, and replacements that occur when a **least recently used (LRU)** cache replacement algorithm is used?_"
   ]
  },
  {
   "cell_type": "markdown",
   "id": "362534a7-8020-44eb-8c50-97984f77a4b9",
   "metadata": {
    "editable": true,
    "slideshow": {
     "slide_type": "skip"
    },
    "tags": [
     "answer"
    ]
   },
   "source": [
    "```\n",
    "+3, +4, H4, +5, H3, -4/+2, H3, -5/+4, -2/+1, H4, H4, -3/+2, -1/+5, H2, H4\n",
    "Hit ratio = 7/15 = 47%\n",
    "```"
   ]
  },
  {
   "cell_type": "markdown",
   "id": "39617d76-7a18-4d18-af53-328cda8a39ea",
   "metadata": {
    "editable": true,
    "slideshow": {
     "slide_type": "skip"
    },
    "tags": [
     "blank"
    ]
   },
   "source": [
    "<p style=\"height:8em;\"></p>"
   ]
  },
  {
   "cell_type": "markdown",
   "id": "781683ee-4fef-4a75-bdef-ffe821635bc7",
   "metadata": {
    "editable": true,
    "slideshow": {
     "slide_type": ""
    },
    "tags": [
     "question"
    ]
   },
   "source": [
    "Q4: _What is the sequence of hits, insertions, and replacements that occur when a **first in first out (FIFO)** cache replacement algorithm is used?_"
   ]
  },
  {
   "cell_type": "markdown",
   "id": "a56d2ece-52c3-4361-acc4-956c6efb15d1",
   "metadata": {
    "editable": true,
    "slideshow": {
     "slide_type": "skip"
    },
    "tags": [
     "answer"
    ]
   },
   "source": [
    "```\n",
    "+3, +4, H4, +5, H3, -3/+2, -4/+3, -5/+4, -2/+1, H4, H4, -3/+2, -4/+5, H2, -1/+4\n",
    "Hit ratio = 5/15 = 33%\n",
    "```"
   ]
  },
  {
   "cell_type": "markdown",
   "id": "b8028cdc-17bd-48a1-b056-2169a410ebbd",
   "metadata": {
    "editable": true,
    "slideshow": {
     "slide_type": "skip"
    },
    "tags": [
     "blank"
    ]
   },
   "source": [
    "<p style=\"height:8em;\"></p>"
   ]
  },
  {
   "cell_type": "markdown",
   "id": "b39d85e0-3a52-46d4-bd6d-3ec6d4a1ea40",
   "metadata": {
    "editable": true,
    "slideshow": {
     "slide_type": "subslide"
    },
    "tags": []
   },
   "source": [
    "Assume a cache can hold 3 entries and the following 12 data accesses occur: \n",
    "```\n",
    "2, 4, 1, 2, 4, 3, 2, 4, 1, 2, 4, 1\n",
    "```\n",
    "Q5: _What is the sequence of hits, insertions, and replacements that occur when an **optimal** cache replacement algorithm is used?_"
   ]
  },
  {
   "cell_type": "markdown",
   "id": "2225a566-9a33-4b3b-a6da-74e292eaac45",
   "metadata": {
    "editable": true,
    "slideshow": {
     "slide_type": "skip"
    },
    "tags": [
     "notes-only"
    ]
   },
   "source": [
    "```\n",
    "+2, +4, +1, H2, H4, -1/+3, H2, H4, -3/+1, H2, H4, H1\n",
    "```"
   ]
  },
  {
   "cell_type": "markdown",
   "id": "95bed20d-0b3b-4fe6-b2a2-02c51f5f80f8",
   "metadata": {
    "editable": true,
    "slideshow": {
     "slide_type": "skip"
    },
    "tags": [
     "blank"
    ]
   },
   "source": [
    "<p style=\"height:8em;\"></p>"
   ]
  },
  {
   "cell_type": "markdown",
   "id": "079f4093-7e00-4b96-8ac3-fcce081e1c07",
   "metadata": {
    "editable": true,
    "slideshow": {
     "slide_type": ""
    },
    "tags": []
   },
   "source": [
    "Q6: _What is the sequence of hits, insertions, and replacements that occur when a **least recently used (LRU)** cache replacement algorithm is used?_"
   ]
  },
  {
   "cell_type": "markdown",
   "id": "4807c2d3-486a-4aeb-8380-de199d2d3c5b",
   "metadata": {
    "editable": true,
    "slideshow": {
     "slide_type": "skip"
    },
    "tags": [
     "notes-only"
    ]
   },
   "source": [
    "```\n",
    "+2, +4, +1, H2, H4, -1/+3, H2, H4, -3/+1, H2, H4, H1\n",
    "```"
   ]
  },
  {
   "cell_type": "markdown",
   "id": "2f2ddbc1-e90d-465d-8fff-3d2cbefbb20d",
   "metadata": {
    "editable": true,
    "slideshow": {
     "slide_type": "skip"
    },
    "tags": [
     "blank"
    ]
   },
   "source": [
    "<p style=\"height:8em;\"></p>"
   ]
  },
  {
   "cell_type": "markdown",
   "id": "b09eb465-42f6-4d46-8c66-b163a3035af1",
   "metadata": {
    "editable": true,
    "slideshow": {
     "slide_type": "slide"
    },
    "tags": []
   },
   "source": [
    "## Loop optimization"
   ]
  },
  {
   "cell_type": "markdown",
   "id": "d3d5a12e-ba5d-41e2-a7be-f182f42cc6b7",
   "metadata": {
    "editable": true,
    "slideshow": {
     "slide_type": "skip"
    },
    "tags": []
   },
   "source": [
    "_Example_"
   ]
  },
  {
   "cell_type": "code",
   "execution_count": 1,
   "id": "028f380d-938f-49f8-8fd0-962fe64f69ba",
   "metadata": {
    "editable": true,
    "slideshow": {
     "slide_type": ""
    },
    "tags": [
     "worksheet-code-only"
    ]
   },
   "outputs": [
    {
     "name": "stdout",
     "output_type": "stream",
     "text": [
      "66\n"
     ]
    }
   ],
   "source": [
    "#include <stdlib.h>\n",
    "#include <stdio.h>\n",
    "#define LEN 12\n",
    "int main() {\n",
    "    int *array = malloc(sizeof(int) * LEN);\n",
    "\n",
    "    for (int i = 0; i < LEN; i++) {\n",
    "        array[i] = i;\n",
    "    }\n",
    "    \n",
    "    int sum = 0;\n",
    "    for (int j = 0; j < 4; j++) {\n",
    "        for (int k = 0; k < LEN; k += 4) {\n",
    "            sum += array[j+k];\n",
    "        }\n",
    "    }\n",
    "    printf(\"%d\\n\", sum);\n",
    "}"
   ]
  },
  {
   "cell_type": "markdown",
   "id": "dcf7c7d3-9249-4108-82c2-b77ca108a9e1",
   "metadata": {
    "editable": true,
    "slideshow": {
     "slide_type": "skip"
    },
    "tags": [
     "notes-only"
    ]
   },
   "source": [
    "* _Assume the values of all local variables are stored in registers (**not** the stack) and the value of `array` is `0x400`. What is the sequence of memory addresses that are accessed?_\n",
    "    * First for loop: `0x400`, `0x404`, `0x408`, `0x40c`, `0x410`, `0x414`, `0x418`, `0x41c`, `0x420`, `0x424`, `0x428`, `0x42c`\n",
    "    * Second for loop: `0x400`, `0x410`, `0x420`, `0x404`, `0x414`, `0x424`, `0x408`, `0x418`, `0x428`, `0x40c`, `0x41c`, `0x42c`, \n",
    "    * Notice that the first for loop accesses memory addresses in order, whereas the second for loop accesses addresses out of order\n",
    "* _Now assume the system uses a cache that holds 2 entries which are each 16 bytes large. What is the sequence of hits and misses using a least recently used (LRU) replacement policy?_\n",
    "    * First for loop: Miss (+0x4000), Hit, Hit, Hit, Miss (+0x4010), Hit, Hit, Hit, Miss (-0x4000/+0x4020), Hit, Hit, Hit\n",
    "    * Second for loop: Miss (-0x4010/+0x4000), Miss (-0x4020/+0x4010), Miss (-0x4000/+0x4020), Miss (-0x4010/+0x4000), Miss (-0x4020/+0x4010), Miss (-0x4000/+0x4020), Miss (-0x4010/+0x4000), Miss (-0x4020/+0x4010), Miss (-0x4000/+0x4020), Miss (-0x4010/+0x4000), Miss (-0x4020/+0x4010), Miss (-0x4000/+0x4020)\n",
    "    * Notice that the first for loop has three hits after each miss, whereas the second for loop is all misses\n",
    "* _How could we modify the code to achieve a higher hit ratio?_ – loop interchange, i.e., swap inner and outer loops"
   ]
  },
  {
   "cell_type": "code",
   "execution_count": 2,
   "id": "4a640b06-b48f-47a0-86c0-5995f4cc42c4",
   "metadata": {
    "editable": true,
    "slideshow": {
     "slide_type": "skip"
    },
    "tags": [
     "notes-only"
    ]
   },
   "outputs": [
    {
     "name": "stdout",
     "output_type": "stream",
     "text": [
      "66\n"
     ]
    }
   ],
   "source": [
    "#include <stdlib.h>\n",
    "#include <stdio.h>\n",
    "#define LEN 12\n",
    "int main() {\n",
    "    int *array = malloc(sizeof(int) * LEN);\n",
    "\n",
    "    for (int i = 0; i < LEN; i++) {\n",
    "        array[i] = i;\n",
    "    }\n",
    "    \n",
    "    int sum = 0;\n",
    "    for (int k = 0; k < LEN; k += 4) {\n",
    "        for (int j = 0; j < 4; j++) {\n",
    "            sum += array[j+k];\n",
    "        }\n",
    "    }\n",
    "    printf(\"%d\\n\", sum);\n",
    "}"
   ]
  },
  {
   "cell_type": "markdown",
   "id": "6b0ed032-6b40-4f4d-9cc2-58d35673a472",
   "metadata": {
    "editable": true,
    "slideshow": {
     "slide_type": "skip"
    },
    "tags": [
     "notes-only"
    ]
   },
   "source": [
    "* Loop fusion — combine two loops at the same level into a single loop"
   ]
  },
  {
   "cell_type": "markdown",
   "id": "97272268-b67f-419b-99d1-2fa49ccf6113",
   "metadata": {
    "editable": true,
    "slideshow": {
     "slide_type": "skip"
    },
    "tags": [
     "blank"
    ]
   },
   "source": [
    "<p style=\"height:9em;\"></p>"
   ]
  },
  {
   "cell_type": "markdown",
   "id": "f8156a71-f0b1-4952-8105-af1a47a64953",
   "metadata": {
    "editable": true,
    "slideshow": {
     "slide_type": "subslide"
    },
    "tags": [
     "question"
    ]
   },
   "source": [
    "Q7: _Should loop interchange, loop fusion, neither, or both be applied to this code?_"
   ]
  },
  {
   "cell_type": "code",
   "execution_count": null,
   "id": "222b0eb0-af2b-40cb-88ee-da7e7d949fff",
   "metadata": {
    "editable": true,
    "slideshow": {
     "slide_type": ""
    },
    "tags": [
     "question"
    ]
   },
   "outputs": [],
   "source": [
    "void hundreds() {\n",
    "    int *nums = malloc(sizeof(int) * 1000);\n",
    "    for (int i = 0; i < 1000; i+= 100) {\n",
    "        for (int j = 0; j < 100; j++) {\n",
    "            nums[i+j] = i;\n",
    "        }\n",
    "    }\n",
    "}"
   ]
  },
  {
   "cell_type": "markdown",
   "id": "6e452307-b124-4d29-ac62-70e23bf8e6f4",
   "metadata": {
    "editable": true,
    "slideshow": {
     "slide_type": "skip"
    },
    "tags": [
     "notes-only"
    ]
   },
   "source": [
    "Neither – loop interchange would reduce the ability to leverage spatial locality; there are not loops to fuse"
   ]
  },
  {
   "cell_type": "markdown",
   "id": "51156ac3-b677-4889-ae82-70c1cff68d3f",
   "metadata": {
    "editable": true,
    "slideshow": {
     "slide_type": "skip"
    },
    "tags": [
     "blank"
    ]
   },
   "source": [
    "<p style=\"height:2em;\"></p>"
   ]
  },
  {
   "cell_type": "markdown",
   "id": "5a299a4d-06b6-45ad-913e-7a42e47bde82",
   "metadata": {
    "editable": true,
    "slideshow": {
     "slide_type": "subslide"
    },
    "tags": [
     "question"
    ]
   },
   "source": [
    "Q8: _Should loop interchange, loop fusion, neither, or both be applied to this code?_"
   ]
  },
  {
   "cell_type": "code",
   "execution_count": null,
   "id": "5026a468-ae12-45c6-b089-146ed20dcc0e",
   "metadata": {
    "editable": true,
    "slideshow": {
     "slide_type": ""
    },
    "tags": [
     "question"
    ]
   },
   "outputs": [],
   "source": [
    "void multiplication(int grid[][], int rows, int cols) {\n",
    "    for (int c = 0; c < cols; c++) {\n",
    "        for (int r = 0; r < rows; r++) {\n",
    "            grid[r][c] = c * r;\n",
    "        }\n",
    "    }\n",
    "}"
   ]
  },
  {
   "cell_type": "markdown",
   "id": "031335d0-40e7-408e-a9bc-e2465f6eea75",
   "metadata": {
    "editable": true,
    "slideshow": {
     "slide_type": "skip"
    },
    "tags": [
     "notes-only"
    ]
   },
   "source": [
    "Loop interchange will better leverage spatial locality; there are no loops to fuse"
   ]
  },
  {
   "cell_type": "markdown",
   "id": "185da1dc-9885-4a80-b34d-b4270439b663",
   "metadata": {
    "editable": true,
    "slideshow": {
     "slide_type": "skip"
    },
    "tags": [
     "worksheet-only"
    ]
   },
   "source": [
    "<p style=\"height:2em;\"></p>"
   ]
  },
  {
   "cell_type": "markdown",
   "id": "02be847b-3e77-4387-825f-df8694fe7a73",
   "metadata": {
    "editable": true,
    "slideshow": {
     "slide_type": "subslide"
    },
    "tags": [
     "question"
    ]
   },
   "source": [
    "Q9: _Should loop interchange, loop fusion, neither, or both be applied to this code?_"
   ]
  },
  {
   "cell_type": "code",
   "execution_count": null,
   "id": "51166694-9eb8-44da-9a1f-8e37549e7c3e",
   "metadata": {
    "editable": true,
    "slideshow": {
     "slide_type": ""
    },
    "tags": [
     "question"
    ]
   },
   "outputs": [],
   "source": [
    "int odds(int *nums, int length) {\n",
    "    for (int i = 0; i < length; i++) {\n",
    "        nums[i] = nums[i] % 2;\n",
    "    }\n",
    "    int count = 0;\n",
    "    for (int j = 0; j < length; j++) {\n",
    "        count += nums[j];\n",
    "    }\n",
    "    return count;\n",
    "}"
   ]
  },
  {
   "cell_type": "markdown",
   "id": "2900899f-273f-4d10-af46-f4eb14141676",
   "metadata": {
    "editable": true,
    "slideshow": {
     "slide_type": "skip"
    },
    "tags": [
     "notes-only"
    ]
   },
   "source": [
    "Loop fusion will better leverage temporal locality; there are no loops to interchange"
   ]
  },
  {
   "cell_type": "markdown",
   "id": "a197d1df-26e1-4cb8-8a74-8d20607708f4",
   "metadata": {
    "editable": true,
    "slideshow": {
     "slide_type": "skip"
    },
    "tags": [
     "worksheet-only"
    ]
   },
   "source": [
    "<p style=\"height:20em;\"></p>"
   ]
  },
  {
   "cell_type": "markdown",
   "id": "961f1c19-fe8b-406f-8b72-be7f36a61e99",
   "metadata": {
    "editable": true,
    "slideshow": {
     "slide_type": "subslide"
    },
    "tags": []
   },
   "source": [
    "Q10: _Should loop interchange, loop fusion, neither, or both be applied to this code?_"
   ]
  },
  {
   "cell_type": "code",
   "execution_count": null,
   "id": "d47b433c-e9d6-432b-9cc8-b04d7b4aee48",
   "metadata": {
    "editable": true,
    "slideshow": {
     "slide_type": ""
    },
    "tags": []
   },
   "outputs": [],
   "source": [
    "long stdev(int *nums, int length) {\n",
    "    long sum = 0;\n",
    "    for (int i = 0; i < length; i++) {\n",
    "        sum += nums[i];\n",
    "    }\n",
    "    int mean = sum / length;\n",
    "    sum = 0;\n",
    "    for (int j = 0; j < length; j++) {\n",
    "        int diff = nums[j] - mean;\n",
    "        sum += diff * diff:\n",
    "    }\n",
    "    mean = sum / length;\n",
    "    return sqrt(mean);\n",
    "}"
   ]
  },
  {
   "cell_type": "markdown",
   "id": "351d65f8-90eb-4762-9d7e-29a1328f96dc",
   "metadata": {
    "editable": true,
    "slideshow": {
     "slide_type": "skip"
    },
    "tags": [
     "notes-only"
    ]
   },
   "source": [
    "Neither — there are no loops to interchange; the loops cannot be fused, because the second loop depends on the result of the first loop"
   ]
  },
  {
   "cell_type": "markdown",
   "id": "7800b261-197a-4293-9faf-926948e2e8bf",
   "metadata": {
    "editable": true,
    "slideshow": {
     "slide_type": "skip"
    },
    "tags": [
     "worksheet-only"
    ]
   },
   "source": [
    "<p style=\"height:2em;\"></p>"
   ]
  }
 ],
 "metadata": {
  "kernelspec": {
   "display_name": "C",
   "language": "c",
   "name": "c"
  },
  "language_info": {
   "file_extension": ".c",
   "mimetype": "text/plain",
   "name": "c"
  }
 },
 "nbformat": 4,
 "nbformat_minor": 5
}
