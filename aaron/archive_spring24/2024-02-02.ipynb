{
 "cells": [
  {
   "cell_type": "markdown",
   "id": "2d19966c-5c00-4945-bcbb-856b672d5eb4",
   "metadata": {
    "slideshow": {
     "slide_type": "skip"
    },
    "tags": []
   },
   "source": [
    "# Number representation: base conversion; signed integers\n",
    "_COSC 208, Introduction to Computer Systems, 2024-02-02_"
   ]
  },
  {
   "cell_type": "markdown",
   "id": "40f1ede4-fe5f-4ba6-bc8f-e945df5e4ebe",
   "metadata": {
    "slideshow": {
     "slide_type": "skip"
    },
    "tags": []
   },
   "source": [
    "## Outline\n",
    "* Warm-up\n",
    "* Hexadecimal\n",
    "* Binary <-> hex conversion\n",
    "* Decimal -> binary conversion\n",
    "* Signed integers"
   ]
  },
  {
   "cell_type": "markdown",
   "id": "135769b6-c24b-436d-8792-6e350377b85a",
   "metadata": {},
   "source": [
    "## Warm-up (Q3-Q6 from last class)"
   ]
  },
  {
   "cell_type": "markdown",
   "id": "821bccde-0366-4974-9e0b-9a35b13b5a13",
   "metadata": {},
   "source": [
    "_Convert the following binary numbers to decimal (i.e., base 10):_"
   ]
  },
  {
   "cell_type": "markdown",
   "id": "ee7f8ad1-0abe-49be-a22b-26fdd038841f",
   "metadata": {
    "tags": []
   },
   "source": [
    "* Q1: `0b11`"
   ]
  },
  {
   "cell_type": "markdown",
   "id": "cb3418b3-c3bf-4d71-9642-2145d006c1bc",
   "metadata": {
    "slideshow": {
     "slide_type": "skip"
    },
    "tags": [
     "notes-only"
    ]
   },
   "source": [
    "    1 * 2^1 + 1 * 2^0 = 2 + 1 = 3"
   ]
  },
  {
   "cell_type": "markdown",
   "id": "e8acb3d1-daf0-49ca-9f95-9f2e74c20de3",
   "metadata": {
    "slideshow": {
     "slide_type": "skip"
    },
    "tags": [
     "worksheet-only"
    ]
   },
   "source": [
    "<p style=\"height:4em;\"></p>"
   ]
  },
  {
   "cell_type": "markdown",
   "id": "3032fff8-2335-4cbd-94a8-240961bf269e",
   "metadata": {
    "tags": []
   },
   "source": [
    "* Q2: `0b1010`"
   ]
  },
  {
   "cell_type": "markdown",
   "id": "af240dc3-a924-426e-9505-ddf277a92ec9",
   "metadata": {
    "slideshow": {
     "slide_type": "skip"
    },
    "tags": [
     "notes-only"
    ]
   },
   "source": [
    "    1 * 2^3 + 0 * 2^2 + 1 * 2^1 + 0 * 2^0 = 8 + 2 = 10"
   ]
  },
  {
   "cell_type": "markdown",
   "id": "2c42c235-3e07-47e2-af2d-272b3dbb872d",
   "metadata": {
    "slideshow": {
     "slide_type": "skip"
    },
    "tags": [
     "worksheet-only"
    ]
   },
   "source": [
    "<p style=\"height:4em;\"></p>"
   ]
  },
  {
   "cell_type": "markdown",
   "id": "ea77a9cd-d79f-43fc-a965-f303617c93dd",
   "metadata": {
    "tags": []
   },
   "source": [
    "* Q3: `0b1111`"
   ]
  },
  {
   "cell_type": "markdown",
   "id": "2ff48512-577b-4edd-b203-a100f76c4f95",
   "metadata": {
    "slideshow": {
     "slide_type": "skip"
    },
    "tags": [
     "notes-only"
    ]
   },
   "source": [
    "    1 * 2^3 + 1 * 2^2 + 1 * 2^1 + 1 * 2^0 = 8 + 4 + 2 + 1 = 15"
   ]
  },
  {
   "cell_type": "markdown",
   "id": "4cb06a1f-9c9b-4ff2-9382-310e8a58def1",
   "metadata": {
    "slideshow": {
     "slide_type": "skip"
    },
    "tags": [
     "worksheet-only"
    ]
   },
   "source": [
    "<p style=\"height:4em;\"></p>"
   ]
  },
  {
   "cell_type": "markdown",
   "id": "ecd96c42-9757-4001-8138-676640daa2ca",
   "metadata": {
    "tags": []
   },
   "source": [
    "* Q4: `0b11001100`"
   ]
  },
  {
   "cell_type": "markdown",
   "id": "85413f6d-c97a-412a-967b-8cf07702f76b",
   "metadata": {
    "slideshow": {
     "slide_type": "skip"
    },
    "tags": [
     "notes-only"
    ]
   },
   "source": [
    "    1 * 2^7 + 1 * 2^6 + 0 * 2^5 + 0 * 2^4 + 1 * 2^3 + 1 * 2^2 + 0 * 2^1 + 0 * 2^0 = 128 + 64 + 8 + 4 = 204"
   ]
  },
  {
   "cell_type": "markdown",
   "id": "d0bcbdd9-2dfe-4983-9df5-2a4e3370fe9c",
   "metadata": {
    "slideshow": {
     "slide_type": "skip"
    },
    "tags": [
     "worksheet-only"
    ]
   },
   "source": [
    "<p style=\"height:4em;\"></p>\n",
    "\n",
    "🛑 **STOP here** after completing the above questions; if you have extra time please **skip ahead** to the extra practice."
   ]
  },
  {
   "cell_type": "markdown",
   "id": "7b6e7e22-f231-472f-9eea-1ca6e85663db",
   "metadata": {
    "slideshow": {
     "slide_type": "slide"
    },
    "tags": []
   },
   "source": [
    "## Hexadecimal (i.e., base 16)"
   ]
  },
  {
   "cell_type": "markdown",
   "id": "a7539385-c31a-42e0-aec4-307d21930c68",
   "metadata": {
    "jp-MarkdownHeadingCollapsed": true,
    "slideshow": {
     "slide_type": "skip"
    },
    "tags": [
     "notes-only"
    ]
   },
   "source": [
    "* _How many values can be represented with one hexadecimal digit?_ - 16\n",
    "* _How do you count to 13 in hexadecimal?_ — 0, 1, 2, 3, 4, 5, 6, 7, 8, 9, A, B, C, D\n",
    "* Powers of sixteen: 16, 256, 4096"
   ]
  },
  {
   "cell_type": "markdown",
   "id": "479e75ec-6d23-4107-bb82-b137d0f29cc9",
   "metadata": {},
   "source": [
    "_Convert the following hexadecimal numbers to decimal (i.e., base 10):_"
   ]
  },
  {
   "cell_type": "markdown",
   "id": "7f58b58a-1cb6-4713-b6c9-6425e0c84f6f",
   "metadata": {},
   "source": [
    "* Q5: `0xC`"
   ]
  },
  {
   "cell_type": "markdown",
   "id": "55bfaafa-f1fd-4c98-948d-ef1572197855",
   "metadata": {
    "slideshow": {
     "slide_type": "skip"
    },
    "tags": [
     "notes-only"
    ]
   },
   "source": [
    "    12 * 16^0 = 12"
   ]
  },
  {
   "cell_type": "markdown",
   "id": "2c1f4863-39fa-42aa-a5ec-2d405a4d14ac",
   "metadata": {
    "slideshow": {
     "slide_type": "skip"
    },
    "tags": [
     "worksheet-only"
    ]
   },
   "source": [
    "<p style=\"height:4em;\"></p>"
   ]
  },
  {
   "cell_type": "markdown",
   "id": "9d9c3e8f-1730-4ea0-a006-8ec460958953",
   "metadata": {},
   "source": [
    "* Q6: `0x11`"
   ]
  },
  {
   "cell_type": "markdown",
   "id": "22d8dc5b-9421-4fff-946c-0764487eb3fd",
   "metadata": {
    "slideshow": {
     "slide_type": "skip"
    },
    "tags": [
     "notes-only"
    ]
   },
   "source": [
    "    1 * 16^1 + 1 * 16^0 = 17"
   ]
  },
  {
   "cell_type": "markdown",
   "id": "23c9dc7b-76b7-496b-a4fc-6d8107a0c63c",
   "metadata": {
    "slideshow": {
     "slide_type": "skip"
    },
    "tags": [
     "worksheet-only"
    ]
   },
   "source": [
    "<p style=\"height:4em;\"></p>"
   ]
  },
  {
   "cell_type": "markdown",
   "id": "457f5e3c-4f06-4130-b318-7f0c9bf62219",
   "metadata": {},
   "source": [
    "* Q7: `0x1F`"
   ]
  },
  {
   "cell_type": "markdown",
   "id": "e99a90d4-8db8-4926-be8d-12625a41aa02",
   "metadata": {
    "slideshow": {
     "slide_type": "skip"
    },
    "tags": [
     "notes-only"
    ]
   },
   "source": [
    "    1 * 16^1 + 15 * 16^0 = 31"
   ]
  },
  {
   "cell_type": "markdown",
   "id": "934d9b97-033d-47eb-b65a-f54d0a261798",
   "metadata": {
    "slideshow": {
     "slide_type": "skip"
    },
    "tags": [
     "worksheet-only"
    ]
   },
   "source": [
    "<p style=\"height:4em;\"></p>"
   ]
  },
  {
   "cell_type": "markdown",
   "id": "05a95855-e5a7-4e6b-9821-d9aa984a07e0",
   "metadata": {},
   "source": [
    "* Q8: `0x248`"
   ]
  },
  {
   "cell_type": "markdown",
   "id": "280088ea-667e-403e-bcbe-13d8bcc25ffa",
   "metadata": {
    "slideshow": {
     "slide_type": "skip"
    },
    "tags": [
     "notes-only"
    ]
   },
   "source": [
    "    2 * 16^2 + 4 * 16^1 + 8 * 16^0 = 512 + 64 + 8 = 584"
   ]
  },
  {
   "cell_type": "markdown",
   "id": "68438b14-f1a9-4e60-8faa-d984949af025",
   "metadata": {
    "slideshow": {
     "slide_type": "skip"
    },
    "tags": [
     "worksheet-only"
    ]
   },
   "source": [
    "<p style=\"height:6em;\"></p>\n",
    "\n",
    "🛑 **STOP here** after completing the above questions; if you have extra time please **skip ahead** to the extra practice."
   ]
  },
  {
   "cell_type": "markdown",
   "id": "902bd3a9-f0b1-4570-b852-9ba150337ca1",
   "metadata": {
    "slideshow": {
     "slide_type": "slide"
    },
    "tags": []
   },
   "source": [
    "## Binary <-> Hex Conversion"
   ]
  },
  {
   "cell_type": "markdown",
   "id": "29f88a04-df06-4482-964b-814d860d4b17",
   "metadata": {
    "slideshow": {
     "slide_type": "skip"
    },
    "tags": [
     "notes-only"
    ]
   },
   "source": [
    "* Binary -> Hex\n",
    "    * Convert each group of four bits to its corresponding hex digit\n",
    "    * If the number of binary digits is not a multiple of four pad the front of the binary number with zeros: e.g., `0b11` => `0b0011`\n",
    "* Hex -> Binary\n",
    "    * Convert each hex digit to its corresponding four bits"
   ]
  },
  {
   "cell_type": "markdown",
   "id": "7aef875e-3cbd-4f45-afdb-3ca14f466e19",
   "metadata": {
    "tags": []
   },
   "source": [
    "_Convert the following binary numbers to hexadecimal:_\n",
    "* Q9: `0b1010`"
   ]
  },
  {
   "cell_type": "markdown",
   "id": "6784b931-a187-498b-ac5a-80c850dbfb00",
   "metadata": {
    "slideshow": {
     "slide_type": "skip"
    },
    "tags": [
     "notes-only"
    ]
   },
   "source": [
    "    0xA"
   ]
  },
  {
   "cell_type": "markdown",
   "id": "24fd14d9-3572-4ab3-ba5d-26c9df59cdec",
   "metadata": {
    "slideshow": {
     "slide_type": "skip"
    },
    "tags": [
     "worksheet-only"
    ]
   },
   "source": [
    "<p style=\"height:4em;\"></p>"
   ]
  },
  {
   "cell_type": "markdown",
   "id": "eefe63ae-4e9a-4c9c-a50f-b79690fd027e",
   "metadata": {
    "tags": []
   },
   "source": [
    "* Q10: `0b11100111`"
   ]
  },
  {
   "cell_type": "markdown",
   "id": "7312189b-df0b-4be2-a1f9-cccec6d99fb1",
   "metadata": {
    "slideshow": {
     "slide_type": "skip"
    },
    "tags": [
     "notes-only"
    ]
   },
   "source": [
    "    0xE7"
   ]
  },
  {
   "cell_type": "markdown",
   "id": "beb1c5e0-d0d3-46b3-be25-07d5408ad96a",
   "metadata": {
    "slideshow": {
     "slide_type": "skip"
    },
    "tags": [
     "worksheet-only"
    ]
   },
   "source": [
    "<p style=\"height:4em;\"></p>"
   ]
  },
  {
   "cell_type": "markdown",
   "id": "3085119e-dda3-4a1b-a646-dbf3a0292f5f",
   "metadata": {
    "tags": []
   },
   "source": [
    "_Convert the following hexadecimal numbers to binary:_\n",
    "* Q11: `0xB`"
   ]
  },
  {
   "cell_type": "markdown",
   "id": "b5241346-0e48-4acf-b63f-398aafc2c904",
   "metadata": {
    "slideshow": {
     "slide_type": "skip"
    },
    "tags": [
     "notes-only"
    ]
   },
   "source": [
    "    0b1011"
   ]
  },
  {
   "cell_type": "markdown",
   "id": "670b1c7d-fe3d-4658-91ce-386d39db9d16",
   "metadata": {
    "slideshow": {
     "slide_type": "skip"
    },
    "tags": [
     "worksheet-only"
    ]
   },
   "source": [
    "<p style=\"height:4em;\"></p>"
   ]
  },
  {
   "cell_type": "markdown",
   "id": "fcacd47a-a9d1-4daa-8171-3367d0f81d5a",
   "metadata": {
    "tags": []
   },
   "source": [
    "* Q12: `0x37`"
   ]
  },
  {
   "cell_type": "markdown",
   "id": "0d2870be-5756-41df-8d01-297c6b8175ba",
   "metadata": {
    "slideshow": {
     "slide_type": "skip"
    },
    "tags": [
     "notes-only"
    ]
   },
   "source": [
    "    0b00110111"
   ]
  },
  {
   "cell_type": "markdown",
   "id": "e955945d-03a9-41fb-89c8-7d7003a50682",
   "metadata": {
    "slideshow": {
     "slide_type": "skip"
    },
    "tags": [
     "worksheet-only"
    ]
   },
   "source": [
    "<p style=\"height:4em;\"></p>\n",
    "\n",
    "🛑 **STOP here** after completing the above questions; if you have extra time please **skip ahead** to the extra practice."
   ]
  },
  {
   "cell_type": "markdown",
   "id": "e3334e23-c3e9-476e-b94c-2535c8de7a72",
   "metadata": {
    "slideshow": {
     "slide_type": "slide"
    },
    "tags": []
   },
   "source": [
    "## Decimal -> Binary Conversion"
   ]
  },
  {
   "cell_type": "markdown",
   "id": "617faf6b-dfaf-41c7-94e8-d5fd4675528a",
   "metadata": {
    "slideshow": {
     "slide_type": "skip"
    },
    "tags": [
     "notes-only"
    ]
   },
   "source": [
    "* Why do we care about converting between binary and decimal?\n",
    "    * We are used to working with decimal numbers, but computers represent numbers in binary \n",
    "    * Computers allocate a fixed number of bits for different types of variables; mathematical operations whose result exceeds the number of available bits will return unexpected results — we'll talk about overflow (and underflow) on Monday\n",
    "* Repeated division method\n",
    "    * Check if number is even or odd: even => 0, odd => 1\n",
    "    * Build binary number from right to left\n",
    "    * Divide by two, dropping the fractional part: e.g., 5/2 = 2, 1/2 = 0\n",
    "    * Repeat, until reach 0\n",
    "* Subtract powers of two method\n",
    "    * Find the largest power of 2 without going over\n",
    "    * Subtract that amount\n",
    "    * Repeat, with the remainder until reach 0"
   ]
  },
  {
   "cell_type": "markdown",
   "id": "967d040d-83c2-4132-b284-9fc1232489ae",
   "metadata": {
    "tags": []
   },
   "source": [
    "_Convert the following decimal numbers to binary:_\n",
    "* Q13: `10`"
   ]
  },
  {
   "cell_type": "markdown",
   "id": "b98169ae-37eb-4c49-bf94-bf24184b1a90",
   "metadata": {
    "slideshow": {
     "slide_type": "skip"
    },
    "tags": [
     "notes-only"
    ]
   },
   "source": [
    "    0b1010"
   ]
  },
  {
   "cell_type": "markdown",
   "id": "baaf9a62-a3e9-48d6-8a96-dbd51db267c1",
   "metadata": {
    "slideshow": {
     "slide_type": "skip"
    },
    "tags": [
     "worksheet-only"
    ]
   },
   "source": [
    "<p style=\"height:8em;\"></p>"
   ]
  },
  {
   "cell_type": "markdown",
   "id": "785468b4-0fab-492f-8528-55adb75742ce",
   "metadata": {
    "tags": []
   },
   "source": [
    "* Q14: `15`"
   ]
  },
  {
   "cell_type": "markdown",
   "id": "1b52f428-ecd3-401e-9139-5b449ccaec53",
   "metadata": {
    "slideshow": {
     "slide_type": "skip"
    },
    "tags": [
     "notes-only"
    ]
   },
   "source": [
    "    0b1111"
   ]
  },
  {
   "cell_type": "markdown",
   "id": "5e142630-b180-4687-9bf0-6ae3d774eb64",
   "metadata": {
    "slideshow": {
     "slide_type": "skip"
    },
    "tags": [
     "worksheet-only"
    ]
   },
   "source": [
    "<p style=\"height:8em;\"></p>"
   ]
  },
  {
   "cell_type": "markdown",
   "id": "46382459-98eb-4b6c-bdf0-c5ead1958673",
   "metadata": {
    "tags": []
   },
   "source": [
    "* Q15: `42`"
   ]
  },
  {
   "cell_type": "markdown",
   "id": "1acf43fe-0a5a-4b25-867b-7d06f457f28f",
   "metadata": {
    "slideshow": {
     "slide_type": "skip"
    },
    "tags": [
     "notes-only"
    ]
   },
   "source": [
    "    0b101010"
   ]
  },
  {
   "cell_type": "markdown",
   "id": "d9dc7003-7869-4137-be0d-45880b886407",
   "metadata": {
    "slideshow": {
     "slide_type": "skip"
    },
    "tags": [
     "worksheet-only"
    ]
   },
   "source": [
    "<p style=\"height:8em;\"></p>"
   ]
  },
  {
   "cell_type": "markdown",
   "id": "5c69188f-9c5f-4157-be77-6b1121fb8a68",
   "metadata": {
    "tags": []
   },
   "source": [
    "* Q16: `192`"
   ]
  },
  {
   "cell_type": "markdown",
   "id": "56d132df-47d0-4a00-96e7-cba7d453b38d",
   "metadata": {
    "slideshow": {
     "slide_type": "skip"
    },
    "tags": [
     "notes-only"
    ]
   },
   "source": [
    "    0b11000000"
   ]
  },
  {
   "cell_type": "markdown",
   "id": "b17ea3fb-8240-4642-b1d4-a33a63f73ffc",
   "metadata": {
    "slideshow": {
     "slide_type": "skip"
    },
    "tags": [
     "worksheet-only"
    ]
   },
   "source": [
    "<p style=\"height:8em;\"></p>"
   ]
  },
  {
   "cell_type": "markdown",
   "id": "faf1933a-05c1-416b-8a4d-38f4c24c9ba1",
   "metadata": {
    "slideshow": {
     "slide_type": "slide"
    },
    "tags": []
   },
   "source": [
    "## Extra practice"
   ]
  },
  {
   "cell_type": "markdown",
   "id": "e965af1e-d302-4d1f-a206-012cf15d5868",
   "metadata": {
    "tags": []
   },
   "source": [
    "* Q17: _Convert `0b101000` to decimal (i.e., base 10)._"
   ]
  },
  {
   "cell_type": "markdown",
   "id": "c52b26d2-b552-46e8-ba64-8a881a597c21",
   "metadata": {
    "slideshow": {
     "slide_type": "skip"
    },
    "tags": [
     "notes-only"
    ]
   },
   "source": [
    "    2^5 + 2^3 = 32 + 8 = 40"
   ]
  },
  {
   "cell_type": "markdown",
   "id": "a385ff1c-923f-4ae8-8de6-1ff9da3d78be",
   "metadata": {
    "slideshow": {
     "slide_type": "skip"
    },
    "tags": [
     "worksheet-only"
    ]
   },
   "source": [
    "<p style=\"height:4em;\"></p>"
   ]
  },
  {
   "cell_type": "markdown",
   "id": "3f5d6e7c-9cb5-4032-9e0f-6ec6d4e735df",
   "metadata": {
    "jp-MarkdownHeadingCollapsed": true,
    "tags": []
   },
   "source": [
    "* Q18: _Convert `0x2B` to decimal_"
   ]
  },
  {
   "cell_type": "markdown",
   "id": "cac5087d-15c2-466f-a003-05ad948441b0",
   "metadata": {
    "slideshow": {
     "slide_type": "skip"
    },
    "tags": [
     "notes-only"
    ]
   },
   "source": [
    "    43"
   ]
  },
  {
   "cell_type": "markdown",
   "id": "b177af66-c461-4e91-9a27-fa4eac6bc9e4",
   "metadata": {
    "slideshow": {
     "slide_type": "skip"
    },
    "tags": [
     "worksheet-only"
    ]
   },
   "source": [
    "<p style=\"height:4em;\"></p>"
   ]
  },
  {
   "cell_type": "markdown",
   "id": "6192779f-a586-49a8-8a10-24487f2c8975",
   "metadata": {
    "jp-MarkdownHeadingCollapsed": true,
    "tags": []
   },
   "source": [
    "* Q19: _Convert `0x30A` to decimal_"
   ]
  },
  {
   "cell_type": "markdown",
   "id": "72a19790-b768-4523-b77d-4d373f4a07fa",
   "metadata": {
    "slideshow": {
     "slide_type": "skip"
    },
    "tags": [
     "notes-only"
    ]
   },
   "source": [
    "    3 * 16^2 + 10 * 16^0 = 266"
   ]
  },
  {
   "cell_type": "markdown",
   "id": "912e4cac-f0e6-4899-b985-0060c191c24f",
   "metadata": {
    "slideshow": {
     "slide_type": "skip"
    },
    "tags": [
     "worksheet-only"
    ]
   },
   "source": [
    "<p style=\"height:4em;\"></p>"
   ]
  },
  {
   "cell_type": "markdown",
   "id": "b76ddacf-04f7-4003-883d-dfc930d01bcf",
   "metadata": {
    "tags": []
   },
   "source": [
    "* Q20: _Convert `0b101111111111` to hexadecimal._"
   ]
  },
  {
   "cell_type": "markdown",
   "id": "19636298-2395-42b3-9ee2-d71c6dc143f5",
   "metadata": {
    "slideshow": {
     "slide_type": "skip"
    },
    "tags": [
     "notes-only"
    ]
   },
   "source": [
    "    0xBFF"
   ]
  },
  {
   "cell_type": "markdown",
   "id": "44ed080f-62a9-4045-82c2-2f33c9aab547",
   "metadata": {
    "slideshow": {
     "slide_type": "skip"
    },
    "tags": [
     "worksheet-only"
    ]
   },
   "source": [
    "<p style=\"height:4em;\"></p>"
   ]
  },
  {
   "cell_type": "markdown",
   "id": "367ea237-5d68-4a89-b742-a2f2abeeaf66",
   "metadata": {
    "tags": []
   },
   "source": [
    "* Q21: _Convert `0xBEE` to binary._"
   ]
  },
  {
   "cell_type": "markdown",
   "id": "4b7a498e-f9ab-4a32-b060-89c761578944",
   "metadata": {
    "slideshow": {
     "slide_type": "skip"
    },
    "tags": [
     "notes-only"
    ]
   },
   "source": [
    "    0b101111101110"
   ]
  },
  {
   "cell_type": "markdown",
   "id": "901dd32c-ff56-478f-94d6-f76de0bfd421",
   "metadata": {
    "slideshow": {
     "slide_type": "skip"
    },
    "tags": [
     "worksheet-only"
    ]
   },
   "source": [
    "<p style=\"height:4em;\"></p>"
   ]
  },
  {
   "cell_type": "markdown",
   "id": "9a295df7-fa6c-4538-b56b-872c953a7523",
   "metadata": {
    "tags": []
   },
   "source": [
    "* Q22: _Convert `0b11001100` to hexadecimal_ "
   ]
  },
  {
   "cell_type": "markdown",
   "id": "d442326e-79b5-4c91-8b5c-f544fdc14697",
   "metadata": {
    "slideshow": {
     "slide_type": "skip"
    },
    "tags": [
     "notes-only"
    ]
   },
   "source": [
    "    0xCC"
   ]
  },
  {
   "cell_type": "markdown",
   "id": "a6adb8b8-e329-4d82-8263-30318e8beb00",
   "metadata": {
    "slideshow": {
     "slide_type": "skip"
    },
    "tags": [
     "worksheet-only"
    ]
   },
   "source": [
    "<p style=\"height:4em;\"></p>"
   ]
  },
  {
   "cell_type": "markdown",
   "id": "20589137-6a31-4a81-899b-1d0499cb8f88",
   "metadata": {
    "tags": []
   },
   "source": [
    "* Q23: _Convert `0x8C` to binary:_"
   ]
  },
  {
   "cell_type": "markdown",
   "id": "7e40b3f7-8851-457a-aefb-b451b3e3ee5c",
   "metadata": {
    "slideshow": {
     "slide_type": "skip"
    },
    "tags": [
     "notes-only"
    ]
   },
   "source": [
    "    0b10001100"
   ]
  },
  {
   "cell_type": "markdown",
   "id": "c04ef798-42fb-468d-9be7-1f7c8d0feca8",
   "metadata": {
    "slideshow": {
     "slide_type": "skip"
    },
    "tags": [
     "worksheet-only"
    ]
   },
   "source": [
    "<p style=\"height:4em;\"></p>"
   ]
  },
  {
   "cell_type": "markdown",
   "id": "fb31f548-c73e-4307-9986-c94b374e3624",
   "metadata": {},
   "source": [
    "* Q24: _Write a function called `check_password` that takes a string and returns 1 if a password is at least 8 characters long and contains at least one uppercase letter, at least one lowercase letter, and at least one digit. Otherwise, the function returns 0. You may want to use the functions `isupper`, `islower`, and `isdigit`. They take a character as a parameter and return 1 if the character is an uppercase letter, lowercase letter, or digit, respectively; otherwise, they return 0._"
   ]
  },
  {
   "cell_type": "code",
   "execution_count": 4,
   "id": "aa634f78-584d-4024-97c3-201531febbf6",
   "metadata": {
    "slideshow": {
     "slide_type": "skip"
    },
    "tags": [
     "notes-only"
    ]
   },
   "outputs": [],
   "source": [
    "#include <string.h>\n",
    "#include <ctype.h>\n",
    "int check_password(char passwd[]) {\n",
    "    if (strlen(passwd) < 8) {\n",
    "        return 0;\n",
    "    }\n",
    "    int lower = 0;\n",
    "    int upper = 0;\n",
    "    int digit = 0;\n",
    "    for (int i = 0; i < strlen(passwd); i++) {\n",
    "        if (islower(passwd[i])) {\n",
    "            lower++;\n",
    "        }\n",
    "        else if (isupper(passwd[i])) {\n",
    "            upper++;\n",
    "        }\n",
    "        else if (isdigit(passwd[i])) {\n",
    "            digit++;\n",
    "        }\n",
    "    }\n",
    "    if (lower == 0 || upper == 0 || digit == 0) {\n",
    "        return 0;\n",
    "    }\n",
    "    return 1;\n",
    "}\n",
    "// Testing\n",
    "#include <assert.h>\n",
    "int main() {\n",
    "    assert(1 == check_password(\"abc123DEF\"));\n",
    "    assert(0 == check_password(\"abc123def\"));\n",
    "}"
   ]
  },
  {
   "cell_type": "markdown",
   "id": "a22b6b50-36b1-442a-abde-6bbdb71b9bd2",
   "metadata": {
    "slideshow": {
     "slide_type": "skip"
    },
    "tags": [
     "worksheet-only"
    ]
   },
   "source": [
    "<p style=\"height:4em;\"></p>"
   ]
  }
 ],
 "metadata": {
  "kernelspec": {
   "display_name": "C",
   "language": "c",
   "name": "c"
  },
  "language_info": {
   "file_extension": ".c",
   "mimetype": "c",
   "name": "c"
  }
 },
 "nbformat": 4,
 "nbformat_minor": 5
}
