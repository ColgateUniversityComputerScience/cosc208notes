{
 "cells": [
  {
   "cell_type": "markdown",
   "id": "275f3326-b6de-4d7d-b41a-f17ec6a57354",
   "metadata": {
    "slideshow": {
     "slide_type": "skip"
    },
    "tags": []
   },
   "source": [
    "# Program memory: free; 2D arrays\n",
    "_COSC 208, Introduction to Computer Systems, 2024-02-26_"
   ]
  },
  {
   "cell_type": "markdown",
   "id": "9db293af-f9ec-4262-b568-ef1906a523b4",
   "metadata": {
    "slideshow": {
     "slide_type": "skip"
    },
    "tags": []
   },
   "source": [
    "## Announcements\n",
    "* Project 1 due today @ 11pm\n",
    "* Quiz 2 in class Wednesday\n",
    "    * 1.1: Develop C **code** that appropriately manipulates numbers, characters, and strings\n",
    "    * 1.2: Convert signed and unsigned numbers between decimal, binary, and hexadecimal\n",
    "    * 1.3: Compute the results of arithmetic and bitwise operators in binary\n",
    "    * 2.1: Determine the contents of the stack and heap during a program’s execution\n",
    "    * 2.2: Develop C **code** that appropriately uses arrays and pointer arithmetic"
   ]
  },
  {
   "cell_type": "markdown",
   "id": "bede1ded-97f6-4a28-9335-116fd9ea868f",
   "metadata": {
    "slideshow": {
     "slide_type": "skip"
    },
    "tags": []
   },
   "source": [
    "## Outline\n",
    "* Warm-up\n",
    "* free\n",
    "* 2D arrays"
   ]
  },
  {
   "cell_type": "markdown",
   "id": "2455eec5-b456-4d20-8fb3-2042d63ad96d",
   "metadata": {},
   "source": [
    "## Warm-up\n",
    "* Q1: _Assume you wanted to write a function that creates a copy of a string. What is wrong with each of the following attempts at writing such a function?_"
   ]
  },
  {
   "cell_type": "code",
   "execution_count": null,
   "id": "e71dc048-27d2-49a7-a222-a101d42302f7",
   "metadata": {
    "tags": [
     "worksheet-code-only"
    ]
   },
   "outputs": [],
   "source": [
    "#include <string.h>\n",
    "char *copy1(char strA[]) {\n",
    "    char strB[strlen(strA) + 1];\n",
    "    strcpy(strB, strA);\n",
    "    return strB;\n",
    "}"
   ]
  },
  {
   "cell_type": "markdown",
   "id": "2794253e-a3c0-45de-af18-1bcf6d12d9e1",
   "metadata": {
    "slideshow": {
     "slide_type": "skip"
    },
    "tags": [
     "notes-only"
    ]
   },
   "source": [
    "    You cannot return a locally-declared array"
   ]
  },
  {
   "cell_type": "markdown",
   "id": "236c66e3-bfc7-4923-86d8-4713227982b9",
   "metadata": {
    "slideshow": {
     "slide_type": "skip"
    },
    "tags": [
     "worksheet-only"
    ]
   },
   "source": [
    "<p style=\"height:2em;\"></p>"
   ]
  },
  {
   "cell_type": "code",
   "execution_count": null,
   "id": "c8de2a2b-8df8-4da4-95de-21e5a5328dd4",
   "metadata": {
    "slideshow": {
     "slide_type": "subslide"
    },
    "tags": [
     "worksheet-code-only"
    ]
   },
   "outputs": [],
   "source": [
    "#include <string.h>\n",
    "#include <stdlib.h>\n",
    "char copy2(char strA[]) {\n",
    "    char *strB = malloc(sizeof(char) * (strlen(strA) + 1));\n",
    "    strcpy(strB, strA);\n",
    "    return *strB;\n",
    "}"
   ]
  },
  {
   "cell_type": "markdown",
   "id": "63e4070d-dd88-42a8-af4d-2384bc44ed29",
   "metadata": {
    "slideshow": {
     "slide_type": "skip"
    },
    "tags": [
     "notes-only"
    ]
   },
   "source": [
    "    Returns the first character in the copy, instead of an array of characters"
   ]
  },
  {
   "cell_type": "markdown",
   "id": "c7135004-cdfe-4b8e-8e64-bcea9c0de442",
   "metadata": {
    "slideshow": {
     "slide_type": "skip"
    },
    "tags": [
     "worksheet-only"
    ]
   },
   "source": [
    "<p style=\"height:2em;\"></p>"
   ]
  },
  {
   "cell_type": "code",
   "execution_count": null,
   "id": "dd874b00-ae07-4bda-b09a-4756645e1906",
   "metadata": {
    "slideshow": {
     "slide_type": "subslide"
    },
    "tags": [
     "worksheet-code-only"
    ]
   },
   "outputs": [],
   "source": [
    "#include <string.h>\n",
    "#include <stdlib.h>\n",
    "char *copy3(char strA[]) {\n",
    "    char *strB = malloc(sizeof(char *));\n",
    "    strcpy(strB, strA);\n",
    "    return strB;\n",
    "}"
   ]
  },
  {
   "cell_type": "markdown",
   "id": "3b3b11c0-771a-4717-bd3f-f69a0f70a0ae",
   "metadata": {
    "slideshow": {
     "slide_type": "skip"
    },
    "tags": [
     "notes-only"
    ]
   },
   "source": [
    "    Allocates space for a pointer, not space for the number of characters in strA"
   ]
  },
  {
   "cell_type": "markdown",
   "id": "55c2a8d6-fb34-4c7b-a641-358262a61684",
   "metadata": {
    "slideshow": {
     "slide_type": "skip"
    },
    "tags": [
     "worksheet-only"
    ]
   },
   "source": [
    "<p style=\"height:2em;\"></p>\n",
    "\n",
    "🛑 **STOP here** after completing the above question; if you have extra time take a few deep breaths to reduce stress.\n",
    "\n",
    "<div style=\"page-break-after:always;\"></div>"
   ]
  },
  {
   "cell_type": "markdown",
   "id": "66645612-3df1-42f3-b86f-c770d7af0dbb",
   "metadata": {
    "slideshow": {
     "slide_type": "slide"
    },
    "tags": []
   },
   "source": [
    "## free"
   ]
  },
  {
   "cell_type": "markdown",
   "id": "3388a1f4-15ce-418c-88ae-7ded2bb17e76",
   "metadata": {
    "slideshow": {
     "slide_type": "skip"
    },
    "tags": [
     "notes-only"
    ]
   },
   "source": [
    "* `void free(void *block)`\n",
    "* When to free? — when a value stored on the heap is no longer needed\n",
    "    * Free memory regions as soon as you are done\n",
    "    * Do not read/write the memory location after it has been freed!"
   ]
  },
  {
   "cell_type": "markdown",
   "id": "747203fe-38cf-487b-a95e-ca8ddc9b9209",
   "metadata": {},
   "source": [
    "* _What memory deallocation mistake has been made in each of the following programs?_"
   ]
  },
  {
   "cell_type": "code",
   "execution_count": null,
   "id": "ab0d3fe5-a215-44d1-92f1-7b04e44f297f",
   "metadata": {
    "tags": [
     "worksheet-code-only"
    ]
   },
   "outputs": [],
   "source": [
    "// Q2\n",
    "#include <stdlib.h>\n",
    "int main() {\n",
    "    int *ptrA = malloc(sizeof(int) * 3);\n",
    "    int *ptrB = ptrA;\n",
    "    free(ptrA);\n",
    "    free(ptrB);\n",
    "}"
   ]
  },
  {
   "cell_type": "markdown",
   "id": "ee7f9bd3-53fa-43cc-b979-a307d9e30805",
   "metadata": {
    "slideshow": {
     "slide_type": "skip"
    },
    "tags": [
     "notes-only"
    ]
   },
   "source": [
    "_Double free_"
   ]
  },
  {
   "cell_type": "code",
   "execution_count": null,
   "id": "d44ee714-1796-4096-879d-dc0b4a6a21e6",
   "metadata": {
    "slideshow": {
     "slide_type": "subslide"
    },
    "tags": [
     "worksheet-code-only"
    ]
   },
   "outputs": [],
   "source": [
    "// Q3\n",
    "#include <stdlib.h>\n",
    "int main() {\n",
    "    int *ptr = malloc(sizeof(int) * 3);\n",
    "    ptr++;\n",
    "    free(ptr);\n",
    "}"
   ]
  },
  {
   "cell_type": "markdown",
   "id": "624834a5-48d2-4284-bd5c-2bccce1915a2",
   "metadata": {
    "slideshow": {
     "slide_type": "skip"
    },
    "tags": [
     "notes-only"
    ]
   },
   "source": [
    "_Not freeing from beginning of allocated region_"
   ]
  },
  {
   "cell_type": "code",
   "execution_count": 1,
   "id": "81122909-b486-44b1-b9af-9a9b25bb2195",
   "metadata": {
    "slideshow": {
     "slide_type": "subslide"
    },
    "tags": [
     "worksheet-code-only"
    ]
   },
   "outputs": [],
   "source": [
    "// Q4\n",
    "#include <stdlib.h>\n",
    "int main() {\n",
    "    int *ptrA = malloc(sizeof(int) * 3);\n",
    "    int *ptrB = ptrA;\n",
    "    ptrA[0] = 0;\n",
    "    ptrB[1] = 1;\n",
    "    free(ptrA);\n",
    "    ptrB[2] = 2;\n",
    "}"
   ]
  },
  {
   "cell_type": "markdown",
   "id": "4b2f9653-df25-4de8-bb4b-3acf9349c641",
   "metadata": {
    "slideshow": {
     "slide_type": "skip"
    },
    "tags": [
     "notes-only"
    ]
   },
   "source": [
    "_Use after free_"
   ]
  },
  {
   "cell_type": "markdown",
   "id": "b5dcfb27-6dac-4f99-86e7-eb21fab91824",
   "metadata": {
    "slideshow": {
     "slide_type": "slide"
    },
    "tags": [
     "notes-only"
    ]
   },
   "source": [
    "## 2D arrays\n",
    "* Assume we wanted to represent a Tic Tac Toe board\n",
    "    ```\n",
    "    +---+---+---+\n",
    "    | X |   |   |\n",
    "    +---+---+---+\n",
    "    |   | X |   |\n",
    "    +---+---+---+\n",
    "    |   | O |   |\n",
    "    +---+---+---+\n",
    "    ```"
   ]
  },
  {
   "cell_type": "markdown",
   "id": "a5580f1e-3e41-4114-b37c-b6c5af593835",
   "metadata": {
    "slideshow": {
     "slide_type": "skip"
    },
    "tags": [
     "notes-only"
    ]
   },
   "source": [
    "* _How would we create an empty board?_ – need to create a 2D array\n",
    "* _How would we represent one row of the board?_ – as an array of characters"
   ]
  },
  {
   "cell_type": "code",
   "execution_count": null,
   "id": "33f61d74-693d-4eab-8fc6-e7df1a4905a3",
   "metadata": {
    "slideshow": {
     "slide_type": "skip"
    },
    "tags": [
     "notes-only"
    ]
   },
   "outputs": [],
   "source": [
    "// First attempt\n",
    "#include <stdlib.h>\n",
    "#define BOARD_SIZE 3\n",
    "??? create_board() {\n",
    "    char *top_row = malloc(sizeof(char) * BOARD_SIZE);\n",
    "    char *middle_row = malloc(sizeof(char) * BOARD_SIZE);\n",
    "    char *bottom_row = malloc(sizeof(char) * BOARD_SIZE);\n",
    "    return ???; // How do we return three arrays?\n",
    "}"
   ]
  },
  {
   "cell_type": "markdown",
   "id": "f16fec36-1051-4924-aa70-e8c4fda52339",
   "metadata": {
    "slideshow": {
     "slide_type": "skip"
    },
    "tags": [
     "notes-only"
    ]
   },
   "source": [
    "* Create an array-of-arrays\n",
    "* _An array is a..._ – pointer\n",
    "* _What does an array-of-arrays store?_ – pointers\n",
    "* _What is an array-of-arrays?_ – a pointer to the zeroth element that is a pointer to the zeroth element"
   ]
  },
  {
   "cell_type": "code",
   "execution_count": null,
   "id": "087bdcc4-4417-4a62-8153-90cdc5a0227c",
   "metadata": {
    "slideshow": {
     "slide_type": "skip"
    },
    "tags": [
     "notes-only"
    ]
   },
   "outputs": [],
   "source": [
    "// Second attempt\n",
    "#include <stdlib.h>\n",
    "#define BOARD_SIZE 3\n",
    "char **create_board() {\n",
    "    char *top_row = malloc(sizeof(char) * BOARD_SIZE);\n",
    "    char *middle_row = malloc(sizeof(char) * BOARD_SIZE);\n",
    "    char *bottom_row = malloc(sizeof(char) * BOARD_SIZE);\n",
    "    char **board = malloc(sizeof(char *) * BOARD_SIZE);\n",
    "    board[0] = top_row;\n",
    "    board[1] = middle_row;\n",
    "    board[2] = bottom_row;\n",
    "    return board;\n",
    "}"
   ]
  },
  {
   "cell_type": "code",
   "execution_count": null,
   "id": "2e988b4c-58c5-4b17-900c-4b1e11d9bba2",
   "metadata": {
    "slideshow": {
     "slide_type": "skip"
    },
    "tags": [
     "notes-only"
    ]
   },
   "outputs": [],
   "source": [
    "// Final version\n",
    "#include <stdlib.h>\n",
    "#define BOARD_SIZE 3\n",
    "char **create_board() {\n",
    "    char **board = malloc(sizeof(char *) * BOARD_SIZE);\n",
    "    for (int r = 0; r < BOARD_SIZE; r++) {\n",
    "        board[r] = malloc(sizeof(char) * BOARD_SIZE);\n",
    "        for (int c = 0; c < BOARD_SIZE; c++) {\n",
    "            board[r][c] = ' ';\n",
    "        }\n",
    "    }\n",
    "    return board;\n",
    "}\n",
    "\n",
    "int main() {\n",
    "    char **ttt = create_board();\n",
    "    ttt[1][1] = 'X';\n",
    "    \n",
    "    for (int r = 0; r < BOARD_SIZE; r++) {\n",
    "        free(ttt[r]);\n",
    "    }\n",
    "    free(ttt);\n",
    "}"
   ]
  }
 ],
 "metadata": {
  "kernelspec": {
   "display_name": "C",
   "language": "c",
   "name": "c"
  },
  "language_info": {
   "file_extension": ".c",
   "mimetype": "c",
   "name": "c"
  }
 },
 "nbformat": 4,
 "nbformat_minor": 5
}
