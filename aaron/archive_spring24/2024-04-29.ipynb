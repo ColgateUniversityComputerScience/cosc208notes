{
 "cells": [
  {
   "cell_type": "markdown",
   "id": "33410e11-322f-4e1e-979b-fe8de0e69a0e",
   "metadata": {
    "slideshow": {
     "slide_type": "skip"
    },
    "tags": []
   },
   "source": [
    "# Virtualization: virtual machines\n",
    "_COSC 208, Introduction to Computer Systems, 2024-04-29_"
   ]
  },
  {
   "cell_type": "markdown",
   "id": "df3d94d0-03f9-4af5-b8cb-97d441bfe4d8",
   "metadata": {
    "slideshow": {
     "slide_type": "skip"
    },
    "tags": []
   },
   "source": [
    "## Announcements\n",
    "* Attend VAP candidate talk tomorrow 11:30am-12:00pm\n",
    "* Project 3 revisions due Friday @ 5pm\n",
    "* Quiz 6 Wednesday – can start as early as 8:05am\n",
    "    * 6.1: Describe the mechanisms operating systems use to allocate hardware resources and ensure errant processes do not take over the system\n",
    "    * 6.2: Determine the possible outputs of C programs that involve multiple processes and/or threads\n",
    "    * 6.3: Develop C programs that create and wait for processes and execute other programs\n",
    "    * 6.4: Modify C programs to use threads\n",
    "    * 6.5: Compare virtualization technologies\n",
    "    * 5.1: Determine where code and data resides throughout a program’s lifecycle\n",
    "    * 5.2: Determine how assembly and/or C code can be modified for more efficient use of storage\n",
    "    * Optional:\n",
    "        * 4.1: Interpret ARM assembly code\n",
    "        * 4.2: Determine the relationship between C code and ARM assembly code"
   ]
  },
  {
   "cell_type": "markdown",
   "id": "91a6b9f6-e5e2-4677-8e45-9d026953759b",
   "metadata": {
    "slideshow": {
     "slide_type": "skip"
    },
    "tags": []
   },
   "source": [
    "## Outline\n",
    "* Warm-up\n",
    "* Loop interchange\n",
    "* Virtual machines\n",
    "* Hypervisors"
   ]
  },
  {
   "cell_type": "markdown",
   "id": "032a22c5-d1db-462d-b05b-f9a4a54db923",
   "metadata": {
    "tags": []
   },
   "source": [
    "## Warm-up (Q3 from last class)"
   ]
  },
  {
   "cell_type": "markdown",
   "id": "2e1d5fc8-4774-468c-a7ff-8caa65d559b7",
   "metadata": {},
   "source": [
    "* Assume a cache can hold 3 entries and the following 15 data accesses occur: \n",
    "```\n",
    "3, 4, 4, 5, 3, 2, 3, 4, 1, 4, 4, 2, 5, 2, 4\n",
    "```\n",
    "* Q1: _What is the sequence of hits, insertions, and replacements that occur when an **least recently used (LRU)** cache replacement algorithm is used?_"
   ]
  },
  {
   "cell_type": "markdown",
   "id": "3211377e-8c18-486d-9214-3780081f752e",
   "metadata": {
    "slideshow": {
     "slide_type": "skip"
    },
    "tags": [
     "notes-only"
    ]
   },
   "source": [
    "```\n",
    "+3, +4, H4, +5, H3, -4/+2, H3, -5/+4, -2/+1, H4, H4, -3/+2, -1/+5, H2, H4\n",
    "Hit ratio = 7/15 = 47%\n",
    "```"
   ]
  },
  {
   "cell_type": "markdown",
   "id": "6df9e8f0-1857-4873-8682-6ce45d8673c1",
   "metadata": {
    "slideshow": {
     "slide_type": "skip"
    },
    "tags": [
     "worksheet-only"
    ]
   },
   "source": [
    "<p style=\"height:10em;\"></p>\n",
    "\n",
    "🛑 **STOP here** after completing the above question; if you have extra time take a few deep breaths to reduce stress.\n",
    "\n",
    "<div style=\"page-break-after:always;\"></div>"
   ]
  },
  {
   "cell_type": "markdown",
   "id": "189477d6-4e4d-4b22-a1e4-64532074194a",
   "metadata": {
    "slideshow": {
     "slide_type": "slide"
    },
    "tags": []
   },
   "source": [
    "## Loop interchange"
   ]
  },
  {
   "cell_type": "markdown",
   "id": "779d0394-c0d0-4677-b2a4-34f1298ba1c7",
   "metadata": {
    "slideshow": {
     "slide_type": "skip"
    },
    "tags": []
   },
   "source": [
    "* Example"
   ]
  },
  {
   "cell_type": "code",
   "execution_count": 1,
   "id": "22e143cd-3ecd-4a39-9c67-330917a4a674",
   "metadata": {
    "tags": [
     "worksheet-code-only"
    ]
   },
   "outputs": [
    {
     "name": "stdout",
     "output_type": "stream",
     "text": [
      "66\n"
     ]
    }
   ],
   "source": [
    "#include <stdlib.h>\n",
    "#include <stdio.h>\n",
    "#define LEN 12\n",
    "int main() {\n",
    "    int *array = malloc(sizeof(int) * LEN);\n",
    "\n",
    "    for (int i = 0; i < LEN; i++) {\n",
    "        array[i] = i;\n",
    "    }\n",
    "    \n",
    "    int sum = 0;\n",
    "    for (int j = 0; j < 4; j++) {\n",
    "        for (int k = 0; k < LEN; k += 4) {\n",
    "            sum += array[j+k];\n",
    "        }\n",
    "    }\n",
    "    printf(\"%d\\n\", sum);\n",
    "}"
   ]
  },
  {
   "cell_type": "markdown",
   "id": "5b7616f3-9902-40e0-90d4-d9da41631d32",
   "metadata": {
    "slideshow": {
     "slide_type": "skip"
    },
    "tags": [
     "notes-only"
    ]
   },
   "source": [
    "* _Assume the values of all local variables are stored in registers (**not** the stack) and the value of `array` is `0x400`. What is the sequence of memory addresses that are accessed?_\n",
    "    * First for loop: `0x400`, `0x404`, `0x408`, `0x40c`, `0x410`, `0x414`, `0x418`, `0x41c`, `0x420`, `0x424`, `0x428`, `0x42c`\n",
    "    * Second for loop: `0x400`, `0x410`, `0x420`, `0x404`, `0x414`, `0x424`, `0x408`, `0x418`, `0x428`, `0x40c`, `0x41c`, `0x42c`, \n",
    "    * Notice that the first for loop accesses memory addresses in order, whereas the second for loop accesses addresses out of order\n",
    "* _Now assume the system uses a cache that holds 2 entries which are each 16 bytes large. What is the sequence of hits and misses using a least recently used (LRU) replacement policy?_\n",
    "    * First for loop: Miss (+0x4000), Hit, Hit, Hit, Miss (+0x4010), Hit, Hit, Hit, Miss (-0x4000/+0x4020), Hit, Hit, Hit\n",
    "    * Second for loop: Miss (-0x4010/+0x4000), Miss (-0x4020/+0x4010), Miss (-0x4000/+0x4020), Miss (-0x4010/+0x4000), Miss (-0x4020/+0x4010), Miss (-0x4000/+0x4020), Miss (-0x4010/+0x4000), Miss (-0x4020/+0x4010), Miss (-0x4000/+0x4020), Miss (-0x4010/+0x4000), Miss (-0x4020/+0x4010), Miss (-0x4000/+0x4020)\n",
    "    * Notice that the first for loop has three hits after each miss, whereas the second for loop is all misses\n",
    "* _How could we modify the code to achieve a higher hit ratio?_ – loop interchange, i.e., swap inner and outer loops"
   ]
  },
  {
   "cell_type": "code",
   "execution_count": 2,
   "id": "b44bd006-61a3-491e-9600-905dc7e7a34c",
   "metadata": {
    "slideshow": {
     "slide_type": "skip"
    },
    "tags": [
     "notes-only"
    ]
   },
   "outputs": [
    {
     "name": "stdout",
     "output_type": "stream",
     "text": [
      "66\n"
     ]
    }
   ],
   "source": [
    "#include <stdlib.h>\n",
    "#include <stdio.h>\n",
    "#define LEN 12\n",
    "int main() {\n",
    "    int *array = malloc(sizeof(int) * LEN);\n",
    "\n",
    "    for (int i = 0; i < LEN; i++) {\n",
    "        array[i] = i;\n",
    "    }\n",
    "    \n",
    "    int sum = 0;\n",
    "    for (int k = 0; k < LEN; k += 4) {\n",
    "        for (int j = 0; j < 4; j++) {\n",
    "            sum += array[j+k];\n",
    "        }\n",
    "    }\n",
    "    printf(\"%d\\n\", sum);\n",
    "}"
   ]
  },
  {
   "cell_type": "markdown",
   "id": "d12c40ca-c727-40dc-bf1d-d58a458355c8",
   "metadata": {
    "slideshow": {
     "slide_type": "subslide"
    },
    "tags": []
   },
   "source": [
    "* Q2: _Would loop interchange improve the efficiency of this code?_"
   ]
  },
  {
   "cell_type": "code",
   "execution_count": null,
   "id": "7d51d0b9-8295-4b7a-84bd-2bd04bad9697",
   "metadata": {
    "tags": []
   },
   "outputs": [],
   "source": [
    "void hundreds() {\n",
    "    int *nums = malloc(sizeof(int) * 1000);\n",
    "    for (int i = 0; i < 1000; i+= 100) {\n",
    "        for (int j = 0; j < 100; j++) {\n",
    "            nums[i+j] = i;\n",
    "        }\n",
    "    }\n",
    "}"
   ]
  },
  {
   "cell_type": "markdown",
   "id": "29687460-5727-4993-8594-7d3024839e22",
   "metadata": {
    "slideshow": {
     "slide_type": "skip"
    },
    "tags": [
     "notes-only"
    ]
   },
   "source": [
    "    No"
   ]
  },
  {
   "cell_type": "markdown",
   "id": "cc50dc9e-805f-4d52-a584-8bc5bf503563",
   "metadata": {
    "slideshow": {
     "slide_type": "skip"
    },
    "tags": [
     "worksheet-only"
    ]
   },
   "source": [
    "<p style=\"height:2em;\"></p>"
   ]
  },
  {
   "cell_type": "markdown",
   "id": "5c5f920e-0d28-4053-9f2f-81bf43800e74",
   "metadata": {
    "slideshow": {
     "slide_type": "subslide"
    },
    "tags": []
   },
   "source": [
    "* Q3: _Would loop interchange improve the efficiency of this code?_"
   ]
  },
  {
   "cell_type": "code",
   "execution_count": null,
   "id": "f3638e65-4dad-4520-a7fb-f286fd818863",
   "metadata": {},
   "outputs": [],
   "source": [
    "void multiplication(int grid[][], int rows, int cols) {\n",
    "    for (int c = 0; c < cols; c++) {\n",
    "        for (int r = 0; r < rows; r++) {\n",
    "            grid[r][c] = c * r;\n",
    "        }\n",
    "    }\n",
    "}"
   ]
  },
  {
   "cell_type": "markdown",
   "id": "f9b5e3c8-5fc0-4536-b216-922eef7b810c",
   "metadata": {
    "slideshow": {
     "slide_type": "skip"
    },
    "tags": [
     "notes-only"
    ]
   },
   "source": [
    "    Yes"
   ]
  },
  {
   "cell_type": "markdown",
   "id": "21b6aded-946c-4be6-aa1d-1dd238957881",
   "metadata": {
    "slideshow": {
     "slide_type": "skip"
    },
    "tags": [
     "worksheet-only"
    ]
   },
   "source": [
    "<div style=\"page-break-after:always;\"></div>"
   ]
  },
  {
   "cell_type": "markdown",
   "id": "c8def9b3-af0c-4874-9a12-70ded1b09d24",
   "metadata": {
    "slideshow": {
     "slide_type": "skip"
    },
    "tags": [
     "notes-only"
    ]
   },
   "source": [
    "## Virtual machines (VMs)"
   ]
  },
  {
   "cell_type": "markdown",
   "id": "81c480af-07ad-4cb4-a331-d07200fb2d2e",
   "metadata": {
    "slideshow": {
     "slide_type": "skip"
    },
    "tags": [
     "notes-only"
    ]
   },
   "source": [
    "* Recall: _what is the purpose of an OS?_\n",
    "    * Make computer hardware easy to use—e.g., an OS knows how to load an application's executable code from persistent storage (e.g., solid state drive (SSD)) into main memory, initialize the process's memory (code, heap, stack), and make the CPU execute the application's instructions\n",
    "    * Support multiprocessing—i.e., running multiple applications simultaneously or concurrently\n",
    "    * Allocate and manage hardware resources—e.g., decide when/which applications can use the CPU, decide when/which memory applications can use, prevent applications from stealing/accessing another application's CPU time or memory\n",
    "* What is the purpose of a virtual machine?\n",
    "    * Make computer hardware flexible to use\n",
    "    * Support multiple OSes running concurrently\n",
    "    * Allocate and manage hardware resources—e.g., decide when/which VMs can use the CPU, decide/when which memory VMs can use, prevent VMS from stealing/accessing another VM's CPU time or memory\n",
    "* What is the motivation for using a virtual machine?\n",
    "    * Run multiple OSes concurrently — _why would someone one to do this?_\n",
    "        * Run software only supported by a specific OS\n",
    "        * Software testing\n",
    "        * Server consolidation\n",
    "        * Security sandboxing\n",
    "    * Flexibly use hardware resources"
   ]
  },
  {
   "cell_type": "markdown",
   "id": "9ce5f895-a618-4263-b5e2-3405b1901c2c",
   "metadata": {
    "slideshow": {
     "slide_type": "skip"
    },
    "tags": [
     "notes-only"
    ]
   },
   "source": [
    "## Hypervisors"
   ]
  },
  {
   "cell_type": "markdown",
   "id": "d19f1fc3-cce6-4b76-ac1e-68215b36206c",
   "metadata": {
    "slideshow": {
     "slide_type": "skip"
    },
    "tags": [
     "notes-only"
    ]
   },
   "source": [
    "* _What additional software layer does a computer system need to support virtual machines?_ — hypervisor\n",
    "* _Where does a hypervisor reside?_\n",
    "    * Type 1: on top of hardware — e.g., KVM, Xen, Hyper-V, VMware vSphere\n",
    "    * Type 2: on top of host OS — e.g., VirtualBox, VMware Workstation/Fusion\n",
    "* _Why is a type 1 hypervisor better than a type 2 hypervisor?_\n",
    "    * Resources can be oversubscribed\n",
    "    * No overhead from host OS\n",
    "* _Why is a type 2 hypervisor better than a type 1 hypervisor?_\n",
    "    * Easy to use"
   ]
  }
 ],
 "metadata": {
  "kernelspec": {
   "display_name": "C",
   "language": "c",
   "name": "c"
  },
  "language_info": {
   "file_extension": ".c",
   "mimetype": "c",
   "name": "c"
  }
 },
 "nbformat": 4,
 "nbformat_minor": 5
}
