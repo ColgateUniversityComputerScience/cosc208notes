{
 "cells": [
  {
   "cell_type": "markdown",
   "id": "6fda69da-ea01-4d12-a173-840278ddfa84",
   "metadata": {
    "slideshow": {
     "slide_type": "skip"
    },
    "tags": []
   },
   "source": [
    "# Hello, Computer Systems\n",
    "_COSC 208, Introduction to Computer Systems, 2024-01-22_"
   ]
  },
  {
   "cell_type": "markdown",
   "id": "8f1c445a-0ff2-4793-baf2-4c31fb4070ef",
   "metadata": {
    "slideshow": {
     "slide_type": "slide"
    },
    "tags": []
   },
   "source": [
    "## Announcements\n",
    "* Before class on Wednesday:\n",
    "    * Complete \"Getting to know you\" questionnaire\n",
    "    * Review the syllabus\n",
    "    * Read Dive Into Systems 16.0-16.2.1, 16.3.1 and answer pre-class questions\n",
    "* First lab next week"
   ]
  },
  {
   "cell_type": "markdown",
   "id": "aa2ac13f-7b03-416d-8479-319ceb637a1e",
   "metadata": {
    "slideshow": {
     "slide_type": "skip"
    },
    "tags": [
     "notes-only"
    ]
   },
   "source": [
    "## Outline\n",
    "* Getting to know each other\n",
    "* What is a computer system?\n",
    "* Syllabus highlights"
   ]
  },
  {
   "cell_type": "markdown",
   "id": "f4fa787e-dcdb-413a-8791-8f8e380be60c",
   "metadata": {
    "slideshow": {
     "slide_type": "skip"
    },
    "tags": [
     "notes-only"
    ]
   },
   "source": [
    "## Getting to know Aaron\n",
    "* My name is...Aaron Gember-Jacobson\n",
    "* Please call me...Aaron\n",
    "* My pronouns are...he/him\n",
    "* Something I did over winter break that I enjoyed was...building with Legos.\n",
    "* Something I want you to know about my life at Colgate is...I strive to create equitable and inclusive learning environments, because I want to counteract systems of power and privilege within the field of computer science and within Colgate.\n",
    "* Something I want you to know about my life outside of Colgate is...I live in Hamilton with my wife (Emily), kids (Henry, 8; Molly, 6), and cats (Hairy and Luna)."
   ]
  },
  {
   "cell_type": "markdown",
   "id": "964f4367-0720-432f-95d1-18660053e30d",
   "metadata": {
    "slideshow": {
     "slide_type": "skip"
    },
    "tags": [
     "worksheet-only"
    ]
   },
   "source": [
    "## Getting to know you\n",
    "*I want to learn more about you, so I can help ensure you get the most out of this class and your time at Colgate. Please respond to the following prompts. (I will not share your responses with anyone else.)*\n",
    "\n",
    "My name is...\n",
    "```\n",
    "\n",
    "```\n",
    "\n",
    "Please call me...\n",
    "```\n",
    "\n",
    "```\n",
    "\n",
    "My pronouns are...\n",
    "```\n",
    "\n",
    "```\n",
    "\n",
    "Something I did over winter break that I enjoyed was...\n",
    "```\n",
    "\n",
    "\n",
    "\n",
    "\n",
    "```\n",
    "\n",
    "Something I want you to know about my life at Colgate is...\n",
    "```\n",
    "\n",
    "\n",
    "\n",
    "\n",
    "```\n",
    "\n",
    "Something I want you to know about my life outside of Colgate is...\n",
    "```\n",
    "\n",
    "\n",
    "\n",
    "\n",
    "```\n",
    "\n",
    "I may occcasionally bring treats; do you have any dietary restrictions?"
   ]
  },
  {
   "cell_type": "markdown",
   "id": "e952a436-20a8-4743-9322-377403e7c927",
   "metadata": {
    "slideshow": {
     "slide_type": "skip"
    },
    "tags": [
     "notes-only"
    ]
   },
   "source": [
    "## What is a computer system?\n",
    "* _What do you think of when you hear the term \"computer systems\"?_\n",
    "* Main components of a computer system\n",
    "    * Central processing unit (CPU) — executes assembly instructions\n",
    "    * Random access memory (RAM) — stores program data (code, variables, etc.) at runtime\n",
    "    * Secondary storage devices (e.g., hard disk drive, solid state drive stores) – persistently stores program data (code, documents, etc.)\n",
    "    * Input/output (I/O) ports – receives user input (e.g., keyboard, mouse, audio); provides output to users (e.g., text, graphics, audio)\n",
    "    * Operating system (OS) — manages hardware resources\n",
    "* Why is it important to learn about computer systems?\n",
    "    * To effectively debug errors related to data representation and memory\n",
    "    * To write more efficient programs\n",
    "    * To leverage parallelism\n",
    "* Course topics – see the standards in the _Quizzes_ section of the syllabus\n",
    "    * Data representation\n",
    "    * Program memory\n",
    "    * Architecture\n",
    "    * Assembly\n",
    "    * Storage\n",
    "    * Operating Systems & Concurrency"
   ]
  },
  {
   "cell_type": "markdown",
   "id": "9aa61e54-8c27-4fd8-80e1-94810b90ac68",
   "metadata": {
    "slideshow": {
     "slide_type": "skip"
    },
    "tags": [
     "notes-only"
    ]
   },
   "source": [
    "## Syllabus highlights\n",
    "* Important dates\n",
    "* Preparing for class: read textbook sections and answer pre-class questions on Moodle\n",
    "    * Use the pre-class questions to guide your reading; research shows that you remember/understand things better if you have to answer questions about it \n",
    "    * For Wednesday: Read Dive Into Systems 16.0-16.2.1, 16.3.1 and answer pre-class questions\n",
    "* Quizzes and projects: demonstrate that you undertand and can apply the concepts covered in the course\n",
    "    * Quizzes every two weeks on Wednesdays, starting February 14\n",
    "    * First of three projects will be released in early February and due February 21\n",
    "* Academic integrity: \n",
    "    * Do not share or copy code from other students\n",
    "    * Indicate if code is copied from an external source\n",
    "    * I want you to succeed; I will be reasonably flexible on deadlines\n",
    "* Alternative grading:\n",
    "    * Designed to be equitable and encourage learning and growth\n",
    "    * Constructive feedback coupled with opportunities to revise and reattempt work without penalty – e.g., every standard will appear on at least three quizzes and you need to acheive satisfactory performance twice; every project can be revised to improve its functionality and design\n",
    "    * Course grade is based on the extent to which your work on quizzes and projects is satisfactory \n",
    "* Seek help and support!"
   ]
  }
 ],
 "metadata": {
  "kernelspec": {
   "display_name": "C",
   "language": "c",
   "name": "c"
  },
  "language_info": {
   "file_extension": ".c",
   "mimetype": "c",
   "name": "c"
  }
 },
 "nbformat": 4,
 "nbformat_minor": 5
}
