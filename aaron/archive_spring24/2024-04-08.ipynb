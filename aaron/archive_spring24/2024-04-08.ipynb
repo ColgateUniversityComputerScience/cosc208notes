{
 "cells": [
  {
   "cell_type": "markdown",
   "id": "ffc437ac-d10b-4d12-895d-712e9c2057b5",
   "metadata": {
    "slideshow": {
     "slide_type": "skip"
    },
    "tags": []
   },
   "source": [
    "# Operating Systems & Concurrency: system calls; processes\n",
    "_COSC 208, Introduction to Computer Systems, 2024-04-08_"
   ]
  },
  {
   "cell_type": "markdown",
   "id": "3a128151-3aa7-467d-9cab-5bda40b8473c",
   "metadata": {
    "slideshow": {
     "slide_type": "skip"
    },
    "tags": []
   },
   "source": [
    "## Announcements\n",
    "* Project 2 revisions due Friday at 11pm\n",
    "* Quiz 5 rescheduled for Friday, April 19\n",
    "* Office hours\n",
    "    * Today – canceled\n",
    "    * Tomorrow – 8:15am-9:45am and 12:45pm-1:15pm"
   ]
  },
  {
   "cell_type": "markdown",
   "id": "377e6d68-2202-4782-afc7-a43582630f55",
   "metadata": {
    "slideshow": {
     "slide_type": "skip"
    },
    "tags": []
   },
   "source": [
    "## Outline\n",
    "* Limited Direct Execution (LDE)\n",
    "* System calls (syscalls)\n",
    "* Process abstraction"
   ]
  },
  {
   "cell_type": "markdown",
   "id": "f957df22-c848-403f-8f93-b38bee837627",
   "metadata": {},
   "source": [
    "## No Warm-up – Happy Solar Eclipse!"
   ]
  },
  {
   "cell_type": "markdown",
   "id": "947dd1e1-6493-4240-affa-70e18c9ab25a",
   "metadata": {
    "slideshow": {
     "slide_type": "skip"
    },
    "tags": [
     "notes-only"
    ]
   },
   "source": [
    "## Limited Direct Execution (LDE)"
   ]
  },
  {
   "cell_type": "markdown",
   "id": "306c2fe4-a2e4-4146-a996-3452d8af3cab",
   "metadata": {
    "slideshow": {
     "slide_type": "skip"
    },
    "tags": [
     "notes-only"
    ]
   },
   "source": [
    "* CPU has two modes of execution: user mode & kernel mode\n",
    "* _When does a CPU run in user mode?_ — when executing application code\n",
    "* _When does a CPU run in kernel mode?_ — when executing OS code\n",
    "* Allowable operations in user mode are restricted\n",
    "    * Applications can...\n",
    "        * Perform arithmetic/logic operations\n",
    "        * Load/store values in its stack/heap\n",
    "    * Applications must ask the OS to...\n",
    "        * Start/terminate applications\n",
    "        * Create/delete files\n",
    "        * Display output on screen\n",
    "        * Read input from user\n",
    "    * Must transfer control to the OS to perform these operations — How?"
   ]
  },
  {
   "cell_type": "markdown",
   "id": "2756425d-03db-4499-a65f-a083d560134d",
   "metadata": {
    "slideshow": {
     "slide_type": "slide"
    },
    "tags": []
   },
   "source": [
    "## System calls (syscalls)"
   ]
  },
  {
   "cell_type": "markdown",
   "id": "4bd1935a-3428-4ff0-a4e1-6799ad1c9538",
   "metadata": {
    "slideshow": {
     "slide_type": "skip"
    },
    "tags": [
     "notes-only"
    ]
   },
   "source": [
    "* Invoked via a special assembly instruction: trap (generic) or `svc` (on ARM)"
   ]
  },
  {
   "cell_type": "markdown",
   "id": "f4c0abaa-8045-4517-b32a-43137e120364",
   "metadata": {
    "tags": []
   },
   "source": [
    "* Example program"
   ]
  },
  {
   "cell_type": "code",
   "execution_count": 1,
   "id": "340386a9-633a-4e0e-a852-256a9e26d7b8",
   "metadata": {
    "tags": []
   },
   "outputs": [
    {
     "name": "stdout",
     "output_type": "stream",
     "text": [
      "I am a process. My name is 1335.\n"
     ]
    }
   ],
   "source": [
    "/* 1*/  #include <stdio.h>\n",
    "/* 2*/  #include <unistd.h>\n",
    "/* 3*/  int name() {\n",
    "/* 4*/      int pid = getpid();\n",
    "/* 5*/      return pid;\n",
    "/* 6*/  }\n",
    "/* 7*/  int main() {\n",
    "/* 8*/      int p = name();\n",
    "/* 9*/      printf(\"I am a process. My name is %d.\\n\", p);\n",
    "/*10*/  }"
   ]
  },
  {
   "cell_type": "markdown",
   "id": "e9d185c2-853d-496a-93af-9be8683db61d",
   "metadata": {
    "slideshow": {
     "slide_type": "subslide"
    },
    "tags": []
   },
   "source": [
    "* Assembly code"
   ]
  },
  {
   "cell_type": "markdown",
   "id": "5ee7b914-b2af-4a41-83cd-6db0f62be985",
   "metadata": {
    "tags": []
   },
   "source": [
    "```\n",
    "00000000004006ac <name>:\n",
    "    4006ac:    d10083ff     sub    sp, sp, #0x20\n",
    "    4006b0:    f9000bfe     str    x30, [sp, #16]\n",
    "    4006b4:    94007713     bl    41e300 <__getpid>\n",
    "    4006b8:    b9000fe0     str    w0, [sp, #12]\n",
    "    4006bc:    b9400fe0     ldr    w0, [sp, #12]\n",
    "    4006c0:    f9400bfe     ldr    x30, [sp, #16]\n",
    "    4006c4:    910083ff     add    sp, sp, #0x20\n",
    "    4006c8:    d65f03c0     ret\n",
    "000000000041e300 <__getpid>:\n",
    "    41e300:    d28015c8     mov    x8, #0xac\n",
    "    41e304:    d4000001     svc    #0x0\n",
    "    41e308:    d65f03c0     ret\n",
    "```"
   ]
  },
  {
   "cell_type": "markdown",
   "id": "b8515cdd-a2b0-4e05-ac45-de92fd61fff0",
   "metadata": {
    "slideshow": {
     "slide_type": "skip"
    },
    "tags": [
     "notes-only"
    ]
   },
   "source": [
    "* Functions in the C standard library that involve a privileged operation (e.g., `printf`) put the system call number in a register and invoke a trap instruction — programmer doesn’t have to worry about these details; they can just call the appropriate function in the C standard library\n",
    "* When `svc` is executed\n",
    "    1. CPU switches to kernel mode\n",
    "    2. CPU saves registers to the kernel stack — kernel stack is at a fixed location in memory\n",
    "        * _Why do we need to save the registers?_ — so we can return to `user` when `__getuid` is done\n",
    "    3. CPU uses system call number to index into table of trap handlers \n",
    "        * At boot, initialize table of trap handlers with pointers into OS code for handling each type of syscall\n",
    "    4. Branch and link to trap handler code\n",
    "    5. CPU restores registers from the kernel stack\n",
    "    6. CPU switches to user mode\n",
    "    7. Resume execution after `svc` \n",
    "* _What should we do if an application tries to perform a privileged operation without making a system call?_\n",
    "    * Let the code keep running — code may assume privileged operation was successful\n",
    "    * Terminate the application"
   ]
  },
  {
   "cell_type": "markdown",
   "id": "6d730a91-50a7-4e4b-82d0-c44e49da92b2",
   "metadata": {
    "slideshow": {
     "slide_type": "skip"
    },
    "tags": [
     "worksheet-only"
    ]
   },
   "source": [
    "<div style=\"page-break-after:always;\"></div>"
   ]
  },
  {
   "cell_type": "markdown",
   "id": "177d7b56-26ce-4023-8010-92c448961bbf",
   "metadata": {
    "slideshow": {
     "slide_type": "subslide"
    },
    "tags": []
   },
   "source": [
    "## Process abstraction"
   ]
  },
  {
   "cell_type": "markdown",
   "id": "14ab688a-b402-42ca-b066-edfbfd1ef0b4",
   "metadata": {
    "slideshow": {
     "slide_type": "skip"
    },
    "tags": [
     "notes-only"
    ]
   },
   "source": [
    "* Process — running program and its corresponding machine state (code, memory, and register values)\n",
    "    * Program is static code and static data; process is dynamic instance of code and data\n",
    "    * Cooking analogy\n",
    "        * Recipe == program\n",
    "        * Following a recipe == process\n",
    "        * Ingredients == program inputs\n",
    "        * Prepared food == program outputs\n",
    "        * Cabinets, fridge, etc. == persistent storage\n",
    "        * Prep area (e.g., counter) == registers & main memory\n",
    "        * Contents and status of the prep area; current step of recipe == machine state\n",
    "        * Chef == CPU\n",
    "    * Can have multiple processes all running different instances of the same program\n",
    "        * Cooking analogy — chef may be making multiple batches of the same recipe\n",
    "* OS is responsible for...\n",
    "    * Creating processes — when a user or another application requests it\n",
    "    * Scheduling processes — i.e., deciding when/which process should be allowed to use the CPU\n",
    "    * Switching processes — i.e., saving the machine state of one process and restoring the machine state of another process; called context switching\n",
    "    * Cleaning-up processes — i.e., releasing any resources they are using when the process is done\n",
    "    * Interacting with I/O devices (e.g., disks, NICs, graphics card) on behalf of processes"
   ]
  },
  {
   "cell_type": "markdown",
   "id": "f713c07f-e5f6-44b2-91ad-ff0059d63f59",
   "metadata": {
    "slideshow": {
     "slide_type": "skip"
    },
    "tags": []
   },
   "source": [
    "* Q1: _Consider building a Lego kit as an analogy for operating systems' process abstraction. Match each component of the analogy with the corresponding component of a real computer system._"
   ]
  },
  {
   "cell_type": "markdown",
   "id": "ebf3908b-951e-4749-ab88-cdab77acad4f",
   "metadata": {
    "tags": [
     "worksheet-only"
    ]
   },
   "source": [
    "* Analogy\n",
    "    1. Cabinet/drawers for storing Legos\n",
    "    2. Lego bricks\n",
    "    3. Building area (e.g., tabletop)\n",
    "    4. Instruction booklet\n",
    "    5. Following the assembly instructions\n",
    "    6. Current step for the instruction booklet\n",
    "    7. Completed kit\n",
    "    8. You\n",
    "* Real system\n",
    "    * CPU\n",
    "    * persistent storage\n",
    "    * process\n",
    "    * program\n",
    "    * program counter\n",
    "    * program inputs\n",
    "    * program outputs\n",
    "    * registers and main memory"
   ]
  },
  {
   "cell_type": "markdown",
   "id": "3bf24e87-83db-4abb-8213-4b53251e25c4",
   "metadata": {
    "slideshow": {
     "slide_type": "skip"
    },
    "tags": [
     "notes-only"
    ]
   },
   "source": [
    "* Instruction booklet == program\n",
    "* Following the assembly instructions == process\n",
    "* Lego bricks == program inputs\n",
    "* Completed kit == program outputs\n",
    "* Cabinet/drawers for storing Legos == persistent storage\n",
    "* Building area (e.g., tabletop) == registers and main memory\n",
    "* Current step for the instruction booklet == program counter\n",
    "* You == CPU"
   ]
  }
 ],
 "metadata": {
  "kernelspec": {
   "display_name": "C",
   "language": "c",
   "name": "c"
  },
  "language_info": {
   "file_extension": ".c",
   "mimetype": "c",
   "name": "c"
  }
 },
 "nbformat": 4,
 "nbformat_minor": 5
}
