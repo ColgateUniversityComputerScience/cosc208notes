{
 "cells": [
  {
   "cell_type": "markdown",
   "id": "33410e11-322f-4e1e-979b-fe8de0e69a0e",
   "metadata": {
    "slideshow": {
     "slide_type": "skip"
    },
    "tags": []
   },
   "source": [
    "# Virtualization: containers; cloud computing\n",
    "_COSC 208, Introduction to Computer Systems, 2024-05-03_"
   ]
  },
  {
   "cell_type": "markdown",
   "id": "7b745dbf-4bfa-4331-87b1-1d6d0518484f",
   "metadata": {
    "slideshow": {
     "slide_type": "skip"
    },
    "tags": []
   },
   "source": [
    "## Announcements\n",
    "* Final exam week office hours: M 1:30pm-3pm, W 1pm-2:30pm, R 11am-2pm, or by appointment\n",
    "* Final exam: Friday, May 10 12pm-2pm \n",
    "    * One question for every standard\n",
    "    * Only need to earn satisfactory **once** for standards 6.4, 6.5, 5.1, 5.2"
   ]
  },
  {
   "cell_type": "markdown",
   "id": "91a6b9f6-e5e2-4677-8e45-9d026953759b",
   "metadata": {
    "slideshow": {
     "slide_type": "skip"
    },
    "tags": []
   },
   "source": [
    "## Outline\n",
    "* Warm-up\n",
    "* Containers\n",
    "* Cloud computing"
   ]
  },
  {
   "cell_type": "markdown",
   "id": "1134e57c-fb3e-44da-9d13-fdd42f3f6094",
   "metadata": {},
   "source": [
    "## Warm-up"
   ]
  },
  {
   "cell_type": "markdown",
   "id": "2f638d8d-c5d3-461b-bfbf-11495cbd996e",
   "metadata": {},
   "source": [
    "* Q1: _Draw a diagram of a system that does **not** use a hypervisor._"
   ]
  },
  {
   "cell_type": "markdown",
   "id": "44f5088a-7533-4ef1-8c16-b8760a5eb1bb",
   "metadata": {
    "slideshow": {
     "slide_type": "skip"
    },
    "tags": [
     "notes-only"
    ]
   },
   "source": [
    "```\n",
    "+----+ +----+\n",
    "|Proc| |Proc|\n",
    "+----+ +----+\n",
    "+-----------+\n",
    "|    OS     |\n",
    "+-----------+\n",
    "+-----------+\n",
    "|  Hardware |\n",
    "+-----------+\n",
    "```"
   ]
  },
  {
   "cell_type": "markdown",
   "id": "df217f8c-3418-4a0a-a8e2-6d19b8d36b71",
   "metadata": {
    "slideshow": {
     "slide_type": "skip"
    },
    "tags": [
     "worksheet-only"
    ]
   },
   "source": [
    "<p style=\"height:13em;\"></p>"
   ]
  },
  {
   "cell_type": "markdown",
   "id": "6e0efd5c-ba40-4b4d-a8e0-690ae44357da",
   "metadata": {},
   "source": [
    "* Q2: _Draw a diagram of a system that uses a **type 1 hypervisor**._"
   ]
  },
  {
   "cell_type": "markdown",
   "id": "53f1982d-ac4f-4b02-9305-ea2a7eaaaf42",
   "metadata": {
    "slideshow": {
     "slide_type": "skip"
    },
    "tags": [
     "notes-only"
    ]
   },
   "source": [
    "```\n",
    "+-------------+ +-------------+\n",
    "|     VM      | |     VM      |\n",
    "|+----+ +----+| |+----+ +----+|\n",
    "||Proc| |Proc|| ||Proc| |Proc||\n",
    "|+----+ +----+| |+----+ +----+|\n",
    "|+-----------+| |+-----------+|\n",
    "||    OS     || ||    OS     ||\n",
    "|+-----------+| |+-----------+|\n",
    "+-------------+ +-------------+\n",
    "+-----------------------------+\n",
    "|          Hypervisor         |\n",
    "+-----------------------------+\n",
    "+-----------------------------+\n",
    "|           Hardware          |\n",
    "+-----------------------------+\n",
    "```"
   ]
  },
  {
   "cell_type": "markdown",
   "id": "636a291a-c6a0-4a51-b824-6f36160ec57e",
   "metadata": {
    "slideshow": {
     "slide_type": "skip"
    },
    "tags": [
     "worksheet-only"
    ]
   },
   "source": [
    "<p style=\"height:14em;\"></p>"
   ]
  },
  {
   "cell_type": "markdown",
   "id": "3f874e4d-eb43-4161-8ca3-87518335964c",
   "metadata": {},
   "source": [
    "* Q3: _Draw a diagram of a system that uses a **type 2 hypervisor**._"
   ]
  },
  {
   "cell_type": "markdown",
   "id": "3c1f2b72-b2be-412d-bdae-e37e1bcb3321",
   "metadata": {
    "slideshow": {
     "slide_type": "skip"
    },
    "tags": [
     "notes-only"
    ]
   },
   "source": [
    "```\n",
    "              +-------------+ +-------------+\n",
    "              |     VM      | |     VM      |\n",
    "              |+----+ +----+| |+----+ +----+|\n",
    "              ||Proc| |Proc|| ||Proc| |Proc||\n",
    "              |+----+ +----+| |+----+ +----+|\n",
    "              |+-----------+| |+-----------+|\n",
    "              || Guest OS  || || Guest OS  ||\n",
    "              |+-----------+| |+-----------+|\n",
    "              +-------------+ +-------------+\n",
    "+----+ +----+ +-----------------------------+\n",
    "|Proc| |Proc| |          Hypervisor         |\n",
    "+----+ +----+ +-----------------------------+\n",
    "+-------------------------------------------+\n",
    "|                 Host OS                   |\n",
    "+-------------------------------------------+\n",
    "+-------------------------------------------+\n",
    "|                Hardware                   |\n",
    "+-------------------------------------------+\n",
    "```"
   ]
  },
  {
   "cell_type": "markdown",
   "id": "6fce365f-56b1-432a-a2d9-a790ae098d7b",
   "metadata": {
    "slideshow": {
     "slide_type": "skip"
    },
    "tags": [
     "worksheet-only"
    ]
   },
   "source": [
    "<p style=\"height:15em;\"></p>\n",
    "\n",
    "🛑 **STOP here** after completing the above questions; if you have extra time please **skip ahead** to the extra practice."
   ]
  },
  {
   "cell_type": "markdown",
   "id": "f01342dd-6255-491f-849d-66fbe5a1dddb",
   "metadata": {
    "slideshow": {
     "slide_type": "skip"
    },
    "tags": [
     "notes-only"
    ]
   },
   "source": [
    "## Containers"
   ]
  },
  {
   "cell_type": "markdown",
   "id": "a8c1945d-de2d-4763-8375-f9211214cb66",
   "metadata": {
    "slideshow": {
     "slide_type": "skip"
    },
    "tags": [
     "notes-only"
    ]
   },
   "source": [
    "* Containers — use a single OS, but create groups of processes that are isolated from other processes\n",
    "    * OS's process abstraction already isolates each process's CPU time, memory, and registers, but processes can still use syscalls to pass messages to each other, wait for each other, access a common set of files, etc.\n",
    "* Containers share the kernel — i.e., core OS functionality like syscalls, scheduler, I/O interface\n",
    "    * VMs do **not** share the kernel\n",
    "* Containers and VMs do **not** share the file system ==> containers and virtual machines do **not** share libraries, executables, etc.\n",
    "* Containers and VMs do **not** share user accounts\n",
    "* Containers and VMs do **not** share network stacks ==> e.g., each container or VM has its own Internet Protocol (IP) address\n",
    "* Compute and storage resources (e.g., CPU, memory) available to containers and VMs can be limited\n",
    "* Containers and VMs share the hardware"
   ]
  },
  {
   "cell_type": "markdown",
   "id": "8cb55e9c-968b-4bf8-8cb2-80cda62fe6ca",
   "metadata": {
    "slideshow": {
     "slide_type": "slide"
    },
    "tags": []
   },
   "source": [
    "## Cloud computing"
   ]
  },
  {
   "cell_type": "markdown",
   "id": "29db34e5-258d-4a78-80dd-826650ae9e27",
   "metadata": {
    "slideshow": {
     "slide_type": "skip"
    },
    "tags": [
     "notes-only"
    ]
   },
   "source": [
    "* Characteristics\n",
    "    * Resources available on-demand — tenants reserve resources only when they need them\n",
    "        * E.g., a company uses more virtual machines during the day when employees are using applications\n",
    "        * E.g., a website has more visitors during a sale or popular event\n",
    "    * Pay-per-use — only pay for the resources you use\n",
    "        * E.g., pay for a virtual machine per hour of use\n",
    "        * E.g., pay for storage per GB per month\n",
    "    * Shared & virtualized — physical servers and storage devices resources are used by multiple tenants\n",
    "        * E.g., multiple virtual machines run on the same machine\n",
    "        * Physical servers and storage are usually more isolated than network switches and links\n",
    "* Service models\n",
    "    * Infrastructure-as-a-Service (IaaS)\n",
    "        * Tenants lease virtual machines, virtual storage, and virtual networks\n",
    "        * Tenants must manage the operating system, file system, etc.\n",
    "        * E.g., Amazon EC2, Microsoft Azure, Rackspace, Google Compute Engine\n",
    "    * Platform-as-a-Service (PaaS)\n",
    "        * Tenants lease resources to run applications written in a specific language — Python, Java, Hadoop/MapReduce\n",
    "        * Cloud provider manages the operating system, file system, and network\n",
    "        * E.g., Google App Engine, Cloud Foundry, IBM Cloud\n",
    "    * Function-as-a-Service (FaaS) or serverless\n",
    "        * Tenants run independent snippets of code\n",
    "        * E.g., Amazon Lambda\n",
    "    * Software-as-a-Service (SaaS)\n",
    "        * Tenants lease access to specific software\n",
    "        * E.g., Salesforce, Concur, Constant Contact, Google Drive, Office 365\n",
    "    * Storage-as-a-Service (STaaS)\n",
    "        * E.g., Dropbox, Google Drive, iCloud\n",
    "* Ownership\n",
    "    * Public - anyone can request and use resources\n",
    "    * Private - resources are only available to tenants (e.g., departments) within a company or organization\n",
    "    * Hybrid - tenants use a combination of public and private cloud resources"
   ]
  },
  {
   "cell_type": "markdown",
   "id": "49ddad59-31e3-4cfc-9ce7-75a50cc9979f",
   "metadata": {},
   "source": [
    "_For each of the following service providers, indicate what type of service they offer._"
   ]
  },
  {
   "cell_type": "markdown",
   "id": "d4fe036f-1766-4600-9c4b-0402d146ce21",
   "metadata": {},
   "source": [
    "* Q4: _Box provides secure file sharing and storage_"
   ]
  },
  {
   "cell_type": "markdown",
   "id": "abedf3f9-15f9-47dc-bdd5-7c0ac0d50891",
   "metadata": {
    "slideshow": {
     "slide_type": "skip"
    },
    "tags": [
     "notes-only"
    ]
   },
   "source": [
    "    Storage-as-a-Service (STaaS)"
   ]
  },
  {
   "cell_type": "markdown",
   "id": "6ce440ff-9828-47c9-8825-e879081c64a4",
   "metadata": {
    "slideshow": {
     "slide_type": "skip"
    },
    "tags": [
     "worksheet-only"
    ]
   },
   "source": [
    "<p style=\"height:2em;\"></p>"
   ]
  },
  {
   "cell_type": "markdown",
   "id": "29213331-af80-42c0-901b-bdef8d4e2240",
   "metadata": {},
   "source": [
    "* Q5: _Microsoft Azure provides virtual machines running Windows or Linux_"
   ]
  },
  {
   "cell_type": "markdown",
   "id": "e0a1c6f5-8fc0-48f1-ad19-a164ab5393e0",
   "metadata": {
    "slideshow": {
     "slide_type": "skip"
    },
    "tags": [
     "notes-only"
    ]
   },
   "source": [
    "    Infrastructure-as-a-Service (IaaS)"
   ]
  },
  {
   "cell_type": "markdown",
   "id": "1d022fb2-6b60-443a-ac17-e0dd88ffc256",
   "metadata": {
    "slideshow": {
     "slide_type": "skip"
    },
    "tags": [
     "worksheet-only"
    ]
   },
   "source": [
    "<p style=\"height:2em;\"></p>"
   ]
  },
  {
   "cell_type": "markdown",
   "id": "bb99895d-5d60-4ca3-953b-288b452dfa27",
   "metadata": {},
   "source": [
    "* Q6: _Heroku allows tenants to deploy code written in Ruby, Java, PHP, Python, Go, Scala, or Clojure_"
   ]
  },
  {
   "cell_type": "markdown",
   "id": "2aafc725-014c-4887-847a-f0ee563dae76",
   "metadata": {
    "slideshow": {
     "slide_type": "skip"
    },
    "tags": [
     "notes-only"
    ]
   },
   "source": [
    "    Platform-as-a-Service (PaaS)"
   ]
  },
  {
   "cell_type": "markdown",
   "id": "aa31df66-976c-4b5b-b8ef-df2435f0af29",
   "metadata": {
    "slideshow": {
     "slide_type": "skip"
    },
    "tags": [
     "worksheet-only"
    ]
   },
   "source": [
    "<p style=\"height:2em;\"></p>"
   ]
  },
  {
   "cell_type": "markdown",
   "id": "f84c1592-1a5a-4b41-ac62-1dd47c43ebeb",
   "metadata": {},
   "source": [
    "* Q7: _Oracle Supply Chain Management (SCM) is software that allows businesses to manage their supply chain_"
   ]
  },
  {
   "cell_type": "markdown",
   "id": "c151ff2f-d34d-4247-9211-f014c2516e8d",
   "metadata": {
    "slideshow": {
     "slide_type": "skip"
    },
    "tags": [
     "notes-only"
    ]
   },
   "source": [
    "    Software-as-a-Service (SaaS)"
   ]
  },
  {
   "cell_type": "markdown",
   "id": "00d03456-1574-4d2e-af49-7334c8768b91",
   "metadata": {
    "slideshow": {
     "slide_type": "skip"
    },
    "tags": [
     "worksheet-only"
    ]
   },
   "source": [
    "<p style=\"height:2em;\"></p>"
   ]
  },
  {
   "cell_type": "markdown",
   "id": "54999f00-d30f-4bac-9be2-5385817cdfa3",
   "metadata": {
    "slideshow": {
     "slide_type": "slide"
    },
    "tags": []
   },
   "source": [
    "## Extra practice"
   ]
  },
  {
   "cell_type": "markdown",
   "id": "348f0d65-00bb-4633-8a2f-e88de0b7b815",
   "metadata": {},
   "source": [
    "* Q8: _What is an advantage of using **virtual machines with a type 1 hypervisor** instead of **virtual machines with a type 2 hypervisor**?_"
   ]
  },
  {
   "cell_type": "markdown",
   "id": "1d238e8b-ce1a-40c4-b014-fe86081bf26d",
   "metadata": {
    "slideshow": {
     "slide_type": "skip"
    },
    "tags": [
     "notes-only"
    ]
   },
   "source": [
    "    With a type 1 hypervisor, system calls issued by processes only need to be handled by the hypervisor and guest operating system, whereas with a type 2 hypervisor, system calls issued by processes need to be handled by the host operating system, hypervisor, and guest operating system. Thus, a type 1 hypervisor adds less overhead and results in better performance."
   ]
  },
  {
   "cell_type": "markdown",
   "id": "02ca3782-974e-452f-b95d-c67bc7b6526c",
   "metadata": {
    "slideshow": {
     "slide_type": "skip"
    },
    "tags": [
     "worksheet-only"
    ]
   },
   "source": [
    "<p style=\"height:8em;\"></p>"
   ]
  },
  {
   "cell_type": "markdown",
   "id": "75796e95-c9b2-4372-99e6-3fac43f69cbc",
   "metadata": {},
   "source": [
    "* Q9: _What is an advantage of using **virtual machines with a type 2 hypervisor** instead of **virtual machines with a type 1 hypervisor**?_"
   ]
  },
  {
   "cell_type": "markdown",
   "id": "0eeb1c78-da12-41b4-bcdd-9a3f4ed15fc6",
   "metadata": {
    "slideshow": {
     "slide_type": "skip"
    },
    "tags": [
     "notes-only"
    ]
   },
   "source": [
    "    A type 2 hypervisor can be installed atop an existing (host) operating system just like any other application, whereas a type 1 hypervisor needs to be installed directly atop the hardware before any operating systems are installed. Thus, a type 2 hypervisor is easier to set up."
   ]
  },
  {
   "cell_type": "markdown",
   "id": "fe04ab3d-3b0c-46f2-8f9d-5dc333653f9c",
   "metadata": {
    "slideshow": {
     "slide_type": "skip"
    },
    "tags": [
     "worksheet-only"
    ]
   },
   "source": [
    "<p style=\"height:8em;\"></p>"
   ]
  },
  {
   "cell_type": "markdown",
   "id": "a7faa7de-557b-41bc-91bb-1a0a0da3122d",
   "metadata": {},
   "source": [
    "* Q10: _What is an advantage of using **containers** instead of **virtual machines with a type 1 hypervisor**?_"
   ]
  },
  {
   "cell_type": "markdown",
   "id": "3287f683-cb68-4f5b-a803-ed574449b523",
   "metadata": {
    "slideshow": {
     "slide_type": "skip"
    },
    "tags": [
     "notes-only"
    ]
   },
   "source": [
    "    With containers, all processes run atop a single operating system instances, whereas with a type 1 hypervisor, each group of processes requires a separate operating system. Thus, containers avoid the need to maintain multiple copies of the same operating system.\n",
    "\n",
    "    With containers, systems calls issued by processes only need to be handled by the operating system, just like a system without containers or virtual machines, whereas with a type 1 hypervisor, system calls issued by processes need to be handled by the hypervisor and the operating system running inside the virtual machine. Thus, containers add less overhead and result in better performance."
   ]
  },
  {
   "cell_type": "markdown",
   "id": "149697b3-8159-4043-8eda-5018e58722aa",
   "metadata": {
    "slideshow": {
     "slide_type": "skip"
    },
    "tags": [
     "worksheet-only"
    ]
   },
   "source": [
    "<p style=\"height:8em;\"></p>"
   ]
  },
  {
   "cell_type": "markdown",
   "id": "00a7c168-d114-4663-96ac-ee3a3dcbfb7f",
   "metadata": {},
   "source": [
    "* Q11: _What is an advantage of using **virtual machines with a type 1 hypervisor** instead of **containers**?_"
   ]
  },
  {
   "cell_type": "markdown",
   "id": "f0761ee9-cdf6-4af9-b908-91e4a128f6dc",
   "metadata": {
    "slideshow": {
     "slide_type": "skip"
    },
    "tags": [
     "notes-only"
    ]
   },
   "source": [
    "    With a type 1 hypervisor, multiple flavors (e.g., Windows, Linux, Mac OS) and/or versions (e.g., Windows 8, Windows 10) of operating systems can run atop the same physical hardware, whereas with containers only a single operating system can run atop the hardware. Thus, type 1 hypervisors allow multiple OSes to be run on the same computer system."
   ]
  }
 ],
 "metadata": {
  "kernelspec": {
   "display_name": "C",
   "language": "c",
   "name": "c"
  },
  "language_info": {
   "file_extension": ".c",
   "mimetype": "c",
   "name": "c"
  }
 },
 "nbformat": 4,
 "nbformat_minor": 5
}
