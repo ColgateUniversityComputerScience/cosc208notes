{
 "cells": [
  {
   "cell_type": "markdown",
   "id": "40c5bff8-f0b9-4222-80cb-62efa3710886",
   "metadata": {
    "slideshow": {
     "slide_type": "skip"
    },
    "tags": []
   },
   "source": [
    "# Number representation: bitwise operators\n",
    "_COSC 208, Introduction to Computer Systems, 2024-02-09_"
   ]
  },
  {
   "cell_type": "markdown",
   "id": "68808ca7-2439-4733-af47-a7ae068d48bb",
   "metadata": {
    "slideshow": {
     "slide_type": "skip"
    },
    "tags": []
   },
   "source": [
    "## Announcements\n",
    "* Quiz 1 in class Wed, Feb 14\n",
    "* Project 1 due Wed, Feb 21 @ 11pm"
   ]
  },
  {
   "cell_type": "markdown",
   "id": "3b3f6f1a-6540-48d2-b1af-4915be71fc04",
   "metadata": {
    "slideshow": {
     "slide_type": "skip"
    },
    "tags": []
   },
   "source": [
    "## Outline\n",
    "* Warm-up\n",
    "* Quiz 1 overview\n",
    "* Project 1 overview\n",
    "* Bitwise operators\n",
    "* Real numbers"
   ]
  },
  {
   "cell_type": "markdown",
   "id": "06ae68b0-3464-407c-b17f-c419329d72cb",
   "metadata": {
    "tags": []
   },
   "source": [
    "## Warm-up (Q10-Q14 from last class)"
   ]
  },
  {
   "cell_type": "markdown",
   "id": "2b8fb090-1806-408e-a726-d7cc9a0669c7",
   "metadata": {
    "jp-MarkdownHeadingCollapsed": true,
    "tags": []
   },
   "source": [
    "_For each of the following computations, determine whether the computation overflows, underflows, or neither. Assume we are using 8-bit signed integers._\n",
    "* Q1: `0b10000000 + 0b01111111`"
   ]
  },
  {
   "cell_type": "markdown",
   "id": "be8d7c55-98b4-4b63-92ff-b13c63a7d93f",
   "metadata": {
    "slideshow": {
     "slide_type": "skip"
    },
    "tags": [
     "notes-only"
    ]
   },
   "source": [
    "    neither"
   ]
  },
  {
   "cell_type": "markdown",
   "id": "010d4399-fc0b-4a82-9eb5-230d22c96081",
   "metadata": {
    "slideshow": {
     "slide_type": "skip"
    },
    "tags": [
     "worksheet-only"
    ]
   },
   "source": [
    "<p style=\"height:4em;\"></p>"
   ]
  },
  {
   "cell_type": "markdown",
   "id": "c6dd1ec9-f985-4383-9c96-923b5848f6ff",
   "metadata": {
    "jp-MarkdownHeadingCollapsed": true,
    "tags": []
   },
   "source": [
    "* Q2: `0b10000001 + 0b01111111`"
   ]
  },
  {
   "cell_type": "markdown",
   "id": "aaf1999d-98c5-4e6e-b3f2-3be0e12ef9a3",
   "metadata": {
    "slideshow": {
     "slide_type": "skip"
    },
    "tags": [
     "notes-only"
    ]
   },
   "source": [
    "    neither"
   ]
  },
  {
   "cell_type": "markdown",
   "id": "04144daf-6979-481b-a1f5-944efbbc18d1",
   "metadata": {
    "slideshow": {
     "slide_type": "skip"
    },
    "tags": [
     "worksheet-only"
    ]
   },
   "source": [
    "<p style=\"height:4em;\"></p>"
   ]
  },
  {
   "cell_type": "markdown",
   "id": "0b3aca9c-5089-42aa-b94e-6b20f29431f0",
   "metadata": {
    "jp-MarkdownHeadingCollapsed": true,
    "tags": []
   },
   "source": [
    "* Q3: `0b10000000 + 0b10000001`"
   ]
  },
  {
   "cell_type": "markdown",
   "id": "2d647a76-622d-409a-af5b-0b0ea2de7ab3",
   "metadata": {
    "slideshow": {
     "slide_type": "skip"
    },
    "tags": [
     "notes-only"
    ]
   },
   "source": [
    "    underflow"
   ]
  },
  {
   "cell_type": "markdown",
   "id": "ef8326bb-ffab-4fc6-8522-81f997f9ab4a",
   "metadata": {
    "slideshow": {
     "slide_type": "skip"
    },
    "tags": [
     "worksheet-only"
    ]
   },
   "source": [
    "<p style=\"height:4em;\"></p>"
   ]
  },
  {
   "cell_type": "markdown",
   "id": "015796f8-2bbd-440c-b853-a93b8e8df641",
   "metadata": {
    "jp-MarkdownHeadingCollapsed": true,
    "tags": []
   },
   "source": [
    "* Q4: `0b11000000 + 0b11000000`"
   ]
  },
  {
   "cell_type": "markdown",
   "id": "a38931ec-b714-4741-a0ff-d48dd71b93a8",
   "metadata": {
    "slideshow": {
     "slide_type": "skip"
    },
    "tags": [
     "notes-only"
    ]
   },
   "source": [
    "    neither"
   ]
  },
  {
   "cell_type": "markdown",
   "id": "eae15875-15da-4c54-801d-c13c7c463788",
   "metadata": {
    "slideshow": {
     "slide_type": "skip"
    },
    "tags": [
     "worksheet-only"
    ]
   },
   "source": [
    "<p style=\"height:5em;\"></p>"
   ]
  },
  {
   "cell_type": "markdown",
   "id": "6a4f427a-cc83-4e14-ac4d-6db0222bd1b8",
   "metadata": {
    "jp-MarkdownHeadingCollapsed": true,
    "tags": []
   },
   "source": [
    "* Q5: `0b01111111 + 0b00000001`"
   ]
  },
  {
   "cell_type": "markdown",
   "id": "6597c562-6479-40fb-849e-828c5d408e41",
   "metadata": {
    "slideshow": {
     "slide_type": "skip"
    },
    "tags": [
     "notes-only"
    ]
   },
   "source": [
    "    overflow"
   ]
  },
  {
   "cell_type": "markdown",
   "id": "e345f93c-99fe-454f-8dac-89561a854a1d",
   "metadata": {
    "slideshow": {
     "slide_type": "skip"
    },
    "tags": [
     "worksheet-only"
    ]
   },
   "source": [
    "<p style=\"height:4em;\"></p>\n",
    "\n",
    "🛑 **STOP here** after completing the above questions; if you have extra time please **skip ahead** to the extra practice."
   ]
  },
  {
   "cell_type": "markdown",
   "id": "39e9fd8b-e7ca-48a6-b6d2-7b84a77a70e7",
   "metadata": {
    "slideshow": {
     "slide_type": "slide"
    },
    "tags": []
   },
   "source": [
    "## Quiz 1 overview\n",
    "* Standards assessed:\n",
    "    * 1.1: Develop C code that appropriately manipulates numbers, characters, and strings\n",
    "    * 1.2: Convert signed and unsigned numbers between decimal, binary, and hexadecimal\n",
    "    * 1.3: Compute the results of arithmetic and bitwise operators in binary"
   ]
  },
  {
   "cell_type": "markdown",
   "id": "a4df7828-e534-485f-bc78-e38def4dfc1f",
   "metadata": {
    "slideshow": {
     "slide_type": "subslide"
    },
    "tags": []
   },
   "source": [
    "* Every quiz question and each project’s functionality and design will receive one of three marks that summarizes your current level of achievement:\n",
    "    * **Satisfactory** means you have met the standard the quiz question is assessing. \n",
    "    * **Progressing** means you have more learning to do; you should practice the standard and attempt to meet the standard on another quiz.\n",
    "    * **Insufficient** means your work is far from satisfactory, and a lot of revision or practice is needed.\n",
    "* To earn an A, you must achieve satisfactory twice on all 18 standards – see the table in the syllabus for other letter grades\n",
    "    * Every standard will appear on at least three quizzes."
   ]
  },
  {
   "cell_type": "markdown",
   "id": "095ae7bb-162d-4bb8-a528-4219ce24d7d6",
   "metadata": {
    "slideshow": {
     "slide_type": "subslide"
    },
    "tags": []
   },
   "source": [
    "* The exam will consist of a coding question and multiple written questions.\n",
    "    * The **coding question** will ask you to write a function in C, similar to the functions you write in class and lab. You will use VS Code and your RPi to complete the coding portion. You may compile and run your code and consult the man pages.\n",
    "    * The **written questions** will be similar to those we solve in class. Questions about number representation will use values small enough that you can perform computations by hand.\n",
    "    * You may not use any other tools or resources (e.g., class notes, textbook, searching the internet, calculator) during the exam."
   ]
  },
  {
   "cell_type": "markdown",
   "id": "9c841492-d499-4a13-b162-897c19012435",
   "metadata": {
    "slideshow": {
     "slide_type": "subslide"
    },
    "tags": []
   },
   "source": [
    "* Doing problems from class is an excellent way to study.\n",
    "* I assume some students may have access to previous exams, so I have made all of my previous COSC 208 exams available (linked from Moodle) to ensure everyone has equal access. I do not release solutions, because I want you to try to answer questions on your own first. If you unsure about your answer to a problem, I would be happy to discuss the problem with you during office hours."
   ]
  },
  {
   "cell_type": "markdown",
   "id": "c55dc267-92bc-41aa-b55a-93409c70df65",
   "metadata": {
    "slideshow": {
     "slide_type": "slide"
    },
    "tags": []
   },
   "source": [
    "## Project 1 overview\n",
    "* **Projects must be completed with a partner.** Contact Aaron if you would like help finding a partner or you want to complete a project on your own.\n",
    "* **An opportunity to revise your project is contingent upon good time management.** I expect your git history to demonstrate that you started each project shortly after it was released and you worked on the project over multiple sessions."
   ]
  },
  {
   "cell_type": "markdown",
   "id": "2667ca47-8cfa-4ef0-9054-9df47033b0c7",
   "metadata": {
    "slideshow": {
     "slide_type": "subslide"
    },
    "tags": []
   },
   "source": [
    "* **Functionality**\n",
    "    * Satisfactory: **two or fewer minor bugs**\n",
    "    * Progressing: **two or fewer major bugs**\n",
    "    * See examples of minor and major bugs in project instructions\n",
    "* **Design**\n",
    "    * Satisfactory: must adhere to **all** design criteria in the project instructions\n",
    "    * Progressing: adheres to **most, but not all,** of the design criteria"
   ]
  },
  {
   "cell_type": "markdown",
   "id": "dae3cdd1-8be7-485a-b0a1-44e05e95e927",
   "metadata": {
    "slideshow": {
     "slide_type": "subslide"
    },
    "tags": []
   },
   "source": [
    "* **Academic Integrity**\n",
    "    \n",
    "    “Set[ting] an example of ethical behavior in public and in private” is one of the 13 goals of a Colgate education. As part of this goal, Colgate has an **academic honor code** you are expected to follow. Additionally, “a computing professional should uphold, promote, and respect the principles of the **Association for Computing Machinery (ACM) Code of Ethics and Professional Conduct”**.\n",
    "    \n",
    "\n",
    "    In particular, you **may not share or copy code/answers from other students.** Violations of this policy will be considered facilitating academic misconduct and/or cheating according to Colgate’s academic honor code.\n",
    "    \n",
    "    Additionally, you **must clearly indicate if any code is copied from or inspired by external sources** (e.g., Stack Overflow, ChatGPT, GitHub Copilot) and adhere to the licensing requirements of such code. Violations of this policy will be considered cheating or plagiarism according to Colgate’s academic honor code. Note that question and answer forums (e.g., Stack Overflow) are often unreliable, and AI-based tools (e.g., ChatGPT) have significant limitations and legal complications.\n",
    "    \n",
    "    **If you are struggling to complete an activity—due to a lack of understanding, time pressure, personal matters, etc.—please contact me. I want you to succeed, and I will do everything I can to help you.** Violating the academic honesty expectations for the course (almost) always leads to a bad experience for you and me. If you are unsure what constitutes academic misconduct, please contact me as soon as possible."
   ]
  },
  {
   "cell_type": "markdown",
   "id": "c7aeb2f7-666d-43ad-968a-bf2f24bc5cd7",
   "metadata": {
    "slideshow": {
     "slide_type": "slide"
    },
    "tags": []
   },
   "source": [
    "## Bitwise operators"
   ]
  },
  {
   "cell_type": "markdown",
   "id": "2ceb5846-f182-4f82-8e1a-bcf6596bae35",
   "metadata": {
    "slideshow": {
     "slide_type": "skip"
    },
    "tags": [
     "notes-only"
    ]
   },
   "source": [
    "* Apply an operation to a single bit (not) or a pair of bits (and, or, xor)\n",
    "* `~` (not)\n",
    "    * Flips bits: if bit is 0, then result is 1; otherwise, result is 0\n",
    "    * Example: `~0b101` = `0b010`\n",
    "* `&` (and)\n",
    "    * If both bits are 1, then result is 1; otherwise, result is 0\n",
    "    * Example: `0b0101 & 0b0011` = `0b0001`\n",
    "    * This is different than logical and (`&&`) which checks whether both operands are non-zero\n",
    "* `|` (or)\n",
    "    * If either or both bits are 1, then result is 1; otherwise, result is 0\n",
    "    * Example: `0b0101 | 0b0011` = `0b0111`\n",
    "    * This is different than logical or (`||`) which checks whether at least one operand is non-zero\n",
    "* `^` (xor)\n",
    "    * If either, but not both, bits are 1, then result is 1; otherwise, result is 0\n",
    "    * Example: `0b0101 ^ 0b0011` = `0b0110`\n",
    "* `<<` (left shift), `>>` (right shift)\n",
    "    * Move bits to the left or the right and append or prepend zeros to keep the same number of bits\n",
    "    * Example: `0b1111 << 0b0010` = `0b1100`\n",
    "    * Example: `0b1111 >> 0b0001` = `0b0111`\n",
    "    * Can use bit shifting to multiply or divide by powers of two"
   ]
  },
  {
   "cell_type": "markdown",
   "id": "69707f88-6f03-4c34-9993-fe3aba6b303e",
   "metadata": {},
   "source": [
    "_Determine the resulting binary_"
   ]
  },
  {
   "cell_type": "markdown",
   "id": "1ebcbb72-26a9-4009-8c7c-fab10f900b78",
   "metadata": {
    "jp-MarkdownHeadingCollapsed": true,
    "tags": []
   },
   "source": [
    "* Q6: `0b1010 | 0b0101`"
   ]
  },
  {
   "cell_type": "markdown",
   "id": "d786d117-61b4-4295-ab29-36e772663c6a",
   "metadata": {
    "slideshow": {
     "slide_type": "skip"
    },
    "tags": [
     "notes-only"
    ]
   },
   "source": [
    "_Postponed to next class_"
   ]
  },
  {
   "cell_type": "markdown",
   "id": "6726dcf9-a4bf-4705-bf06-009453302481",
   "metadata": {
    "slideshow": {
     "slide_type": "skip"
    },
    "tags": [
     "worksheet-only"
    ]
   },
   "source": [
    "<p style=\"height:4em;\"></p>"
   ]
  },
  {
   "cell_type": "markdown",
   "id": "5ddbf729-23e7-4640-b36b-45f3013bb5a1",
   "metadata": {
    "jp-MarkdownHeadingCollapsed": true,
    "tags": []
   },
   "source": [
    "* Q7: `0b1010 & 0b0101`"
   ]
  },
  {
   "cell_type": "markdown",
   "id": "ef6c9580-8ba7-47f9-bc86-744a647b1c53",
   "metadata": {
    "slideshow": {
     "slide_type": "skip"
    },
    "tags": [
     "notes-only"
    ]
   },
   "source": [
    "_Postponed to next class_"
   ]
  },
  {
   "cell_type": "markdown",
   "id": "d4e500f3-fe06-4eb9-9d33-748ffbfd577d",
   "metadata": {
    "slideshow": {
     "slide_type": "skip"
    },
    "tags": [
     "worksheet-only"
    ]
   },
   "source": [
    "<p style=\"height:4em;\"></p>"
   ]
  },
  {
   "cell_type": "markdown",
   "id": "3ab6a1f7-82f7-4a82-8a82-40be8a00d775",
   "metadata": {
    "jp-MarkdownHeadingCollapsed": true,
    "tags": []
   },
   "source": [
    "* Q8: `~(0b1100 & 0b0110)`"
   ]
  },
  {
   "cell_type": "markdown",
   "id": "afe65767-53c3-4e07-953d-c2e9d9c9bfb6",
   "metadata": {
    "slideshow": {
     "slide_type": "skip"
    },
    "tags": [
     "notes-only"
    ]
   },
   "source": [
    "_Postponed to next class_"
   ]
  },
  {
   "cell_type": "markdown",
   "id": "db027225-b323-4a99-9000-df778cf623ef",
   "metadata": {
    "slideshow": {
     "slide_type": "skip"
    },
    "tags": [
     "worksheet-only"
    ]
   },
   "source": [
    "<p style=\"height:4em;\"></p>"
   ]
  },
  {
   "cell_type": "markdown",
   "id": "8e7b73b9-b46a-4572-a17d-ec13f0a27a5d",
   "metadata": {
    "jp-MarkdownHeadingCollapsed": true,
    "tags": []
   },
   "source": [
    "* Q9: `0b1000 >> 0b011`"
   ]
  },
  {
   "cell_type": "markdown",
   "id": "9b247431-6936-41ec-9555-5babb07a7fe7",
   "metadata": {
    "slideshow": {
     "slide_type": "skip"
    },
    "tags": [
     "notes-only"
    ]
   },
   "source": [
    "_Postponed to next class_"
   ]
  },
  {
   "cell_type": "markdown",
   "id": "16424f37-df35-4c81-991a-d4df3ef24655",
   "metadata": {
    "slideshow": {
     "slide_type": "skip"
    },
    "tags": [
     "worksheet-only"
    ]
   },
   "source": [
    "<p style=\"height:4em;\"></p>"
   ]
  },
  {
   "cell_type": "markdown",
   "id": "6f5a2b08-52db-48bc-8f6a-2f9e24ce68a3",
   "metadata": {
    "jp-MarkdownHeadingCollapsed": true,
    "tags": []
   },
   "source": [
    "* Q10: `0b0001 << 0b0010`"
   ]
  },
  {
   "cell_type": "markdown",
   "id": "5b01f7be-3f21-4a60-b121-e7021ceb0277",
   "metadata": {
    "slideshow": {
     "slide_type": "skip"
    },
    "tags": [
     "notes-only"
    ]
   },
   "source": [
    "_Postponed to next class_"
   ]
  },
  {
   "cell_type": "markdown",
   "id": "5f9221b1-76b1-4406-a1d8-d5edc6a65549",
   "metadata": {
    "slideshow": {
     "slide_type": "skip"
    },
    "tags": [
     "worksheet-only"
    ]
   },
   "source": [
    "<p style=\"height:4em;\"></p>"
   ]
  },
  {
   "cell_type": "markdown",
   "id": "6086e45d-d9b3-42b1-bdc0-5b86ec2c986a",
   "metadata": {
    "jp-MarkdownHeadingCollapsed": true,
    "tags": []
   },
   "source": [
    "* Q11: `0b1111 & (~0b0010)`"
   ]
  },
  {
   "cell_type": "markdown",
   "id": "53aa86b4-ac96-4a03-9830-7c38d0b41579",
   "metadata": {
    "slideshow": {
     "slide_type": "skip"
    },
    "tags": [
     "notes-only"
    ]
   },
   "source": [
    "_Postponed to next class_"
   ]
  },
  {
   "cell_type": "markdown",
   "id": "ad466f1f-a16f-4901-917e-2480ace6e1ed",
   "metadata": {
    "slideshow": {
     "slide_type": "skip"
    },
    "tags": [
     "worksheet-only"
    ]
   },
   "source": [
    "<p style=\"height:4em;\"></p>"
   ]
  },
  {
   "cell_type": "markdown",
   "id": "ef0d34ee-0ecb-4a32-9807-a82ffbdee309",
   "metadata": {
    "jp-MarkdownHeadingCollapsed": true,
    "tags": []
   },
   "source": [
    "* Q12: `0b0000 | 0b0010`"
   ]
  },
  {
   "cell_type": "markdown",
   "id": "4ec88dd1-5feb-4fde-8702-5e6d82bad612",
   "metadata": {
    "slideshow": {
     "slide_type": "skip"
    },
    "tags": [
     "notes-only"
    ]
   },
   "source": [
    "_Postponed to next class_"
   ]
  },
  {
   "cell_type": "markdown",
   "id": "8488d6ae-ceb8-47a7-9226-de2c05680f96",
   "metadata": {
    "slideshow": {
     "slide_type": "skip"
    },
    "tags": [
     "worksheet-only"
    ]
   },
   "source": [
    "<p style=\"height:4em;\"></p>\n",
    "\n",
    "🛑 **STOP here** after completing the above questions; if you have extra time please **skip ahead** to the extra practice."
   ]
  },
  {
   "cell_type": "markdown",
   "id": "f29edede-b6ba-49bf-9236-139fb7f78c85",
   "metadata": {
    "slideshow": {
     "slide_type": "slide"
    },
    "tags": []
   },
   "source": [
    "## Real numbers"
   ]
  },
  {
   "cell_type": "markdown",
   "id": "44d4beb3-3002-4d9d-ad6f-39555f7ed878",
   "metadata": {
    "tags": []
   },
   "source": [
    "_Express the following real numbers using 8-bit fixed point representation with 4 bits for the fractional part. If the number cannot be expressed exactly, express it as closely as you can and indicate which number is actually represented by the bits._\n",
    "* Q13: `5.75`"
   ]
  },
  {
   "cell_type": "markdown",
   "id": "086dbd85-9df7-44e5-9a6b-be20cf64e3cf",
   "metadata": {
    "slideshow": {
     "slide_type": "skip"
    },
    "tags": [
     "notes-only"
    ]
   },
   "source": [
    "_Postponed to extra practice next class_"
   ]
  },
  {
   "cell_type": "markdown",
   "id": "2a5da8ca-c16b-44a5-90dd-ad10355cafe1",
   "metadata": {
    "slideshow": {
     "slide_type": "skip"
    },
    "tags": [
     "worksheet-only"
    ]
   },
   "source": [
    "<p style=\"height:6em;\"></p>"
   ]
  },
  {
   "cell_type": "markdown",
   "id": "45e4bf19-7c78-4b22-a372-550ed6156864",
   "metadata": {
    "tags": []
   },
   "source": [
    "* Q14: `16.125`"
   ]
  },
  {
   "cell_type": "markdown",
   "id": "bf44a97e-c1b0-4ce3-98e2-0b8a6b3e01a7",
   "metadata": {
    "slideshow": {
     "slide_type": "skip"
    },
    "tags": [
     "notes-only"
    ]
   },
   "source": [
    "_Postponed to extra practice next class_"
   ]
  },
  {
   "cell_type": "markdown",
   "id": "1501a30b-2fd2-40fb-beb9-01b79d592132",
   "metadata": {
    "slideshow": {
     "slide_type": "skip"
    },
    "tags": [
     "worksheet-only"
    ]
   },
   "source": [
    "<p style=\"height:6em;\"></p>"
   ]
  },
  {
   "cell_type": "markdown",
   "id": "f8e2a993-2347-4b63-9129-bb562c228863",
   "metadata": {
    "tags": []
   },
   "source": [
    "* Q15: `4.1875`"
   ]
  },
  {
   "cell_type": "markdown",
   "id": "9a40bf3e-39f6-4bcd-a333-68fa08fbc25b",
   "metadata": {
    "slideshow": {
     "slide_type": "skip"
    },
    "tags": [
     "notes-only"
    ]
   },
   "source": [
    "_Postponed to extra practice next class_"
   ]
  },
  {
   "cell_type": "markdown",
   "id": "0cdb4917-92a0-4608-86f2-17ca27a5eb4e",
   "metadata": {
    "slideshow": {
     "slide_type": "skip"
    },
    "tags": [
     "worksheet-only"
    ]
   },
   "source": [
    "<p style=\"height:6em;\"></p>"
   ]
  },
  {
   "cell_type": "markdown",
   "id": "32a3e40a-f05c-423d-a2c9-12f7eb937b1b",
   "metadata": {
    "slideshow": {
     "slide_type": "slide"
    },
    "tags": []
   },
   "source": [
    "## Extra practice"
   ]
  },
  {
   "cell_type": "markdown",
   "id": "dc353155-95fa-4074-a2dc-57a41a39d4b7",
   "metadata": {
    "tags": []
   },
   "source": [
    "_Perform the following calculations. Operands are encoded using two's complement encoding with 6 bits. For each calculation, express the result in binary and decimal, and indicate whether the result overflows, underflows, or neither._\n",
    "* Q16: `0b110000 + 0b111111`"
   ]
  },
  {
   "cell_type": "markdown",
   "id": "d46f1d4b-6a1f-4fd2-af08-1f00d4465c58",
   "metadata": {
    "slideshow": {
     "slide_type": "skip"
    },
    "tags": [
     "notes-only"
    ]
   },
   "source": [
    "    0b101111 = -17; neither"
   ]
  },
  {
   "cell_type": "markdown",
   "id": "2b24a39d-03d3-4727-8770-56a62366db7a",
   "metadata": {
    "slideshow": {
     "slide_type": "skip"
    },
    "tags": [
     "worksheet-only"
    ]
   },
   "source": [
    "<p style=\"height:6em;\"></p>"
   ]
  },
  {
   "cell_type": "markdown",
   "id": "cbe5a3d2-45a4-4305-baaa-2019164fe265",
   "metadata": {
    "tags": []
   },
   "source": [
    "* Q17: `0b001111 + 0b000001`"
   ]
  },
  {
   "cell_type": "markdown",
   "id": "02d7028a-9fc8-4248-a6f1-08d8aecc0fd1",
   "metadata": {
    "slideshow": {
     "slide_type": "skip"
    },
    "tags": [
     "notes-only"
    ]
   },
   "source": [
    "     0b010000 = 16; neither"
   ]
  },
  {
   "cell_type": "markdown",
   "id": "017f0ef2-bff3-4348-8ce4-7b3eea24bbc4",
   "metadata": {
    "slideshow": {
     "slide_type": "skip"
    },
    "tags": [
     "worksheet-only"
    ]
   },
   "source": [
    "<p style=\"height:6em;\"></p>"
   ]
  },
  {
   "cell_type": "markdown",
   "id": "f1ed1128-0bd8-4746-ac62-7336558acca2",
   "metadata": {
    "tags": []
   },
   "source": [
    "* Q18: `0b101010 + 0b100100`"
   ]
  },
  {
   "cell_type": "markdown",
   "id": "6be606bc-c2ce-4aa5-968b-43ed28c84624",
   "metadata": {
    "slideshow": {
     "slide_type": "skip"
    },
    "tags": [
     "notes-only"
    ]
   },
   "source": [
    "    0b001110 = 14; underflow"
   ]
  },
  {
   "cell_type": "markdown",
   "id": "aed7f3e3-76d1-4f29-a456-fafd86d59c24",
   "metadata": {
    "slideshow": {
     "slide_type": "skip"
    },
    "tags": [
     "worksheet-only"
    ]
   },
   "source": [
    "<p style=\"height:6em;\"></p>"
   ]
  },
  {
   "cell_type": "markdown",
   "id": "50468765-f8d6-448d-821a-5726af928fb8",
   "metadata": {
    "tags": []
   },
   "source": [
    "* Q19: `0b001000 + 0b011000`"
   ]
  },
  {
   "cell_type": "markdown",
   "id": "6e4ec48a-d944-4785-bfc6-6135cd762a95",
   "metadata": {
    "slideshow": {
     "slide_type": "skip"
    },
    "tags": [
     "notes-only"
    ]
   },
   "source": [
    "    0b100000 = -32; overflow"
   ]
  },
  {
   "cell_type": "markdown",
   "id": "84dfea77-c5ee-44a4-a0c4-a2a3d3008ef9",
   "metadata": {
    "slideshow": {
     "slide_type": "skip"
    },
    "tags": [
     "worksheet-only"
    ]
   },
   "source": [
    "<p style=\"height:6em;\"></p>"
   ]
  },
  {
   "cell_type": "markdown",
   "id": "379e3c26-5e02-4a7c-b788-facc869886cb",
   "metadata": {
    "tags": []
   },
   "source": [
    "* Q20: `0b110000 + 0b010000`"
   ]
  },
  {
   "cell_type": "markdown",
   "id": "dcf9b447-68c9-4465-b4a2-ba6f5b5d8027",
   "metadata": {
    "slideshow": {
     "slide_type": "skip"
    },
    "tags": [
     "notes-only"
    ]
   },
   "source": [
    "    0b000000 = 0; neither"
   ]
  },
  {
   "cell_type": "markdown",
   "id": "7bffd65d-5f96-4b4d-af76-5b01c03d7995",
   "metadata": {
    "slideshow": {
     "slide_type": "skip"
    },
    "tags": [
     "worksheet-only"
    ]
   },
   "source": [
    "<p style=\"height:6em;\"></p>"
   ]
  },
  {
   "cell_type": "markdown",
   "id": "b0e970c6-93c9-4b0a-a9a6-e70f95a6b979",
   "metadata": {
    "slideshow": {
     "slide_type": "subslide"
    },
    "tags": []
   },
   "source": [
    "_Express your answers to the following questions in terms of `n`: e.g., `n/2`._\n",
    "* Q21: _What is the minimum number of bits required to express the unsigned decimal number **2<sup>n</sup> - 1**?_"
   ]
  },
  {
   "cell_type": "markdown",
   "id": "09ecade1-beee-482f-9b26-1f5a3043eace",
   "metadata": {
    "slideshow": {
     "slide_type": "skip"
    },
    "tags": [
     "notes-only"
    ]
   },
   "source": [
    "    n"
   ]
  },
  {
   "cell_type": "markdown",
   "id": "00fbe4a9-c5eb-4bb4-951e-752da6fde81b",
   "metadata": {
    "slideshow": {
     "slide_type": "skip"
    },
    "tags": [
     "worksheet-only"
    ]
   },
   "source": [
    "<p style=\"height:2em;\"></p>"
   ]
  },
  {
   "cell_type": "markdown",
   "id": "c02b1238-a0cd-465d-a5be-4fabadc2e031",
   "metadata": {
    "jp-MarkdownHeadingCollapsed": true,
    "tags": []
   },
   "source": [
    "* Q22: _What is the minimum number of bits required to express the signed decimal number **2<sup>n</sup> − 1** using two’s complement?_"
   ]
  },
  {
   "cell_type": "markdown",
   "id": "287c3a33-2760-4831-8a71-f09456de9d09",
   "metadata": {
    "slideshow": {
     "slide_type": "skip"
    },
    "tags": [
     "notes-only"
    ]
   },
   "source": [
    "    n + 1"
   ]
  },
  {
   "cell_type": "markdown",
   "id": "1cbea247-e3b1-4751-9a0b-21c9185f79e3",
   "metadata": {
    "slideshow": {
     "slide_type": "skip"
    },
    "tags": [
     "worksheet-only"
    ]
   },
   "source": [
    "<p style=\"height:2em;\"></p>"
   ]
  },
  {
   "cell_type": "markdown",
   "id": "3db8b39e-6f68-40bf-8312-a3a9db2c74da",
   "metadata": {
    "jp-MarkdownHeadingCollapsed": true,
    "tags": []
   },
   "source": [
    "* Q23: _What is the minimum number of bits required to express the signed decimal number **−2<sup>n</sup>  + 1** using two’s complement?_"
   ]
  },
  {
   "cell_type": "markdown",
   "id": "18027865-54fa-423d-9c10-4202eda716b1",
   "metadata": {
    "slideshow": {
     "slide_type": "skip"
    },
    "tags": [
     "notes-only"
    ]
   },
   "source": [
    "    n + 1"
   ]
  },
  {
   "cell_type": "markdown",
   "id": "8805ef64-94dc-44c7-92dd-077bac711870",
   "metadata": {
    "slideshow": {
     "slide_type": "skip"
    },
    "tags": [
     "worksheet-only"
    ]
   },
   "source": [
    "<p style=\"height:2em;\"></p>"
   ]
  }
 ],
 "metadata": {
  "kernelspec": {
   "display_name": "C",
   "language": "c",
   "name": "c"
  },
  "language_info": {
   "file_extension": ".c",
   "mimetype": "c",
   "name": "c"
  }
 },
 "nbformat": 4,
 "nbformat_minor": 5
}
