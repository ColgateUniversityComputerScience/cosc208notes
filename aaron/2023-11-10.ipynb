{
 "cells": [
  {
   "cell_type": "markdown",
   "id": "d4c0cf7a-6741-41de-924b-477e6ac8b4e3",
   "metadata": {
    "slideshow": {
     "slide_type": "skip"
    },
    "tags": []
   },
   "source": [
    "# Multiprocessing: interprocess communication; Efficiency: memory hierarchy\n",
    "_COSC 208, Introduction to Computer Systems, 2023-11-10_"
   ]
  },
  {
   "cell_type": "markdown",
   "id": "ed5ad917-28d5-4478-b50b-72e280029552",
   "metadata": {
    "slideshow": {
     "slide_type": "skip"
    },
    "tags": []
   },
   "source": [
    "## Announcements\n",
    "* Project 3 due Monday @ 11pm"
   ]
  },
  {
   "cell_type": "markdown",
   "id": "da1fb4b2-e9fe-4d36-a409-388d2f498f71",
   "metadata": {
    "slideshow": {
     "slide_type": "skip"
    },
    "tags": []
   },
   "source": [
    "## Outline\n",
    "* Interprocess communication\n",
    "* Memory hierarchy"
   ]
  },
  {
   "cell_type": "markdown",
   "id": "98d9a0d4-d0f9-405a-8eea-5e10559587d0",
   "metadata": {},
   "source": [
    "## No warm-up – Happy Friday!"
   ]
  },
  {
   "cell_type": "markdown",
   "id": "667fdfc7-3605-48a5-813a-02023217a56e",
   "metadata": {
    "slideshow": {
     "slide_type": "skip"
    },
    "tags": []
   },
   "source": [
    "## Interprocess communication"
   ]
  },
  {
   "cell_type": "markdown",
   "id": "f36c4a38-0b5d-4adf-ad4a-208dfb0bafa0",
   "metadata": {
    "slideshow": {
     "slide_type": "skip"
    },
    "tags": [
     "notes-only"
    ]
   },
   "source": [
    "* Signals\n",
    "    * Send using the `kill` system call\n",
    "    * Register a signal handler using the `signal` system call – must register before calling fork"
   ]
  },
  {
   "cell_type": "markdown",
   "id": "c67ee0f3-7014-4afd-9200-24d655fde57f",
   "metadata": {
    "slideshow": {
     "slide_type": "skip"
    },
    "tags": []
   },
   "source": [
    "* Example with signals"
   ]
  },
  {
   "cell_type": "code",
   "execution_count": 28,
   "id": "a0a002da-107b-4952-9ede-932c1189d8c6",
   "metadata": {
    "slideshow": {
     "slide_type": "slide"
    },
    "tags": [
     "worksheet-code-only"
    ]
   },
   "outputs": [
    {
     "name": "stdout",
     "output_type": "stream",
     "text": [
      "Parent 3946\n",
      "Child 3947\n",
      "3947 received 30\n"
     ]
    }
   ],
   "source": [
    "#include <signal.h>\n",
    "#include <stdio.h>\n",
    "#include <unistd.h>\n",
    "\n",
    "void signal_handler(int sig) {\n",
    "    printf(\"%d received %d\\n\", getpid(), sig);\n",
    "}\n",
    "\n",
    "int main() {\n",
    "    int result = fork();\n",
    "    if (result < 0) {\n",
    "        return 1;\n",
    "    } else if (result == 0) {\n",
    "        printf(\"Child %d\\n\", getpid());\n",
    "        if (signal(SIGUSR1, signal_handler) == SIG_ERR) {\n",
    "            return 1;\n",
    "        }\n",
    "        for (int i = 0; i < 1000*100000; i++); // Do work\n",
    "    } else {\n",
    "        printf(\"Parent %d\\n\", getpid());\n",
    "        for (int i = 0; i < 1000*1000; i++); // Do work\n",
    "        if (kill(result, SIGUSR1) < 0) {\n",
    "            return 1;\n",
    "        }\n",
    "        wait(NULL);\n",
    "    }\n",
    "    return 0;\n",
    "}"
   ]
  },
  {
   "cell_type": "markdown",
   "id": "701ef3e3-8ba9-496b-80ad-76bfdbdb1b5b",
   "metadata": {
    "slideshow": {
     "slide_type": "skip"
    },
    "tags": [
     "notes-only"
    ]
   },
   "source": [
    "* Message passing\n",
    "    * pipe – one-way communcation channel for two processes on the same machine\n",
    "    * socket - dual-way communication channel for two processes on the same or different machines"
   ]
  },
  {
   "cell_type": "markdown",
   "id": "9ef88839-e6c2-4a93-bc7c-f30955c0b81a",
   "metadata": {
    "slideshow": {
     "slide_type": "skip"
    },
    "tags": [
     "worksheet-only"
    ]
   },
   "source": [
    "<div style=\"page-break-after:always;\"></div>"
   ]
  },
  {
   "cell_type": "markdown",
   "id": "7ede93c2-b3ad-45fb-8685-c2e9c97eb736",
   "metadata": {
    "slideshow": {
     "slide_type": "skip"
    },
    "tags": []
   },
   "source": [
    "* Example with pipes"
   ]
  },
  {
   "cell_type": "code",
   "execution_count": 1,
   "id": "a3b036a4-3f11-4a8f-ae9a-8f228fecddbf",
   "metadata": {
    "slideshow": {
     "slide_type": "subslide"
    },
    "tags": [
     "worksheet-code-only"
    ]
   },
   "outputs": [
    {
     "name": "stdout",
     "output_type": "stream",
     "text": [
      "Child\n",
      "Hello from your parent!\n",
      "Parent\n"
     ]
    }
   ],
   "source": [
    "#include <signal.h>\n",
    "#include <stdio.h>\n",
    "#include <unistd.h>\n",
    "\n",
    "int main() {\n",
    "    int pipe_descriptors[2];\n",
    "    if (pipe(pipe_descriptors) < 0) {\n",
    "        return 1;\n",
    "    }\n",
    "\n",
    "    int result = fork();\n",
    "    if (result < 0) {\n",
    "        return 1;\n",
    "    } else if (result == 0) {\n",
    "        printf(\"Child\\n\");\n",
    "        char msg[1024];\n",
    "        read(pipe_descriptors[0], msg, 1024);\n",
    "        printf(\"%s\\n\", msg);\n",
    "    } else {\n",
    "        char msg[1024] = \"Hello from your parent!\";\n",
    "        write(pipe_descriptors[1], msg, 1024);\n",
    "        wait(NULL);\n",
    "        printf(\"Parent\\n\");\n",
    "    }\n",
    "    return 0;\n",
    "}"
   ]
  },
  {
   "cell_type": "markdown",
   "id": "786e1c70-a0df-4339-8d7b-cb0f868081ea",
   "metadata": {
    "slideshow": {
     "slide_type": "skip"
    },
    "tags": [
     "worksheet-only"
    ]
   },
   "source": [
    "<div style=\"page-break-after:always;\"></div>"
   ]
  },
  {
   "cell_type": "markdown",
   "id": "4f91ec9b-5ef5-4c91-8864-746ea677d891",
   "metadata": {
    "slideshow": {
     "slide_type": "skip"
    },
    "tags": []
   },
   "source": [
    "* Q1: _What does the following program output assuming the process identifier (PID) of the parent process is 3995 and the PID of the child process is 3996? (Note: `getpid` gets the PID of the calling process, and `getppid` gets the PID of the calling process's parent process.)_"
   ]
  },
  {
   "cell_type": "code",
   "execution_count": 3,
   "id": "77d56749-658f-407f-bab5-fbc15b745fa5",
   "metadata": {
    "slideshow": {
     "slide_type": "subslide"
    },
    "tags": [
     "worksheet-code-only"
    ]
   },
   "outputs": [
    {
     "name": "stdout",
     "output_type": "stream",
     "text": [
      "ElseIf 3995\n",
      "Else 3996\n",
      "SIGUSR1 3996\n",
      "SIGUSR2 3995\n"
     ]
    }
   ],
   "source": [
    "#include <signal.h>\n",
    "#include <stdio.h>\n",
    "#include <unistd.h>\n",
    "\n",
    "void signal_handler(int sig) {\n",
    "    if (sig == SIGUSR1) {\n",
    "        printf(\"SIGUSR1 %d\\n\", getpid());\n",
    "    } else if (sig == SIGUSR2) {\n",
    "        printf(\"SIGUSR2 %d\\n\", getpid());\n",
    "    }\n",
    "}\n",
    "\n",
    "int main() {\n",
    "    if (signal(SIGUSR1, signal_handler) == SIG_ERR) {\n",
    "        return 1;\n",
    "    }\n",
    "    if (signal(SIGUSR2, signal_handler) == SIG_ERR) {\n",
    "        return 1;\n",
    "    }\n",
    "    \n",
    "    int x = fork();\n",
    "    if (x < 0) {\n",
    "        return 1;\n",
    "    } else if (x > 0) {\n",
    "        printf(\"ElseIf %d\\n\", getpid());\n",
    "        for (int i = 0; i < 1000*1000; i++); // Do work\n",
    "        if (kill(x, SIGUSR1) < 0) {\n",
    "            return 1;\n",
    "        }\n",
    "        wait(NULL);\n",
    "    } else {\n",
    "        printf(\"Else %d\\n\", getpid());\n",
    "        for (int i = 0; i < 1000*1000; i++); // Do work\n",
    "        if (kill(getppid(), SIGUSR2) < 0) {\n",
    "            return 1;\n",
    "        }\n",
    "        for (int i = 0; i < 1000*1000; i++); // Do work\n",
    "    } \n",
    "    return 0;\n",
    "}"
   ]
  },
  {
   "cell_type": "markdown",
   "id": "055ab108-994c-405d-b84a-807e49d6b872",
   "metadata": {
    "slideshow": {
     "slide_type": "skip"
    },
    "tags": [
     "notes-only"
    ]
   },
   "source": [
    "## Memory hierarchy"
   ]
  },
  {
   "cell_type": "markdown",
   "id": "84a8e039-f872-4d4a-94f0-9c847f3742b9",
   "metadata": {
    "slideshow": {
     "slide_type": "skip"
    },
    "tags": [
     "notes-only"
    ]
   },
   "source": [
    "* Compares various forms of storage in terms of\n",
    "    * Access latency\n",
    "    * Capacity\n",
    "    * Cost\n",
    "    * Volatility\n",
    "* Access latency\n",
    "    * Let's consider a 1hz CPU, which means 1 cycle = 1 second\n",
    "    * Registers — 1 cycle = 1 second\n",
    "    * Caches — ~10 cycles = ~10 seconds\n",
    "    * Main memory — ~100 cycles = ~2 minutes\n",
    "    * Solid-state drive — ~1 million cycles = ~11.5 days\n",
    "    * Hard (i.e., traditional) disk drive — ~10 million cycles = ~115 days\n",
    "    * Remote (i.e., network) storage — ~20ms = ~2 years\n",
    "* Storage capacity\n",
    "    * Let's assume 1 byte = 1mL\n",
    "    * Registers — 30 * 8B = ~250mL = ~1 cup\n",
    "    * Caches (Core i7 in MacBook Pro)\n",
    "        * L1 — 32KB + 32KB = 64L = ~1 tank of gas\n",
    "        * L2 — 512KB * 4 cores = 2048L = ~7 bathtubs\n",
    "    * Main memory = 32GB (in MacBook Pro) = ~13 olympic swimming pools\n",
    "    * SSD = 1TB (in MacBook Pro) = ~Lake Moraine\n",
    "* Cost\n",
    "    * 2 x 16GB DRAM = ~$100 = $3.12 per GB\n",
    "    * 1TB SSD = $80 = $0.08 per GB\n",
    "    * 2TB HDD = $60 = $0.03 per GB\n",
    "* Volatility\n",
    "    * Primary storage (registers, caches, and main memory) — volatile (i.e., data is lost if power is lost)\n",
    "    * Secondary storage (SSD, HDD, network storage) — non-volatile (i.e., data is preserved if power is lost)"
   ]
  },
  {
   "cell_type": "markdown",
   "id": "afcddff5-ecba-4a2c-8235-14d74e7f55ce",
   "metadata": {
    "slideshow": {
     "slide_type": "skip"
    },
    "tags": [
     "notes-only"
    ]
   },
   "source": [
    "## Data movement"
   ]
  },
  {
   "cell_type": "markdown",
   "id": "dc549feb-bf5b-43f5-8fb0-76c93be58c97",
   "metadata": {
    "slideshow": {
     "slide_type": "skip"
    },
    "tags": [
     "notes-only"
    ]
   },
   "source": [
    "* Recall: _How does data move between the CPU, main memory, and secondary storage in the von Neumann Architecture?_ — bus\n",
    "* _Why does data move between registers and main memory?_ — not enough room in registers to store all values used by a program at runtime\n",
    "* _How can we move less data (i.e., perform fewer loads and stores)?_\n",
    "* Better use of registers — Loads and stores are unnecessary when the value of a register is not changed between store and load instructions involving the same register and memory address\n",
    "    * Example load which is _unnecessary_\n",
    "        ```\n",
    "        str x0, [sp,#4]\n",
    "        ldr x0, [sp,#4] // Can eliminiate\n",
    "        ```\n",
    "    * Example load store which is _necessary_\n",
    "        ```\n",
    "        str w0, [sp,#4]\n",
    "        mov w0, #0x1\n",
    "        str w0, [sp]\n",
    "        ldr w0, [sp,#4]\n",
    "        ```\n",
    "    * Better register assignments to eliminate loads (and stores)\n",
    "        ```\n",
    "        str w0, [sp,#4]\n",
    "        mov w1, #0x1\n",
    "        str w1, [sp]\n",
    "        ldr w0, [sp,#4] // Can eliminiate\n",
    "        ```\n",
    "    * Must preserve calling conventions\n",
    "        * Parameters are stored in w/x0, w/x1, ...\n",
    "        * Return value is stored in w/x0\n",
    "        * Caller must store register values into caller's stack frame before `bl` to callee — actually only needed if values in registers are needed by caller after `bl` and callee overwrites the values in those registers\n",
    "* Leverage locality\n",
    "    * Add additional memory to the CPU — i.e., a cache\n",
    "    * Optimize code to improve locality"
   ]
  }
 ],
 "metadata": {
  "kernelspec": {
   "display_name": "C",
   "language": "c",
   "name": "c"
  },
  "language_info": {
   "file_extension": ".c",
   "mimetype": "c",
   "name": "c"
  }
 },
 "nbformat": 4,
 "nbformat_minor": 5
}
