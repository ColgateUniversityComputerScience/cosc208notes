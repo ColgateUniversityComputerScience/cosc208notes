{
 "cells": [
  {
   "cell_type": "markdown",
   "id": "ffc437ac-d10b-4d12-895d-712e9c2057b5",
   "metadata": {
    "slideshow": {
     "slide_type": "skip"
    },
    "tags": []
   },
   "source": [
    "# Operating Systems & Concurrency: process API\n",
    "_COSC 208, Introduction to Computer Systems, 2024-04-10_"
   ]
  },
  {
   "cell_type": "markdown",
   "id": "2ef33852-2a4a-4911-8857-4047647e3db0",
   "metadata": {
    "slideshow": {
     "slide_type": "skip"
    },
    "tags": []
   },
   "source": [
    "## Announcements\n",
    "* Project 2 revisions due Friday at 11pm\n",
    "* Quiz 5 rescheduled for Friday, April 19"
   ]
  },
  {
   "cell_type": "markdown",
   "id": "377e6d68-2202-4782-afc7-a43582630f55",
   "metadata": {
    "slideshow": {
     "slide_type": "skip"
    },
    "tags": []
   },
   "source": [
    "## Outline\n",
    "* Warm-up: fork\n",
    "* Waiting for processes\n",
    "* Running a different program"
   ]
  },
  {
   "cell_type": "markdown",
   "id": "099f5346-79cf-4f66-b61d-6989dd1fc873",
   "metadata": {},
   "source": [
    "## Warm-up: Limited Direct Execution (LDE)"
   ]
  },
  {
   "cell_type": "markdown",
   "id": "db4dd70e-3b7e-4fea-a12d-e61ff739d1f6",
   "metadata": {},
   "source": [
    "* Q1: _One alternative to Limited Direct Execution (LDE) is **indirect execution**—i.e., for each assembly instruction an application wants to execute, the application must ask the OS to execute the instruction on the processor on the application’s behalf. Why is indirect execution a **poor design choice**?_"
   ]
  },
  {
   "cell_type": "markdown",
   "id": "be011add-4bd8-462c-82c8-d2ffdde20cdb",
   "metadata": {
    "slideshow": {
     "slide_type": "skip"
    },
    "tags": [
     "notes-only"
    ]
   },
   "source": [
    "    Significant overhead"
   ]
  },
  {
   "cell_type": "markdown",
   "id": "f08e42c5-967b-40a9-8500-8e97d5e3fc72",
   "metadata": {
    "slideshow": {
     "slide_type": "skip"
    },
    "tags": [
     "worksheet-only"
    ]
   },
   "source": [
    "<div style=\"height:7em;\"></div>"
   ]
  },
  {
   "cell_type": "markdown",
   "id": "120ad494-730c-4ee8-88e5-373b07db929a",
   "metadata": {},
   "source": [
    "* Q2: _Another alternative to LDE is **direct execution**–i.e., an application can execute its assembly instructions directly on the processor and access any location in main memory. Why is direct execution a **poor design choice**?_"
   ]
  },
  {
   "cell_type": "markdown",
   "id": "48cf0020-6ab0-4990-8446-923947dd9691",
   "metadata": {
    "slideshow": {
     "slide_type": "skip"
    },
    "tags": [
     "notes-only"
    ]
   },
   "source": [
    "    An application can interfere with another application's memory; an application can use the processor indefinitely"
   ]
  },
  {
   "cell_type": "markdown",
   "id": "381326f1-3361-412b-9445-3ad1182eaa6f",
   "metadata": {
    "slideshow": {
     "slide_type": "skip"
    },
    "tags": [
     "worksheet-only"
    ]
   },
   "source": [
    "<div style=\"height:7em;\"></div>"
   ]
  },
  {
   "cell_type": "markdown",
   "id": "902a1b61-fe9c-4f7b-ba63-1b44cad2d99c",
   "metadata": {},
   "source": [
    "* Q3: _What **processor feature(s)** make(s) LDE possible?_"
   ]
  },
  {
   "cell_type": "markdown",
   "id": "41fe9199-c441-46ec-95f4-87a951f5f164",
   "metadata": {
    "slideshow": {
     "slide_type": "skip"
    },
    "tags": [
     "notes-only"
    ]
   },
   "source": [
    "    Two modes: kernel mode (processor is in this mode when the OS is running) and user mode (processor is in this mode when the application is running); `svc` instruction to make a system call; time interrupts "
   ]
  },
  {
   "cell_type": "markdown",
   "id": "e70d5f49-9afc-40b4-823d-c708b34c1cf8",
   "metadata": {
    "slideshow": {
     "slide_type": "skip"
    },
    "tags": [
     "worksheet-only"
    ]
   },
   "source": [
    "<div style=\"height:7em;\"></div>"
   ]
  },
  {
   "cell_type": "markdown",
   "id": "19a654d5-f7c1-401d-bbf0-a08620132b8d",
   "metadata": {},
   "source": [
    "* Q4: _What work (if any) must be done by an application, the operating system (OS), and the processor when an application wants to perform a privileged operation—e.g., start another application?_"
   ]
  },
  {
   "cell_type": "markdown",
   "id": "b139253b-7f36-4ca9-b3d8-869d309e1154",
   "metadata": {
    "slideshow": {
     "slide_type": "skip"
    },
    "tags": [
     "notes-only"
    ]
   },
   "source": [
    "    Application puts the system call number in a register and executes the `svc` instruction; Processor switches to kernel mode, saves the values in the registers on the OS's stack, and branches to the appropriate system call handling code based on the system call number; OS executes the system call; Processor restores the application's register values from the OS's stack, switches to user mode, and resumes execution of the application by executing the next instruction after the `svc` instruction"
   ]
  },
  {
   "cell_type": "markdown",
   "id": "04df220f-9c7c-4ef8-85f1-2fdbe8e64bde",
   "metadata": {
    "slideshow": {
     "slide_type": "skip"
    },
    "tags": [
     "worksheet-only"
    ]
   },
   "source": [
    "<div style=\"height:15em;\"></div>"
   ]
  },
  {
   "cell_type": "markdown",
   "id": "bfd7dd19-559a-43db-9f14-26bfb75e149b",
   "metadata": {
    "slideshow": {
     "slide_type": "skip"
    },
    "tags": [
     "worksheet-only"
    ]
   },
   "source": [
    "🛑 **STOP here** after completing the above questions; if you have extra time **take a few deep breaths** to the reduce stress.\n",
    "\n",
    "<div style=\"page-break-after:always;\"></div>"
   ]
  },
  {
   "cell_type": "markdown",
   "id": "4c187212-e296-46ad-b1e9-bf189a178ee9",
   "metadata": {
    "slideshow": {
     "slide_type": "slide"
    },
    "tags": []
   },
   "source": [
    "## Creating processes"
   ]
  },
  {
   "cell_type": "markdown",
   "id": "59cc9231-2687-4a80-b1d7-c238664209ec",
   "metadata": {
    "slideshow": {
     "slide_type": "skip"
    },
    "tags": [
     "notes-only"
    ]
   },
   "source": [
    "* `int fork()`\n",
    "    * Creates an exact copy of the running process, except for the return value from `fork` — return `0` to child (i.e., new) process; return child’s process ID to parent process (i.e., process that called fork)\n",
    "    * Both child and parent resume execution from place where `fork` was called"
   ]
  },
  {
   "cell_type": "markdown",
   "id": "fe352157-0cec-4cee-b13d-d9a74feabd9f",
   "metadata": {},
   "source": [
    "* Q5: _What does the following code output?_"
   ]
  },
  {
   "cell_type": "code",
   "execution_count": 1,
   "id": "0dc6f4fa-6212-471b-82af-e33a4ab20b96",
   "metadata": {
    "tags": [
     "worksheet-code-only"
    ]
   },
   "outputs": [
    {
     "name": "stdout",
     "output_type": "stream",
     "text": [
      "Before fork 13\n",
      "After fork 13\n",
      "After fork 13\n"
     ]
    }
   ],
   "source": [
    "/* 1*/  #include <stdio.h>\n",
    "/* 2*/  #include <unistd.h>\n",
    "/* 3*/  int main(int argc, char **argv) {\n",
    "/* 4*/      int x = 13;\n",
    "/* 5*/      printf(\"Before fork %d\\n\", x);\n",
    "/* 6*/      fork();\n",
    "/* 7*/      printf(\"After fork %d\\n\", x);\n",
    "/* 8*/      return 0;\n",
    "/* 9*/  }"
   ]
  },
  {
   "cell_type": "markdown",
   "id": "e57c70ff-c7cb-4123-b63c-4580ee6e6086",
   "metadata": {
    "slideshow": {
     "slide_type": "skip"
    },
    "tags": [
     "worksheet-only"
    ]
   },
   "source": [
    "<div style=\"height:14em;\"></div>"
   ]
  },
  {
   "cell_type": "markdown",
   "id": "48c21979-4a22-4b56-8f1b-50252c134bc2",
   "metadata": {
    "slideshow": {
     "slide_type": "subslide"
    },
    "tags": []
   },
   "source": [
    "* Q6: _What does the following code output (assuming the new process has PID 1819)?_"
   ]
  },
  {
   "cell_type": "code",
   "execution_count": null,
   "id": "414aae8a-59d9-4de9-810b-db7c2a18150a",
   "metadata": {
    "tags": [
     "worksheet-code-only"
    ]
   },
   "outputs": [],
   "source": [
    "/* 1*/  #include <stdio.h>\n",
    "/* 2*/  #include <unistd.h>    \n",
    "/* 3*/  int main(int argc, char **argv) {\n",
    "/* 4*/      printf(\"Before fork\\n\");\n",
    "/* 5*/      int pid = fork();\n",
    "/* 6*/      if (pid < 0) {\n",
    "/* 7*/          printf(\"Fork failed\\n\");\n",
    "/* 8*/          return 1;\n",
    "/* 9*/      } else if (pid == 0) {\n",
    "/*10*/          printf(\"Child gets %d\\n\", pid);\n",
    "/*11*/      } else {\n",
    "/*12*/          printf(\"Parent gets %d\\n\", pid);\n",
    "/*13*/      }\n",
    "/*14*/      return 0;\n",
    "/*15*/  }"
   ]
  },
  {
   "cell_type": "markdown",
   "id": "b9bb43be-7a01-42f7-ae89-cd7b03bc7822",
   "metadata": {
    "slideshow": {
     "slide_type": "skip"
    },
    "tags": [
     "notes-only"
    ]
   },
   "source": [
    "```\n",
    "Before fork\n",
    "Child gets 0\n",
    "Parent gets 1819\n",
    "```\n",
    "OR\n",
    "```\n",
    "Before fork\n",
    "Parent gets 1819\n",
    "Child gets 0\n",
    "``` "
   ]
  },
  {
   "cell_type": "markdown",
   "id": "c4103de4-b417-4b0f-bb37-bac74de9a772",
   "metadata": {
    "slideshow": {
     "slide_type": "skip"
    },
    "tags": [
     "worksheet-only"
    ]
   },
   "source": [
    "<div style=\"height:15em;\"></div>\n",
    "\n",
    "🛑 **STOP here** after completing the above question; if you have extra time please **skip ahead** to the extra practice."
   ]
  },
  {
   "cell_type": "markdown",
   "id": "177d7b56-26ce-4023-8010-92c448961bbf",
   "metadata": {
    "slideshow": {
     "slide_type": "slide"
    },
    "tags": []
   },
   "source": [
    "## Waiting for processes"
   ]
  },
  {
   "cell_type": "markdown",
   "id": "14ab688a-b402-42ca-b066-edfbfd1ef0b4",
   "metadata": {
    "slideshow": {
     "slide_type": "skip"
    },
    "tags": [
     "notes-only"
    ]
   },
   "source": [
    "* Wait for any child to finish — `int wait(int *status)`\n",
    "    * Returns PID of the child process that finished\n",
    "    * `status` parameter is optional\n",
    "        * if passed a valid integer pointer, `wait` will store the return value of the child process's `main` function at the referenced memory location\n",
    "        * if return value of child process's main function is not needed, then pass `NULL`\n",
    "* Wait for a specific process to finish — `int waitpid(pid_t pid, int *status, int options)`\n",
    "    * Returns PID of the process that finished\n",
    "    * `pid` is PID if process to wait for — need not be a child process\n",
    "    * `status` is the same as `wait`\n",
    "    * `options` is typically `0`, except in special circumstances\n",
    "* Wait functions do not return until child or specific process, respectively, finishes"
   ]
  },
  {
   "cell_type": "markdown",
   "id": "f713c07f-e5f6-44b2-91ad-ff0059d63f59",
   "metadata": {
    "tags": []
   },
   "source": [
    "* Q7: _What are all possible outputs of this program?_"
   ]
  },
  {
   "cell_type": "code",
   "execution_count": null,
   "id": "cb2a09b4-fd2d-4838-be6c-361a49ea6a2a",
   "metadata": {
    "tags": [
     "worksheet-code-only"
    ]
   },
   "outputs": [],
   "source": [
    "/* 1*/  #include <stdio.h>\n",
    "/* 2*/  #include <unistd.h>\n",
    "/* 3*/  int main() {\n",
    "/* 4*/      int pid = fork();\n",
    "/* 5*/      if (pid < 0) {\n",
    "/* 6*/          printf(\"Fork failed\\n\");\n",
    "/* 7*/          return 1;\n",
    "/* 8*/      } else if (pid > 0) {\n",
    "/* 9*/          wait(NULL);\n",
    "/*10*/          printf(\"Parent\\n\");\n",
    "/*11*/      } else {\n",
    "/*12*/          printf(\"Child\\n\");\n",
    "/*13*/      }\n",
    "/*14*/      return 0;\n",
    "/*15*/  }"
   ]
  },
  {
   "cell_type": "markdown",
   "id": "cc0de5d7-94b6-4e71-98eb-8d690ed58067",
   "metadata": {
    "slideshow": {
     "slide_type": "skip"
    },
    "tags": [
     "notes-only"
    ]
   },
   "source": [
    "_Postponed to next class_"
   ]
  },
  {
   "cell_type": "markdown",
   "id": "25386d04-8639-4cf5-9d82-a7c66b6f2f98",
   "metadata": {
    "slideshow": {
     "slide_type": "skip"
    },
    "tags": [
     "worksheet-only"
    ]
   },
   "source": [
    "<div style=\"height:17em;\"></div>\n",
    "\n",
    "🛑 **STOP here** after completing the above question; if you have extra time please **skip ahead** to the extra practice."
   ]
  },
  {
   "cell_type": "markdown",
   "id": "e875f316-7b38-4d9e-96c1-825b800f873b",
   "metadata": {
    "slideshow": {
     "slide_type": "slide"
    },
    "tags": []
   },
   "source": [
    "## Running a different program"
   ]
  },
  {
   "cell_type": "markdown",
   "id": "c4f48afa-d724-40d8-8d9a-4cb18bb20749",
   "metadata": {},
   "source": [
    "* Example program"
   ]
  },
  {
   "cell_type": "code",
   "execution_count": 9,
   "id": "d230b252-4fe9-42e5-b601-9ef2ab7cbf64",
   "metadata": {
    "tags": [
     "worksheet-code-only"
    ]
   },
   "outputs": [
    {
     "name": "stdout",
     "output_type": "stream",
     "text": [
      "Begin\n",
      "Parent\n",
      "End\n",
      "Child\n",
      "Tue Apr  9 08:32:18 EDT 2024\n"
     ]
    }
   ],
   "source": [
    "/* 1*/  #include <stdio.h>\n",
    "/* 2*/  #include <unistd.h>\n",
    "/* 3*/  int main(int argc, char **argv) {\n",
    "/* 4*/      printf(\"Begin\\n\");\n",
    "/* 5*/      int pid = fork();\n",
    "/* 6*/      if (pid < 0) {\n",
    "/* 7*/          printf(\"Fork failed\\n\");\n",
    "/* 8*/          return 1;\n",
    "/* 9*/      } else if (pid == 0) {\n",
    "/*10*/          printf(\"Child\\n\");\n",
    "/*11*/          char *cmd[] = { \"/bin/date\", NULL };\n",
    "/*12*/          execv(cmd[0], cmd);\n",
    "/*13*/      } else {\n",
    "/*14*/          printf(\"Parent\\n\");\n",
    "/*15*/      }\n",
    "/*16*/      printf(\"End\\n\");\n",
    "/*17*/      return 0;\n",
    "/*18*/  }"
   ]
  },
  {
   "cell_type": "markdown",
   "id": "b37ca661-12e2-4cd8-b765-8f23c6925f1d",
   "metadata": {
    "slideshow": {
     "slide_type": "slide"
    },
    "tags": []
   },
   "source": [
    "## Extra practice"
   ]
  },
  {
   "cell_type": "markdown",
   "id": "8b64d86a-7939-4110-80ec-e73cb4faab07",
   "metadata": {},
   "source": [
    "* Q8: _What does the following code output?_"
   ]
  },
  {
   "cell_type": "code",
   "execution_count": null,
   "id": "ffd1fd64-903c-4729-bc8d-292cad550f4d",
   "metadata": {
    "tags": [
     "worksheet-code-only"
    ]
   },
   "outputs": [],
   "source": [
    "/* 1*/  #include <stdio.h>\n",
    "/* 2*/  #include <unistd.h>\n",
    "/* 3*/  int main() {\n",
    "/* 4*/      int x = 10;\n",
    "/* 5*/      int y = 20;\n",
    "/* 6*/      int retval = fork();\n",
    "/* 7*/      if (retval < 0) {\n",
    "/* 8*/          printf(\"Fork failed\\n\");\n",
    "/* 9*/          return 1;\n",
    "/*10*/      } else if (retval > 0) {\n",
    "/*11*/          y+= 5;\n",
    "/*12*/      } else {\n",
    "/*13*/          y -= 5;\n",
    "/*14*/      }\n",
    "/*15*/      printf(\"x=%d y=%d\\n\", x, y);\n",
    "/*16*/      return 0;\n",
    "/*17*/  }"
   ]
  },
  {
   "cell_type": "markdown",
   "id": "fb4bee59-0bfd-4437-bdeb-e7fb203127ca",
   "metadata": {
    "slideshow": {
     "slide_type": "skip"
    },
    "tags": [
     "notes-only"
    ]
   },
   "source": [
    "```\n",
    "x=10 y=25\n",
    "x=10 y=15\n",
    "```\n",
    "OR\n",
    "```\n",
    "x=10 y=15\n",
    "x=10 y=25\n",
    "```"
   ]
  },
  {
   "cell_type": "markdown",
   "id": "243251fa-a5d2-4c11-b424-6d73d4dbbcc2",
   "metadata": {
    "slideshow": {
     "slide_type": "skip"
    },
    "tags": [
     "worksheet-only"
    ]
   },
   "source": [
    "<div style=\"height:10em;\"></div>"
   ]
  },
  {
   "cell_type": "markdown",
   "id": "8d8ac7f3-606b-42cd-b294-73b55befd424",
   "metadata": {
    "slideshow": {
     "slide_type": "subslide"
    },
    "tags": []
   },
   "source": [
    "* Q9: _What are all possible outputs of this program (assuming the new process has PID 13346)?_"
   ]
  },
  {
   "cell_type": "code",
   "execution_count": null,
   "id": "4ede3e4f-c728-47df-b86c-ba34ad975c22",
   "metadata": {},
   "outputs": [],
   "source": [
    "/* 1*/  #include <stdio.h>\n",
    "/* 2*/  #include <unistd.h>\n",
    "/* 3*/  int main() {\n",
    "/* 4*/      int pid = fork();\n",
    "/* 5*/      printf(\"A %d\\n\", pid);\n",
    "/* 6*/      if (pid == 0) {\n",
    "/* 7*/          printf(\"B\\n\");\n",
    "/* 8*/      } else if (pid > 0) {\n",
    "/* 9*/          wait(NULL);\n",
    "/*10*/          printf(\"C\\n\");\n",
    "/*11*/      }\n",
    "/*12*/  }"
   ]
  },
  {
   "cell_type": "markdown",
   "id": "f16a2628-e4fc-4320-abc2-6e2b62d314b0",
   "metadata": {
    "slideshow": {
     "slide_type": "skip"
    },
    "tags": [
     "notes-only"
    ]
   },
   "source": [
    "```\n",
    "A 0\n",
    "A 13346\n",
    "B\n",
    "C\n",
    "```\n",
    "OR\n",
    "```\n",
    "A 13346\n",
    "A 0\n",
    "B\n",
    "C\n",
    "```\n",
    "OR\n",
    "```\n",
    "A 0\n",
    "B\n",
    "A 13346\n",
    "C\n",
    "```"
   ]
  }
 ],
 "metadata": {
  "kernelspec": {
   "display_name": "C",
   "language": "c",
   "name": "c"
  },
  "language_info": {
   "file_extension": ".c",
   "mimetype": "c",
   "name": "c"
  }
 },
 "nbformat": 4,
 "nbformat_minor": 5
}
