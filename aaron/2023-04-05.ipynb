{
 "cells": [
  {
   "cell_type": "markdown",
   "id": "d4c0cf7a-6741-41de-924b-477e6ac8b4e3",
   "metadata": {
    "slideshow": {
     "slide_type": "skip"
    },
    "tags": []
   },
   "source": [
    "# Efficiency: memory hierarchy; locality\n",
    "_COSC 208, Introduction to Computer Systems, 2023-04-05_"
   ]
  },
  {
   "cell_type": "markdown",
   "id": "ed5ad917-28d5-4478-b50b-72e280029552",
   "metadata": {
    "slideshow": {
     "slide_type": "skip"
    },
    "tags": []
   },
   "source": [
    "## Announcements\n",
    "* Project 4 due Thursday, April 13"
   ]
  },
  {
   "cell_type": "markdown",
   "id": "da1fb4b2-e9fe-4d36-a409-388d2f498f71",
   "metadata": {
    "slideshow": {
     "slide_type": "skip"
    },
    "tags": []
   },
   "source": [
    "## Outline\n",
    "* Memory hierarchy\n",
    "* Better use of registers\n",
    "* Temporal vs. spatial locality"
   ]
  },
  {
   "cell_type": "markdown",
   "id": "98d9a0d4-d0f9-405a-8eea-5e10559587d0",
   "metadata": {},
   "source": [
    "## No warm-up – Happy Wednesday!"
   ]
  },
  {
   "cell_type": "markdown",
   "id": "055ab108-994c-405d-b84a-807e49d6b872",
   "metadata": {
    "slideshow": {
     "slide_type": "skip"
    },
    "tags": [
     "notes-only"
    ]
   },
   "source": [
    "## Memory hierarchy"
   ]
  },
  {
   "cell_type": "markdown",
   "id": "84a8e039-f872-4d4a-94f0-9c847f3742b9",
   "metadata": {
    "slideshow": {
     "slide_type": "skip"
    },
    "tags": [
     "notes-only"
    ]
   },
   "source": [
    "* Compares various forms of storage in terms of\n",
    "    * Access latency\n",
    "    * Capacity\n",
    "    * Cost\n",
    "    * Volatility\n",
    "* Access latency\n",
    "    * Let's consider a 1hz CPU, which means 1 cycle = 1 second\n",
    "    * Registers — 1 cycle = 1 second\n",
    "    * Caches — ~10 cycles = ~10 seconds\n",
    "    * Main memory — ~100 cycles = ~2 minutes\n",
    "    * Solid-state drive — ~1 million cycles = ~11.5 days\n",
    "    * Hard (i.e., traditional) disk drive — ~10 million cycles = ~115 days\n",
    "    * Remote (i.e., network) storage — ~20ms = ~2 years\n",
    "* Storage capacity\n",
    "    * Let's assume 1 byte = 1mL\n",
    "    * Registers — 30 * 8B = ~250mL = ~1 cup\n",
    "    * Caches (Core i7 in MacBook Pro)\n",
    "        * L1 — 32KB + 32KB = 64L = ~1 tank of gas\n",
    "        * L2 — 512KB * 4 cores = 2048L = ~7 bathtubs\n",
    "    * Main memory = 32GB (in MacBook Pro) = ~13 olympic swimming pools\n",
    "    * SSD = 1TB (in MacBook Pro) = ~Lake Moraine\n",
    "* Cost\n",
    "    * 2 x 16GB DRAM = ~$100 = $3.12 per GB\n",
    "    * 1TB SSD = $80 = $0.08 per GB\n",
    "    * 2TB HDD = $60 = $0.03 per GB\n",
    "* Volatility\n",
    "    * Primary storage (registers, caches, and main memory) — volatile (i.e., data is lost if power is lost)\n",
    "    * Secondary storage (SSD, HDD, network storage) — non-volatile (i.e., data is preserved if power is lost)"
   ]
  },
  {
   "cell_type": "markdown",
   "id": "afcddff5-ecba-4a2c-8235-14d74e7f55ce",
   "metadata": {
    "slideshow": {
     "slide_type": "skip"
    },
    "tags": [
     "notes-only"
    ]
   },
   "source": [
    "## Data movement"
   ]
  },
  {
   "cell_type": "markdown",
   "id": "dc549feb-bf5b-43f5-8fb0-76c93be58c97",
   "metadata": {
    "slideshow": {
     "slide_type": "skip"
    },
    "tags": [
     "notes-only"
    ]
   },
   "source": [
    "* Recall: _How does data move between the CPU, main memory, and secondary storage in the von Neumann Architecture?_ — bus\n",
    "* _Why does data move between registers and main memory?_ — not enough room in registers to store all values used by a program at runtime\n",
    "* _How can we move less data (i.e., perform fewer loads and stores)?_\n",
    "    * Better use of registers\n",
    "    * Leverage locality\n",
    "        * Add additional memory to the CPU — i.e., a cache\n",
    "        * Optimize code to improve locality"
   ]
  },
  {
   "cell_type": "markdown",
   "id": "bf4c3a3d-b662-4c3f-9f27-82775cd87f93",
   "metadata": {
    "slideshow": {
     "slide_type": "slide"
    },
    "tags": []
   },
   "source": [
    "## Better use of registers"
   ]
  },
  {
   "cell_type": "markdown",
   "id": "7d203ac7-798b-45f8-a2f8-4725432d17b1",
   "metadata": {
    "slideshow": {
     "slide_type": "skip"
    },
    "tags": [
     "notes-only"
    ]
   },
   "source": [
    "* Loads and stores are unnecessary when the value of a register is not changed between store and load instructions involving the same register and memory address\n",
    "    * Example load and store which is _unnecessary_\n",
    "        ```\n",
    "        str x0, [sp,#4]\n",
    "        ldr x0, [sp,#4]\n",
    "        ```\n",
    "    * Example load and store which is _necessary_\n",
    "        ```\n",
    "        str w0, [sp,#4]\n",
    "        mov w0, #0x1\n",
    "        str w0, [sp]\n",
    "        ldr w0, [sp,#4]\n",
    "        ```"
   ]
  },
  {
   "cell_type": "markdown",
   "id": "72823b4a-15e7-4b87-81de-f8e53a1bbce4",
   "metadata": {},
   "source": [
    "* Q1: _Cross-out unnecessary loads and stores for each of the following snippets of assembly code_"
   ]
  },
  {
   "cell_type": "markdown",
   "id": "d436994e-c01b-4734-8a31-e79d14b1de8d",
   "metadata": {
    "slideshow": {
     "slide_type": "skip"
    },
    "tags": [
     "notes-only"
    ]
   },
   "source": [
    "```\n",
    "000000000000088c <interest_due>:\n",
    "    88c:    sub    sp, sp, #0x20\n",
    "    890:    str    w0, [sp, #12]    XXXXX\n",
    "    894:    str    w1, [sp, #8]     XXXXX\n",
    "    898:    ldr    w0, [sp, #12]    XXXXX\n",
    "    89c:    ldr    w1, [sp, #8]     XXXXX\n",
    "    8a0:    mul    w0, w1, w0\n",
    "    8a4:    str    w0, [sp, #20]\n",
    "    8a8:    mov    w0, #0x4b0\n",
    "    8ac:    str    w0, [sp, #24]    XXXXX\n",
    "    8b0:    ldr    w1, [sp, #20]\n",
    "    8b4:    ldr    w0, [sp, #24]    XXXXX\n",
    "    8b8:    sdiv   w0, w1, w0\n",
    "    8bc:    str    w0, [sp, #28]    XXXXX\n",
    "    8c0:    ldr    w0, [sp, #28]    XXXXX\n",
    "    8c4:    add    sp, sp, #0x20\n",
    "    8c8:    ret\n",
    "```"
   ]
  },
  {
   "cell_type": "markdown",
   "id": "dac8b5e1-c7dc-45dd-84ff-c8770018b779",
   "metadata": {
    "slideshow": {
     "slide_type": "skip"
    },
    "tags": [
     "notes-only"
    ]
   },
   "source": [
    "```\n",
    "0000000000400544 <sum>:\n",
    "    400544:    d10043ff     sub    sp, sp, #0x10\n",
    "    400548:    b9000fe0     str    w0, [sp, #12]\n",
    "    40054c:    b9000be1     str    w1, [sp, #8] \n",
    "    400550:    b9400fe8     ldr    w8, [sp, #12]\n",
    "    400554:    b9400be9     ldr    w9, [sp, #8] \n",
    "    400558:    0b090108     add    w8, w8, w9   \n",
    "    40055c:    b90007e8     str    w8, [sp, #4] \n",
    "    400560:    b94007e0     ldr    w0, [sp, #4] \n",
    "    400564:    910043ff     add    sp, sp, #0x10\n",
    "    400568:    d65f03c0     ret                 \n",
    "```"
   ]
  },
  {
   "cell_type": "markdown",
   "id": "5e7ec8ec-c160-4536-8e3d-f9e349a7e4df",
   "metadata": {
    "tags": [
     "worksheet-only"
    ]
   },
   "source": [
    "```\n",
    "000000000000088c <interest_due>:\n",
    "    88c:    sub    sp, sp, #0x20\n",
    "    890:    str    w0, [sp, #12]\n",
    "    894:    str    w1, [sp, #8]\n",
    "    898:    ldr    w0, [sp, #12]\n",
    "    89c:    ldr    w1, [sp, #8] \n",
    "    8a0:    mul    w0, w1, w0\n",
    "    8a4:    str    w0, [sp, #20]\n",
    "    8a8:    mov    w0, #0x4b0\n",
    "    8ac:    str    w0, [sp, #24]\n",
    "    8b0:    ldr    w1, [sp, #20]\n",
    "    8b4:    ldr    w0, [sp, #24] \n",
    "    8b8:    sdiv   w0, w1, w0\n",
    "    8bc:    str    w0, [sp, #28] \n",
    "    8c0:    ldr    w0, [sp, #28] \n",
    "    8c4:    add    sp, sp, #0x20\n",
    "    8c8:    ret\n",
    "```"
   ]
  },
  {
   "cell_type": "markdown",
   "id": "71f87f6e-1391-49a2-9ecd-3bfc3a0ede9d",
   "metadata": {
    "slideshow": {
     "slide_type": "subslide"
    },
    "tags": [
     "worksheet-only"
    ]
   },
   "source": [
    "```\n",
    "0000000000400544 <sum>:\n",
    "    400544:    d10043ff     sub    sp, sp, #0x10\n",
    "    400548:    b9000fe0     str    w0, [sp, #12]\n",
    "    40054c:    b9000be1     str    w1, [sp, #8] \n",
    "    400550:    b9400fe8     ldr    w8, [sp, #12]\n",
    "    400554:    b9400be9     ldr    w9, [sp, #8] \n",
    "    400558:    0b090108     add    w8, w8, w9   \n",
    "    40055c:    b90007e8     str    w8, [sp, #4] \n",
    "    400560:    b94007e0     ldr    w0, [sp, #4] \n",
    "    400564:    910043ff     add    sp, sp, #0x10\n",
    "    400568:    d65f03c0     ret                 \n",
    "```"
   ]
  },
  {
   "cell_type": "markdown",
   "id": "da481af7-e907-4be7-bff7-3d531c02d0bc",
   "metadata": {
    "slideshow": {
     "slide_type": "skip"
    },
    "tags": [
     "notes-only"
    ]
   },
   "source": [
    "* Update register assignments to eliminate loads and stores\n",
    "    * Must preserve calling conventions\n",
    "        * Parameters are stored in w/x0, w/x1, ...\n",
    "        * Return value is stored in w/x0\n",
    "        * Caller must store register values into caller's stack frame before `bl` to callee — actually only needed if values in registers are needed by caller after `bl` and callee overwrites the values in those registers\n",
    "    * Example"
   ]
  },
  {
   "cell_type": "markdown",
   "id": "4ef2a1bc-d401-4b74-b97c-5e53cf79ff90",
   "metadata": {
    "slideshow": {
     "slide_type": "skip"
    },
    "tags": [
     "notes-only"
    ]
   },
   "source": [
    "```\n",
    "000000000000088c <interest_due>:\n",
    "    88c:    sub    sp, sp, #0x20    XXXXX\n",
    "    8a0:    mul    w0, w1, w0       \n",
    "    8a4:    str    w0, [sp, #20]    XXXXX\n",
    "    8a8:    mov    w0, #0x4b0       // mov w1 #0x4b0\n",
    "    8b0:    ldr    w1, [sp, #20]    XXXXX\n",
    "    8b8:    sdiv   w0, w1, w0       // sdiv w0, w0, w1\n",
    "    8c4:    add    sp, sp, #0x20    XXXXX\n",
    "    8c8:    ret\n",
    "```"
   ]
  },
  {
   "cell_type": "markdown",
   "id": "073e3164-f7b9-426e-a6f4-b9bb63d82c0b",
   "metadata": {
    "slideshow": {
     "slide_type": "skip"
    },
    "tags": [
     "notes-only"
    ]
   },
   "source": [
    "```\n",
    "0000000000400544 <sum>:\n",
    "    400544:    d10043ff     sub    sp, sp, #0x10    XXXXX\n",
    "    400548:    b9000fe0     str    w0, [sp, #12]    XXXXX\n",
    "    40054c:    b9000be1     str    w1, [sp, #8]     XXXXX\n",
    "    400550:    b9400fe8     ldr    w8, [sp, #12]    XXXXX\n",
    "    400554:    b9400be9     ldr    w9, [sp, #8]     XXXXX\n",
    "    400558:    0b090108     add    w8, w8, w9       // add w0, w0, w1\n",
    "    40055c:    b90007e8     str    w8, [sp, #4]     XXXXX\n",
    "    400560:    b94007e0     ldr    w0, [sp, #4]     XXXXX\n",
    "    400564:    910043ff     add    sp, sp, #0x10    XXXXX\n",
    "    400568:    d65f03c0     ret                 \n",
    "```"
   ]
  },
  {
   "cell_type": "markdown",
   "id": "b738f242-6aa8-411b-9a9d-c56e70a6c032",
   "metadata": {
    "slideshow": {
     "slide_type": "skip"
    },
    "tags": [
     "notes-only"
    ]
   },
   "source": [
    "## Temporal vs. spatial locality"
   ]
  },
  {
   "cell_type": "markdown",
   "id": "97fdded8-ea47-443a-a8ab-5b8ef51a1049",
   "metadata": {
    "slideshow": {
     "slide_type": "skip"
    },
    "tags": [
     "notes-only"
    ]
   },
   "source": [
    "* _What is temporal locality?_\n",
    "    * Access the same data repeatedly\n",
    "    * E.g., for loop variable\n",
    "* _What is spatial locality?_\n",
    "    * Access data with a similar scope\n",
    "    * E.g., next item in array\n",
    "    * E.g., local variables/parameters, which are stored in the same stack frame\n",
    "* Analogies for temporal and spatial locality\n",
    "    * Book storage (Dive Into Systems Section 11.3.2)\n",
    "        * Temporal locality — store most frequently used books at your desk, less frequently used books on your bookshelf, and least frequently used books at the library\n",
    "        * Spatial locality — checkout books on the same/nearby subjects when you go to the library\n",
    "    * Groceries (pre-class questions 3 & 4)\n",
    "        * Temporal locality — you store food you eat frequently in the front of the refrigerator, while you store food you eat infrequently in the back of the refrigerator\n",
    "        * Spatial locality — you organize the items on your grocery list based on the aisle in which they are located\n",
    "    * _With a partner, develop your own analogy for temporal and spatial locality_"
   ]
  }
 ],
 "metadata": {
  "kernelspec": {
   "display_name": "C",
   "language": "c",
   "name": "c"
  },
  "language_info": {
   "file_extension": ".c",
   "mimetype": "c",
   "name": "c"
  }
 },
 "nbformat": 4,
 "nbformat_minor": 5
}
