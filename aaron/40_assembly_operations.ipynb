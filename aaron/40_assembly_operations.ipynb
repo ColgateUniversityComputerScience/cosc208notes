{
 "cells": [
  {
   "cell_type": "markdown",
   "id": "39d76db8-edb9-47d5-bec8-7998805660b3",
   "metadata": {
    "editable": true,
    "slideshow": {
     "slide_type": "skip"
    },
    "tags": []
   },
   "source": [
    "# Assembly: arithmetic and ldr/str operations\n",
    "_COSC 208, Introduction to Computer Systems, Fall 2024_"
   ]
  },
  {
   "cell_type": "markdown",
   "id": "a31d5fc4-f918-40bf-9381-d502cf27c36c",
   "metadata": {
    "editable": true,
    "slideshow": {
     "slide_type": "slide"
    },
    "tags": []
   },
   "source": [
    "## Viewing assembly code"
   ]
  },
  {
   "cell_type": "markdown",
   "id": "9990acae-afca-4ab9-802c-ec3481333546",
   "metadata": {
    "editable": true,
    "slideshow": {
     "slide_type": ""
    },
    "tags": []
   },
   "source": [
    "Example program (`dogyears.c`)"
   ]
  },
  {
   "cell_type": "code",
   "execution_count": null,
   "id": "ba449c04-69ed-4130-82e9-a41c25515742",
   "metadata": {
    "editable": true,
    "slideshow": {
     "slide_type": ""
    },
    "tags": [
     "worksheet-code-only"
    ]
   },
   "outputs": [],
   "source": [
    "/* 1*/   #include <stdio.h>\n",
    "/* 2*/   #include <stdlib.h>\n",
    "/* 3*/   int dog_years(int birth) {\n",
    "/* 4*/       int current = 2023;\n",
    "/* 5*/       int years = current - birth;\n",
    "/* 6*/       years = years * 7;\n",
    "/* 7*/       return years;\n",
    "/* 8*/   }\n",
    "/* 9*/   int main() {\n",
    "/*10*/       printf(\"What year were you born? \");\n",
    "/*11*/       char year[5];\n",
    "/*12*/       fgets(year, 5, stdin);\n",
    "/*13*/       int dog_age = dog_years(atoi(year));\n",
    "/*14*/       printf(\"You are %d dog years old\\n\", dog_age);\n",
    "/*15*/   }"
   ]
  },
  {
   "cell_type": "markdown",
   "id": "dbd244b0-c616-4210-a836-746c11fa7b6e",
   "metadata": {
    "editable": true,
    "slideshow": {
     "slide_type": "skip"
    },
    "tags": [
     "notes-only"
    ]
   },
   "source": [
    "* Viewing assembly code\n",
    "    * Compile: `gcc -fomit-frame-pointer -o dogyears dogyears.c`\n",
    "    * Disassemble executable: `objdump -d dogyears > dogyears.txt`"
   ]
  },
  {
   "cell_type": "markdown",
   "id": "929ab770-14e2-430e-b46a-4e05fd4e966a",
   "metadata": {
    "editable": true,
    "slideshow": {
     "slide_type": "subslide"
    },
    "tags": []
   },
   "source": [
    "Assembly code (excerpt from `dogyears.txt`)\n",
    "```\n",
    "0000000000000914 <dog_years>:\n",
    " 914:   d10083ff        sub     sp, sp, #0x20\n",
    " 918:   b9000fe0        str     w0, [sp, #12]\n",
    " 91c:   5280fce0        mov     w0, #0x7e7\n",
    " 920:   b9001be0        str     w0, [sp, #24]\n",
    " 924:   b9401be1        ldr     w1, [sp, #24]\n",
    " 928:   b9400fe0        ldr     w0, [sp, #12]\n",
    " 92c:   4b000020        sub     w0, w1, w0\n",
    " 930:   b9001fe0        str     w0, [sp, #28]\n",
    " 934:   b9401fe1        ldr     w1, [sp, #28]\n",
    " 938:   2a0103e0        mov     w0, w1\n",
    " 93c:   531d7000        lsl     w0, w0, #3\n",
    " 940:   4b010000        sub     w0, w0, w1\n",
    " 944:   b9001fe0        str     w0, [sp, #28]\n",
    " 948:   b9401fe0        ldr     w0, [sp, #28]\n",
    " 94c:   910083ff        add     sp, sp, #0x20\n",
    " 950:   d65f03c0        ret\n",
    "```"
   ]
  },
  {
   "cell_type": "markdown",
   "id": "9fa02227-4dc3-4bad-a589-f5df0ac650af",
   "metadata": {
    "editable": true,
    "slideshow": {
     "slide_type": "skip"
    },
    "tags": [
     "notes-only"
    ]
   },
   "source": [
    "* _What do each of the columns contain?_\n",
    "    * Code memory address\n",
    "    * Bytes corresponding to instruction\n",
    "    * Operation\n",
    "        * sub – subtraction\n",
    "        * str – store (i.e., copy) a value from a register into main memory\n",
    "        * mov – move (i.e., copy) into a register a constant or a value from another register\n",
    "        * ldr – load (i.e., copy) a value from main memory into a register\n",
    "        * lsl – logical shift left (i.e., `<<`)\n",
    "        * add – addition\n",
    "        * ret – return from function call\n",
    "    * Operands"
   ]
  },
  {
   "cell_type": "markdown",
   "id": "b7795427-c691-4f8f-bc4e-6aacc31f8a35",
   "metadata": {
    "editable": true,
    "slideshow": {
     "slide_type": "skip"
    },
    "tags": [
     "blank"
    ]
   },
   "source": [
    "<div style=\"height:11em;\"></div>"
   ]
  },
  {
   "cell_type": "markdown",
   "id": "f2c846cb-c607-4d45-ab5f-76244b723f8c",
   "metadata": {
    "editable": true,
    "slideshow": {
     "slide_type": "skip"
    },
    "tags": [
     "notes-only"
    ]
   },
   "source": [
    "## Operands"
   ]
  },
  {
   "cell_type": "markdown",
   "id": "979e5a49-8161-4544-bf5c-8b7b72e10478",
   "metadata": {
    "editable": true,
    "slideshow": {
     "slide_type": "skip"
    },
    "tags": [
     "notes-only"
    ]
   },
   "source": [
    "* Registers\n",
    "    * General purpose registers\n",
    "        * `w0` through `w30` (32-bit) \n",
    "        * `x0` through `x30` (64-bit)\n",
    "    * Stack pointer `sp` – memory address of the top of the current stack frame\n",
    "    * Program counter `pc` – memory address of the current instruction\n",
    "* Constant\n",
    "    * In hex — e.g., `#0x20`\n",
    "    * In decimal — e.g., `#8`\n",
    "* Memory – only used in `ldr` (load) and `str` (store) instructions, which copy data between main memory and the processor\n",
    "    * Dereference — e.g., `[x1]`\n",
    "    * Add to memory address, then dereference — e.g., `[sp,#16]`"
   ]
  },
  {
   "cell_type": "markdown",
   "id": "70c786c6-fde8-490c-a45a-dc19a694056a",
   "metadata": {
    "editable": true,
    "slideshow": {
     "slide_type": "slide"
    },
    "tags": []
   },
   "source": [
    "## Instruction semantics"
   ]
  },
  {
   "cell_type": "markdown",
   "id": "2c4b0b4f-61ea-40b9-b301-4747b9363b1a",
   "metadata": {
    "editable": true,
    "slideshow": {
     "slide_type": "skip"
    },
    "tags": [
     "blank"
    ]
   },
   "source": [
    "<div style=\"height:12em;\"></div>"
   ]
  },
  {
   "cell_type": "markdown",
   "id": "ad91cd72-c38c-4c3c-b6fc-dac46198da38",
   "metadata": {
    "editable": true,
    "slideshow": {
     "slide_type": ""
    },
    "tags": [
     "question"
    ]
   },
   "source": [
    "_Use the provided ARM64 reference sheet to answer the following questions._\n",
    "\n",
    "Q1: _What is the difference between a `neg` instruction and a `mvn` instruction?_"
   ]
  },
  {
   "cell_type": "markdown",
   "id": "8f37d253-686a-45d1-9244-4b95e6006989",
   "metadata": {
    "editable": true,
    "slideshow": {
     "slide_type": "skip"
    },
    "tags": [
     "answer"
    ]
   },
   "source": [
    "    neg negates a number, whereas mvn performs a bitwise not"
   ]
  },
  {
   "cell_type": "markdown",
   "id": "38b1a090-5949-495f-a63e-68b9f0660d87",
   "metadata": {
    "editable": true,
    "slideshow": {
     "slide_type": "skip"
    },
    "tags": [
     "blank"
    ]
   },
   "source": [
    "<div style=\"height:6em;\"></div>"
   ]
  },
  {
   "cell_type": "markdown",
   "id": "141889a5-7efd-4b38-bd10-c82ac4983cc5",
   "metadata": {
    "editable": true,
    "slideshow": {
     "slide_type": ""
    },
    "tags": [
     "question"
    ]
   },
   "source": [
    "Q2: _What is the difference between an `orr` instruction and a `eor` instruction?_"
   ]
  },
  {
   "cell_type": "markdown",
   "id": "72a156fe-39c0-4bd1-bee6-ff2d058048d7",
   "metadata": {
    "editable": true,
    "slideshow": {
     "slide_type": "skip"
    },
    "tags": [
     "answer"
    ]
   },
   "source": [
    "    orr performs a bitwise or, whereas eor performs a bitwise xor"
   ]
  },
  {
   "cell_type": "markdown",
   "id": "967dcca1-a74a-4079-b2a4-b9e3a6b84d39",
   "metadata": {
    "editable": true,
    "slideshow": {
     "slide_type": "skip"
    },
    "tags": [
     "blank"
    ]
   },
   "source": [
    "<div style=\"height:6em;\"></div>"
   ]
  },
  {
   "cell_type": "markdown",
   "id": "e4aa016f-d1df-4090-83ae-0776e05a4875",
   "metadata": {
    "editable": true,
    "slideshow": {
     "slide_type": ""
    },
    "tags": [
     "question"
    ]
   },
   "source": [
    "Q3: _What is the difference between a `lsr` instruction and a `ldr` instruction?_"
   ]
  },
  {
   "cell_type": "markdown",
   "id": "d4b06cb9-8cd4-4071-a854-53d51d1c8e63",
   "metadata": {
    "editable": true,
    "slideshow": {
     "slide_type": "skip"
    },
    "tags": [
     "answer"
    ]
   },
   "source": [
    "    lsr performs a right shift, whereas ldr copies a value from memory into a register"
   ]
  },
  {
   "cell_type": "markdown",
   "id": "23e8d7de-5b96-4f97-9ac1-645d9832a467",
   "metadata": {
    "editable": true,
    "slideshow": {
     "slide_type": "skip"
    },
    "tags": [
     "blank"
    ]
   },
   "source": [
    "<div style=\"height:6em;\"></div>"
   ]
  },
  {
   "cell_type": "markdown",
   "id": "fea8ab78-a568-4e35-a111-0d6dd676f995",
   "metadata": {
    "editable": true,
    "slideshow": {
     "slide_type": ""
    },
    "tags": [
     "question"
    ]
   },
   "source": [
    "Q4: _What is the difference between an `add` instruction and an `and` instruction?_"
   ]
  },
  {
   "cell_type": "markdown",
   "id": "84933fe1-0c5d-45fa-9af8-76272f5be028",
   "metadata": {
    "editable": true,
    "slideshow": {
     "slide_type": "skip"
    },
    "tags": [
     "answer"
    ]
   },
   "source": [
    "    add performs addition, whereas and performs bitwise and"
   ]
  },
  {
   "cell_type": "markdown",
   "id": "50096495-c1c3-4456-b59d-f66a7b9197b3",
   "metadata": {
    "editable": true,
    "slideshow": {
     "slide_type": "skip"
    },
    "tags": [
     "blank"
    ]
   },
   "source": [
    "<div style=\"height:6em;\"></div>"
   ]
  },
  {
   "cell_type": "markdown",
   "id": "468e44a6-c2d6-4890-888a-17f5ba417f13",
   "metadata": {
    "editable": true,
    "slideshow": {
     "slide_type": "skip"
    },
    "tags": []
   },
   "source": [
    "## Mapping assembly code to C code"
   ]
  },
  {
   "cell_type": "markdown",
   "id": "c9a2eaa4-5a70-44da-9302-59a937fd47f9",
   "metadata": {
    "editable": true,
    "slideshow": {
     "slide_type": "skip"
    },
    "tags": [
     "notes-only"
    ]
   },
   "source": [
    "* Function begin pattern\n",
    "    * create stack frame by decreasing (`sub`) stack pointer\n",
    "    * store (`str`) parameters from registers w/x0, w/x1, etc. into the stack in main memory\n",
    "* Local variable initialization pattern\n",
    "    * move (mov) constant value into register\n",
    "    * store (str) register value onto the stack\n",
    "* Mathematical operation pattern\n",
    "    * load (`ldr`) first operand from the stack into a register OR move (`mov`) first operand constant into a regster\n",
    "    * load (`ldr`) second operand from the stack into a register OR move (`mov`) second operand constant into a regster\n",
    "    * compute\n",
    "    * store (`str`) resulting value from a register into the stack\n",
    "* Function return/end pattern\n",
    "    * load (`ldr`) return value from the stack into the w/x0 register\n",
    "    * destroy stack frame by increasing (`add`) stack pointer\n",
    "    * return (`ret`) to caller"
   ]
  },
  {
   "cell_type": "markdown",
   "id": "1e391b7f-5bc7-4000-b541-1e3a9f1b9aea",
   "metadata": {
    "slideshow": {
     "slide_type": "skip"
    },
    "tags": [
     "notes-only"
    ]
   },
   "source": [
    "* Example program (`dogyears.c`)"
   ]
  },
  {
   "cell_type": "markdown",
   "id": "16c8a50f-6562-46ff-b333-7129893e65ce",
   "metadata": {
    "editable": true,
    "slideshow": {
     "slide_type": "skip"
    },
    "tags": [
     "notes-only"
    ]
   },
   "source": [
    "```\n",
    "0000000000000914 <dog_years>:\n",
    " 914:   d10083ff        sub     sp, sp, #0x20  // Line 3: create stack frame\n",
    " 918:   b9000fe0        str     w0, [sp, #12]  // Line 3: store parameter\n",
    " 91c:   5280fce0        mov     w0, #0x7e7     // Line 4: assign initial value to local variable\n",
    " 920:   b9001be0        str     w0, [sp, #24]  //      V\n",
    " 924:   b9401be1        ldr     w1, [sp, #24]  // Line 5: load first operand \n",
    " 928:   b9400fe0        ldr     w0, [sp, #12]  // Line 5: load second operand\n",
    " 92c:   4b000020        sub     w0, w1, w0     // Line 5: subtract\n",
    " 930:   b9001fe0        str     w0, [sp, #28]  // Line 5: store result in local variable\n",
    " 934:   b9401fe1        ldr     w1, [sp, #28]  // Line 6: load first operand\n",
    " 938:   2a0103e0        mov     w0, w1                 V\n",
    " 93c:   531d7000        lsl     w0, w0, #3     // Line 6: multiply\n",
    " 940:   4b010000        sub     w0, w0, w1     //      V\n",
    " 944:   b9001fe0        str     w0, [sp, #28]  // Line 6: store result in local variable\n",
    " 948:   b9401fe0        ldr     w0, [sp, #28]  // Line 7: prepare return value\n",
    " 94c:   910083ff        add     sp, sp, #0x20  // Line 7: destroy stack frame\n",
    " 950:   d65f03c0        ret                    // Line 7: return to caller\n",
    "```"
   ]
  },
  {
   "cell_type": "markdown",
   "id": "2bd69df9-c6d2-4384-bf1e-a9896a557e19",
   "metadata": {
    "editable": true,
    "slideshow": {
     "slide_type": "skip"
    },
    "tags": [
     "blank"
    ]
   },
   "source": [
    "<div style=\"height:8em;\"></div>"
   ]
  },
  {
   "cell_type": "markdown",
   "id": "f0164f7b-c9d3-4b22-99f8-28f6af502b12",
   "metadata": {
    "editable": true,
    "slideshow": {
     "slide_type": "slide"
    },
    "tags": [
     "question"
    ]
   },
   "source": [
    "Q5: _For each line of assembly, indicate which line of C code the assembly instruction was derived from._"
   ]
  },
  {
   "cell_type": "code",
   "execution_count": 2,
   "id": "cd292e35-21b2-48e6-9460-e9a1b128035c",
   "metadata": {
    "editable": true,
    "slideshow": {
     "slide_type": ""
    },
    "tags": [
     "worksheet-code-only"
    ]
   },
   "outputs": [
    {
     "name": "stdout",
     "output_type": "stream",
     "text": [
      "With an interest rate of 10% it will take ~7 years to double your money\n"
     ]
    }
   ],
   "source": [
    "/* 1*/  #include <stdio.h>\n",
    "/* 2*/  int years_to_double(int rate) {\n",
    "/* 3*/      int ruleof72 = 72;\n",
    "/* 4*/      int years = ruleof72 / rate;\n",
    "/* 5*/      return years;\n",
    "/* 6*/  }\n",
    "/* 7*/  int main() {\n",
    "/* 8*/      int r = 10;\n",
    "/* 9*/      int y = years_to_double(r);\n",
    "/*10*/      printf(\"With an interest rate of %d%% it \n",
    "                   will take ~%d years to double your money\\n\", r, y);\n",
    "/*11*/  }"
   ]
  },
  {
   "cell_type": "markdown",
   "id": "336528f6-13c4-467a-bc33-fb688fc1b6b5",
   "metadata": {
    "editable": true,
    "slideshow": {
     "slide_type": "skip"
    },
    "tags": [
     "answer"
    ]
   },
   "source": [
    "```\n",
    "000000000000076c <years_to_double>:\n",
    "    76c:    d10083ff     sub  sp, sp, #0x20   // 2\n",
    "    770:    b9000fe0     str  w0, [sp, #12]   // 2\n",
    "    774:    52800900     mov  w0, #0x48       // 3\n",
    "    778:    b9001be0     str  w0, [sp, #24]   // 3\n",
    "    77c:    b9401be1     ldr  w1, [sp, #24]   // 4\n",
    "    780:    b9400fe0     ldr  w0, [sp, #12]   // 4\n",
    "    784:    1ac00c20     sdiv w0, w1, w0      // 4\n",
    "    788:    b9001fe0     str  w0, [sp, #28]   // 4\n",
    "    78c:    b9401fe0     ldr  w0, [sp, #28]   // 5\n",
    "    790:    910083ff     add  sp, sp, #0x20   // 5\n",
    "    794:    d65f03c0     ret                  // 5\n",
    "```"
   ]
  },
  {
   "cell_type": "markdown",
   "id": "2eebaa5c-c514-4788-9b6d-d13b8b99c3e8",
   "metadata": {
    "editable": true,
    "slideshow": {
     "slide_type": ""
    },
    "tags": [
     "blank"
    ]
   },
   "source": [
    "```\n",
    "000000000000076c <years_to_double>:\n",
    "    76c:    d10083ff     sub  sp, sp, #0x20\n",
    "    770:    b9000fe0     str  w0, [sp, #12]\n",
    "    774:    52800900     mov  w0, #0x48\n",
    "    778:    b9001be0     str  w0, [sp, #24]\n",
    "    77c:    b9401be1     ldr  w1, [sp, #24]\n",
    "    780:    b9400fe0     ldr  w0, [sp, #12]\n",
    "    784:    1ac00c20     sdiv w0, w1, w0\n",
    "    788:    b9001fe0     str  w0, [sp, #28]\n",
    "    78c:    b9401fe0     ldr  w0, [sp, #28]\n",
    "    790:    910083ff     add  sp, sp, #0x20\n",
    "    794:    d65f03c0     ret\n",
    "```"
   ]
  },
  {
   "cell_type": "markdown",
   "id": "d71cabec-7115-47b9-8853-d876dbd35173",
   "metadata": {
    "editable": true,
    "slideshow": {
     "slide_type": "subslide"
    },
    "tags": [
     "question"
    ]
   },
   "source": [
    "Q6: _For each line of assembly, indicate which line of C code the assembly instruction was derived from._"
   ]
  },
  {
   "cell_type": "code",
   "execution_count": 1,
   "id": "8b94b260-f1a7-4094-9564-ac16e57d273c",
   "metadata": {
    "editable": true,
    "slideshow": {
     "slide_type": ""
    },
    "tags": [
     "worksheet-code-only"
    ]
   },
   "outputs": [
    {
     "name": "stdout",
     "output_type": "stream",
     "text": [
      "y = 2\n"
     ]
    }
   ],
   "source": [
    "/* 1*/  #include <stdio.h>\n",
    "/* 2*/  long deref(long *p) {\n",
    "/* 3*/      long v = *p;\n",
    "/* 4*/      return v;\n",
    "/* 5*/  }\n",
    "/* 6*/  int main() {\n",
    "/* 7*/      long x = 2;\n",
    "/* 8*/      long y = deref(&x);\n",
    "/* 9*/      printf(\"y = %ld\\n\", y);\n",
    "/*10*/      return 0;\n",
    "/*11*/  }"
   ]
  },
  {
   "cell_type": "markdown",
   "id": "fdee9273-4eb6-4b95-947d-94a41bab32e8",
   "metadata": {
    "editable": true,
    "slideshow": {
     "slide_type": "skip"
    },
    "tags": [
     "answer"
    ]
   },
   "source": [
    "```\n",
    "0000000000000854 <deref>:\n",
    " 854:   d10083ff    sub sp, sp, #0x20 // 2: Create stack frame \n",
    " 858:   f90007e0    str x0, [sp, #8]  // 2: Store parameter\n",
    " 85c:   f94007e0    ldr x0, [sp, #8]  // 3: Load pointer\n",
    " 860:   f9400000    ldr x0, [x0]      // 3: Dereference pointer\n",
    " 864:   f9000fe0    str x0, [sp, #24] // 3: Store variable\n",
    " 868:   f9400fe0    ldr x0, [sp, #24] // 4: Load return value\n",
    " 86c:   910083ff    add sp, sp, #0x20 // 4: Destroy stack frame\n",
    " 870:   d65f03c0    ret               // 4: Return to caller\n",
    "```"
   ]
  },
  {
   "cell_type": "markdown",
   "id": "2dca2cc2-8d60-4296-b8ac-5549effdfa92",
   "metadata": {
    "editable": true,
    "slideshow": {
     "slide_type": ""
    },
    "tags": [
     "blank"
    ]
   },
   "source": [
    "```\n",
    "0000000000000854 <deref>:\n",
    " 854:   d10083ff    sub sp, sp, #0x20\n",
    " 858:   f90007e0    str x0, [sp, #8]\n",
    " 85c:   f94007e0    ldr x0, [sp, #8]\n",
    " 860:   f9400000    ldr x0, [x0]\n",
    " 864:   f9000fe0    str x0, [sp, #24]\n",
    " 868:   f9400fe0    ldr x0, [sp, #24]\n",
    " 86c:   910083ff    add sp, sp, #0x20\n",
    " 870:   d65f03c0    ret\n",
    "```"
   ]
  },
  {
   "cell_type": "markdown",
   "id": "bf847243-5dcb-4778-8577-4a9215adca54",
   "metadata": {
    "editable": true,
    "slideshow": {
     "slide_type": "slide"
    },
    "tags": [
     "question"
    ]
   },
   "source": [
    "The following C program (`operands.c`) has been compiled into assembly:"
   ]
  },
  {
   "cell_type": "code",
   "execution_count": 4,
   "id": "9b9339a6-78ba-42a7-9902-20c78d394ab1",
   "metadata": {
    "editable": true,
    "slideshow": {
     "slide_type": ""
    },
    "tags": [
     "worksheet-code-only"
    ]
   },
   "outputs": [],
   "source": [
    "int operandsA(int a) {\n",
    "    return a;\n",
    "}\n",
    "long operandsB(long b) {\n",
    "    return b;\n",
    "}\n",
    "int operandsC(int *c) {\n",
    "    return *c;\n",
    "}\n",
    "long operandsD(long *d) {\n",
    "    return *d;\n",
    "}\n",
    "int main() {\n",
    "    operandsA(5);\n",
    "    operandsB(5);\n",
    "    int x = 5;\n",
    "    operandsC(&x);\n",
    "    long y = 5;\n",
    "    operandsD(&y);\n",
    "}"
   ]
  },
  {
   "cell_type": "markdown",
   "id": "b167f15e-29c2-4053-a363-9694d89625e7",
   "metadata": {
    "editable": true,
    "slideshow": {
     "slide_type": "subslide"
    },
    "tags": [
     "question"
    ]
   },
   "source": [
    "```\n",
    "00000000000007ec <operandsA>:\n",
    "    7ec:    d10043ff     sub    sp, sp, #0x10\n",
    "    7f0:    b9000fe0     str    w0, [sp, #12]\n",
    "    7f4:    b9400fe0     ldr    w0, [sp, #12]\n",
    "    7f8:    910043ff     add    sp, sp, #0x10\n",
    "    7fc:    d65f03c0     ret    \n",
    "0000000000000800 <operandsB>:\n",
    "    800:    d10043ff     sub    sp, sp, #0x10\n",
    "    804:    f90007e0     str    x0, [sp, #8]\n",
    "    808:    f94007e0     ldr    x0, [sp, #8]\n",
    "    80c:    910043ff     add    sp, sp, #0x10\n",
    "    810:    d65f03c0     ret\n",
    "0000000000000814 <operandsC>:\n",
    "    814:    d10043ff     sub    sp, sp, #0x10\n",
    "    818:    f90007e0     str    x0, [sp, #8]\n",
    "    81c:    f94007e0     ldr    x0, [sp, #8]\n",
    "    820:    b9400000     ldr    w0, [x0]\n",
    "    824:    910043ff     add    sp, sp, #0x10\n",
    "    828:    d65f03c0     ret\n",
    "000000000000082c <operandsD>:\n",
    "    82c:    d10043ff     sub    sp, sp, #0x10\n",
    "    830:    f90007e0     str    x0, [sp, #8]\n",
    "    834:    f94007e0     ldr    x0, [sp, #8]\n",
    "    838:    f9400000     ldr    x0, [x0]\n",
    "    83c:    910043ff     add    sp, sp, #0x10\n",
    "    840:    d65f03c0     ret\n",
    "```"
   ]
  },
  {
   "cell_type": "markdown",
   "id": "1790f863-3e80-40a6-b582-fb60212582b9",
   "metadata": {
    "editable": true,
    "slideshow": {
     "slide_type": "skip"
    },
    "tags": [
     "blank"
    ]
   },
   "source": [
    "<p style=\"height:3em;\"></p>"
   ]
  },
  {
   "cell_type": "markdown",
   "id": "cf98a104-c745-44bc-86ed-daefe7663ca2",
   "metadata": {
    "editable": true,
    "slideshow": {
     "slide_type": "subslide"
    },
    "tags": [
     "question"
    ]
   },
   "source": [
    "Q7: _How does the assembly code for `operandsA` and `operandsB` differ? Why?_"
   ]
  },
  {
   "cell_type": "markdown",
   "id": "3e151cea-7736-4980-90f2-2fe1558f9d3a",
   "metadata": {
    "editable": true,
    "slideshow": {
     "slide_type": "skip"
    },
    "tags": [
     "answer"
    ]
   },
   "source": [
    "* `operandsA` takes and returns an int, which is 32-bits, whereas `operandsB` takes and returns a long, which is 64-bits, so:\n",
    "    * `operandsA` uses `w0` while `operandsB` uses `x0`\n",
    "    * `operandsA` stores the parameter at `sp + 12` while `operandsB` stores the parameter at `sp + 8`"
   ]
  },
  {
   "cell_type": "markdown",
   "id": "93aa065f-8b46-4fd9-a69d-47e136d2248e",
   "metadata": {
    "editable": true,
    "slideshow": {
     "slide_type": "skip"
    },
    "tags": [
     "blank"
    ]
   },
   "source": [
    "<p style=\"height:9em;\"></p>"
   ]
  },
  {
   "cell_type": "markdown",
   "id": "f8f658c2-bcaa-42d8-b3be-240a440a4841",
   "metadata": {
    "editable": true,
    "slideshow": {
     "slide_type": ""
    },
    "tags": [
     "question"
    ]
   },
   "source": [
    "Q8: _How does the assembly code for `operandsB` and `operandsD` differ? Why?_"
   ]
  },
  {
   "cell_type": "markdown",
   "id": "f334e30f-b713-4814-ab27-09160d1a3fc2",
   "metadata": {
    "editable": true,
    "slideshow": {
     "slide_type": "skip"
    },
    "tags": [
     "answer"
    ]
   },
   "source": [
    "* `operandsB` takes and returns a long, whereas `operandsD` takes a pointer to a long and returns a long, so:\n",
    "    * `operandsD` must deference the pointer (`ldr x0, [x0]`) before returning "
   ]
  },
  {
   "cell_type": "markdown",
   "id": "53da521a-ba18-4703-a8ac-db595783e955",
   "metadata": {
    "editable": true,
    "slideshow": {
     "slide_type": "skip"
    },
    "tags": [
     "blank"
    ]
   },
   "source": [
    "<p style=\"height:9em;\"></p>"
   ]
  },
  {
   "cell_type": "markdown",
   "id": "e256a919-af4d-49fa-8319-432b78030956",
   "metadata": {
    "editable": true,
    "slideshow": {
     "slide_type": ""
    },
    "tags": [
     "question"
    ]
   },
   "source": [
    "Q9: _How does the assembly code for `operandsC` and `operandsD` differ? Why?_"
   ]
  },
  {
   "cell_type": "markdown",
   "id": "c27b898e-e9cd-4cc5-968b-7178b68eed8e",
   "metadata": {
    "editable": true,
    "slideshow": {
     "slide_type": "skip"
    },
    "tags": [
     "answer"
    ]
   },
   "source": [
    "* `operandsC` takes a pointer to an int and returns and int, whereas `operandsD` takes a pointer to a long and returns a long\n",
    "* both take a memory address (a 64-bit value), which is initially in `x0` and stored at `sp + 8`\n",
    "* the dereference of the pointer is a 32-bit value in `operandsC` and a 64-bit value in `operandsD`, so the value is loaded into `w0` in `operandsC` and `x0` in `operandsD`"
   ]
  },
  {
   "cell_type": "markdown",
   "id": "ed605507-ce54-4d80-981d-9ed03321eba4",
   "metadata": {
    "editable": true,
    "slideshow": {
     "slide_type": "skip"
    },
    "tags": [
     "blank"
    ]
   },
   "source": [
    "<p style=\"height:10em;\"></p>"
   ]
  },
  {
   "cell_type": "markdown",
   "id": "93d33073-f910-4f5f-b905-852c8a191e03",
   "metadata": {
    "editable": true,
    "slideshow": {
     "slide_type": "subslide"
    },
    "tags": [
     "question"
    ]
   },
   "source": [
    "Q10: _For each line of assembly, indicate which line of C code the assembly instruction was derived from._"
   ]
  },
  {
   "cell_type": "code",
   "execution_count": null,
   "id": "acaa69bc-4397-4eeb-8f7f-afcee9d46473",
   "metadata": {
    "editable": true,
    "slideshow": {
     "slide_type": ""
    },
    "tags": [
     "worksheet-code-only"
    ]
   },
   "outputs": [],
   "source": [
    "/*1*/  int sum(int a, int *b) {\n",
    "/*2*/     int c = *b;\n",
    "/*3*/     int d = a + c;\n",
    "/*4*/     return d;\n",
    "/*5*/  }"
   ]
  },
  {
   "cell_type": "markdown",
   "id": "726fc39b-7045-46ad-b1e3-3e1d9ba3f60e",
   "metadata": {
    "editable": true,
    "slideshow": {
     "slide_type": "skip"
    },
    "tags": [
     "answer"
    ]
   },
   "source": [
    "```\n",
    "0000000000000584 <sum>:\n",
    "  584:    d10083ff     sub sp, sp, #0x20   // 1\n",
    "  588:    b9001fe0     str w0, [sp, #28]   // 1\n",
    "  58c:    f9000be1     str x1, [sp, #16]   // 1\n",
    "  590:    f9400be8     ldr x8, [sp, #16]   // 2\n",
    "  594:    b9400109     ldr w9, [x8]        // 2\n",
    "  598:    b9000fe9     str w9, [sp, #12]   // 2\n",
    "  59c:    b9401fe9     ldr w9, [sp, #28]   // 3\n",
    "  5a0:    b9400fea     ldr w10, [sp, #12]  // 3\n",
    "  5a4:    0b0a0129     add w9, w9, w10     // 3\n",
    "  5a8:    b9000be9     str w9, [sp, #8]    // 3\n",
    "  5ac:    b9400be0     ldr w0, [sp, #8]    // 4\n",
    "  5b0:    910083ff     add sp, sp, #0x20   // 4\n",
    "  5b4:    d65f03c0     ret                 // 4\n",
    "```"
   ]
  },
  {
   "cell_type": "markdown",
   "id": "20eb6f08-3756-46dc-abc0-5f8218cc649d",
   "metadata": {
    "editable": true,
    "slideshow": {
     "slide_type": ""
    },
    "tags": [
     "blank"
    ]
   },
   "source": [
    "```\n",
    "0000000000000584 <sum>:\n",
    "  584:    d10083ff     sub sp, sp, #0x20\n",
    "  588:    b9001fe0     str w0, [sp, #28]\n",
    "  58c:    f9000be1     str x1, [sp, #16]\n",
    "  590:    f9400be8     ldr x8, [sp, #16]\n",
    "  594:    b9400109     ldr w9, [x8]\n",
    "  598:    b9000fe9     str w9, [sp, #12]\n",
    "  59c:    b9401fe9     ldr w9, [sp, #28]\n",
    "  5a0:    b9400fea     ldr w10, [sp, #12]\n",
    "  5a4:    0b0a0129     add w9, w9, w10\n",
    "  5a8:    b9000be9     str w9, [sp, #8]\n",
    "  5ac:    b9400be0     ldr w0, [sp, #8]\n",
    "  5b0:    910083ff     add sp, sp, #0x20\n",
    "  5b4:    d65f03c0     ret\n",
    "```"
   ]
  },
  {
   "cell_type": "markdown",
   "id": "b9888fbf-c3b2-44fb-8e02-82e124e6f844",
   "metadata": {
    "editable": true,
    "slideshow": {
     "slide_type": "subslide"
    },
    "tags": [
     "question"
    ]
   },
   "source": [
    "Q11: _For each line of assembly, indicate which line of C code the assembly instruction was derived from._"
   ]
  },
  {
   "cell_type": "code",
   "execution_count": 1,
   "id": "382e8b5c-1eae-4a4d-b87f-545b01378c48",
   "metadata": {
    "editable": true,
    "slideshow": {
     "slide_type": ""
    },
    "tags": [
     "worksheet-code-only"
    ]
   },
   "outputs": [
    {
     "name": "stdout",
     "output_type": "stream",
     "text": [
      "525600 minutes\n",
      "525000 moments so dear\n",
      "525600 minutes\n",
      "How do you measure? Measure a year?\n"
     ]
    }
   ],
   "source": [
    "/* 1*/   #include <stdio.h>\n",
    "/* 2*/   int seasons_of_love() {\n",
    "/* 3*/       int dpy = 365;\n",
    "/* 4*/       int hpd = 24;\n",
    "/* 5*/       int mph = 60;\n",
    "/* 6*/       int h = dpy * hpd;\n",
    "/* 7*/       int m = h * mph;\n",
    "/* 8*/       return m;\n",
    "/* 9*/   }\n",
    "/*10*/  int main() {\n",
    "/*11*/      int minutes = seasons_of_love();\n",
    "/*12*/      printf(\"%d minutes\\n\", minutes);\n",
    "/*13*/      printf(\"%d moments so dear\\n\", minutes - 600);\n",
    "/*14*/      printf(\"%d minutes\\n\", minutes);\n",
    "/*15*/      printf(\"How do you measure? Measure a year?\\n\");\n",
    "/*16*/  }"
   ]
  },
  {
   "cell_type": "markdown",
   "id": "698889fe-62fa-4dd1-b5fd-16ddc0bede15",
   "metadata": {
    "editable": true,
    "slideshow": {
     "slide_type": "skip"
    },
    "tags": [
     "answer"
    ]
   },
   "source": [
    "```\n",
    "00000000000007ac <seasons_of_love>:\n",
    "  7ac:   d10083ff    sub sp, sp, #0x20  // Line 2   Create stack frame\n",
    "  7b0:   52802da0    mov w0, #0x16d     // Line 3   Local variable (dpy) initialization \n",
    "  7b4:   b9000fe0    str w0, [sp, #12]  //   V\n",
    "  7b8:   52800300    mov w0, #0x18      // Line 4   Local variable (hpd) initialization\n",
    "  7bc:   b90013e0    str w0, [sp, #16]  //   V\n",
    "  7c0:   52800780    mov w0, #0x3c      // Line 5   Local variable (mph) initialization\n",
    "  7c4:   b90017e0    str w0, [sp, #20]  //   V\n",
    "  7c8:   b9400fe1    ldr w1, [sp, #12]  // Line 6   Mathematical operation\n",
    "  7cc:   b94013e0    ldr w0, [sp, #16]  //   |\n",
    "  7d0:   1b007c20    mul w0, w1, w0     //   |\n",
    "  7d4:   b9001be0    str w0, [sp, #24]  //   V\n",
    "  7d8:   b9401be1    ldr w1, [sp, #24]  // Line 7   Mathematical operation\n",
    "  7dc:   b94017e0    ldr w0, [sp, #20]  //   |\n",
    "  7e0:   1b007c20    mul w0, w1, w0     //   |\n",
    "  7e4:   b9001fe0    str w0, [sp, #28]  //   V\n",
    "  7e8:   b9401fe0    ldr w0, [sp, #28]  // Line 8   Function return/end\n",
    "  7ec:   910083ff    add sp, sp, #0x20  //   |\n",
    "  7f0:   d65f03c0    ret                //   V\n",
    "```"
   ]
  },
  {
   "cell_type": "markdown",
   "id": "7d009e98-a5cc-4f4e-bd29-048cc0b35a94",
   "metadata": {
    "editable": true,
    "slideshow": {
     "slide_type": "subslide"
    },
    "tags": [
     "blank"
    ]
   },
   "source": [
    "```\n",
    "00000000000007ac <seasons_of_love>:\n",
    "  7ac:   d10083ff    sub sp, sp, #0x20\n",
    "  7b0:   52802da0    mov w0, #0x16d  \n",
    "  7b4:   b9000fe0    str w0, [sp, #12]\n",
    "  7b8:   52800300    mov w0, #0x18   \n",
    "  7bc:   b90013e0    str w0, [sp, #16]\n",
    "  7c0:   52800780    mov w0, #0x3c   \n",
    "  7c4:   b90017e0    str w0, [sp, #20]\n",
    "  7c8:   b9400fe1    ldr w1, [sp, #12]\n",
    "  7cc:   b94013e0    ldr w0, [sp, #16]\n",
    "  7d0:   1b007c20    mul w0, w1, w0\n",
    "  7d4:   b9001be0    str w0, [sp, #24]\n",
    "  7d8:   b9401be1    ldr w1, [sp, #24]\n",
    "  7dc:   b94017e0    ldr w0, [sp, #20]\n",
    "  7e0:   1b007c20    mul w0, w1, w0\n",
    "  7e4:   b9001fe0    str w0, [sp, #28]\n",
    "  7e8:   b9401fe0    ldr w0, [sp, #28]\n",
    "  7ec:   910083ff    add sp, sp, #0x20\n",
    "  7f0:   d65f03c0    ret\n",
    "```"
   ]
  },
  {
   "cell_type": "markdown",
   "id": "dce779a9-d374-4543-bf94-ca39ce609dc9",
   "metadata": {
    "editable": true,
    "slideshow": {
     "slide_type": "subslide"
    },
    "tags": [
     "question"
    ]
   },
   "source": [
    "Q12: _For each line of assembly, indicate which line of C code the assembly instruction was derived from._"
   ]
  },
  {
   "cell_type": "code",
   "execution_count": null,
   "id": "dc543b86-ad88-421d-bbab-333c6f3354a8",
   "metadata": {
    "editable": true,
    "slideshow": {
     "slide_type": ""
    },
    "tags": [
     "question"
    ]
   },
   "outputs": [],
   "source": [
    "/*1*/  int divide(unsigned int numerator, unsigned int denominator) {\n",
    "/*2*/      int result = -1;\n",
    "/*3*/      result = numerator / denominator;\n",
    "/*4*/      return result;\n",
    "/*5*/  }"
   ]
  },
  {
   "cell_type": "markdown",
   "id": "12aa15ee-a090-419d-a9d9-14311be9dd93",
   "metadata": {
    "editable": true,
    "slideshow": {
     "slide_type": "skip"
    },
    "tags": [
     "answer"
    ]
   },
   "source": [
    "```\n",
    "000000000000076c <divide>:                      // Line\n",
    "    76c:    d10083ff     sub    sp, sp, #0x20   // 1\n",
    "    770:    b9000fe0     str    w0, [sp, #12]   // 1\n",
    "    774:    b9000be1     str    w1, [sp, #8]    // 1\n",
    "    778:    12800000     mov    w0, #0xffffffff // 2\n",
    "    77c:    b9001fe0     str    w0, [sp, #28]   // 2\n",
    "    780:    b9400fe1     ldr    w1, [sp, #12]   // 3\n",
    "    784:    b9400be0     ldr    w0, [sp, #8]    // 3\n",
    "    788:    1ac00820     udiv   w0, w1, w0      // 3\n",
    "    78c:    b9001fe0     str    w0, [sp, #28]   // 3\n",
    "    790:    b9401fe0     ldr    w0, [sp, #28]   // 4\n",
    "    794:    910083ff     add    sp, sp, #0x20   // 4\n",
    "    798:    d65f03c0     ret                    // 4\n",
    "```"
   ]
  },
  {
   "cell_type": "markdown",
   "id": "1504a42f-1feb-4381-98ce-ec9cbb2c8bf6",
   "metadata": {
    "editable": true,
    "slideshow": {
     "slide_type": ""
    },
    "tags": [
     "blank"
    ]
   },
   "source": [
    "```\n",
    "000000000000076c <divide>:\n",
    "    76c:    d10083ff     sub    sp, sp, #0x20\n",
    "    770:    b9000fe0     str    w0, [sp, #12]\n",
    "    774:    b9000be1     str    w1, [sp, #8]\n",
    "    778:    12800000     mov    w0, #0xffffffff\n",
    "    77c:    b9001fe0     str    w0, [sp, #28]\n",
    "    780:    b9400fe1     ldr    w1, [sp, #12]\n",
    "    784:    b9400be0     ldr    w0, [sp, #8]\n",
    "    788:    1ac00820     udiv   w0, w1, w0\n",
    "    78c:    b9001fe0     str    w0, [sp, #28]\n",
    "    790:    b9401fe0     ldr    w0, [sp, #28]\n",
    "    794:    910083ff     add    sp, sp, #0x20\n",
    "    798:    d65f03c0     ret\n",
    "```"
   ]
  },
  {
   "cell_type": "markdown",
   "id": "8b669d40-b7e8-4da0-bb7d-0fb4d2e6b829",
   "metadata": {
    "editable": true,
    "slideshow": {
     "slide_type": "slide"
    },
    "tags": []
   },
   "source": [
    "## Tracing assembly code"
   ]
  },
  {
   "cell_type": "markdown",
   "id": "c690f752-a1af-4a54-955d-75e3a381f1b0",
   "metadata": {
    "editable": true,
    "slideshow": {
     "slide_type": ""
    },
    "tags": []
   },
   "source": [
    "```\n",
    "0000000000000854 <deref>:\n",
    " 854:   d10083ff    sub sp, sp, #0x20\n",
    " 858:   f90007e0    str x0, [sp, #8]\n",
    " 85c:   f94007e0    ldr x0, [sp, #8]\n",
    " 860:   f9400000    ldr x0, [x0]\n",
    " 864:   f9000fe0    str x0, [sp, #24]\n",
    " 868:   f9400fe0    ldr x0, [sp, #24]\n",
    " 86c:   910083ff    add sp, sp, #0x20\n",
    " 870:   d65f03c0    ret\n",
    "```"
   ]
  },
  {
   "cell_type": "markdown",
   "id": "0fb076f7-9072-4bc6-9531-fc5a1dd9eefa",
   "metadata": {
    "editable": true,
    "slideshow": {
     "slide_type": "skip"
    },
    "tags": []
   },
   "source": [
    "```\n",
    "pc = 0x854\n",
    "sp = 0xFB0\n",
    "w/x0 = 0xFB8\n",
    "```\n",
    "```\n",
    "\n",
    "\n",
    "\n",
    "\n",
    "\n",
    "\n",
    "\n",
    "\n",
    " sp -> +--+--+--+--+--+--+--+--+\n",
    " 0xFB0 |                       |\n",
    "       +--+--+--+--+--+--+--+--+\n",
    " 0xFB8 |           2           |\n",
    "       +--+--+--+--+--+--+--+--+\n",
    " 0xFC0 |         0x770         |\n",
    "       +--+--+--+--+--+--+--+--+\n",
    " 0xFC8 |                       |\n",
    "       +--+--+--+--+--+--+--+--+\n",
    "```"
   ]
  },
  {
   "cell_type": "markdown",
   "id": "53a64304-a6d5-49dc-be32-e20e072d7fcb",
   "metadata": {
    "editable": true,
    "slideshow": {
     "slide_type": "skip"
    },
    "tags": [
     "notes-only"
    ]
   },
   "source": [
    "Contents of the stack and registers *before* executing the second-to-last assembly instruction (`add sp, sp, #0x20`)\n",
    "\n",
    "```\n",
    "pc = 0x86c\n",
    "sp = 0xF90\n",
    "w/x0 = 2\n",
    "```\n",
    "```\n",
    "       0  1  2  3  4  5  6  7  8\n",
    " sp -> +--+--+--+--+--+--+--+--+\n",
    " 0xF90 |                       |\n",
    "       +--+--+--+--+--+--+--+--+\n",
    " 0xF98 |         0xFB8         |\n",
    "       +--+--+--+--+--+--+--+--+\n",
    " 0xFA0 |           2           |\n",
    "       +--+--+--+--+--+--+--+--+\n",
    " 0xFA8 |                       |\n",
    "       +--+--+--+--+--+--+--+--+\n",
    " 0xFB0 |                       |\n",
    "       +--+--+--+--+--+--+--+--+\n",
    " 0xFB8 |           2           |\n",
    "       +--+--+--+--+--+--+--+--+\n",
    " 0xFC0 |         0x770         |\n",
    "       +--+--+--+--+--+--+--+--+\n",
    " 0xFC8 |                       |\n",
    "       +--+--+--+--+--+--+--+--+\n",
    "```"
   ]
  },
  {
   "cell_type": "markdown",
   "id": "0c2b44af-444f-4fa6-b6e8-a6e0ebe57e2c",
   "metadata": {
    "editable": true,
    "slideshow": {
     "slide_type": "subslide"
    },
    "tags": [
     "question"
    ]
   },
   "source": [
    "Q13: _The following assembly code was generated (using `gcc`)_\n",
    "```\n",
    "000000000000076c <divide>:\n",
    "    76c:    d10083ff     sub    sp, sp, #0x20\n",
    "    770:    b9000fe0     str    w0, [sp, #12]\n",
    "    774:    b9000be1     str    w1, [sp, #8]\n",
    "    778:    12800000     mov    w0, #0xffffffff\n",
    "    77c:    b9001fe0     str    w0, [sp, #28]\n",
    "    780:    b9400fe1     ldr    w1, [sp, #12]\n",
    "    784:    b9400be0     ldr    w0, [sp, #8]\n",
    "    788:    1ac00820     udiv   w0, w1, w0\n",
    "    78c:    b9001fe0     str    w0, [sp, #28]\n",
    "    790:    b9401fe0     ldr    w0, [sp, #28]\n",
    "    794:    910083ff     add    sp, sp, #0x20\n",
    "    798:    d65f03c0     ret\n",
    "```\n",
    "_Assume the registers initially hold the following values:_\n",
    "```\n",
    "pc = 0x76C\n",
    "sp = 0xFE0\n",
    "w/x0 = 100\n",
    "w/x1 = 5\n",
    "```\n",
    "_Draw the contents of the stack and registers after executing the assembly instruction at 0x790._"
   ]
  },
  {
   "cell_type": "markdown",
   "id": "2d35b75b-af03-4527-ba8e-534cf8eacb8b",
   "metadata": {
    "editable": true,
    "slideshow": {
     "slide_type": "skip"
    },
    "tags": [
     "answer"
    ]
   },
   "source": [
    "```\n",
    "        0  1  2  3  4  5  6  7  8          \n",
    " sp ->  +--+--+--+--+--+--+--+--+\n",
    " 0xFC0  |                       |\n",
    "        +--+--+--+--+--+--+--+--+\n",
    " 0xFC8  |     5     |    100    |\n",
    "        +--+--+--+--+--+--+--+--+\n",
    " 0xFD0  |                       |\n",
    "        +--+--+--+--+--+--+--+--+\n",
    " 0xFD8  |           |     20    |\n",
    "        +--+--+--+--+--+--+--+--+\n",
    "pc = 0x794\n",
    "sp = 0xFC0\n",
    "w/x0 = 20\n",
    "w/x1 = 100\n",
    "```"
   ]
  },
  {
   "cell_type": "markdown",
   "id": "1def95fe-0d8f-445b-ac26-e2f3bcc50ef9",
   "metadata": {
    "editable": true,
    "slideshow": {
     "slide_type": "skip"
    },
    "tags": [
     "blank"
    ]
   },
   "source": [
    "<p style=\"height:20em;\"></p>"
   ]
  },
  {
   "cell_type": "markdown",
   "id": "da7c9a56-cd52-441c-a175-7ed7e96863b7",
   "metadata": {
    "editable": true,
    "slideshow": {
     "slide_type": "subslide"
    },
    "tags": [
     "question"
    ]
   },
   "source": [
    "Q14: _The following assembly code was generated (using `gcc`) for a C function with the prototype `int years_to_double(int rate)`:_\n",
    "```\n",
    "000000000000076c <years_to_double>:\n",
    "    76c:    d10083ff    sub  sp, sp, #0x20\n",
    "    770:    b9000fe0    str  w0, [sp, #12]\n",
    "    774:    52800900    mov  w0, #0x48\n",
    "    778:    b9001be0    str  w0, [sp, #24]\n",
    "    77c:    b9401be1    ldr  w1, [sp, #24]\n",
    "    780:    b9400fe0    ldr  w0, [sp, #12]\n",
    "    784:    1ac00c20    sdiv w0, w1, w0\n",
    "    788:    b9001fe0    str  w0, [sp, #28]\n",
    "    78c:    b9401fe0    ldr  w0, [sp, #28]\n",
    "    790:    910083ff    add  sp, sp, #0x20 \n",
    "    794:    d65f03c0    ret\n",
    "```\n",
    "_Assume the registers initially hold the following values:_\n",
    "```\n",
    "pc = 0x76C\n",
    "sp = 0x780\n",
    "w/x0 = 9\n",
    "```\n",
    "_Draw the contents of the stack and registers after executing the assembly instruction at 0x78C._"
   ]
  },
  {
   "cell_type": "markdown",
   "id": "98cd374a-b2ef-4f5e-a6c5-6149bbb88103",
   "metadata": {
    "editable": true,
    "slideshow": {
     "slide_type": "skip"
    },
    "tags": [
     "answer"
    ]
   },
   "source": [
    "```\n",
    "        0  1  2  3  4  5  6  7  8          \n",
    " sp ->  +--+--+--+--+--+--+--+--+\n",
    " 0x760  |                       |\n",
    "        +--+--+--+--+--+--+--+--+\n",
    " 0x768  |           |     9     |\n",
    "        +--+--+--+--+--+--+--+--+\n",
    " 0x770  |                       |\n",
    "        +--+--+--+--+--+--+--+--+\n",
    " 0x778  |    72     |     8     |\n",
    "        +--+--+--+--+--+--+--+--+\n",
    "pc = 0x790\n",
    "sp = 0x760\n",
    "w/x0 = 8\n",
    "w/x1 = 72\n",
    "```"
   ]
  },
  {
   "cell_type": "markdown",
   "id": "664b6881-3a0e-4f43-81db-eb2f83a36806",
   "metadata": {
    "editable": true,
    "slideshow": {
     "slide_type": "skip"
    },
    "tags": [
     "blank"
    ]
   },
   "source": [
    "<p style=\"height:20em;\"></p>"
   ]
  },
  {
   "cell_type": "markdown",
   "id": "a27c1ce2-2eb9-459d-aecb-1f8b226a35e6",
   "metadata": {
    "slideshow": {
     "slide_type": "skip"
    },
    "tags": [
     "worksheet-only"
    ]
   },
   "source": [
    "<div style=\"page-break-after:always;\"></div>"
   ]
  },
  {
   "cell_type": "markdown",
   "id": "d0deb282-6e45-4a8a-b173-7de5aa2941b6",
   "metadata": {
    "editable": true,
    "slideshow": {
     "slide_type": "subslide"
    },
    "tags": [
     "question"
    ]
   },
   "source": [
    "Q15: _The following assembly code was generated (using `gcc`) for a C function with the prototype `int sum(int a, int *b)`:_\n",
    "```\n",
    "0000000000000584 <sum>:\n",
    "  584:    d10083ff     sub sp, sp, #0x20\n",
    "  588:    b9001fe0     str w0, [sp, #28]\n",
    "  58c:    f9000be1     str x1, [sp, #16]\n",
    "  590:    f9400be8     ldr x8, [sp, #16]\n",
    "  594:    b9400109     ldr w9, [x8]\n",
    "  598:    b9000fe9     str w9, [sp, #12]\n",
    "  59c:    b9401fe9     ldr w9, [sp, #28]\n",
    "  5a0:    b9400fea     ldr w10, [sp, #12]\n",
    "  5a4:    0b0a0129     add w9, w9, w10\n",
    "  5a8:    b9000be9     str w9, [sp, #8]\n",
    "  5ac:    b9400be0     ldr w0, [sp, #8]\n",
    "  5b0:    910083ff     add sp, sp, #0x20\n",
    "  5b4:    d65f03c0     ret\n",
    "```\n",
    "_Assume the registers and stack initially hold the following values:_\n",
    "\n",
    "```\n",
    "pc = 0x584\n",
    "sp = 0xFB0\n",
    "w/x0 = 2\n",
    "w/x1 = 0xFC8 \n",
    "```\n",
    "```\n",
    "\n",
    "\n",
    "\n",
    "\n",
    "\n",
    "\n",
    "\n",
    "\n",
    "\n",
    "\n",
    "\n",
    " sp -> +--+--+--+--+--+--+--+--+\n",
    " 0xFB0 |                       |\n",
    "       +--+--+--+--+--+--+--+--+\n",
    " 0xFB8 |                       |\n",
    "       +--+--+--+--+--+--+--+--+\n",
    " 0xFC0 |         0xFC8         |\n",
    "       +--+--+--+--+--+--+--+--+\n",
    " 0xFC8 |     3     |     2     |\n",
    "       +--+--+--+--+--+--+--+--+\n",
    " 0xFD0 |         0x618         |\n",
    "       +--+--+--+--+--+--+--+--+\n",
    " 0xFD8 |                       |\n",
    "       +--+--+--+--+--+--+--+--+\n",
    "```\n",
    "    \n",
    "_Trace through the assembly code and update the contents of the stack and registers until pc = 0x5B0._"
   ]
  },
  {
   "cell_type": "markdown",
   "id": "99f8f5dc-3cf8-4a97-a545-8fe5755848a4",
   "metadata": {
    "editable": true,
    "slideshow": {
     "slide_type": "skip"
    },
    "tags": [
     "answer"
    ]
   },
   "source": [
    "```\n",
    "pc = 0x5B0\n",
    "sp = 0xF90\n",
    "w/x0 = 5\n",
    "w/x1 = 0xFC8\n",
    "w/x8 = 0xFC8\n",
    "w/x9 = 5\n",
    "w/x10 = 3\n",
    "```\n",
    "```\n",
    "       0  1  2  3  4  5  6  7  8\n",
    " sp -> +--+--+--+--+--+--+--+--+\n",
    " 0xF90 |                       |\n",
    "       +--+--+--+--+--+--+--+--+\n",
    " 0xF98 |     5     |     3     |\n",
    "       +--+--+--+--+--+--+--+--+\n",
    " 0xFA0 |         0xFC8         |\n",
    "       +--+--+--+--+--+--+--+--+\n",
    " 0xFA8 |           |     2     |\n",
    "       +--+--+--+--+--+--+--+--+\n",
    " 0xFB0 |                       |\n",
    "       +--+--+--+--+--+--+--+--+\n",
    " 0xFB8 |                       |\n",
    "       +--+--+--+--+--+--+--+--+\n",
    " 0xFC0 |         0xFC8         |\n",
    "       +--+--+--+--+--+--+--+--+\n",
    " 0xFC8 |     3     |     2     |\n",
    "       +--+--+--+--+--+--+--+--+\n",
    " 0xFD0 |         0x618         |\n",
    "       +--+--+--+--+--+--+--+--+\n",
    " 0xFD8 |                       |\n",
    "       +--+--+--+--+--+--+--+--+\n",
    "```"
   ]
  }
 ],
 "metadata": {
  "kernelspec": {
   "display_name": "C",
   "language": "c",
   "name": "c"
  },
  "language_info": {
   "file_extension": ".c",
   "mimetype": "text/plain",
   "name": "c"
  }
 },
 "nbformat": 4,
 "nbformat_minor": 5
}
