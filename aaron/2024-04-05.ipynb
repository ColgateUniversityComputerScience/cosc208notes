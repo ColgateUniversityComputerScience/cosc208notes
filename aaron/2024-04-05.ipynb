{
 "cells": [
  {
   "cell_type": "markdown",
   "id": "ffc437ac-d10b-4d12-895d-712e9c2057b5",
   "metadata": {
    "slideshow": {
     "slide_type": "skip"
    },
    "tags": []
   },
   "source": [
    "# Multiprocessing: limited direct execution; system calls\n",
    "_COSC 208, Introduction to Computer Systems, 2024-04-05_"
   ]
  },
  {
   "cell_type": "markdown",
   "id": "6ead4228-2ba1-4e8b-8397-247d9908ea7a",
   "metadata": {
    "slideshow": {
     "slide_type": "skip"
    },
    "tags": []
   },
   "source": [
    "## Announcements\n",
    "* Project 2 revisions due Wednesday at 11pm\n",
    "* Quiz 5 rescheduled for Friday, April 19\n",
    "* Office hours\n",
    "    * Monday – canceled\n",
    "    * Tuesday – 8:15am-10am and 12:45pm-1:15pm"
   ]
  },
  {
   "cell_type": "markdown",
   "id": "377e6d68-2202-4782-afc7-a43582630f55",
   "metadata": {
    "slideshow": {
     "slide_type": "skip"
    },
    "tags": []
   },
   "source": [
    "## Outline\n",
    "* Operating Systems (OS)\n",
    "* Accessing hardware\n",
    "* Limited Direct Execution (LDE)\n",
    "* System calls (syscalls)"
   ]
  },
  {
   "cell_type": "markdown",
   "id": "12012bfd-a4f4-4e7f-9d4b-3275ef92160b",
   "metadata": {},
   "source": [
    "## No warm-up: Happy Friday!"
   ]
  },
  {
   "cell_type": "markdown",
   "id": "991c1002-24d0-44cf-bbe4-287e7f37fa4a",
   "metadata": {
    "slideshow": {
     "slide_type": "skip"
    },
    "tags": [
     "worksheet-only"
    ]
   },
   "source": [
    "<div style=\"page-break-after:always;\"></div>"
   ]
  },
  {
   "cell_type": "markdown",
   "id": "177d7b56-26ce-4023-8010-92c448961bbf",
   "metadata": {
    "slideshow": {
     "slide_type": "skip"
    },
    "tags": [
     "notes-only"
    ]
   },
   "source": [
    "## Operating systems (OS) overview"
   ]
  },
  {
   "cell_type": "markdown",
   "id": "14ab688a-b402-42ca-b066-edfbfd1ef0b4",
   "metadata": {
    "slideshow": {
     "slide_type": "skip"
    },
    "tags": [
     "notes-only"
    ]
   },
   "source": [
    "* Purpose of an OS\n",
    "    * Make computer hardware easy to use—e.g., an OS knows how to load an application's executable code from persistent storage (e.g., solid state drive (SSD)) into main memory, initialize the process's address space (code, heap, stack), and make the CPU execute the application's instructions\n",
    "    * Support multiprocessing—i.e., running multiple applications concurrently\n",
    "        * Concurrently == switch between multiple tasks during a window of time—e.g., alternate between cooking and setting the table\n",
    "        * Simultaneously == complete two tasks at the same time—e.g., listen to a podcast while cooking\n",
    "    * Allocate and manage hardware resources—e.g., decide when/which applications can use the CPU, decide when/which memory applications can use, prevent applications from stealing/accessing another application's CPU time or memory\n",
    "    * Many OSes also provide a user interface (UI)\n",
    "* How does the OS fulfill its duties?\n",
    "    * Mechanisms — fundamental approaches for managing/providing access to hardware resources\n",
    "        * E.g., system calls, process abstraction\n",
    "    * Policy — specific ways of employing an approach; different policies make different trade-offs (in terms of efficiency, performance, etc.)\n",
    "        * E.g., process scheduler"
   ]
  },
  {
   "cell_type": "markdown",
   "id": "8d807688-da78-40a3-a6ba-33996b0e3916",
   "metadata": {
    "slideshow": {
     "slide_type": "slide"
    },
    "tags": [
     "notes-only"
    ]
   },
   "source": [
    "## Accessing hardware"
   ]
  },
  {
   "cell_type": "markdown",
   "id": "304e20c3-b23e-48cd-87c3-083e05018007",
   "metadata": {
    "slideshow": {
     "slide_type": "skip"
    },
    "tags": [
     "notes-only"
    ]
   },
   "source": [
    "* OS is responsible for allocating/managing the hardware\n",
    "* Analogy – sharing a calculator\n",
    "    * Three students – OS, program 1, program 2\n",
    "    * OS decides how programs will share the calculator"
   ]
  },
  {
   "cell_type": "markdown",
   "id": "3d5075fe-7b2d-432b-85c4-8eefdd21e057",
   "metadata": {
    "slideshow": {
     "slide_type": "subslide"
    },
    "tags": [
     "notes-only"
    ]
   },
   "source": [
    "* First attempt – no preemption\n",
    "    * Instructions for Program 1:\n",
    "        ```\n",
    "        8642 + 9753 = _____\n",
    "        M+ (add to memory)\n",
    "        1819 + 1920 + 2021 = _____\n",
    "        153 + 264 + MRC (recall from memory) = _____\n",
    "        ```\n",
    "    * Instructions for Program 2:\n",
    "        ```\n",
    "        1234 + 5678 = _____\n",
    "        1470 + 2342 + 2341 = _____\n",
    "        34238 + 32482 = _____\n",
    "        ```"
   ]
  },
  {
   "cell_type": "markdown",
   "id": "5938e2e6-29fc-4ed7-8f00-aaf004aa8f84",
   "metadata": {
    "slideshow": {
     "slide_type": "subslide"
    },
    "tags": [
     "notes-only"
    ]
   },
   "source": [
    "* Second attempt – preemption, but no protection\n",
    "    * Instructions for Program 1:\n",
    "        ```\n",
    "        8642 + 9753 = _____\n",
    "        M+ (add to memory)\n",
    "        1819 + 1920 + 2021 = _____\n",
    "        153 + 264 + MRC (recall from memory) = _____\n",
    "        ```\n",
    "    * Instructions for Program 2:\n",
    "        ```\n",
    "        8395 + 8395 = _____\n",
    "        M- (subtract from memory)\n",
    "        1470 + 2342 + 2341 = _____\n",
    "        34238 + 32482 = _____\n",
    "        ```"
   ]
  },
  {
   "cell_type": "markdown",
   "id": "0c6c3229-2737-4b1c-b9b4-08fcb7b74ad8",
   "metadata": {
    "slideshow": {
     "slide_type": "subslide"
    },
    "tags": [
     "notes-only"
    ]
   },
   "source": [
    "* Third attempt – dictate instructions\n",
    "    * Instructions for Program 1:\n",
    "        ```\n",
    "        8642 + 9753 = _____\n",
    "        1 + 2 + 3 + 4 + 5 + 6 + ... + 100 = _____\n",
    "        ```\n",
    "    * Instructions for Program 2:\n",
    "        ```\n",
    "        8395 + 8395 = _____\n",
    "        1470 + 2342 + 2341 = _____\n",
    "        34238 + 32482 = _____\n",
    "        ```"
   ]
  },
  {
   "cell_type": "markdown",
   "id": "cbe3fc7e-2d67-495c-a15d-e62beb87eef6",
   "metadata": {
    "slideshow": {
     "slide_type": "skip"
    },
    "tags": [
     "notes-only"
    ]
   },
   "source": [
    "* OS is responsible for allocating/managing the hardware\n",
    "    * ⇒ applications should **not have unfettered access to hardware**\n",
    "* _How should applications access the hardware?_\n",
    "    * Ask the OS for access to the hardware\n",
    "        * How do we ensure the OS does not \"lose control\" of the hardware? \n",
    "    * Asks the OS to perform an action on the application's behalf\n",
    "        * How do we ensure this doesn't substantially degrade performance?\n",
    "* Example: execute an instruction on the CPU\n",
    "    * Asking the OS to do this on behalf of an application is impractical—OS would need to execute multiple assembly instructions for each assembly instruction the application wants to execute\n",
    "    * Alternative: allow the application to execute its own instructions on the CPU\n",
    "        * This is risky—an application may execute an instruction that controls the hardware, e.g., `hlt` (halt) instruction pauses the CPU\n",
    "    * Alternative: allow the application to execute \"safe\" instructions on its own on the CPU\n",
    "* Example: accessing the solid state drive (SSD)\n",
    "    * Allowing the application to access the SSD directly\n",
    "        * This is risky—an application may read/write data it should not be able to access\n",
    "    * Alternative: asking the OS to access the SSD on the application's behalf\n",
    "        * Latency of accessing SSD (~1 million CPU cycles) far outweighs the extra instructions required for OS to perform the access on the application's behalf\n",
    "* Mechanisms\n",
    "    * Limited Direct Execution (LDE)\n",
    "    * System calls (syscalls)"
   ]
  },
  {
   "cell_type": "markdown",
   "id": "4d27e9f1-63ed-43d2-beb7-90d6ada2649d",
   "metadata": {
    "slideshow": {
     "slide_type": "skip"
    },
    "tags": [
     "notes-only"
    ]
   },
   "source": [
    "## Limited Direct Execution (LDE)"
   ]
  },
  {
   "cell_type": "markdown",
   "id": "0ef1fd09-3f25-444a-90a5-7debfce843fa",
   "metadata": {
    "slideshow": {
     "slide_type": "skip"
    },
    "tags": [
     "notes-only"
    ]
   },
   "source": [
    "* CPU has two modes of execution: user mode & kernel mode\n",
    "* _When does a CPU run in user mode?_ — when executing application code\n",
    "* _When does a CPU run in kernel mode?_ — when executing OS code\n",
    "* Allowable operations in user mode are restricted\n",
    "    * Applications can...\n",
    "        * Perform arithmetic/logic operations\n",
    "        * Load/store values in its stack/heap\n",
    "    * Applications must ask the OS to...\n",
    "        * Start/terminate applications\n",
    "        * Create/delete files\n",
    "        * Display output on screen\n",
    "        * Read input from user\n",
    "    * Must transfer control to the OS to perform these operations — How?"
   ]
  },
  {
   "cell_type": "markdown",
   "id": "f48fe444-9559-4cae-961e-b3e5e8419880",
   "metadata": {
    "slideshow": {
     "slide_type": "slide"
    },
    "tags": []
   },
   "source": [
    "## System calls (syscalls)"
   ]
  },
  {
   "cell_type": "markdown",
   "id": "38759165-3abe-42ec-81fa-b3a7ad2fbf86",
   "metadata": {
    "slideshow": {
     "slide_type": "skip"
    },
    "tags": [
     "notes-only"
    ]
   },
   "source": [
    "* Invoked via a special assembly instruction: trap (generic) or `svc` (on ARM)"
   ]
  },
  {
   "cell_type": "markdown",
   "id": "a2facecf-2b04-4520-a4ec-f3170068c10c",
   "metadata": {
    "tags": []
   },
   "source": [
    "* Example program"
   ]
  },
  {
   "cell_type": "code",
   "execution_count": 1,
   "id": "fa06ca96-9d04-4da6-92bd-2c586c289535",
   "metadata": {
    "tags": []
   },
   "outputs": [
    {
     "name": "stdout",
     "output_type": "stream",
     "text": [
      "I am a process. My name is 1276.\n"
     ]
    }
   ],
   "source": [
    "#include <stdio.h>\n",
    "#include <unistd.h>\n",
    "int name() {\n",
    "    int pid = getpid();\n",
    "    return pid;\n",
    "}\n",
    "int main() {\n",
    "    int p = name();\n",
    "    printf(\"I am a process. My name is %d.\\n\", p);\n",
    "}"
   ]
  },
  {
   "cell_type": "markdown",
   "id": "9333626f-091f-4d8e-af6d-76bc46a8b7fd",
   "metadata": {
    "slideshow": {
     "slide_type": "subslide"
    },
    "tags": []
   },
   "source": [
    "* Assembly code"
   ]
  },
  {
   "cell_type": "markdown",
   "id": "1fe2cb38-d005-4206-b0f2-89197449294b",
   "metadata": {
    "tags": []
   },
   "source": [
    "```\n",
    "00000000004006ac <name>:\n",
    "    4006ac:    d10083ff     sub    sp, sp, #0x20\n",
    "    4006b0:    f9000bfe     str    x30, [sp, #16]\n",
    "    4006b4:    94007713     bl    41e300 <__getpid>\n",
    "    4006b8:    b9000fe0     str    w0, [sp, #12]\n",
    "    4006bc:    b9400fe0     ldr    w0, [sp, #12]\n",
    "    4006c0:    f9400bfe     ldr    x30, [sp, #16]\n",
    "    4006c4:    910083ff     add    sp, sp, #0x20\n",
    "    4006c8:    d65f03c0     ret\n",
    "000000000041e300 <__getpid>:\n",
    "    41e300:    d28015c8     mov    x8, #0xac\n",
    "    41e304:    d4000001     svc    #0x0\n",
    "    41e308:    d65f03c0     ret\n",
    "```"
   ]
  },
  {
   "cell_type": "markdown",
   "id": "f3c46d97-273a-47c3-803b-06c004822f50",
   "metadata": {
    "slideshow": {
     "slide_type": "skip"
    },
    "tags": [
     "notes-only"
    ]
   },
   "source": [
    "* Functions in the C standard library that involve a privileged operation (e.g., `printf`) put the system call number in a register and invoke a trap instruction — programmer doesn’t have to worry about these details; they can just call the appropriate function in the C standard library\n",
    "* When `svc` is executed\n",
    "    1. CPU switches to kernel mode\n",
    "    2. CPU saves registers to the kernel stack — kernel stack is at a fixed location in memory\n",
    "        * _Why do we need to save the registers?_ — so we can return to `user` when `__getuid` is done\n",
    "    3. CPU uses system call number to index into table of trap handlers \n",
    "        * At boot, initialize table of trap handlers with pointers into OS code for handling each type of syscall\n",
    "    4. Branch and link to trap handler code\n",
    "    5. CPU restores registers from the kernel stack\n",
    "    6. CPU switches to user mode\n",
    "    7. Resume execution after `svc` \n",
    "* _What should we do if an application tries to perform a privileged operation without making a system call?_\n",
    "    * Let the code keep running — code may assume privileged operation was successful\n",
    "    * Terminate the application"
   ]
  }
 ],
 "metadata": {
  "kernelspec": {
   "display_name": "C",
   "language": "c",
   "name": "c"
  },
  "language_info": {
   "file_extension": ".c",
   "mimetype": "c",
   "name": "c"
  }
 },
 "nbformat": 4,
 "nbformat_minor": 5
}
