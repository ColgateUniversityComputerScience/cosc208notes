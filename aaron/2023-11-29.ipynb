{
 "cells": [
  {
   "cell_type": "markdown",
   "id": "ffc437ac-d10b-4d12-895d-712e9c2057b5",
   "metadata": {
    "slideshow": {
     "slide_type": "skip"
    },
    "tags": []
   },
   "source": [
    "# Efficiency: making programs multi-threaded\n",
    "_COSC 208, Introduction to Computer Systems, 2023-11-29_"
   ]
  },
  {
   "cell_type": "markdown",
   "id": "c377c966-ee4b-4990-a6e6-a2d8f327a112",
   "metadata": {
    "slideshow": {
     "slide_type": "skip"
    },
    "tags": []
   },
   "source": [
    "## Announcements\n",
    "* Project 4 due Thurs, Dec 7"
   ]
  },
  {
   "cell_type": "markdown",
   "id": "377e6d68-2202-4782-afc7-a43582630f55",
   "metadata": {
    "slideshow": {
     "slide_type": "skip"
    },
    "tags": [
     "notes-only"
    ]
   },
   "source": [
    "## Outline\n",
    "* Practice writing multi-threaded programs\n",
    "* Passing multiple parameters to threads\n",
    "* Transforming programs to be multi-threaded"
   ]
  },
  {
   "cell_type": "markdown",
   "id": "e9553457-80b5-425c-8011-4d678a7aef4a",
   "metadata": {},
   "source": [
    "## No warm-up: Happy Wednesday"
   ]
  },
  {
   "cell_type": "markdown",
   "id": "ed63da27-9250-4f73-b479-218046139fef",
   "metadata": {
    "slideshow": {
     "slide_type": "slide"
    },
    "tags": []
   },
   "source": [
    "## Practice writing multi-threaded programs"
   ]
  },
  {
   "cell_type": "markdown",
   "id": "e2b1445d-043d-44d3-82cb-3b1d422115ea",
   "metadata": {},
   "source": [
    "* Q1: _Write a function called `sum_array` which takes an array of `ARRAY_LEN` integers and returns the sum of the integers. Your function should have the appropriate prototype/implementation to serve as the entry point for a thread. Assume `ARRAY_LEN` is a constant which has been `#define`d._"
   ]
  },
  {
   "cell_type": "markdown",
   "id": "cc0f4a53-5d1d-4711-852b-d84e229509ec",
   "metadata": {
    "slideshow": {
     "slide_type": "skip"
    },
    "tags": [
     "worksheet-only"
    ]
   },
   "source": [
    "<p style=\"height:20em;\"></p>"
   ]
  },
  {
   "cell_type": "markdown",
   "id": "f2db4c42-7748-4c0a-bc68-88df21e70dd0",
   "metadata": {},
   "source": [
    "* Q2: _Write a function called `sum_matrix` which takes an array of `NUM_ARRAYS` arrays of integers (i.e., an `int **`) and returns the sum of all the integers. The function should create `NUM_ARRAYS` threads, each running the `sum_array` function for a single array of integers. Assume `NUM_ARRAYS` is a constant which has been `#define`d._"
   ]
  },
  {
   "cell_type": "markdown",
   "id": "b8dac501-e2cb-45f5-b177-49e1600b2dad",
   "metadata": {
    "slideshow": {
     "slide_type": "skip"
    },
    "tags": [
     "worksheet-only"
    ]
   },
   "source": [
    "<div style=\"page-break-after:always;\"></div>"
   ]
  },
  {
   "cell_type": "code",
   "execution_count": 2,
   "id": "fcc2c6b2-1956-49c2-94ba-9ddb7336ea79",
   "metadata": {
    "slideshow": {
     "slide_type": "skip"
    },
    "tags": [
     "notes-only"
    ]
   },
   "outputs": [
    {
     "name": "stdout",
     "output_type": "stream",
     "text": [
      "10225\n"
     ]
    }
   ],
   "source": [
    "#include <pthread.h>\n",
    "#include <stdio.h>\n",
    "#include <stdlib.h>\n",
    "\n",
    "#define ARRAY_LEN 10\n",
    "#define NUM_ARRAYS 5\n",
    "\n",
    "void *sum_array(void *args) {\n",
    "    int *nums = (int *)args;\n",
    "    int *sum = malloc(sizeof(int));\n",
    "    *sum = 0;\n",
    "    for (int i = 0; i < ARRAY_LEN; i++) {\n",
    "        *sum += nums[i];\n",
    "    }\n",
    "    return sum;\n",
    "}\n",
    "\n",
    "int sum_matrix(int *matrix[]) {\n",
    "    pthread_t threads[NUM_ARRAYS];\n",
    "    for (int i = 0; i < NUM_ARRAYS; i++) {\n",
    "        pthread_create(&(threads[i]), NULL, &sum_array, matrix[i]);\n",
    "    }\n",
    "\n",
    "    int total = 0;\n",
    "    for (int i = 0; i < NUM_ARRAYS; i++) {\n",
    "        int *sum;\n",
    "        pthread_join(threads[i], (void **)(&sum));\n",
    "        total += *sum;\n",
    "        free(sum);\n",
    "    }\n",
    "\n",
    "    return total;\n",
    "}\n",
    "\n",
    "int main() {\n",
    "    int *matrix[NUM_ARRAYS];\n",
    "    for (int i = 0; i < NUM_ARRAYS; i++) {\n",
    "        matrix[i] = malloc(sizeof(int) * ARRAY_LEN);\n",
    "        for (int j = 0; j < ARRAY_LEN; j++) {\n",
    "            matrix[i][j] = i * 100 + j;\n",
    "        }\n",
    "    }\n",
    "\n",
    "    int sum = sum_matrix(matrix);\n",
    "    printf(\"%d\\n\", sum);\n",
    "}"
   ]
  },
  {
   "cell_type": "markdown",
   "id": "67d66f89-3e65-47d2-9017-71d23659649f",
   "metadata": {
    "slideshow": {
     "slide_type": "skip"
    },
    "tags": [
     "notes-only"
    ]
   },
   "source": [
    "## Passing multiple parameters to threads"
   ]
  },
  {
   "cell_type": "markdown",
   "id": "15ccbad2-b01c-4f03-9eb5-ffbcd78ad052",
   "metadata": {
    "slideshow": {
     "slide_type": "skip"
    },
    "tags": [
     "notes-only"
    ]
   },
   "source": [
    "* A thread can only take a single `void *` pointer as a parameter\n",
    "* To pass multiple parameters:\n",
    "    * Define a `struct` that contains a field for each of the parameters\n",
    "    * Allocate space for an instance of the `struct`\n",
    "    * Pass a pointer to the instance to the thread — i.e., as the last parameter in `pthread_create`"
   ]
  },
  {
   "cell_type": "markdown",
   "id": "1f819412-be06-4c04-8759-47767aea7214",
   "metadata": {
    "slideshow": {
     "slide_type": "slide"
    },
    "tags": []
   },
   "source": [
    "## Transforming programs to be multi-threaded"
   ]
  },
  {
   "cell_type": "markdown",
   "id": "953589d6-fb97-4ed3-a9ea-c702aff963b2",
   "metadata": {
    "slideshow": {
     "slide_type": "skip"
    },
    "tags": [
     "notes-only"
    ]
   },
   "source": [
    "* For-each style loops are natural candidates for threading\n",
    "    * Example: a program that counts the number of occurrences of each vowel within a string\n",
    "    * Another example: a program that counts the longest sequence of each Short Tandem Repeat (STR) in a DNA sequence\n",
    "* Steps\n",
    "    * Move the body of the loop into its own \"worker\" function (if not done already)\n",
    "    * Write a \"wrapper\" function which:\n",
    "        * Has the required signature for a thread function (i.e., takes a single `void *` parameter and returns a void pointer)\n",
    "        * Extracts the argument(s) for the \"worker\" function from the thread function's arguments\n",
    "        * Calls the \"worker\" function\n",
    "        * Prepares the return value from the \"worker\" function to be returned by the thread\n",
    "    * Replace the body of the loop with the creation of threads that execute the \"wrapper\" function\n",
    "    * Add a second loop to wait for all threads to complete"
   ]
  },
  {
   "cell_type": "markdown",
   "id": "d3a00865-2936-4b1f-a08f-5992a873b039",
   "metadata": {
    "slideshow": {
     "slide_type": "skip"
    },
    "tags": []
   },
   "source": [
    "* _Assume you are given the following code:_"
   ]
  },
  {
   "cell_type": "code",
   "execution_count": null,
   "id": "3428cfe3-6045-4be4-82c6-1d3895e7ac83",
   "metadata": {},
   "outputs": [],
   "source": [
    "#include <ctype.h>\n",
    "#include <stdio.h>\n",
    "#include <string.h>\n",
    "int count(char *str, char ch) {\n",
    "    int num = 0;\n",
    "    while (*str != '\\0') {\n",
    "        if (tolower(*str) == ch) {\n",
    "            num++;\n",
    "        }\n",
    "        str++;\n",
    "    }\n",
    "    return num;\n",
    "}\n",
    "int main(int argc, char *argv[]) {\n",
    "    if (argc < 2) {\n",
    "        printf(\"Error: provide a string\\n\");\n",
    "        return 1;\n",
    "    }\n",
    "    char *str = argv[1];\n",
    "    char *vowels = \"aeiou\";\n",
    "    int counts[strlen(vowels)];\n",
    "    for (int i = 0; i < strlen(vowels); i++) {\n",
    "        counts[i] = count(str, vowels[i]);\n",
    "    }\n",
    "\n",
    "    for (int i = 0; i < strlen(vowels); i++) {\n",
    "        printf(\"%c %d\\n\", vowels[i], counts[i]);\n",
    "    }\n",
    "}"
   ]
  },
  {
   "cell_type": "markdown",
   "id": "50667a0e-f8b5-449e-b884-321021856575",
   "metadata": {
    "slideshow": {
     "slide_type": "subslide"
    },
    "tags": []
   },
   "source": [
    "* Q3: _Write a function called  `count_wrapper` that has the signature required for a thread function and calls the `count` function. (Hint: you'll need to declare a `struct` that contains all of the parameters required for `count`.)_"
   ]
  },
  {
   "cell_type": "markdown",
   "id": "bf5220ac-c035-41fb-a144-cc260f430181",
   "metadata": {},
   "source": [
    "* Q4: _Re-write `main` to create/wait for threads that execute `count_wrapper` (instead of calling `count` sequentially)._"
   ]
  },
  {
   "cell_type": "code",
   "execution_count": null,
   "id": "f99a77c0-0fc1-439e-9c96-3d5c31a83cdb",
   "metadata": {
    "slideshow": {
     "slide_type": "skip"
    },
    "tags": [
     "notes-only"
    ]
   },
   "outputs": [],
   "source": [
    "#include <ctype.h>\n",
    "#include <stdio.h>\n",
    "#include <string.h>\n",
    "#include <pthread.h>\n",
    "int count(char *str, char ch) {\n",
    "    int num = 0;\n",
    "    while (*str != '\\0') {\n",
    "        if (tolower(*str) == ch) {\n",
    "            num++;\n",
    "        }\n",
    "        str++;\n",
    "    }\n",
    "    return num;\n",
    "}\n",
    "struct count_args {\n",
    "    char *str;\n",
    "    char ch;\n",
    "};\n",
    "void *count_wrapper(void *arg) {\n",
    "    struct count_args *cargs = (struct count_args *)arg;\n",
    "    int *result = malloc(sizeof(int));\n",
    "    *result = count(cargs->str, cargs->ch);\n",
    "    return result;\n",
    "}\n",
    "int main(int argc, char *argv[]) {\n",
    "    if (argc < 2) {\n",
    "        printf(\"Error: provide a string\\n\");\n",
    "        return 1;\n",
    "    }\n",
    "    char *str = argv[1];\n",
    "    char *vowels = \"aeiou\";\n",
    "\n",
    "    // Create threads\n",
    "    struct count_args args[strlen(vowels)];\n",
    "    pthread_t threads[strlen(vowels)];\n",
    "    for (int i = 0; i < strlen(vowels); i++) {\n",
    "        args[i].str = str;\n",
    "        args[i].ch = vowels[i];\n",
    "        pthread_create(&(threads[i]), NULL, &count_wrapper, &(args[i]));\n",
    "    }\n",
    "\n",
    "    // Wait for threads\n",
    "    for (int i = 0; i < strlen(vowels); i++) {\n",
    "        int *ptr;\n",
    "        pthread_join(threads[i], (void **)(&ptr));\n",
    "        printf(\"%c %d\\n\", vowels[i], *ptr);\n",
    "    }\n",
    "}"
   ]
  }
 ],
 "metadata": {
  "kernelspec": {
   "display_name": "C",
   "language": "c",
   "name": "c"
  },
  "language_info": {
   "file_extension": ".c",
   "mimetype": "c",
   "name": "c"
  }
 },
 "nbformat": 4,
 "nbformat_minor": 5
}
