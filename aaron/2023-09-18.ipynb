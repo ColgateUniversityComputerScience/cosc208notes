{
 "cells": [
  {
   "cell_type": "markdown",
   "id": "275f3326-b6de-4d7d-b41a-f17ec6a57354",
   "metadata": {
    "slideshow": {
     "slide_type": "skip"
    },
    "tags": []
   },
   "source": [
    "# Program memory: pointer arithmetic; pointers as return values\n",
    "_COSC 208, Introduction to Computer Systems, 2023-09-18_"
   ]
  },
  {
   "cell_type": "markdown",
   "id": "9db293af-f9ec-4262-b568-ef1906a523b4",
   "metadata": {
    "slideshow": {
     "slide_type": "skip"
    },
    "tags": []
   },
   "source": [
    "## Announcements\n",
    "* Project 1 due Thurs @ 11pm\n",
    "\n",
    "    You **may not share or copy code/answers from other students.** Violations of this policy will be considered facilitating academic misconduct and/or cheating according to Colgate’s academic honor code.\n",
    "    \n",
    "    Additionally, you **must clearly indicate if any code is copied from or inspired by external sources** (e.g., Stack Overflow, ChatGPT, GitHub Copilot) and adhere to the licensing requirements of such code. Violations of this policy will be considered cheating or plagiarism according to Colgate’s academic honor code. Note that question and answer forums (e.g., Stack Overflow) are often unreliable, and AI-based tools (e.g., ChatGPT) have significant limitations and legal complications.\n",
    "    \n",
    "    **If you are struggling to complete an activity—due to a lack of understanding, time pressure, personal matters, etc.—please contact me. I want you to succeed, and I will do everything I can to help you.** Violating the academic honesty expectations for the course (almost) always leads to a bad experience for you and me. If you are unsure what constitutes academic misconduct, please contact me as soon as possible.\n",
    "    \n",
    "* Exam 1 next Wednesday 6:30pm-8:30pm"
   ]
  },
  {
   "cell_type": "markdown",
   "id": "bede1ded-97f6-4a28-9335-116fd9ea868f",
   "metadata": {
    "jp-MarkdownHeadingCollapsed": true,
    "slideshow": {
     "slide_type": "skip"
    },
    "tags": []
   },
   "source": [
    "## Outline\n",
    "* Warm-up\n",
    "* Pointer arithmetic\n",
    "* Pointers as return values\n",
    "* Program memory\n",
    "* malloc"
   ]
  },
  {
   "cell_type": "markdown",
   "id": "2455eec5-b456-4d20-8fb3-2042d63ad96d",
   "metadata": {},
   "source": [
    "## Warm-up\n",
    "* Q1: _What does the following program output?_"
   ]
  },
  {
   "cell_type": "code",
   "execution_count": 7,
   "id": "e71dc048-27d2-49a7-a222-a101d42302f7",
   "metadata": {
    "tags": [
     "worksheet-code-only"
    ]
   },
   "outputs": [
    {
     "name": "stdout",
     "output_type": "stream",
     "text": [
      "r n\n",
      "nice near\n",
      "sick bear\n"
     ]
    }
   ],
   "source": [
    "#include <stdio.h>\n",
    "void update(char *x, char *y) {\n",
    "    char *z = &x[3];\n",
    "    *x = 's';\n",
    "    *y = 'b';\n",
    "    *z = 'k';\n",
    "}\n",
    "\n",
    "int main() {\n",
    "    char one[] = \"rice\";\n",
    "    char two[] = \"neat\";\n",
    "    printf(\"%c %c\\n\", *one, *two);\n",
    "    char *ptr1 = one;\n",
    "    char *ptr2 = &two[3];\n",
    "    *ptr1 = *two;\n",
    "    *ptr2 = 'r';\n",
    "    printf(\"%s %s\\n\", one, two);\n",
    "    update(one, two);\n",
    "    printf(\"%s %s\\n\", one, two);\n",
    "}"
   ]
  },
  {
   "cell_type": "markdown",
   "id": "236c66e3-bfc7-4923-86d8-4713227982b9",
   "metadata": {
    "slideshow": {
     "slide_type": "skip"
    },
    "tags": [
     "worksheet-only"
    ]
   },
   "source": [
    "<p style=\"height:5em;\"></p>\n",
    "\n",
    "🛑 **STOP here** after completing the above question; if you have extra time please **skip ahead** to the extra practice.\n",
    "\n",
    "<div style=\"page-break-after:always;\"></div>"
   ]
  },
  {
   "cell_type": "markdown",
   "id": "d92249ba-69cd-4793-a0be-da19682475f6",
   "metadata": {
    "slideshow": {
     "slide_type": "slide"
    },
    "tags": []
   },
   "source": [
    "## Pointer arithmetic"
   ]
  },
  {
   "cell_type": "markdown",
   "id": "e071306a-93b7-4d6a-b397-df7ade225b97",
   "metadata": {
    "slideshow": {
     "slide_type": "skip"
    },
    "tags": [
     "notes-only"
    ]
   },
   "source": [
    "* Adding `n` to a pointer without dereferencing determines the address of the element `n` indices away\n",
    "* Pointer does not change, unless the new address is assigned to the pointer"
   ]
  },
  {
   "cell_type": "markdown",
   "id": "73b30688-eb15-4e7b-b555-236e93775eb4",
   "metadata": {},
   "source": [
    "* Example"
   ]
  },
  {
   "cell_type": "code",
   "execution_count": 18,
   "id": "5a7e4bd6-23fa-4529-919b-0feb06eb142d",
   "metadata": {
    "tags": [
     "worksheet-code-only"
    ]
   },
   "outputs": [
    {
     "name": "stdout",
     "output_type": "stream",
     "text": [
      "8 2\n",
      "32 2\n",
      "8 2\n",
      "128 32\n",
      "2 0\n",
      "2 -1\n"
     ]
    }
   ],
   "source": [
    "#include <stdio.h>\n",
    "int main() {\n",
    "    int nums[] = {2,4,8,16,32,64,128};\n",
    "    \n",
    "    int *ptr = nums + 2;\n",
    "    printf(\"%d %d\\n\", *ptr, *nums);\n",
    "    ptr = ptr + 2;\n",
    "    printf(\"%d %d\\n\", *ptr, *nums);\n",
    "    // nums = nums + 2; // Not allowed; array variable must point to 0th element\n",
    "    \n",
    "    int val = *(nums + 2);\n",
    "    printf(\"%d %d\\n\", val, *nums);\n",
    "    val = *(ptr + 2);\n",
    "    printf(\"%d %d\\n\", val, *ptr);\n",
    "    \n",
    "    nums[2] = 0;\n",
    "    printf(\"%d %d\\n\", *nums, nums[2]);\n",
    "    *(nums + 2) = -1;\n",
    "    printf(\"%d %d\\n\", *nums, nums[2]);\n",
    "}"
   ]
  },
  {
   "cell_type": "markdown",
   "id": "c0e94842-bc9b-4df9-942d-69add9dd558a",
   "metadata": {
    "slideshow": {
     "slide_type": "skip"
    },
    "tags": [
     "worksheet-only"
    ]
   },
   "source": [
    "<div style=\"height:5em;\"></div>"
   ]
  },
  {
   "cell_type": "markdown",
   "id": "9f19fdae-d23b-4625-aa4b-0fea412699e5",
   "metadata": {
    "slideshow": {
     "slide_type": "subslide"
    },
    "tags": []
   },
   "source": [
    "* Q2: _What does the following program output?_"
   ]
  },
  {
   "cell_type": "code",
   "execution_count": 4,
   "id": "dc67f386-70a7-4694-bff0-87d3ddc005f6",
   "metadata": {
    "tags": [
     "worksheet-code-only"
    ]
   },
   "outputs": [
    {
     "name": "stdout",
     "output_type": "stream",
     "text": [
      "cs\n",
      "the cap fits\n",
      "red cap fins\n"
     ]
    }
   ],
   "source": [
    "#include <stdio.h>\n",
    "int main() {\n",
    "    char phrase[] = \"the cat sits\";\n",
    "    char *mysteryA = phrase + 4;\n",
    "    char *mysteryB = mysteryA + 4;\n",
    "    printf(\"%c%c\\n\", *mysteryA, *mysteryB);\n",
    "    *(mysteryA + 2) = 'p';\n",
    "    *mysteryB = 'f';\n",
    "    printf(\"%s\\n\", phrase);\n",
    "    mysteryA--;\n",
    "    mysteryB += 2;\n",
    "    *mysteryB = 'n';\n",
    "    printf(\"red%s\\n\", mysteryA);\n",
    "}"
   ]
  },
  {
   "cell_type": "markdown",
   "id": "76bb660e-8952-4e65-b7ab-4f1f828494bf",
   "metadata": {
    "slideshow": {
     "slide_type": "skip"
    },
    "tags": [
     "worksheet-only"
    ]
   },
   "source": [
    "<div style=\"page-break-after:always;\"></div>"
   ]
  },
  {
   "cell_type": "markdown",
   "id": "37a7f65c-1e11-4130-963e-ffc9bb99f938",
   "metadata": {
    "slideshow": {
     "slide_type": "subslide"
    },
    "tags": []
   },
   "source": [
    "* Q3: _Write a function called `sum` which takes an array of integers and a length and returns the sum of the numbers. The function **must** use a pointer to iterate over the array._"
   ]
  },
  {
   "cell_type": "code",
   "execution_count": 2,
   "id": "dbcab9e8-51f4-4aac-b81e-8513d3fb223e",
   "metadata": {
    "slideshow": {
     "slide_type": "skip"
    },
    "tags": [
     "notes-only"
    ]
   },
   "outputs": [
    {
     "name": "stdout",
     "output_type": "stream",
     "text": [
      "15\n"
     ]
    }
   ],
   "source": [
    "#include <stdio.h>\n",
    "int sum(int *nums, int len) {\n",
    "    int *curr = nums;\n",
    "    int total = 0;\n",
    "    for (int i = 0; i < len; i++) {\n",
    "        total += *curr;\n",
    "        curr++;\n",
    "    }\n",
    "    return total;\n",
    "}\n",
    "int main() {\n",
    "    int nums[] = {1, 2, 4, 8};\n",
    "    printf(\"%d\\n\", sum(nums, 4));\n",
    "}"
   ]
  },
  {
   "cell_type": "markdown",
   "id": "f5d8c279-5b7a-4a99-b2eb-0ac01f7c7b56",
   "metadata": {
    "slideshow": {
     "slide_type": "skip"
    },
    "tags": [
     "worksheet-only"
    ]
   },
   "source": [
    "<div style=\"height:18em;\"></div>"
   ]
  },
  {
   "cell_type": "markdown",
   "id": "29c3eca9-a004-4389-96a4-9b3b652833b6",
   "metadata": {
    "slideshow": {
     "slide_type": "slide"
    },
    "tags": []
   },
   "source": [
    "## Pointers as return values\n",
    "* _What happens?_"
   ]
  },
  {
   "cell_type": "code",
   "execution_count": 3,
   "id": "fc643783-8c1d-4ad3-8e89-d738143694d8",
   "metadata": {
    "tags": [
     "worksheet-code-only"
    ]
   },
   "outputs": [
    {
     "name": "stdout",
     "output_type": "stream",
     "text": [
      "1\n"
     ]
    }
   ],
   "source": [
    "#include <stdio.h>\n",
    "int *one() {\n",
    "    int x = 1;\n",
    "    int *p = &x;\n",
    "    return p;\n",
    "}\n",
    "int main() {\n",
    "    int *q = one();\n",
    "    printf(\"%d\\n\", *q);\n",
    "}"
   ]
  },
  {
   "cell_type": "markdown",
   "id": "b0bddd62-bc88-41e2-bb65-de42c2998f05",
   "metadata": {
    "slideshow": {
     "slide_type": "skip"
    },
    "tags": [
     "notes-only"
    ]
   },
   "source": [
    "* `q` points to a variable that no longer exists!\n",
    "* _So, how can I return a pointer from a function?_ — dynamically allocate memory on the heap!"
   ]
  },
  {
   "cell_type": "markdown",
   "id": "d84f54b8-30c8-488c-94ab-ff0cf074f869",
   "metadata": {
    "slideshow": {
     "slide_type": "skip"
    },
    "tags": [
     "notes-only"
    ]
   },
   "source": [
    "## Program memory\n",
    "* Memory layout\n",
    "    ```\n",
    "    ┏━━━━━━━━━━━━━━━━━━┓ 0\n",
    "    ┃ Operating system ┃\n",
    "    ┣━━━━━━━━━━━━━━━━━━┫\n",
    "    ┃       Code       ┃ <- Function instructions\n",
    "    ┣━━━━━━━━━━━━━━━━━━┫\n",
    "    ┃       Data       ┃ <- Global variables\n",
    "    ┣━━━━━━━━━━━━━━━━━━┫\n",
    "    ┃       Heap       ┃ <- Dyanmically allocated memory\n",
    "    ┃         ▼        ┃    Grows toward higher memory addresses\n",
    "    ┣━━━━━━━━━━━━━━━━━━┫    \n",
    "    ┃                  ┃\n",
    "    ┣━━━━━━━━━━━━━━━━━━┫ \n",
    "    ┃         ▲        ┃    Grows toward lower memory addresses\n",
    "    ┃       Stack      ┃ <- Local variables and parameters\n",
    "    ┗━━━━━━━━━━━━━━━━━━┛ Max address\n",
    "    ```\n",
    "    * Stack consists of stack frames --- add a frame when a function is called, remove a frame when a function returns\n",
    "* Variable storage\n",
    "    * Local variables and parameters and stored on the stack --- in the frame for the function in which they are declared\n",
    "    * Global variables are stored in the data section\n",
    "* Memory allocation\n",
    "    * Code and data — automatically allocated with a program starts\n",
    "    * Stack — automatically allocated when a function is called; automatically deallocated when a function returns\n",
    "    * Heap memory — explicitly allocated and freed by a program"
   ]
  },
  {
   "cell_type": "markdown",
   "id": "3a548645-1301-47a3-9a0f-5c0dc015623d",
   "metadata": {
    "slideshow": {
     "slide_type": "slide"
    },
    "tags": []
   },
   "source": [
    "## ⭐ Extra practice"
   ]
  },
  {
   "cell_type": "markdown",
   "id": "4bf0544a-a7d6-4e7f-9975-d4fedbdc6c3a",
   "metadata": {},
   "source": [
    "* Q4: _What is the output of this program?_"
   ]
  },
  {
   "cell_type": "code",
   "execution_count": 8,
   "id": "3c753d5b-e89c-463a-9f82-2edf6e8ccf23",
   "metadata": {
    "tags": [
     "worksheet-code-only"
    ]
   },
   "outputs": [
    {
     "name": "stdout",
     "output_type": "stream",
     "text": [
      "1 1\n",
      "2 2\n"
     ]
    }
   ],
   "source": [
    "#include <stdio.h>\n",
    "void increment1(int a) {\n",
    "    a = a + 1;\n",
    "}\n",
    "void increment2(int *b) {\n",
    "    *b = *b + 1;\n",
    "}\n",
    "int main() {\n",
    "    int x = 1;\n",
    "    int *y = &x;\n",
    "    increment1(x);\n",
    "    printf(\"%d %d\\n\", x, *y);\n",
    "    increment2(y);\n",
    "    printf(\"%d %d\\n\", x, *y);\n",
    "}"
   ]
  },
  {
   "cell_type": "markdown",
   "id": "e731b188-a769-433b-b902-2ea48fd54847",
   "metadata": {
    "slideshow": {
     "slide_type": "skip"
    },
    "tags": [
     "worksheet-only"
    ]
   },
   "source": [
    "<div style=\"page-break-after:always;\"></div>"
   ]
  },
  {
   "cell_type": "markdown",
   "id": "05a203be-8199-4c84-a4f0-4b60647c48e0",
   "metadata": {
    "slideshow": {
     "slide_type": "subslide"
    },
    "tags": []
   },
   "source": [
    "* Q5: _What is the output of this program?_"
   ]
  },
  {
   "cell_type": "code",
   "execution_count": 3,
   "id": "7124b885-a5ef-428f-b84a-84b27c0f8680",
   "metadata": {
    "tags": [
     "worksheet-code-only"
    ]
   },
   "outputs": [
    {
     "name": "stdout",
     "output_type": "stream",
     "text": [
      "1 2\n",
      "6 1\n",
      "3\n",
      "4\n"
     ]
    }
   ],
   "source": [
    "#include <stdio.h>\n",
    "int main() {\n",
    "    int nums[4] = {1,2,3,4};\n",
    "    printf(\"%d %d\\n\", *nums, nums[1]);\n",
    "    int *ptr = &nums[1];\n",
    "    nums[1] += 4;\n",
    "    printf(\"%d %d\\n\", *ptr, nums[0]);\n",
    "    ptr = (nums + 2);\n",
    "    printf(\"%d\\n\", *ptr);\n",
    "    ptr++; // num++ is illegal\n",
    "    printf(\"%d\\n\", *ptr);\n",
    "}"
   ]
  },
  {
   "cell_type": "markdown",
   "id": "2737b1c0-23b1-4c64-99f4-ec388ba0ca8d",
   "metadata": {
    "slideshow": {
     "slide_type": "skip"
    },
    "tags": [
     "worksheet-only"
    ]
   },
   "source": [
    "<div style=\"height:10em;\"></div>"
   ]
  },
  {
   "cell_type": "markdown",
   "id": "aa884b34-4ca8-48df-8be0-7eac75edd732",
   "metadata": {
    "slideshow": {
     "slide_type": "subslide"
    },
    "tags": []
   },
   "source": [
    "* Q6: _What is the output of this program?_"
   ]
  },
  {
   "cell_type": "code",
   "execution_count": 4,
   "id": "81f6777e-e456-442a-8112-5c1e8299296c",
   "metadata": {
    "tags": [
     "worksheet-code-only"
    ]
   },
   "outputs": [
    {
     "name": "stdout",
     "output_type": "stream",
     "text": [
      "4\n",
      "Knit nit\n"
     ]
    }
   ],
   "source": [
    "#include <stdio.h>\n",
    "int main() {\n",
    "    char *first = \"Colgate\";\n",
    "    char second[10] = \"Univ\";\n",
    "    char *f = &first[3];\n",
    "    printf(\"%d\\n\", strlen(f));\n",
    "    char *s = second;\n",
    "    *s = 'K';\n",
    "    s++;\n",
    "    *(s+2) = 't';\n",
    "    printf(\"%s %s\\n\", second, s);\n",
    "}"
   ]
  }
 ],
 "metadata": {
  "kernelspec": {
   "display_name": "C",
   "language": "c",
   "name": "c"
  },
  "language_info": {
   "file_extension": ".c",
   "mimetype": "c",
   "name": "c"
  }
 },
 "nbformat": 4,
 "nbformat_minor": 5
}
