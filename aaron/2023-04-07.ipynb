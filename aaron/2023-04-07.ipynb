{
 "cells": [
  {
   "cell_type": "markdown",
   "id": "d4c0cf7a-6741-41de-924b-477e6ac8b4e3",
   "metadata": {
    "slideshow": {
     "slide_type": "skip"
    },
    "tags": []
   },
   "source": [
    "# Efficiency: caching\n",
    "_COSC 208, Introduction to Computer Systems, 2023-04-07_"
   ]
  },
  {
   "cell_type": "markdown",
   "id": "ed5ad917-28d5-4478-b50b-72e280029552",
   "metadata": {
    "slideshow": {
     "slide_type": "skip"
    },
    "tags": []
   },
   "source": [
    "## Announcements\n",
    "* Project 4 due Thursday, April 13"
   ]
  },
  {
   "cell_type": "markdown",
   "id": "da1fb4b2-e9fe-4d36-a409-388d2f498f71",
   "metadata": {
    "slideshow": {
     "slide_type": "skip"
    },
    "tags": []
   },
   "source": [
    "## Outline\n",
    "* Warm-up\n",
    "* Instances of caching\n",
    "* Cache replacement"
   ]
  },
  {
   "cell_type": "markdown",
   "id": "98d9a0d4-d0f9-405a-8eea-5e10559587d0",
   "metadata": {},
   "source": [
    "## Warm-up"
   ]
  },
  {
   "cell_type": "markdown",
   "id": "044ee85d-73e5-44da-8760-75e2bf8a24f8",
   "metadata": {},
   "source": [
    "Q1: _Cross-out unnecessary loads and stores in the following assembly code._"
   ]
  },
  {
   "cell_type": "markdown",
   "id": "833e8cd9-61fb-4e94-a491-dceb8044fd10",
   "metadata": {
    "slideshow": {
     "slide_type": "skip"
    },
    "tags": [
     "notes-only"
    ]
   },
   "source": [
    "```\n",
    "000000000040056c <volume>:                             \n",
    "    40056c:    d10083ff     sub    sp, sp, #0x20       \n",
    "    400570:    f9000bfe     str    x30, [sp, #16]      \n",
    "    400574:    b9000fe0     str    w0, [sp, #12]       XXX\n",
    "    400578:    b9000be1     str    w1, [sp, #8]        XXX\n",
    "    40057c:    b90007e2     str    w2, [sp, #4]        \n",
    "    400580:    b9400fe0     ldr    w0, [sp, #12]       XXX\n",
    "    400584:    b9400be1     ldr    w1, [sp, #8]        XXX\n",
    "    400588:    97ffffef     bl     400544 <multiply>   \n",
    "    40058c:    b90003e0     str    w0, [sp]            XXX\n",
    "    400590:    b94003e0     ldr    w0, [sp]            XXX\n",
    "    400594:    b94007e1     ldr    w1, [sp, #4]        \n",
    "    400598:    97ffffeb     bl     400544 <multiply>    \n",
    "    40059c:    b90003e0     str    w0, [sp]            XXX\n",
    "    4005a0:    b94003e0     ldr    w0, [sp]            XXX\n",
    "    4005a4:    f9400bfe     ldr    x30, [sp, #16]      \n",
    "    4005a8:    910083ff     add    sp, sp, #0x20       \n",
    "    4005ac:    d65f03c0     ret                        \n",
    "```"
   ]
  },
  {
   "cell_type": "markdown",
   "id": "23cf46d5-a185-4d74-81ac-07b0ad1e4d24",
   "metadata": {
    "tags": [
     "worksheet-only"
    ]
   },
   "source": [
    "```\n",
    "000000000040056c <volume>:                             \n",
    "    40056c:    d10083ff     sub    sp, sp, #0x20       \n",
    "    400570:    f9000bfe     str    x30, [sp, #16]      \n",
    "    400574:    b9000fe0     str    w0, [sp, #12]       \n",
    "    400578:    b9000be1     str    w1, [sp, #8]        \n",
    "    40057c:    b90007e2     str    w2, [sp, #4]        \n",
    "    400580:    b9400fe0     ldr    w0, [sp, #12]       \n",
    "    400584:    b9400be1     ldr    w1, [sp, #8]        \n",
    "    400588:    97ffffef     bl     400544 <multiply>    \n",
    "    40058c:    b90003e0     str    w0, [sp]            \n",
    "    400590:    b94003e0     ldr    w0, [sp]            \n",
    "    400594:    b94007e1     ldr    w1, [sp, #4]        \n",
    "    400598:    97ffffeb     bl     400544 <multiply>    \n",
    "    40059c:    b90003e0     str    w0, [sp]            \n",
    "    4005a0:    b94003e0     ldr    w0, [sp]            \n",
    "    4005a4:    f9400bfe     ldr    x30, [sp, #16]      \n",
    "    4005a8:    910083ff     add    sp, sp, #0x20       \n",
    "    4005ac:    d65f03c0     ret                        \n",
    "```"
   ]
  },
  {
   "cell_type": "markdown",
   "id": "60d963f9-4c7b-4ca6-bf09-4809b2b808e3",
   "metadata": {
    "slideshow": {
     "slide_type": "subslide"
    },
    "tags": []
   },
   "source": [
    "Q2: _Where are caches used in computer systems?_"
   ]
  },
  {
   "cell_type": "markdown",
   "id": "a4aba740-7205-4814-85b5-4f0bdc852d5f",
   "metadata": {
    "slideshow": {
     "slide_type": "skip"
    },
    "tags": [
     "notes-only"
    ]
   },
   "source": [
    "* Operating systems\n",
    "* Web browsers\n",
    "* Web servers\n",
    "* Domain Name System (DNS)\n",
    "* Databases\n",
    "* Central Processing Units (CPUs)\n",
    "* Graphics Processing Units (GPUs)\n",
    "* Hard Disk Drives (HDDs)\n",
    "* Solid State Drives (SSDs)"
   ]
  },
  {
   "cell_type": "markdown",
   "id": "a906bfe9-133e-45e0-8254-1a6b12fe1516",
   "metadata": {
    "slideshow": {
     "slide_type": "skip"
    },
    "tags": [
     "worksheet-only"
    ]
   },
   "source": [
    "<p style=\"height:10em;\"></p>\n",
    "\n",
    "🛑 **STOP here** after completing the above question; if you have extra time please **skip ahead** to the extra practice."
   ]
  },
  {
   "cell_type": "markdown",
   "id": "055ab108-994c-405d-b84a-807e49d6b872",
   "metadata": {
    "slideshow": {
     "slide_type": "skip"
    },
    "tags": [
     "notes-only"
    ]
   },
   "source": [
    "## Instances of caching"
   ]
  },
  {
   "cell_type": "markdown",
   "id": "84a8e039-f872-4d4a-94f0-9c847f3742b9",
   "metadata": {
    "slideshow": {
     "slide_type": "skip"
    },
    "tags": [
     "notes-only"
    ]
   },
   "source": [
    "* CPU caches\n",
    "    * _Why do we have caches on the CPU?_ — accessing main memory is ~100x slower than accessing a register\n",
    "    * Store instructions and data (stack, heap, etc.) from main memory\n",
    "    * Three levels --- L1, L2, and L3\n",
    "    * Range in size from a few KB to a few MB\n",
    "    * Cache line (i.e., cache entry) is typically larger than a word — e.g., 128 bytes\n",
    "        * _Why?_ — spatial locality\n",
    "    * What happens when we write to memory?\n",
    "        * Write through cache — write to the cache and main memory\n",
    "        * Write back cache — initially write to the cache; write to main memory when the entry is evicted from the cache\n",
    "        * What are the advantages of each approach?\n",
    "            * Write through cache ensures consistency between CPU cores\n",
    "            * Write back cache only incurs the overhead of accessing main memory when absolutely necessary\n",
    "* Web browser caches\n",
    "    * _Why do web browsers have caches?_\n",
    "        * Accessing remote network storage is >50x slower than accessing a solid state drive (SSD)\n",
    "        * Spatial locality — many aspects of a web page are also used with other pages on the same site: e.g., images, Cascading Style Sheets (CSS), JavaScript (JS)\n",
    "        * Temporal locality — users often visit the same web page repeatedly: e.g., Google\n",
    "        * Internet Service Provider (ISP) may limit amount of data downloaded/uploaded per month\n",
    "    * Store static content (e.g., images, CSS, JS)\n",
    "    * Web browser caches are read-only\n",
    "* Content distribution networks (CDNs)\n",
    "    * Collection of geographically distributed servers that delivery content (e.g., streaming videos) to users\n",
    "    * User's computers contact a server that is \"nearby\"\n",
    "        * Ideally measured in terms of latency, which is a function of geographic distance, network routes, and network load\n",
    "        * Analogy: time it takes to drive somewhere is a function of geographic distance, the route you take, and the amount of traffic on the road\n",
    "    * CDN servers fetch and cache content from origin servers\n",
    "    * Popular content (e.g., image from the front page of the NY Times) is more likely to already be cached\n",
    "* Other uses of caching in computer systems\n",
    "    * Domain Name System (DNS)–web browser, operating system, and/or DNS server cache mappings from domain names (e.g., `portal.colgate.edu`) to Internet Protocol (IP) addresses (e.g., `149.43.134.29`)"
   ]
  },
  {
   "cell_type": "markdown",
   "id": "afcddff5-ecba-4a2c-8235-14d74e7f55ce",
   "metadata": {
    "slideshow": {
     "slide_type": "slide"
    },
    "tags": []
   },
   "source": [
    "## Cache replacement"
   ]
  },
  {
   "cell_type": "markdown",
   "id": "dc549feb-bf5b-43f5-8fb0-76c93be58c97",
   "metadata": {
    "slideshow": {
     "slide_type": "skip"
    },
    "tags": [
     "notes-only"
    ]
   },
   "source": [
    "* If a cache is full, then a cache entry must be removed so different data can be placed in the cache\n",
    "* Cache replacement policy governs which data is removed\n",
    "* _What should a good cache replacement policy do?_ — maximize the number of cache hits (or minimize the number of cache misses)\n",
    "    * Evaluation metric: Hit ratio = number of hits / total number of memory accesses\n",
    "* _How do we determine which cache entry to replace?_\n",
    "* Optimal replacement policy – replace the entry that will be accessed furthest in the future\n",
    "    * Impractical because we don’t know data access patterns a priori\n",
    "* Least Recently Used (LRU)\n",
    "    * LRU assumes a item that was accessed recently will be accessed again soon – temporal locality\n",
    "    * Downside: lots of overhead to implement — need to store an ordered list of items and move an item up in the list whenever it’s accessed\n",
    "    * Where does this go wrong? — when working-set size (i.e., number of repeatedly accessed entries) is (slightly) greater than size of the cache\n",
    "* First-in First-out (FIFO)\n",
    "    * Simple to implement\n",
    "    * Doesn’t consider the importance of a cache entry\n",
    "* Random\n",
    "    * Even simpler to implement\n",
    "    * Doesn’t consider the importance of a cache entry"
   ]
  },
  {
   "cell_type": "markdown",
   "id": "52247547-844e-4b3d-a8a3-fadb695c2b84",
   "metadata": {},
   "source": [
    "* Assume a cache can hold 3 entries and the following 15 data accesses occur: \n",
    "```\n",
    "3, 4, 4, 5, 3, 2, 3, 4, 1, 4, 4, 2, 5, 2, 4\n",
    "```\n",
    "* Q3: _What is the sequence of hits, insertions, and replacements that occur when an **optimal** cache replacement algorithm is used?_"
   ]
  },
  {
   "cell_type": "markdown",
   "id": "a3e23874-b08b-4077-9766-bb23cd0aa6ee",
   "metadata": {
    "slideshow": {
     "slide_type": "skip"
    },
    "tags": [
     "notes-only"
    ]
   },
   "source": [
    "```\n",
    "+3, +4, H4, +5, H3, -5/+2, H3, H4, -3/+1, H4, H4, H2, -1/+5, H2, H4\n",
    "Hit ratio = 9/15 = 60%\n",
    "```"
   ]
  },
  {
   "cell_type": "markdown",
   "id": "fdb9e8d3-2dc5-4ee1-a315-df301dc0c2d4",
   "metadata": {
    "slideshow": {
     "slide_type": "skip"
    },
    "tags": [
     "worksheet-only"
    ]
   },
   "source": [
    "<p style=\"height:8em;\"></p>"
   ]
  },
  {
   "cell_type": "markdown",
   "id": "526b185a-12d7-48c5-a3ee-3b71a913d3a8",
   "metadata": {
    "slideshow": {
     "slide_type": "fragment"
    },
    "tags": []
   },
   "source": [
    "* Q4: _What is the sequence of hits, insertions, and replacements that occur when a **first in first out (FIFO)** cache replacement algorithm is used?_"
   ]
  },
  {
   "cell_type": "markdown",
   "id": "9910b7f4-6ce1-4906-b39e-fae2657ffa95",
   "metadata": {
    "slideshow": {
     "slide_type": "skip"
    },
    "tags": [
     "notes-only"
    ]
   },
   "source": [
    "```\n",
    "+3, +4, H4, +5, H3, -3/+2, -4/+3, -5/+4, -2/+1, H4, H4, -3/+2, -4/+5, H2, -1/+4\n",
    "Hit ratio = 5/15 = 33%\n",
    "```"
   ]
  },
  {
   "cell_type": "markdown",
   "id": "d3eee7f4-02bb-4bae-a459-0bc73d54ae95",
   "metadata": {
    "slideshow": {
     "slide_type": "skip"
    },
    "tags": [
     "worksheet-only"
    ]
   },
   "source": [
    "<p style=\"height:8em;\"></p>"
   ]
  },
  {
   "cell_type": "markdown",
   "id": "37390556-86f5-4951-940b-9ba34a255390",
   "metadata": {},
   "source": [
    "* Q5: _What is the sequence of hits, insertions, and replacements that occur when a **least recently used (LRU)** cache replacement algorithm is used?_"
   ]
  },
  {
   "cell_type": "markdown",
   "id": "62681ac0-982e-4bd3-9470-b4d1112001fc",
   "metadata": {
    "slideshow": {
     "slide_type": "skip"
    },
    "tags": [
     "notes-only"
    ]
   },
   "source": [
    "```\n",
    "+3, +4, H4, +5, H3, -4/+2, H3, -5/+4, -2/+1, H4, H4, -3/+2, -1/+5, H2, H4\n",
    "Hit ratio = 7/15 = 47%\n",
    "```"
   ]
  },
  {
   "cell_type": "markdown",
   "id": "40f4585b-a482-4e1a-85fc-0afbd9715a65",
   "metadata": {
    "slideshow": {
     "slide_type": "skip"
    },
    "tags": [
     "worksheet-only"
    ]
   },
   "source": [
    "<p style=\"height:8em;\"></p>"
   ]
  },
  {
   "cell_type": "markdown",
   "id": "5f4485d6-763b-4309-a703-58522e2d0a83",
   "metadata": {
    "slideshow": {
     "slide_type": "slide"
    },
    "tags": []
   },
   "source": [
    "## Extra practice"
   ]
  },
  {
   "cell_type": "markdown",
   "id": "0a4db7c7-00cb-4b37-a471-ecd354136714",
   "metadata": {},
   "source": [
    "* Q6: _Cross-out unnecessary loads and stores in the following assembly code._"
   ]
  },
  {
   "cell_type": "markdown",
   "id": "09e6824c-2599-45e7-a4c7-6843129929ef",
   "metadata": {
    "slideshow": {
     "slide_type": "skip"
    },
    "tags": [
     "notes-only"
    ]
   },
   "source": [
    "```\n",
    "0000000000400544 <adjust>:                          \n",
    "    400544:  d10043ff   sub  sp, sp, #0x10          \n",
    "    400548:  b9000fe0   str  w0, [sp, #12]          \n",
    "    40054c:  b9400fe8   ldr  w8, [sp, #12]          \n",
    "    400550:  7100291f   cmp  w8, #0xa               \n",
    "    400554:  540000ca   b.ge 40056c <adjust+0x28>   \n",
    "    400558:  b9400fe8   ldr  w8, [sp, #12]          XXX\n",
    "    40055c:  52800149   mov  w9, #0xa               \n",
    "    400560:  1b097d08   mul  w8, w8, w9             \n",
    "    400564:  b9000fe8   str  w8, [sp, #12]          \n",
    "    400568:  14000005   b    40057c <adjust+0x38>   \n",
    "    40056c:  b9400fe8   ldr  w8, [sp, #12]          XXX\n",
    "    400570:  52800149   mov  w9, #0xa               \n",
    "    400574:  1ac90d08   sdiv w8, w8, w9             \n",
    "    400578:  b9000fe8   str  w8, [sp, #12]          \n",
    "    40057c:  b9400fe0   ldr  w0, [sp, #12]          \n",
    "    400580:  910043ff   add  sp, sp, #0x10          \n",
    "    400584:  d65f03c0   ret                         \n",
    "```"
   ]
  },
  {
   "cell_type": "markdown",
   "id": "b179d5ac-b187-4e7e-aa4b-8a8aabec53b4",
   "metadata": {
    "tags": [
     "worksheet-only"
    ]
   },
   "source": [
    "```\n",
    "0000000000400544 <adjust>:                          \n",
    "    400544:  d10043ff   sub  sp, sp, #0x10          \n",
    "    400548:  b9000fe0   str  w0, [sp, #12]          \n",
    "    40054c:  b9400fe8   ldr  w8, [sp, #12]          \n",
    "    400550:  7100291f   cmp  w8, #0xa               \n",
    "    400554:  540000ca   b.ge 40056c <adjust+0x28>   \n",
    "    400558:  b9400fe8   ldr  w8, [sp, #12]          \n",
    "    40055c:  52800149   mov  w9, #0xa               \n",
    "    400560:  1b097d08   mul  w8, w8, w9             \n",
    "    400564:  b9000fe8   str  w8, [sp, #12]          \n",
    "    400568:  14000005   b    40057c <adjust+0x38>   \n",
    "    40056c:  b9400fe8   ldr  w8, [sp, #12]          \n",
    "    400570:  52800149   mov  w9, #0xa               \n",
    "    400574:  1ac90d08   sdiv w8, w8, w9             \n",
    "    400578:  b9000fe8   str  w8, [sp, #12]          \n",
    "    40057c:  b9400fe0   ldr  w0, [sp, #12]          \n",
    "    400580:  910043ff   add  sp, sp, #0x10          \n",
    "    400584:  d65f03c0   ret                         \n",
    "```"
   ]
  },
  {
   "cell_type": "markdown",
   "id": "d968f4b0-105e-412a-9b0e-5776cf662b4b",
   "metadata": {
    "slideshow": {
     "slide_type": "skip"
    },
    "tags": [
     "notes-only"
    ]
   },
   "source": [
    "```\n",
    "000000000000076c <divide_safe>:\n",
    "    76c:    d10083ff     sub    sp, sp, #0x20\n",
    "    770:    b9000fe0     str    w0, [sp, #12]\n",
    "    774:    b9000be1     str    w1, [sp, #8]\n",
    "    778:    12800000     mov    w0, #0xffffffff\n",
    "    77c:    b9001fe0     str    w0, [sp, #28]\n",
    "    780:    b9400be0     ldr    w0, [sp, #8]\n",
    "    784:    7100001f     cmp    w0, #0x0\n",
    "    788:    540000a0     b.eq   79c <divide_safe+0x30>\n",
    "    78c:    b9400fe1     ldr    w1, [sp, #12]\n",
    "    790:    b9400be0     ldr    w0, [sp, #8]    XXX\n",
    "    794:    1ac00c20     sdiv   w0, w1, w0\n",
    "    798:    b9001fe0     str    w0, [sp, #28]\n",
    "    79c:    b9401fe0     ldr    w0, [sp, #28]\n",
    "    7a0:    910083ff     add    sp, sp, #0x20\n",
    "    7a4:    d65f03c0     ret\n",
    "```"
   ]
  },
  {
   "cell_type": "markdown",
   "id": "f5ee1364-97b1-489e-8439-7e5c171de1b6",
   "metadata": {
    "slideshow": {
     "slide_type": "subslide"
    },
    "tags": [
     "worksheet-only"
    ]
   },
   "source": [
    "```\n",
    "000000000000076c <divide_safe>:\n",
    "    76c:    d10083ff     sub    sp, sp, #0x20\n",
    "    770:    b9000fe0     str    w0, [sp, #12]\n",
    "    774:    b9000be1     str    w1, [sp, #8]\n",
    "    778:    12800000     mov    w0, #0xffffffff\n",
    "    77c:    b9001fe0     str    w0, [sp, #28]\n",
    "    780:    b9400be0     ldr    w0, [sp, #8]\n",
    "    784:    7100001f     cmp    w0, #0x0\n",
    "    788:    540000a0     b.eq   79c <divide_safe+0x30>\n",
    "    78c:    b9400fe1     ldr    w1, [sp, #12]\n",
    "    790:    b9400be0     ldr    w0, [sp, #8]\n",
    "    794:    1ac00c20     sdiv   w0, w1, w0\n",
    "    798:    b9001fe0     str    w0, [sp, #28]\n",
    "    79c:    b9401fe0     ldr    w0, [sp, #28]\n",
    "    7a0:    910083ff     add    sp, sp, #0x20\n",
    "    7a4:    d65f03c0     ret\n",
    "```"
   ]
  }
 ],
 "metadata": {
  "kernelspec": {
   "display_name": "C",
   "language": "c",
   "name": "c"
  },
  "language_info": {
   "file_extension": ".c",
   "mimetype": "c",
   "name": "c"
  }
 },
 "nbformat": 4,
 "nbformat_minor": 5
}
