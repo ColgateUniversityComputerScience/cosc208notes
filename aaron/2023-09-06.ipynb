{
 "cells": [
  {
   "cell_type": "markdown",
   "id": "2d19966c-5c00-4945-bcbb-856b672d5eb4",
   "metadata": {
    "slideshow": {
     "slide_type": "skip"
    },
    "tags": []
   },
   "source": [
    "# Number representation: base conversion (continued); signed integers\n",
    "_COSC 208, Introduction to Computer Systems, 2023-09-06_"
   ]
  },
  {
   "cell_type": "markdown",
   "id": "edffba71-32d5-4e75-a869-a7b69eb10adb",
   "metadata": {
    "slideshow": {
     "slide_type": "skip"
    },
    "tags": []
   },
   "source": [
    "## Announcements\n",
    "* Open TA hours: Sundays and Thursdays 6-8pm in McGregory 319 (student lounge)\n",
    "* Aaron's Thursday office hours will be 9am-10am (instead of 10:30am-11:30am)\n",
    "* CS Department Tea Thursday 11:30am-12:30pm in McGregory 319 (student lounge)"
   ]
  },
  {
   "cell_type": "markdown",
   "id": "40f1ede4-fe5f-4ba6-bc8f-e945df5e4ebe",
   "metadata": {
    "slideshow": {
     "slide_type": "skip"
    },
    "tags": []
   },
   "source": [
    "## Outline\n",
    "* Warm-up\n",
    "* Binary <-> hex conversion\n",
    "* Decimal -> binary conversion\n",
    "* Signed integers"
   ]
  },
  {
   "cell_type": "markdown",
   "id": "9d22d92a-1a6d-491a-afb1-74fb87777d7a",
   "metadata": {
    "slideshow": {
     "slide_type": "slide"
    },
    "tags": []
   },
   "source": [
    "## Warm-up\n",
    "_Convert the following numbers to decimal (i.e., base 10):_\n",
    "* Q1: `0b010100`"
   ]
  },
  {
   "cell_type": "markdown",
   "id": "72318744-df79-4fd0-bbab-78fdc640391c",
   "metadata": {
    "slideshow": {
     "slide_type": "skip"
    },
    "tags": [
     "notes-only"
    ]
   },
   "source": [
    "    2^4 + 2^2 = 16 + 4 = 20"
   ]
  },
  {
   "cell_type": "markdown",
   "id": "1c2b6f22-18b5-45ff-8a51-da6b8c0cdea4",
   "metadata": {
    "slideshow": {
     "slide_type": "skip"
    },
    "tags": [
     "worksheet-only"
    ]
   },
   "source": [
    "<p style=\"height:3em;\"></p>"
   ]
  },
  {
   "cell_type": "markdown",
   "id": "2d62006d-0985-4c32-a7df-3aa081b6f22c",
   "metadata": {
    "jp-MarkdownHeadingCollapsed": true,
    "tags": []
   },
   "source": [
    "* Q2: `0b01000110`"
   ]
  },
  {
   "cell_type": "markdown",
   "id": "b25a3b4c-a57d-4724-abc8-07de2df070f2",
   "metadata": {
    "slideshow": {
     "slide_type": "skip"
    },
    "tags": [
     "notes-only"
    ]
   },
   "source": [
    "    2^6 + 2^2 + 2^1 = 64 + 4 + 2 = 70"
   ]
  },
  {
   "cell_type": "markdown",
   "id": "9e19747b-3f44-4fdb-978f-0387e76765b5",
   "metadata": {
    "slideshow": {
     "slide_type": "skip"
    },
    "tags": [
     "worksheet-only"
    ]
   },
   "source": [
    "<p style=\"height:4em;\"></p>\n",
    "\n",
    "🛑 **STOP here** after completing the above questions; if you have extra time please **skip ahead** to the extra practice."
   ]
  },
  {
   "cell_type": "markdown",
   "id": "902bd3a9-f0b1-4570-b852-9ba150337ca1",
   "metadata": {
    "slideshow": {
     "slide_type": "slide"
    },
    "tags": []
   },
   "source": [
    "## Binary <-> Hex Conversion"
   ]
  },
  {
   "cell_type": "markdown",
   "id": "29f88a04-df06-4482-964b-814d860d4b17",
   "metadata": {
    "slideshow": {
     "slide_type": "skip"
    },
    "tags": [
     "notes-only"
    ]
   },
   "source": [
    "* Binary -> Hex\n",
    "    * Convert each group of four bits to its corresponding hex digit\n",
    "    * If the number of binary digits is not a multiple of four pad the front of the binary number with zeros: e.g., `0b11` => `0b0011`\n",
    "* Hex -> Binary\n",
    "    * Convert each hex digit to its corresponding four bits"
   ]
  },
  {
   "cell_type": "markdown",
   "id": "7aef875e-3cbd-4f45-afdb-3ca14f466e19",
   "metadata": {
    "tags": []
   },
   "source": [
    "_Convert the following binary numbers to hexadecimal:_\n",
    "* Q3: `0b1010`"
   ]
  },
  {
   "cell_type": "markdown",
   "id": "6784b931-a187-498b-ac5a-80c850dbfb00",
   "metadata": {
    "slideshow": {
     "slide_type": "skip"
    },
    "tags": [
     "notes-only"
    ]
   },
   "source": [
    "    0xA"
   ]
  },
  {
   "cell_type": "markdown",
   "id": "24fd14d9-3572-4ab3-ba5d-26c9df59cdec",
   "metadata": {
    "slideshow": {
     "slide_type": "skip"
    },
    "tags": [
     "worksheet-only"
    ]
   },
   "source": [
    "<p style=\"height:4em;\"></p>"
   ]
  },
  {
   "cell_type": "markdown",
   "id": "eefe63ae-4e9a-4c9c-a50f-b79690fd027e",
   "metadata": {
    "tags": []
   },
   "source": [
    "* Q4: `0b11100111`"
   ]
  },
  {
   "cell_type": "markdown",
   "id": "7312189b-df0b-4be2-a1f9-cccec6d99fb1",
   "metadata": {
    "slideshow": {
     "slide_type": "skip"
    },
    "tags": [
     "notes-only"
    ]
   },
   "source": [
    "    0xE7"
   ]
  },
  {
   "cell_type": "markdown",
   "id": "beb1c5e0-d0d3-46b3-be25-07d5408ad96a",
   "metadata": {
    "slideshow": {
     "slide_type": "skip"
    },
    "tags": [
     "worksheet-only"
    ]
   },
   "source": [
    "<p style=\"height:4em;\"></p>"
   ]
  },
  {
   "cell_type": "markdown",
   "id": "3085119e-dda3-4a1b-a646-dbf3a0292f5f",
   "metadata": {
    "tags": []
   },
   "source": [
    "_Convert the following hexadecimal numbers to binary:_\n",
    "* Q5: `0xB`"
   ]
  },
  {
   "cell_type": "markdown",
   "id": "b5241346-0e48-4acf-b63f-398aafc2c904",
   "metadata": {
    "slideshow": {
     "slide_type": "skip"
    },
    "tags": [
     "notes-only"
    ]
   },
   "source": [
    "    0b1011"
   ]
  },
  {
   "cell_type": "markdown",
   "id": "670b1c7d-fe3d-4658-91ce-386d39db9d16",
   "metadata": {
    "slideshow": {
     "slide_type": "skip"
    },
    "tags": [
     "worksheet-only"
    ]
   },
   "source": [
    "<p style=\"height:4em;\"></p>"
   ]
  },
  {
   "cell_type": "markdown",
   "id": "fcacd47a-a9d1-4daa-8171-3367d0f81d5a",
   "metadata": {
    "tags": []
   },
   "source": [
    "* Q6: `0x37`"
   ]
  },
  {
   "cell_type": "markdown",
   "id": "0d2870be-5756-41df-8d01-297c6b8175ba",
   "metadata": {
    "slideshow": {
     "slide_type": "skip"
    },
    "tags": [
     "notes-only"
    ]
   },
   "source": [
    "    0b00110111"
   ]
  },
  {
   "cell_type": "markdown",
   "id": "e955945d-03a9-41fb-89c8-7d7003a50682",
   "metadata": {
    "slideshow": {
     "slide_type": "skip"
    },
    "tags": [
     "worksheet-only"
    ]
   },
   "source": [
    "<p style=\"height:4em;\"></p>\n",
    "\n",
    "🛑 **STOP here** after completing the above questions; if you have extra time please **skip ahead** to the extra practice."
   ]
  },
  {
   "cell_type": "markdown",
   "id": "e3334e23-c3e9-476e-b94c-2535c8de7a72",
   "metadata": {
    "slideshow": {
     "slide_type": "slide"
    },
    "tags": []
   },
   "source": [
    "## Decimal -> Binary Conversion"
   ]
  },
  {
   "cell_type": "markdown",
   "id": "617faf6b-dfaf-41c7-94e8-d5fd4675528a",
   "metadata": {
    "slideshow": {
     "slide_type": "skip"
    },
    "tags": [
     "notes-only"
    ]
   },
   "source": [
    "* Why do we care about converting between binary and decimal?\n",
    "    * We are used to working with decimal numbers, but computers represent numbers in binary \n",
    "    * Computers allocate a fixed number of bits for different types of variables; mathematical operations whose result exceeds the number of available bits will return unexpected results — we'll talk about overflow (and underflow) on Monday\n",
    "* Repeated division method\n",
    "    * Check if number is even or odd: even => 0, odd => 1\n",
    "    * Build binary number from right to left\n",
    "    * Divide by two, dropping the fractional part: e.g., 5/2 = 2, 1/2 = 0\n",
    "    * Repeat, until reach 0\n",
    "* Subtract powers of two method\n",
    "    * Find the largest power of 2 without going over\n",
    "    * Subtract that amount\n",
    "    * Repeat, with the remainder until reach 0"
   ]
  },
  {
   "cell_type": "markdown",
   "id": "967d040d-83c2-4132-b284-9fc1232489ae",
   "metadata": {
    "tags": []
   },
   "source": [
    "_Convert the following decimal numbers to binary:_\n",
    "* Q7: `10`"
   ]
  },
  {
   "cell_type": "markdown",
   "id": "b98169ae-37eb-4c49-bf94-bf24184b1a90",
   "metadata": {
    "slideshow": {
     "slide_type": "skip"
    },
    "tags": [
     "notes-only"
    ]
   },
   "source": [
    "    0b1010"
   ]
  },
  {
   "cell_type": "markdown",
   "id": "baaf9a62-a3e9-48d6-8a96-dbd51db267c1",
   "metadata": {
    "slideshow": {
     "slide_type": "skip"
    },
    "tags": [
     "worksheet-only"
    ]
   },
   "source": [
    "<p style=\"height:5em;\"></p>"
   ]
  },
  {
   "cell_type": "markdown",
   "id": "785468b4-0fab-492f-8528-55adb75742ce",
   "metadata": {
    "tags": []
   },
   "source": [
    "* Q8: `15`"
   ]
  },
  {
   "cell_type": "markdown",
   "id": "1b52f428-ecd3-401e-9139-5b449ccaec53",
   "metadata": {
    "slideshow": {
     "slide_type": "skip"
    },
    "tags": [
     "notes-only"
    ]
   },
   "source": [
    "    0b1111"
   ]
  },
  {
   "cell_type": "markdown",
   "id": "5e142630-b180-4687-9bf0-6ae3d774eb64",
   "metadata": {
    "slideshow": {
     "slide_type": "skip"
    },
    "tags": [
     "worksheet-only"
    ]
   },
   "source": [
    "<p style=\"height:5em;\"></p>"
   ]
  },
  {
   "cell_type": "markdown",
   "id": "46382459-98eb-4b6c-bdf0-c5ead1958673",
   "metadata": {
    "tags": []
   },
   "source": [
    "* Q9: `42`"
   ]
  },
  {
   "cell_type": "markdown",
   "id": "1acf43fe-0a5a-4b25-867b-7d06f457f28f",
   "metadata": {
    "slideshow": {
     "slide_type": "skip"
    },
    "tags": [
     "notes-only"
    ]
   },
   "source": [
    "    0b101010"
   ]
  },
  {
   "cell_type": "markdown",
   "id": "d9dc7003-7869-4137-be0d-45880b886407",
   "metadata": {
    "slideshow": {
     "slide_type": "skip"
    },
    "tags": [
     "worksheet-only"
    ]
   },
   "source": [
    "<p style=\"height:5em;\"></p>"
   ]
  },
  {
   "cell_type": "markdown",
   "id": "5c69188f-9c5f-4157-be77-6b1121fb8a68",
   "metadata": {
    "tags": []
   },
   "source": [
    "* Q10: `192`"
   ]
  },
  {
   "cell_type": "markdown",
   "id": "56d132df-47d0-4a00-96e7-cba7d453b38d",
   "metadata": {
    "slideshow": {
     "slide_type": "skip"
    },
    "tags": [
     "notes-only"
    ]
   },
   "source": [
    "    0b11000000"
   ]
  },
  {
   "cell_type": "markdown",
   "id": "b17ea3fb-8240-4642-b1d4-a33a63f73ffc",
   "metadata": {
    "slideshow": {
     "slide_type": "skip"
    },
    "tags": [
     "worksheet-only"
    ]
   },
   "source": [
    "<p style=\"height:5em;\"></p>\n",
    "\n",
    "🛑 **STOP here** after completing the above questions; if you have extra time please **skip ahead** to the extra practice."
   ]
  },
  {
   "cell_type": "markdown",
   "id": "688c3894-9773-4dcf-94df-2cc8483553be",
   "metadata": {
    "slideshow": {
     "slide_type": "slide"
    },
    "tags": []
   },
   "source": [
    "## Signed integers"
   ]
  },
  {
   "cell_type": "markdown",
   "id": "5112c3aa-c57c-47b1-86a0-0cc757b0a8a5",
   "metadata": {
    "slideshow": {
     "slide_type": "skip"
    },
    "tags": [
     "notes-only"
    ]
   },
   "source": [
    "* _How can we distinguish between positive values, zero, and negative values?_\n",
    "* Use a bit to encode the sign — called signed magnitude\n",
    "    * _What is an advantage of signed magnitude?_\n",
    "        * Easy to convert between negative and positive values\n",
    "    * _What is a disadvantage of signed magnitude?_\n",
    "        * Positive zero and negative zero\n",
    "        * Discontinuity between positive and negative values\n",
    "* Have the highest order bit contribute a negative value to the sum — called two's complement\n",
    "    * Example unsigned conversion: `0b0101`\n",
    "        * 0 * 2^3 + 1 * 2^2 + 0 * 2^1 + 1 * 2^0 = 4 + 1 = 5\n",
    "    * Example signed conversion: `0b0101`\n",
    "        * 0 * -2^3 + 1 * 2^2 + 0 * 2^1 + 1 * 2^0 = 4 + 1 = 5\n",
    "    * Another example signed conversion: `0b1011`\n",
    "        * 1 * -2^3 + 0 * 2^2 + 1 * 2^1 + 1 * 2^0 = -8 + 2 + 3 = -5\n",
    "    * _How many values can be represented using 4 bits?_ — 2^4 = 16\n",
    "        * One of these values is zero (`0b0000`)\n",
    "        * _How many positive values an be represented using 4 bits?_ 2^4 / 2 - 1 = 7\n",
    "        * _How many negative values can be represented using 4 bits?_ 2^4 / 2 = 8"
   ]
  },
  {
   "cell_type": "markdown",
   "id": "3f6eb1b3-bb59-4eff-b0c9-b9bddd47c088",
   "metadata": {
    "tags": []
   },
   "source": [
    "_Express the following decimal numbers using 8-bit two's complement:_\n",
    "* Q11: `13`"
   ]
  },
  {
   "cell_type": "markdown",
   "id": "5ffad999-2402-4bbe-a8aa-b10294572440",
   "metadata": {
    "slideshow": {
     "slide_type": "skip"
    },
    "tags": [
     "notes-only"
    ]
   },
   "source": [
    "    0b00001101"
   ]
  },
  {
   "cell_type": "markdown",
   "id": "26cb07e5-5082-4816-96ba-7a16422b0685",
   "metadata": {
    "slideshow": {
     "slide_type": "skip"
    },
    "tags": [
     "worksheet-only"
    ]
   },
   "source": [
    "<p style=\"height:6em;\"></p>"
   ]
  },
  {
   "cell_type": "markdown",
   "id": "b70078ee-0a3d-420f-8171-6f1246e8f032",
   "metadata": {
    "tags": []
   },
   "source": [
    "* Q12: `-128`"
   ]
  },
  {
   "cell_type": "markdown",
   "id": "25c8142a-f0bc-451d-8db4-cfde47b4fd26",
   "metadata": {
    "slideshow": {
     "slide_type": "skip"
    },
    "tags": [
     "notes-only"
    ]
   },
   "source": [
    "    0b10000000"
   ]
  },
  {
   "cell_type": "markdown",
   "id": "745ce048-6143-470a-817a-f9a510efaf90",
   "metadata": {
    "slideshow": {
     "slide_type": "skip"
    },
    "tags": [
     "worksheet-only"
    ]
   },
   "source": [
    "<p style=\"height:5em;\"></p>"
   ]
  },
  {
   "cell_type": "markdown",
   "id": "1605226a-5f03-4879-914d-d9d53354826c",
   "metadata": {
    "tags": []
   },
   "source": [
    "* Q13: `-64`"
   ]
  },
  {
   "cell_type": "markdown",
   "id": "cf096a06-0c4f-448d-8a4b-eaf54f5ec0e0",
   "metadata": {
    "slideshow": {
     "slide_type": "skip"
    },
    "tags": [
     "notes-only"
    ]
   },
   "source": [
    "    0b11000000"
   ]
  },
  {
   "cell_type": "markdown",
   "id": "26503afb-ff08-4f68-b127-82bb35d2f1bd",
   "metadata": {
    "slideshow": {
     "slide_type": "skip"
    },
    "tags": [
     "worksheet-only"
    ]
   },
   "source": [
    "<p style=\"height:5em;\"></p>"
   ]
  },
  {
   "cell_type": "markdown",
   "id": "8d37e5ee-715e-4857-9950-9af95760790d",
   "metadata": {
    "tags": []
   },
   "source": [
    "* Q14: `-1`"
   ]
  },
  {
   "cell_type": "markdown",
   "id": "1199b890-f24b-4db5-88bd-6bdd74aacd0f",
   "metadata": {
    "slideshow": {
     "slide_type": "skip"
    },
    "tags": [
     "notes-only"
    ]
   },
   "source": [
    "    0b11111111"
   ]
  },
  {
   "cell_type": "markdown",
   "id": "7d28a1ae-ea9f-41e9-9e30-9bff2c9e1e5b",
   "metadata": {
    "slideshow": {
     "slide_type": "skip"
    },
    "tags": [
     "worksheet-only"
    ]
   },
   "source": [
    "<p style=\"height:5em;\"></p>"
   ]
  },
  {
   "cell_type": "markdown",
   "id": "faf1933a-05c1-416b-8a4d-38f4c24c9ba1",
   "metadata": {
    "slideshow": {
     "slide_type": "slide"
    },
    "tags": []
   },
   "source": [
    "## Extra practice"
   ]
  },
  {
   "cell_type": "markdown",
   "id": "e965af1e-d302-4d1f-a206-012cf15d5868",
   "metadata": {
    "tags": []
   },
   "source": [
    "* Q15: _Convert `0b101000` to decimal (i.e., base 10)._"
   ]
  },
  {
   "cell_type": "markdown",
   "id": "c52b26d2-b552-46e8-ba64-8a881a597c21",
   "metadata": {
    "slideshow": {
     "slide_type": "skip"
    },
    "tags": [
     "notes-only"
    ]
   },
   "source": [
    "    2^5 + 2^3 = 32 + 8 = 40"
   ]
  },
  {
   "cell_type": "markdown",
   "id": "a385ff1c-923f-4ae8-8de6-1ff9da3d78be",
   "metadata": {
    "slideshow": {
     "slide_type": "skip"
    },
    "tags": [
     "worksheet-only"
    ]
   },
   "source": [
    "<p style=\"height:4em;\"></p>"
   ]
  },
  {
   "cell_type": "markdown",
   "id": "3f5d6e7c-9cb5-4032-9e0f-6ec6d4e735df",
   "metadata": {
    "jp-MarkdownHeadingCollapsed": true,
    "tags": []
   },
   "source": [
    "* Q16: _Convert `0x2B` to decimal_"
   ]
  },
  {
   "cell_type": "markdown",
   "id": "cac5087d-15c2-466f-a003-05ad948441b0",
   "metadata": {
    "slideshow": {
     "slide_type": "skip"
    },
    "tags": [
     "notes-only"
    ]
   },
   "source": [
    "    43"
   ]
  },
  {
   "cell_type": "markdown",
   "id": "b177af66-c461-4e91-9a27-fa4eac6bc9e4",
   "metadata": {
    "slideshow": {
     "slide_type": "skip"
    },
    "tags": [
     "worksheet-only"
    ]
   },
   "source": [
    "<p style=\"height:4em;\"></p>"
   ]
  },
  {
   "cell_type": "markdown",
   "id": "6192779f-a586-49a8-8a10-24487f2c8975",
   "metadata": {
    "jp-MarkdownHeadingCollapsed": true,
    "tags": []
   },
   "source": [
    "* Q17: _Convert `0x30A` to decimal_"
   ]
  },
  {
   "cell_type": "markdown",
   "id": "72a19790-b768-4523-b77d-4d373f4a07fa",
   "metadata": {
    "slideshow": {
     "slide_type": "skip"
    },
    "tags": [
     "notes-only"
    ]
   },
   "source": [
    "    3 * 16^2 + 10 * 16^0 = 266"
   ]
  },
  {
   "cell_type": "markdown",
   "id": "912e4cac-f0e6-4899-b985-0060c191c24f",
   "metadata": {
    "slideshow": {
     "slide_type": "skip"
    },
    "tags": [
     "worksheet-only"
    ]
   },
   "source": [
    "<p style=\"height:4em;\"></p>"
   ]
  },
  {
   "cell_type": "markdown",
   "id": "b76ddacf-04f7-4003-883d-dfc930d01bcf",
   "metadata": {
    "tags": []
   },
   "source": [
    "* Q18: _Convert `0b101111111111` to hexadecimal._"
   ]
  },
  {
   "cell_type": "markdown",
   "id": "19636298-2395-42b3-9ee2-d71c6dc143f5",
   "metadata": {
    "slideshow": {
     "slide_type": "skip"
    },
    "tags": [
     "notes-only"
    ]
   },
   "source": [
    "    0xBFF"
   ]
  },
  {
   "cell_type": "markdown",
   "id": "44ed080f-62a9-4045-82c2-2f33c9aab547",
   "metadata": {
    "slideshow": {
     "slide_type": "skip"
    },
    "tags": [
     "worksheet-only"
    ]
   },
   "source": [
    "<p style=\"height:4em;\"></p>"
   ]
  },
  {
   "cell_type": "markdown",
   "id": "367ea237-5d68-4a89-b742-a2f2abeeaf66",
   "metadata": {
    "tags": []
   },
   "source": [
    "* Q19: _Convert `0xBEE` to binary._"
   ]
  },
  {
   "cell_type": "markdown",
   "id": "4b7a498e-f9ab-4a32-b060-89c761578944",
   "metadata": {
    "slideshow": {
     "slide_type": "skip"
    },
    "tags": [
     "notes-only"
    ]
   },
   "source": [
    "    0b101111101110"
   ]
  },
  {
   "cell_type": "markdown",
   "id": "901dd32c-ff56-478f-94d6-f76de0bfd421",
   "metadata": {
    "slideshow": {
     "slide_type": "skip"
    },
    "tags": [
     "worksheet-only"
    ]
   },
   "source": [
    "<p style=\"height:4em;\"></p>"
   ]
  },
  {
   "cell_type": "markdown",
   "id": "9a295df7-fa6c-4538-b56b-872c953a7523",
   "metadata": {
    "tags": []
   },
   "source": [
    "* Q20: _Convert `0b11001100` to hexadecimal_ "
   ]
  },
  {
   "cell_type": "markdown",
   "id": "d442326e-79b5-4c91-8b5c-f544fdc14697",
   "metadata": {
    "slideshow": {
     "slide_type": "skip"
    },
    "tags": [
     "notes-only"
    ]
   },
   "source": [
    "    0xCC"
   ]
  },
  {
   "cell_type": "markdown",
   "id": "a6adb8b8-e329-4d82-8263-30318e8beb00",
   "metadata": {
    "slideshow": {
     "slide_type": "skip"
    },
    "tags": [
     "worksheet-only"
    ]
   },
   "source": [
    "<p style=\"height:4em;\"></p>"
   ]
  },
  {
   "cell_type": "markdown",
   "id": "20589137-6a31-4a81-899b-1d0499cb8f88",
   "metadata": {
    "tags": []
   },
   "source": [
    "* Q21: _Convert `0x8C` to binary:_"
   ]
  },
  {
   "cell_type": "markdown",
   "id": "7e40b3f7-8851-457a-aefb-b451b3e3ee5c",
   "metadata": {
    "slideshow": {
     "slide_type": "skip"
    },
    "tags": [
     "notes-only"
    ]
   },
   "source": [
    "    0b10001100"
   ]
  },
  {
   "cell_type": "markdown",
   "id": "c04ef798-42fb-468d-9be7-1f7c8d0feca8",
   "metadata": {
    "slideshow": {
     "slide_type": "skip"
    },
    "tags": [
     "worksheet-only"
    ]
   },
   "source": [
    "<p style=\"height:4em;\"></p>"
   ]
  },
  {
   "cell_type": "markdown",
   "id": "fb31f548-c73e-4307-9986-c94b374e3624",
   "metadata": {},
   "source": [
    "* Q22: _Write a function called `check_password` that takes a string and returns 1 if a password is at least 8 characters long and contains at least one uppercase letter, at least one lowercase letter, and at least one digit. Otherwise, the function returns 0. You may want to use the functions `isupper`, `islower`, and `isdigit`. They take a character as a parameter and return 1 if the character is an uppercase letter, lowercase letter, or digit, respectively; otherwise, they return 0._"
   ]
  },
  {
   "cell_type": "code",
   "execution_count": 4,
   "id": "aa634f78-584d-4024-97c3-201531febbf6",
   "metadata": {
    "slideshow": {
     "slide_type": "skip"
    },
    "tags": [
     "notes-only"
    ]
   },
   "outputs": [],
   "source": [
    "#include <string.h>\n",
    "#include <ctype.h>\n",
    "int check_password(char passwd[]) {\n",
    "    if (strlen(passwd) < 8) {\n",
    "        return 0;\n",
    "    }\n",
    "    int lower = 0;\n",
    "    int upper = 0;\n",
    "    int digit = 0;\n",
    "    for (int i = 0; i < strlen(passwd); i++) {\n",
    "        if (islower(passwd[i])) {\n",
    "            lower++;\n",
    "        }\n",
    "        else if (isupper(passwd[i])) {\n",
    "            upper++;\n",
    "        }\n",
    "        else if (isdigit(passwd[i])) {\n",
    "            digit++;\n",
    "        }\n",
    "    }\n",
    "    if (lower == 0 || upper == 0 || digit == 0) {\n",
    "        return 0;\n",
    "    }\n",
    "    return 1;\n",
    "}\n",
    "// Testing\n",
    "#include <assert.h>\n",
    "int main() {\n",
    "    assert(1 == check_password(\"abc123DEF\"));\n",
    "    assert(0 == check_password(\"abc123def\"));\n",
    "}"
   ]
  },
  {
   "cell_type": "markdown",
   "id": "a22b6b50-36b1-442a-abde-6bbdb71b9bd2",
   "metadata": {
    "slideshow": {
     "slide_type": "skip"
    },
    "tags": [
     "worksheet-only"
    ]
   },
   "source": [
    "<p style=\"height:4em;\"></p>"
   ]
  }
 ],
 "metadata": {
  "kernelspec": {
   "display_name": "C",
   "language": "c",
   "name": "c"
  },
  "language_info": {
   "file_extension": ".c",
   "mimetype": "c",
   "name": "c"
  }
 },
 "nbformat": 4,
 "nbformat_minor": 5
}
