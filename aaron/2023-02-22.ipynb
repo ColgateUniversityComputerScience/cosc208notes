{
 "cells": [
  {
   "cell_type": "markdown",
   "id": "275f3326-b6de-4d7d-b41a-f17ec6a57354",
   "metadata": {
    "slideshow": {
     "slide_type": "skip"
    },
    "tags": []
   },
   "source": [
    "# Program memory: pointer arithmetic; malloc\n",
    "_COSC 208, Introduction to Computer Systems, 2023-02-22_"
   ]
  },
  {
   "cell_type": "markdown",
   "id": "9db293af-f9ec-4262-b568-ef1906a523b4",
   "metadata": {
    "slideshow": {
     "slide_type": "skip"
    },
    "tags": []
   },
   "source": [
    "## Announcements\n",
    "* Modified TA hours tonight: 4:30pm-6:30pm\n",
    "* Programming project 2 due Thursday, March 2 @ 11pm"
   ]
  },
  {
   "cell_type": "markdown",
   "id": "bede1ded-97f6-4a28-9335-116fd9ea868f",
   "metadata": {
    "slideshow": {
     "slide_type": "skip"
    },
    "tags": []
   },
   "source": [
    "## Outline\n",
    "* Warm-up\n",
    "* Pointer arithmetic\n",
    "* Pointers as return values\n",
    "* Program memory\n",
    "* malloc"
   ]
  },
  {
   "cell_type": "markdown",
   "id": "2455eec5-b456-4d20-8fb3-2042d63ad96d",
   "metadata": {},
   "source": [
    "## Warm-up\n",
    "* Q1: _What does the following program output?_"
   ]
  },
  {
   "cell_type": "code",
   "execution_count": 7,
   "id": "e71dc048-27d2-49a7-a222-a101d42302f7",
   "metadata": {
    "tags": [
     "worksheet-code-only"
    ]
   },
   "outputs": [
    {
     "name": "stdout",
     "output_type": "stream",
     "text": [
      "r n\n",
      "nice near\n",
      "sick bear\n"
     ]
    }
   ],
   "source": [
    "#include <stdio.h>\n",
    "void update(char *x, char *y) {\n",
    "    char *z = &x[3];\n",
    "    *x = 's';\n",
    "    *y = 'b';\n",
    "    *z = 'k';\n",
    "}\n",
    "\n",
    "int main() {\n",
    "    char one[] = \"rice\";\n",
    "    char two[] = \"neat\";\n",
    "    printf(\"%c %c\\n\", *one, *two);\n",
    "    char *ptr1 = one;\n",
    "    char *ptr2 = &two[3];\n",
    "    *ptr1 = *two;\n",
    "    *ptr2 = 'r';\n",
    "    printf(\"%s %s\\n\", one, two);\n",
    "    update(one, two);\n",
    "    printf(\"%s %s\\n\", one, two);\n",
    "}"
   ]
  },
  {
   "cell_type": "markdown",
   "id": "236c66e3-bfc7-4923-86d8-4713227982b9",
   "metadata": {
    "slideshow": {
     "slide_type": "skip"
    },
    "tags": [
     "worksheet-only"
    ]
   },
   "source": [
    "<p style=\"height:5em;\"></p>\n",
    "\n",
    "🛑 **STOP here** after completing the above question; if you have extra time please **skip ahead** to the extra practice.\n",
    "\n",
    "<div style=\"page-break-after:always;\"></div>"
   ]
  },
  {
   "cell_type": "markdown",
   "id": "d92249ba-69cd-4793-a0be-da19682475f6",
   "metadata": {
    "slideshow": {
     "slide_type": "slide"
    },
    "tags": []
   },
   "source": [
    "## Pointer arithmetic"
   ]
  },
  {
   "cell_type": "markdown",
   "id": "e071306a-93b7-4d6a-b397-df7ade225b97",
   "metadata": {
    "slideshow": {
     "slide_type": "skip"
    },
    "tags": [
     "notes-only"
    ]
   },
   "source": [
    "* Adding `n` to a pointer without dereferencing determines the address of the element `n` indices away\n",
    "* Pointer does not change, unless the new address is assigned to the pointer"
   ]
  },
  {
   "cell_type": "markdown",
   "id": "73b30688-eb15-4e7b-b555-236e93775eb4",
   "metadata": {},
   "source": [
    "* Example"
   ]
  },
  {
   "cell_type": "code",
   "execution_count": 18,
   "id": "5a7e4bd6-23fa-4529-919b-0feb06eb142d",
   "metadata": {
    "tags": [
     "worksheet-code-only"
    ]
   },
   "outputs": [
    {
     "name": "stdout",
     "output_type": "stream",
     "text": [
      "8 2\n",
      "32 2\n",
      "8 2\n",
      "128 32\n",
      "2 0\n",
      "2 -1\n"
     ]
    }
   ],
   "source": [
    "#include <stdio.h>\n",
    "int main() {\n",
    "    int nums[] = {2,4,8,16,32,64,128};\n",
    "    \n",
    "    int *ptr = nums + 2;\n",
    "    printf(\"%d %d\\n\", *ptr, *nums);\n",
    "    ptr = ptr + 2;\n",
    "    printf(\"%d %d\\n\", *ptr, *nums);\n",
    "    // nums = nums + 2; // Not allowed; array variable must point to 0th element\n",
    "    \n",
    "    int val = *(nums + 2);\n",
    "    printf(\"%d %d\\n\", val, *nums);\n",
    "    val = *(ptr + 2);\n",
    "    printf(\"%d %d\\n\", val, *ptr);\n",
    "    \n",
    "    nums[2] = 0;\n",
    "    printf(\"%d %d\\n\", *nums, nums[2]);\n",
    "    *(nums + 2) = -1;\n",
    "    printf(\"%d %d\\n\", *nums, nums[2]);\n",
    "}"
   ]
  },
  {
   "cell_type": "markdown",
   "id": "9f19fdae-d23b-4625-aa4b-0fea412699e5",
   "metadata": {
    "slideshow": {
     "slide_type": "subslide"
    },
    "tags": []
   },
   "source": [
    "* Q2: _What does the following program output?_"
   ]
  },
  {
   "cell_type": "code",
   "execution_count": 4,
   "id": "dc67f386-70a7-4694-bff0-87d3ddc005f6",
   "metadata": {
    "tags": [
     "worksheet-code-only"
    ]
   },
   "outputs": [
    {
     "name": "stdout",
     "output_type": "stream",
     "text": [
      "cs\n",
      "the cap fits\n",
      "red cap fins\n"
     ]
    }
   ],
   "source": [
    "#include <stdio.h>\n",
    "int main() {\n",
    "    char phrase[] = \"the cat sits\";\n",
    "    char *mysteryA = phrase + 4;\n",
    "    char *mysteryB = mysteryA + 4;\n",
    "    printf(\"%c%c\\n\", *mysteryA, *mysteryB);\n",
    "    *(mysteryA + 2) = 'p';\n",
    "    *mysteryB = 'f';\n",
    "    printf(\"%s\\n\", phrase);\n",
    "    mysteryA--;\n",
    "    mysteryB += 2;\n",
    "    *mysteryB = 'n';\n",
    "    printf(\"red%s\\n\", mysteryA);\n",
    "}"
   ]
  },
  {
   "cell_type": "markdown",
   "id": "76bb660e-8952-4e65-b7ab-4f1f828494bf",
   "metadata": {
    "slideshow": {
     "slide_type": "skip"
    },
    "tags": [
     "worksheet-only"
    ]
   },
   "source": [
    "<p style=\"height:6em;\"></p>"
   ]
  },
  {
   "cell_type": "markdown",
   "id": "37a7f65c-1e11-4130-963e-ffc9bb99f938",
   "metadata": {
    "slideshow": {
     "slide_type": "subslide"
    },
    "tags": []
   },
   "source": [
    "* Q3: _Write a function called `sum` which takes an array of integers and a length and returns the sum of the numbers. The function **must** use a pointer to iterate over the array._"
   ]
  },
  {
   "cell_type": "code",
   "execution_count": 2,
   "id": "dbcab9e8-51f4-4aac-b81e-8513d3fb223e",
   "metadata": {
    "slideshow": {
     "slide_type": "skip"
    },
    "tags": [
     "notes-only"
    ]
   },
   "outputs": [
    {
     "name": "stdout",
     "output_type": "stream",
     "text": [
      "15\n"
     ]
    }
   ],
   "source": [
    "#include <stdio.h>\n",
    "int sum(int *nums, int len) {\n",
    "    int *curr = nums;\n",
    "    int total = 0;\n",
    "    for (int i = 0; i < len; i++) {\n",
    "        total += *curr;\n",
    "        curr++;\n",
    "    }\n",
    "    return total;\n",
    "}\n",
    "int main() {\n",
    "    int nums[] = {1, 2, 4, 8};\n",
    "    printf(\"%d\\n\", sum(nums, 4));\n",
    "}"
   ]
  },
  {
   "cell_type": "markdown",
   "id": "f5d8c279-5b7a-4a99-b2eb-0ac01f7c7b56",
   "metadata": {
    "slideshow": {
     "slide_type": "skip"
    },
    "tags": [
     "worksheet-only"
    ]
   },
   "source": [
    "<div style=\"page-break-after:always;\"></div>"
   ]
  },
  {
   "cell_type": "markdown",
   "id": "29c3eca9-a004-4389-96a4-9b3b652833b6",
   "metadata": {
    "slideshow": {
     "slide_type": "slide"
    },
    "tags": []
   },
   "source": [
    "## Pointers as return values\n",
    "* _What happens?_"
   ]
  },
  {
   "cell_type": "code",
   "execution_count": 3,
   "id": "fc643783-8c1d-4ad3-8e89-d738143694d8",
   "metadata": {
    "tags": [
     "worksheet-code-only"
    ]
   },
   "outputs": [
    {
     "name": "stdout",
     "output_type": "stream",
     "text": [
      "1\n"
     ]
    }
   ],
   "source": [
    "#include <stdio.h>\n",
    "int *one() {\n",
    "    int x = 1;\n",
    "    int *p = &x;\n",
    "    return p;\n",
    "}\n",
    "int main() {\n",
    "    int *q = one();\n",
    "    printf(\"%d\\n\", *q);\n",
    "}"
   ]
  },
  {
   "cell_type": "markdown",
   "id": "b0bddd62-bc88-41e2-bb65-de42c2998f05",
   "metadata": {
    "slideshow": {
     "slide_type": "skip"
    },
    "tags": [
     "notes-only"
    ]
   },
   "source": [
    "* `q` points to a variable that no longer exists!\n",
    "* _So, how can I return a pointer from a function?_ — dynamically allocate memory on the heap!"
   ]
  },
  {
   "cell_type": "markdown",
   "id": "d84f54b8-30c8-488c-94ab-ff0cf074f869",
   "metadata": {
    "slideshow": {
     "slide_type": "skip"
    },
    "tags": [
     "notes-only"
    ]
   },
   "source": [
    "## Program memory\n",
    "* Memory layout\n",
    "    ```\n",
    "    ┏━━━━━━━━━━━━━━━━━━┓ 0\n",
    "    ┃ Operating system ┃\n",
    "    ┣━━━━━━━━━━━━━━━━━━┫\n",
    "    ┃       Code       ┃ <- Function instructions\n",
    "    ┣━━━━━━━━━━━━━━━━━━┫\n",
    "    ┃       Data       ┃ <- Global variables\n",
    "    ┣━━━━━━━━━━━━━━━━━━┫\n",
    "    ┃       Heap       ┃ <- Dyanmically allocated memory\n",
    "    ┃         ▼        ┃    Grows toward higher memory addresses\n",
    "    ┣━━━━━━━━━━━━━━━━━━┫    \n",
    "    ┃                  ┃\n",
    "    ┣━━━━━━━━━━━━━━━━━━┫ \n",
    "    ┃         ▲        ┃    Grows toward lower memory addresses\n",
    "    ┃       Stack      ┃ <- Local variables and parameters\n",
    "    ┗━━━━━━━━━━━━━━━━━━┛ Max address\n",
    "    ```\n",
    "    * Stack consists of stack frames --- add a frame when a function is called, remove a frame when a function returns\n",
    "* Variable storage\n",
    "    * Local variables and parameters and stored on the stack --- in the frame for the function in which they are declared\n",
    "    * Global variables are stored in the data section\n",
    "* Memory allocation\n",
    "    * Code and data — automatically allocated with a program starts\n",
    "    * Stack — automatically allocated when a function is called; automatically deallocated when a function returns\n",
    "    * Heap memory — explicitly allocated and freed by a program"
   ]
  },
  {
   "cell_type": "markdown",
   "id": "2afba5cc-273c-4ded-ae65-296c9c722d2e",
   "metadata": {
    "slideshow": {
     "slide_type": "slide"
    },
    "tags": []
   },
   "source": [
    "## malloc"
   ]
  },
  {
   "cell_type": "markdown",
   "id": "845c51f0-b177-496c-b151-fd90ac71fb02",
   "metadata": {
    "slideshow": {
     "slide_type": "skip"
    },
    "tags": [
     "notes-only"
    ]
   },
   "source": [
    "* `void* malloc(unsigned int size)`\n",
    "* Memory allocated on the heap persists until explicitly freed\n",
    "* When to malloc?\n",
    "    * When the amount of space required is not known until runtime\n",
    "    * When a value must remain in memory even after returning from a function\n",
    "* How much to malloc?\n",
    "    * Use `sizeof` and a type: e.g., `sizeof(int)`\n",
    "    * How much to malloc for an array? — multiply sizeof(type) by number of elements in array"
   ]
  },
  {
   "cell_type": "markdown",
   "id": "95e83aa3-4e8e-487d-9d3b-5c511a1e9bf9",
   "metadata": {},
   "source": [
    "* Q4: _Write a function called `duplicate` that takes a string (i.e., an array of `char`) as a parameter and returns a copy of that string stored on the heap._"
   ]
  },
  {
   "cell_type": "code",
   "execution_count": null,
   "id": "24d28c7b-1321-434c-bd9e-d650f3f5c043",
   "metadata": {
    "slideshow": {
     "slide_type": "skip"
    },
    "tags": [
     "notes-only"
    ]
   },
   "outputs": [],
   "source": [
    "#include <stdlib.h>\n",
    "#include <string.h>\n",
    "char *duplicate(char orig[]) {\n",
    "    char *copy = malloc(sizeof(char) * (strlen(orig) + 1));\n",
    "    for (int i = 0; i <= strlen(orig); i++) {\n",
    "        copy[i] = orig[i];\n",
    "    }\n",
    "    // Could replace for loop with: strcpy(copy, orig);\n",
    "    return copy;\n",
    "}\n",
    "// Testing\n",
    "#include <assert.h>\n",
    "int main() {\n",
    "    char *copy = duplicate(\"abc 123\");\n",
    "    assert(strcmp(copy, \"abc 123\") == 0);\n",
    "}"
   ]
  },
  {
   "cell_type": "markdown",
   "id": "5e1bfec4-9bf8-4bc7-ba67-6879eb60ae7e",
   "metadata": {
    "slideshow": {
     "slide_type": "skip"
    },
    "tags": [
     "worksheet-only"
    ]
   },
   "source": [
    "<p style=\"height:20em;\"></p>"
   ]
  },
  {
   "cell_type": "markdown",
   "id": "9a75287b-8e65-4da6-9dd4-f1a164bb1b74",
   "metadata": {},
   "source": [
    "* Q5: _Write a function called `range` that behaves similar to the `range` function in Python. Your function should take an unsigned integer (`length`) as a parameter, and return a dynamically allocated array with `length` unsigned integers. The array should be populated with the values 0 through `length-1`._"
   ]
  },
  {
   "cell_type": "code",
   "execution_count": 10,
   "id": "eb0b2377-fe80-4584-9297-2bf6f912c842",
   "metadata": {
    "slideshow": {
     "slide_type": "skip"
    },
    "tags": [
     "notes-only"
    ]
   },
   "outputs": [],
   "source": [
    "#include <stdlib.h>\n",
    "unsigned int *range(unsigned int length) {\n",
    "    unsigned int *nums = malloc(sizeof(unsigned int) * length);\n",
    "    for (int i = 0; i < length; i++) {\n",
    "        nums[i] = i;\n",
    "    }\n",
    "    return nums;\n",
    "}\n",
    "// Testing\n",
    "#include <assert.h>\n",
    "int main() {\n",
    "    unsigned int *result = range(3);\n",
    "    assert(result[0] == 0 && result[1] == 1 && result[2] == 2);\n",
    "}"
   ]
  },
  {
   "cell_type": "markdown",
   "id": "40ded2fa-99d3-4fcb-943e-e59c94f1bc9b",
   "metadata": {
    "slideshow": {
     "slide_type": "skip"
    },
    "tags": [
     "worksheet-only"
    ]
   },
   "source": [
    "<div style=\"page-break-after:always;\"></div>"
   ]
  },
  {
   "cell_type": "markdown",
   "id": "3a548645-1301-47a3-9a0f-5c0dc015623d",
   "metadata": {
    "slideshow": {
     "slide_type": "slide"
    },
    "tags": []
   },
   "source": [
    "## Extra practice"
   ]
  },
  {
   "cell_type": "markdown",
   "id": "8f7ec17b-4106-4c49-afa7-74399f79490a",
   "metadata": {},
   "source": [
    "* Q6: _Write a function called `generate_password` that takes an unsigned integer (`length`) as a parameter, and returns a dynamically allocated array of with `length` randomly selected characters (e.g., uppercase letters, lowercase letters, digits, symbols). Your function should use the `rand()` function from the C standard library, which returns a pseudo-random integer in the range 0 to `RAND_MAX`._"
   ]
  },
  {
   "cell_type": "code",
   "execution_count": 13,
   "id": "87029c29-3078-45e1-94a6-de0bebce4c7d",
   "metadata": {
    "slideshow": {
     "slide_type": "skip"
    },
    "tags": [
     "notes-only"
    ]
   },
   "outputs": [
    {
     "name": "stdout",
     "output_type": "stream",
     "text": [
      "d:8#U2`t\n"
     ]
    }
   ],
   "source": [
    "#include <stdlib.h>\n",
    "char *generate_password(unsigned int length) {\n",
    "    char *password = malloc(sizeof(char) * (length + 1));\n",
    "    for (int i = 0; i < length; i++) {\n",
    "        password[i] = (rand() % ('~' - '!')) + '!';\n",
    "    }\n",
    "    password[length] = '\\0';\n",
    "    return password;\n",
    "}\n",
    "// Testing\n",
    "#include <stdio.h>\n",
    "int main() {\n",
    "    printf(\"%s\\n\", generate_password(8));\n",
    "}"
   ]
  },
  {
   "cell_type": "markdown",
   "id": "36ef6120-c2ee-409c-a96a-3e80fe84f0ff",
   "metadata": {
    "slideshow": {
     "slide_type": "skip"
    },
    "tags": [
     "worksheet-only"
    ]
   },
   "source": [
    "<p style=\"height:20em;\"></p>"
   ]
  },
  {
   "cell_type": "markdown",
   "id": "4f790887-eff2-4ee1-b987-4769bca57a43",
   "metadata": {},
   "source": [
    "* Q7: _Write a function called `lengths` that takes an array of strings and the number of elements in the array and returns an array of integers containing the length of each string._"
   ]
  },
  {
   "cell_type": "code",
   "execution_count": 17,
   "id": "feb6d447-ebfb-4349-abc2-1020028fee7c",
   "metadata": {
    "slideshow": {
     "slide_type": "skip"
    },
    "tags": [
     "notes-only"
    ]
   },
   "outputs": [],
   "source": [
    "#include <stdlib.h>\n",
    "#include <string.h>\n",
    "int *lengths(char *strs[], int count) {\n",
    "    int *lens = malloc(sizeof(int) * count);\n",
    "    for (int i = 0; i < count; i++) {\n",
    "        lens[i] = strlen(strs[i]);\n",
    "    }\n",
    "    return lens;\n",
    "}\n",
    "// Testing\n",
    "#include <assert.h>\n",
    "int main() {\n",
    "    char *strs[] = {\"abc\", \"12345\", \"do re mi\"};\n",
    "    int *lens = lengths(strs, 3);\n",
    "    assert(lens[0] == 3 && lens[1] == 5 && lens[2] == 8);\n",
    "}"
   ]
  }
 ],
 "metadata": {
  "kernelspec": {
   "display_name": "C",
   "language": "c",
   "name": "c"
  },
  "language_info": {
   "file_extension": ".c",
   "mimetype": "c",
   "name": "c"
  }
 },
 "nbformat": 4,
 "nbformat_minor": 5
}
