{
 "cells": [
  {
   "cell_type": "markdown",
   "id": "275f3326-b6de-4d7d-b41a-f17ec6a57354",
   "metadata": {
    "slideshow": {
     "slide_type": "skip"
    },
    "tags": []
   },
   "source": [
    "# Program memory: pointer arithmetic; malloc\n",
    "_COSC 208, Introduction to Computer Systems, 2023-02-22_"
   ]
  },
  {
   "cell_type": "markdown",
   "id": "9db293af-f9ec-4262-b568-ef1906a523b4",
   "metadata": {
    "slideshow": {
     "slide_type": "skip"
    },
    "tags": []
   },
   "source": [
    "## Announcements\n",
    "* Programming project 2 due Thursday, March 2 @ 11pm"
   ]
  },
  {
   "cell_type": "markdown",
   "id": "bede1ded-97f6-4a28-9335-116fd9ea868f",
   "metadata": {
    "slideshow": {
     "slide_type": "skip"
    },
    "tags": []
   },
   "source": [
    "## Outline\n",
    "* Warm-up\n",
    "* Pointer arithmetic"
   ]
  },
  {
   "cell_type": "markdown",
   "id": "2455eec5-b456-4d20-8fb3-2042d63ad96d",
   "metadata": {},
   "source": [
    "## Warm-up"
   ]
  },
  {
   "cell_type": "markdown",
   "id": "d92249ba-69cd-4793-a0be-da19682475f6",
   "metadata": {
    "slideshow": {
     "slide_type": "slide"
    },
    "tags": []
   },
   "source": [
    "## Pointer arithmetic"
   ]
  },
  {
   "cell_type": "markdown",
   "id": "e071306a-93b7-4d6a-b397-df7ade225b97",
   "metadata": {
    "slideshow": {
     "slide_type": "skip"
    },
    "tags": [
     "notes-only"
    ]
   },
   "source": [
    "* Adding `n` to a pointer without dereferencing determines the address of the element `n` indices away\n",
    "* Pointer does not change, unless the new address is assigned to the pointer"
   ]
  },
  {
   "cell_type": "markdown",
   "id": "73b30688-eb15-4e7b-b555-236e93775eb4",
   "metadata": {},
   "source": [
    "* Example"
   ]
  },
  {
   "cell_type": "code",
   "execution_count": 39,
   "id": "5a7e4bd6-23fa-4529-919b-0feb06eb142d",
   "metadata": {
    "tags": [
     "worksheet-code-only"
    ]
   },
   "outputs": [
    {
     "name": "stdout",
     "output_type": "stream",
     "text": [
      "8 2\n",
      "32 2\n",
      "8 2\n",
      "128 32\n",
      "2 0\n",
      "2 -1\n"
     ]
    }
   ],
   "source": [
    "#include <stdio.h>\n",
    "int main() {\n",
    "    int nums[] = {2,4,8,16,32,64,128};\n",
    "    \n",
    "    int *ptr = nums + 2;\n",
    "    printf(\"%d %d\\n\", *ptr, *nums);\n",
    "    ptr = ptr + 2;\n",
    "    printf(\"%d %d\\n\", *ptr, *nums);\n",
    "    // nums = nums + 2; // Not allowed; array variable must always point to 0th element\n",
    "    \n",
    "    int val = *(nums + 2);\n",
    "    printf(\"%d %d\\n\", val, *nums);\n",
    "    val = *(ptr + 2);\n",
    "    printf(\"%d %d\\n\", val, *ptr);\n",
    "    \n",
    "    nums[2] = 0;\n",
    "    printf(\"%d %d\\n\", *nums, nums[2]);\n",
    "    *(nums + 2) = -1;\n",
    "    printf(\"%d %d\\n\", *nums, nums[2]);\n",
    "}"
   ]
  },
  {
   "cell_type": "markdown",
   "id": "a3e7ee1b-22ee-422a-b146-84f84e0c12ef",
   "metadata": {
    "slideshow": {
     "slide_type": "skip"
    },
    "tags": [
     "worksheet-only"
    ]
   },
   "source": [
    "<div style=\"page-break-after:always;\"></div>"
   ]
  },
  {
   "cell_type": "markdown",
   "id": "9f19fdae-d23b-4625-aa4b-0fea412699e5",
   "metadata": {
    "slideshow": {
     "slide_type": "subslide"
    },
    "tags": []
   },
   "source": [
    "* Q7: _What does the following program output?_"
   ]
  },
  {
   "cell_type": "code",
   "execution_count": 4,
   "id": "dc67f386-70a7-4694-bff0-87d3ddc005f6",
   "metadata": {
    "tags": [
     "worksheet-code-only"
    ]
   },
   "outputs": [
    {
     "name": "stdout",
     "output_type": "stream",
     "text": [
      "cs\n",
      "the cap fits\n",
      "red cap fins\n"
     ]
    }
   ],
   "source": [
    "#include <stdio.h>\n",
    "int main() {\n",
    "    char phrase[] = \"the cat sits\";\n",
    "    char *mysteryA = phrase + 4;\n",
    "    char *mysteryB = mysteryA + 4;\n",
    "    printf(\"%c%c\\n\", *mysteryA, *mysteryB);\n",
    "    *(mysteryA + 2) = 'p';\n",
    "    *mysteryB = 'f';\n",
    "    printf(\"%s\\n\", phrase);\n",
    "    mysteryA--;\n",
    "    mysteryB += 2;\n",
    "    *mysteryB = 'n';\n",
    "    printf(\"red%s\\n\", mysteryA);\n",
    "}"
   ]
  },
  {
   "cell_type": "markdown",
   "id": "76bb660e-8952-4e65-b7ab-4f1f828494bf",
   "metadata": {
    "slideshow": {
     "slide_type": "skip"
    },
    "tags": [
     "worksheet-only"
    ]
   },
   "source": [
    "<p style=\"height:6em;\"></p>"
   ]
  },
  {
   "cell_type": "markdown",
   "id": "37a7f65c-1e11-4130-963e-ffc9bb99f938",
   "metadata": {
    "slideshow": {
     "slide_type": "subslide"
    },
    "tags": []
   },
   "source": [
    "* Q8: _Write a function called `sum` which takes an array of integers and a length and returns the sum of the numbers. The function **must** use a pointer to iterate over the array._"
   ]
  },
  {
   "cell_type": "code",
   "execution_count": 2,
   "id": "dbcab9e8-51f4-4aac-b81e-8513d3fb223e",
   "metadata": {
    "slideshow": {
     "slide_type": "skip"
    },
    "tags": [
     "notes-only"
    ]
   },
   "outputs": [
    {
     "name": "stdout",
     "output_type": "stream",
     "text": [
      "15\n"
     ]
    }
   ],
   "source": [
    "#include <stdio.h>\n",
    "int sum(int *nums, int len) {\n",
    "    int *curr = nums;\n",
    "    int total = 0;\n",
    "    for (int i = 0; i < len; i++) {\n",
    "        total += *curr;\n",
    "        curr++;\n",
    "    }\n",
    "    return total;\n",
    "}\n",
    "int main() {\n",
    "    int nums[] = {1, 2, 4, 8};\n",
    "    printf(\"%d\\n\", sum(nums, 4));\n",
    "}"
   ]
  },
  {
   "cell_type": "markdown",
   "id": "f5d8c279-5b7a-4a99-b2eb-0ac01f7c7b56",
   "metadata": {
    "slideshow": {
     "slide_type": "skip"
    },
    "tags": [
     "worksheet-only"
    ]
   },
   "source": [
    "<p style=\"height:15em;\"></p>"
   ]
  }
 ],
 "metadata": {
  "kernelspec": {
   "display_name": "C",
   "language": "c",
   "name": "c"
  },
  "language_info": {
   "file_extension": ".c",
   "mimetype": "c",
   "name": "c"
  }
 },
 "nbformat": 4,
 "nbformat_minor": 5
}
