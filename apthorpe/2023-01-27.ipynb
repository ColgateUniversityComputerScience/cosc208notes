{
 "cells": [
  {
   "cell_type": "markdown",
   "id": "0a3be228-fc90-4c61-b8a8-69460fe5b90e",
   "metadata": {
    "slideshow": {
     "slide_type": "skip"
    },
    "tags": []
   },
   "source": [
    "# C: control structures; functions\n",
    "_COSC 208, Introduction to Computer Systems, 2023-01-27_"
   ]
  },
  {
   "cell_type": "markdown",
   "id": "58dcb5fb-2a0c-4678-af82-494d9f1e1ce7",
   "metadata": {
    "slideshow": {
     "slide_type": "skip"
    },
    "tags": []
   },
   "source": [
    "## Announcements\n",
    "* Before next class: read _Dive Into Systems_ 1.4.1, 2.9.5 and answer pre-class questions\n",
    "* DEI assignment 1 due Thurs, Feb 9 @ 11pm"
   ]
  },
  {
   "cell_type": "markdown",
   "id": "9360eb76-14ce-4342-a6c7-c7b96aa1e3a6",
   "metadata": {
    "slideshow": {
     "slide_type": "skip"
    },
    "tags": []
   },
   "source": [
    "## Outline\n",
    "* Warm-up\n",
    "* Control structures\n",
    "* Defining functions"
   ]
  },
  {
   "cell_type": "markdown",
   "id": "61223ee2-671f-4088-ad17-d2250b5c3efd",
   "metadata": {},
   "source": [
    "## Warm-up\n",
    "* Q1: _Write a program that prints the number of days, hours, and minutes in a week._"
   ]
  },
  {
   "cell_type": "code",
   "execution_count": 2,
   "id": "76e86dce-2812-488d-9d43-682840ebdde8",
   "metadata": {
    "slideshow": {
     "slide_type": "skip"
    },
    "tags": [
     "notes-only"
    ]
   },
   "outputs": [
    {
     "name": "stdout",
     "output_type": "stream",
     "text": [
      "1 week = 7 days = 168 hours = 10080 minutes\n"
     ]
    }
   ],
   "source": [
    "#include <stdio.h>\n",
    "int main() {\n",
    "    int days = 7;\n",
    "    int hours = days * 24;\n",
    "    int minutes = hours * 60;\n",
    "\tprintf(\"1 week = %d days = %d hours = %d minutes\\n\", days, hours, minutes);\n",
    "}"
   ]
  },
  {
   "cell_type": "markdown",
   "id": "98b1be96-2113-4f7c-934e-04838b94dbd0",
   "metadata": {
    "slideshow": {
     "slide_type": "skip"
    },
    "tags": [
     "worksheet-only"
    ]
   },
   "source": [
    "<div style=\"height:10em;\"></div>\n",
    "\n",
    "🛑 **STOP here** after completing the warm-up; if you have extra time please **skip ahead** to the extra practice."
   ]
  },
  {
   "cell_type": "markdown",
   "id": "6f96baaa-9dfa-4259-a59c-b50a2942762b",
   "metadata": {
    "slideshow": {
     "slide_type": "slide"
    },
    "tags": []
   },
   "source": [
    "## Control structures\n"
   ]
  },
  {
   "cell_type": "markdown",
   "id": "52e6001c-8f42-4bd8-8a9e-b439ea95452c",
   "metadata": {
    "slideshow": {
     "slide_type": "skip"
    },
    "tags": [
     "notes-only"
    ]
   },
   "source": [
    "* Control structures in C have the same syntax as control structures in Java.\n",
    "* Conditionals"
   ]
  },
  {
   "cell_type": "code",
   "execution_count": null,
   "id": "29174adb-f82b-456f-be2f-3638a00dddde",
   "metadata": {
    "slideshow": {
     "slide_type": "skip"
    },
    "tags": [
     "notes-only"
    ]
   },
   "outputs": [],
   "source": [
    "if (/* BOOLEAN EXPRESSION */) { // Exactly one\n",
    "    /* STATEMENTS */\n",
    "}\n",
    "else if (/* BOOLEAN EXPRESSION */) { // Zero or more\n",
    "    /* STATEMENTS */   \n",
    "}\n",
    "else { // Zero or one\n",
    "    /* STATEMENTS */   \n",
    "}"
   ]
  },
  {
   "cell_type": "markdown",
   "id": "27f6f1ed-151e-4f53-83bc-be028fb98c15",
   "metadata": {
    "slideshow": {
     "slide_type": "skip"
    },
    "tags": [
     "notes-only"
    ]
   },
   "source": [
    "* For loops"
   ]
  },
  {
   "cell_type": "code",
   "execution_count": null,
   "id": "d6e87a2a-f5c4-42bc-8986-7b0f9faef20d",
   "metadata": {
    "slideshow": {
     "slide_type": "skip"
    },
    "tags": [
     "notes-only"
    ]
   },
   "outputs": [],
   "source": [
    "for (/* INTITIALIZER */; /* CONTINUATION CONDITION */; /* INCREMENT */) {\n",
    "    /* STATEMENTS */\n",
    "}"
   ]
  },
  {
   "cell_type": "markdown",
   "id": "0c0592d2-fdfb-448c-9672-d6939abcf374",
   "metadata": {
    "slideshow": {
     "slide_type": "skip"
    },
    "tags": [
     "notes-only"
    ]
   },
   "source": [
    "* While loops"
   ]
  },
  {
   "cell_type": "code",
   "execution_count": null,
   "id": "bc76a2b7-0809-48a2-85c0-d80c75866cd1",
   "metadata": {
    "slideshow": {
     "slide_type": "skip"
    },
    "tags": [
     "notes-only"
    ]
   },
   "outputs": [],
   "source": [
    "while (/* CONTINUATION CONDITION */) {\n",
    "    /* STATEMENTS */\n",
    "}"
   ]
  },
  {
   "cell_type": "markdown",
   "id": "b0669ff9-d04c-442a-93e6-56cd8bef3aaf",
   "metadata": {
    "slideshow": {
     "slide_type": "skip"
    },
    "tags": [
     "notes-only"
    ]
   },
   "source": [
    "* Curly braces are optional if the body of a conditional, for loop, or while loop is only one line\n",
    "    * But, you should **always** include them to make the code easier to read and reduce the likelihood of future errors"
   ]
  },
  {
   "cell_type": "markdown",
   "id": "5ae6740d-9dcd-478a-b407-e0406d2ad0eb",
   "metadata": {},
   "source": [
    "* Q2: _Write a program that flips a coin: call `random()` to generate a random number, and print `heads` if the number is even and `tails` if the number is odd._"
   ]
  },
  {
   "cell_type": "code",
   "execution_count": 6,
   "id": "7a6897c1-b24e-4cea-bf52-11197f071b94",
   "metadata": {
    "slideshow": {
     "slide_type": "skip"
    },
    "tags": [
     "notes-only"
    ]
   },
   "outputs": [
    {
     "name": "stdout",
     "output_type": "stream",
     "text": [
      "tails\n"
     ]
    }
   ],
   "source": [
    "#include <stdio.h>\n",
    "#include <stdlib.h>\n",
    "int main() {\n",
    "    int num = random();\n",
    "    if (num % 2 == 0) {\n",
    "        printf(\"heads\\n\");\n",
    "    } else {\n",
    "        printf(\"tails\\n\");\n",
    "    }\n",
    "}"
   ]
  },
  {
   "cell_type": "markdown",
   "id": "122ea357-9383-4810-b6fa-f721c2c8c2ff",
   "metadata": {
    "slideshow": {
     "slide_type": "skip"
    },
    "tags": [
     "worksheet-only"
    ]
   },
   "source": [
    "<div style=\"height:15em;\"></div>"
   ]
  },
  {
   "cell_type": "markdown",
   "id": "7cd4c87f-bd56-4265-aa61-a050c3237d9e",
   "metadata": {},
   "source": [
    "* Q3: _Write a program that prints all even numbers from 1 to 10 using a for loop._"
   ]
  },
  {
   "cell_type": "code",
   "execution_count": 9,
   "id": "924c4aeb-8888-41c0-87ab-dc1df51574f1",
   "metadata": {
    "slideshow": {
     "slide_type": "skip"
    },
    "tags": [
     "notes-only"
    ]
   },
   "outputs": [
    {
     "name": "stdout",
     "output_type": "stream",
     "text": [
      "2\n",
      "4\n",
      "6\n",
      "8\n",
      "10\n"
     ]
    }
   ],
   "source": [
    "#include <stdio.h>\n",
    "int main() {\n",
    "    for (int i = 2; i <= 10; i+=2) {\n",
    "        printf(\"%d\\n\", i);\n",
    "    }\n",
    "}"
   ]
  },
  {
   "cell_type": "code",
   "execution_count": 33,
   "id": "7d895e85-237b-4127-b039-2c7abc7933b6",
   "metadata": {
    "slideshow": {
     "slide_type": "skip"
    },
    "tags": [
     "notes-only"
    ]
   },
   "outputs": [
    {
     "name": "stdout",
     "output_type": "stream",
     "text": [
      "0\n",
      "2\n",
      "4\n",
      "6\n",
      "8\n",
      "10\n"
     ]
    }
   ],
   "source": [
    "// Alternate version\n",
    "#include <stdio.h>\n",
    "int main() {\n",
    "    for (int i = 0; i <= 10; i++) {\n",
    "        if (0 == i % 2) {\n",
    "            printf(\"%d\\n\", i);\n",
    "        }\n",
    "    }\n",
    "}"
   ]
  },
  {
   "cell_type": "markdown",
   "id": "c114bf6d-1c58-40d9-8655-6bb53f5192f1",
   "metadata": {
    "slideshow": {
     "slide_type": "skip"
    },
    "tags": [
     "worksheet-only"
    ]
   },
   "source": [
    "<div style=\"height:15em;\"></div>"
   ]
  },
  {
   "cell_type": "markdown",
   "id": "e4f92de2-d62a-453e-9969-fa03e4b32bf4",
   "metadata": {},
   "source": [
    "* Q4: _Write the same program using a while loop._"
   ]
  },
  {
   "cell_type": "code",
   "execution_count": 12,
   "id": "897733e2-57e1-4677-8eb9-2caea17ff729",
   "metadata": {
    "slideshow": {
     "slide_type": "skip"
    },
    "tags": [
     "notes-only"
    ]
   },
   "outputs": [
    {
     "name": "stdout",
     "output_type": "stream",
     "text": [
      "2\n",
      "4\n",
      "6\n",
      "8\n",
      "10\n"
     ]
    }
   ],
   "source": [
    "#include <stdio.h>\n",
    "int main() {\n",
    "    int i = 2;\n",
    "    while (i <= 10) {\n",
    "        printf(\"%d\\n\", i);\n",
    "        i+=2;\n",
    "    }\n",
    "}"
   ]
  },
  {
   "cell_type": "markdown",
   "id": "2aa96c0a-e80a-4023-8371-0a7670b999a4",
   "metadata": {
    "slideshow": {
     "slide_type": "skip"
    },
    "tags": [
     "worksheet-only"
    ]
   },
   "source": [
    "<div style=\"height:15em;\"></div>\n",
    "\n",
    "🛑 **STOP here** after completing the above questions; if you have extra time please **skip ahead** to the extra practice."
   ]
  },
  {
   "cell_type": "markdown",
   "id": "ca622dfc-4e56-4ddd-994c-13bbc5f27c78",
   "metadata": {
    "slideshow": {
     "slide_type": "slide"
    },
    "tags": []
   },
   "source": [
    "## Defining functions"
   ]
  },
  {
   "cell_type": "markdown",
   "id": "51305676-7776-4c0a-918c-6e82aadb0930",
   "metadata": {
    "slideshow": {
     "slide_type": "skip"
    },
    "tags": [
     "notes-only"
    ]
   },
   "source": [
    "* _What is the syntax for defining a function?_"
   ]
  },
  {
   "cell_type": "code",
   "execution_count": null,
   "id": "25fe7f3b-f548-4c81-872a-066bd6543d98",
   "metadata": {
    "slideshow": {
     "slide_type": "skip"
    },
    "tags": [
     "notes-only"
    ]
   },
   "outputs": [],
   "source": [
    "return-type function-name(parameter-type parameter-name, ...) {\n",
    "    /* STATEMENTS */\n",
    "    return value;\n",
    "}"
   ]
  },
  {
   "cell_type": "markdown",
   "id": "7c936d40-7838-463b-8a5a-46a4eef293df",
   "metadata": {
    "tags": []
   },
   "source": [
    "* C compiler must know a function’s return type and the number and type of its parameters before it encounters any calls to that function"
   ]
  },
  {
   "cell_type": "code",
   "execution_count": 16,
   "id": "a452e22c-a730-4e74-a71f-f4b23682dac6",
   "metadata": {
    "tags": []
   },
   "outputs": [
    {
     "name": "stderr",
     "output_type": "stream",
     "text": [
      "/var/folders/bd/35sz70xs5837wszrx11bw1yc0000gn/T/tmpi2tm2ej0.c:3:18: error: implicit declaration of function 'add' is invalid in C99 [-Werror,-Wimplicit-function-declaration]\n",
      "    int result = add(1,2); // Compiler doesn't know if this call is valid \n",
      "                 ^\n",
      "1 error generated.\n",
      "[C kernel] GCC exited with code 1, the executable will not be executed"
     ]
    }
   ],
   "source": [
    "#include <stdio.h>\n",
    "int main() {\n",
    "    int result = add(1,2);\n",
    "    printf(\"%d\\n\", result);\n",
    "}\n",
    "int add(int x, int y) {\n",
    "    return x+y;\n",
    "}"
   ]
  },
  {
   "cell_type": "markdown",
   "id": "f4df6492-1bfd-43fa-9b0c-4ec2c77a0d6f",
   "metadata": {
    "slideshow": {
     "slide_type": "skip"
    },
    "tags": [
     "notes-only"
    ]
   },
   "source": [
    "* Function prototype provides a function’s return type, name, and number and type of its parameters, but not its body"
   ]
  },
  {
   "cell_type": "code",
   "execution_count": null,
   "id": "87f54b0b-d118-4622-a2cc-db6991371e13",
   "metadata": {
    "slideshow": {
     "slide_type": "skip"
    },
    "tags": [
     "notes-only"
    ]
   },
   "outputs": [],
   "source": [
    "return-type function-name(parameter-types);"
   ]
  },
  {
   "cell_type": "code",
   "execution_count": null,
   "id": "6032b7f2-5a6f-4d0a-8d1e-944ee4a9e452",
   "metadata": {
    "slideshow": {
     "slide_type": "skip"
    },
    "tags": [
     "notes-only"
    ]
   },
   "outputs": [],
   "source": [
    "int add(int, int);"
   ]
  },
  {
   "cell_type": "markdown",
   "id": "6dd4bf1d-8b1a-485f-a71e-1fd57586a855",
   "metadata": {
    "slideshow": {
     "slide_type": "subslide"
    },
    "tags": []
   },
   "source": [
    "* Q5: _Write a function called `isletter` that takes a character and returns `1` if the character is a letter, or `0` otherwise._"
   ]
  },
  {
   "cell_type": "code",
   "execution_count": 32,
   "id": "a01a8922-5c2f-4594-b208-1c72c08bbd13",
   "metadata": {
    "slideshow": {
     "slide_type": "skip"
    },
    "tags": [
     "notes-only"
    ]
   },
   "outputs": [
    {
     "name": "stdout",
     "output_type": "stream",
     "text": [
      "Is m a letter? 1\n",
      "Is ! a letter? 0\n"
     ]
    }
   ],
   "source": [
    "#include <stdio.h>\n",
    "int isletter(char ch) {\n",
    "    if (ch >= 'A' && ch <= 'Z') { // Uppercase letter\n",
    "        return 1;\n",
    "    } else if (ch >= 'a' && ch <= 'z') { // Lowercase letter\n",
    "        return 1;\n",
    "    } else { // Not a letter\n",
    "        return 0;\n",
    "    }\n",
    "}\n",
    "// Testing\n",
    "int main() {\n",
    "    printf(\"Is %c a letter? %d\\n\", 'm', isletter('m'));\n",
    "    printf(\"Is %c a letter? %d\\n\", '!', isletter('!'));\n",
    "}"
   ]
  },
  {
   "cell_type": "markdown",
   "id": "4bf9e278-ec40-42c5-9753-2e79a3f3b0f8",
   "metadata": {
    "slideshow": {
     "slide_type": "skip"
    },
    "tags": [
     "worksheet-only"
    ]
   },
   "source": [
    "<div style=\"height:15em;\"></div>"
   ]
  },
  {
   "cell_type": "markdown",
   "id": "fbf6349a-e659-4c45-ab00-21fc26fcc2fe",
   "metadata": {
    "tags": []
   },
   "source": [
    "* Q6: _Write a function called `flipcase` that takes a letter and returns the letter in the opposite case. If the character is not a letter, then return the character unchanged._"
   ]
  },
  {
   "cell_type": "code",
   "execution_count": 31,
   "id": "80e87308-c04a-4da8-8b83-52372713b50a",
   "metadata": {
    "slideshow": {
     "slide_type": "skip"
    },
    "tags": [
     "notes-only"
    ]
   },
   "outputs": [
    {
     "name": "stdout",
     "output_type": "stream",
     "text": [
      "d flipped to D\n",
      "F flipped to f\n"
     ]
    }
   ],
   "source": [
    "#include <stdio.h>\n",
    "char flipcase(char ch) {\n",
    "    if (ch >= 'A' && ch <= 'Z') { // Uppercase to lowercase\n",
    "        return ch - 'A' + 'a';\n",
    "    } else if (ch >= 'a' && ch <= 'z') { // Lowercase to uppercase\n",
    "        return ch - 'a' + 'A';\n",
    "    } else { // Not a letter\n",
    "        return ch;\n",
    "    }\n",
    "}\n",
    "// Testing\n",
    "int main() {\n",
    "    printf(\"%c flipped to %c\\n\", 'd', 'D');\n",
    "    printf(\"%c flipped to %c\\n\", 'F', 'f');\n",
    "}"
   ]
  },
  {
   "cell_type": "markdown",
   "id": "51f44f7c-5ec7-4a8a-b129-afefd7a91b05",
   "metadata": {
    "slideshow": {
     "slide_type": "skip"
    },
    "tags": [
     "worksheet-only"
    ]
   },
   "source": [
    "<div style=\"height:15em;\"></div>"
   ]
  },
  {
   "cell_type": "markdown",
   "id": "ae1788cc-b921-4c12-8470-cdd08e4ff846",
   "metadata": {
    "slideshow": {
     "slide_type": "slide"
    },
    "tags": []
   },
   "source": [
    "## Extra practice\n",
    "* Q7: _Write a program that prints out the powers of 2 from 2 through 2048._"
   ]
  },
  {
   "cell_type": "code",
   "execution_count": 20,
   "id": "d3caf12a-b6e1-429a-8707-d15d95949181",
   "metadata": {
    "slideshow": {
     "slide_type": "skip"
    },
    "tags": [
     "notes-only"
    ]
   },
   "outputs": [
    {
     "name": "stdout",
     "output_type": "stream",
     "text": [
      "2 4 8 16 32 64 128 256 512 1024 2048 \n"
     ]
    }
   ],
   "source": [
    "#include <stdio.h>\n",
    "#define MAX 2048\n",
    "int main() {\n",
    "    int i = 2;\n",
    "    while (i <= MAX) {\n",
    "        printf(\"%d \", i);\n",
    "        i *= 2;\n",
    "    }\n",
    "    printf(\"\\n\");\n",
    "}"
   ]
  },
  {
   "cell_type": "markdown",
   "id": "20f8c113-8e4a-48a3-a9e3-c79cf4ec1766",
   "metadata": {},
   "source": [
    "* Q8: _Write a program that prints all numbers from 1 to 20, except:_\n",
    "    * _If the number is divisible by 3 then print `Three`_\n",
    "    * _If the number is divisible by 5 then print `Five`_\n",
    "    * _If the number is divisible by 3 and 5, print `Both`_"
   ]
  },
  {
   "cell_type": "code",
   "execution_count": 22,
   "id": "eaf28df5-3ca3-4bcb-914c-6516b38796a3",
   "metadata": {
    "slideshow": {
     "slide_type": "skip"
    },
    "tags": [
     "notes-only"
    ]
   },
   "outputs": [
    {
     "name": "stdout",
     "output_type": "stream",
     "text": [
      "1\n",
      "2\n",
      "Three\n",
      "4\n",
      "Five\n",
      "Three\n",
      "7\n",
      "8\n",
      "Three\n",
      "Five\n",
      "11\n",
      "Three\n",
      "13\n",
      "14\n",
      "Both\n",
      "16\n",
      "17\n",
      "Three\n",
      "19\n",
      "Five\n"
     ]
    }
   ],
   "source": [
    "#include <stdio.h>\n",
    "int main() {\n",
    "    for (int i = 1; i <= 20; i++) {\n",
    "        if (i % 3 == 0 && i % 5 == 0) {\n",
    "            printf(\"Both\\n\");\n",
    "        }\n",
    "        else if (i % 5 == 0) {\n",
    "            printf(\"Five\\n\");\n",
    "        }\n",
    "        else if (i % 3 == 0) {\n",
    "            printf(\"Three\\n\");\n",
    "        }\n",
    "        else {\n",
    "            printf(\"%d\\n\", i);\n",
    "        }\n",
    "    }\n",
    "}"
   ]
  },
  {
   "cell_type": "markdown",
   "id": "471c815a-02a0-48fb-adce-730c34fd035f",
   "metadata": {},
   "source": [
    "* Q9: _Write a program that prints every letter of the alphabet in upper and lower case: `AaBbCcDd...YyZz`_"
   ]
  },
  {
   "cell_type": "code",
   "execution_count": 23,
   "id": "8849b184-7d04-4cec-baac-accf98d1eaff",
   "metadata": {
    "slideshow": {
     "slide_type": "skip"
    },
    "tags": [
     "notes-only"
    ]
   },
   "outputs": [
    {
     "name": "stdout",
     "output_type": "stream",
     "text": [
      "AaBbCcDdEeFfGgHhIiJjKkLlMmNnOoPpQqRrSsTtUuVvWwXxYyZz\n"
     ]
    }
   ],
   "source": [
    "#include <stdio.h>\n",
    "int main() {\n",
    "    for (char upper='A'; upper <= 'Z'; upper++) {\n",
    "        char lower = upper - 'A' + 'a';\n",
    "        printf(\"%c%c\", upper, lower);\n",
    "    }\n",
    "    printf(\"\\n\");\n",
    "}"
   ]
  },
  {
   "cell_type": "markdown",
   "id": "cc23dea3-a9a8-4646-9c7d-42a0fb8e97b5",
   "metadata": {},
   "source": [
    "* Q10: _Write a function called `floorm` that takes two integers and rounds down the first integer to the closest multiple of the second integer._"
   ]
  },
  {
   "cell_type": "code",
   "execution_count": 35,
   "id": "ec3e24a1-4030-4909-98cc-efd4f809e1eb",
   "metadata": {
    "slideshow": {
     "slide_type": "skip"
    },
    "tags": [
     "notes-only"
    ]
   },
   "outputs": [
    {
     "name": "stdout",
     "output_type": "stream",
     "text": [
      "The closest 5-multiple of 13 is 10\n",
      "The closest 3-multiple of 9 is 9\n"
     ]
    }
   ],
   "source": [
    "#include <stdio.h>\n",
    "int floorm(int num, int multiple) {\n",
    "    return num - (num % multiple);\n",
    "}\n",
    "// Testing\n",
    "int main() {\n",
    "    printf(\"The closest %d-multiple of %d is %d\\n\", 5, 13, floorm(13, 5));\n",
    "    printf(\"The closest %d-multiple of %d is %d\\n\", 3, 9, floorm(9, 3));\n",
    "}"
   ]
  }
 ],
 "metadata": {
  "kernelspec": {
   "display_name": "C",
   "language": "c",
   "name": "c"
  },
  "language_info": {
   "file_extension": ".c",
   "mimetype": "c",
   "name": "c"
  }
 },
 "nbformat": 4,
 "nbformat_minor": 5
}
