{
 "cells": [
  {
   "cell_type": "markdown",
   "id": "9b787d24-b0a3-4cd7-8d2c-09e9c528bc86",
   "metadata": {
    "slideshow": {
     "slide_type": "skip"
    },
    "tags": []
   },
   "source": [
    "# C: Functions, libraries, stack frames\n",
    "_COSC 208, Introduction to Computer Systems, 2023-08-30_"
   ]
  },
  {
   "cell_type": "markdown",
   "id": "fdb10925-6ecd-4582-8ea9-6cb786174d09",
   "metadata": {
    "slideshow": {
     "slide_type": "slide"
    },
    "tags": [
     "notes-only"
    ]
   },
   "source": [
    "## Announcements\n",
    "* Before next class: read _Dive Into Systems_ 1.5 and answer pre-class questions"
   ]
  },
  {
   "cell_type": "markdown",
   "id": "3770316d-e35c-486c-802a-a19d5b4981f2",
   "metadata": {
    "tags": [
     "notes-only"
    ]
   },
   "source": [
    "## Outline\n",
    "* Warm-up\n",
    "* Functions\n",
    "* Libraries\n",
    "* Stack frames"
   ]
  },
  {
   "cell_type": "markdown",
   "id": "ea619d9c-6bbb-4372-b4cd-2f7e80c405a7",
   "metadata": {
    "slideshow": {
     "slide_type": "slide"
    },
    "tags": []
   },
   "source": [
    "## Warm-up"
   ]
  },
  {
   "cell_type": "markdown",
   "id": "65a6e72a-aa61-4b2b-817f-7274f25ee109",
   "metadata": {
    "tags": []
   },
   "source": [
    "* Q1: _Write a function called `isletter` that takes a character and returns `1` if the character is a letter, or `0` otherwise._"
   ]
  },
  {
   "cell_type": "code",
   "execution_count": 32,
   "id": "75d5b912-c56c-4912-b47d-8d9815b753e7",
   "metadata": {
    "slideshow": {
     "slide_type": "skip"
    },
    "tags": [
     "notes-only"
    ]
   },
   "outputs": [
    {
     "name": "stdout",
     "output_type": "stream",
     "text": [
      "Is m a letter? 1\n",
      "Is ! a letter? 0\n"
     ]
    }
   ],
   "source": [
    "#include <stdio.h>\n",
    "\n",
    "int isletter(char ch) {\n",
    "    if (ch >= 'A' && ch <= 'Z') { // Uppercase letter\n",
    "        return 1;\n",
    "    } else if (ch >= 'a' && ch <= 'z') { // Lowercase letter\n",
    "        return 1;\n",
    "    } else { // Not a letter\n",
    "        return 0;\n",
    "    }\n",
    "}\n",
    "\n",
    "// Testing\n",
    "int main() {\n",
    "    printf(\"Is %c a letter? %d\\n\", 'm', isletter('m'));\n",
    "    printf(\"Is %c a letter? %d\\n\", '!', isletter('!'));\n",
    "}"
   ]
  },
  {
   "cell_type": "markdown",
   "id": "e353de13-cbd2-4a70-81e8-afbcdadc79a9",
   "metadata": {
    "slideshow": {
     "slide_type": "skip"
    },
    "tags": [
     "worksheet-only"
    ]
   },
   "source": [
    "<div style=\"height:20em;\"></div>\n",
    "\n",
    "🛑 **STOP here** after completing the warm-up; if you have extra time please **skip ahead** to the extra practice.\n",
    "\n",
    "<div style=\"page-break-after:always;\"></div>"
   ]
  },
  {
   "cell_type": "markdown",
   "id": "552d770c-acd5-4096-a46f-6a6704a76802",
   "metadata": {
    "slideshow": {
     "slide_type": "slide"
    },
    "tags": []
   },
   "source": [
    "## Defining functions"
   ]
  },
  {
   "cell_type": "markdown",
   "id": "6c397e9f-cdec-4e11-a72d-fac77b4e51eb",
   "metadata": {
    "tags": [
     "notes-only"
    ]
   },
   "source": [
    "* _What is the syntax for defining a function?_"
   ]
  },
  {
   "cell_type": "code",
   "execution_count": null,
   "id": "786fe6bb-a8e1-40e8-a5a6-432623ded888",
   "metadata": {
    "slideshow": {
     "slide_type": "fragment"
    },
    "tags": [
     "notes-only"
    ]
   },
   "outputs": [],
   "source": [
    "return_type function_name(parameter_type parameter_name, ...) {\n",
    "    /* STATEMENTS */\n",
    "    return value;\n",
    "}"
   ]
  },
  {
   "cell_type": "markdown",
   "id": "fcb5e245-c606-4d3d-91bc-855012da232a",
   "metadata": {
    "slideshow": {
     "slide_type": "subslide"
    },
    "tags": [
     "notes-only"
    ]
   },
   "source": [
    "* C compiler must know a function’s return type and the number and type of its parameters before it encounters any calls to that function"
   ]
  },
  {
   "cell_type": "code",
   "execution_count": 16,
   "id": "4ed38abd-9424-4a6b-8490-17ae0aecf9c9",
   "metadata": {
    "tags": [
     "notes-only"
    ]
   },
   "outputs": [
    {
     "name": "stderr",
     "output_type": "stream",
     "text": [
      "/var/folders/bd/35sz70xs5837wszrx11bw1yc0000gn/T/tmpi2tm2ej0.c:3:18: error: implicit declaration of function 'add' is invalid in C99 [-Werror,-Wimplicit-function-declaration]\n",
      "    int result = add(1,2); // Compiler doesn't know if this call is valid \n",
      "                 ^\n",
      "1 error generated.\n",
      "[C kernel] GCC exited with code 1, the executable will not be executed"
     ]
    }
   ],
   "source": [
    "#include <stdio.h>\n",
    "\n",
    "int main() {\n",
    "    int result = add(1,2);\n",
    "    printf(\"%d\\n\", result);\n",
    "}\n",
    "\n",
    "int add(int x, int y) {\n",
    "    return x+y;\n",
    "}"
   ]
  },
  {
   "cell_type": "markdown",
   "id": "6a2fb3ac-157c-4c18-a772-70c8a02f1a4a",
   "metadata": {
    "slideshow": {
     "slide_type": "subslide"
    },
    "tags": [
     "notes-only"
    ]
   },
   "source": [
    "* Function **prototype** provides a function’s return type, name, and number and type of its parameters, but not its body"
   ]
  },
  {
   "cell_type": "code",
   "execution_count": null,
   "id": "5d73eb1a-2f50-4304-9122-f4aa774106a5",
   "metadata": {
    "tags": [
     "notes-only"
    ]
   },
   "outputs": [],
   "source": [
    "return_type function_name(parameter_types);\n"
   ]
  },
  {
   "cell_type": "code",
   "execution_count": null,
   "id": "91c9d74e-ac97-4a1d-95ca-f9946dc3d6d4",
   "metadata": {
    "tags": [
     "notes-only"
    ]
   },
   "outputs": [],
   "source": [
    "int add(int, int);"
   ]
  },
  {
   "cell_type": "markdown",
   "id": "569ac876-0f79-4ddb-9302-30254c5d1c0a",
   "metadata": {
    "tags": [
     "notes-only"
    ]
   },
   "source": [
    "* Prototypes are usually placed at top of the .c file or separate .h (header) file"
   ]
  },
  {
   "cell_type": "markdown",
   "id": "a637d68a-ef42-442f-b533-7bc9720c0daa",
   "metadata": {
    "slideshow": {
     "slide_type": "subslide"
    },
    "tags": []
   },
   "source": [
    "* Q2: In the biological process of cell division, each cell divides into two cells and the process repeats. _Write a function called `cells` that takes the number of rounds of cell division that occur and computes the total number of cells that will exist after the specified number of rounds (assuming you started with a single cell)._"
   ]
  },
  {
   "cell_type": "code",
   "execution_count": 7,
   "id": "b3eb574a-d3f8-4b28-ad7c-0d150ff63855",
   "metadata": {
    "slideshow": {
     "slide_type": "skip"
    },
    "tags": [
     "notes-only"
    ]
   },
   "outputs": [],
   "source": [
    "int cells(int rounds) {\n",
    "    int total = 1;\n",
    "    for (int i = 0; i < rounds; i++) {\n",
    "        total = total * 2;\n",
    "    }\n",
    "    return total;\n",
    "}\n",
    "\n",
    "// Testing code\n",
    "#include <assert.h>\n",
    "int main() {\n",
    "    assert(cells(0) == 1);\n",
    "    assert(cells(1) == 2);\n",
    "    assert(cells(8) == 256);\n",
    "}"
   ]
  },
  {
   "cell_type": "markdown",
   "id": "cedfa048-a66e-4710-9bc2-32bff5c515c7",
   "metadata": {
    "slideshow": {
     "slide_type": "skip"
    },
    "tags": [
     "worksheet-only"
    ]
   },
   "source": [
    "<div style=\"height:20em;\"></div>"
   ]
  },
  {
   "cell_type": "markdown",
   "id": "27b5f2f4-6070-496d-a679-9399fa2322eb",
   "metadata": {},
   "source": [
    "* Q3: _Write a function called `rounds` that takes the number of cells that should exist and computes the number of rounds of cell division that must occur to have at least that many cells (assuming you started with a single cell)._"
   ]
  },
  {
   "cell_type": "code",
   "execution_count": 9,
   "id": "59530c5d-d297-4a92-ad30-8471bf104f1b",
   "metadata": {
    "slideshow": {
     "slide_type": "skip"
    },
    "tags": [
     "notes-only"
    ]
   },
   "outputs": [],
   "source": [
    "int rounds(int cells) {\n",
    "    int total = 1;\n",
    "    int rounds = 0;\n",
    "    while (total < cells) {\n",
    "        total *= 2;\n",
    "        rounds++;\n",
    "    }\n",
    "    return rounds;\n",
    "}\n",
    "\n",
    "// Testing code\n",
    "#include <assert.h>\n",
    "int main() {\n",
    "    assert(rounds(1) == 0);\n",
    "    assert(rounds(2) == 1);\n",
    "    assert(rounds(250) == 8);\n",
    "    assert(rounds(256) == 8);\n",
    "}"
   ]
  },
  {
   "cell_type": "markdown",
   "id": "8c7fe875-8658-48d3-9a34-044ccaaa7f94",
   "metadata": {
    "slideshow": {
     "slide_type": "skip"
    },
    "tags": [
     "worksheet-only"
    ]
   },
   "source": [
    "<div style=\"height:15em;\"></div>"
   ]
  },
  {
   "cell_type": "markdown",
   "id": "50b8ef3f-5672-419e-b9cb-42a17c145b09",
   "metadata": {
    "slideshow": {
     "slide_type": "slide"
    },
    "tags": [
     "notes-only"
    ]
   },
   "source": [
    "## Libraries\n",
    "* You could use an exponent to compute number of cells and logarithm to compute number of rounds"
   ]
  },
  {
   "cell_type": "markdown",
   "id": "b54ce9cb-6436-484e-b7c1-138305337c3e",
   "metadata": {
    "slideshow": {
     "slide_type": "fragment"
    },
    "tags": [
     "notes-only"
    ]
   },
   "source": [
    "* Provided by math library — `#include <math.h>`\n",
    "    * `double pow(double x, double y);`\n",
    "    * `double log2(double x);`"
   ]
  },
  {
   "cell_type": "markdown",
   "id": "e3312927-4b6e-4b7e-adbd-af37e318dd89",
   "metadata": {
    "slideshow": {
     "slide_type": "fragment"
    },
    "tags": [
     "notes-only"
    ]
   },
   "source": [
    "* Aside: calculations involving decimal points suffer from small rounding errors, but this problem uses the integer ceiling of the result, so the rounding errors aren't a problem\n",
    "    * `double round(double x);`\n",
    "    * `double ceil(double x);`"
   ]
  },
  {
   "cell_type": "code",
   "execution_count": 14,
   "id": "65d004dc-5d08-4438-855d-1688cf2a43cb",
   "metadata": {
    "slideshow": {
     "slide_type": "subslide"
    },
    "tags": [
     "notes-only"
    ]
   },
   "outputs": [],
   "source": [
    "#include <math.h>\n",
    "\n",
    "int cells(int rounds) {\n",
    "    double total = pow(2, rounds);\n",
    "    total = round(total);\n",
    "    return (int)total;\n",
    "} \n",
    "\n",
    "int rounds(int cells) {\n",
    "    double rounds = log2(cells);\n",
    "    rounds = ceil(rounds);\n",
    "    return (int)rounds; // Type cast to integer\n",
    "}\n",
    "\n",
    "// Testing code\n",
    "#include <assert.h>\n",
    "int main() {\n",
    "    assert(cells(4) == 16);\n",
    "    assert(rounds(16) == 4);\n",
    "}"
   ]
  },
  {
   "cell_type": "markdown",
   "id": "dc065200-13af-4362-81dc-901f511273a0",
   "metadata": {
    "slideshow": {
     "slide_type": "subslide"
    },
    "tags": [
     "notes-only"
    ]
   },
   "source": [
    "* Compilation error — Why?\n",
    "\n",
    "```bash\n",
    "$ gcc -Wall -o cell_division cell_division.c\n",
    "/usr/bin/ld: /tmp/cell_division-810d67.o: in function `cells':\n",
    "cell_division.c:(.text+0x1c): undefined reference to `pow'\n",
    "/usr/bin/ld: /tmp/cell_division-810d67.o: in function `rounds':\n",
    "cell_division.c:(.text+0x5c): undefined reference to `log2'\n",
    "clang: error: linker command failed with exit code 1 (use -v to see invocation)\n",
    "```\n"
   ]
  },
  {
   "cell_type": "markdown",
   "id": "97dce877-ffe7-43ef-a434-f5d2937086a8",
   "metadata": {
    "slideshow": {
     "slide_type": "fragment"
    },
    "tags": [
     "notes-only"
    ]
   },
   "source": [
    "* Need to tell compiler to \"link\" to a library\n",
    "* Library contains pre-compiled code\n",
    "* Recall: header file contains function prototypes, which allows compiler to know what functions are available in the library\n",
    "* At runtime, executable and referenced libraries are loaded into memory"
   ]
  },
  {
   "cell_type": "markdown",
   "id": "8f0d2cb0-995d-4e40-a463-a46371c5983c",
   "metadata": {
    "slideshow": {
     "slide_type": "slide"
    },
    "tags": []
   },
   "source": [
    "## Program stack"
   ]
  },
  {
   "cell_type": "markdown",
   "id": "3977874a-3b3d-404b-ba11-bc63709e9fd6",
   "metadata": {
    "slideshow": {
     "slide_type": "fragment"
    },
    "tags": [
     "notes-only"
    ]
   },
   "source": [
    "* Stores data for functions that are currently executing\n",
    "* Stored in random access memory (RAM)\n",
    "* Composed of stack frames\n",
    "    * A stack frame contains the values stored in a functions's local variables and formal parameters\n",
    "    * The size of the stack frame is determined by the number and type of local variables and formal parameters\n",
    "    * A stack frame is added to the top of the stack when a function is called\n",
    "    * A stack frame is removed from the top of the stack when a function returns"
   ]
  },
  {
   "cell_type": "markdown",
   "id": "ad4101c3-786f-4a1a-ba9d-d2dc91d52bcc",
   "metadata": {
    "slideshow": {
     "slide_type": "subslide"
    },
    "tags": []
   },
   "source": [
    "* Q4: _Track the state of the stack for this program_\n",
    "    * Remember that C is **pass-by-value** → changes made to a variable inside a function will not be preserved outside of the function"
   ]
  },
  {
   "cell_type": "code",
   "execution_count": 16,
   "id": "6a156a86-d715-4216-a800-034192330f39",
   "metadata": {
    "tags": [
     "worksheet-code-only"
    ]
   },
   "outputs": [
    {
     "name": "stdout",
     "output_type": "stream",
     "text": [
      "68F is 20C\n"
     ]
    }
   ],
   "source": [
    "#include <stdio.h>\n",
    "\n",
    "int multiply(int z) {\n",
    "    return z * 5 / 9;\n",
    "}\n",
    "\n",
    "int subtract(int x, int y) {\n",
    "    return x - y;\n",
    "}\n",
    "\n",
    "int convert(int t) {\n",
    "    int u = subtract(t, 32);\n",
    "    int v = multiply(u);\n",
    "    return v;\n",
    "}\n",
    "\n",
    "int main() {\n",
    "    int f = 68;\n",
    "    int c = convert(68);\n",
    "    printf(\"%dF is %dC\\n\", f, c); \n",
    "}"
   ]
  },
  {
   "cell_type": "markdown",
   "id": "1b5a6bb7-1b66-486e-8000-5a13b073fa9e",
   "metadata": {
    "slideshow": {
     "slide_type": "skip"
    },
    "tags": [
     "worksheet-only"
    ]
   },
   "source": [
    "<div style=\"height:25em;\"></div>"
   ]
  },
  {
   "cell_type": "markdown",
   "id": "5d03c655-307f-4a6a-ab73-a44e819b6c73",
   "metadata": {
    "slideshow": {
     "slide_type": "subslide"
    },
    "tags": []
   },
   "source": [
    "* Q5: _What is the output of this program?_"
   ]
  },
  {
   "cell_type": "code",
   "execution_count": 17,
   "id": "5153e7e0-7a18-4c5e-b1be-51eedd25fa71",
   "metadata": {
    "tags": [
     "worksheet-code-only"
    ]
   },
   "outputs": [
    {
     "name": "stdout",
     "output_type": "stream",
     "text": [
      "3 7 7\n"
     ]
    }
   ],
   "source": [
    "#include <stdio.h>\n",
    "\n",
    "int copy(int a, int b) {\n",
    "    a = b;\n",
    "    return a;\n",
    "}\n",
    "\n",
    "int main() {\n",
    "    int x = 3;\n",
    "    int y = 7;\n",
    "    int z = copy(x, y);\n",
    "    printf(\"%d %d %d\\n\", x, y, z);\n",
    "}"
   ]
  },
  {
   "cell_type": "markdown",
   "id": "3818b176-e1ba-41f4-b696-21cc51f7be88",
   "metadata": {
    "slideshow": {
     "slide_type": "skip"
    },
    "tags": [
     "worksheet-only"
    ]
   },
   "source": [
    "<div style=\"page-break-after:always;\"></div>"
   ]
  },
  {
   "cell_type": "markdown",
   "id": "684dc139-1d4f-44fd-a227-34d4d28d31ab",
   "metadata": {
    "slideshow": {
     "slide_type": "slide"
    },
    "tags": []
   },
   "source": [
    "## Extra practice"
   ]
  },
  {
   "cell_type": "markdown",
   "id": "203b780d-72a8-4939-900e-c0c013ec0378",
   "metadata": {},
   "source": [
    "* Q6: _Write a program that prints all numbers from 1 to 20, except:_\n",
    "    * _If the number is divisible by 3 then print `Three`_\n",
    "    * _If the number is divisible by 5 then print `Five`_\n",
    "    * _If the number is divisible by 3 and 5, print `Both`_"
   ]
  },
  {
   "cell_type": "code",
   "execution_count": 22,
   "id": "713be6b5-e98f-403d-8def-b93b21d507c0",
   "metadata": {
    "slideshow": {
     "slide_type": "skip"
    },
    "tags": [
     "notes-only"
    ]
   },
   "outputs": [
    {
     "name": "stdout",
     "output_type": "stream",
     "text": [
      "1\n",
      "2\n",
      "Three\n",
      "4\n",
      "Five\n",
      "Three\n",
      "7\n",
      "8\n",
      "Three\n",
      "Five\n",
      "11\n",
      "Three\n",
      "13\n",
      "14\n",
      "Both\n",
      "16\n",
      "17\n",
      "Three\n",
      "19\n",
      "Five\n"
     ]
    }
   ],
   "source": [
    "#include <stdio.h>\n",
    "int main() {\n",
    "    for (int i = 1; i <= 20; i++) {\n",
    "        if (i % 3 == 0 && i % 5 == 0) {\n",
    "            printf(\"Both\\n\");\n",
    "        }\n",
    "        else if (i % 5 == 0) {\n",
    "            printf(\"Five\\n\");\n",
    "        }\n",
    "        else if (i % 3 == 0) {\n",
    "            printf(\"Three\\n\");\n",
    "        }\n",
    "        else {\n",
    "            printf(\"%d\\n\", i);\n",
    "        }\n",
    "    }\n",
    "}"
   ]
  },
  {
   "cell_type": "markdown",
   "id": "42eb68dc-a0e4-437c-aed1-3ca1b215095d",
   "metadata": {},
   "source": [
    "* Q7: _Write a program that prints every letter of the alphabet in upper and lower case: `AaBbCcDd...YyZz`_"
   ]
  },
  {
   "cell_type": "code",
   "execution_count": 23,
   "id": "0b31ca28-481e-4a92-9586-c2fac7c6abe7",
   "metadata": {
    "slideshow": {
     "slide_type": "skip"
    },
    "tags": [
     "notes-only"
    ]
   },
   "outputs": [
    {
     "name": "stdout",
     "output_type": "stream",
     "text": [
      "AaBbCcDdEeFfGgHhIiJjKkLlMmNnOoPpQqRrSsTtUuVvWwXxYyZz\n"
     ]
    }
   ],
   "source": [
    "#include <stdio.h>\n",
    "int main() {\n",
    "    for (char upper='A'; upper <= 'Z'; upper++) {\n",
    "        char lower = upper - 'A' + 'a';\n",
    "        printf(\"%c%c\", upper, lower);\n",
    "    }\n",
    "    printf(\"\\n\");\n",
    "}"
   ]
  },
  {
   "cell_type": "markdown",
   "id": "d1b647e0-3ae7-4916-b7c8-bb3c77a270d6",
   "metadata": {},
   "source": [
    "* Q8: _Write a function called `floorm` that takes two integers and rounds down the first integer to the closest multiple of the second integer._"
   ]
  },
  {
   "cell_type": "code",
   "execution_count": 35,
   "id": "301c6edd-818f-430f-856f-1c4505d0ba24",
   "metadata": {
    "slideshow": {
     "slide_type": "skip"
    },
    "tags": [
     "notes-only"
    ]
   },
   "outputs": [
    {
     "name": "stdout",
     "output_type": "stream",
     "text": [
      "The closest 5-multiple of 13 is 10\n",
      "The closest 3-multiple of 9 is 9\n"
     ]
    }
   ],
   "source": [
    "#include <stdio.h>\n",
    "int floorm(int num, int multiple) {\n",
    "    return num - (num % multiple);\n",
    "}\n",
    "// Testing\n",
    "int main() {\n",
    "    printf(\"The closest %d-multiple of %d is %d\\n\", 5, 13, floorm(13, 5));\n",
    "    printf(\"The closest %d-multiple of %d is %d\\n\", 3, 9, floorm(9, 3));\n",
    "}"
   ]
  },
  {
   "cell_type": "markdown",
   "id": "37c5d09c-4524-470d-b9a6-5b02c0fdd30f",
   "metadata": {
    "slideshow": {
     "slide_type": "subslide"
    },
    "tags": []
   },
   "source": [
    "* Q9: _Write a function called `print_x` that takes an integer n that prints the letter `X` n lines high and n characters wide. You can assume n is an odd number. For example, if n = 9, the program's output would be:_\n",
    "    ```\n",
    "    \\       /\n",
    "     \\     /\n",
    "      \\   /\n",
    "       \\ /\n",
    "        X\n",
    "       / \\\n",
    "      /   \\\n",
    "     /     \\\n",
    "    /       \\\n",
    "    ```"
   ]
  },
  {
   "cell_type": "code",
   "execution_count": 23,
   "id": "7715520d-d856-4790-b8bf-bcc5f1f00184",
   "metadata": {
    "slideshow": {
     "slide_type": "skip"
    },
    "tags": [
     "notes-only"
    ]
   },
   "outputs": [
    {
     "name": "stdout",
     "output_type": "stream",
     "text": [
      "\\ /\n",
      " X \n",
      "/ \\\n",
      "\\       /\n",
      " \\     / \n",
      "  \\   /  \n",
      "   \\ /   \n",
      "    X    \n",
      "   / \\   \n",
      "  /   \\  \n",
      " /     \\ \n",
      "/       \\\n"
     ]
    }
   ],
   "source": [
    "#include <stdio.h>\n",
    "\n",
    "void print_x_helper(int n, int r) {\n",
    "    for (int c = 0; c < n; c++) {\n",
    "        if (c == r) {\n",
    "            printf(\"\\\\\");\n",
    "        }\n",
    "        else if (c == n-1-r) {\n",
    "            printf(\"/\");\n",
    "        }\n",
    "        else {\n",
    "            printf(\" \" );\n",
    "        }\n",
    "    }\n",
    "    printf(\"\\n\");\n",
    "}\n",
    "\n",
    "void print_x(int n) {\n",
    "    int r = 0;\n",
    "    while (r < n/2) {\n",
    "        print_x_helper(n, r);\n",
    "        r++;\n",
    "    }\n",
    "    for (int c = 0; c < n; c++) {\n",
    "        if (c == r) {\n",
    "            printf(\"X\");\n",
    "        }\n",
    "        else {\n",
    "            printf(\" \");\n",
    "        }\n",
    "    }\n",
    "    printf(\"\\n\");\n",
    "    r++;\n",
    "    while (r < n) {\n",
    "        print_x_helper(n, r);\n",
    "        r++;\n",
    "    }\n",
    "}\n",
    "\n",
    "// Testing\n",
    "int main() {\n",
    "    print_x(3);\n",
    "    print_x(9);\n",
    "}"
   ]
  },
  {
   "cell_type": "markdown",
   "id": "35baaf3c-1a98-4198-82e7-8f6b731e1667",
   "metadata": {
    "slideshow": {
     "slide_type": "skip"
    },
    "tags": [
     "worksheet-only"
    ]
   },
   "source": [
    "<div style=\"page-break-after:always;\"></div>"
   ]
  },
  {
   "cell_type": "markdown",
   "id": "501baf2b-3769-451e-8fd3-ff75a9bd53be",
   "metadata": {
    "slideshow": {
     "slide_type": "subslide"
    },
    "tags": []
   },
   "source": [
    "* Q10: _Draw the contents of the stack immediately before the program prints \"1 x 2\"_. Use [C tutor](https://pythontutor.com/c.html) to visualize the execution of this program and check your drawing"
   ]
  },
  {
   "cell_type": "code",
   "execution_count": 24,
   "id": "791e250e-1fb6-48f8-9a62-1873fcfb5428",
   "metadata": {
    "tags": [
     "worksheet-code-only"
    ]
   },
   "outputs": [
    {
     "name": "stdout",
     "output_type": "stream",
     "text": [
      "3^2 is 9\n",
      "1 x 2\n",
      "2 x 2\n",
      "4 x 2\n",
      "2^3 is 8\n"
     ]
    }
   ],
   "source": [
    "#include <stdio.h>\n",
    "\n",
    "int squared(int base) {\n",
    "    return base * base;\n",
    "}\n",
    "\n",
    "int dbl(int num) {\n",
    "    printf(\"%d x 2\\n\", num);\n",
    "    return num * 2;   \n",
    "}\n",
    "\n",
    "int two(int exponent) {\n",
    "    int result = 1;\n",
    "    for (int i = 0; i < exponent; i++) {\n",
    "        result = dbl(result);\n",
    "    }\n",
    "    return result;\n",
    "}\n",
    "\n",
    "int main() {\n",
    "    int n = 3;\n",
    "    int s = squared(3);\n",
    "    printf(\"%d^2 is %d\\n\", n, s);\n",
    "    int t = two(3);\n",
    "    printf(\"2^%d is %d\\n\", n, t);\n",
    "}"
   ]
  },
  {
   "cell_type": "markdown",
   "id": "169b7d63-4f6a-4de2-8227-0f3868dbf937",
   "metadata": {
    "slideshow": {
     "slide_type": "subslide"
    },
    "tags": []
   },
   "source": [
    "* Q11: _Write a function called `flipcase` that takes a letter and returns the letter in the opposite case. If the character is not a letter, then return the character unchanged._"
   ]
  },
  {
   "cell_type": "code",
   "execution_count": 31,
   "id": "e4fbdb38-540b-420c-82f3-8aa9ac01cb8f",
   "metadata": {
    "slideshow": {
     "slide_type": "skip"
    },
    "tags": [
     "notes-only"
    ]
   },
   "outputs": [
    {
     "name": "stdout",
     "output_type": "stream",
     "text": [
      "d flipped to D\n",
      "F flipped to f\n"
     ]
    }
   ],
   "source": [
    "#include <stdio.h>\n",
    "\n",
    "char flipcase(char ch) {\n",
    "    if (ch >= 'A' && ch <= 'Z') { // Uppercase to lowercase\n",
    "        return ch - 'A' + 'a';\n",
    "    } else if (ch >= 'a' && ch <= 'z') { // Lowercase to uppercase\n",
    "        return ch - 'a' + 'A';\n",
    "    } else { // Not a letter\n",
    "        return ch;\n",
    "    }\n",
    "}\n",
    "\n",
    "// Testing\n",
    "int main() {\n",
    "    printf(\"%c flipped to %c\\n\", 'd', 'D');\n",
    "    printf(\"%c flipped to %c\\n\", 'F', 'f');\n",
    "}"
   ]
  },
  {
   "cell_type": "markdown",
   "id": "2adc9de8-2c27-4e34-9d7a-8bf7debf537d",
   "metadata": {
    "slideshow": {
     "slide_type": "skip"
    },
    "tags": [
     "worksheet-only"
    ]
   },
   "source": [
    "<div style=\"height:15em;\"></div>"
   ]
  }
 ],
 "metadata": {
  "kernelspec": {
   "display_name": "Python 3 (ipykernel)",
   "language": "python",
   "name": "python3"
  },
  "language_info": {
   "codemirror_mode": {
    "name": "ipython",
    "version": 3
   },
   "file_extension": ".py",
   "mimetype": "text/x-python",
   "name": "python",
   "nbconvert_exporter": "python",
   "pygments_lexer": "ipython3",
   "version": "3.10.11"
  }
 },
 "nbformat": 4,
 "nbformat_minor": 5
}
