{
 "cells": [
  {
   "cell_type": "markdown",
   "id": "766c3265-87a5-4a23-b560-83e011c2ed6b",
   "metadata": {
    "slideshow": {
     "slide_type": "skip"
    },
    "tags": []
   },
   "source": [
    "# C: Arrays, strings, input\n",
    "_COSC 208, Introduction to Computer Systems, 2023-09-01_"
   ]
  },
  {
   "cell_type": "markdown",
   "id": "191c15e7-124f-4158-8ce9-41b74735bea2",
   "metadata": {
    "slideshow": {
     "slide_type": "slide"
    },
    "tags": []
   },
   "source": [
    "## Announcements\n",
    "* Before next class: read _Dive Into Systems_ 4.0-4.2 and answer pre-class questions"
   ]
  },
  {
   "cell_type": "markdown",
   "id": "1d912bb5-c8b0-474f-8c78-cf971ce9f98a",
   "metadata": {
    "tags": []
   },
   "source": [
    "## Outline\n",
    "* Warm-up\n",
    "* Arrays\n",
    "* Strings\n",
    "* Input"
   ]
  },
  {
   "cell_type": "markdown",
   "id": "7bbef47b-ce5a-4cb2-a406-daadf53a3425",
   "metadata": {
    "slideshow": {
     "slide_type": "slide"
    },
    "tags": []
   },
   "source": [
    "## Warm-up\n",
    "* Q1: _Draw the contents of the stack immediately before the program prints \"n=2\"_"
   ]
  },
  {
   "cell_type": "code",
   "execution_count": 1,
   "id": "1a9eb750-d1e2-476c-bf86-d78240957ca9",
   "metadata": {
    "tags": [
     "worksheet-code-only"
    ]
   },
   "outputs": [
    {
     "name": "stdout",
     "output_type": "stream",
     "text": [
      "n=16\n",
      "n=8\n",
      "n=4\n",
      "n=2\n",
      "n=1\n",
      "result=4\n"
     ]
    }
   ],
   "source": [
    "#include <stdio.h>\n",
    "\n",
    "int recurse(int n) {\n",
    "    printf(\"n=%d\\n\", n);\n",
    "    if (n == 1) {\n",
    "        return 0;\n",
    "    }\n",
    "    else {\n",
    "        return 1 + recurse(n/2);\n",
    "    }\n",
    "}\n",
    "\n",
    "int main() {\n",
    "    int x = 16;\n",
    "    int r = recurse(x);\n",
    "    printf(\"result=%d\\n\", r);\n",
    "}"
   ]
  },
  {
   "cell_type": "markdown",
   "id": "f8bd6311-6fbf-424d-bf20-7b89049f61e4",
   "metadata": {
    "slideshow": {
     "slide_type": "skip"
    },
    "tags": [
     "worksheet-only"
    ]
   },
   "source": [
    "<div style=\"height:20em;\"></div>"
   ]
  },
  {
   "cell_type": "markdown",
   "id": "c60d2b3f-dea9-4a12-af19-c6267aa76d4d",
   "metadata": {},
   "source": [
    "* Q2: _If `main` initialized `x` to `64` (instead of `16`), how many stack frames would exist immediately before the program printed \"n=2\"?_"
   ]
  },
  {
   "cell_type": "markdown",
   "id": "91eb5802-83b7-4a61-abe8-89bb587b7270",
   "metadata": {
    "slideshow": {
     "slide_type": "skip"
    },
    "tags": [
     "notes-only"
    ]
   },
   "source": [
    "7 —  (bottom) `main`, `recurse(64)`, `recurse(32)`, `recurse(16)`, `recurse(8)`, `recurse(4)`, `recurse(2)` (top)"
   ]
  },
  {
   "cell_type": "markdown",
   "id": "745c66f7-e6f7-4e68-83a2-c5b724626a57",
   "metadata": {
    "slideshow": {
     "slide_type": "skip"
    },
    "tags": [
     "worksheet-only"
    ]
   },
   "source": [
    "<div style=\"height:5em;\"></div>\n",
    "\n",
    "🛑 **STOP here** after completing the warm-up; if you have extra time please **skip ahead** to the extra practice.\n",
    "\n",
    "<div style=\"page-break-after:always;\"></div>"
   ]
  },
  {
   "cell_type": "markdown",
   "id": "10a8ff56-b066-4eab-b399-f30e2e1a4ee4",
   "metadata": {
    "slideshow": {
     "slide_type": "skip"
    },
    "tags": [
     "notes-only"
    ]
   },
   "source": [
    "* _What does this tell you about program efficiency?_ — the more nested function calls there are, the more stack memory the program requires; creating an iterative (instead of recursive) implementation would be more memory efficient"
   ]
  },
  {
   "cell_type": "markdown",
   "id": "9b5ef5a7-7f36-42f3-bf18-73be0035f776",
   "metadata": {
    "slideshow": {
     "slide_type": "slide"
    },
    "tags": []
   },
   "source": [
    "## Arrays"
   ]
  },
  {
   "cell_type": "markdown",
   "id": "648ce366-41a3-4010-b19a-0434d245a71e",
   "metadata": {
    "tags": [
     "notes-only"
    ]
   },
   "source": [
    "* _How do you declare an array?_"
   ]
  },
  {
   "cell_type": "markdown",
   "id": "10f57a8d-d417-4e50-ae62-320ef977c9e4",
   "metadata": {
    "slideshow": {
     "slide_type": "fragment"
    },
    "tags": [
     "notes-only"
    ]
   },
   "source": [
    "    * TYPE VARNAME[LENGTH];\n",
    "    * TYPE VARNAME[] = {VALUE1, VALUE2, ...};"
   ]
  },
  {
   "cell_type": "markdown",
   "id": "221b04f6-4eb3-43be-80dd-f1898fe89213",
   "metadata": {
    "tags": [
     "notes-only"
    ]
   },
   "source": [
    "* _How do you access an element in an array?_ "
   ]
  },
  {
   "cell_type": "markdown",
   "id": "ff416003-fc7f-4bab-b59a-cd5b6b45935a",
   "metadata": {
    "slideshow": {
     "slide_type": "fragment"
    },
    "tags": [
     "notes-only"
    ]
   },
   "source": [
    "    * VARNAME[INDEX]"
   ]
  },
  {
   "cell_type": "markdown",
   "id": "466fd692-ad75-4cfd-8fb4-eae66cb6c138",
   "metadata": {
    "slideshow": {
     "slide_type": "subslide"
    },
    "tags": []
   },
   "source": [
    "* Q3: _What is the output of this program?_"
   ]
  },
  {
   "cell_type": "code",
   "execution_count": 2,
   "id": "71572cfd-b0ff-40da-9106-530bf52790dc",
   "metadata": {
    "tags": [
     "worksheet-code-only"
    ]
   },
   "outputs": [
    {
     "name": "stdout",
     "output_type": "stream",
     "text": [
      "7\n"
     ]
    }
   ],
   "source": [
    "#include <stdio.h>\n",
    "\n",
    "int main() {\n",
    "    int sum = 0;\n",
    "    int nums[] = { 1, 3, 5, 7 };\n",
    "    for (int i = 0; i < 3; i++) {\n",
    "        nums[i+1] -= 1;\n",
    "        sum += nums[i];\n",
    "    }\n",
    "    printf(\"%d\\n\", sum);\n",
    "}"
   ]
  },
  {
   "cell_type": "markdown",
   "id": "93595715-0669-47d5-b99f-b3f68bc90439",
   "metadata": {
    "slideshow": {
     "slide_type": "subslide"
    },
    "tags": []
   },
   "source": [
    "* Q4: _What is the output of this program?_"
   ]
  },
  {
   "cell_type": "code",
   "execution_count": 4,
   "id": "ff6a7e9c-5d88-40b4-a76c-1987c0f89850",
   "metadata": {
    "tags": [
     "worksheet-code-only"
    ]
   },
   "outputs": [
    {
     "name": "stdout",
     "output_type": "stream",
     "text": [
      "-1481762753\n"
     ]
    }
   ],
   "source": [
    "#include <stdio.h>\n",
    "\n",
    "int main() {\n",
    "    int sum = 0;\n",
    "    int zeros[10];\n",
    "    for (int i = 0; i < 10; i++) {\n",
    "        sum += zeros[i];\n",
    "    }\n",
    "    printf(\"%d\\n\", sum);\n",
    "}"
   ]
  },
  {
   "cell_type": "markdown",
   "id": "ea7be590-8aac-4056-a30d-9fb49f3083cf",
   "metadata": {
    "slideshow": {
     "slide_type": "skip"
    },
    "tags": [
     "notes-only"
    ]
   },
   "source": [
    "_Undefined — variables are not initialized like they are in Java and Python_"
   ]
  },
  {
   "cell_type": "markdown",
   "id": "33f33165-3c32-41a3-8be1-c10eb46a4f25",
   "metadata": {
    "slideshow": {
     "slide_type": "subslide"
    },
    "tags": []
   },
   "source": [
    "* Q5: _What is the output of this program?_"
   ]
  },
  {
   "cell_type": "code",
   "execution_count": 6,
   "id": "b113b722-05a7-45d2-917e-4c07eaa3763e",
   "metadata": {
    "tags": [
     "worksheet-code-only"
    ]
   },
   "outputs": [
    {
     "name": "stdout",
     "output_type": "stream",
     "text": [
      "1849360390\n"
     ]
    }
   ],
   "source": [
    "#include <stdio.h>\n",
    "\n",
    "int main() {\n",
    "    int sum = 0;\n",
    "    int nums[] = { 1, 2, 3 };\n",
    "    for (int i = 0; i <= 3; i++) {\n",
    "        sum += nums[i];\n",
    "    }\n",
    "    printf(\"%d\\n\", sum);\n",
    "}"
   ]
  },
  {
   "cell_type": "markdown",
   "id": "008d705b-de8a-4500-a2ff-0e569a8f3610",
   "metadata": {
    "slideshow": {
     "slide_type": "skip"
    },
    "tags": [
     "notes-only"
    ]
   },
   "source": [
    "_Undefined — C doesn't check array bounds like Java and Python_"
   ]
  },
  {
   "cell_type": "markdown",
   "id": "ebd67c56-fed2-43dd-99ea-d066a67cd338",
   "metadata": {
    "slideshow": {
     "slide_type": "skip"
    },
    "tags": [
     "worksheet-only"
    ]
   },
   "source": [
    "🛑 **STOP here** after completing the above questions; if you have extra time please **skip ahead** to the extra practice."
   ]
  },
  {
   "cell_type": "markdown",
   "id": "b22129f8-cc9b-41e4-872f-57a38223a7b7",
   "metadata": {
    "slideshow": {
     "slide_type": "slide"
    },
    "tags": [
     "notes-only"
    ]
   },
   "source": [
    "## Strings\n",
    "* String is simply an array of characters\n",
    "* End of string is denoted by the null character (`\\0`)\n",
    "    ```\n",
    "                 ┏━━━┳━━━┳━━━┳━━━┳━━━┳━━━┳━━━┳━━━━┓\n",
    "    \"Colgate\" == ┃ C ┃ o ┃ l ┃ g ┃ a ┃ t ┃ e ┃ \\0 ┃\n",
    "                 ┗━━━┻━━━┻━━━┻━━━┻━━━┻━━━┻━━━┻━━━━┛\n",
    "    ```"
   ]
  },
  {
   "cell_type": "markdown",
   "id": "acda8200-d018-45f6-94a5-fd0a301dfdf0",
   "metadata": {
    "slideshow": {
     "slide_type": "subslide"
    },
    "tags": [
     "notes-only"
    ]
   },
   "source": [
    "* Useful string functions\n",
    "    * `strlen` counts the number of characters in an array before a null character \n",
    "        * The null character is **not** included in the length\n",
    "    * `strcmp` checks if the two strings are the same\n",
    "        * Stops when it reaches a null character in either array\n",
    "    * `strcpy` copies the characters from one array to another\n",
    "        * Also copies the null character \n",
    "    * The `man` pages for these functions indicate the parameters are are of type `const char *` or `char *`\n",
    "        * `const` means the function does not modify the array\n",
    "        * `char *` means a character pointer; in a few weeks we'll discuss the duality between arrays and pointers; for now, it means you can pass an array of characters to these functions"
   ]
  },
  {
   "cell_type": "markdown",
   "id": "58ef9eae-8b69-4ff3-9ac4-341627f8cc13",
   "metadata": {
    "slideshow": {
     "slide_type": "slide"
    },
    "tags": [
     "notes-only"
    ]
   },
   "source": [
    "## Input\n",
    "* Use `fgets` to read in a line of input as a string\n",
    "    ```C\n",
    "    char str[10];\n",
    "    fgets(str, 10, stdin);\n",
    "    ```\n",
    "* `stdin` means _standard input_"
   ]
  },
  {
   "cell_type": "markdown",
   "id": "b4d22014-0af6-4eb5-9ce7-3d7c49ecba82",
   "metadata": {
    "slideshow": {
     "slide_type": "slide"
    },
    "tags": []
   },
   "source": [
    "## Extra practice\n",
    "* Q9: _Write a function called `avg` that takes an array of integers and the length of the array and returns the average of those integers._"
   ]
  },
  {
   "cell_type": "code",
   "execution_count": 3,
   "id": "c01182ef-9ee1-4402-8ca9-e0a55bec8354",
   "metadata": {
    "slideshow": {
     "slide_type": "skip"
    },
    "tags": [
     "notes-only"
    ]
   },
   "outputs": [],
   "source": [
    "int avg(int nums[], int length) {\n",
    "    int sum = 0;\n",
    "    for (int i = 0; i < length; i++) {\n",
    "        sum += nums[i];\n",
    "    }\n",
    "    return sum / length;\n",
    "}\n",
    "\n",
    "// Testing code\n",
    "#include <assert.h>\n",
    "int main() {\n",
    "    int test[] = {2, 6, 7};\n",
    "    assert(avg(test, 3) == 5);\n",
    "}"
   ]
  },
  {
   "cell_type": "markdown",
   "id": "ab222c6b-01cc-49be-a5c2-fea05373e7fd",
   "metadata": {
    "slideshow": {
     "slide_type": "skip"
    },
    "tags": [
     "worksheet-only"
    ]
   },
   "source": [
    "<div style=\"height:12em;\"></div>"
   ]
  },
  {
   "cell_type": "markdown",
   "id": "841c89b6-e2f8-481d-97e1-c0bf453cc693",
   "metadata": {},
   "source": [
    "* Q10: _Write a function called `count` that takes an array of integers,  the length of the array, and an integer to search for and returns the number of times the specified integer appears in the array._"
   ]
  },
  {
   "cell_type": "code",
   "execution_count": 5,
   "id": "faf9688b-dcf7-4182-85af-6a0f0b6a72b1",
   "metadata": {
    "slideshow": {
     "slide_type": "skip"
    },
    "tags": [
     "notes-only"
    ]
   },
   "outputs": [],
   "source": [
    "int count(int nums[], int length, int find) {\n",
    "    int occurrences = 0;\n",
    "    for (int i = 0; i < length; i++) {\n",
    "        if (nums[i] == find) {\n",
    "            occurrences++;\n",
    "        }\n",
    "    }\n",
    "    return occurrences;\n",
    "}\n",
    "\n",
    "// Testing code\n",
    "#include <assert.h>\n",
    "int main() {\n",
    "    int test[] = {1, 2, 1, 2, 2, 1, 2};\n",
    "    assert(count(test, 7, 1) == 3);\n",
    "    assert(count(test, 7, 2) == 4);\n",
    "}"
   ]
  },
  {
   "cell_type": "markdown",
   "id": "b35e9577-07d9-42e4-bcf1-9fd7362bf527",
   "metadata": {
    "slideshow": {
     "slide_type": "skip"
    },
    "tags": [
     "worksheet-only"
    ]
   },
   "source": [
    "<div style=\"page-break-after:always;\"></div>"
   ]
  },
  {
   "cell_type": "markdown",
   "id": "5da91146-e958-4ad1-858a-79661267b2f9",
   "metadata": {},
   "source": [
    "* Q11: _Write a program that asks the user for a string and converts all lowercase letters to uppercase and all uppercase letters to lowercase; numbers and punctuation should be left unchanged._"
   ]
  },
  {
   "cell_type": "code",
   "execution_count": null,
   "id": "5bc04baa-6354-4f3b-8257-4739a158b146",
   "metadata": {
    "slideshow": {
     "slide_type": "skip"
    },
    "tags": [
     "notes-only"
    ]
   },
   "outputs": [],
   "source": [
    "#include <stdio.h>\n",
    "#include <stdlib.h>\n",
    "#include <string.h>\n",
    "\n",
    "int main() {\n",
    "    char str[100];\n",
    "    printf(\"String? \");\n",
    "    fgets(str, 100, stdin);\n",
    "    for (int i = 0; i < strlen(str); i++) {\n",
    "        if (str[i] >= 'A' && str[i] <= 'Z') {\n",
    "            str[i] = str[i] - 'A' + 'a';\n",
    "    } else if (str[i] >= 'a' && str[i] <= 'z') {\n",
    "            str[i] = str[i] - 'a' + 'A';\n",
    "        }\n",
    "    }\n",
    "    printf(\"%s\", str);\n",
    "    return EXIT_SUCCESS;\n",
    "}"
   ]
  },
  {
   "cell_type": "markdown",
   "id": "6a0bd3f2-bd33-402a-a177-7d2b69da6054",
   "metadata": {
    "slideshow": {
     "slide_type": "skip"
    },
    "tags": [
     "worksheet-only"
    ]
   },
   "source": [
    "<div style=\"height:25em;\"></div>"
   ]
  },
  {
   "cell_type": "markdown",
   "id": "a7ff2f26-c0d8-4e62-a090-50db6502e2b0",
   "metadata": {},
   "source": [
    "* Q12: _Write a program that asks the user for a string and checks if the string is a palindrome (i.e., reads the same forwards and backwards)._"
   ]
  },
  {
   "cell_type": "code",
   "execution_count": null,
   "id": "74206b7b-e648-47f5-a0b4-17737bece470",
   "metadata": {
    "slideshow": {
     "slide_type": "skip"
    },
    "tags": [
     "notes-only"
    ]
   },
   "outputs": [],
   "source": [
    "#include <stdio.h>\n",
    "#include <stdlib.h>\n",
    "#include <string.h>\n",
    "int main() {\n",
    "    char str[100];\n",
    "    printf(\"String? \");\n",
    "    fgets(str, 100, stdin);\n",
    "    str[strlen(str)-1] = '\\0'; // strip newline\n",
    "    for (int i = 0; i < strlen(str) / 2; i++) {\n",
    "        if (str[i] != str[strlen(str)-i-1]) {\n",
    "            printf(\"Not a palindrome\\n\");\n",
    "            return EXIT_SUCCESS;\n",
    "        }\n",
    "    }\n",
    "    printf(\"Palindrome\\n\");\n",
    "    return EXIT_SUCCESS;\n",
    "}"
   ]
  }
 ],
 "metadata": {
  "kernelspec": {
   "display_name": "C",
   "language": "c",
   "name": "c"
  },
  "language_info": {
   "file_extension": ".c",
   "mimetype": "text/plain",
   "name": "c"
  }
 },
 "nbformat": 4,
 "nbformat_minor": 5
}
