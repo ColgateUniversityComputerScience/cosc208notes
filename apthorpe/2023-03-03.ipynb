{
 "cells": [
  {
   "cell_type": "markdown",
   "id": "275f3326-b6de-4d7d-b41a-f17ec6a57354",
   "metadata": {
    "slideshow": {
     "slide_type": "skip"
    },
    "tags": []
   },
   "source": [
    "# Architecture: von Neumann\n",
    "_COSC 208, Introduction to Computer Systems, 2023-03-03_"
   ]
  },
  {
   "cell_type": "markdown",
   "id": "9db293af-f9ec-4262-b568-ef1906a523b4",
   "metadata": {
    "slideshow": {
     "slide_type": "skip"
    },
    "tags": []
   },
   "source": [
    "## Announcements\n",
    "* DEI assignment 2 due Thursday @ 11pm"
   ]
  },
  {
   "cell_type": "markdown",
   "id": "bede1ded-97f6-4a28-9335-116fd9ea868f",
   "metadata": {
    "slideshow": {
     "slide_type": "skip"
    },
    "tags": []
   },
   "source": [
    "## Outline\n",
    "* Warm-up\n",
    "* von Neumann Architecture"
   ]
  },
  {
   "cell_type": "markdown",
   "id": "21816ff4-52c0-4680-95b9-3142e9d79121",
   "metadata": {
    "tags": []
   },
   "source": [
    "## Warm-up"
   ]
  },
  {
   "cell_type": "markdown",
   "id": "4816294f-fc21-45e9-9d11-958598180c6c",
   "metadata": {},
   "source": [
    "* _Two structs have been defined representing a queue and an item on a queue._"
   ]
  },
  {
   "cell_type": "code",
   "execution_count": null,
   "id": "bf408ca4-ef1e-467a-99d9-e4342b92f0ff",
   "metadata": {},
   "outputs": [],
   "source": [
    "struct item {\n",
    "    int value;\n",
    "    struct item *next;\n",
    "};\n",
    "struct queue {\n",
    "    struct item *head;\n",
    "    struct item *tail;\n",
    "};"
   ]
  },
  {
   "cell_type": "markdown",
   "id": "5e16b4e8-e1c1-42fd-8f98-ea654b7e269e",
   "metadata": {},
   "source": [
    "* _The `new_queue` function creates a new, empty queue._"
   ]
  },
  {
   "cell_type": "code",
   "execution_count": null,
   "id": "27c3c5dc-6b11-4fe9-ab34-2bd01c280234",
   "metadata": {},
   "outputs": [],
   "source": [
    "struct queue *new_queue() {\n",
    "    struct queue *q = malloc(sizeof(struct queue));\n",
    "    q->head = NULL;\n",
    "    q->tail = NULL;\n",
    "    return q;\n",
    "}"
   ]
  },
  {
   "cell_type": "markdown",
   "id": "5b958d08-69b7-4ee6-a3ad-fc869b43eedf",
   "metadata": {},
   "source": [
    "* Q1: _Write a function called `enqueue` that adds a new value at the end of the queue._"
   ]
  },
  {
   "cell_type": "markdown",
   "id": "f19ec7e9-f16a-457c-9378-cfd6e8b07c9a",
   "metadata": {
    "slideshow": {
     "slide_type": "skip"
    },
    "tags": [
     "worksheet-only"
    ]
   },
   "source": [
    "<p style=\"height:25em;\"></p>"
   ]
  },
  {
   "cell_type": "markdown",
   "id": "8bf27bac-345b-409c-8ef6-5e44424ac5ba",
   "metadata": {},
   "source": [
    "* Q2: _Write a function called `dequeue` that removes and returns the value at the head of the queue. The function should return -1 if the queue is empty._"
   ]
  },
  {
   "cell_type": "markdown",
   "id": "b09f399a-b561-4aed-b371-a633284dca5c",
   "metadata": {
    "slideshow": {
     "slide_type": "skip"
    },
    "tags": [
     "worksheet-only"
    ]
   },
   "source": [
    "<p style=\"height:25em;\"></p>\n",
    "\n",
    "🛑 **STOP here** after completing the above questions; if you have extra time please **skip ahead** to the extra practice."
   ]
  },
  {
   "cell_type": "code",
   "execution_count": 4,
   "id": "f11b6c2a-9643-48d0-a67b-cc38de40bbe2",
   "metadata": {
    "slideshow": {
     "slide_type": "skip"
    },
    "tags": [
     "notes-only"
    ]
   },
   "outputs": [],
   "source": [
    "#include <stdlib.h>\n",
    "struct item {\n",
    "    int value;\n",
    "    struct item *next;\n",
    "};\n",
    "struct queue {\n",
    "    struct item *head;\n",
    "    struct item *tail;\n",
    "};\n",
    "\n",
    "struct queue *new_queue() {\n",
    "    struct queue *q = malloc(sizeof(struct queue));\n",
    "    q->head = NULL;\n",
    "    q->tail = NULL;\n",
    "    return q;\n",
    "}\n",
    "\n",
    "void enqueue(int value, struct queue *q) {\n",
    "    struct item *i = malloc(sizeof(struct item));\n",
    "    i->value = value;\n",
    "    i->next = NULL;\n",
    "    if (q->tail == NULL) {\n",
    "        q->head = i;\n",
    "        q->tail = i;\n",
    "    } else {\n",
    "        q->tail->next = i;\n",
    "        q->tail = i;\n",
    "    }\n",
    "}\n",
    "\n",
    "int dequeue(struct queue *q) {\n",
    "    if (NULL == q->head) {\n",
    "        return -1;\n",
    "    }\n",
    "    struct item *i = q->head;\n",
    "    int v = i->value;\n",
    "    q->head = i->next;\n",
    "    if (q->head == NULL) {\n",
    "        q->tail = NULL;\n",
    "    }\n",
    "    free(i);\n",
    "    return v;\n",
    "}\n",
    "\n",
    "// Testing\n",
    "#include <assert.h>\n",
    "int main() {\n",
    "    struct queue *q = new_queue();\n",
    "    enqueue(1, q);\n",
    "    enqueue(2, q);\n",
    "    assert(dequeue(q) == 1);\n",
    "    enqueue(3, q);\n",
    "    enqueue(4, q);\n",
    "    assert(dequeue(q) == 2);\n",
    "    assert(dequeue(q) == 3);\n",
    "}"
   ]
  },
  {
   "cell_type": "markdown",
   "id": "125e5f43-ae87-4033-b6bd-62f8fb6940a9",
   "metadata": {
    "slideshow": {
     "slide_type": "slide"
    },
    "tags": []
   },
   "source": [
    "## Building logic gates\n",
    "* Q3: _Fill-in the truth tables for all six types of gates_"
   ]
  },
  {
   "cell_type": "markdown",
   "id": "a40c5b95-f3cc-4073-bb37-fd3ba80ee063",
   "metadata": {
    "tags": [
     "worksheet-only"
    ]
   },
   "source": [
    "| A | B | A AND B | A OR B | NOT A | A NAND B | A NOR B | A XOR B |\n",
    "| - | - | ------- | ------ | ----- | -------- | ------- | ------- |\n",
    "| 0 | 0 |         |        |       |          |         |         | \n",
    "| 0 | 1 |         |        |       |          |         |         | \n",
    "| 1 | 0 |         |        |       |          |         |         | \n",
    "| 1 | 1 |         |        |       |          |         |         | "
   ]
  },
  {
   "cell_type": "markdown",
   "id": "9549d907-d64e-4598-a53e-c1d85e942847",
   "metadata": {
    "slideshow": {
     "slide_type": "skip"
    },
    "tags": [
     "notes-only"
    ]
   },
   "source": [
    "_Postponed to next class_"
   ]
  },
  {
   "cell_type": "markdown",
   "id": "cb7e687a-9449-4eeb-9358-0a97d7f61245",
   "metadata": {
    "slideshow": {
     "slide_type": "skip"
    },
    "tags": [
     "worksheet-only"
    ]
   },
   "source": [
    "🛑 **STOP here** after completing the above question; if you have extra time please **skip ahead** to the extra practice."
   ]
  },
  {
   "cell_type": "markdown",
   "id": "bb0f691a-0029-45a1-9d62-e8ec2083512f",
   "metadata": {
    "slideshow": {
     "slide_type": "slide"
    },
    "tags": []
   },
   "source": [
    "* Q4: _How do you use AND and NOT gates to create a NAND gate?_"
   ]
  },
  {
   "cell_type": "markdown",
   "id": "ec656226-e0f1-4efa-a93e-bc3fd2150556",
   "metadata": {
    "slideshow": {
     "slide_type": "skip"
    },
    "tags": [
     "notes-only"
    ]
   },
   "source": [
    "_Postponed to next class_"
   ]
  },
  {
   "cell_type": "markdown",
   "id": "9950bfd3-60ba-4e4c-b12f-231819ee38b4",
   "metadata": {
    "slideshow": {
     "slide_type": "skip"
    },
    "tags": [
     "worksheet-only"
    ]
   },
   "source": [
    "<p style=\"height:6em;\"></p>"
   ]
  },
  {
   "cell_type": "markdown",
   "id": "3402dcc4-2dbb-4ff7-b2a5-8d22bcc1a854",
   "metadata": {},
   "source": [
    "* Q5: _How do you use OR and NOT gates to create a NOR gate?_"
   ]
  },
  {
   "cell_type": "markdown",
   "id": "5c7a98b9-fd1f-409d-b5fe-a76b073bbcea",
   "metadata": {
    "slideshow": {
     "slide_type": "skip"
    },
    "tags": [
     "notes-only"
    ]
   },
   "source": [
    "_Postponed to next class_"
   ]
  },
  {
   "cell_type": "markdown",
   "id": "df9e2c31-825f-4292-87be-3d0910927379",
   "metadata": {
    "slideshow": {
     "slide_type": "skip"
    },
    "tags": [
     "worksheet-only"
    ]
   },
   "source": [
    "<p style=\"height:6em;\"></p>\n",
    "\n",
    "🛑 **STOP here** after completing the above questions; if you have extra time please **skip ahead** to the extra practice."
   ]
  },
  {
   "cell_type": "markdown",
   "id": "117bb607-1a26-43bf-a5d0-d539889fc42e",
   "metadata": {
    "slideshow": {
     "slide_type": "slide"
    },
    "tags": []
   },
   "source": [
    "## Extra practice"
   ]
  },
  {
   "cell_type": "markdown",
   "id": "96785560-1922-42aa-bc1e-01877d5be048",
   "metadata": {},
   "source": [
    "* Q6: _Write a function called `free_queue` that empties and frees a queue._"
   ]
  },
  {
   "cell_type": "code",
   "execution_count": null,
   "id": "0f731898-16ec-41ed-acfe-ddd08b4a1e8b",
   "metadata": {
    "slideshow": {
     "slide_type": "skip"
    },
    "tags": [
     "notes-only"
    ]
   },
   "outputs": [],
   "source": [
    "void free_queue(struct queue *q) {\n",
    "    while (q->head != NULL) {\n",
    "        dequeue(q);\n",
    "    }\n",
    "    free(q);\n",
    "}"
   ]
  },
  {
   "cell_type": "markdown",
   "id": "c197d434-c7b7-4c5e-9bf0-95697000966b",
   "metadata": {},
   "source": [
    "* Q7: _Write a function called `position` that takes a value and a queue and returns the position of the value within the queue (the head of the queue is position 0). Return -1 if the value is not present in the queue._"
   ]
  },
  {
   "cell_type": "code",
   "execution_count": null,
   "id": "88a3ca2a-eeee-446f-bcea-03654584426c",
   "metadata": {
    "slideshow": {
     "slide_type": "skip"
    },
    "tags": [
     "notes-only"
    ]
   },
   "outputs": [],
   "source": [
    "int position(int value, struct queue *q) {\n",
    "    struct item *curr = q->head;\n",
    "    int index = 0;\n",
    "    while (curr != NULL) {\n",
    "        if (curr->value == value) {\n",
    "            return index;\n",
    "        }\n",
    "        curr = curr->next;\n",
    "        index++;\n",
    "    }\n",
    "    return -1;\n",
    "}"
   ]
  }
 ],
 "metadata": {
  "kernelspec": {
   "display_name": "C",
   "language": "c",
   "name": "c"
  },
  "language_info": {
   "file_extension": ".c",
   "mimetype": "c",
   "name": "c"
  }
 },
 "nbformat": 4,
 "nbformat_minor": 5
}
