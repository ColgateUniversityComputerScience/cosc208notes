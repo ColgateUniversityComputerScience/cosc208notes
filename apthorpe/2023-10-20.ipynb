{
 "cells": [
  {
   "cell_type": "markdown",
   "id": "39d76db8-edb9-47d5-bec8-7998805660b3",
   "metadata": {
    "slideshow": {
     "slide_type": "skip"
    },
    "tags": []
   },
   "source": [
    "# Assembly: Tracing assembly code\n",
    "_COSC 208, Introduction to Computer Systems, 2023-10-20_"
   ]
  },
  {
   "cell_type": "markdown",
   "id": "f17866fc-fc93-480c-a9a5-d903a0657063",
   "metadata": {
    "slideshow": {
     "slide_type": "skip"
    },
    "tags": []
   },
   "source": [
    "## Outline\n",
    "* Warm-up\n",
    "* Tracing assembly code\n",
    "* Practice mapping and tracing assembly code"
   ]
  },
  {
   "cell_type": "markdown",
   "id": "e663073f-3384-4891-978a-b8c31d0a6263",
   "metadata": {
    "slideshow": {
     "slide_type": "slide"
    },
    "tags": []
   },
   "source": [
    "## Warm-up"
   ]
  },
  {
   "cell_type": "markdown",
   "id": "841f6f3e-e954-45fa-84fe-951093ec6c77",
   "metadata": {
    "tags": []
   },
   "source": [
    "_For each line of assembly, indicate which original line of C code the assembly instruction was derived from._"
   ]
  },
  {
   "cell_type": "code",
   "execution_count": null,
   "id": "b657c909-c355-4616-ae21-1c17bda7a50d",
   "metadata": {
    "tags": [
     "worksheet-code-only"
    ]
   },
   "outputs": [],
   "source": [
    "/*1*/  int sum(int a, int *b) {\n",
    "/*2*/     int c = *b;\n",
    "/*3*/     int d = a + c;\n",
    "/*4*/     return d;\n",
    "/*5*/  }"
   ]
  },
  {
   "cell_type": "markdown",
   "id": "75bdd247-6d4e-4cb7-89a2-43605269755c",
   "metadata": {
    "slideshow": {
     "slide_type": "skip"
    },
    "tags": [
     "notes-only"
    ]
   },
   "source": [
    "```\n",
    "0000000000400584 <sum>:                            // Line\n",
    "    400584:    d10083ff     sub    sp, sp, #0x20   // 1\n",
    "    400588:    b9001fe0     str    w0, [sp, #28]   // 1\n",
    "    40058c:    f9000be1     str    x1, [sp, #16]   // 1\n",
    "    400590:    f9400be8     ldr    x8, [sp, #16]   // 2\n",
    "    400594:    b9400109     ldr    w9, [x8]        // 2\n",
    "    400598:    b9000fe9     str    w9, [sp, #12]   // 2\n",
    "    40059c:    b9401fe9     ldr    w9, [sp, #28]   // 3\n",
    "    4005a0:    b9400fea     ldr    w10, [sp, #12]  // 3\n",
    "    4005a4:    0b0a0129     add    w9, w9, w10     // 3\n",
    "    4005a8:    b9000be9     str    w9, [sp, #8]    // 3\n",
    "    4005ac:    b9400be0     ldr    w0, [sp, #8]    // 4\n",
    "    4005b0:    910083ff     add    sp, sp, #0x20   // 4\n",
    "    4005b4:    d65f03c0     ret                    // 4\n",
    "```"
   ]
  },
  {
   "cell_type": "markdown",
   "id": "294e188d-21f2-486b-9bdb-84ea6ea5fa7a",
   "metadata": {
    "tags": [
     "worksheet-only"
    ]
   },
   "source": [
    "```\n",
    "0000000000400584 <sum>:\n",
    "    400584:    d10083ff     sub    sp, sp, #0x20\n",
    "    400588:    b9001fe0     str    w0, [sp, #28]\n",
    "    40058c:    f9000be1     str    x1, [sp, #16]\n",
    "    400590:    f9400be8     ldr    x8, [sp, #16]\n",
    "    400594:    b9400109     ldr    w9, [x8]\n",
    "    400598:    b9000fe9     str    w9, [sp, #12]\n",
    "    40059c:    b9401fe9     ldr    w9, [sp, #28]\n",
    "    4005a0:    b9400fea     ldr    w10, [sp, #12]\n",
    "    4005a4:    0b0a0129     add    w9, w9, w10\n",
    "    4005a8:    b9000be9     str    w9, [sp, #8]\n",
    "    4005ac:    b9400be0     ldr    w0, [sp, #8]\n",
    "    4005b0:    910083ff     add    sp, sp, #0x20\n",
    "    4005b4:    d65f03c0     ret\n",
    "```"
   ]
  },
  {
   "cell_type": "markdown",
   "id": "54035356-a49f-4c50-a205-d37070b82906",
   "metadata": {
    "slideshow": {
     "slide_type": "skip"
    },
    "tags": [
     "worksheet-only"
    ]
   },
   "source": [
    "🛑 **STOP here** after completing the above question.\n",
    "\n",
    "<div style=\"page-break-after:always;\"></div>"
   ]
  },
  {
   "cell_type": "markdown",
   "id": "4a887b71-9282-4c01-9b04-fb1a699cdb5f",
   "metadata": {
    "slideshow": {
     "slide_type": "slide"
    },
    "tags": []
   },
   "source": [
    "## Tracing assembly code: Example 1"
   ]
  },
  {
   "cell_type": "markdown",
   "id": "2e44657e-4a15-4b93-a0cb-a8fcf0759a8b",
   "metadata": {
    "tags": []
   },
   "source": [
    "```\n",
    "0000000000400584 <sum>:\n",
    "    400584:    d10083ff     sub    sp, sp, #0x20\n",
    "    400588:    b9001fe0     str    w0, [sp, #28]\n",
    "    40058c:    f9000be1     str    x1, [sp, #16]\n",
    "    400590:    f9400be8     ldr    x8, [sp, #16]\n",
    "    400594:    b9400109     ldr    w9, [x8]\n",
    "    400598:    b9000fe9     str    w9, [sp, #12]\n",
    "    40059c:    b9401fe9     ldr    w9, [sp, #28]\n",
    "    4005a0:    b9400fea     ldr    w10, [sp, #12]\n",
    "    4005a4:    0b0a0129     add    w9, w9, w10\n",
    "    4005a8:    b9000be9     str    w9, [sp, #8]\n",
    "    4005ac:    b9400be0     ldr    w0, [sp, #8]\n",
    "    4005b0:    910083ff     add    sp, sp, #0x20\n",
    "    4005b4:    d65f03c0     ret\n",
    "```"
   ]
  },
  {
   "cell_type": "markdown",
   "id": "050d7b45-5461-479b-908a-20b1211ed04a",
   "metadata": {
    "tags": []
   },
   "source": [
    "* Draw the contents of the stack and registers when the function starts executing. _Assume the registers initially hold the following values:_  \n",
    "```\n",
    "sp = 0xFB0\n",
    "w/x0 = 2\n",
    "w/x1 = 0xFC8 \n",
    "```"
   ]
  },
  {
   "cell_type": "markdown",
   "id": "432d76f9-8881-4a80-8f5c-ede420d51880",
   "metadata": {
    "slideshow": {
     "slide_type": "skip"
    },
    "tags": [
     "notes-only"
    ]
   },
   "source": [
    "```\n",
    " sp -> +--+--+--+--+--+--+--+--+\n",
    " 0xFB0 |                       |\n",
    "       +--+--+--+--+--+--+--+--+\n",
    " 0xFB8 |                       |\n",
    "       +--+--+--+--+--+--+--+--+\n",
    " 0xFC0 |         0xFC8         |\n",
    "       +--+--+--+--+--+--+--+--+\n",
    " 0xFC8 |     3     |     2     |\n",
    "       +--+--+--+--+--+--+--+--+\n",
    " 0xFD0 |       0x400618        |\n",
    "       +--+--+--+--+--+--+--+--+\n",
    " 0xFD8 |                       |\n",
    "       +--+--+--+--+--+--+--+--+\n",
    "```"
   ]
  },
  {
   "cell_type": "markdown",
   "id": "514604e2-5b2a-4420-ac90-168bf23bace3",
   "metadata": {
    "tags": []
   },
   "source": [
    "* Draw the contents of the stack and registers *before* executing second-to-last assembly instruction (`add sp, sp, #0x20`)"
   ]
  },
  {
   "cell_type": "markdown",
   "id": "074cfa08-ce18-4945-82fa-436c485df0bd",
   "metadata": {
    "slideshow": {
     "slide_type": "skip"
    },
    "tags": [
     "notes-only"
    ]
   },
   "source": [
    "```\n",
    "sp = 0xF90\n",
    "w/x0 = 5\n",
    "w/x1 = 0xFC8\n",
    "w/x8 = 0xFC8\n",
    "w/x9 = 5\n",
    "w/x10 = 3\n",
    "```\n",
    "```\n",
    "       0  1  2  3  4  5  6  7  8\n",
    " sp -> +--+--+--+--+--+--+--+--+\n",
    " 0xF90 |                       |\n",
    "       +--+--+--+--+--+--+--+--+\n",
    " 0xF98 |     5     |     3     |\n",
    "       +--+--+--+--+--+--+--+--+\n",
    " 0xFA0 |         0xFC8         |\n",
    "       +--+--+--+--+--+--+--+--+\n",
    " 0xFA8 |           |     2     |\n",
    "       +--+--+--+--+--+--+--+--+\n",
    " 0xFB0 |                       |\n",
    "       +--+--+--+--+--+--+--+--+\n",
    " 0xFB8 |                       |\n",
    "       +--+--+--+--+--+--+--+--+\n",
    " 0xFC0 |         0xFC8         |\n",
    "       +--+--+--+--+--+--+--+--+\n",
    " 0xFC8 |     3     |     2     |\n",
    "       +--+--+--+--+--+--+--+--+\n",
    " 0xFD0 |       0x400618        |\n",
    "       +--+--+--+--+--+--+--+--+\n",
    " 0xFD8 |                       |\n",
    "       +--+--+--+--+--+--+--+--+\n",
    "```"
   ]
  },
  {
   "cell_type": "markdown",
   "id": "d4d57405-00f3-44e6-b142-ca782eb6fbb2",
   "metadata": {
    "slideshow": {
     "slide_type": "subslide"
    },
    "tags": []
   },
   "source": [
    "## Tracing assembly code: Example 2\n",
    "\n",
    "_The following assembly code was generated (using `gcc`) for a C function with the prototype `int years_to_double(int rate)`:_"
   ]
  },
  {
   "cell_type": "markdown",
   "id": "5566264b-da2f-4b0a-b4db-71a3eef1c6ed",
   "metadata": {
    "tags": []
   },
   "source": [
    "```\n",
    "000000000000076c <years_to_double>:\n",
    "    76c:    d10083ff     sub  sp, sp, #0x20\n",
    "    770:    b9000fe0     str  w0, [sp, #12]\n",
    "    774:    52800900     mov  w0, #0x48\n",
    "    778:    b9001be0     str  w0, [sp, #24]\n",
    "    77c:    b9401be1     ldr  w1, [sp, #24]\n",
    "    780:    b9400fe0     ldr  w0, [sp, #12]\n",
    "    784:    1ac00c20     sdiv w0, w1, w0\n",
    "    788:    b9001fe0     str  w0, [sp, #28]\n",
    "    78c:    b9401fe0     ldr  w0, [sp, #28]\n",
    "    790:    910083ff     add  sp, sp, #0x20\n",
    "    794:    d65f03c0     ret\n",
    "```"
   ]
  },
  {
   "cell_type": "markdown",
   "id": "0088141d-c4be-4e30-b6f9-a7a08fd5e2b1",
   "metadata": {
    "tags": []
   },
   "source": [
    "_Assume the registers initially hold the following values:_\n",
    "```\n",
    "sp = 0x780\n",
    "w/x0 = 9\n",
    "```\n",
    "_Draw the contents of the stack and registers just prior to the execution of the second-to-last instruction (`add sp, sp, #0x10`) above._"
   ]
  },
  {
   "cell_type": "markdown",
   "id": "2c8d09c3-e8d0-43d4-9791-b3ec797e4473",
   "metadata": {
    "slideshow": {
     "slide_type": "skip"
    },
    "tags": [
     "notes-only"
    ]
   },
   "source": [
    "```\n",
    "        0  1  2  3  4  5  6  7  8          \n",
    " sp ->  +--+--+--+--+--+--+--+--+\n",
    " 0x760  |                       |\n",
    "        +--+--+--+--+--+--+--+--+\n",
    " 0x768  |           |     9     |\n",
    "        +--+--+--+--+--+--+--+--+\n",
    " 0x770  |                       |\n",
    "        +--+--+--+--+--+--+--+--+\n",
    " 0x778  |    72     |     8     |\n",
    "        +--+--+--+--+--+--+--+--+\n",
    "sp = 0x760\n",
    "w/x0 = 8\n",
    "w/x1 = 72\n",
    "```"
   ]
  },
  {
   "cell_type": "markdown",
   "id": "964a8228-3c0b-4efe-9c87-e3e5e2a901ab",
   "metadata": {
    "slideshow": {
     "slide_type": "skip"
    },
    "tags": [
     "worksheet-only"
    ]
   },
   "source": [
    "<div style=\"page-break-after:always;\"></div>"
   ]
  },
  {
   "cell_type": "markdown",
   "id": "65a65754-337a-4da2-b18b-803c99144bcc",
   "metadata": {
    "slideshow": {
     "slide_type": "subslide"
    },
    "tags": []
   },
   "source": [
    "## Tracing assembly code: Example 3"
   ]
  },
  {
   "cell_type": "markdown",
   "id": "cb5a5104-ea18-4715-bc73-4b050eaf5072",
   "metadata": {
    "tags": []
   },
   "source": [
    "* _The following C code was compiled into assembly (using `gcc`)._"
   ]
  },
  {
   "cell_type": "code",
   "execution_count": null,
   "id": "897583ab-2be7-4e6f-a091-1294e55b439a",
   "metadata": {},
   "outputs": [],
   "source": [
    "/*1*/  int divide(unsigned int numerator, unsigned int denominator) {\n",
    "/*2*/      int result = -1;\n",
    "/*3*/      result = numerator / denominator;\n",
    "/*4*/      return result;\n",
    "/*5*/  }"
   ]
  },
  {
   "cell_type": "markdown",
   "id": "bd3f51f0-54c0-4e36-9987-0ceee9b8c445",
   "metadata": {
    "tags": []
   },
   "source": [
    "_For each line of assembly, indicate which original line of C code the assembly instruction was derived from._"
   ]
  },
  {
   "cell_type": "markdown",
   "id": "e52baf6e-b98a-4d98-a8d4-eb08a6979e2c",
   "metadata": {
    "tags": [
     "worksheet-only"
    ]
   },
   "source": [
    "```\n",
    "000000000000076c <divide>:\n",
    "    76c:    d10083ff     sub    sp, sp, #0x20\n",
    "    770:    b9000fe0     str    w0, [sp, #12]\n",
    "    774:    b9000be1     str    w1, [sp, #8]\n",
    "    778:    12800000     mov    w0, #0xffffffff\n",
    "    77c:    b9001fe0     str    w0, [sp, #28]\n",
    "    780:    b9400fe1     ldr    w1, [sp, #12]\n",
    "    784:    b9400be0     ldr    w0, [sp, #8]\n",
    "    788:    1ac00820     udiv   w0, w1, w0\n",
    "    78c:    b9001fe0     str    w0, [sp, #28]\n",
    "    790:    b9401fe0     ldr    w0, [sp, #28]\n",
    "    794:    910083ff     add    sp, sp, #0x20\n",
    "    798:    d65f03c0     ret\n",
    "```"
   ]
  },
  {
   "cell_type": "markdown",
   "id": "dba391ce-853c-43a6-b3c9-4bbf4e14b630",
   "metadata": {
    "slideshow": {
     "slide_type": "subslide"
    },
    "tags": [
     "notes-only"
    ]
   },
   "source": [
    "```\n",
    "000000000000076c <divide>:                      // Line\n",
    "    76c:    d10083ff     sub    sp, sp, #0x20   // 1\n",
    "    770:    b9000fe0     str    w0, [sp, #12]   // 1\n",
    "    774:    b9000be1     str    w1, [sp, #8]    // 1\n",
    "    778:    12800000     mov    w0, #0xffffffff // 2\n",
    "    77c:    b9001fe0     str    w0, [sp, #28]   // 2\n",
    "    780:    b9400fe1     ldr    w1, [sp, #12]   // 3\n",
    "    784:    b9400be0     ldr    w0, [sp, #8]    // 3\n",
    "    788:    1ac00820     udiv   w0, w1, w0      // 3\n",
    "    78c:    b9001fe0     str    w0, [sp, #28]   // 3\n",
    "    790:    b9401fe0     ldr    w0, [sp, #28]   // 4\n",
    "    794:    910083ff     add    sp, sp, #0x20   // 4\n",
    "    798:    d65f03c0     ret                    // 4\n",
    "```"
   ]
  },
  {
   "cell_type": "markdown",
   "id": "74afdce8-a887-45c9-96f5-a2405c243cf7",
   "metadata": {
    "tags": []
   },
   "source": [
    "_Assume the registers initially hold the following values:_\n",
    "```\n",
    "sp = 0xFE0\n",
    "w/x0 = 100\n",
    "w/x1 = 5\n",
    "```\n",
    "_Draw the contents of the stack and registers just prior to the execution of the second-to-last instruction (`add sp, sp, #0x10`) above._"
   ]
  },
  {
   "cell_type": "markdown",
   "id": "108c5ecc-4b86-4333-a74b-3684e2b2f2b0",
   "metadata": {
    "slideshow": {
     "slide_type": "skip"
    },
    "tags": [
     "notes-only"
    ]
   },
   "source": [
    "```\n",
    "        0  1  2  3  4  5  6  7  8          \n",
    " sp ->  +--+--+--+--+--+--+--+--+\n",
    " 0xFC0  |                       |\n",
    "        +--+--+--+--+--+--+--+--+\n",
    " 0xFC8  |     5     |    100    |\n",
    "        +--+--+--+--+--+--+--+--+\n",
    " 0xFD0  |                       |\n",
    "        +--+--+--+--+--+--+--+--+\n",
    " 0xFD8  |           |     20    |\n",
    "        +--+--+--+--+--+--+--+--+\n",
    "sp = 0xFC0\n",
    "w/x0 = 20\n",
    "w/x1 = 100\n",
    "```"
   ]
  }
 ],
 "metadata": {
  "kernelspec": {
   "display_name": "C",
   "language": "c",
   "name": "c"
  },
  "language_info": {
   "file_extension": ".c",
   "mimetype": "text/plain",
   "name": "c"
  }
 },
 "nbformat": 4,
 "nbformat_minor": 5
}
