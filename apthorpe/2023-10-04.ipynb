{
 "cells": [
  {
   "cell_type": "markdown",
   "id": "275f3326-b6de-4d7d-b41a-f17ec6a57354",
   "metadata": {
    "slideshow": {
     "slide_type": "skip"
    },
    "tags": []
   },
   "source": [
    "# Program memory: structs\n",
    "_COSC 208, Introduction to Computer Systems, 2023-10-04_"
   ]
  },
  {
   "cell_type": "markdown",
   "id": "a7371c38-99e5-4d3b-84f0-4631ba82a38b",
   "metadata": {
    "slideshow": {
     "slide_type": "skip"
    },
    "tags": []
   },
   "source": [
    "## Announcements\n",
    "* Project 2 due Thurs, Oct 19 @ 11pm"
   ]
  },
  {
   "cell_type": "markdown",
   "id": "bede1ded-97f6-4a28-9335-116fd9ea868f",
   "metadata": {
    "slideshow": {
     "slide_type": "skip"
    },
    "tags": []
   },
   "source": [
    "## Outline\n",
    "* Warm-up\n",
    "* Structs\n",
    "* Pointers to structs"
   ]
  },
  {
   "cell_type": "markdown",
   "id": "21816ff4-52c0-4680-95b9-3142e9d79121",
   "metadata": {
    "slideshow": {
     "slide_type": "subslide"
    },
    "tags": []
   },
   "source": [
    "## Warm-up\n",
    "* Q1: _Draw a memory diagram depicting the contents of the stack and heap immediately before the function `elongate(\"dog\")` returns._"
   ]
  },
  {
   "cell_type": "code",
   "execution_count": 7,
   "id": "3a6a07d5-e7ce-42cf-813c-edc1ad554ed8",
   "metadata": {
    "tags": [
     "worksheet-code-only"
    ]
   },
   "outputs": [],
   "source": [
    "#include <string.h>\n",
    "#include <stdlib.h>\n",
    "char **elongate(char *str) {\n",
    "    char **result = malloc(sizeof(char *) * strlen(str));\n",
    "    for (int i = 0; i < strlen(str); i++) {\n",
    "        result[i] = malloc(sizeof(char) * (i + 2));\n",
    "        for (int j = 0; j < i+1; j++) {\n",
    "            result[i][j] = str[j];\n",
    "        }\n",
    "        result[i][i+1] = '\\0';\n",
    "    }\n",
    "    return result;\n",
    "}\n",
    "int main() {\n",
    "    elongate(\"dog\");\n",
    "}"
   ]
  },
  {
   "cell_type": "markdown",
   "id": "82e20379-0fc0-44b0-a1c4-19513714d02f",
   "metadata": {
    "slideshow": {
     "slide_type": "skip"
    },
    "tags": [
     "worksheet-only"
    ]
   },
   "source": [
    "<p style=\"height:26em;\"></p>\n",
    "\n",
    "🛑 **STOP here** after completing the above question; if you have extra time please **skip ahead** to the extra practice."
   ]
  },
  {
   "cell_type": "markdown",
   "id": "2c76560a-a1c7-43f5-a940-560af91fba0b",
   "metadata": {
    "slideshow": {
     "slide_type": "slide"
    },
    "tags": []
   },
   "source": [
    "## Structs"
   ]
  },
  {
   "cell_type": "markdown",
   "id": "722a6a82-151f-40e0-a5a6-1b0c5b4ced57",
   "metadata": {
    "slideshow": {
     "slide_type": "skip"
    },
    "tags": [
     "notes-only"
    ]
   },
   "source": [
    "* _How is a struct declared?_\n",
    "* _How are fields of the struct accessed?_ — with the dot (.) operator"
   ]
  },
  {
   "cell_type": "code",
   "execution_count": 1,
   "id": "a0d0edb7-0ced-45fd-a3d6-a8ada34dffab",
   "metadata": {
    "slideshow": {
     "slide_type": "skip"
    },
    "tags": [
     "notes-only"
    ]
   },
   "outputs": [],
   "source": [
    "#include <string.h>\n",
    "\n",
    "struct tvshow {\n",
    "    char name[100];\n",
    "    int season;\n",
    "};\n",
    "\n",
    "int main() {\n",
    "    struct tvshow favorite;\n",
    "    strncpy(favorite.name, \"This Old House\", 100);\n",
    "    favorite.season = 44;\n",
    "}"
   ]
  },
  {
   "cell_type": "markdown",
   "id": "9a910310-98ac-4c76-931d-a0c29d4f0ad0",
   "metadata": {
    "slideshow": {
     "slide_type": "skip"
    },
    "tags": [
     "notes-only"
    ]
   },
   "source": [
    "* A struct is a collection of values; it is **not** an object, and hence cannot have methods associated with it\n",
    "* A struct variable holds *values* for the fields of the struct; it is **not** a reference to the struct, and hence a copy of the values are passed to functions"
   ]
  },
  {
   "cell_type": "markdown",
   "id": "2de4cbda-f5a2-4a9a-932d-a9a15ae0c79a",
   "metadata": {
    "slideshow": {
     "slide_type": "subslide"
    },
    "tags": []
   },
   "source": [
    "* Q2: _What is the output of this program?_"
   ]
  },
  {
   "cell_type": "code",
   "execution_count": 4,
   "id": "e0695a07-c658-41b1-ae0d-c181c4de24ed",
   "metadata": {
    "tags": [
     "worksheet-code-only"
    ]
   },
   "outputs": [
    {
     "name": "stdout",
     "output_type": "stream",
     "text": [
      "a Colgate 0\n",
      "b 5 6\n",
      "c 5 2\n"
     ]
    }
   ],
   "source": [
    "#include <stdio.h>\n",
    "struct alpha {\n",
    "    char x[10];\n",
    "    int y;\n",
    "};\n",
    "struct beta {\n",
    "    int b;\n",
    "    int c;\n",
    "};\n",
    "int main() {\n",
    "    struct alpha a = { \"Colgate\", 13 };\n",
    "    struct beta b = { 1, 2 };\n",
    "    struct beta c = { 3, 4 };\n",
    "    a.y += -13;\n",
    "    b.b = 5;\n",
    "    c = b;\n",
    "    b.c = 6;\n",
    "    printf(\"a %s %d\\n\", a.x, a.y);\n",
    "    printf(\"b %d %d\\n\", b.b, b.c);\n",
    "    printf(\"c %d %d\\n\", c.b, c.c);\n",
    "}"
   ]
  },
  {
   "cell_type": "markdown",
   "id": "cb7e687a-9449-4eeb-9358-0a97d7f61245",
   "metadata": {
    "slideshow": {
     "slide_type": "skip"
    },
    "tags": [
     "worksheet-only"
    ]
   },
   "source": [
    "<p style=\"height:5em;\"></p>\n",
    "\n",
    "🛑 **STOP here** after completing the above question; if you have extra time please **skip ahead** to the extra practice.\n",
    "\n",
    "<div style=\"page-break-after:always;\"></div>"
   ]
  },
  {
   "cell_type": "markdown",
   "id": "0240a85c-a7f7-412f-a3af-58590814caaf",
   "metadata": {
    "slideshow": {
     "slide_type": "slide"
    },
    "tags": []
   },
   "source": [
    "## Pointers to structs"
   ]
  },
  {
   "cell_type": "markdown",
   "id": "3f1ca05d-7f2a-40b2-a828-e3542be5fc7e",
   "metadata": {
    "slideshow": {
     "slide_type": "skip"
    },
    "tags": [
     "notes-only"
    ]
   },
   "source": [
    "* _How do you get a pointer to a struct?_\n",
    "    * Use address-of (`&`) operator with a parameter/local variable\n",
    "    * Allocate space on the heap\n",
    "* _How do you access a struct's fields through a pointer to the struct?_\n",
    "    * `(*ptr).field`\n",
    "        * Don't do `*ptr.field` — it will try to dereference `field` not `ptr`, because `.` has higher precedence than `*`\n",
    "    * `ptr->field`"
   ]
  },
  {
   "cell_type": "code",
   "execution_count": 1,
   "id": "63a444c1-5e8a-4da5-b121-7bdfaa89629e",
   "metadata": {
    "slideshow": {
     "slide_type": "skip"
    },
    "tags": [
     "notes-only"
    ]
   },
   "outputs": [
    {
     "name": "stdout",
     "output_type": "stream",
     "text": [
      "There are 6 seasons of Mega Builders\n"
     ]
    }
   ],
   "source": [
    "#include <stdlib.h>\n",
    "#include <stdio.h>\n",
    "\n",
    "struct tvshow {\n",
    "    char name[100];\n",
    "    int seasons;\n",
    "};\n",
    "\n",
    "int main() {\n",
    "    struct tvshow *favorite2 = malloc(sizeof(struct tvshow));\n",
    "    (*favorite2).seasons = 6;\n",
    "    strcpy(favorite2->name, \"Mega Builders\");\n",
    "    printf(\"There are %d seasons of %s\\n\", favorite2->seasons, (*favorite2).name);\n",
    "}"
   ]
  },
  {
   "cell_type": "markdown",
   "id": "424b7008-bc95-4e34-a329-9c0a151bd0cd",
   "metadata": {},
   "source": [
    "* Assume you are given the following code:"
   ]
  },
  {
   "cell_type": "code",
   "execution_count": null,
   "id": "bf408ca4-ef1e-467a-99d9-e4342b92f0ff",
   "metadata": {},
   "outputs": [],
   "source": [
    "struct account {\n",
    "    int number; // Account number\n",
    "    int balance; // Current account balance\n",
    "};\n",
    "int deposit(struct account *acct, int amount);\n",
    "int transfer(struct account *from, struct account *to, int amount);\n",
    "struct account *open_account(int starting);\n",
    "int close_account(struct account *acct);"
   ]
  },
  {
   "cell_type": "markdown",
   "id": "37539476-e8a0-4d07-aafa-6e3a59199f8c",
   "metadata": {},
   "source": [
    "* Q3: _Write the `deposit` function, which adds `amount` to the balance of `acct`. The function should return the amount deposited._"
   ]
  },
  {
   "cell_type": "markdown",
   "id": "2dbd75c7-897d-4bb5-938c-9eff048d73e7",
   "metadata": {
    "slideshow": {
     "slide_type": "skip"
    },
    "tags": [
     "worksheet-only"
    ]
   },
   "source": [
    "<p style=\"height:10em;\"></p>"
   ]
  },
  {
   "cell_type": "markdown",
   "id": "c3954347-8f7a-48f5-8ce9-9c3f182d4b6d",
   "metadata": {},
   "source": [
    "* Q4: _Write the `transfer` function which moves `amount` from one account to another. The function should return the amount transferred if the transfer was successful or 0 otherwise._"
   ]
  },
  {
   "cell_type": "markdown",
   "id": "f55d6eb1-227e-47bf-ace1-549cd81f01c2",
   "metadata": {
    "slideshow": {
     "slide_type": "skip"
    },
    "tags": [
     "worksheet-only"
    ]
   },
   "source": [
    "<p style=\"height:10em;\"></p>"
   ]
  },
  {
   "cell_type": "markdown",
   "id": "b2c0e808-6437-46dc-9b73-0f7f72c97d6e",
   "metadata": {},
   "source": [
    "* Q5: _Write the `open_account` function, which creates a new account with a random account number and the specified `starting` balance._"
   ]
  },
  {
   "cell_type": "markdown",
   "id": "0c9ea212-2b5d-42c3-9d0f-c1933c3988a9",
   "metadata": {
    "slideshow": {
     "slide_type": "skip"
    },
    "tags": [
     "worksheet-only"
    ]
   },
   "source": [
    "<p style=\"height:10em;\"></p>"
   ]
  },
  {
   "cell_type": "markdown",
   "id": "ff3ad879-9a16-4368-a33c-51ef4a06997a",
   "metadata": {},
   "source": [
    "* Q6: _Write the `close_account` function, which eliminates the account `acct` and returns the remaining balance._"
   ]
  },
  {
   "cell_type": "markdown",
   "id": "d2f07330-355a-4d8a-bbaa-f6762beb2128",
   "metadata": {
    "slideshow": {
     "slide_type": "skip"
    },
    "tags": [
     "worksheet-only"
    ]
   },
   "source": [
    "<p style=\"height:10em;\"></p>\n",
    "\n",
    "🛑 **STOP here** after completing the above questions; if you have extra time please **skip ahead** to the extra practice.\n",
    "\n",
    "<div style=\"page-break-after:always;\"></div>"
   ]
  },
  {
   "cell_type": "code",
   "execution_count": 26,
   "id": "ccc999d2-bcd4-4539-b83c-68df344c7d50",
   "metadata": {
    "slideshow": {
     "slide_type": "skip"
    },
    "tags": [
     "notes-only"
    ]
   },
   "outputs": [
    {
     "name": "stdout",
     "output_type": "stream",
     "text": [
      "Acct 1 (000016807): $150\n",
      "Acct 1 (000016807): $75\n",
      "Acct 2 (282475249): $275\n"
     ]
    }
   ],
   "source": [
    "#include <stdlib.h>\n",
    "struct account {\n",
    "    int number; // Account number\n",
    "    int balance; // Current account balance\n",
    "};\n",
    "int deposit(struct account *acct, int amount) {\n",
    "    acct->balance += amount;\n",
    "    return amount;\n",
    "}\n",
    "int transfer(struct account *from, struct account *to, int amount) {\n",
    "    if (from->balance < amount) {\n",
    "        return 0;\n",
    "    }\n",
    "    from->balance -= amount;\n",
    "    to->balance += amount;\n",
    "    return amount;\n",
    "}\n",
    "struct account *open_account(int starting) {\n",
    "    struct account *new = malloc(sizeof(struct account));\n",
    "    new->number = rand();\n",
    "    new->balance = starting;\n",
    "    return new;\n",
    "}\n",
    "int close_account(struct account *acct) {\n",
    "    int remain = acct->balance;\n",
    "    free(acct);\n",
    "    return remain;\n",
    "}\n",
    "// Testing\n",
    "#include <stdio.h>\n",
    "int main() {\n",
    "    struct account *acct1 = open_account(100);\n",
    "    deposit(acct1, 50);\n",
    "    printf(\"Acct 1 (%09d): $%d\\n\", acct1->number, acct1->balance);\n",
    "    struct account *acct2 = open_account(200);\n",
    "    transfer(acct1, acct2, 75);\n",
    "    printf(\"Acct 1 (%09d): $%d\\n\", acct1->number, acct1->balance);\n",
    "    printf(\"Acct 2 (%09d): $%d\\n\", acct2->number, acct2->balance);\n",
    "    close_account(acct1);\n",
    "    close_account(acct2);\n",
    "}"
   ]
  },
  {
   "cell_type": "markdown",
   "id": "117bb607-1a26-43bf-a5d0-d539889fc42e",
   "metadata": {
    "slideshow": {
     "slide_type": "slide"
    },
    "tags": []
   },
   "source": [
    "## Extra practice"
   ]
  },
  {
   "cell_type": "markdown",
   "id": "5ec4ee81-9334-48c1-929f-f6a636dc390f",
   "metadata": {},
   "source": [
    "* Q7: _What is the output of this program?_"
   ]
  },
  {
   "cell_type": "code",
   "execution_count": 2,
   "id": "1442ae57-4b3f-4c9a-b36f-c00a66dfcfc0",
   "metadata": {
    "tags": [
     "worksheet-code-only"
    ]
   },
   "outputs": [
    {
     "name": "stdout",
     "output_type": "stream",
     "text": [
      "2 1\n",
      "44 40\n"
     ]
    }
   ],
   "source": [
    "#include <stdio.h>\n",
    "struct one {\n",
    "    char x;\n",
    "    char y;\n",
    "};\n",
    "struct two {\n",
    "    int m;\n",
    "    int n[10];\n",
    "};\n",
    "int main() {\n",
    "    struct one a;\n",
    "    struct two b;\n",
    "    printf(\"%d %d\\n\", sizeof(struct one), sizeof(a.y));\n",
    "    printf(\"%d %d\\n\", sizeof(b), sizeof(b.n));\n",
    "}"
   ]
  },
  {
   "cell_type": "markdown",
   "id": "d2e394e5-849c-4618-ad60-2fd82398fc90",
   "metadata": {
    "slideshow": {
     "slide_type": "skip"
    },
    "tags": [
     "worksheet-only"
    ]
   },
   "source": [
    "<p style=\"height:5em;\"></p>"
   ]
  },
  {
   "cell_type": "markdown",
   "id": "0ac7c0f6-e986-4e98-8fcd-0df50aeffda1",
   "metadata": {},
   "source": [
    "* Q8: _Write a struct definition to represent a date (year, month number, and day)._"
   ]
  },
  {
   "cell_type": "code",
   "execution_count": null,
   "id": "1807e029-a2ca-4af6-a2a1-14e1e272ec10",
   "metadata": {
    "slideshow": {
     "slide_type": "skip"
    },
    "tags": [
     "notes-only"
    ]
   },
   "outputs": [],
   "source": [
    "struct date {\n",
    "    int year;\n",
    "    int month;\n",
    "    int day;\n",
    "};"
   ]
  },
  {
   "cell_type": "markdown",
   "id": "d7fb6923-b842-4430-8ddb-4054748453ac",
   "metadata": {
    "slideshow": {
     "slide_type": "skip"
    },
    "tags": [
     "worksheet-only"
    ]
   },
   "source": [
    "<p style=\"height:10em;\"></p>"
   ]
  },
  {
   "cell_type": "markdown",
   "id": "c197d434-c7b7-4c5e-9bf0-95697000966b",
   "metadata": {},
   "source": [
    "* Q9: _Write a function called `compare` that takes two date structs and returns -1 if the first date occurs before the second, 0 if the dates are equal, and 1 if the first date occurs after the second._"
   ]
  },
  {
   "cell_type": "code",
   "execution_count": null,
   "id": "88a3ca2a-eeee-446f-bcea-03654584426c",
   "metadata": {
    "slideshow": {
     "slide_type": "skip"
    },
    "tags": [
     "notes-only"
    ]
   },
   "outputs": [],
   "source": [
    "int compare(struct date a, struct date b) {\n",
    "        if (a.year < b.year) {\n",
    "            return -1;\n",
    "        } else if (b.year < a.year) {\n",
    "            return 1;\n",
    "        } else {\n",
    "            if (a.month < b.month) {\n",
    "                return -1;\n",
    "            } else if (b.month < a.month) {\n",
    "                return 1;\n",
    "            } else { \n",
    "                if (a.day < b.day) {\n",
    "                    return -1;\n",
    "                } else if (b.day < a.day) {\n",
    "                    return 1;\n",
    "                } else {\n",
    "                    return 0;\n",
    "                }\n",
    "            }\n",
    "        }\n",
    "    }"
   ]
  }
 ],
 "metadata": {
  "kernelspec": {
   "display_name": "C",
   "language": "c",
   "name": "c"
  },
  "language_info": {
   "file_extension": ".c",
   "mimetype": "c",
   "name": "c"
  }
 },
 "nbformat": 4,
 "nbformat_minor": 5
}
