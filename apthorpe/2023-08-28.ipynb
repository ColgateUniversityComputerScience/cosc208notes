{
 "cells": [
  {
   "cell_type": "markdown",
   "id": "27238286-82f8-4b20-9519-25e5c0306d19",
   "metadata": {
    "slideshow": {
     "slide_type": "skip"
    },
    "tags": []
   },
   "source": [
    "# C: compilation; types; operators; output\n",
    "_COSC 208, Introduction to Computer Systems, 2023-01-25_"
   ]
  },
  {
   "cell_type": "markdown",
   "id": "0b9670ce-4f41-42c5-8f64-3b012fa73629",
   "metadata": {
    "slideshow": {
     "slide_type": "slide"
    },
    "tags": [
     "notes-only"
    ]
   },
   "source": [
    "## Announcements\n",
    "* Before next class: Read Dive Into Systems 1.3-1.4.0 and answer pre-class questions"
   ]
  },
  {
   "cell_type": "markdown",
   "id": "d7ffb82e-b020-48e1-b9e8-0bb6f3efc52e",
   "metadata": {
    "tags": [
     "notes-only"
    ]
   },
   "source": [
    "## Outline\n",
    "* Warm-up: Hello, C\n",
    "* Hello, C\n",
    "* Types\n",
    "* Operators\n",
    "* Output"
   ]
  },
  {
   "cell_type": "markdown",
   "id": "d2e86b2c-26ba-4f29-bc58-50726d54e80e",
   "metadata": {
    "slideshow": {
     "slide_type": "slide"
    },
    "tags": []
   },
   "source": [
    "## Warm-up: Hello, C\n",
    "* Q1: Write a C program that prints \"Hello, C!\""
   ]
  },
  {
   "cell_type": "code",
   "execution_count": 3,
   "id": "44bb68c6-f0df-45a9-bbe6-04e59475c90e",
   "metadata": {
    "slideshow": {
     "slide_type": "skip"
    },
    "tags": [
     "notes-only"
    ]
   },
   "outputs": [
    {
     "name": "stdout",
     "output_type": "stream",
     "text": [
      "Hello, C!\n"
     ]
    }
   ],
   "source": [
    "#include <stdio.h>\n",
    "int main() {\n",
    "    printf(\"Hello, C!\\n\");\n",
    "    return 0;\n",
    "}"
   ]
  },
  {
   "cell_type": "markdown",
   "id": "fa13ab5d-b0e0-4808-9145-86784f46549e",
   "metadata": {
    "slideshow": {
     "slide_type": "skip"
    },
    "tags": [
     "worksheet-only"
    ]
   },
   "source": [
    "<div style=\"height:10em;\"></div>\n",
    "\n",
    "🛑 Stop here after completing the warm-up; please **do not** work ahead"
   ]
  },
  {
   "cell_type": "markdown",
   "id": "10c98bd9-e2d3-4312-a402-804ecf67c83e",
   "metadata": {
    "slideshow": {
     "slide_type": "skip"
    },
    "tags": [
     "notes-only"
    ]
   },
   "source": [
    "* _How do you compile the program?_\n",
    "```bash\n",
    "$ clang -Wall -Werror -o hello hello.c\n",
    "```\n",
    "* _How do you run the program?_\n",
    "```bash\n",
    "$ ./hello\n",
    "```"
   ]
  },
  {
   "cell_type": "markdown",
   "id": "bdcd8afd-9e72-4fb8-8540-8b683a3f6ffe",
   "metadata": {
    "slideshow": {
     "slide_type": "slide"
    },
    "tags": [
     "notes-only"
    ]
   },
   "source": [
    "## Primitive types\n",
    "* Most common types\n",
    "    * `char` — integers -128...127; integers 0...127 correspond to ASCII characters\n",
    "    * `int` — integers -2.1 billion...2.1 billion\n",
    "    * `long `— integers -9 quintillion...9 quintillion\n",
    "* Add `unsigned` in front of these types for a range from 0 to 255, 0 to 4.2 billion, or 0 to 18 quintillion, respectively"
   ]
  },
  {
   "cell_type": "markdown",
   "id": "fe6f16e7-e2f6-4166-9a32-173bec203023",
   "metadata": {
    "slideshow": {
     "slide_type": "slide"
    },
    "tags": []
   },
   "source": [
    "## Operators"
   ]
  },
  {
   "cell_type": "markdown",
   "id": "b64c3ec5-9975-48c6-bf71-e18ed432787d",
   "metadata": {
    "tags": []
   },
   "source": [
    "* _How would I increment the number stored in a variable `x` by `1`?_"
   ]
  },
  {
   "cell_type": "markdown",
   "id": "934f45e5-1b56-4e62-ad55-f9d8fda35e73",
   "metadata": {
    "slideshow": {
     "slide_type": "skip"
    },
    "tags": [
     "notes-only"
    ]
   },
   "source": [
    "* `x = x + 1`\n",
    "* `x += 1`\n",
    "* `x++`\n",
    "* `++x`"
   ]
  },
  {
   "cell_type": "markdown",
   "id": "2517ac4d-0dd6-422f-b977-0233b4cbc474",
   "metadata": {
    "slideshow": {
     "slide_type": "subslide"
    },
    "tags": []
   },
   "source": [
    "* _What is the output of each of the following programs?_"
   ]
  },
  {
   "cell_type": "code",
   "execution_count": 2,
   "id": "2c9762f6-8e20-4c5a-b471-9a6121a80b22",
   "metadata": {
    "tags": [
     "worksheet-code-only"
    ]
   },
   "outputs": [
    {
     "name": "stdout",
     "output_type": "stream",
     "text": [
      "6 4 20 20 19 18 18"
     ]
    }
   ],
   "source": [
    "//Q2\n",
    "#include <stdio.h>\n",
    "int main() {\n",
    "    int x = 1;\n",
    "    int y = 2;\n",
    "    x = x+5;\n",
    "    printf(\"%d \", x);\n",
    "    x = y*2;\n",
    "    printf(\"%d \", x);\n",
    "    x *= 5;\n",
    "    printf(\"%d \", x);\n",
    "    printf(\"%d \", x--);\n",
    "    printf(\"%d \", x);\n",
    "    printf(\"%d \", --x);\n",
    "    printf(\"%d\", x);\n",
    "}"
   ]
  },
  {
   "cell_type": "code",
   "execution_count": 3,
   "id": "540cdec9-5847-46ca-bb70-a9da17cb94ef",
   "metadata": {
    "slideshow": {
     "slide_type": "subslide"
    },
    "tags": [
     "worksheet-code-only"
    ]
   },
   "outputs": [
    {
     "name": "stdout",
     "output_type": "stream",
     "text": [
      "2 1\n"
     ]
    }
   ],
   "source": [
    "//Q3\n",
    "#include <stdio.h>\n",
    "int main() {\n",
    "    int x = 5;\n",
    "    int y = x/2;\n",
    "    int z = x%2;\n",
    "    printf(\"%d %d\\n\", y, z);\n",
    "}"
   ]
  },
  {
   "cell_type": "code",
   "execution_count": 6,
   "id": "83eb9ddc-6d3b-4098-8e06-8f3ceb201023",
   "metadata": {
    "slideshow": {
     "slide_type": "subslide"
    },
    "tags": [
     "worksheet-code-only"
    ]
   },
   "outputs": [
    {
     "name": "stdout",
     "output_type": "stream",
     "text": [
      "F 70\n"
     ]
    }
   ],
   "source": [
    "//Q4\n",
    "#include <stdio.h>\n",
    "int main() {\n",
    "    int x = 5;\n",
    "    char y = 'A';\n",
    "    y = y + x;\n",
    "    printf(\"%c %d\\n\", y, y);\n",
    "}"
   ]
  },
  {
   "cell_type": "markdown",
   "id": "4e604e77-8f66-4698-bfcf-8b8fc2b6969b",
   "metadata": {
    "slideshow": {
     "slide_type": "skip"
    },
    "tags": [
     "worksheet-only"
    ]
   },
   "source": [
    "🛑 Stop here after completing the above questions; if you have extra time please **skip ahead** to the extra practice."
   ]
  },
  {
   "cell_type": "markdown",
   "id": "df8ee455-e3ea-46b2-bf63-ee1faf0fff54",
   "metadata": {
    "slideshow": {
     "slide_type": "slide"
    },
    "tags": []
   },
   "source": [
    "## Output"
   ]
  },
  {
   "cell_type": "markdown",
   "id": "f1d1b5b7-4ea5-4e60-84a8-04c7509b24d4",
   "metadata": {
    "slideshow": {
     "slide_type": "skip"
    },
    "tags": [
     "notes-only"
    ]
   },
   "source": [
    "* What is the syntax for `printf`?\n",
    "    * `printf(FORMAT_STRING, VALUES, ...);`\n",
    "    * `FORMAT_STRING` is a string constant (sequence of characters surrounded by double quotes) that may optionally include format specifiers\n",
    "    * Format specifiers define how to convert a value to a string\n",
    "        * `%d` decimal (i.e., base 10) number\n",
    "        * `%c` character\n",
    "        * `%x` hexadecimal (i.e., base 16) number\n",
    "        * `%s` string — more on this next week\n",
    "    * After the format string, include a value for each format specifier\n",
    "        * A compile error will occur if the number of format specifiers does not match the number of values\n",
    "        * A compile warning will occur if the value type does not match the format specifier"
   ]
  },
  {
   "cell_type": "markdown",
   "id": "f57da81b-afeb-4eb0-b787-74fdc5f8eb63",
   "metadata": {},
   "source": [
    "* Q5: _Assume the variables `year`, `month` and `day` contain the parts of a date. Use `printf` to output the data (e.g., `2023-1-25`)_"
   ]
  },
  {
   "cell_type": "code",
   "execution_count": null,
   "id": "8cd22d32-caea-4e8e-9a26-b2505b03ec2c",
   "metadata": {
    "slideshow": {
     "slide_type": "skip"
    },
    "tags": [
     "notes-only"
    ]
   },
   "outputs": [],
   "source": [
    "printf(\"%d-%d-%d\\n\", year, month, day);"
   ]
  },
  {
   "cell_type": "markdown",
   "id": "6530237f-c8ce-4a45-af45-436d67764a89",
   "metadata": {
    "tags": [
     "worksheet-only"
    ]
   },
   "source": [
    "<div style=\"height:2em;\"></div>"
   ]
  },
  {
   "cell_type": "markdown",
   "id": "d3a4a1a8-59b3-44d9-b6d5-6e28243fc085",
   "metadata": {},
   "source": [
    "* Q6: _Assume the variables `length` and `width` contain the dimensions of a sports field/court. Use `printf` to output the dimensions (`94ft x 50ft`)_"
   ]
  },
  {
   "cell_type": "code",
   "execution_count": null,
   "id": "56cdd775-c0ed-4da4-adbc-f2a066501aab",
   "metadata": {
    "slideshow": {
     "slide_type": "skip"
    },
    "tags": [
     "notes-only"
    ]
   },
   "outputs": [],
   "source": [
    "printf(\"%dft x %dft\\n\", length, width);"
   ]
  },
  {
   "cell_type": "markdown",
   "id": "6151c627-bdd5-4b8d-abea-011af51f33b4",
   "metadata": {
    "tags": [
     "worksheet-only"
    ]
   },
   "source": [
    "<div style=\"height:2em;\"></div>"
   ]
  },
  {
   "cell_type": "markdown",
   "id": "4aefc349-3e67-4a25-8aea-8449e39da49c",
   "metadata": {},
   "source": [
    "* Q7: _Assume the variables `first` and `last` contain a patient's first and last initial, and the variables `systolic` and `diastolic` contain the patient's blood pressure readings. Use `printf` to output the patient's initials and blood pressure (e.g., `A.G. 115/70`)_"
   ]
  },
  {
   "cell_type": "code",
   "execution_count": null,
   "id": "11cebc9f-e991-46cf-aff2-f242c9f57605",
   "metadata": {
    "slideshow": {
     "slide_type": "skip"
    },
    "tags": [
     "notes-only"
    ]
   },
   "outputs": [],
   "source": [
    "printf(\"%c.%c. %d/%d\\n\", first, last, systolic, diastolic);"
   ]
  },
  {
   "cell_type": "markdown",
   "id": "81655d37-22d3-45db-b4ef-4fc3d772fa5d",
   "metadata": {
    "tags": [
     "worksheet-only"
    ]
   },
   "source": [
    "<div style=\"height:2em;\"></div>"
   ]
  },
  {
   "cell_type": "markdown",
   "id": "550d2dc4-fb27-40c8-9f8f-5eb48dbc3806",
   "metadata": {
    "slideshow": {
     "slide_type": "slide"
    },
    "tags": []
   },
   "source": [
    "## Extra practice\n",
    "* Q8: _Write a program that computes and displays the number of minutes in a year._"
   ]
  },
  {
   "cell_type": "code",
   "execution_count": 8,
   "id": "29a937f6-137c-4171-a208-d7e3087b5146",
   "metadata": {
    "slideshow": {
     "slide_type": "skip"
    },
    "tags": [
     "notes-only"
    ]
   },
   "outputs": [
    {
     "name": "stdout",
     "output_type": "stream",
     "text": [
      "525600 minutes\n"
     ]
    }
   ],
   "source": [
    "#include <stdio.h>\n",
    "int main() {\n",
    "    int minutes = 365 * 24 * 60;\n",
    "    printf(\"%d minutes\\n\", minutes);\n",
    "    return 0;\n",
    "}"
   ]
  }
 ],
 "metadata": {
  "kernelspec": {
   "display_name": "Python 3 (ipykernel)",
   "language": "python",
   "name": "python3"
  },
  "language_info": {
   "codemirror_mode": {
    "name": "ipython",
    "version": 3
   },
   "file_extension": ".py",
   "mimetype": "text/x-python",
   "name": "python",
   "nbconvert_exporter": "python",
   "pygments_lexer": "ipython3",
   "version": "3.10.11"
  }
 },
 "nbformat": 4,
 "nbformat_minor": 5
}
