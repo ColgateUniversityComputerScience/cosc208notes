{
 "cells": [
  {
   "cell_type": "markdown",
   "id": "f118a68e-b3cd-442e-acc0-dbdb88e2ac71",
   "metadata": {
    "slideshow": {
     "slide_type": "skip"
    },
    "tags": []
   },
   "source": [
    "# Program memory: Pointers\n",
    "_COSC 208, Introduction to Computer Systems, 2023-09-13_"
   ]
  },
  {
   "cell_type": "markdown",
   "id": "2e151983-f748-442d-ba12-1631d274caa4",
   "metadata": {
    "slideshow": {
     "slide_type": "skip"
    },
    "tags": []
   },
   "source": [
    "## Announcements\n",
    "* Project 1 due Thurs, Sept 21 @ 11pm"
   ]
  },
  {
   "cell_type": "markdown",
   "id": "a8c78c4d-4fe8-4ebf-b714-fd762523ea7f",
   "metadata": {
    "slideshow": {
     "slide_type": "skip"
    },
    "tags": []
   },
   "source": [
    "## Outline\n",
    "* Warm-up\n",
    "* Pointers\n",
    "* Pointers as parameters"
   ]
  },
  {
   "cell_type": "markdown",
   "id": "7606c4a3-294e-4e04-915e-7532e29199ba",
   "metadata": {},
   "source": [
    "## Warm-up"
   ]
  },
  {
   "cell_type": "markdown",
   "id": "ab3cfa21-0b85-45fe-ac75-71f6139412f4",
   "metadata": {},
   "source": [
    "_Apply the following bitwise operations_"
   ]
  },
  {
   "cell_type": "markdown",
   "id": "4c7582d5-b23a-4edc-94f1-d1dc06583d8f",
   "metadata": {},
   "source": [
    "* Q1: `0b0011 & 0b0101`"
   ]
  },
  {
   "cell_type": "markdown",
   "id": "426a29c3-3b8e-47f5-97ed-80de7c5be158",
   "metadata": {
    "slideshow": {
     "slide_type": "skip"
    },
    "tags": [
     "notes-only"
    ]
   },
   "source": [
    "    0b0001"
   ]
  },
  {
   "cell_type": "markdown",
   "id": "37aecbf2-d41e-4ca2-b043-bf2b940549e8",
   "metadata": {
    "slideshow": {
     "slide_type": "skip"
    },
    "tags": [
     "worksheet-only"
    ]
   },
   "source": [
    "<p style=\"height:3em;\"></p>"
   ]
  },
  {
   "cell_type": "markdown",
   "id": "ac9f7a6b-696b-4c4d-aee3-5d8b6d108d4b",
   "metadata": {},
   "source": [
    "* Q2: `0b0011 | 0b0101`"
   ]
  },
  {
   "cell_type": "markdown",
   "id": "6b3a3879-38f7-4142-be81-087cf638f6e5",
   "metadata": {
    "slideshow": {
     "slide_type": "skip"
    },
    "tags": [
     "notes-only"
    ]
   },
   "source": [
    "    0b0111"
   ]
  },
  {
   "cell_type": "markdown",
   "id": "6b742abd-0c20-41b6-af42-de90be8bfaf4",
   "metadata": {
    "slideshow": {
     "slide_type": "skip"
    },
    "tags": [
     "worksheet-only"
    ]
   },
   "source": [
    "<p style=\"height:3em;\"></p>"
   ]
  },
  {
   "cell_type": "markdown",
   "id": "ba948425-519a-444d-b7b3-a0bd79bb6b37",
   "metadata": {},
   "source": [
    "* Q3: `0b0011 ^ 0b0101`"
   ]
  },
  {
   "cell_type": "markdown",
   "id": "1e448e86-1d7e-4939-9131-3f0c311a7604",
   "metadata": {
    "slideshow": {
     "slide_type": "skip"
    },
    "tags": [
     "notes-only"
    ]
   },
   "source": [
    "    0b0110"
   ]
  },
  {
   "cell_type": "markdown",
   "id": "420a5751-847e-43b4-aa60-399788f3aa6c",
   "metadata": {
    "slideshow": {
     "slide_type": "skip"
    },
    "tags": [
     "worksheet-only"
    ]
   },
   "source": [
    "<p style=\"height:3em;\"></p>\n",
    "\n",
    "🛑 **STOP here** after completing the above questions; if you have extra time please **skip ahead** to the extra practice."
   ]
  },
  {
   "cell_type": "markdown",
   "id": "7a44398a-2dfb-432a-a901-e4e693180735",
   "metadata": {
    "slideshow": {
     "slide_type": "slide"
    },
    "tags": []
   },
   "source": [
    "## Pointers"
   ]
  },
  {
   "cell_type": "markdown",
   "id": "d0b355f2-bbe2-4fce-b0ec-07767710dc7a",
   "metadata": {
    "slideshow": {
     "slide_type": "skip"
    },
    "tags": [
     "notes-only"
    ]
   },
   "source": [
    "* A special type of variable that holds a memory address\n",
    "    * A pointer \"points to\" a location in memory\n",
    "* Declaration consists of:\n",
    "    * Type of value stored in memory at the address stored in the pointer variable\n",
    "    * Asterisk (`*`)\n",
    "    * Name of pointer variable\n",
    "    * Example: `int *p` — declares a pointer variable `p` that refers to a memory location where an integer is stored\n",
    "* Can be used to indirectly read and write another variable\n",
    "* Address-of (`&`) operator obtains the memory address where a variable is stored\n",
    "* De-reference (*) operator is used to refer to the value stored at the memory address contained in the pointer variable"
   ]
  },
  {
   "cell_type": "markdown",
   "id": "c4c9228a-78f7-4591-8050-b17de849783f",
   "metadata": {
    "tags": []
   },
   "source": [
    "* Example"
   ]
  },
  {
   "cell_type": "code",
   "execution_count": 12,
   "id": "cf497146-21f9-4e41-83fe-1ffbed147074",
   "metadata": {
    "tags": [
     "worksheet-code-only"
    ]
   },
   "outputs": [
    {
     "name": "stdout",
     "output_type": "stream",
     "text": [
      "0x7ff7b8d6d4bc\n",
      "42\n",
      "43 43\n"
     ]
    }
   ],
   "source": [
    "#include <stdio.h>\n",
    "int main() {\n",
    "    int i = 42;\n",
    "    int *p = &i; // p now contains the address where the \n",
    "                 //     value of variable i is stored\n",
    "                 // p “points-to” i\n",
    "    printf(\"%p\\n\", p);\n",
    "    printf(\"%d\\n\", *p); // Outputs 42, because p contains the memory address \n",
    "                       //     where i is stored (i.e., p points-to i), and the \n",
    "                       //     variable i currently contains the value 42\n",
    "    *p = *p + 1; // Updates the value in variable i to 43, because p \n",
    "                 //     contains the memory address where i is stored \n",
    "                 //     (i.e., p points-to i)\n",
    "    printf(\"%d %d\\n\", i, *p);\n",
    "}"
   ]
  },
  {
   "cell_type": "markdown",
   "id": "e9631700-ab3d-43ea-b138-a9660e30239b",
   "metadata": {
    "slideshow": {
     "slide_type": "skip"
    },
    "tags": [
     "worksheet-only"
    ]
   },
   "source": [
    "<div style=\"page-break-after:always;\"></div>"
   ]
  },
  {
   "cell_type": "markdown",
   "id": "ab308741-cd58-4d58-b9e4-f03bb67c2de9",
   "metadata": {
    "slideshow": {
     "slide_type": "skip"
    },
    "tags": [
     "notes-only"
    ]
   },
   "source": [
    "* _What happens if we assign a value to the pointer variable without dereferencing the pointer?_ — we update the memory address stored in the pointer variable; we point to a new location in memory"
   ]
  },
  {
   "cell_type": "markdown",
   "id": "902e9d6d-9acf-420d-8e17-59e63871ef0a",
   "metadata": {
    "slideshow": {
     "slide_type": "subslide"
    },
    "tags": []
   },
   "source": [
    "* Q4: _What does the following program output?_"
   ]
  },
  {
   "cell_type": "code",
   "execution_count": 7,
   "id": "f550b42a-b3e5-4ca3-b7e4-07054e3ccac6",
   "metadata": {
    "tags": [
     "worksheet-code-only"
    ]
   },
   "outputs": [
    {
     "name": "stdout",
     "output_type": "stream",
     "text": [
      "1 2 1 2\n",
      "5 7 5 7\n",
      "9 10 9 10\n",
      "9 10 10 10\n"
     ]
    }
   ],
   "source": [
    "#include <stdio.h>\n",
    "int main() {\n",
    "    int a = 1;\n",
    "    int b = 2;\n",
    "    int *x = &a;\n",
    "    int *y = &b;\n",
    "    printf(\"%d %d %d %d\\n\", a, b, *x, *y);\n",
    "    a = 5;\n",
    "    *y = 7;\n",
    "    printf(\"%d %d %d %d\\n\", a, b, *x, *y);\n",
    "    *x = *x + 4;\n",
    "    b = b + 3;\n",
    "    printf(\"%d %d %d %d\\n\", a, b, *x, *y);\n",
    "    x = y;\n",
    "    printf(\"%d %d %d %d\\n\", a, b, *x, *y);\n",
    "}"
   ]
  },
  {
   "cell_type": "markdown",
   "id": "e3f4c647-84aa-42dd-9174-4145e347575c",
   "metadata": {
    "slideshow": {
     "slide_type": "skip"
    },
    "tags": [
     "worksheet-only"
    ]
   },
   "source": [
    "<p style=\"height:6em;\"></p>"
   ]
  },
  {
   "cell_type": "markdown",
   "id": "36b00a5f-e834-438b-bf1b-1ef92b074737",
   "metadata": {
    "slideshow": {
     "slide_type": "subslide"
    },
    "tags": []
   },
   "source": [
    "* Q5: _Write a program that:_\n",
    "    1. _Stores the character 'A' in a variable_\n",
    "    2. _Creates and uses a pointer to print the character_\n",
    "    3. _Uses the same pointer to change the character to 'B'_\n",
    "    4. _Uses the same pointer to advance the character by 3 (to 'E')_\n",
    "    5. _Creates and uses a second pointer to print the character_"
   ]
  },
  {
   "cell_type": "code",
   "execution_count": 8,
   "id": "f5581994-5b1b-4a85-8b2a-a47eda62a603",
   "metadata": {
    "slideshow": {
     "slide_type": "skip"
    },
    "tags": [
     "notes-only"
    ]
   },
   "outputs": [
    {
     "name": "stdout",
     "output_type": "stream",
     "text": [
      "A\n",
      "E\n"
     ]
    }
   ],
   "source": [
    "#include <stdio.h>\n",
    "int main() {\n",
    "    char ch = 'A';\n",
    "    char *ptr = &ch;\n",
    "    printf(\"%c\\n\", *ptr);\n",
    "    *ptr = 'B';\n",
    "    *ptr = *ptr + 3;\n",
    "    char *ptr2 = ptr;\n",
    "    printf(\"%c\\n\", *ptr2);\n",
    "}"
   ]
  },
  {
   "cell_type": "markdown",
   "id": "7c54a332-505a-4c66-975d-dc9ba6a161f3",
   "metadata": {
    "slideshow": {
     "slide_type": "skip"
    },
    "tags": [
     "worksheet-only"
    ]
   },
   "source": [
    "<p style=\"height:15em;\"></p>\n",
    "\n",
    "🛑 **STOP here** after completing the above questions; if you have extra time please **skip ahead** to the extra practice.\n",
    "\n",
    "<div style=\"page-break-after:always;\"></div>"
   ]
  },
  {
   "cell_type": "markdown",
   "id": "1a34c66e-e778-4b10-ad0a-7efbb9ef4333",
   "metadata": {
    "slideshow": {
     "slide_type": "slide"
    },
    "tags": []
   },
   "source": [
    "## Pointers as parameters"
   ]
  },
  {
   "cell_type": "markdown",
   "id": "e1056f79-e17b-47b9-90ff-3771d6805c31",
   "metadata": {
    "slideshow": {
     "slide_type": "skip"
    },
    "tags": [
     "notes-only"
    ]
   },
   "source": [
    "* Functions can take pointers as parameters\n",
    "    * Similar to a pointer declaration, include an asterisk before the parameter name: e.g., `void foo(int *a)`\n",
    "    * Function gets a copy of the memory address stored in the pointer variable, not a copy of the value stored at that memory address"
   ]
  },
  {
   "cell_type": "markdown",
   "id": "8d7510d3-bbb5-4362-934c-2c026fa83106",
   "metadata": {},
   "source": [
    "* Example"
   ]
  },
  {
   "cell_type": "code",
   "execution_count": 10,
   "id": "a2f895de-6993-4edb-8fac-e5424cf73645",
   "metadata": {
    "tags": [
     "worksheet-code-only"
    ]
   },
   "outputs": [
    {
     "name": "stdout",
     "output_type": "stream",
     "text": [
      "1\n",
      "3\n"
     ]
    }
   ],
   "source": [
    "#include <stdio.h>\n",
    "void value(int a) {\n",
    "    a = 2;\n",
    "}\n",
    "void pointer(int *b) {\n",
    "    *b = 3;\n",
    "}\n",
    "int main() {\n",
    "    int v = 1;\n",
    "    int *p = &v;\n",
    "    value(v);\n",
    "    printf(\"%d\\n\", v);\n",
    "    pointer(p);\n",
    "    printf(\"%d\\n\", v);\n",
    "}"
   ]
  },
  {
   "cell_type": "markdown",
   "id": "1e25234d-195e-438f-a7c3-8b25b49fcf00",
   "metadata": {
    "slideshow": {
     "slide_type": "subslide"
    },
    "tags": []
   },
   "source": [
    "* Q6: _What does the following program output?_"
   ]
  },
  {
   "cell_type": "code",
   "execution_count": 16,
   "id": "28bcb6e8-a292-4fc8-bf66-63075cc83b2c",
   "metadata": {
    "tags": [
     "worksheet-code-only"
    ]
   },
   "outputs": [
    {
     "name": "stdout",
     "output_type": "stream",
     "text": [
      "1 2\n",
      "3 4\n",
      "6 6\n"
     ]
    }
   ],
   "source": [
    "#include <stdio.h>\n",
    "void copy1(int a, int b) {\n",
    "    a = b;\n",
    "}\n",
    "void copy2(int *c, int *d) {\n",
    "    c = d;\n",
    "}\n",
    "void copy3(int *e, int *f) {\n",
    "    *e = *f;\n",
    "}\n",
    "int main() {\n",
    "    int q = 1;\n",
    "    int r = 2;\n",
    "    copy1(q, r);\n",
    "    printf(\"%d %d\\n\", q, r);\n",
    "    int s = 3;\n",
    "    int t = 4;\n",
    "    copy2(&s, &t);\n",
    "    printf(\"%d %d\\n\", s, t);\n",
    "    int u = 5;\n",
    "    int v = 6;\n",
    "    copy3(&u, &v);\n",
    "    printf(\"%d %d\\n\", u, v);\n",
    "}"
   ]
  },
  {
   "cell_type": "markdown",
   "id": "c2d079d7-104a-490a-955c-ceaf3fdfaecf",
   "metadata": {
    "slideshow": {
     "slide_type": "skip"
    },
    "tags": [
     "worksheet-only"
    ]
   },
   "source": [
    "<div style=\"page-break-after:always;\"></div>"
   ]
  },
  {
   "cell_type": "markdown",
   "id": "f7dd2803-3e93-4ea4-8b75-d8529c21700d",
   "metadata": {
    "slideshow": {
     "slide_type": "subslide"
    },
    "tags": []
   },
   "source": [
    "* Q7: _Write a function called `add` which takes an integer (`num`) and an integer pointer (`ptr`) and adds `num` to the value `ptr` points to._\n",
    "    \n",
    "    _Also write a `main` function which:_\n",
    "    1. _Stores `20` in a variable_\n",
    "    2. _Calls `add` with the number `5` and a pointer to the aforementioned variable_\n",
    "    3. _Prints the value stored in the variable after `add` returns_"
   ]
  },
  {
   "cell_type": "code",
   "execution_count": 13,
   "id": "6da26909-0180-40a1-8154-edc0d476772f",
   "metadata": {
    "slideshow": {
     "slide_type": "skip"
    },
    "tags": [
     "notes-only"
    ]
   },
   "outputs": [
    {
     "name": "stdout",
     "output_type": "stream",
     "text": [
      "25\n"
     ]
    }
   ],
   "source": [
    "#include <stdio.h>\n",
    "void add(int num, int *ptr) {\n",
    "    *ptr = *ptr + num;\n",
    "}\n",
    "int main() {\n",
    "    int x = 20;\n",
    "    add(5, &x);\n",
    "    printf(\"%d\\n\", x);\n",
    "}"
   ]
  },
  {
   "cell_type": "markdown",
   "id": "3424f2fc-02ac-4adc-af52-e51539b6bbe3",
   "metadata": {
    "slideshow": {
     "slide_type": "skip"
    },
    "tags": [
     "worksheet-only"
    ]
   },
   "source": [
    "<p style=\"height:15em;\"></p>"
   ]
  },
  {
   "cell_type": "markdown",
   "id": "03c8fd1b-baa7-4538-b928-44361efee780",
   "metadata": {
    "slideshow": {
     "slide_type": "slide"
    },
    "tags": []
   },
   "source": [
    "## Extra practice\n",
    "_For each of the following expressions, select all operators that make the expression evaluate to true. Operands are encoded using two's complement._\n",
    "\n",
    "* Q8: `0b110000 __ 0b111111`  \n",
    "```\n",
    "&   &&   |   ||   ^   <\n",
    "```"
   ]
  },
  {
   "cell_type": "markdown",
   "id": "9f1a7e98-55b4-4d30-b56b-5ce9c1f3f83b",
   "metadata": {
    "slideshow": {
     "slide_type": "skip"
    },
    "tags": [
     "notes-only"
    ]
   },
   "source": [
    "`&`, `&&`, `|`, `||`, `^`, `<`"
   ]
  },
  {
   "cell_type": "markdown",
   "id": "7d543134-07fd-4236-ab45-dec309bdd6af",
   "metadata": {},
   "source": [
    "* Q9: `0b011110 __ 0b000001`  \n",
    "```\n",
    "&   &&   |   ||   ^   <\n",
    "```"
   ]
  },
  {
   "cell_type": "markdown",
   "id": "d09958bd-25f8-4b38-9719-ae4ff0cbf968",
   "metadata": {
    "slideshow": {
     "slide_type": "skip"
    },
    "tags": [
     "notes-only"
    ]
   },
   "source": [
    "`&&`, `|`, `||`, `^`"
   ]
  },
  {
   "cell_type": "markdown",
   "id": "472c6a70-cb63-4ba0-a8c4-84c101bc327a",
   "metadata": {},
   "source": [
    "* Q10: `0b000000 __ 0b000000`  \n",
    "```\n",
    "&   &&   |   ||   ^   <\n",
    "```"
   ]
  },
  {
   "cell_type": "markdown",
   "id": "641abc28-3177-48fe-8e66-9a220b65e150",
   "metadata": {
    "slideshow": {
     "slide_type": "skip"
    },
    "tags": [
     "notes-only"
    ]
   },
   "source": [
    "_none_"
   ]
  },
  {
   "cell_type": "markdown",
   "id": "2bf95705-3126-4305-ad7e-d3bf338cafff",
   "metadata": {},
   "source": [
    "* Q11: `0b000111 __ 0b000111`  \n",
    "```\n",
    "&   &&   |   ||   ^   <\n",
    "```"
   ]
  },
  {
   "cell_type": "markdown",
   "id": "de520e4a-4e80-49f8-90b9-f31a5013d46c",
   "metadata": {
    "slideshow": {
     "slide_type": "skip"
    },
    "tags": [
     "notes-only"
    ]
   },
   "source": [
    "`&`, `&&`, `|`, `||`"
   ]
  }
 ],
 "metadata": {
  "kernelspec": {
   "display_name": "C",
   "language": "c",
   "name": "c"
  },
  "language_info": {
   "file_extension": ".c",
   "mimetype": "text/plain",
   "name": "c"
  }
 },
 "nbformat": 4,
 "nbformat_minor": 5
}
