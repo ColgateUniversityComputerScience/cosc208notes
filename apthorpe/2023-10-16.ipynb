{
 "cells": [
  {
   "cell_type": "markdown",
   "id": "39d76db8-edb9-47d5-bec8-7998805660b3",
   "metadata": {
    "slideshow": {
     "slide_type": "skip"
    },
    "tags": []
   },
   "source": [
    "# Assembly: Operations and operands; mapping assembly to C\n",
    "_COSC 208, Introduction to Computer Systems, 2023-10-16_"
   ]
  },
  {
   "cell_type": "markdown",
   "id": "37653a99-1c8a-47ac-b68c-6e7336bb8328",
   "metadata": {
    "slideshow": {
     "slide_type": "slide"
    },
    "tags": []
   },
   "source": [
    "## Announcements\n",
    "* Exam 1 grades on Moodle\n",
    "* Testing output for Exam 1 coding portion in Github repositories\n",
    "* Project 2 due Thursday @ 11pm"
   ]
  },
  {
   "cell_type": "markdown",
   "id": "f17866fc-fc93-480c-a9a5-d903a0657063",
   "metadata": {
    "slideshow": {
     "slide_type": "slide"
    },
    "tags": []
   },
   "source": [
    "## Outline\n",
    "* Processor design"
   ]
  },
  {
   "cell_type": "markdown",
   "id": "e663073f-3384-4891-978a-b8c31d0a6263",
   "metadata": {
    "slideshow": {
     "slide_type": "slide"
    },
    "tags": []
   },
   "source": [
    "## Processor Design "
   ]
  },
  {
   "cell_type": "markdown",
   "id": "841f6f3e-e954-45fa-84fe-951093ec6c77",
   "metadata": {},
   "source": [
    "* Q1: _Draw the circuitry for a processing unit that has two general purpose registers (r0 and r1) and supports four bitwise operations (`&`, `|`, `^`, `~`). Assume you already have storage, MUX, DMUX, and bitwise operations (`&`, `|`, `^`, `~`) circuits available as building blocks._"
   ]
  },
  {
   "cell_type": "markdown",
   "id": "27c0c763-8dc3-43f5-a971-291eaaede49b",
   "metadata": {
    "slideshow": {
     "slide_type": "skip"
    },
    "tags": [
     "notes-only"
    ]
   },
   "source": [
    "![](images/circuits/processing_unit_with_bitwise_operators.png)"
   ]
  },
  {
   "cell_type": "markdown",
   "id": "97fc1e1b-1232-4764-baea-c1663e278316",
   "metadata": {
    "slideshow": {
     "slide_type": "skip"
    },
    "tags": [
     "worksheet-only"
    ]
   },
   "source": [
    "<p style=\"height:25em;\"></p>"
   ]
  },
  {
   "cell_type": "markdown",
   "id": "e7bb1719-9d74-40c9-bb60-b965fe8ff2a0",
   "metadata": {},
   "source": [
    "* Q2: _For this processor's assembly language, how many bits are required for the operation code?_"
   ]
  },
  {
   "cell_type": "markdown",
   "id": "9f2afe8b-1b95-469b-a663-edf5d2279cf8",
   "metadata": {
    "slideshow": {
     "slide_type": "skip"
    },
    "tags": [
     "notes-only"
    ]
   },
   "source": [
    "    2"
   ]
  },
  {
   "cell_type": "markdown",
   "id": "294e188d-21f2-486b-9bdb-84ea6ea5fa7a",
   "metadata": {
    "slideshow": {
     "slide_type": "skip"
    },
    "tags": [
     "worksheet-only"
    ]
   },
   "source": [
    "<p style=\"height:3em;\"></p>"
   ]
  },
  {
   "cell_type": "markdown",
   "id": "05f6d312-533d-4a42-9525-5463975d865c",
   "metadata": {},
   "source": [
    "* Q3: _For this processor's assembly language, how many bits are required for a complete instruction?_"
   ]
  },
  {
   "cell_type": "markdown",
   "id": "a183a7f3-c4c4-4989-b707-d26cf7eeeb3c",
   "metadata": {
    "slideshow": {
     "slide_type": "skip"
    },
    "tags": [
     "notes-only"
    ]
   },
   "source": [
    "    5"
   ]
  },
  {
   "cell_type": "markdown",
   "id": "2f5e89d1-c803-49cc-9685-3323ac221248",
   "metadata": {
    "slideshow": {
     "slide_type": "skip"
    },
    "tags": [
     "worksheet-only"
    ]
   },
   "source": [
    "<p style=\"height:3em;\"></p>"
   ]
  },
  {
   "cell_type": "markdown",
   "id": "c71569cc-92ae-481f-b239-da00270df6bd",
   "metadata": {
    "slideshow": {
     "slide_type": "subslide"
    },
    "tags": []
   },
   "source": [
    "* Q4: _What is the binary representation of the assembly instruction for `r0 = r0 ^ r1`?_"
   ]
  },
  {
   "cell_type": "markdown",
   "id": "e5dc84d5-d3ed-4aea-9129-666f5113a154",
   "metadata": {
    "slideshow": {
     "slide_type": "skip"
    },
    "tags": [
     "notes-only"
    ]
   },
   "source": [
    "    0b10001"
   ]
  },
  {
   "cell_type": "markdown",
   "id": "2d715950-951b-43ce-b4ef-a632906415c9",
   "metadata": {},
   "source": [
    "* Q5: _If the processing unit is fed the instruction `0b11110` what will the processing unit do?_"
   ]
  },
  {
   "cell_type": "markdown",
   "id": "5c8267db-bb07-4d1c-a541-d3431889e57f",
   "metadata": {
    "slideshow": {
     "slide_type": "skip"
    },
    "tags": [
     "notes-only"
    ]
   },
   "source": [
    "    r1 = ~r1"
   ]
  },
  {
   "cell_type": "markdown",
   "id": "3d844a74-c3b7-4f13-9a26-b854b67bcc95",
   "metadata": {
    "slideshow": {
     "slide_type": "skip"
    },
    "tags": [
     "worksheet-only"
    ]
   },
   "source": [
    "<p style=\"height:3em;\"></p>"
   ]
  },
  {
   "cell_type": "markdown",
   "id": "b3adbf2a-cc95-42fc-93b3-95a3227ada15",
   "metadata": {},
   "source": [
    "* Q6: _If the processing unit you is fed the instruction `0b11111` what will the processing unit do?_"
   ]
  },
  {
   "cell_type": "markdown",
   "id": "90af86ee-f0c9-4204-bff4-c62996d599b2",
   "metadata": {
    "slideshow": {
     "slide_type": "skip"
    },
    "tags": [
     "notes-only"
    ]
   },
   "source": [
    "    r1 = ~r1"
   ]
  },
  {
   "cell_type": "markdown",
   "id": "4bd4fb79-817e-49ac-93e9-c22f70ece720",
   "metadata": {
    "slideshow": {
     "slide_type": "skip"
    },
    "tags": [
     "worksheet-only"
    ]
   },
   "source": [
    "<p style=\"height:3em;\"></p>"
   ]
  },
  {
   "cell_type": "markdown",
   "id": "f75226b5-f47a-4077-96bd-4405d599ecbe",
   "metadata": {},
   "source": [
    "* Q7: _If the processing unit contained 16 registers instead of 2, how many bits would be required for a complete assembly instruction?_"
   ]
  },
  {
   "cell_type": "markdown",
   "id": "dc16435c-13d4-4b98-b944-56b3c2ee1abf",
   "metadata": {
    "slideshow": {
     "slide_type": "skip"
    },
    "tags": [
     "notes-only"
    ]
   },
   "source": [
    "    14 = 2 + 4 + 4 + 4"
   ]
  },
  {
   "cell_type": "markdown",
   "id": "cd70fa23-bb0c-4f14-8200-01b40457f94f",
   "metadata": {
    "slideshow": {
     "slide_type": "skip"
    },
    "tags": [
     "worksheet-only"
    ]
   },
   "source": [
    "<p style=\"height:3em;\"></p>"
   ]
  },
  {
   "cell_type": "markdown",
   "id": "b9352283-676c-437f-bbb5-e4f5cbcc1835",
   "metadata": {
    "slideshow": {
     "slide_type": "slide"
    },
    "tags": []
   },
   "source": [
    "## Extra practice"
   ]
  },
  {
   "cell_type": "markdown",
   "id": "aedc67e3-8fd8-447d-9483-c4e6d1d10faf",
   "metadata": {},
   "source": [
    "* Q9: _Draw the circuitry for a processing unit that has four general purpose registers (r0-r3) and supports four operations:_\n",
    "    * `nop`: no operation; do nothing\n",
    "    * `mov`: copy a value from one register to another\n",
    "    * `movc`: store a constant value into a register, where the constant comes from the last four bits of the instruction\n",
    "    * `add`: add the values in two registers and store the result in a register"
   ]
  },
  {
   "cell_type": "markdown",
   "id": "5450a0be-093f-4e55-99c1-642048db99a3",
   "metadata": {
    "slideshow": {
     "slide_type": "skip"
    },
    "tags": [
     "notes-only"
    ]
   },
   "source": [
    "![](images/circuits/processing_unit_with_special_operators.png)"
   ]
  }
 ],
 "metadata": {
  "kernelspec": {
   "display_name": "C",
   "language": "c",
   "name": "c"
  },
  "language_info": {
   "file_extension": ".c",
   "mimetype": "c",
   "name": "c"
  }
 },
 "nbformat": 4,
 "nbformat_minor": 5
}
