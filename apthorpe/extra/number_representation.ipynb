{
 "cells": [
  {
   "cell_type": "markdown",
   "id": "62140b78-d352-42d9-8ac6-0acac5fccd6a",
   "metadata": {},
   "source": [
    "## Warm-up\n",
    "_Apply the following bitwise operations_\n",
    "* Q1: `0b0011 & 0b0101`\n",
    "* Q2: `0b0011 | 0b0101`\n",
    "* Q3: `0b0011 ^ 0b0101`"
   ]
  },
  {
   "cell_type": "code",
   "execution_count": null,
   "id": "084dcde3-90e7-4b0b-b4fa-7d728d33ec74",
   "metadata": {},
   "outputs": [],
   "source": []
  }
 ],
 "metadata": {
  "kernelspec": {
   "display_name": "C",
   "language": "c",
   "name": "c"
  },
  "language_info": {
   "file_extension": ".c",
   "mimetype": "c",
   "name": "c"
  }
 },
 "nbformat": 4,
 "nbformat_minor": 5
}
