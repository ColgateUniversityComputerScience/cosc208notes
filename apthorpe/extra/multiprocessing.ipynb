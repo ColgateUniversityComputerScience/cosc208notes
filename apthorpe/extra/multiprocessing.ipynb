{
 "cells": [
  {
   "cell_type": "markdown",
   "id": "d3799aa7-bcc1-48db-8d12-50ce74742553",
   "metadata": {
    "slideshow": {
     "slide_type": "slide"
    },
    "tags": []
   },
   "source": [
    "## Waiting for processes"
   ]
  },
  {
   "cell_type": "markdown",
   "id": "13cea485-540f-4e04-bbe4-7d709c54ba43",
   "metadata": {
    "slideshow": {
     "slide_type": "skip"
    },
    "tags": [
     "notes-only"
    ]
   },
   "source": [
    "* Wait for any child to finish — `int wait(int *status)`\n",
    "    * Returns PID of the child process that finished\n",
    "    * `status` parameter is optional\n",
    "        * if passed a valid integer pointer, `wait` will store the return value of the child process's `main` function at the referenced memory location\n",
    "        * if return value of child process's main function is not needed, then pass `NULL`\n",
    "* Wait for a specific process to finish — `int waitpid(pid_t pid, int *status, int options)`\n",
    "    * Returns PID of the process that finished\n",
    "    * `pid` is PID if process to wait for — need not be a child process\n",
    "    * `status` is the same as `wait`\n",
    "    * `options` is typically `0`, except in special circumstances\n",
    "* Wait functions do not return until child or specific process, respectively, finishes"
   ]
  },
  {
   "cell_type": "markdown",
   "id": "8bb5ea47-9c6d-43f3-b806-5fd2aeefa2dc",
   "metadata": {},
   "source": [
    "* Q4: _What are all possible outputs of this program?_"
   ]
  },
  {
   "cell_type": "code",
   "execution_count": null,
   "id": "f274cc31-eafa-43d0-ab3b-db6ea89f01c6",
   "metadata": {
    "tags": [
     "worksheet-code-only"
    ]
   },
   "outputs": [
    {
     "name": "stdout",
     "output_type": "stream",
     "text": [
      "Child\n",
      "Parent\n"
     ]
    }
   ],
   "source": [
    "#include <stdio.h>\n",
    "#include <unistd.h>\n",
    "int main() {\n",
    "    int pid = fork();\n",
    "    if (pid < 0) {\n",
    "        printf(\"Fork failed\\n\");\n",
    "        return 1;\n",
    "    } else if (pid == 0) {\n",
    "        printf(\"Child\\n\");\n",
    "    } else {\n",
    "        wait(NULL);\n",
    "        printf(\"Parent\\n\");\n",
    "    }\n",
    "    return 0;\n",
    "}"
   ]
  },
  {
   "cell_type": "markdown",
   "id": "1f01d048-ba50-42a9-8733-05dd4307aa9e",
   "metadata": {
    "slideshow": {
     "slide_type": "skip"
    },
    "tags": [
     "worksheet-only"
    ]
   },
   "source": [
    "<p style=\"height:12em;\"></p>"
   ]
  },
  {
   "cell_type": "markdown",
   "id": "a2449d03-331c-4609-85c1-96cfbdc469b6",
   "metadata": {
    "slideshow": {
     "slide_type": "subslide"
    },
    "tags": []
   },
   "source": [
    "* Q5: _What are all possible outputs of this program (assuming the new process has PID 13346)?_"
   ]
  },
  {
   "cell_type": "code",
   "execution_count": null,
   "id": "e786ab4f-1d44-4258-8996-3c2f230cfc81",
   "metadata": {},
   "outputs": [],
   "source": [
    "#include <stdio.h>\n",
    "#include <unistd.h>\n",
    "int main() {\n",
    "    int pid = fork();\n",
    "    printf(\"A %d\\n\", pid);\n",
    "    if (pid < 0) {\n",
    "        printf(\"Fork failed\\n\");\n",
    "        return 1;\n",
    "    } else if (pid == 0) {\n",
    "        printf(\"B\\n\");\n",
    "    } else {\n",
    "        wait(NULL);\n",
    "        printf(\"C\\n\");\n",
    "    }\n",
    "}"
   ]
  },
  {
   "cell_type": "markdown",
   "id": "27bee0e8-fe5a-49a3-8ace-7c34c0d90f3d",
   "metadata": {
    "slideshow": {
     "slide_type": "skip"
    },
    "tags": [
     "notes-only"
    ]
   },
   "source": [
    "```\n",
    "A 0\n",
    "A 13346\n",
    "B\n",
    "C\n",
    "```\n",
    "OR\n",
    "```\n",
    "A 13346\n",
    "A 0\n",
    "B\n",
    "C\n",
    "```\n",
    "OR\n",
    "```\n",
    "A 0\n",
    "B\n",
    "A 13346\n",
    "C\n",
    "```"
   ]
  },
  {
   "cell_type": "markdown",
   "id": "b5be4592-146c-42fc-8eff-bea4e3c41de4",
   "metadata": {},
   "source": [
    "## Extra practice"
   ]
  },
  {
   "cell_type": "markdown",
   "id": "d9529194-f909-4b50-9436-2d3a6403bc55",
   "metadata": {
    "slideshow": {
     "slide_type": "skip"
    },
    "tags": [
     "worksheet-only"
    ]
   },
   "source": [
    "* Q5: _What are all possible outputs produced by this program?_\n",
    "    ```C\n",
    "    #include <stdio.h>\n",
    "    #include <stdlib.h>\n",
    "    #include <unistd.h>\n",
    "    #include <sys/wait.h>\n",
    "    int main() {\n",
    "        int pid = fork();\n",
    "        if (pid == 0) {\n",
    "            printf(\"Child\\n\");\n",
    "            exit(22);\n",
    "        } else {\n",
    "            int status = 0;\n",
    "            wait(&status);\n",
    "            printf(\"Status %d\\n\", WEXITSTATUS(status));\n",
    "            exit(44);\n",
    "        }\n",
    "    }\n",
    "    ```\n",
    "    ```\n",
    "    Child\n",
    "    Status 22\n",
    "    ```"
   ]
  }
 ],
 "metadata": {
  "kernelspec": {
   "display_name": "C",
   "language": "c",
   "name": "c"
  },
  "language_info": {
   "file_extension": ".c",
   "mimetype": "c",
   "name": "c"
  }
 },
 "nbformat": 4,
 "nbformat_minor": 5
}
