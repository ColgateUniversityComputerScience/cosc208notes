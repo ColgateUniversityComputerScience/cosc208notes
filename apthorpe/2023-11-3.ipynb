{
 "cells": [
  {
   "cell_type": "markdown",
   "id": "ffc437ac-d10b-4d12-895d-712e9c2057b5",
   "metadata": {
    "slideshow": {
     "slide_type": "skip"
    },
    "tags": []
   },
   "source": [
    "# Multiprocessing: Processes; fork\n",
    "_COSC 208, Introduction to Computer Systems, 2023-11-03_"
   ]
  },
  {
   "cell_type": "markdown",
   "id": "c377c966-ee4b-4990-a6e6-a2d8f327a112",
   "metadata": {
    "slideshow": {
     "slide_type": "slide"
    },
    "tags": []
   },
   "source": [
    "## Announcements\n",
    "* Project 3 due Thursday, Nov 9"
   ]
  },
  {
   "cell_type": "markdown",
   "id": "377e6d68-2202-4782-afc7-a43582630f55",
   "metadata": {
    "slideshow": {
     "slide_type": "slide"
    },
    "tags": []
   },
   "source": [
    "## Outline\n",
    "* System calls continued\n",
    "* Process abstraction\n",
    "* Creating processes (`fork`)"
   ]
  },
  {
   "cell_type": "markdown",
   "id": "9a95612f-be5b-4fb6-8c6e-082ebb706ffc",
   "metadata": {
    "slideshow": {
     "slide_type": "slide"
    },
    "tags": [
     "notes-only"
    ]
   },
   "source": [
    "## System calls\n",
    "\n",
    "* https://thevivekpandey.github.io/posts/2017-09-25-linux-system-calls.html"
   ]
  },
  {
   "cell_type": "markdown",
   "id": "177d7b56-26ce-4023-8010-92c448961bbf",
   "metadata": {
    "slideshow": {
     "slide_type": "slide"
    },
    "tags": []
   },
   "source": [
    "## Process abstraction"
   ]
  },
  {
   "cell_type": "markdown",
   "id": "14ab688a-b402-42ca-b066-edfbfd1ef0b4",
   "metadata": {
    "slideshow": {
     "slide_type": "skip"
    },
    "tags": [
     "notes-only"
    ]
   },
   "source": [
    "* Process — running program and its corresponding machine state (code, memory, and register values)\n",
    "    * Program is static code and static data; process is dynamic instance of code and data\n",
    "    * Cooking analogy\n",
    "        * Recipe == program\n",
    "        * Following a recipe == process\n",
    "        * Ingredients == program inputs\n",
    "        * Prepared food == program outputs\n",
    "        * Cabinets, fridge, etc. == persistent storage\n",
    "        * Prep area (e.g., counter) == registers & main memory\n",
    "        * Contents and status of the prep area; current step of recipe == machine state\n",
    "        * Chef == CPU\n",
    "    * Can have multiple processes all running different instances of the same program\n",
    "        * Cooking analogy — chef may be making multiple batches of the same recipe\n",
    "* OS is responsible for...\n",
    "    * Creating processes — when a user or another application requests it\n",
    "    * Scheduling processes — i.e., deciding when/which process should be allowed to use the CPU\n",
    "    * Switching processes — i.e., saving the machine state of one process and restoring the machine state of another process; called context switching\n",
    "    * Cleaning-up processes — i.e., releasing any resources they are using when the process is done\n",
    "    * Interacting with I/O devices (e.g., disks, NICs, graphics card) on behalf of processes"
   ]
  },
  {
   "cell_type": "markdown",
   "id": "f713c07f-e5f6-44b2-91ad-ff0059d63f59",
   "metadata": {
    "slideshow": {
     "slide_type": "subslide"
    },
    "tags": []
   },
   "source": [
    "* Q1: _Consider building a Lego kit as an analogy for operating systems' process abstraction. Match each component of the analogy with the corresponding component of a real computer system._"
   ]
  },
  {
   "cell_type": "markdown",
   "id": "ebf3908b-951e-4749-ab88-cdab77acad4f",
   "metadata": {
    "tags": [
     "worksheet-only"
    ]
   },
   "source": [
    "* Analogy\n",
    "    1. Cabinet/drawers for storing Legos\n",
    "    2. Lego bricks\n",
    "    3. Building area (e.g., tabletop)\n",
    "    4. Instruction booklet\n",
    "    5. Following the assembly instructions\n",
    "    6. Current step for the instruction booklet\n",
    "    7. Completed kit\n",
    "    8. You\n",
    "* Real system\n",
    "    * CPU\n",
    "    * persistent storage\n",
    "    * process\n",
    "    * program\n",
    "    * program counter\n",
    "    * program inputs\n",
    "    * program outputs\n",
    "    * registers and main memory"
   ]
  },
  {
   "cell_type": "markdown",
   "id": "3bf24e87-83db-4abb-8213-4b53251e25c4",
   "metadata": {
    "slideshow": {
     "slide_type": "skip"
    },
    "tags": [
     "notes-only"
    ]
   },
   "source": [
    "* Instruction booklet == program\n",
    "* Following the assembly instructions == process\n",
    "* Lego bricks == program inputs\n",
    "* Completed kit == program outputs\n",
    "* Cabinet/drawers for storing Legos == persistent storage\n",
    "* Building area (e.g., tabletop) == registers and main memory\n",
    "* Current step for the instruction booklet == program counter\n",
    "* You == CPU"
   ]
  },
  {
   "cell_type": "markdown",
   "id": "25386d04-8639-4cf5-9d82-a7c66b6f2f98",
   "metadata": {
    "slideshow": {
     "slide_type": "skip"
    },
    "tags": [
     "worksheet-only"
    ]
   },
   "source": [
    "🛑 **STOP HERE** after completing the above question; if you have extra time please **skip ahead** to the extra practice."
   ]
  },
  {
   "cell_type": "markdown",
   "id": "e875f316-7b38-4d9e-96c1-825b800f873b",
   "metadata": {
    "slideshow": {
     "slide_type": "slide"
    },
    "tags": []
   },
   "source": [
    "## Creating processes"
   ]
  },
  {
   "cell_type": "markdown",
   "id": "cbe3fc7e-2d67-495c-a15d-e62beb87eef6",
   "metadata": {
    "tags": [
     "notes-only"
    ]
   },
   "source": [
    "* `int fork()`\n",
    "    * Creates an exact copy of the running process, except for the return value from `fork` — return `0` to child (i.e., new) process; return child’s process ID to parent process (i.e., process that called fork)\n",
    "    * Both child and parent resume execution from place where `fork` was called"
   ]
  },
  {
   "cell_type": "markdown",
   "id": "80ce1ecc-a633-43c1-ba8d-456f779c4565",
   "metadata": {
    "slideshow": {
     "slide_type": "subslide"
    },
    "tags": []
   },
   "source": [
    "* Q2: _What does the following code output?_"
   ]
  },
  {
   "cell_type": "code",
   "execution_count": 3,
   "id": "428b3aef-ec68-439a-95d7-176f915bcf89",
   "metadata": {
    "tags": [
     "worksheet-code-only"
    ]
   },
   "outputs": [
    {
     "name": "stdout",
     "output_type": "stream",
     "text": [
      "Before fork\n",
      "After fork\n",
      "After fork\n"
     ]
    }
   ],
   "source": [
    "#include <stdio.h>\n",
    "#include <unistd.h>\n",
    "int main(int argc, char **argv) {\n",
    "    printf(\"Before fork\\n\");\n",
    "    fork();\n",
    "    printf(\"After fork\\n\");\n",
    "    return 0;\n",
    "}"
   ]
  },
  {
   "cell_type": "markdown",
   "id": "a60c2d3c-198b-4a76-9541-c20b3ade3953",
   "metadata": {
    "slideshow": {
     "slide_type": "skip"
    },
    "tags": [
     "worksheet-only"
    ]
   },
   "source": [
    "<p style=\"height:10em;\"></p>"
   ]
  },
  {
   "cell_type": "markdown",
   "id": "8d47c194-e490-421d-a5a2-25629704fd84",
   "metadata": {
    "slideshow": {
     "slide_type": "subslide"
    },
    "tags": []
   },
   "source": [
    "* Q3: _What does the following code output (assuming the new process has PID 1819)?_"
   ]
  },
  {
   "cell_type": "code",
   "execution_count": null,
   "id": "4b568a2a-c8dd-4802-a8d8-ab3892b4d87a",
   "metadata": {},
   "outputs": [],
   "source": [
    "#include <stdio.h>\n",
    "#include <unistd.h>    \n",
    "int main(int argc, char **argv) {\n",
    "    printf(\"Before fork\\n\");\n",
    "    int pid = fork();\n",
    "    if (pid < 0) {\n",
    "        printf(\"Fork failed\\n\");\n",
    "        return 1;\n",
    "    } else if (pid == 0) {\n",
    "        printf(\"Child gets %d\\n\", pid);\n",
    "    } else {\n",
    "        printf(\"Parent gets %d\\n\", pid);\n",
    "    }\n",
    "    return 0;\n",
    "}"
   ]
  },
  {
   "cell_type": "markdown",
   "id": "a1b90775-0e5f-42b9-979f-06e200814b3a",
   "metadata": {
    "slideshow": {
     "slide_type": "skip"
    },
    "tags": [
     "notes-only"
    ]
   },
   "source": [
    "```\n",
    "Before fork\n",
    "Child gets 0\n",
    "Parent gets 1819\n",
    "```\n",
    "OR\n",
    "```\n",
    "Before fork\n",
    "Parent gets 1819\n",
    "Child gets 0\n",
    "``` "
   ]
  },
  {
   "cell_type": "markdown",
   "id": "fac69205-5d8c-45ed-8602-77ab4ac85514",
   "metadata": {
    "slideshow": {
     "slide_type": "skip"
    },
    "tags": [
     "worksheet-only"
    ]
   },
   "source": [
    "<p style=\"height:10em;\"></p>\n",
    "\n",
    "🛑 **STOP HERE** after completing the above questions; if you have extra time please **skip ahead** to the extra practice."
   ]
  },
  {
   "cell_type": "markdown",
   "id": "b37ca661-12e2-4cd8-b765-8f23c6925f1d",
   "metadata": {
    "slideshow": {
     "slide_type": "slide"
    },
    "tags": []
   },
   "source": [
    "## Extra practice"
   ]
  },
  {
   "cell_type": "markdown",
   "id": "8b64d86a-7939-4110-80ec-e73cb4faab07",
   "metadata": {},
   "source": [
    "* Q6: _What does the following code output?_"
   ]
  },
  {
   "cell_type": "code",
   "execution_count": null,
   "id": "ffd1fd64-903c-4729-bc8d-292cad550f4d",
   "metadata": {},
   "outputs": [],
   "source": [
    "#include <stdio.h>\n",
    "#include <unistd.h>\n",
    "int main(int argc, char **argv) {\n",
    "    int value = 100;\n",
    "    int pid = fork();\n",
    "    if (pid < 0) {\n",
    "        printf(\"Fork failed\\n\");\n",
    "        return 1;\n",
    "    } else if (pid == 0) {\n",
    "        value -= 50;\n",
    "    } else {\n",
    "        value += 50;\n",
    "    }\n",
    "    printf(\"My value is %d\\n\", value);\n",
    "    return 0;\n",
    "}"
   ]
  },
  {
   "cell_type": "markdown",
   "id": "fb4bee59-0bfd-4437-bdeb-e7fb203127ca",
   "metadata": {
    "slideshow": {
     "slide_type": "skip"
    },
    "tags": [
     "notes-only"
    ]
   },
   "source": [
    "```\n",
    "My value is 50\n",
    "My value is 150\n",
    "```\n",
    "OR\n",
    "```\n",
    "My value is 150\n",
    "My value is 50\n",
    "```"
   ]
  },
  {
   "cell_type": "markdown",
   "id": "5cde44ae-0167-4f7d-b89d-ad79e7389c88",
   "metadata": {
    "slideshow": {
     "slide_type": "skip"
    },
    "tags": [
     "worksheet-only"
    ]
   },
   "source": [
    "<p style=\"height:12em;\"></p>"
   ]
  },
  {
   "cell_type": "markdown",
   "id": "eb399e0c-27f5-4f2f-b83e-9eca2d1fa1df",
   "metadata": {
    "slideshow": {
     "slide_type": "subslide"
    },
    "tags": []
   },
   "source": [
    "* Q7: _What does the following code output?_"
   ]
  },
  {
   "cell_type": "code",
   "execution_count": null,
   "id": "9590e720-0154-4014-a4f1-4b14f50f559f",
   "metadata": {
    "tags": [
     "worksheet-code-only"
    ]
   },
   "outputs": [],
   "source": [
    "#include <stdio.h>\n",
    "#include <unistd.h>\n",
    "int main(int argc, char **argv) {\n",
    "    printf(\"Begin\\n\");\n",
    "    int pid = fork();\n",
    "    if (pid < 0) {\n",
    "        printf(\"Fork failed\\n\");\n",
    "        return 1;\n",
    "    } else if (pid == 0) {\n",
    "        printf(\"Child\\n\");\n",
    "        return 0;\n",
    "    } else {\n",
    "        printf(\"Parent\\n\");\n",
    "    }\n",
    "    printf(\"End\\n\");\n",
    "}"
   ]
  },
  {
   "cell_type": "markdown",
   "id": "05718783-6ef9-4cf5-98ee-73ea2a12317a",
   "metadata": {
    "slideshow": {
     "slide_type": "skip"
    },
    "tags": [
     "notes-only"
    ]
   },
   "source": [
    "```\n",
    "Begin\n",
    "Child\n",
    "Parent\n",
    "End \n",
    "```\n",
    "OR\n",
    "```\n",
    "Begin\n",
    "Parent\n",
    "Child\n",
    "End \n",
    "```\n",
    "OR\n",
    "```\n",
    "Begin\n",
    "Parent\n",
    "End \n",
    "Child\n",
    "```"
   ]
  },
  {
   "cell_type": "markdown",
   "id": "ad696b45-ef77-4ca2-837b-cada1d42c7e0",
   "metadata": {
    "slideshow": {
     "slide_type": "skip"
    },
    "tags": [
     "worksheet-only"
    ]
   },
   "source": [
    "<p style=\"height:15em;\"></p>"
   ]
  },
  {
   "cell_type": "markdown",
   "id": "f472563e-c1a5-4a05-9ffb-0d5aa06a4386",
   "metadata": {
    "tags": []
   },
   "source": [
    "* Q8: _How would you modify the above program such that `Child` always prints before `Parent`?_"
   ]
  },
  {
   "cell_type": "code",
   "execution_count": 17,
   "id": "9686155a-8631-4b0f-8a86-394dbdf21b9b",
   "metadata": {
    "slideshow": {
     "slide_type": "skip"
    },
    "tags": [
     "notes-only"
    ]
   },
   "outputs": [
    {
     "name": "stdout",
     "output_type": "stream",
     "text": [
      "Begin\n",
      "Child\n",
      "Parent\n",
      "End\n"
     ]
    }
   ],
   "source": [
    "#include <stdio.h>\n",
    "#include <unistd.h>\n",
    "int main(int argc, char **argv) {\n",
    "    printf(\"Begin\\n\");\n",
    "    int pid = fork();\n",
    "    if (pid < 0) {\n",
    "        printf(\"Fork failed\\n\");\n",
    "        return 1;\n",
    "    } else if (pid == 0) {\n",
    "        printf(\"Child\\n\");\n",
    "        return 0;\n",
    "    } else {\n",
    "        wait(NULL);\n",
    "        printf(\"Parent\\n\");\n",
    "    }\n",
    "    printf(\"End\\n\");\n",
    "}"
   ]
  }
 ],
 "metadata": {
  "kernelspec": {
   "display_name": "C",
   "language": "c",
   "name": "c"
  },
  "language_info": {
   "file_extension": ".c",
   "mimetype": "text/plain",
   "name": "c"
  }
 },
 "nbformat": 4,
 "nbformat_minor": 5
}
