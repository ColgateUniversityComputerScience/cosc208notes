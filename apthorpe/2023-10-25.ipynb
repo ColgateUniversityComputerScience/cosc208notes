{
 "cells": [
  {
   "cell_type": "markdown",
   "id": "39d76db8-edb9-47d5-bec8-7998805660b3",
   "metadata": {
    "slideshow": {
     "slide_type": "skip"
    },
    "tags": []
   },
   "source": [
    "# Assembly: Loops; functions\n",
    "_COSC 208, Introduction to Computer Systems, 2023-10-25_"
   ]
  },
  {
   "cell_type": "markdown",
   "id": "37653a99-1c8a-47ac-b68c-6e7336bb8328",
   "metadata": {
    "slideshow": {
     "slide_type": "slide"
    },
    "tags": []
   },
   "source": [
    "## Announcements\n",
    "* Midterm Exam 2: Mon, Oct 30 6:30pm-8:30pm\n",
    "* Project 3 due Thurs, Nov 9"
   ]
  },
  {
   "cell_type": "markdown",
   "id": "f17866fc-fc93-480c-a9a5-d903a0657063",
   "metadata": {
    "slideshow": {
     "slide_type": "slide"
    },
    "tags": []
   },
   "source": [
    "## Outline\n",
    "* Warm-up\n",
    "* Mapping C loops to assembly\n",
    "* Functions"
   ]
  },
  {
   "cell_type": "markdown",
   "id": "e663073f-3384-4891-978a-b8c31d0a6263",
   "metadata": {
    "slideshow": {
     "slide_type": "slide"
    },
    "tags": []
   },
   "source": [
    "## Warm-up"
   ]
  },
  {
   "cell_type": "markdown",
   "id": "a8d5eb72-bfe7-41a9-bdfc-c753fc218cb7",
   "metadata": {
    "slideshow": {
     "slide_type": "skip"
    },
    "tags": []
   },
   "source": [
    "* Q1: _The following C code was compiled into assembly (using `gcc`). For each line of assembly, indicate which original line of C code the assembly instruction was derived from._ "
   ]
  },
  {
   "cell_type": "code",
   "execution_count": null,
   "id": "897583ab-2be7-4e6f-a091-1294e55b439a",
   "metadata": {
    "tags": []
   },
   "outputs": [],
   "source": [
    "/* 1*/  int adjust(int value) {\n",
    "/* 2*/      if (value > 0 && value < 10) {\n",
    "/* 3*/          value -= 10;\n",
    "/* 4*/      } else {\n",
    "/* 5*/          value += 10;\n",
    "/* 6*/      }\n",
    "/* 7*/      return value;\n",
    "/* 8*/  }"
   ]
  },
  {
   "cell_type": "markdown",
   "id": "5a2d9a4e-78f8-459a-9adf-7a876de1df1e",
   "metadata": {
    "slideshow": {
     "slide_type": "skip"
    },
    "tags": [
     "notes-only"
    ]
   },
   "source": [
    "```\n",
    "0000000000000754 <adjust>:\n",
    " 754:   d10043ff    sub sp, sp, #0x10         // 1\n",
    " 758:   b9000fe0    str w0, [sp, #12]         // 1\n",
    " 75c:   b9400fe0    ldr w0, [sp, #12]         // 2\n",
    " 760:   7100001f    cmp w0, #0x0              // 2\n",
    " 764:   5400010d    b.le    784 <adjust+0x30> // 2\n",
    " 768:   b9400fe0    ldr w0, [sp, #12]         // 2\n",
    " 76c:   7100241f    cmp w0, #0xa              // 2\n",
    " 770:   540000ac    b.ge    784 <adjust+0x30> // 2\n",
    " 774:   b9400fe0    ldr w0, [sp, #12]         // 3\n",
    " 778:   51002800    sub w0, w0, #0xa          // 3\n",
    " 77c:   b9000fe0    str w0, [sp, #12]         // 3\n",
    " 780:   14000004    b   790 <adjust+0x3c>     // 4\n",
    " 784:   b9400fe0    ldr w0, [sp, #12]         // 5\n",
    " 788:   11002800    add w0, w0, #0xa          // 5\n",
    " 78c:   b9000fe0    str w0, [sp, #12]         // 5\n",
    " 790:   b9400fe0    ldr w0, [sp, #12]         // 7\n",
    " 794:   910043ff    add sp, sp, #0x10         // 7\n",
    " 798:   d65f03c0    ret                       // 7\n",
    "```"
   ]
  },
  {
   "cell_type": "markdown",
   "id": "ebb176b0-807a-4fe0-95ff-336daec12900",
   "metadata": {
    "tags": [
     "worksheet-only"
    ]
   },
   "source": [
    "```\n",
    "0000000000000754 <adjust>:\n",
    " 754:   d10043ff    sub sp, sp, #0x10\n",
    " 758:   b9000fe0    str w0, [sp, #12]\n",
    " 75c:   b9400fe0    ldr w0, [sp, #12]\n",
    " 760:   7100001f    cmp w0, #0x0\n",
    " 764:   5400010d    b.le    784 <adjust+0x30>\n",
    " 768:   b9400fe0    ldr w0, [sp, #12]\n",
    " 76c:   7100241f    cmp w0, #0xa\n",
    " 770:   540000ac    b.ge    784 <adjust+0x30>\n",
    " 774:   b9400fe0    ldr w0, [sp, #12]\n",
    " 778:   51002800    sub w0, w0, #0xa\n",
    " 77c:   b9000fe0    str w0, [sp, #12]\n",
    " 780:   14000004    b   790 <adjust+0x3c>\n",
    " 784:   b9400fe0    ldr w0, [sp, #12]\n",
    " 788:   11002800    add w0, w0, #0xa\n",
    " 78c:   b9000fe0    str w0, [sp, #12]\n",
    " 790:   b9400fe0    ldr w0, [sp, #12]\n",
    " 794:   910043ff    add sp, sp, #0x10\n",
    " 798:   d65f03c0    ret\n",
    "```"
   ]
  },
  {
   "cell_type": "markdown",
   "id": "d73216e2-ddd8-47ad-81ce-6661c33ec1d8",
   "metadata": {
    "slideshow": {
     "slide_type": "skip"
    },
    "tags": [
     "worksheet-only"
    ]
   },
   "source": [
    "🛑 **STOP here** after completing the above question; if you have extra time please **skip ahead** to the extra practice.\n",
    "\n",
    "<div style=\"page-break-after:always;\"></div>"
   ]
  },
  {
   "cell_type": "markdown",
   "id": "bc000204-12cc-4597-8ffd-1948cf588205",
   "metadata": {
    "slideshow": {
     "slide_type": "slide"
    },
    "tags": []
   },
   "source": [
    "## Mapping C loops to assembly"
   ]
  },
  {
   "cell_type": "markdown",
   "id": "280a2b8f-8f18-4b13-9c2c-350501783bcc",
   "metadata": {
    "slideshow": {
     "slide_type": "skip"
    },
    "tags": []
   },
   "source": [
    "* Example mapping while loops to assembly"
   ]
  },
  {
   "cell_type": "code",
   "execution_count": 11,
   "id": "77120044-0023-45b8-b37e-7448d07a92b8",
   "metadata": {
    "tags": [
     "worksheet-code-only"
    ]
   },
   "outputs": [
    {
     "name": "stdout",
     "output_type": "stream",
     "text": [
      "2^10 = 1024\n"
     ]
    }
   ],
   "source": [
    "/* 1*/   int pow2(int n) {\n",
    "/* 2*/       int result = 1;\n",
    "/* 3*/       while (n > 0) {\n",
    "/* 4*/           result = result * 2;\n",
    "/* 5*/           n = n - 1;\n",
    "/* 6*/       }\n",
    "/* 7*/       return result;\n",
    "/* 8*/   }"
   ]
  },
  {
   "cell_type": "markdown",
   "id": "9f8a4c5a-de44-4817-8c36-cc6f98297086",
   "metadata": {
    "slideshow": {
     "slide_type": "skip"
    },
    "tags": [
     "notes-only"
    ]
   },
   "source": [
    "```\n",
    "0000000000000754 <pow2>:\n",
    " 754:   d10083ff        sub     sp, sp, #0x20    // 1\n",
    " 758:   b9000fe0        str     w0, [sp, #12]    // 1\n",
    " 75c:   52800020        mov     w0, #0x1         // 2\n",
    " 760:   b9001fe0        str     w0, [sp, #28]    // 2\n",
    " 764:   14000007        b       780 <pow2+0x2c>  // 3\n",
    " 768:   b9401fe0        ldr     w0, [sp, #28]    // 4\n",
    " 76c:   531f7800        lsl     w0, w0, #1       // 4\n",
    " 770:   b9001fe0        str     w0, [sp, #28]    // 4\n",
    " 774:   b9400fe0        ldr     w0, [sp, #12]    // 5\n",
    " 778:   51000400        sub     w0, w0, #0x1     // 5\n",
    " 77c:   b9000fe0        str     w0, [sp, #12]    // 5\n",
    " 780:   b9400fe0        ldr     w0, [sp, #12]    // 3\n",
    " 784:   7100001f        cmp     w0, #0x0         // 3\n",
    " 788:   54ffff0c        b.gt    768 <pow2+0x14>  // 3\n",
    " 78c:   b9401fe0        ldr     w0, [sp, #28]    // 7\n",
    " 790:   910083ff        add     sp, sp, #0x20    // 7\n",
    " 794:   d65f03c0        ret                      // 7\n",
    "```"
   ]
  },
  {
   "cell_type": "markdown",
   "id": "76a63fff-098d-4dc2-9897-e39716a47e72",
   "metadata": {
    "tags": [
     "worksheet-only"
    ]
   },
   "source": [
    "```\n",
    "0000000000000754 <pow2>:\n",
    " 754:   d10083ff        sub     sp, sp, #0x20\n",
    " 758:   b9000fe0        str     w0, [sp, #12]\n",
    " 75c:   52800020        mov     w0, #0x1\n",
    " 760:   b9001fe0        str     w0, [sp, #28]\n",
    " 764:   14000007        b       780 <pow2+0x2c>\n",
    " 768:   b9401fe0        ldr     w0, [sp, #28]\n",
    " 76c:   531f7800        lsl     w0, w0, #1\n",
    " 770:   b9001fe0        str     w0, [sp, #28]\n",
    " 774:   b9400fe0        ldr     w0, [sp, #12]\n",
    " 778:   51000400        sub     w0, w0, #0x1\n",
    " 77c:   b9000fe0        str     w0, [sp, #12]\n",
    " 780:   b9400fe0        ldr     w0, [sp, #12]\n",
    " 784:   7100001f        cmp     w0, #0x0\n",
    " 788:   54ffff0c        b.gt    768 <pow2+0x14>\n",
    " 78c:   b9401fe0        ldr     w0, [sp, #28]\n",
    " 790:   910083ff        add     sp, sp, #0x20\n",
    " 794:   d65f03c0        ret\n",
    "```"
   ]
  },
  {
   "cell_type": "markdown",
   "id": "e4b6b774-3e71-4802-b21e-df7f4df694fd",
   "metadata": {
    "slideshow": {
     "slide_type": "skip"
    },
    "tags": [
     "notes-only"
    ]
   },
   "source": [
    "* Goto form"
   ]
  },
  {
   "cell_type": "code",
   "execution_count": 12,
   "id": "f4ee8ec1-4765-4654-9e8e-f7a418840a5c",
   "metadata": {
    "slideshow": {
     "slide_type": "skip"
    },
    "tags": [
     "notes-only"
    ]
   },
   "outputs": [
    {
     "name": "stdout",
     "output_type": "stream",
     "text": [
      "2^10 = 1024\n"
     ]
    }
   ],
   "source": [
    "#include <stdio.h>\n",
    "int pow2_goto(int n) {\n",
    "    int result = 1;\n",
    "    goto loop_check;\n",
    "loop_top:\n",
    "    result = result * 2;\n",
    "    n = n - 1;\n",
    "loop_check:\n",
    "    if (n > 0)\n",
    "        goto loop_top;\n",
    "    return result;\n",
    "}\n",
    "int main() {\n",
    "    printf(\"2^10 = %d\\n\", pow2_goto(10));\n",
    "}"
   ]
  },
  {
   "cell_type": "markdown",
   "id": "3bf3b052-000c-4e94-94b4-519b880302d7",
   "metadata": {
    "slideshow": {
     "slide_type": "skip"
    },
    "tags": [
     "notes-only"
    ]
   },
   "source": [
    "* For loop can always be expressed using a while loop\n",
    "    * Assembly code generated for a for loop matches the assembly code generated for a while loop"
   ]
  },
  {
   "cell_type": "markdown",
   "id": "265e28b9-8328-4e30-a7c8-083e5cc58098",
   "metadata": {
    "slideshow": {
     "slide_type": "skip"
    },
    "tags": [
     "worksheet-only"
    ]
   },
   "source": [
    "<div style=\"page-break-after:always;\"></div>"
   ]
  },
  {
   "cell_type": "markdown",
   "id": "606c6508-1c20-4e41-b565-9ed97f003daf",
   "metadata": {
    "slideshow": {
     "slide_type": "slide"
    },
    "tags": []
   },
   "source": [
    "## Practice with loops"
   ]
  },
  {
   "cell_type": "markdown",
   "id": "a0d25098-c511-4219-bd30-ae2d5705b1ff",
   "metadata": {
    "slideshow": {
     "slide_type": "skip"
    },
    "tags": []
   },
   "source": [
    "* _The following C code was compiled into assembly (using `gcc`)._"
   ]
  },
  {
   "cell_type": "code",
   "execution_count": null,
   "id": "395b12b4-54e0-44b0-9350-3d132be93a23",
   "metadata": {
    "tags": [
     "worksheet-code-only"
    ]
   },
   "outputs": [],
   "source": [
    "/* 1*/   int powi(int m, int n) {\n",
    "/* 2*/       int result = 1;\n",
    "/* 3*/       int i = 0;\n",
    "/* 4*/       while (i < n) {\n",
    "/* 5*/           result *= m;\n",
    "/* 6*/           i++;\n",
    "/* 7*/       }\n",
    "/* 8*/       return result;\n",
    "/* 9*/   }"
   ]
  },
  {
   "cell_type": "markdown",
   "id": "3d233e51-a750-4a8a-b52e-b0734fbd1483",
   "metadata": {
    "slideshow": {
     "slide_type": "skip"
    },
    "tags": []
   },
   "source": [
    "* Q2: _Label each line of assembly code with the line number of the line of C code from which the assembly instruction was derived._"
   ]
  },
  {
   "cell_type": "markdown",
   "id": "0d5bc588-528c-405d-910f-4e46804e1998",
   "metadata": {
    "slideshow": {
     "slide_type": "skip"
    },
    "tags": [
     "notes-only"
    ]
   },
   "source": [
    "```\n",
    "0000000000000714 <powi>:\n",
    " 714:   d10083ff    sub sp, sp, #0x20   // 1\n",
    " 718:   b9000fe0    str w0, [sp, #12]   // 1\n",
    " 71c:   b9000be1    str w1, [sp, #8]    // 1\n",
    " 720:   52800020    mov w0, #0x1        // 2\n",
    " 724:   b9001be0    str w0, [sp, #24]   // 2\n",
    " 728:   b9001fff    str wzr, [sp, #28]  // 3\n",
    " 72c:   14000008    b   74c <powi+0x38> // 4\n",
    " 730:   b9401be1    ldr w1, [sp, #24]   // 5\n",
    " 734:   b9400fe0    ldr w0, [sp, #12]   // 5\n",
    " 738:   1b007c20    mul w0, w1, w0      // 5\n",
    " 73c:   b9001be0    str w0, [sp, #24]   // 5\n",
    " 740:   b9401fe0    ldr w0, [sp, #28]   // 6\n",
    " 744:   11000400    add w0, w0, #0x1    // 6\n",
    " 748:   b9001fe0    str w0, [sp, #28]   // 6\n",
    " 74c:   b9401fe1    ldr w1, [sp, #28]   // 4\n",
    " 750:   b9400be0    ldr w0, [sp, #8]    // 4\n",
    " 754:   6b00003f    cmp w1, w0          // 4\n",
    " 758:   54fffecb    b.lt    730 <powi+0x1c> // 4\n",
    " 75c:   b9401be0    ldr w0, [sp, #24]   // 8\n",
    " 760:   910083ff    add sp, sp, #0x20   // 8\n",
    " 764:   d65f03c0    ret                 // 8\n",
    "```"
   ]
  },
  {
   "cell_type": "markdown",
   "id": "acbbcceb-9e28-4ea0-84f2-ee86259333df",
   "metadata": {
    "tags": [
     "worksheet-only"
    ]
   },
   "source": [
    "```\n",
    "0000000000000714 <powi>:\n",
    " 714:   d10083ff    sub sp, sp, #0x20\n",
    " 718:   b9000fe0    str w0, [sp, #12]\n",
    " 71c:   b9000be1    str w1, [sp, #8]\n",
    " 720:   52800020    mov w0, #0x1\n",
    " 724:   b9001be0    str w0, [sp, #24]\n",
    " 728:   b9001fff    str wzr, [sp, #28]\n",
    " 72c:   14000008    b   74c <powi+0x38>\n",
    " 730:   b9401be1    ldr w1, [sp, #24]\n",
    " 734:   b9400fe0    ldr w0, [sp, #12]\n",
    " 738:   1b007c20    mul w0, w1, w0\n",
    " 73c:   b9001be0    str w0, [sp, #24]\n",
    " 740:   b9401fe0    ldr w0, [sp, #28]\n",
    " 744:   11000400    add w0, w0, #0x1\n",
    " 748:   b9001fe0    str w0, [sp, #28]\n",
    " 74c:   b9401fe1    ldr w1, [sp, #28]\n",
    " 750:   b9400be0    ldr w0, [sp, #8]\n",
    " 754:   6b00003f    cmp w1, w0\n",
    " 758:   54fffecb    b.lt    730 <powi+0x1c>\n",
    " 75c:   b9401be0    ldr w0, [sp, #24]\n",
    " 760:   910083ff    add sp, sp, #0x20\n",
    " 764:   d65f03c0    ret\n",
    "```"
   ]
  },
  {
   "cell_type": "markdown",
   "id": "01867c0a-4708-4a60-9c00-6f16b7432864",
   "metadata": {
    "slideshow": {
     "slide_type": "subslide"
    },
    "tags": []
   },
   "source": [
    "Q3: _Write a function called `powi_goto` that behaves the same as `powi` but matches the structure of the assembly code that will be generated for `powi`. (Hint: you'll need two `goto` statements.)_"
   ]
  },
  {
   "cell_type": "code",
   "execution_count": 10,
   "id": "4444d4ff-c699-4652-ae57-27c06e13318e",
   "metadata": {
    "slideshow": {
     "slide_type": "skip"
    },
    "tags": [
     "notes-only"
    ]
   },
   "outputs": [],
   "source": [
    "int powi_goto(int m, int n) {\n",
    "    int result = 1;\n",
    "    int i = 0;\n",
    "    goto loop_check;\n",
    "loop_top:\n",
    "    result *= m;\n",
    "    i++;\n",
    "loop_check:\n",
    "    if (i < n)\n",
    "        goto loop_top;\n",
    "    return result;\n",
    "}\n",
    "// Testing\n",
    "#include <assert.h>\n",
    "int main() {\n",
    "    assert(powi_goto(5,3) == 125);\n",
    "}"
   ]
  },
  {
   "cell_type": "markdown",
   "id": "c12d47af-3b06-4faa-905d-4dcab55714f4",
   "metadata": {
    "slideshow": {
     "slide_type": "skip"
    },
    "tags": [
     "worksheet-only"
    ]
   },
   "source": [
    "<div style=\"page-break-after:always;\"></div>"
   ]
  },
  {
   "cell_type": "markdown",
   "id": "7e7daf30-f7cc-4e7d-8406-4132a56392e9",
   "metadata": {
    "slideshow": {
     "slide_type": "slide"
    },
    "tags": []
   },
   "source": [
    "## Function calls in assembly"
   ]
  },
  {
   "cell_type": "markdown",
   "id": "db94d696-f3ac-4166-afa6-bdbfaa21e04b",
   "metadata": {
    "slideshow": {
     "slide_type": "skip"
    },
    "tags": [
     "notes-only"
    ]
   },
   "source": [
    "* Calling conventions\n",
    "    * _In which registers are parameters stored?_ — `x0`/`w0`, `x1`/`w1`, `x2`/`w2`, ...\n",
    "    * _In which register is the return value stored?_ — `x0`/`w0`\n",
    "    * Return address stored in `x30`\n",
    "    * Caller's return address stored in callee's stack frame\n",
    "* Use `bl` (branch & link) to make a function call\n",
    "    * Store `pc+4` in `x30`\n",
    "    * Update `pc` to specified code address\n",
    "* Example"
   ]
  },
  {
   "cell_type": "code",
   "execution_count": null,
   "id": "9d5e332f-19f5-4180-8de2-1655e73ec25f",
   "metadata": {},
   "outputs": [],
   "source": [
    "/*1*/  int multiply(int a, int b) {\n",
    "/*2*/      int c = a * b;\n",
    "/*3*/      return c;\n",
    "/*4*/  }\n",
    "/*5*/  int volume(int x, int y, int z) {\n",
    "/*6*/      int w = multiply(x, y);\n",
    "/*7*/      w = multiply(w, z);\n",
    "/*8*/      return w;\n",
    "/*9*/  }\n",
    "/*10*/  int main() {\n",
    "/*11*/      int n = volume(1, 3, 5);\n",
    "/*12*/      return n;\n",
    "/*13*/  }"
   ]
  },
  {
   "cell_type": "markdown",
   "id": "76f64c74-ee2c-4dd0-ac5d-7bfcd257ba1d",
   "metadata": {
    "tags": []
   },
   "source": [
    "```\n",
    "0000000000400544 <multiply>:\n",
    "    400544:    d10043ff     sub    sp, sp, #0x10    // 1\n",
    "    400548:    b9000fe0     str    w0, [sp, #12]    // 1\n",
    "    40054c:    b9000be1     str    w1, [sp, #8]     // 1\n",
    "    400550:    b9400fe8     ldr    w8, [sp, #12]    // 2\n",
    "    400554:    b9400be9     ldr    w9, [sp, #8]     // 2\n",
    "    400558:    1b097d08     mul    w8, w8, w9       // 2\n",
    "    40055c:    b90007e8     str    w8, [sp, #4]     // 2\n",
    "    400560:    b94007e0     ldr    w0, [sp, #4]     // 3\n",
    "    400564:    910043ff     add    sp, sp, #0x10    // 3\n",
    "    400568:    d65f03c0     ret                     // 3\n",
    "```"
   ]
  },
  {
   "cell_type": "markdown",
   "id": "1e1ff9dc-a3a7-4ae2-93a6-1b80ea350852",
   "metadata": {
    "slideshow": {
     "slide_type": "subslide"
    },
    "tags": []
   },
   "source": [
    "```\n",
    "000000000040056c <volume>:\n",
    "    40056c:    d10083ff     sub    sp, sp, #0x20    // 5\n",
    "    400570:    f9000bfe     str    x30, [sp, #16]   // 5\n",
    "    400574:    b9000fe0     str    w0, [sp, #12]    // 5\n",
    "    400578:    b9000be1     str    w1, [sp, #8]     // 5\n",
    "    40057c:    b90007e2     str    w2, [sp, #4]     // 5\n",
    "    400580:    b9400fe0     ldr    w0, [sp, #12]    // 6\n",
    "    400584:    b9400be1     ldr    w1, [sp, #8]     // 6\n",
    "    400588:    97ffffef     bl    400544 <multiply> // 6\n",
    "    40058c:    b90003e0     str    w0, [sp]         // 6\n",
    "    400590:    b94003e0     ldr    w0, [sp]         // 7\n",
    "    400594:    b94007e1     ldr    w1, [sp, #4]     // 7\n",
    "    400598:    97ffffeb     bl    400544 <multiply> // 7\n",
    "    40059c:    b90003e0     str    w0, [sp]         // 7\n",
    "    4005a0:    b94003e0     ldr    w0, [sp]         // 8\n",
    "    4005a4:    f9400bfe     ldr    x30, [sp, #16]   // 8\n",
    "    4005a8:    910083ff     add    sp, sp, #0x20    // 8\n",
    "    4005ac:    d65f03c0     ret                     // 8\n",
    "```"
   ]
  },
  {
   "cell_type": "markdown",
   "id": "3c913d0d-f40b-4cf0-bc27-9d682a75a735",
   "metadata": {
    "tags": []
   },
   "source": [
    "```\n",
    "00000000004005b0 <main>:                               \n",
    "    4005b0:    d10083ff     sub    sp, sp, #0x20       // 10\n",
    "    4005b4:    f9000bfe     str    x30, [sp, #16]      // 10\n",
    "    4005b8:    52800020     mov    w0, #0x1            // 11\n",
    "    4005bc:    52800061     mov    w1, #0x3            // 11\n",
    "    4005c0:    528000a2     mov    w2, #0x5            // 11\n",
    "    4005c4:    97ffffe9     bl     40056c <volume>     // 11\n",
    "    4005c8:    b9000be0     str    w0, [sp, #8]        // 11\n",
    "    4005cc:    b9400be0     ldr    w0, [sp, #8]        // 12\n",
    "    4005d0:    f9400bfe     ldr    x30, [sp, #16]      // 12\n",
    "    4005d4:    910083ff     add    sp, sp, #0x20       // 12\n",
    "    4005d8:    d65f03c0     ret                        // 12\n",
    "```"
   ]
  },
  {
   "cell_type": "markdown",
   "id": "fc2ad863-9f6b-4ffe-9d6d-bb30d80a4c8f",
   "metadata": {
    "slideshow": {
     "slide_type": "skip"
    },
    "tags": [
     "notes-only"
    ]
   },
   "source": [
    "* Assume the registers have the following initial values:\n",
    "    * `pc` = `0x4005b0`\n",
    "    * `sp` = `0xFF0`\n",
    "    * `x30` = `0x4005dc`"
   ]
  },
  {
   "cell_type": "markdown",
   "id": "011fb900-60c2-4330-92d0-d5acc84f2637",
   "metadata": {
    "slideshow": {
     "slide_type": "skip"
    },
    "tags": [
     "worksheet-only"
    ]
   },
   "source": [
    "<div style=\"height:20em;\"></div>"
   ]
  },
  {
   "cell_type": "markdown",
   "id": "52a00d34-0981-45fc-ba9a-3ff047d682a8",
   "metadata": {
    "slideshow": {
     "slide_type": "slide"
    },
    "tags": []
   },
   "source": [
    "## Extra practice"
   ]
  },
  {
   "cell_type": "markdown",
   "id": "d7c5193f-a4c3-43ef-88bb-6fabafc475fc",
   "metadata": {
    "tags": []
   },
   "source": [
    "Q4: _Write a function called `adjust_goto` that behaves the same as `adjust` but matches the structure of the assembly code that is generated for `adjust`. (Hint: you'll need three `goto` statements.)_"
   ]
  },
  {
   "cell_type": "code",
   "execution_count": null,
   "id": "f2632e9a-ef45-43d3-973a-dc8f77d344ea",
   "metadata": {
    "tags": []
   },
   "outputs": [],
   "source": [
    "/* 1*/  int adjust(int value) {\n",
    "/* 2*/      if (value > 0 && value < 10) {\n",
    "/* 3*/          value -= 10;\n",
    "/* 4*/      } else {\n",
    "/* 5*/          value += 10;\n",
    "/* 6*/      }\n",
    "/* 7*/      return value;\n",
    "/* 8*/  }"
   ]
  },
  {
   "cell_type": "code",
   "execution_count": 9,
   "id": "ed0b168b-3457-4bea-b906-560dfe2a7e00",
   "metadata": {
    "slideshow": {
     "slide_type": "skip"
    },
    "tags": [
     "notes-only"
    ]
   },
   "outputs": [],
   "source": [
    "int adjust_goto(int value) {\n",
    "    if (value <= 0)\n",
    "        goto else_body;\n",
    "    if (value >= 10)\n",
    "        goto else_body;\n",
    "    value -= 10;\n",
    "    goto after_if;\n",
    "else_body:\n",
    "    value += 10;\n",
    "after_if:\n",
    "    return value;\n",
    "}\n",
    "// Testing\n",
    "#include <assert.h>\n",
    "int main() {\n",
    "    assert(adjust_goto(5) == -5);\n",
    "}"
   ]
  },
  {
   "cell_type": "markdown",
   "id": "dd96a220-d2bd-47ee-82d7-240565b13093",
   "metadata": {
    "slideshow": {
     "slide_type": "skip"
    },
    "tags": [
     "worksheet-only"
    ]
   },
   "source": [
    "<div style=\"page-break-after:always;\"></div>"
   ]
  },
  {
   "cell_type": "markdown",
   "id": "72b7d2e3-674b-49d5-80d5-415e87467180",
   "metadata": {
    "slideshow": {
     "slide_type": "skip"
    },
    "tags": []
   },
   "source": [
    "* Q5: _The following C code was compiled into assembly (using `gcc`). For each line of assembly, indicate which original line of C code the assembly instruction was derived from._ "
   ]
  },
  {
   "cell_type": "code",
   "execution_count": null,
   "id": "3ec4e98a-9a4e-4e1f-85e5-568ac77a85eb",
   "metadata": {
    "slideshow": {
     "slide_type": "subslide"
    },
    "tags": []
   },
   "outputs": [],
   "source": [
    "/* 1*/  int flip_elif(int bit) {\n",
    "/* 2*/      int result;\n",
    "/* 3*/      if (bit == 0) {\n",
    "/* 4*/          result = 1 ;\n",
    "/* 5*/      }\n",
    "/* 6*/      else if (bit == 1) {\n",
    "/* 7*/          result = 0;\n",
    "/* 8*/      }\n",
    "/* 9*/      else {\n",
    "/*10*/          result = -1;\n",
    "/*11*/      }\n",
    "/*12*/      return result;\n",
    "/*13*/  }"
   ]
  },
  {
   "cell_type": "markdown",
   "id": "a594a07c-c75d-4e09-aded-fa9857f37f5f",
   "metadata": {
    "slideshow": {
     "slide_type": "skip"
    },
    "tags": [
     "notes-only"
    ]
   },
   "source": [
    "```\n",
    "000000000000071c <flip_elif>:\n",
    "    71c:    d10083ff     sub    sp, sp, #0x20           // 1\n",
    "    720:    b9000fe0     str    w0, [sp, #12]           // 1\n",
    "    724:    b9400fe0     ldr    w0, [sp, #12]           // 3\n",
    "    728:    7100001f     cmp    w0, #0x0                // 3\n",
    "    72c:    54000081     b.ne   73c <flip_elif+0x20>    // 3\n",
    "    730:    52800020     mov    w0, #0x1                // 4\n",
    "    734:    b9001fe0     str    w0, [sp, #28]           // 4\n",
    "    738:    14000008     b      758 <flip_elif+0x3c>    // 5\n",
    "    73c:    b9400fe0     ldr    w0, [sp, #12]           // 6\n",
    "    740:    7100041f     cmp    w0, #0x1                // 6\n",
    "    744:    54000061     b.ne   750 <flip_elif+0x34>    // 6\n",
    "    748:    b9001fff     str    wzr, [sp, #28]          // 7\n",
    "    74c:    14000003     b      758 <flip_elif+0x3c>    // 8\n",
    "    750:    12800000     mov    w0, #0xffffffff         // 10\n",
    "    754:    b9001fe0     str    w0, [sp, #28]           // 10\n",
    "    758:    b9401fe0     ldr    w0, [sp, #28]           // 12\n",
    "    75c:    910083ff     add    sp, sp, #0x20           // 12\n",
    "    760:    d65f03c0     ret                            // 12\n",
    "```"
   ]
  },
  {
   "cell_type": "markdown",
   "id": "dbc23945-fc11-48f4-ae0a-395a30166260",
   "metadata": {
    "tags": [
     "worksheet-only"
    ]
   },
   "source": [
    "```\n",
    "000000000000071c <flip_elif>:\n",
    "    71c:    d10083ff     sub    sp, sp, #0x20\n",
    "    720:    b9000fe0     str    w0, [sp, #12]\n",
    "    724:    b9400fe0     ldr    w0, [sp, #12]\n",
    "    728:    7100001f     cmp    w0, #0x0\n",
    "    72c:    54000081     b.ne   73c <flip_elif+0x20>\n",
    "    730:    52800020     mov    w0, #0x1\n",
    "    734:    b9001fe0     str    w0, [sp, #28]\n",
    "    738:    14000008     b      758 <flip_elif+0x3c>\n",
    "    73c:    b9400fe0     ldr    w0, [sp, #12]\n",
    "    740:    7100041f     cmp    w0, #0x1\n",
    "    744:    54000061     b.ne   750 <flip_elif+0x34>\n",
    "    748:    b9001fff     str    wzr, [sp, #28]\n",
    "    74c:    14000003     b      758 <flip_elif+0x3c>\n",
    "    750:    12800000     mov    w0, #0xffffffff\n",
    "    754:    b9001fe0     str    w0, [sp, #28]\n",
    "    758:    b9401fe0     ldr    w0, [sp, #28]\n",
    "    75c:    910083ff     add    sp, sp, #0x20\n",
    "    760:    d65f03c0     ret\n",
    "```"
   ]
  },
  {
   "cell_type": "markdown",
   "id": "c248e586-be8a-4389-a23a-70fbfb5ec565",
   "metadata": {
    "slideshow": {
     "slide_type": "skip"
    },
    "tags": []
   },
   "source": [
    "Q6: _Write a function called `flip_elif_goto` that behaves the same as `flip_elif` but matches the structure of the assembly code that is generated for `flip_elif`._"
   ]
  },
  {
   "cell_type": "code",
   "execution_count": 2,
   "id": "e825a537-032e-4e01-b6f1-6b96d89d34da",
   "metadata": {
    "slideshow": {
     "slide_type": "skip"
    },
    "tags": [
     "notes-only"
    ]
   },
   "outputs": [],
   "source": [
    "int flip_elif_goto(int bit) {\n",
    "    int result;\n",
    "    if (bit != 0)\n",
    "        goto ELIF;\n",
    "    result = 1;\n",
    "    goto END;\n",
    "ELIF:\n",
    "    if (bit != 1)\n",
    "        goto ELS;\n",
    "    result = 0;\n",
    "    goto END;\n",
    "ELS:\n",
    "    result = -1;\n",
    "END:\n",
    "    return result;\n",
    "}\n",
    "// Testing\n",
    "#include <assert.h>\n",
    "int main() {\n",
    "    assert(flip_elif_goto(0) == 1);\n",
    "    assert(flip_elif_goto(1) == 0);\n",
    "    assert(flip_elif_goto(2) == -1);\n",
    "}"
   ]
  }
 ],
 "metadata": {
  "kernelspec": {
   "display_name": "C",
   "language": "c",
   "name": "c"
  },
  "language_info": {
   "file_extension": ".c",
   "mimetype": "text/plain",
   "name": "c"
  }
 },
 "nbformat": 4,
 "nbformat_minor": 5
}
