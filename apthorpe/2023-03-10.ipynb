{
 "cells": [
  {
   "cell_type": "markdown",
   "id": "39d76db8-edb9-47d5-bec8-7998805660b3",
   "metadata": {
    "slideshow": {
     "slide_type": "skip"
    },
    "tags": []
   },
   "source": [
    "# Architecture: processing unit\n",
    "_COSC 208, Introduction to Computer Systems, 2023-03-10_"
   ]
  },
  {
   "cell_type": "markdown",
   "id": "37653a99-1c8a-47ac-b68c-6e7336bb8328",
   "metadata": {
    "slideshow": {
     "slide_type": "skip"
    },
    "tags": []
   },
   "source": [
    "## Announcements\n",
    "* Project 3 due Thursday, March 23"
   ]
  },
  {
   "cell_type": "markdown",
   "id": "f17866fc-fc93-480c-a9a5-d903a0657063",
   "metadata": {
    "slideshow": {
     "slide_type": "skip"
    },
    "tags": []
   },
   "source": [
    "## Outline\n",
    "* Processing unit\n",
    "* Assembly instructions"
   ]
  },
  {
   "cell_type": "markdown",
   "id": "e663073f-3384-4891-978a-b8c31d0a6263",
   "metadata": {
    "slideshow": {
     "slide_type": "slide"
    },
    "tags": []
   },
   "source": [
    "## No warm-up – Happy Friday!"
   ]
  },
  {
   "cell_type": "markdown",
   "id": "5ddd8249-6036-4861-9755-91e748a09874",
   "metadata": {
    "slideshow": {
     "slide_type": "slide"
    },
    "tags": []
   },
   "source": [
    "## Processing Unit"
   ]
  },
  {
   "cell_type": "markdown",
   "id": "29d42fcf-2a65-4805-af09-d44446e566eb",
   "metadata": {
    "tags": [
     "worksheet-only"
    ]
   },
   "source": [
    "![](images/circuits/processing_unit_empty.png)"
   ]
  },
  {
   "cell_type": "markdown",
   "id": "e6512d28-2adc-4970-ae5d-aef4753950cd",
   "metadata": {
    "slideshow": {
     "slide_type": "subslide"
    },
    "tags": [
     "notes-only"
    ]
   },
   "source": [
    "![](images/circuits/processing_unit_complete.png)"
   ]
  }
 ],
 "metadata": {
  "kernelspec": {
   "display_name": "C",
   "language": "c",
   "name": "c"
  },
  "language_info": {
   "file_extension": ".c",
   "mimetype": "c",
   "name": "c"
  }
 },
 "nbformat": 4,
 "nbformat_minor": 5
}
