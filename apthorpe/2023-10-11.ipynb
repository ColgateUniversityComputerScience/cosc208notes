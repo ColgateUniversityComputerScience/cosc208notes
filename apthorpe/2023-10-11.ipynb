{
 "cells": [
  {
   "cell_type": "markdown",
   "id": "39d76db8-edb9-47d5-bec8-7998805660b3",
   "metadata": {
    "slideshow": {
     "slide_type": "skip"
    },
    "tags": []
   },
   "source": [
    "# Architecture: n-bit circuits; multiplexers\n",
    "_COSC 208, Introduction to Computer Systems, 2023-10-11_"
   ]
  },
  {
   "cell_type": "markdown",
   "id": "37653a99-1c8a-47ac-b68c-6e7336bb8328",
   "metadata": {
    "slideshow": {
     "slide_type": "slide"
    },
    "tags": []
   },
   "source": [
    "## Announcements\n",
    "* Labs will **meet as usual** this week\n",
    "* Project 2 due Thurs, Oct 19 @ 11pm"
   ]
  },
  {
   "cell_type": "markdown",
   "id": "f17866fc-fc93-480c-a9a5-d903a0657063",
   "metadata": {
    "slideshow": {
     "slide_type": "slide"
    },
    "tags": []
   },
   "source": [
    "## Outline\n",
    "* Warm-up\n",
    "* n-bit circuits\n",
    "* Multiplexer circuit"
   ]
  },
  {
   "cell_type": "markdown",
   "id": "6d0ff9bc-744c-4910-b1bb-956eead76625",
   "metadata": {
    "slideshow": {
     "slide_type": "slide"
    },
    "tags": []
   },
   "source": [
    "## n-bit Logical Circuits"
   ]
  },
  {
   "cell_type": "markdown",
   "id": "011db65e-5081-483d-a46f-47ec0daacd51",
   "metadata": {},
   "source": [
    "* Q1: _Complete the truth-table for `A > B` when A and B are two bits_"
   ]
  },
  {
   "cell_type": "markdown",
   "id": "350ea199-0a60-40b3-8ca5-2fe32a3ea752",
   "metadata": {
    "slideshow": {
     "slide_type": "skip"
    },
    "tags": [
     "notes-only"
    ]
   },
   "source": [
    "| A2 A1 | B2 B1 | A > B |\n",
    "| ----- | ----- | ----- |\n",
    "| 0   0 | 0   0 |   0   |\n",
    "| 0   1 | 0   0 |   1   |\n",
    "| 1   0 | 0   0 |   1   |\n",
    "| 1   1 | 0   0 |   1   |\n",
    "| 0   0 | 0   1 |   0   |\n",
    "| 0   1 | 0   1 |   0   |\n",
    "| 1   0 | 0   1 |   1   |\n",
    "| 1   1 | 0   1 |   1   |\n",
    "| 0   0 | 1   0 |   0   |\n",
    "| 0   1 | 1   0 |   0   |\n",
    "| 1   0 | 1   0 |   0   |\n",
    "| 1   1 | 1   0 |   1   |\n",
    "| 0   0 | 1   1 |   0   |\n",
    "| 0   1 | 1   1 |   0   |\n",
    "| 1   0 | 1   1 |   0   |\n",
    "| 1   1 | 1   1 |   0   |"
   ]
  },
  {
   "cell_type": "markdown",
   "id": "d6aacb5f-1a5b-4d40-9195-1a9526ca5c84",
   "metadata": {
    "tags": [
     "worksheet-only"
    ]
   },
   "source": [
    "| A2 A1 | B2 B1 | A > B |\n",
    "| ----- | ----- | ----- |\n",
    "| 0   0 | 0   0 |   0   |\n",
    "| 0   1 | 0   0 |   1   |\n",
    "| 1   0 | 0   0 |       |\n",
    "| 1   1 | 0   0 |       |\n",
    "| 0   0 | 0   1 |       |\n",
    "| 0   1 | 0   1 |       |\n",
    "| 1   0 | 0   1 |       |\n",
    "| 1   1 | 0   1 |       |\n",
    "| 0   0 | 1   0 |       |\n",
    "| 0   1 | 1   0 |       |\n",
    "| 1   0 | 1   0 |       |\n",
    "| 1   1 | 1   0 |       |\n",
    "| 0   0 | 1   1 |       |\n",
    "| 0   1 | 1   1 |       |\n",
    "| 1   0 | 1   1 |       |\n",
    "| 1   1 | 1   1 |       |"
   ]
  },
  {
   "cell_type": "markdown",
   "id": "1c0713be-7712-40c2-8328-a8218cce6571",
   "metadata": {
    "slideshow": {
     "slide_type": "skip"
    },
    "tags": [
     "worksheet-only"
    ]
   },
   "source": [
    "🛑 **STOP here** after completing the above question; if you have extra time take a few deep breaths to reduce stress."
   ]
  },
  {
   "cell_type": "markdown",
   "id": "d5c1a7b9-8a2a-4311-8bb6-2b42f6a0dd31",
   "metadata": {
    "slideshow": {
     "slide_type": "skip"
    },
    "tags": [
     "notes-only"
    ]
   },
   "source": [
    "* _How did you determine this?_\n",
    "    * Convert to decimal — not an option for hardware\n",
    "    * Compare 1st bits, then, if necessary, compare 2nd bits — `(A1 > B1) OR ((A1 == B1) AND (A0 > B0))`\n",
    "* _What if there were 3 bits?_ \n",
    "    * Compare 1st bits, then, if necessary, 2nd bits, then, if necessary, 3rd bits\n",
    "    * `(A2 > B2) OR ((A2 == B2) AND (A1 > B1)) OR ((A2 == B2) AND (A1 == B1) AND (A0 > B0))`\n",
    "* _What do you need to know about previous bits?_\n",
    "    * Is some previous bit greater?\n",
    "    * Are all previous bits equal?\n",
    "* N-bit greater-than circuit\n",
    "    * Inputs\n",
    "        * `Ai`\n",
    "        * `Bi`\n",
    "        * `Gi`\n",
    "        * `Ei`\n",
    "    * Outputs — _What are the formulas for these?_\n",
    "        * `Gi`: `G(i+1) OR (E(i+1) AND (Ai > Bi))`\n",
    "        * `Ei`: `E(i+1) AND (Ai == Bi)`\n",
    "    * Circuit <br /> ![](images/circuits/a_gt_b_n-bit.png) <br /> ![](images/circuits/a_gt_b_n-bit_abstracted.png)"
   ]
  },
  {
   "cell_type": "markdown",
   "id": "748b9b6c-e7e7-498b-8e62-6c91d9c55015",
   "metadata": {
    "slideshow": {
     "slide_type": "slide"
    },
    "tags": [
     "notes-only"
    ]
   },
   "source": [
    "## n-bit arithmetic circuits"
   ]
  },
  {
   "cell_type": "markdown",
   "id": "5f858f6f-14e1-4926-be4b-a4ab7f1c7e04",
   "metadata": {
    "slideshow": {
     "slide_type": "skip"
    },
    "tags": [
     "notes-only"
    ]
   },
   "source": [
    "* Ripple adder\n",
    "    * Adder\n",
    "        * Inputs – `A`, `B`, carry in\n",
    "        * Outputs - `sum`, carry out\n",
    "        * Circuit <br /> ![](images/circuits/adder.png)\n",
    "    * Inputs – `An`, ..., `A1`, `Bn`, ..., `B1`\n",
    "    * Outputs – `Sn`, ..., `S1`\n",
    "    * Circuit <br /> ![](images/circuits/ripple_adder.png)"
   ]
  },
  {
   "cell_type": "markdown",
   "id": "cd699c9e-4a7e-44e2-a7bf-2f9806f363e7",
   "metadata": {
    "slideshow": {
     "slide_type": "slide"
    },
    "tags": [
     "notes-only"
    ]
   },
   "source": [
    "## Multiplexer circuit"
   ]
  },
  {
   "cell_type": "markdown",
   "id": "bb620e24-ec40-4192-b6fc-0440939d1de5",
   "metadata": {
    "slideshow": {
     "slide_type": "skip"
    },
    "tags": [
     "notes-only"
    ]
   },
   "source": [
    "* Semantics\n",
    "    ```\n",
    "    select == 1 ==> output A's value\n",
    "    select == 0 ==> output B's value\n",
    "    ```\n",
    "* Truth-table\n",
    "\n",
    "| `select` | `A` | `B` | `out` |\n",
    "|----------|-----|-----|-------|\n",
    "|     0    |  0  |  0  |   0   |\n",
    "|     0    |  0  |  1  |   1   |\n",
    "|     0    |  1  |  0  |   0   |\n",
    "|     0    |  1  |  1  |   1   |\n",
    "|     1    |  0  |  0  |   0   |\n",
    "|     1    |  0  |  1  |   0   |\n",
    "|     1    |  1  |  0  |   1   |\n",
    "|     1    |  1  |  1  |   1   |\n",
    "\n",
    "* Logical formula\n",
    "    ```\n",
    "    (NOT(select) AND NOT(A) AND (B)) OR\n",
    "    (NOT(select) AND (A) AND (B)) OR\n",
    "    (select AND (A) AND (B)) OR\n",
    "    (select AND (A) AND NOT(B)) OR\n",
    "    ```\n",
    "* Simplified logical formula\n",
    "    ```\n",
    "    (NOT(select) AND (B)) OR (select AND (A))\n",
    "    ```\n",
    "* Circuit\n",
    "    <img src=\"https://diveintosystems.org/book/C5-Arch/_images/1bitmux.png\" width=\"500\" />\n",
    "    \n",
    "* Given n selection bits, mux select between 2^n different inputs"
   ]
  }
 ],
 "metadata": {
  "kernelspec": {
   "display_name": "C",
   "language": "c",
   "name": "c"
  },
  "language_info": {
   "file_extension": ".c",
   "mimetype": "text/plain",
   "name": "c"
  }
 },
 "nbformat": 4,
 "nbformat_minor": 5
}
