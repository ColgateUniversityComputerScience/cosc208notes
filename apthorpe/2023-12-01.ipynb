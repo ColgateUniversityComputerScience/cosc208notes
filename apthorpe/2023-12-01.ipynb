{
 "cells": [
  {
   "cell_type": "markdown",
   "id": "33410e11-322f-4e1e-979b-fe8de0e69a0e",
   "metadata": {
    "slideshow": {
     "slide_type": "skip"
    },
    "tags": []
   },
   "source": [
    "# Threads: Thread Synchronization\n",
    "_COSC 208, Introduction to Computer Systems, 2023-12-01_"
   ]
  },
  {
   "cell_type": "markdown",
   "id": "7b745dbf-4bfa-4331-87b1-1d6d0518484f",
   "metadata": {
    "slideshow": {
     "slide_type": "skip"
    },
    "tags": []
   },
   "source": [
    "## Announcements\n",
    "* Project 4 due Thursday @ 11pm"
   ]
  },
  {
   "cell_type": "markdown",
   "id": "91a6b9f6-e5e2-4677-8e45-9d026953759b",
   "metadata": {
    "slideshow": {
     "slide_type": "skip"
    },
    "tags": []
   },
   "source": [
    "## Outline\n",
    "* Warm-up\n",
    "* Virtual machines\n",
    "* Hypervisors\n",
    "* CPU sharing"
   ]
  },
  {
   "cell_type": "markdown",
   "id": "032a22c5-d1db-462d-b05b-f9a4a54db923",
   "metadata": {
    "tags": []
   },
   "source": [
    "## Warm-up"
   ]
  },
  {
   "cell_type": "markdown",
   "id": "a4fb9231-f2f3-4dad-8a4d-918d94e7f1aa",
   "metadata": {
    "slideshow": {
     "slide_type": "subslide"
    },
    "tags": []
   },
   "source": [
    "* Q1: _The `compute_gcf` function below finds the greatest common factor between two numbers. Complete the `main` function to use threads to compute the greatest common factor for all pairs of numbers in the `to_factor` array. The program should produce the following output:_\n",
    "    ```\n",
    "    The GCF of 48 and 52 is 4\n",
    "    The GCF of 25 and 100 is 25\n",
    "    The GCF of 120 and 340 is 20\n",
    "    ```"
   ]
  },
  {
   "cell_type": "code",
   "execution_count": null,
   "id": "a2d1f043-689d-42db-9ca5-a2d6c19bef45",
   "metadata": {
    "tags": [
     "worksheet-only"
    ]
   },
   "outputs": [],
   "source": [
    "#include <pthread.h>\n",
    "#include <stdio.h>\n",
    "#include <stdlib.h>\n",
    "\n",
    "void *compute_gcf(void *arg) {\n",
    "    int *pair = (int *)arg;\n",
    "    int *gcf = malloc(sizeof(int));\n",
    "    *gcf = 1;\n",
    "    for (int i = 2; i <= pair[0]; i++) {\n",
    "        if (pair[0] % i == 0 && pair[1] % i == 0) {\n",
    "            *gcf = i;\n",
    "        }\n",
    "    }\n",
    "    return gcf;\n",
    "}\n",
    "\n",
    "#define NUM_PAIRS 3\n",
    "\n",
    "int main() {\n",
    "    int pairs[NUM_PAIRS][2] = { {48, 52}, {25, 100}, {120, 340} };"
   ]
  },
  {
   "cell_type": "code",
   "execution_count": 17,
   "id": "9ad9cc23-c0a8-4219-ad45-9b9efdd4682c",
   "metadata": {
    "slideshow": {
     "slide_type": "skip"
    },
    "tags": [
     "notes-only"
    ]
   },
   "outputs": [
    {
     "name": "stdout",
     "output_type": "stream",
     "text": [
      "The GCF of 48 and 52 is 4\n",
      "The GCF of 25 and 100 is 25\n",
      "The GCF of 120 and 340 is 20\n"
     ]
    }
   ],
   "source": [
    "#include <pthread.h>\n",
    "#include <stdio.h>\n",
    "#include <stdlib.h>\n",
    "\n",
    "void *compute_gcf(void *arg) {\n",
    "    int *pair = (int *)arg;\n",
    "    int *gcf = malloc(sizeof(int));\n",
    "    *gcf = 1;\n",
    "    for (int i = 2; i <= pair[0]; i++) {\n",
    "        if (pair[0] % i == 0 && pair[1] % i == 0) {\n",
    "            *gcf = i;\n",
    "        }\n",
    "    }\n",
    "    return gcf;\n",
    "}\n",
    "\n",
    "#define NUM_PAIRS 3\n",
    "\n",
    "int main() {\n",
    "    int pairs[NUM_PAIRS][2] = { {48, 52}, {25, 100}, {120, 340} };\n",
    "    pthread_t threads[NUM_PAIRS];\n",
    "    for (int i = 0; i < NUM_PAIRS; i++) {\n",
    "        pthread_create(threads+i, NULL, &compute_gcf, pairs+i);\n",
    "    }\n",
    "    for (int i = 0; i < NUM_PAIRS; i++) {\n",
    "        int *gcf = NULL;\n",
    "        pthread_join(threads[i], (void **)&gcf);\n",
    "        printf(\"The GCF of %d and %d is %d\\n\", pairs[i][0], pairs[i][1], *gcf);\n",
    "    }\n",
    "}"
   ]
  }
 ],
 "metadata": {
  "kernelspec": {
   "display_name": "C",
   "language": "c",
   "name": "c"
  },
  "language_info": {
   "file_extension": ".c",
   "mimetype": "text/plain",
   "name": "c"
  }
 },
 "nbformat": 4,
 "nbformat_minor": 5
}
