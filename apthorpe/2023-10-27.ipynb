{
 "cells": [
  {
   "cell_type": "markdown",
   "id": "39d76db8-edb9-47d5-bec8-7998805660b3",
   "metadata": {
    "slideshow": {
     "slide_type": "skip"
    },
    "tags": []
   },
   "source": [
    "# Review: Midterm Exam 2\n",
    "_COSC 208, Introduction to Computer Systems, 2023-10-27_"
   ]
  },
  {
   "cell_type": "markdown",
   "id": "37653a99-1c8a-47ac-b68c-6e7336bb8328",
   "metadata": {
    "slideshow": {
     "slide_type": "skip"
    },
    "tags": []
   },
   "source": [
    "## Announcements\n",
    "* Midterm Exam 2: Mon, Oct 30 6:30pm-8:30pm in McGregory 314 & 315\n",
    "* No class Monday\n",
    "* No lab next week\n",
    "* Project 3 due Thurs, Nov 9"
   ]
  },
  {
   "cell_type": "markdown",
   "id": "3bbf6afc-600b-41a2-814f-f3933e2118ce",
   "metadata": {
    "slideshow": {
     "slide_type": "slide"
    },
    "tags": []
   },
   "source": [
    "## Dynamic memory allocation"
   ]
  },
  {
   "cell_type": "markdown",
   "id": "98b36027-6930-4192-b755-d93e261b5cbd",
   "metadata": {},
   "source": [
    "Q2: _The function below allocates several regions of memory on the heap. Draw a diagram that depicts the contents of the stack and heap at the end of main. Label each memory region with its size in bytes.)_"
   ]
  },
  {
   "cell_type": "code",
   "execution_count": 1,
   "id": "6a0e4f38-19ef-4c29-8ba2-96853ee8f403",
   "metadata": {},
   "outputs": [],
   "source": [
    "#include <stdlib.h>\n",
    "int main() {\n",
    "    char **alpha = malloc(sizeof(char *) * 4);\n",
    "    char **beta = alpha;\n",
    "    for (int i = 1; i < 4; i++) {\n",
    "        alpha[i] = malloc(sizeof(char) * i);\n",
    "        *alpha[i] = i + 'a';\n",
    "        *beta = alpha[i];\n",
    "        beta++;\n",
    "    }\n",
    "}"
   ]
  },
  {
   "cell_type": "markdown",
   "id": "f745d267-934c-4ff0-943a-41f15228f57a",
   "metadata": {
    "slideshow": {
     "slide_type": "skip"
    },
    "tags": [
     "notes-only"
    ]
   },
   "source": [
    "```\n",
    "Stack                         Heap\n",
    "\n",
    "alpha (8B)                    (4 * 8B = 32B) \n",
    "┌────────┐                    ┌────────┬────────┬────────┬────────┐\n",
    "│   ~~~~~~~~~~~~~~~~~~~~~~~~~>│   |    │   |    │   |    │   |    │\n",
    "└────────┘                    └───|────┴───|────┴───|────┴───|────┘\n",
    "                                  |        |        |╭~~~~~~~╯  ^\n",
    "                                  V        V        VV          |\n",
    "                                  ┌─┐      ┌─┬─┐    ┌─┬─┬─┐     |\n",
    "                                  │b│      │c│ │    │d│ │ │     |\n",
    "                                  └─┘      └─┴─┘    └─┴─┴─┘     |\n",
    "beta (8B)                         (1B)     (2B)     (3B)        |\n",
    "┌────────┐                                                      |                        \n",
    "│   ~~~~~~~~~~~~~~~~~~~~~~~~~~~~~~~~~~~~~~~~~~~~~~~~~~~~~~~~~~~~╯\n",
    "└────────┘\n",
    "\n",
    "i (4B)\n",
    "┌────┐                        \n",
    "│ 4  │ \n",
    "└────┘\n",
    "```"
   ]
  },
  {
   "cell_type": "markdown",
   "id": "e725f396-1825-45d7-9287-0b3b724f26a1",
   "metadata": {
    "slideshow": {
     "slide_type": "skip"
    },
    "tags": [
     "worksheet-only"
    ]
   },
   "source": [
    "<div style=\"page-break-after:always;\"></div>"
   ]
  },
  {
   "cell_type": "markdown",
   "id": "581b1676-43ff-4dc8-9d86-81b54c7eb061",
   "metadata": {
    "slideshow": {
     "slide_type": "slide"
    },
    "tags": []
   },
   "source": [
    "## Data structures using dynamic memory allocation"
   ]
  },
  {
   "cell_type": "markdown",
   "id": "dc90cf5f-68e6-400a-ada7-04bcf13a93c7",
   "metadata": {},
   "source": [
    "Q3: _The following code provides a function to add an integer value to the end of a queue:_"
   ]
  },
  {
   "cell_type": "code",
   "execution_count": null,
   "id": "0c08b2d7-7f5e-42ab-be41-a180817c35f8",
   "metadata": {},
   "outputs": [],
   "source": [
    "#include <stdlib.h>\n",
    "struct item {\n",
    "    int value;\n",
    "    struct item *next;\n",
    "}   \n",
    "struct item *enqueue(struct item *head, int value) {\n",
    "    // Allocate new item and populate\n",
    "    struct item *new = malloc(sizeof(struct item));\n",
    "    new->value = value;\n",
    "    new->next = NULL;\n",
    "\n",
    "    // Item becomes new head if queue is empty\n",
    "    if (NULL == head) {\n",
    "        return new;\n",
    "    }\n",
    "    \n",
    "    // Item goes at the end of the queue\n",
    "    while (head->next != NULL) {\n",
    "        head = head->next;\n",
    "    }\n",
    "    head->next = new;\n",
    "    return new;\n",
    "}"
   ]
  },
  {
   "cell_type": "markdown",
   "id": "d61cf9fc-c544-4f6d-a210-a4dcae05f092",
   "metadata": {},
   "source": [
    "_Write a corresponding `dequeue` function that removes the head of the queue, stores its value in the memory location pointed to by the `result` argument, and returns the new head (which may be `NULL`). If the queue is empty, return `NULL` and leave the contents of result untouched. Your function should be written such that there are no memory leaks._"
   ]
  },
  {
   "cell_type": "code",
   "execution_count": null,
   "id": "7bf0dd0f-f5b9-4c9a-b1e0-4ab7a390cae1",
   "metadata": {
    "slideshow": {
     "slide_type": "skip"
    },
    "tags": [
     "notes-only"
    ]
   },
   "outputs": [],
   "source": [
    "struct item *dequeue(struct item *head, int *result) {\n",
    "    // Do nothing if queue is empty\n",
    "    if (NULL == head) {\n",
    "        return NULL;\n",
    "    }\n",
    "\n",
    "    *result = head->value;\n",
    "    struct item *new_head = head->next;\n",
    "    free(head);\n",
    "    return new_head;\n",
    "}"
   ]
  },
  {
   "cell_type": "markdown",
   "id": "683692d3-49c4-440b-b463-2880c0081a17",
   "metadata": {
    "slideshow": {
     "slide_type": "skip"
    },
    "tags": [
     "worksheet-only"
    ]
   },
   "source": [
    "<div style=\"page-break-after:always;\"></div>"
   ]
  },
  {
   "cell_type": "markdown",
   "id": "d037503d-674a-4e30-a05d-26feee1e76af",
   "metadata": {
    "slideshow": {
     "slide_type": "slide"
    },
    "tags": []
   },
   "source": [
    "## Circuits"
   ]
  },
  {
   "cell_type": "markdown",
   "id": "9d3c6c7a-a71e-4f82-b85a-593254b3a764",
   "metadata": {},
   "source": [
    "Q4: _Draw a 1-bit circuit for `A < B` using only `AND`, `OR`, and `NOT` gates. Show your work (i.e., any intermediate design steps you took)._"
   ]
  },
  {
   "cell_type": "markdown",
   "id": "fd57ea61-edd9-429b-ac92-b2c722b6e37e",
   "metadata": {
    "slideshow": {
     "slide_type": "skip"
    },
    "tags": [
     "notes-only"
    ]
   },
   "source": [
    "| A | B | A < B |\n",
    "| - | - | ----- |\n",
    "| 0 | 0 |   0   |\n",
    "| 0 | 1 |   1   |\n",
    "| 1 | 0 |   0   |\n",
    "| 1 | 1 |   0   |\n",
    "\n",
    "```\n",
    "NOT(A) AND B\n",
    "```\n",
    "\n",
    "![](images/circuits/a_lt_b.png)"
   ]
  },
  {
   "cell_type": "markdown",
   "id": "b71372d2-8268-461b-ae9a-1cb6940056c0",
   "metadata": {
    "slideshow": {
     "slide_type": "skip"
    },
    "tags": [
     "worksheet-only"
    ]
   },
   "source": [
    "<p style=\"height:20em;\"></p>"
   ]
  },
  {
   "cell_type": "markdown",
   "id": "25a3eb59-0de9-48ac-9f18-7b13b21fb82c",
   "metadata": {
    "slideshow": {
     "slide_type": "fragment"
    },
    "tags": []
   },
   "source": [
    "Q5: _Assume you have access to 1-bit circuits for `A < B`, `A == B`, and `A > B` and logic gates for `AND`, `OR`, and `NOT`. Draw a 2-bit circuit for `A < B` which uses the existing circuits and logic gates. Assume `A1` and `B1` are the most significant bits, and `A2` and `B2` are the least significant bits._"
   ]
  },
  {
   "cell_type": "markdown",
   "id": "0450967f-72d0-4c81-ade4-e317804d93f1",
   "metadata": {
    "slideshow": {
     "slide_type": "skip"
    },
    "tags": [
     "notes-only"
    ]
   },
   "source": [
    "| A1 A2 | B1 B2 | A < B |\n",
    "| ----- | ----- | ----- |\n",
    "| 0   0 | 0   0 |   0   |\n",
    "| 0   1 | 0   0 |   0   |\n",
    "| 1   0 | 0   0 |   0   |\n",
    "| 1   1 | 0   0 |   0   |\n",
    "| 0   0 | 0   1 |   1   |\n",
    "| 0   1 | 0   1 |   0   |\n",
    "| 1   0 | 0   1 |   0   |\n",
    "| 1   1 | 0   1 |   0   |\n",
    "| 0   0 | 1   0 |   1   |\n",
    "| 0   1 | 1   0 |   1   |\n",
    "| 1   0 | 1   0 |   0   |\n",
    "| 1   1 | 1   0 |   0   |\n",
    "| 0   0 | 1   1 |   1   |\n",
    "| 0   1 | 1   1 |   1   |\n",
    "| 1   0 | 1   1 |   1   |\n",
    "| 1   1 | 1   1 |   0   |\n",
    "\n",
    "![](images/circuits/2bit_a_lt_b.png)"
   ]
  },
  {
   "cell_type": "markdown",
   "id": "d3b6a830-d2ca-4010-b66d-66db73552141",
   "metadata": {
    "slideshow": {
     "slide_type": "skip"
    },
    "tags": [
     "worksheet-only"
    ]
   },
   "source": [
    "<div style=\"page-break-after:always;\"></div>"
   ]
  },
  {
   "cell_type": "markdown",
   "id": "61d61fd8-ee58-4e57-99b9-a243be0c5ea7",
   "metadata": {
    "slideshow": {
     "slide_type": "subslide"
    },
    "tags": []
   },
   "source": [
    "Q6: _Use the available circuits to create a processing unit with four registers and four operations (`+`, `-`, `<`, and `==`)._"
   ]
  },
  {
   "cell_type": "markdown",
   "id": "ba1483a3-6e9c-4aa0-857a-ddb09a0ad029",
   "metadata": {},
   "source": [
    "![](images/circuits/processing_unit_empty.png)"
   ]
  },
  {
   "cell_type": "markdown",
   "id": "a14f6cd0-8e12-44cc-b2c7-a22bcb95ca52",
   "metadata": {
    "slideshow": {
     "slide_type": "skip"
    },
    "tags": [
     "notes-only"
    ]
   },
   "source": [
    "![](images/circuits/processing_unit_complete.png)"
   ]
  },
  {
   "cell_type": "markdown",
   "id": "d41c8199-ac7a-4890-ab6d-b00a3d718ae6",
   "metadata": {
    "slideshow": {
     "slide_type": "skip"
    },
    "tags": [
     "worksheet-only"
    ]
   },
   "source": [
    "<div style=\"page-break-after:always;\"></div>"
   ]
  },
  {
   "cell_type": "markdown",
   "id": "534b4bad-ab7f-4a1c-83b4-2e8da81c4dec",
   "metadata": {
    "slideshow": {
     "slide_type": "slide"
    },
    "tags": []
   },
   "source": [
    "## Assembly\n",
    "### C code"
   ]
  },
  {
   "cell_type": "code",
   "execution_count": null,
   "id": "43d30a5d-7c4a-4874-96fb-5321e17e7d6b",
   "metadata": {},
   "outputs": [],
   "source": [
    "/* 1*/  int interest_due(int outstanding, int rate) {\n",
    "/* 2*/      int divisor = 1200;\n",
    "/* 3*/      int annual = outstanding * rate;\n",
    "/* 4*/      int monthly = annual / divisor;\n",
    "/* 5*/      return monthly;\n",
    "/* 6*/  }\n",
    "/* 7*/\n",
    "/* 8*/  int make_payment(int outstanding, int payment, int rate) {\n",
    "/* 9*/      int interest = interest_due(outstanding, rate);\n",
    "/*10*/      int principal = payment - interest;\n",
    "/*11*/      if (principal > outstanding) {\n",
    "/*12*/          outstanding = 0;\n",
    "/*13*/      } else {\n",
    "/*14*/          outstanding -= principal;    \n",
    "/*15*/      }\n",
    "/*16*/      return outstanding;\n",
    "/*17*/  }"
   ]
  },
  {
   "cell_type": "markdown",
   "id": "e03903b5-78f8-4fe1-af36-8b1796078743",
   "metadata": {},
   "source": [
    "### Assembly code\n",
    "Q7: _For each line of assembly code, **indicate which line of C code was used to generate that line of assembly** code._"
   ]
  },
  {
   "cell_type": "markdown",
   "id": "c8a91b09-884a-4328-ab41-869bf5b30f3c",
   "metadata": {
    "slideshow": {
     "slide_type": "skip"
    },
    "tags": [
     "notes-only"
    ]
   },
   "source": [
    "```\n",
    "00000000004005d4 <interest_due>:\n",
    "  4005d4:    d10083ff     sub    sp, sp, #0x20   // 1\n",
    "  4005d8:    b9001fe0     str    w0, [sp, #28]   // 1\n",
    "  4005dc:    b9001be1     str    w1, [sp, #24]   // 1\n",
    "  4005e0:    52809608     mov    w8, #0x4b0      // 2\n",
    "  4005e4:    b90017e8     str    w8, [sp, #20]   // 2\n",
    "  4005e8:    b9401fe8     ldr    w8, [sp, #28]   // 3\n",
    "  4005ec:    b9401be9     ldr    w9, [sp, #24]   // 3\n",
    "  4005f0:    1b097d08     mul    w8, w8, w9      // 3\n",
    "  4005f4:    b90013e8     str    w8, [sp, #16]   // 3\n",
    "  4005f8:    b94013e8     ldr    w8, [sp, #16]   // 4\n",
    "  4005fc:    b94017e9     ldr    w9, [sp, #20]   // 4\n",
    "  400600:    1ac90d08     sdiv   w8, w8, w9      // 4\n",
    "  400604:    b9000fe8     str    w8, [sp, #12]   // 4\n",
    "  400608:    b9400fe0     ldr    w0, [sp, #12]   // 5\n",
    "  40060c:    910083ff     add    sp, sp, #0x20   // 5\n",
    "  400610:    d65f03c0     ret                    // 5\n",
    "```"
   ]
  },
  {
   "cell_type": "markdown",
   "id": "871faf6c-d918-42e3-afc7-63ec7276be51",
   "metadata": {
    "slideshow": {
     "slide_type": "skip"
    },
    "tags": [
     "notes-only"
    ]
   },
   "source": [
    "```\n",
    "0000000000400614 <make_payment>:                 \n",
    "  400614:    d100c3ff     sub    sp, sp, #0x30   // 8\n",
    "  400618:    f90013fe     str    x30, [sp, #32]  // 8\n",
    "  40061c:    b9001fe0     str    w0, [sp, #28]   // 8\n",
    "  400620:    b9001be1     str    w1, [sp, #24]   // 8\n",
    "  400624:    b90017e2     str    w2, [sp, #20]   // 8\n",
    "  400628:    b9401fe0     ldr    w0, [sp, #28]   // 9\n",
    "  40062c:    b94017e1     ldr    w1, [sp, #20]   // 9\n",
    "  400630:    97ffffe9     bl     4005d4 <interest_due> // 9\n",
    "  400634:    b90013e0     str    w0, [sp, #16]   // 9\n",
    "  400638:    b9401be8     ldr    w8, [sp, #24]   // 10\n",
    "  40063c:    b94013e9     ldr    w9, [sp, #16]   // 10\n",
    "  400640:    6b090108     subs    w8, w8, w9     // 10\n",
    "  400644:    b9000fe8     str    w8, [sp, #12]   // 10\n",
    "  400648:    b9400fe8     ldr    w8, [sp, #12]   // 11\n",
    "  40064c:    b9401fe9     ldr    w9, [sp, #28]   // 11\n",
    "  400650:    6b09011f     cmp    w8, w9          // 11\n",
    "  400654:    5400006d     b.le   400660 <make_payment+0x4c>  // 11\n",
    "  400658:    b9001fff     str    wzr, [sp, #28]  // 12\n",
    "  40065c:    14000005     b      400670 <make_payment+0x5c>  // 13\n",
    "  400660:    b9400fe8     ldr    w8, [sp, #12]   // 14\n",
    "  400664:    b9401fe9     ldr    w9, [sp, #28]   // 14\n",
    "  400668:    6b080128     subs   w8, w9, w8      // 14\n",
    "  40066c:    b9001fe8     str    w8, [sp, #28]   // 14\n",
    "  400670:    b9401fe0     ldr    w0, [sp, #28]   // 16\n",
    "  400674:    f94013fe     ldr    x30, [sp, #32]  // 16\n",
    "  400678:    9100c3ff     add    sp, sp, #0x30   // 16\n",
    "  40067c:    d65f03c0     ret                    // 16\n",
    "```"
   ]
  },
  {
   "cell_type": "markdown",
   "id": "d3f54849-17da-4d1d-bb30-c9fa2bc25f8a",
   "metadata": {
    "slideshow": {
     "slide_type": "subslide"
    },
    "tags": []
   },
   "source": [
    "```\n",
    "00000000004005d4 <interest_due>:\n",
    "  4005d4:    d10083ff     sub    sp, sp, #0x20  //\n",
    "  4005d8:    b9001fe0     str    w0, [sp, #28]  //\n",
    "  4005dc:    b9001be1     str    w1, [sp, #24]  //\n",
    "  4005e0:    52809608     mov    w8, #0x4b0     //\n",
    "  4005e4:    b90017e8     str    w8, [sp, #20]  //\n",
    "  4005e8:    b9401fe8     ldr    w8, [sp, #28]  //\n",
    "  4005ec:    b9401be9     ldr    w9, [sp, #24]  //\n",
    "  4005f0:    1b097d08     mul    w8, w8, w9     //\n",
    "  4005f4:    b90013e8     str    w8, [sp, #16]  //\n",
    "  4005f8:    b94013e8     ldr    w8, [sp, #16]  //\n",
    "  4005fc:    b94017e9     ldr    w9, [sp, #20]  //\n",
    "  400600:    1ac90d08     sdiv   w8, w8, w9     //\n",
    "  400604:    b9000fe8     str    w8, [sp, #12]  //\n",
    "  400608:    b9400fe0     ldr    w0, [sp, #12]  //\n",
    "  40060c:    910083ff     add    sp, sp, #0x20  //\n",
    "  400610:    d65f03c0     ret                   //\n",
    "```"
   ]
  },
  {
   "cell_type": "markdown",
   "id": "a6823af1-638b-45ee-996e-37e9353b31d9",
   "metadata": {
    "slideshow": {
     "slide_type": "subslide"
    },
    "tags": []
   },
   "source": [
    "```\n",
    "0000000000400614 <make_payment>:\n",
    "  400614:    d100c3ff     sub    sp, sp, #0x30   //\n",
    "  400618:    f90013fe     str    x30, [sp, #32]  //\n",
    "  40061c:    b9001fe0     str    w0, [sp, #28]   //\n",
    "  400620:    b9001be1     str    w1, [sp, #24]   //\n",
    "  400624:    b90017e2     str    w2, [sp, #20]   //\n",
    "  400628:    b9401fe0     ldr    w0, [sp, #28]   //\n",
    "  40062c:    b94017e1     ldr    w1, [sp, #20]   //\n",
    "  400630:    97ffffe9     bl     4005d4 <interest_due>  //\n",
    "  400634:    b90013e0     str    w0, [sp, #16]   //\n",
    "  400638:    b9401be8     ldr    w8, [sp, #24]   //\n",
    "  40063c:    b94013e9     ldr    w9, [sp, #16]   //\n",
    "  400640:    6b090108     subs   w8, w8, w9      //\n",
    "  400644:    b9000fe8     str    w8, [sp, #12]   //\n",
    "  400648:    b9400fe8     ldr    w8, [sp, #12]   //\n",
    "  40064c:    b9401fe9     ldr    w9, [sp, #28]   //\n",
    "  400650:    6b09011f     cmp    w8, w9          //\n",
    "  400654:    5400006d     b.le   400660 <make_payment+0x4c>  //\n",
    "  400658:    b9001fff     str    wzr, [sp, #28]  //\n",
    "  40065c:    14000005     b      400670 <make_payment+0x5c>  //\n",
    "  400660:    b9400fe8     ldr    w8, [sp, #12]   //\n",
    "  400664:    b9401fe9     ldr    w9, [sp, #28]   //\n",
    "  400668:    6b080128     subs   w8, w9, w8      //\n",
    "  40066c:    b9001fe8     str    w8, [sp, #28]   //\n",
    "  400670:    b9401fe0     ldr    w0, [sp, #28]   //\n",
    "  400674:    f94013fe     ldr    x30, [sp, #32]  //\n",
    "  400678:    9100c3ff     add    sp, sp, #0x30   //\n",
    "  40067c:    d65f03c0     ret                    //\n",
    "```"
   ]
  },
  {
   "cell_type": "markdown",
   "id": "7c748ea0-d2dc-4171-b3e1-4e472afbaf8b",
   "metadata": {
    "slideshow": {
     "slide_type": "subslide"
    },
    "tags": []
   },
   "source": [
    "### Transforming C code to use goto\n",
    "Q8: _Create a `make_payment_goto` function that behaves the same as the `make_payment` function but uses `goto` statements, just as a compiler would do when generating assembly code._"
   ]
  },
  {
   "cell_type": "code",
   "execution_count": null,
   "id": "26c25140-ad9e-46f4-89da-eafc478ed978",
   "metadata": {
    "tags": [
     "notes-only"
    ]
   },
   "outputs": [],
   "source": [
    "void make_payment_goto(int outstanding, int payment, int rate) {\n",
    "  int interest = interest_due(outstanding, rate);\n",
    "  int principal = payment - interest);\n",
    "  if (principal <= outstanding)\n",
    "    goto ELSE;\n",
    "  outstanding = 0;\n",
    "  goto END;\n",
    "ELSE:\n",
    "  outstanding == principal;\n",
    "END:\n",
    "  return outstanding;\n",
    "}"
   ]
  },
  {
   "cell_type": "markdown",
   "id": "31d3c783-37da-4551-9eeb-91e9c4442704",
   "metadata": {
    "tags": [
     "worksheet-only"
    ]
   },
   "source": [
    "<div style=\"page-break-after:always;\"></div>"
   ]
  },
  {
   "cell_type": "markdown",
   "id": "bd7879da-9167-4cf8-b955-7676903e1877",
   "metadata": {
    "slideshow": {
     "slide_type": "subslide"
    },
    "tags": []
   },
   "source": [
    "### Tracing assembly code\n",
    "Q9: _Assume the code starts executing at the beginning of the `make_payment` function (i.e., `pc = 0x400614)`. Draw a digram that shows the contents of the stack and registers immediately before executing the `ret` instruction in the `interest_due` function (i.e., before executing the assembly instruction at address `0x400610`). Your stack and registers should contain values (e.g., `0x400614`) *not* variable or register names._\n",
    "\n",
    "_Assume the initial values of the registers are as follows:_\n",
    "* `pc = 0x400614`\n",
    "* `sp = 0xf80`\n",
    "* `w0 = 100000`\n",
    "* `w1 = 500`\n",
    "* `w2 = 3`\n",
    "* `x30 = 0x96c`"
   ]
  },
  {
   "cell_type": "markdown",
   "id": "8b16c34c-430b-4219-aea7-6713222378df",
   "metadata": {
    "slideshow": {
     "slide_type": "skip"
    },
    "tags": [
     "notes-only"
    ]
   },
   "source": [
    "Final register values:\n",
    "* `pc = 0x400610`\n",
    "* `sp = 0xF50`\n",
    "* `w/x0 = 250`\n",
    "* `w/x1 = 3`\n",
    "* `w/x2 = 3`\n",
    "* `w/x8 = 250`\n",
    "* `w/x9 = 0x4B0`\n",
    "* `x30 = 0x400634`\n",
    "\n",
    "Final stack:\n",
    "```\n",
    "      ┌─────────────────┐   ──╮\n",
    "0xF30 │                 │     │\n",
    "      ├────────┬────────┤     │\n",
    "0xF38 │        │  250   │     │\n",
    "      ├────────┼────────┤     │ months_remain\n",
    "0xF40 │ 300000 │  0x4B0 │     │\n",
    "      ├────────┼────────┤     │\n",
    "0xF48 │   3    │ 100000 │     │\n",
    "sp ─> ├────────┴────────┤   ──┤\n",
    "0xF50 │                 │     │\n",
    "      ├─────────────────┤     │\n",
    "0xF58 │                 │     │\n",
    "      ├────────┬────────┤     │\n",
    "0xF60 │        │   3    │     │\n",
    "      ├────────┼────────┤     │ make_payment\n",
    "0xF68 │   500  │ 100000 │     │\n",
    "      ├────────┴────────┤     │\n",
    "0xF70 │      0x96C      │     │\n",
    "      ├─────────────────┤     │\n",
    "0xF78 │                 │     │\n",
    "      ├─────────────────┤   ──╯\n",
    "0xF80 │                 │\n",
    "      └─────────────────┘\n",
    "```"
   ]
  }
 ],
 "metadata": {
  "kernelspec": {
   "display_name": "C",
   "language": "c",
   "name": "c"
  },
  "language_info": {
   "file_extension": ".c",
   "mimetype": "c",
   "name": "c"
  }
 },
 "nbformat": 4,
 "nbformat_minor": 5
}
