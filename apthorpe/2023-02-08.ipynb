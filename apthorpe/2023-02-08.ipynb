{
 "cells": [
  {
   "cell_type": "markdown",
   "id": "7f1ef6ff-3d55-41d4-a087-f6ad0221f41a",
   "metadata": {
    "slideshow": {
     "slide_type": "skip"
    },
    "tags": []
   },
   "source": [
    "# Number representation: type conversion; binary arithmetic\n",
    "_COSC 208, Introduction to Computer Systems, 2023-02-08_"
   ]
  },
  {
   "cell_type": "markdown",
   "id": "e4101c49-313a-40aa-9554-8b414a08008f",
   "metadata": {
    "slideshow": {
     "slide_type": "skip"
    },
    "tags": []
   },
   "source": [
    "## Announcements\n",
    "* DEI assignment 1 due tomorrow @ 11pm\n",
    "* Programming project 1 due Thurs, Feb 16 @ 11pm"
   ]
  },
  {
   "cell_type": "markdown",
   "id": "c39c0ff4-433c-45ab-abd3-3547ed1fc965",
   "metadata": {
    "slideshow": {
     "slide_type": "skip"
    },
    "tags": []
   },
   "source": [
    "## Outline\n",
    "* Warm-up\n",
    "* Type conversion\n",
    "* Binary arithmetic"
   ]
  },
  {
   "cell_type": "markdown",
   "id": "1ce60573-d0d9-4ce0-b186-179f6a2ed10e",
   "metadata": {
    "slideshow": {
     "slide_type": "slide"
    },
    "tags": []
   },
   "source": [
    "## Warm-up\n",
    "_Express the following decimal numbers using 8-bit two's complement_\n",
    "* Q1: `-49`"
   ]
  },
  {
   "cell_type": "markdown",
   "id": "c729e4ec-8ace-4119-971c-081e4b376646",
   "metadata": {
    "slideshow": {
     "slide_type": "skip"
    },
    "tags": [
     "notes-only"
    ]
   },
   "source": [
    "    0b11001111"
   ]
  },
  {
   "cell_type": "markdown",
   "id": "3493a647-9c36-47b7-8bae-34bf4512cbb6",
   "metadata": {
    "slideshow": {
     "slide_type": "skip"
    },
    "tags": [
     "worksheet-only"
    ]
   },
   "source": [
    "<p style=\"height:6em;\"></p>"
   ]
  },
  {
   "cell_type": "markdown",
   "id": "3b944bf2-6da2-4c7a-9a0c-53da0daedb62",
   "metadata": {
    "jp-MarkdownHeadingCollapsed": true,
    "tags": []
   },
   "source": [
    "* Q2: `-11`"
   ]
  },
  {
   "cell_type": "markdown",
   "id": "0a157c82-6a1b-417e-be42-c54988773b67",
   "metadata": {
    "slideshow": {
     "slide_type": "skip"
    },
    "tags": [
     "notes-only"
    ]
   },
   "source": [
    "    0b11110101"
   ]
  },
  {
   "cell_type": "markdown",
   "id": "48defbc8-3dee-497e-839e-ae3b6a86f342",
   "metadata": {
    "slideshow": {
     "slide_type": "skip"
    },
    "tags": [
     "worksheet-only"
    ]
   },
   "source": [
    "<p style=\"height:6em;\"></p>\n",
    "\n",
    "🛑 **STOP here** after completing the above questions; if you have extra time please **skip ahead** to the extra practice."
   ]
  },
  {
   "cell_type": "markdown",
   "id": "f05ea6ff-cb58-493e-a0c2-4fa5cb01cb8b",
   "metadata": {
    "slideshow": {
     "slide_type": "skip"
    },
    "tags": [
     "notes-only"
    ]
   },
   "source": [
    "* _What is the easy way to negate a number?_\n",
    "    * Flip all bits and add 1\n",
    "    * Example: \n",
    "        * 11 = `0b00001011`\n",
    "        * Flip bits: `0b11110100`\n",
    "        * Add 1: `0b11110101`"
   ]
  },
  {
   "cell_type": "markdown",
   "id": "6b2d45e2-72ce-4220-b235-8f48ff08d9b5",
   "metadata": {
    "slideshow": {
     "slide_type": "slide"
    },
    "tags": []
   },
   "source": [
    "## Type conversion"
   ]
  },
  {
   "cell_type": "markdown",
   "id": "3c8cdbe9-b02d-48d9-8646-4e0e3ff9fa1e",
   "metadata": {
    "slideshow": {
     "slide_type": "skip"
    },
    "tags": [
     "notes-only"
    ]
   },
   "source": [
    "* Format specifiers for printing decimal numbers indicate whether to interpret the number as signed or unsigned – e.g.,"
   ]
  },
  {
   "cell_type": "code",
   "execution_count": 2,
   "id": "fc8fe166-e15a-4a91-a9fe-58297baea8b0",
   "metadata": {
    "tags": [
     "worksheet-code-only"
    ]
   },
   "outputs": [
    {
     "name": "stdout",
     "output_type": "stream",
     "text": [
      "-123456 4294843840\n"
     ]
    }
   ],
   "source": [
    "#include <stdio.h>\n",
    "int main() {\n",
    "    int x = -123456;\n",
    "    printf(\"%d %u\\n\", x, x);\n",
    "}"
   ]
  },
  {
   "cell_type": "markdown",
   "id": "69661ad4-375b-4513-97dc-addefc7d4038",
   "metadata": {
    "slideshow": {
     "slide_type": "skip"
    },
    "tags": [
     "notes-only"
    ]
   },
   "source": [
    "* Range of numbers each type can accommodate depends on the number of bits of memory reserved for a variable of that type\n",
    "    * `char` - 8 bits --> 0 to 255 (unsigned) or -128 to 127 (signed)\n",
    "    * `int` – 32 bits --> 0 to ~4.2 billion (unsigned) or ~-2.1 billion to ~2.1 billion (signed)\n",
    "    * `long` – 64 bits --> 0 to ~18 quadrillion (unsigned) or ~-9 quadrillion to 9 quadrillion (signed)\n",
    "* _What happens if you attempt to assign a constant value that is too large to represent using the number of available bits?_ – e.g.,"
   ]
  },
  {
   "cell_type": "code",
   "execution_count": 4,
   "id": "e839d74d-b5b9-496b-a274-752d700c913e",
   "metadata": {
    "slideshow": {
     "slide_type": "subslide"
    },
    "tags": [
     "worksheet-code-only"
    ]
   },
   "outputs": [
    {
     "name": "stderr",
     "output_type": "stream",
     "text": [
      "/var/folders/bd/35sz70xs5837wszrx11bw1yc0000gn/T/tmph0fix2tx.c:3:23: warning: implicit conversion from 'int' to 'unsigned char' changes value from 300 to 44 [-Wconstant-conversion]\n",
      "    unsigned char c = 300;\n",
      "                  ~   ^~~\n",
      "1 warning generated.\n"
     ]
    },
    {
     "name": "stdout",
     "output_type": "stream",
     "text": [
      "44\n"
     ]
    }
   ],
   "source": [
    "#include <stdio.h>\n",
    "int main() {\n",
    "    unsigned char c = 300;\n",
    "    printf(\"%u\\n\", c);\n",
    "}"
   ]
  },
  {
   "cell_type": "markdown",
   "id": "6ee0aa4c-aa72-44fc-8d40-0e9084ad1afb",
   "metadata": {
    "slideshow": {
     "slide_type": "skip"
    },
    "tags": [
     "notes-only"
    ]
   },
   "source": [
    "* However, if you assign a variable whose value is too large to represent using the number of available bits, then the value is truncated but **no warning is generated** – e.g.,"
   ]
  },
  {
   "cell_type": "code",
   "execution_count": 5,
   "id": "9d6c3713-a465-4c70-9b30-ee4db1a0e030",
   "metadata": {
    "slideshow": {
     "slide_type": "subslide"
    },
    "tags": [
     "worksheet-code-only"
    ]
   },
   "outputs": [
    {
     "name": "stdout",
     "output_type": "stream",
     "text": [
      "44\n"
     ]
    }
   ],
   "source": [
    "#include <stdio.h>\n",
    "int main() {\n",
    "    unsigned int i = 300;\n",
    "    unsigned char c = i;\n",
    "    printf(\"%u\\n\", c);\n",
    "}"
   ]
  },
  {
   "cell_type": "markdown",
   "id": "f2548a19-8c2d-48cb-9007-c16f0b7c138e",
   "metadata": {
    "slideshow": {
     "slide_type": "skip"
    },
    "tags": [
     "notes-only"
    ]
   },
   "source": [
    "* Takeaway: carefully consider the range of values a variable can accommodate, because C will let you do things that are dangerous"
   ]
  },
  {
   "cell_type": "markdown",
   "id": "2d12daf8-9263-4601-bdd2-15675b3940d9",
   "metadata": {
    "slideshow": {
     "slide_type": "slide"
    },
    "tags": []
   },
   "source": [
    "## Binary arithmetic"
   ]
  },
  {
   "cell_type": "markdown",
   "id": "d58f5202-2a98-4a11-9dd0-fefec3d2f204",
   "metadata": {
    "slideshow": {
     "slide_type": "skip"
    },
    "tags": [
     "notes-only"
    ]
   },
   "source": [
    "* Addition: same as decimal, except you carry a one instead of a ten\n",
    "* Example: 5 + 5\n",
    "    ```\n",
    "      0b0101\n",
    "    + 0b0101\n",
    "    --------\n",
    "\n",
    "          1\n",
    "      0b0101\n",
    "    + 0b0101\n",
    "    --------\n",
    "           0\n",
    "\n",
    "         01\n",
    "      0b0101\n",
    "    + 0b0101\n",
    "    --------\n",
    "          10\n",
    "\n",
    "        101\n",
    "      0b0101\n",
    "    + 0b0101\n",
    "    --------\n",
    "         010\n",
    "\n",
    "        101\n",
    "      0b0101\n",
    "    + 0b0101\n",
    "    --------\n",
    "      0b1010\n",
    "    ```\n",
    "* Check our work:\n",
    "    ```\n",
    "    1 * 2^3 + 0 * 2^2 + 1 * 2^1 + 0 * 2^0 = 8 + 2 = 10 = 5+5\n",
    "    ```\n",
    "* Another example: 5 + -5\n",
    "    ```\n",
    "      0b0101\n",
    "    + 0b1011\n",
    "    --------\n",
    "\n",
    "          1\n",
    "      0b0101\n",
    "    + 0b1011\n",
    "    --------\n",
    "           0\n",
    "\n",
    "         11\n",
    "      0b0101\n",
    "    + 0b1011\n",
    "    --------\n",
    "          00\n",
    "\n",
    "        111\n",
    "      0b0101\n",
    "    + 0b1011\n",
    "    --------\n",
    "         000\n",
    "\n",
    "        111\n",
    "      0b0101\n",
    "    + 0b1011\n",
    "    --------\n",
    "        0000\n",
    "    (Carry-out => 1)\n",
    "    ```\n",
    "* Subtraction: add the negation"
   ]
  },
  {
   "cell_type": "markdown",
   "id": "92080527-5b93-4f1b-a40d-4b6bf3b98fd2",
   "metadata": {},
   "source": [
    "_Express the following decimal numbers using 8-bit two's complement, then use bitwise arithmetic:_\n",
    "* Q3: `10 + 5`"
   ]
  },
  {
   "cell_type": "markdown",
   "id": "3acf1f93-744a-4fb9-b5f9-e8a794212114",
   "metadata": {
    "slideshow": {
     "slide_type": "skip"
    },
    "tags": [
     "notes-only"
    ]
   },
   "source": [
    "    0b00001010 + 0b00000101 = 0b00001111"
   ]
  },
  {
   "cell_type": "markdown",
   "id": "9ee40fb8-a482-4116-b860-460e45fc6838",
   "metadata": {
    "slideshow": {
     "slide_type": "skip"
    },
    "tags": [
     "worksheet-only"
    ]
   },
   "source": [
    "<p style=\"height:8em;\"></p>"
   ]
  },
  {
   "cell_type": "markdown",
   "id": "5876801e-debc-4f56-b164-2a5e4a0bdb37",
   "metadata": {},
   "source": [
    "* Q4: `7 + 15`"
   ]
  },
  {
   "cell_type": "markdown",
   "id": "e26a6650-cce7-4210-8696-2fbecab4aa11",
   "metadata": {
    "slideshow": {
     "slide_type": "skip"
    },
    "tags": [
     "notes-only"
    ]
   },
   "source": [
    "    0b00000111 + 0b00001111 = 0b00010110"
   ]
  },
  {
   "cell_type": "markdown",
   "id": "43fc5bc9-c65c-445f-b0a5-8bc9b1c21fdc",
   "metadata": {
    "slideshow": {
     "slide_type": "skip"
    },
    "tags": [
     "worksheet-only"
    ]
   },
   "source": [
    "<p style=\"height:8em;\"></p>"
   ]
  },
  {
   "cell_type": "markdown",
   "id": "927eab12-724d-4384-b164-ab3ed9f61caf",
   "metadata": {},
   "source": [
    "* Q5: `-10 + 5`"
   ]
  },
  {
   "cell_type": "markdown",
   "id": "d038483c-1102-4f3a-b777-7d8ae41cbe5d",
   "metadata": {
    "slideshow": {
     "slide_type": "skip"
    },
    "tags": [
     "notes-only"
    ]
   },
   "source": [
    "    (0b11110101 + 0b1) + 0b00000101 = 0b11110110 + 0b00000101 = 0b11111011"
   ]
  },
  {
   "cell_type": "markdown",
   "id": "f2a88ebc-4e94-457c-a829-f5a1eb9e6710",
   "metadata": {
    "slideshow": {
     "slide_type": "skip"
    },
    "tags": [
     "worksheet-only"
    ]
   },
   "source": [
    "<p style=\"height:8em;\"></p>"
   ]
  },
  {
   "cell_type": "markdown",
   "id": "fd0a9898-cad4-4b3d-bb91-938523df7dbf",
   "metadata": {},
   "source": [
    "* Q6: `10 - 5`"
   ]
  },
  {
   "cell_type": "markdown",
   "id": "8031dca1-bcca-4b1b-82f1-51de0b49b1a2",
   "metadata": {
    "slideshow": {
     "slide_type": "skip"
    },
    "tags": [
     "notes-only"
    ]
   },
   "source": [
    "    0b00001010 + (0b11111010 + 0b1) = 0b00001010 + 0b11111011 = 0b00000101"
   ]
  },
  {
   "cell_type": "markdown",
   "id": "77fccebd-5de0-4fd5-b1a6-9ddabd8f41d6",
   "metadata": {
    "slideshow": {
     "slide_type": "skip"
    },
    "tags": [
     "worksheet-only"
    ]
   },
   "source": [
    "<p style=\"height:8em;\"></p>"
   ]
  },
  {
   "cell_type": "markdown",
   "id": "a31c32c9-fa79-4137-8932-115ce90fb7dc",
   "metadata": {},
   "source": [
    "* Q7: `64 + 64`"
   ]
  },
  {
   "cell_type": "markdown",
   "id": "2ade4df7-dd91-4aff-9e79-de5163733aeb",
   "metadata": {
    "slideshow": {
     "slide_type": "skip"
    },
    "tags": [
     "notes-only"
    ]
   },
   "source": [
    "    0b01000000 + 0b1000000 = 0b10000000"
   ]
  },
  {
   "cell_type": "markdown",
   "id": "5be56a18-f457-49de-9ec8-b2dff4a30c71",
   "metadata": {
    "slideshow": {
     "slide_type": "skip"
    },
    "tags": [
     "worksheet-only"
    ]
   },
   "source": [
    "<p style=\"height:8em;\"></p>"
   ]
  },
  {
   "cell_type": "markdown",
   "id": "7d0ad399-063a-46b0-b6e8-4e0451d3d121",
   "metadata": {
    "slideshow": {
     "slide_type": "slide"
    },
    "tags": []
   },
   "source": [
    "## Extra practice\n",
    "* Q8: _Write a function called `valid_hex` that takes a string and returns 1 if it is a valid hexadecimal number; otherwise return 0. A valid hexadecimal number must start with `0x` and only contain the digits `0`-`9` and letters `A`-`F` (in upper or lower case)._"
   ]
  },
  {
   "cell_type": "code",
   "execution_count": 9,
   "id": "2032eaa5-25b8-4f29-bff9-7743386d608f",
   "metadata": {
    "slideshow": {
     "slide_type": "skip"
    },
    "tags": [
     "notes-only"
    ]
   },
   "outputs": [],
   "source": [
    "#include <string.h>\n",
    "int valid_hex(char str[]) {\n",
    "    if (str[0] != '0' || str[1] != 'x') {\n",
    "        return 0;\n",
    "    }\n",
    "    for (int i = 2; i < strlen(str); i++) {\n",
    "        if (!((str[i] >= '0' && str[i] <= '9') \n",
    "            || (str[i] >= 'A' && str[i] <= 'F') \n",
    "            || (str[i] >= 'a' && str[i] <= 'f'))) {\n",
    "            return 0;\n",
    "        }\n",
    "    }\n",
    "    return 1;\n",
    "}\n",
    "// Testing\n",
    "#include <assert.h>\n",
    "int main() {\n",
    "    assert(valid_hex(\"0x12AB34\"));\n",
    "    assert(!valid_hex(\"12AB34\"));\n",
    "    assert(!valid_hex(\"0x12HI34\"));\n",
    "}"
   ]
  },
  {
   "cell_type": "markdown",
   "id": "920e352f-2b75-43dc-bb44-e780a3cc95e6",
   "metadata": {
    "slideshow": {
     "slide_type": "skip"
    },
    "tags": [
     "worksheet-only"
    ]
   },
   "source": [
    "<p style=\"page-break-after:always;\"></p>"
   ]
  },
  {
   "cell_type": "markdown",
   "id": "e36a964e-3628-421a-a8a6-4751433db6ca",
   "metadata": {},
   "source": [
    "* Q9: _Write a function called `bits_required` that takes an `unsigned long` decimal (i.e., base 10) number and returns the minimum number of bits required to represent the number._"
   ]
  },
  {
   "cell_type": "code",
   "execution_count": 11,
   "id": "76b19e6d-fdef-418d-95fc-01ba4f274188",
   "metadata": {
    "slideshow": {
     "slide_type": "skip"
    },
    "tags": [
     "notes-only"
    ]
   },
   "outputs": [],
   "source": [
    "int bits_required(unsigned long number) {\n",
    "    int bits = 0;\n",
    "    while (number > 0) {\n",
    "        bits++;\n",
    "        number = number / 2;\n",
    "    }\n",
    "    return bits;\n",
    "}\n",
    "// Testing\n",
    "#include <assert.h>\n",
    "int main() {\n",
    "    assert(bits_required(1) == 1);\n",
    "    assert(bits_required(2) == 2);\n",
    "    assert(bits_required(3) == 2);\n",
    "    assert(bits_required(10) == 4);\n",
    "}"
   ]
  },
  {
   "cell_type": "markdown",
   "id": "8a48c9d9-0c85-4378-84dd-f56ce43be828",
   "metadata": {
    "slideshow": {
     "slide_type": "skip"
    },
    "tags": [
     "worksheet-only"
    ]
   },
   "source": [
    "<p style=\"height:20em;\"></p>"
   ]
  },
  {
   "cell_type": "markdown",
   "id": "69d962f5-a5f2-4b6a-9bd7-36d9869ee724",
   "metadata": {
    "slideshow": {
     "slide_type": "subslide"
    },
    "tags": []
   },
   "source": [
    "* Q10: _Convert `0xFAB` to binary._"
   ]
  },
  {
   "cell_type": "markdown",
   "id": "472e4a07-e735-4def-ab6c-d9f7b7c9da03",
   "metadata": {
    "slideshow": {
     "slide_type": "skip"
    },
    "tags": [
     "notes-only"
    ]
   },
   "source": [
    "    0b111110101011"
   ]
  },
  {
   "cell_type": "markdown",
   "id": "64ae424d-430a-4b7c-99d2-b4636a721435",
   "metadata": {
    "slideshow": {
     "slide_type": "skip"
    },
    "tags": [
     "worksheet-only"
    ]
   },
   "source": [
    "<p style=\"height:4em;\"></p>"
   ]
  },
  {
   "cell_type": "markdown",
   "id": "bfccd889-8812-4c97-84ca-deded94c73f4",
   "metadata": {},
   "source": [
    "* Q11: _Convert `512` to unsigned binary._"
   ]
  },
  {
   "cell_type": "markdown",
   "id": "210e51ed-c51e-45bb-ad03-6a3457e9c40f",
   "metadata": {
    "slideshow": {
     "slide_type": "skip"
    },
    "tags": [
     "notes-only"
    ]
   },
   "source": [
    "    0b1000000000"
   ]
  },
  {
   "cell_type": "markdown",
   "id": "6fc2f025-b168-4e3a-b7c1-f4e3d5c71090",
   "metadata": {
    "slideshow": {
     "slide_type": "skip"
    },
    "tags": [
     "worksheet-only"
    ]
   },
   "source": [
    "<p style=\"height:4em;\"></p>"
   ]
  },
  {
   "cell_type": "markdown",
   "id": "57fd1608-a72a-4e1b-a895-dc7df3e1bcd3",
   "metadata": {},
   "source": [
    "* Q12: _Convert `-42` to 8-bit signed binary._"
   ]
  },
  {
   "cell_type": "markdown",
   "id": "48403128-c396-4404-8f4a-9f520a3d4e17",
   "metadata": {
    "slideshow": {
     "slide_type": "skip"
    },
    "tags": [
     "notes-only"
    ]
   },
   "source": [
    "    0b11010110"
   ]
  },
  {
   "cell_type": "markdown",
   "id": "611ebb70-7e17-4a73-8878-cf9959eabea5",
   "metadata": {
    "slideshow": {
     "slide_type": "skip"
    },
    "tags": [
     "worksheet-only"
    ]
   },
   "source": [
    "<p style=\"height:4em;\"></p>"
   ]
  }
 ],
 "metadata": {
  "kernelspec": {
   "display_name": "C",
   "language": "c",
   "name": "c"
  },
  "language_info": {
   "file_extension": ".c",
   "mimetype": "c",
   "name": "c"
  }
 },
 "nbformat": 4,
 "nbformat_minor": 5
}
