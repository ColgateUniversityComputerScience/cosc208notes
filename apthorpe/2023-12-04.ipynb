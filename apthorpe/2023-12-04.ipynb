{
 "cells": [
  {
   "cell_type": "markdown",
   "id": "33410e11-322f-4e1e-979b-fe8de0e69a0e",
   "metadata": {
    "slideshow": {
     "slide_type": "skip"
    },
    "tags": []
   },
   "source": [
    "# Virtualization: Virtualization\n",
    "_COSC 208, Introduction to Computer Systems, 2023-12-04_"
   ]
  },
  {
   "cell_type": "markdown",
   "id": "7b745dbf-4bfa-4331-87b1-1d6d0518484f",
   "metadata": {
    "slideshow": {
     "slide_type": "slide"
    },
    "tags": []
   },
   "source": [
    "## Announcements\n",
    "* Project 4 due Thursday @ 11pm"
   ]
  },
  {
   "cell_type": "markdown",
   "id": "b2c55b69-78bc-44b8-a8e4-72dd3b19c76d",
   "metadata": {
    "slideshow": {
     "slide_type": "slide"
    },
    "tags": [
     "notes-only"
    ]
   },
   "source": [
    "## Virtual machines (VMs)"
   ]
  },
  {
   "cell_type": "markdown",
   "id": "1d0cc848-4d83-4469-beb8-be9bfba9613d",
   "metadata": {
    "slideshow": {
     "slide_type": "skip"
    },
    "tags": [
     "notes-only"
    ]
   },
   "source": [
    "* Recall: _what is the purpose of an OS?_\n",
    "    * Make computer hardware easy to use—e.g., an OS knows how to load an application's executable code from persistent storage (e.g., solid state drive (SSD)) into main memory, initialize the process's memory (code, heap, stack), and make the CPU execute the application's instructions\n",
    "    * Support multiprocessing—i.e., running multiple applications simultaneously or concurrently\n",
    "    * Allocate and manage hardware resources—e.g., decide when/which applications can use the CPU, decide when/which memory applications can use, prevent applications from stealing/accessing another application's CPU time or memory\n",
    "* What is the purpose of a virtual machine?\n",
    "    * Make computer hardware flexible to use\n",
    "    * Support multiple OSes running concurrently\n",
    "    * Allocate and manage hardware resources—e.g., decide when/which VMs can use the CPU, decide/when which memory VMs can use, prevent VMS from stealing/accessing another VM's CPU time or memory\n",
    "* What is the motivation for using a virtual machine?\n",
    "    * Run multiple OSes concurrently — _why would someone one to do this?_\n",
    "        * Run software only supported by a specific OS\n",
    "        * Software testing\n",
    "        * Server consolidation\n",
    "        * Security sandboxing\n",
    "    * Flexibly use hardware resources"
   ]
  },
  {
   "cell_type": "markdown",
   "id": "a134d1a0-1fc1-425d-8e2d-d0c898d56321",
   "metadata": {
    "slideshow": {
     "slide_type": "slide"
    },
    "tags": [
     "notes-only"
    ]
   },
   "source": [
    "## Hypervisors"
   ]
  },
  {
   "cell_type": "markdown",
   "id": "ca17cc02-84fd-46ae-86cf-ece3354137fa",
   "metadata": {
    "slideshow": {
     "slide_type": "skip"
    },
    "tags": [
     "notes-only"
    ]
   },
   "source": [
    "* _What additional software layer does a computer system need to support virtual machines?_ — hypervisor\n",
    "* _Where does a hypervisor reside?_\n",
    "    * Type 1: on top of hardware — e.g., KVM, Xen, Hyper-V, VMware vSphere\n",
    "    * Type 2: on top of host OS — e.g., VirtualBox, VMware Workstation/Fusion\n",
    "* _Why is a type 1 hypervisor better than a type 2 hypervisor?_\n",
    "    * Resources can be oversubscribed\n",
    "    * No overhead from host OS\n",
    "* _Why is a type 2 hypervisor better than a type 1 hypervisor?_\n",
    "    * Easy to use"
   ]
  },
  {
   "cell_type": "markdown",
   "id": "2f638d8d-c5d3-461b-bfbf-11495cbd996e",
   "metadata": {
    "slideshow": {
     "slide_type": "subslide"
    },
    "tags": []
   },
   "source": [
    "* Q1: _Draw a diagram of a system that does **not** use a hypervisor or containers._"
   ]
  },
  {
   "cell_type": "markdown",
   "id": "df217f8c-3418-4a0a-a8e2-6d19b8d36b71",
   "metadata": {
    "slideshow": {
     "slide_type": "skip"
    },
    "tags": [
     "worksheet-only"
    ]
   },
   "source": [
    "<p style=\"height:10em;\"></p>"
   ]
  },
  {
   "cell_type": "markdown",
   "id": "6e0efd5c-ba40-4b4d-a8e0-690ae44357da",
   "metadata": {},
   "source": [
    "* Q2: _Draw a diagram of a system that uses a **type 1 hypervisor**._"
   ]
  },
  {
   "cell_type": "markdown",
   "id": "636a291a-c6a0-4a51-b824-6f36160ec57e",
   "metadata": {
    "slideshow": {
     "slide_type": "skip"
    },
    "tags": [
     "worksheet-only"
    ]
   },
   "source": [
    "<p style=\"height:10em;\"></p>"
   ]
  },
  {
   "cell_type": "markdown",
   "id": "3f874e4d-eb43-4161-8ca3-87518335964c",
   "metadata": {},
   "source": [
    "* Q3: _Draw a diagram of a system that uses a **type 2 hypervisor**._"
   ]
  },
  {
   "cell_type": "markdown",
   "id": "6fce365f-56b1-432a-a2d9-a790ae098d7b",
   "metadata": {
    "slideshow": {
     "slide_type": "skip"
    },
    "tags": [
     "worksheet-only"
    ]
   },
   "source": [
    "<p style=\"height:10em;\"></p>\n",
    "\n",
    "🛑 **STOP here** after completing the above questions; if you have extra time take a few deep breaths to reduce stress."
   ]
  },
  {
   "cell_type": "markdown",
   "id": "396d1231-905a-4d3f-b1c1-9721b0a5714f",
   "metadata": {
    "slideshow": {
     "slide_type": "slide"
    },
    "tags": [
     "notes-only"
    ]
   },
   "source": [
    "## CPU sharing"
   ]
  },
  {
   "cell_type": "markdown",
   "id": "cbdd931f-28db-4cff-9238-d8a4387dd6a3",
   "metadata": {
    "slideshow": {
     "slide_type": "skip"
    },
    "tags": [
     "notes-only"
    ]
   },
   "source": [
    "* Use same approach OS uses for sharing CPU between processes — Limited Direct Execution (LDE)\n",
    "* _Recall: How does LDE work in OS?_\n",
    "    * Put CPU in user mode\n",
    "    * Give process exclusive access to CPU\n",
    "    * Process issues a syscall to perform privileged operation\n",
    "    * Timer interrupt allows OS to regain control\n",
    "* To use LDE with a VM\n",
    "    * Put CPU in user mode\n",
    "    * Give VM exclusive access to CPU\n",
    "    * Process issues a syscall -OR- OS attempts to perform privileged operation\n",
    "    * Timer interrupt allows hypervisor to regain control\n",
    "* Recall: _How does a process make a syscall?_ — load syscall number into register `x8` and execute `svc` instruction\n",
    "* _What happens when a process makes a syscall?_\n",
    "    1. CPU saves registers to the OS stack\n",
    "    2. CPU switches to kernel mode\n",
    "    3. CPU uses system call number to index into OS's table of syscall handlers \n",
    "    4. Branch and link to syscall handler code\n",
    "    5. Restore registers from the OS stack\n",
    "    6. Switch CPU to user mode\n",
    "    7. Resume execution after `svc` \n",
    "* Syscalls with a type 1 hypervisor\n",
    "    * Processes in virtualized OS do the same as before\n",
    "    * Hypervisor’s syscall handler is invoked by hardware instead of OS’s syscall handler\n",
    "    * Actually want to invoke OS's syscall handler — the hypervisor does this\n",
    "    * Hypervisor knows where OS trap table is located, because populating syscall table is a privileged instruction, so hypervisor interposed on these operations when OS booted\n",
    "* Steps when process in virtualized OS makes a syscall\n",
    "    1. CPU saves registers to the hypervisor stack\n",
    "    2. CPU switches to kernel mode\n",
    "    3. CPU uses system call number to index into VM's table of syscall handlers \n",
    "    4. **Switch CPU from kernel to user mode**\n",
    "    5. Branch and link to syscall handler code\n",
    "    6. **Switch CPU from user to kernel mode**\n",
    "    7. Restore registers from the hypervisor stack\n",
    "    8. Switch CPU to user mode\n",
    "    9. Resume execution after `svc`\n",
    "* Extra work to always trap to hypervisor, which then invokes OS code\n",
    "* Possible solutions\n",
    "    * Hardware support — e.g., supervisor mode that is between user and kernel mode\n",
    "    * Para-virtualization — modify the OS so it's aware there is a hypervisor and the two can interact directly\n",
    "    * Containers — use a single OS, but create groups of processes that are isolated from other processes\n",
    "        * OS's process abstraction already isolates each process's CPU time, memory, and registers, but processes can still use syscalls to pass messages to each other, wait for each other, access a common set of files, etc."
   ]
  },
  {
   "cell_type": "markdown",
   "id": "f01342dd-6255-491f-849d-66fbe5a1dddb",
   "metadata": {
    "slideshow": {
     "slide_type": "slide"
    },
    "tags": [
     "notes-only"
    ]
   },
   "source": [
    "## Containers"
   ]
  },
  {
   "cell_type": "markdown",
   "id": "a8c1945d-de2d-4763-8375-f9211214cb66",
   "metadata": {
    "slideshow": {
     "slide_type": "skip"
    },
    "tags": [
     "notes-only"
    ]
   },
   "source": [
    "* Containers — use a single OS, but create groups of processes that are isolated from other processes\n",
    "    * OS's process abstraction already isolates each process's CPU time, memory, and registers, but processes can still use syscalls to pass messages to each other, wait for each other, access a common set of files, etc.\n",
    "* Containers share the kernel — i.e., core OS functionality like syscalls, scheduler, I/O interface\n",
    "    * VMs do **not** share the kernel\n",
    "* Containers and VMs do **not** share the file system ==> containers and virtual machines do **not** share libraries, executables, etc.\n",
    "* Containers and VMs do **not** share user accounts\n",
    "* Containers and VMs do **not** share network stacks ==> e.g., each container or VM has its own Internet Protocol (IP) address\n",
    "* Compute and storage resources (e.g., CPU, memory) available to containers and VMs can be limited\n",
    "* Containers and VMs share the hardware"
   ]
  }
 ],
 "metadata": {
  "kernelspec": {
   "display_name": "C",
   "language": "c",
   "name": "c"
  },
  "language_info": {
   "file_extension": ".c",
   "mimetype": "text/plain",
   "name": "c"
  }
 },
 "nbformat": 4,
 "nbformat_minor": 5
}
