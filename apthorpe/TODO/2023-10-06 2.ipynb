{
 "cells": [
  {
   "cell_type": "markdown",
   "id": "275f3326-b6de-4d7d-b41a-f17ec6a57354",
   "metadata": {
    "slideshow": {
     "slide_type": "skip"
    },
    "tags": []
   },
   "source": [
    "# Architecture: 1-bit circuits\n",
    "_COSC 208, Introduction to Computer Systems, 2023-10-06_"
   ]
  },
  {
   "cell_type": "markdown",
   "id": "9db293af-f9ec-4262-b568-ef1906a523b4",
   "metadata": {
    "slideshow": {
     "slide_type": "skip"
    },
    "tags": []
   },
   "source": [
    "## Announcements\n",
    "* Project 2 due Thurs, Oct 19 @ 11pm"
   ]
  },
  {
   "cell_type": "markdown",
   "id": "bede1ded-97f6-4a28-9335-116fd9ea868f",
   "metadata": {
    "slideshow": {
     "slide_type": "skip"
    },
    "tags": []
   },
   "source": [
    "## Outline\n",
    "* Warm-up\n",
    "* 1-bit circuits"
   ]
  },
  {
   "cell_type": "markdown",
   "id": "ec5a627e-3091-47d8-bc50-fb6394d09f90",
   "metadata": {
    "slideshow": {
     "slide_type": "slide"
    },
    "tags": []
   },
   "source": [
    "## Warm-up"
   ]
  },
  {
   "cell_type": "markdown",
   "id": "5df9ae60-c078-4a9b-a9bf-0c2911282919",
   "metadata": {},
   "source": [
    "* Q1: _Fill-in the truth table for the following logical operations_"
   ]
  },
  {
   "cell_type": "markdown",
   "id": "ebc84d45-e2e2-4937-846d-0167c4c24b73",
   "metadata": {
    "slideshow": {
     "slide_type": "skip"
    },
    "tags": [
     "notes-only"
    ]
   },
   "source": [
    "| A | B | (A != B) | (A > B) | (A >= B) |\n",
    "| - | - | -------- | ------- | -------- |\n",
    "| 0 | 0 |    0     |    0    |    1     |\n",
    "| 0 | 1 |    1     |    0    |    0     |\n",
    "| 1 | 0 |    1     |    1    |    1     |\n",
    "| 1 | 1 |    0     |    0    |    1     |"
   ]
  },
  {
   "cell_type": "markdown",
   "id": "ea0b9bda-7b0e-45a4-bb02-9ca21d1623d5",
   "metadata": {
    "tags": [
     "worksheet-only"
    ]
   },
   "source": [
    "| A | B | (A != B) | (A > B) | (A >= B) |\n",
    "| - | - | -------- | ------- | -------- |\n",
    "| 0 | 0 |          |         |          |\n",
    "| 0 | 1 |          |         |          |\n",
    "| 1 | 0 |          |         |          |\n",
    "| 1 | 1 |          |         |          |"
   ]
  },
  {
   "cell_type": "markdown",
   "id": "173f4a19-85ac-4d33-8daf-862cbdba27aa",
   "metadata": {
    "slideshow": {
     "slide_type": "skip"
    },
    "tags": [
     "worksheet-only"
    ]
   },
   "source": [
    "🛑 **STOP here** after completing the above questions; if you have extra time please **skip ahead** to the extra practice."
   ]
  },
  {
   "cell_type": "markdown",
   "id": "6ad8d2d2-f321-4d58-9b28-43e3efdf8330",
   "metadata": {
    "slideshow": {
     "slide_type": "slide"
    },
    "tags": []
   },
   "source": [
    "## 1-bit circuits"
   ]
  },
  {
   "cell_type": "markdown",
   "id": "b8e224d2-78dc-46a7-903d-213864264dd5",
   "metadata": {
    "slideshow": {
     "slide_type": "skip"
    },
    "tags": [
     "notes-only"
    ]
   },
   "source": [
    "* _Design the truth table: e.g., A != B_\n",
    "\n",
    "| A | B | A != B |\n",
    "| - | - | ------ |\n",
    "| 0 | 0 |   0    |\n",
    "| 0 | 1 |   1    |\n",
    "| 1 | 0 |   1    |\n",
    "| 1 | 1 |   0    |\n",
    "\n",
    "* For each row where the output value is 1:\n",
    "    * Determine how to make each input 1 — e.g., either `A` or `NOT(A)`\n",
    "    * Conjunct the two subexpressions — e.g., `NOT(A) AND B`\n",
    "* Create the disjunction of the expressions for each row — e.g., `(NOT(A) AND B) OR (A AND NOT(B))`\n",
    "* Create a circuit from left to right, starting with the inner-most subexpressions\n",
    "\n",
    "    ![](images/circuits/gate_xor5.png)\n",
    "\n",
    "* _Can we build a circuit that uses fewer gates?_\n",
    "    * `A XOR B`\n",
    "    * `(A OR B) AND (NOT (A AND B))`\n",
    "\n",
    "        ![](images/circuits/gate_xor.png)\n"
   ]
  },
  {
   "cell_type": "markdown",
   "id": "2d5d0d14-2de9-40aa-a159-38cb8d5b31d6",
   "metadata": {
    "tags": []
   },
   "source": [
    "* Q2: _Create a circuit for `A > B` using `AND`, `OR`, `NOT` gates_"
   ]
  },
  {
   "cell_type": "markdown",
   "id": "ca203cf0-6478-4144-a464-89d31975aa1d",
   "metadata": {
    "slideshow": {
     "slide_type": "skip"
    },
    "tags": [
     "notes-only"
    ]
   },
   "source": [
    "`A AND NOT(B)`\n",
    "\n",
    "![](images/circuits/a_gt_b.png)"
   ]
  },
  {
   "cell_type": "markdown",
   "id": "363e27c8-7b94-41d6-85c5-6ff51c8f310a",
   "metadata": {
    "slideshow": {
     "slide_type": "skip"
    },
    "tags": [
     "worksheet-only"
    ]
   },
   "source": [
    "<p style=\"height:15em;\"></p>"
   ]
  },
  {
   "cell_type": "markdown",
   "id": "494d1f49-2574-4e8a-80cf-a7d601de2a18",
   "metadata": {},
   "source": [
    "* Q3: _Create a circuit for `A >= B` using `AND`, `OR`, `NOT` gates_"
   ]
  },
  {
   "cell_type": "markdown",
   "id": "63d1b8b2-854d-4e9b-b55b-701f79cefd62",
   "metadata": {
    "slideshow": {
     "slide_type": "skip"
    },
    "tags": [
     "notes-only"
    ]
   },
   "source": [
    "`(NOT(A) AND NOT(B)) OR (A AND NOT(B)) OR (A AND B)`\n",
    "\n",
    "![](images/circuits/a_ge_b.png)\n",
    "\n",
    "* Alternatives\n",
    "    * `(NOT(A OR B)) OR (A AND NOT(B)) OR (A AND B)`\n",
    "    * `(NOT(A) AND NOT(B)) OR A`\n",
    "    * `(NOT(A OR B)) OR A`\n",
    "    * `NOT(NOT(A) AND B)`\n",
    "    * `A OR NOT(B)`"
   ]
  },
  {
   "cell_type": "markdown",
   "id": "d95be79f-a856-42f9-9794-c1a600936b67",
   "metadata": {
    "slideshow": {
     "slide_type": "skip"
    },
    "tags": [
     "worksheet-only"
    ]
   },
   "source": [
    "<p style=\"height:15em;\"></p>\n",
    "\n",
    "🛑 **STOP here** after completing the above questions; if you have extra time please **skip ahead** to the extra practice.\n",
    "\n",
    "<div style=\"page-break-after:always;\"></div>"
   ]
  },
  {
   "cell_type": "markdown",
   "id": "5c502906-c962-469c-9caa-c5cb312d3744",
   "metadata": {
    "slideshow": {
     "slide_type": "slide"
    },
    "tags": []
   },
   "source": [
    "## 1-bit addition circuit"
   ]
  },
  {
   "cell_type": "markdown",
   "id": "c8f0626c-82a6-48d5-b9bd-9937289badcf",
   "metadata": {
    "tags": []
   },
   "source": [
    "_Your goal is to create a 1-bit circuit to perform addition. The circuit will take 3 input bits (`A`, `B`, and `I` = carry-in) and produce 2 output bits (`S` = sum and `O` = carry_out)._\n",
    "\n",
    "* Q4: _Complete the truth table for this operation_"
   ]
  },
  {
   "cell_type": "markdown",
   "id": "0a9b3da2-b4c7-4959-ab1d-9aa7801e403b",
   "metadata": {
    "slideshow": {
     "slide_type": "skip"
    },
    "tags": [
     "notes-only"
    ]
   },
   "source": [
    "| `A` | `B` | `I` | `S` | `O` |\n",
    "|-----|-----|-----|-----|-----|\n",
    "|  0  |  0  |  0  |  0  |  0  |\n",
    "|  0  |  0  |  1  |  1  |  0  |\n",
    "|  0  |  1  |  0  |  1  |  0  |\n",
    "|  0  |  1  |  1  |  0  |  1  |\n",
    "|  1  |  0  |  0  |  1  |  0  |\n",
    "|  1  |  0  |  1  |  0  |  1  |\n",
    "|  1  |  1  |  0  |  0  |  1  |\n",
    "|  1  |  1  |  1  |  1  |  1  |"
   ]
  },
  {
   "cell_type": "markdown",
   "id": "042b610f-830f-4660-9720-0fba145fbcc7",
   "metadata": {
    "tags": [
     "worksheet-only"
    ]
   },
   "source": [
    "| `A` | `B` | `I` | `S` | `O` |\n",
    "|-----|-----|------------|-------|-------------|\n",
    "|  0  |  0  |     0      |       |             |\n",
    "|  0  |  0  |     1      |       |             |\n",
    "|  0  |  1  |     0      |       |             |\n",
    "|  0  |  1  |     1      |       |             |\n",
    "|  1  |  0  |     0      |       |             |\n",
    "|  1  |  0  |     1      |       |             |\n",
    "|  1  |  1  |     0      |   0   |      1      |\n",
    "|  1  |  1  |     1      |   1   |      1      |\n"
   ]
  },
  {
   "cell_type": "markdown",
   "id": "f7989740-888d-49cd-abea-07386fa18ea9",
   "metadata": {
    "slideshow": {
     "slide_type": "subslide"
    },
    "tags": []
   },
   "source": [
    "* Q5: _What is the boolean expression for `S`?_"
   ]
  },
  {
   "cell_type": "markdown",
   "id": "ec92ef43-186d-4a05-83fd-7dcb82c2ba29",
   "metadata": {
    "slideshow": {
     "slide_type": "skip"
    },
    "tags": [
     "notes-only"
    ]
   },
   "source": [
    "```\n",
    "(NOT(A) AND NOT(B) AND I)\n",
    "OR (NOT(A) AND B AND NOT(I))\n",
    "OR (A AND NOT(B) AND NOT(I))\n",
    "OR (A AND B AND I) \n",
    "```"
   ]
  },
  {
   "cell_type": "markdown",
   "id": "77c48f0c-e927-4fc4-9e1d-fd0c21bbe8c1",
   "metadata": {
    "slideshow": {
     "slide_type": "skip"
    },
    "tags": [
     "worksheet-only"
    ]
   },
   "source": [
    "<p style=\"height:10em;\"></p>"
   ]
  },
  {
   "cell_type": "markdown",
   "id": "b51357b6-3cfa-4504-96e9-0905adb42ea7",
   "metadata": {
    "tags": []
   },
   "source": [
    "* Q6: _Draw the circuit for `S`_"
   ]
  },
  {
   "cell_type": "markdown",
   "id": "dd6358c4-75b6-4c97-8639-28ba30680142",
   "metadata": {
    "slideshow": {
     "slide_type": "skip"
    },
    "tags": [
     "notes-only"
    ]
   },
   "source": [
    "![](images/circuits/sum.png)"
   ]
  },
  {
   "cell_type": "markdown",
   "id": "df5175cf-7b5c-4cc5-96bd-d670ca260638",
   "metadata": {
    "slideshow": {
     "slide_type": "skip"
    },
    "tags": [
     "worksheet-only"
    ]
   },
   "source": [
    "<p style=\"height:13em;\"></p>"
   ]
  },
  {
   "cell_type": "markdown",
   "id": "12cd0f57-e48a-475a-9eed-502d9ad757b0",
   "metadata": {},
   "source": [
    "* Q7: _What is the boolean expression for `O`?_"
   ]
  },
  {
   "cell_type": "markdown",
   "id": "842033a3-2b65-4e25-b9f2-79058ae04644",
   "metadata": {
    "slideshow": {
     "slide_type": "skip"
    },
    "tags": [
     "notes-only"
    ]
   },
   "source": [
    "```\n",
    "(NOT(A) AND B AND I)\n",
    "OR (A AND NOT(B) AND I)\n",
    "OR (A AND B AND NOT(I))\n",
    "OR (A AND B AND I)\n",
    "```\n",
    "Simplified:\n",
    "```\n",
    "(B AND I) OR (A AND I) OR (A AND B)\n",
    "```"
   ]
  },
  {
   "cell_type": "markdown",
   "id": "1b258a5e-4d2d-4fc9-9787-acf958311ac2",
   "metadata": {
    "slideshow": {
     "slide_type": "skip"
    },
    "tags": [
     "worksheet-only"
    ]
   },
   "source": [
    "<p style=\"height:10em;\"></p>"
   ]
  },
  {
   "cell_type": "markdown",
   "id": "3898f064-56b7-45a7-93d2-c3ea9fba0f6a",
   "metadata": {},
   "source": [
    "* Q8: _Draw the circuit for `O`_"
   ]
  },
  {
   "cell_type": "markdown",
   "id": "acdf8bc1-8d2a-4d9c-ab2b-081b4b80ace3",
   "metadata": {
    "slideshow": {
     "slide_type": "skip"
    },
    "tags": [
     "notes-only"
    ]
   },
   "source": [
    "![](images/circuits/carry_out.png)"
   ]
  },
  {
   "cell_type": "markdown",
   "id": "acd3d981-c0e7-4035-a062-9e1d192152a5",
   "metadata": {
    "slideshow": {
     "slide_type": "skip"
    },
    "tags": [
     "worksheet-only"
    ]
   },
   "source": [
    "<div style=\"page-break-after:always;\"></div>"
   ]
  },
  {
   "cell_type": "markdown",
   "id": "117bb607-1a26-43bf-a5d0-d539889fc42e",
   "metadata": {
    "slideshow": {
     "slide_type": "slide"
    },
    "tags": []
   },
   "source": [
    "## Extra practice"
   ]
  },
  {
   "cell_type": "markdown",
   "id": "0a5bf50e-42c2-47d2-b48e-99ec50db143d",
   "metadata": {},
   "source": [
    "* Q9: _How do you use NAND gates to create a NOT gate?_"
   ]
  },
  {
   "cell_type": "markdown",
   "id": "bd4e6cbb-a841-4c58-b562-4bb212890103",
   "metadata": {
    "slideshow": {
     "slide_type": "skip"
    },
    "tags": [
     "notes-only"
    ]
   },
   "source": [
    "![](images/circuits/gate_not_from_nand.png)"
   ]
  },
  {
   "cell_type": "markdown",
   "id": "ec8ac899-bb24-421f-ace0-5f05d3c27188",
   "metadata": {
    "slideshow": {
     "slide_type": "skip"
    },
    "tags": [
     "worksheet-only"
    ]
   },
   "source": [
    "<p style=\"height:6em;\"></p>"
   ]
  },
  {
   "cell_type": "markdown",
   "id": "1d8785de-43b5-4a04-9163-ef124c15568b",
   "metadata": {},
   "source": [
    "* Q10: _How do you use NAND gates to create a AND gate?_"
   ]
  },
  {
   "cell_type": "markdown",
   "id": "38e8bdb3-1eb5-408f-970c-aae25e94666a",
   "metadata": {
    "slideshow": {
     "slide_type": "skip"
    },
    "tags": [
     "notes-only"
    ]
   },
   "source": [
    "![](images/circuits/gate_and_from_nand.png)"
   ]
  },
  {
   "cell_type": "markdown",
   "id": "29788efb-9bd7-4a0d-9444-45685015fb40",
   "metadata": {
    "slideshow": {
     "slide_type": "skip"
    },
    "tags": [
     "worksheet-only"
    ]
   },
   "source": [
    "<p style=\"height:6em;\"></p>"
   ]
  },
  {
   "cell_type": "markdown",
   "id": "df69ba89-9d3b-4dd0-a452-6d4b3a47474f",
   "metadata": {},
   "source": [
    "* Q11: _How do you use NAND gates to create an OR gate?_"
   ]
  }
 ],
 "metadata": {
  "kernelspec": {
   "display_name": "C",
   "language": "c",
   "name": "c"
  },
  "language_info": {
   "file_extension": ".c",
   "mimetype": "text/plain",
   "name": "c"
  }
 },
 "nbformat": 4,
 "nbformat_minor": 5
}
