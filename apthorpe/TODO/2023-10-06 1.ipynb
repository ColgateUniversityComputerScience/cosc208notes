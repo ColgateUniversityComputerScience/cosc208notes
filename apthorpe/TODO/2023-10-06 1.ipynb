{
 "cells": [
  {
   "cell_type": "markdown",
   "id": "275f3326-b6de-4d7d-b41a-f17ec6a57354",
   "metadata": {
    "slideshow": {
     "slide_type": "skip"
    },
    "tags": []
   },
   "source": [
    "# Architecture: von Neumann; logic gates\n",
    "_COSC 208, Introduction to Computer Systems, 2023-10-04_"
   ]
  },
  {
   "cell_type": "markdown",
   "id": "9db293af-f9ec-4262-b568-ef1906a523b4",
   "metadata": {
    "slideshow": {
     "slide_type": "skip"
    },
    "tags": []
   },
   "source": [
    "## Announcements\n",
    "* Project 2 due Thurs, Oct 19 @ 11pm"
   ]
  },
  {
   "cell_type": "markdown",
   "id": "bede1ded-97f6-4a28-9335-116fd9ea868f",
   "metadata": {
    "slideshow": {
     "slide_type": "skip"
    },
    "tags": []
   },
   "source": [
    "## Outline\n",
    "* Warm-up\n",
    "* von Neumann Architecture\n",
    "* Hardware building blocks\n",
    "* Logic gates"
   ]
  },
  {
   "cell_type": "markdown",
   "id": "21816ff4-52c0-4680-95b9-3142e9d79121",
   "metadata": {
    "slideshow": {
     "slide_type": "skip"
    },
    "tags": []
   },
   "source": [
    "## Warm-up"
   ]
  },
  {
   "cell_type": "markdown",
   "id": "716073f1-e0ea-4932-8db4-aafe083161bc",
   "metadata": {
    "slideshow": {
     "slide_type": "skip"
    },
    "tags": []
   },
   "source": [
    "* Q1: _What does the following program output?_"
   ]
  },
  {
   "cell_type": "code",
   "execution_count": 10,
   "id": "2cb66f63-6967-4825-9fca-2828c6ea22e6",
   "metadata": {
    "tags": [
     "worksheet-code-only"
    ]
   },
   "outputs": [
    {
     "name": "stdout",
     "output_type": "stream",
     "text": [
      "one 3, 4\n",
      "two 4, 3\n",
      "one 5, 4\n",
      "two 8, 4\n",
      "three 8, 4\n"
     ]
    }
   ],
   "source": [
    "#include <stdio.h>\n",
    "#include <stdlib.h>\n",
    "struct coords {\n",
    "    int x;\n",
    "    int y;\n",
    "};\n",
    "struct coords *flip(struct coords *in) {\n",
    "    struct coords *out = malloc(sizeof(struct coords));\n",
    "    out->x = in->y;\n",
    "    out->y = in->x;\n",
    "    return out;\n",
    "}\n",
    "struct coords *modify(struct coords *point) {\n",
    "    point->x *= 2;\n",
    "    point->y *= 2;\n",
    "    return point;\n",
    "}\n",
    "int main() {\n",
    "    struct coords *one = malloc(sizeof(struct coords));\n",
    "    one->x = 3;\n",
    "    one->y = 4;\n",
    "    struct coords *two = flip(one);\n",
    "    printf(\"one %d, %d\\n\", one->x, one->y);\n",
    "    printf(\"two %d, %d\\n\", two->x, two->y);\n",
    "    struct coords *three = modify(two);\n",
    "    three->y = one->y;\n",
    "    one->x = 5;\n",
    "    printf(\"one %d, %d\\n\", one->x, one->y);\n",
    "    printf(\"two %d, %d\\n\", two->x, two->y);\n",
    "    printf(\"three %d, %d\\n\", three->x, three->y);\n",
    "}"
   ]
  },
  {
   "cell_type": "markdown",
   "id": "e67a211e-37c7-44bc-b652-bf9c93621653",
   "metadata": {
    "slideshow": {
     "slide_type": "skip"
    },
    "tags": [
     "worksheet-only"
    ]
   },
   "source": [
    "<p style=\"height:10em;\"></p>\n",
    "\n",
    "🛑 **STOP here** after completing the above question; if you have extra time please **skip ahead** to the extra practice."
   ]
  },
  {
   "cell_type": "markdown",
   "id": "13882050-f8c5-4df3-ab35-c220931c2c1f",
   "metadata": {
    "slideshow": {
     "slide_type": "skip"
    },
    "tags": [
     "notes-only"
    ]
   },
   "source": [
    "## von Neumann Architecture\n",
    "\n",
    "<img src=\"https://diveintosystems.org/book/C5-Arch/_images/vonNArch.png\" width=\"400px\" />\n",
    "\n",
    "* _Where are instructions stored prior to execution?_ — memory unit\n",
    "    * Instructions are loaded from input unit into memory unit when a program starts\n",
    "* _Where are instructions stored during execution?_ — instruction register\n",
    "* _Where is data stored when it is not in use?_ — memory unit\n",
    "* _Where is data stored when it is being operated on?_ — (general purpose) registers\n",
    "* Notice: instructions and data are both stored in the memory unit, but there are different registers for instructions and data in the CPU\n",
    "* Fetch-Decode-Execute cycle\n",
    "    * _What happens in the fetch stage?_ — The control unit loads the next instruction from memory, based on the program counter, into the instruction register\n",
    "    * _What happens in the decode stage?_ — break instruction into operation and operands\n",
    "    * _What happens in the execute stage?_ — The ALU performs the operation on the operands\n",
    "    * Store stage does not occur in an ARM processor"
   ]
  },
  {
   "cell_type": "markdown",
   "id": "f398d604-1c6a-4e89-bc66-b064eeaef676",
   "metadata": {
    "slideshow": {
     "slide_type": "skip"
    },
    "tags": [
     "notes-only"
    ]
   },
   "source": [
    "## Hardware building blocks"
   ]
  },
  {
   "cell_type": "markdown",
   "id": "c1f83796-826f-45c0-9274-afa4cb2c7060",
   "metadata": {
    "slideshow": {
     "slide_type": "skip"
    },
    "tags": [
     "notes-only"
    ]
   },
   "source": [
    "* Transistors — switches that control electrical flow; output state depends on current state plus input state\n",
    "* Logic gates — created from transistors; implement boolean operations (AND, NO, NOT, etc.)\n",
    "* Circuit — created from logic gates\n",
    "* Processing and control units — created from circuits"
   ]
  },
  {
   "cell_type": "markdown",
   "id": "e04cd4c4-0aef-409d-9f9b-0a5bcdeb3942",
   "metadata": {
    "slideshow": {
     "slide_type": "slide"
    },
    "tags": []
   },
   "source": [
    "## Logic gates"
   ]
  },
  {
   "cell_type": "markdown",
   "id": "27e0d6f0-b0a6-45e9-a9f1-c7fde5919fab",
   "metadata": {
    "tags": []
   },
   "source": [
    "* Q2: _Fill-in the truth tables for all six types of logic gates_"
   ]
  },
  {
   "cell_type": "markdown",
   "id": "96b33e37-9191-4df7-85a7-19a5cd14f653",
   "metadata": {
    "slideshow": {
     "slide_type": "skip"
    },
    "tags": [
     "notes-only"
    ]
   },
   "source": [
    "| A | B | A AND B | A OR B | NOT A | A NAND B | A NOR B | A XOR B |\n",
    "| - | - | ------- | ------ | ----- | -------- | ------- | ------- |\n",
    "| 0 | 0 |    0    |   0    |   1   |     1    |    1    |    0    | \n",
    "| 0 | 1 |    0    |   1    |   1   |     1    |    0    |    1    | \n",
    "| 1 | 0 |    0    |   1    |   0   |     1    |    0    |    1    | \n",
    "| 1 | 1 |    1    |   1    |   0   |     0    |    0    |    0    | "
   ]
  },
  {
   "cell_type": "markdown",
   "id": "1ab9866f-9e61-46b0-b2eb-43c3d5c5ac89",
   "metadata": {
    "tags": [
     "worksheet-only"
    ]
   },
   "source": [
    "| A | B | A AND B | A OR B | NOT A | A NAND B | A NOR B | A XOR B |\n",
    "| - | - | ------- | ------ | ----- | -------- | ------- | ------- |\n",
    "| 0 | 0 |         |        |       |          |         |         | \n",
    "| 0 | 1 |         |        |       |          |         |         | \n",
    "| 1 | 0 |         |        |       |          |         |         | \n",
    "| 1 | 1 |         |        |       |          |         |         | "
   ]
  },
  {
   "cell_type": "markdown",
   "id": "332a774c-fc30-4164-9c4d-6a0833b4dc5d",
   "metadata": {
    "slideshow": {
     "slide_type": "subslide"
    },
    "tags": []
   },
   "source": [
    "* Q3: _How do you use AND and NOT gates to create a NAND gate?_"
   ]
  },
  {
   "cell_type": "markdown",
   "id": "a36d56dc-e3a8-47ba-bd4f-63379cdcea89",
   "metadata": {
    "slideshow": {
     "slide_type": "skip"
    },
    "tags": [
     "notes-only"
    ]
   },
   "source": [
    "![](images/circuits/gate_nand.png)"
   ]
  },
  {
   "cell_type": "markdown",
   "id": "6972c78a-143e-44f3-945d-eed3e424d9ea",
   "metadata": {
    "slideshow": {
     "slide_type": "skip"
    },
    "tags": [
     "worksheet-only"
    ]
   },
   "source": [
    "<p style=\"height:8em;\"></p>"
   ]
  },
  {
   "cell_type": "markdown",
   "id": "8f83a153-6722-4cf1-aeab-b763221c63b4",
   "metadata": {},
   "source": [
    "* Q4: _How do you use OR and NOT gates to create a NOR gate?_"
   ]
  },
  {
   "cell_type": "markdown",
   "id": "32988029-668e-4366-9363-af8debc7c0d3",
   "metadata": {
    "slideshow": {
     "slide_type": "skip"
    },
    "tags": [
     "notes-only"
    ]
   },
   "source": [
    "![](images/circuits/gate_nor.png)"
   ]
  },
  {
   "cell_type": "markdown",
   "id": "2a5968c5-a4bd-4772-a3d3-73c0c2c34a7d",
   "metadata": {
    "slideshow": {
     "slide_type": "skip"
    },
    "tags": [
     "worksheet-only"
    ]
   },
   "source": [
    "<p style=\"height:8em;\"></p>"
   ]
  },
  {
   "cell_type": "markdown",
   "id": "117bb607-1a26-43bf-a5d0-d539889fc42e",
   "metadata": {
    "slideshow": {
     "slide_type": "slide"
    },
    "tags": []
   },
   "source": [
    "## Extra practice"
   ]
  },
  {
   "cell_type": "markdown",
   "id": "f4ac2538-92a5-4bd5-9c2c-cd5bae229dda",
   "metadata": {},
   "source": [
    "* _Two structs have been defined representing a queue and an item on a queue._"
   ]
  },
  {
   "cell_type": "code",
   "execution_count": null,
   "id": "bf408ca4-ef1e-467a-99d9-e4342b92f0ff",
   "metadata": {},
   "outputs": [],
   "source": [
    "struct item {\n",
    "    int value;\n",
    "    struct item *next;\n",
    "};\n",
    "struct queue {\n",
    "    struct item *head;\n",
    "    struct item *tail;\n",
    "};"
   ]
  },
  {
   "cell_type": "markdown",
   "id": "569fc1bb-cc38-4d09-9af8-630adb57c365",
   "metadata": {},
   "source": [
    "* _The `new_queue` function creates a new, empty queue._"
   ]
  },
  {
   "cell_type": "code",
   "execution_count": null,
   "id": "27c3c5dc-6b11-4fe9-ab34-2bd01c280234",
   "metadata": {},
   "outputs": [],
   "source": [
    "struct queue *new_queue() {\n",
    "    struct queue *q = malloc(sizeof(struct queue));\n",
    "    q->head = NULL;\n",
    "    q->tail = NULL;\n",
    "    return q;\n",
    "}"
   ]
  },
  {
   "cell_type": "markdown",
   "id": "47a4f072-f995-4ee1-b8e2-06a85e8dcf33",
   "metadata": {
    "slideshow": {
     "slide_type": "subslide"
    },
    "tags": []
   },
   "source": [
    "* Q5: _Write a function called `enqueue` that adds a new value at the end of the queue._"
   ]
  },
  {
   "cell_type": "markdown",
   "id": "bc273c80-d6a8-4fee-8cc7-634326396841",
   "metadata": {
    "slideshow": {
     "slide_type": "skip"
    },
    "tags": [
     "worksheet-only"
    ]
   },
   "source": [
    "<p style=\"height:15em;\"></p>"
   ]
  },
  {
   "cell_type": "markdown",
   "id": "f18afa49-da64-4165-b052-2accaa9c2372",
   "metadata": {
    "tags": []
   },
   "source": [
    "* Q6: _Write a function called `dequeue` that removes and returns the value at the head of the queue. The function should return -1 if the queue is empty._"
   ]
  },
  {
   "cell_type": "markdown",
   "id": "0514c354-4e40-4234-8db4-32bd4410dad1",
   "metadata": {
    "slideshow": {
     "slide_type": "skip"
    },
    "tags": [
     "worksheet-only"
    ]
   },
   "source": [
    "<p style=\"height:15em;\"></p>"
   ]
  },
  {
   "cell_type": "markdown",
   "id": "96785560-1922-42aa-bc1e-01877d5be048",
   "metadata": {},
   "source": [
    "* Q7: _Write a function called `free_queue` that empties and frees a queue._"
   ]
  },
  {
   "cell_type": "markdown",
   "id": "08f98f2d-d62a-4d84-afc9-8e54d309621f",
   "metadata": {
    "slideshow": {
     "slide_type": "skip"
    },
    "tags": [
     "worksheet-only"
    ]
   },
   "source": [
    "<p style=\"height:15em;\"></p>"
   ]
  },
  {
   "cell_type": "markdown",
   "id": "c197d434-c7b7-4c5e-9bf0-95697000966b",
   "metadata": {},
   "source": [
    "* Q8: _Write a function called `position` that takes a value and a queue and returns the position of the value within the queue (the head of the queue is position 0). Return -1 if the value is not present in the queue._"
   ]
  },
  {
   "cell_type": "code",
   "execution_count": 2,
   "id": "f11b6c2a-9643-48d0-a67b-cc38de40bbe2",
   "metadata": {
    "slideshow": {
     "slide_type": "skip"
    },
    "tags": [
     "notes-only"
    ]
   },
   "outputs": [],
   "source": [
    "#include <stdlib.h>\n",
    "struct item {\n",
    "    int value;\n",
    "    struct item *next;\n",
    "};\n",
    "struct queue {\n",
    "    struct item *head;\n",
    "    struct item *tail;\n",
    "};\n",
    "\n",
    "struct queue *new_queue() {\n",
    "    struct queue *q = malloc(sizeof(struct queue));\n",
    "    q->head = NULL;\n",
    "    q->tail = NULL;\n",
    "    return q;\n",
    "}\n",
    "\n",
    "void enqueue(int value, struct queue *q) {\n",
    "    struct item *i = malloc(sizeof(struct item));\n",
    "    i->value = value;\n",
    "    i->next = NULL;\n",
    "    if (q->tail == NULL) {\n",
    "        q->head = i;\n",
    "        q->tail = i;\n",
    "    } else {\n",
    "        q->tail->next = i;\n",
    "        q->tail = i;\n",
    "    }\n",
    "}\n",
    "\n",
    "int dequeue(struct queue *q) {\n",
    "    if (NULL == q->head) {\n",
    "        return -1;\n",
    "    }\n",
    "    struct item *i = q->head;\n",
    "    int v = i->value;\n",
    "    q->head = i->next;\n",
    "    if (q->head == NULL) {\n",
    "        q->tail = NULL;\n",
    "    }\n",
    "    free(i);\n",
    "    return v;\n",
    "}\n",
    "\n",
    "void free_queue(struct queue *q) {\n",
    "    while (q->head != NULL) {\n",
    "        dequeue(q);\n",
    "    }\n",
    "    free(q);\n",
    "}\n",
    "\n",
    "int position(int value, struct queue *q) {\n",
    "    struct item *curr = q->head;\n",
    "    int index = 0;\n",
    "    while (curr != NULL) {\n",
    "        if (curr->value == value) {\n",
    "            return index;\n",
    "        }\n",
    "        curr = curr->next;\n",
    "        index++;\n",
    "    }\n",
    "    return -1;\n",
    "}\n",
    "\n",
    "// Testing\n",
    "#include <assert.h>\n",
    "int main() {\n",
    "    struct queue *q = new_queue();\n",
    "    enqueue(1, q);\n",
    "    enqueue(2, q);\n",
    "    assert(dequeue(q) == 1);\n",
    "    enqueue(3, q);\n",
    "    enqueue(4, q);\n",
    "    assert(dequeue(q) == 2);\n",
    "    assert(dequeue(q) == 3);\n",
    "}"
   ]
  }
 ],
 "metadata": {
  "kernelspec": {
   "display_name": "C",
   "language": "c",
   "name": "c"
  },
  "language_info": {
   "file_extension": ".c",
   "mimetype": "text/plain",
   "name": "c"
  }
 },
 "nbformat": 4,
 "nbformat_minor": 5
}
