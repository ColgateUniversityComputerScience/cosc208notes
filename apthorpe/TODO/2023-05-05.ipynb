{
 "cells": [
  {
   "cell_type": "markdown",
   "id": "cb5c0089-8cef-4cc9-af1d-c6477c77bee8",
   "metadata": {
    "slideshow": {
     "slide_type": "skip"
    },
    "tags": []
   },
   "source": [
    "# Virtualization: cloud computing; Exam 3 review\n",
    "_COSC 208, Introduction to Computer Systems, 2023-05-05_"
   ]
  },
  {
   "cell_type": "markdown",
   "id": "46336b92-6736-4d0b-a37d-edeb69d984c0",
   "metadata": {
    "slideshow": {
     "slide_type": "skip"
    },
    "tags": []
   },
   "source": [
    "## Announcements\n",
    "* Office hours: Monday 8am-10am, 1:30pm-3:15pm\n",
    "* Final exam\n",
    "    * Study guide posted on Moodle\n",
    "    * Take-home portion: posted on Moodle; due Tuesday\n",
    "    * In-class portion: Tuesday 9am-11am or 12pm-2pm"
   ]
  },
  {
   "cell_type": "markdown",
   "id": "c264cb6a-f1f1-4e50-b6dd-c75b59464346",
   "metadata": {
    "slideshow": {
     "slide_type": "skip"
    },
    "tags": []
   },
   "source": [
    "## Outline\n",
    "* Cloud computing\n",
    "* Review"
   ]
  },
  {
   "cell_type": "markdown",
   "id": "b9c7dee9-04fd-45c3-bb9b-4b73451f9ef2",
   "metadata": {},
   "source": [
    "## No warm-up – Happy last day of classes!"
   ]
  },
  {
   "cell_type": "markdown",
   "id": "28a07752-eb1f-45c1-a3db-c84df1ae1b77",
   "metadata": {
    "slideshow": {
     "slide_type": "slide"
    },
    "tags": []
   },
   "source": [
    "## Cloud computing"
   ]
  },
  {
   "cell_type": "markdown",
   "id": "38ece385-a5b3-4f4d-8413-bbaad14b5c8d",
   "metadata": {
    "slideshow": {
     "slide_type": "skip"
    },
    "tags": [
     "notes-only"
    ]
   },
   "source": [
    "* Characteristics\n",
    "    * Resources available on-demand — tenants reserve resources only when they need them\n",
    "        * E.g., a company uses more virtual machines during the day when employees are using applications\n",
    "        * E.g., a website has more visitors during a sale or popular event\n",
    "    * Pay-per-use — only pay for the resources you use\n",
    "        * E.g., pay for a virtual machine per hour of use\n",
    "        * E.g., pay for storage per GB per month\n",
    "    * Shared & virtualized — physical servers and storage devices resources are used by multiple tenants\n",
    "        * E.g., multiple virtual machines run on the same machine\n",
    "        * Physical servers and storage are usually more isolated than network switches and links\n",
    "* Service models\n",
    "    * Infrastructure-as-a-Service (IaaS)\n",
    "        * Tenants lease virtual machines, virtual storage, and virtual networks\n",
    "        * Tenants must manage the operating system, file system, etc.\n",
    "        * E.g., Amazon EC2, Microsoft Azure, Rackspace, Google Compute Engine\n",
    "    * Platform-as-a-Service (PaaS)\n",
    "        * Tenants lease resources to run applications written in a specific language — Python, Java, Hadoop/MapReduce\n",
    "        * Cloud provider manages the operating system, file system, and network\n",
    "        * E.g., Google App Engine, Cloud Foundry, IBM Cloud\n",
    "    * Function-as-a-Service (FaaS) or serverless\n",
    "        * Tenants run independent snippets of code\n",
    "        * E.g., Amazon Lambda\n",
    "    * Software-as-a-Service (SaaS)\n",
    "        * Tenants lease access to specific software\n",
    "        * E.g., Salesforce, Concur, Constant Contact, Google Drive, Office 365\n",
    "    * Storage-as-a-Service (STaaS)\n",
    "        * E.g., Dropbox, Google Drive, iCloud\n",
    "    * Ownership\n",
    "        * Public - anyone can request and use resources\n",
    "        * Private - resources are only available to tenants (e.g., departments) within a company or organization\n",
    "        * Hybrid - tenants use a combination of public and private cloud resources"
   ]
  },
  {
   "cell_type": "markdown",
   "id": "3bfb57d2-9a5b-4034-8bb9-226d082c8712",
   "metadata": {},
   "source": [
    "_For each of the following service providers, indicate what type of service they offer._"
   ]
  },
  {
   "cell_type": "markdown",
   "id": "a5ed44b0-1fec-49a0-9b74-4aaa389de565",
   "metadata": {},
   "source": [
    "* Q1: _Box provides secure file sharing and storage_"
   ]
  },
  {
   "cell_type": "markdown",
   "id": "e8f7b909-76a7-434e-8c1e-25be69a0bc66",
   "metadata": {
    "slideshow": {
     "slide_type": "skip"
    },
    "tags": [
     "notes-only"
    ]
   },
   "source": [
    "    Storage-as-a-Service (STaaS)"
   ]
  },
  {
   "cell_type": "markdown",
   "id": "facc38d1-b297-4a31-8cef-c052533e09e4",
   "metadata": {
    "slideshow": {
     "slide_type": "skip"
    },
    "tags": [
     "worksheet-only"
    ]
   },
   "source": [
    "<p style=\"height:2em;\"></p>"
   ]
  },
  {
   "cell_type": "markdown",
   "id": "40b94516-a9fd-4cdf-83ab-4d2ffad8efcd",
   "metadata": {},
   "source": [
    "* Q2: _Microsoft Azure provides virtual machines running Windows or Linux_"
   ]
  },
  {
   "cell_type": "markdown",
   "id": "74c4873b-74fc-4cf0-906d-c4ba02e40da7",
   "metadata": {
    "slideshow": {
     "slide_type": "skip"
    },
    "tags": [
     "notes-only"
    ]
   },
   "source": [
    "    Infrastructure-as-a-Service (IaaS)"
   ]
  },
  {
   "cell_type": "markdown",
   "id": "fb598941-dc42-403a-bfce-8fdfebc65654",
   "metadata": {
    "slideshow": {
     "slide_type": "skip"
    },
    "tags": [
     "worksheet-only"
    ]
   },
   "source": [
    "<p style=\"height:2em;\"></p>"
   ]
  },
  {
   "cell_type": "markdown",
   "id": "a6b55678-5e5d-40f2-b007-3e0aa32365f0",
   "metadata": {},
   "source": [
    "* Q3: _Heroku allows tenants to deploy code written in Ruby, Java, PHP, Python, Go, Scala, or Clojure_"
   ]
  },
  {
   "cell_type": "markdown",
   "id": "914e91c9-b697-4c07-b5da-954f467e571e",
   "metadata": {
    "slideshow": {
     "slide_type": "skip"
    },
    "tags": [
     "notes-only"
    ]
   },
   "source": [
    "    Platform-as-a-Service (PaaS)"
   ]
  },
  {
   "cell_type": "markdown",
   "id": "c24ad1bf-8b9f-4c7a-b608-667884f12157",
   "metadata": {
    "slideshow": {
     "slide_type": "skip"
    },
    "tags": [
     "worksheet-only"
    ]
   },
   "source": [
    "<p style=\"height:2em;\"></p>"
   ]
  },
  {
   "cell_type": "markdown",
   "id": "2a0f0744-ba41-4ad1-b218-618f75d4efc5",
   "metadata": {},
   "source": [
    "* Q4: _Oracle Supply Chain Management (SCM) is software that allows businesses to manage their supply chain_"
   ]
  },
  {
   "cell_type": "markdown",
   "id": "5b3fc186-6665-49a2-814e-cf17cf487f55",
   "metadata": {
    "slideshow": {
     "slide_type": "skip"
    },
    "tags": [
     "notes-only"
    ]
   },
   "source": [
    "    Software-as-a-Service (SaaS)"
   ]
  },
  {
   "cell_type": "markdown",
   "id": "c318fbe5-44ee-4d21-be7d-111da8d6d5df",
   "metadata": {
    "slideshow": {
     "slide_type": "skip"
    },
    "tags": [
     "worksheet-only"
    ]
   },
   "source": [
    "<p style=\"height:2em;\"></p>"
   ]
  },
  {
   "cell_type": "markdown",
   "id": "af639d5a-1359-41b8-b8c6-ff4fad46cc67",
   "metadata": {},
   "source": [
    "## Review"
   ]
  },
  {
   "cell_type": "markdown",
   "id": "e1da8918-6288-49e7-8a70-f856eb9256a3",
   "metadata": {},
   "source": [
    "### Virtual machines and containers"
   ]
  },
  {
   "cell_type": "markdown",
   "id": "aed31b06-3a39-4948-ba11-a162de44ab0b",
   "metadata": {},
   "source": [
    "* Q5: _What is an advantage of using **virtual machines with a type 1 hypervisor** instead of **virtual machines with a type 2 hypervisor**?_"
   ]
  },
  {
   "cell_type": "markdown",
   "id": "797d8234-7c53-465d-a5a2-2c25fa1243f8",
   "metadata": {
    "slideshow": {
     "slide_type": "skip"
    },
    "tags": [
     "notes-only"
    ]
   },
   "source": [
    "    With a type 1 hypervisor, system calls issued by processes only need to be handled by the hypervisor and guest operating system, whereas with a type 2 hypervisor, system calls issued by processes need to be handled by the host operating system, hypervisor, and guest operating system. Thus, a type 1 hypervisor adds less overhead and results in better performance."
   ]
  },
  {
   "cell_type": "markdown",
   "id": "824ac5a9-9c97-42a0-b7fe-2125c3a98352",
   "metadata": {
    "slideshow": {
     "slide_type": "skip"
    },
    "tags": [
     "worksheet-only"
    ]
   },
   "source": [
    "<p style=\"height:7em;\"></p>"
   ]
  },
  {
   "cell_type": "markdown",
   "id": "da58d143-a155-444a-8652-e947d09a6490",
   "metadata": {},
   "source": [
    "* Q6: _What is an advantage of using **virtual machines with a type 2 hypervisor** instead of **virtual machines with a type 1 hypervisor**?_"
   ]
  },
  {
   "cell_type": "markdown",
   "id": "40a87229-c5a4-4e36-b104-de0fe071ad0a",
   "metadata": {
    "slideshow": {
     "slide_type": "skip"
    },
    "tags": [
     "notes-only"
    ]
   },
   "source": [
    "    A type 2 hypervisor can be installed atop an existing (host) operating system just like any other application, whereas a type 1 hypervisor needs to be installed directly atop the hardware before any operating systems are installed. Thus, a type 2 hypervisor is easier to set up."
   ]
  },
  {
   "cell_type": "markdown",
   "id": "50937c1f-4923-4a29-b357-92136af34fc9",
   "metadata": {
    "slideshow": {
     "slide_type": "skip"
    },
    "tags": [
     "worksheet-only"
    ]
   },
   "source": [
    "<p style=\"height:8em;\"></p>"
   ]
  },
  {
   "cell_type": "markdown",
   "id": "6794cd96-bf0b-402a-bf12-9e03f1cd31e7",
   "metadata": {},
   "source": [
    "* Q7: _What is an advantage of using **containers** instead of **virtual machines with a type 1 hypervisor**?_"
   ]
  },
  {
   "cell_type": "markdown",
   "id": "b448308c-63bf-4261-bc81-5c4d4cef6fb2",
   "metadata": {
    "slideshow": {
     "slide_type": "skip"
    },
    "tags": [
     "notes-only"
    ]
   },
   "source": [
    "    With containers, all processes run atop a single operating system instances, whereas with a type 1 hypervisor, each group of processes requires a separate operating system. Thus, containers avoid the need to maintain multiple copies of the same operating system.\n",
    "\n",
    "    With containers, systems calls issued by processes only need to be handled by the operating system, just like a system without containers or virtual machines, whereas with a type 1 hypervisor, system calls issued by processes need to be handled by the hypervisor and the operating system running inside the virtual machine. Thus, containers add less overhead and result in better performance."
   ]
  },
  {
   "cell_type": "markdown",
   "id": "98c6184e-4a94-4ee9-8f7f-94101355d30a",
   "metadata": {
    "slideshow": {
     "slide_type": "skip"
    },
    "tags": [
     "worksheet-only"
    ]
   },
   "source": [
    "<p style=\"height:8em;\"></p>"
   ]
  },
  {
   "cell_type": "markdown",
   "id": "93d78be8-122c-4222-97e7-55daf8a31505",
   "metadata": {},
   "source": [
    "* Q8: _What is an advantage of using **virtual machines with a type 1 hypervisor** instead of **containers**?_"
   ]
  },
  {
   "cell_type": "markdown",
   "id": "e6cc6e3f-d8ec-469e-afed-d5ed2b1df09d",
   "metadata": {
    "slideshow": {
     "slide_type": "skip"
    },
    "tags": [
     "notes-only"
    ]
   },
   "source": [
    "    With a type 1 hypervisor, multiple flavors (e.g., Windows, Linux, Mac OS) and/or versions (e.g., Windows 8, Windows 10) of operating systems can run atop the same physical hardware, whereas with containers only a single operating system can run atop the hardware. Thus, type 1 hypervisors allow multiple OSes to be run on the same computer system."
   ]
  },
  {
   "cell_type": "markdown",
   "id": "a35e409c-9cc8-44fe-a6ee-4465ee6f4bb0",
   "metadata": {
    "slideshow": {
     "slide_type": "skip"
    },
    "tags": [
     "worksheet-only"
    ]
   },
   "source": [
    "<p style=\"height:8em;\"></p>"
   ]
  },
  {
   "cell_type": "markdown",
   "id": "ab9e95a7-a24f-41c2-bd94-89208642d25f",
   "metadata": {},
   "source": [
    "### Threads"
   ]
  },
  {
   "cell_type": "markdown",
   "id": "57f5ac8e-435c-422b-8e52-c1879ea61f17",
   "metadata": {},
   "source": [
    "A program contains the following global variables and functions:\n",
    "```C\n",
    "void *dbl(void *arg) {\n",
    "    int *t = (int *)arg;\n",
    "    *t = *t * 2;\n",
    "}\n",
    "\n",
    "void *inc(void *arg) {\n",
    "    int *t = (int *)arg;\n",
    "    *t = *t + 1;\n",
    "}\n",
    "```\n",
    "_For each of the following main methods, list **all possible outputs** the program could produce. Assume threads are only preempted if they become blocked waiting for other threads._"
   ]
  },
  {
   "cell_type": "code",
   "execution_count": null,
   "id": "61d99ae1-1134-4e5a-ae32-bb49ed9f62a2",
   "metadata": {},
   "outputs": [],
   "source": [
    "// Q9\n",
    "int main() {\n",
    "    int *total = malloc(sizeof(int));\n",
    "    *total = 3;\n",
    "    pthread_t thrA, thrB;\n",
    "    pthread_create(&thrA, NULL, &dbl, total);\n",
    "    pthread_create(&thrB, NULL, &inc, total);\n",
    "    pthread_join(thrA, NULL);\n",
    "    pthread_join(thrB, NULL);\n",
    "    printf(\"%d\\n\", total);\n",
    "}"
   ]
  },
  {
   "cell_type": "markdown",
   "id": "abf8790c-c068-4470-9ada-b3c0b76cfac6",
   "metadata": {
    "slideshow": {
     "slide_type": "skip"
    },
    "tags": [
     "notes-only"
    ]
   },
   "source": [
    "* `7` (if `thrB` runs after `thrA` finishes)\n",
    "* `8` (if `thrA` runs after `thrB` finishes)"
   ]
  },
  {
   "cell_type": "markdown",
   "id": "f70b5d60-f0ef-4b82-b05e-965d9e954a78",
   "metadata": {
    "slideshow": {
     "slide_type": "skip"
    },
    "tags": [
     "worksheet-only"
    ]
   },
   "source": [
    "<p style=\"height:4em;\"></p>"
   ]
  },
  {
   "cell_type": "code",
   "execution_count": null,
   "id": "c19681fe-b41a-406b-951e-02b7d731d1c3",
   "metadata": {},
   "outputs": [],
   "source": [
    "// Q10\n",
    "int main() {\n",
    "    int *total = malloc(sizeof(int));\n",
    "    *total = 3\n",
    "    pthread_t thrA, thrB;\n",
    "    pthread_create(&thrA, NULL, &inc, total);\n",
    "    pthread_join(thrA, NULL);\n",
    "    pthread_create(&thrB, NULL, &dbl, total);\n",
    "    pthread_join(thrB, NULL);\n",
    "    printf(\"%d\\n\", total);\n",
    "}"
   ]
  },
  {
   "cell_type": "markdown",
   "id": "5c9e26b2-2b16-4aed-acfb-12710598371e",
   "metadata": {
    "slideshow": {
     "slide_type": "skip"
    },
    "tags": [
     "notes-only"
    ]
   },
   "source": [
    "* `8` (`thrA` is joined, i.e., must finish, before `thrB` is created) "
   ]
  },
  {
   "cell_type": "markdown",
   "id": "8cb5ffa5-d252-4c81-a05a-ed47f34fe164",
   "metadata": {
    "slideshow": {
     "slide_type": "skip"
    },
    "tags": [
     "worksheet-only"
    ]
   },
   "source": [
    "<p style=\"height:4em;\"></p>"
   ]
  },
  {
   "cell_type": "markdown",
   "id": "646aa134-2d2f-426f-92ec-40d814776f2f",
   "metadata": {},
   "source": [
    "### Scheduling"
   ]
  },
  {
   "cell_type": "markdown",
   "id": "09b20aad-4afc-4f3d-a5a3-0adcf579940b",
   "metadata": {},
   "source": [
    "_Consider the following set of processes:_\n",
    "\n",
    "| Process | Duration | Arrival Time |\n",
    "|---------|----------|--------------|\n",
    "| A       | 20       | 0            |\n",
    "| B       | 15       | 0            |\n",
    "| C       | 25       | 5            |\n",
    "| D       | 5        | 10           |"
   ]
  },
  {
   "cell_type": "markdown",
   "id": "c2af9f2e-1624-4004-90be-99359f464ae6",
   "metadata": {},
   "source": [
    "* Q11: _Draw the schedule when a First In First Out (FIFO) scheduling algorithm is used._"
   ]
  },
  {
   "cell_type": "markdown",
   "id": "3baa3301-d7c7-4dff-bf1d-f9fcb94b7519",
   "metadata": {
    "slideshow": {
     "slide_type": "skip"
    },
    "tags": [
     "notes-only"
    ]
   },
   "source": [
    "```\n",
    "  A                   B              C                        D\n",
    "|-------------------|--------------|------------------------|----|\n",
    "0                   20             35                       60   65\n",
    "```"
   ]
  },
  {
   "cell_type": "markdown",
   "id": "9caed577-cd13-4893-b770-43fed28ed2d0",
   "metadata": {
    "slideshow": {
     "slide_type": "skip"
    },
    "tags": [
     "worksheet-only"
    ]
   },
   "source": [
    "<p style=\"height:8em;\"></p>"
   ]
  },
  {
   "cell_type": "markdown",
   "id": "0a08b166-0957-4a72-ad30-4d22fe62a414",
   "metadata": {},
   "source": [
    "* Q12: _Compute the turnaround and wait time for each process based on the above schedule._"
   ]
  },
  {
   "cell_type": "markdown",
   "id": "cd6faae9-d436-4eba-a53c-084733d9918d",
   "metadata": {
    "slideshow": {
     "slide_type": "skip"
    },
    "tags": [
     "notes-only"
    ]
   },
   "source": [
    "| Process | Turnaround | Wait |\n",
    "|---------|------------|------|\n",
    "| A       | 20         | 0    |\n",
    "| B       | 35         | 20   |\n",
    "| C       | 55         | 30   |\n",
    "| D       | 55         | 50   |"
   ]
  },
  {
   "cell_type": "markdown",
   "id": "409355fc-7d4d-4506-9c8a-45e5807db921",
   "metadata": {
    "tags": [
     "worksheet-only"
    ]
   },
   "source": [
    "| Process | Turnaround | Wait |\n",
    "|---------|------------|------|\n",
    "| A       |            |      |\n",
    "| B       |            |      |\n",
    "| C       |            |      |\n",
    "| D       |            |      |"
   ]
  },
  {
   "cell_type": "markdown",
   "id": "8ac5b105-3b9c-4fb2-b7ac-3e5e2d4c8021",
   "metadata": {},
   "source": [
    "* Q13: _Draw the schedule when a Shortest Job First (SJF) scheduling algorithm is used._"
   ]
  },
  {
   "cell_type": "markdown",
   "id": "3601e5fb-f990-465f-a9bc-c8a8c2f7eafa",
   "metadata": {
    "slideshow": {
     "slide_type": "skip"
    },
    "tags": [
     "notes-only"
    ]
   },
   "source": [
    "```\n",
    "  B              D    A                   C\n",
    "|--------------|----|-------------------|------------------------|\n",
    "0              15   20                  40                       65\n",
    "```"
   ]
  },
  {
   "cell_type": "markdown",
   "id": "1806033b-dcfc-46c3-b350-a968338313ab",
   "metadata": {
    "slideshow": {
     "slide_type": "skip"
    },
    "tags": [
     "worksheet-only"
    ]
   },
   "source": [
    "<p style=\"height:8em;\"></p>"
   ]
  },
  {
   "cell_type": "markdown",
   "id": "f8a44f81-1391-43a3-91db-10c47c531b5f",
   "metadata": {},
   "source": [
    "* Q14: _Compute the turnaround and wait time for each process based on the above schedule._"
   ]
  },
  {
   "cell_type": "markdown",
   "id": "28768ca1-9772-4049-b45c-047f4f2851af",
   "metadata": {
    "slideshow": {
     "slide_type": "skip"
    },
    "tags": [
     "notes-only"
    ]
   },
   "source": [
    "| Process | Turnaround | Wait |\n",
    "|---------|------------|------|\n",
    "| A       | 40         | 20   |\n",
    "| B       | 15         | 0    |\n",
    "| C       | 60         | 35   |\n",
    "| D       | 10         | 5    |"
   ]
  },
  {
   "cell_type": "markdown",
   "id": "0a416ae9-4d56-4ba4-b63e-1746d977c7e5",
   "metadata": {
    "tags": [
     "worksheet-only"
    ]
   },
   "source": [
    "| Process | Turnaround | Wait |\n",
    "|---------|------------|------|\n",
    "| A       |            |      |\n",
    "| B       |            |      |\n",
    "| C       |            |      |\n",
    "| D       |            |      |"
   ]
  },
  {
   "cell_type": "markdown",
   "id": "d8ec48c6-3b13-4dff-9b96-40d843aacfa0",
   "metadata": {},
   "source": [
    "* Q15: _Draw the schedule when a Shortest Time to Completion First (STCF) scheduling algorithm is used._"
   ]
  },
  {
   "cell_type": "markdown",
   "id": "c12c1c72-8a83-4c92-8308-92da99826d18",
   "metadata": {
    "slideshow": {
     "slide_type": "skip"
    },
    "tags": [
     "notes-only"
    ]
   },
   "source": [
    "```\n",
    "  B              D    A                   C\n",
    "|--------------|----|-------------------|------------------------|\n",
    "0              15   20                  40                       65\n",
    "```"
   ]
  },
  {
   "cell_type": "markdown",
   "id": "7e1a2d45-42f2-4db3-b214-c64acbb68a0b",
   "metadata": {
    "slideshow": {
     "slide_type": "skip"
    },
    "tags": [
     "worksheet-only"
    ]
   },
   "source": [
    "<p style=\"height:8em;\"></p>"
   ]
  },
  {
   "cell_type": "markdown",
   "id": "6270bae1-b4a0-4cee-9738-c350c60ff162",
   "metadata": {},
   "source": [
    "* Q16: _Compute the turnaround and wait time for each process based on the above schedule._"
   ]
  },
  {
   "cell_type": "markdown",
   "id": "d8d78095-45f4-494b-8e91-1c5a7c92394d",
   "metadata": {
    "slideshow": {
     "slide_type": "skip"
    },
    "tags": [
     "notes-only"
    ]
   },
   "source": [
    "| Process | Turnaround | Wait |\n",
    "|---------|------------|------|\n",
    "| A       | 40         | 20   |\n",
    "| B       | 15         | 0    |\n",
    "| C       | 60         | 35   |\n",
    "| D       | 10         | 5    |"
   ]
  },
  {
   "cell_type": "markdown",
   "id": "b5e57c2a-71cb-483e-bd53-6407c04109e8",
   "metadata": {
    "tags": [
     "worksheet-only"
    ]
   },
   "source": [
    "| Process | Turnaround | Wait |\n",
    "|---------|------------|------|\n",
    "| A       |            |      |\n",
    "| B       |            |      |\n",
    "| C       |            |      |\n",
    "| D       |            |      |\n",
    "\n",
    "<div style=\"page-break-after:always;\"></div>"
   ]
  },
  {
   "cell_type": "markdown",
   "id": "b74ad01a-a3d4-4f56-98fd-35140d8e408a",
   "metadata": {},
   "source": [
    "* Q17: _Draw the schedule when a Round Round (RR) scheduling algorithm is used with a time quantum of 10._"
   ]
  },
  {
   "cell_type": "markdown",
   "id": "4c562516-6014-4980-801f-0cd732cb0013",
   "metadata": {
    "slideshow": {
     "slide_type": "skip"
    },
    "tags": [
     "notes-only"
    ]
   },
   "source": [
    "```\n",
    "  A         B         C         D   A          B    C\n",
    "|---------|---------|---------|----|---------|----|-------------------|\n",
    "0         10        20        30   35        45   50                  65\n",
    "```"
   ]
  },
  {
   "cell_type": "markdown",
   "id": "a244befd-1973-4ae4-929a-0b9277e06b01",
   "metadata": {
    "slideshow": {
     "slide_type": "skip"
    },
    "tags": [
     "worksheet-only"
    ]
   },
   "source": [
    "<p style=\"height:8em;\"></p>"
   ]
  },
  {
   "cell_type": "markdown",
   "id": "ae42cc05-1400-4664-bbaf-f1d00ddca2f6",
   "metadata": {},
   "source": [
    "* Q18: _Compute the turnaround and wait time for each process based on the above schedule._"
   ]
  },
  {
   "cell_type": "markdown",
   "id": "fde1281f-714d-4bfe-9ade-bbba4d58c8a4",
   "metadata": {
    "slideshow": {
     "slide_type": "skip"
    },
    "tags": [
     "notes-only"
    ]
   },
   "source": [
    "| Process | Turnaround | Wait |\n",
    "|---------|------------|------|\n",
    "| A       | 45         | 25   |\n",
    "| B       | 50         | 35   |\n",
    "| C       | 60         | 35   |\n",
    "| D       | 25         | 20   |"
   ]
  },
  {
   "cell_type": "markdown",
   "id": "f3e556f9-4f65-4d24-b16d-10a5107dcf42",
   "metadata": {
    "tags": [
     "worksheet-only"
    ]
   },
   "source": [
    "| Process | Turnaround | Wait |\n",
    "|---------|------------|------|\n",
    "| A       |            |      |\n",
    "| B       |            |      |\n",
    "| C       |            |      |\n",
    "| D       |            |      |"
   ]
  },
  {
   "cell_type": "markdown",
   "id": "6db60d3a-b821-4909-8479-f2c87cbab3c8",
   "metadata": {},
   "source": [
    "### Processes"
   ]
  },
  {
   "cell_type": "markdown",
   "id": "7b6cc431-c992-4ac6-8d10-67b594548fcb",
   "metadata": {},
   "source": [
    "* Q19: _Write a program that creates a new process. The child process should print \"I am a child\"; the parent process should print \"I am a parent; my child is CPID\" (replacing CPID with the child’s PID)._"
   ]
  },
  {
   "cell_type": "code",
   "execution_count": 5,
   "id": "4755e19a-d013-4c2d-b12f-3d8bf3f6c3bf",
   "metadata": {
    "slideshow": {
     "slide_type": "skip"
    },
    "tags": [
     "notes-only"
    ]
   },
   "outputs": [
    {
     "name": "stdout",
     "output_type": "stream",
     "text": [
      "I am a parent; my child is 1375\n",
      "I am a child\n"
     ]
    }
   ],
   "source": [
    "#include <stdio.h>\n",
    "#include <unistd.h>\n",
    "int main() {\n",
    "    int pid = fork();\n",
    "    if (pid == 0) {\n",
    "        printf(\"I am a child\\n\");\n",
    "    }\n",
    "    else {\n",
    "        printf(\"I am a parent; my child is %d\\n\", pid);\n",
    "    }\n",
    "}"
   ]
  },
  {
   "cell_type": "markdown",
   "id": "8c6ff62f-d8fc-41d1-a30d-d5775277f05f",
   "metadata": {
    "slideshow": {
     "slide_type": "skip"
    },
    "tags": [
     "worksheet-only"
    ]
   },
   "source": [
    "<p style=\"height:30em;\"></p>"
   ]
  },
  {
   "cell_type": "markdown",
   "id": "cd0ba9cd-7ee6-460b-a710-c00e5fe68c83",
   "metadata": {},
   "source": [
    "* Q20: _Will the output produced by your program always appear in a particular order? Why or why not?_"
   ]
  },
  {
   "cell_type": "markdown",
   "id": "d54fea2f-2d62-4ff7-85d9-9b7be502ac51",
   "metadata": {
    "slideshow": {
     "slide_type": "skip"
    },
    "tags": [
     "notes-only"
    ]
   },
   "source": [
    "* No, because the parent does not `wait` for the child to finish before printing, and the OS scheduler determines which order the processes run\n",
    "* If you included a call to `wait` before the call to `printf` in the else body, then the answer would be yes, because the parent waits for the child to finish before printing"
   ]
  },
  {
   "cell_type": "markdown",
   "id": "addb476a-9229-432d-bfb4-5e30d1ceb992",
   "metadata": {
    "slideshow": {
     "slide_type": "skip"
    },
    "tags": [
     "worksheet-only"
    ]
   },
   "source": [
    "<p style=\"height:12em;\"></p>"
   ]
  },
  {
   "cell_type": "markdown",
   "id": "2a4c687d-a9f7-4fcc-bfca-45ae1d81edf0",
   "metadata": {},
   "source": [
    "* Q21: _Write a program that creates two new processes. The first process should run the executable `/usr/bin/whoami`. The second process should print `I have a sibling` after the first process has finished._"
   ]
  },
  {
   "cell_type": "code",
   "execution_count": 6,
   "id": "443613da-c553-42de-9cf8-288bdc97f1d5",
   "metadata": {
    "slideshow": {
     "slide_type": "skip"
    },
    "tags": [
     "notes-only"
    ]
   },
   "outputs": [
    {
     "name": "stdout",
     "output_type": "stream",
     "text": [
      "aaron\n",
      "I have a sibling\n"
     ]
    }
   ],
   "source": [
    "#include <stdio.h>\n",
    "#include <unistd.h>\n",
    "#include <sys/wait.h>\n",
    "int main() {\n",
    "    int retval = fork();\n",
    "    if (retval == 0) {\n",
    "        char *cmd[] = { \"/usr/bin/whoami\", NULL };\n",
    "        execv(cmd[0], cmd);\n",
    "    } else {\n",
    "        wait(NULL); \n",
    "    }\n",
    "\n",
    "    retval = fork();\n",
    "    if (retval == 0) {\n",
    "        printf(\"I have a sibling\\n\");\n",
    "        return 0;\n",
    "    } else {\n",
    "        return 0;\n",
    "    }\n",
    "}"
   ]
  },
  {
   "cell_type": "markdown",
   "id": "9000bb4e-8f4e-4e69-9109-0a68f592a873",
   "metadata": {
    "slideshow": {
     "slide_type": "skip"
    },
    "tags": [
     "worksheet-only"
    ]
   },
   "source": [
    "<p style=\"height:30em;\"></p>"
   ]
  },
  {
   "cell_type": "markdown",
   "id": "2f61320e-107f-4aad-afc7-69f81d4d7a00",
   "metadata": {},
   "source": [
    "* Q22: _What are all possible outputs the following program may produce?_"
   ]
  },
  {
   "cell_type": "code",
   "execution_count": null,
   "id": "af9f3e53-8942-4d2e-9ebe-0a8383ff1a2d",
   "metadata": {},
   "outputs": [],
   "source": [
    "#include <stdio.h>\n",
    "#include <unistd.h>\n",
    "int main() {\n",
    "    printf(\"A\\n\");\n",
    "    int retval = fork();\n",
    "    printf(\"B\\n\");\n",
    "    if (retval == 0) {\n",
    "        printf(\"C\\n\");\n",
    "    }\n",
    "    else {\n",
    "        printf(\"D\\n\");\n",
    "    }\n",
    "}"
   ]
  },
  {
   "cell_type": "markdown",
   "id": "6114792a-2a40-4ad7-b192-342f1f7dbdef",
   "metadata": {
    "slideshow": {
     "slide_type": "skip"
    },
    "tags": [
     "notes-only"
    ]
   },
   "source": [
    "```\n",
    "A\n",
    "B\n",
    "C\n",
    "B\n",
    "D\n",
    "```\n",
    "OR\n",
    "```\n",
    "A\n",
    "B\n",
    "B\n",
    "C\n",
    "D\n",
    "```\n",
    "OR\n",
    "```\n",
    "A\n",
    "B\n",
    "D\n",
    "B\n",
    "C\n",
    "```\n",
    "OR\n",
    "```\n",
    "A\n",
    "B\n",
    "B\n",
    "D\n",
    "C\n",
    "```"
   ]
  },
  {
   "cell_type": "markdown",
   "id": "93d0104d-bd6f-4188-b058-9708225d2592",
   "metadata": {
    "slideshow": {
     "slide_type": "skip"
    },
    "tags": [
     "worksheet-only"
    ]
   },
   "source": [
    "<p style=\"height:15em;\"></p>"
   ]
  },
  {
   "cell_type": "markdown",
   "id": "62d6e033-68b9-4bff-9bd8-b3a77a9fdfd8",
   "metadata": {},
   "source": [
    "### Loop optimization"
   ]
  },
  {
   "cell_type": "markdown",
   "id": "1fad1f3c-02d9-46ce-81b2-63b34910a222",
   "metadata": {},
   "source": [
    "* Q23: _Modify the following code to perform all relevant loop optimizations. You should assume the length of the key is **significantly smaller** than the length of the plain string, such that the entire key will fit in the cache but the entire plain string will not fit in the cache._"
   ]
  },
  {
   "cell_type": "code",
   "execution_count": null,
   "id": "c1a61f04-9732-462b-864d-9c31aaffd838",
   "metadata": {},
   "outputs": [],
   "source": [
    "char *vigenere(char *plain, char *key, int keylen) {\n",
    "    char *cipher = malloc(sizeof(char) * (strlen(plain) + 1));\n",
    "    cipher[strlen(plain)] = '\\0';\n",
    "    int j = 0;\n",
    "    while (j < keylen) {\n",
    "        int i = j;\n",
    "        while (i < strlen(plain)) {\n",
    "            cipher[i] = (((plain[i] - 'A') + key[j]) % 26) + 'A';\n",
    "            i += keylen;\n",
    "        }\n",
    "        j++;\n",
    "    }\n",
    "    return cipher;\n",
    "}"
   ]
  },
  {
   "cell_type": "markdown",
   "id": "1ed1be4c-0125-49aa-b48d-356afd727b91",
   "metadata": {
    "slideshow": {
     "slide_type": "skip"
    },
    "tags": [
     "notes-only"
    ]
   },
   "source": [
    "Optimizations: loop-invariant code motion to call `strlen` only once; loop interchange to avoid \"jumping around\" the `plain` array (there is now \"jumping around\" the key array, but this is tolerable because the key is small enough to fit entirely in the cache)"
   ]
  },
  {
   "cell_type": "code",
   "execution_count": null,
   "id": "fb7d607f-98db-4d0b-9346-e51ccd691adc",
   "metadata": {
    "slideshow": {
     "slide_type": "skip"
    },
    "tags": [
     "notes-only"
    ]
   },
   "outputs": [],
   "source": [
    "char *vigenere(char *plain, char *key, int keylen) {\n",
    "    int len = strlen(plain);\n",
    "    char *cipher = malloc(sizeof(char) * (len + 1));\n",
    "    cipher[len] = '\\0';\n",
    "    int i = 0;\n",
    "    while (i < len) {\n",
    "        int j = 0;\n",
    "        while (j < keylen && i < len) {\n",
    "            cipher[i] = (((plain[i] - 'A') + key[j]) % 26) + 'A';\n",
    "            j++;\n",
    "            i++;\n",
    "        }\n",
    "    }\n",
    "    return cipher;\n",
    "}"
   ]
  },
  {
   "cell_type": "markdown",
   "id": "316a2bde-f783-49f7-9ad7-8dfdf8094ba3",
   "metadata": {
    "slideshow": {
     "slide_type": "skip"
    },
    "tags": [
     "notes-only"
    ]
   },
   "source": [
    "Alternative code with same optimizations"
   ]
  },
  {
   "cell_type": "code",
   "execution_count": null,
   "id": "7bc7324a-1ca9-4adb-8d15-1a356a9b2c64",
   "metadata": {
    "slideshow": {
     "slide_type": "skip"
    },
    "tags": [
     "notes-only"
    ]
   },
   "outputs": [],
   "source": [
    "char *vigenere(char *plain, char *key, int keylen) {\n",
    "    int len = strlen(plain);\n",
    "    char *cipher = malloc(sizeof(char) * (len + 1));\n",
    "    cipher[len] = '\\0';\n",
    "    int i = 0;\n",
    "    while (i < len) {\n",
    "        int j = 0;\n",
    "        while (j < keylen && i+j < len) {\n",
    "            cipher[i+j] = (((plain[i+j] - 'A') + key[j]) % 26) + 'A';\n",
    "            j++;\n",
    "        }\n",
    "        i += keylen;\n",
    "    }\n",
    "    return cipher;\n",
    "}"
   ]
  },
  {
   "cell_type": "markdown",
   "id": "76beec06-1afb-45f4-a1c3-c401cdd9f50e",
   "metadata": {
    "slideshow": {
     "slide_type": "skip"
    },
    "tags": [
     "worksheet-only"
    ]
   },
   "source": [
    "<p style=\"height:20em;\"></p>"
   ]
  },
  {
   "cell_type": "markdown",
   "id": "9518db9b-1e9d-4541-aa58-749139fe1203",
   "metadata": {},
   "source": [
    "### Caching"
   ]
  },
  {
   "cell_type": "markdown",
   "id": "99d131e2-ab0b-4ccb-9cc0-609a6674fb9d",
   "metadata": {},
   "source": [
    "* Q24: _Assume the cache size is 3 and the **optimal** cache replacement algorithm is used. Indicate what happens with the cache on each data access._"
   ]
  },
  {
   "cell_type": "markdown",
   "id": "78924e9c-f1e0-420b-b1a1-2e6feb3d41a4",
   "metadata": {},
   "source": [
    "* Access 2\n",
    "* Access 4\n",
    "* Access 1\n",
    "* Access 2\n",
    "* Access 4\n",
    "* Access 3\n",
    "* Access 2\n",
    "* Access 4\n",
    "* Access 1\n",
    "* Access 2\n",
    "* Access 4\n",
    "* Access 1\n",
    "\n",
    "<p style=\"height:1em;\"></p>"
   ]
  },
  {
   "cell_type": "markdown",
   "id": "90bb0465-d50f-4d89-b41d-8b53906d45e9",
   "metadata": {
    "slideshow": {
     "slide_type": "skip"
    },
    "tags": [
     "notes-only"
    ]
   },
   "source": [
    "    * Access 2 — +2\n",
    "    * Access 4 — +4\n",
    "    * Access 1 — +1\n",
    "    * Access 2 — Hit\n",
    "    * Access 4 — Hit\n",
    "    * Access 3 — -1/+3\n",
    "    * Access 2 — Hit\n",
    "    * Access 4 — Hit\n",
    "    * Access 1 — -3/+1\n",
    "    * Access 2 — Hit\n",
    "    * Access 4 — Hit\n",
    "    * Access 1 — Hit"
   ]
  },
  {
   "cell_type": "markdown",
   "id": "6a945d92-3aba-4fd0-9dc8-2446cd9b9989",
   "metadata": {},
   "source": [
    "* Q25: _Assume the cache size is 3 and the **least recently used (LRU)** cache replacement algorithm is used. Indicate what happens with the cache on each data access._"
   ]
  },
  {
   "cell_type": "markdown",
   "id": "c0e398ea-91e2-4406-839c-1f4297e1dc07",
   "metadata": {},
   "source": [
    "* Access 2\n",
    "* Access 4\n",
    "* Access 1\n",
    "* Access 2\n",
    "* Access 4\n",
    "* Access 3\n",
    "* Access 2\n",
    "* Access 4\n",
    "* Access 1\n",
    "* Access 2\n",
    "* Access 4\n",
    "* Access 1\n",
    "\n",
    "<p style=\"height:1em;\"></p>"
   ]
  },
  {
   "cell_type": "markdown",
   "id": "b5b064fe-ee7e-4fad-aee6-47553f25edc1",
   "metadata": {
    "slideshow": {
     "slide_type": "skip"
    },
    "tags": [
     "notes-only"
    ]
   },
   "source": [
    "    * Access 2 — +2\n",
    "    * Access 4 — +4\n",
    "    * Access 1 — +1\n",
    "    * Access 2 — Hit\n",
    "    * Access 4 — Hit\n",
    "    * Access 3 — -1/+3\n",
    "    * Access 2 — Hit\n",
    "    * Access 4 — Hit\n",
    "    * Access 1 — -3/+1\n",
    "    * Access 2 — Hit\n",
    "    * Access 4 — Hit\n",
    "    * Access 1 — Hit"
   ]
  },
  {
   "cell_type": "markdown",
   "id": "1e05c9a9-553c-4fad-b162-f30fd3f584d9",
   "metadata": {},
   "source": [
    "### Reducing memory accesses"
   ]
  },
  {
   "cell_type": "markdown",
   "id": "2fd8f8be-5a0d-4a57-ab90-6894d43bb68f",
   "metadata": {},
   "source": [
    "* Q26: _Cross-out unnecessary loads and stores for the following assembly code:_"
   ]
  },
  {
   "cell_type": "markdown",
   "id": "9998a627-9ade-43c2-aae3-30c45833ad13",
   "metadata": {
    "tags": [
     "worksheet-only"
    ]
   },
   "source": [
    "```\n",
    "000000000000076c <divide>:                      \n",
    "    76c:    d10083ff     sub    sp, sp, #0x20\n",
    "    770:    b9000fe0     str    w0, [sp, #12]\n",
    "    774:    b9000be1     str    w1, [sp, #8]\n",
    "    778:    12800000     mov    w0, #0xffffffff\n",
    "    77c:    b9001fe0     str    w0, [sp, #28]\n",
    "    780:    b9400fe1     ldr    w1, [sp, #8]\n",
    "    784:    b9400be0     ldr    w0, [sp, #12]\n",
    "    788:    1ac00c20     sdiv   w0, w1, w0\n",
    "    78c:    b9001fe0     str    w0, [sp, #28]\n",
    "    790:    b9401fe0     ldr    w0, [sp, #28]\n",
    "    794:    910083ff     add    sp, sp, #0x20\n",
    "    798:    d65f03c0     ret\n",
    "```"
   ]
  },
  {
   "cell_type": "markdown",
   "id": "448e0cbb-5d9a-4b94-a609-bae98d3a37c7",
   "metadata": {
    "slideshow": {
     "slide_type": "skip"
    },
    "tags": [
     "notes-only"
    ]
   },
   "source": [
    "```\n",
    "000000000000076c <divide>:                      \n",
    "    76c:    d10083ff     sub    sp, sp, #0x20   \n",
    "    770:    b9000fe0     str    w0, [sp, #12]\n",
    "    774:    b9000be1     str    w1, [sp, #8]        XXXX\n",
    "    778:    12800000     mov    w0, #0xffffffff     \n",
    "    77c:    b9001fe0     str    w0, [sp, #28]       XXXX\n",
    "    780:    b9400fe1     ldr    w1, [sp, #8]        XXXX\n",
    "    784:    b9400be0     ldr    w0, [sp, #12]\n",
    "    788:    1ac00c20     sdiv   w0, w1, w0      \n",
    "    78c:    b9001fe0     str    w0, [sp, #28]       XXXX\n",
    "    790:    b9401fe0     ldr    w0, [sp, #28]       XXXX\n",
    "    794:    910083ff     add    sp, sp, #0x20   \n",
    "    798:    d65f03c0     ret                    \n",
    "```"
   ]
  },
  {
   "cell_type": "markdown",
   "id": "888f93ab-2de8-4f62-9595-06efc010f6aa",
   "metadata": {},
   "source": [
    "* Q27: _Cross-out unnecessary loads and stores for the following assembly code:_"
   ]
  },
  {
   "cell_type": "markdown",
   "id": "343c07f5-75e6-460e-82eb-11b2fa4e3b2f",
   "metadata": {
    "tags": [
     "worksheet-only"
    ]
   },
   "source": [
    "```\n",
    "000000000000071c <flip>:\n",
    "    71c:    d10083ff     sub    sp, sp, #0x20\n",
    "    720:    b9000fe0     str    w0, [sp, #12]\n",
    "    724:    12800000     mov    w1, #0xffffffff\n",
    "    728:    b9001fe0     str    w1, [sp, #28]\n",
    "    72c:    b9400fe0     ldr    w0, [sp, #12]\n",
    "    730:    7100001f     cmp    w0, #0x0\n",
    "    734:    54000081     b.eq   740 <flip+0x28>\n",
    "    738:    b9001fff     str    wzr, [sp, #28]\n",
    "    73c:    14000002     b      748 <flip+0x2c>\n",
    "    740:    52800020     mov    w0, #0x1\n",
    "    744:    b9001fe0     str    w0, [sp, #28]\n",
    "    748:    b9401fe0     ldr    w0, [sp, #28]\n",
    "    74c:    910083ff     add    sp, sp, #0x20\n",
    "    750:    d65f03c0     ret    \n",
    "```\n",
    "\n",
    "<div style=\"page-break-after:always;\"></div>"
   ]
  },
  {
   "cell_type": "markdown",
   "id": "5e4f0da2-dba7-4828-b0c7-e8c98a13c767",
   "metadata": {
    "slideshow": {
     "slide_type": "skip"
    },
    "tags": [
     "notes-only"
    ]
   },
   "source": [
    "```\n",
    "000000000000071c <flip>:\n",
    "    71c:    d10083ff     sub    sp, sp, #0x20\n",
    "    720:    b9000fe0     str    w0, [sp, #12]   XXXX\n",
    "    724:    12800000     mov    w1, #0xffffffff\n",
    "    728:    b9001fe0     str    w1, [sp, #28]\n",
    "    72c:    b9400fe0     ldr    w0, [sp, #12]   XXXX\n",
    "    730:    7100001f     cmp    w0, #0x0\n",
    "    734:    54000081     b.eq   740 <flip+0x28>\n",
    "    738:    b9001fff     str    wzr, [sp, #28]\n",
    "    73c:    14000002     b      748 <flip+0x2c>\n",
    "    740:    52800020     mov    w0, #0x1\n",
    "    744:    b9001fe0     str    w0, [sp, #28]\n",
    "    748:    b9401fe0     ldr    w0, [sp, #28]\n",
    "    74c:    910083ff     add    sp, sp, #0x20\n",
    "    750:    d65f03c0     ret    \n",
    "```"
   ]
  },
  {
   "cell_type": "markdown",
   "id": "e247cc95-55b5-4061-8e3b-c1be7300e583",
   "metadata": {},
   "source": [
    "### Memory hierarchy"
   ]
  },
  {
   "cell_type": "markdown",
   "id": "82675a96-cb84-46eb-88d3-2ae8d73c0dc6",
   "metadata": {},
   "source": [
    "* Q28: _What is the **fastest volatile** memory?_"
   ]
  },
  {
   "cell_type": "markdown",
   "id": "8b06ee0e-6e25-46d5-96e6-145c29d1a021",
   "metadata": {
    "slideshow": {
     "slide_type": "skip"
    },
    "tags": [
     "notes-only"
    ]
   },
   "source": [
    "    registers"
   ]
  },
  {
   "cell_type": "markdown",
   "id": "eef3c0f6-5024-4248-aa45-0bef1229e50f",
   "metadata": {
    "slideshow": {
     "slide_type": "skip"
    },
    "tags": [
     "worksheet-only"
    ]
   },
   "source": [
    "<p style=\"height:3em;\"></p>"
   ]
  },
  {
   "cell_type": "markdown",
   "id": "cb191b17-66d5-4d01-bb6d-f78002c98236",
   "metadata": {},
   "source": [
    "* Q29: _What is the **fastest non-volatile** memory?_"
   ]
  },
  {
   "cell_type": "markdown",
   "id": "10ac1cf9-49f5-4c27-8a98-b202eb2c221e",
   "metadata": {
    "slideshow": {
     "slide_type": "skip"
    },
    "tags": [
     "notes-only"
    ]
   },
   "source": [
    "    solid state drive (SSD) or SDcard"
   ]
  },
  {
   "cell_type": "markdown",
   "id": "e79d028b-3537-43b2-b8fb-f011a78bf402",
   "metadata": {
    "slideshow": {
     "slide_type": "skip"
    },
    "tags": [
     "worksheet-only"
    ]
   },
   "source": [
    "<p style=\"height:3em;\"></p>"
   ]
  },
  {
   "cell_type": "markdown",
   "id": "93fc8efd-22ee-485b-bc4b-0877e1a41528",
   "metadata": {},
   "source": [
    "* Q30: _Why is a hard disk drive (HDD) slower than a solid state drive (SSD)?_"
   ]
  },
  {
   "cell_type": "markdown",
   "id": "5a8127b6-3bf4-491f-b8f0-6164e9e9b7b0",
   "metadata": {
    "slideshow": {
     "slide_type": "skip"
    },
    "tags": [
     "notes-only"
    ]
   },
   "source": [
    "an HDD has moving parts that need to be moved into position before data can be read/written    solid state drive (SSD) or SDcard"
   ]
  },
  {
   "cell_type": "markdown",
   "id": "a763b87a-9e36-4b3b-b8e5-be8654a0bf9a",
   "metadata": {
    "slideshow": {
     "slide_type": "skip"
    },
    "tags": [
     "worksheet-only"
    ]
   },
   "source": [
    "<p style=\"height:5em;\"></p>"
   ]
  },
  {
   "cell_type": "markdown",
   "id": "2ea32fca-3d8f-43a5-8347-768c36c2aa1c",
   "metadata": {},
   "source": [
    "* Q31: _Why is accessing main memory (i.e., Random Access Memory (RAM)) slower than accessing a cache?_"
   ]
  },
  {
   "cell_type": "markdown",
   "id": "a8b2d17e-fcc4-4a4c-bfdb-b2f3a7223504",
   "metadata": {
    "slideshow": {
     "slide_type": "skip"
    },
    "tags": [
     "notes-only"
    ]
   },
   "source": [
    "a cache is part of the CPU, but data needs to travel across a bus to move between the CPU and main memory; the memory circuits used in RAM are slower than the memory circuits used in a cache"
   ]
  },
  {
   "cell_type": "markdown",
   "id": "cea22d04-6fbe-4d91-a441-58d46b4e22ec",
   "metadata": {
    "slideshow": {
     "slide_type": "skip"
    },
    "tags": [
     "worksheet-only"
    ]
   },
   "source": [
    "<p style=\"height:5em;\"></p>"
   ]
  },
  {
   "cell_type": "markdown",
   "id": "d05b9c5c-e92b-417d-811c-8452f73287eb",
   "metadata": {},
   "source": [
    "### Memory errors"
   ]
  },
  {
   "cell_type": "markdown",
   "id": "fddecdd7-eedb-4408-86d2-05294997ddb7",
   "metadata": {},
   "source": [
    "The intended behavior of the program below is to output a string that contains multiple copies of a word (e.g., `\"byebye\"`). The code below compiles without warnings, but it contains multiple errors."
   ]
  },
  {
   "cell_type": "code",
   "execution_count": null,
   "id": "a82eabe4-380c-4105-bd9b-16054c8509af",
   "metadata": {},
   "outputs": [],
   "source": [
    "/*1 */  #include <stdlib.h>\n",
    "/*2 */  #include <string.h>\n",
    "/*3 */  #include <stdio.h>\n",
    "/*4 */  char *repeat(char *word, int count) {\n",
    "/*5 */      char *dup = malloc(sizeof(*word) * count + 1);\n",
    "/*6 */      int k = 0;\n",
    "/*7 */      for (int i = 0; i < count; i++) {\n",
    "/*8 */          for (int j = 0; j <= strlen(word) * count; j++) {\n",
    "/*9 */              dup[k] = word[j];\n",
    "/*10*/              k++;\n",
    "/*11*/          }\n",
    "/*12*/      }\n",
    "/*13*/      free(dup);\n",
    "/*14*/      return dup;\n",
    "/*15*/  }\n",
    "/*16*/  int main() {\n",
    "/*17*/      char *orig = malloc(4);\n",
    "/*18*/      strcpy(orig, \"bye\");\n",
    "/*19*/      char *result = repeat(orig, 2);\n",
    "/*20*/      printf(\"%s\\n\", result);\n",
    "/*21*/  }"
   ]
  },
  {
   "cell_type": "markdown",
   "id": "79c28124-4f25-431a-9bea-e11cb0004771",
   "metadata": {},
   "source": [
    "_For each of the following errors produced by valgrind, describe (in 2-3 sentences) **why** the error is occurring and **how** you would modify the code to correct the error._"
   ]
  },
  {
   "cell_type": "markdown",
   "id": "3232e209-b6b0-4870-80ce-800ad994bca4",
   "metadata": {
    "slideshow": {
     "slide_type": "skip"
    },
    "tags": [
     "worksheet-only"
    ]
   },
   "source": [
    "<div style=\"page-break-after:always;\"></div>"
   ]
  },
  {
   "cell_type": "markdown",
   "id": "beff37d8-4805-4476-bdb9-64effbb6108d",
   "metadata": {},
   "source": [
    "* Q32:\n",
    "    ```\n",
    "    Invalid write of size 1\n",
    "        at 0x4006CA: repeat (repeat.c:9)\n",
    "        by 0x400752: main (repeat.c:19)\n",
    "    Address 0x5204093 is 0 bytes after a block of size 3 alloc'd\n",
    "        at 0x4C2DB8F: malloc (in vgpreload_memcheck-amd64-linux.so)\n",
    "        by 0x40066B: repeat (repeat.c:5)\n",
    "        by 0x400752: main (repeat.c:19)\n",
    "    ```"
   ]
  },
  {
   "cell_type": "markdown",
   "id": "fb9ad016-4b1d-45ab-8522-914749583765",
   "metadata": {
    "slideshow": {
     "slide_type": "skip"
    },
    "tags": [
     "notes-only"
    ]
   },
   "source": [
    "Not enough space was allocated for the duplicated string: `sizeof(*word)` gets the size of a single character. Use `strlen(word)` to get the number of characters in the original word."
   ]
  },
  {
   "cell_type": "markdown",
   "id": "ea39df8c-1c4a-4d3c-b198-e465cd88a533",
   "metadata": {
    "slideshow": {
     "slide_type": "skip"
    },
    "tags": [
     "worksheet-only"
    ]
   },
   "source": [
    "<p style=\"height:8em;\"></p>"
   ]
  },
  {
   "cell_type": "markdown",
   "id": "186354ac-f6d9-4059-bc40-079197d87c6d",
   "metadata": {},
   "source": [
    "* Q33:\n",
    "    ```\n",
    "    Invalid read of size 1\n",
    "        at 0x4006BF: repeat (repeat.c:9)\n",
    "        by 0x400752: main (repeat.c:19)\n",
    "    Address 0x5204044 is 0 bytes after a block of size 4 alloc'd\n",
    "        at 0x4C2DB8F: malloc (in vgpreload_memcheck-amd64-linux.so)\n",
    "        by 0x400723: main (repeat.c:17)\n",
    "    ```"
   ]
  },
  {
   "cell_type": "markdown",
   "id": "16fbb8a0-6d99-4c42-8db4-db20e28593ce",
   "metadata": {
    "slideshow": {
     "slide_type": "skip"
    },
    "tags": [
     "notes-only"
    ]
   },
   "source": [
    "The inner for loop goes beyond the end of the original word. The for loop condition should be `j < strlen(word)`."
   ]
  },
  {
   "cell_type": "markdown",
   "id": "1be80eed-a18f-4642-b4ed-b51589990291",
   "metadata": {
    "slideshow": {
     "slide_type": "skip"
    },
    "tags": [
     "worksheet-only"
    ]
   },
   "source": [
    "<p style=\"height:8em;\"></p>"
   ]
  },
  {
   "cell_type": "markdown",
   "id": "721f2bd5-683e-423b-b9ff-77a6b930e50f",
   "metadata": {},
   "source": [
    "* Q34:\n",
    "    ```\n",
    "    Invalid read of size 1\n",
    "        at 0x4E88CD0: vfprintf (vfprintf.c:1632)\n",
    "        by 0x4E8F8A8: printf (printf.c:33)\n",
    "        by 0x40076B: main (repeat.c:20)\n",
    "    Address 0x5204090 is 0 bytes inside a block of size 3 free'd\n",
    "        at 0x4C2EDEB: free (in vgpreload_memcheck-amd64-linux.so)\n",
    "        by 0x4006FF: repeat (repeat.c:13)\n",
    "        by 0x400752: main (repeat.c:19)\n",
    "    Block was alloc'd at\n",
    "        at 0x4C2DB8F: malloc (in vgpreload_memcheck-amd64-linux.so)\n",
    "        by 0x40066B: repeat (repeat.c:5)\n",
    "        by 0x400752: main (repeat.c:19)\n",
    "    ```"
   ]
  },
  {
   "cell_type": "markdown",
   "id": "6cd76f63-4f41-44ba-afc8-2f5b4fffc191",
   "metadata": {
    "slideshow": {
     "slide_type": "skip"
    },
    "tags": [
     "notes-only"
    ]
   },
   "source": [
    "The string containing the repeated word is free'd (in `repeat`) before it is printed (in `main`). Move the call to `free` in `repeat` to after the call to `printf` in `main`."
   ]
  },
  {
   "cell_type": "markdown",
   "id": "61ee4cc7-f07b-443d-ba12-c56847635315",
   "metadata": {
    "slideshow": {
     "slide_type": "skip"
    },
    "tags": [
     "worksheet-only"
    ]
   },
   "source": [
    "<p style=\"height:10em;\"></p>"
   ]
  },
  {
   "cell_type": "markdown",
   "id": "de428241-b28b-4bc9-b8b7-1980283fda13",
   "metadata": {},
   "source": [
    "* Q35:\n",
    "    ```\n",
    "    4 bytes in 1 blocks are definitely lost in loss record 1 of 1\n",
    "        at 0x4C2DB8F: malloc (in vgpreload_memcheck-amd64-linux.so)\n",
    "        by 0x400723: main (repeat.c:17)\n",
    "    ```"
   ]
  },
  {
   "cell_type": "markdown",
   "id": "b1ffcbd4-b3a5-4925-91a4-9f615092c859",
   "metadata": {
    "slideshow": {
     "slide_type": "skip"
    },
    "tags": [
     "notes-only"
    ]
   },
   "source": [
    "The space for the original word (allocated in `main`) is not freed. Add `free(orig)` after the call to `repeat` in `main`."
   ]
  },
  {
   "cell_type": "markdown",
   "id": "33b7f840-77e8-4860-b957-72c8acf39913",
   "metadata": {
    "slideshow": {
     "slide_type": "skip"
    },
    "tags": [
     "worksheet-only"
    ]
   },
   "source": [
    "<p style=\"height:8em;\"></p>"
   ]
  },
  {
   "cell_type": "markdown",
   "id": "1a9eb37d-7a46-45e9-a52c-72eb1548f0b5",
   "metadata": {},
   "source": [
    "### Pointers & dynamic memory allocation"
   ]
  },
  {
   "cell_type": "markdown",
   "id": "4b8bee6f-b7e5-4089-b0c7-33eea6b128bd",
   "metadata": {},
   "source": [
    "* Q36: _Assume the following program is executed._"
   ]
  },
  {
   "cell_type": "code",
   "execution_count": 9,
   "id": "08033766-73cc-4a6f-ad35-1e437168eef5",
   "metadata": {},
   "outputs": [],
   "source": [
    "#include <stdlib.h>\n",
    "#include <string.h>\n",
    "void magic(char *x, char **y) {\n",
    "    char *z = *y;\n",
    "    z[2] = 'a';\n",
    "    *x = 'k';\n",
    "    *y = &x[1];\n",
    "    // STOP HERE\n",
    "}\n",
    "\n",
    "int main() {\n",
    "    char *season = malloc(sizeof(char) * 7);\n",
    "    strcpy(season, \"winter\");\n",
    "    char precip[6] = \"snow\";\n",
    "    char *ptr = season + 3;\n",
    "    magic(precip, &ptr);\n",
    "}"
   ]
  },
  {
   "cell_type": "markdown",
   "id": "484b7c0a-9d73-419c-9360-6767d6f94317",
   "metadata": {},
   "source": [
    "_Draw the contents of the stack and heap when the program reaches the comment `STOP HERE`. If a memory region is freed, cross it out; do not erase it from your diagram._"
   ]
  },
  {
   "cell_type": "markdown",
   "id": "90f29645-5e64-4939-8c19-278d6db2054a",
   "metadata": {
    "slideshow": {
     "slide_type": "skip"
    },
    "tags": [
     "notes-only"
    ]
   },
   "source": [
    "![](images/program_memory/final_review.png)"
   ]
  },
  {
   "cell_type": "markdown",
   "id": "48a2cdca-9521-41d3-9c29-15c94bc41e78",
   "metadata": {
    "slideshow": {
     "slide_type": "skip"
    },
    "tags": [
     "worksheet-only"
    ]
   },
   "source": [
    "<p style=\"height:25em;\"></p>"
   ]
  },
  {
   "cell_type": "markdown",
   "id": "711b1a36-0b29-41ff-b264-b8aeb8ff28c8",
   "metadata": {},
   "source": [
    "### Number representation"
   ]
  },
  {
   "cell_type": "markdown",
   "id": "41829634-c083-4b2a-83b6-dab3520349fc",
   "metadata": {},
   "source": [
    "* Q37: _Convert `0b10101010` to an unsigned decimal number_"
   ]
  },
  {
   "cell_type": "markdown",
   "id": "af787df2-e56e-4524-931f-9c59e1639cb1",
   "metadata": {
    "slideshow": {
     "slide_type": "skip"
    },
    "tags": [
     "notes-only"
    ]
   },
   "source": [
    "    170"
   ]
  },
  {
   "cell_type": "markdown",
   "id": "1456ebbc-8ff0-43e1-ae50-20e792265bd5",
   "metadata": {
    "slideshow": {
     "slide_type": "skip"
    },
    "tags": [
     "worksheet-only"
    ]
   },
   "source": [
    "<p style=\"height:4em;\"></p>"
   ]
  },
  {
   "cell_type": "markdown",
   "id": "2b77b052-cd30-439f-8a1b-f9b25be85021",
   "metadata": {},
   "source": [
    "* Q38: _Convert `0b10101010` to an signed decimal number_"
   ]
  },
  {
   "cell_type": "markdown",
   "id": "70375527-a42a-4fca-a5f5-8afccdd71f80",
   "metadata": {
    "slideshow": {
     "slide_type": "skip"
    },
    "tags": [
     "notes-only"
    ]
   },
   "source": [
    "    -86"
   ]
  },
  {
   "cell_type": "markdown",
   "id": "2bef5564-53f9-484b-bd67-f60fc10a3b45",
   "metadata": {
    "slideshow": {
     "slide_type": "skip"
    },
    "tags": [
     "worksheet-only"
    ]
   },
   "source": [
    "<p style=\"height:4em;\"></p>"
   ]
  },
  {
   "cell_type": "markdown",
   "id": "9ef28117-3621-4525-9afd-87d32893c5c1",
   "metadata": {},
   "source": [
    "* Q39: _Convert `43` to 8-bit two's complement_"
   ]
  },
  {
   "cell_type": "markdown",
   "id": "fad4e865-1a16-41e0-a285-873573155bb5",
   "metadata": {
    "slideshow": {
     "slide_type": "skip"
    },
    "tags": [
     "notes-only"
    ]
   },
   "source": [
    "    0b00101011"
   ]
  },
  {
   "cell_type": "markdown",
   "id": "e6c750ca-dbac-4d88-8d3f-cb05b5759ade",
   "metadata": {
    "slideshow": {
     "slide_type": "skip"
    },
    "tags": [
     "worksheet-only"
    ]
   },
   "source": [
    "<p style=\"height:4em;\"></p>"
   ]
  },
  {
   "cell_type": "markdown",
   "id": "8dc4a033-c76a-4418-a27e-3bba8d667b1e",
   "metadata": {},
   "source": [
    "* Q40: _Convert `-43` to 8-bit two's complement_"
   ]
  },
  {
   "cell_type": "markdown",
   "id": "7cc8f363-0458-4042-a2d7-dc0cf323da74",
   "metadata": {
    "slideshow": {
     "slide_type": "skip"
    },
    "tags": [
     "notes-only"
    ]
   },
   "source": [
    "    0b11010101"
   ]
  },
  {
   "cell_type": "markdown",
   "id": "637ee021-0c74-4739-9c4c-d8258de23db3",
   "metadata": {
    "slideshow": {
     "slide_type": "skip"
    },
    "tags": [
     "worksheet-only"
    ]
   },
   "source": [
    "<p style=\"height:4em;\"></p>"
   ]
  },
  {
   "cell_type": "markdown",
   "id": "2244ebf8-d722-4e55-b327-5f83435a9776",
   "metadata": {},
   "source": [
    "* Q41: _Compute `(0b1100 ^ 0b1111) & 0b0101`_"
   ]
  },
  {
   "cell_type": "markdown",
   "id": "dcab065d-cdc3-47b2-9121-7de079b513c0",
   "metadata": {
    "slideshow": {
     "slide_type": "skip"
    },
    "tags": [
     "notes-only"
    ]
   },
   "source": [
    "    0b0001"
   ]
  },
  {
   "cell_type": "markdown",
   "id": "9df26429-307c-466b-9b56-e75833360b25",
   "metadata": {
    "slideshow": {
     "slide_type": "skip"
    },
    "tags": [
     "worksheet-only"
    ]
   },
   "source": [
    "<p style=\"height:4em;\"></p>"
   ]
  },
  {
   "cell_type": "markdown",
   "id": "d876a274-ede3-4fa1-88aa-26db53d26025",
   "metadata": {},
   "source": [
    "* Q42: _Compute `(~0b1100) | 0b0101`_"
   ]
  },
  {
   "cell_type": "markdown",
   "id": "dd08d1fc-2d29-4676-bc3a-96e3ce84ac4e",
   "metadata": {
    "slideshow": {
     "slide_type": "skip"
    },
    "tags": [
     "notes-only"
    ]
   },
   "source": [
    "    0b0111"
   ]
  },
  {
   "cell_type": "markdown",
   "id": "df9315a6-f2df-41aa-851b-3b8329b2b7ae",
   "metadata": {
    "slideshow": {
     "slide_type": "skip"
    },
    "tags": [
     "worksheet-only"
    ]
   },
   "source": [
    "<p style=\"height:4em;\"></p>"
   ]
  },
  {
   "cell_type": "markdown",
   "id": "954f26f6-6262-44e4-a12f-36025851f353",
   "metadata": {},
   "source": [
    "* Q43: _In a system that represents numbers using 8-bit two's complement will the computation `120 + 16` result in overflow, underflow, or neither?_"
   ]
  },
  {
   "cell_type": "markdown",
   "id": "97ab37b1-b32b-4fae-bb56-b328bc3843ad",
   "metadata": {
    "slideshow": {
     "slide_type": "skip"
    },
    "tags": [
     "notes-only"
    ]
   },
   "source": [
    "    overflow"
   ]
  },
  {
   "cell_type": "markdown",
   "id": "c7c49d6b-14db-4331-af5c-95048735cc96",
   "metadata": {
    "slideshow": {
     "slide_type": "skip"
    },
    "tags": [
     "worksheet-only"
    ]
   },
   "source": [
    "<p style=\"height:4em;\"></p>"
   ]
  },
  {
   "cell_type": "markdown",
   "id": "8a0556d5-1115-4018-ab4f-4840c1cd1be9",
   "metadata": {},
   "source": [
    "* Q44: _In a system that represents numbers using 8-bit two's complement will the computation `-120 + -8` result in overflow, underflow, or neither?_"
   ]
  },
  {
   "cell_type": "markdown",
   "id": "24262b68-7760-4d09-a6a4-05d6b67ae837",
   "metadata": {
    "slideshow": {
     "slide_type": "skip"
    },
    "tags": [
     "notes-only"
    ]
   },
   "source": [
    "    neither"
   ]
  },
  {
   "cell_type": "markdown",
   "id": "26483c0a-3879-4d06-948b-57c95ca0869b",
   "metadata": {
    "slideshow": {
     "slide_type": "skip"
    },
    "tags": [
     "worksheet-only"
    ]
   },
   "source": [
    "<p style=\"height:4em;\"></p>"
   ]
  }
 ],
 "metadata": {
  "kernelspec": {
   "display_name": "C",
   "language": "c",
   "name": "c"
  },
  "language_info": {
   "file_extension": ".c",
   "mimetype": "c",
   "name": "c"
  }
 },
 "nbformat": 4,
 "nbformat_minor": 5
}
