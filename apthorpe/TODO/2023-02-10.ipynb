{
 "cells": [
  {
   "cell_type": "markdown",
   "id": "40c5bff8-f0b9-4222-80cb-62efa3710886",
   "metadata": {
    "slideshow": {
     "slide_type": "skip"
    },
    "tags": []
   },
   "source": [
    "# Number representation: overflow; bitwise operators; real numbers\n",
    "_COSC 208, Introduction to Computer Systems, 2023-02-10_"
   ]
  },
  {
   "cell_type": "markdown",
   "id": "216ff754-53d6-4647-a4e5-bdcd44fd3692",
   "metadata": {
    "slideshow": {
     "slide_type": "skip"
    },
    "tags": []
   },
   "source": [
    "## Announcements\n",
    "* TA Open Hours: Mondays 4pm-6pm and Wednesdays 6pm-8pm in McGregory 319 (student lounge)\n",
    "* Programming project 1 due Thurs, Feb 16 @ 11pm"
   ]
  },
  {
   "cell_type": "markdown",
   "id": "3b3f6f1a-6540-48d2-b1af-4915be71fc04",
   "metadata": {
    "slideshow": {
     "slide_type": "skip"
    },
    "tags": []
   },
   "source": [
    "## Outline\n",
    "* Warm-up\n",
    "* Overflow\n",
    "* Bitwise operators\n",
    "* Real numbers"
   ]
  },
  {
   "cell_type": "markdown",
   "id": "939442e2-8c06-4d49-9261-bc70fdd0d08b",
   "metadata": {
    "slideshow": {
     "slide_type": "slide"
    },
    "tags": []
   },
   "source": [
    "## Warm-up\n",
    "_Perform the following computations with 8-bit signed integers._\n",
    "* Q1: `0b10100011 + 7`"
   ]
  },
  {
   "cell_type": "markdown",
   "id": "6b7ff853-3119-4dd4-99c4-2e5adb475dec",
   "metadata": {
    "slideshow": {
     "slide_type": "skip"
    },
    "tags": [
     "notes-only"
    ]
   },
   "source": [
    "    0b10100011 + 0b00000111 = 0b10101010 = -86"
   ]
  },
  {
   "cell_type": "markdown",
   "id": "f9ca80e2-4ee7-4c20-b0b0-9d6aa0a1eb71",
   "metadata": {
    "slideshow": {
     "slide_type": "skip"
    },
    "tags": [
     "worksheet-only"
    ]
   },
   "source": [
    "<p style=\"height:6em;\"></p>"
   ]
  },
  {
   "cell_type": "markdown",
   "id": "5467ba28-3896-41cb-a181-3c10a3bb563b",
   "metadata": {
    "jp-MarkdownHeadingCollapsed": true,
    "tags": []
   },
   "source": [
    "* Q2: `48 - 0b01100001`"
   ]
  },
  {
   "cell_type": "markdown",
   "id": "b031dc7f-7fd6-43a6-82fa-3a505f40bdce",
   "metadata": {
    "slideshow": {
     "slide_type": "skip"
    },
    "tags": [
     "notes-only"
    ]
   },
   "source": [
    "    0b00110000 + 0b10011111 = 0b11001111 = -49"
   ]
  },
  {
   "cell_type": "markdown",
   "id": "bcedaa14-e074-4758-a3e6-624697ee0149",
   "metadata": {
    "slideshow": {
     "slide_type": "skip"
    },
    "tags": [
     "worksheet-only"
    ]
   },
   "source": [
    "<p style=\"height:6em;\"></p>"
   ]
  },
  {
   "cell_type": "markdown",
   "id": "79cb78ce-6036-4657-8e64-9da752faad4c",
   "metadata": {
    "jp-MarkdownHeadingCollapsed": true,
    "tags": []
   },
   "source": [
    "* Q3: `0b00100000 + 0b01100000`"
   ]
  },
  {
   "cell_type": "markdown",
   "id": "bfd7d108-9094-4f99-a813-a5374af6a759",
   "metadata": {
    "slideshow": {
     "slide_type": "skip"
    },
    "tags": [
     "notes-only"
    ]
   },
   "source": [
    "    0b10000000 = -128 (overflow occurred)"
   ]
  },
  {
   "cell_type": "markdown",
   "id": "e6460fc5-b510-437b-b3bb-edd4766ba874",
   "metadata": {
    "slideshow": {
     "slide_type": "skip"
    },
    "tags": [
     "worksheet-only"
    ]
   },
   "source": [
    "<p style=\"height:6em;\"></p>\n",
    "\n",
    "🛑 **STOP here** after completing the above questions; if you have extra time please **skip ahead** to the extra practice."
   ]
  },
  {
   "cell_type": "markdown",
   "id": "b4b4a64a-e262-4936-b143-f35e26669127",
   "metadata": {
    "slideshow": {
     "slide_type": "slide"
    },
    "tags": []
   },
   "source": [
    "## Overflow"
   ]
  },
  {
   "cell_type": "markdown",
   "id": "202e063c-1aa1-4ef6-afbc-15f1c9c6bd0d",
   "metadata": {
    "slideshow": {
     "slide_type": "skip"
    },
    "tags": [
     "notes-only"
    ]
   },
   "source": [
    "* 32 + 96 = -128!? What!?\n",
    "* Computation overflowed — i.e., result is too large to be represented\n",
    "    * Computation wraps around to negative numbers\n",
    "    * Can only occur when you add two positive numbers\n",
    "* Computation can also underflow — i.e., result is too small to be represented\n",
    "    * Computation wraps around to positive numbers\n",
    "    * E.g., -64 + -65 = `0b11000000` + `0b10111111` = `0b01111111` = 127\n",
    "    * Can only occur when you add two negative numbers\n",
    "* Overflow and underflow are impossible when adding a positive number and a negative number\n",
    "    * Assume you add the largest magnitude positive number and the smallest magnitude negative number (-1); the result will be slightly less magnitude than the positive operand, and thus cannot overflow\n",
    "    * Assume you add the smallest magnitude positive number (1) and the largest magnitude negative number; the result will be slightly less magnitude than the negative operand, and thus cannot underflow\n",
    "* _What happens if you overflow with unsigned integers?_ — you wrap around to zero, and get a smaller positive integer\n",
    "* _What happens if you underflow with unsigned integers?_ — you wrap around to the maximum value, and get a larger positive integer"
   ]
  },
  {
   "cell_type": "markdown",
   "id": "2b8fb090-1806-408e-a726-d7cc9a0669c7",
   "metadata": {
    "jp-MarkdownHeadingCollapsed": true,
    "tags": []
   },
   "source": [
    "_For each of the following computations, determine whether the computation overflows, underflows, or neither. Assume we are using 8-bit signed integers._\n",
    "* Q4: `0b10000000 + 0b01111111`"
   ]
  },
  {
   "cell_type": "markdown",
   "id": "be8d7c55-98b4-4b63-92ff-b13c63a7d93f",
   "metadata": {
    "slideshow": {
     "slide_type": "skip"
    },
    "tags": [
     "notes-only"
    ]
   },
   "source": [
    "    neither"
   ]
  },
  {
   "cell_type": "markdown",
   "id": "010d4399-fc0b-4a82-9eb5-230d22c96081",
   "metadata": {
    "slideshow": {
     "slide_type": "skip"
    },
    "tags": [
     "worksheet-only"
    ]
   },
   "source": [
    "<p style=\"height:4em;\"></p>"
   ]
  },
  {
   "cell_type": "markdown",
   "id": "c6dd1ec9-f985-4383-9c96-923b5848f6ff",
   "metadata": {
    "jp-MarkdownHeadingCollapsed": true,
    "tags": []
   },
   "source": [
    "* Q5: `0b10000001 + 0b01111111`"
   ]
  },
  {
   "cell_type": "markdown",
   "id": "aaf1999d-98c5-4e6e-b3f2-3be0e12ef9a3",
   "metadata": {
    "slideshow": {
     "slide_type": "skip"
    },
    "tags": [
     "notes-only"
    ]
   },
   "source": [
    "    neither"
   ]
  },
  {
   "cell_type": "markdown",
   "id": "04144daf-6979-481b-a1f5-944efbbc18d1",
   "metadata": {
    "slideshow": {
     "slide_type": "skip"
    },
    "tags": [
     "worksheet-only"
    ]
   },
   "source": [
    "<p style=\"height:4em;\"></p>"
   ]
  },
  {
   "cell_type": "markdown",
   "id": "0b3aca9c-5089-42aa-b94e-6b20f29431f0",
   "metadata": {
    "jp-MarkdownHeadingCollapsed": true,
    "tags": []
   },
   "source": [
    "* Q6: `0b10000000 + 0b10000001`"
   ]
  },
  {
   "cell_type": "markdown",
   "id": "2d647a76-622d-409a-af5b-0b0ea2de7ab3",
   "metadata": {
    "slideshow": {
     "slide_type": "skip"
    },
    "tags": [
     "notes-only"
    ]
   },
   "source": [
    "    underflow"
   ]
  },
  {
   "cell_type": "markdown",
   "id": "ef8326bb-ffab-4fc6-8522-81f997f9ab4a",
   "metadata": {
    "slideshow": {
     "slide_type": "skip"
    },
    "tags": [
     "worksheet-only"
    ]
   },
   "source": [
    "<p style=\"height:4em;\"></p>"
   ]
  },
  {
   "cell_type": "markdown",
   "id": "015796f8-2bbd-440c-b853-a93b8e8df641",
   "metadata": {
    "jp-MarkdownHeadingCollapsed": true,
    "tags": []
   },
   "source": [
    "* Q7: `0b11000000 + 0b11000000`"
   ]
  },
  {
   "cell_type": "markdown",
   "id": "a38931ec-b714-4741-a0ff-d48dd71b93a8",
   "metadata": {
    "slideshow": {
     "slide_type": "skip"
    },
    "tags": [
     "notes-only"
    ]
   },
   "source": [
    "    neither"
   ]
  },
  {
   "cell_type": "markdown",
   "id": "eae15875-15da-4c54-801d-c13c7c463788",
   "metadata": {
    "slideshow": {
     "slide_type": "skip"
    },
    "tags": [
     "worksheet-only"
    ]
   },
   "source": [
    "<p style=\"height:5em;\"></p>"
   ]
  },
  {
   "cell_type": "markdown",
   "id": "6a4f427a-cc83-4e14-ac4d-6db0222bd1b8",
   "metadata": {
    "jp-MarkdownHeadingCollapsed": true,
    "tags": []
   },
   "source": [
    "* Q8: `0b01111111 + 0b00000001`"
   ]
  },
  {
   "cell_type": "markdown",
   "id": "6597c562-6479-40fb-849e-828c5d408e41",
   "metadata": {
    "slideshow": {
     "slide_type": "skip"
    },
    "tags": [
     "notes-only"
    ]
   },
   "source": [
    "    overflow"
   ]
  },
  {
   "cell_type": "markdown",
   "id": "e345f93c-99fe-454f-8dac-89561a854a1d",
   "metadata": {
    "slideshow": {
     "slide_type": "skip"
    },
    "tags": [
     "worksheet-only"
    ]
   },
   "source": [
    "<p style=\"height:4em;\"></p>\n",
    "\n",
    "🛑 **STOP here** after completing the above questions; if you have extra time please **skip ahead** to the extra practice."
   ]
  },
  {
   "cell_type": "markdown",
   "id": "c7aeb2f7-666d-43ad-968a-bf2f24bc5cd7",
   "metadata": {
    "slideshow": {
     "slide_type": "slide"
    },
    "tags": []
   },
   "source": [
    "## Bitwise operators"
   ]
  },
  {
   "cell_type": "markdown",
   "id": "2ceb5846-f182-4f82-8e1a-bcf6596bae35",
   "metadata": {
    "slideshow": {
     "slide_type": "skip"
    },
    "tags": [
     "notes-only"
    ]
   },
   "source": [
    "* Apply an operation to a single bit (not) or a pair of bits (and, or, xor)\n",
    "* `~` (not)\n",
    "    * Flips bits: if bit is 0, then result is 1; otherwise, result is 0\n",
    "    * Example: `~0b101` = `0b010`\n",
    "* `&` (and)\n",
    "    * If both bits are 1, then result is 1; otherwise, result is 0\n",
    "    * Example: `0b0101 & 0b0011` = `0b0001`\n",
    "    * This is different than logical and (`&&`) which checks whether both operands are non-zero\n",
    "* `|` (or)\n",
    "    * If either or both bits are 1, then result is 1; otherwise, result is 0\n",
    "    * Example: `0b0101 | 0b0011` = `0b0111`\n",
    "    * This is different than logical or (`||`) which checks whether at least one operand is non-zero\n",
    "* `^` (xor)\n",
    "    * If either, but not both, bits are 1, then result is 1; otherwise, result is 0\n",
    "    * Example: `0b0101 ^ 0b0011` = `0b0110`\n",
    "* `<<` (left shift), `>>` (right shift)\n",
    "    * Move bits to the left or the right and append or prepend zeros to keep the same number of bits\n",
    "    * Example: `0b1111 << 0b0010` = `0b1100`\n",
    "    * Example: `0b1111 >> 0b0001` = `0b0111`\n",
    "    * Can use bit shifting to multiply or divide by powers of two"
   ]
  },
  {
   "cell_type": "markdown",
   "id": "e562f409-ea91-4f6e-8ef9-2170860dafd3",
   "metadata": {
    "jp-MarkdownHeadingCollapsed": true,
    "tags": []
   },
   "source": [
    "* Q9: `0b1010 | 0b0101`"
   ]
  },
  {
   "cell_type": "markdown",
   "id": "720378bc-5e11-487b-9935-e72f30e6b9c9",
   "metadata": {
    "slideshow": {
     "slide_type": "skip"
    },
    "tags": [
     "notes-only"
    ]
   },
   "source": [
    "    0b1111"
   ]
  },
  {
   "cell_type": "markdown",
   "id": "a67b1afa-527b-4ee4-af01-f693bb0fd269",
   "metadata": {
    "slideshow": {
     "slide_type": "skip"
    },
    "tags": [
     "worksheet-only"
    ]
   },
   "source": [
    "<p style=\"height:2em;\"></p>"
   ]
  },
  {
   "cell_type": "markdown",
   "id": "5f4f233c-1be5-4c6f-93d4-3d9df066d6fe",
   "metadata": {
    "jp-MarkdownHeadingCollapsed": true,
    "tags": []
   },
   "source": [
    "* Q10: `0b1010 & 0b0101`"
   ]
  },
  {
   "cell_type": "markdown",
   "id": "58ddd77d-ecfe-4eee-bf9b-1bfb5627f582",
   "metadata": {
    "slideshow": {
     "slide_type": "skip"
    },
    "tags": [
     "notes-only"
    ]
   },
   "source": [
    "    0b0000"
   ]
  },
  {
   "cell_type": "markdown",
   "id": "a78964f3-b81b-47f8-84da-ad13d89b09fe",
   "metadata": {
    "slideshow": {
     "slide_type": "skip"
    },
    "tags": [
     "worksheet-only"
    ]
   },
   "source": [
    "<p style=\"height:2em;\"></p>"
   ]
  },
  {
   "cell_type": "markdown",
   "id": "f98f6e9d-c55d-4040-8360-dbaee7bf87bb",
   "metadata": {
    "jp-MarkdownHeadingCollapsed": true,
    "tags": []
   },
   "source": [
    "* Q11: `~(0b1100 & 0b0110)`"
   ]
  },
  {
   "cell_type": "markdown",
   "id": "bf02aa7d-3f9f-4c48-b37a-37adda6ec4f7",
   "metadata": {
    "slideshow": {
     "slide_type": "skip"
    },
    "tags": [
     "notes-only"
    ]
   },
   "source": [
    "    ~0b0100 = 0b1011"
   ]
  },
  {
   "cell_type": "markdown",
   "id": "69e16196-45ea-40f2-84cf-92527b62c465",
   "metadata": {
    "slideshow": {
     "slide_type": "skip"
    },
    "tags": [
     "worksheet-only"
    ]
   },
   "source": [
    "<p style=\"height:2em;\"></p>"
   ]
  },
  {
   "cell_type": "markdown",
   "id": "e1685164-1594-492f-9a77-f8a9f050c6b8",
   "metadata": {
    "jp-MarkdownHeadingCollapsed": true,
    "tags": []
   },
   "source": [
    "* Q12: `0b1000 >> 0b011`"
   ]
  },
  {
   "cell_type": "markdown",
   "id": "ace094e8-b4f4-494b-9a4a-2ed90ef490c7",
   "metadata": {
    "slideshow": {
     "slide_type": "skip"
    },
    "tags": [
     "notes-only"
    ]
   },
   "source": [
    "    0b0001 (divide by 2^3)"
   ]
  },
  {
   "cell_type": "markdown",
   "id": "1716ebdb-4829-4f59-a577-910bb421c40f",
   "metadata": {
    "slideshow": {
     "slide_type": "skip"
    },
    "tags": [
     "worksheet-only"
    ]
   },
   "source": [
    "<p style=\"height:2em;\"></p>"
   ]
  },
  {
   "cell_type": "markdown",
   "id": "9d847356-15cd-46c2-aeb9-eec882588b5b",
   "metadata": {
    "jp-MarkdownHeadingCollapsed": true,
    "tags": []
   },
   "source": [
    "* Q13: `0b0001 << 0b0010`"
   ]
  },
  {
   "cell_type": "markdown",
   "id": "e550d49b-07f5-47d4-beb6-ab675c297a13",
   "metadata": {
    "slideshow": {
     "slide_type": "skip"
    },
    "tags": [
     "notes-only"
    ]
   },
   "source": [
    "    0b0100 (multiply by 2^2)"
   ]
  },
  {
   "cell_type": "markdown",
   "id": "6c8d841f-8c87-4032-9620-f7dbfd7d8ee3",
   "metadata": {
    "slideshow": {
     "slide_type": "skip"
    },
    "tags": [
     "worksheet-only"
    ]
   },
   "source": [
    "<p style=\"height:2em;\"></p>"
   ]
  },
  {
   "cell_type": "markdown",
   "id": "35589968-a05e-4560-a2c5-da54e973e789",
   "metadata": {
    "jp-MarkdownHeadingCollapsed": true,
    "tags": []
   },
   "source": [
    "* Q14: `0b1111 & (~0b0010)`"
   ]
  },
  {
   "cell_type": "markdown",
   "id": "d6a553f0-3362-45fd-9f21-72da87f662da",
   "metadata": {
    "slideshow": {
     "slide_type": "skip"
    },
    "tags": [
     "notes-only"
    ]
   },
   "source": [
    "    0b1111 & 0b1101 = 0b1101 (clear a bit)"
   ]
  },
  {
   "cell_type": "markdown",
   "id": "9f8a0090-4185-457b-a316-8de166d5541a",
   "metadata": {
    "slideshow": {
     "slide_type": "skip"
    },
    "tags": [
     "worksheet-only"
    ]
   },
   "source": [
    "<p style=\"height:2em;\"></p>"
   ]
  },
  {
   "cell_type": "markdown",
   "id": "a17c2f4c-f64e-40f2-8168-2f7116051e29",
   "metadata": {
    "jp-MarkdownHeadingCollapsed": true,
    "tags": []
   },
   "source": [
    "* Q15: `0b0000 | 0b0010`"
   ]
  },
  {
   "cell_type": "markdown",
   "id": "ee34fec9-e0e7-4a7c-9ec5-87d4acf82c59",
   "metadata": {
    "slideshow": {
     "slide_type": "skip"
    },
    "tags": [
     "notes-only"
    ]
   },
   "source": [
    "    0b0010 (set a bit)"
   ]
  },
  {
   "cell_type": "markdown",
   "id": "52e69156-713f-4755-ba29-c3ae9231c022",
   "metadata": {
    "slideshow": {
     "slide_type": "skip"
    },
    "tags": [
     "worksheet-only"
    ]
   },
   "source": [
    "<p style=\"height:2em;\"></p>\n",
    "\n",
    "🛑 **STOP here** after completing the above questions; if you have extra time please **skip ahead** to the extra practice."
   ]
  },
  {
   "cell_type": "markdown",
   "id": "f658f8e3-92e4-4d6b-9923-c4484628acc4",
   "metadata": {
    "slideshow": {
     "slide_type": "skip"
    },
    "tags": [
     "notes-only"
    ]
   },
   "source": [
    "## Real numbers\n",
    "* Real numbers may have fractional parts -- e.g., `3.14`\n",
    "* _How can we encode real numbers?_\n",
    "* Fixed-point representation\n",
    "    * Location of decimal point is fixed — some bits encode whole numbers, and some bits encode fractional numbers\n",
    "    * Example: 8-bit fixed point with 3 bits for the fractional part: `0b01011010` = 0 * 2^4 + 1 * 2^3 + 0 * 2^2 + 1 * 2^1 + 1 * 2^0 + 0 * 2^-1 + 1 * 2^-2 + 0 * 2^-3 = 8 + 2 + 1 + 0.25 = 11.25\n",
    "    * _What is an advantage of fixed-point representation?_\n",
    "        * Easy to compute\n",
    "    * _What is a disadvantage of fixed-point representation?_ \n",
    "        * Range of real numbers is fixed — cannot represent large whole numbers or small fractional numbers\n",
    "* Float-point representation\n",
    "    * Uses a \"scaling factor\" to multiply (or divide) fractional part\n",
    "    * Bits in the significand represent (from left to right) 2^-1, 2^-2, ... 2^-23\n",
    "    * Bits in the exponent represent an unsigned integer 0 - 255\n",
    "    * Multiply significand by 2^(exponent - 127) to get final result\n",
    "    * Can represent large whole numbers **or** small fractional numbers, but not a large whole number with a small fractional part"
   ]
  },
  {
   "cell_type": "markdown",
   "id": "ebc403c2-ab4a-4118-9970-3b0e4151d56a",
   "metadata": {
    "slideshow": {
     "slide_type": "slide"
    },
    "tags": []
   },
   "source": [
    "## Extra practice\n",
    "* Q16: _Write a function called `sign` that takes a number expressed in binary using two's complement and returns `-1` if the number is negative, `0` if the number is zero, or `1` if the number is positive. The binary is stored as a character array that starts with `0b` and contains an arbitrary number of `'0'` and `'1'` characters._"
   ]
  },
  {
   "cell_type": "code",
   "execution_count": 2,
   "id": "75121cfc-6f4d-403e-837e-0b940e281a12",
   "metadata": {
    "slideshow": {
     "slide_type": "skip"
    },
    "tags": [
     "notes-only"
    ]
   },
   "outputs": [],
   "source": [
    "#include <string.h>\n",
    "int sign(char binary[]) {\n",
    "    if (binary[2] == '1') {\n",
    "        return -1;\n",
    "    } else {\n",
    "        for (int i = 3; i < strlen(binary); i++) {\n",
    "            if (binary[i] == '1') {\n",
    "                return 1;\n",
    "            }\n",
    "        }\n",
    "        return 0;\n",
    "    }\n",
    "}\n",
    "// Testing\n",
    "#include <assert.h>\n",
    "int main() {\n",
    "    assert(sign(\"0b0100\") == 1);\n",
    "    assert(sign(\"0b1000\") == -1);\n",
    "    assert(sign(\"0b0000\") == 0);\n",
    "}"
   ]
  },
  {
   "cell_type": "markdown",
   "id": "c55df4ae-07f8-43c5-962c-fe752dba5d1f",
   "metadata": {
    "slideshow": {
     "slide_type": "skip"
    },
    "tags": [
     "worksheet-only"
    ]
   },
   "source": [
    "<p style=\"height:20em;\"></p>"
   ]
  },
  {
   "cell_type": "markdown",
   "id": "4295ca7c-2f94-4b4f-a474-903121f95b19",
   "metadata": {
    "jp-MarkdownHeadingCollapsed": true,
    "slideshow": {
     "slide_type": "subslide"
    },
    "tags": []
   },
   "source": [
    "_How many bytes of memory are reserved for each of the following variables?_\n",
    "* Q17: `int a;`"
   ]
  },
  {
   "cell_type": "markdown",
   "id": "49817c7e-9696-4cf6-b874-c7a4dc62ef8f",
   "metadata": {
    "slideshow": {
     "slide_type": "skip"
    },
    "tags": [
     "notes-only"
    ]
   },
   "source": [
    "    4"
   ]
  },
  {
   "cell_type": "markdown",
   "id": "ae918ea9-bef6-4d3d-91cb-8d6d9bf35877",
   "metadata": {
    "jp-MarkdownHeadingCollapsed": true,
    "tags": []
   },
   "source": [
    "* Q18: `unsigned int b;`"
   ]
  },
  {
   "cell_type": "markdown",
   "id": "9e182b4a-b674-4fff-b43a-e61f94409607",
   "metadata": {
    "slideshow": {
     "slide_type": "skip"
    },
    "tags": [
     "notes-only"
    ]
   },
   "source": [
    "    4"
   ]
  },
  {
   "cell_type": "markdown",
   "id": "b72e7f79-b5eb-4ae2-a33d-71d61b797b60",
   "metadata": {
    "jp-MarkdownHeadingCollapsed": true,
    "tags": []
   },
   "source": [
    "* Q19: `char c;`"
   ]
  },
  {
   "cell_type": "markdown",
   "id": "f0154601-0cf3-4448-ad40-e8cef691a19d",
   "metadata": {
    "slideshow": {
     "slide_type": "skip"
    },
    "tags": [
     "notes-only"
    ]
   },
   "source": [
    "    1"
   ]
  },
  {
   "cell_type": "markdown",
   "id": "06fe875b-665c-4e97-bc7b-44cf5823d59d",
   "metadata": {
    "jp-MarkdownHeadingCollapsed": true,
    "tags": []
   },
   "source": [
    "* Q20: `long d;`"
   ]
  },
  {
   "cell_type": "markdown",
   "id": "37e657ea-7d61-448c-a265-75f08e6060a5",
   "metadata": {
    "slideshow": {
     "slide_type": "skip"
    },
    "tags": [
     "notes-only"
    ]
   },
   "source": [
    "    8"
   ]
  },
  {
   "cell_type": "markdown",
   "id": "b5503de8-eaa5-4c99-bde8-dff8a58f10a1",
   "metadata": {
    "jp-MarkdownHeadingCollapsed": true,
    "tags": []
   },
   "source": [
    "* Q21: `int e[5];`"
   ]
  },
  {
   "cell_type": "markdown",
   "id": "0e39610c-9c4f-463d-b5f7-34cb28abc809",
   "metadata": {
    "slideshow": {
     "slide_type": "skip"
    },
    "tags": [
     "notes-only"
    ]
   },
   "source": [
    "    20"
   ]
  },
  {
   "cell_type": "markdown",
   "id": "dae2c6f3-3970-4424-adc9-48b04530ce6b",
   "metadata": {
    "jp-MarkdownHeadingCollapsed": true,
    "tags": []
   },
   "source": [
    "* Q22: `char f[30];`"
   ]
  },
  {
   "cell_type": "markdown",
   "id": "63a468e6-8126-46e2-9999-cba37fa6b8fb",
   "metadata": {
    "slideshow": {
     "slide_type": "skip"
    },
    "tags": [
     "notes-only"
    ]
   },
   "source": [
    "    30"
   ]
  }
 ],
 "metadata": {
  "kernelspec": {
   "display_name": "C",
   "language": "c",
   "name": "c"
  },
  "language_info": {
   "file_extension": ".c",
   "mimetype": "c",
   "name": "c"
  }
 },
 "nbformat": 4,
 "nbformat_minor": 5
}
