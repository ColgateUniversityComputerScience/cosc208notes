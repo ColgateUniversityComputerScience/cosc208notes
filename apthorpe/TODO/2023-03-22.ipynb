{
 "cells": [
  {
   "cell_type": "markdown",
   "id": "39d76db8-edb9-47d5-bec8-7998805660b3",
   "metadata": {
    "slideshow": {
     "slide_type": "skip"
    },
    "tags": []
   },
   "source": [
    "# Assembly: load/store operations; arithmetic and bitwise operations; translating assembly code to low-level C code\n",
    "_COSC 208, Introduction to Computer Systems, 2023-03-22_"
   ]
  },
  {
   "cell_type": "markdown",
   "id": "37653a99-1c8a-47ac-b68c-6e7336bb8328",
   "metadata": {
    "slideshow": {
     "slide_type": "skip"
    },
    "tags": []
   },
   "source": [
    "## Announcements\n",
    "* Project 3 due tomorrow @ 11pm"
   ]
  },
  {
   "cell_type": "markdown",
   "id": "f17866fc-fc93-480c-a9a5-d903a0657063",
   "metadata": {
    "slideshow": {
     "slide_type": "skip"
    },
    "tags": []
   },
   "source": [
    "## Outline\n",
    "* Warm-up\n",
    "* Load/store operations \n",
    "* Arithmetic and bitwise operations\n",
    "* Translating assembly code to low-level C code"
   ]
  },
  {
   "cell_type": "markdown",
   "id": "e663073f-3384-4891-978a-b8c31d0a6263",
   "metadata": {
    "slideshow": {
     "slide_type": "slide"
    },
    "tags": []
   },
   "source": [
    "## Warm-up"
   ]
  },
  {
   "cell_type": "markdown",
   "id": "841f6f3e-e954-45fa-84fe-951093ec6c77",
   "metadata": {},
   "source": [
    "Q1: _The following C code was compiled into assembly._"
   ]
  },
  {
   "cell_type": "code",
   "execution_count": null,
   "id": "b657c909-c355-4616-ae21-1c17bda7a50d",
   "metadata": {
    "tags": [
     "worksheet-code-only"
    ]
   },
   "outputs": [
    {
     "name": "stdout",
     "output_type": "stream",
     "text": [
      "With an interest rate of 10% it will take ~7 years to double your money\n"
     ]
    }
   ],
   "source": [
    "/* 1*/  #include <stdio.h>\n",
    "/* 2*/  int years_to_double(int rate) {\n",
    "/* 3*/      int ruleof72 = 72;\n",
    "/* 4*/      int years = ruleof72 / rate;\n",
    "/* 5*/      return years;\n",
    "/* 6*/  }\n",
    "/* 7*/  int main() {\n",
    "/* 8*/      int r = 10;\n",
    "/* 9*/      int y = years_to_double(r);\n",
    "/*10*/      printf(\"With an interest rate of %d%% it \n",
    "                   will take ~%d years to double your money\\n\", r, y);\n",
    "/*11*/  }"
   ]
  },
  {
   "cell_type": "markdown",
   "id": "6072e067-a988-4df1-9cab-122b43737aae",
   "metadata": {
    "slideshow": {
     "slide_type": "subslide"
    },
    "tags": []
   },
   "source": [
    "_For each line of assembly, indicate which original line of C code (above) the assembly instruction was derived from._"
   ]
  },
  {
   "cell_type": "markdown",
   "id": "75bdd247-6d4e-4cb7-89a2-43605269755c",
   "metadata": {
    "slideshow": {
     "slide_type": "skip"
    },
    "tags": [
     "notes-only"
    ]
   },
   "source": [
    "```\n",
    "000000000000076c <years_to_double>:\n",
    "    76c:\td10083ff \tsub  sp, sp, #0x20   // 2\n",
    "    770:\tb9000fe0 \tstr  w0, [sp, #12]   // 2\n",
    "    774:\t52800900 \tmov  w0, #0x48       // 3\n",
    "    778:\tb9001be0 \tstr  w0, [sp, #24]   // 3\n",
    "    77c:\tb9401be1 \tldr  w1, [sp, #24]   // 4\n",
    "    780:\tb9400fe0 \tldr  w0, [sp, #12]   // 4\n",
    "    784:\t1ac00c20 \tsdiv w0, w1, w0      // 4\n",
    "    788:\tb9001fe0 \tstr  w0, [sp, #28]   // 4\n",
    "    78c:\tb9401fe0 \tldr  w0, [sp, #28]   // 5\n",
    "    790:\t910083ff \tadd  sp, sp, #0x20   // 5\n",
    "    794:\td65f03c0 \tret                  // 5\n",
    "```"
   ]
  },
  {
   "cell_type": "markdown",
   "id": "294e188d-21f2-486b-9bdb-84ea6ea5fa7a",
   "metadata": {
    "tags": [
     "worksheet-only"
    ]
   },
   "source": [
    "```\n",
    "000000000000076c <years_to_double>:\n",
    "    76c:\td10083ff \tsub  sp, sp, #0x20\n",
    "    770:\tb9000fe0 \tstr  w0, [sp, #12]\n",
    "    774:\t52800900 \tmov  w0, #0x48\n",
    "    778:\tb9001be0 \tstr  w0, [sp, #24]\n",
    "    77c:\tb9401be1 \tldr  w1, [sp, #24]\n",
    "    780:\tb9400fe0 \tldr  w0, [sp, #12]\n",
    "    784:\t1ac00c20 \tsdiv w0, w1, w0\n",
    "    788:\tb9001fe0 \tstr  w0, [sp, #28]\n",
    "    78c:\tb9401fe0 \tldr  w0, [sp, #28]\n",
    "    790:\t910083ff \tadd  sp, sp, #0x20\n",
    "    794:\td65f03c0 \tret\n",
    "```"
   ]
  },
  {
   "cell_type": "markdown",
   "id": "54035356-a49f-4c50-a205-d37070b82906",
   "metadata": {
    "slideshow": {
     "slide_type": "skip"
    },
    "tags": [
     "worksheet-only"
    ]
   },
   "source": [
    "🛑 **STOP here** after completing the above questions; if you have extra time please **skip ahead** to the extra practice.\n",
    "\n",
    "<div style=\"page-break-after:always;\"></div>"
   ]
  },
  {
   "cell_type": "markdown",
   "id": "a31d5fc4-f918-40bf-9381-d502cf27c36c",
   "metadata": {
    "slideshow": {
     "slide_type": "slide"
    },
    "tags": []
   },
   "source": [
    "## Load/store operations"
   ]
  },
  {
   "cell_type": "markdown",
   "id": "050d7b45-5461-479b-908a-20b1211ed04a",
   "metadata": {
    "slideshow": {
     "slide_type": "skip"
    },
    "tags": [
     "notes-only"
    ]
   },
   "source": [
    "* Load (`ldr`) — copies a value from a specific location in main memory into a specific register on the CPU\n",
    "    * Can copy either 64-bits or 32-bits at a time, depending on whether the instruction specifies `x` or `w` register, respectively\n",
    "    * Similar to dereferencing a pointer and storing the value in a local variable\n",
    "        * For example, if we treat registers as if they were variable names, `ldr x0, [x1]` is similar to `x0 = *x1`, where `x0` has type `long` and `x1` has type `long *`\n",
    "* Store (`str`) — copies a value from a specific register on the CPU into a specific location in main memory\n",
    "    * Again, can copy 64-bits or 32-bits at a time, depending on whether the instruction specifies `x` or `w` register, respectively\n",
    "    * Similar to storing the value in a local variable at a memory location pointed-to by a pointer\n",
    "        * For example, if we treat registers as if they were variable names, `str x0, [x1]` is similar to `*x1 = x0`, where `x0` has type `long` and `x1` has type `long *`"
   ]
  },
  {
   "cell_type": "markdown",
   "id": "9990acae-afca-4ab9-802c-ec3481333546",
   "metadata": {},
   "source": [
    "_Write the C code equivalent for each line of assembly, treating registers as if they were variable names._"
   ]
  },
  {
   "cell_type": "markdown",
   "id": "159a526c-20e9-4925-bd48-c26c2a50113f",
   "metadata": {},
   "source": [
    "* Q2: `ldr x0, [sp]`"
   ]
  },
  {
   "cell_type": "markdown",
   "id": "1f8a0c8d-08bb-4167-8350-0b567ce2c5d8",
   "metadata": {
    "slideshow": {
     "slide_type": "skip"
    },
    "tags": [
     "notes-only"
    ]
   },
   "source": [
    "    x0 = *sp"
   ]
  },
  {
   "cell_type": "markdown",
   "id": "5d498f51-ef28-49df-a336-3a130a9f5398",
   "metadata": {
    "slideshow": {
     "slide_type": "skip"
    },
    "tags": [
     "worksheet-only"
    ]
   },
   "source": [
    "<p style=\"height:3em;\"></p>"
   ]
  },
  {
   "cell_type": "markdown",
   "id": "9002c9cc-f3af-473b-90fe-e14ca4094952",
   "metadata": {},
   "source": [
    "* Q3: `str w0, [sp]`"
   ]
  },
  {
   "cell_type": "markdown",
   "id": "19428aaf-8b55-4473-a28d-c65534f9a88a",
   "metadata": {
    "slideshow": {
     "slide_type": "skip"
    },
    "tags": [
     "notes-only"
    ]
   },
   "source": [
    "    *sp = w0"
   ]
  },
  {
   "cell_type": "markdown",
   "id": "64559d83-da9a-4e32-868d-f1c41cb13756",
   "metadata": {
    "slideshow": {
     "slide_type": "skip"
    },
    "tags": [
     "worksheet-only"
    ]
   },
   "source": [
    "<p style=\"height:3em;\"></p>"
   ]
  },
  {
   "cell_type": "markdown",
   "id": "afc95eb9-3c7b-4ac7-8278-0c47dc2fee16",
   "metadata": {},
   "source": [
    "* Q4: `ldr x1, [sp,#12]`"
   ]
  },
  {
   "cell_type": "markdown",
   "id": "61816fa7-16b2-4ba2-98bd-3dcd038cb940",
   "metadata": {
    "slideshow": {
     "slide_type": "skip"
    },
    "tags": [
     "notes-only"
    ]
   },
   "source": [
    "    x1 = *(sp + 12)"
   ]
  },
  {
   "cell_type": "markdown",
   "id": "6a0c5556-5d8c-42dd-8cd0-e27327c922ca",
   "metadata": {
    "slideshow": {
     "slide_type": "skip"
    },
    "tags": [
     "worksheet-only"
    ]
   },
   "source": [
    "<p style=\"height:3em;\"></p>"
   ]
  },
  {
   "cell_type": "markdown",
   "id": "c9f7f2b5-c860-42bf-9a01-40cfe83bccfd",
   "metadata": {},
   "source": [
    "* Q5: `str x2, [x3,#0x10]`"
   ]
  },
  {
   "cell_type": "markdown",
   "id": "6763fc8e-0aff-47a7-a0bf-df7ae0ef14d2",
   "metadata": {
    "slideshow": {
     "slide_type": "skip"
    },
    "tags": [
     "notes-only"
    ]
   },
   "source": [
    "    *(x3 + 0x10) = x2"
   ]
  },
  {
   "cell_type": "markdown",
   "id": "e104dee5-0420-45a5-a1dd-9c2af65a448b",
   "metadata": {
    "slideshow": {
     "slide_type": "skip"
    },
    "tags": [
     "worksheet-only"
    ]
   },
   "source": [
    "<p style=\"height:3em;\"></p>\n",
    "\n",
    "🛑 **STOP here** after completing the above questions; if you have extra time please **skip ahead** to the extra practice."
   ]
  },
  {
   "cell_type": "markdown",
   "id": "65a65754-337a-4da2-b18b-803c99144bcc",
   "metadata": {
    "slideshow": {
     "slide_type": "slide"
    },
    "tags": []
   },
   "source": [
    "## Arithmetic and logical operations"
   ]
  },
  {
   "cell_type": "markdown",
   "id": "cb5a5104-ea18-4715-bc73-4b050eaf5072",
   "metadata": {
    "slideshow": {
     "slide_type": "skip"
    },
    "tags": [
     "notes-only"
    ]
   },
   "source": [
    "* (Most) arithmetic and bitwise operations take three operands\n",
    "    * Register into which to store the result of the operation\n",
    "    * Register containing the first operand\n",
    "    * Constant value or register containing the second operand"
   ]
  },
  {
   "cell_type": "markdown",
   "id": "bd3f51f0-54c0-4e36-9987-0ceee9b8c445",
   "metadata": {},
   "source": [
    "_Write the C code equivalent for each line of assembly, treating registers as if they were variable names._"
   ]
  },
  {
   "cell_type": "markdown",
   "id": "74afdce8-a887-45c9-96f5-a2405c243cf7",
   "metadata": {},
   "source": [
    "* Q6: `lsl w0, w1, w2`"
   ]
  },
  {
   "cell_type": "markdown",
   "id": "7624472e-fa26-4cfc-8fbc-08b422942360",
   "metadata": {
    "slideshow": {
     "slide_type": "skip"
    },
    "tags": [
     "notes-only"
    ]
   },
   "source": [
    "    w0 = w1 << w2"
   ]
  },
  {
   "cell_type": "markdown",
   "id": "18711920-8515-4848-bbc3-64ca4b117fb1",
   "metadata": {
    "slideshow": {
     "slide_type": "skip"
    },
    "tags": [
     "worksheet-only"
    ]
   },
   "source": [
    "<p style=\"height:3em;\"></p>"
   ]
  },
  {
   "cell_type": "markdown",
   "id": "fec12631-2761-411c-9c74-7d554e7edd2e",
   "metadata": {},
   "source": [
    "* Q7: `and w3, w4, w3`"
   ]
  },
  {
   "cell_type": "markdown",
   "id": "f2f37a83-59b4-494d-a914-1c56234e5212",
   "metadata": {
    "slideshow": {
     "slide_type": "skip"
    },
    "tags": [
     "notes-only"
    ]
   },
   "source": [
    "    w3 = w4 & w3"
   ]
  },
  {
   "cell_type": "markdown",
   "id": "33ef50a4-0f46-479a-a7b5-e439537ed609",
   "metadata": {
    "slideshow": {
     "slide_type": "skip"
    },
    "tags": [
     "worksheet-only"
    ]
   },
   "source": [
    "<p style=\"height:3em;\"></p>"
   ]
  },
  {
   "cell_type": "markdown",
   "id": "daa809c9-1f15-48e2-8b44-efbeda3108b6",
   "metadata": {},
   "source": [
    "* Q8: `mul x2, x4, x6`"
   ]
  },
  {
   "cell_type": "markdown",
   "id": "625e1165-4dbb-44cb-b5ad-27fe5d26b97e",
   "metadata": {
    "slideshow": {
     "slide_type": "skip"
    },
    "tags": [
     "notes-only"
    ]
   },
   "source": [
    "     x2 = x4 * x6"
   ]
  },
  {
   "cell_type": "markdown",
   "id": "94a14eb5-c2ea-47ff-8959-d060c41efc85",
   "metadata": {
    "slideshow": {
     "slide_type": "skip"
    },
    "tags": [
     "worksheet-only"
    ]
   },
   "source": [
    "<p style=\"height:3em;\"></p>"
   ]
  },
  {
   "cell_type": "markdown",
   "id": "1dc27298-4d84-45d7-b5e1-baac1b33dbbf",
   "metadata": {},
   "source": [
    "* Q9: `sdiv w9, w9, w10`"
   ]
  },
  {
   "cell_type": "markdown",
   "id": "63691c90-54dd-45d6-99da-2f33c59a20ba",
   "metadata": {
    "slideshow": {
     "slide_type": "skip"
    },
    "tags": [
     "notes-only"
    ]
   },
   "source": [
    "    w9 = w9 / w10"
   ]
  },
  {
   "cell_type": "markdown",
   "id": "541cf4ce-d3ce-4bcc-8ebf-ab71e1d46681",
   "metadata": {
    "slideshow": {
     "slide_type": "skip"
    },
    "tags": [
     "worksheet-only"
    ]
   },
   "source": [
    "<p style=\"height:3em;\"></p>\n",
    "\n",
    "🛑 **STOP here** after completing the above questions; if you have extra time please **skip ahead** to the extra practice.\n",
    "\n",
    "<div style=\"page-break-after:always;\"></div>"
   ]
  },
  {
   "cell_type": "markdown",
   "id": "64785df4-fc21-4000-a39e-858f7b34424d",
   "metadata": {
    "slideshow": {
     "slide_type": "slide"
    },
    "tags": []
   },
   "source": [
    "## Translating assembly code to low-level C code\n",
    "The following C program (`operands.c`) has been compiled into assembly:"
   ]
  },
  {
   "cell_type": "code",
   "execution_count": 4,
   "id": "4d53083c-1abd-47cb-8cd0-420cf6e8cf94",
   "metadata": {
    "tags": [
     "worksheet-code-only"
    ]
   },
   "outputs": [],
   "source": [
    "int operandsA(int a) {\n",
    "    return a;\n",
    "}\n",
    "long operandsB(long b) {\n",
    "    return b;\n",
    "}\n",
    "int operandsC(int *c) {\n",
    "    return *c;\n",
    "}\n",
    "long operandsD(long *d) {\n",
    "    return *d;\n",
    "}\n",
    "int main() {\n",
    "    operandsA(5);\n",
    "    operandsB(5);\n",
    "    int x = 5;\n",
    "    operandsC(&x);\n",
    "    long y = 5;\n",
    "    operandsD(&y);\n",
    "}"
   ]
  },
  {
   "cell_type": "markdown",
   "id": "08d152d1-1142-432c-872b-ed7774c5f358",
   "metadata": {
    "slideshow": {
     "slide_type": "subslide"
    },
    "tags": []
   },
   "source": [
    "* Q10: _Write the C code equivalent for each line of assembly, treating registers as if they were variable names. The assembly code for the `operandsA` function has already been translated into C code._"
   ]
  },
  {
   "cell_type": "markdown",
   "id": "faeb8ab9-daf3-49cb-808a-23c6bc8809b9",
   "metadata": {
    "slideshow": {
     "slide_type": "skip"
    },
    "tags": [
     "notes-only"
    ]
   },
   "source": [
    "```\n",
    "00000000000007ec <operandsA>:\n",
    "    7ec:\td10043ff \tsub\tsp, sp, #0x10   // sp = sp - 0x10\n",
    "    7f0:\tb9000fe0 \tstr\tw0, [sp, #12]   // *(sp + 12) = w0\n",
    "    7f4:\tb9400fe0 \tldr\tw0, [sp, #12]   // w0 = *(sp + 12)\n",
    "    7f8:\t910043ff \tadd\tsp, sp, #0x10   // sp = sp + 0x10\n",
    "    7fc:\td65f03c0 \tret\t                // return\n",
    "0000000000000800 <operandsB>:\n",
    "    800:\td10043ff \tsub\tsp, sp, #0x10   // sp = sp - 0x10\n",
    "    804:\tf90007e0 \tstr\tx0, [sp, #8]    // *(sp + 8) = w0\n",
    "    808:\tf94007e0 \tldr\tx0, [sp, #8]    // x0 = *(sp + 8)\n",
    "    80c:\t910043ff \tadd\tsp, sp, #0x10   // sp = sp + 0x10\n",
    "    810:\td65f03c0 \tret\t                // return\n",
    "0000000000000814 <operandsC>:\n",
    "    814:\td10043ff \tsub\tsp, sp, #0x10   // sp = sp - 0x10\n",
    "    818:\tf90007e0 \tstr\tx0, [sp, #8]    // *(sp + 8) = x0\n",
    "    81c:\tf94007e0 \tldr\tx0, [sp, #8]    // x0 = *(sp + 8)\n",
    "    820:\tb9400000 \tldr\tw0, [x0]        // w0 = *x0\n",
    "    824:\t910043ff \tadd\tsp, sp, #0x10   // sp = sp + 0x10\n",
    "    828:\td65f03c0 \tret\t                // return\n",
    "000000000000082c <operandsD>:\n",
    "    82c:\td10043ff \tsub\tsp, sp, #0x10   // sp = sp - 0x10\n",
    "    830:\tf90007e0 \tstr\tx0, [sp, #8]    // *(sp + 8) = x0\n",
    "    834:\tf94007e0 \tldr\tx0, [sp, #8]    // x0 = *(sp + 8)\n",
    "    838:\tf9400000 \tldr\tx0, [x0]        // x0 = *x0\n",
    "    83c:\t910043ff \tadd\tsp, sp, #0x10   // sp = sp + 0x10\n",
    "    840:\td65f03c0 \tret\t                // return\n",
    "```"
   ]
  },
  {
   "cell_type": "markdown",
   "id": "72e2f918-f3e3-4b4e-9a63-c648af75f34c",
   "metadata": {
    "tags": [
     "worksheet-only"
    ]
   },
   "source": [
    "```\n",
    "00000000000007ec <operandsA>:\n",
    "    7ec:\td10043ff \tsub\tsp, sp, #0x10   // sp = sp - 0x10\n",
    "    7f0:\tb9000fe0 \tstr\tw0, [sp, #12]   // *(sp + 12) = w0\n",
    "    7f4:\tb9400fe0 \tldr\tw0, [sp, #12]   // w0 = *(sp + 12)\n",
    "    7f8:\t910043ff \tadd\tsp, sp, #0x10   // sp = sp + 0x10\n",
    "    7fc:\td65f03c0 \tret\t                // return\n",
    "0000000000000800 <operandsB>:\n",
    "    800:\td10043ff \tsub\tsp, sp, #0x10   //\n",
    "    804:\tf90007e0 \tstr\tx0, [sp, #8]    //\n",
    "    808:\tf94007e0 \tldr\tx0, [sp, #8]    //\n",
    "    80c:\t910043ff \tadd\tsp, sp, #0x10   //\n",
    "    810:\td65f03c0 \tret\t                //\n",
    "0000000000000814 <operandsC>:\n",
    "    814:\td10043ff \tsub\tsp, sp, #0x10   //\n",
    "    818:\tf90007e0 \tstr\tx0, [sp, #8]    //\n",
    "    81c:\tf94007e0 \tldr\tx0, [sp, #8]    //\n",
    "    820:\tb9400000 \tldr\tw0, [x0]        //\n",
    "    824:\t910043ff \tadd\tsp, sp, #0x10   //\n",
    "    828:\td65f03c0 \tret\t                //\n",
    "000000000000082c <operandsD>:\n",
    "    82c:\td10043ff \tsub\tsp, sp, #0x10   //\n",
    "    830:\tf90007e0 \tstr\tx0, [sp, #8]    //\n",
    "    834:\tf94007e0 \tldr\tx0, [sp, #8]    //\n",
    "    838:\tf9400000 \tldr\tx0, [x0]        //\n",
    "    83c:\t910043ff \tadd\tsp, sp, #0x10   //\n",
    "    840:\td65f03c0 \tret\t                //\n",
    "```\n",
    "\n",
    "<div style=\"page-break-after:always;\"></div>"
   ]
  },
  {
   "cell_type": "markdown",
   "id": "a08e2d69-5040-451a-b582-efa5c0b47e12",
   "metadata": {
    "slideshow": {
     "slide_type": "subslide"
    },
    "tags": []
   },
   "source": [
    "* Q11: _How does the assembly code for `operandsA` and `operandsB` differ? Why?_"
   ]
  },
  {
   "cell_type": "markdown",
   "id": "6ab6756a-988d-4e40-a68d-60b387511e14",
   "metadata": {
    "slideshow": {
     "slide_type": "skip"
    },
    "tags": [
     "notes-only"
    ]
   },
   "source": [
    "* `operandsA` takes and returns an int, which is 32-bits, whereas `operandsB` takes and returns a long, which is 64-bits, so:\n",
    "    * `operandsA` uses `w0` while `operandsB` uses `x0`\n",
    "    * `operandsA` stores the parameter at `sp + 12` while `operandsB` stores the parameter at `sp + 8`"
   ]
  },
  {
   "cell_type": "markdown",
   "id": "249184bd-3f6a-447a-a5dc-6b69f6ab83c0",
   "metadata": {
    "slideshow": {
     "slide_type": "skip"
    },
    "tags": [
     "worksheet-only"
    ]
   },
   "source": [
    "<p style=\"height:6em;\"></p>"
   ]
  },
  {
   "cell_type": "markdown",
   "id": "c9ac515b-c7ee-49f6-af43-3af78754aee4",
   "metadata": {},
   "source": [
    "* Q12: _How does the assembly code for `operandsB` and `operandsD` differ? Why?_"
   ]
  },
  {
   "cell_type": "markdown",
   "id": "68616dcc-d3f0-4954-ab57-e1fbbe298ed1",
   "metadata": {
    "slideshow": {
     "slide_type": "skip"
    },
    "tags": [
     "notes-only"
    ]
   },
   "source": [
    "* `operandsB` takes and returns a long, whereas `operandsD` takes a pointer to a long and returns a long, so:\n",
    "    * `operandsD` must deference the pointer (`ldr x0, [x0]`) before returning "
   ]
  },
  {
   "cell_type": "markdown",
   "id": "3baee88a-82de-4561-ac9f-a4487a453abd",
   "metadata": {
    "slideshow": {
     "slide_type": "skip"
    },
    "tags": [
     "worksheet-only"
    ]
   },
   "source": [
    "<p style=\"height:6em;\"></p>"
   ]
  },
  {
   "cell_type": "markdown",
   "id": "4403a894-b02b-4ac5-85e2-5f38fd4d59b2",
   "metadata": {},
   "source": [
    "* Q13: _How does the assembly code for `operandsC` and `operandsD` differ? Why?_"
   ]
  },
  {
   "cell_type": "markdown",
   "id": "bf762be5-23e7-46f1-91af-4826e48284dd",
   "metadata": {
    "slideshow": {
     "slide_type": "skip"
    },
    "tags": [
     "notes-only"
    ]
   },
   "source": [
    "* `operandsC` takes a pointer to an int and returns and int, whereas `operandsD` takes a pointer to a long and returns a long\n",
    "* both take a memory address (a 64-bit value), which is initially in `x0` and stored at `sp + 8`\n",
    "* the dereference of the pointer is a 32-bit value in `operandsC` and a 64-bit value in `operandsD`, so the value is loaded into `w0` in `operandsC` and `x0` in `operandsD`"
   ]
  },
  {
   "cell_type": "markdown",
   "id": "22e1c4fb-4f31-48d0-9c9c-a32f2403dba7",
   "metadata": {
    "slideshow": {
     "slide_type": "skip"
    },
    "tags": [
     "worksheet-only"
    ]
   },
   "source": [
    "<p style=\"height:6em;\"></p>"
   ]
  },
  {
   "cell_type": "markdown",
   "id": "a82d425b-2220-4a29-9e28-64dbb110b731",
   "metadata": {
    "slideshow": {
     "slide_type": "slide"
    },
    "tags": []
   },
   "source": [
    "## Extra practice"
   ]
  },
  {
   "cell_type": "markdown",
   "id": "d5358bfd-652e-4c68-9ece-3263651ea34e",
   "metadata": {},
   "source": [
    "* Q14: _Write the C code equivalent for each line of assembly, treating registers as if they were variable names._"
   ]
  },
  {
   "cell_type": "markdown",
   "id": "3473cf46-cf7d-4842-a2c4-ad8eeddb63e0",
   "metadata": {
    "slideshow": {
     "slide_type": "skip"
    },
    "tags": [
     "notes-only"
    ]
   },
   "source": [
    "```\n",
    "00000000000007ac <seasons_of_love>:\n",
    "    7ac:   d10083ff        sub     sp, sp, #0x20    // sp = sp - 0x20\n",
    "    7b0:   52802da0        mov     w0, #0x16d       // w0 = 0x16d\n",
    "    7b4:   b9000fe0        str     w0, [sp, #12]    // *(sp+12) = w0\n",
    "    7b8:   52800300        mov     w0, #0x18        // w0 = 0x18 \n",
    "    7bc:   b90013e0        str     w0, [sp, #16]    // *(sp+16) = w0\n",
    "    7c0:   52800780        mov     w0, #0x3c        // w0 = 0x3c\n",
    "    7c4:   b90017e0        str     w0, [sp, #20]    // *(sp+20) = w0\n",
    "    7c8:   b9400fe1        ldr     w1, [sp, #12]    // w1 = *(sp+12)\n",
    "    7cc:   b94013e0        ldr     w0, [sp, #16]    // w0 = *(sp+16)\n",
    "    7d0:   1b007c20        mul     w0, w1, w0       // w0 = w1 * w0\n",
    "    7d4:   b9001be0        str     w0, [sp, #24]    // *(sp+24) = w0\n",
    "    7d8:   b9401be1        ldr     w1, [sp, #24]    // w1 = *(sp+24)\n",
    "    7dc:   b94017e0        ldr     w0, [sp, #20]    // w0 = *(sp+20)\n",
    "    7e0:   1b007c20        mul     w0, w1, w0       // w0 = w1 * w0\n",
    "    7e4:   b9001fe0        str     w0, [sp, #28]    // *(sp+28) = w0\n",
    "    7e8:   b9401fe0        ldr     w0, [sp, #28]    // w0 = *(sp+28)\n",
    "    7ec:   910083ff        add     sp, sp, #0x20    // sp = sp + 0x20\n",
    "    7f0:   d65f03c0        ret                      // return\n",
    "```"
   ]
  },
  {
   "cell_type": "markdown",
   "id": "f9c16499-2f6f-4ae2-8b49-6eb34539f4e5",
   "metadata": {
    "tags": [
     "worksheet-only"
    ]
   },
   "source": [
    "```\n",
    "00000000000007ac <seasons_of_love>:\n",
    "    7ac:   d10083ff        sub     sp, sp, #0x20\n",
    "    7b0:   52802da0        mov     w0, #0x16d  \n",
    "    7b4:   b9000fe0        str     w0, [sp, #12]\n",
    "    7b8:   52800300        mov     w0, #0x18   \n",
    "    7bc:   b90013e0        str     w0, [sp, #16]\n",
    "    7c0:   52800780        mov     w0, #0x3c   \n",
    "    7c4:   b90017e0        str     w0, [sp, #20]\n",
    "    7c8:   b9400fe1        ldr     w1, [sp, #12]\n",
    "    7cc:   b94013e0        ldr     w0, [sp, #16]\n",
    "    7d0:   1b007c20        mul     w0, w1, w0\n",
    "    7d4:   b9001be0        str     w0, [sp, #24]\n",
    "    7d8:   b9401be1        ldr     w1, [sp, #24]\n",
    "    7dc:   b94017e0        ldr     w0, [sp, #20]\n",
    "    7e0:   1b007c20        mul     w0, w1, w0\n",
    "    7e4:   b9001fe0        str     w0, [sp, #28]\n",
    "    7e8:   b9401fe0        ldr     w0, [sp, #28]\n",
    "    7ec:   910083ff        add     sp, sp, #0x20\n",
    "    7f0:   d65f03c0        ret\n",
    "```"
   ]
  },
  {
   "cell_type": "markdown",
   "id": "74f7b5bf-b280-426e-a110-531d1290dec6",
   "metadata": {
    "slideshow": {
     "slide_type": "subslide"
    },
    "tags": []
   },
   "source": [
    "* Q15: _Write the C code equivalent for each line of assembly, treating registers as if they were variable names._"
   ]
  },
  {
   "cell_type": "markdown",
   "id": "de0ce641-b430-43d3-8787-2e4671531ad0",
   "metadata": {
    "slideshow": {
     "slide_type": "skip"
    },
    "tags": [
     "notes-only"
    ]
   },
   "source": [
    "```\n",
    "000000000000076c <years_to_double>:\n",
    "    76c:\td10083ff \tsub  sp, sp, #0x20   // sp = sp - 0x20\n",
    "    770:\tb9000fe0 \tstr  w0, [sp, #12]   // *(sp+12) = w0\n",
    "    774:\t52800900 \tmov  w0, #0x48       // w0 = 0x48\n",
    "    778:\tb9001be0 \tstr  w0, [sp, #24]   // *(sp+24) = w0\n",
    "    77c:\tb9401be1 \tldr  w1, [sp, #24]   // w1 = *(sp+24)\n",
    "    780:\tb9400fe0 \tldr  w0, [sp, #12]   // w0 = *(sp+12)\n",
    "    784:\t1ac00c20 \tsdiv w0, w1, w0      // w0 = w1 / w0\n",
    "    788:\tb9001fe0 \tstr  w0, [sp, #28]   // *(sp+28) = w0\n",
    "    78c:\tb9401fe0 \tldr  w0, [sp, #28]   // w0 = *(sp+28)\n",
    "    790:\t910083ff \tadd  sp, sp, #0x20   // sp = sp + 0x20\n",
    "    794:\td65f03c0 \tret                  // return\n",
    "```"
   ]
  },
  {
   "cell_type": "markdown",
   "id": "0ba8c916-0092-41bd-ba07-e89d46340295",
   "metadata": {
    "tags": [
     "worksheet-only"
    ]
   },
   "source": [
    "```\n",
    "000000000000076c <years_to_double>:\n",
    "    76c:\td10083ff \tsub  sp, sp, #0x20\n",
    "    770:\tb9000fe0 \tstr  w0, [sp, #12]\n",
    "    774:\t52800900 \tmov  w0, #0x48\n",
    "    778:\tb9001be0 \tstr  w0, [sp, #24]\n",
    "    77c:\tb9401be1 \tldr  w1, [sp, #24]\n",
    "    780:\tb9400fe0 \tldr  w0, [sp, #12]\n",
    "    784:\t1ac00c20 \tsdiv w0, w1, w0\n",
    "    788:\tb9001fe0 \tstr  w0, [sp, #28]\n",
    "    78c:\tb9401fe0 \tldr  w0, [sp, #28]\n",
    "    790:\t910083ff \tadd  sp, sp, #0x20\n",
    "    794:\td65f03c0 \tret\n",
    "```"
   ]
  },
  {
   "cell_type": "code",
   "execution_count": null,
   "id": "6670cb4c-bbdd-433c-b2d8-153dbaa54c2d",
   "metadata": {},
   "outputs": [],
   "source": []
  }
 ],
 "metadata": {
  "kernelspec": {
   "display_name": "C",
   "language": "c",
   "name": "c"
  },
  "language_info": {
   "file_extension": ".c",
   "mimetype": "c",
   "name": "c"
  }
 },
 "nbformat": 4,
 "nbformat_minor": 5
}
