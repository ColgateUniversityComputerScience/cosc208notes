{
 "cells": [
  {
   "cell_type": "markdown",
   "id": "ffc437ac-d10b-4d12-895d-712e9c2057b5",
   "metadata": {
    "slideshow": {
     "slide_type": "skip"
    },
    "tags": []
   },
   "source": [
    "# Multithreading: writing multi-threaded programs\n",
    "_COSC 208, Introduction to Computer Systems, 2023-04-28_"
   ]
  },
  {
   "cell_type": "markdown",
   "id": "c377c966-ee4b-4990-a6e6-a2d8f327a112",
   "metadata": {
    "slideshow": {
     "slide_type": "skip"
    },
    "tags": []
   },
   "source": [
    "## Announcements\n",
    "* Project 5 due Thursday, May 4"
   ]
  },
  {
   "cell_type": "markdown",
   "id": "377e6d68-2202-4782-afc7-a43582630f55",
   "metadata": {
    "slideshow": {
     "slide_type": "skip"
    },
    "tags": [
     "notes-only"
    ]
   },
   "source": [
    "## Outline\n",
    "* Warm-up\n",
    "* Creating multiple threads\n",
    "* Returning values from threads\n",
    "* Passing multiple parameters to threads\n",
    "* Practice writing multi-threaded programs"
   ]
  },
  {
   "cell_type": "markdown",
   "id": "e9553457-80b5-425c-8011-4d678a7aef4a",
   "metadata": {},
   "source": [
    "## Warm-up"
   ]
  },
  {
   "cell_type": "markdown",
   "id": "84882667-736f-4e75-ae06-aa28df9b164d",
   "metadata": {},
   "source": [
    "Q1: _Consider the following program:_"
   ]
  },
  {
   "cell_type": "code",
   "execution_count": null,
   "id": "7c4923da-6142-4362-8dbc-cb9426655900",
   "metadata": {},
   "outputs": [],
   "source": [
    "/* 1*/    #include <pthread.h>\n",
    "/* 2*/    #include <stdio.h>\n",
    "/* 3*/    #include <string.h>\n",
    "/* 4*/    void word_count(char *str) {\n",
    "/* 5*/        int count = 1;\n",
    "/* 6*/        for (int i = 0; i < strlen(str); i++) {\n",
    "/* 7*/            if (str[i] == ' ') {\n",
    "/* 8*/                count++;\n",
    "/* 9*/            }\n",
    "/*10*/       }\n",
    "/*11*/       printf(\"%d words\\n\", count);\n",
    "/*12*/    }\n",
    "/*13*/    int main(int argc, char *argv[]) {\n",
    "/*14*/        char *str = \"I love CS\";\n",
    "/*15*/        pthread_t thr;\n",
    "/*16*/        pthread_create(thr, NULL, &word_count, str);\n",
    "/*17*/        pthread_join(thr);\n",
    "/*18*/    }"
   ]
  },
  {
   "cell_type": "markdown",
   "id": "ab8bf34d-ca0c-4c67-aa41-2e68b1fb39d7",
   "metadata": {
    "slideshow": {
     "slide_type": "subslide"
    },
    "tags": []
   },
   "source": [
    "_Compiling this program with `gcc` results in the following errors:_"
   ]
  },
  {
   "cell_type": "markdown",
   "id": "3821cbe9-d189-4432-b1d7-b928964fbab8",
   "metadata": {},
   "source": [
    "```\n",
    "buggy_noreturn.c:16:20: warning: passing argument 1 of ‘pthread_create’ \n",
    "makes pointer from integer without a cast [-Wint-conversion]\n",
    "   16 |     pthread_create(thr, NULL, &word_count, str);\n",
    "      |                    ^~~\n",
    "      |                    pthread_t {aka long unsigned int}\n",
    "/usr/include/pthread.h:202:50: note: expected ‘pthread_t * restrict’ \n",
    "{aka ‘long unsigned int * restrict’} but argument is of type ‘pthread_t’ \n",
    "{aka ‘long unsigned int’}\n",
    "  202 | extern int pthread_create (pthread_t *__restrict __newthread,\n",
    "      |                            ~~~~~~~~~~~~~~~~~~~~~~^~~~~~~~~~~\n",
    "buggy_noreturn.c:16:31: warning: passing argument 3 of ‘pthread_create’ \n",
    "from incompatible pointer type [-Wincompatible-pointer-types]\n",
    "   16 |     pthread_create(thr, NULL, &word_count, str);\n",
    "      |                               ^~~~~~~~~~~\n",
    "      |                               void (*)(char *)\n",
    "/usr/include/pthread.h:204:36: note: expected ‘void * (*)(void *)’ but \n",
    "argument is of type ‘void (*)(char *)’\n",
    "  204 |                            void *(*__start_routine) (void *),\n",
    "      |                            ~~~~~~~~^~~~~~~~~~~~~~~~~~~~~~~~~\n",
    "buggy_noreturn.c:17:5: error: too few arguments to function ‘pthread_join’\n",
    "   17 |     pthread_join(thr);\n",
    "      |     ^~~~~~~~~~~~\n",
    "/usr/include/pthread.h:219:12: note: declared here\n",
    "  219 | extern int pthread_join (pthread_t __th, void **__thread_return);\n",
    "      |            ^~~~~~~~~~~~\n",
    "```"
   ]
  },
  {
   "cell_type": "markdown",
   "id": "d400e015-ea85-40fb-8d7c-5d3ae93b8132",
   "metadata": {
    "slideshow": {
     "slide_type": "skip"
    },
    "tags": []
   },
   "source": [
    "_How would you change the code to fix these problems?_"
   ]
  },
  {
   "cell_type": "markdown",
   "id": "798177d7-54a6-48d2-9af3-a0e3b0cd2c41",
   "metadata": {
    "slideshow": {
     "slide_type": "skip"
    },
    "tags": [
     "notes-only"
    ]
   },
   "source": [
    "* Need to pass `&thr` to `pthread_create` (instead of `thr`) on line 16\n",
    "* Function executed by a thread must return `void *` and take a single `void *` parameter; replace lines 6-7 with:\n",
    "    ```C\n",
    "    void *word_count(void *arg) {\n",
    "        char *str = (char *)arg;\n",
    "    ```\n",
    "    Also add after line 11:\n",
    "    ```C\n",
    "    return NULL;\n",
    "    ```\n",
    "* Add an additional parameter to `pthread_join` one line 17:\n",
    "    ```C\n",
    "    pthread_join(thr, NULL);\n",
    "    ``` "
   ]
  },
  {
   "cell_type": "markdown",
   "id": "e5072efc-8bb3-4665-8c90-489fadb2eeca",
   "metadata": {
    "slideshow": {
     "slide_type": "slide"
    },
    "tags": []
   },
   "source": [
    "## Creating multiple threads"
   ]
  },
  {
   "cell_type": "markdown",
   "id": "dc85f1e2-7967-4695-b3c5-70402e3a1511",
   "metadata": {
    "slideshow": {
     "slide_type": "skip"
    },
    "tags": [
     "notes-only"
    ]
   },
   "source": [
    "* Create an array of `pthread_t` and an array of arguments\n",
    "* Call `pthread_create` within a loop\n",
    "* Call `pthread_join` within a separate loop\n",
    "* Example"
   ]
  },
  {
   "cell_type": "code",
   "execution_count": 16,
   "id": "54bc7331-0318-4887-a3c6-d65aa46c3e76",
   "metadata": {
    "tags": [
     "worksheet-code-only"
    ]
   },
   "outputs": [
    {
     "name": "stdout",
     "output_type": "stream",
     "text": [
      "I am thread 2\n",
      "I am thread 3\n",
      "I am thread 4\n",
      "I am thread 5\n",
      "I am thread 1\n",
      "All threads finished\n"
     ]
    }
   ],
   "source": [
    "#include <pthread.h>\n",
    "#include <stdio.h>\n",
    "#include <stdlib.h>\n",
    "#define NUM_THREADS 5\n",
    "void *simple(void *arg) {\n",
    "    int *id = (int *)arg;\n",
    "    printf(\"I am thread %d\\n\", *id);\n",
    "    return NULL;\n",
    "}\n",
    "int main() {\n",
    "    pthread_t threads[NUM_THREADS];\n",
    "    int ids[NUM_THREADS];\n",
    "    for (int i = 0; i < NUM_THREADS; i++) {\n",
    "        ids[i] = i+1;\n",
    "        pthread_create(&(threads[i]), NULL, &simple, &(ids[i]));\n",
    "    } \n",
    "    for (int i = 0; i < NUM_THREADS; i++) {\n",
    "        pthread_join(threads[i], NULL);\n",
    "    }\n",
    "    printf(\"All threads finished\\n\");\n",
    "}"
   ]
  },
  {
   "cell_type": "markdown",
   "id": "054bf1a0-9e88-4c03-a1c0-07027c3e0d67",
   "metadata": {
    "slideshow": {
     "slide_type": "slide"
    },
    "tags": []
   },
   "source": [
    "## Returning values from threads"
   ]
  },
  {
   "cell_type": "markdown",
   "id": "0f185709-ae69-4c95-a1ea-6dbfba9dda35",
   "metadata": {
    "slideshow": {
     "slide_type": "skip"
    },
    "tags": [
     "notes-only"
    ]
   },
   "source": [
    "* _When does a thread end?_ — when the function passed to `pthread_create` finishes (i.e., returns)\n",
    "* _What happens to a function's parameters and local variables when the function returns?_ — they no longer exist (i.e., the stack frame is destroyed)\n",
    "* _Where should we store a value that should exist even after a function returns?_ — on the heap\n",
    "* Need to store a thread's return value on the heap\n",
    "* Thread returns a pointer to the value on the heap\n",
    "* Example"
   ]
  },
  {
   "cell_type": "code",
   "execution_count": 17,
   "id": "5d720362-7fea-42c1-99e4-303a7a2f0036",
   "metadata": {
    "tags": [
     "worksheet-code-only"
    ]
   },
   "outputs": [
    {
     "name": "stdout",
     "output_type": "stream",
     "text": [
      "Length: 15\n"
     ]
    }
   ],
   "source": [
    "#include <stdio.h>\n",
    "#include <stdlib.h>\n",
    "#include <string.h>\n",
    "#include <pthread.h>\n",
    "void *length(void *arg) {\n",
    "    char *str = (char *)arg;\n",
    "    int *len = malloc(sizeof(int));\n",
    "    *len = strlen(str);\n",
    "    return len;\n",
    "}\n",
    "int main() {\n",
    "    pthread_t thread;\n",
    "    char *phrase = \"Hello, threads!\";\n",
    "    pthread_create(&thread, NULL, &length, phrase);\n",
    "    int *result = NULL;\n",
    "    pthread_join(thread, (void **)&result);\n",
    "    printf(\"Length: %d\\n\", *result);\n",
    "    free(result);\n",
    "}"
   ]
  },
  {
   "cell_type": "markdown",
   "id": "83f6c598-17f2-48c5-b2f0-10dafc624041",
   "metadata": {
    "slideshow": {
     "slide_type": "skip"
    },
    "tags": [
     "notes-only"
    ]
   },
   "source": [
    "* `pthread_join` returns `0` if successful, or an error number\n",
    "* To get the pointer returned by the thread, we need to pass a location where the pointer can be stored — i.e., we need to pass a double pointer"
   ]
  },
  {
   "cell_type": "markdown",
   "id": "67d66f89-3e65-47d2-9017-71d23659649f",
   "metadata": {
    "slideshow": {
     "slide_type": "skip"
    },
    "tags": [
     "notes-only"
    ]
   },
   "source": [
    "## Passing multiple parameters to threads"
   ]
  },
  {
   "cell_type": "markdown",
   "id": "15ccbad2-b01c-4f03-9eb5-ffbcd78ad052",
   "metadata": {
    "slideshow": {
     "slide_type": "skip"
    },
    "tags": [
     "notes-only"
    ]
   },
   "source": [
    "* A thread can only take a single `void *` pointer as a parameter\n",
    "* To pass multiple parameters:\n",
    "    * Define a `struct` that contains a field for each of the parameters\n",
    "    * Allocate space for an instance of the `struct`\n",
    "    * Pass a pointer to the instance to the thread — i.e., as the last parameter in `pthread_create`"
   ]
  },
  {
   "cell_type": "markdown",
   "id": "0fe2305a-538a-4301-a361-7b1f08713456",
   "metadata": {
    "slideshow": {
     "slide_type": "skip"
    },
    "tags": [
     "worksheet-only"
    ]
   },
   "source": [
    "<div style=\"page-break-after:always;\"></div>"
   ]
  },
  {
   "cell_type": "markdown",
   "id": "056a93f5-0d98-41e9-a21f-edeb65a4446b",
   "metadata": {
    "slideshow": {
     "slide_type": "slide"
    },
    "tags": []
   },
   "source": [
    "## Practice writing multi-threaded programs"
   ]
  },
  {
   "cell_type": "markdown",
   "id": "0c1ca21a-20d6-4f16-8e1e-24c45cffbf33",
   "metadata": {},
   "source": [
    "* Q2: _Write a function called `sum_array` which takes an array of `ARRAY_LEN` integers and returns the sum of the integers. Your function should have the appropriate prototype/implementation to serve as the entry point for a thread. Assume `ARRAY_LEN` is a constant which has been `#define`d._"
   ]
  },
  {
   "cell_type": "markdown",
   "id": "987317e2-cbc7-4fdd-87c8-8a01ec431c1f",
   "metadata": {
    "slideshow": {
     "slide_type": "skip"
    },
    "tags": [
     "worksheet-only"
    ]
   },
   "source": [
    "<p style=\"height:20em;\"></p>"
   ]
  },
  {
   "cell_type": "markdown",
   "id": "5d56f4fa-db2f-4f75-8e17-a75a17663ac0",
   "metadata": {},
   "source": [
    "* Q3: _Write a function called `sum_matrix` which takes an array of `NUM_ARRAYS` arrays of integers (i.e., an `int **`) and returns the sum of all the integers. The function should create `NUM_ARRAYS` threads, each running the `sum_array` function for a single array of integers. Assume `NUM_ARRAYS` is a constant which has been `#define`d._"
   ]
  },
  {
   "cell_type": "markdown",
   "id": "2f576b7a-6edf-4dbc-8856-6e37c5c4e545",
   "metadata": {
    "slideshow": {
     "slide_type": "skip"
    },
    "tags": [
     "worksheet-only"
    ]
   },
   "source": [
    "<div style=\"page-break-after:always;\"></div>"
   ]
  },
  {
   "cell_type": "code",
   "execution_count": 2,
   "id": "7411e71f-b5d3-4c2a-94d7-59af71b2e57b",
   "metadata": {
    "slideshow": {
     "slide_type": "skip"
    },
    "tags": [
     "notes-only"
    ]
   },
   "outputs": [
    {
     "name": "stdout",
     "output_type": "stream",
     "text": [
      "10225\n"
     ]
    }
   ],
   "source": [
    "#include <pthread.h>\n",
    "#include <stdio.h>\n",
    "#include <stdlib.h>\n",
    "\n",
    "#define ARRAY_LEN 10\n",
    "#define NUM_ARRAYS 5\n",
    "\n",
    "void *sum_array(void *args) {\n",
    "    int *nums = (int *)args;\n",
    "    int *sum = malloc(sizeof(int));\n",
    "    *sum = 0;\n",
    "    for (int i = 0; i < ARRAY_LEN; i++) {\n",
    "        *sum += nums[i];\n",
    "    }\n",
    "    return sum;\n",
    "}\n",
    "\n",
    "int sum_matrix(int *matrix[]) {\n",
    "    pthread_t threads[NUM_ARRAYS];\n",
    "    for (int i = 0; i < NUM_ARRAYS; i++) {\n",
    "        pthread_create(&(threads[i]), NULL, &sum_array, matrix[i]);\n",
    "    }\n",
    "\n",
    "    int total = 0;\n",
    "    for (int i = 0; i < NUM_ARRAYS; i++) {\n",
    "        int *sum;\n",
    "        pthread_join(threads[i], (void **)(&sum));\n",
    "        total += *sum;\n",
    "        free(sum);\n",
    "    }\n",
    "\n",
    "    return total;\n",
    "}\n",
    "\n",
    "int main() {\n",
    "    int *matrix[NUM_ARRAYS];\n",
    "    for (int i = 0; i < NUM_ARRAYS; i++) {\n",
    "        matrix[i] = malloc(sizeof(int) * ARRAY_LEN);\n",
    "        for (int j = 0; j < ARRAY_LEN; j++) {\n",
    "            matrix[i][j] = i * 100 + j;\n",
    "        }\n",
    "    }\n",
    "\n",
    "    int sum = sum_matrix(matrix);\n",
    "    printf(\"%d\\n\", sum);\n",
    "}"
   ]
  },
  {
   "cell_type": "markdown",
   "id": "b37ca661-12e2-4cd8-b765-8f23c6925f1d",
   "metadata": {
    "slideshow": {
     "slide_type": "slide"
    },
    "tags": []
   },
   "source": [
    "## Extra practice"
   ]
  },
  {
   "cell_type": "markdown",
   "id": "d3a00865-2936-4b1f-a08f-5992a873b039",
   "metadata": {
    "slideshow": {
     "slide_type": "skip"
    },
    "tags": []
   },
   "source": [
    "* _Assume you are given the following code:_"
   ]
  },
  {
   "cell_type": "code",
   "execution_count": null,
   "id": "3428cfe3-6045-4be4-82c6-1d3895e7ac83",
   "metadata": {},
   "outputs": [],
   "source": [
    "#include <ctype.h>\n",
    "#include <stdio.h>\n",
    "#include <string.h>\n",
    "int count(char *str, char ch) {\n",
    "    int num = 0;\n",
    "    while (*str != '\\0') {\n",
    "        if (tolower(*str) == ch) {\n",
    "            num++;\n",
    "        }\n",
    "        str++;\n",
    "    }\n",
    "    return num;\n",
    "}\n",
    "int main(int argc, char *argv[]) {\n",
    "    if (argc < 2) {\n",
    "        printf(\"Error: provide a string\\n\");\n",
    "        return 1;\n",
    "    }\n",
    "    char *str = argv[1];\n",
    "    char *vowels = \"aeiou\";\n",
    "    int counts[strlen(vowels)];\n",
    "    for (int i = 0; i < strlen(vowels); i++) {\n",
    "        counts[i] = count(str, vowels[i]);\n",
    "    }\n",
    "\n",
    "    for (int i = 0; i < strlen(vowels); i++) {\n",
    "        printf(\"%c %d\\n\", vowels[i], counts[i]);\n",
    "    }\n",
    "}"
   ]
  },
  {
   "cell_type": "markdown",
   "id": "50667a0e-f8b5-449e-b884-321021856575",
   "metadata": {
    "slideshow": {
     "slide_type": "subslide"
    },
    "tags": []
   },
   "source": [
    "* Q4: _Write a function called  `count_wrapper` that has the signature required for a thread function and calls the `count` function. (Hint: you'll need to declare a `struct` that contains all of the parameters required for `count`.)_"
   ]
  },
  {
   "cell_type": "markdown",
   "id": "bf5220ac-c035-41fb-a144-cc260f430181",
   "metadata": {},
   "source": [
    "* Q5: _Re-write `main` to create/wait for threads that execute `count_wrapper` (instead of calling `count` sequentially)._"
   ]
  },
  {
   "cell_type": "code",
   "execution_count": null,
   "id": "f99a77c0-0fc1-439e-9c96-3d5c31a83cdb",
   "metadata": {
    "slideshow": {
     "slide_type": "skip"
    },
    "tags": [
     "notes-only"
    ]
   },
   "outputs": [],
   "source": [
    "#include <ctype.h>\n",
    "#include <stdio.h>\n",
    "#include <string.h>\n",
    "#include <pthread.h>\n",
    "int count(char *str, char ch) {\n",
    "    int num = 0;\n",
    "    while (*str != '\\0') {\n",
    "        if (tolower(*str) == ch) {\n",
    "            num++;\n",
    "        }\n",
    "        str++;\n",
    "    }\n",
    "    return num;\n",
    "}\n",
    "struct count_args {\n",
    "    char *str;\n",
    "    char ch;\n",
    "};\n",
    "void *count_wrapper(void *arg) {\n",
    "    struct count_args *cargs = (struct count_args *)arg;\n",
    "    int *result = malloc(sizeof(int));\n",
    "    *result = count(cargs->str, cargs->ch);\n",
    "    return result;\n",
    "}\n",
    "int main(int argc, char *argv[]) {\n",
    "    if (argc < 2) {\n",
    "        printf(\"Error: provide a string\\n\");\n",
    "        return 1;\n",
    "    }\n",
    "    char *str = argv[1];\n",
    "    char *vowels = \"aeiou\";\n",
    "\n",
    "    // Create threads\n",
    "    struct count_args args[strlen(vowels)];\n",
    "    pthread_t threads[strlen(vowels)];\n",
    "    for (int i = 0; i < strlen(vowels); i++) {\n",
    "        args[i].str = str;\n",
    "        args[i].ch = vowels[i];\n",
    "        pthread_create(&(threads[i]), NULL, &count_wrapper, &(args[i]));\n",
    "    }\n",
    "\n",
    "    // Wait for threads\n",
    "    for (int i = 0; i < strlen(vowels); i++) {\n",
    "        int *ptr;\n",
    "        pthread_join(threads[i], (void **)(&ptr));\n",
    "        printf(\"%c %d\\n\", vowels[i], *ptr);\n",
    "    }\n",
    "}"
   ]
  }
 ],
 "metadata": {
  "kernelspec": {
   "display_name": "C",
   "language": "c",
   "name": "c"
  },
  "language_info": {
   "file_extension": ".c",
   "mimetype": "c",
   "name": "c"
  }
 },
 "nbformat": 4,
 "nbformat_minor": 5
}
