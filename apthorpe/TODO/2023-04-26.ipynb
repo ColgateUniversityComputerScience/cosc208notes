{
 "cells": [
  {
   "cell_type": "markdown",
   "id": "ffc437ac-d10b-4d12-895d-712e9c2057b5",
   "metadata": {
    "slideshow": {
     "slide_type": "skip"
    },
    "tags": []
   },
   "source": [
    "# Multithreading: threads\n",
    "_COSC 208, Introduction to Computer Systems, 2023-04-26_"
   ]
  },
  {
   "cell_type": "markdown",
   "id": "c377c966-ee4b-4990-a6e6-a2d8f327a112",
   "metadata": {
    "slideshow": {
     "slide_type": "skip"
    },
    "tags": []
   },
   "source": [
    "## Announcements\n",
    "* Project 5 due Thursday, May 4"
   ]
  },
  {
   "cell_type": "markdown",
   "id": "377e6d68-2202-4782-afc7-a43582630f55",
   "metadata": {
    "slideshow": {
     "slide_type": "skip"
    },
    "tags": []
   },
   "source": [
    "## Outline\n",
    "* Warm-up\n",
    "* Threads and memory\n",
    "* Pthreads API\n",
    "* Creating multiple threads\n",
    "* Returning values from threads\n",
    "* Passing multiple parameters to threads"
   ]
  },
  {
   "cell_type": "markdown",
   "id": "12012bfd-a4f4-4e7f-9d4b-3275ef92160b",
   "metadata": {},
   "source": [
    "## Warm-up"
   ]
  },
  {
   "cell_type": "markdown",
   "id": "78069061-c3e9-4c2b-8181-04f4eba9858e",
   "metadata": {},
   "source": [
    "_Consider the following set of processes:_"
   ]
  },
  {
   "cell_type": "markdown",
   "id": "5a4cb931-0c3f-48f8-9c4c-182b59af08e1",
   "metadata": {
    "tags": []
   },
   "source": [
    "| Process | Arrival Time | Duration |\n",
    "|---------|--------------|----------|\n",
    "| A       | 0            | 30       |\n",
    "| B       | 0            | 25       |\n",
    "| C       | 5            | 15       |\n",
    "| D       | 10           | 5        |"
   ]
  },
  {
   "cell_type": "markdown",
   "id": "5f7755ca-a37c-4d8a-8e07-6770aa5dbe8e",
   "metadata": {},
   "source": [
    "* Q1: _Draw the schedule when a Round Robin (RR) scheduling algorithm is used with a time quantum of 15._"
   ]
  },
  {
   "cell_type": "markdown",
   "id": "87972c8a-6e2c-4314-91e2-f1d0b3b39c99",
   "metadata": {
    "slideshow": {
     "slide_type": "skip"
    },
    "tags": [
     "notes-only"
    ]
   },
   "source": [
    "```\n",
    "  A              B              C              D    A              B       \n",
    "|--------------|--------------|--------------|----|--------------|---------|\n",
    "0              15             30             45   50             65        75\n",
    "```"
   ]
  },
  {
   "cell_type": "markdown",
   "id": "1d916e2d-4c98-42b2-b3ef-ed40e409319f",
   "metadata": {
    "slideshow": {
     "slide_type": "skip"
    },
    "tags": [
     "worksheet-only"
    ]
   },
   "source": [
    "<p style=\"height:6em;\"></p>"
   ]
  },
  {
   "cell_type": "markdown",
   "id": "270adf89-da6f-4cad-8a43-063f44803519",
   "metadata": {},
   "source": [
    "* Q2: _Compute the turnaround and wait time for each process based on the above schedule._"
   ]
  },
  {
   "cell_type": "markdown",
   "id": "491ff97a-9c05-4ac8-95f5-2225fcf2ffbd",
   "metadata": {
    "slideshow": {
     "slide_type": "skip"
    },
    "tags": [
     "notes-only"
    ]
   },
   "source": [
    "| Process | Turnaround | Wait |\n",
    "|---------|------------|------|\n",
    "| A       | 65         | 35   |\n",
    "| B       | 75         | 50   |\n",
    "| C       | 40         | 25   |\n",
    "| D       | 40         | 35   |"
   ]
  },
  {
   "cell_type": "markdown",
   "id": "f1695430-8e94-42c6-99c1-1c1bab12a412",
   "metadata": {
    "slideshow": {
     "slide_type": "skip"
    },
    "tags": [
     "worksheet-only"
    ]
   },
   "source": [
    "<p style=\"height:10em;\"></p>\n",
    "\n",
    "🛑 **STOP here** after completing the above question; if you have extra time please **skip ahead** to the extra practice.\n",
    "\n",
    "<div style=\"page-break-after:always;\"></div>"
   ]
  },
  {
   "cell_type": "markdown",
   "id": "afa5ff7b-2b13-46e9-ae63-377944806945",
   "metadata": {
    "slideshow": {
     "slide_type": "slide"
    },
    "tags": []
   },
   "source": [
    "## Threads and memory"
   ]
  },
  {
   "cell_type": "markdown",
   "id": "f4917f69-f8d4-4254-bba6-81e17462c42e",
   "metadata": {
    "slideshow": {
     "slide_type": "skip"
    },
    "tags": [
     "notes-only"
    ]
   },
   "source": [
    "* Threads are multiple execution contexts within the **same process**\n",
    "    * Processes are multiple execution contexts within the **same machine**\n",
    "* Because threads are within the same process, they share all of the process’s resources — memory, CPU time, file descriptors (i.e., open files), etc.\n",
    "* Consequently, two threads can update the same variable"
   ]
  },
  {
   "cell_type": "markdown",
   "id": "b79ae964-6e2c-4114-b844-776508ff0130",
   "metadata": {
    "slideshow": {
     "slide_type": "skip"
    },
    "tags": []
   },
   "source": [
    "* Example"
   ]
  },
  {
   "cell_type": "code",
   "execution_count": null,
   "id": "ba727028-3e07-471a-a024-62b5c5061624",
   "metadata": {},
   "outputs": [],
   "source": [
    "#include <stdio.h>\n",
    "#include <stdlib.h>\n",
    "void *thread1_main(void *arg) {\n",
    "    int *x = (int *)arg;\n",
    "    *x += 1;\n",
    "    return NULL;\n",
    "}\n",
    "void *thread2_main(void *arg) {\n",
    "    int *y = (int *)arg;\n",
    "    *y += 2;\n",
    "    return NULL;\n",
    "}\n",
    "int main() {\n",
    "    int *z = malloc(sizeof(int));\n",
    "    *z = 0;\n",
    "    // Create thread running thread1_main(z)\n",
    "    // Create thread running thread2_main(z)\n",
    "    // Wait for threads to finish\n",
    "    printf(\"z is %d\\n\", *z);\n",
    "}"
   ]
  },
  {
   "cell_type": "markdown",
   "id": "b0076aa3-e731-44b0-ae57-40f3e6fce2df",
   "metadata": {
    "slideshow": {
     "slide_type": "skip"
    },
    "tags": [
     "notes-only"
    ]
   },
   "source": [
    "```\n",
    "z is 3\n",
    "```"
   ]
  },
  {
   "cell_type": "markdown",
   "id": "1df5a6a9-ba96-430a-8a45-98bfe7220088",
   "metadata": {
    "slideshow": {
     "slide_type": "skip"
    },
    "tags": [
     "notes-only"
    ]
   },
   "source": [
    "* Two processes cannot update the same variable — memory is not shared; must use inter-process communication mechanism to share information"
   ]
  },
  {
   "cell_type": "markdown",
   "id": "09a6e35b-7a5e-4837-9de6-2038adcb9fb4",
   "metadata": {
    "slideshow": {
     "slide_type": "subslide"
    },
    "tags": []
   },
   "source": [
    "* Q3: _What are all possible outputs produced by this program?_"
   ]
  },
  {
   "cell_type": "code",
   "execution_count": null,
   "id": "9f47a05f-9ace-4811-a53a-c949691eb406",
   "metadata": {},
   "outputs": [],
   "source": [
    "#include <stdio.h>\n",
    "#include <stdlib.h>\n",
    "void *thread_main(void *arg) {\n",
    "    char *id = (char *)arg;\n",
    "    printf(\"I am thread %c\\n\", *id);\n",
    "    return NULL;\n",
    "}\n",
    "int main() {\n",
    "    char *a = malloc(sizeof(char));\n",
    "    *a = 'A';\n",
    "    char *b = malloc(sizeof(char));\n",
    "    *b = 'B';\n",
    "    // Create thread running thread_main(a)\n",
    "    // Create thread running thread_main(b)\n",
    "    // Wait for threads to finish\n",
    "}"
   ]
  },
  {
   "cell_type": "markdown",
   "id": "2eb07ea8-c24f-4fc7-87c4-3021cdc00eba",
   "metadata": {
    "slideshow": {
     "slide_type": "skip"
    },
    "tags": [
     "notes-only"
    ]
   },
   "source": [
    "```\n",
    "I am thread A\n",
    "I am thread B\n",
    "```\n",
    "OR\n",
    "```\n",
    "I am thread B\n",
    "I am thread A\n",
    "```"
   ]
  },
  {
   "cell_type": "markdown",
   "id": "ad49adc1-35b8-4fe1-a323-63f19bd8fa65",
   "metadata": {
    "slideshow": {
     "slide_type": "skip"
    },
    "tags": [
     "worksheet-only"
    ]
   },
   "source": [
    "<p style=\"height:8em;\"></p>\n",
    "\n",
    "🛑 **STOP here** after completing the above question; if you have extra time please **skip ahead** to the extra practice.\n",
    "\n",
    "<div style=\"page-break-after:always;\"></div>"
   ]
  },
  {
   "cell_type": "markdown",
   "id": "19924064-59b0-45a4-94b7-0d9d1ed5645c",
   "metadata": {
    "slideshow": {
     "slide_type": "slide"
    },
    "tags": []
   },
   "source": [
    "## Pthreads API"
   ]
  },
  {
   "cell_type": "markdown",
   "id": "d97b82c1-c803-45a6-a872-2bbefb039ed1",
   "metadata": {
    "slideshow": {
     "slide_type": "skip"
    },
    "tags": [
     "notes-only"
    ]
   },
   "source": [
    "* Can create and wait for threads to finish, just like processes, but API is different\n",
    "* Use the pthreads library—`#include <pthread.h>`\n",
    "* `int pthread_create(pthread_t *thread, const pthread_attr_t *attr, void *(*start_routine)(void*), void * arg)`\n",
    "    * `thread`—a struct that stores metadata for the thread\n",
    "    * `attr`—configuration settings for the thread\n",
    "    * `start_routine`—the function to start executing when the thread starts\n",
    "        * Pass a pointer to a function\n",
    "    * `arg`—an argument passed to the aforementioned function\n",
    "    * _How do we create a new process?_—`fork`\n",
    "* `int pthread_join(pthread_t thread, void **value_ptr)`\n",
    "    * `thread`—the same struct passed at thread creation; used to identify the thread we want to wait for\n",
    "    * `value_ptr`—the location where the function return value should be stored\n",
    "        * Notice it’s a pointer to a void pointer and the `start_routine` function specified in create returns a void pointer\n",
    "    * _How do we wait for a process to finish?_ — `wait` or `waitpid`"
   ]
  },
  {
   "cell_type": "markdown",
   "id": "b260f1d5-867d-464c-8a64-7b61a67bbd47",
   "metadata": {
    "tags": []
   },
   "source": [
    "* Q4: _What are all possible outputs produced by this program?_"
   ]
  },
  {
   "cell_type": "code",
   "execution_count": null,
   "id": "ef5e98b6-bee4-4de5-92bb-2faab7f1461a",
   "metadata": {},
   "outputs": [],
   "source": [
    "#include <stdio.h>\n",
    "#include <stdlib.h>\n",
    "#include <pthread.h>\n",
    "void *increment(void *arg) {\n",
    "    int *num = (int*)arg;\n",
    "    *num += 1;\n",
    "    return NULL;\n",
    "}\n",
    "void *zero(void *arg) {\n",
    "    int *num = (int*)arg;\n",
    "    *num = 0;\n",
    "    return NULL;\n",
    "}\n",
    "int main() {\n",
    "    pthread_t thread1, thread2;\n",
    "    int *i = malloc(sizeof(int));\n",
    "    *i = 5;\n",
    "    pthread_create(&thread1, NULL, &increment, i);\n",
    "    pthread_create(&thread2, NULL, &zero, i);\n",
    "    pthread_join(thread1, NULL);\n",
    "    pthread_join(thread2, NULL);\n",
    "    printf(\"i=%d\\n\", *i);\n",
    "}"
   ]
  },
  {
   "cell_type": "markdown",
   "id": "865849ba-9b88-4f26-bc93-44cfe0cd2531",
   "metadata": {
    "slideshow": {
     "slide_type": "skip"
    },
    "tags": [
     "notes-only"
    ]
   },
   "source": [
    "```\n",
    "i=0\n",
    "```\n",
    "OR\n",
    "```\n",
    "i=1\n",
    "```"
   ]
  },
  {
   "cell_type": "markdown",
   "id": "6541af47-2536-44b1-bde4-f07b619eef2e",
   "metadata": {
    "slideshow": {
     "slide_type": "skip"
    },
    "tags": [
     "worksheet-only"
    ]
   },
   "source": [
    "<p style=\"height:5em;\"></p>"
   ]
  },
  {
   "cell_type": "markdown",
   "id": "f35e8492-b34f-404a-954d-41fb0f49f5b1",
   "metadata": {
    "slideshow": {
     "slide_type": "subslide"
    },
    "tags": []
   },
   "source": [
    "* Q5: _What are all possible outputs produced by this program?_"
   ]
  },
  {
   "cell_type": "code",
   "execution_count": 1,
   "id": "273bdbb0-50ab-4942-ab98-6e1edab2153a",
   "metadata": {
    "tags": [
     "worksheet-code-only"
    ]
   },
   "outputs": [
    {
     "name": "stdout",
     "output_type": "stream",
     "text": [
      "I am P\n",
      "I am Q\n"
     ]
    }
   ],
   "source": [
    "#include <stdio.h>\n",
    "#include <stdlib.h>\n",
    "#include <pthread.h>\n",
    "void *printer(void *arg) {\n",
    "    char *ch = (char*)arg;\n",
    "    printf(\"I am %c\\n\", *ch);\n",
    "    return NULL;\n",
    "}\n",
    "int main() {\n",
    "    pthread_t thread1, thread2;\n",
    "    char *ch = malloc(sizeof(char));\n",
    "    *ch = 'P';\n",
    "    pthread_create(&thread1, NULL, &printer, ch);\n",
    "    pthread_join(thread1, NULL);\n",
    "    *ch = 'Q';\n",
    "    pthread_create(&thread2, NULL, &printer, ch);\n",
    "    pthread_join(thread2, NULL);\n",
    "}"
   ]
  },
  {
   "cell_type": "markdown",
   "id": "caeb2c0f-380e-46b0-988b-50fa8633ec47",
   "metadata": {
    "slideshow": {
     "slide_type": "skip"
    },
    "tags": [
     "worksheet-only"
    ]
   },
   "source": [
    "<div style=\"page-break-after:always;\"></div>"
   ]
  },
  {
   "cell_type": "markdown",
   "id": "b37ca661-12e2-4cd8-b765-8f23c6925f1d",
   "metadata": {
    "slideshow": {
     "slide_type": "slide"
    },
    "tags": []
   },
   "source": [
    "## Extra practice"
   ]
  },
  {
   "cell_type": "markdown",
   "id": "d3a00865-2936-4b1f-a08f-5992a873b039",
   "metadata": {
    "tags": []
   },
   "source": [
    "* Q6: _What are all possible outputs produced by this program?_"
   ]
  },
  {
   "cell_type": "code",
   "execution_count": null,
   "id": "be1d4206-aa53-4221-a12f-b134879a77b6",
   "metadata": {
    "tags": [
     "worksheet-code-only"
    ]
   },
   "outputs": [],
   "source": [
    "#include <stdio.h>\n",
    "#include <stdlib.h>\n",
    "#include <pthread.h>\n",
    "void *printer(void *arg) {\n",
    "    char *ch = (char*)arg;\n",
    "    printf(\"I am %c\\n\", *ch);\n",
    "    return NULL;\n",
    "}\n",
    "int main() {\n",
    "    pthread_t thread1, thread2;\n",
    "    char *ch = malloc(sizeof(char));\n",
    "    *ch = 'A';\n",
    "    pthread_create(&thread1, NULL, &printer, ch);\n",
    "    *ch = 'B';\n",
    "    pthread_create(&thread2, NULL, &printer, ch);\n",
    "    pthread_join(thread1, NULL);\n",
    "    pthread_join(thread2, NULL);\n",
    "}"
   ]
  },
  {
   "cell_type": "markdown",
   "id": "fccf3db3-e73a-4af6-9a51-af8a81198392",
   "metadata": {
    "slideshow": {
     "slide_type": "skip"
    },
    "tags": [
     "notes-only"
    ]
   },
   "source": [
    "```\n",
    "I am A\n",
    "I am B\n",
    "```\n",
    "OR\n",
    "```\n",
    "I am B\n",
    "I am B\n",
    "```"
   ]
  },
  {
   "cell_type": "markdown",
   "id": "6fc02323-cec3-47f0-bc8f-4ce56d78df91",
   "metadata": {
    "slideshow": {
     "slide_type": "skip"
    },
    "tags": [
     "worksheet-only"
    ]
   },
   "source": [
    "<p style=\"height:8em;\"></p>"
   ]
  },
  {
   "cell_type": "markdown",
   "id": "7a4d1233-0f49-4c0f-9485-ae805adb53a6",
   "metadata": {
    "slideshow": {
     "slide_type": "subslide"
    },
    "tags": []
   },
   "source": [
    "* Q7: _What are all possible outputs produced by this program?_"
   ]
  },
  {
   "cell_type": "code",
   "execution_count": null,
   "id": "e3a5a5f8-3aab-4e92-a150-cb756c4a82f1",
   "metadata": {
    "tags": [
     "worksheet-code-only"
    ]
   },
   "outputs": [],
   "source": [
    "#include <stdio.h>\n",
    "#include <stdlib.h>\n",
    "#include <pthread.h>\n",
    "void *printer2(void *arg) {\n",
    "    char *ch = (char*)arg;\n",
    "    printf(\"Start %c\\n\", *ch);\n",
    "    printf(\"End %c\\n\", *ch);\n",
    "    return NULL;\n",
    "}\n",
    "int main() {\n",
    "    pthread_t thread1, thread2;\n",
    "    char *ch1 = malloc(sizeof(char));\n",
    "    *ch1 = 'X';\n",
    "    char *ch2 = malloc(sizeof(char));\n",
    "    *ch2 = 'Y';\n",
    "    pthread_create(&thread1, NULL, &printer2, ch1);\n",
    "    pthread_create(&thread2, NULL, &printer2, ch2);\n",
    "    pthread_join(thread1, NULL);\n",
    "    pthread_join(thread2, NULL);\n",
    "}"
   ]
  },
  {
   "cell_type": "markdown",
   "id": "912b94e9-5f35-4377-a8ca-302c793d5eed",
   "metadata": {
    "slideshow": {
     "slide_type": "skip"
    },
    "tags": [
     "notes-only"
    ]
   },
   "source": [
    "```\n",
    "Start X\n",
    "End X\n",
    "Start Y\n",
    "End Y\n",
    "```\n",
    "OR\n",
    "```\n",
    "Start Y\n",
    "End Y\n",
    "Start X\n",
    "End X\n",
    "```\n",
    "OR\n",
    "```\n",
    "Start X\n",
    "Start Y\n",
    "End Y\n",
    "End X\n",
    "```\n",
    "OR\n",
    "```\n",
    "Start X\n",
    "Start Y\n",
    "End X\n",
    "End Y\n",
    "```\n",
    "OR\n",
    "```\n",
    "Start Y\n",
    "Start X\n",
    "End X\n",
    "End Y\n",
    "```\n",
    "OR\n",
    "```\n",
    "Start Y\n",
    "Start X\n",
    "End Y\n",
    "End X\n",
    "```"
   ]
  }
 ],
 "metadata": {
  "kernelspec": {
   "display_name": "C",
   "language": "c",
   "name": "c"
  },
  "language_info": {
   "file_extension": ".c",
   "mimetype": "c",
   "name": "c"
  }
 },
 "nbformat": 4,
 "nbformat_minor": 5
}
