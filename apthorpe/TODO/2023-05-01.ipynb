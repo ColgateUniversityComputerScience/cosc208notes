{
 "cells": [
  {
   "cell_type": "markdown",
   "id": "33410e11-322f-4e1e-979b-fe8de0e69a0e",
   "metadata": {
    "slideshow": {
     "slide_type": "skip"
    },
    "tags": []
   },
   "source": [
    "# Virtualization: virtual machines & containers\n",
    "_COSC 208, Introduction to Computer Systems, 2023-05-01_"
   ]
  },
  {
   "cell_type": "markdown",
   "id": "7b745dbf-4bfa-4331-87b1-1d6d0518484f",
   "metadata": {
    "slideshow": {
     "slide_type": "skip"
    },
    "tags": []
   },
   "source": [
    "## Announcements\n",
    "* Project 5 due Thursday at 11pm\n",
    "* Final exam\n",
    "    * Study guide posted on Moodle\n",
    "    * Take-home portion: released later this week; due Tuesday of finals week\n",
    "    * In-class portion: Tuesday of finals week 9am-11am or 12pm-2pm"
   ]
  },
  {
   "cell_type": "markdown",
   "id": "91a6b9f6-e5e2-4677-8e45-9d026953759b",
   "metadata": {
    "slideshow": {
     "slide_type": "skip"
    },
    "tags": []
   },
   "source": [
    "## Outline\n",
    "* Virtual machines\n",
    "* Hypervisors\n",
    "* CPU sharing\n",
    "* Containers"
   ]
  },
  {
   "cell_type": "markdown",
   "id": "032a22c5-d1db-462d-b05b-f9a4a54db923",
   "metadata": {},
   "source": [
    "## No warm-up – happy last week of classes!"
   ]
  },
  {
   "cell_type": "markdown",
   "id": "c8def9b3-af0c-4874-9a12-70ded1b09d24",
   "metadata": {
    "slideshow": {
     "slide_type": "skip"
    },
    "tags": [
     "notes-only"
    ]
   },
   "source": [
    "## Virtual machines (VMs)"
   ]
  },
  {
   "cell_type": "markdown",
   "id": "81c480af-07ad-4cb4-a331-d07200fb2d2e",
   "metadata": {
    "slideshow": {
     "slide_type": "skip"
    },
    "tags": [
     "notes-only"
    ]
   },
   "source": [
    "* Recall: _what is the purpose of an OS?_\n",
    "    * Make computer hardware easy to use—e.g., an OS knows how to load an application's executable code from persistent storage (e.g., solid state drive (SSD)) into main memory, initialize the process's memory (code, heap, stack), and make the CPU execute the application's instructions\n",
    "    * Support multiprocessing—i.e., running multiple applications simultaneously or concurrently\n",
    "    * Allocate and manage hardware resources—e.g., decide when/which applications can use the CPU, decide when/which memory applications can use, prevent applications from stealing/accessing another application's CPU time or memory\n",
    "* What is the purpose of a virtual machine?\n",
    "    * Make computer hardware flexible to use\n",
    "    * Support multiple OSes running concurrently\n",
    "    * Allocate and manage hardware resources—e.g., decide when/which VMs can use the CPU, decide/when which memory VMs can use, prevent VMS from stealing/accessing another VM's CPU time or memory\n",
    "* What is the motivation for using a virtual machine?\n",
    "    * Run multiple OSes concurrently — _why would someone one to do this?_\n",
    "        * Run software only supported by a specific OS\n",
    "        * Software testing\n",
    "        * Server consolidation\n",
    "        * Security sandboxing\n",
    "    * Flexibly use hardware resources"
   ]
  },
  {
   "cell_type": "markdown",
   "id": "9ce5f895-a618-4263-b5e2-3405b1901c2c",
   "metadata": {
    "slideshow": {
     "slide_type": "skip"
    },
    "tags": [
     "notes-only"
    ]
   },
   "source": [
    "## Hypervisors"
   ]
  },
  {
   "cell_type": "markdown",
   "id": "d19f1fc3-cce6-4b76-ac1e-68215b36206c",
   "metadata": {
    "slideshow": {
     "slide_type": "skip"
    },
    "tags": [
     "notes-only"
    ]
   },
   "source": [
    "* _What additional software layer does a computer system need to support virtual machines?_ — hypervisor\n",
    "* _Where does a hypervisor reside?_\n",
    "    * Type 1: on top of hardware — e.g., KVM, Xen, Hyper-V, VMware vSphere\n",
    "    * Type 2: on top of host OS — e.g., VirtualBox, VMware Workstation/Fusion\n",
    "* _Why is a type 1 hypervisor better than a type 2 hypervisor?_\n",
    "    * Resources can be oversubscribed\n",
    "    * No overhead from host OS\n",
    "* _Why is a type 2 hypervisor better than a type 1 hypervisor?_\n",
    "    * Easy to use"
   ]
  },
  {
   "cell_type": "markdown",
   "id": "70a95328-a39c-4ea8-a03c-f0da3dedf3db",
   "metadata": {
    "slideshow": {
     "slide_type": "skip"
    },
    "tags": [
     "notes-only"
    ]
   },
   "source": [
    "## CPU sharing"
   ]
  },
  {
   "cell_type": "markdown",
   "id": "dcc762b9-53e1-445b-ba4a-a44cd179909c",
   "metadata": {
    "slideshow": {
     "slide_type": "skip"
    },
    "tags": [
     "notes-only"
    ]
   },
   "source": [
    "* Use same approach OS uses for sharing CPU between processes — Limited Direct Execution (LDE)\n",
    "* _Recall: How does LDE work in OS?_\n",
    "    * Put CPU in user mode\n",
    "    * Give process exclusive access to CPU\n",
    "    * Process issues a syscall to perform privileged operation\n",
    "    * Timer interrupt allows OS to regain control\n",
    "* To use LDE with a VM\n",
    "    * Put CPU in user mode\n",
    "    * Give VM exclusive access to CPU\n",
    "    * Process issues a syscall -OR- OS attempts to perform privileged operation\n",
    "    * Timer interrupt allows hypervisor to regain control\n",
    "* Recall: _How does a process make a syscall?_ — load syscall number into register `x8` and execute `svc` instruction\n",
    "* _What happens when a process makes a syscall?_\n",
    "    1. CPU saves registers to the OS stack\n",
    "    2. CPU switches to kernel mode\n",
    "    3. CPU uses system call number to index into OS's table of syscall handlers \n",
    "    4. Branch and link to syscall handler code\n",
    "    5. Restore registers from the OS stack\n",
    "    6. Switch CPU to user mode\n",
    "    7. Resume execution after `svc` \n",
    "* Syscalls with a type 1 hypervisor\n",
    "    * Processes in virtualized OS do the same as before\n",
    "    * Hypervisor’s syscall handler is invoked by hardware instead of OS’s syscall handler\n",
    "    * Actually want to invoke OS's syscall handler — the hypervisor does this\n",
    "    * Hypervisor knows where OS trap table is located, because populating syscall table is a privileged instruction, so hypervisor interposed on these operations when OS booted\n",
    "* Steps when process in virtualized OS makes a syscall\n",
    "    1. CPU saves registers to the hypervisor stack\n",
    "    2. CPU switches to kernel mode\n",
    "    3. CPU uses system call number to index into VM's table of syscall handlers \n",
    "    4. **Switch CPU from kernel to user mode**\n",
    "    5. Branch and link to syscall handler code\n",
    "    6. **Switch CPU from user to kernel mode**\n",
    "    7. Restore registers from the hypervisor stack\n",
    "    8. Switch CPU to user mode\n",
    "    9. Resume execution after `svc`\n",
    "* Extra work to always trap to hypervisor, which then invokes OS code\n",
    "* Possible solutions\n",
    "    * Hardware support — e.g., supervisor mode that is between user and kernel mode\n",
    "    * Para-virtualization — modify the OS so it's aware there is a hypervisor and the two can interact directly\n",
    "    * Containers — use a single OS, but create groups of processes that are isolated from other processes\n",
    "        * OS's process abstraction already isolates each process's CPU time, memory, and registers, but processes can still use syscalls to pass messages to each other, wait for each other, access a common set of files, etc."
   ]
  },
  {
   "cell_type": "markdown",
   "id": "f01342dd-6255-491f-849d-66fbe5a1dddb",
   "metadata": {
    "slideshow": {
     "slide_type": "skip"
    },
    "tags": [
     "notes-only"
    ]
   },
   "source": [
    "## Containers"
   ]
  },
  {
   "cell_type": "markdown",
   "id": "a8c1945d-de2d-4763-8375-f9211214cb66",
   "metadata": {
    "slideshow": {
     "slide_type": "skip"
    },
    "tags": [
     "notes-only"
    ]
   },
   "source": [
    "* Containers — use a single OS, but create groups of processes that are isolated from other processes\n",
    "    * OS's process abstraction already isolates each process's CPU time, memory, and registers, but processes can still use syscalls to pass messages to each other, wait for each other, access a common set of files, etc.\n",
    "* Containers share the kernel — i.e., core OS functionality like syscalls, scheduler, I/O interface\n",
    "    * VMs do **not** share the kernel\n",
    "* Containers and VMs do **not** share the file system ==> containers and virtual machines do **not** share libraries, executables, etc.\n",
    "* Containers and VMs do **not** share user accounts\n",
    "* Containers and VMs do **not** share network stacks ==> e.g., each container or VM has its own Internet Protocol (IP) address\n",
    "* Compute and storage resources (e.g., CPU, memory) available to containers and VMs can be limited\n",
    "* Containers and VMs share the hardware"
   ]
  }
 ],
 "metadata": {
  "kernelspec": {
   "display_name": "C",
   "language": "c",
   "name": "c"
  },
  "language_info": {
   "file_extension": ".c",
   "mimetype": "c",
   "name": "c"
  }
 },
 "nbformat": 4,
 "nbformat_minor": 5
}
