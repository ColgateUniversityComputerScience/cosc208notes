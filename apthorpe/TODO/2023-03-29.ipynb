{
 "cells": [
  {
   "cell_type": "markdown",
   "id": "39d76db8-edb9-47d5-bec8-7998805660b3",
   "metadata": {
    "slideshow": {
     "slide_type": "skip"
    },
    "tags": []
   },
   "source": [
    "# Assembly: functions\n",
    "_COSC 208, Introduction to Computer Systems, 2023-03-29_"
   ]
  },
  {
   "cell_type": "markdown",
   "id": "37653a99-1c8a-47ac-b68c-6e7336bb8328",
   "metadata": {
    "slideshow": {
     "slide_type": "skip"
    },
    "tags": []
   },
   "source": [
    "## Announcements\n",
    "* Project 3 due tomorrow @ 11pm\n",
    "* Exam 2\n",
    "    * Study guide posted on Moodle\n",
    "    * Take-home portion: released after class on Friday; due at the beginning of class on Monday\n",
    "    * In-class portion: during class on Monday"
   ]
  },
  {
   "cell_type": "markdown",
   "id": "f17866fc-fc93-480c-a9a5-d903a0657063",
   "metadata": {
    "slideshow": {
     "slide_type": "skip"
    },
    "tags": []
   },
   "source": [
    "## Outline\n",
    "* Warm-up\n",
    "* Functions"
   ]
  },
  {
   "cell_type": "markdown",
   "id": "e663073f-3384-4891-978a-b8c31d0a6263",
   "metadata": {
    "slideshow": {
     "slide_type": "slide"
    },
    "tags": []
   },
   "source": [
    "## Warm-up"
   ]
  },
  {
   "cell_type": "markdown",
   "id": "a8d5eb72-bfe7-41a9-bdfc-c753fc218cb7",
   "metadata": {
    "slideshow": {
     "slide_type": "skip"
    },
    "tags": []
   },
   "source": [
    "Q1: _The following C code was compiled into assembly (using `clang`)._ "
   ]
  },
  {
   "cell_type": "code",
   "execution_count": null,
   "id": "897583ab-2be7-4e6f-a091-1294e55b439a",
   "metadata": {},
   "outputs": [],
   "source": [
    "/*1*/   int adjust(int value) {\n",
    "/*2*/       if (value < 10) {\n",
    "/*3*/           value = value * 10;\n",
    "/*4*/       }\n",
    "/*5*/       else {\n",
    "/*6*/           value = value / 10;\n",
    "/*7*/       }\n",
    "/*8*/       return value;\n",
    "/*9*/   }"
   ]
  },
  {
   "cell_type": "markdown",
   "id": "5620bbd4-ca17-4082-b168-58fb578c5ad0",
   "metadata": {
    "slideshow": {
     "slide_type": "skip"
    },
    "tags": []
   },
   "source": [
    "_For each line of assembly:_\n",
    "1. _Indicate which original line of C code (above) the assembly instruction was derived from; and_\n",
    "2. _Write the low-level C code equivalent of the assembly instruction, treating registers as if they were variable names._"
   ]
  },
  {
   "cell_type": "markdown",
   "id": "5a2d9a4e-78f8-459a-9adf-7a876de1df1e",
   "metadata": {
    "slideshow": {
     "slide_type": "skip"
    },
    "tags": [
     "notes-only"
    ]
   },
   "source": [
    "```\n",
    "0000000000400544 <adjust>:                          // Line     Low-level C\n",
    "    400544:  d10043ff   sub  sp, sp, #0x10          // 1        sp = sp - 0x10\n",
    "    400548:  b9000fe0   str  w0, [sp, #12]          // 1        *(sp+12) = w0\n",
    "    40054c:  b9400fe8   ldr  w8, [sp, #12]          // 2        w8 = *(sp+12)\n",
    "    400550:  7100291f   cmp  w8, #0xa               // 2        if w8 >= 10\n",
    "    400554:  540000ca   b.ge 40056c <adjust+0x28>   // 2            goto 40065c\n",
    "    400558:  b9400fe8   ldr  w8, [sp, #12]          // 3        w8 = *(sp+12)\n",
    "    40055c:  52800149   mov  w9, #0xa               // 3        w9 = 10\n",
    "    400560:  1b097d08   mul  w8, w8, w9             // 3        w8 = w8 * w9\n",
    "    400564:  b9000fe8   str  w8, [sp, #12]          // 3        *(sp+12) = w8\n",
    "    400568:  14000005   b    40057c <adjust+0x38>   // 4        goto 40057c\n",
    "    40056c:  b9400fe8   ldr  w8, [sp, #12]          // 6        w8 = *(sp+12)\n",
    "    400570:  52800149   mov  w9, #0xa               // 6        w9 = 10\n",
    "    400574:  1ac90d08   sdiv w8, w8, w9             // 6        w8 = w8 / w9\n",
    "    400578:  b9000fe8   str  w8, [sp, #12]          // 6        *(sp+12) = w8\n",
    "    40057c:  b9400fe0   ldr  w0, [sp, #12]          // 8        w0 = *(sp+12)\n",
    "    400580:  910043ff   add  sp, sp, #0x10          // 8        sp = sp + 0x10\n",
    "    400584:  d65f03c0   ret                         // 8        return\n",
    "```"
   ]
  },
  {
   "cell_type": "markdown",
   "id": "ebb176b0-807a-4fe0-95ff-336daec12900",
   "metadata": {
    "tags": [
     "worksheet-only"
    ]
   },
   "source": [
    "```\n",
    "0000000000400544 <adjust>:                          // Line     Low-level C\n",
    "    400544:  d10043ff   sub  sp, sp, #0x10          //\n",
    "    400548:  b9000fe0   str  w0, [sp, #12]          //\n",
    "    40054c:  b9400fe8   ldr  w8, [sp, #12]          //\n",
    "    400550:  7100291f   cmp  w8, #0xa               //\n",
    "    400554:  540000ca   b.ge 40056c <adjust+0x28>   //\n",
    "    400558:  b9400fe8   ldr  w8, [sp, #12]          //\n",
    "    40055c:  52800149   mov  w9, #0xa               //\n",
    "    400560:  1b097d08   mul  w8, w8, w9             //\n",
    "    400564:  b9000fe8   str  w8, [sp, #12]          //\n",
    "    400568:  14000005   b    40057c <adjust+0x38>   //\n",
    "    40056c:  b9400fe8   ldr  w8, [sp, #12]          //\n",
    "    400570:  52800149   mov  w9, #0xa               //\n",
    "    400574:  1ac90d08   sdiv w8, w8, w9             //\n",
    "    400578:  b9000fe8   str  w8, [sp, #12]          //\n",
    "    40057c:  b9400fe0   ldr  w0, [sp, #12]          //\n",
    "    400580:  910043ff   add  sp, sp, #0x10          //\n",
    "    400584:  d65f03c0   ret                         //\n",
    "```"
   ]
  },
  {
   "cell_type": "markdown",
   "id": "d73216e2-ddd8-47ad-81ce-6661c33ec1d8",
   "metadata": {
    "slideshow": {
     "slide_type": "skip"
    },
    "tags": [
     "worksheet-only"
    ]
   },
   "source": [
    "🛑 **STOP here** after completing the above question; if you have extra time please **skip ahead** to the extra practice.\n",
    "\n",
    "<div style=\"page-break-after:always;\"></div>"
   ]
  },
  {
   "cell_type": "markdown",
   "id": "7e7daf30-f7cc-4e7d-8406-4132a56392e9",
   "metadata": {
    "slideshow": {
     "slide_type": "slide"
    },
    "tags": []
   },
   "source": [
    "## Function calls in assembly"
   ]
  },
  {
   "cell_type": "markdown",
   "id": "db94d696-f3ac-4166-afa6-bdbfaa21e04b",
   "metadata": {
    "slideshow": {
     "slide_type": "skip"
    },
    "tags": [
     "notes-only"
    ]
   },
   "source": [
    "* Calling conventions\n",
    "    * _In which registers are parameters stored?_ — `x0`/`w0`, `x1`/`w1`, `x2`/`w2`, ...\n",
    "    * _In which register is the return value stored?_ — `x0`/`w0`\n",
    "    * Return address stored in `x30`\n",
    "    * Caller's return address stored in callee's stack frame\n",
    "* Use `bl` (branch & link) to make a function call\n",
    "    * Store `pc+4` in `x30`\n",
    "    * Update `pc` to specified code address\n",
    "* Example"
   ]
  },
  {
   "cell_type": "code",
   "execution_count": null,
   "id": "9d5e332f-19f5-4180-8de2-1655e73ec25f",
   "metadata": {},
   "outputs": [],
   "source": [
    "/*1*/  int multiply(int a, int b) {\n",
    "/*2*/      int c = a * b;\n",
    "/*3*/      return c;\n",
    "/*4*/  }\n",
    "/*5*/  int volume(int x, int y, int z) {\n",
    "/*6*/      int w = multiply(x, y);\n",
    "/*7*/      w = multiply(w, z);\n",
    "/*8*/      return w;\n",
    "/*9*/  }"
   ]
  },
  {
   "cell_type": "markdown",
   "id": "76f64c74-ee2c-4dd0-ac5d-7bfcd257ba1d",
   "metadata": {
    "slideshow": {
     "slide_type": "skip"
    },
    "tags": [
     "notes-only"
    ]
   },
   "source": [
    "```\n",
    "0000000000400544 <multiply>:                        // Line     Low-level C\n",
    "    400544:    d10043ff     sub    sp, sp, #0x10    // 1        sp = sp - 0x10\n",
    "    400548:    b9000fe0     str    w0, [sp, #12]    // 1        *(sp+12) = w0\n",
    "    40054c:    b9000be1     str    w1, [sp, #8]     // 1        *(sp+12) = w1\n",
    "    400550:    b9400fe8     ldr    w8, [sp, #12]    // 2        w8 = *(sp+12)\n",
    "    400554:    b9400be9     ldr    w9, [sp, #8]     // 2        w9 = *(sp+8)\n",
    "    400558:    1b097d08     mul    w8, w8, w9       // 2        w8 = w8 * w9\n",
    "    40055c:    b90007e8     str    w8, [sp, #4]     // 2        *(sp+4) = w8\n",
    "    400560:    b94007e0     ldr    w0, [sp, #4]     // 3        w0 = *(sp+4)\n",
    "    400564:    910043ff     add    sp, sp, #0x10    // 3        sp = sp + 0x10\n",
    "    400568:    d65f03c0     ret                     // 3        pc = x30\n",
    "```"
   ]
  },
  {
   "cell_type": "markdown",
   "id": "1e1ff9dc-a3a7-4ae2-93a6-1b80ea350852",
   "metadata": {
    "slideshow": {
     "slide_type": "skip"
    },
    "tags": [
     "notes-only"
    ]
   },
   "source": [
    "```\n",
    "000000000040056c <volume>:                          // Line     Low-level C\n",
    "    40056c:    d10083ff     sub    sp, sp, #0x20    // 5        sp = sp - 0x20\n",
    "    400570:    f9000bfe     str    x30, [sp, #16]   // 5        *(sp+16) = x30\n",
    "    400574:    b9000fe0     str    w0, [sp, #12]    // 5        *(sp+12) = w0\n",
    "    400578:    b9000be1     str    w1, [sp, #8]     // 5        *(sp+8) = w1\n",
    "    40057c:    b90007e2     str    w2, [sp, #4]     // 5        *(sp+4) = w2\n",
    "    400580:    b9400fe0     ldr    w0, [sp, #12]    // 6        w0 = *(sp+12)\n",
    "    400584:    b9400be1     ldr    w1, [sp, #8]     // 6        w1 = *(sp+8)\n",
    "    400588:    97ffffef     bl    400544 <multiply> // 6        x30 = pc + 4; pc = 0x400544\n",
    "    40058c:    b90003e0     str    w0, [sp]         // 6        *sp = w0\n",
    "    400590:    b94003e0     ldr    w0, [sp]         // 7        w0 = *sp\n",
    "    400594:    b94007e1     ldr    w1, [sp, #4]     // 7        w1 = *(sp+4)\n",
    "    400598:    97ffffeb     bl    400544 <multiply> // 7        x30 = pc + 4; pc = 0x400544\n",
    "    40059c:    b90003e0     str    w0, [sp]         // 7        *sp = w0\n",
    "    4005a0:    b94003e0     ldr    w0, [sp]         // 8        w0 = *sp\n",
    "    4005a4:    f9400bfe     ldr    x30, [sp, #16]   // 8        x30 = *(sp+16)\n",
    "    4005a8:    910083ff     add    sp, sp, #0x20    // 8        sp = sp + 0x20\n",
    "    4005ac:    d65f03c0     ret                     // 8        pc = x30\n",
    "```"
   ]
  },
  {
   "cell_type": "markdown",
   "id": "256ebaee-79ad-4fea-a5a0-10badb9b5cb4",
   "metadata": {
    "slideshow": {
     "slide_type": "subslide"
    },
    "tags": [
     "worksheet-only"
    ]
   },
   "source": [
    "```\n",
    "0000000000400544 <multiply>:                           // Line     Low-level C\n",
    "    400544:    d10043ff     sub    sp, sp, #0x10       //\n",
    "    400548:    b9000fe0     str    w0, [sp, #12]       //\n",
    "    40054c:    b9000be1     str    w1, [sp, #8]        //\n",
    "    400550:    b9400fe8     ldr    w8, [sp, #12]       //\n",
    "    400554:    b9400be9     ldr    w9, [sp, #8]        //\n",
    "    400558:    1b097d08     mul    w8, w8, w9          //\n",
    "    40055c:    b90007e8     str    w8, [sp, #4]        //\n",
    "    400560:    b94007e0     ldr    w0, [sp, #4]        //\n",
    "    400564:    910043ff     add    sp, sp, #0x10       //\n",
    "    400568:    d65f03c0     ret                        //\n",
    "```"
   ]
  },
  {
   "cell_type": "markdown",
   "id": "e2fb442e-868d-4c71-9c5f-67650f109f63",
   "metadata": {
    "slideshow": {
     "slide_type": "subslide"
    },
    "tags": [
     "worksheet-only"
    ]
   },
   "source": [
    "```\n",
    "000000000040056c <volume>:                             // Line     Low-level C\n",
    "    40056c:    d10083ff     sub    sp, sp, #0x20       //\n",
    "    400570:    f9000bfe     str    x30, [sp, #16]      //\n",
    "    400574:    b9000fe0     str    w0, [sp, #12]       //\n",
    "    400578:    b9000be1     str    w1, [sp, #8]        //\n",
    "    40057c:    b90007e2     str    w2, [sp, #4]        //\n",
    "    400580:    b9400fe0     ldr    w0, [sp, #12]       //\n",
    "    400584:    b9400be1     ldr    w1, [sp, #8]        //\n",
    "    400588:    97ffffef     bl     400544 <multiply>   // \n",
    "    40058c:    b90003e0     str    w0, [sp]            //\n",
    "    400590:    b94003e0     ldr    w0, [sp]            //\n",
    "    400594:    b94007e1     ldr    w1, [sp, #4]        //\n",
    "    400598:    97ffffeb     bl     400544 <multiply>   // \n",
    "    40059c:    b90003e0     str    w0, [sp]            //\n",
    "    4005a0:    b94003e0     ldr    w0, [sp]            //\n",
    "    4005a4:    f9400bfe     ldr    x30, [sp, #16]      //\n",
    "    4005a8:    910083ff     add    sp, sp, #0x20       //\n",
    "    4005ac:    d65f03c0     ret                        //\n",
    "```"
   ]
  },
  {
   "cell_type": "markdown",
   "id": "011fb900-60c2-4330-92d0-d5acc84f2637",
   "metadata": {
    "slideshow": {
     "slide_type": "skip"
    },
    "tags": [
     "worksheet-only"
    ]
   },
   "source": [
    "<div style=\"page-break-after:always;\"></div>"
   ]
  },
  {
   "cell_type": "markdown",
   "id": "ab5e2ae7-487c-407d-a0d1-b4a58fd21ffd",
   "metadata": {
    "slideshow": {
     "slide_type": "subslide"
    },
    "tags": []
   },
   "source": [
    "Q2: _The following C code was compiled into assembly (using `clang`)._"
   ]
  },
  {
   "cell_type": "code",
   "execution_count": null,
   "id": "616ec129-03be-4446-a81f-61cc11f2c8bd",
   "metadata": {},
   "outputs": [],
   "source": [
    "/*10*/  int main() {\n",
    "/*11*/      int n = volume(1, 3, 5);\n",
    "/*12*/      return n; \n",
    "/*13*/  }"
   ]
  },
  {
   "cell_type": "markdown",
   "id": "2a81b102-4df0-4c7f-92da-1c3bd52e7e17",
   "metadata": {
    "slideshow": {
     "slide_type": "skip"
    },
    "tags": []
   },
   "source": [
    "_For each line of assembly:_\n",
    "1. _Indicate which original line of C code (above) the assembly instruction was derived from; and_\n",
    "2. _Write the low-level C code equivalent of the assembly instruction, treating registers as if they were variable names._"
   ]
  },
  {
   "cell_type": "markdown",
   "id": "f5592e97-8ade-4f9d-b785-e2424beea505",
   "metadata": {
    "slideshow": {
     "slide_type": "skip"
    },
    "tags": [
     "notes-only"
    ]
   },
   "source": [
    "```\n",
    "00000000004005b0 <main>:                            // Line     Low-level C\n",
    "    4005b0:    d10083ff     sub    sp, sp, #0x20    // 10       sp = sp - 0x20\n",
    "    4005b4:    f9000bfe     str    x30, [sp, #16]   // 10       *(sp+16) = x30\n",
    "    4005b8:    52800020     mov    w0, #0x1         // 11       w0 = 0x1\n",
    "    4005bc:    52800061     mov    w1, #0x3         // 11       w1 = 0x3\n",
    "    4005c0:    528000a2     mov    w2, #0x5         // 11       w2 = 0x5\n",
    "    4005c4:    97ffffe9     bl    40056c <volume>   // 11       x30 = pc + 4; pc = 0x40056c\n",
    "    4005c8:    b9000be0     str    w0, [sp, #8]     // 11       *(sp+8) = w0\n",
    "    4005cc:    b9400be0     ldr    w0, [sp, #8]     // 12       w0 = *(sp+8)\n",
    "    4005d0:    f9400bfe     ldr    x30, [sp, #16]   // 12       x30 = *(sp+16)\n",
    "    4005d4:    910083ff     add    sp, sp, #0x20    // 12       sp = sp + 0x20\n",
    "    4005d8:    d65f03c0     ret                     // 12       pc = x30\n",
    "```"
   ]
  },
  {
   "cell_type": "markdown",
   "id": "71c2cfb2-faa1-48fc-904c-91e541183201",
   "metadata": {
    "tags": [
     "worksheet-only"
    ]
   },
   "source": [
    "```\n",
    "00000000004005b0 <main>:                               // Line     Low-level C\n",
    "    4005b0:    d10083ff     sub    sp, sp, #0x20       //\n",
    "    4005b4:    f9000bfe     str    x30, [sp, #16]      //\n",
    "    4005b8:    52800020     mov    w0, #0x1            //\n",
    "    4005bc:    52800061     mov    w1, #0x3            //\n",
    "    4005c0:    528000a2     mov    w2, #0x5            //\n",
    "    4005c4:    97ffffe9     bl     40056c <volume>     //\n",
    "    4005c8:    b9000be0     str    w0, [sp, #8]        //\n",
    "    4005cc:    b9400be0     ldr    w0, [sp, #8]        //\n",
    "    4005d0:    f9400bfe     ldr    x30, [sp, #16]      //\n",
    "    4005d4:    910083ff     add    sp, sp, #0x20       //\n",
    "    4005d8:    d65f03c0     ret                        //\n",
    "```"
   ]
  },
  {
   "cell_type": "markdown",
   "id": "581af553-b14d-4d75-ab55-e7485f511b4a",
   "metadata": {
    "slideshow": {
     "slide_type": "skip"
    },
    "tags": [
     "worksheet-only"
    ]
   },
   "source": [
    "<div style=\"page-break-after:always;\"></div>"
   ]
  },
  {
   "cell_type": "markdown",
   "id": "52a00d34-0981-45fc-ba9a-3ff047d682a8",
   "metadata": {
    "slideshow": {
     "slide_type": "slide"
    },
    "tags": []
   },
   "source": [
    "## Extra practice"
   ]
  },
  {
   "cell_type": "markdown",
   "id": "d5358bfd-652e-4c68-9ece-3263651ea34e",
   "metadata": {
    "tags": []
   },
   "source": [
    "Q3: _The following C code was compiled into assembly (using `gcc`). Label each line of assembly code with the line number of the line of C code from which the assembly instruction was derived._ "
   ]
  },
  {
   "cell_type": "code",
   "execution_count": null,
   "id": "ef72b43a-9fa8-4338-9b2f-395707d790eb",
   "metadata": {},
   "outputs": [],
   "source": [
    "/*1*/   int abs(int value) {\n",
    "/*2*/       if (value < 0) {\n",
    "/*3*/           value = value * -1;\n",
    "/*4*/       }\n",
    "/*5*/       return value;\n",
    "/*6*/   }"
   ]
  },
  {
   "cell_type": "markdown",
   "id": "86f16093-48e9-4455-9ce3-0b2003778ab1",
   "metadata": {
    "slideshow": {
     "slide_type": "skip"
    },
    "tags": [
     "notes-only"
    ]
   },
   "source": [
    "```\n",
    "000000000000074c <abs>:\n",
    "    74c:   d10043ff        sub     sp, sp, #0x10    // 1\n",
    "    750:   b9000fe0        str     w0, [sp, #12]    // 1\n",
    "    754:   b9400fe0        ldr     w0, [sp, #12]    // 2\n",
    "    758:   7100001f        cmp     w0, #0x0         // 2 \n",
    "    75c:   5400008a        b.ge    76c <abs+0x20>   // 2\n",
    "    760:   b9400fe0        ldr     w0, [sp, #12]    // 3\n",
    "    764:   4b0003e0        neg     w0, w0           // 3\n",
    "    768:   b9000fe0        str     w0, [sp, #12]    // 3\n",
    "    76c:   b9400fe0        ldr     w0, [sp, #12]    // 5\n",
    "    770:   910043ff        add     sp, sp, #0x10    // 5\n",
    "    774:   d65f03c0        ret                      // 5\n",
    "``` "
   ]
  },
  {
   "cell_type": "markdown",
   "id": "d9a0d7c4-08e5-4f5c-ad98-51d34328ea60",
   "metadata": {
    "slideshow": {
     "slide_type": "skip"
    },
    "tags": [
     "worksheet-only"
    ]
   },
   "source": [
    "```\n",
    "000000000000074c <abs>:\n",
    "    74c:   d10043ff        sub     sp, sp, #0x10    // \n",
    "    750:   b9000fe0        str     w0, [sp, #12]    // \n",
    "    754:   b9400fe0        ldr     w0, [sp, #12]    // \n",
    "    758:   7100001f        cmp     w0, #0x0         // \n",
    "    75c:   5400008a        b.ge    76c <abs+0x20>   // \n",
    "    760:   b9400fe0        ldr     w0, [sp, #12]    // \n",
    "    764:   4b0003e0        neg     w0, w0           // \n",
    "    768:   b9000fe0        str     w0, [sp, #12]    // \n",
    "    76c:   b9400fe0        ldr     w0, [sp, #12]    // \n",
    "    770:   910043ff        add     sp, sp, #0x10    // \n",
    "    774:   d65f03c0        ret                      // \n",
    "``` "
   ]
  },
  {
   "cell_type": "markdown",
   "id": "8a9dff9f-2c31-4886-8c36-9959e709988a",
   "metadata": {
    "slideshow": {
     "slide_type": "subslide"
    },
    "tags": []
   },
   "source": [
    "Q4: _The following C code was compiled into assembly (using `clang`). For each line of assembly, indicate which original line of C code the assembly instruction was derived from._"
   ]
  },
  {
   "cell_type": "code",
   "execution_count": null,
   "id": "19e6e127-15ac-4cca-9b40-6a6d0ae61ad5",
   "metadata": {},
   "outputs": [],
   "source": [
    "/* 1*/  int sum(int a, int b) {\n",
    "/* 2*/      int c = a + b;\n",
    "/* 3*/      return c;\n",
    "/* 4*/  }\n",
    "/* 5*/  int triple(int u, int v) {\n",
    "/* 6*/      int r = 3;\n",
    "/* 7*/      int s = sum(u, v);\n",
    "/* 8*/      int t = s * r;\n",
    "/* 9*/      return t;\n",
    "/*10*/  }\n",
    "/*11*/  int main() {\n",
    "/*12*/      int x = 2;\n",
    "/*13*/      int y = 3;\n",
    "/*14*/      int z = triple(x, y);\n",
    "/*15*/      return z;\n",
    "/*16*/  }"
   ]
  },
  {
   "cell_type": "markdown",
   "id": "885ce0aa-030a-4ba9-ac4a-6f5b87fdef3c",
   "metadata": {
    "slideshow": {
     "slide_type": "skip"
    },
    "tags": [
     "notes-only"
    ]
   },
   "source": [
    "```\n",
    "0000000000400544 <sum>:\n",
    "    400544:    d10043ff     sub    sp, sp, #0x10   // 1 \n",
    "    400548:    b9000fe0     str    w0, [sp, #12]   // 1\n",
    "    40054c:    b9000be1     str    w1, [sp, #8]    // 1\n",
    "    400550:    b9400fe8     ldr    w8, [sp, #12]   // 2\n",
    "    400554:    b9400be9     ldr    w9, [sp, #8]    // 2\n",
    "    400558:    0b090108     add    w8, w8, w9      // 2\n",
    "    40055c:    b90007e8     str    w8, [sp, #4]    // 2\n",
    "    400560:    b94007e0     ldr    w0, [sp, #4]    // 3\n",
    "    400564:    910043ff     add    sp, sp, #0x10   // 3\n",
    "    400568:    d65f03c0     ret                    // 3\n",
    "000000000040056c <triple>:\n",
    "    40056c:    d100c3ff     sub    sp, sp, #0x30   // 5\n",
    "    400570:    f90013fe     str    x30, [sp, #32]  // 5\n",
    "    400574:    b9001fe0     str    w0, [sp, #28]   // 5\n",
    "    400578:    b9001be1     str    w1, [sp, #24]   // 5\n",
    "    40057c:    52800068     mov    w8, #0x3        // 6\n",
    "    400580:    b90017e8     str    w8, [sp, #20]   // 6\n",
    "    400584:    b9401fe0     ldr    w0, [sp, #28]   // 7\n",
    "    400588:    b9401be1     ldr    w1, [sp, #24]   // 7\n",
    "    40058c:    97ffffee     bl     400544 <sum>    // 7\n",
    "    400590:    b90013e0     str    w0, [sp, #16]   // 7\n",
    "    400594:    b94013e8     ldr    w8, [sp, #16]   // 8\n",
    "    400598:    b94017e9     ldr    w9, [sp, #20]   // 8\n",
    "    40059c:    1b097d08     mul    w8, w8, w9      // 8\n",
    "    4005a0:    b9000fe8     str    w8, [sp, #12]   // 8\n",
    "    4005a4:    b9400fe0     ldr    w0, [sp, #12]   // 9\n",
    "    4005a8:    f94013fe     ldr    x30, [sp, #32]  // 9\n",
    "    4005ac:    9100c3ff     add    sp, sp, #0x30   // 9\n",
    "    4005b0:    d65f03c0     ret                    // 9\n",
    "00000000004005b4 <main>:\n",
    "    4005b4:    d10083ff     sub    sp, sp, #0x20   // 11\n",
    "    4005b8:    f9000bfe     str    x30, [sp, #16]  // 11\n",
    "    4005bc:    52800048     mov    w8, #0x2        // 12\n",
    "    4005c0:    b9000be8     str    w8, [sp, #8]    // 12\n",
    "    4005c4:    52800069     mov    w9, #0x3        // 13\n",
    "    4005c8:    b90007e9     str    w9, [sp, #4]    // 13\n",
    "    4005cc:    b9400be0     ldr    w0, [sp, #8]    // 14\n",
    "    4005d0:    b94007e1     ldr    w1, [sp, #4]    // 14\n",
    "    4005d4:    97ffffe5     bl    410056c <triple> // 14\n",
    "    4005d8:    b90003e0     str    w0, [sp]        // 14\n",
    "    4005dc:    b94003e0     ldr    w0, [sp]        // 15\n",
    "    4005e0:    f9400bfe     ldr    x30, [sp, #16]  // 15\n",
    "    4005e4:    910083ff     add    sp, sp, #0x20   // 15\n",
    "    4005e8:    d65f03c0     ret                    // 15\n",
    "```"
   ]
  },
  {
   "cell_type": "markdown",
   "id": "ad4caeb0-c3b2-4a26-8014-35b26d166d31",
   "metadata": {
    "slideshow": {
     "slide_type": "subslide"
    },
    "tags": [
     "worksheet-only"
    ]
   },
   "source": [
    "```\n",
    "0000000000400544 <sum>:\n",
    "    400544:    d10043ff     sub    sp, sp, #0x10   // \n",
    "    400548:    b9000fe0     str    w0, [sp, #12]   // \n",
    "    40054c:    b9000be1     str    w1, [sp, #8]    // \n",
    "    400550:    b9400fe8     ldr    w8, [sp, #12]   // \n",
    "    400554:    b9400be9     ldr    w9, [sp, #8]    // \n",
    "    400558:    0b090108     add    w8, w8, w9      // \n",
    "    40055c:    b90007e8     str    w8, [sp, #4]    // \n",
    "    400560:    b94007e0     ldr    w0, [sp, #4]    // \n",
    "    400564:    910043ff     add    sp, sp, #0x10   // \n",
    "    400568:    d65f03c0     ret                    // \n",
    "000000000040056c <triple>:\n",
    "    40056c:    d100c3ff     sub    sp, sp, #0x30   // \n",
    "    400570:    f90013fe     str    x30, [sp, #32]  // \n",
    "    400574:    b9001fe0     str    w0, [sp, #28]   // \n",
    "    400578:    b9001be1     str    w1, [sp, #24]   // \n",
    "    40057c:    52800068     mov    w8, #0x3        // \n",
    "    400580:    b90017e8     str    w8, [sp, #20]   // \n",
    "    400584:    b9401fe0     ldr    w0, [sp, #28]   // \n",
    "    400588:    b9401be1     ldr    w1, [sp, #24]   // \n",
    "    40058c:    97ffffee     bl     400544 <sum>    //  \n",
    "    400590:    b90013e0     str    w0, [sp, #16]   // \n",
    "    400594:    b94013e8     ldr    w8, [sp, #16]   // \n",
    "    400598:    b94017e9     ldr    w9, [sp, #20]   // \n",
    "    40059c:    1b097d08     mul    w8, w8, w9      // \n",
    "    4005a0:    b9000fe8     str    w8, [sp, #12]   // \n",
    "    4005a4:    b9400fe0     ldr    w0, [sp, #12]   // \n",
    "    4005a8:    f94013fe     ldr    x30, [sp, #32]  // \n",
    "    4005ac:    9100c3ff     add    sp, sp, #0x30   // \n",
    "    4005b0:    d65f03c0     ret                    // \n",
    "00000000004005b4 <main>:\n",
    "    4005b4:    d10083ff     sub    sp, sp, #0x20   // \n",
    "    4005b8:    f9000bfe     str    x30, [sp, #16]  // \n",
    "    4005bc:    52800048     mov    w8, #0x2        // \n",
    "    4005c0:    b9000be8     str    w8, [sp, #8]    // \n",
    "    4005c4:    52800069     mov    w9, #0x3        // \n",
    "    4005c8:    b90007e9     str    w9, [sp, #4]    // \n",
    "    4005cc:    b9400be0     ldr    w0, [sp, #8]    // \n",
    "    4005d0:    b94007e1     ldr    w1, [sp, #4]    // \n",
    "    4005d4:    97ffffe5     bl     40056c <triple> //  \n",
    "    4005d8:    b90003e0     str    w0, [sp]        // \n",
    "    4005dc:    b94003e0     ldr    w0, [sp]        // \n",
    "    4005e0:    f9400bfe     ldr    x30, [sp, #16]  // \n",
    "    4005e4:    910083ff     add    sp, sp, #0x20   // \n",
    "    4005e8:    d65f03c0     ret                    // \n",
    "```"
   ]
  },
  {
   "cell_type": "markdown",
   "id": "518f5f96-7a19-4249-93ea-d50d16e5e029",
   "metadata": {
    "slideshow": {
     "slide_type": "subslide"
    },
    "tags": []
   },
   "source": [
    "Q5: _Draw the contents of the stack and registers just prior to the execution of the second-to-last assembly instruction in `sum`. Assume the registers have the following initial values:_\n",
    "\n",
    "* `pc` = `0x4005b4` \n",
    "* `sp` = `0xF80`\n",
    "* `x30` = `0x400488`"
   ]
  }
 ],
 "metadata": {
  "kernelspec": {
   "display_name": "C",
   "language": "c",
   "name": "c"
  },
  "language_info": {
   "file_extension": ".c",
   "mimetype": "c",
   "name": "c"
  }
 },
 "nbformat": 4,
 "nbformat_minor": 5
}
