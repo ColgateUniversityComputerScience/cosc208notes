{
 "cells": [
  {
   "cell_type": "markdown",
   "id": "9b787d24-b0a3-4cd7-8d2c-09e9c528bc86",
   "metadata": {
    "slideshow": {
     "slide_type": "skip"
    },
    "tags": []
   },
   "source": [
    "# C: using libraries; stack frames\n",
    "_COSC 208, Introduction to Computer Systems, 2023-01-30_"
   ]
  },
  {
   "cell_type": "markdown",
   "id": "fdb10925-6ecd-4582-8ea9-6cb786174d09",
   "metadata": {
    "slideshow": {
     "slide_type": "skip"
    },
    "tags": []
   },
   "source": [
    "## Announcements\n",
    "* DEI assignment 1 due Thurs, Feb 9 @ 11pm"
   ]
  },
  {
   "cell_type": "markdown",
   "id": "3770316d-e35c-486c-802a-a19d5b4981f2",
   "metadata": {
    "slideshow": {
     "slide_type": "skip"
    },
    "tags": []
   },
   "source": [
    "## Outline\n",
    "* Warm-up\n",
    "* Using libraries\n",
    "* Stack frames"
   ]
  },
  {
   "cell_type": "markdown",
   "id": "ea619d9c-6bbb-4372-b4cd-2f7e80c405a7",
   "metadata": {
    "slideshow": {
     "slide_type": "slide"
    },
    "tags": []
   },
   "source": [
    "## Warm-up\n",
    "* In the biological process of cell division, each cell divides into two cells and the process repeats.\n",
    "* Q1: _Write a function called `cells` that takes the number of rounds of cell division that occur and computes the total number of cells that will exist after the specified number of rounds (assuming you started with a single cell)._"
   ]
  },
  {
   "cell_type": "code",
   "execution_count": 7,
   "id": "b3eb574a-d3f8-4b28-ad7c-0d150ff63855",
   "metadata": {
    "slideshow": {
     "slide_type": "skip"
    },
    "tags": [
     "notes-only"
    ]
   },
   "outputs": [],
   "source": [
    "int cells(int rounds) {\n",
    "    int total = 1;\n",
    "    for (int i = 0; i < rounds; i++) {\n",
    "        total = total * 2;\n",
    "    }\n",
    "    return total;\n",
    "}\n",
    "// Testing code\n",
    "#include <assert.h>\n",
    "int main() {\n",
    "    assert(cells(0) == 1);\n",
    "    assert(cells(1) == 2);\n",
    "    assert(cells(8) == 256);\n",
    "}"
   ]
  },
  {
   "cell_type": "markdown",
   "id": "cedfa048-a66e-4710-9bc2-32bff5c515c7",
   "metadata": {
    "slideshow": {
     "slide_type": "skip"
    },
    "tags": [
     "worksheet-only"
    ]
   },
   "source": [
    "<div style=\"height:20em;\"></div>"
   ]
  },
  {
   "cell_type": "markdown",
   "id": "27b5f2f4-6070-496d-a679-9399fa2322eb",
   "metadata": {},
   "source": [
    "* Q2: _Write a function called `rounds` that takes the number of cells that should exist and computes the number of rounds of cell division that must occur to have at least that many cells (assuming you started with a single cell)._"
   ]
  },
  {
   "cell_type": "code",
   "execution_count": 9,
   "id": "59530c5d-d297-4a92-ad30-8471bf104f1b",
   "metadata": {
    "slideshow": {
     "slide_type": "skip"
    },
    "tags": [
     "notes-only"
    ]
   },
   "outputs": [],
   "source": [
    "int rounds(int cells) {\n",
    "    int total = 1;\n",
    "    int rounds = 0;\n",
    "    while (total < cells) {\n",
    "        total *= 2;\n",
    "        rounds++;\n",
    "    }\n",
    "    return rounds;\n",
    "}\n",
    "// Testing code\n",
    "#include <assert.h>\n",
    "int main() {\n",
    "    assert(rounds(1) == 0);\n",
    "    assert(rounds(2) == 1);\n",
    "    assert(rounds(250) == 8);\n",
    "    assert(rounds(256) == 8);\n",
    "}"
   ]
  },
  {
   "cell_type": "markdown",
   "id": "e353de13-cbd2-4a70-81e8-afbcdadc79a9",
   "metadata": {
    "slideshow": {
     "slide_type": "skip"
    },
    "tags": [
     "worksheet-only"
    ]
   },
   "source": [
    "<div style=\"height:20em;\"></div>\n",
    "\n",
    "🛑 **STOP here** after completing the warm-up; if you have extra time please **skip ahead** to the extra practice.\n",
    "\n",
    "<div style=\"page-break-after:always;\"></div>"
   ]
  },
  {
   "cell_type": "markdown",
   "id": "50b8ef3f-5672-419e-b9cb-42a17c145b09",
   "metadata": {
    "slideshow": {
     "slide_type": "skip"
    },
    "tags": [
     "notes-only"
    ]
   },
   "source": [
    "## Using libraries\n",
    "* Could use exponent to compute number of cells and logarithm to compute number of rounds\n",
    "* Provided by math library — `#include <math.h>`\n",
    "    * `double pow(double x, double y);`\n",
    "    * `double log2(double x);`\n",
    "* Aside: calculations involving decimal points suffer from small rounding errors, but we are going to using the integer ceiling of the result, so the rounding errors won't be a problem\n",
    "    * `double round(double x);`\n",
    "    * `double ceil(double x);`"
   ]
  },
  {
   "cell_type": "code",
   "execution_count": 14,
   "id": "65d004dc-5d08-4438-855d-1688cf2a43cb",
   "metadata": {
    "slideshow": {
     "slide_type": "skip"
    },
    "tags": [
     "notes-only"
    ]
   },
   "outputs": [],
   "source": [
    "#include <math.h>\n",
    "int cells(int rounds) {\n",
    "    double total = pow(2, rounds);\n",
    "    total = round(total);\n",
    "    return (int)total;\n",
    "} \n",
    "int rounds(int cells) {\n",
    "    double rounds = log2(cells);\n",
    "    rounds = ceil(rounds);\n",
    "    return (int)rounds; // Type cast to integer\n",
    "}\n",
    "// Testing code\n",
    "#include <assert.h>\n",
    "int main() {\n",
    "    assert(cells(4) == 16);\n",
    "    assert(rounds(16) == 4);\n",
    "}"
   ]
  },
  {
   "cell_type": "markdown",
   "id": "dc065200-13af-4362-81dc-901f511273a0",
   "metadata": {
    "slideshow": {
     "slide_type": "skip"
    },
    "tags": [
     "notes-only"
    ]
   },
   "source": [
    "* Compilation error — Why?\n",
    "```bash\n",
    "$ gcc -Wall -o cell_division cell_division.c\n",
    "/usr/bin/ld: /tmp/cell_division-810d67.o: in function `cells':\n",
    "cell_division.c:(.text+0x1c): undefined reference to `pow'\n",
    "/usr/bin/ld: /tmp/cell_division-810d67.o: in function `rounds':\n",
    "cell_division.c:(.text+0x5c): undefined reference to `log2'\n",
    "clang: error: linker command failed with exit code 1 (use -v to see invocation)\n",
    "```\n",
    "* Need to tell compiler to \"link\" to a library\n",
    "* Library contains pre-compiled code\n",
    "* Recall: header file contains function prototypes, which allows compiler to know what functions are available in the library\n",
    "* At runtime, executable and referenced libraries are loaded into memory"
   ]
  },
  {
   "cell_type": "markdown",
   "id": "8f0d2cb0-995d-4e40-a463-a46371c5983c",
   "metadata": {
    "slideshow": {
     "slide_type": "slide"
    },
    "tags": []
   },
   "source": [
    "## Program stack"
   ]
  },
  {
   "cell_type": "markdown",
   "id": "3977874a-3b3d-404b-ba11-bc63709e9fd6",
   "metadata": {
    "slideshow": {
     "slide_type": "skip"
    },
    "tags": [
     "notes-only"
    ]
   },
   "source": [
    "* Stores data for functions that are currently executing\n",
    "* Stored in random access memory (RAM)\n",
    "* Composed of stack frames\n",
    "    * A stack frame contains the values stored in a functions's local variables and formal parameters\n",
    "    * The size of the stack frame is determined by the number and type of local variables and formal parameters\n",
    "    * A stack frame is added to the top of the stack when a function is called\n",
    "    * A stack frame is removed from the top of the stack when a function returns"
   ]
  },
  {
   "cell_type": "markdown",
   "id": "d78a26cc-d4db-40f5-b839-03bf24f60a33",
   "metadata": {},
   "source": [
    "* Example"
   ]
  },
  {
   "cell_type": "code",
   "execution_count": 16,
   "id": "6a156a86-d715-4216-a800-034192330f39",
   "metadata": {
    "tags": [
     "worksheet-code-only"
    ]
   },
   "outputs": [
    {
     "name": "stdout",
     "output_type": "stream",
     "text": [
      "68F is 20C\n"
     ]
    }
   ],
   "source": [
    "#include <stdio.h>\n",
    "int multiply(int z) {\n",
    "    return z * 5 / 9;\n",
    "}\n",
    "int subtract(int x, int y) {\n",
    "    return x - y;\n",
    "}\n",
    "int convert(int t) {\n",
    "    int u = subtract(t, 32);\n",
    "    int v = multiply(u);\n",
    "    return v;\n",
    "}\n",
    "int main() {\n",
    "    int f = 68;\n",
    "    int c = convert(68);\n",
    "    printf(\"%dF is %dC\\n\", f, c); \n",
    "}"
   ]
  },
  {
   "cell_type": "markdown",
   "id": "1b5a6bb7-1b66-486e-8000-5a13b073fa9e",
   "metadata": {
    "slideshow": {
     "slide_type": "skip"
    },
    "tags": [
     "worksheet-only"
    ]
   },
   "source": [
    "<div style=\"height:25em;\"></div>"
   ]
  },
  {
   "cell_type": "markdown",
   "id": "c762ec3b-54d6-44a9-a83a-e90e880cd9cd",
   "metadata": {
    "slideshow": {
     "slide_type": "skip"
    },
    "tags": [
     "notes-only"
    ]
   },
   "source": [
    "* C is pass-by-value → changes made to a variable inside a function will not be preserved outside of the function"
   ]
  },
  {
   "cell_type": "markdown",
   "id": "5d03c655-307f-4a6a-ab73-a44e819b6c73",
   "metadata": {
    "slideshow": {
     "slide_type": "subslide"
    },
    "tags": []
   },
   "source": [
    "* Q3: _What is the output of this program?_"
   ]
  },
  {
   "cell_type": "code",
   "execution_count": 17,
   "id": "5153e7e0-7a18-4c5e-b1be-51eedd25fa71",
   "metadata": {
    "tags": [
     "worksheet-code-only"
    ]
   },
   "outputs": [
    {
     "name": "stdout",
     "output_type": "stream",
     "text": [
      "3 7 7\n"
     ]
    }
   ],
   "source": [
    "#include <stdio.h>\n",
    "int copy(int a, int b) {\n",
    "    a = b;\n",
    "    return a;\n",
    "}\n",
    "int main() {\n",
    "    int x = 3;\n",
    "    int y = 7;\n",
    "    int z = copy(x, y);\n",
    "    printf(\"%d %d %d\\n\", x, y, z);\n",
    "}"
   ]
  },
  {
   "cell_type": "markdown",
   "id": "3818b176-e1ba-41f4-b696-21cc51f7be88",
   "metadata": {
    "slideshow": {
     "slide_type": "skip"
    },
    "tags": [
     "worksheet-only"
    ]
   },
   "source": [
    "<div style=\"page-break-after:always;\"></div>"
   ]
  },
  {
   "cell_type": "markdown",
   "id": "37c5d09c-4524-470d-b9a6-5b02c0fdd30f",
   "metadata": {
    "slideshow": {
     "slide_type": "slide"
    },
    "tags": []
   },
   "source": [
    "## Extra practice\n",
    "* Q4: _Write a function called `print_x` that takes an integer n that prints the letter `X` n lines high and n characters wide. You can assume n is an odd number. For example, if n = 9, the program's output would be:_\n",
    "    ```\n",
    "    \\       /\n",
    "     \\     /\n",
    "      \\   /\n",
    "       \\ /\n",
    "        X\n",
    "       / \\\n",
    "      /   \\\n",
    "     /     \\\n",
    "    /       \\\n",
    "    ```"
   ]
  },
  {
   "cell_type": "code",
   "execution_count": 23,
   "id": "7715520d-d856-4790-b8bf-bcc5f1f00184",
   "metadata": {
    "slideshow": {
     "slide_type": "skip"
    },
    "tags": [
     "notes-only"
    ]
   },
   "outputs": [
    {
     "name": "stdout",
     "output_type": "stream",
     "text": [
      "\\ /\n",
      " X \n",
      "/ \\\n",
      "\\       /\n",
      " \\     / \n",
      "  \\   /  \n",
      "   \\ /   \n",
      "    X    \n",
      "   / \\   \n",
      "  /   \\  \n",
      " /     \\ \n",
      "/       \\\n"
     ]
    }
   ],
   "source": [
    "#include <stdio.h>\n",
    "void print_x_helper(int n, int r) {\n",
    "    for (int c = 0; c < n; c++) {\n",
    "        if (c == r) {\n",
    "            printf(\"\\\\\");\n",
    "        }\n",
    "        else if (c == n-1-r) {\n",
    "            printf(\"/\");\n",
    "        }\n",
    "        else {\n",
    "            printf(\" \" );\n",
    "        }\n",
    "    }\n",
    "    printf(\"\\n\");\n",
    "}\n",
    "void print_x(int n) {\n",
    "    int r = 0;\n",
    "    while (r < n/2) {\n",
    "        print_x_helper(n, r);\n",
    "        r++;\n",
    "    }\n",
    "    for (int c = 0; c < n; c++) {\n",
    "        if (c == r) {\n",
    "            printf(\"X\");\n",
    "        }\n",
    "        else {\n",
    "            printf(\" \");\n",
    "        }\n",
    "    }\n",
    "    printf(\"\\n\");\n",
    "    r++;\n",
    "    while (r < n) {\n",
    "        print_x_helper(n, r);\n",
    "        r++;\n",
    "    }\n",
    "}\n",
    "// Testing\n",
    "int main() {\n",
    "    print_x(3);\n",
    "    print_x(9);\n",
    "}"
   ]
  },
  {
   "cell_type": "markdown",
   "id": "35baaf3c-1a98-4198-82e7-8f6b731e1667",
   "metadata": {
    "slideshow": {
     "slide_type": "skip"
    },
    "tags": [
     "worksheet-only"
    ]
   },
   "source": [
    "<div style=\"page-break-after:always;\"></div>"
   ]
  },
  {
   "cell_type": "markdown",
   "id": "501baf2b-3769-451e-8fd3-ff75a9bd53be",
   "metadata": {
    "slideshow": {
     "slide_type": "subslide"
    },
    "tags": []
   },
   "source": [
    "* Q5: _Draw the contents of the stack immediately before the program prints \"1 x 2\"_"
   ]
  },
  {
   "cell_type": "code",
   "execution_count": 24,
   "id": "791e250e-1fb6-48f8-9a62-1873fcfb5428",
   "metadata": {
    "tags": [
     "worksheet-code-only"
    ]
   },
   "outputs": [
    {
     "name": "stdout",
     "output_type": "stream",
     "text": [
      "3^2 is 9\n",
      "1 x 2\n",
      "2 x 2\n",
      "4 x 2\n",
      "2^3 is 8\n"
     ]
    }
   ],
   "source": [
    "#include <stdio.h>\n",
    "int squared(int base) {\n",
    "    return base * base;\n",
    "}\n",
    "int dbl(int num) {\n",
    "    printf(\"%d x 2\\n\", num);\n",
    "    return num * 2;   \n",
    "}\n",
    "int two(int exponent) {\n",
    "    int result = 1;\n",
    "    for (int i = 0; i < exponent; i++) {\n",
    "        result = dbl(result);\n",
    "    }\n",
    "    return result;\n",
    "}\n",
    "int main() {\n",
    "    int n = 3;\n",
    "    int s = squared(3);\n",
    "    printf(\"%d^2 is %d\\n\", n, s);\n",
    "    int t = two(3);\n",
    "    printf(\"2^%d is %d\\n\", n, t);\n",
    "}"
   ]
  },
  {
   "cell_type": "markdown",
   "id": "de17154b-28c8-428d-a0b3-470682c0af87",
   "metadata": {
    "slideshow": {
     "slide_type": "skip"
    },
    "tags": [
     "notes-only"
    ]
   },
   "source": [
    "* Use [C tutor](https://pythontutor.com/c.html) to visualize the execution of this program and check your drawing"
   ]
  }
 ],
 "metadata": {
  "kernelspec": {
   "display_name": "C",
   "language": "c",
   "name": "c"
  },
  "language_info": {
   "file_extension": ".c",
   "mimetype": "c",
   "name": "c"
  }
 },
 "nbformat": 4,
 "nbformat_minor": 5
}
