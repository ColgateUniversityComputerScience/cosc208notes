{
 "cells": [
  {
   "cell_type": "markdown",
   "id": "ffc437ac-d10b-4d12-895d-712e9c2057b5",
   "metadata": {
    "slideshow": {
     "slide_type": "skip"
    },
    "tags": []
   },
   "source": [
    "# Efficiency: writing multi-threaded programs\n",
    "_COSC 208, Introduction to Computer Systems, 2023-11-27_"
   ]
  },
  {
   "cell_type": "markdown",
   "id": "c377c966-ee4b-4990-a6e6-a2d8f327a112",
   "metadata": {
    "slideshow": {
     "slide_type": "slide"
    },
    "tags": []
   },
   "source": [
    "## Announcements\n",
    "* Project 4 due Thurs, Dec 7"
   ]
  },
  {
   "cell_type": "markdown",
   "id": "377e6d68-2202-4782-afc7-a43582630f55",
   "metadata": {
    "slideshow": {
     "slide_type": "slide"
    },
    "tags": []
   },
   "source": [
    "## Outline\n",
    "* Threads and memory\n",
    "* pthreads API\n",
    "* Creating multiple threads\n",
    "* Returning values from threads\n",
    "* Practice writing multi-threaded programs"
   ]
  },
  {
   "cell_type": "markdown",
   "id": "c180faf7-c8b5-44eb-836d-986ce006971a",
   "metadata": {
    "slideshow": {
     "slide_type": "slide"
    },
    "tags": []
   },
   "source": [
    "## Threads and memory"
   ]
  },
  {
   "cell_type": "markdown",
   "id": "21b8d1bd-b63a-4d74-bdc0-e44999dae28c",
   "metadata": {
    "slideshow": {
     "slide_type": "skip"
    },
    "tags": [
     "notes-only"
    ]
   },
   "source": [
    "* Threads are multiple execution contexts within the **same process**\n",
    "    * Processes are multiple execution contexts within the **same machine**\n",
    "* Because threads are within the same process, they share all of the process’s resources — memory, CPU time, file descriptors (i.e., open files), etc.\n",
    "* Consequently, two threads can update the same variable"
   ]
  },
  {
   "cell_type": "markdown",
   "id": "ddc79482-3025-4d89-8879-7991c1ad4b42",
   "metadata": {
    "slideshow": {
     "slide_type": "subslide"
    },
    "tags": []
   },
   "source": [
    "* Example"
   ]
  },
  {
   "cell_type": "code",
   "execution_count": 1,
   "id": "c0e769ea-9ada-44ac-a832-d9106a4f3853",
   "metadata": {
    "tags": []
   },
   "outputs": [],
   "source": [
    "#include <stdio.h>\n",
    "#include <stdlib.h>\n",
    "void *thread1_main(void *arg) {\n",
    "    int *x = (int *)arg;\n",
    "    *x += 1;\n",
    "    return NULL;\n",
    "}\n",
    "void *thread2_main(void *arg) {\n",
    "    int *y = (int *)arg;\n",
    "    *y += 2;\n",
    "    return NULL;\n",
    "}\n",
    "int main() {\n",
    "    int *z = malloc(sizeof(int));\n",
    "    *z = 0;\n",
    "    // Create thread running thread1_main(z)\n",
    "    // Create thread running thread2_main(z)\n",
    "    // Wait for threads to finish\n",
    "    printf(\"z is %d\\n\", *z);\n",
    "}"
   ]
  },
  {
   "cell_type": "markdown",
   "id": "51d1bcf2-c083-4e5b-bfb7-fbe404297a4e",
   "metadata": {
    "slideshow": {
     "slide_type": "skip"
    },
    "tags": [
     "notes-only"
    ]
   },
   "source": [
    "```\n",
    "z is 3\n",
    "```"
   ]
  },
  {
   "cell_type": "markdown",
   "id": "9879f8be-29f5-43fc-a7e3-7b5fc782fcc0",
   "metadata": {
    "slideshow": {
     "slide_type": "skip"
    },
    "tags": [
     "notes-only"
    ]
   },
   "source": [
    "* Two processes cannot update the same variable — memory is not shared; must use inter-process communication mechanism to share information"
   ]
  },
  {
   "cell_type": "markdown",
   "id": "9b30fd5b-7906-4d4c-b292-e2d9599b3bdb",
   "metadata": {
    "slideshow": {
     "slide_type": "skip"
    },
    "tags": [
     "worksheet-only"
    ]
   },
   "source": [
    "<div style=\"page-break-after:always;\"></div>"
   ]
  },
  {
   "cell_type": "markdown",
   "id": "e369ecfb-aecf-4cfd-8ada-44792911c7b3",
   "metadata": {
    "slideshow": {
     "slide_type": "subslide"
    },
    "tags": []
   },
   "source": [
    "* Q1: _What are all possible outputs produced by this program?_"
   ]
  },
  {
   "cell_type": "code",
   "execution_count": null,
   "id": "a27d981b-7ebc-4472-8ed3-caa94fefc725",
   "metadata": {},
   "outputs": [],
   "source": [
    "#include <stdio.h>\n",
    "#include <stdlib.h>\n",
    "void *increment(void *arg) {\n",
    "    int *num = (int*)arg;\n",
    "    *num += 1;\n",
    "    return NULL;\n",
    "}\n",
    "void *zero(void *arg) {\n",
    "    int *num = (int*)arg;\n",
    "    *num = 0;\n",
    "    return NULL;\n",
    "}\n",
    "int main() {\n",
    "    int *i = malloc(sizeof(int));\n",
    "    *i = 5;\n",
    "    // Create thread running increment(i)\n",
    "    // Create thread running zero(i)\n",
    "    // Wait for threads to finish\n",
    "    printf(\"i=%d\\n\", *i);\n",
    "}"
   ]
  },
  {
   "cell_type": "markdown",
   "id": "651f6149-68ce-474b-8afc-9fcb04859531",
   "metadata": {
    "slideshow": {
     "slide_type": "skip"
    },
    "tags": [
     "notes-only"
    ]
   },
   "source": [
    "```\n",
    "i=0\n",
    "```\n",
    "OR\n",
    "```\n",
    "i=1\n",
    "```"
   ]
  },
  {
   "cell_type": "markdown",
   "id": "07069f03-1133-451c-88e5-62fdee86b6fe",
   "metadata": {
    "slideshow": {
     "slide_type": "skip"
    },
    "tags": [
     "worksheet-only"
    ]
   },
   "source": [
    "<p style=\"height:10em;\"></p>"
   ]
  },
  {
   "cell_type": "markdown",
   "id": "bf90d4fb-62a5-40fa-883e-c10a9871e67c",
   "metadata": {
    "slideshow": {
     "slide_type": "slide"
    },
    "tags": []
   },
   "source": [
    "## pthreads API"
   ]
  },
  {
   "cell_type": "markdown",
   "id": "84882667-736f-4e75-ae06-aa28df9b164d",
   "metadata": {
    "slideshow": {
     "slide_type": "subslide"
    },
    "tags": []
   },
   "source": [
    "Q2: _Consider the following program:_"
   ]
  },
  {
   "cell_type": "code",
   "execution_count": null,
   "id": "7c4923da-6142-4362-8dbc-cb9426655900",
   "metadata": {},
   "outputs": [],
   "source": [
    "/* 1*/  #include <pthread.h>\n",
    "/* 2*/  #include <stdio.h>\n",
    "/* 3*/  #include <string.h>\n",
    "/* 4*/  void word_count(char *str) {\n",
    "/* 5*/      int count = 1;\n",
    "/* 6*/      for (int i = 0; i < strlen(str); i++) {\n",
    "/* 7*/          if (str[i] == ' ') {\n",
    "/* 8*/              count++;\n",
    "/* 9*/          }\n",
    "/*10*/     }\n",
    "/*11*/     printf(\"%d words\\n\", count);\n",
    "/*12*/  }\n",
    "/*13*/  int main(int argc, char *argv[]) {\n",
    "/*14*/      char *str = \"I love CS\";\n",
    "/*15*/      pthread_t thr;\n",
    "/*16*/      pthread_create(thr, NULL, &word_count, str);\n",
    "/*17*/      pthread_join(thr);\n",
    "/*18*/  }"
   ]
  },
  {
   "cell_type": "markdown",
   "id": "ab8bf34d-ca0c-4c67-aa41-2e68b1fb39d7",
   "metadata": {
    "slideshow": {
     "slide_type": "subslide"
    },
    "tags": []
   },
   "source": [
    "_Compiling this program with `gcc` results in the following errors:_"
   ]
  },
  {
   "cell_type": "markdown",
   "id": "3821cbe9-d189-4432-b1d7-b928964fbab8",
   "metadata": {},
   "source": [
    "```\n",
    "buggy_noreturn.c:16:20: warning: passing argument 1 of ‘pthread_create’ \n",
    "makes pointer from integer without a cast [-Wint-conversion]\n",
    "   16 |     pthread_create(thr, NULL, &word_count, str);\n",
    "      |                    ^~~\n",
    "      |                    pthread_t {aka long unsigned int}\n",
    "/usr/include/pthread.h:202:50: note: expected ‘pthread_t * restrict’ \n",
    "{aka ‘long unsigned int * restrict’} but argument is of type ‘pthread_t’ \n",
    "{aka ‘long unsigned int’}\n",
    "  202 | extern int pthread_create (pthread_t *__restrict __newthread,\n",
    "      |                            ~~~~~~~~~~~~~~~~~~~~~~^~~~~~~~~~~\n",
    "buggy_noreturn.c:16:31: warning: passing argument 3 of ‘pthread_create’ \n",
    "from incompatible pointer type [-Wincompatible-pointer-types]\n",
    "   16 |     pthread_create(thr, NULL, &word_count, str);\n",
    "      |                               ^~~~~~~~~~~\n",
    "      |                               void (*)(char *)\n",
    "/usr/include/pthread.h:204:36: note: expected ‘void * (*)(void *)’ but \n",
    "argument is of type ‘void (*)(char *)’\n",
    "  204 |                            void *(*__start_routine) (void *),\n",
    "      |                            ~~~~~~~~^~~~~~~~~~~~~~~~~~~~~~~~~\n",
    "buggy_noreturn.c:17:5: error: too few arguments to function ‘pthread_join’\n",
    "   17 |     pthread_join(thr);\n",
    "      |     ^~~~~~~~~~~~\n",
    "/usr/include/pthread.h:219:12: note: declared here\n",
    "  219 | extern int pthread_join (pthread_t __th, void **__thread_return);\n",
    "      |            ^~~~~~~~~~~~\n",
    "```"
   ]
  },
  {
   "cell_type": "markdown",
   "id": "d400e015-ea85-40fb-8d7c-5d3ae93b8132",
   "metadata": {
    "tags": []
   },
   "source": [
    "_How would you change the code to fix these problems?_"
   ]
  },
  {
   "cell_type": "markdown",
   "id": "798177d7-54a6-48d2-9af3-a0e3b0cd2c41",
   "metadata": {
    "slideshow": {
     "slide_type": "skip"
    },
    "tags": [
     "notes-only"
    ]
   },
   "source": [
    "* Need to pass `&thr` to `pthread_create` (instead of `thr`) on line 16\n",
    "* Function executed by a thread must return `void *` and take a single `void *` parameter; replace lines 6-7 with:\n",
    "    ```C\n",
    "    void *word_count(void *arg) {\n",
    "        char *str = (char *)arg;\n",
    "    ```\n",
    "    Also add after line 11:\n",
    "    ```C\n",
    "    return NULL;\n",
    "    ```\n",
    "* Add an additional parameter to `pthread_join` one line 17:\n",
    "    ```C\n",
    "    pthread_join(thr, NULL);\n",
    "    ``` "
   ]
  },
  {
   "cell_type": "markdown",
   "id": "9302a3e8-c8ae-441a-b093-35d0651baeee",
   "metadata": {},
   "source": [
    "<div style=\"height:3em;\"></div>\n",
    "\n",
    "🛑 **STOP here** after completing the above question; if you have extra time please **skip ahead** to the extra practice.\n",
    "\n",
    "<div style=\"page-break-after:always;\"></div>"
   ]
  },
  {
   "cell_type": "markdown",
   "id": "19e6e3d2-fb15-4a65-b5f5-842ceddb4de9",
   "metadata": {
    "slideshow": {
     "slide_type": "subslide"
    },
    "tags": []
   },
   "source": [
    "* Q3: _What are all possible outputs produced by this program?_"
   ]
  },
  {
   "cell_type": "code",
   "execution_count": null,
   "id": "c0822e1e-bd47-43e3-990d-133e712a1b70",
   "metadata": {
    "tags": [
     "worksheet-code-only"
    ]
   },
   "outputs": [
    {
     "name": "stdout",
     "output_type": "stream",
     "text": [
      "I am P\n",
      "I am Q\n"
     ]
    }
   ],
   "source": [
    "/* 1*/  #include <stdio.h>\n",
    "/* 2*/  #include <stdlib.h>\n",
    "/* 3*/  #include <pthread.h>\n",
    "/* 4*/  void *printer(void *arg) {\n",
    "/* 5*/      char *ch = (char*)arg;\n",
    "/* 6*/      printf(\"I am %c\\n\", *ch);\n",
    "/* 7*/      return NULL;\n",
    "/* 8*/  }\n",
    "/* 9*/  int main() {\n",
    "/*10*/      pthread_t thread1, thread2;\n",
    "/*11*/      char *ch = malloc(sizeof(char));\n",
    "/*12*/      *ch = 'P';\n",
    "/*13*/      pthread_create(&thread1, NULL, &printer, ch);\n",
    "/*14*/      pthread_join(thread1, NULL);\n",
    "/*15*/      *ch = 'Q';\n",
    "/*16*/      pthread_create(&thread2, NULL, &printer, ch);\n",
    "/*17*/      pthread_join(thread2, NULL);\n",
    "/*18*/  }"
   ]
  },
  {
   "cell_type": "markdown",
   "id": "27478262-8113-45ec-8ceb-17ea548e02d5",
   "metadata": {},
   "source": [
    "<div style=\"height:10em;\"></div>\n",
    "\n",
    "🛑 **STOP here** after completing the above question; if you have extra time please **skip ahead** to the extra practice.\n",
    "\n",
    "<div style=\"page-break-after:always;\"></div>"
   ]
  },
  {
   "cell_type": "markdown",
   "id": "e5072efc-8bb3-4665-8c90-489fadb2eeca",
   "metadata": {
    "slideshow": {
     "slide_type": "slide"
    },
    "tags": []
   },
   "source": [
    "## Creating multiple threads"
   ]
  },
  {
   "cell_type": "markdown",
   "id": "dc85f1e2-7967-4695-b3c5-70402e3a1511",
   "metadata": {
    "slideshow": {
     "slide_type": "skip"
    },
    "tags": [
     "notes-only"
    ]
   },
   "source": [
    "* Create an array of `pthread_t` and an array of arguments\n",
    "* Call `pthread_create` within a loop\n",
    "* Call `pthread_join` within a separate loop"
   ]
  },
  {
   "cell_type": "code",
   "execution_count": 36,
   "id": "54bc7331-0318-4887-a3c6-d65aa46c3e76",
   "metadata": {
    "slideshow": {
     "slide_type": "subslide"
    },
    "tags": [
     "worksheet-code-only"
    ]
   },
   "outputs": [
    {
     "name": "stdout",
     "output_type": "stream",
     "text": [
      "I am thread 1\n",
      "I am thread 2\n",
      "I am thread 3\n",
      "I am thread 4\n",
      "I am thread 5\n",
      "All threads finished\n"
     ]
    }
   ],
   "source": [
    "/* 1*/  #include <pthread.h>\n",
    "/* 2*/  #include <stdio.h>\n",
    "/* 3*/  #include <stdlib.h>\n",
    "/* 4*/  #define NUM_THREADS 5\n",
    "/* 5*/  void *simple(void *arg) {\n",
    "/* 6*/      int *id = (int *)arg;\n",
    "/* 7*/      printf(\"I am thread %d\\n\", *id);\n",
    "/* 8*/      return NULL;\n",
    "/* 9*/  }\n",
    "/*10*/  int main() {\n",
    "/*11*/      pthread_t threads[NUM_THREADS];\n",
    "/*12*/      int ids[NUM_THREADS];\n",
    "/*13*/      for (int i = 0; i < NUM_THREADS; i++) {\n",
    "/*14*/          ids[i] = i+1;\n",
    "/*15*/          pthread_create(threads+i, NULL, &simple, ids+i);\n",
    "/*16*/      } \n",
    "/*17*/      for (int i = 0; i < NUM_THREADS; i++) {\n",
    "/*18*/          pthread_join(threads[i], NULL);\n",
    "/*19*/      }\n",
    "/*20*/      printf(\"All threads finished\\n\");\n",
    "/*21*/  }"
   ]
  },
  {
   "cell_type": "markdown",
   "id": "054bf1a0-9e88-4c03-a1c0-07027c3e0d67",
   "metadata": {
    "slideshow": {
     "slide_type": "slide"
    },
    "tags": []
   },
   "source": [
    "## Returning values from threads"
   ]
  },
  {
   "cell_type": "markdown",
   "id": "0f185709-ae69-4c95-a1ea-6dbfba9dda35",
   "metadata": {
    "slideshow": {
     "slide_type": "skip"
    },
    "tags": [
     "notes-only"
    ]
   },
   "source": [
    "* _When does a thread end?_ — when the function passed to `pthread_create` finishes (i.e., returns)\n",
    "* _What happens to a function's parameters and local variables when the function returns?_ — they no longer exist (i.e., the stack frame is destroyed)\n",
    "* _Where should we store a value that should exist even after a function returns?_ — on the heap\n",
    "* Need to store a thread's return value on the heap\n",
    "* Thread returns a pointer to the value on the heap\n",
    "* Example"
   ]
  },
  {
   "cell_type": "code",
   "execution_count": 20,
   "id": "5d720362-7fea-42c1-99e4-303a7a2f0036",
   "metadata": {
    "slideshow": {
     "slide_type": "subslide"
    },
    "tags": [
     "worksheet-code-only"
    ]
   },
   "outputs": [
    {
     "name": "stdout",
     "output_type": "stream",
     "text": [
      "Length: 15\n"
     ]
    }
   ],
   "source": [
    "/* 1*/  #include <stdio.h>\n",
    "/* 2*/  #include <stdlib.h>\n",
    "/* 3*/  #include <string.h>\n",
    "/* 4*/  #include <pthread.h>\n",
    "/* 5*/  void *length(void *arg) {\n",
    "/* 6*/      char *str = (char *)arg;\n",
    "/* 7*/      int *len = malloc(sizeof(int));\n",
    "/* 8*/      *len = strlen(str);\n",
    "/* 9*/      return len;\n",
    "/*10*/  }\n",
    "/*11*/  int main() {\n",
    "/*12*/      pthread_t thread;\n",
    "/*13*/      char *phrase = \"Hello, threads!\";\n",
    "/*14*/      pthread_create(&thread, NULL, &length, phrase);\n",
    "/*15*/      int *result = NULL;\n",
    "/*16*/      pthread_join(thread, (void **)&result);\n",
    "/*17*/      printf(\"Length: %d\\n\", *result);\n",
    "/*18*/      free(result);\n",
    "/*19*/  }"
   ]
  },
  {
   "cell_type": "markdown",
   "id": "83f6c598-17f2-48c5-b2f0-10dafc624041",
   "metadata": {
    "slideshow": {
     "slide_type": "skip"
    },
    "tags": [
     "notes-only"
    ]
   },
   "source": [
    "* `pthread_join` returns `0` if successful, or an error number\n",
    "* To get the pointer returned by the thread, we need to pass a location where the pointer can be stored — i.e., we need to pass a double pointer"
   ]
  },
  {
   "cell_type": "markdown",
   "id": "0fe2305a-538a-4301-a361-7b1f08713456",
   "metadata": {
    "slideshow": {
     "slide_type": "skip"
    },
    "tags": [
     "worksheet-only"
    ]
   },
   "source": [
    "<div style=\"page-break-after:always;\"></div>"
   ]
  },
  {
   "cell_type": "markdown",
   "id": "056a93f5-0d98-41e9-a21f-edeb65a4446b",
   "metadata": {
    "slideshow": {
     "slide_type": "slide"
    },
    "tags": []
   },
   "source": [
    "## Practice writing multi-threaded programs"
   ]
  },
  {
   "cell_type": "markdown",
   "id": "0c1ca21a-20d6-4f16-8e1e-24c45cffbf33",
   "metadata": {},
   "source": [
    "* Q3: _Write a function called `sum_array` which takes an array of `ARRAY_LEN` integers and returns the sum of the integers. Your function should have the appropriate prototype/implementation to serve as the entry point for a thread. Assume `ARRAY_LEN` is a constant which has been `#define`d._"
   ]
  },
  {
   "cell_type": "markdown",
   "id": "987317e2-cbc7-4fdd-87c8-8a01ec431c1f",
   "metadata": {
    "slideshow": {
     "slide_type": "skip"
    },
    "tags": [
     "worksheet-only"
    ]
   },
   "source": [
    "<p style=\"height:20em;\"></p>"
   ]
  },
  {
   "cell_type": "markdown",
   "id": "5d56f4fa-db2f-4f75-8e17-a75a17663ac0",
   "metadata": {},
   "source": [
    "* Q4: _Write a function called `sum_matrix` which takes an array of `NUM_ARRAYS` arrays of integers (i.e., an `int **`) and returns the sum of all the integers. The function should create `NUM_ARRAYS` threads, each running the `sum_array` function for a single array of integers. Assume `NUM_ARRAYS` is a constant which has been `#define`d._"
   ]
  },
  {
   "cell_type": "markdown",
   "id": "2f576b7a-6edf-4dbc-8856-6e37c5c4e545",
   "metadata": {
    "slideshow": {
     "slide_type": "skip"
    },
    "tags": [
     "worksheet-only"
    ]
   },
   "source": [
    "<div style=\"page-break-after:always;\"></div>"
   ]
  },
  {
   "cell_type": "code",
   "execution_count": 2,
   "id": "7411e71f-b5d3-4c2a-94d7-59af71b2e57b",
   "metadata": {
    "slideshow": {
     "slide_type": "skip"
    },
    "tags": [
     "notes-only"
    ]
   },
   "outputs": [
    {
     "name": "stdout",
     "output_type": "stream",
     "text": [
      "10225\n"
     ]
    }
   ],
   "source": [
    "#include <pthread.h>\n",
    "#include <stdio.h>\n",
    "#include <stdlib.h>\n",
    "\n",
    "#define ARRAY_LEN 10\n",
    "#define NUM_ARRAYS 5\n",
    "\n",
    "void *sum_array(void *args) {\n",
    "    int *nums = (int *)args;\n",
    "    int *sum = malloc(sizeof(int));\n",
    "    *sum = 0;\n",
    "    for (int i = 0; i < ARRAY_LEN; i++) {\n",
    "        *sum += nums[i];\n",
    "    }\n",
    "    return sum;\n",
    "}\n",
    "\n",
    "int sum_matrix(int *matrix[]) {\n",
    "    pthread_t threads[NUM_ARRAYS];\n",
    "    for (int i = 0; i < NUM_ARRAYS; i++) {\n",
    "        pthread_create(&(threads[i]), NULL, &sum_array, matrix[i]);\n",
    "    }\n",
    "\n",
    "    int total = 0;\n",
    "    for (int i = 0; i < NUM_ARRAYS; i++) {\n",
    "        int *sum;\n",
    "        pthread_join(threads[i], (void **)(&sum));\n",
    "        total += *sum;\n",
    "        free(sum);\n",
    "    }\n",
    "\n",
    "    return total;\n",
    "}\n",
    "\n",
    "int main() {\n",
    "    int *matrix[NUM_ARRAYS];\n",
    "    for (int i = 0; i < NUM_ARRAYS; i++) {\n",
    "        matrix[i] = malloc(sizeof(int) * ARRAY_LEN);\n",
    "        for (int j = 0; j < ARRAY_LEN; j++) {\n",
    "            matrix[i][j] = i * 100 + j;\n",
    "        }\n",
    "    }\n",
    "\n",
    "    int sum = sum_matrix(matrix);\n",
    "    printf(\"%d\\n\", sum);\n",
    "}"
   ]
  },
  {
   "cell_type": "markdown",
   "id": "b37ca661-12e2-4cd8-b765-8f23c6925f1d",
   "metadata": {
    "slideshow": {
     "slide_type": "slide"
    },
    "tags": []
   },
   "source": [
    "## Extra practice"
   ]
  },
  {
   "cell_type": "markdown",
   "id": "6947e721-3780-4e9f-9f4b-edb617e44055",
   "metadata": {
    "tags": []
   },
   "source": [
    "* Q5: _What are all possible outputs produced by this program?_"
   ]
  },
  {
   "cell_type": "code",
   "execution_count": null,
   "id": "d159585a-100c-441d-991e-efb9b221424a",
   "metadata": {
    "tags": [
     "worksheet-code-only"
    ]
   },
   "outputs": [],
   "source": [
    "/* 1*/  #include <stdio.h>\n",
    "/* 2*/  #include <stdlib.h>\n",
    "/* 3*/  #include <pthread.h>\n",
    "/* 4*/  void *printer(void *arg) {\n",
    "/* 5*/      char *ch = (char*)arg;\n",
    "/* 6*/      printf(\"I am %c\\n\", *ch);\n",
    "/* 7*/      return NULL;\n",
    "/* 8*/  }\n",
    "/* 9*/  int main() {\n",
    "/*10*/      pthread_t thread1, thread2;\n",
    "/*11*/      char *ch = malloc(sizeof(char));\n",
    "/*12*/      *ch = 'M';\n",
    "/*13*/      pthread_create(&thread1, NULL, &printer, ch);\n",
    "/*14*/      *ch = 'N';\n",
    "/*15*/      pthread_create(&thread2, NULL, &printer, ch);\n",
    "/*16*/      pthread_join(thread1, NULL);\n",
    "/*17*/      pthread_join(thread2, NULL);\n",
    "/*18*/  }"
   ]
  },
  {
   "cell_type": "markdown",
   "id": "3b270849-286d-49a6-9f31-55ff1982794b",
   "metadata": {
    "slideshow": {
     "slide_type": "skip"
    },
    "tags": [
     "notes-only"
    ]
   },
   "source": [
    "```\n",
    "I am M\n",
    "I am N\n",
    "```\n",
    "OR\n",
    "```\n",
    "I am N\n",
    "I am N\n",
    "```"
   ]
  }
 ],
 "metadata": {
  "kernelspec": {
   "display_name": "C",
   "language": "c",
   "name": "c"
  },
  "language_info": {
   "file_extension": ".c",
   "mimetype": "text/plain",
   "name": "c"
  }
 },
 "nbformat": 4,
 "nbformat_minor": 5
}
