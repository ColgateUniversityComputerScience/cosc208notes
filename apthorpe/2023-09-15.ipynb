{
 "cells": [
  {
   "cell_type": "markdown",
   "id": "421ff75b-3025-4535-9a03-8de76e1d05bc",
   "metadata": {
    "slideshow": {
     "slide_type": "skip"
    },
    "tags": []
   },
   "source": [
    "# Program memory: Arrays & pointers\n",
    "_COSC 208, Introduction to Computer Systems, 2023-09-15_"
   ]
  },
  {
   "cell_type": "markdown",
   "id": "b207b076-f5b6-4674-8385-1d10b4d807cd",
   "metadata": {
    "jp-MarkdownHeadingCollapsed": true,
    "slideshow": {
     "slide_type": "slide"
    },
    "tags": []
   },
   "source": [
    "## Announcements\n",
    "* Project 1 due Thurs, Sept 21 @ 11pm"
   ]
  },
  {
   "cell_type": "markdown",
   "id": "cf625bb6-e838-4e30-a8ab-065374bc56c9",
   "metadata": {
    "slideshow": {
     "slide_type": "slide"
    },
    "tags": []
   },
   "source": [
    "## Outline\n",
    "* Warm-up\n",
    "* Arrays & pointers"
   ]
  },
  {
   "cell_type": "markdown",
   "id": "e525e5fd-8695-4b33-837f-52365156aa0a",
   "metadata": {
    "slideshow": {
     "slide_type": "slide"
    },
    "tags": []
   },
   "source": [
    "## Warm-up"
   ]
  },
  {
   "cell_type": "markdown",
   "id": "2f62294e-77ca-407c-971c-d18800e9beb1",
   "metadata": {
    "tags": []
   },
   "source": [
    "* Q1: _What does the following program output?_"
   ]
  },
  {
   "cell_type": "code",
   "execution_count": 16,
   "id": "8885b8db-a9a9-4256-ae4e-2887df416544",
   "metadata": {
    "tags": [
     "worksheet-code-only"
    ]
   },
   "outputs": [
    {
     "name": "stdout",
     "output_type": "stream",
     "text": [
      "1 2\n",
      "3 4\n",
      "6 6\n"
     ]
    }
   ],
   "source": [
    "#include <stdio.h>\n",
    "void copy1(int a, int b) {\n",
    "    a = b;\n",
    "}\n",
    "void copy2(int *c, int *d) {\n",
    "    c = d;\n",
    "}\n",
    "void copy3(int *e, int *f) {\n",
    "    *e = *f;\n",
    "}\n",
    "int main() {\n",
    "    int q = 1;\n",
    "    int r = 2;\n",
    "    copy1(q, r);\n",
    "    printf(\"%d %d\\n\", q, r);\n",
    "    int s = 3;\n",
    "    int t = 4;\n",
    "    copy2(&s, &t);\n",
    "    printf(\"%d %d\\n\", s, t);\n",
    "    int u = 5;\n",
    "    int v = 6;\n",
    "    copy3(&u, &v);\n",
    "    printf(\"%d %d\\n\", u, v);\n",
    "}"
   ]
  },
  {
   "cell_type": "markdown",
   "id": "8aa19037-8535-4364-b124-e408b38e9282",
   "metadata": {
    "slideshow": {
     "slide_type": "skip"
    },
    "tags": [
     "worksheet-only"
    ]
   },
   "source": [
    "<div style=\"page-break-after:always;\"></div>"
   ]
  },
  {
   "cell_type": "markdown",
   "id": "7e344cdb-a8c9-4ce3-a73b-9f7a8dbacbb3",
   "metadata": {
    "slideshow": {
     "slide_type": "subslide"
    },
    "tags": []
   },
   "source": [
    "* Q2: _Write a function called `add` which takes an integer (`num`) and an integer pointer (`ptr`) and adds `num` to the value `ptr` points to._\n",
    "    \n",
    "    _Also write a `main` function which:_\n",
    "    1. _Stores `20` in a variable_\n",
    "    2. _Calls `add` with the number `5` and a pointer to the aforementioned variable_\n",
    "    3. _Prints the value stored in the variable after `add` returns_"
   ]
  },
  {
   "cell_type": "code",
   "execution_count": 13,
   "id": "323f66f9-bdfe-4c41-b00f-0edc15808c54",
   "metadata": {
    "slideshow": {
     "slide_type": "skip"
    },
    "tags": [
     "notes-only"
    ]
   },
   "outputs": [
    {
     "name": "stdout",
     "output_type": "stream",
     "text": [
      "25\n"
     ]
    }
   ],
   "source": [
    "#include <stdio.h>\n",
    "void add(int num, int *ptr) {\n",
    "    *ptr = *ptr + num;\n",
    "}\n",
    "int main() {\n",
    "    int x = 20;\n",
    "    add(5, &x);\n",
    "    printf(\"%d\\n\", x);\n",
    "}"
   ]
  },
  {
   "cell_type": "markdown",
   "id": "45fee770-e7fa-4592-a2f1-690d0f62844b",
   "metadata": {
    "slideshow": {
     "slide_type": "skip"
    },
    "tags": [
     "worksheet-only"
    ]
   },
   "source": [
    "<p style=\"height:25em;\"></p>"
   ]
  },
  {
   "cell_type": "markdown",
   "id": "91d78f5c-17d0-47f1-acad-e36061221f4f",
   "metadata": {
    "slideshow": {
     "slide_type": "subslide"
    },
    "tags": []
   },
   "source": [
    "* Q3: _What does the following program output?_"
   ]
  },
  {
   "cell_type": "code",
   "execution_count": 2,
   "id": "f550b42a-b3e5-4ca3-b7e4-07054e3ccac6",
   "metadata": {
    "tags": [
     "worksheet-code-only"
    ]
   },
   "outputs": [
    {
     "name": "stdout",
     "output_type": "stream",
     "text": [
      "S S 3 3 3\n",
      "B B 2 2 2\n",
      "D D 2 2 2\n"
     ]
    }
   ],
   "source": [
    "#include <stdio.h>\n",
    "int main() {\n",
    "    char s = 'S';\n",
    "    char *t = &s;\n",
    "    int u = 3;\n",
    "    int *v = &u;\n",
    "    int *w = v;\n",
    "    printf(\"%c %c %d %d %d\\n\", s, *t, u, *v, *w);\n",
    "    *t = 'B';\n",
    "    u = 2;\n",
    "    printf(\"%c %c %d %d %d\\n\", s, *t, u, *v, *w);\n",
    "    s = s + *v;\n",
    "    printf(\"%c %c %d %d %d\\n\", s, *t, u, *v, *w);\n",
    "}"
   ]
  },
  {
   "cell_type": "markdown",
   "id": "490dc511-8dd3-4a04-850e-efbab9d21d5e",
   "metadata": {
    "slideshow": {
     "slide_type": "skip"
    },
    "tags": [
     "worksheet-only"
    ]
   },
   "source": [
    "<p style=\"height:10em;\"></p>\n",
    "\n",
    "🛑 **STOP here** after completing the above questions; if you have extra time please **skip ahead** to the extra practice.\n",
    "\n",
    "<div style=\"page-break-after:always;\"></div>"
   ]
  },
  {
   "cell_type": "markdown",
   "id": "cd4d1b97-0087-470d-aa66-5318ae0026d0",
   "metadata": {
    "slideshow": {
     "slide_type": "slide"
    },
    "tags": []
   },
   "source": [
    "## Arrays & pointers"
   ]
  },
  {
   "cell_type": "markdown",
   "id": "dbc27645-cb2c-4cf8-bde7-a5d3ce47c7ea",
   "metadata": {
    "tags": []
   },
   "source": [
    "* An array variable is a constant (`const`) pointer to a region of memory where the items in the array are stored"
   ]
  },
  {
   "cell_type": "markdown",
   "id": "ec7f893a-db5e-458c-9a56-2f57b3e9ec2d",
   "metadata": {
    "slideshow": {
     "slide_type": "subslide"
    },
    "tags": []
   },
   "source": [
    "* Example"
   ]
  },
  {
   "cell_type": "code",
   "execution_count": 40,
   "id": "7abd8dc1-e6cf-4b78-bd97-4cb9873861a4",
   "metadata": {
    "tags": [
     "worksheet-code-only"
    ]
   },
   "outputs": [
    {
     "name": "stdout",
     "output_type": "stream",
     "text": [
      "word = hat\n",
      "ptr = hat\n",
      "ptr == word\n",
      "word = hit\n",
      "word = sit\n",
      "ptr = it\n",
      "word = sat\n"
     ]
    }
   ],
   "source": [
    "#include <stdio.h>\n",
    "int main() {\n",
    "    char word[] = \"hat\";\n",
    "    printf(\"word = %s\\n\", word);\n",
    "    char *ptr = word;\n",
    "    printf(\"ptr = %s\\n\", ptr);\n",
    "    if (ptr == word) {\n",
    "        printf(\"ptr == word\\n\");\n",
    "    }\n",
    "    else {\n",
    "        printf(\"ptr != word\\n\");\n",
    "    }\n",
    "    word[1] = 'i';\n",
    "    printf(\"word = %s\\n\", word);\n",
    "    *ptr = 's';\n",
    "    printf(\"word = %s\\n\", word);\n",
    "    ptr = &word[1];\n",
    "    printf(\"ptr = %s\\n\", ptr);\n",
    "    ptr[0] = 'a';\n",
    "    printf(\"word = %s\\n\", word);\n",
    "}"
   ]
  },
  {
   "cell_type": "markdown",
   "id": "0366a6b0-a6f4-4df8-b901-4dc9c8228ffd",
   "metadata": {
    "slideshow": {
     "slide_type": "skip"
    },
    "tags": [
     "notes-only"
    ]
   },
   "source": [
    "* This explains why there is no out-of-bounds checks for arrays: the memory addresses in pointers are never checked to see if they are valid\n",
    "* This also explains why you can change an array within a function and have those changes reflected outside of the function"
   ]
  },
  {
   "cell_type": "markdown",
   "id": "e0155882-e3de-4e4b-8391-0f0d3ca681cd",
   "metadata": {
    "slideshow": {
     "slide_type": "subslide"
    },
    "tags": []
   },
   "source": [
    "* Example: array as a parameter"
   ]
  },
  {
   "cell_type": "code",
   "execution_count": 11,
   "id": "8a2c28c6-0b73-46d4-b61e-f8a73e5b762c",
   "metadata": {
    "tags": [
     "worksheet-code-only"
    ]
   },
   "outputs": [
    {
     "name": "stdout",
     "output_type": "stream",
     "text": [
      "mat\n",
      "pat\n"
     ]
    }
   ],
   "source": [
    "#include <stdio.h>\n",
    "void update(char str[]) {\n",
    "    str[0] = 'p';\n",
    "}\n",
    "int main() {\n",
    "    char word[] = \"mat\";\n",
    "    printf(\"%s\\n\", word);\n",
    "    update(word);\n",
    "    printf(\"%s\\n\", word);\n",
    "}"
   ]
  },
  {
   "cell_type": "markdown",
   "id": "545cf973-7688-4e28-b242-4f6c8af6459e",
   "metadata": {
    "slideshow": {
     "slide_type": "skip"
    },
    "tags": [
     "worksheet-only"
    ]
   },
   "source": [
    "<div style=\"page-break-after:always;\"></div>"
   ]
  },
  {
   "cell_type": "markdown",
   "id": "1d92c433-de2a-46f5-b4b9-c33bd5b4aabc",
   "metadata": {
    "slideshow": {
     "slide_type": "subslide"
    },
    "tags": []
   },
   "source": [
    "* Q4: _What does the following program output?_"
   ]
  },
  {
   "cell_type": "code",
   "execution_count": 12,
   "id": "8f464bf4-847f-47b1-b2dc-e6799ca0ddf0",
   "metadata": {
    "tags": [
     "worksheet-code-only"
    ]
   },
   "outputs": [
    {
     "name": "stdout",
     "output_type": "stream",
     "text": [
      "1 2\n",
      "2 3\n",
      "5 20\n",
      "20 3\n"
     ]
    }
   ],
   "source": [
    "#include <stdio.h>\n",
    "void mystery(int arr[]) {\n",
    "    *arr = *arr * 5;\n",
    "    arr[1] = arr[1] * 10;\n",
    "}\n",
    "\n",
    "int main() {\n",
    "    int nums[] = {1, 2, 3, 4};\n",
    "    printf(\"%d %d\\n\", *nums, nums[1]);\n",
    "    int *ptr = &nums[1];\n",
    "    printf(\"%d %d\\n\", *ptr, ptr[1]);\n",
    "    mystery(nums);\n",
    "    printf(\"%d %d\\n\", *nums, nums[1]);\n",
    "    printf(\"%d %d\\n\", *ptr, ptr[1]);\n",
    "}"
   ]
  },
  {
   "cell_type": "markdown",
   "id": "16196b23-00e7-44ac-9751-ea589b3fcd07",
   "metadata": {
    "slideshow": {
     "slide_type": "skip"
    },
    "tags": [
     "worksheet-only"
    ]
   },
   "source": [
    "<p style=\"height:10em;\"></p>"
   ]
  },
  {
   "cell_type": "markdown",
   "id": "ff41bd53-7f17-4a05-a838-7264bfde32a2",
   "metadata": {
    "slideshow": {
     "slide_type": "subslide"
    },
    "tags": []
   },
   "source": [
    "* Q5: _Write a function called `underscore` which takes an array of characters and replaces all spaces with underscores. Also write a `main` function that:_\n",
    "    1. _Stores the string `\"This has spaces\"` in an array of characters_\n",
    "    2. _Calls the `underscore` function on the array_\n",
    "    3. _Prints the string after `underscore` returns_"
   ]
  },
  {
   "cell_type": "code",
   "execution_count": 14,
   "id": "d0c06280-e560-40f1-87a1-9edc10b36d7f",
   "metadata": {
    "slideshow": {
     "slide_type": "skip"
    },
    "tags": [
     "notes-only"
    ]
   },
   "outputs": [
    {
     "name": "stdout",
     "output_type": "stream",
     "text": [
      "This_has_spaces\n"
     ]
    }
   ],
   "source": [
    "#include <stdio.h>\n",
    "#include <string.h>\n",
    "void underscore(char *str) {\n",
    "    for (int i = 0; i < strlen(str); i++) {\n",
    "        if (str[i] == ' ') {\n",
    "            str[i] = '_';\n",
    "        }\n",
    "    }\n",
    "}\n",
    "int main() {\n",
    "    char phrase[] = \"This has spaces\";\n",
    "    underscore(phrase);\n",
    "    printf(\"%s\\n\", phrase);\n",
    "}"
   ]
  },
  {
   "cell_type": "markdown",
   "id": "299bfb66-4d4c-404f-bad5-f246224950f2",
   "metadata": {
    "slideshow": {
     "slide_type": "skip"
    },
    "tags": [
     "worksheet-only"
    ]
   },
   "source": [
    "<div style=\"page-break-after:always;\"></div>"
   ]
  },
  {
   "cell_type": "markdown",
   "id": "bc4f6a76-1d10-4efb-aa22-c81a60c0061f",
   "metadata": {
    "slideshow": {
     "slide_type": "slide"
    },
    "tags": []
   },
   "source": [
    "## ⭐ Extra practice\n",
    "* Q6: _What does the following program output?_"
   ]
  },
  {
   "cell_type": "code",
   "execution_count": 5,
   "id": "6380f183-4722-4b7f-9de4-7ee5c3739480",
   "metadata": {
    "tags": [
     "worksheet-code-only"
    ]
   },
   "outputs": [
    {
     "name": "stdout",
     "output_type": "stream",
     "text": [
      "1 1\n",
      "2 2\n"
     ]
    }
   ],
   "source": [
    "#include <stdio.h>\n",
    "void increment1(int a) {\n",
    "    a = a + 1;\n",
    "}\n",
    "void increment2(int *b) {\n",
    "    *b = *b + 1;\n",
    "}\n",
    "int main() {\n",
    "    int x = 1;\n",
    "    int *y = &x;\n",
    "    increment1(x);\n",
    "    printf(\"%d %d\\n\", x, *y);\n",
    "    increment2(y);\n",
    "    printf(\"%d %d\\n\", x, *y);\n",
    "}"
   ]
  },
  {
   "cell_type": "markdown",
   "id": "fa749713-1c8e-4e51-a66b-5d28599d8eb0",
   "metadata": {
    "slideshow": {
     "slide_type": "skip"
    },
    "tags": [
     "worksheet-only"
    ]
   },
   "source": [
    "<p style=\"height:10em;\"></p>"
   ]
  },
  {
   "cell_type": "markdown",
   "id": "9d0a97c5-00b7-4d1d-a8a9-df082e368d6a",
   "metadata": {
    "slideshow": {
     "slide_type": "subslide"
    },
    "tags": []
   },
   "source": [
    "* Q7: _What does the following program output?_"
   ]
  },
  {
   "cell_type": "code",
   "execution_count": 4,
   "id": "683771ce-637a-4635-925f-da3a035e546b",
   "metadata": {
    "tags": [
     "worksheet-code-only"
    ]
   },
   "outputs": [
    {
     "name": "stdout",
     "output_type": "stream",
     "text": [
      "Q R\n",
      "T S\n"
     ]
    }
   ],
   "source": [
    "#include <stdio.h>\n",
    "void swap1(char *c, char *d) {\n",
    "    char *tmp = c;\n",
    "    c = d;\n",
    "    d = tmp;\n",
    "}\n",
    "void swap2(char *a, char *b) {\n",
    "    char tmp = *a;\n",
    "    *a = *b;\n",
    "    *b = tmp;\n",
    "}\n",
    "int main() {\n",
    "    char q = 'Q';\n",
    "    char r = 'R';\n",
    "    swap1(&q, &r);\n",
    "    printf(\"%c %c\\n\", q, r);\n",
    "    char s = 'S';\n",
    "    char t = 'T';\n",
    "    swap2(&s, &t);\n",
    "    printf(\"%c %c\\n\", s, t);\n",
    "}"
   ]
  },
  {
   "cell_type": "markdown",
   "id": "b43604f3-4e36-4c0d-a491-765cd7860849",
   "metadata": {
    "slideshow": {
     "slide_type": "skip"
    },
    "tags": [
     "worksheet-only"
    ]
   },
   "source": [
    "<div style=\"page-break-after:always;\"></div>"
   ]
  },
  {
   "cell_type": "markdown",
   "id": "33acbbf0-dd78-4e3e-988e-8532bda13433",
   "metadata": {
    "slideshow": {
     "slide_type": "subslide"
    },
    "tags": []
   },
   "source": [
    "* Q8: _Write a program that:_\n",
    "    1. _Stores 5 in a variable, and stores 10 in another variable_\n",
    "    2. _Creates and uses pointers to print each number_\n",
    "    3. _Uses the pointers to add the numbers together and store the result in a new variable_\n",
    "    4. _Repurposes one of the existing pointers to print the aforementioned result_"
   ]
  },
  {
   "cell_type": "code",
   "execution_count": 3,
   "id": "f5581994-5b1b-4a85-8b2a-a47eda62a603",
   "metadata": {
    "slideshow": {
     "slide_type": "skip"
    },
    "tags": [
     "notes-only"
    ]
   },
   "outputs": [
    {
     "name": "stdout",
     "output_type": "stream",
     "text": [
      "15\n"
     ]
    }
   ],
   "source": [
    "#include <stdio.h>\n",
    "int main() {\n",
    "    int i = 5;\n",
    "    int j = 10;\n",
    "    int *p = &i;\n",
    "    int *q = &j;\n",
    "    int k = *p + *q;\n",
    "    p = &k;\n",
    "    printf(\"%d\\n\", *p);\n",
    "}"
   ]
  },
  {
   "cell_type": "markdown",
   "id": "cfac0874-25b0-4a9a-a9a9-8cf0fb8a1f04",
   "metadata": {
    "slideshow": {
     "slide_type": "skip"
    },
    "tags": [
     "worksheet-only"
    ]
   },
   "source": [
    "<p style=\"height:15em;\"></p>"
   ]
  },
  {
   "cell_type": "markdown",
   "id": "ab68ab31-8106-4916-a022-cb3de73f5ff8",
   "metadata": {
    "slideshow": {
     "slide_type": "subslide"
    },
    "tags": []
   },
   "source": [
    "* Q9: _Write a function called `transfer` which takes an integer (`amount`) and two integer pointers (`from` and `to`) and moves the specified `amount` from one integer to the other._\n",
    "    _Also write a `main` function that:_\n",
    "    1. _Stores `50` in one variable and `100` in another variable_\n",
    "    2. _Calls `transfer` with the amount `25` and pointers to the aforementioned variable_\n",
    "    3. _Prints the value stored in the variables after `transfer` returns_"
   ]
  },
  {
   "cell_type": "code",
   "execution_count": 13,
   "id": "24406502-2803-491d-b1b8-ec7f760659f4",
   "metadata": {
    "slideshow": {
     "slide_type": "skip"
    },
    "tags": [
     "notes-only"
    ]
   },
   "outputs": [
    {
     "name": "stdout",
     "output_type": "stream",
     "text": [
      "25 125\n"
     ]
    }
   ],
   "source": [
    "#include <stdio.h>\n",
    "void transfer(int amount, int *from, int *to) {\n",
    "    *from = *from - amount;\n",
    "    *to = *to + amount;\n",
    "}\n",
    "int main() {\n",
    "    int x = 50;\n",
    "    int y = 100;\n",
    "    transfer(25, &x, &y);\n",
    "    printf(\"%d %d\\n\", x, y);\n",
    "}"
   ]
  },
  {
   "cell_type": "markdown",
   "id": "2b14c2a1-8c65-4a24-b328-2c5186a2b374",
   "metadata": {
    "slideshow": {
     "slide_type": "skip"
    },
    "tags": [
     "worksheet-only"
    ]
   },
   "source": [
    "<div style=\"page-break-after:always;\"></div>"
   ]
  },
  {
   "cell_type": "markdown",
   "id": "402d58c2-8710-4a31-93f8-3923b16aa2b9",
   "metadata": {
    "slideshow": {
     "slide_type": "subslide"
    },
    "tags": []
   },
   "source": [
    "* Q10: _Draw a memory diagram that displays the program's variables and their values when the program reaches the comment `STOP HERE`._"
   ]
  },
  {
   "cell_type": "code",
   "execution_count": 16,
   "id": "bf32dbcd-aa56-4f22-8d69-cede54fb9065",
   "metadata": {
    "tags": [
     "worksheet-code-only"
    ]
   },
   "outputs": [
    {
     "name": "stdout",
     "output_type": "stream",
     "text": [
      "Domain (11 chars): colgate.edu\n",
      "Path (5 chars): lgbtq\n"
     ]
    }
   ],
   "source": [
    "#include <stdio.h>\n",
    "#include <string.h>\n",
    "char *split(char *str, char delim) {\n",
    "    for (int i = 0; i < strlen(str); i++) {\n",
    "        if (str[i] == delim) {\n",
    "            str[i] = '\\0';\n",
    "            return &str[i+1];\n",
    "        }\n",
    "    }\n",
    "    return NULL;\n",
    "}\n",
    "\n",
    "void parse(char *url) {\n",
    "    char separator = '/';\n",
    "    char *path = split(url, separator);\n",
    "    int domainlen = strlen(url);\n",
    "    int pathlen = strlen(path);\n",
    "    // STOP HERE\n",
    "    printf(\"Domain (%d chars): %s\\n\", domainlen, url);\n",
    "    printf(\"Path (%d chars): %s\\n\", pathlen, path);\n",
    "}\n",
    "\n",
    "int main() {\n",
    "    char input[] = \"colgate.edu/lgbtq\";\n",
    "    parse(input);\n",
    "}"
   ]
  },
  {
   "cell_type": "markdown",
   "id": "5519d61b-59ae-4164-aef7-e3f03d2ab9e6",
   "metadata": {
    "slideshow": {
     "slide_type": "skip"
    },
    "tags": [
     "notes-only"
    ]
   },
   "source": [
    "![](images/program_memory/parse_url.png)"
   ]
  }
 ],
 "metadata": {
  "kernelspec": {
   "display_name": "C",
   "language": "c",
   "name": "c"
  },
  "language_info": {
   "file_extension": ".c",
   "mimetype": "text/plain",
   "name": "c"
  }
 },
 "nbformat": 4,
 "nbformat_minor": 5
}
