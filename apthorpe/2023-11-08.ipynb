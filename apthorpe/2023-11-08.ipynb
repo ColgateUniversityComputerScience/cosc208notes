{
 "cells": [
  {
   "cell_type": "markdown",
   "id": "ffc437ac-d10b-4d12-895d-712e9c2057b5",
   "metadata": {
    "slideshow": {
     "slide_type": "skip"
    },
    "tags": []
   },
   "source": [
    "# Multiprocessing: Exec; inter-process communication\n",
    "_COSC 208, Introduction to Computer Systems, 2023-11-08_"
   ]
  },
  {
   "cell_type": "markdown",
   "id": "3a128151-3aa7-467d-9cab-5bda40b8473c",
   "metadata": {
    "slideshow": {
     "slide_type": "slide"
    },
    "tags": []
   },
   "source": [
    "## Announcements\n",
    "* Project 3 due tomorrow @ 11pm\n",
    "\n",
    "    _You **may not share or copy code/answers from other students.** Violations of this policy will be considered facilitating academic misconduct and/or cheating according to Colgate’s academic honor code._\n",
    "    \n",
    "    _Additionally, you **must clearly indicate if any code is copied from or inspired by external sources** (e.g., Stack Overflow, ChatGPT, GitHub Copilot) and adhere to the licensing requirements of such code. Violations of this policy will be considered cheating or plagiarism according to Colgate’s academic honor code. Note that question and answer forums (e.g., Stack Overflow) are often unreliable, and AI-based tools (e.g., ChatGPT) have significant limitations and legal complications._\n",
    "    \n",
    "    _**If you are struggling to complete an activity—due to a lack of understanding, time pressure, personal matters, etc.—please contact me. I want you to succeed, and I will do everything I can to help you.** Violating the academic honesty expectations for the course (almost) always leads to a bad experience for you and me. If you are unsure what constitutes academic misconduct, please contact me as soon as possible._"
   ]
  },
  {
   "cell_type": "markdown",
   "id": "377e6d68-2202-4782-afc7-a43582630f55",
   "metadata": {
    "slideshow": {
     "slide_type": "slide"
    },
    "tags": []
   },
   "source": [
    "## Outline\n",
    "* Warm-up\n",
    "* Running a different program\n",
    "* Interprocess communication"
   ]
  },
  {
   "cell_type": "markdown",
   "id": "12012bfd-a4f4-4e7f-9d4b-3275ef92160b",
   "metadata": {
    "slideshow": {
     "slide_type": "slide"
    },
    "tags": []
   },
   "source": [
    "## Warm-up"
   ]
  },
  {
   "cell_type": "markdown",
   "id": "a4d62a45-c62d-4510-a785-bf92968debc6",
   "metadata": {
    "tags": []
   },
   "source": [
    "* Q1: _What are all possible outputs of this program, assuming the process identifier (PID) of the parent process is 50 and the PID of the child process is 60?_"
   ]
  },
  {
   "cell_type": "code",
   "execution_count": null,
   "id": "4b568a2a-c8dd-4802-a8d8-ab3892b4d87a",
   "metadata": {
    "tags": [
     "worksheet-code-only"
    ]
   },
   "outputs": [],
   "source": [
    "#include <stdio.h>\n",
    "#include <unistd.h>    \n",
    "int main() {\n",
    "    int n = 20;\n",
    "    int x = fork();\n",
    "    if (x < 0) {\n",
    "        printf(\"Fork failed\\n\");\n",
    "        return 1;\n",
    "    } else if (x == 0) {\n",
    "        n += 5;\n",
    "    } else {\n",
    "        wait(NULL);\n",
    "        n += 10;\n",
    "    }\n",
    "    printf(\"x=%d n=%d\\n\", x, n);\n",
    "}"
   ]
  },
  {
   "cell_type": "markdown",
   "id": "b9bb43be-7a01-42f7-ae89-cd7b03bc7822",
   "metadata": {
    "slideshow": {
     "slide_type": "skip"
    },
    "tags": [
     "notes-only"
    ]
   },
   "source": [
    "    x=0 n=25\n",
    "    x=60 n=30"
   ]
  },
  {
   "cell_type": "markdown",
   "id": "c4103de4-b417-4b0f-bb37-bac74de9a772",
   "metadata": {
    "slideshow": {
     "slide_type": "skip"
    },
    "tags": [
     "worksheet-only"
    ]
   },
   "source": [
    "<div style=\"height:10em;\"></div>\n",
    "\n",
    "🛑 **STOP here** after completing the above question; if you have extra time **take a few deep breaths** to reduce stress.\n",
    "\n",
    "<div style=\"page-break-after:always;\"></div>"
   ]
  },
  {
   "cell_type": "markdown",
   "id": "e875f316-7b38-4d9e-96c1-825b800f873b",
   "metadata": {
    "slideshow": {
     "slide_type": "slide"
    },
    "tags": []
   },
   "source": [
    "## Running a different program"
   ]
  },
  {
   "cell_type": "markdown",
   "id": "d0e78826-65d1-4833-b13e-b3d9bf8a34b5",
   "metadata": {
    "tags": [
     "notes-only"
    ]
   },
   "source": [
    "* `int execv(const char *path, const char *argv[])`\n",
    "    * Used to switch which program is running in a process — replaces current code with code for a new program and starts executing that program from main\n",
    "    * `path` == full path to program\n",
    "    * `argv` == array of strings containing the full path to the program, any command line arguments, and `NULL`"
   ]
  },
  {
   "cell_type": "markdown",
   "id": "c4f48afa-d724-40d8-8d9a-4cb18bb20749",
   "metadata": {
    "slideshow": {
     "slide_type": "subslide"
    },
    "tags": []
   },
   "source": [
    "* Example program"
   ]
  },
  {
   "cell_type": "code",
   "execution_count": 5,
   "id": "d230b252-4fe9-42e5-b601-9ef2ab7cbf64",
   "metadata": {
    "tags": [
     "worksheet-code-only"
    ]
   },
   "outputs": [
    {
     "name": "stdout",
     "output_type": "stream",
     "text": [
      "Begin\n",
      "Parent\n",
      "End\n",
      "Child\n",
      "Sun Nov  5 20:18:17 EST 2023\n"
     ]
    }
   ],
   "source": [
    "#include <stdio.h>\n",
    "#include <unistd.h>\n",
    "int main(int argc, char **argv) {\n",
    "    printf(\"Begin\\n\");\n",
    "    int pid = fork();\n",
    "    if (pid == 0) {\n",
    "        printf(\"Child\\n\");\n",
    "        char *cmd[] = { \"/bin/date\", NULL };\n",
    "        execv(cmd[0], cmd);\n",
    "    } else {\n",
    "        printf(\"Parent\\n\");\n",
    "    }\n",
    "    printf(\"End\\n\");\n",
    "    return 0;\n",
    "}"
   ]
  },
  {
   "cell_type": "markdown",
   "id": "937d247e-dda8-4000-bbdf-67bf3e69f2c7",
   "metadata": {
    "slideshow": {
     "slide_type": "subslide"
    },
    "tags": []
   },
   "source": [
    "* Q2: _What is the output produced by running `./progA`, assuming no errors occur?_"
   ]
  },
  {
   "cell_type": "code",
   "execution_count": null,
   "id": "f55a39c0-0a55-4c1b-a5df-300331062f4e",
   "metadata": {},
   "outputs": [],
   "source": [
    "/** progA **/\n",
    "#include <stdio.h>\n",
    "#include <unistd.h>\n",
    "int main() {\n",
    "    pid_t a = fork();\n",
    "    if (a == 0) {\n",
    "        char *cmd[] = { \"./progB\", NULL };\n",
    "        execv(cmd[0], cmd);\n",
    "        printf(\"A 2nd gen\\n\");\n",
    "        return 0;\n",
    "    } else {\n",
    "        wait(NULL);\n",
    "        printf(\"A 1st gen\\n\");\n",
    "        return 0;\n",
    "    }\n",
    "}"
   ]
  },
  {
   "cell_type": "code",
   "execution_count": null,
   "id": "d66bf910-2bed-48c8-b772-7f20c3cc8e06",
   "metadata": {
    "slideshow": {
     "slide_type": "subslide"
    },
    "tags": []
   },
   "outputs": [],
   "source": [
    "/** progB **/\n",
    "#include <stdio.h>\n",
    "#include <unistd.h>\n",
    "int main() {\n",
    "    pid_t b = fork();\n",
    "    if (b == 0) {\n",
    "        printf(\"B 2nd gen\\n\");\n",
    "        return 0;\n",
    "    } else {\n",
    "        wait(NULL);\n",
    "        printf(\"B 1st gen\\n\");\n",
    "        return 0;\n",
    "    }\n",
    "}"
   ]
  },
  {
   "cell_type": "markdown",
   "id": "12d43b8f-2202-4613-9a28-fc453159276f",
   "metadata": {
    "slideshow": {
     "slide_type": "skip"
    },
    "tags": [
     "notes-only"
    ]
   },
   "source": [
    "    B 2nd gen\n",
    "    B 1st gen\n",
    "    A 1st gen"
   ]
  },
  {
   "cell_type": "markdown",
   "id": "9862d7e8-fa5e-440e-a4b8-52883f0375da",
   "metadata": {
    "slideshow": {
     "slide_type": "skip"
    },
    "tags": [
     "worksheet-only"
    ]
   },
   "source": [
    "<div style=\"height:2em;\"></div>\n",
    "\n",
    "🛑 **STOP here** after completing the above question; if you have extra time **take a few deep breaths** to reduce stress.\n",
    "\n",
    "<div style=\"page-break-after:always;\"></div>"
   ]
  },
  {
   "cell_type": "markdown",
   "id": "ccc96d47-161f-493f-b161-6fd7404fcced",
   "metadata": {
    "slideshow": {
     "slide_type": "slide"
    },
    "tags": []
   },
   "source": [
    "## Interprocess communication"
   ]
  },
  {
   "cell_type": "markdown",
   "id": "8f9b19e4-b167-4e52-bbb7-ef4b617c2a04",
   "metadata": {
    "tags": [
     "notes-only"
    ]
   },
   "source": [
    "* Signals\n",
    "    * Send using the `kill` system call\n",
    "    * Register a signal handler using the `signal` system call – must register before calling fork"
   ]
  },
  {
   "cell_type": "markdown",
   "id": "c9f08eed-be25-4d44-b725-68bf3083bccb",
   "metadata": {
    "slideshow": {
     "slide_type": "subslide"
    },
    "tags": []
   },
   "source": [
    "* Example with signals"
   ]
  },
  {
   "cell_type": "code",
   "execution_count": 28,
   "id": "d6181730-7edf-41ed-b504-e9c426a01f4f",
   "metadata": {
    "tags": [
     "worksheet-code-only"
    ]
   },
   "outputs": [
    {
     "name": "stdout",
     "output_type": "stream",
     "text": [
      "Parent 3946\n",
      "Child 3947\n",
      "3947 received 30\n"
     ]
    }
   ],
   "source": [
    "#include <signal.h>\n",
    "#include <stdio.h>\n",
    "#include <unistd.h>\n",
    "\n",
    "void signal_handler(int sig) {\n",
    "    printf(\"%d received %d\\n\", getpid(), sig);\n",
    "}\n",
    "\n",
    "int main() {\n",
    "    int result = fork();\n",
    "    if (result < 0) {\n",
    "        return 1;\n",
    "    } else if (result == 0) {\n",
    "        printf(\"Child %d\\n\", getpid());\n",
    "        if (signal(SIGUSR1, signal_handler) == SIG_ERR) {\n",
    "            return 1;\n",
    "        }\n",
    "        for (int i = 0; i < 1000*100000; i++); // Do work\n",
    "    } else {\n",
    "        printf(\"Parent %d\\n\", getpid());\n",
    "        for (int i = 0; i < 1000*1000; i++); // Do work\n",
    "        if (kill(result, SIGUSR1) < 0) {\n",
    "            return 1;\n",
    "        }\n",
    "        wait(NULL);\n",
    "    }\n",
    "    return 0;\n",
    "}"
   ]
  },
  {
   "cell_type": "markdown",
   "id": "23091e5b-cb59-4cb0-8243-4247fd06a86e",
   "metadata": {
    "slideshow": {
     "slide_type": "subslide"
    },
    "tags": [
     "notes-only"
    ]
   },
   "source": [
    "* Message passing\n",
    "    * pipe – one-way communcation channel for two processes on the same machine\n",
    "    * socket - dual-way communication channel for two processes on the same or different machines"
   ]
  },
  {
   "cell_type": "markdown",
   "id": "e45eba60-cd51-426a-8cd5-e28080e88cad",
   "metadata": {
    "slideshow": {
     "slide_type": "skip"
    },
    "tags": [
     "worksheet-only"
    ]
   },
   "source": [
    "<div style=\"page-break-after:always;\"></div>"
   ]
  },
  {
   "cell_type": "markdown",
   "id": "33d1b5ba-1f14-496d-acc4-cdaf5ac5d0c0",
   "metadata": {
    "slideshow": {
     "slide_type": "subslide"
    },
    "tags": []
   },
   "source": [
    "* Example with pipes"
   ]
  },
  {
   "cell_type": "code",
   "execution_count": 1,
   "id": "64c6e869-faa2-4f4e-9cca-47d2835f84f3",
   "metadata": {
    "tags": [
     "worksheet-code-only"
    ]
   },
   "outputs": [
    {
     "name": "stdout",
     "output_type": "stream",
     "text": [
      "Child\n",
      "Hello from your parent!\n",
      "Parent\n"
     ]
    }
   ],
   "source": [
    "#include <signal.h>\n",
    "#include <stdio.h>\n",
    "#include <unistd.h>\n",
    "\n",
    "int main() {\n",
    "    int pipe_descriptors[2];\n",
    "    if (pipe(pipe_descriptors) < 0) {\n",
    "        return 1;\n",
    "    }\n",
    "\n",
    "    int result = fork();\n",
    "    if (result < 0) {\n",
    "        return 1;\n",
    "    } else if (result == 0) {\n",
    "        printf(\"Child\\n\");\n",
    "        char msg[1024];\n",
    "        read(pipe_descriptors[0], msg, 1024);\n",
    "        printf(\"%s\\n\", msg);\n",
    "    } else {\n",
    "        char msg[1024] = \"Hello from your parent!\";\n",
    "        write(pipe_descriptors[1], msg, 1024);\n",
    "        wait(NULL);\n",
    "        printf(\"Parent\\n\");\n",
    "    }\n",
    "    return 0;\n",
    "}"
   ]
  },
  {
   "cell_type": "markdown",
   "id": "b82f806c-aab9-410e-b0f2-4950dde731bb",
   "metadata": {
    "slideshow": {
     "slide_type": "skip"
    },
    "tags": [
     "worksheet-only"
    ]
   },
   "source": [
    "<div style=\"page-break-after:always;\"></div>"
   ]
  },
  {
   "cell_type": "markdown",
   "id": "ba847c4b-774c-4b6e-aeb3-307c4ff36496",
   "metadata": {
    "slideshow": {
     "slide_type": "subslide"
    },
    "tags": []
   },
   "source": [
    "* Q3: _What does the following program output assuming the process identifier (PID) of the parent process is 3995 and the PID of the child process is 3996? (Note: `getpid` gets the PID of the calling process, and `getppid` gets the PID of the calling process's parent process.)_"
   ]
  },
  {
   "cell_type": "code",
   "execution_count": 3,
   "id": "f428e684-fef2-430f-92cc-964586807e14",
   "metadata": {
    "tags": [
     "worksheet-code-only"
    ]
   },
   "outputs": [
    {
     "name": "stdout",
     "output_type": "stream",
     "text": [
      "ElseIf 3995\n",
      "Else 3996\n",
      "SIGUSR1 3996\n",
      "SIGUSR2 3995\n"
     ]
    }
   ],
   "source": [
    "#include <signal.h>\n",
    "#include <stdio.h>\n",
    "#include <unistd.h>\n",
    "\n",
    "void signal_handler(int sig) {\n",
    "    if (sig == SIGUSR1) {\n",
    "        printf(\"SIGUSR1 %d\\n\", getpid());\n",
    "    } else if (sig == SIGUSR2) {\n",
    "        printf(\"SIGUSR2 %d\\n\", getpid());\n",
    "    }\n",
    "}\n",
    "\n",
    "int main() {\n",
    "    if (signal(SIGUSR1, signal_handler) == SIG_ERR) {\n",
    "        return 1;\n",
    "    }\n",
    "    if (signal(SIGUSR2, signal_handler) == SIG_ERR) {\n",
    "        return 1;\n",
    "    }\n",
    "    \n",
    "    int x = fork();\n",
    "    if (x < 0) {\n",
    "        return 1;\n",
    "    } else if (x > 0) {\n",
    "        printf(\"ElseIf %d\\n\", getpid());\n",
    "        for (int i = 0; i < 1000*1000; i++); // Do work\n",
    "        if (kill(x, SIGUSR1) < 0) {\n",
    "            return 1;\n",
    "        }\n",
    "        wait(NULL);\n",
    "    } else {\n",
    "        printf(\"Else %d\\n\", getpid());\n",
    "        for (int i = 0; i < 1000*1000; i++); // Do work\n",
    "        if (kill(getppid(), SIGUSR2) < 0) {\n",
    "            return 1;\n",
    "        }\n",
    "        for (int i = 0; i < 1000*1000; i++); // Do work\n",
    "    } \n",
    "    return 0;\n",
    "}"
   ]
  }
 ],
 "metadata": {
  "kernelspec": {
   "display_name": "C",
   "language": "c",
   "name": "c"
  },
  "language_info": {
   "file_extension": ".c",
   "mimetype": "text/plain",
   "name": "c"
  }
 },
 "nbformat": 4,
 "nbformat_minor": 5
}
