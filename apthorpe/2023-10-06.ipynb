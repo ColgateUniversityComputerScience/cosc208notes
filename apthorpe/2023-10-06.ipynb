{
 "cells": [
  {
   "cell_type": "markdown",
   "id": "275f3326-b6de-4d7d-b41a-f17ec6a57354",
   "metadata": {
    "slideshow": {
     "slide_type": "skip"
    },
    "tags": []
   },
   "source": [
    "# Architecture: von Neumann; logic gates; 1-bit circuits\n",
    "_COSC 208, Introduction to Computer Systems, 2023-10-06_"
   ]
  },
  {
   "cell_type": "markdown",
   "id": "9db293af-f9ec-4262-b568-ef1906a523b4",
   "metadata": {
    "slideshow": {
     "slide_type": "slide"
    },
    "tags": []
   },
   "source": [
    "## Announcements\n",
    "* Project 2 due Thurs, Oct 19 @ 11pm"
   ]
  },
  {
   "cell_type": "markdown",
   "id": "bede1ded-97f6-4a28-9335-116fd9ea868f",
   "metadata": {
    "slideshow": {
     "slide_type": "slide"
    },
    "tags": []
   },
   "source": [
    "## Outline\n",
    "* von Neumann Architecture\n",
    "* Hardware building blocks\n",
    "* Logic gates\n",
    "* 1-bit circuits"
   ]
  },
  {
   "cell_type": "markdown",
   "id": "13882050-f8c5-4df3-ab35-c220931c2c1f",
   "metadata": {
    "slideshow": {
     "slide_type": "slide"
    },
    "tags": []
   },
   "source": [
    "## von Neumann Architecture\n",
    "\n",
    "<img src=\"https://diveintosystems.org/book/C5-Arch/_images/vonNArch.png\" width=\"400px\" />"
   ]
  },
  {
   "cell_type": "markdown",
   "id": "38d2f8d2-d2f4-4351-a860-1695a463e0f8",
   "metadata": {
    "tags": [
     "worksheet-only"
    ]
   },
   "source": [
    "* _Where are instructions stored prior to execution?_ \n",
    "* _Where are instructions stored during execution?_\n",
    "* _Where is data stored when it is not in use?_ \n",
    "* _Where is data stored when it is being operated on?_ \n",
    "* Fetch-Decode-Execute cycle\n",
    "    * _What happens in the fetch stage?_ \n",
    "    * _What happens in the decode stage?_ \n",
    "    * _What happens in the execute stage?_ \n",
    "    * Store stage does not occur in an ARM processor"
   ]
  },
  {
   "cell_type": "markdown",
   "id": "0ec6af0a-e5d9-4110-9eb0-c78752cdab59",
   "metadata": {
    "slideshow": {
     "slide_type": "skip"
    },
    "tags": [
     "notes-only"
    ]
   },
   "source": [
    "* _Where are instructions stored prior to execution?_ — memory unit\n",
    "    * Instructions are loaded from input unit into memory unit when a program starts\n",
    "* _Where are instructions stored during execution?_ — instruction register\n",
    "* _Where is data stored when it is not in use?_ — memory unit\n",
    "* _Where is data stored when it is being operated on?_ — (general purpose) registers\n",
    "* Notice: instructions and data are both stored in the memory unit, but there are different registers for instructions and data in the CPU\n",
    "* Fetch-Decode-Execute cycle\n",
    "    * _What happens in the fetch stage?_ — The control unit loads the next instruction from memory, based on the program counter, into the instruction register\n",
    "    * _What happens in the decode stage?_ — break instruction into operation and operands\n",
    "    * _What happens in the execute stage?_ — The ALU performs the operation on the operands\n",
    "    * Store stage does not occur in an ARM processor"
   ]
  },
  {
   "cell_type": "markdown",
   "id": "f398d604-1c6a-4e89-bc66-b064eeaef676",
   "metadata": {
    "slideshow": {
     "slide_type": "slide"
    },
    "tags": []
   },
   "source": [
    "## Hardware building blocks"
   ]
  },
  {
   "cell_type": "markdown",
   "id": "28c9b2b5-6b9b-4617-b519-05062ce17191",
   "metadata": {
    "tags": [
     "notes-only"
    ]
   },
   "source": [
    "* Transistors — switches that control electrical flow; output state depends on current state plus input state\n",
    "* Logic gates — created from transistors; implement boolean operations (AND, OR, NOT, etc.)\n",
    "* Circuit — created from logic gates\n",
    "* Processing and control units — created from circuits"
   ]
  },
  {
   "cell_type": "markdown",
   "id": "b8b80e79-d5fe-46d2-acbf-61606019a57f",
   "metadata": {
    "slideshow": {
     "slide_type": "slide"
    },
    "tags": []
   },
   "source": [
    "## Transistors"
   ]
  },
  {
   "cell_type": "markdown",
   "id": "e04cd4c4-0aef-409d-9f9b-0a5bcdeb3942",
   "metadata": {
    "slideshow": {
     "slide_type": "slide"
    },
    "tags": []
   },
   "source": [
    "## Logic gates"
   ]
  },
  {
   "cell_type": "markdown",
   "id": "27e0d6f0-b0a6-45e9-a9f1-c7fde5919fab",
   "metadata": {
    "tags": []
   },
   "source": [
    "* Q1: _Fill-in the truth tables for all six types of logic gates_"
   ]
  },
  {
   "cell_type": "markdown",
   "id": "1ab9866f-9e61-46b0-b2eb-43c3d5c5ac89",
   "metadata": {
    "tags": [
     "worksheet-only"
    ]
   },
   "source": [
    "| A | B | A AND B | A OR B | NOT A | A NAND B | A NOR B | A XOR B |\n",
    "| - | - | ------- | ------ | ----- | -------- | ------- | ------- |\n",
    "| 0 | 0 |         |        |       |          |         |         | \n",
    "| 0 | 1 |         |        |       |          |         |         | \n",
    "| 1 | 0 |         |        |       |          |         |         | \n",
    "| 1 | 1 |         |        |       |          |         |         | "
   ]
  },
  {
   "cell_type": "markdown",
   "id": "96b33e37-9191-4df7-85a7-19a5cd14f653",
   "metadata": {
    "slideshow": {
     "slide_type": "skip"
    },
    "tags": [
     "notes-only"
    ]
   },
   "source": [
    "| A | B | A AND B | A OR B | NOT A | A NAND B | A NOR B | A XOR B |\n",
    "| - | - | ------- | ------ | ----- | -------- | ------- | ------- |\n",
    "| 0 | 0 |    0    |   0    |   1   |     1    |    1    |    0    | \n",
    "| 0 | 1 |    0    |   1    |   1   |     1    |    0    |    1    | \n",
    "| 1 | 0 |    0    |   1    |   0   |     1    |    0    |    1    | \n",
    "| 1 | 1 |    1    |   1    |   0   |     0    |    0    |    0    | "
   ]
  },
  {
   "cell_type": "markdown",
   "id": "332a774c-fc30-4164-9c4d-6a0833b4dc5d",
   "metadata": {
    "slideshow": {
     "slide_type": "subslide"
    },
    "tags": []
   },
   "source": [
    "* Q2: _How do you use AND and NOT gates to create a NAND gate?_"
   ]
  },
  {
   "cell_type": "markdown",
   "id": "a36d56dc-e3a8-47ba-bd4f-63379cdcea89",
   "metadata": {
    "slideshow": {
     "slide_type": "skip"
    },
    "tags": [
     "notes-only"
    ]
   },
   "source": [
    "![](images/circuits/gate_nand.png)"
   ]
  },
  {
   "cell_type": "markdown",
   "id": "6972c78a-143e-44f3-945d-eed3e424d9ea",
   "metadata": {
    "slideshow": {
     "slide_type": "skip"
    },
    "tags": [
     "worksheet-only"
    ]
   },
   "source": [
    "<p style=\"height:8em;\"></p>"
   ]
  },
  {
   "cell_type": "markdown",
   "id": "8f83a153-6722-4cf1-aeab-b763221c63b4",
   "metadata": {},
   "source": [
    "* Q3: _How do you use OR and NOT gates to create a NOR gate?_"
   ]
  },
  {
   "cell_type": "markdown",
   "id": "32988029-668e-4366-9363-af8debc7c0d3",
   "metadata": {
    "slideshow": {
     "slide_type": "skip"
    },
    "tags": [
     "notes-only"
    ]
   },
   "source": [
    "![](images/circuits/gate_nor.png)"
   ]
  },
  {
   "cell_type": "markdown",
   "id": "2a5968c5-a4bd-4772-a3d3-73c0c2c34a7d",
   "metadata": {
    "slideshow": {
     "slide_type": "skip"
    },
    "tags": [
     "worksheet-only"
    ]
   },
   "source": [
    "<p style=\"height:8em;\"></p>"
   ]
  },
  {
   "cell_type": "markdown",
   "id": "41939446-4ec1-42f1-964a-4bbd16b37cea",
   "metadata": {
    "slideshow": {
     "slide_type": "slide"
    },
    "tags": []
   },
   "source": [
    "## 1-bit circuits"
   ]
  },
  {
   "cell_type": "markdown",
   "id": "834497c7-08bc-43ca-9cf6-72b3189b5643",
   "metadata": {
    "tags": [
     "notes-only"
    ]
   },
   "source": [
    "* _Design a circuit for an arbitrary truth table:_ e.g., A != B\n",
    "\n",
    "| A | B | A != B |\n",
    "| - | - | ------ |\n",
    "| 0 | 0 |   0    |\n",
    "| 0 | 1 |   1    |\n",
    "| 1 | 0 |   1    |\n",
    "| 1 | 1 |   0    |\n",
    "\n",
    "* For each row where the output value is 1:\n",
    "    * Determine how to make each input 1 — e.g., either `A` or `NOT(A)`\n",
    "    * Conjunct the two subexpressions — e.g., `NOT(A) AND B`\n",
    "    * Create the disjunction of the expressions for each row — e.g., `(NOT(A) AND B) OR (A AND NOT(B))`\n",
    "* Create a circuit from left to right, starting with the inner-most subexpressions"
   ]
  },
  {
   "cell_type": "markdown",
   "id": "defad726-8e32-4d20-a146-09b6d85b53c4",
   "metadata": {
    "slideshow": {
     "slide_type": "skip"
    },
    "tags": [
     "notes-only"
    ]
   },
   "source": [
    "\n",
    "![](images/circuits/gate_xor5.png)"
   ]
  },
  {
   "cell_type": "markdown",
   "id": "3b88ad5e-d650-4a24-ac3c-99d2705cf89f",
   "metadata": {
    "slideshow": {
     "slide_type": "subslide"
    },
    "tags": []
   },
   "source": [
    "* Q4: _Create a circuit for `A XOR B` using `AND`, `OR`, and `NOT` gates_"
   ]
  },
  {
   "cell_type": "markdown",
   "id": "de539867-db07-40f3-8768-c99ee8a2abee",
   "metadata": {
    "slideshow": {
     "slide_type": "skip"
    },
    "tags": [
     "notes-only"
    ]
   },
   "source": [
    "`(A OR B) AND (NOT (A AND B))`\n",
    "\n",
    "\n",
    "![](images/circuits/gate_xor.png)"
   ]
  },
  {
   "cell_type": "markdown",
   "id": "7dff97d7-d6c0-4376-a145-4155e7d11de4",
   "metadata": {
    "slideshow": {
     "slide_type": "skip"
    },
    "tags": [
     "worksheet-only"
    ]
   },
   "source": [
    "<p style=\"height:15em;\"></p>"
   ]
  },
  {
   "cell_type": "markdown",
   "id": "485211cd-c25d-4f89-bb65-f0e9adc7dcde",
   "metadata": {
    "tags": []
   },
   "source": [
    "* Q5: _Create a circuit for `A > B` using `AND`, `OR`, `NOT` gates_"
   ]
  },
  {
   "cell_type": "markdown",
   "id": "c872c0a5-dc43-47b9-ba23-f27005438931",
   "metadata": {
    "slideshow": {
     "slide_type": "skip"
    },
    "tags": [
     "notes-only"
    ]
   },
   "source": [
    "`A AND NOT(B)`\n",
    "\n",
    "![](images/circuits/a_gt_b.png)"
   ]
  },
  {
   "cell_type": "markdown",
   "id": "3de90268-397b-454b-9087-03e65b1b0f0e",
   "metadata": {
    "slideshow": {
     "slide_type": "skip"
    },
    "tags": [
     "worksheet-only"
    ]
   },
   "source": [
    "<p style=\"height:15em;\"></p>"
   ]
  },
  {
   "cell_type": "markdown",
   "id": "127f441e-1a2a-4e8d-8719-3b8c03155442",
   "metadata": {},
   "source": [
    "* Q6: _Create a circuit for `A >= B` using `AND`, `OR`, `NOT` gates_"
   ]
  },
  {
   "cell_type": "markdown",
   "id": "a67b9dbb-68ef-4858-ae8e-3713e1e1b652",
   "metadata": {
    "slideshow": {
     "slide_type": "skip"
    },
    "tags": [
     "notes-only"
    ]
   },
   "source": [
    "`(NOT(A) AND NOT(B)) OR (A AND NOT(B)) OR (A AND B)`\n",
    "\n",
    "![](images/circuits/a_ge_b.png)\n",
    "\n",
    "* Alternatives\n",
    "    * `(NOT(A OR B)) OR (A AND NOT(B)) OR (A AND B)`\n",
    "    * `(NOT(A) AND NOT(B)) OR A`\n",
    "    * `(NOT(A OR B)) OR A`\n",
    "    * `NOT(NOT(A) AND B)`\n",
    "    * `A OR NOT(B)`"
   ]
  },
  {
   "cell_type": "markdown",
   "id": "e56547ec-3b14-4542-9131-b7eadc099944",
   "metadata": {
    "slideshow": {
     "slide_type": "skip"
    },
    "tags": [
     "worksheet-only"
    ]
   },
   "source": [
    "<p style=\"height:15em;\"></p>\n",
    "\n",
    "🛑 **STOP here** after completing the above questions; if you have extra time please **skip ahead** to the extra practice.\n",
    "\n",
    "<div style=\"page-break-after:always;\"></div>"
   ]
  },
  {
   "cell_type": "markdown",
   "id": "544ee4a2-d377-47cf-b265-8a4c8af4fd19",
   "metadata": {
    "slideshow": {
     "slide_type": "slide"
    },
    "tags": []
   },
   "source": [
    "## 1-bit addition circuit"
   ]
  },
  {
   "cell_type": "markdown",
   "id": "0dd7eaa6-9980-48dd-892c-6654967da460",
   "metadata": {
    "tags": []
   },
   "source": [
    "_Your goal is to create a 1-bit circuit to perform addition. The circuit will take 3 input bits (`A`, `B`, and `I` = carry-in) and produce 2 output bits (`S` = sum and `O` = carry_out)._\n",
    "\n",
    "* Q4: _Complete the truth table for this operation_"
   ]
  },
  {
   "cell_type": "markdown",
   "id": "b506e355-d8c6-4aa5-a42f-cf1beda51ec0",
   "metadata": {
    "tags": [
     "worksheet-only"
    ]
   },
   "source": [
    "| `A` | `B` | `I` | `S` | `O` |\n",
    "|-----|-----|------------|-------|-------------|\n",
    "|  0  |  0  |     0      |       |             |\n",
    "|  0  |  0  |     1      |       |             |\n",
    "|  0  |  1  |     0      |       |             |\n",
    "|  0  |  1  |     1      |       |             |\n",
    "|  1  |  0  |     0      |       |             |\n",
    "|  1  |  0  |     1      |       |             |\n",
    "|  1  |  1  |     0      |   0   |      1      |\n",
    "|  1  |  1  |     1      |   1   |      1      |\n"
   ]
  },
  {
   "cell_type": "markdown",
   "id": "a1c5ccb7-d224-47ac-98cf-b94935a163f3",
   "metadata": {
    "slideshow": {
     "slide_type": "skip"
    },
    "tags": [
     "notes-only"
    ]
   },
   "source": [
    "| `A` | `B` | `I` | `S` | `O` |\n",
    "|-----|-----|-----|-----|-----|\n",
    "|  0  |  0  |  0  |  0  |  0  |\n",
    "|  0  |  0  |  1  |  1  |  0  |\n",
    "|  0  |  1  |  0  |  1  |  0  |\n",
    "|  0  |  1  |  1  |  0  |  1  |\n",
    "|  1  |  0  |  0  |  1  |  0  |\n",
    "|  1  |  0  |  1  |  0  |  1  |\n",
    "|  1  |  1  |  0  |  0  |  1  |\n",
    "|  1  |  1  |  1  |  1  |  1  |"
   ]
  },
  {
   "cell_type": "markdown",
   "id": "9ba6fdae-bf9c-4c7f-8153-59c61b8c6e26",
   "metadata": {
    "slideshow": {
     "slide_type": "subslide"
    },
    "tags": []
   },
   "source": [
    "* Q7: _What is the boolean expression for `S`?_"
   ]
  },
  {
   "cell_type": "markdown",
   "id": "911f5413-527a-4339-a5c1-36b0412a95e7",
   "metadata": {
    "slideshow": {
     "slide_type": "skip"
    },
    "tags": [
     "notes-only"
    ]
   },
   "source": [
    "```\n",
    "(NOT(A) AND NOT(B) AND I)\n",
    "OR (NOT(A) AND B AND NOT(I))\n",
    "OR (A AND NOT(B) AND NOT(I))\n",
    "OR (A AND B AND I) \n",
    "```"
   ]
  },
  {
   "cell_type": "markdown",
   "id": "986a4538-dbb9-456c-8d8c-b0a4302fc9f4",
   "metadata": {
    "slideshow": {
     "slide_type": "skip"
    },
    "tags": [
     "worksheet-only"
    ]
   },
   "source": [
    "<p style=\"height:10em;\"></p>"
   ]
  },
  {
   "cell_type": "markdown",
   "id": "dce10fa9-447f-4cec-8961-28e5208666a5",
   "metadata": {
    "tags": []
   },
   "source": [
    "* Q8: _Draw the circuit for `S`_"
   ]
  },
  {
   "cell_type": "markdown",
   "id": "2c4969e8-5303-408d-8ba8-a0b1a017edfe",
   "metadata": {
    "slideshow": {
     "slide_type": "skip"
    },
    "tags": [
     "notes-only"
    ]
   },
   "source": [
    "![](images/circuits/sum.png)"
   ]
  },
  {
   "cell_type": "markdown",
   "id": "5d7040c4-54d3-4699-b924-a0afcc0171da",
   "metadata": {
    "slideshow": {
     "slide_type": "skip"
    },
    "tags": [
     "worksheet-only"
    ]
   },
   "source": [
    "<p style=\"height:13em;\"></p>"
   ]
  },
  {
   "cell_type": "markdown",
   "id": "0f1ccff7-292d-4108-b809-cc33f0b4ac0f",
   "metadata": {},
   "source": [
    "* Q9: _What is the boolean expression for `O`?_"
   ]
  },
  {
   "cell_type": "markdown",
   "id": "251eef6b-e7b2-40e3-af2b-d65556325ab1",
   "metadata": {
    "slideshow": {
     "slide_type": "skip"
    },
    "tags": [
     "notes-only"
    ]
   },
   "source": [
    "```\n",
    "(NOT(A) AND B AND I)\n",
    "OR (A AND NOT(B) AND I)\n",
    "OR (A AND B AND NOT(I))\n",
    "OR (A AND B AND I)\n",
    "```\n",
    "Simplified:\n",
    "```\n",
    "(B AND I) OR (A AND I) OR (A AND B)\n",
    "```"
   ]
  },
  {
   "cell_type": "markdown",
   "id": "7d7f73b2-e8bc-46e7-b94d-9240182d3f50",
   "metadata": {
    "slideshow": {
     "slide_type": "skip"
    },
    "tags": [
     "worksheet-only"
    ]
   },
   "source": [
    "<p style=\"height:10em;\"></p>"
   ]
  },
  {
   "cell_type": "markdown",
   "id": "30c3271b-cf02-4d7f-abcd-f10eaebaaa0e",
   "metadata": {},
   "source": [
    "* Q10: _Draw the circuit for `O`_"
   ]
  },
  {
   "cell_type": "markdown",
   "id": "b4af6a8e-d998-481f-b055-a2e861842dcf",
   "metadata": {
    "slideshow": {
     "slide_type": "skip"
    },
    "tags": [
     "notes-only"
    ]
   },
   "source": [
    "![](images/circuits/carry_out.png)"
   ]
  },
  {
   "cell_type": "markdown",
   "id": "98948985-9518-4d1d-930b-a457ed1fa5ae",
   "metadata": {
    "slideshow": {
     "slide_type": "skip"
    },
    "tags": [
     "worksheet-only"
    ]
   },
   "source": [
    "<div style=\"page-break-after:always;\"></div>"
   ]
  },
  {
   "cell_type": "markdown",
   "id": "117bb607-1a26-43bf-a5d0-d539889fc42e",
   "metadata": {
    "slideshow": {
     "slide_type": "slide"
    },
    "tags": []
   },
   "source": [
    "## Extra practice"
   ]
  },
  {
   "cell_type": "markdown",
   "id": "95f130d8-a9d8-4354-b55b-ed494be44faf",
   "metadata": {},
   "source": [
    "* Q11: _What does the following program output?_"
   ]
  },
  {
   "cell_type": "code",
   "execution_count": 10,
   "id": "2cb66f63-6967-4825-9fca-2828c6ea22e6",
   "metadata": {
    "tags": [
     "worksheet-code-only"
    ]
   },
   "outputs": [
    {
     "name": "stdout",
     "output_type": "stream",
     "text": [
      "one 3, 4\n",
      "two 4, 3\n",
      "one 5, 4\n",
      "two 8, 4\n",
      "three 8, 4\n"
     ]
    }
   ],
   "source": [
    "#include <stdio.h>\n",
    "#include <stdlib.h>\n",
    "struct coords {\n",
    "    int x;\n",
    "    int y;\n",
    "};\n",
    "struct coords *flip(struct coords *in) {\n",
    "    struct coords *out = malloc(sizeof(struct coords));\n",
    "    out->x = in->y;\n",
    "    out->y = in->x;\n",
    "    return out;\n",
    "}\n",
    "struct coords *modify(struct coords *point) {\n",
    "    point->x *= 2;\n",
    "    point->y *= 2;\n",
    "    return point;\n",
    "}\n",
    "int main() {\n",
    "    struct coords *one = malloc(sizeof(struct coords));\n",
    "    one->x = 3;\n",
    "    one->y = 4;\n",
    "    struct coords *two = flip(one);\n",
    "    printf(\"one %d, %d\\n\", one->x, one->y);\n",
    "    printf(\"two %d, %d\\n\", two->x, two->y);\n",
    "    struct coords *three = modify(two);\n",
    "    three->y = one->y;\n",
    "    one->x = 5;\n",
    "    printf(\"one %d, %d\\n\", one->x, one->y);\n",
    "    printf(\"two %d, %d\\n\", two->x, two->y);\n",
    "    printf(\"three %d, %d\\n\", three->x, three->y);\n",
    "}"
   ]
  },
  {
   "cell_type": "markdown",
   "id": "f4ac2538-92a5-4bd5-9c2c-cd5bae229dda",
   "metadata": {
    "slideshow": {
     "slide_type": "subslide"
    },
    "tags": []
   },
   "source": [
    "_Two structs have been defined representing a queue and an item on a queue. The `new_queue` function creates a new, empty queue._"
   ]
  },
  {
   "cell_type": "code",
   "execution_count": null,
   "id": "bf408ca4-ef1e-467a-99d9-e4342b92f0ff",
   "metadata": {},
   "outputs": [],
   "source": [
    "struct item {\n",
    "    int value;\n",
    "    struct item *next;\n",
    "};\n",
    "struct queue {\n",
    "    struct item *head;\n",
    "    struct item *tail;\n",
    "};\n",
    "struct queue *new_queue() {\n",
    "    struct queue *q = malloc(sizeof(struct queue));\n",
    "    q->head = NULL;\n",
    "    q->tail = NULL;\n",
    "    return q;\n",
    "}"
   ]
  },
  {
   "cell_type": "markdown",
   "id": "47a4f072-f995-4ee1-b8e2-06a85e8dcf33",
   "metadata": {
    "tags": []
   },
   "source": [
    "* Q12: _Write a function called `enqueue` that adds a new value at the end of the queue._"
   ]
  },
  {
   "cell_type": "markdown",
   "id": "bc273c80-d6a8-4fee-8cc7-634326396841",
   "metadata": {
    "slideshow": {
     "slide_type": "skip"
    },
    "tags": [
     "worksheet-only"
    ]
   },
   "source": [
    "<p style=\"height:15em;\"></p>"
   ]
  },
  {
   "cell_type": "markdown",
   "id": "f18afa49-da64-4165-b052-2accaa9c2372",
   "metadata": {
    "tags": []
   },
   "source": [
    "* Q13: _Write a function called `dequeue` that removes and returns the value at the head of the queue. The function should return -1 if the queue is empty._"
   ]
  },
  {
   "cell_type": "markdown",
   "id": "0514c354-4e40-4234-8db4-32bd4410dad1",
   "metadata": {
    "slideshow": {
     "slide_type": "skip"
    },
    "tags": [
     "worksheet-only"
    ]
   },
   "source": [
    "<p style=\"height:15em;\"></p>"
   ]
  },
  {
   "cell_type": "markdown",
   "id": "96785560-1922-42aa-bc1e-01877d5be048",
   "metadata": {},
   "source": [
    "* Q14: _Write a function called `free_queue` that empties and frees a queue._"
   ]
  },
  {
   "cell_type": "markdown",
   "id": "08f98f2d-d62a-4d84-afc9-8e54d309621f",
   "metadata": {
    "slideshow": {
     "slide_type": "skip"
    },
    "tags": [
     "worksheet-only"
    ]
   },
   "source": [
    "<p style=\"height:15em;\"></p>"
   ]
  },
  {
   "cell_type": "markdown",
   "id": "c197d434-c7b7-4c5e-9bf0-95697000966b",
   "metadata": {},
   "source": [
    "* Q15: _Write a function called `position` that takes a value and a queue and returns the position of the value within the queue (the head of the queue is position 0). Return -1 if the value is not present in the queue._"
   ]
  },
  {
   "cell_type": "markdown",
   "id": "ced77ee6-d9ab-411a-970e-2ce56bb85e72",
   "metadata": {
    "slideshow": {
     "slide_type": "skip"
    },
    "tags": [
     "worksheet-only"
    ]
   },
   "source": [
    "<p style=\"height:15em;\"></p>"
   ]
  },
  {
   "cell_type": "code",
   "execution_count": 2,
   "id": "f11b6c2a-9643-48d0-a67b-cc38de40bbe2",
   "metadata": {
    "slideshow": {
     "slide_type": "skip"
    },
    "tags": [
     "notes-only"
    ]
   },
   "outputs": [],
   "source": [
    "#include <stdlib.h>\n",
    "struct item {\n",
    "    int value;\n",
    "    struct item *next;\n",
    "};\n",
    "struct queue {\n",
    "    struct item *head;\n",
    "    struct item *tail;\n",
    "};\n",
    "\n",
    "struct queue *new_queue() {\n",
    "    struct queue *q = malloc(sizeof(struct queue));\n",
    "    q->head = NULL;\n",
    "    q->tail = NULL;\n",
    "    return q;\n",
    "}\n",
    "\n",
    "void enqueue(int value, struct queue *q) {\n",
    "    struct item *i = malloc(sizeof(struct item));\n",
    "    i->value = value;\n",
    "    i->next = NULL;\n",
    "    if (q->tail == NULL) {\n",
    "        q->head = i;\n",
    "        q->tail = i;\n",
    "    } else {\n",
    "        q->tail->next = i;\n",
    "        q->tail = i;\n",
    "    }\n",
    "}\n",
    "\n",
    "int dequeue(struct queue *q) {\n",
    "    if (NULL == q->head) {\n",
    "        return -1;\n",
    "    }\n",
    "    struct item *i = q->head;\n",
    "    int v = i->value;\n",
    "    q->head = i->next;\n",
    "    if (q->head == NULL) {\n",
    "        q->tail = NULL;\n",
    "    }\n",
    "    free(i);\n",
    "    return v;\n",
    "}\n",
    "\n",
    "void free_queue(struct queue *q) {\n",
    "    while (q->head != NULL) {\n",
    "        dequeue(q);\n",
    "    }\n",
    "    free(q);\n",
    "}\n",
    "\n",
    "int position(int value, struct queue *q) {\n",
    "    struct item *curr = q->head;\n",
    "    int index = 0;\n",
    "    while (curr != NULL) {\n",
    "        if (curr->value == value) {\n",
    "            return index;\n",
    "        }\n",
    "        curr = curr->next;\n",
    "        index++;\n",
    "    }\n",
    "    return -1;\n",
    "}\n",
    "\n",
    "// Testing\n",
    "#include <assert.h>\n",
    "int main() {\n",
    "    struct queue *q = new_queue();\n",
    "    enqueue(1, q);\n",
    "    enqueue(2, q);\n",
    "    assert(dequeue(q) == 1);\n",
    "    enqueue(3, q);\n",
    "    enqueue(4, q);\n",
    "    assert(dequeue(q) == 2);\n",
    "    assert(dequeue(q) == 3);\n",
    "}"
   ]
  },
  {
   "cell_type": "markdown",
   "id": "575e074d-3d55-48d1-ba80-3f7ed7541165",
   "metadata": {
    "slideshow": {
     "slide_type": "subslide"
    },
    "tags": []
   },
   "source": [
    "* Q16: _How do you use NAND gates to create a NOT gate?_"
   ]
  },
  {
   "cell_type": "markdown",
   "id": "8676de24-05a2-4bfc-8fb7-9e3f5e2b9df8",
   "metadata": {
    "slideshow": {
     "slide_type": "skip"
    },
    "tags": [
     "notes-only"
    ]
   },
   "source": [
    "![](images/circuits/gate_not_from_nand.png)"
   ]
  },
  {
   "cell_type": "markdown",
   "id": "0d71cee4-30c8-4f72-a017-3eb59ce81e57",
   "metadata": {
    "slideshow": {
     "slide_type": "skip"
    },
    "tags": [
     "worksheet-only"
    ]
   },
   "source": [
    "<p style=\"height:6em;\"></p>"
   ]
  },
  {
   "cell_type": "markdown",
   "id": "bb1f9b23-e98a-4250-954b-0ef9eb172ff9",
   "metadata": {},
   "source": [
    "* Q17: _How do you use NAND gates to create a AND gate?_"
   ]
  },
  {
   "cell_type": "markdown",
   "id": "92af8e46-af44-46e4-bfe9-49a8f67109d6",
   "metadata": {
    "slideshow": {
     "slide_type": "skip"
    },
    "tags": [
     "notes-only"
    ]
   },
   "source": [
    "![](images/circuits/gate_and_from_nand.png)"
   ]
  },
  {
   "cell_type": "markdown",
   "id": "1a19a1a9-a7c8-447e-b167-597c5dc14d66",
   "metadata": {
    "slideshow": {
     "slide_type": "skip"
    },
    "tags": [
     "worksheet-only"
    ]
   },
   "source": [
    "<p style=\"height:6em;\"></p>"
   ]
  }
 ],
 "metadata": {
  "kernelspec": {
   "display_name": "C",
   "language": "c",
   "name": "c"
  },
  "language_info": {
   "file_extension": ".c",
   "mimetype": "text/plain",
   "name": "c"
  }
 },
 "nbformat": 4,
 "nbformat_minor": 5
}
